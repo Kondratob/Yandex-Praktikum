{
 "cells": [
  {
   "cell_type": "markdown",
   "metadata": {},
   "source": [
    "# Определение стоимости автомобилей"
   ]
  },
  {
   "cell_type": "markdown",
   "metadata": {},
   "source": [
    "Сервис по продаже автомобилей с пробегом «Не бит, не крашен» разрабатывает приложение для привлечения новых клиентов. В нём можно быстро узнать рыночную стоимость своего автомобиля. В вашем распоряжении исторические данные: технические характеристики, комплектации и цены автомобилей. Вам нужно построить модель для определения стоимости. \n",
    "\n",
    "Заказчику важны:\n",
    "\n",
    "- качество предсказания;\n",
    "- скорость предсказания;\n",
    "- время обучения."
   ]
  },
  {
   "cell_type": "markdown",
   "metadata": {},
   "source": [
    "## Подготовка данных"
   ]
  },
  {
   "cell_type": "markdown",
   "metadata": {},
   "source": [
    "### Загрузка библиотек"
   ]
  },
  {
   "cell_type": "code",
   "execution_count": 108,
   "metadata": {},
   "outputs": [
    {
     "name": "stdout",
     "output_type": "stream",
     "text": [
      "Requirement already satisfied: fast_ml in /opt/conda/lib/python3.9/site-packages (3.68)\r\n"
     ]
    }
   ],
   "source": [
    "import numpy as np \n",
    "import pandas as pd  \n",
    "%matplotlib inline\n",
    "import matplotlib.pyplot as plt \n",
    "import seaborn as sns \n",
    "\n",
    "!pip install fast_ml\n",
    "from fast_ml.model_development import train_valid_test_split\n",
    "from sklearn.preprocessing import OrdinalEncoder\n",
    "\n",
    "from sklearn.model_selection import cross_val_score, GridSearchCV , train_test_split\n",
    "\n",
    "from sklearn.linear_model import LinearRegression\n",
    "from sklearn.tree import DecisionTreeRegressor \n",
    "from sklearn.ensemble import RandomForestRegressor \n",
    "import lightgbm as lgb \n",
    "import catboost as cb\n",
    "\n",
    "from sklearn.metrics import make_scorer, mean_squared_error \n",
    "\n",
    "import time\n",
    "\n",
    "RND = 12345"
   ]
  },
  {
   "cell_type": "markdown",
   "metadata": {},
   "source": [
    "### Загрузка и обработка данных"
   ]
  },
  {
   "cell_type": "code",
   "execution_count": 2,
   "metadata": {},
   "outputs": [],
   "source": [
    "data = pd.read_csv('autos.csv')"
   ]
  },
  {
   "cell_type": "code",
   "execution_count": 3,
   "metadata": {},
   "outputs": [
    {
     "data": {
      "text/html": [
       "<div>\n",
       "<style scoped>\n",
       "    .dataframe tbody tr th:only-of-type {\n",
       "        vertical-align: middle;\n",
       "    }\n",
       "\n",
       "    .dataframe tbody tr th {\n",
       "        vertical-align: top;\n",
       "    }\n",
       "\n",
       "    .dataframe thead th {\n",
       "        text-align: right;\n",
       "    }\n",
       "</style>\n",
       "<table border=\"1\" class=\"dataframe\">\n",
       "  <thead>\n",
       "    <tr style=\"text-align: right;\">\n",
       "      <th></th>\n",
       "      <th>DateCrawled</th>\n",
       "      <th>Price</th>\n",
       "      <th>VehicleType</th>\n",
       "      <th>RegistrationYear</th>\n",
       "      <th>Gearbox</th>\n",
       "      <th>Power</th>\n",
       "      <th>Model</th>\n",
       "      <th>Kilometer</th>\n",
       "      <th>RegistrationMonth</th>\n",
       "      <th>FuelType</th>\n",
       "      <th>Brand</th>\n",
       "      <th>Repaired</th>\n",
       "      <th>DateCreated</th>\n",
       "      <th>NumberOfPictures</th>\n",
       "      <th>PostalCode</th>\n",
       "      <th>LastSeen</th>\n",
       "    </tr>\n",
       "  </thead>\n",
       "  <tbody>\n",
       "    <tr>\n",
       "      <th>0</th>\n",
       "      <td>2016-03-24 11:52:17</td>\n",
       "      <td>480</td>\n",
       "      <td>NaN</td>\n",
       "      <td>1993</td>\n",
       "      <td>manual</td>\n",
       "      <td>0</td>\n",
       "      <td>golf</td>\n",
       "      <td>150000</td>\n",
       "      <td>0</td>\n",
       "      <td>petrol</td>\n",
       "      <td>volkswagen</td>\n",
       "      <td>NaN</td>\n",
       "      <td>2016-03-24 00:00:00</td>\n",
       "      <td>0</td>\n",
       "      <td>70435</td>\n",
       "      <td>2016-04-07 03:16:57</td>\n",
       "    </tr>\n",
       "    <tr>\n",
       "      <th>1</th>\n",
       "      <td>2016-03-24 10:58:45</td>\n",
       "      <td>18300</td>\n",
       "      <td>coupe</td>\n",
       "      <td>2011</td>\n",
       "      <td>manual</td>\n",
       "      <td>190</td>\n",
       "      <td>NaN</td>\n",
       "      <td>125000</td>\n",
       "      <td>5</td>\n",
       "      <td>gasoline</td>\n",
       "      <td>audi</td>\n",
       "      <td>yes</td>\n",
       "      <td>2016-03-24 00:00:00</td>\n",
       "      <td>0</td>\n",
       "      <td>66954</td>\n",
       "      <td>2016-04-07 01:46:50</td>\n",
       "    </tr>\n",
       "    <tr>\n",
       "      <th>2</th>\n",
       "      <td>2016-03-14 12:52:21</td>\n",
       "      <td>9800</td>\n",
       "      <td>suv</td>\n",
       "      <td>2004</td>\n",
       "      <td>auto</td>\n",
       "      <td>163</td>\n",
       "      <td>grand</td>\n",
       "      <td>125000</td>\n",
       "      <td>8</td>\n",
       "      <td>gasoline</td>\n",
       "      <td>jeep</td>\n",
       "      <td>NaN</td>\n",
       "      <td>2016-03-14 00:00:00</td>\n",
       "      <td>0</td>\n",
       "      <td>90480</td>\n",
       "      <td>2016-04-05 12:47:46</td>\n",
       "    </tr>\n",
       "  </tbody>\n",
       "</table>\n",
       "</div>"
      ],
      "text/plain": [
       "           DateCrawled  Price VehicleType  RegistrationYear Gearbox  Power  \\\n",
       "0  2016-03-24 11:52:17    480         NaN              1993  manual      0   \n",
       "1  2016-03-24 10:58:45  18300       coupe              2011  manual    190   \n",
       "2  2016-03-14 12:52:21   9800         suv              2004    auto    163   \n",
       "\n",
       "   Model  Kilometer  RegistrationMonth  FuelType       Brand Repaired  \\\n",
       "0   golf     150000                  0    petrol  volkswagen      NaN   \n",
       "1    NaN     125000                  5  gasoline        audi      yes   \n",
       "2  grand     125000                  8  gasoline        jeep      NaN   \n",
       "\n",
       "           DateCreated  NumberOfPictures  PostalCode             LastSeen  \n",
       "0  2016-03-24 00:00:00                 0       70435  2016-04-07 03:16:57  \n",
       "1  2016-03-24 00:00:00                 0       66954  2016-04-07 01:46:50  \n",
       "2  2016-03-14 00:00:00                 0       90480  2016-04-05 12:47:46  "
      ]
     },
     "execution_count": 3,
     "metadata": {},
     "output_type": "execute_result"
    }
   ],
   "source": [
    "data.head(3)"
   ]
  },
  {
   "cell_type": "code",
   "execution_count": 4,
   "metadata": {},
   "outputs": [
    {
     "name": "stdout",
     "output_type": "stream",
     "text": [
      "<class 'pandas.core.frame.DataFrame'>\n",
      "RangeIndex: 354369 entries, 0 to 354368\n",
      "Data columns (total 16 columns):\n",
      " #   Column             Non-Null Count   Dtype \n",
      "---  ------             --------------   ----- \n",
      " 0   DateCrawled        354369 non-null  object\n",
      " 1   Price              354369 non-null  int64 \n",
      " 2   VehicleType        316879 non-null  object\n",
      " 3   RegistrationYear   354369 non-null  int64 \n",
      " 4   Gearbox            334536 non-null  object\n",
      " 5   Power              354369 non-null  int64 \n",
      " 6   Model              334664 non-null  object\n",
      " 7   Kilometer          354369 non-null  int64 \n",
      " 8   RegistrationMonth  354369 non-null  int64 \n",
      " 9   FuelType           321474 non-null  object\n",
      " 10  Brand              354369 non-null  object\n",
      " 11  Repaired           283215 non-null  object\n",
      " 12  DateCreated        354369 non-null  object\n",
      " 13  NumberOfPictures   354369 non-null  int64 \n",
      " 14  PostalCode         354369 non-null  int64 \n",
      " 15  LastSeen           354369 non-null  object\n",
      "dtypes: int64(7), object(9)\n",
      "memory usage: 43.3+ MB\n"
     ]
    }
   ],
   "source": [
    "data.info()"
   ]
  },
  {
   "cell_type": "code",
   "execution_count": 5,
   "metadata": {},
   "outputs": [
    {
     "data": {
      "text/html": [
       "<div>\n",
       "<style scoped>\n",
       "    .dataframe tbody tr th:only-of-type {\n",
       "        vertical-align: middle;\n",
       "    }\n",
       "\n",
       "    .dataframe tbody tr th {\n",
       "        vertical-align: top;\n",
       "    }\n",
       "\n",
       "    .dataframe thead th {\n",
       "        text-align: right;\n",
       "    }\n",
       "</style>\n",
       "<table border=\"1\" class=\"dataframe\">\n",
       "  <thead>\n",
       "    <tr style=\"text-align: right;\">\n",
       "      <th></th>\n",
       "      <th>0</th>\n",
       "    </tr>\n",
       "  </thead>\n",
       "  <tbody>\n",
       "    <tr>\n",
       "      <th>Repaired</th>\n",
       "      <td>20.079070</td>\n",
       "    </tr>\n",
       "    <tr>\n",
       "      <th>VehicleType</th>\n",
       "      <td>10.579368</td>\n",
       "    </tr>\n",
       "    <tr>\n",
       "      <th>FuelType</th>\n",
       "      <td>9.282697</td>\n",
       "    </tr>\n",
       "    <tr>\n",
       "      <th>Gearbox</th>\n",
       "      <td>5.596709</td>\n",
       "    </tr>\n",
       "    <tr>\n",
       "      <th>Model</th>\n",
       "      <td>5.560588</td>\n",
       "    </tr>\n",
       "    <tr>\n",
       "      <th>DateCrawled</th>\n",
       "      <td>0.000000</td>\n",
       "    </tr>\n",
       "    <tr>\n",
       "      <th>Price</th>\n",
       "      <td>0.000000</td>\n",
       "    </tr>\n",
       "    <tr>\n",
       "      <th>RegistrationYear</th>\n",
       "      <td>0.000000</td>\n",
       "    </tr>\n",
       "    <tr>\n",
       "      <th>Power</th>\n",
       "      <td>0.000000</td>\n",
       "    </tr>\n",
       "    <tr>\n",
       "      <th>Kilometer</th>\n",
       "      <td>0.000000</td>\n",
       "    </tr>\n",
       "    <tr>\n",
       "      <th>RegistrationMonth</th>\n",
       "      <td>0.000000</td>\n",
       "    </tr>\n",
       "    <tr>\n",
       "      <th>Brand</th>\n",
       "      <td>0.000000</td>\n",
       "    </tr>\n",
       "    <tr>\n",
       "      <th>DateCreated</th>\n",
       "      <td>0.000000</td>\n",
       "    </tr>\n",
       "    <tr>\n",
       "      <th>NumberOfPictures</th>\n",
       "      <td>0.000000</td>\n",
       "    </tr>\n",
       "    <tr>\n",
       "      <th>PostalCode</th>\n",
       "      <td>0.000000</td>\n",
       "    </tr>\n",
       "    <tr>\n",
       "      <th>LastSeen</th>\n",
       "      <td>0.000000</td>\n",
       "    </tr>\n",
       "  </tbody>\n",
       "</table>\n",
       "</div>"
      ],
      "text/plain": [
       "                           0\n",
       "Repaired           20.079070\n",
       "VehicleType        10.579368\n",
       "FuelType            9.282697\n",
       "Gearbox             5.596709\n",
       "Model               5.560588\n",
       "DateCrawled         0.000000\n",
       "Price               0.000000\n",
       "RegistrationYear    0.000000\n",
       "Power               0.000000\n",
       "Kilometer           0.000000\n",
       "RegistrationMonth   0.000000\n",
       "Brand               0.000000\n",
       "DateCreated         0.000000\n",
       "NumberOfPictures    0.000000\n",
       "PostalCode          0.000000\n",
       "LastSeen            0.000000"
      ]
     },
     "metadata": {},
     "output_type": "display_data"
    }
   ],
   "source": [
    "# пропуски\n",
    "display(pd.DataFrame(data.isna().sum().sort_values(ascending=False)/len(data)*100))"
   ]
  },
  {
   "cell_type": "code",
   "execution_count": 6,
   "metadata": {
    "scrolled": true
   },
   "outputs": [
    {
     "data": {
      "text/html": [
       "<div>\n",
       "<style scoped>\n",
       "    .dataframe tbody tr th:only-of-type {\n",
       "        vertical-align: middle;\n",
       "    }\n",
       "\n",
       "    .dataframe tbody tr th {\n",
       "        vertical-align: top;\n",
       "    }\n",
       "\n",
       "    .dataframe thead th {\n",
       "        text-align: right;\n",
       "    }\n",
       "</style>\n",
       "<table border=\"1\" class=\"dataframe\">\n",
       "  <thead>\n",
       "    <tr style=\"text-align: right;\">\n",
       "      <th></th>\n",
       "      <th>Price</th>\n",
       "      <th>RegistrationYear</th>\n",
       "      <th>Power</th>\n",
       "      <th>Kilometer</th>\n",
       "      <th>RegistrationMonth</th>\n",
       "      <th>NumberOfPictures</th>\n",
       "      <th>PostalCode</th>\n",
       "    </tr>\n",
       "  </thead>\n",
       "  <tbody>\n",
       "    <tr>\n",
       "      <th>count</th>\n",
       "      <td>354369.000000</td>\n",
       "      <td>354369.000000</td>\n",
       "      <td>354369.000000</td>\n",
       "      <td>354369.000000</td>\n",
       "      <td>354369.000000</td>\n",
       "      <td>354369.0</td>\n",
       "      <td>354369.000000</td>\n",
       "    </tr>\n",
       "    <tr>\n",
       "      <th>mean</th>\n",
       "      <td>4416.656776</td>\n",
       "      <td>2004.234448</td>\n",
       "      <td>110.094337</td>\n",
       "      <td>128211.172535</td>\n",
       "      <td>5.714645</td>\n",
       "      <td>0.0</td>\n",
       "      <td>50508.689087</td>\n",
       "    </tr>\n",
       "    <tr>\n",
       "      <th>std</th>\n",
       "      <td>4514.158514</td>\n",
       "      <td>90.227958</td>\n",
       "      <td>189.850405</td>\n",
       "      <td>37905.341530</td>\n",
       "      <td>3.726421</td>\n",
       "      <td>0.0</td>\n",
       "      <td>25783.096248</td>\n",
       "    </tr>\n",
       "    <tr>\n",
       "      <th>min</th>\n",
       "      <td>0.000000</td>\n",
       "      <td>1000.000000</td>\n",
       "      <td>0.000000</td>\n",
       "      <td>5000.000000</td>\n",
       "      <td>0.000000</td>\n",
       "      <td>0.0</td>\n",
       "      <td>1067.000000</td>\n",
       "    </tr>\n",
       "    <tr>\n",
       "      <th>25%</th>\n",
       "      <td>1050.000000</td>\n",
       "      <td>1999.000000</td>\n",
       "      <td>69.000000</td>\n",
       "      <td>125000.000000</td>\n",
       "      <td>3.000000</td>\n",
       "      <td>0.0</td>\n",
       "      <td>30165.000000</td>\n",
       "    </tr>\n",
       "    <tr>\n",
       "      <th>50%</th>\n",
       "      <td>2700.000000</td>\n",
       "      <td>2003.000000</td>\n",
       "      <td>105.000000</td>\n",
       "      <td>150000.000000</td>\n",
       "      <td>6.000000</td>\n",
       "      <td>0.0</td>\n",
       "      <td>49413.000000</td>\n",
       "    </tr>\n",
       "    <tr>\n",
       "      <th>75%</th>\n",
       "      <td>6400.000000</td>\n",
       "      <td>2008.000000</td>\n",
       "      <td>143.000000</td>\n",
       "      <td>150000.000000</td>\n",
       "      <td>9.000000</td>\n",
       "      <td>0.0</td>\n",
       "      <td>71083.000000</td>\n",
       "    </tr>\n",
       "    <tr>\n",
       "      <th>max</th>\n",
       "      <td>20000.000000</td>\n",
       "      <td>9999.000000</td>\n",
       "      <td>20000.000000</td>\n",
       "      <td>150000.000000</td>\n",
       "      <td>12.000000</td>\n",
       "      <td>0.0</td>\n",
       "      <td>99998.000000</td>\n",
       "    </tr>\n",
       "  </tbody>\n",
       "</table>\n",
       "</div>"
      ],
      "text/plain": [
       "               Price  RegistrationYear          Power      Kilometer  \\\n",
       "count  354369.000000     354369.000000  354369.000000  354369.000000   \n",
       "mean     4416.656776       2004.234448     110.094337  128211.172535   \n",
       "std      4514.158514         90.227958     189.850405   37905.341530   \n",
       "min         0.000000       1000.000000       0.000000    5000.000000   \n",
       "25%      1050.000000       1999.000000      69.000000  125000.000000   \n",
       "50%      2700.000000       2003.000000     105.000000  150000.000000   \n",
       "75%      6400.000000       2008.000000     143.000000  150000.000000   \n",
       "max     20000.000000       9999.000000   20000.000000  150000.000000   \n",
       "\n",
       "       RegistrationMonth  NumberOfPictures     PostalCode  \n",
       "count      354369.000000          354369.0  354369.000000  \n",
       "mean            5.714645               0.0   50508.689087  \n",
       "std             3.726421               0.0   25783.096248  \n",
       "min             0.000000               0.0    1067.000000  \n",
       "25%             3.000000               0.0   30165.000000  \n",
       "50%             6.000000               0.0   49413.000000  \n",
       "75%             9.000000               0.0   71083.000000  \n",
       "max            12.000000               0.0   99998.000000  "
      ]
     },
     "execution_count": 6,
     "metadata": {},
     "output_type": "execute_result"
    }
   ],
   "source": [
    "data.describe()"
   ]
  },
  {
   "cell_type": "code",
   "execution_count": 7,
   "metadata": {},
   "outputs": [
    {
     "data": {
      "text/html": [
       "<div>\n",
       "<style scoped>\n",
       "    .dataframe tbody tr th:only-of-type {\n",
       "        vertical-align: middle;\n",
       "    }\n",
       "\n",
       "    .dataframe tbody tr th {\n",
       "        vertical-align: top;\n",
       "    }\n",
       "\n",
       "    .dataframe thead th {\n",
       "        text-align: right;\n",
       "    }\n",
       "</style>\n",
       "<table border=\"1\" class=\"dataframe\">\n",
       "  <thead>\n",
       "    <tr style=\"text-align: right;\">\n",
       "      <th></th>\n",
       "      <th>DateCrawled</th>\n",
       "      <th>Price</th>\n",
       "      <th>VehicleType</th>\n",
       "      <th>RegistrationYear</th>\n",
       "      <th>Gearbox</th>\n",
       "      <th>Power</th>\n",
       "      <th>Model</th>\n",
       "      <th>Kilometer</th>\n",
       "      <th>RegistrationMonth</th>\n",
       "      <th>FuelType</th>\n",
       "      <th>Brand</th>\n",
       "      <th>Repaired</th>\n",
       "      <th>DateCreated</th>\n",
       "      <th>NumberOfPictures</th>\n",
       "      <th>PostalCode</th>\n",
       "      <th>LastSeen</th>\n",
       "    </tr>\n",
       "  </thead>\n",
       "  <tbody>\n",
       "    <tr>\n",
       "      <th>0</th>\n",
       "      <td>2016-03-24 11:52:17</td>\n",
       "      <td>480</td>\n",
       "      <td>NaN</td>\n",
       "      <td>1993</td>\n",
       "      <td>manual</td>\n",
       "      <td>0</td>\n",
       "      <td>golf</td>\n",
       "      <td>150000</td>\n",
       "      <td>0</td>\n",
       "      <td>petrol</td>\n",
       "      <td>volkswagen</td>\n",
       "      <td>NaN</td>\n",
       "      <td>2016-03-24 00:00:00</td>\n",
       "      <td>0</td>\n",
       "      <td>70435</td>\n",
       "      <td>2016-04-07 03:16:57</td>\n",
       "    </tr>\n",
       "    <tr>\n",
       "      <th>1</th>\n",
       "      <td>2016-03-24 10:58:45</td>\n",
       "      <td>18300</td>\n",
       "      <td>coupe</td>\n",
       "      <td>2011</td>\n",
       "      <td>manual</td>\n",
       "      <td>190</td>\n",
       "      <td>NaN</td>\n",
       "      <td>125000</td>\n",
       "      <td>5</td>\n",
       "      <td>gasoline</td>\n",
       "      <td>audi</td>\n",
       "      <td>yes</td>\n",
       "      <td>2016-03-24 00:00:00</td>\n",
       "      <td>0</td>\n",
       "      <td>66954</td>\n",
       "      <td>2016-04-07 01:46:50</td>\n",
       "    </tr>\n",
       "    <tr>\n",
       "      <th>2</th>\n",
       "      <td>2016-03-14 12:52:21</td>\n",
       "      <td>9800</td>\n",
       "      <td>suv</td>\n",
       "      <td>2004</td>\n",
       "      <td>auto</td>\n",
       "      <td>163</td>\n",
       "      <td>grand</td>\n",
       "      <td>125000</td>\n",
       "      <td>8</td>\n",
       "      <td>gasoline</td>\n",
       "      <td>jeep</td>\n",
       "      <td>NaN</td>\n",
       "      <td>2016-03-14 00:00:00</td>\n",
       "      <td>0</td>\n",
       "      <td>90480</td>\n",
       "      <td>2016-04-05 12:47:46</td>\n",
       "    </tr>\n",
       "    <tr>\n",
       "      <th>3</th>\n",
       "      <td>2016-03-17 16:54:04</td>\n",
       "      <td>1500</td>\n",
       "      <td>small</td>\n",
       "      <td>2001</td>\n",
       "      <td>manual</td>\n",
       "      <td>75</td>\n",
       "      <td>golf</td>\n",
       "      <td>150000</td>\n",
       "      <td>6</td>\n",
       "      <td>petrol</td>\n",
       "      <td>volkswagen</td>\n",
       "      <td>no</td>\n",
       "      <td>2016-03-17 00:00:00</td>\n",
       "      <td>0</td>\n",
       "      <td>91074</td>\n",
       "      <td>2016-03-17 17:40:17</td>\n",
       "    </tr>\n",
       "  </tbody>\n",
       "</table>\n",
       "</div>"
      ],
      "text/plain": [
       "           DateCrawled  Price VehicleType  RegistrationYear Gearbox  Power  \\\n",
       "0  2016-03-24 11:52:17    480         NaN              1993  manual      0   \n",
       "1  2016-03-24 10:58:45  18300       coupe              2011  manual    190   \n",
       "2  2016-03-14 12:52:21   9800         suv              2004    auto    163   \n",
       "3  2016-03-17 16:54:04   1500       small              2001  manual     75   \n",
       "\n",
       "   Model  Kilometer  RegistrationMonth  FuelType       Brand Repaired  \\\n",
       "0   golf     150000                  0    petrol  volkswagen      NaN   \n",
       "1    NaN     125000                  5  gasoline        audi      yes   \n",
       "2  grand     125000                  8  gasoline        jeep      NaN   \n",
       "3   golf     150000                  6    petrol  volkswagen       no   \n",
       "\n",
       "           DateCreated  NumberOfPictures  PostalCode             LastSeen  \n",
       "0  2016-03-24 00:00:00                 0       70435  2016-04-07 03:16:57  \n",
       "1  2016-03-24 00:00:00                 0       66954  2016-04-07 01:46:50  \n",
       "2  2016-03-14 00:00:00                 0       90480  2016-04-05 12:47:46  \n",
       "3  2016-03-17 00:00:00                 0       91074  2016-03-17 17:40:17  "
      ]
     },
     "execution_count": 7,
     "metadata": {},
     "output_type": "execute_result"
    },
    {
     "data": {
      "image/png": "[encoded data removed]",
      "text/plain": [
       "<Figure size 432x288 with 1 Axes>"
      ]
     },
     "metadata": {
      "needs_background": "light"
     },
     "output_type": "display_data"
    }
   ],
   "source": [
    "# мощность \n",
    "sns.boxplot(y = 'Power', data=data)\n",
    "data.query(\"Power < 4000\").head(4)"
   ]
  },
  {
   "cell_type": "code",
   "execution_count": 8,
   "metadata": {},
   "outputs": [
    {
     "data": {
      "text/plain": [
       "<AxesSubplot:ylabel='RegistrationYear'>"
      ]
     },
     "execution_count": 8,
     "metadata": {},
     "output_type": "execute_result"
    },
    {
     "data": {
      "image/png": "[encoded data removed]",
      "text/plain": [
       "<Figure size 432x288 with 1 Axes>"
      ]
     },
     "metadata": {
      "needs_background": "light"
     },
     "output_type": "display_data"
    }
   ],
   "source": [
    "# Цена\n",
    "sns.boxplot(y = 'RegistrationYear', data=data)"
   ]
  },
  {
   "cell_type": "code",
   "execution_count": 9,
   "metadata": {},
   "outputs": [
    {
     "data": {
      "text/html": [
       "<div>\n",
       "<style scoped>\n",
       "    .dataframe tbody tr th:only-of-type {\n",
       "        vertical-align: middle;\n",
       "    }\n",
       "\n",
       "    .dataframe tbody tr th {\n",
       "        vertical-align: top;\n",
       "    }\n",
       "\n",
       "    .dataframe thead th {\n",
       "        text-align: right;\n",
       "    }\n",
       "</style>\n",
       "<table border=\"1\" class=\"dataframe\">\n",
       "  <thead>\n",
       "    <tr style=\"text-align: right;\">\n",
       "      <th></th>\n",
       "      <th>DateCrawled</th>\n",
       "      <th>Price</th>\n",
       "      <th>VehicleType</th>\n",
       "      <th>RegistrationYear</th>\n",
       "      <th>Gearbox</th>\n",
       "      <th>Power</th>\n",
       "      <th>Model</th>\n",
       "      <th>Kilometer</th>\n",
       "      <th>RegistrationMonth</th>\n",
       "      <th>FuelType</th>\n",
       "      <th>Brand</th>\n",
       "      <th>Repaired</th>\n",
       "      <th>DateCreated</th>\n",
       "      <th>NumberOfPictures</th>\n",
       "      <th>PostalCode</th>\n",
       "      <th>LastSeen</th>\n",
       "    </tr>\n",
       "  </thead>\n",
       "  <tbody>\n",
       "    <tr>\n",
       "      <th>7</th>\n",
       "      <td>2016-03-21 18:54:38</td>\n",
       "      <td>0</td>\n",
       "      <td>sedan</td>\n",
       "      <td>1980</td>\n",
       "      <td>manual</td>\n",
       "      <td>50</td>\n",
       "      <td>other</td>\n",
       "      <td>40000</td>\n",
       "      <td>7</td>\n",
       "      <td>petrol</td>\n",
       "      <td>volkswagen</td>\n",
       "      <td>no</td>\n",
       "      <td>2016-03-21 00:00:00</td>\n",
       "      <td>0</td>\n",
       "      <td>19348</td>\n",
       "      <td>2016-03-25 16:47:58</td>\n",
       "    </tr>\n",
       "    <tr>\n",
       "      <th>40</th>\n",
       "      <td>2016-03-26 22:06:17</td>\n",
       "      <td>0</td>\n",
       "      <td>NaN</td>\n",
       "      <td>1990</td>\n",
       "      <td>NaN</td>\n",
       "      <td>0</td>\n",
       "      <td>corsa</td>\n",
       "      <td>150000</td>\n",
       "      <td>1</td>\n",
       "      <td>petrol</td>\n",
       "      <td>opel</td>\n",
       "      <td>NaN</td>\n",
       "      <td>2016-03-26 00:00:00</td>\n",
       "      <td>0</td>\n",
       "      <td>56412</td>\n",
       "      <td>2016-03-27 17:43:34</td>\n",
       "    </tr>\n",
       "    <tr>\n",
       "      <th>59</th>\n",
       "      <td>2016-03-29 15:48:15</td>\n",
       "      <td>1</td>\n",
       "      <td>suv</td>\n",
       "      <td>1994</td>\n",
       "      <td>manual</td>\n",
       "      <td>286</td>\n",
       "      <td>NaN</td>\n",
       "      <td>150000</td>\n",
       "      <td>11</td>\n",
       "      <td>NaN</td>\n",
       "      <td>sonstige_autos</td>\n",
       "      <td>NaN</td>\n",
       "      <td>2016-03-29 00:00:00</td>\n",
       "      <td>0</td>\n",
       "      <td>53721</td>\n",
       "      <td>2016-04-06 01:44:38</td>\n",
       "    </tr>\n",
       "    <tr>\n",
       "      <th>89</th>\n",
       "      <td>2016-03-28 09:37:01</td>\n",
       "      <td>1</td>\n",
       "      <td>sedan</td>\n",
       "      <td>1995</td>\n",
       "      <td>manual</td>\n",
       "      <td>113</td>\n",
       "      <td>e_klasse</td>\n",
       "      <td>150000</td>\n",
       "      <td>4</td>\n",
       "      <td>gasoline</td>\n",
       "      <td>mercedes_benz</td>\n",
       "      <td>no</td>\n",
       "      <td>2016-03-28 00:00:00</td>\n",
       "      <td>0</td>\n",
       "      <td>40589</td>\n",
       "      <td>2016-04-06 12:15:54</td>\n",
       "    </tr>\n",
       "    <tr>\n",
       "      <th>111</th>\n",
       "      <td>2016-03-19 18:40:12</td>\n",
       "      <td>0</td>\n",
       "      <td>NaN</td>\n",
       "      <td>2017</td>\n",
       "      <td>manual</td>\n",
       "      <td>0</td>\n",
       "      <td>golf</td>\n",
       "      <td>5000</td>\n",
       "      <td>12</td>\n",
       "      <td>petrol</td>\n",
       "      <td>volkswagen</td>\n",
       "      <td>NaN</td>\n",
       "      <td>2016-03-19 00:00:00</td>\n",
       "      <td>0</td>\n",
       "      <td>21698</td>\n",
       "      <td>2016-04-01 08:47:05</td>\n",
       "    </tr>\n",
       "    <tr>\n",
       "      <th>...</th>\n",
       "      <td>...</td>\n",
       "      <td>...</td>\n",
       "      <td>...</td>\n",
       "      <td>...</td>\n",
       "      <td>...</td>\n",
       "      <td>...</td>\n",
       "      <td>...</td>\n",
       "      <td>...</td>\n",
       "      <td>...</td>\n",
       "      <td>...</td>\n",
       "      <td>...</td>\n",
       "      <td>...</td>\n",
       "      <td>...</td>\n",
       "      <td>...</td>\n",
       "      <td>...</td>\n",
       "      <td>...</td>\n",
       "    </tr>\n",
       "    <tr>\n",
       "      <th>354205</th>\n",
       "      <td>2016-03-09 15:56:30</td>\n",
       "      <td>0</td>\n",
       "      <td>NaN</td>\n",
       "      <td>2000</td>\n",
       "      <td>manual</td>\n",
       "      <td>65</td>\n",
       "      <td>corsa</td>\n",
       "      <td>150000</td>\n",
       "      <td>0</td>\n",
       "      <td>NaN</td>\n",
       "      <td>opel</td>\n",
       "      <td>yes</td>\n",
       "      <td>2016-03-09 00:00:00</td>\n",
       "      <td>0</td>\n",
       "      <td>23758</td>\n",
       "      <td>2016-03-30 11:16:08</td>\n",
       "    </tr>\n",
       "    <tr>\n",
       "      <th>354238</th>\n",
       "      <td>2016-03-20 14:55:07</td>\n",
       "      <td>0</td>\n",
       "      <td>small</td>\n",
       "      <td>2002</td>\n",
       "      <td>manual</td>\n",
       "      <td>60</td>\n",
       "      <td>fiesta</td>\n",
       "      <td>150000</td>\n",
       "      <td>3</td>\n",
       "      <td>petrol</td>\n",
       "      <td>ford</td>\n",
       "      <td>NaN</td>\n",
       "      <td>2016-03-20 00:00:00</td>\n",
       "      <td>0</td>\n",
       "      <td>33659</td>\n",
       "      <td>2016-04-06 18:45:23</td>\n",
       "    </tr>\n",
       "    <tr>\n",
       "      <th>354248</th>\n",
       "      <td>2016-03-24 13:48:05</td>\n",
       "      <td>0</td>\n",
       "      <td>small</td>\n",
       "      <td>1999</td>\n",
       "      <td>manual</td>\n",
       "      <td>53</td>\n",
       "      <td>swift</td>\n",
       "      <td>150000</td>\n",
       "      <td>3</td>\n",
       "      <td>petrol</td>\n",
       "      <td>suzuki</td>\n",
       "      <td>NaN</td>\n",
       "      <td>2016-03-24 00:00:00</td>\n",
       "      <td>0</td>\n",
       "      <td>42329</td>\n",
       "      <td>2016-04-07 05:17:24</td>\n",
       "    </tr>\n",
       "    <tr>\n",
       "      <th>354277</th>\n",
       "      <td>2016-03-10 22:55:50</td>\n",
       "      <td>0</td>\n",
       "      <td>small</td>\n",
       "      <td>1999</td>\n",
       "      <td>manual</td>\n",
       "      <td>37</td>\n",
       "      <td>arosa</td>\n",
       "      <td>150000</td>\n",
       "      <td>7</td>\n",
       "      <td>petrol</td>\n",
       "      <td>seat</td>\n",
       "      <td>yes</td>\n",
       "      <td>2016-03-10 00:00:00</td>\n",
       "      <td>0</td>\n",
       "      <td>22559</td>\n",
       "      <td>2016-03-12 23:46:32</td>\n",
       "    </tr>\n",
       "    <tr>\n",
       "      <th>354364</th>\n",
       "      <td>2016-03-21 09:50:58</td>\n",
       "      <td>0</td>\n",
       "      <td>NaN</td>\n",
       "      <td>2005</td>\n",
       "      <td>manual</td>\n",
       "      <td>0</td>\n",
       "      <td>colt</td>\n",
       "      <td>150000</td>\n",
       "      <td>7</td>\n",
       "      <td>petrol</td>\n",
       "      <td>mitsubishi</td>\n",
       "      <td>yes</td>\n",
       "      <td>2016-03-21 00:00:00</td>\n",
       "      <td>0</td>\n",
       "      <td>2694</td>\n",
       "      <td>2016-03-21 10:42:49</td>\n",
       "    </tr>\n",
       "  </tbody>\n",
       "</table>\n",
       "<p>11961 rows × 16 columns</p>\n",
       "</div>"
      ],
      "text/plain": [
       "                DateCrawled  Price VehicleType  RegistrationYear Gearbox  \\\n",
       "7       2016-03-21 18:54:38      0       sedan              1980  manual   \n",
       "40      2016-03-26 22:06:17      0         NaN              1990     NaN   \n",
       "59      2016-03-29 15:48:15      1         suv              1994  manual   \n",
       "89      2016-03-28 09:37:01      1       sedan              1995  manual   \n",
       "111     2016-03-19 18:40:12      0         NaN              2017  manual   \n",
       "...                     ...    ...         ...               ...     ...   \n",
       "354205  2016-03-09 15:56:30      0         NaN              2000  manual   \n",
       "354238  2016-03-20 14:55:07      0       small              2002  manual   \n",
       "354248  2016-03-24 13:48:05      0       small              1999  manual   \n",
       "354277  2016-03-10 22:55:50      0       small              1999  manual   \n",
       "354364  2016-03-21 09:50:58      0         NaN              2005  manual   \n",
       "\n",
       "        Power     Model  Kilometer  RegistrationMonth  FuelType  \\\n",
       "7          50     other      40000                  7    petrol   \n",
       "40          0     corsa     150000                  1    petrol   \n",
       "59        286       NaN     150000                 11       NaN   \n",
       "89        113  e_klasse     150000                  4  gasoline   \n",
       "111         0      golf       5000                 12    petrol   \n",
       "...       ...       ...        ...                ...       ...   \n",
       "354205     65     corsa     150000                  0       NaN   \n",
       "354238     60    fiesta     150000                  3    petrol   \n",
       "354248     53     swift     150000                  3    petrol   \n",
       "354277     37     arosa     150000                  7    petrol   \n",
       "354364      0      colt     150000                  7    petrol   \n",
       "\n",
       "                 Brand Repaired          DateCreated  NumberOfPictures  \\\n",
       "7           volkswagen       no  2016-03-21 00:00:00                 0   \n",
       "40                opel      NaN  2016-03-26 00:00:00                 0   \n",
       "59      sonstige_autos      NaN  2016-03-29 00:00:00                 0   \n",
       "89       mercedes_benz       no  2016-03-28 00:00:00                 0   \n",
       "111         volkswagen      NaN  2016-03-19 00:00:00                 0   \n",
       "...                ...      ...                  ...               ...   \n",
       "354205            opel      yes  2016-03-09 00:00:00                 0   \n",
       "354238            ford      NaN  2016-03-20 00:00:00                 0   \n",
       "354248          suzuki      NaN  2016-03-24 00:00:00                 0   \n",
       "354277            seat      yes  2016-03-10 00:00:00                 0   \n",
       "354364      mitsubishi      yes  2016-03-21 00:00:00                 0   \n",
       "\n",
       "        PostalCode             LastSeen  \n",
       "7            19348  2016-03-25 16:47:58  \n",
       "40           56412  2016-03-27 17:43:34  \n",
       "59           53721  2016-04-06 01:44:38  \n",
       "89           40589  2016-04-06 12:15:54  \n",
       "111          21698  2016-04-01 08:47:05  \n",
       "...            ...                  ...  \n",
       "354205       23758  2016-03-30 11:16:08  \n",
       "354238       33659  2016-04-06 18:45:23  \n",
       "354248       42329  2016-04-07 05:17:24  \n",
       "354277       22559  2016-03-12 23:46:32  \n",
       "354364        2694  2016-03-21 10:42:49  \n",
       "\n",
       "[11961 rows x 16 columns]"
      ]
     },
     "execution_count": 9,
     "metadata": {},
     "output_type": "execute_result"
    }
   ],
   "source": [
    "data.query(\"Price < 2\")"
   ]
  },
  {
   "cell_type": "markdown",
   "metadata": {},
   "source": [
    " - Repaired - нет отметок, видимо эти ТС никогда не ремонтировали, заменим на \"no\".\n",
    " - VehicleType заменим на \"other\".\n",
    " - FuelType, Gearbox, Model - меньше 10%, удалим пропуски.\n",
    " - Power - явная проблема с единицами измерения, автомобили с огромными лошадиными силами в датафрейме не являются коммерческим(грузовым)транспортом, автомобили категории 'B' не имеют такую форсировку двигателя, дефорсируем их.\n",
    " - RegistrationYear нереальные года регистрации автомобилей\n",
    " - Price - объявления с подозрительно низкой ценой"
   ]
  },
  {
   "cell_type": "code",
   "execution_count": 10,
   "metadata": {},
   "outputs": [],
   "source": [
    "# Заменим на \"no\"\n",
    "data['Repaired'] = data['Repaired'].fillna('no')"
   ]
  },
  {
   "cell_type": "code",
   "execution_count": 11,
   "metadata": {},
   "outputs": [],
   "source": [
    "# VehicleType заменим на \"other\"\n",
    "data['VehicleType'] = data['VehicleType'].fillna('other')"
   ]
  },
  {
   "cell_type": "code",
   "execution_count": 12,
   "metadata": {},
   "outputs": [],
   "source": [
    "# FuelType, Gearbox, Model - меньше 10%, удалим пропуски\n",
    "data.dropna(axis = 0, how='any', subset =['FuelType', 'Gearbox', 'Model'], inplace=True)"
   ]
  },
  {
   "cell_type": "code",
   "execution_count": 13,
   "metadata": {},
   "outputs": [],
   "source": [
    "### дефорсируем л.с.\n",
    "def Balance_Power(value):\n",
    "    if  1000 <= value <= 9999:\n",
    "        return value/10\n",
    "    elif value >10000:\n",
    "        return value/100\n",
    "    else:\n",
    "        return value"
   ]
  },
  {
   "cell_type": "code",
   "execution_count": 14,
   "metadata": {},
   "outputs": [],
   "source": [
    "data[\"Power\"] = data[\"Power\"].apply(Balance_Power)"
   ]
  },
  {
   "cell_type": "code",
   "execution_count": 15,
   "metadata": {},
   "outputs": [
    {
     "data": {
      "text/plain": [
       "count    299228.000000\n",
       "mean        113.101413\n",
       "std          60.692735\n",
       "min           0.000000\n",
       "25%          75.000000\n",
       "50%         108.000000\n",
       "75%         144.000000\n",
       "max         999.000000\n",
       "Name: Power, dtype: float64"
      ]
     },
     "execution_count": 15,
     "metadata": {},
     "output_type": "execute_result"
    },
    {
     "data": {
      "image/png": "[encoded data removed]",
      "text/plain": [
       "<Figure size 432x288 with 1 Axes>"
      ]
     },
     "metadata": {
      "needs_background": "light"
     },
     "output_type": "display_data"
    }
   ],
   "source": [
    "sns.boxplot(y = 'Power', data=data)\n",
    "data['Power'].describe()"
   ]
  },
  {
   "cell_type": "code",
   "execution_count": 16,
   "metadata": {},
   "outputs": [],
   "source": [
    "# вернем дату регистрации в пределах 1950/2023 г.\n",
    "def Registration_Year(value):\n",
    "    if value <= 1950:\n",
    "        return 1950\n",
    "    elif value > 2023:\n",
    "        return 2023\n",
    "    else:\n",
    "        return value"
   ]
  },
  {
   "cell_type": "code",
   "execution_count": 17,
   "metadata": {},
   "outputs": [],
   "source": [
    "data[\"RegistrationYear\"] = data[\"RegistrationYear\"].apply(Registration_Year)"
   ]
  },
  {
   "cell_type": "code",
   "execution_count": 18,
   "metadata": {},
   "outputs": [
    {
     "data": {
      "text/plain": [
       "count    299228.000000\n",
       "mean       2003.090854\n",
       "std           6.695766\n",
       "min        1950.000000\n",
       "25%        1999.000000\n",
       "50%        2003.000000\n",
       "75%        2007.000000\n",
       "max        2023.000000\n",
       "Name: RegistrationYear, dtype: float64"
      ]
     },
     "execution_count": 18,
     "metadata": {},
     "output_type": "execute_result"
    },
    {
     "data": {
      "image/png": "[encoded data removed]",
      "text/plain": [
       "<Figure size 432x288 with 1 Axes>"
      ]
     },
     "metadata": {
      "needs_background": "light"
     },
     "output_type": "display_data"
    }
   ],
   "source": [
    "sns.boxplot(y = 'RegistrationYear', data=data)\n",
    "data['RegistrationYear'].describe()"
   ]
  },
  {
   "cell_type": "code",
   "execution_count": 19,
   "metadata": {},
   "outputs": [],
   "source": [
    "# Удаление объявлений с подозрительно низкой ценой \n",
    "data = data[(data['Price'] > 2)]"
   ]
  },
  {
   "cell_type": "code",
   "execution_count": 20,
   "metadata": {
    "scrolled": false
   },
   "outputs": [],
   "source": [
    "# Сброс индексов после обработки \n",
    "data.reset_index(drop=True, inplace= True)"
   ]
  },
  {
   "cell_type": "markdown",
   "metadata": {},
   "source": [
    "- Пропуски удалены\\обработаны\n",
    "- Выбросы параметров мощности и года регистрации устранены \n",
    "- Данные с подозрительно низкой ценой удалены"
   ]
  },
  {
   "cell_type": "markdown",
   "metadata": {},
   "source": [
    "## Обучение моделей"
   ]
  },
  {
   "cell_type": "markdown",
   "metadata": {},
   "source": [
    "### Удаление данных не участвующих в обучении "
   ]
  },
  {
   "cell_type": "code",
   "execution_count": 21,
   "metadata": {},
   "outputs": [],
   "source": [
    "data.drop(['DateCrawled', 'DateCreated', 'NumberOfPictures', 'PostalCode', 'LastSeen'], axis='columns', inplace=True)"
   ]
  },
  {
   "cell_type": "markdown",
   "metadata": {},
   "source": [
    "### Разделение на выборки  "
   ]
  },
  {
   "cell_type": "code",
   "execution_count": 22,
   "metadata": {},
   "outputs": [],
   "source": [
    "# Разделение на признаки и целевой признак \n",
    "features = data.drop('Price', axis=1)\n",
    "target = data['Price']"
   ]
  },
  {
   "cell_type": "code",
   "execution_count": 23,
   "metadata": {},
   "outputs": [],
   "source": [
    "#Делим на выборки\n",
    "features_train, target_train, features_valid, target_valid, features_test, target_test = train_valid_test_split(data, target = 'Price', train_size=0.6, valid_size=0.2, test_size=0.2)"
   ]
  },
  {
   "cell_type": "code",
   "execution_count": 24,
   "metadata": {},
   "outputs": [],
   "source": [
    "features_train.reset_index(drop= True , inplace= True )\n",
    "target_train.reset_index(drop= True , inplace= True )\n",
    "features_valid.reset_index(drop= True , inplace= True )\n",
    "target_valid.reset_index(drop= True , inplace= True )\n",
    "features_test.reset_index(drop= True , inplace= True )\n",
    "target_test.reset_index(drop= True , inplace= True )"
   ]
  },
  {
   "cell_type": "code",
   "execution_count": 25,
   "metadata": {},
   "outputs": [
    {
     "name": "stdout",
     "output_type": "stream",
     "text": [
      "(175624, 10)\n",
      "(175624,)\n",
      "(58542, 10)\n",
      "(58542,)\n",
      "(58542, 10)\n",
      "(58542,)\n"
     ]
    }
   ],
   "source": [
    "print(features_train.shape)\n",
    "print(target_train.shape)\n",
    "print(features_valid.shape)\n",
    "print(target_valid.shape)\n",
    "print(features_test.shape)\n",
    "print(target_test.shape)"
   ]
  },
  {
   "cell_type": "markdown",
   "metadata": {},
   "source": [
    "### Кодирование категориальных признаков"
   ]
  },
  {
   "cell_type": "markdown",
   "metadata": {},
   "source": [
    "#### Get_Dummies"
   ]
  },
  {
   "cell_type": "code",
   "execution_count": 26,
   "metadata": {},
   "outputs": [],
   "source": [
    "features_train_ohe = pd.get_dummies(features_train, drop_first=True).reset_index(drop= True , inplace= True )\n",
    "features_valid_ohe = pd.get_dummies(features_valid, drop_first=True).reset_index(drop= True , inplace= True )\n",
    "features_test_ohe = pd.get_dummies(features_test, drop_first=True).reset_index(drop= True , inplace= True )"
   ]
  },
  {
   "cell_type": "code",
   "execution_count": 27,
   "metadata": {},
   "outputs": [],
   "source": [
    "features_train_ohe\n",
    "features_train_ohe"
   ]
  },
  {
   "cell_type": "markdown",
   "metadata": {},
   "source": [
    "OrdinalEncoder"
   ]
  },
  {
   "cell_type": "code",
   "execution_count": 29,
   "metadata": {},
   "outputs": [],
   "source": [
    "encoder = OrdinalEncoder(handle_unknown='ignore')\n",
    "cat_cols=['VehicleType','Gearbox', 'Model','FuelType','Brand','Repaired']"
   ]
  },
  {
   "cell_type": "code",
   "execution_count": 30,
   "metadata": {},
   "outputs": [
    {
     "data": {
      "text/plain": [
       "OrdinalEncoder(handle_unknown='ignore')"
      ]
     },
     "execution_count": 30,
     "metadata": {},
     "output_type": "execute_result"
    }
   ],
   "source": [
    "encoder.fit(features_train[cat_cols])"
   ]
  },
  {
   "cell_type": "code",
   "execution_count": 31,
   "metadata": {
    "scrolled": true
   },
   "outputs": [],
   "source": [
    "features_train_oe = features_train.join(pd.DataFrame(encoder.transform(features_train[cat_cols])))\n",
    "features_train_oe.drop(columns=cat_cols, axis = 1, inplace=True)\n",
    "\n",
    "features_valid_oe = features_valid.join(pd.DataFrame(encoder.transform(features_valid[cat_cols])))\n",
    "features_valid_oe.drop(columns=cat_cols, axis = 1, inplace=True)\n",
    "\n",
    "features_test_oe = features_test.join(pd.DataFrame(encoder.transform(features_test[cat_cols])))\n",
    "features_test_oe.drop(columns=cat_cols, axis = 1, inplace=True)"
   ]
  },
  {
   "cell_type": "markdown",
   "metadata": {},
   "source": [
    "### Функция для метрики RMSE."
   ]
  },
  {
   "cell_type": "code",
   "execution_count": 32,
   "metadata": {},
   "outputs": [],
   "source": [
    "def RMSE(target, predict):\n",
    "    return (mean_squared_error(target, predict))**0.5\n",
    "   \n",
    "RMSE_score = make_scorer(RMSE, greater_is_better=False)"
   ]
  },
  {
   "cell_type": "markdown",
   "metadata": {},
   "source": [
    "### Константная модель"
   ]
  },
  {
   "cell_type": "code",
   "execution_count": 33,
   "metadata": {},
   "outputs": [
    {
     "name": "stdout",
     "output_type": "stream",
     "text": [
      "RMSE для константной модели 4885.518\n",
      "CPU times: user 5.61 ms, sys: 284 µs, total: 5.89 ms\n",
      "Wall time: 5.55 ms\n"
     ]
    }
   ],
   "source": [
    "%%time\n",
    "\n",
    "const_model = pd.Series(target_train.median(), index=target_train.index)\n",
    "\n",
    "const_RMSE = round(RMSE(target_train, const_model), 3)\n",
    "print('RMSE для константной модели', const_RMSE)"
   ]
  },
  {
   "cell_type": "markdown",
   "metadata": {},
   "source": [
    "### Линейная регрессия"
   ]
  },
  {
   "cell_type": "code",
   "execution_count": 34,
   "metadata": {},
   "outputs": [
    {
     "name": "stdout",
     "output_type": "stream",
     "text": [
      "Среднее качество модели линейной регрессии на кросс-валидации: 3040.5387944791532\n",
      "CPU times: user 387 ms, sys: 368 ms, total: 755 ms\n",
      "Wall time: 743 ms\n"
     ]
    }
   ],
   "source": [
    "%%time\n",
    "\n",
    "regression = LinearRegression()\n",
    "\n",
    "regression.fit(features_train_oe, target_train)\n",
    "\n",
    "regression_cv_score = pd.Series(cross_val_score(regression,features_train_oe,target_train,scoring=RMSE_score,cv=3)).mean()*(-1)\n",
    "print('Среднее качество модели линейной регрессии на кросс-валидации:', regression_cv_score)"
   ]
  },
  {
   "cell_type": "markdown",
   "metadata": {},
   "source": [
    "### Случайный лес"
   ]
  },
  {
   "cell_type": "code",
   "execution_count": 35,
   "metadata": {},
   "outputs": [
    {
     "name": "stdout",
     "output_type": "stream",
     "text": [
      "CPU times: user 49.8 s, sys: 165 ms, total: 50 s\n",
      "Wall time: 50.2 s\n"
     ]
    },
    {
     "data": {
      "text/plain": [
       "GridSearchCV(cv=3, estimator=RandomForestRegressor(),\n",
       "             param_grid={'max_depth': range(1, 6, 2),\n",
       "                         'min_samples_leaf': range(1, 4),\n",
       "                         'min_samples_split': range(2, 6, 2),\n",
       "                         'n_estimators': range(5, 15, 5)},\n",
       "             scoring=make_scorer(RMSE, greater_is_better=False))"
      ]
     },
     "execution_count": 35,
     "metadata": {},
     "output_type": "execute_result"
    }
   ],
   "source": [
    "%%time\n",
    "\n",
    "forest = RandomForestRegressor()\n",
    "\n",
    "forest_parametrs = { 'n_estimators': range(5, 15, 5),\n",
    "                     'max_depth': range(1, 6, 2),\n",
    "                     'min_samples_leaf': range(1,4),\n",
    "                     'min_samples_split': range(2,6,2) }\n",
    "\n",
    "\n",
    "forest_grid = GridSearchCV(forest, forest_parametrs, scoring=RMSE_score, cv=3)\n",
    "forest_grid.fit(features_train_oe, target_train)"
   ]
  },
  {
   "cell_type": "code",
   "execution_count": 47,
   "metadata": {},
   "outputs": [
    {
     "name": "stdout",
     "output_type": "stream",
     "text": [
      "{'max_depth': 5, 'min_samples_leaf': 1, 'min_samples_split': 4, 'n_estimators': 10}\n",
      "2361.177484473622\n",
      "CPU times: user 79 ms, sys: 86 µs, total: 79.1 ms\n",
      "Wall time: 77.1 ms\n"
     ]
    }
   ],
   "source": [
    "%%time\n",
    "\n",
    "forest_params = forest_grid.best_params_\n",
    "forest_score_train = forest_grid.score(features_train_oe, target_train) * (-1)\n",
    "\n",
    "print(forest_params)\n",
    "print(forest_score_train)"
   ]
  },
  {
   "cell_type": "code",
   "execution_count": 48,
   "metadata": {},
   "outputs": [
    {
     "name": "stdout",
     "output_type": "stream",
     "text": [
      "2381.6516009869006\n",
      "CPU times: user 27.7 ms, sys: 0 ns, total: 27.7 ms\n",
      "Wall time: 26.4 ms\n"
     ]
    }
   ],
   "source": [
    "%%time\n",
    "\n",
    "forest_score_vaild = forest_grid.score(features_valid_oe, target_valid) * (-1)\n",
    "print(forest_score_vaild)"
   ]
  },
  {
   "cell_type": "markdown",
   "metadata": {},
   "source": [
    "### LightGBM"
   ]
  },
  {
   "cell_type": "code",
   "execution_count": 49,
   "metadata": {},
   "outputs": [
    {
     "name": "stdout",
     "output_type": "stream",
     "text": [
      "CPU times: user 54min 1s, sys: 36.3 s, total: 54min 37s\n",
      "Wall time: 55min\n"
     ]
    },
    {
     "data": {
      "text/plain": [
       "GridSearchCV(cv=3, estimator=LGBMRegressor(),\n",
       "             param_grid={'learning_rate': [0.01, 0.1],\n",
       "                         'max_depth': [25, 50, 75],\n",
       "                         'n_estimators': range(5, 15, 5),\n",
       "                         'num_leaves': [500, 1200]},\n",
       "             scoring=make_scorer(RMSE, greater_is_better=False))"
      ]
     },
     "execution_count": 49,
     "metadata": {},
     "output_type": "execute_result"
    }
   ],
   "source": [
    "%%time\n",
    "\n",
    "lg = lgb.LGBMRegressor()\n",
    "\n",
    "lg_parametrs = {\"max_depth\": [25, 50, 75],\n",
    "               \"learning_rate\" : [0.01, 0.1],\n",
    "               \"num_leaves\": [500, 1200],\n",
    "               \"n_estimators\": range (5, 15, 5)\n",
    "             }\n",
    "lg_grid = GridSearchCV(lg, lg_parametrs, scoring=RMSE_score, cv=3)\n",
    "lg_grid.fit(features_train_oe, target_train, cat_features=cats_cols)"
   ]
  },
  {
   "cell_type": "code",
   "execution_count": 51,
   "metadata": {},
   "outputs": [
    {
     "name": "stdout",
     "output_type": "stream",
     "text": [
      "{'learning_rate': 0.1, 'max_depth': 25, 'n_estimators': 10, 'num_leaves': 1200}\n",
      "2221.776553729504\n",
      "CPU times: user 358 ms, sys: 6.73 ms, total: 365 ms\n",
      "Wall time: 320 ms\n"
     ]
    }
   ],
   "source": [
    "%%time\n",
    "\n",
    "lg_params = lg_grid.best_params_\n",
    "lg_score_train = lg_grid.score(features_train_oe, target_train) * (-1)\n",
    "print(lg_params)\n",
    "print(lg_score_train)"
   ]
  },
  {
   "cell_type": "code",
   "execution_count": 52,
   "metadata": {},
   "outputs": [
    {
     "name": "stdout",
     "output_type": "stream",
     "text": [
      "2316.3455682596677\n",
      "CPU times: user 140 ms, sys: 0 ns, total: 140 ms\n",
      "Wall time: 62 ms\n"
     ]
    }
   ],
   "source": [
    "%%time\n",
    "\n",
    "lg_score_vaild = lg_grid.score(features_valid_oe, target_valid) * (-1)\n",
    "print(lg_score_vaild)"
   ]
  },
  {
   "cell_type": "markdown",
   "metadata": {},
   "source": [
    "### CatBoost"
   ]
  },
  {
   "cell_type": "code",
   "execution_count": 109,
   "metadata": {},
   "outputs": [
    {
     "name": "stdout",
     "output_type": "stream",
     "text": [
      "0:\tlearn: 4138.9770066\ttotal: 23.2ms\tremaining: 2.29s\n",
      "10:\tlearn: 2284.5815509\ttotal: 238ms\tremaining: 1.92s\n",
      "20:\tlearn: 1961.2683854\ttotal: 445ms\tremaining: 1.67s\n",
      "30:\tlearn: 1859.9142943\ttotal: 635ms\tremaining: 1.41s\n",
      "40:\tlearn: 1807.5439308\ttotal: 831ms\tremaining: 1.2s\n",
      "50:\tlearn: 1766.6553378\ttotal: 1.03s\tremaining: 995ms\n",
      "60:\tlearn: 1739.4541878\ttotal: 1.24s\tremaining: 791ms\n",
      "70:\tlearn: 1716.6796304\ttotal: 1.46s\tremaining: 595ms\n",
      "80:\tlearn: 1695.7429472\ttotal: 1.66s\tremaining: 388ms\n",
      "90:\tlearn: 1678.0144274\ttotal: 1.85s\tremaining: 183ms\n",
      "99:\tlearn: 1662.5825823\ttotal: 2.03s\tremaining: 0us\n",
      "0:\tlearn: 4132.2725648\ttotal: 27.9ms\tremaining: 2.76s\n",
      "10:\tlearn: 2284.0352223\ttotal: 234ms\tremaining: 1.89s\n",
      "20:\tlearn: 1979.2265487\ttotal: 445ms\tremaining: 1.67s\n",
      "30:\tlearn: 1868.4968958\ttotal: 651ms\tremaining: 1.45s\n",
      "40:\tlearn: 1819.8831825\ttotal: 849ms\tremaining: 1.22s\n",
      "50:\tlearn: 1777.3726680\ttotal: 1.08s\tremaining: 1.04s\n",
      "60:\tlearn: 1747.8570832\ttotal: 1.32s\tremaining: 842ms\n",
      "70:\tlearn: 1725.8062704\ttotal: 1.52s\tremaining: 619ms\n",
      "80:\tlearn: 1705.5161219\ttotal: 1.72s\tremaining: 404ms\n",
      "90:\tlearn: 1688.5847890\ttotal: 1.93s\tremaining: 190ms\n",
      "99:\tlearn: 1672.4495581\ttotal: 2.12s\tremaining: 0us\n",
      "0:\tlearn: 4134.4802135\ttotal: 18.6ms\tremaining: 1.84s\n",
      "10:\tlearn: 2286.1126029\ttotal: 217ms\tremaining: 1.75s\n",
      "20:\tlearn: 1966.0743211\ttotal: 418ms\tremaining: 1.57s\n",
      "30:\tlearn: 1858.4564228\ttotal: 620ms\tremaining: 1.38s\n",
      "40:\tlearn: 1800.8688875\ttotal: 836ms\tremaining: 1.2s\n",
      "50:\tlearn: 1761.5263497\ttotal: 1.03s\tremaining: 993ms\n",
      "60:\tlearn: 1737.0426449\ttotal: 1.24s\tremaining: 790ms\n",
      "70:\tlearn: 1714.7207660\ttotal: 1.44s\tremaining: 587ms\n",
      "80:\tlearn: 1695.2282262\ttotal: 1.63s\tremaining: 382ms\n",
      "90:\tlearn: 1674.8277436\ttotal: 1.83s\tremaining: 181ms\n",
      "99:\tlearn: 1660.0579325\ttotal: 2.02s\tremaining: 0us\n",
      "0:\tlearn: 4122.6382159\ttotal: 42.8ms\tremaining: 4.24s\n",
      "10:\tlearn: 2188.7705136\ttotal: 420ms\tremaining: 3.4s\n",
      "20:\tlearn: 1872.6124026\ttotal: 782ms\tremaining: 2.94s\n",
      "30:\tlearn: 1781.3831874\ttotal: 1.17s\tremaining: 2.6s\n",
      "40:\tlearn: 1725.3917699\ttotal: 1.55s\tremaining: 2.23s\n",
      "50:\tlearn: 1683.7293714\ttotal: 1.94s\tremaining: 1.86s\n",
      "60:\tlearn: 1654.6392361\ttotal: 2.32s\tremaining: 1.48s\n",
      "70:\tlearn: 1632.0604021\ttotal: 2.69s\tremaining: 1.1s\n",
      "80:\tlearn: 1608.0821537\ttotal: 3.08s\tremaining: 724ms\n",
      "90:\tlearn: 1588.4318599\ttotal: 3.46s\tremaining: 342ms\n",
      "99:\tlearn: 1573.5385988\ttotal: 3.79s\tremaining: 0us\n",
      "0:\tlearn: 4107.9631446\ttotal: 35.3ms\tremaining: 3.49s\n",
      "10:\tlearn: 2189.5376086\ttotal: 430ms\tremaining: 3.48s\n",
      "20:\tlearn: 1877.9088932\ttotal: 938ms\tremaining: 3.53s\n",
      "30:\tlearn: 1785.3634876\ttotal: 1.33s\tremaining: 2.97s\n",
      "40:\tlearn: 1738.1831977\ttotal: 1.72s\tremaining: 2.48s\n",
      "50:\tlearn: 1698.6881409\ttotal: 2.09s\tremaining: 2.01s\n",
      "60:\tlearn: 1663.8308854\ttotal: 2.47s\tremaining: 1.58s\n",
      "70:\tlearn: 1641.9139578\ttotal: 2.86s\tremaining: 1.17s\n",
      "80:\tlearn: 1617.5695720\ttotal: 3.23s\tremaining: 757ms\n",
      "90:\tlearn: 1599.0829644\ttotal: 3.61s\tremaining: 357ms\n",
      "99:\tlearn: 1585.0943912\ttotal: 3.97s\tremaining: 0us\n",
      "0:\tlearn: 4113.9919605\ttotal: 51.5ms\tremaining: 5.1s\n",
      "10:\tlearn: 2189.0618257\ttotal: 449ms\tremaining: 3.63s\n",
      "20:\tlearn: 1870.3849388\ttotal: 833ms\tremaining: 3.13s\n",
      "30:\tlearn: 1770.5621458\ttotal: 1.2s\tremaining: 2.67s\n",
      "40:\tlearn: 1727.3477909\ttotal: 1.57s\tremaining: 2.26s\n",
      "50:\tlearn: 1689.5891595\ttotal: 1.95s\tremaining: 1.88s\n",
      "60:\tlearn: 1662.8166023\ttotal: 2.35s\tremaining: 1.5s\n",
      "70:\tlearn: 1638.2229230\ttotal: 2.74s\tremaining: 1.12s\n",
      "80:\tlearn: 1616.6196520\ttotal: 3.15s\tremaining: 739ms\n",
      "90:\tlearn: 1596.2352763\ttotal: 3.57s\tremaining: 353ms\n",
      "99:\tlearn: 1578.2640335\ttotal: 3.91s\tremaining: 0us\n",
      "0:\tlearn: 4116.0822057\ttotal: 92.2ms\tremaining: 9.13s\n",
      "10:\tlearn: 2097.1506112\ttotal: 806ms\tremaining: 6.52s\n",
      "20:\tlearn: 1793.9447267\ttotal: 1.57s\tremaining: 5.91s\n",
      "30:\tlearn: 1689.3318543\ttotal: 2.28s\tremaining: 5.07s\n",
      "40:\tlearn: 1641.6253147\ttotal: 2.96s\tremaining: 4.26s\n",
      "50:\tlearn: 1604.1487094\ttotal: 3.68s\tremaining: 3.53s\n",
      "60:\tlearn: 1577.4499904\ttotal: 4.49s\tremaining: 2.87s\n",
      "70:\tlearn: 1549.2024820\ttotal: 5.17s\tremaining: 2.11s\n",
      "80:\tlearn: 1526.9184433\ttotal: 5.83s\tremaining: 1.37s\n",
      "90:\tlearn: 1500.8100989\ttotal: 6.53s\tremaining: 646ms\n",
      "99:\tlearn: 1483.4137905\ttotal: 7.16s\tremaining: 0us\n",
      "0:\tlearn: 4098.1005858\ttotal: 73.3ms\tremaining: 7.26s\n",
      "10:\tlearn: 2107.1728686\ttotal: 792ms\tremaining: 6.41s\n",
      "20:\tlearn: 1803.2417555\ttotal: 1.49s\tremaining: 5.62s\n",
      "30:\tlearn: 1703.2164646\ttotal: 2.24s\tremaining: 4.98s\n",
      "40:\tlearn: 1656.8711599\ttotal: 2.91s\tremaining: 4.18s\n",
      "50:\tlearn: 1617.2255714\ttotal: 3.7s\tremaining: 3.55s\n",
      "60:\tlearn: 1585.1392087\ttotal: 4.4s\tremaining: 2.81s\n",
      "70:\tlearn: 1557.0011930\ttotal: 5.09s\tremaining: 2.08s\n",
      "80:\tlearn: 1532.1980608\ttotal: 5.77s\tremaining: 1.35s\n",
      "90:\tlearn: 1511.1455686\ttotal: 6.45s\tremaining: 638ms\n",
      "99:\tlearn: 1494.5225490\ttotal: 7.07s\tremaining: 0us\n",
      "0:\tlearn: 4104.4381536\ttotal: 72.1ms\tremaining: 7.14s\n",
      "10:\tlearn: 2101.5130116\ttotal: 787ms\tremaining: 6.37s\n",
      "20:\tlearn: 1788.4979730\ttotal: 1.48s\tremaining: 5.58s\n",
      "30:\tlearn: 1695.7120871\ttotal: 2.17s\tremaining: 4.84s\n",
      "40:\tlearn: 1648.8902576\ttotal: 2.87s\tremaining: 4.12s\n",
      "50:\tlearn: 1613.0725088\ttotal: 3.55s\tremaining: 3.41s\n",
      "60:\tlearn: 1583.2242214\ttotal: 4.25s\tremaining: 2.71s\n",
      "70:\tlearn: 1554.1256000\ttotal: 4.96s\tremaining: 2.02s\n",
      "80:\tlearn: 1531.1276348\ttotal: 5.75s\tremaining: 1.35s\n",
      "90:\tlearn: 1506.9385254\ttotal: 6.44s\tremaining: 637ms\n",
      "99:\tlearn: 1488.3374805\ttotal: 7.06s\tremaining: 0us\n",
      "0:\tlearn: 4108.3156636\ttotal: 297ms\tremaining: 29.4s\n",
      "10:\tlearn: 2041.4921934\ttotal: 2.93s\tremaining: 23.7s\n",
      "20:\tlearn: 1718.8359682\ttotal: 5.64s\tremaining: 21.2s\n",
      "30:\tlearn: 1632.6534429\ttotal: 8.33s\tremaining: 18.5s\n",
      "40:\tlearn: 1578.6391003\ttotal: 11s\tremaining: 15.8s\n",
      "50:\tlearn: 1537.2968509\ttotal: 13.6s\tremaining: 13.1s\n",
      "60:\tlearn: 1501.5431961\ttotal: 16.3s\tremaining: 10.4s\n",
      "70:\tlearn: 1468.5164039\ttotal: 19.1s\tremaining: 7.81s\n",
      "80:\tlearn: 1435.8374396\ttotal: 21.9s\tremaining: 5.13s\n",
      "90:\tlearn: 1409.5594671\ttotal: 24.7s\tremaining: 2.44s\n",
      "99:\tlearn: 1388.8917142\ttotal: 27.3s\tremaining: 0us\n",
      "0:\tlearn: 4092.1295956\ttotal: 270ms\tremaining: 26.7s\n",
      "10:\tlearn: 2042.2165355\ttotal: 2.99s\tremaining: 24.2s\n",
      "20:\tlearn: 1729.6045274\ttotal: 5.74s\tremaining: 21.6s\n",
      "30:\tlearn: 1641.0603085\ttotal: 8.67s\tremaining: 19.3s\n",
      "40:\tlearn: 1587.8534980\ttotal: 11.6s\tremaining: 16.7s\n",
      "50:\tlearn: 1545.2002958\ttotal: 14.3s\tremaining: 13.8s\n",
      "60:\tlearn: 1507.6469113\ttotal: 17.1s\tremaining: 10.9s\n",
      "70:\tlearn: 1477.0463110\ttotal: 19.9s\tremaining: 8.11s\n",
      "80:\tlearn: 1443.5174262\ttotal: 22.6s\tremaining: 5.3s\n",
      "90:\tlearn: 1420.9185977\ttotal: 25.3s\tremaining: 2.5s\n",
      "99:\tlearn: 1398.7508566\ttotal: 27.9s\tremaining: 0us\n",
      "0:\tlearn: 4096.2772530\ttotal: 277ms\tremaining: 27.4s\n",
      "10:\tlearn: 2041.4578719\ttotal: 3.06s\tremaining: 24.8s\n",
      "20:\tlearn: 1722.1102812\ttotal: 5.79s\tremaining: 21.8s\n",
      "30:\tlearn: 1635.2013723\ttotal: 8.54s\tremaining: 19s\n",
      "40:\tlearn: 1586.2688813\ttotal: 11.4s\tremaining: 16.5s\n",
      "50:\tlearn: 1540.0233462\ttotal: 14.3s\tremaining: 13.7s\n",
      "60:\tlearn: 1505.1801216\ttotal: 17.1s\tremaining: 10.9s\n",
      "70:\tlearn: 1473.5498068\ttotal: 20s\tremaining: 8.16s\n",
      "80:\tlearn: 1446.5407027\ttotal: 22.9s\tremaining: 5.37s\n",
      "90:\tlearn: 1421.0217973\ttotal: 25.8s\tremaining: 2.55s\n",
      "99:\tlearn: 1400.9676773\ttotal: 28.4s\tremaining: 0us\n",
      "0:\tlearn: 4091.3517497\ttotal: 315ms\tremaining: 31.1s\n",
      "10:\tlearn: 2028.4879023\ttotal: 3.42s\tremaining: 27.7s\n",
      "20:\tlearn: 1724.9711591\ttotal: 6.48s\tremaining: 24.4s\n",
      "30:\tlearn: 1640.7769346\ttotal: 9.65s\tremaining: 21.5s\n",
      "40:\tlearn: 1593.7956789\ttotal: 12.8s\tremaining: 18.5s\n",
      "50:\tlearn: 1558.4248708\ttotal: 16.1s\tremaining: 15.5s\n",
      "60:\tlearn: 1525.4655803\ttotal: 19.2s\tremaining: 12.3s\n",
      "70:\tlearn: 1498.9083700\ttotal: 22.4s\tremaining: 9.13s\n",
      "80:\tlearn: 1470.3730125\ttotal: 25.6s\tremaining: 6s\n",
      "90:\tlearn: 1449.0448482\ttotal: 28.7s\tremaining: 2.84s\n",
      "99:\tlearn: 1430.3364144\ttotal: 31.5s\tremaining: 0us\n",
      "CPU times: user 2min 5s, sys: 30.4 s, total: 2min 35s\n",
      "Wall time: 2min 45s\n"
     ]
    },
    {
     "data": {
      "text/plain": [
       "GridSearchCV(cv=3,\n",
       "             estimator=<catboost.core.CatBoostRegressor object at 0x7f84dbe74f70>,\n",
       "             param_grid={'depth': range(8, 16, 2), 'iterations': [100],\n",
       "                         'learning_rate': [0.15]},\n",
       "             scoring=make_scorer(RMSE, greater_is_better=False))"
      ]
     },
     "execution_count": 109,
     "metadata": {},
     "output_type": "execute_result"
    }
   ],
   "source": [
    "%%time\n",
    "\n",
    "cb = cb.CatBoostRegressor()\n",
    "\n",
    "cb_parametrs = {\"iterations\": [100],\n",
    "                \"depth\": range(8, 16, 2),\n",
    "                \"learning_rate\" : [0.15]\n",
    "             }\n",
    "cb_grid = GridSearchCV(cb, cb_parametrs, scoring=RMSE_score, cv=3)\n",
    "cb_grid.fit(features_train_oe, target_train, verbose=10)"
   ]
  },
  {
   "cell_type": "code",
   "execution_count": 110,
   "metadata": {},
   "outputs": [
    {
     "name": "stdout",
     "output_type": "stream",
     "text": [
      "{'depth': 14, 'iterations': 100, 'learning_rate': 0.15}\n",
      "1430.336414444408\n",
      "CPU times: user 155 ms, sys: 58 µs, total: 155 ms\n",
      "Wall time: 155 ms\n"
     ]
    }
   ],
   "source": [
    "%%time\n",
    "\n",
    "cb_params = cb_grid.best_params_\n",
    "cb_score_train = cb_grid.score(features_train_oe, target_train) * (-1)\n",
    "print(cb_params)\n",
    "print(cb_score_train)"
   ]
  },
  {
   "cell_type": "code",
   "execution_count": 111,
   "metadata": {},
   "outputs": [
    {
     "name": "stdout",
     "output_type": "stream",
     "text": [
      "1618.9927666074175\n",
      "CPU times: user 63.3 ms, sys: 132 µs, total: 63.4 ms\n",
      "Wall time: 70.3 ms\n"
     ]
    }
   ],
   "source": [
    "%%time\n",
    "\n",
    "cb_score_valid = cb_grid.score(features_valid_oe, target_valid) * (-1)\n",
    "print(cb_score_valid)"
   ]
  },
  {
   "cell_type": "markdown",
   "metadata": {},
   "source": [
    "Обучены и выбраны оптимальные параметры для моделей: Константной, Линейной регрессии, Случайного леса, LightGBM и CatBoost"
   ]
  },
  {
   "cell_type": "markdown",
   "metadata": {},
   "source": [
    "## Анализ моделей"
   ]
  },
  {
   "cell_type": "code",
   "execution_count": 120,
   "metadata": {},
   "outputs": [
    {
     "data": {
      "text/html": [
       "<div>\n",
       "<style scoped>\n",
       "    .dataframe tbody tr th:only-of-type {\n",
       "        vertical-align: middle;\n",
       "    }\n",
       "\n",
       "    .dataframe tbody tr th {\n",
       "        vertical-align: top;\n",
       "    }\n",
       "\n",
       "    .dataframe thead th {\n",
       "        text-align: right;\n",
       "    }\n",
       "</style>\n",
       "<table border=\"1\" class=\"dataframe\">\n",
       "  <thead>\n",
       "    <tr style=\"text-align: right;\">\n",
       "      <th></th>\n",
       "      <th>Модель</th>\n",
       "      <th>Время обучения модели,</th>\n",
       "      <th>Время предсказания Train</th>\n",
       "      <th>Время предсказания Valid</th>\n",
       "      <th>RMSE на Train</th>\n",
       "      <th>RMSE на Valid</th>\n",
       "    </tr>\n",
       "  </thead>\n",
       "  <tbody>\n",
       "    <tr>\n",
       "      <th>0</th>\n",
       "      <td>Константная модель</td>\n",
       "      <td>0</td>\n",
       "      <td>0</td>\n",
       "      <td>0</td>\n",
       "      <td>4885.518000</td>\n",
       "      <td>0.000000</td>\n",
       "    </tr>\n",
       "    <tr>\n",
       "      <th>1</th>\n",
       "      <td>Линейная регрессия</td>\n",
       "      <td>0,743</td>\n",
       "      <td>0,743</td>\n",
       "      <td>0,743</td>\n",
       "      <td>3040.538794</td>\n",
       "      <td>3040.538794</td>\n",
       "    </tr>\n",
       "    <tr>\n",
       "      <th>2</th>\n",
       "      <td>Случайный лес</td>\n",
       "      <td>15.638585</td>\n",
       "      <td>0,771</td>\n",
       "      <td>0.580023</td>\n",
       "      <td>2361.177484</td>\n",
       "      <td>2381.651601</td>\n",
       "    </tr>\n",
       "    <tr>\n",
       "      <th>3</th>\n",
       "      <td>LGBMRegressor</td>\n",
       "      <td>1078.652313</td>\n",
       "      <td>0.320</td>\n",
       "      <td>2.722723</td>\n",
       "      <td>2221.776554</td>\n",
       "      <td>2316.345568</td>\n",
       "    </tr>\n",
       "    <tr>\n",
       "      <th>4</th>\n",
       "      <td>CatBoostRegressor</td>\n",
       "      <td>44.111708</td>\n",
       "      <td>0,453</td>\n",
       "      <td>0.124046</td>\n",
       "      <td>1430.336414</td>\n",
       "      <td>1618.992767</td>\n",
       "    </tr>\n",
       "  </tbody>\n",
       "</table>\n",
       "</div>"
      ],
      "text/plain": [
       "               Модель Время обучения модели, Время предсказания Train  \\\n",
       "0  Константная модель                      0                        0   \n",
       "1  Линейная регрессия                  0,743                    0,743   \n",
       "2       Случайный лес              15.638585                    0,771   \n",
       "3       LGBMRegressor            1078.652313                    0.320   \n",
       "4   CatBoostRegressor              44.111708                    0,453   \n",
       "\n",
       "  Время предсказания Valid  RMSE на Train  RMSE на Valid  \n",
       "0                        0    4885.518000       0.000000  \n",
       "1                    0,743    3040.538794    3040.538794  \n",
       "2                 0.580023    2361.177484    2381.651601  \n",
       "3                 2.722723    2221.776554    2316.345568  \n",
       "4                 0.124046    1430.336414    1618.992767  "
      ]
     },
     "metadata": {},
     "output_type": "display_data"
    }
   ],
   "source": [
    "columns = ['Модель', 'Время обучения модели,', 'Время предсказания Train','Время предсказания Valid', 'RMSE на Train','RMSE на Valid']\n",
    "const_model = ['Константная модель', 0, 0, 0, const_RMSE, 0]\n",
    "regression_model = ['Линейная регрессия', '0,743', '0,743', '0,743',regression_cv_score, regression_cv_score]\n",
    "forest_model = ['Случайный лес', forest_grid.cv_results_['mean_fit_time'].sum(), '0,771',forest_grid.cv_results_['mean_score_time'].sum(),forest_score_train, forest_score_vaild]\n",
    "lg_model = ['LGBMRegressor', lg_grid.cv_results_['mean_fit_time'].sum(), '0.320',lg_grid.cv_results_['mean_score_time'].sum(),lg_score_train, lg_score_vaild]\n",
    "cb_model = ['CatBoostRegressor', cb_grid.cv_results_['mean_fit_time'].sum(), '0,453',cb_grid.cv_results_['mean_score_time'].sum() , cb_score_train, cb_score_valid]\n",
    "table = pd.DataFrame([const_model, regression_model, forest_model, lg_model, cb_model], columns = columns)\n",
    "\n",
    "display(table)"
   ]
  },
  {
   "cell_type": "markdown",
   "metadata": {},
   "source": [
    "В связи с обозначенными критерием: RMSE <= 2500 и минимальным временем обучения и предсказания модели, наилучшим выбором становиться модель CatBoost со следующими показателями:\n",
    "- Качество предсказания на Train - 1430,34\n",
    "- Качество предсказания на Valid - 1618\n",
    "- Время обучения модели - 44.11s\n",
    "- Время предсказания модели - 124 ms"
   ]
  },
  {
   "cell_type": "markdown",
   "metadata": {},
   "source": [
    "## Тестирование лучшей модели"
   ]
  },
  {
   "cell_type": "code",
   "execution_count": 118,
   "metadata": {},
   "outputs": [
    {
     "name": "stdout",
     "output_type": "stream",
     "text": [
      "1592.6374237896434\n",
      "CPU times: user 59.8 ms, sys: 32 µs, total: 59.8 ms\n",
      "Wall time: 58.7 ms\n"
     ]
    }
   ],
   "source": [
    "%%time\n",
    "\n",
    "cb_score_test = cb_grid.score(features_test_oe, target_test) * (-1)\n",
    "print(cb_score_test)"
   ]
  },
  {
   "cell_type": "markdown",
   "metadata": {},
   "source": [
    "## Вывод:"
   ]
  },
  {
   "cell_type": "markdown",
   "metadata": {},
   "source": [
    "- Данные загружены и подготовлены для обучения моделей(пропуски удалены\\обработаны, выбросы параметров мощности и года регистрации устранены), `Целевой признак` `Цена`.\n",
    "- Обучены и выбраны оптимальные параметры для моделей: Константной, Линейной регрессии, Случайного леса, LightGBM и CatBoost\n",
    "- Наилучший показатель на валидационной выборке `RMSE` `(1605.78)` и минимальное `время обучения` `(3min 8s)` и `время предсказания` `(213 ms)` получила модель CatBoost\n",
    "\n",
    "\n",
    "- Наилучший показатель на тестовой выборке `RMSE` `(1592.64)` `время предсказания (58.7 ms)`\n",
    "\n",
    "\n",
    "На основании вышеизложенного можно говорить о том что наилучшим вариантом для решения поставленной задачи будет модель CatBoost"
   ]
  }
 ],
 "metadata": {
  "ExecuteTimeLog": [
   {
    "duration": 1403,
    "start_time": "2023-03-02T09:50:44.077Z"
   },
   {
    "duration": 1472,
    "start_time": "2023-03-02T09:51:30.120Z"
   },
   {
    "duration": 18,
    "start_time": "2023-03-02T09:51:46.269Z"
   },
   {
    "duration": 440,
    "start_time": "2023-03-02T09:53:59.118Z"
   },
   {
    "duration": 19,
    "start_time": "2023-03-02T09:54:58.215Z"
   },
   {
    "duration": 35,
    "start_time": "2023-03-02T09:55:28.185Z"
   },
   {
    "duration": 14,
    "start_time": "2023-03-02T09:55:55.744Z"
   },
   {
    "duration": 163,
    "start_time": "2023-03-02T09:55:57.747Z"
   },
   {
    "duration": 19,
    "start_time": "2023-03-02T09:56:01.824Z"
   },
   {
    "duration": 168,
    "start_time": "2023-03-02T09:56:04.311Z"
   },
   {
    "duration": 27,
    "start_time": "2023-03-02T09:56:48.786Z"
   },
   {
    "duration": 17,
    "start_time": "2023-03-02T09:56:53.125Z"
   },
   {
    "duration": 98,
    "start_time": "2023-03-02T09:57:15.251Z"
   },
   {
    "duration": 512,
    "start_time": "2023-03-02T09:58:10.709Z"
   },
   {
    "duration": 488,
    "start_time": "2023-03-02T09:58:14.536Z"
   },
   {
    "duration": 7,
    "start_time": "2023-03-02T10:02:54.919Z"
   },
   {
    "duration": 451,
    "start_time": "2023-03-02T10:02:57.051Z"
   },
   {
    "duration": 122,
    "start_time": "2023-03-02T10:03:00.762Z"
   },
   {
    "duration": 12,
    "start_time": "2023-03-02T10:03:03.963Z"
   },
   {
    "duration": 8,
    "start_time": "2023-03-02T10:03:20.471Z"
   },
   {
    "duration": 12,
    "start_time": "2023-03-02T10:03:26.072Z"
   },
   {
    "duration": 128,
    "start_time": "2023-03-02T10:03:44.811Z"
   },
   {
    "duration": 105,
    "start_time": "2023-03-02T10:03:48.976Z"
   },
   {
    "duration": 460,
    "start_time": "2023-03-02T10:03:51.918Z"
   },
   {
    "duration": 1617,
    "start_time": "2023-03-02T10:04:50.023Z"
   },
   {
    "duration": 1625,
    "start_time": "2023-03-02T10:05:07.057Z"
   },
   {
    "duration": 107,
    "start_time": "2023-03-02T10:05:15.070Z"
   },
   {
    "duration": 26,
    "start_time": "2023-03-02T10:05:18.216Z"
   },
   {
    "duration": 16,
    "start_time": "2023-03-02T10:05:29.281Z"
   },
   {
    "duration": 1709,
    "start_time": "2023-03-02T10:05:33.694Z"
   },
   {
    "duration": 168,
    "start_time": "2023-03-02T10:06:19.649Z"
   },
   {
    "duration": 174,
    "start_time": "2023-03-02T10:06:34.645Z"
   },
   {
    "duration": 342,
    "start_time": "2023-03-02T10:06:59.979Z"
   },
   {
    "duration": 776,
    "start_time": "2023-03-02T10:08:32.576Z"
   },
   {
    "duration": 351,
    "start_time": "2023-03-02T10:09:35.013Z"
   },
   {
    "duration": 414,
    "start_time": "2023-03-02T10:09:55.784Z"
   },
   {
    "duration": 623,
    "start_time": "2023-03-02T10:10:03.458Z"
   },
   {
    "duration": 48,
    "start_time": "2023-03-02T11:51:16.470Z"
   },
   {
    "duration": 1820,
    "start_time": "2023-03-02T11:51:26.449Z"
   },
   {
    "duration": 970,
    "start_time": "2023-03-02T11:51:28.271Z"
   },
   {
    "duration": 17,
    "start_time": "2023-03-02T11:51:29.243Z"
   },
   {
    "duration": 104,
    "start_time": "2023-03-02T11:51:29.262Z"
   },
   {
    "duration": 132,
    "start_time": "2023-03-02T11:51:29.368Z"
   },
   {
    "duration": 406,
    "start_time": "2023-03-02T11:51:29.501Z"
   },
   {
    "duration": 94,
    "start_time": "2023-03-02T11:51:29.913Z"
   },
   {
    "duration": 200,
    "start_time": "2023-03-02T11:51:48.871Z"
   },
   {
    "duration": 101,
    "start_time": "2023-03-02T11:52:04.653Z"
   },
   {
    "duration": 201,
    "start_time": "2023-03-02T11:59:41.285Z"
   },
   {
    "duration": 207,
    "start_time": "2023-03-02T12:00:26.266Z"
   },
   {
    "duration": 103,
    "start_time": "2023-03-02T12:02:44.272Z"
   },
   {
    "duration": 107,
    "start_time": "2023-03-02T12:03:03.088Z"
   },
   {
    "duration": 13,
    "start_time": "2023-03-02T12:12:53.953Z"
   },
   {
    "duration": 12,
    "start_time": "2023-03-02T12:13:04.073Z"
   },
   {
    "duration": 1386,
    "start_time": "2023-03-02T12:27:49.778Z"
   },
   {
    "duration": 108,
    "start_time": "2023-03-02T12:28:10.938Z"
   },
   {
    "duration": 102,
    "start_time": "2023-03-02T12:28:22.608Z"
   },
   {
    "duration": 82,
    "start_time": "2023-03-02T12:28:30.815Z"
   },
   {
    "duration": 76,
    "start_time": "2023-03-02T12:28:40.601Z"
   },
   {
    "duration": 120,
    "start_time": "2023-03-02T12:28:46.097Z"
   },
   {
    "duration": 113,
    "start_time": "2023-03-02T12:28:52.177Z"
   },
   {
    "duration": 107,
    "start_time": "2023-03-02T12:29:01.068Z"
   },
   {
    "duration": 83,
    "start_time": "2023-03-02T12:29:13.428Z"
   },
   {
    "duration": 109,
    "start_time": "2023-03-02T12:29:17.497Z"
   },
   {
    "duration": 74,
    "start_time": "2023-03-02T12:29:20.852Z"
   },
   {
    "duration": 1302,
    "start_time": "2023-03-02T12:29:28.994Z"
   },
   {
    "duration": 144,
    "start_time": "2023-03-02T12:29:39.413Z"
   },
   {
    "duration": 63,
    "start_time": "2023-03-02T12:29:59.213Z"
   },
   {
    "duration": 69,
    "start_time": "2023-03-02T12:30:10.640Z"
   },
   {
    "duration": 98,
    "start_time": "2023-03-02T12:30:15.541Z"
   },
   {
    "duration": 112,
    "start_time": "2023-03-02T12:30:23.512Z"
   },
   {
    "duration": 25,
    "start_time": "2023-03-02T12:34:15.325Z"
   },
   {
    "duration": 110,
    "start_time": "2023-03-02T12:34:50.932Z"
   },
   {
    "duration": 24,
    "start_time": "2023-03-02T12:36:18.707Z"
   },
   {
    "duration": 19,
    "start_time": "2023-03-02T12:36:33.059Z"
   },
   {
    "duration": 20,
    "start_time": "2023-03-02T12:39:53.436Z"
   },
   {
    "duration": 19,
    "start_time": "2023-03-02T12:40:03.076Z"
   },
   {
    "duration": 20,
    "start_time": "2023-03-02T12:40:12.059Z"
   },
   {
    "duration": 18,
    "start_time": "2023-03-02T12:40:48.944Z"
   },
   {
    "duration": 19,
    "start_time": "2023-03-02T12:40:57.308Z"
   },
   {
    "duration": 81,
    "start_time": "2023-03-02T12:48:27.586Z"
   },
   {
    "duration": 88,
    "start_time": "2023-03-02T12:48:39.459Z"
   },
   {
    "duration": 96,
    "start_time": "2023-03-02T12:48:50.075Z"
   },
   {
    "duration": 1370,
    "start_time": "2023-03-02T12:49:20.792Z"
   },
   {
    "duration": 741,
    "start_time": "2023-03-02T12:49:22.164Z"
   },
   {
    "duration": 18,
    "start_time": "2023-03-02T12:49:22.906Z"
   },
   {
    "duration": 125,
    "start_time": "2023-03-02T12:49:22.926Z"
   },
   {
    "duration": 100,
    "start_time": "2023-03-02T12:49:23.052Z"
   },
   {
    "duration": 117,
    "start_time": "2023-03-02T12:49:23.154Z"
   },
   {
    "duration": 22,
    "start_time": "2023-03-02T12:49:23.273Z"
   },
   {
    "duration": 33,
    "start_time": "2023-03-02T12:49:23.297Z"
   },
   {
    "duration": 88,
    "start_time": "2023-03-02T12:49:23.331Z"
   },
   {
    "duration": 94,
    "start_time": "2023-03-02T12:49:23.422Z"
   },
   {
    "duration": 2,
    "start_time": "2023-03-02T12:49:54.185Z"
   },
   {
    "duration": 78,
    "start_time": "2023-03-02T12:50:52.178Z"
   },
   {
    "duration": 15,
    "start_time": "2023-03-02T12:51:11.153Z"
   },
   {
    "duration": 17,
    "start_time": "2023-03-02T12:51:25.172Z"
   },
   {
    "duration": 118,
    "start_time": "2023-03-02T12:51:47.428Z"
   },
   {
    "duration": 20,
    "start_time": "2023-03-02T12:52:18.283Z"
   },
   {
    "duration": 19,
    "start_time": "2023-03-02T12:52:41.001Z"
   },
   {
    "duration": 19,
    "start_time": "2023-03-02T12:52:46.322Z"
   },
   {
    "duration": 21,
    "start_time": "2023-03-02T12:52:50.728Z"
   },
   {
    "duration": 20,
    "start_time": "2023-03-02T12:53:03.799Z"
   },
   {
    "duration": 23,
    "start_time": "2023-03-02T12:53:19.956Z"
   },
   {
    "duration": 26,
    "start_time": "2023-03-02T12:53:52.808Z"
   },
   {
    "duration": 18,
    "start_time": "2023-03-02T12:54:08.290Z"
   },
   {
    "duration": 19,
    "start_time": "2023-03-02T12:54:14.190Z"
   },
   {
    "duration": 26,
    "start_time": "2023-03-02T12:54:26.184Z"
   },
   {
    "duration": 22,
    "start_time": "2023-03-02T12:54:31.827Z"
   },
   {
    "duration": 18,
    "start_time": "2023-03-02T12:54:51.498Z"
   },
   {
    "duration": 26,
    "start_time": "2023-03-02T12:55:13.614Z"
   },
   {
    "duration": 20,
    "start_time": "2023-03-02T12:55:41.172Z"
   },
   {
    "duration": 19,
    "start_time": "2023-03-02T12:55:47.593Z"
   },
   {
    "duration": 5,
    "start_time": "2023-03-02T12:55:58.415Z"
   },
   {
    "duration": 24,
    "start_time": "2023-03-02T12:56:01.902Z"
   },
   {
    "duration": 64,
    "start_time": "2023-03-02T12:56:42.160Z"
   },
   {
    "duration": 35,
    "start_time": "2023-03-02T12:56:50.701Z"
   },
   {
    "duration": 34,
    "start_time": "2023-03-02T12:58:23.353Z"
   },
   {
    "duration": 28,
    "start_time": "2023-03-02T12:58:55.283Z"
   },
   {
    "duration": 25,
    "start_time": "2023-03-02T12:59:08.698Z"
   },
   {
    "duration": 23,
    "start_time": "2023-03-02T12:59:19.627Z"
   },
   {
    "duration": 29,
    "start_time": "2023-03-02T12:59:27.273Z"
   },
   {
    "duration": 35,
    "start_time": "2023-03-02T12:59:31.091Z"
   },
   {
    "duration": 34,
    "start_time": "2023-03-02T12:59:54.386Z"
   },
   {
    "duration": 28,
    "start_time": "2023-03-02T13:00:30.005Z"
   },
   {
    "duration": 25,
    "start_time": "2023-03-02T13:00:34.597Z"
   },
   {
    "duration": 45,
    "start_time": "2023-03-02T13:00:41.003Z"
   },
   {
    "duration": 26,
    "start_time": "2023-03-02T13:01:04.367Z"
   },
   {
    "duration": 26,
    "start_time": "2023-03-02T13:01:09.660Z"
   },
   {
    "duration": 35,
    "start_time": "2023-03-02T13:01:26.508Z"
   },
   {
    "duration": 72,
    "start_time": "2023-03-02T13:05:42.612Z"
   },
   {
    "duration": 97,
    "start_time": "2023-03-02T13:06:01.396Z"
   },
   {
    "duration": 85,
    "start_time": "2023-03-02T13:06:15.540Z"
   },
   {
    "duration": 81,
    "start_time": "2023-03-02T13:06:20.984Z"
   },
   {
    "duration": 35,
    "start_time": "2023-03-02T13:07:36.730Z"
   },
   {
    "duration": 33,
    "start_time": "2023-03-02T13:07:44.525Z"
   },
   {
    "duration": 67,
    "start_time": "2023-03-02T13:07:57.444Z"
   },
   {
    "duration": 88,
    "start_time": "2023-03-02T13:08:15.389Z"
   },
   {
    "duration": 79,
    "start_time": "2023-03-02T13:09:12.726Z"
   },
   {
    "duration": 88,
    "start_time": "2023-03-02T13:09:17.686Z"
   },
   {
    "duration": 88,
    "start_time": "2023-03-02T13:09:24.205Z"
   },
   {
    "duration": 191,
    "start_time": "2023-03-02T13:10:02.373Z"
   },
   {
    "duration": 7,
    "start_time": "2023-03-02T13:12:00.595Z"
   },
   {
    "duration": 12,
    "start_time": "2023-03-02T13:12:13.221Z"
   },
   {
    "duration": 10,
    "start_time": "2023-03-02T13:12:51.065Z"
   },
   {
    "duration": 12,
    "start_time": "2023-03-02T13:13:05.193Z"
   },
   {
    "duration": 13,
    "start_time": "2023-03-02T13:13:11.330Z"
   },
   {
    "duration": 9,
    "start_time": "2023-03-02T13:13:14.296Z"
   },
   {
    "duration": 10,
    "start_time": "2023-03-02T13:15:57.058Z"
   },
   {
    "duration": 9,
    "start_time": "2023-03-02T13:16:22.106Z"
   },
   {
    "duration": 36,
    "start_time": "2023-03-02T13:16:32.659Z"
   },
   {
    "duration": 20,
    "start_time": "2023-03-02T13:16:46.276Z"
   },
   {
    "duration": 31,
    "start_time": "2023-03-02T13:17:14.974Z"
   },
   {
    "duration": 15,
    "start_time": "2023-03-02T13:20:18.223Z"
   },
   {
    "duration": 31,
    "start_time": "2023-03-02T13:20:36.331Z"
   },
   {
    "duration": 207,
    "start_time": "2023-03-02T13:20:48.763Z"
   },
   {
    "duration": 52,
    "start_time": "2023-03-02T13:21:19.002Z"
   },
   {
    "duration": 70,
    "start_time": "2023-03-02T13:23:18.607Z"
   },
   {
    "duration": 90,
    "start_time": "2023-03-02T13:23:38.522Z"
   },
   {
    "duration": 17,
    "start_time": "2023-03-02T13:23:53.495Z"
   },
   {
    "duration": 28,
    "start_time": "2023-03-02T13:24:05.049Z"
   },
   {
    "duration": 16,
    "start_time": "2023-03-02T13:24:11.508Z"
   },
   {
    "duration": 1301,
    "start_time": "2023-03-02T13:24:19.448Z"
   },
   {
    "duration": 721,
    "start_time": "2023-03-02T13:24:20.751Z"
   },
   {
    "duration": 15,
    "start_time": "2023-03-02T13:24:21.473Z"
   },
   {
    "duration": 117,
    "start_time": "2023-03-02T13:24:21.491Z"
   },
   {
    "duration": 87,
    "start_time": "2023-03-02T13:24:21.614Z"
   },
   {
    "duration": 106,
    "start_time": "2023-03-02T13:24:21.714Z"
   },
   {
    "duration": 21,
    "start_time": "2023-03-02T13:24:21.822Z"
   },
   {
    "duration": 21,
    "start_time": "2023-03-02T13:24:21.844Z"
   },
   {
    "duration": 89,
    "start_time": "2023-03-02T13:24:21.866Z"
   },
   {
    "duration": 14,
    "start_time": "2023-03-02T13:24:21.957Z"
   },
   {
    "duration": 42,
    "start_time": "2023-03-02T13:24:21.972Z"
   },
   {
    "duration": 18,
    "start_time": "2023-03-02T13:24:45.064Z"
   },
   {
    "duration": 36,
    "start_time": "2023-03-02T13:26:00.123Z"
   },
   {
    "duration": 1375,
    "start_time": "2023-03-02T13:27:52.775Z"
   },
   {
    "duration": 735,
    "start_time": "2023-03-02T13:27:54.152Z"
   },
   {
    "duration": 16,
    "start_time": "2023-03-02T13:27:54.889Z"
   },
   {
    "duration": 110,
    "start_time": "2023-03-02T13:27:54.914Z"
   },
   {
    "duration": 142,
    "start_time": "2023-03-02T13:27:55.026Z"
   },
   {
    "duration": 119,
    "start_time": "2023-03-02T13:27:55.170Z"
   },
   {
    "duration": 30,
    "start_time": "2023-03-02T13:27:55.291Z"
   },
   {
    "duration": 21,
    "start_time": "2023-03-02T13:27:55.323Z"
   },
   {
    "duration": 97,
    "start_time": "2023-03-02T13:27:55.346Z"
   },
   {
    "duration": 17,
    "start_time": "2023-03-02T13:27:55.444Z"
   },
   {
    "duration": 54,
    "start_time": "2023-03-02T13:27:55.462Z"
   },
   {
    "duration": 34,
    "start_time": "2023-03-02T13:27:55.517Z"
   },
   {
    "duration": 9,
    "start_time": "2023-03-02T13:28:12.327Z"
   },
   {
    "duration": 1394,
    "start_time": "2023-03-02T13:28:20.940Z"
   },
   {
    "duration": 750,
    "start_time": "2023-03-02T13:28:22.336Z"
   },
   {
    "duration": 15,
    "start_time": "2023-03-02T13:28:23.088Z"
   },
   {
    "duration": 118,
    "start_time": "2023-03-02T13:28:23.113Z"
   },
   {
    "duration": 99,
    "start_time": "2023-03-02T13:28:23.235Z"
   },
   {
    "duration": 109,
    "start_time": "2023-03-02T13:28:23.336Z"
   },
   {
    "duration": 20,
    "start_time": "2023-03-02T13:28:23.446Z"
   },
   {
    "duration": 17,
    "start_time": "2023-03-02T13:28:23.468Z"
   },
   {
    "duration": 109,
    "start_time": "2023-03-02T13:28:23.487Z"
   },
   {
    "duration": 25,
    "start_time": "2023-03-02T13:28:23.597Z"
   },
   {
    "duration": 33,
    "start_time": "2023-03-02T13:28:23.624Z"
   },
   {
    "duration": 34,
    "start_time": "2023-03-02T13:28:23.659Z"
   },
   {
    "duration": 37,
    "start_time": "2023-03-02T13:28:35.055Z"
   },
   {
    "duration": 1397,
    "start_time": "2023-03-02T13:29:52.341Z"
   },
   {
    "duration": 729,
    "start_time": "2023-03-02T13:29:53.740Z"
   },
   {
    "duration": 16,
    "start_time": "2023-03-02T13:29:54.470Z"
   },
   {
    "duration": 122,
    "start_time": "2023-03-02T13:29:54.488Z"
   },
   {
    "duration": 102,
    "start_time": "2023-03-02T13:29:54.615Z"
   },
   {
    "duration": 109,
    "start_time": "2023-03-02T13:29:54.719Z"
   },
   {
    "duration": 20,
    "start_time": "2023-03-02T13:29:54.830Z"
   },
   {
    "duration": 15,
    "start_time": "2023-03-02T13:29:54.851Z"
   },
   {
    "duration": 96,
    "start_time": "2023-03-02T13:29:54.868Z"
   },
   {
    "duration": 16,
    "start_time": "2023-03-02T13:29:54.965Z"
   },
   {
    "duration": 2,
    "start_time": "2023-03-02T13:29:54.982Z"
   },
   {
    "duration": 55,
    "start_time": "2023-03-02T13:29:54.986Z"
   },
   {
    "duration": 22,
    "start_time": "2023-03-02T13:30:10.403Z"
   },
   {
    "duration": 42,
    "start_time": "2023-03-02T13:30:16.211Z"
   },
   {
    "duration": 1451,
    "start_time": "2023-03-02T13:31:36.078Z"
   },
   {
    "duration": 776,
    "start_time": "2023-03-02T13:31:37.532Z"
   },
   {
    "duration": 18,
    "start_time": "2023-03-02T13:31:38.309Z"
   },
   {
    "duration": 127,
    "start_time": "2023-03-02T13:31:38.329Z"
   },
   {
    "duration": 102,
    "start_time": "2023-03-02T13:31:38.458Z"
   },
   {
    "duration": 123,
    "start_time": "2023-03-02T13:31:38.562Z"
   },
   {
    "duration": 38,
    "start_time": "2023-03-02T13:31:38.686Z"
   },
   {
    "duration": 19,
    "start_time": "2023-03-02T13:31:38.726Z"
   },
   {
    "duration": 95,
    "start_time": "2023-03-02T13:31:38.747Z"
   },
   {
    "duration": 15,
    "start_time": "2023-03-02T13:31:38.844Z"
   },
   {
    "duration": 32,
    "start_time": "2023-03-02T13:31:38.861Z"
   },
   {
    "duration": 37,
    "start_time": "2023-03-02T13:31:38.914Z"
   },
   {
    "duration": 6,
    "start_time": "2023-03-02T13:32:08.501Z"
   },
   {
    "duration": 45,
    "start_time": "2023-03-02T13:32:09.129Z"
   },
   {
    "duration": 1400,
    "start_time": "2023-03-02T13:32:22.744Z"
   },
   {
    "duration": 740,
    "start_time": "2023-03-02T13:32:24.146Z"
   },
   {
    "duration": 15,
    "start_time": "2023-03-02T13:32:24.888Z"
   },
   {
    "duration": 154,
    "start_time": "2023-03-02T13:32:24.914Z"
   },
   {
    "duration": 103,
    "start_time": "2023-03-02T13:32:25.070Z"
   },
   {
    "duration": 118,
    "start_time": "2023-03-02T13:32:25.176Z"
   },
   {
    "duration": 34,
    "start_time": "2023-03-02T13:32:25.296Z"
   },
   {
    "duration": 33,
    "start_time": "2023-03-02T13:32:25.332Z"
   },
   {
    "duration": 87,
    "start_time": "2023-03-02T13:32:25.366Z"
   },
   {
    "duration": 15,
    "start_time": "2023-03-02T13:32:25.456Z"
   },
   {
    "duration": 21,
    "start_time": "2023-03-02T13:32:25.472Z"
   },
   {
    "duration": 52,
    "start_time": "2023-03-02T13:32:25.495Z"
   },
   {
    "duration": 1403,
    "start_time": "2023-03-02T13:33:26.381Z"
   },
   {
    "duration": 802,
    "start_time": "2023-03-02T13:33:27.786Z"
   },
   {
    "duration": 26,
    "start_time": "2023-03-02T13:33:28.589Z"
   },
   {
    "duration": 130,
    "start_time": "2023-03-02T13:33:28.617Z"
   },
   {
    "duration": 144,
    "start_time": "2023-03-02T13:33:28.749Z"
   },
   {
    "duration": 133,
    "start_time": "2023-03-02T13:33:28.894Z"
   },
   {
    "duration": 32,
    "start_time": "2023-03-02T13:33:29.029Z"
   },
   {
    "duration": 35,
    "start_time": "2023-03-02T13:33:29.063Z"
   },
   {
    "duration": 130,
    "start_time": "2023-03-02T13:33:29.101Z"
   },
   {
    "duration": 18,
    "start_time": "2023-03-02T13:33:29.233Z"
   },
   {
    "duration": 26,
    "start_time": "2023-03-02T13:33:29.253Z"
   },
   {
    "duration": 58,
    "start_time": "2023-03-02T13:33:29.281Z"
   },
   {
    "duration": 1416,
    "start_time": "2023-03-02T13:34:06.471Z"
   },
   {
    "duration": 776,
    "start_time": "2023-03-02T13:34:07.889Z"
   },
   {
    "duration": 17,
    "start_time": "2023-03-02T13:34:08.667Z"
   },
   {
    "duration": 129,
    "start_time": "2023-03-02T13:34:08.685Z"
   },
   {
    "duration": 108,
    "start_time": "2023-03-02T13:34:08.817Z"
   },
   {
    "duration": 118,
    "start_time": "2023-03-02T13:34:08.927Z"
   },
   {
    "duration": 23,
    "start_time": "2023-03-02T13:34:09.046Z"
   },
   {
    "duration": 25,
    "start_time": "2023-03-02T13:34:09.070Z"
   },
   {
    "duration": 105,
    "start_time": "2023-03-02T13:34:09.097Z"
   },
   {
    "duration": 19,
    "start_time": "2023-03-02T13:34:09.204Z"
   },
   {
    "duration": 25,
    "start_time": "2023-03-02T13:34:09.224Z"
   },
   {
    "duration": 35,
    "start_time": "2023-03-02T13:34:09.250Z"
   },
   {
    "duration": 15,
    "start_time": "2023-03-02T13:34:39.431Z"
   },
   {
    "duration": 1381,
    "start_time": "2023-03-02T13:39:30.237Z"
   },
   {
    "duration": 758,
    "start_time": "2023-03-02T13:39:31.620Z"
   },
   {
    "duration": 15,
    "start_time": "2023-03-02T13:39:32.380Z"
   },
   {
    "duration": 117,
    "start_time": "2023-03-02T13:39:32.396Z"
   },
   {
    "duration": 90,
    "start_time": "2023-03-02T13:39:32.515Z"
   },
   {
    "duration": 113,
    "start_time": "2023-03-02T13:39:32.606Z"
   },
   {
    "duration": 18,
    "start_time": "2023-03-02T13:39:32.721Z"
   },
   {
    "duration": 22,
    "start_time": "2023-03-02T13:39:32.740Z"
   },
   {
    "duration": 86,
    "start_time": "2023-03-02T13:39:32.764Z"
   },
   {
    "duration": 14,
    "start_time": "2023-03-02T13:39:32.851Z"
   },
   {
    "duration": 24,
    "start_time": "2023-03-02T13:39:32.866Z"
   },
   {
    "duration": 53,
    "start_time": "2023-03-02T13:39:32.892Z"
   },
   {
    "duration": 11,
    "start_time": "2023-03-02T13:39:32.947Z"
   },
   {
    "duration": 117,
    "start_time": "2023-03-02T13:40:54.794Z"
   },
   {
    "duration": 28,
    "start_time": "2023-03-02T13:41:02.429Z"
   },
   {
    "duration": 149,
    "start_time": "2023-03-02T13:41:10.987Z"
   },
   {
    "duration": 1399,
    "start_time": "2023-03-02T13:42:15.881Z"
   },
   {
    "duration": 771,
    "start_time": "2023-03-02T13:42:17.282Z"
   },
   {
    "duration": 17,
    "start_time": "2023-03-02T13:42:18.054Z"
   },
   {
    "duration": 139,
    "start_time": "2023-03-02T13:42:18.073Z"
   },
   {
    "duration": 89,
    "start_time": "2023-03-02T13:42:18.214Z"
   },
   {
    "duration": 120,
    "start_time": "2023-03-02T13:42:18.314Z"
   },
   {
    "duration": 26,
    "start_time": "2023-03-02T13:42:18.435Z"
   },
   {
    "duration": 17,
    "start_time": "2023-03-02T13:42:18.463Z"
   },
   {
    "duration": 102,
    "start_time": "2023-03-02T13:42:18.481Z"
   },
   {
    "duration": 14,
    "start_time": "2023-03-02T13:42:18.585Z"
   },
   {
    "duration": 140,
    "start_time": "2023-03-02T13:42:18.600Z"
   },
   {
    "duration": 24,
    "start_time": "2023-03-02T13:42:18.742Z"
   },
   {
    "duration": 136,
    "start_time": "2023-03-02T13:42:18.768Z"
   },
   {
    "duration": 19,
    "start_time": "2023-03-02T13:42:18.914Z"
   },
   {
    "duration": 215,
    "start_time": "2023-03-02T13:42:44.079Z"
   },
   {
    "duration": 109,
    "start_time": "2023-03-02T13:42:58.106Z"
   },
   {
    "duration": 176,
    "start_time": "2023-03-02T13:43:07.602Z"
   },
   {
    "duration": 1345,
    "start_time": "2023-03-02T13:47:53.634Z"
   },
   {
    "duration": 810,
    "start_time": "2023-03-02T13:47:54.981Z"
   },
   {
    "duration": 31,
    "start_time": "2023-03-02T13:47:55.792Z"
   },
   {
    "duration": 117,
    "start_time": "2023-03-02T13:47:55.828Z"
   },
   {
    "duration": 95,
    "start_time": "2023-03-02T13:47:55.948Z"
   },
   {
    "duration": 114,
    "start_time": "2023-03-02T13:47:56.044Z"
   },
   {
    "duration": 21,
    "start_time": "2023-03-02T13:47:56.160Z"
   },
   {
    "duration": 41,
    "start_time": "2023-03-02T13:47:56.182Z"
   },
   {
    "duration": 121,
    "start_time": "2023-03-02T13:47:56.229Z"
   },
   {
    "duration": 16,
    "start_time": "2023-03-02T13:47:56.352Z"
   },
   {
    "duration": 159,
    "start_time": "2023-03-02T13:47:56.369Z"
   },
   {
    "duration": 3,
    "start_time": "2023-03-02T13:47:56.529Z"
   },
   {
    "duration": 27,
    "start_time": "2023-03-02T13:47:56.533Z"
   },
   {
    "duration": 117,
    "start_time": "2023-03-02T13:47:56.563Z"
   },
   {
    "duration": 11,
    "start_time": "2023-03-02T13:47:56.681Z"
   },
   {
    "duration": 9,
    "start_time": "2023-03-02T13:48:55.618Z"
   },
   {
    "duration": 110,
    "start_time": "2023-03-02T13:49:28.828Z"
   },
   {
    "duration": 68,
    "start_time": "2023-03-02T13:49:46.721Z"
   },
   {
    "duration": 1439,
    "start_time": "2023-03-02T13:50:04.672Z"
   },
   {
    "duration": 797,
    "start_time": "2023-03-02T13:50:06.112Z"
   },
   {
    "duration": 26,
    "start_time": "2023-03-02T13:50:06.910Z"
   },
   {
    "duration": 118,
    "start_time": "2023-03-02T13:50:06.939Z"
   },
   {
    "duration": 136,
    "start_time": "2023-03-02T13:50:07.059Z"
   },
   {
    "duration": 127,
    "start_time": "2023-03-02T13:50:07.197Z"
   },
   {
    "duration": 20,
    "start_time": "2023-03-02T13:50:07.326Z"
   },
   {
    "duration": 18,
    "start_time": "2023-03-02T13:50:07.348Z"
   },
   {
    "duration": 89,
    "start_time": "2023-03-02T13:50:07.368Z"
   },
   {
    "duration": 15,
    "start_time": "2023-03-02T13:50:07.459Z"
   },
   {
    "duration": 164,
    "start_time": "2023-03-02T13:50:07.476Z"
   },
   {
    "duration": 3,
    "start_time": "2023-03-02T13:50:07.643Z"
   },
   {
    "duration": 107,
    "start_time": "2023-03-02T13:50:07.648Z"
   },
   {
    "duration": 143,
    "start_time": "2023-03-02T13:50:07.756Z"
   },
   {
    "duration": 26,
    "start_time": "2023-03-02T13:50:07.901Z"
   },
   {
    "duration": 1410,
    "start_time": "2023-03-02T13:54:13.924Z"
   },
   {
    "duration": 803,
    "start_time": "2023-03-02T13:54:15.337Z"
   },
   {
    "duration": 15,
    "start_time": "2023-03-02T13:54:16.142Z"
   },
   {
    "duration": 129,
    "start_time": "2023-03-02T13:54:16.159Z"
   },
   {
    "duration": 100,
    "start_time": "2023-03-02T13:54:16.290Z"
   },
   {
    "duration": 105,
    "start_time": "2023-03-02T13:54:16.391Z"
   },
   {
    "duration": 24,
    "start_time": "2023-03-02T13:54:16.498Z"
   },
   {
    "duration": 18,
    "start_time": "2023-03-02T13:54:16.524Z"
   },
   {
    "duration": 93,
    "start_time": "2023-03-02T13:54:16.544Z"
   },
   {
    "duration": 14,
    "start_time": "2023-03-02T13:54:16.639Z"
   },
   {
    "duration": 135,
    "start_time": "2023-03-02T13:54:16.655Z"
   },
   {
    "duration": 3,
    "start_time": "2023-03-02T13:54:16.792Z"
   },
   {
    "duration": 118,
    "start_time": "2023-03-02T13:54:16.796Z"
   },
   {
    "duration": 128,
    "start_time": "2023-03-02T13:54:16.916Z"
   },
   {
    "duration": 11,
    "start_time": "2023-03-02T13:54:17.046Z"
   },
   {
    "duration": 105,
    "start_time": "2023-03-02T13:58:16.666Z"
   },
   {
    "duration": 158,
    "start_time": "2023-03-02T14:00:18.631Z"
   },
   {
    "duration": 235,
    "start_time": "2023-03-02T14:00:25.586Z"
   },
   {
    "duration": 251,
    "start_time": "2023-03-02T14:01:16.929Z"
   },
   {
    "duration": 159,
    "start_time": "2023-03-02T14:01:40.192Z"
   },
   {
    "duration": 177,
    "start_time": "2023-03-02T14:02:31.782Z"
   },
   {
    "duration": 156,
    "start_time": "2023-03-02T14:02:37.575Z"
   },
   {
    "duration": 3,
    "start_time": "2023-03-02T14:06:44.057Z"
   },
   {
    "duration": 1387,
    "start_time": "2023-03-02T14:07:34.279Z"
   },
   {
    "duration": 782,
    "start_time": "2023-03-02T14:07:35.668Z"
   },
   {
    "duration": 17,
    "start_time": "2023-03-02T14:07:36.451Z"
   },
   {
    "duration": 117,
    "start_time": "2023-03-02T14:07:36.469Z"
   },
   {
    "duration": 114,
    "start_time": "2023-03-02T14:07:36.589Z"
   },
   {
    "duration": 140,
    "start_time": "2023-03-02T14:07:36.704Z"
   },
   {
    "duration": 191,
    "start_time": "2023-03-02T14:07:36.845Z"
   },
   {
    "duration": 20,
    "start_time": "2023-03-02T14:07:37.037Z"
   },
   {
    "duration": 18,
    "start_time": "2023-03-02T14:07:37.059Z"
   },
   {
    "duration": 97,
    "start_time": "2023-03-02T14:07:37.079Z"
   },
   {
    "duration": 3,
    "start_time": "2023-03-02T14:07:37.178Z"
   },
   {
    "duration": 103,
    "start_time": "2023-03-02T14:07:37.183Z"
   },
   {
    "duration": 134,
    "start_time": "2023-03-02T14:07:37.287Z"
   },
   {
    "duration": 13,
    "start_time": "2023-03-02T14:07:37.423Z"
   },
   {
    "duration": 1328,
    "start_time": "2023-03-02T14:08:03.824Z"
   },
   {
    "duration": 773,
    "start_time": "2023-03-02T14:08:05.154Z"
   },
   {
    "duration": 14,
    "start_time": "2023-03-02T14:08:05.929Z"
   },
   {
    "duration": 153,
    "start_time": "2023-03-02T14:08:05.945Z"
   },
   {
    "duration": 127,
    "start_time": "2023-03-02T14:08:06.101Z"
   },
   {
    "duration": 97,
    "start_time": "2023-03-02T14:08:06.230Z"
   },
   {
    "duration": 186,
    "start_time": "2023-03-02T14:08:06.329Z"
   },
   {
    "duration": 22,
    "start_time": "2023-03-02T14:08:06.517Z"
   },
   {
    "duration": 16,
    "start_time": "2023-03-02T14:08:06.541Z"
   },
   {
    "duration": 97,
    "start_time": "2023-03-02T14:08:06.558Z"
   },
   {
    "duration": 3,
    "start_time": "2023-03-02T14:08:06.656Z"
   },
   {
    "duration": 100,
    "start_time": "2023-03-02T14:08:06.661Z"
   },
   {
    "duration": 122,
    "start_time": "2023-03-02T14:08:06.763Z"
   },
   {
    "duration": 11,
    "start_time": "2023-03-02T14:08:06.888Z"
   },
   {
    "duration": 18,
    "start_time": "2023-03-02T14:08:39.079Z"
   },
   {
    "duration": 112,
    "start_time": "2023-03-02T14:12:39.213Z"
   },
   {
    "duration": 343,
    "start_time": "2023-03-02T14:13:00.190Z"
   },
   {
    "duration": 318,
    "start_time": "2023-03-02T14:13:04.706Z"
   },
   {
    "duration": 12,
    "start_time": "2023-03-02T14:13:15.698Z"
   },
   {
    "duration": 15,
    "start_time": "2023-03-02T14:14:09.112Z"
   },
   {
    "duration": 312,
    "start_time": "2023-03-02T14:14:11.653Z"
   },
   {
    "duration": 654,
    "start_time": "2023-03-02T14:14:31.533Z"
   },
   {
    "duration": 624,
    "start_time": "2023-03-02T14:15:44.080Z"
   },
   {
    "duration": 131,
    "start_time": "2023-03-02T14:19:12.507Z"
   },
   {
    "duration": 180,
    "start_time": "2023-03-02T14:20:23.481Z"
   },
   {
    "duration": 242,
    "start_time": "2023-03-02T14:20:32.041Z"
   },
   {
    "duration": 146,
    "start_time": "2023-03-02T14:20:50.542Z"
   },
   {
    "duration": 9,
    "start_time": "2023-03-02T14:21:20.980Z"
   },
   {
    "duration": 10,
    "start_time": "2023-03-02T14:21:40.367Z"
   },
   {
    "duration": 174,
    "start_time": "2023-03-02T14:21:44.227Z"
   },
   {
    "duration": 163,
    "start_time": "2023-03-02T14:22:22.151Z"
   },
   {
    "duration": 182,
    "start_time": "2023-03-02T14:22:31.113Z"
   },
   {
    "duration": 132,
    "start_time": "2023-03-02T14:22:48.994Z"
   },
   {
    "duration": 4,
    "start_time": "2023-03-02T14:25:35.366Z"
   },
   {
    "duration": 88,
    "start_time": "2023-03-02T14:25:36.483Z"
   },
   {
    "duration": 116,
    "start_time": "2023-03-02T14:25:55.753Z"
   },
   {
    "duration": 181,
    "start_time": "2023-03-02T14:27:15.108Z"
   },
   {
    "duration": 138,
    "start_time": "2023-03-02T14:27:48.392Z"
   },
   {
    "duration": 5,
    "start_time": "2023-03-02T14:39:23.277Z"
   },
   {
    "duration": 11,
    "start_time": "2023-03-02T14:40:53.621Z"
   },
   {
    "duration": 24,
    "start_time": "2023-03-02T14:41:20.960Z"
   },
   {
    "duration": 20,
    "start_time": "2023-03-02T14:41:27.607Z"
   },
   {
    "duration": 9,
    "start_time": "2023-03-02T14:42:08.951Z"
   },
   {
    "duration": 4,
    "start_time": "2023-03-02T14:42:23.588Z"
   },
   {
    "duration": 196,
    "start_time": "2023-03-02T14:42:33.045Z"
   },
   {
    "duration": 3,
    "start_time": "2023-03-02T14:44:29.787Z"
   },
   {
    "duration": 184,
    "start_time": "2023-03-02T14:44:44.972Z"
   },
   {
    "duration": 9,
    "start_time": "2023-03-02T14:47:17.312Z"
   },
   {
    "duration": 96,
    "start_time": "2023-03-02T14:48:35.306Z"
   },
   {
    "duration": 11,
    "start_time": "2023-03-02T14:48:35.666Z"
   },
   {
    "duration": 55,
    "start_time": "2023-03-02T14:51:26.011Z"
   },
   {
    "duration": 445,
    "start_time": "2023-03-02T14:51:32.620Z"
   },
   {
    "duration": 1988,
    "start_time": "2023-03-02T14:51:50.510Z"
   },
   {
    "duration": 4,
    "start_time": "2023-03-02T14:51:53.206Z"
   },
   {
    "duration": 12,
    "start_time": "2023-03-02T14:52:00.811Z"
   },
   {
    "duration": 4,
    "start_time": "2023-03-02T14:52:06.888Z"
   },
   {
    "duration": 1382,
    "start_time": "2023-03-02T14:52:07.953Z"
   },
   {
    "duration": 26,
    "start_time": "2023-03-02T14:52:27.116Z"
   },
   {
    "duration": 1419,
    "start_time": "2023-03-02T14:53:00.483Z"
   },
   {
    "duration": 799,
    "start_time": "2023-03-02T14:53:01.905Z"
   },
   {
    "duration": 26,
    "start_time": "2023-03-02T14:53:02.706Z"
   },
   {
    "duration": 118,
    "start_time": "2023-03-02T14:53:02.733Z"
   },
   {
    "duration": 115,
    "start_time": "2023-03-02T14:53:02.854Z"
   },
   {
    "duration": 102,
    "start_time": "2023-03-02T14:53:02.970Z"
   },
   {
    "duration": 199,
    "start_time": "2023-03-02T14:53:03.073Z"
   },
   {
    "duration": 131,
    "start_time": "2023-03-02T14:53:03.274Z"
   },
   {
    "duration": 26,
    "start_time": "2023-03-02T14:53:03.406Z"
   },
   {
    "duration": 22,
    "start_time": "2023-03-02T14:53:03.434Z"
   },
   {
    "duration": 93,
    "start_time": "2023-03-02T14:53:03.457Z"
   },
   {
    "duration": 3,
    "start_time": "2023-03-02T14:53:03.551Z"
   },
   {
    "duration": 122,
    "start_time": "2023-03-02T14:53:03.556Z"
   },
   {
    "duration": 143,
    "start_time": "2023-03-02T14:53:03.681Z"
   },
   {
    "duration": 5,
    "start_time": "2023-03-02T14:53:03.826Z"
   },
   {
    "duration": 108,
    "start_time": "2023-03-02T14:53:03.833Z"
   },
   {
    "duration": 137,
    "start_time": "2023-03-02T14:53:03.943Z"
   },
   {
    "duration": 44,
    "start_time": "2023-03-02T14:53:04.081Z"
   },
   {
    "duration": 185,
    "start_time": "2023-03-02T14:53:04.127Z"
   },
   {
    "duration": 2124,
    "start_time": "2023-03-02T14:53:04.314Z"
   },
   {
    "duration": 5,
    "start_time": "2023-03-02T14:53:06.440Z"
   },
   {
    "duration": 20,
    "start_time": "2023-03-02T14:53:06.446Z"
   },
   {
    "duration": 268,
    "start_time": "2023-03-02T14:53:06.467Z"
   },
   {
    "duration": 5,
    "start_time": "2023-03-02T14:53:06.737Z"
   },
   {
    "duration": 1501,
    "start_time": "2023-03-02T14:53:06.744Z"
   },
   {
    "duration": 22,
    "start_time": "2023-03-02T14:53:08.246Z"
   },
   {
    "duration": 11,
    "start_time": "2023-03-02T14:55:22.913Z"
   },
   {
    "duration": 16,
    "start_time": "2023-03-02T14:55:33.329Z"
   },
   {
    "duration": 50,
    "start_time": "2023-03-02T14:56:48.681Z"
   },
   {
    "duration": 1369,
    "start_time": "2023-03-02T14:56:54.428Z"
   },
   {
    "duration": 847,
    "start_time": "2023-03-02T14:56:55.799Z"
   },
   {
    "duration": 15,
    "start_time": "2023-03-02T14:56:56.648Z"
   },
   {
    "duration": 127,
    "start_time": "2023-03-02T14:56:56.664Z"
   },
   {
    "duration": 133,
    "start_time": "2023-03-02T14:56:56.793Z"
   },
   {
    "duration": 124,
    "start_time": "2023-03-02T14:56:56.928Z"
   },
   {
    "duration": 190,
    "start_time": "2023-03-02T14:56:57.054Z"
   },
   {
    "duration": 119,
    "start_time": "2023-03-02T14:56:57.246Z"
   },
   {
    "duration": 30,
    "start_time": "2023-03-02T14:56:57.367Z"
   },
   {
    "duration": 30,
    "start_time": "2023-03-02T14:56:57.398Z"
   },
   {
    "duration": 96,
    "start_time": "2023-03-02T14:56:57.429Z"
   },
   {
    "duration": 3,
    "start_time": "2023-03-02T14:56:57.527Z"
   },
   {
    "duration": 110,
    "start_time": "2023-03-02T14:56:57.531Z"
   },
   {
    "duration": 138,
    "start_time": "2023-03-02T14:56:57.643Z"
   },
   {
    "duration": 3,
    "start_time": "2023-03-02T14:56:57.782Z"
   },
   {
    "duration": 110,
    "start_time": "2023-03-02T14:56:57.786Z"
   },
   {
    "duration": 140,
    "start_time": "2023-03-02T14:56:57.898Z"
   },
   {
    "duration": 29,
    "start_time": "2023-03-02T14:56:58.040Z"
   },
   {
    "duration": 22,
    "start_time": "2023-03-02T14:56:58.070Z"
   },
   {
    "duration": 129,
    "start_time": "2023-03-02T14:56:58.094Z"
   },
   {
    "duration": 374,
    "start_time": "2023-03-02T14:56:58.226Z"
   },
   {
    "duration": 9,
    "start_time": "2023-03-02T14:56:58.602Z"
   },
   {
    "duration": 26,
    "start_time": "2023-03-02T14:56:58.613Z"
   },
   {
    "duration": 224,
    "start_time": "2023-03-02T14:56:58.641Z"
   },
   {
    "duration": 4,
    "start_time": "2023-03-02T14:56:58.867Z"
   },
   {
    "duration": 654,
    "start_time": "2023-03-02T14:56:58.872Z"
   },
   {
    "duration": 13,
    "start_time": "2023-03-02T14:56:59.527Z"
   },
   {
    "duration": 4,
    "start_time": "2023-03-02T15:02:23.011Z"
   },
   {
    "duration": 146,
    "start_time": "2023-03-02T15:02:23.567Z"
   },
   {
    "duration": 4,
    "start_time": "2023-03-02T15:02:28.782Z"
   },
   {
    "duration": 480,
    "start_time": "2023-03-02T15:02:29.475Z"
   },
   {
    "duration": 13,
    "start_time": "2023-03-02T15:02:40.055Z"
   },
   {
    "duration": 282,
    "start_time": "2023-03-02T15:04:44.932Z"
   },
   {
    "duration": 1569,
    "start_time": "2023-03-02T15:04:49.499Z"
   },
   {
    "duration": 808,
    "start_time": "2023-03-02T15:04:51.070Z"
   },
   {
    "duration": 17,
    "start_time": "2023-03-02T15:04:51.879Z"
   },
   {
    "duration": 133,
    "start_time": "2023-03-02T15:04:51.898Z"
   },
   {
    "duration": 116,
    "start_time": "2023-03-02T15:04:52.033Z"
   },
   {
    "duration": 99,
    "start_time": "2023-03-02T15:04:52.150Z"
   },
   {
    "duration": 190,
    "start_time": "2023-03-02T15:04:52.250Z"
   },
   {
    "duration": 119,
    "start_time": "2023-03-02T15:04:52.442Z"
   },
   {
    "duration": 21,
    "start_time": "2023-03-02T15:04:52.563Z"
   },
   {
    "duration": 56,
    "start_time": "2023-03-02T15:04:52.587Z"
   },
   {
    "duration": 88,
    "start_time": "2023-03-02T15:04:52.645Z"
   },
   {
    "duration": 3,
    "start_time": "2023-03-02T15:04:52.736Z"
   },
   {
    "duration": 121,
    "start_time": "2023-03-02T15:04:52.741Z"
   },
   {
    "duration": 131,
    "start_time": "2023-03-02T15:04:52.864Z"
   },
   {
    "duration": 3,
    "start_time": "2023-03-02T15:04:52.996Z"
   },
   {
    "duration": 107,
    "start_time": "2023-03-02T15:04:53.001Z"
   },
   {
    "duration": 243,
    "start_time": "2023-03-02T15:04:53.110Z"
   },
   {
    "duration": 26,
    "start_time": "2023-03-02T15:04:53.355Z"
   },
   {
    "duration": 53,
    "start_time": "2023-03-02T15:04:53.383Z"
   },
   {
    "duration": 91,
    "start_time": "2023-03-02T15:04:53.437Z"
   },
   {
    "duration": 374,
    "start_time": "2023-03-02T15:04:53.529Z"
   },
   {
    "duration": 4,
    "start_time": "2023-03-02T15:04:53.904Z"
   },
   {
    "duration": 32,
    "start_time": "2023-03-02T15:04:53.914Z"
   },
   {
    "duration": 152,
    "start_time": "2023-03-02T15:04:53.948Z"
   },
   {
    "duration": 4,
    "start_time": "2023-03-02T15:04:54.102Z"
   },
   {
    "duration": 588,
    "start_time": "2023-03-02T15:04:54.113Z"
   },
   {
    "duration": 12,
    "start_time": "2023-03-02T15:04:54.702Z"
   },
   {
    "duration": 16,
    "start_time": "2023-03-02T15:07:01.982Z"
   },
   {
    "duration": 66,
    "start_time": "2023-03-02T15:07:48.976Z"
   },
   {
    "duration": 61,
    "start_time": "2023-03-02T15:09:28.225Z"
   },
   {
    "duration": 50,
    "start_time": "2023-03-02T15:09:43.339Z"
   },
   {
    "duration": 20,
    "start_time": "2023-03-02T15:11:19.073Z"
   },
   {
    "duration": 1442,
    "start_time": "2023-03-02T15:11:35.468Z"
   },
   {
    "duration": 728,
    "start_time": "2023-03-02T15:11:36.912Z"
   },
   {
    "duration": 15,
    "start_time": "2023-03-02T15:11:37.642Z"
   },
   {
    "duration": 108,
    "start_time": "2023-03-02T15:11:37.659Z"
   },
   {
    "duration": 114,
    "start_time": "2023-03-02T15:11:37.769Z"
   },
   {
    "duration": 104,
    "start_time": "2023-03-02T15:11:37.884Z"
   },
   {
    "duration": 193,
    "start_time": "2023-03-02T15:11:37.989Z"
   },
   {
    "duration": 109,
    "start_time": "2023-03-02T15:11:38.184Z"
   },
   {
    "duration": 25,
    "start_time": "2023-03-02T15:11:38.295Z"
   },
   {
    "duration": 19,
    "start_time": "2023-03-02T15:11:38.322Z"
   },
   {
    "duration": 85,
    "start_time": "2023-03-02T15:11:38.343Z"
   },
   {
    "duration": 3,
    "start_time": "2023-03-02T15:11:38.429Z"
   },
   {
    "duration": 96,
    "start_time": "2023-03-02T15:11:38.433Z"
   },
   {
    "duration": 126,
    "start_time": "2023-03-02T15:11:38.532Z"
   },
   {
    "duration": 3,
    "start_time": "2023-03-02T15:11:38.659Z"
   },
   {
    "duration": 92,
    "start_time": "2023-03-02T15:11:38.663Z"
   },
   {
    "duration": 191,
    "start_time": "2023-03-02T15:11:38.756Z"
   },
   {
    "duration": 74,
    "start_time": "2023-03-02T15:11:38.949Z"
   },
   {
    "duration": 30,
    "start_time": "2023-03-02T15:11:39.024Z"
   },
   {
    "duration": 23,
    "start_time": "2023-03-02T15:11:39.056Z"
   },
   {
    "duration": 113,
    "start_time": "2023-03-02T15:11:39.080Z"
   },
   {
    "duration": 754,
    "start_time": "2023-03-02T15:11:39.194Z"
   },
   {
    "duration": 42,
    "start_time": "2023-03-02T15:12:34.576Z"
   },
   {
    "duration": 38,
    "start_time": "2023-03-02T15:12:55.669Z"
   },
   {
    "duration": 672,
    "start_time": "2023-03-02T15:13:33.390Z"
   },
   {
    "duration": 640,
    "start_time": "2023-03-02T15:13:42.134Z"
   },
   {
    "duration": 1440,
    "start_time": "2023-03-02T15:14:31.261Z"
   },
   {
    "duration": 787,
    "start_time": "2023-03-02T15:14:32.703Z"
   },
   {
    "duration": 31,
    "start_time": "2023-03-02T15:14:33.492Z"
   },
   {
    "duration": 115,
    "start_time": "2023-03-02T15:14:33.527Z"
   },
   {
    "duration": 109,
    "start_time": "2023-03-02T15:14:33.645Z"
   },
   {
    "duration": 99,
    "start_time": "2023-03-02T15:14:33.755Z"
   },
   {
    "duration": 181,
    "start_time": "2023-03-02T15:14:33.856Z"
   },
   {
    "duration": 120,
    "start_time": "2023-03-02T15:14:34.038Z"
   },
   {
    "duration": 20,
    "start_time": "2023-03-02T15:14:34.160Z"
   },
   {
    "duration": 43,
    "start_time": "2023-03-02T15:14:34.182Z"
   },
   {
    "duration": 109,
    "start_time": "2023-03-02T15:14:34.227Z"
   },
   {
    "duration": 3,
    "start_time": "2023-03-02T15:14:34.337Z"
   },
   {
    "duration": 113,
    "start_time": "2023-03-02T15:14:34.342Z"
   },
   {
    "duration": 148,
    "start_time": "2023-03-02T15:14:34.459Z"
   },
   {
    "duration": 3,
    "start_time": "2023-03-02T15:14:34.609Z"
   },
   {
    "duration": 115,
    "start_time": "2023-03-02T15:14:34.613Z"
   },
   {
    "duration": 200,
    "start_time": "2023-03-02T15:14:34.730Z"
   },
   {
    "duration": 56,
    "start_time": "2023-03-02T15:14:34.932Z"
   },
   {
    "duration": 45,
    "start_time": "2023-03-02T15:14:34.989Z"
   },
   {
    "duration": 824,
    "start_time": "2023-03-02T15:14:35.035Z"
   },
   {
    "duration": 0,
    "start_time": "2023-03-02T15:14:35.860Z"
   },
   {
    "duration": 0,
    "start_time": "2023-03-02T15:14:35.862Z"
   },
   {
    "duration": 1535,
    "start_time": "2023-03-02T15:15:05.905Z"
   },
   {
    "duration": 794,
    "start_time": "2023-03-02T15:15:07.441Z"
   },
   {
    "duration": 15,
    "start_time": "2023-03-02T15:15:08.237Z"
   },
   {
    "duration": 124,
    "start_time": "2023-03-02T15:15:08.253Z"
   },
   {
    "duration": 114,
    "start_time": "2023-03-02T15:15:08.379Z"
   },
   {
    "duration": 98,
    "start_time": "2023-03-02T15:15:08.494Z"
   },
   {
    "duration": 199,
    "start_time": "2023-03-02T15:15:08.594Z"
   },
   {
    "duration": 132,
    "start_time": "2023-03-02T15:15:08.795Z"
   },
   {
    "duration": 19,
    "start_time": "2023-03-02T15:15:08.929Z"
   },
   {
    "duration": 16,
    "start_time": "2023-03-02T15:15:08.950Z"
   },
   {
    "duration": 91,
    "start_time": "2023-03-02T15:15:08.968Z"
   },
   {
    "duration": 3,
    "start_time": "2023-03-02T15:15:09.061Z"
   },
   {
    "duration": 107,
    "start_time": "2023-03-02T15:15:09.065Z"
   },
   {
    "duration": 129,
    "start_time": "2023-03-02T15:15:09.175Z"
   },
   {
    "duration": 17,
    "start_time": "2023-03-02T15:15:09.306Z"
   },
   {
    "duration": 95,
    "start_time": "2023-03-02T15:15:09.324Z"
   },
   {
    "duration": 209,
    "start_time": "2023-03-02T15:15:09.421Z"
   },
   {
    "duration": 57,
    "start_time": "2023-03-02T15:15:09.632Z"
   },
   {
    "duration": 40,
    "start_time": "2023-03-02T15:15:09.691Z"
   },
   {
    "duration": 858,
    "start_time": "2023-03-02T15:15:09.733Z"
   },
   {
    "duration": 0,
    "start_time": "2023-03-02T15:15:10.592Z"
   },
   {
    "duration": 0,
    "start_time": "2023-03-02T15:15:10.594Z"
   },
   {
    "duration": 50,
    "start_time": "2023-03-02T15:18:35.462Z"
   },
   {
    "duration": 1640,
    "start_time": "2023-03-02T15:18:39.705Z"
   },
   {
    "duration": 784,
    "start_time": "2023-03-02T15:18:41.347Z"
   },
   {
    "duration": 15,
    "start_time": "2023-03-02T15:18:42.133Z"
   },
   {
    "duration": 116,
    "start_time": "2023-03-02T15:18:42.150Z"
   },
   {
    "duration": 107,
    "start_time": "2023-03-02T15:18:42.268Z"
   },
   {
    "duration": 97,
    "start_time": "2023-03-02T15:18:42.376Z"
   },
   {
    "duration": 194,
    "start_time": "2023-03-02T15:18:42.474Z"
   },
   {
    "duration": 121,
    "start_time": "2023-03-02T15:18:42.669Z"
   },
   {
    "duration": 27,
    "start_time": "2023-03-02T15:18:42.792Z"
   },
   {
    "duration": 19,
    "start_time": "2023-03-02T15:18:42.821Z"
   },
   {
    "duration": 95,
    "start_time": "2023-03-02T15:18:42.842Z"
   },
   {
    "duration": 3,
    "start_time": "2023-03-02T15:18:42.939Z"
   },
   {
    "duration": 104,
    "start_time": "2023-03-02T15:18:42.944Z"
   },
   {
    "duration": 214,
    "start_time": "2023-03-02T15:18:43.050Z"
   },
   {
    "duration": 3,
    "start_time": "2023-03-02T15:18:43.265Z"
   },
   {
    "duration": 99,
    "start_time": "2023-03-02T15:18:43.270Z"
   },
   {
    "duration": 127,
    "start_time": "2023-03-02T15:18:43.371Z"
   },
   {
    "duration": 72,
    "start_time": "2023-03-02T15:18:43.500Z"
   },
   {
    "duration": 40,
    "start_time": "2023-03-02T15:18:43.574Z"
   },
   {
    "duration": 767,
    "start_time": "2023-03-02T15:18:43.616Z"
   },
   {
    "duration": 0,
    "start_time": "2023-03-02T15:18:44.384Z"
   },
   {
    "duration": 0,
    "start_time": "2023-03-02T15:18:44.385Z"
   },
   {
    "duration": 696,
    "start_time": "2023-03-02T15:20:55.773Z"
   },
   {
    "duration": 16,
    "start_time": "2023-03-02T15:21:46.102Z"
   },
   {
    "duration": 63,
    "start_time": "2023-03-02T15:21:46.706Z"
   },
   {
    "duration": 73,
    "start_time": "2023-03-02T15:22:35.329Z"
   },
   {
    "duration": 11,
    "start_time": "2023-03-02T15:22:52.367Z"
   },
   {
    "duration": 3,
    "start_time": "2023-03-02T15:23:45.877Z"
   },
   {
    "duration": 9,
    "start_time": "2023-03-02T15:23:51.496Z"
   },
   {
    "duration": 4594,
    "start_time": "2023-03-02T15:25:25.217Z"
   },
   {
    "duration": 1462,
    "start_time": "2023-03-02T15:26:07.111Z"
   },
   {
    "duration": 770,
    "start_time": "2023-03-02T15:26:08.575Z"
   },
   {
    "duration": 17,
    "start_time": "2023-03-02T15:26:09.347Z"
   },
   {
    "duration": 122,
    "start_time": "2023-03-02T15:26:09.366Z"
   },
   {
    "duration": 113,
    "start_time": "2023-03-02T15:26:09.493Z"
   },
   {
    "duration": 131,
    "start_time": "2023-03-02T15:26:09.614Z"
   },
   {
    "duration": 196,
    "start_time": "2023-03-02T15:26:09.747Z"
   },
   {
    "duration": 119,
    "start_time": "2023-03-02T15:26:09.945Z"
   },
   {
    "duration": 21,
    "start_time": "2023-03-02T15:26:10.066Z"
   },
   {
    "duration": 33,
    "start_time": "2023-03-02T15:26:10.088Z"
   },
   {
    "duration": 141,
    "start_time": "2023-03-02T15:26:10.123Z"
   },
   {
    "duration": 3,
    "start_time": "2023-03-02T15:26:10.266Z"
   },
   {
    "duration": 113,
    "start_time": "2023-03-02T15:26:10.271Z"
   },
   {
    "duration": 203,
    "start_time": "2023-03-02T15:26:10.387Z"
   },
   {
    "duration": 2,
    "start_time": "2023-03-02T15:26:10.592Z"
   },
   {
    "duration": 106,
    "start_time": "2023-03-02T15:26:10.596Z"
   },
   {
    "duration": 141,
    "start_time": "2023-03-02T15:26:10.704Z"
   },
   {
    "duration": 71,
    "start_time": "2023-03-02T15:26:10.846Z"
   },
   {
    "duration": 32,
    "start_time": "2023-03-02T15:26:10.918Z"
   },
   {
    "duration": 640,
    "start_time": "2023-03-02T15:26:10.951Z"
   },
   {
    "duration": 21,
    "start_time": "2023-03-02T15:26:11.593Z"
   },
   {
    "duration": 66,
    "start_time": "2023-03-02T15:26:11.615Z"
   },
   {
    "duration": 3,
    "start_time": "2023-03-02T15:26:11.683Z"
   },
   {
    "duration": 7452,
    "start_time": "2023-03-02T15:26:11.687Z"
   },
   {
    "duration": 6,
    "start_time": "2023-03-02T15:27:08.181Z"
   },
   {
    "duration": 1422,
    "start_time": "2023-03-02T15:27:13.663Z"
   },
   {
    "duration": 855,
    "start_time": "2023-03-02T15:27:15.087Z"
   },
   {
    "duration": 15,
    "start_time": "2023-03-02T15:27:15.944Z"
   },
   {
    "duration": 149,
    "start_time": "2023-03-02T15:27:15.961Z"
   },
   {
    "duration": 149,
    "start_time": "2023-03-02T15:27:16.115Z"
   },
   {
    "duration": 113,
    "start_time": "2023-03-02T15:27:16.265Z"
   },
   {
    "duration": 222,
    "start_time": "2023-03-02T15:27:16.379Z"
   },
   {
    "duration": 144,
    "start_time": "2023-03-02T15:27:16.603Z"
   },
   {
    "duration": 32,
    "start_time": "2023-03-02T15:27:16.750Z"
   },
   {
    "duration": 35,
    "start_time": "2023-03-02T15:27:16.784Z"
   },
   {
    "duration": 93,
    "start_time": "2023-03-02T15:27:16.821Z"
   },
   {
    "duration": 3,
    "start_time": "2023-03-02T15:27:16.915Z"
   },
   {
    "duration": 107,
    "start_time": "2023-03-02T15:27:16.921Z"
   },
   {
    "duration": 226,
    "start_time": "2023-03-02T15:27:17.030Z"
   },
   {
    "duration": 3,
    "start_time": "2023-03-02T15:27:17.257Z"
   },
   {
    "duration": 100,
    "start_time": "2023-03-02T15:27:17.261Z"
   },
   {
    "duration": 152,
    "start_time": "2023-03-02T15:27:17.363Z"
   },
   {
    "duration": 56,
    "start_time": "2023-03-02T15:27:17.517Z"
   },
   {
    "duration": 28,
    "start_time": "2023-03-02T15:27:17.574Z"
   },
   {
    "duration": 579,
    "start_time": "2023-03-02T15:27:17.614Z"
   },
   {
    "duration": 20,
    "start_time": "2023-03-02T15:27:18.195Z"
   },
   {
    "duration": 66,
    "start_time": "2023-03-02T15:27:18.217Z"
   },
   {
    "duration": 3,
    "start_time": "2023-03-02T15:27:18.285Z"
   },
   {
    "duration": 7097,
    "start_time": "2023-03-02T15:27:18.290Z"
   },
   {
    "duration": 18,
    "start_time": "2023-03-02T15:31:32.313Z"
   },
   {
    "duration": 11,
    "start_time": "2023-03-02T15:31:49.963Z"
   },
   {
    "duration": 21,
    "start_time": "2023-03-02T15:32:05.919Z"
   },
   {
    "duration": 1506,
    "start_time": "2023-03-02T15:32:18.206Z"
   },
   {
    "duration": 800,
    "start_time": "2023-03-02T15:32:19.714Z"
   },
   {
    "duration": 17,
    "start_time": "2023-03-02T15:32:20.516Z"
   },
   {
    "duration": 132,
    "start_time": "2023-03-02T15:32:20.535Z"
   },
   {
    "duration": 118,
    "start_time": "2023-03-02T15:32:20.669Z"
   },
   {
    "duration": 102,
    "start_time": "2023-03-02T15:32:20.789Z"
   },
   {
    "duration": 226,
    "start_time": "2023-03-02T15:32:20.892Z"
   },
   {
    "duration": 152,
    "start_time": "2023-03-02T15:32:21.120Z"
   },
   {
    "duration": 19,
    "start_time": "2023-03-02T15:32:21.274Z"
   },
   {
    "duration": 29,
    "start_time": "2023-03-02T15:32:21.296Z"
   },
   {
    "duration": 104,
    "start_time": "2023-03-02T15:32:21.326Z"
   },
   {
    "duration": 3,
    "start_time": "2023-03-02T15:32:21.432Z"
   },
   {
    "duration": 105,
    "start_time": "2023-03-02T15:32:21.436Z"
   },
   {
    "duration": 225,
    "start_time": "2023-03-02T15:32:21.543Z"
   },
   {
    "duration": 3,
    "start_time": "2023-03-02T15:32:21.770Z"
   },
   {
    "duration": 122,
    "start_time": "2023-03-02T15:32:21.774Z"
   },
   {
    "duration": 149,
    "start_time": "2023-03-02T15:32:21.898Z"
   },
   {
    "duration": 65,
    "start_time": "2023-03-02T15:32:22.049Z"
   },
   {
    "duration": 32,
    "start_time": "2023-03-02T15:32:22.115Z"
   },
   {
    "duration": 189,
    "start_time": "2023-03-02T15:32:22.148Z"
   },
   {
    "duration": 0,
    "start_time": "2023-03-02T15:32:22.339Z"
   },
   {
    "duration": 0,
    "start_time": "2023-03-02T15:32:22.341Z"
   },
   {
    "duration": 0,
    "start_time": "2023-03-02T15:32:22.343Z"
   },
   {
    "duration": 0,
    "start_time": "2023-03-02T15:32:22.345Z"
   },
   {
    "duration": 1574,
    "start_time": "2023-03-02T15:32:51.973Z"
   },
   {
    "duration": 836,
    "start_time": "2023-03-02T15:32:53.549Z"
   },
   {
    "duration": 28,
    "start_time": "2023-03-02T15:32:54.387Z"
   },
   {
    "duration": 191,
    "start_time": "2023-03-02T15:32:54.416Z"
   },
   {
    "duration": 130,
    "start_time": "2023-03-02T15:32:54.615Z"
   },
   {
    "duration": 110,
    "start_time": "2023-03-02T15:32:54.747Z"
   },
   {
    "duration": 247,
    "start_time": "2023-03-02T15:32:54.859Z"
   },
   {
    "duration": 152,
    "start_time": "2023-03-02T15:32:55.108Z"
   },
   {
    "duration": 20,
    "start_time": "2023-03-02T15:32:55.262Z"
   },
   {
    "duration": 40,
    "start_time": "2023-03-02T15:32:55.284Z"
   },
   {
    "duration": 89,
    "start_time": "2023-03-02T15:32:55.326Z"
   },
   {
    "duration": 3,
    "start_time": "2023-03-02T15:32:55.417Z"
   },
   {
    "duration": 110,
    "start_time": "2023-03-02T15:32:55.422Z"
   },
   {
    "duration": 267,
    "start_time": "2023-03-02T15:32:55.535Z"
   },
   {
    "duration": 9,
    "start_time": "2023-03-02T15:32:55.805Z"
   },
   {
    "duration": 152,
    "start_time": "2023-03-02T15:32:55.816Z"
   },
   {
    "duration": 200,
    "start_time": "2023-03-02T15:32:55.970Z"
   },
   {
    "duration": 74,
    "start_time": "2023-03-02T15:32:56.172Z"
   },
   {
    "duration": 35,
    "start_time": "2023-03-02T15:32:56.248Z"
   },
   {
    "duration": 131,
    "start_time": "2023-03-02T15:32:56.285Z"
   },
   {
    "duration": 0,
    "start_time": "2023-03-02T15:32:56.418Z"
   },
   {
    "duration": 0,
    "start_time": "2023-03-02T15:32:56.418Z"
   },
   {
    "duration": 0,
    "start_time": "2023-03-02T15:32:56.420Z"
   },
   {
    "duration": 0,
    "start_time": "2023-03-02T15:32:56.421Z"
   },
   {
    "duration": 9,
    "start_time": "2023-03-02T15:34:07.102Z"
   },
   {
    "duration": 12,
    "start_time": "2023-03-02T15:34:08.622Z"
   },
   {
    "duration": 9,
    "start_time": "2023-03-02T15:34:37.137Z"
   },
   {
    "duration": 1412,
    "start_time": "2023-03-02T15:34:43.400Z"
   },
   {
    "duration": 831,
    "start_time": "2023-03-02T15:34:44.813Z"
   },
   {
    "duration": 17,
    "start_time": "2023-03-02T15:34:45.645Z"
   },
   {
    "duration": 121,
    "start_time": "2023-03-02T15:34:45.664Z"
   },
   {
    "duration": 111,
    "start_time": "2023-03-02T15:34:45.787Z"
   },
   {
    "duration": 115,
    "start_time": "2023-03-02T15:34:45.900Z"
   },
   {
    "duration": 246,
    "start_time": "2023-03-02T15:34:46.017Z"
   },
   {
    "duration": 134,
    "start_time": "2023-03-02T15:34:46.265Z"
   },
   {
    "duration": 21,
    "start_time": "2023-03-02T15:34:46.401Z"
   },
   {
    "duration": 18,
    "start_time": "2023-03-02T15:34:46.424Z"
   },
   {
    "duration": 97,
    "start_time": "2023-03-02T15:34:46.444Z"
   },
   {
    "duration": 3,
    "start_time": "2023-03-02T15:34:46.542Z"
   },
   {
    "duration": 99,
    "start_time": "2023-03-02T15:34:46.547Z"
   },
   {
    "duration": 222,
    "start_time": "2023-03-02T15:34:46.648Z"
   },
   {
    "duration": 3,
    "start_time": "2023-03-02T15:34:46.872Z"
   },
   {
    "duration": 101,
    "start_time": "2023-03-02T15:34:46.876Z"
   },
   {
    "duration": 147,
    "start_time": "2023-03-02T15:34:46.978Z"
   },
   {
    "duration": 60,
    "start_time": "2023-03-02T15:34:47.126Z"
   },
   {
    "duration": 44,
    "start_time": "2023-03-02T15:34:47.188Z"
   },
   {
    "duration": 618,
    "start_time": "2023-03-02T15:34:47.233Z"
   },
   {
    "duration": 14,
    "start_time": "2023-03-02T15:34:47.853Z"
   },
   {
    "duration": 75,
    "start_time": "2023-03-02T15:34:47.869Z"
   },
   {
    "duration": 2,
    "start_time": "2023-03-02T15:34:47.946Z"
   },
   {
    "duration": 6907,
    "start_time": "2023-03-02T15:34:47.950Z"
   },
   {
    "duration": 151,
    "start_time": "2023-03-02T15:35:41.164Z"
   },
   {
    "duration": 10,
    "start_time": "2023-03-02T15:36:11.451Z"
   },
   {
    "duration": 3,
    "start_time": "2023-03-02T15:36:24.425Z"
   },
   {
    "duration": 5,
    "start_time": "2023-03-02T15:36:35.759Z"
   },
   {
    "duration": 6,
    "start_time": "2023-03-02T15:37:16.651Z"
   },
   {
    "duration": 3,
    "start_time": "2023-03-02T15:37:28.740Z"
   },
   {
    "duration": 1407,
    "start_time": "2023-03-02T15:38:14.084Z"
   },
   {
    "duration": 823,
    "start_time": "2023-03-02T15:38:15.493Z"
   },
   {
    "duration": 18,
    "start_time": "2023-03-02T15:38:16.318Z"
   },
   {
    "duration": 122,
    "start_time": "2023-03-02T15:38:16.338Z"
   },
   {
    "duration": 104,
    "start_time": "2023-03-02T15:38:16.461Z"
   },
   {
    "duration": 95,
    "start_time": "2023-03-02T15:38:16.567Z"
   },
   {
    "duration": 215,
    "start_time": "2023-03-02T15:38:16.663Z"
   },
   {
    "duration": 136,
    "start_time": "2023-03-02T15:38:16.880Z"
   },
   {
    "duration": 19,
    "start_time": "2023-03-02T15:38:17.018Z"
   },
   {
    "duration": 17,
    "start_time": "2023-03-02T15:38:17.039Z"
   },
   {
    "duration": 95,
    "start_time": "2023-03-02T15:38:17.058Z"
   },
   {
    "duration": 3,
    "start_time": "2023-03-02T15:38:17.155Z"
   },
   {
    "duration": 98,
    "start_time": "2023-03-02T15:38:17.159Z"
   },
   {
    "duration": 217,
    "start_time": "2023-03-02T15:38:17.258Z"
   },
   {
    "duration": 4,
    "start_time": "2023-03-02T15:38:17.476Z"
   },
   {
    "duration": 92,
    "start_time": "2023-03-02T15:38:17.481Z"
   },
   {
    "duration": 146,
    "start_time": "2023-03-02T15:38:17.575Z"
   },
   {
    "duration": 56,
    "start_time": "2023-03-02T15:38:17.722Z"
   },
   {
    "duration": 1777,
    "start_time": "2023-03-02T15:38:55.158Z"
   },
   {
    "duration": 1024,
    "start_time": "2023-03-02T15:38:56.937Z"
   },
   {
    "duration": 16,
    "start_time": "2023-03-02T15:38:57.963Z"
   },
   {
    "duration": 112,
    "start_time": "2023-03-02T15:38:57.982Z"
   },
   {
    "duration": 119,
    "start_time": "2023-03-02T15:38:58.096Z"
   },
   {
    "duration": 98,
    "start_time": "2023-03-02T15:38:58.217Z"
   },
   {
    "duration": 215,
    "start_time": "2023-03-02T15:38:58.317Z"
   },
   {
    "duration": 151,
    "start_time": "2023-03-02T15:38:58.534Z"
   },
   {
    "duration": 28,
    "start_time": "2023-03-02T15:38:58.686Z"
   },
   {
    "duration": 18,
    "start_time": "2023-03-02T15:38:58.716Z"
   },
   {
    "duration": 92,
    "start_time": "2023-03-02T15:38:58.735Z"
   },
   {
    "duration": 4,
    "start_time": "2023-03-02T15:38:58.828Z"
   },
   {
    "duration": 102,
    "start_time": "2023-03-02T15:38:58.833Z"
   },
   {
    "duration": 237,
    "start_time": "2023-03-02T15:38:58.936Z"
   },
   {
    "duration": 3,
    "start_time": "2023-03-02T15:38:59.175Z"
   },
   {
    "duration": 99,
    "start_time": "2023-03-02T15:38:59.179Z"
   },
   {
    "duration": 150,
    "start_time": "2023-03-02T15:38:59.280Z"
   },
   {
    "duration": 57,
    "start_time": "2023-03-02T15:38:59.432Z"
   },
   {
    "duration": 38,
    "start_time": "2023-03-02T15:38:59.491Z"
   },
   {
    "duration": 634,
    "start_time": "2023-03-02T15:38:59.531Z"
   },
   {
    "duration": 14,
    "start_time": "2023-03-02T15:39:00.166Z"
   },
   {
    "duration": 75,
    "start_time": "2023-03-02T15:39:00.182Z"
   },
   {
    "duration": 4,
    "start_time": "2023-03-02T15:39:00.258Z"
   },
   {
    "duration": 38,
    "start_time": "2023-03-02T15:39:00.264Z"
   },
   {
    "duration": 299,
    "start_time": "2023-03-02T15:39:00.304Z"
   },
   {
    "duration": 6896,
    "start_time": "2023-03-02T15:39:00.605Z"
   },
   {
    "duration": 649,
    "start_time": "2023-03-02T15:40:58.323Z"
   },
   {
    "duration": 1425,
    "start_time": "2023-03-02T15:41:30.590Z"
   },
   {
    "duration": 783,
    "start_time": "2023-03-02T15:41:32.017Z"
   },
   {
    "duration": 23,
    "start_time": "2023-03-02T15:41:32.801Z"
   },
   {
    "duration": 121,
    "start_time": "2023-03-02T15:41:32.825Z"
   },
   {
    "duration": 113,
    "start_time": "2023-03-02T15:41:32.948Z"
   },
   {
    "duration": 101,
    "start_time": "2023-03-02T15:41:33.062Z"
   },
   {
    "duration": 212,
    "start_time": "2023-03-02T15:41:33.165Z"
   },
   {
    "duration": 129,
    "start_time": "2023-03-02T15:41:33.378Z"
   },
   {
    "duration": 18,
    "start_time": "2023-03-02T15:41:33.514Z"
   },
   {
    "duration": 16,
    "start_time": "2023-03-02T15:41:33.534Z"
   },
   {
    "duration": 99,
    "start_time": "2023-03-02T15:41:33.552Z"
   },
   {
    "duration": 3,
    "start_time": "2023-03-02T15:41:33.652Z"
   },
   {
    "duration": 115,
    "start_time": "2023-03-02T15:41:33.657Z"
   },
   {
    "duration": 204,
    "start_time": "2023-03-02T15:41:33.775Z"
   },
   {
    "duration": 4,
    "start_time": "2023-03-02T15:41:33.981Z"
   },
   {
    "duration": 122,
    "start_time": "2023-03-02T15:41:33.986Z"
   },
   {
    "duration": 156,
    "start_time": "2023-03-02T15:41:34.110Z"
   },
   {
    "duration": 70,
    "start_time": "2023-03-02T15:41:34.268Z"
   },
   {
    "duration": 30,
    "start_time": "2023-03-02T15:41:34.340Z"
   },
   {
    "duration": 626,
    "start_time": "2023-03-02T15:41:34.371Z"
   },
   {
    "duration": 199,
    "start_time": "2023-03-02T15:41:34.999Z"
   },
   {
    "duration": 299,
    "start_time": "2023-03-02T15:41:35.200Z"
   },
   {
    "duration": 3,
    "start_time": "2023-03-02T15:41:35.501Z"
   },
   {
    "duration": 9,
    "start_time": "2023-03-02T15:41:35.506Z"
   },
   {
    "duration": 63307,
    "start_time": "2023-03-02T15:41:35.517Z"
   },
   {
    "duration": 482028,
    "start_time": "2023-03-02T15:42:38.825Z"
   },
   {
    "duration": 1638,
    "start_time": "2023-03-03T04:55:43.635Z"
   },
   {
    "duration": 1025,
    "start_time": "2023-03-03T04:55:45.275Z"
   },
   {
    "duration": 15,
    "start_time": "2023-03-03T04:55:46.301Z"
   },
   {
    "duration": 108,
    "start_time": "2023-03-03T04:55:46.318Z"
   },
   {
    "duration": 106,
    "start_time": "2023-03-03T04:55:46.429Z"
   },
   {
    "duration": 91,
    "start_time": "2023-03-03T04:55:46.537Z"
   },
   {
    "duration": 205,
    "start_time": "2023-03-03T04:55:46.630Z"
   },
   {
    "duration": 126,
    "start_time": "2023-03-03T04:55:46.837Z"
   },
   {
    "duration": 17,
    "start_time": "2023-03-03T04:55:46.965Z"
   },
   {
    "duration": 15,
    "start_time": "2023-03-03T04:55:46.983Z"
   },
   {
    "duration": 97,
    "start_time": "2023-03-03T04:55:46.999Z"
   },
   {
    "duration": 3,
    "start_time": "2023-03-03T04:55:47.098Z"
   },
   {
    "duration": 88,
    "start_time": "2023-03-03T04:55:47.102Z"
   },
   {
    "duration": 219,
    "start_time": "2023-03-03T04:55:47.192Z"
   },
   {
    "duration": 3,
    "start_time": "2023-03-03T04:55:47.413Z"
   },
   {
    "duration": 94,
    "start_time": "2023-03-03T04:55:47.417Z"
   },
   {
    "duration": 139,
    "start_time": "2023-03-03T04:55:47.513Z"
   },
   {
    "duration": 53,
    "start_time": "2023-03-03T04:55:47.654Z"
   },
   {
    "duration": 39,
    "start_time": "2023-03-03T04:55:47.709Z"
   },
   {
    "duration": 633,
    "start_time": "2023-03-03T04:55:47.750Z"
   },
   {
    "duration": 183,
    "start_time": "2023-03-03T04:55:48.384Z"
   },
   {
    "duration": 293,
    "start_time": "2023-03-03T04:55:48.568Z"
   },
   {
    "duration": 4,
    "start_time": "2023-03-03T04:55:48.863Z"
   },
   {
    "duration": 18,
    "start_time": "2023-03-03T04:55:48.868Z"
   },
   {
    "duration": 62662,
    "start_time": "2023-03-03T04:55:48.888Z"
   },
   {
    "duration": 563483,
    "start_time": "2023-03-03T04:56:51.551Z"
   },
   {
    "duration": 104,
    "start_time": "2023-03-03T07:47:12.918Z"
   },
   {
    "duration": 12,
    "start_time": "2023-03-03T07:56:30.722Z"
   },
   {
    "duration": 1122,
    "start_time": "2023-03-03T07:58:32.752Z"
   },
   {
    "duration": 3231083,
    "start_time": "2023-03-03T08:03:31.785Z"
   },
   {
    "duration": 1478,
    "start_time": "2023-03-03T08:57:22.871Z"
   },
   {
    "duration": 188895,
    "start_time": "2023-03-03T08:57:24.351Z"
   },
   {
    "duration": 217,
    "start_time": "2023-03-03T09:00:33.248Z"
   },
   {
    "duration": 13,
    "start_time": "2023-03-03T09:00:33.467Z"
   },
   {
    "duration": 8,
    "start_time": "2023-03-03T09:09:46.253Z"
   },
   {
    "duration": 12,
    "start_time": "2023-03-03T09:10:23.081Z"
   },
   {
    "duration": 11,
    "start_time": "2023-03-03T09:12:14.658Z"
   },
   {
    "duration": 17,
    "start_time": "2023-03-03T09:13:15.793Z"
   },
   {
    "duration": 137,
    "start_time": "2023-03-03T09:23:35.574Z"
   },
   {
    "duration": 10,
    "start_time": "2023-03-03T09:26:38.625Z"
   },
   {
    "duration": 10,
    "start_time": "2023-03-03T09:26:56.498Z"
   },
   {
    "duration": 4,
    "start_time": "2023-03-03T09:27:02.026Z"
   },
   {
    "duration": 3,
    "start_time": "2023-03-03T09:28:02.780Z"
   },
   {
    "duration": 3,
    "start_time": "2023-03-03T09:29:50.416Z"
   },
   {
    "duration": 10,
    "start_time": "2023-03-03T09:31:00.828Z"
   },
   {
    "duration": 11,
    "start_time": "2023-03-03T09:31:38.041Z"
   },
   {
    "duration": 24,
    "start_time": "2023-03-03T09:32:52.451Z"
   },
   {
    "duration": 16,
    "start_time": "2023-03-03T09:46:02.750Z"
   },
   {
    "duration": 11,
    "start_time": "2023-03-03T09:46:17.883Z"
   },
   {
    "duration": 11,
    "start_time": "2023-03-03T09:47:02.983Z"
   },
   {
    "duration": 94,
    "start_time": "2023-03-03T09:50:57.393Z"
   },
   {
    "duration": 108,
    "start_time": "2023-03-03T09:51:03.857Z"
   },
   {
    "duration": 10,
    "start_time": "2023-03-03T09:51:17.789Z"
   },
   {
    "duration": 11,
    "start_time": "2023-03-03T09:51:38.066Z"
   },
   {
    "duration": 14,
    "start_time": "2023-03-03T10:07:31.193Z"
   },
   {
    "duration": 11,
    "start_time": "2023-03-03T10:08:49.284Z"
   },
   {
    "duration": 11,
    "start_time": "2023-03-03T10:09:23.161Z"
   },
   {
    "duration": 14,
    "start_time": "2023-03-03T10:12:13.913Z"
   },
   {
    "duration": 91,
    "start_time": "2023-03-03T10:14:21.982Z"
   },
   {
    "duration": 4,
    "start_time": "2023-03-04T09:18:02.613Z"
   },
   {
    "duration": 45,
    "start_time": "2023-03-04T09:20:17.125Z"
   },
   {
    "duration": 1613,
    "start_time": "2023-03-04T09:20:31.205Z"
   },
   {
    "duration": 1004,
    "start_time": "2023-03-04T09:20:32.820Z"
   },
   {
    "duration": 16,
    "start_time": "2023-03-04T09:20:33.826Z"
   },
   {
    "duration": 104,
    "start_time": "2023-03-04T09:20:33.844Z"
   },
   {
    "duration": 103,
    "start_time": "2023-03-04T09:20:33.950Z"
   },
   {
    "duration": 106,
    "start_time": "2023-03-04T09:20:34.054Z"
   },
   {
    "duration": 232,
    "start_time": "2023-03-04T09:20:34.162Z"
   },
   {
    "duration": 202,
    "start_time": "2023-03-04T09:20:34.396Z"
   },
   {
    "duration": 33,
    "start_time": "2023-03-04T09:20:34.600Z"
   },
   {
    "duration": 19,
    "start_time": "2023-03-04T09:20:34.635Z"
   },
   {
    "duration": 17,
    "start_time": "2023-03-04T09:20:34.656Z"
   },
   {
    "duration": 106,
    "start_time": "2023-03-04T09:20:34.675Z"
   },
   {
    "duration": 3,
    "start_time": "2023-03-04T09:20:34.783Z"
   },
   {
    "duration": 114,
    "start_time": "2023-03-04T09:20:34.789Z"
   },
   {
    "duration": 160,
    "start_time": "2023-03-04T09:20:34.905Z"
   },
   {
    "duration": 3,
    "start_time": "2023-03-04T09:20:35.066Z"
   },
   {
    "duration": 103,
    "start_time": "2023-03-04T09:20:35.071Z"
   },
   {
    "duration": 157,
    "start_time": "2023-03-04T09:20:35.176Z"
   },
   {
    "duration": 3,
    "start_time": "2023-03-04T09:20:35.334Z"
   },
   {
    "duration": 63,
    "start_time": "2023-03-04T09:20:35.338Z"
   },
   {
    "duration": 38,
    "start_time": "2023-03-04T09:20:35.403Z"
   },
   {
    "duration": 649,
    "start_time": "2023-03-04T09:20:35.443Z"
   },
   {
    "duration": 187,
    "start_time": "2023-03-04T09:20:36.094Z"
   },
   {
    "duration": 277,
    "start_time": "2023-03-04T09:20:36.282Z"
   },
   {
    "duration": 5,
    "start_time": "2023-03-04T09:20:36.560Z"
   },
   {
    "duration": 5,
    "start_time": "2023-03-04T09:20:36.566Z"
   },
   {
    "duration": 9,
    "start_time": "2023-03-04T09:20:36.573Z"
   },
   {
    "duration": 58145,
    "start_time": "2023-03-04T09:20:36.583Z"
   },
   {
    "duration": 21121,
    "start_time": "2023-03-04T09:21:34.815Z"
   },
   {
    "duration": 96,
    "start_time": "2023-03-04T09:21:55.937Z"
   },
   {
    "duration": 456389,
    "start_time": "2023-03-04T09:21:56.035Z"
   },
   {
    "duration": 1301,
    "start_time": "2023-03-04T09:29:32.426Z"
   },
   {
    "duration": 181650,
    "start_time": "2023-03-04T09:29:33.728Z"
   },
   {
    "duration": 215,
    "start_time": "2023-03-04T09:32:35.380Z"
   },
   {
    "duration": 18,
    "start_time": "2023-03-04T09:32:35.597Z"
   },
   {
    "duration": 31,
    "start_time": "2023-03-04T09:33:30.096Z"
   },
   {
    "duration": 1514,
    "start_time": "2023-03-04T09:33:52.785Z"
   },
   {
    "duration": 711,
    "start_time": "2023-03-04T09:33:54.301Z"
   },
   {
    "duration": 17,
    "start_time": "2023-03-04T09:33:55.014Z"
   },
   {
    "duration": 131,
    "start_time": "2023-03-04T09:33:55.033Z"
   },
   {
    "duration": 125,
    "start_time": "2023-03-04T09:33:55.166Z"
   },
   {
    "duration": 102,
    "start_time": "2023-03-04T09:33:55.293Z"
   },
   {
    "duration": 217,
    "start_time": "2023-03-04T09:33:55.397Z"
   },
   {
    "duration": 134,
    "start_time": "2023-03-04T09:33:55.615Z"
   },
   {
    "duration": 11,
    "start_time": "2023-03-04T09:33:55.750Z"
   },
   {
    "duration": 19,
    "start_time": "2023-03-04T09:33:55.763Z"
   },
   {
    "duration": 35,
    "start_time": "2023-03-04T09:33:55.784Z"
   },
   {
    "duration": 80,
    "start_time": "2023-03-04T09:33:55.820Z"
   },
   {
    "duration": 3,
    "start_time": "2023-03-04T09:33:55.916Z"
   },
   {
    "duration": 136,
    "start_time": "2023-03-04T09:33:55.921Z"
   },
   {
    "duration": 223,
    "start_time": "2023-03-04T09:33:56.059Z"
   },
   {
    "duration": 3,
    "start_time": "2023-03-04T09:33:56.284Z"
   },
   {
    "duration": 107,
    "start_time": "2023-03-04T09:33:56.288Z"
   },
   {
    "duration": 143,
    "start_time": "2023-03-04T09:33:56.397Z"
   },
   {
    "duration": 47,
    "start_time": "2023-03-04T09:33:56.541Z"
   },
   {
    "duration": 70,
    "start_time": "2023-03-04T09:33:56.590Z"
   },
   {
    "duration": 29,
    "start_time": "2023-03-04T09:33:56.661Z"
   },
   {
    "duration": 600,
    "start_time": "2023-03-04T09:33:56.692Z"
   },
   {
    "duration": 191,
    "start_time": "2023-03-04T09:33:57.293Z"
   },
   {
    "duration": 273,
    "start_time": "2023-03-04T09:33:57.486Z"
   },
   {
    "duration": 4,
    "start_time": "2023-03-04T09:33:57.761Z"
   },
   {
    "duration": 6,
    "start_time": "2023-03-04T09:33:57.766Z"
   },
   {
    "duration": 14,
    "start_time": "2023-03-04T09:33:57.773Z"
   },
   {
    "duration": 1478,
    "start_time": "2023-03-04T09:34:14.525Z"
   },
   {
    "duration": 772,
    "start_time": "2023-03-04T09:34:16.005Z"
   },
   {
    "duration": 15,
    "start_time": "2023-03-04T09:34:16.779Z"
   },
   {
    "duration": 113,
    "start_time": "2023-03-04T09:34:16.796Z"
   },
   {
    "duration": 109,
    "start_time": "2023-03-04T09:34:16.914Z"
   },
   {
    "duration": 98,
    "start_time": "2023-03-04T09:34:17.024Z"
   },
   {
    "duration": 212,
    "start_time": "2023-03-04T09:34:17.123Z"
   },
   {
    "duration": 149,
    "start_time": "2023-03-04T09:34:17.337Z"
   },
   {
    "duration": 33,
    "start_time": "2023-03-04T09:34:17.488Z"
   },
   {
    "duration": 20,
    "start_time": "2023-03-04T09:34:17.523Z"
   },
   {
    "duration": 18,
    "start_time": "2023-03-04T09:34:17.544Z"
   },
   {
    "duration": 98,
    "start_time": "2023-03-04T09:34:17.564Z"
   },
   {
    "duration": 3,
    "start_time": "2023-03-04T09:34:17.663Z"
   },
   {
    "duration": 96,
    "start_time": "2023-03-04T09:34:17.668Z"
   },
   {
    "duration": 203,
    "start_time": "2023-03-04T09:34:17.766Z"
   },
   {
    "duration": 3,
    "start_time": "2023-03-04T09:34:17.971Z"
   },
   {
    "duration": 105,
    "start_time": "2023-03-04T09:34:17.975Z"
   },
   {
    "duration": 142,
    "start_time": "2023-03-04T09:34:18.082Z"
   },
   {
    "duration": 48,
    "start_time": "2023-03-04T09:34:18.226Z"
   },
   {
    "duration": 72,
    "start_time": "2023-03-04T09:34:18.276Z"
   },
   {
    "duration": 29,
    "start_time": "2023-03-04T09:34:18.350Z"
   },
   {
    "duration": 587,
    "start_time": "2023-03-04T09:34:18.381Z"
   },
   {
    "duration": 189,
    "start_time": "2023-03-04T09:34:18.969Z"
   },
   {
    "duration": 284,
    "start_time": "2023-03-04T09:34:19.160Z"
   },
   {
    "duration": 4,
    "start_time": "2023-03-04T09:34:19.446Z"
   },
   {
    "duration": 4,
    "start_time": "2023-03-04T09:34:19.451Z"
   },
   {
    "duration": 8,
    "start_time": "2023-03-04T09:34:19.457Z"
   },
   {
    "duration": 1425,
    "start_time": "2023-03-04T09:34:45.771Z"
   },
   {
    "duration": 739,
    "start_time": "2023-03-04T09:34:47.198Z"
   },
   {
    "duration": 16,
    "start_time": "2023-03-04T09:34:47.939Z"
   },
   {
    "duration": 130,
    "start_time": "2023-03-04T09:34:47.957Z"
   },
   {
    "duration": 111,
    "start_time": "2023-03-04T09:34:48.088Z"
   },
   {
    "duration": 96,
    "start_time": "2023-03-04T09:34:48.201Z"
   },
   {
    "duration": 219,
    "start_time": "2023-03-04T09:34:48.299Z"
   },
   {
    "duration": 132,
    "start_time": "2023-03-04T09:34:48.519Z"
   },
   {
    "duration": 22,
    "start_time": "2023-03-04T09:34:48.653Z"
   },
   {
    "duration": 18,
    "start_time": "2023-03-04T09:34:48.677Z"
   },
   {
    "duration": 30,
    "start_time": "2023-03-04T09:34:48.697Z"
   },
   {
    "duration": 85,
    "start_time": "2023-03-04T09:34:48.729Z"
   },
   {
    "duration": 3,
    "start_time": "2023-03-04T09:34:48.815Z"
   },
   {
    "duration": 97,
    "start_time": "2023-03-04T09:34:48.820Z"
   },
   {
    "duration": 214,
    "start_time": "2023-03-04T09:34:48.918Z"
   },
   {
    "duration": 3,
    "start_time": "2023-03-04T09:34:49.134Z"
   },
   {
    "duration": 101,
    "start_time": "2023-03-04T09:34:49.138Z"
   },
   {
    "duration": 137,
    "start_time": "2023-03-04T09:34:49.241Z"
   },
   {
    "duration": 56,
    "start_time": "2023-03-04T09:34:49.379Z"
   },
   {
    "duration": 57,
    "start_time": "2023-03-04T09:34:49.437Z"
   },
   {
    "duration": 40,
    "start_time": "2023-03-04T09:34:49.496Z"
   },
   {
    "duration": 603,
    "start_time": "2023-03-04T09:34:49.538Z"
   },
   {
    "duration": 189,
    "start_time": "2023-03-04T09:34:50.143Z"
   },
   {
    "duration": 289,
    "start_time": "2023-03-04T09:34:50.334Z"
   },
   {
    "duration": 4,
    "start_time": "2023-03-04T09:34:50.625Z"
   },
   {
    "duration": 10,
    "start_time": "2023-03-04T09:34:50.631Z"
   },
   {
    "duration": 10,
    "start_time": "2023-03-04T09:34:50.643Z"
   },
   {
    "duration": 1726,
    "start_time": "2023-03-04T11:06:55.449Z"
   },
   {
    "duration": 1068,
    "start_time": "2023-03-04T11:06:57.178Z"
   },
   {
    "duration": 17,
    "start_time": "2023-03-04T11:06:58.248Z"
   },
   {
    "duration": 140,
    "start_time": "2023-03-04T11:06:58.267Z"
   },
   {
    "duration": 144,
    "start_time": "2023-03-04T11:06:58.410Z"
   },
   {
    "duration": 105,
    "start_time": "2023-03-04T11:06:58.556Z"
   },
   {
    "duration": 226,
    "start_time": "2023-03-04T11:06:58.663Z"
   },
   {
    "duration": 230,
    "start_time": "2023-03-04T11:06:58.891Z"
   },
   {
    "duration": 32,
    "start_time": "2023-03-04T11:06:59.122Z"
   },
   {
    "duration": 24,
    "start_time": "2023-03-04T11:06:59.156Z"
   },
   {
    "duration": 22,
    "start_time": "2023-03-04T11:06:59.182Z"
   },
   {
    "duration": 126,
    "start_time": "2023-03-04T11:06:59.206Z"
   },
   {
    "duration": 3,
    "start_time": "2023-03-04T11:06:59.334Z"
   },
   {
    "duration": 104,
    "start_time": "2023-03-04T11:06:59.348Z"
   },
   {
    "duration": 164,
    "start_time": "2023-03-04T11:06:59.453Z"
   },
   {
    "duration": 4,
    "start_time": "2023-03-04T11:06:59.619Z"
   },
   {
    "duration": 110,
    "start_time": "2023-03-04T11:06:59.625Z"
   },
   {
    "duration": 155,
    "start_time": "2023-03-04T11:06:59.738Z"
   },
   {
    "duration": 54,
    "start_time": "2023-03-04T11:06:59.895Z"
   },
   {
    "duration": 72,
    "start_time": "2023-03-04T11:06:59.951Z"
   },
   {
    "duration": 45,
    "start_time": "2023-03-04T11:07:00.025Z"
   },
   {
    "duration": 777,
    "start_time": "2023-03-04T11:07:00.072Z"
   },
   {
    "duration": 192,
    "start_time": "2023-03-04T11:07:00.851Z"
   },
   {
    "duration": 313,
    "start_time": "2023-03-04T11:07:01.045Z"
   },
   {
    "duration": 4,
    "start_time": "2023-03-04T11:07:01.360Z"
   },
   {
    "duration": 13,
    "start_time": "2023-03-04T11:07:01.366Z"
   },
   {
    "duration": 27,
    "start_time": "2023-03-04T11:07:01.381Z"
   },
   {
    "duration": 78741,
    "start_time": "2023-03-04T11:07:01.410Z"
   },
   {
    "duration": 315939,
    "start_time": "2023-03-04T11:08:20.154Z"
   },
   {
    "duration": 79,
    "start_time": "2023-03-04T11:13:36.095Z"
   },
   {
    "duration": 1472,
    "start_time": "2023-03-04T11:16:17.249Z"
   },
   {
    "duration": 838,
    "start_time": "2023-03-04T11:16:21.638Z"
   },
   {
    "duration": 15,
    "start_time": "2023-03-04T11:16:22.478Z"
   },
   {
    "duration": 148,
    "start_time": "2023-03-04T11:16:22.494Z"
   },
   {
    "duration": 123,
    "start_time": "2023-03-04T11:16:28.206Z"
   },
   {
    "duration": 96,
    "start_time": "2023-03-04T11:16:28.485Z"
   },
   {
    "duration": 223,
    "start_time": "2023-03-04T11:16:29.397Z"
   },
   {
    "duration": 136,
    "start_time": "2023-03-04T11:16:30.165Z"
   },
   {
    "duration": 23,
    "start_time": "2023-03-04T11:16:31.596Z"
   },
   {
    "duration": 24,
    "start_time": "2023-03-04T11:16:41.846Z"
   },
   {
    "duration": 25,
    "start_time": "2023-03-04T11:16:42.165Z"
   },
   {
    "duration": 90,
    "start_time": "2023-03-04T11:16:42.485Z"
   },
   {
    "duration": 3,
    "start_time": "2023-03-04T11:16:43.053Z"
   },
   {
    "duration": 95,
    "start_time": "2023-03-04T11:16:43.445Z"
   },
   {
    "duration": 217,
    "start_time": "2023-03-04T11:16:43.765Z"
   },
   {
    "duration": 3,
    "start_time": "2023-03-04T11:16:48.598Z"
   },
   {
    "duration": 103,
    "start_time": "2023-03-04T11:16:49.045Z"
   },
   {
    "duration": 140,
    "start_time": "2023-03-04T11:16:49.637Z"
   },
   {
    "duration": 41,
    "start_time": "2023-03-04T11:16:59.596Z"
   },
   {
    "duration": 22,
    "start_time": "2023-03-04T11:18:18.077Z"
   },
   {
    "duration": 21,
    "start_time": "2023-03-04T11:22:28.120Z"
   },
   {
    "duration": 21,
    "start_time": "2023-03-04T11:22:45.040Z"
   },
   {
    "duration": 52,
    "start_time": "2023-03-04T11:34:06.420Z"
   },
   {
    "duration": 12,
    "start_time": "2023-03-04T11:34:11.661Z"
   },
   {
    "duration": 29,
    "start_time": "2023-03-04T11:34:15.860Z"
   },
   {
    "duration": 23,
    "start_time": "2023-03-04T11:34:38.601Z"
   },
   {
    "duration": 1411,
    "start_time": "2023-03-04T11:35:20.106Z"
   },
   {
    "duration": 817,
    "start_time": "2023-03-04T11:35:21.519Z"
   },
   {
    "duration": 18,
    "start_time": "2023-03-04T11:35:22.338Z"
   },
   {
    "duration": 131,
    "start_time": "2023-03-04T11:35:22.358Z"
   },
   {
    "duration": 133,
    "start_time": "2023-03-04T11:35:22.491Z"
   },
   {
    "duration": 97,
    "start_time": "2023-03-04T11:35:22.625Z"
   },
   {
    "duration": 237,
    "start_time": "2023-03-04T11:35:22.724Z"
   },
   {
    "duration": 136,
    "start_time": "2023-03-04T11:35:22.963Z"
   },
   {
    "duration": 24,
    "start_time": "2023-03-04T11:35:23.100Z"
   },
   {
    "duration": 31,
    "start_time": "2023-03-04T11:35:23.127Z"
   },
   {
    "duration": 19,
    "start_time": "2023-03-04T11:35:23.160Z"
   },
   {
    "duration": 100,
    "start_time": "2023-03-04T11:35:23.180Z"
   },
   {
    "duration": 3,
    "start_time": "2023-03-04T11:35:23.282Z"
   },
   {
    "duration": 104,
    "start_time": "2023-03-04T11:35:23.286Z"
   },
   {
    "duration": 220,
    "start_time": "2023-03-04T11:35:23.391Z"
   },
   {
    "duration": 2,
    "start_time": "2023-03-04T11:35:23.613Z"
   },
   {
    "duration": 106,
    "start_time": "2023-03-04T11:35:23.617Z"
   },
   {
    "duration": 150,
    "start_time": "2023-03-04T11:35:23.725Z"
   },
   {
    "duration": 76,
    "start_time": "2023-03-04T11:35:23.877Z"
   },
   {
    "duration": 22,
    "start_time": "2023-03-04T11:35:23.955Z"
   },
   {
    "duration": 80,
    "start_time": "2023-03-04T11:35:23.978Z"
   },
   {
    "duration": 29,
    "start_time": "2023-03-04T11:35:24.059Z"
   },
   {
    "duration": 566,
    "start_time": "2023-03-04T11:35:24.090Z"
   },
   {
    "duration": 1457,
    "start_time": "2023-03-04T11:36:29.416Z"
   },
   {
    "duration": 864,
    "start_time": "2023-03-04T11:36:30.875Z"
   },
   {
    "duration": 18,
    "start_time": "2023-03-04T11:36:31.741Z"
   },
   {
    "duration": 151,
    "start_time": "2023-03-04T11:36:31.762Z"
   },
   {
    "duration": 159,
    "start_time": "2023-03-04T11:36:31.915Z"
   },
   {
    "duration": 103,
    "start_time": "2023-03-04T11:36:32.076Z"
   },
   {
    "duration": 217,
    "start_time": "2023-03-04T11:36:32.181Z"
   },
   {
    "duration": 140,
    "start_time": "2023-03-04T11:36:32.400Z"
   },
   {
    "duration": 24,
    "start_time": "2023-03-04T11:36:32.547Z"
   },
   {
    "duration": 21,
    "start_time": "2023-03-04T11:36:32.574Z"
   },
   {
    "duration": 29,
    "start_time": "2023-03-04T11:36:32.596Z"
   },
   {
    "duration": 105,
    "start_time": "2023-03-04T11:36:32.627Z"
   },
   {
    "duration": 4,
    "start_time": "2023-03-04T11:36:32.734Z"
   },
   {
    "duration": 123,
    "start_time": "2023-03-04T11:36:32.748Z"
   },
   {
    "duration": 225,
    "start_time": "2023-03-04T11:36:32.873Z"
   },
   {
    "duration": 3,
    "start_time": "2023-03-04T11:36:33.100Z"
   },
   {
    "duration": 109,
    "start_time": "2023-03-04T11:36:33.105Z"
   },
   {
    "duration": 154,
    "start_time": "2023-03-04T11:36:33.216Z"
   },
   {
    "duration": 23,
    "start_time": "2023-03-04T11:36:33.372Z"
   },
   {
    "duration": 54,
    "start_time": "2023-03-04T11:36:33.396Z"
   },
   {
    "duration": 29,
    "start_time": "2023-03-04T11:36:33.452Z"
   },
   {
    "duration": 66,
    "start_time": "2023-03-04T11:36:33.483Z"
   },
   {
    "duration": 1475,
    "start_time": "2023-03-04T11:37:41.691Z"
   },
   {
    "duration": 824,
    "start_time": "2023-03-04T11:37:43.168Z"
   },
   {
    "duration": 18,
    "start_time": "2023-03-04T11:37:43.993Z"
   },
   {
    "duration": 170,
    "start_time": "2023-03-04T11:37:44.013Z"
   },
   {
    "duration": 169,
    "start_time": "2023-03-04T11:37:44.187Z"
   },
   {
    "duration": 98,
    "start_time": "2023-03-04T11:37:44.358Z"
   },
   {
    "duration": 217,
    "start_time": "2023-03-04T11:37:44.458Z"
   },
   {
    "duration": 138,
    "start_time": "2023-03-04T11:37:44.677Z"
   },
   {
    "duration": 36,
    "start_time": "2023-03-04T11:37:44.817Z"
   },
   {
    "duration": 20,
    "start_time": "2023-03-04T11:37:44.855Z"
   },
   {
    "duration": 21,
    "start_time": "2023-03-04T11:37:44.877Z"
   },
   {
    "duration": 109,
    "start_time": "2023-03-04T11:37:44.899Z"
   },
   {
    "duration": 3,
    "start_time": "2023-03-04T11:37:45.010Z"
   },
   {
    "duration": 133,
    "start_time": "2023-03-04T11:37:45.016Z"
   },
   {
    "duration": 215,
    "start_time": "2023-03-04T11:37:45.150Z"
   },
   {
    "duration": 3,
    "start_time": "2023-03-04T11:37:45.367Z"
   },
   {
    "duration": 108,
    "start_time": "2023-03-04T11:37:45.372Z"
   },
   {
    "duration": 204,
    "start_time": "2023-03-04T11:37:45.482Z"
   },
   {
    "duration": 30,
    "start_time": "2023-03-04T11:37:45.689Z"
   },
   {
    "duration": 60,
    "start_time": "2023-03-04T11:37:45.721Z"
   },
   {
    "duration": 26,
    "start_time": "2023-03-04T11:37:45.783Z"
   },
   {
    "duration": 81,
    "start_time": "2023-03-04T11:37:45.811Z"
   },
   {
    "duration": 36,
    "start_time": "2023-03-04T11:37:45.894Z"
   },
   {
    "duration": 598,
    "start_time": "2023-03-04T11:37:45.932Z"
   },
   {
    "duration": 184,
    "start_time": "2023-03-04T11:37:46.532Z"
   },
   {
    "duration": 269,
    "start_time": "2023-03-04T11:37:46.718Z"
   },
   {
    "duration": 5,
    "start_time": "2023-03-04T11:37:46.989Z"
   },
   {
    "duration": 5,
    "start_time": "2023-03-04T11:37:46.996Z"
   },
   {
    "duration": 11,
    "start_time": "2023-03-04T11:37:47.002Z"
   },
   {
    "duration": 1420,
    "start_time": "2023-03-04T11:38:17.996Z"
   },
   {
    "duration": 782,
    "start_time": "2023-03-04T11:38:19.418Z"
   },
   {
    "duration": 15,
    "start_time": "2023-03-04T11:38:20.201Z"
   },
   {
    "duration": 134,
    "start_time": "2023-03-04T11:38:20.218Z"
   },
   {
    "duration": 128,
    "start_time": "2023-03-04T11:38:20.354Z"
   },
   {
    "duration": 99,
    "start_time": "2023-03-04T11:38:20.484Z"
   },
   {
    "duration": 220,
    "start_time": "2023-03-04T11:38:20.584Z"
   },
   {
    "duration": 133,
    "start_time": "2023-03-04T11:38:20.806Z"
   },
   {
    "duration": 30,
    "start_time": "2023-03-04T11:38:20.947Z"
   },
   {
    "duration": 21,
    "start_time": "2023-03-04T11:38:20.979Z"
   },
   {
    "duration": 22,
    "start_time": "2023-03-04T11:38:21.002Z"
   },
   {
    "duration": 107,
    "start_time": "2023-03-04T11:38:21.025Z"
   },
   {
    "duration": 14,
    "start_time": "2023-03-04T11:38:21.134Z"
   },
   {
    "duration": 102,
    "start_time": "2023-03-04T11:38:21.149Z"
   },
   {
    "duration": 217,
    "start_time": "2023-03-04T11:38:21.252Z"
   },
   {
    "duration": 3,
    "start_time": "2023-03-04T11:38:21.471Z"
   },
   {
    "duration": 110,
    "start_time": "2023-03-04T11:38:21.475Z"
   },
   {
    "duration": 145,
    "start_time": "2023-03-04T11:38:21.587Z"
   },
   {
    "duration": 24,
    "start_time": "2023-03-04T11:38:21.734Z"
   },
   {
    "duration": 63,
    "start_time": "2023-03-04T11:38:21.760Z"
   },
   {
    "duration": 23,
    "start_time": "2023-03-04T11:38:21.824Z"
   },
   {
    "duration": 67,
    "start_time": "2023-03-04T11:38:21.849Z"
   },
   {
    "duration": 44,
    "start_time": "2023-03-04T11:38:21.918Z"
   },
   {
    "duration": 580,
    "start_time": "2023-03-04T11:38:21.963Z"
   },
   {
    "duration": 185,
    "start_time": "2023-03-04T11:38:22.545Z"
   },
   {
    "duration": 292,
    "start_time": "2023-03-04T11:38:22.732Z"
   },
   {
    "duration": 4,
    "start_time": "2023-03-04T11:38:23.026Z"
   },
   {
    "duration": 10,
    "start_time": "2023-03-04T11:38:23.033Z"
   },
   {
    "duration": 10,
    "start_time": "2023-03-04T11:38:23.048Z"
   },
   {
    "duration": 58990,
    "start_time": "2023-03-04T11:38:23.060Z"
   },
   {
    "duration": 1424,
    "start_time": "2023-03-04T11:41:44.602Z"
   },
   {
    "duration": 827,
    "start_time": "2023-03-04T11:41:46.028Z"
   },
   {
    "duration": 16,
    "start_time": "2023-03-04T11:41:46.856Z"
   },
   {
    "duration": 146,
    "start_time": "2023-03-04T11:41:46.874Z"
   },
   {
    "duration": 145,
    "start_time": "2023-03-04T11:41:47.022Z"
   },
   {
    "duration": 104,
    "start_time": "2023-03-04T11:41:47.168Z"
   },
   {
    "duration": 212,
    "start_time": "2023-03-04T11:41:47.274Z"
   },
   {
    "duration": 147,
    "start_time": "2023-03-04T11:41:47.488Z"
   },
   {
    "duration": 35,
    "start_time": "2023-03-04T11:41:47.637Z"
   },
   {
    "duration": 21,
    "start_time": "2023-03-04T11:41:47.676Z"
   },
   {
    "duration": 19,
    "start_time": "2023-03-04T11:41:47.699Z"
   },
   {
    "duration": 107,
    "start_time": "2023-03-04T11:41:47.720Z"
   },
   {
    "duration": 4,
    "start_time": "2023-03-04T11:41:47.829Z"
   },
   {
    "duration": 105,
    "start_time": "2023-03-04T11:41:47.849Z"
   },
   {
    "duration": 223,
    "start_time": "2023-03-04T11:41:47.956Z"
   },
   {
    "duration": 4,
    "start_time": "2023-03-04T11:41:48.181Z"
   },
   {
    "duration": 113,
    "start_time": "2023-03-04T11:41:48.186Z"
   },
   {
    "duration": 141,
    "start_time": "2023-03-04T11:41:48.301Z"
   },
   {
    "duration": 22,
    "start_time": "2023-03-04T11:41:48.448Z"
   },
   {
    "duration": 42,
    "start_time": "2023-03-04T11:41:48.471Z"
   },
   {
    "duration": 37,
    "start_time": "2023-03-04T11:41:48.515Z"
   },
   {
    "duration": 59,
    "start_time": "2023-03-04T11:41:48.553Z"
   },
   {
    "duration": 51,
    "start_time": "2023-03-04T11:41:48.614Z"
   },
   {
    "duration": 551,
    "start_time": "2023-03-04T11:41:48.666Z"
   },
   {
    "duration": 179,
    "start_time": "2023-03-04T11:41:49.218Z"
   },
   {
    "duration": 265,
    "start_time": "2023-03-04T11:41:49.399Z"
   },
   {
    "duration": 4,
    "start_time": "2023-03-04T11:41:49.666Z"
   },
   {
    "duration": 6,
    "start_time": "2023-03-04T11:41:49.673Z"
   },
   {
    "duration": 10,
    "start_time": "2023-03-04T11:41:49.680Z"
   },
   {
    "duration": 1401,
    "start_time": "2023-03-04T11:42:57.196Z"
   },
   {
    "duration": 862,
    "start_time": "2023-03-04T11:42:58.599Z"
   },
   {
    "duration": 16,
    "start_time": "2023-03-04T11:42:59.463Z"
   },
   {
    "duration": 163,
    "start_time": "2023-03-04T11:42:59.482Z"
   },
   {
    "duration": 142,
    "start_time": "2023-03-04T11:42:59.657Z"
   },
   {
    "duration": 110,
    "start_time": "2023-03-04T11:42:59.800Z"
   },
   {
    "duration": 252,
    "start_time": "2023-03-04T11:42:59.912Z"
   },
   {
    "duration": 134,
    "start_time": "2023-03-04T11:43:00.166Z"
   },
   {
    "duration": 29,
    "start_time": "2023-03-04T11:43:00.302Z"
   },
   {
    "duration": 1538,
    "start_time": "2023-03-04T11:44:04.340Z"
   },
   {
    "duration": 842,
    "start_time": "2023-03-04T11:44:05.880Z"
   },
   {
    "duration": 16,
    "start_time": "2023-03-04T11:44:06.723Z"
   },
   {
    "duration": 165,
    "start_time": "2023-03-04T11:44:06.741Z"
   },
   {
    "duration": 163,
    "start_time": "2023-03-04T11:44:06.908Z"
   },
   {
    "duration": 99,
    "start_time": "2023-03-04T11:44:07.073Z"
   },
   {
    "duration": 222,
    "start_time": "2023-03-04T11:44:07.173Z"
   },
   {
    "duration": 138,
    "start_time": "2023-03-04T11:44:07.397Z"
   },
   {
    "duration": 37,
    "start_time": "2023-03-04T11:44:07.537Z"
   },
   {
    "duration": 21,
    "start_time": "2023-03-04T11:44:07.576Z"
   },
   {
    "duration": 27,
    "start_time": "2023-03-04T11:44:07.599Z"
   },
   {
    "duration": 106,
    "start_time": "2023-03-04T11:44:07.628Z"
   },
   {
    "duration": 2,
    "start_time": "2023-03-04T11:44:07.736Z"
   },
   {
    "duration": 114,
    "start_time": "2023-03-04T11:44:07.740Z"
   },
   {
    "duration": 226,
    "start_time": "2023-03-04T11:44:07.856Z"
   },
   {
    "duration": 3,
    "start_time": "2023-03-04T11:44:08.083Z"
   },
   {
    "duration": 118,
    "start_time": "2023-03-04T11:44:08.088Z"
   },
   {
    "duration": 158,
    "start_time": "2023-03-04T11:44:08.208Z"
   },
   {
    "duration": 24,
    "start_time": "2023-03-04T11:44:08.368Z"
   },
   {
    "duration": 64,
    "start_time": "2023-03-04T11:44:08.395Z"
   },
   {
    "duration": 24,
    "start_time": "2023-03-04T11:44:08.461Z"
   },
   {
    "duration": 82,
    "start_time": "2023-03-04T11:44:08.486Z"
   },
   {
    "duration": 34,
    "start_time": "2023-03-04T11:44:08.569Z"
   },
   {
    "duration": 576,
    "start_time": "2023-03-04T11:44:08.606Z"
   },
   {
    "duration": 151,
    "start_time": "2023-03-04T11:45:36.657Z"
   },
   {
    "duration": 186,
    "start_time": "2023-03-04T11:45:44.446Z"
   },
   {
    "duration": 11,
    "start_time": "2023-03-04T11:46:16.727Z"
   },
   {
    "duration": 18,
    "start_time": "2023-03-04T11:46:58.802Z"
   },
   {
    "duration": 137,
    "start_time": "2023-03-04T12:06:59.212Z"
   },
   {
    "duration": 3171,
    "start_time": "2023-03-04T12:07:16.936Z"
   },
   {
    "duration": 25,
    "start_time": "2023-03-04T12:07:47.988Z"
   },
   {
    "duration": 179,
    "start_time": "2023-03-04T12:08:00.336Z"
   },
   {
    "duration": 2345,
    "start_time": "2023-03-04T12:09:13.391Z"
   },
   {
    "duration": 837,
    "start_time": "2023-03-04T12:09:15.739Z"
   },
   {
    "duration": 14,
    "start_time": "2023-03-04T12:09:16.578Z"
   },
   {
    "duration": 159,
    "start_time": "2023-03-04T12:09:16.594Z"
   },
   {
    "duration": 133,
    "start_time": "2023-03-04T12:09:16.755Z"
   },
   {
    "duration": 98,
    "start_time": "2023-03-04T12:09:16.890Z"
   },
   {
    "duration": 211,
    "start_time": "2023-03-04T12:09:16.989Z"
   },
   {
    "duration": 156,
    "start_time": "2023-03-04T12:09:17.202Z"
   },
   {
    "duration": 35,
    "start_time": "2023-03-04T12:09:17.362Z"
   },
   {
    "duration": 24,
    "start_time": "2023-03-04T12:09:17.399Z"
   },
   {
    "duration": 45,
    "start_time": "2023-03-04T12:09:17.425Z"
   },
   {
    "duration": 99,
    "start_time": "2023-03-04T12:09:17.472Z"
   },
   {
    "duration": 3,
    "start_time": "2023-03-04T12:09:17.573Z"
   },
   {
    "duration": 117,
    "start_time": "2023-03-04T12:09:17.580Z"
   },
   {
    "duration": 176,
    "start_time": "2023-03-04T12:09:17.698Z"
   },
   {
    "duration": 5,
    "start_time": "2023-03-04T12:09:17.875Z"
   },
   {
    "duration": 122,
    "start_time": "2023-03-04T12:09:17.881Z"
   },
   {
    "duration": 173,
    "start_time": "2023-03-04T12:09:18.004Z"
   },
   {
    "duration": 44,
    "start_time": "2023-03-04T12:09:18.179Z"
   },
   {
    "duration": 75,
    "start_time": "2023-03-04T12:09:18.224Z"
   },
   {
    "duration": 28,
    "start_time": "2023-03-04T12:09:18.300Z"
   },
   {
    "duration": 123,
    "start_time": "2023-03-04T12:09:18.330Z"
   },
   {
    "duration": 6,
    "start_time": "2023-03-04T12:10:01.625Z"
   },
   {
    "duration": 3700,
    "start_time": "2023-03-04T12:10:51.086Z"
   },
   {
    "duration": 915,
    "start_time": "2023-03-04T12:10:54.788Z"
   },
   {
    "duration": 17,
    "start_time": "2023-03-04T12:10:55.705Z"
   },
   {
    "duration": 175,
    "start_time": "2023-03-04T12:10:55.723Z"
   },
   {
    "duration": 160,
    "start_time": "2023-03-04T12:10:55.902Z"
   },
   {
    "duration": 107,
    "start_time": "2023-03-04T12:10:56.065Z"
   },
   {
    "duration": 231,
    "start_time": "2023-03-04T12:10:56.173Z"
   },
   {
    "duration": 228,
    "start_time": "2023-03-04T12:10:56.407Z"
   },
   {
    "duration": 48,
    "start_time": "2023-03-04T12:10:56.637Z"
   },
   {
    "duration": 21,
    "start_time": "2023-03-04T12:10:56.687Z"
   },
   {
    "duration": 19,
    "start_time": "2023-03-04T12:10:56.709Z"
   },
   {
    "duration": 124,
    "start_time": "2023-03-04T12:10:56.729Z"
   },
   {
    "duration": 2,
    "start_time": "2023-03-04T12:10:56.855Z"
   },
   {
    "duration": 115,
    "start_time": "2023-03-04T12:10:56.861Z"
   },
   {
    "duration": 160,
    "start_time": "2023-03-04T12:10:56.977Z"
   },
   {
    "duration": 15,
    "start_time": "2023-03-04T12:10:57.138Z"
   },
   {
    "duration": 111,
    "start_time": "2023-03-04T12:10:57.162Z"
   },
   {
    "duration": 147,
    "start_time": "2023-03-04T12:10:57.275Z"
   },
   {
    "duration": 62,
    "start_time": "2023-03-04T12:10:57.424Z"
   },
   {
    "duration": 56,
    "start_time": "2023-03-04T12:10:57.487Z"
   },
   {
    "duration": 33,
    "start_time": "2023-03-04T12:10:57.545Z"
   },
   {
    "duration": 124,
    "start_time": "2023-03-04T12:10:57.580Z"
   },
   {
    "duration": 21,
    "start_time": "2023-03-04T12:11:12.346Z"
   },
   {
    "duration": 7,
    "start_time": "2023-03-04T12:11:14.859Z"
   },
   {
    "duration": 25,
    "start_time": "2023-03-04T12:11:52.826Z"
   },
   {
    "duration": 3959,
    "start_time": "2023-03-04T12:12:57.646Z"
   },
   {
    "duration": 1006,
    "start_time": "2023-03-04T12:13:01.607Z"
   },
   {
    "duration": 18,
    "start_time": "2023-03-04T12:13:02.615Z"
   },
   {
    "duration": 380,
    "start_time": "2023-03-04T12:13:02.635Z"
   },
   {
    "duration": 243,
    "start_time": "2023-03-04T12:13:03.017Z"
   },
   {
    "duration": 127,
    "start_time": "2023-03-04T12:13:03.262Z"
   },
   {
    "duration": 271,
    "start_time": "2023-03-04T12:13:03.391Z"
   },
   {
    "duration": 265,
    "start_time": "2023-03-04T12:13:03.663Z"
   },
   {
    "duration": 53,
    "start_time": "2023-03-04T12:13:03.930Z"
   },
   {
    "duration": 34,
    "start_time": "2023-03-04T12:13:03.985Z"
   },
   {
    "duration": 22,
    "start_time": "2023-03-04T12:13:04.021Z"
   },
   {
    "duration": 132,
    "start_time": "2023-03-04T12:13:04.052Z"
   },
   {
    "duration": 3,
    "start_time": "2023-03-04T12:13:04.187Z"
   },
   {
    "duration": 147,
    "start_time": "2023-03-04T12:13:04.193Z"
   },
   {
    "duration": 170,
    "start_time": "2023-03-04T12:13:04.343Z"
   },
   {
    "duration": 3,
    "start_time": "2023-03-04T12:13:04.515Z"
   },
   {
    "duration": 150,
    "start_time": "2023-03-04T12:13:04.519Z"
   },
   {
    "duration": 204,
    "start_time": "2023-03-04T12:13:04.680Z"
   },
   {
    "duration": 48,
    "start_time": "2023-03-04T12:13:04.887Z"
   },
   {
    "duration": 69,
    "start_time": "2023-03-04T12:13:04.937Z"
   },
   {
    "duration": 31,
    "start_time": "2023-03-04T12:13:49.396Z"
   },
   {
    "duration": 17,
    "start_time": "2023-03-04T12:13:55.926Z"
   },
   {
    "duration": 19,
    "start_time": "2023-03-04T12:13:56.776Z"
   },
   {
    "duration": 10,
    "start_time": "2023-03-04T12:14:12.162Z"
   },
   {
    "duration": 58,
    "start_time": "2023-03-04T12:14:28.916Z"
   },
   {
    "duration": 3955,
    "start_time": "2023-03-04T12:15:27.312Z"
   },
   {
    "duration": 915,
    "start_time": "2023-03-04T12:15:31.269Z"
   },
   {
    "duration": 17,
    "start_time": "2023-03-04T12:15:32.186Z"
   },
   {
    "duration": 170,
    "start_time": "2023-03-04T12:15:32.205Z"
   },
   {
    "duration": 146,
    "start_time": "2023-03-04T12:15:32.377Z"
   },
   {
    "duration": 162,
    "start_time": "2023-03-04T12:15:32.524Z"
   },
   {
    "duration": 237,
    "start_time": "2023-03-04T12:15:32.688Z"
   },
   {
    "duration": 232,
    "start_time": "2023-03-04T12:15:32.926Z"
   },
   {
    "duration": 36,
    "start_time": "2023-03-04T12:15:33.164Z"
   },
   {
    "duration": 22,
    "start_time": "2023-03-04T12:15:33.203Z"
   },
   {
    "duration": 31,
    "start_time": "2023-03-04T12:15:33.227Z"
   },
   {
    "duration": 119,
    "start_time": "2023-03-04T12:15:33.260Z"
   },
   {
    "duration": 4,
    "start_time": "2023-03-04T12:15:33.381Z"
   },
   {
    "duration": 119,
    "start_time": "2023-03-04T12:15:33.386Z"
   },
   {
    "duration": 164,
    "start_time": "2023-03-04T12:15:33.508Z"
   },
   {
    "duration": 4,
    "start_time": "2023-03-04T12:15:33.673Z"
   },
   {
    "duration": 123,
    "start_time": "2023-03-04T12:15:33.682Z"
   },
   {
    "duration": 180,
    "start_time": "2023-03-04T12:15:33.807Z"
   },
   {
    "duration": 69,
    "start_time": "2023-03-04T12:15:33.988Z"
   },
   {
    "duration": 28,
    "start_time": "2023-03-04T12:15:34.059Z"
   },
   {
    "duration": 38,
    "start_time": "2023-03-04T12:15:48.536Z"
   },
   {
    "duration": 15,
    "start_time": "2023-03-04T12:15:57.801Z"
   },
   {
    "duration": 5,
    "start_time": "2023-03-04T12:15:59.489Z"
   },
   {
    "duration": 20,
    "start_time": "2023-03-04T12:16:06.926Z"
   },
   {
    "duration": 74,
    "start_time": "2023-03-04T12:17:39.389Z"
   },
   {
    "duration": 84,
    "start_time": "2023-03-04T12:17:48.503Z"
   },
   {
    "duration": 90,
    "start_time": "2023-03-04T12:18:03.306Z"
   },
   {
    "duration": 81,
    "start_time": "2023-03-04T12:18:18.136Z"
   },
   {
    "duration": 66,
    "start_time": "2023-03-04T12:18:26.781Z"
   },
   {
    "duration": 87,
    "start_time": "2023-03-04T12:18:54.026Z"
   },
   {
    "duration": 84,
    "start_time": "2023-03-04T12:19:12.501Z"
   },
   {
    "duration": 106,
    "start_time": "2023-03-04T12:19:47.496Z"
   },
   {
    "duration": 124,
    "start_time": "2023-03-04T12:20:05.709Z"
   },
   {
    "duration": 130,
    "start_time": "2023-03-04T12:20:18.707Z"
   },
   {
    "duration": 4,
    "start_time": "2023-03-04T12:21:04.618Z"
   },
   {
    "duration": 3,
    "start_time": "2023-03-04T12:21:12.737Z"
   },
   {
    "duration": 4,
    "start_time": "2023-03-04T12:21:44.397Z"
   },
   {
    "duration": 233,
    "start_time": "2023-03-04T12:22:53.041Z"
   },
   {
    "duration": 3,
    "start_time": "2023-03-04T12:23:07.416Z"
   },
   {
    "duration": 7,
    "start_time": "2023-03-04T12:23:12.389Z"
   },
   {
    "duration": 192,
    "start_time": "2023-03-04T12:23:17.526Z"
   },
   {
    "duration": 3952,
    "start_time": "2023-03-04T12:32:25.468Z"
   },
   {
    "duration": 942,
    "start_time": "2023-03-04T12:32:29.422Z"
   },
   {
    "duration": 25,
    "start_time": "2023-03-04T12:32:30.365Z"
   },
   {
    "duration": 199,
    "start_time": "2023-03-04T12:32:30.392Z"
   },
   {
    "duration": 173,
    "start_time": "2023-03-04T12:32:30.593Z"
   },
   {
    "duration": 101,
    "start_time": "2023-03-04T12:32:30.770Z"
   },
   {
    "duration": 245,
    "start_time": "2023-03-04T12:32:30.874Z"
   },
   {
    "duration": 251,
    "start_time": "2023-03-04T12:32:31.121Z"
   },
   {
    "duration": 30,
    "start_time": "2023-03-04T12:32:31.375Z"
   },
   {
    "duration": 39,
    "start_time": "2023-03-04T12:32:31.407Z"
   },
   {
    "duration": 50,
    "start_time": "2023-03-04T12:32:31.448Z"
   },
   {
    "duration": 108,
    "start_time": "2023-03-04T12:32:31.500Z"
   },
   {
    "duration": 4,
    "start_time": "2023-03-04T12:32:31.610Z"
   },
   {
    "duration": 143,
    "start_time": "2023-03-04T12:32:31.615Z"
   },
   {
    "duration": 168,
    "start_time": "2023-03-04T12:32:31.761Z"
   },
   {
    "duration": 4,
    "start_time": "2023-03-04T12:32:31.931Z"
   },
   {
    "duration": 150,
    "start_time": "2023-03-04T12:32:31.936Z"
   },
   {
    "duration": 158,
    "start_time": "2023-03-04T12:32:32.088Z"
   },
   {
    "duration": 64,
    "start_time": "2023-03-04T12:32:32.249Z"
   },
   {
    "duration": 2,
    "start_time": "2023-03-04T12:32:32.315Z"
   },
   {
    "duration": 25,
    "start_time": "2023-03-04T12:35:56.417Z"
   },
   {
    "duration": 335,
    "start_time": "2023-03-04T12:35:56.696Z"
   },
   {
    "duration": 6,
    "start_time": "2023-03-04T12:35:59.578Z"
   },
   {
    "duration": 3853,
    "start_time": "2023-03-04T12:36:47.516Z"
   },
   {
    "duration": 921,
    "start_time": "2023-03-04T12:36:51.372Z"
   },
   {
    "duration": 16,
    "start_time": "2023-03-04T12:36:52.295Z"
   },
   {
    "duration": 179,
    "start_time": "2023-03-04T12:36:52.312Z"
   },
   {
    "duration": 156,
    "start_time": "2023-03-04T12:36:52.493Z"
   },
   {
    "duration": 116,
    "start_time": "2023-03-04T12:36:52.651Z"
   },
   {
    "duration": 241,
    "start_time": "2023-03-04T12:36:52.771Z"
   },
   {
    "duration": 221,
    "start_time": "2023-03-04T12:36:53.014Z"
   },
   {
    "duration": 46,
    "start_time": "2023-03-04T12:36:53.237Z"
   },
   {
    "duration": 22,
    "start_time": "2023-03-04T12:36:53.285Z"
   },
   {
    "duration": 43,
    "start_time": "2023-03-04T12:36:53.310Z"
   },
   {
    "duration": 122,
    "start_time": "2023-03-04T12:36:53.355Z"
   },
   {
    "duration": 3,
    "start_time": "2023-03-04T12:36:53.479Z"
   },
   {
    "duration": 119,
    "start_time": "2023-03-04T12:36:53.484Z"
   },
   {
    "duration": 169,
    "start_time": "2023-03-04T12:36:53.604Z"
   },
   {
    "duration": 5,
    "start_time": "2023-03-04T12:36:53.775Z"
   },
   {
    "duration": 124,
    "start_time": "2023-03-04T12:36:53.781Z"
   },
   {
    "duration": 167,
    "start_time": "2023-03-04T12:36:53.907Z"
   },
   {
    "duration": 56,
    "start_time": "2023-03-04T12:36:54.076Z"
   },
   {
    "duration": 3,
    "start_time": "2023-03-04T12:36:54.133Z"
   },
   {
    "duration": 43,
    "start_time": "2023-03-04T12:36:54.148Z"
   },
   {
    "duration": 15,
    "start_time": "2023-03-04T12:36:54.193Z"
   },
   {
    "duration": 159,
    "start_time": "2023-03-04T12:37:02.073Z"
   },
   {
    "duration": 4,
    "start_time": "2023-03-04T12:37:02.717Z"
   },
   {
    "duration": 4138,
    "start_time": "2023-03-04T12:38:07.987Z"
   },
   {
    "duration": 974,
    "start_time": "2023-03-04T12:38:12.128Z"
   },
   {
    "duration": 19,
    "start_time": "2023-03-04T12:38:13.104Z"
   },
   {
    "duration": 185,
    "start_time": "2023-03-04T12:38:13.125Z"
   },
   {
    "duration": 151,
    "start_time": "2023-03-04T12:38:13.312Z"
   },
   {
    "duration": 103,
    "start_time": "2023-03-04T12:38:13.464Z"
   },
   {
    "duration": 234,
    "start_time": "2023-03-04T12:38:13.568Z"
   },
   {
    "duration": 254,
    "start_time": "2023-03-04T12:38:13.804Z"
   },
   {
    "duration": 38,
    "start_time": "2023-03-04T12:38:14.077Z"
   },
   {
    "duration": 34,
    "start_time": "2023-03-04T12:38:14.118Z"
   },
   {
    "duration": 60,
    "start_time": "2023-03-04T12:38:14.154Z"
   },
   {
    "duration": 102,
    "start_time": "2023-03-04T12:38:14.217Z"
   },
   {
    "duration": 3,
    "start_time": "2023-03-04T12:38:14.321Z"
   },
   {
    "duration": 119,
    "start_time": "2023-03-04T12:38:14.326Z"
   },
   {
    "duration": 174,
    "start_time": "2023-03-04T12:38:14.448Z"
   },
   {
    "duration": 4,
    "start_time": "2023-03-04T12:38:14.624Z"
   },
   {
    "duration": 162,
    "start_time": "2023-03-04T12:38:14.630Z"
   },
   {
    "duration": 172,
    "start_time": "2023-03-04T12:38:14.794Z"
   },
   {
    "duration": 51,
    "start_time": "2023-03-04T12:38:14.968Z"
   },
   {
    "duration": 30,
    "start_time": "2023-03-04T12:38:15.021Z"
   },
   {
    "duration": 61,
    "start_time": "2023-03-04T12:38:15.054Z"
   },
   {
    "duration": 3927,
    "start_time": "2023-03-04T12:46:24.069Z"
   },
   {
    "duration": 888,
    "start_time": "2023-03-04T12:46:27.998Z"
   },
   {
    "duration": 17,
    "start_time": "2023-03-04T12:46:28.888Z"
   },
   {
    "duration": 161,
    "start_time": "2023-03-04T12:46:28.907Z"
   },
   {
    "duration": 138,
    "start_time": "2023-03-04T12:46:29.070Z"
   },
   {
    "duration": 154,
    "start_time": "2023-03-04T12:46:29.210Z"
   },
   {
    "duration": 244,
    "start_time": "2023-03-04T12:46:29.365Z"
   },
   {
    "duration": 224,
    "start_time": "2023-03-04T12:46:29.610Z"
   },
   {
    "duration": 44,
    "start_time": "2023-03-04T12:46:29.836Z"
   },
   {
    "duration": 27,
    "start_time": "2023-03-04T12:46:29.882Z"
   },
   {
    "duration": 43,
    "start_time": "2023-03-04T12:46:29.910Z"
   },
   {
    "duration": 125,
    "start_time": "2023-03-04T12:46:29.956Z"
   },
   {
    "duration": 4,
    "start_time": "2023-03-04T12:46:30.082Z"
   },
   {
    "duration": 181,
    "start_time": "2023-03-04T12:46:30.088Z"
   },
   {
    "duration": 168,
    "start_time": "2023-03-04T12:46:30.274Z"
   },
   {
    "duration": 8,
    "start_time": "2023-03-04T12:46:30.443Z"
   },
   {
    "duration": 169,
    "start_time": "2023-03-04T12:46:30.454Z"
   },
   {
    "duration": 171,
    "start_time": "2023-03-04T12:46:30.625Z"
   },
   {
    "duration": 56,
    "start_time": "2023-03-04T12:46:30.798Z"
   },
   {
    "duration": 4,
    "start_time": "2023-03-04T12:46:30.856Z"
   },
   {
    "duration": 63,
    "start_time": "2023-03-04T12:46:30.862Z"
   },
   {
    "duration": 65,
    "start_time": "2023-03-04T12:46:30.928Z"
   },
   {
    "duration": 168,
    "start_time": "2023-03-04T12:46:30.995Z"
   },
   {
    "duration": 7,
    "start_time": "2023-03-04T12:46:31.168Z"
   },
   {
    "duration": 177,
    "start_time": "2023-03-04T12:46:31.177Z"
   },
   {
    "duration": 528,
    "start_time": "2023-03-04T12:47:48.173Z"
   },
   {
    "duration": 40,
    "start_time": "2023-03-04T12:47:57.632Z"
   },
   {
    "duration": 10,
    "start_time": "2023-03-04T12:50:02.017Z"
   },
   {
    "duration": 3,
    "start_time": "2023-03-04T12:52:17.337Z"
   },
   {
    "duration": 17,
    "start_time": "2023-03-04T12:52:44.387Z"
   },
   {
    "duration": 10,
    "start_time": "2023-03-04T12:52:59.806Z"
   },
   {
    "duration": 3,
    "start_time": "2023-03-04T12:54:06.921Z"
   },
   {
    "duration": 215,
    "start_time": "2023-03-04T13:00:01.288Z"
   },
   {
    "duration": 97,
    "start_time": "2023-03-04T13:00:09.725Z"
   },
   {
    "duration": 232,
    "start_time": "2023-03-04T13:00:14.986Z"
   },
   {
    "duration": 7,
    "start_time": "2023-03-04T13:00:25.378Z"
   },
   {
    "duration": 212,
    "start_time": "2023-03-04T13:03:48.235Z"
   },
   {
    "duration": 12,
    "start_time": "2023-03-04T13:04:15.606Z"
   },
   {
    "duration": 3,
    "start_time": "2023-03-04T13:04:23.305Z"
   },
   {
    "duration": 3948,
    "start_time": "2023-03-04T13:04:43.776Z"
   },
   {
    "duration": 964,
    "start_time": "2023-03-04T13:04:47.726Z"
   },
   {
    "duration": 17,
    "start_time": "2023-03-04T13:04:48.692Z"
   },
   {
    "duration": 181,
    "start_time": "2023-03-04T13:04:48.711Z"
   },
   {
    "duration": 151,
    "start_time": "2023-03-04T13:04:48.894Z"
   },
   {
    "duration": 126,
    "start_time": "2023-03-04T13:04:49.048Z"
   },
   {
    "duration": 243,
    "start_time": "2023-03-04T13:04:49.176Z"
   },
   {
    "duration": 244,
    "start_time": "2023-03-04T13:04:49.421Z"
   },
   {
    "duration": 32,
    "start_time": "2023-03-04T13:04:49.667Z"
   },
   {
    "duration": 22,
    "start_time": "2023-03-04T13:04:49.702Z"
   },
   {
    "duration": 45,
    "start_time": "2023-03-04T13:04:49.726Z"
   },
   {
    "duration": 98,
    "start_time": "2023-03-04T13:04:49.778Z"
   },
   {
    "duration": 3,
    "start_time": "2023-03-04T13:04:49.878Z"
   },
   {
    "duration": 136,
    "start_time": "2023-03-04T13:04:49.882Z"
   },
   {
    "duration": 174,
    "start_time": "2023-03-04T13:04:50.020Z"
   },
   {
    "duration": 3,
    "start_time": "2023-03-04T13:04:50.196Z"
   },
   {
    "duration": 118,
    "start_time": "2023-03-04T13:04:50.200Z"
   },
   {
    "duration": 165,
    "start_time": "2023-03-04T13:04:50.320Z"
   },
   {
    "duration": 45,
    "start_time": "2023-03-04T13:04:50.486Z"
   },
   {
    "duration": 15,
    "start_time": "2023-03-04T13:04:50.533Z"
   },
   {
    "duration": 54,
    "start_time": "2023-03-04T13:04:50.550Z"
   },
   {
    "duration": 15,
    "start_time": "2023-03-04T13:04:50.606Z"
   },
   {
    "duration": 153,
    "start_time": "2023-03-04T13:04:50.623Z"
   },
   {
    "duration": 5,
    "start_time": "2023-03-04T13:04:50.778Z"
   },
   {
    "duration": 552,
    "start_time": "2023-03-04T13:04:50.784Z"
   },
   {
    "duration": 28,
    "start_time": "2023-03-04T13:04:51.337Z"
   },
   {
    "duration": 7,
    "start_time": "2023-03-04T13:04:51.374Z"
   },
   {
    "duration": 331,
    "start_time": "2023-03-04T13:04:51.383Z"
   },
   {
    "duration": 87,
    "start_time": "2023-03-04T13:05:40.245Z"
   },
   {
    "duration": 106,
    "start_time": "2023-03-04T13:06:13.095Z"
   },
   {
    "duration": 65,
    "start_time": "2023-03-04T13:06:19.676Z"
   },
   {
    "duration": 78,
    "start_time": "2023-03-04T13:06:37.956Z"
   },
   {
    "duration": 125,
    "start_time": "2023-03-04T13:06:52.905Z"
   },
   {
    "duration": 20,
    "start_time": "2023-03-04T13:09:40.045Z"
   },
   {
    "duration": 30,
    "start_time": "2023-03-04T13:09:50.369Z"
   },
   {
    "duration": 1425,
    "start_time": "2023-03-04T13:11:29.560Z"
   },
   {
    "duration": 213,
    "start_time": "2023-03-04T13:11:35.929Z"
   },
   {
    "duration": 5,
    "start_time": "2023-03-04T13:12:08.105Z"
   },
   {
    "duration": 196,
    "start_time": "2023-03-04T13:12:28.026Z"
   },
   {
    "duration": 10,
    "start_time": "2023-03-04T13:14:01.325Z"
   },
   {
    "duration": 14,
    "start_time": "2023-03-04T13:14:12.385Z"
   },
   {
    "duration": 40,
    "start_time": "2023-03-04T13:14:25.235Z"
   },
   {
    "duration": 39,
    "start_time": "2023-03-04T13:14:36.464Z"
   },
   {
    "duration": 196,
    "start_time": "2023-03-04T13:15:05.666Z"
   },
   {
    "duration": 189,
    "start_time": "2023-03-04T13:15:13.135Z"
   },
   {
    "duration": 251,
    "start_time": "2023-03-04T13:15:52.224Z"
   },
   {
    "duration": 221,
    "start_time": "2023-03-04T13:16:46.836Z"
   },
   {
    "duration": 211,
    "start_time": "2023-03-04T13:17:08.389Z"
   },
   {
    "duration": 3964,
    "start_time": "2023-03-04T13:17:48.337Z"
   },
   {
    "duration": 875,
    "start_time": "2023-03-04T13:17:52.303Z"
   },
   {
    "duration": 18,
    "start_time": "2023-03-04T13:17:53.180Z"
   },
   {
    "duration": 165,
    "start_time": "2023-03-04T13:17:53.201Z"
   },
   {
    "duration": 193,
    "start_time": "2023-03-04T13:17:53.368Z"
   },
   {
    "duration": 140,
    "start_time": "2023-03-04T13:17:53.562Z"
   },
   {
    "duration": 238,
    "start_time": "2023-03-04T13:17:53.704Z"
   },
   {
    "duration": 263,
    "start_time": "2023-03-04T13:17:53.943Z"
   },
   {
    "duration": 43,
    "start_time": "2023-03-04T13:17:54.208Z"
   },
   {
    "duration": 25,
    "start_time": "2023-03-04T13:17:54.262Z"
   },
   {
    "duration": 22,
    "start_time": "2023-03-04T13:17:54.289Z"
   },
   {
    "duration": 108,
    "start_time": "2023-03-04T13:17:54.313Z"
   },
   {
    "duration": 3,
    "start_time": "2023-03-04T13:17:54.423Z"
   },
   {
    "duration": 135,
    "start_time": "2023-03-04T13:17:54.428Z"
   },
   {
    "duration": 160,
    "start_time": "2023-03-04T13:17:54.567Z"
   },
   {
    "duration": 3,
    "start_time": "2023-03-04T13:17:54.728Z"
   },
   {
    "duration": 123,
    "start_time": "2023-03-04T13:17:54.732Z"
   },
   {
    "duration": 162,
    "start_time": "2023-03-04T13:17:54.860Z"
   },
   {
    "duration": 64,
    "start_time": "2023-03-04T13:17:55.025Z"
   },
   {
    "duration": 3,
    "start_time": "2023-03-04T13:17:55.090Z"
   },
   {
    "duration": 36,
    "start_time": "2023-03-04T13:17:55.095Z"
   },
   {
    "duration": 34,
    "start_time": "2023-03-04T13:17:55.133Z"
   },
   {
    "duration": 164,
    "start_time": "2023-03-04T13:17:55.169Z"
   },
   {
    "duration": 4,
    "start_time": "2023-03-04T13:17:55.336Z"
   },
   {
    "duration": 548,
    "start_time": "2023-03-04T13:17:55.348Z"
   },
   {
    "duration": 12,
    "start_time": "2023-03-04T13:17:55.897Z"
   },
   {
    "duration": 30,
    "start_time": "2023-03-04T13:17:55.911Z"
   },
   {
    "duration": 201,
    "start_time": "2023-03-04T13:17:55.944Z"
   },
   {
    "duration": 216,
    "start_time": "2023-03-04T13:17:56.148Z"
   },
   {
    "duration": 2230,
    "start_time": "2023-03-04T13:19:45.866Z"
   },
   {
    "duration": 813,
    "start_time": "2023-03-04T13:19:48.099Z"
   },
   {
    "duration": 14,
    "start_time": "2023-03-04T13:19:48.914Z"
   },
   {
    "duration": 168,
    "start_time": "2023-03-04T13:19:48.930Z"
   },
   {
    "duration": 164,
    "start_time": "2023-03-04T13:19:49.100Z"
   },
   {
    "duration": 91,
    "start_time": "2023-03-04T13:19:49.266Z"
   },
   {
    "duration": 210,
    "start_time": "2023-03-04T13:19:49.359Z"
   },
   {
    "duration": 144,
    "start_time": "2023-03-04T13:19:49.571Z"
   },
   {
    "duration": 47,
    "start_time": "2023-03-04T13:19:49.717Z"
   },
   {
    "duration": 21,
    "start_time": "2023-03-04T13:19:49.768Z"
   },
   {
    "duration": 20,
    "start_time": "2023-03-04T13:19:49.790Z"
   },
   {
    "duration": 104,
    "start_time": "2023-03-04T13:19:49.812Z"
   },
   {
    "duration": 3,
    "start_time": "2023-03-04T13:19:49.918Z"
   },
   {
    "duration": 126,
    "start_time": "2023-03-04T13:19:49.923Z"
   },
   {
    "duration": 153,
    "start_time": "2023-03-04T13:19:50.055Z"
   },
   {
    "duration": 3,
    "start_time": "2023-03-04T13:19:50.209Z"
   },
   {
    "duration": 114,
    "start_time": "2023-03-04T13:19:50.214Z"
   },
   {
    "duration": 167,
    "start_time": "2023-03-04T13:19:50.329Z"
   },
   {
    "duration": 52,
    "start_time": "2023-03-04T13:19:50.497Z"
   },
   {
    "duration": 6,
    "start_time": "2023-03-04T13:19:50.558Z"
   },
   {
    "duration": 30,
    "start_time": "2023-03-04T13:19:50.566Z"
   },
   {
    "duration": 17,
    "start_time": "2023-03-04T13:19:50.598Z"
   },
   {
    "duration": 129,
    "start_time": "2023-03-04T13:19:50.617Z"
   },
   {
    "duration": 10,
    "start_time": "2023-03-04T13:19:50.751Z"
   },
   {
    "duration": 514,
    "start_time": "2023-03-04T13:19:50.763Z"
   },
   {
    "duration": 11,
    "start_time": "2023-03-04T13:19:58.945Z"
   },
   {
    "duration": 3,
    "start_time": "2023-03-04T13:20:02.615Z"
   },
   {
    "duration": 40,
    "start_time": "2023-03-04T13:20:32.105Z"
   },
   {
    "duration": 202,
    "start_time": "2023-03-04T13:20:42.995Z"
   },
   {
    "duration": 234,
    "start_time": "2023-03-04T13:22:40.335Z"
   },
   {
    "duration": 516,
    "start_time": "2023-03-04T13:24:23.535Z"
   },
   {
    "duration": 4,
    "start_time": "2023-03-04T13:33:01.743Z"
   },
   {
    "duration": 5,
    "start_time": "2023-03-04T13:33:05.522Z"
   },
   {
    "duration": 3544,
    "start_time": "2023-03-04T13:34:30.328Z"
   },
   {
    "duration": 824,
    "start_time": "2023-03-04T13:34:33.875Z"
   },
   {
    "duration": 16,
    "start_time": "2023-03-04T13:34:34.701Z"
   },
   {
    "duration": 154,
    "start_time": "2023-03-04T13:34:34.719Z"
   },
   {
    "duration": 131,
    "start_time": "2023-03-04T13:34:34.876Z"
   },
   {
    "duration": 105,
    "start_time": "2023-03-04T13:34:35.008Z"
   },
   {
    "duration": 264,
    "start_time": "2023-03-04T13:34:35.115Z"
   },
   {
    "duration": 225,
    "start_time": "2023-03-04T13:34:35.381Z"
   },
   {
    "duration": 30,
    "start_time": "2023-03-04T13:34:35.607Z"
   },
   {
    "duration": 22,
    "start_time": "2023-03-04T13:34:35.647Z"
   },
   {
    "duration": 27,
    "start_time": "2023-03-04T13:34:35.670Z"
   },
   {
    "duration": 103,
    "start_time": "2023-03-04T13:34:35.699Z"
   },
   {
    "duration": 27,
    "start_time": "2023-03-04T13:34:35.804Z"
   },
   {
    "duration": 132,
    "start_time": "2023-03-04T13:34:35.835Z"
   },
   {
    "duration": 151,
    "start_time": "2023-03-04T13:34:35.969Z"
   },
   {
    "duration": 4,
    "start_time": "2023-03-04T13:34:36.122Z"
   },
   {
    "duration": 104,
    "start_time": "2023-03-04T13:34:36.128Z"
   },
   {
    "duration": 161,
    "start_time": "2023-03-04T13:34:36.234Z"
   },
   {
    "duration": 55,
    "start_time": "2023-03-04T13:34:36.397Z"
   },
   {
    "duration": 3,
    "start_time": "2023-03-04T13:34:36.454Z"
   },
   {
    "duration": 25,
    "start_time": "2023-03-04T13:34:36.459Z"
   },
   {
    "duration": 17,
    "start_time": "2023-03-04T13:34:36.486Z"
   },
   {
    "duration": 159,
    "start_time": "2023-03-04T13:34:36.505Z"
   },
   {
    "duration": 5,
    "start_time": "2023-03-04T13:34:36.666Z"
   },
   {
    "duration": 8,
    "start_time": "2023-03-04T13:34:36.672Z"
   },
   {
    "duration": 500,
    "start_time": "2023-03-04T13:34:36.682Z"
   },
   {
    "duration": 11,
    "start_time": "2023-03-04T13:34:37.184Z"
   },
   {
    "duration": 7,
    "start_time": "2023-03-04T13:34:37.197Z"
   },
   {
    "duration": 55,
    "start_time": "2023-03-04T13:34:37.206Z"
   },
   {
    "duration": 177,
    "start_time": "2023-03-04T13:34:37.263Z"
   },
   {
    "duration": 237,
    "start_time": "2023-03-04T13:34:37.442Z"
   },
   {
    "duration": 89,
    "start_time": "2023-03-04T13:35:37.772Z"
   },
   {
    "duration": 67,
    "start_time": "2023-03-04T13:42:37.203Z"
   },
   {
    "duration": 92,
    "start_time": "2023-03-04T13:42:44.524Z"
   },
   {
    "duration": 65,
    "start_time": "2023-03-04T13:46:26.276Z"
   },
   {
    "duration": 90,
    "start_time": "2023-03-04T13:46:31.804Z"
   },
   {
    "duration": 3886,
    "start_time": "2023-03-04T13:49:19.474Z"
   },
   {
    "duration": 900,
    "start_time": "2023-03-04T13:49:23.363Z"
   },
   {
    "duration": 23,
    "start_time": "2023-03-04T13:49:24.265Z"
   },
   {
    "duration": 174,
    "start_time": "2023-03-04T13:49:24.290Z"
   },
   {
    "duration": 160,
    "start_time": "2023-03-04T13:49:24.466Z"
   },
   {
    "duration": 98,
    "start_time": "2023-03-04T13:49:24.628Z"
   },
   {
    "duration": 259,
    "start_time": "2023-03-04T13:49:24.728Z"
   },
   {
    "duration": 251,
    "start_time": "2023-03-04T13:49:24.989Z"
   },
   {
    "duration": 45,
    "start_time": "2023-03-04T13:49:25.241Z"
   },
   {
    "duration": 36,
    "start_time": "2023-03-04T13:49:25.288Z"
   },
   {
    "duration": 48,
    "start_time": "2023-03-04T13:49:25.327Z"
   },
   {
    "duration": 128,
    "start_time": "2023-03-04T13:49:25.377Z"
   },
   {
    "duration": 4,
    "start_time": "2023-03-04T13:49:25.507Z"
   },
   {
    "duration": 130,
    "start_time": "2023-03-04T13:49:25.514Z"
   },
   {
    "duration": 162,
    "start_time": "2023-03-04T13:49:25.645Z"
   },
   {
    "duration": 2,
    "start_time": "2023-03-04T13:49:25.809Z"
   },
   {
    "duration": 159,
    "start_time": "2023-03-04T13:49:25.813Z"
   },
   {
    "duration": 159,
    "start_time": "2023-03-04T13:49:25.977Z"
   },
   {
    "duration": 59,
    "start_time": "2023-03-04T13:49:26.137Z"
   },
   {
    "duration": 3,
    "start_time": "2023-03-04T13:49:26.197Z"
   },
   {
    "duration": 27,
    "start_time": "2023-03-04T13:49:26.202Z"
   },
   {
    "duration": 29,
    "start_time": "2023-03-04T13:49:26.231Z"
   },
   {
    "duration": 156,
    "start_time": "2023-03-04T13:49:26.262Z"
   },
   {
    "duration": 4,
    "start_time": "2023-03-04T13:49:26.420Z"
   },
   {
    "duration": 10,
    "start_time": "2023-03-04T13:49:26.425Z"
   },
   {
    "duration": 538,
    "start_time": "2023-03-04T13:49:26.436Z"
   },
   {
    "duration": 11,
    "start_time": "2023-03-04T13:49:26.976Z"
   },
   {
    "duration": 52,
    "start_time": "2023-03-04T13:49:26.989Z"
   },
   {
    "duration": 270,
    "start_time": "2023-03-04T13:49:27.059Z"
   },
   {
    "duration": 92,
    "start_time": "2023-03-04T13:49:27.331Z"
   },
   {
    "duration": 147,
    "start_time": "2023-03-04T13:49:27.425Z"
   },
   {
    "duration": 19,
    "start_time": "2023-03-04T13:51:31.544Z"
   },
   {
    "duration": 51,
    "start_time": "2023-03-04T13:51:42.194Z"
   },
   {
    "duration": 4278,
    "start_time": "2023-03-04T13:52:20.887Z"
   },
   {
    "duration": 1031,
    "start_time": "2023-03-04T13:52:25.171Z"
   },
   {
    "duration": 18,
    "start_time": "2023-03-04T13:52:26.204Z"
   },
   {
    "duration": 190,
    "start_time": "2023-03-04T13:52:26.224Z"
   },
   {
    "duration": 184,
    "start_time": "2023-03-04T13:52:26.416Z"
   },
   {
    "duration": 154,
    "start_time": "2023-03-04T13:52:26.602Z"
   },
   {
    "duration": 252,
    "start_time": "2023-03-04T13:52:26.761Z"
   },
   {
    "duration": 263,
    "start_time": "2023-03-04T13:52:27.015Z"
   },
   {
    "duration": 29,
    "start_time": "2023-03-04T13:52:27.285Z"
   },
   {
    "duration": 21,
    "start_time": "2023-03-04T13:52:27.318Z"
   },
   {
    "duration": 32,
    "start_time": "2023-03-04T13:52:27.341Z"
   },
   {
    "duration": 132,
    "start_time": "2023-03-04T13:52:27.375Z"
   },
   {
    "duration": 3,
    "start_time": "2023-03-04T13:52:27.509Z"
   },
   {
    "duration": 126,
    "start_time": "2023-03-04T13:52:27.514Z"
   },
   {
    "duration": 177,
    "start_time": "2023-03-04T13:52:27.642Z"
   },
   {
    "duration": 4,
    "start_time": "2023-03-04T13:52:27.820Z"
   },
   {
    "duration": 159,
    "start_time": "2023-03-04T13:52:27.825Z"
   },
   {
    "duration": 212,
    "start_time": "2023-03-04T13:52:27.987Z"
   },
   {
    "duration": 59,
    "start_time": "2023-03-04T13:52:28.201Z"
   },
   {
    "duration": 5,
    "start_time": "2023-03-04T13:52:28.262Z"
   },
   {
    "duration": 52,
    "start_time": "2023-03-04T13:52:28.270Z"
   },
   {
    "duration": 18,
    "start_time": "2023-03-04T13:52:28.324Z"
   },
   {
    "duration": 186,
    "start_time": "2023-03-04T13:52:28.344Z"
   },
   {
    "duration": 5,
    "start_time": "2023-03-04T13:52:28.532Z"
   },
   {
    "duration": 7,
    "start_time": "2023-03-04T13:52:28.548Z"
   },
   {
    "duration": 578,
    "start_time": "2023-03-04T13:52:28.557Z"
   },
   {
    "duration": 21,
    "start_time": "2023-03-04T13:52:29.137Z"
   },
   {
    "duration": 96,
    "start_time": "2023-03-04T13:52:29.161Z"
   },
   {
    "duration": 280,
    "start_time": "2023-03-04T13:52:29.259Z"
   },
   {
    "duration": 78,
    "start_time": "2023-03-04T13:52:33.188Z"
   },
   {
    "duration": 107,
    "start_time": "2023-03-04T13:52:34.192Z"
   },
   {
    "duration": 3,
    "start_time": "2023-03-04T13:53:14.314Z"
   },
   {
    "duration": 3,
    "start_time": "2023-03-04T13:53:26.373Z"
   },
   {
    "duration": 4,
    "start_time": "2023-03-04T13:53:34.067Z"
   },
   {
    "duration": 178,
    "start_time": "2023-03-04T13:53:34.635Z"
   },
   {
    "duration": 17,
    "start_time": "2023-03-04T13:53:46.594Z"
   },
   {
    "duration": 4,
    "start_time": "2023-03-04T13:53:51.475Z"
   },
   {
    "duration": 13,
    "start_time": "2023-03-04T13:53:55.563Z"
   },
   {
    "duration": 17,
    "start_time": "2023-03-04T13:53:56.175Z"
   },
   {
    "duration": 3,
    "start_time": "2023-03-04T13:54:12.794Z"
   },
   {
    "duration": 10,
    "start_time": "2023-03-04T13:54:13.425Z"
   },
   {
    "duration": 3,
    "start_time": "2023-03-04T13:54:21.514Z"
   },
   {
    "duration": 23,
    "start_time": "2023-03-04T13:54:22.219Z"
   },
   {
    "duration": 8,
    "start_time": "2023-03-04T13:54:41.171Z"
   },
   {
    "duration": 37,
    "start_time": "2023-03-04T13:54:45.663Z"
   },
   {
    "duration": 6,
    "start_time": "2023-03-04T13:55:00.370Z"
   },
   {
    "duration": 43,
    "start_time": "2023-03-04T13:55:00.845Z"
   },
   {
    "duration": 15,
    "start_time": "2023-03-04T13:55:15.775Z"
   },
   {
    "duration": 3,
    "start_time": "2023-03-04T13:56:59.424Z"
   },
   {
    "duration": 10,
    "start_time": "2023-03-04T13:58:16.674Z"
   },
   {
    "duration": 174,
    "start_time": "2023-03-04T13:58:37.827Z"
   },
   {
    "duration": 83,
    "start_time": "2023-03-04T13:59:28.604Z"
   },
   {
    "duration": 3840,
    "start_time": "2023-03-04T14:00:13.472Z"
   },
   {
    "duration": 110,
    "start_time": "2023-03-04T14:00:26.537Z"
   },
   {
    "duration": 3857,
    "start_time": "2023-03-04T14:01:18.474Z"
   },
   {
    "duration": 916,
    "start_time": "2023-03-04T14:01:22.334Z"
   },
   {
    "duration": 25,
    "start_time": "2023-03-04T14:01:23.252Z"
   },
   {
    "duration": 157,
    "start_time": "2023-03-04T14:01:23.280Z"
   },
   {
    "duration": 178,
    "start_time": "2023-03-04T14:01:23.439Z"
   },
   {
    "duration": 164,
    "start_time": "2023-03-04T14:01:23.618Z"
   },
   {
    "duration": 253,
    "start_time": "2023-03-04T14:01:23.784Z"
   },
   {
    "duration": 252,
    "start_time": "2023-03-04T14:01:24.039Z"
   },
   {
    "duration": 30,
    "start_time": "2023-03-04T14:01:24.293Z"
   },
   {
    "duration": 45,
    "start_time": "2023-03-04T14:01:24.327Z"
   },
   {
    "duration": 23,
    "start_time": "2023-03-04T14:01:24.377Z"
   },
   {
    "duration": 103,
    "start_time": "2023-03-04T14:01:24.402Z"
   },
   {
    "duration": 3,
    "start_time": "2023-03-04T14:01:24.506Z"
   },
   {
    "duration": 125,
    "start_time": "2023-03-04T14:01:24.511Z"
   },
   {
    "duration": 181,
    "start_time": "2023-03-04T14:01:24.638Z"
   },
   {
    "duration": 3,
    "start_time": "2023-03-04T14:01:24.821Z"
   },
   {
    "duration": 127,
    "start_time": "2023-03-04T14:01:24.825Z"
   },
   {
    "duration": 176,
    "start_time": "2023-03-04T14:01:24.955Z"
   },
   {
    "duration": 70,
    "start_time": "2023-03-04T14:01:25.132Z"
   },
   {
    "duration": 3,
    "start_time": "2023-03-04T14:01:25.204Z"
   },
   {
    "duration": 64,
    "start_time": "2023-03-04T14:01:25.209Z"
   },
   {
    "duration": 27,
    "start_time": "2023-03-04T14:01:25.275Z"
   },
   {
    "duration": 185,
    "start_time": "2023-03-04T14:01:25.304Z"
   },
   {
    "duration": 4,
    "start_time": "2023-03-04T14:01:25.493Z"
   },
   {
    "duration": 9,
    "start_time": "2023-03-04T14:01:25.499Z"
   },
   {
    "duration": 556,
    "start_time": "2023-03-04T14:01:25.510Z"
   },
   {
    "duration": 53,
    "start_time": "2023-03-04T14:01:26.068Z"
   },
   {
    "duration": 293,
    "start_time": "2023-03-04T14:01:26.126Z"
   },
   {
    "duration": 193,
    "start_time": "2023-03-04T14:01:26.420Z"
   },
   {
    "duration": 0,
    "start_time": "2023-03-04T14:01:26.615Z"
   },
   {
    "duration": 1,
    "start_time": "2023-03-04T14:01:26.615Z"
   },
   {
    "duration": 0,
    "start_time": "2023-03-04T14:01:26.617Z"
   },
   {
    "duration": 246,
    "start_time": "2023-03-04T14:01:51.229Z"
   },
   {
    "duration": 83,
    "start_time": "2023-03-04T14:01:52.310Z"
   },
   {
    "duration": 74,
    "start_time": "2023-03-04T14:01:55.235Z"
   },
   {
    "duration": 4011,
    "start_time": "2023-03-04T14:02:16.295Z"
   },
   {
    "duration": 1000,
    "start_time": "2023-03-04T14:02:20.308Z"
   },
   {
    "duration": 17,
    "start_time": "2023-03-04T14:02:21.309Z"
   },
   {
    "duration": 206,
    "start_time": "2023-03-04T14:02:21.328Z"
   },
   {
    "duration": 184,
    "start_time": "2023-03-04T14:02:21.537Z"
   },
   {
    "duration": 114,
    "start_time": "2023-03-04T14:02:21.723Z"
   },
   {
    "duration": 263,
    "start_time": "2023-03-04T14:02:21.839Z"
   },
   {
    "duration": 240,
    "start_time": "2023-03-04T14:02:22.104Z"
   },
   {
    "duration": 52,
    "start_time": "2023-03-04T14:02:22.346Z"
   },
   {
    "duration": 23,
    "start_time": "2023-03-04T14:02:22.401Z"
   },
   {
    "duration": 74,
    "start_time": "2023-03-04T14:02:22.426Z"
   },
   {
    "duration": 100,
    "start_time": "2023-03-04T14:02:22.502Z"
   },
   {
    "duration": 4,
    "start_time": "2023-03-04T14:02:22.604Z"
   },
   {
    "duration": 146,
    "start_time": "2023-03-04T14:02:22.610Z"
   },
   {
    "duration": 187,
    "start_time": "2023-03-04T14:02:22.761Z"
   },
   {
    "duration": 4,
    "start_time": "2023-03-04T14:02:22.950Z"
   },
   {
    "duration": 164,
    "start_time": "2023-03-04T14:02:22.955Z"
   },
   {
    "duration": 193,
    "start_time": "2023-03-04T14:02:23.120Z"
   },
   {
    "duration": 59,
    "start_time": "2023-03-04T14:02:23.316Z"
   },
   {
    "duration": 10,
    "start_time": "2023-03-04T14:02:23.379Z"
   },
   {
    "duration": 29,
    "start_time": "2023-03-04T14:02:31.716Z"
   },
   {
    "duration": 30,
    "start_time": "2023-03-04T14:02:40.336Z"
   },
   {
    "duration": 146,
    "start_time": "2023-03-04T14:02:42.305Z"
   },
   {
    "duration": 3,
    "start_time": "2023-03-04T14:02:43.336Z"
   },
   {
    "duration": 6,
    "start_time": "2023-03-04T14:02:45.046Z"
   },
   {
    "duration": 564,
    "start_time": "2023-03-04T14:02:53.496Z"
   },
   {
    "duration": 3,
    "start_time": "2023-03-04T14:03:06.745Z"
   },
   {
    "duration": 47,
    "start_time": "2023-03-04T14:03:07.396Z"
   },
   {
    "duration": 267,
    "start_time": "2023-03-04T14:03:09.330Z"
   },
   {
    "duration": 99,
    "start_time": "2023-03-04T14:03:10.825Z"
   },
   {
    "duration": 207,
    "start_time": "2023-03-04T14:03:12.576Z"
   },
   {
    "duration": 82,
    "start_time": "2023-03-04T14:06:59.936Z"
   },
   {
    "duration": 4378,
    "start_time": "2023-03-04T14:07:12.536Z"
   },
   {
    "duration": 1019,
    "start_time": "2023-03-04T14:07:16.916Z"
   },
   {
    "duration": 28,
    "start_time": "2023-03-04T14:07:17.937Z"
   },
   {
    "duration": 194,
    "start_time": "2023-03-04T14:07:17.969Z"
   },
   {
    "duration": 228,
    "start_time": "2023-03-04T14:07:18.165Z"
   },
   {
    "duration": 125,
    "start_time": "2023-03-04T14:07:18.395Z"
   },
   {
    "duration": 304,
    "start_time": "2023-03-04T14:07:18.522Z"
   },
   {
    "duration": 278,
    "start_time": "2023-03-04T14:07:18.828Z"
   },
   {
    "duration": 45,
    "start_time": "2023-03-04T14:07:19.108Z"
   },
   {
    "duration": 40,
    "start_time": "2023-03-04T14:07:19.160Z"
   },
   {
    "duration": 25,
    "start_time": "2023-03-04T14:07:19.201Z"
   },
   {
    "duration": 139,
    "start_time": "2023-03-04T14:07:19.228Z"
   },
   {
    "duration": 10,
    "start_time": "2023-03-04T14:07:19.368Z"
   },
   {
    "duration": 142,
    "start_time": "2023-03-04T14:07:19.380Z"
   },
   {
    "duration": 181,
    "start_time": "2023-03-04T14:07:19.524Z"
   },
   {
    "duration": 3,
    "start_time": "2023-03-04T14:07:19.708Z"
   },
   {
    "duration": 141,
    "start_time": "2023-03-04T14:07:19.713Z"
   },
   {
    "duration": 180,
    "start_time": "2023-03-04T14:07:19.856Z"
   },
   {
    "duration": 59,
    "start_time": "2023-03-04T14:07:20.038Z"
   },
   {
    "duration": 4,
    "start_time": "2023-03-04T14:07:20.099Z"
   },
   {
    "duration": 46,
    "start_time": "2023-03-04T14:07:20.105Z"
   },
   {
    "duration": 66,
    "start_time": "2023-03-04T14:07:20.153Z"
   },
   {
    "duration": 180,
    "start_time": "2023-03-04T14:07:20.221Z"
   },
   {
    "duration": 5,
    "start_time": "2023-03-04T14:07:20.403Z"
   },
   {
    "duration": 14,
    "start_time": "2023-03-04T14:07:20.409Z"
   },
   {
    "duration": 575,
    "start_time": "2023-03-04T14:07:20.425Z"
   },
   {
    "duration": 4,
    "start_time": "2023-03-04T14:07:21.002Z"
   },
   {
    "duration": 86,
    "start_time": "2023-03-04T14:07:21.011Z"
   },
   {
    "duration": 278,
    "start_time": "2023-03-04T14:07:21.099Z"
   },
   {
    "duration": 183,
    "start_time": "2023-03-04T14:07:21.382Z"
   },
   {
    "duration": 0,
    "start_time": "2023-03-04T14:07:21.567Z"
   },
   {
    "duration": 0,
    "start_time": "2023-03-04T14:07:21.568Z"
   },
   {
    "duration": 0,
    "start_time": "2023-03-04T14:07:21.571Z"
   },
   {
    "duration": 0,
    "start_time": "2023-03-04T14:07:21.573Z"
   },
   {
    "duration": 0,
    "start_time": "2023-03-04T14:07:21.574Z"
   },
   {
    "duration": 0,
    "start_time": "2023-03-04T14:07:21.576Z"
   },
   {
    "duration": 0,
    "start_time": "2023-03-04T14:07:21.577Z"
   },
   {
    "duration": 0,
    "start_time": "2023-03-04T14:07:21.578Z"
   },
   {
    "duration": 0,
    "start_time": "2023-03-04T14:07:21.579Z"
   },
   {
    "duration": 0,
    "start_time": "2023-03-04T14:07:21.581Z"
   },
   {
    "duration": 0,
    "start_time": "2023-03-04T14:07:21.585Z"
   },
   {
    "duration": 305,
    "start_time": "2023-03-04T14:08:14.180Z"
   },
   {
    "duration": 4161,
    "start_time": "2023-03-04T14:08:22.596Z"
   },
   {
    "duration": 938,
    "start_time": "2023-03-04T14:08:26.769Z"
   },
   {
    "duration": 17,
    "start_time": "2023-03-04T14:08:27.708Z"
   },
   {
    "duration": 180,
    "start_time": "2023-03-04T14:08:27.727Z"
   },
   {
    "duration": 202,
    "start_time": "2023-03-04T14:08:27.909Z"
   },
   {
    "duration": 109,
    "start_time": "2023-03-04T14:08:28.113Z"
   },
   {
    "duration": 252,
    "start_time": "2023-03-04T14:08:28.223Z"
   },
   {
    "duration": 247,
    "start_time": "2023-03-04T14:08:28.477Z"
   },
   {
    "duration": 51,
    "start_time": "2023-03-04T14:08:28.726Z"
   },
   {
    "duration": 32,
    "start_time": "2023-03-04T14:08:28.781Z"
   },
   {
    "duration": 35,
    "start_time": "2023-03-04T14:08:28.815Z"
   },
   {
    "duration": 103,
    "start_time": "2023-03-04T14:08:28.851Z"
   },
   {
    "duration": 6,
    "start_time": "2023-03-04T14:08:28.957Z"
   },
   {
    "duration": 147,
    "start_time": "2023-03-04T14:08:28.964Z"
   },
   {
    "duration": 176,
    "start_time": "2023-03-04T14:08:29.112Z"
   },
   {
    "duration": 3,
    "start_time": "2023-03-04T14:08:29.290Z"
   },
   {
    "duration": 127,
    "start_time": "2023-03-04T14:08:29.295Z"
   },
   {
    "duration": 172,
    "start_time": "2023-03-04T14:08:29.424Z"
   },
   {
    "duration": 56,
    "start_time": "2023-03-04T14:08:29.598Z"
   },
   {
    "duration": 3,
    "start_time": "2023-03-04T14:08:29.657Z"
   },
   {
    "duration": 44,
    "start_time": "2023-03-04T14:08:29.662Z"
   },
   {
    "duration": 13,
    "start_time": "2023-03-04T14:08:29.708Z"
   },
   {
    "duration": 166,
    "start_time": "2023-03-04T14:08:29.723Z"
   },
   {
    "duration": 8,
    "start_time": "2023-03-04T14:08:29.892Z"
   },
   {
    "duration": 11,
    "start_time": "2023-03-04T14:08:29.902Z"
   },
   {
    "duration": 564,
    "start_time": "2023-03-04T14:08:29.915Z"
   },
   {
    "duration": 3,
    "start_time": "2023-03-04T14:08:30.482Z"
   },
   {
    "duration": 90,
    "start_time": "2023-03-04T14:08:30.489Z"
   },
   {
    "duration": 444,
    "start_time": "2023-03-04T14:08:30.581Z"
   },
   {
    "duration": 4,
    "start_time": "2023-03-04T14:08:31.027Z"
   },
   {
    "duration": 31,
    "start_time": "2023-03-04T14:08:31.032Z"
   },
   {
    "duration": 264,
    "start_time": "2023-03-04T14:08:31.067Z"
   },
   {
    "duration": 113,
    "start_time": "2023-03-04T14:08:31.333Z"
   },
   {
    "duration": 106,
    "start_time": "2023-03-04T14:08:31.450Z"
   },
   {
    "duration": 1480,
    "start_time": "2023-03-04T14:08:31.558Z"
   },
   {
    "duration": 105,
    "start_time": "2023-03-04T14:08:33.040Z"
   },
   {
    "duration": 5249,
    "start_time": "2023-03-04T14:08:33.146Z"
   },
   {
    "duration": 124,
    "start_time": "2023-03-04T14:08:38.396Z"
   },
   {
    "duration": 13,
    "start_time": "2023-03-04T14:08:38.522Z"
   },
   {
    "duration": 22,
    "start_time": "2023-03-04T14:09:12.716Z"
   },
   {
    "duration": 7,
    "start_time": "2023-03-04T14:09:35.486Z"
   },
   {
    "duration": 92,
    "start_time": "2023-03-04T14:10:32.865Z"
   },
   {
    "duration": 83,
    "start_time": "2023-03-04T14:11:35.474Z"
   },
   {
    "duration": 72,
    "start_time": "2023-03-04T14:12:01.373Z"
   },
   {
    "duration": 11,
    "start_time": "2023-03-04T14:12:07.374Z"
   },
   {
    "duration": 3,
    "start_time": "2023-03-04T14:12:13.592Z"
   },
   {
    "duration": 63,
    "start_time": "2023-03-04T14:12:15.874Z"
   },
   {
    "duration": 431,
    "start_time": "2023-03-04T14:12:17.805Z"
   },
   {
    "duration": 87,
    "start_time": "2023-03-04T14:12:19.179Z"
   },
   {
    "duration": 95,
    "start_time": "2023-03-04T14:12:30.812Z"
   },
   {
    "duration": 229,
    "start_time": "2023-03-04T14:14:24.296Z"
   },
   {
    "duration": 68,
    "start_time": "2023-03-04T14:14:56.135Z"
   },
   {
    "duration": 463,
    "start_time": "2023-03-04T14:15:03.074Z"
   },
   {
    "duration": 82,
    "start_time": "2023-03-04T14:15:04.666Z"
   },
   {
    "duration": 88,
    "start_time": "2023-03-04T14:15:28.074Z"
   },
   {
    "duration": 93,
    "start_time": "2023-03-04T14:16:04.566Z"
   },
   {
    "duration": 75,
    "start_time": "2023-03-04T14:16:23.478Z"
   },
   {
    "duration": 97,
    "start_time": "2023-03-04T14:16:51.512Z"
   },
   {
    "duration": 106,
    "start_time": "2023-03-04T14:17:07.903Z"
   },
   {
    "duration": 75,
    "start_time": "2023-03-04T14:17:15.084Z"
   },
   {
    "duration": 4415,
    "start_time": "2023-03-04T14:18:23.821Z"
   },
   {
    "duration": 981,
    "start_time": "2023-03-04T14:18:28.238Z"
   },
   {
    "duration": 29,
    "start_time": "2023-03-04T14:18:29.221Z"
   },
   {
    "duration": 193,
    "start_time": "2023-03-04T14:18:29.252Z"
   },
   {
    "duration": 173,
    "start_time": "2023-03-04T14:18:29.452Z"
   },
   {
    "duration": 114,
    "start_time": "2023-03-04T14:18:29.627Z"
   },
   {
    "duration": 278,
    "start_time": "2023-03-04T14:18:29.743Z"
   },
   {
    "duration": 271,
    "start_time": "2023-03-04T14:18:30.023Z"
   },
   {
    "duration": 30,
    "start_time": "2023-03-04T14:18:30.296Z"
   },
   {
    "duration": 40,
    "start_time": "2023-03-04T14:18:30.328Z"
   },
   {
    "duration": 60,
    "start_time": "2023-03-04T14:18:30.371Z"
   },
   {
    "duration": 139,
    "start_time": "2023-03-04T14:18:30.432Z"
   },
   {
    "duration": 4,
    "start_time": "2023-03-04T14:18:30.573Z"
   },
   {
    "duration": 144,
    "start_time": "2023-03-04T14:18:30.581Z"
   },
   {
    "duration": 192,
    "start_time": "2023-03-04T14:18:30.727Z"
   },
   {
    "duration": 3,
    "start_time": "2023-03-04T14:18:30.921Z"
   },
   {
    "duration": 204,
    "start_time": "2023-03-04T14:18:30.925Z"
   },
   {
    "duration": 187,
    "start_time": "2023-03-04T14:18:31.131Z"
   },
   {
    "duration": 74,
    "start_time": "2023-03-04T14:18:31.320Z"
   },
   {
    "duration": 3,
    "start_time": "2023-03-04T14:18:31.396Z"
   },
   {
    "duration": 38,
    "start_time": "2023-03-04T14:18:31.401Z"
   },
   {
    "duration": 48,
    "start_time": "2023-03-04T14:18:31.441Z"
   },
   {
    "duration": 153,
    "start_time": "2023-03-04T14:18:31.491Z"
   },
   {
    "duration": 8,
    "start_time": "2023-03-04T14:18:31.646Z"
   },
   {
    "duration": 40,
    "start_time": "2023-03-04T14:18:31.656Z"
   },
   {
    "duration": 601,
    "start_time": "2023-03-04T14:18:38.083Z"
   },
   {
    "duration": 3,
    "start_time": "2023-03-04T14:18:39.574Z"
   },
   {
    "duration": 229,
    "start_time": "2023-03-04T14:19:17.266Z"
   },
   {
    "duration": 3,
    "start_time": "2023-03-04T14:19:29.077Z"
   },
   {
    "duration": 52,
    "start_time": "2023-03-04T14:19:30.070Z"
   },
   {
    "duration": 532,
    "start_time": "2023-03-04T14:19:31.093Z"
   },
   {
    "duration": 96,
    "start_time": "2023-03-04T14:19:34.042Z"
   },
   {
    "duration": 3,
    "start_time": "2023-03-04T14:19:37.533Z"
   },
   {
    "duration": 11,
    "start_time": "2023-03-04T14:19:40.442Z"
   },
   {
    "duration": 242,
    "start_time": "2023-03-04T14:20:06.067Z"
   },
   {
    "duration": 19,
    "start_time": "2023-03-04T14:20:39.276Z"
   },
   {
    "duration": 14,
    "start_time": "2023-03-04T14:20:54.366Z"
   },
   {
    "duration": 4026,
    "start_time": "2023-03-04T14:21:38.971Z"
   },
   {
    "duration": 915,
    "start_time": "2023-03-04T14:21:42.999Z"
   },
   {
    "duration": 17,
    "start_time": "2023-03-04T14:21:43.916Z"
   },
   {
    "duration": 171,
    "start_time": "2023-03-04T14:21:43.935Z"
   },
   {
    "duration": 195,
    "start_time": "2023-03-04T14:21:44.110Z"
   },
   {
    "duration": 159,
    "start_time": "2023-03-04T14:21:44.307Z"
   },
   {
    "duration": 230,
    "start_time": "2023-03-04T14:21:44.468Z"
   },
   {
    "duration": 253,
    "start_time": "2023-03-04T14:21:44.700Z"
   },
   {
    "duration": 34,
    "start_time": "2023-03-04T14:21:44.955Z"
   },
   {
    "duration": 25,
    "start_time": "2023-03-04T14:21:44.994Z"
   },
   {
    "duration": 64,
    "start_time": "2023-03-04T14:21:45.021Z"
   },
   {
    "duration": 142,
    "start_time": "2023-03-04T14:21:45.090Z"
   },
   {
    "duration": 3,
    "start_time": "2023-03-04T14:21:45.234Z"
   },
   {
    "duration": 127,
    "start_time": "2023-03-04T14:21:45.239Z"
   },
   {
    "duration": 175,
    "start_time": "2023-03-04T14:21:45.368Z"
   },
   {
    "duration": 6,
    "start_time": "2023-03-04T14:21:45.548Z"
   },
   {
    "duration": 173,
    "start_time": "2023-03-04T14:21:45.555Z"
   },
   {
    "duration": 202,
    "start_time": "2023-03-04T14:21:45.730Z"
   },
   {
    "duration": 64,
    "start_time": "2023-03-04T14:21:45.934Z"
   },
   {
    "duration": 3,
    "start_time": "2023-03-04T14:21:45.999Z"
   },
   {
    "duration": 36,
    "start_time": "2023-03-04T14:21:46.004Z"
   },
   {
    "duration": 52,
    "start_time": "2023-03-04T14:21:46.041Z"
   },
   {
    "duration": 151,
    "start_time": "2023-03-04T14:21:46.095Z"
   },
   {
    "duration": 5,
    "start_time": "2023-03-04T14:21:46.250Z"
   },
   {
    "duration": 32,
    "start_time": "2023-03-04T14:21:46.257Z"
   },
   {
    "duration": 551,
    "start_time": "2023-03-04T14:21:46.291Z"
   },
   {
    "duration": 4,
    "start_time": "2023-03-04T14:21:46.844Z"
   },
   {
    "duration": 47,
    "start_time": "2023-03-04T14:21:46.849Z"
   },
   {
    "duration": 6,
    "start_time": "2023-03-04T14:21:46.898Z"
   },
   {
    "duration": 78,
    "start_time": "2023-03-04T14:21:46.905Z"
   },
   {
    "duration": 532,
    "start_time": "2023-03-04T14:21:46.985Z"
   },
   {
    "duration": 3,
    "start_time": "2023-03-04T14:21:57.493Z"
   },
   {
    "duration": 12,
    "start_time": "2023-03-04T14:21:58.766Z"
   },
   {
    "duration": 748,
    "start_time": "2023-03-04T14:22:01.012Z"
   },
   {
    "duration": 3890,
    "start_time": "2023-03-04T14:28:47.033Z"
   },
   {
    "duration": 902,
    "start_time": "2023-03-04T14:28:50.926Z"
   },
   {
    "duration": 28,
    "start_time": "2023-03-04T14:28:51.829Z"
   },
   {
    "duration": 169,
    "start_time": "2023-03-04T14:28:51.859Z"
   },
   {
    "duration": 176,
    "start_time": "2023-03-04T14:28:52.030Z"
   },
   {
    "duration": 119,
    "start_time": "2023-03-04T14:28:52.208Z"
   },
   {
    "duration": 259,
    "start_time": "2023-03-04T14:28:52.328Z"
   },
   {
    "duration": 239,
    "start_time": "2023-03-04T14:28:52.589Z"
   },
   {
    "duration": 48,
    "start_time": "2023-03-04T14:28:52.830Z"
   },
   {
    "duration": 28,
    "start_time": "2023-03-04T14:28:52.881Z"
   },
   {
    "duration": 20,
    "start_time": "2023-03-04T14:28:52.911Z"
   },
   {
    "duration": 132,
    "start_time": "2023-03-04T14:28:52.932Z"
   },
   {
    "duration": 5,
    "start_time": "2023-03-04T14:28:53.074Z"
   },
   {
    "duration": 116,
    "start_time": "2023-03-04T14:28:53.080Z"
   },
   {
    "duration": 174,
    "start_time": "2023-03-04T14:28:53.198Z"
   },
   {
    "duration": 5,
    "start_time": "2023-03-04T14:28:53.374Z"
   },
   {
    "duration": 138,
    "start_time": "2023-03-04T14:28:53.380Z"
   },
   {
    "duration": 184,
    "start_time": "2023-03-04T14:28:53.520Z"
   },
   {
    "duration": 64,
    "start_time": "2023-03-04T14:28:53.706Z"
   },
   {
    "duration": 3,
    "start_time": "2023-03-04T14:28:53.777Z"
   },
   {
    "duration": 28,
    "start_time": "2023-03-04T14:28:53.781Z"
   },
   {
    "duration": 16,
    "start_time": "2023-03-04T14:28:53.811Z"
   },
   {
    "duration": 171,
    "start_time": "2023-03-04T14:28:53.829Z"
   },
   {
    "duration": 4,
    "start_time": "2023-03-04T14:28:54.002Z"
   },
   {
    "duration": 8,
    "start_time": "2023-03-04T14:28:54.007Z"
   },
   {
    "duration": 551,
    "start_time": "2023-03-04T14:28:54.016Z"
   },
   {
    "duration": 3,
    "start_time": "2023-03-04T14:28:54.569Z"
   },
   {
    "duration": 16,
    "start_time": "2023-03-04T14:28:54.577Z"
   },
   {
    "duration": 5,
    "start_time": "2023-03-04T14:28:54.595Z"
   },
   {
    "duration": 79,
    "start_time": "2023-03-04T14:28:54.601Z"
   },
   {
    "duration": 514,
    "start_time": "2023-03-04T14:28:54.682Z"
   },
   {
    "duration": 3,
    "start_time": "2023-03-04T14:28:55.198Z"
   },
   {
    "duration": 14,
    "start_time": "2023-03-04T14:28:55.202Z"
   },
   {
    "duration": 642,
    "start_time": "2023-03-04T14:28:55.218Z"
   },
   {
    "duration": 54382,
    "start_time": "2023-03-04T14:28:55.862Z"
   },
   {
    "duration": 274,
    "start_time": "2023-03-04T14:29:50.247Z"
   },
   {
    "duration": 1310,
    "start_time": "2023-03-04T14:29:50.522Z"
   },
   {
    "duration": 101,
    "start_time": "2023-03-04T14:29:51.834Z"
   },
   {
    "duration": 4969,
    "start_time": "2023-03-04T14:29:51.937Z"
   },
   {
    "duration": 102,
    "start_time": "2023-03-04T14:29:56.908Z"
   },
   {
    "duration": 13,
    "start_time": "2023-03-04T14:29:57.011Z"
   },
   {
    "duration": 79,
    "start_time": "2023-03-04T14:31:11.043Z"
   },
   {
    "duration": 11,
    "start_time": "2023-03-04T14:35:12.500Z"
   },
   {
    "duration": 11,
    "start_time": "2023-03-04T14:36:03.571Z"
   },
   {
    "duration": 12,
    "start_time": "2023-03-04T14:36:08.324Z"
   },
   {
    "duration": 12,
    "start_time": "2023-03-04T14:36:16.103Z"
   },
   {
    "duration": 73,
    "start_time": "2023-03-04T14:37:46.579Z"
   },
   {
    "duration": 11,
    "start_time": "2023-03-04T14:40:16.538Z"
   },
   {
    "duration": 28,
    "start_time": "2023-03-04T14:40:18.472Z"
   },
   {
    "duration": 4,
    "start_time": "2023-03-04T14:40:19.179Z"
   },
   {
    "duration": 32,
    "start_time": "2023-03-04T14:40:49.436Z"
   },
   {
    "duration": 4,
    "start_time": "2023-03-04T14:41:11.494Z"
   },
   {
    "duration": 79,
    "start_time": "2023-03-04T14:42:19.583Z"
   },
   {
    "duration": 30,
    "start_time": "2023-03-04T14:43:24.015Z"
   },
   {
    "duration": 3861,
    "start_time": "2023-03-04T14:44:39.784Z"
   },
   {
    "duration": 922,
    "start_time": "2023-03-04T14:44:43.647Z"
   },
   {
    "duration": 23,
    "start_time": "2023-03-04T14:44:44.571Z"
   },
   {
    "duration": 243,
    "start_time": "2023-03-04T14:44:44.597Z"
   },
   {
    "duration": 166,
    "start_time": "2023-03-04T14:44:44.842Z"
   },
   {
    "duration": 113,
    "start_time": "2023-03-04T14:44:45.010Z"
   },
   {
    "duration": 308,
    "start_time": "2023-03-04T14:44:45.125Z"
   },
   {
    "duration": 269,
    "start_time": "2023-03-04T14:44:45.435Z"
   },
   {
    "duration": 49,
    "start_time": "2023-03-04T14:44:45.706Z"
   },
   {
    "duration": 33,
    "start_time": "2023-03-04T14:44:45.758Z"
   },
   {
    "duration": 31,
    "start_time": "2023-03-04T14:44:45.793Z"
   },
   {
    "duration": 128,
    "start_time": "2023-03-04T14:44:45.826Z"
   },
   {
    "duration": 3,
    "start_time": "2023-03-04T14:44:45.966Z"
   },
   {
    "duration": 133,
    "start_time": "2023-03-04T14:44:45.971Z"
   },
   {
    "duration": 164,
    "start_time": "2023-03-04T14:44:46.106Z"
   },
   {
    "duration": 3,
    "start_time": "2023-03-04T14:44:46.272Z"
   },
   {
    "duration": 125,
    "start_time": "2023-03-04T14:44:46.277Z"
   },
   {
    "duration": 171,
    "start_time": "2023-03-04T14:44:46.404Z"
   },
   {
    "duration": 45,
    "start_time": "2023-03-04T14:44:46.577Z"
   },
   {
    "duration": 3,
    "start_time": "2023-03-04T14:44:46.624Z"
   },
   {
    "duration": 46,
    "start_time": "2023-03-04T14:44:46.629Z"
   },
   {
    "duration": 19,
    "start_time": "2023-03-04T14:44:46.677Z"
   },
   {
    "duration": 146,
    "start_time": "2023-03-04T14:44:46.698Z"
   },
   {
    "duration": 10,
    "start_time": "2023-03-04T14:44:46.847Z"
   },
   {
    "duration": 14,
    "start_time": "2023-03-04T14:44:46.864Z"
   },
   {
    "duration": 509,
    "start_time": "2023-03-04T14:44:46.880Z"
   },
   {
    "duration": 3,
    "start_time": "2023-03-04T14:44:47.390Z"
   },
   {
    "duration": 13,
    "start_time": "2023-03-04T14:44:47.396Z"
   },
   {
    "duration": 4,
    "start_time": "2023-03-04T14:44:47.411Z"
   },
   {
    "duration": 85,
    "start_time": "2023-03-04T14:44:47.416Z"
   },
   {
    "duration": 487,
    "start_time": "2023-03-04T14:44:47.503Z"
   },
   {
    "duration": 3,
    "start_time": "2023-03-04T14:44:47.992Z"
   },
   {
    "duration": 12,
    "start_time": "2023-03-04T14:44:47.997Z"
   },
   {
    "duration": 751,
    "start_time": "2023-03-04T14:44:48.010Z"
   },
   {
    "duration": 50226,
    "start_time": "2023-03-04T14:44:48.764Z"
   },
   {
    "duration": 310,
    "start_time": "2023-03-04T14:45:38.992Z"
   },
   {
    "duration": 31,
    "start_time": "2023-03-04T14:45:39.304Z"
   },
   {
    "duration": 34,
    "start_time": "2023-03-04T14:45:39.336Z"
   },
   {
    "duration": 4,
    "start_time": "2023-03-04T14:45:39.372Z"
   },
   {
    "duration": 34,
    "start_time": "2023-03-04T14:45:39.378Z"
   },
   {
    "duration": 1322,
    "start_time": "2023-03-04T14:45:39.414Z"
   },
   {
    "duration": 84,
    "start_time": "2023-03-04T14:45:40.738Z"
   },
   {
    "duration": 4271,
    "start_time": "2023-03-04T14:45:40.824Z"
   },
   {
    "duration": 86,
    "start_time": "2023-03-04T14:45:45.096Z"
   },
   {
    "duration": 10,
    "start_time": "2023-03-04T14:45:45.184Z"
   },
   {
    "duration": 156,
    "start_time": "2023-03-04T14:45:56.079Z"
   },
   {
    "duration": 82,
    "start_time": "2023-03-04T14:46:04.039Z"
   },
   {
    "duration": 30,
    "start_time": "2023-03-04T14:46:50.959Z"
   },
   {
    "duration": 3300683,
    "start_time": "2023-03-04T14:47:30.589Z"
   },
   {
    "duration": 49,
    "start_time": "2023-03-04T15:49:31.010Z"
   },
   {
    "duration": 323,
    "start_time": "2023-03-04T15:49:33.835Z"
   },
   {
    "duration": 66,
    "start_time": "2023-03-04T15:49:37.091Z"
   },
   {
    "duration": 94,
    "start_time": "2023-03-04T15:49:57.779Z"
   },
   {
    "duration": 81,
    "start_time": "2023-03-04T15:51:19.551Z"
   },
   {
    "duration": 93,
    "start_time": "2023-03-04T15:52:03.511Z"
   },
   {
    "duration": 2141,
    "start_time": "2023-03-04T15:52:11.137Z"
   },
   {
    "duration": 149563,
    "start_time": "2023-03-04T15:52:23.378Z"
   },
   {
    "duration": 136,
    "start_time": "2023-03-04T15:54:52.942Z"
   },
   {
    "duration": 26,
    "start_time": "2023-03-04T15:55:54.929Z"
   },
   {
    "duration": 49,
    "start_time": "2023-03-04T15:56:09.101Z"
   },
   {
    "duration": 16,
    "start_time": "2023-03-04T15:56:47.471Z"
   },
   {
    "duration": 12,
    "start_time": "2023-03-04T16:01:36.643Z"
   },
   {
    "duration": 11,
    "start_time": "2023-03-04T16:02:43.359Z"
   },
   {
    "duration": 11,
    "start_time": "2023-03-04T16:03:18.254Z"
   },
   {
    "duration": 18,
    "start_time": "2023-03-04T16:03:47.155Z"
   },
   {
    "duration": 13,
    "start_time": "2023-03-04T16:04:43.204Z"
   },
   {
    "duration": 7,
    "start_time": "2023-03-04T16:07:36.285Z"
   },
   {
    "duration": 18,
    "start_time": "2023-03-04T16:10:53.218Z"
   },
   {
    "duration": 12,
    "start_time": "2023-03-04T16:18:41.785Z"
   },
   {
    "duration": 11,
    "start_time": "2023-03-04T16:19:37.197Z"
   },
   {
    "duration": 7,
    "start_time": "2023-03-04T16:19:41.484Z"
   },
   {
    "duration": 7,
    "start_time": "2023-03-04T16:19:48.773Z"
   },
   {
    "duration": 11,
    "start_time": "2023-03-04T16:19:59.327Z"
   },
   {
    "duration": 8,
    "start_time": "2023-03-04T16:20:04.927Z"
   },
   {
    "duration": 8,
    "start_time": "2023-03-04T16:20:22.383Z"
   },
   {
    "duration": 9,
    "start_time": "2023-03-04T16:20:30.607Z"
   },
   {
    "duration": 14,
    "start_time": "2023-03-04T16:20:40.115Z"
   },
   {
    "duration": 27,
    "start_time": "2023-03-04T16:20:45.290Z"
   },
   {
    "duration": 32,
    "start_time": "2023-03-04T16:26:11.043Z"
   },
   {
    "duration": 22,
    "start_time": "2023-03-04T16:26:23.478Z"
   },
   {
    "duration": 32,
    "start_time": "2023-03-04T16:27:39.222Z"
   },
   {
    "duration": 46,
    "start_time": "2023-03-04T16:28:18.845Z"
   },
   {
    "duration": 21,
    "start_time": "2023-03-04T16:29:08.736Z"
   },
   {
    "duration": 20,
    "start_time": "2023-03-04T16:29:39.015Z"
   },
   {
    "duration": 13,
    "start_time": "2023-03-04T16:30:27.501Z"
   },
   {
    "duration": 18,
    "start_time": "2023-03-04T16:31:28.142Z"
   },
   {
    "duration": 24,
    "start_time": "2023-03-04T16:31:44.944Z"
   },
   {
    "duration": 23,
    "start_time": "2023-03-04T16:33:45.183Z"
   },
   {
    "duration": 165,
    "start_time": "2023-03-04T16:37:07.671Z"
   },
   {
    "duration": 35,
    "start_time": "2023-03-04T16:37:30.586Z"
   },
   {
    "duration": 13,
    "start_time": "2023-03-04T16:38:41.412Z"
   },
   {
    "duration": 13,
    "start_time": "2023-03-04T16:38:54.926Z"
   },
   {
    "duration": 37,
    "start_time": "2023-03-04T16:39:25.488Z"
   },
   {
    "duration": 51,
    "start_time": "2023-03-04T16:39:39.184Z"
   },
   {
    "duration": 21,
    "start_time": "2023-03-04T16:40:23.772Z"
   },
   {
    "duration": 18,
    "start_time": "2023-03-04T16:40:53.186Z"
   },
   {
    "duration": 21,
    "start_time": "2023-03-04T16:42:17.175Z"
   },
   {
    "duration": 12,
    "start_time": "2023-03-04T16:43:28.734Z"
   },
   {
    "duration": 118,
    "start_time": "2023-03-04T16:52:37.189Z"
   },
   {
    "duration": 2481,
    "start_time": "2023-03-04T16:52:55.604Z"
   },
   {
    "duration": 200,
    "start_time": "2023-03-04T16:53:01.719Z"
   },
   {
    "duration": 157,
    "start_time": "2023-03-04T16:53:12.230Z"
   },
   {
    "duration": 2386,
    "start_time": "2023-03-04T16:53:21.136Z"
   },
   {
    "duration": 214238,
    "start_time": "2023-03-04T16:53:27.486Z"
   },
   {
    "duration": 3016,
    "start_time": "2023-03-04T17:01:02.226Z"
   },
   {
    "duration": 99,
    "start_time": "2023-03-04T17:02:07.389Z"
   },
   {
    "duration": 104,
    "start_time": "2023-03-04T17:02:25.592Z"
   },
   {
    "duration": 2377,
    "start_time": "2023-03-04T17:02:34.525Z"
   },
   {
    "duration": 165226,
    "start_time": "2023-03-04T17:02:41.116Z"
   },
   {
    "duration": 159,
    "start_time": "2023-03-04T17:05:26.343Z"
   },
   {
    "duration": 76,
    "start_time": "2023-03-04T17:08:47.128Z"
   },
   {
    "duration": 28,
    "start_time": "2023-03-04T17:09:23.643Z"
   },
   {
    "duration": 73,
    "start_time": "2023-03-04T17:12:36.714Z"
   },
   {
    "duration": 10,
    "start_time": "2023-03-04T17:13:42.077Z"
   },
   {
    "duration": 8,
    "start_time": "2023-03-04T17:13:50.477Z"
   },
   {
    "duration": 18,
    "start_time": "2023-03-04T17:14:08.020Z"
   },
   {
    "duration": 19,
    "start_time": "2023-03-04T17:14:11.105Z"
   },
   {
    "duration": 68,
    "start_time": "2023-03-04T17:14:57.424Z"
   },
   {
    "duration": 30,
    "start_time": "2023-03-04T17:20:27.877Z"
   },
   {
    "duration": 16,
    "start_time": "2023-03-04T17:20:38.406Z"
   }
  ],
  "kernelspec": {
   "display_name": "Python 3 (ipykernel)",
   "language": "python",
   "name": "python3"
  },
  "language_info": {
   "codemirror_mode": {
    "name": "ipython",
    "version": 3
   },
   "file_extension": ".py",
   "mimetype": "text/x-python",
   "name": "python",
   "nbconvert_exporter": "python",
   "pygments_lexer": "ipython3",
   "version": "3.9.12"
  },
  "toc": {
   "base_numbering": 1,
   "nav_menu": {
    "height": "11.8182px",
    "width": "267.997px"
   },
   "number_sections": true,
   "sideBar": true,
   "skip_h1_title": true,
   "title_cell": "Table of Contents",
   "title_sidebar": "Contents",
   "toc_cell": false,
   "toc_position": {},
   "toc_section_display": true,
   "toc_window_display": false
  }
 },
 "nbformat": 4,
 "nbformat_minor": 2
}
