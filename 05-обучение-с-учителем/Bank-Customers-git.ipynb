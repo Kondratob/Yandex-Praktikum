{
 "cells": [
  {
   "cell_type": "markdown",
   "metadata": {
    "toc": true
   },
   "source": [
    "<h1>Содержание<span class=\"tocSkip\"></span></h1>\n",
    "<div class=\"toc\"><ul class=\"toc-item\"><li><span><a href=\"#Подготовка-данных\" data-toc-modified-id=\"Подготовка-данных-1\"><span class=\"toc-item-num\">1&nbsp;&nbsp;</span>Подготовка данных</a></span><ul class=\"toc-item\"><li><span><a href=\"#Импорт-библиотек\" data-toc-modified-id=\"Импорт-библиотек-1.1\"><span class=\"toc-item-num\">1.1&nbsp;&nbsp;</span>Импорт библиотек</a></span></li><li><span><a href=\"#Загрузка-данных\" data-toc-modified-id=\"Загрузка-данных-1.2\"><span class=\"toc-item-num\">1.2&nbsp;&nbsp;</span>Загрузка данных</a></span></li><li><span><a href=\"#Анализ-данных\" data-toc-modified-id=\"Анализ-данных-1.3\"><span class=\"toc-item-num\">1.3&nbsp;&nbsp;</span>Анализ данных</a></span></li><li><span><a href=\"#Подготовка-данных\" data-toc-modified-id=\"Подготовка-данных-1.4\"><span class=\"toc-item-num\">1.4&nbsp;&nbsp;</span>Подготовка данных</a></span></li><li><span><a href=\"#Выборка\" data-toc-modified-id=\"Выборка-1.5\"><span class=\"toc-item-num\">1.5&nbsp;&nbsp;</span>Выборка</a></span></li><li><span><a href=\"#Преобразуем-признаки-техникой-OHE\" data-toc-modified-id=\"Преобразуем-признаки-техникой-OHE-1.6\"><span class=\"toc-item-num\">1.6&nbsp;&nbsp;</span>Преобразуем признаки техникой OHE</a></span></li><li><span><a href=\"#Масштабирование-признаков\" data-toc-modified-id=\"Масштабирование-признаков-1.7\"><span class=\"toc-item-num\">1.7&nbsp;&nbsp;</span>Масштабирование признаков</a></span></li></ul></li><li><span><a href=\"#Исследование-задачи\" data-toc-modified-id=\"Исследование-задачи-2\"><span class=\"toc-item-num\">2&nbsp;&nbsp;</span>Исследование задачи</a></span><ul class=\"toc-item\"><li><span><a href=\"#Обучение-и-точность-моделей\" data-toc-modified-id=\"Обучение-и-точность-моделей-2.1\"><span class=\"toc-item-num\">2.1&nbsp;&nbsp;</span>Обучение и точность моделей</a></span><ul class=\"toc-item\"><li><span><a href=\"#Параметры-Дерево-решений\" data-toc-modified-id=\"Параметры-Дерево-решений-2.1.1\"><span class=\"toc-item-num\">2.1.1&nbsp;&nbsp;</span>Параметры Дерево решений</a></span></li><li><span><a href=\"#Параметры-Случайный-лес\" data-toc-modified-id=\"Параметры-Случайный-лес-2.1.2\"><span class=\"toc-item-num\">2.1.2&nbsp;&nbsp;</span>Параметры Случайный лес</a></span></li></ul></li><li><span><a href=\"#Баланс-классов\" data-toc-modified-id=\"Баланс-классов-2.2\"><span class=\"toc-item-num\">2.2&nbsp;&nbsp;</span>Баланс классов</a></span></li><li><span><a href=\"#Проверка-адекватности\" data-toc-modified-id=\"Проверка-адекватности-2.3\"><span class=\"toc-item-num\">2.3&nbsp;&nbsp;</span>Проверка адекватности</a></span></li><li><span><a href=\"#Матрицы-ошибок\" data-toc-modified-id=\"Матрицы-ошибок-2.4\"><span class=\"toc-item-num\">2.4&nbsp;&nbsp;</span>Матрицы ошибок</a></span><ul class=\"toc-item\"><li><span><a href=\"#Решающие-дерево\" data-toc-modified-id=\"Решающие-дерево-2.4.1\"><span class=\"toc-item-num\">2.4.1&nbsp;&nbsp;</span>Решающие дерево</a></span></li><li><span><a href=\"#Случайный-лес\" data-toc-modified-id=\"Случайный-лес-2.4.2\"><span class=\"toc-item-num\">2.4.2&nbsp;&nbsp;</span>Случайный лес</a></span></li><li><span><a href=\"#Логистическая-регрессия\" data-toc-modified-id=\"Логистическая-регрессия-2.4.3\"><span class=\"toc-item-num\">2.4.3&nbsp;&nbsp;</span>Логистическая регрессия</a></span></li></ul></li></ul></li><li><span><a href=\"#Борьба-с-дисбалансом\" data-toc-modified-id=\"Борьба-с-дисбалансом-3\"><span class=\"toc-item-num\">3&nbsp;&nbsp;</span>Борьба с дисбалансом</a></span><ul class=\"toc-item\"><li><span><a href=\"#Увеличение-выборки\" data-toc-modified-id=\"Увеличение-выборки-3.1\"><span class=\"toc-item-num\">3.1&nbsp;&nbsp;</span>Увеличение выборки</a></span></li><li><span><a href=\"#Точность-моделей-после-балансировки\" data-toc-modified-id=\"Точность-моделей-после-балансировки-3.2\"><span class=\"toc-item-num\">3.2&nbsp;&nbsp;</span>Точность моделей после балансировки</a></span><ul class=\"toc-item\"><li><span><a href=\"#Точность-на-несбалансированных-выборках\" data-toc-modified-id=\"Точность-на-несбалансированных-выборках-3.2.1\"><span class=\"toc-item-num\">3.2.1&nbsp;&nbsp;</span>Точность на несбалансированных выборках</a></span></li><li><span><a href=\"#Точность-после-upsampled\" data-toc-modified-id=\"Точность-после-upsampled-3.2.2\"><span class=\"toc-item-num\">3.2.2&nbsp;&nbsp;</span>Точность после upsampled</a></span></li><li><span><a href=\"#Точность-с-class_weight\" data-toc-modified-id=\"Точность-с-class_weight-3.2.3\"><span class=\"toc-item-num\">3.2.3&nbsp;&nbsp;</span>Точность с class_weight</a></span></li></ul></li><li><span><a href=\"#Обучим-модели-после-увеличения-выборки\" data-toc-modified-id=\"Обучим-модели-после-увеличения-выборки-3.3\"><span class=\"toc-item-num\">3.3&nbsp;&nbsp;</span>Обучим модели после увеличения выборки</a></span><ul class=\"toc-item\"><li><span><a href=\"#Решающие-дерево\" data-toc-modified-id=\"Решающие-дерево-3.3.1\"><span class=\"toc-item-num\">3.3.1&nbsp;&nbsp;</span>Решающие дерево</a></span><ul class=\"toc-item\"><li><span><a href=\"#upsampled\" data-toc-modified-id=\"upsampled-3.3.1.1\"><span class=\"toc-item-num\">3.3.1.1&nbsp;&nbsp;</span>upsampled</a></span></li><li><span><a href=\"#class_weight\" data-toc-modified-id=\"class_weight-3.3.1.2\"><span class=\"toc-item-num\">3.3.1.2&nbsp;&nbsp;</span>class_weight</a></span></li></ul></li><li><span><a href=\"#Случайный-лес\" data-toc-modified-id=\"Случайный-лес-3.3.2\"><span class=\"toc-item-num\">3.3.2&nbsp;&nbsp;</span>Случайный лес</a></span><ul class=\"toc-item\"><li><span><a href=\"#upsampled\" data-toc-modified-id=\"upsampled-3.3.2.1\"><span class=\"toc-item-num\">3.3.2.1&nbsp;&nbsp;</span>upsampled</a></span></li><li><span><a href=\"#class_weight\" data-toc-modified-id=\"class_weight-3.3.2.2\"><span class=\"toc-item-num\">3.3.2.2&nbsp;&nbsp;</span>class_weight</a></span></li></ul></li><li><span><a href=\"#Логистическая-регрессия\" data-toc-modified-id=\"Логистическая-регрессия-3.3.3\"><span class=\"toc-item-num\">3.3.3&nbsp;&nbsp;</span>Логистическая регрессия</a></span><ul class=\"toc-item\"><li><span><a href=\"#upsampled\" data-toc-modified-id=\"upsampled-3.3.3.1\"><span class=\"toc-item-num\">3.3.3.1&nbsp;&nbsp;</span>upsampled</a></span></li><li><span><a href=\"#class_weight\" data-toc-modified-id=\"class_weight-3.3.3.2\"><span class=\"toc-item-num\">3.3.3.2&nbsp;&nbsp;</span>class_weight</a></span></li></ul></li></ul></li><li><span><a href=\"#Показатели-случайного-леса-с-лучшими-параметрами\" data-toc-modified-id=\"Показатели-случайного-леса-с-лучшими-параметрами-3.4\"><span class=\"toc-item-num\">3.4&nbsp;&nbsp;</span>Показатели случайного леса с лучшими параметрами</a></span></li><li><span><a href=\"#Адекватность-лучшей-модели-с-оптимальными-параметрами\" data-toc-modified-id=\"Адекватность-лучшей-модели-с-оптимальными-параметрами-3.5\"><span class=\"toc-item-num\">3.5&nbsp;&nbsp;</span>Адекватность лучшей модели с оптимальными параметрами</a></span></li></ul></li><li><span><a href=\"#Тестирование-модели\" data-toc-modified-id=\"Тестирование-модели-4\"><span class=\"toc-item-num\">4&nbsp;&nbsp;</span>Тестирование модели</a></span><ul class=\"toc-item\"><li><span><a href=\"#Проверка-модели-на-тестовой-выборке\" data-toc-modified-id=\"Проверка-модели-на-тестовой-выборке-4.1\"><span class=\"toc-item-num\">4.1&nbsp;&nbsp;</span>Проверка модели на тестовой выборке</a></span></li><li><span><a href=\"#Вывод\" data-toc-modified-id=\"Вывод-4.2\"><span class=\"toc-item-num\">4.2&nbsp;&nbsp;</span>Вывод</a></span></li></ul></li><li><span><a href=\"#Вывод\" data-toc-modified-id=\"Вывод-5\"><span class=\"toc-item-num\">5&nbsp;&nbsp;</span>Вывод</a></span></li><li><span><a href=\"#Чек-лист-готовности-проекта\" data-toc-modified-id=\"Чек-лист-готовности-проекта-6\"><span class=\"toc-item-num\">6&nbsp;&nbsp;</span>Чек-лист готовности проекта</a></span></li><li><span><a href=\"#Общий-вывод-по-проекту\" data-toc-modified-id=\"Общий-вывод-по-проекту-7\"><span class=\"toc-item-num\">7&nbsp;&nbsp;</span><b>Общий вывод по проекту</b></a></span></li><li><span><a href=\"#Общий-вывод-по-проекту-V2\" data-toc-modified-id=\"Общий-вывод-по-проекту-V2-8\"><span class=\"toc-item-num\">8&nbsp;&nbsp;</span><b>Общий вывод по проекту V2</b></a></span></li><li><span><a href=\"#Общий-вывод-по-проекту-V3\" data-toc-modified-id=\"Общий-вывод-по-проекту-V3-9\"><span class=\"toc-item-num\">9&nbsp;&nbsp;</span><b>Общий вывод по проекту V3</b></a></span></li><li><span><a href=\"#Общий-вывод-по-проекту-V4\" data-toc-modified-id=\"Общий-вывод-по-проекту-V4-10\"><span class=\"toc-item-num\">10&nbsp;&nbsp;</span><b>Общий вывод по проекту V4</b></a></span></li><li><span><a href=\"#Общий-вывод-по-проекту-V5\" data-toc-modified-id=\"Общий-вывод-по-проекту-V5-11\"><span class=\"toc-item-num\">11&nbsp;&nbsp;</span><b>Общий вывод по проекту V5</b></a></span></li></ul></div>"
   ]
  },
  {
   "cell_type": "markdown",
   "metadata": {},
   "source": [
    "# Отток клиентов"
   ]
  },
  {
   "cell_type": "markdown",
   "metadata": {},
   "source": [
    "Из «Бета-Банка» стали уходить клиенты. Каждый месяц. Немного, но заметно. Банковские маркетологи посчитали: сохранять текущих клиентов дешевле, чем привлекать новых.\n",
    "\n",
    "Нужно спрогнозировать, уйдёт клиент из банка в ближайшее время или нет. Вам предоставлены исторические данные о поведении клиентов и расторжении договоров с банком. \n",
    "\n",
    "Постройте модель с предельно большим значением *F1*-меры. Чтобы сдать проект успешно, нужно довести метрику до 0.59. Проверьте *F1*-меру на тестовой выборке самостоятельно.\n",
    "\n",
    "Дополнительно измеряйте *AUC-ROC*, сравнивайте её значение с *F1*-мерой.\n",
    "\n",
    "Источник данных: [https://www.kaggle.com/barelydedicated/bank-customer-churn-modeling](https://www.kaggle.com/barelydedicated/bank-customer-churn-modeling)"
   ]
  },
  {
   "cell_type": "markdown",
   "metadata": {},
   "source": [
    "## Подготовка данных"
   ]
  },
  {
   "cell_type": "markdown",
   "metadata": {},
   "source": [
    "### Импорт библиотек "
   ]
  },
  {
   "cell_type": "code",
   "execution_count": 1,
   "metadata": {
    "scrolled": true
   },
   "outputs": [
    {
     "name": "stdout",
     "output_type": "stream",
     "text": [
      "Requirement already satisfied: fast_ml in /opt/conda/lib/python3.9/site-packages (3.68)\r\n"
     ]
    }
   ],
   "source": [
    "import pandas as pd\n",
    "import numpy as np\n",
    "import matplotlib.pyplot as plt\n",
    "from sklearn.model_selection import train_test_split\n",
    "!pip install fast_ml\n",
    "from fast_ml.model_development import train_valid_test_split\n",
    "from sklearn.tree import DecisionTreeClassifier\n",
    "from sklearn.ensemble import RandomForestClassifier\n",
    "from sklearn.model_selection import GridSearchCV\n",
    "from sklearn.linear_model import LogisticRegression\n",
    "from sklearn.preprocessing import StandardScaler\n",
    "from sklearn.metrics import confusion_matrix\n",
    "from sklearn.metrics import recall_score\n",
    "from sklearn.metrics import precision_score\n",
    "from sklearn.metrics import accuracy_score\n",
    "from sklearn.metrics import f1_score\n",
    "from sklearn.metrics import roc_auc_score\n",
    "from sklearn.metrics import roc_curve\n",
    "from sklearn.utils import shuffle\n",
    "from sklearn.preprocessing import OneHotEncoder\n",
    "from sklearn.compose import ColumnTransformer\n",
    "from sklearn.preprocessing import Normalizer"
   ]
  },
  {
   "cell_type": "markdown",
   "metadata": {},
   "source": [
    "### Загрузка данных"
   ]
  },
  {
   "cell_type": "code",
   "execution_count": 2,
   "metadata": {},
   "outputs": [
    {
     "data": {
      "text/html": [
       "<div>\n",
       "<style scoped>\n",
       "    .dataframe tbody tr th:only-of-type {\n",
       "        vertical-align: middle;\n",
       "    }\n",
       "\n",
       "    .dataframe tbody tr th {\n",
       "        vertical-align: top;\n",
       "    }\n",
       "\n",
       "    .dataframe thead th {\n",
       "        text-align: right;\n",
       "    }\n",
       "</style>\n",
       "<table border=\"1\" class=\"dataframe\">\n",
       "  <thead>\n",
       "    <tr style=\"text-align: right;\">\n",
       "      <th></th>\n",
       "      <th>RowNumber</th>\n",
       "      <th>CustomerId</th>\n",
       "      <th>Surname</th>\n",
       "      <th>CreditScore</th>\n",
       "      <th>Geography</th>\n",
       "      <th>Gender</th>\n",
       "      <th>Age</th>\n",
       "      <th>Tenure</th>\n",
       "      <th>Balance</th>\n",
       "      <th>NumOfProducts</th>\n",
       "      <th>HasCrCard</th>\n",
       "      <th>IsActiveMember</th>\n",
       "      <th>EstimatedSalary</th>\n",
       "      <th>Exited</th>\n",
       "    </tr>\n",
       "  </thead>\n",
       "  <tbody>\n",
       "    <tr>\n",
       "      <th>0</th>\n",
       "      <td>1</td>\n",
       "      <td>15634602</td>\n",
       "      <td>Hargrave</td>\n",
       "      <td>619</td>\n",
       "      <td>France</td>\n",
       "      <td>Female</td>\n",
       "      <td>42</td>\n",
       "      <td>2.0</td>\n",
       "      <td>0.00</td>\n",
       "      <td>1</td>\n",
       "      <td>1</td>\n",
       "      <td>1</td>\n",
       "      <td>101348.88</td>\n",
       "      <td>1</td>\n",
       "    </tr>\n",
       "    <tr>\n",
       "      <th>1</th>\n",
       "      <td>2</td>\n",
       "      <td>15647311</td>\n",
       "      <td>Hill</td>\n",
       "      <td>608</td>\n",
       "      <td>Spain</td>\n",
       "      <td>Female</td>\n",
       "      <td>41</td>\n",
       "      <td>1.0</td>\n",
       "      <td>83807.86</td>\n",
       "      <td>1</td>\n",
       "      <td>0</td>\n",
       "      <td>1</td>\n",
       "      <td>112542.58</td>\n",
       "      <td>0</td>\n",
       "    </tr>\n",
       "    <tr>\n",
       "      <th>2</th>\n",
       "      <td>3</td>\n",
       "      <td>15619304</td>\n",
       "      <td>Onio</td>\n",
       "      <td>502</td>\n",
       "      <td>France</td>\n",
       "      <td>Female</td>\n",
       "      <td>42</td>\n",
       "      <td>8.0</td>\n",
       "      <td>159660.80</td>\n",
       "      <td>3</td>\n",
       "      <td>1</td>\n",
       "      <td>0</td>\n",
       "      <td>113931.57</td>\n",
       "      <td>1</td>\n",
       "    </tr>\n",
       "    <tr>\n",
       "      <th>3</th>\n",
       "      <td>4</td>\n",
       "      <td>15701354</td>\n",
       "      <td>Boni</td>\n",
       "      <td>699</td>\n",
       "      <td>France</td>\n",
       "      <td>Female</td>\n",
       "      <td>39</td>\n",
       "      <td>1.0</td>\n",
       "      <td>0.00</td>\n",
       "      <td>2</td>\n",
       "      <td>0</td>\n",
       "      <td>0</td>\n",
       "      <td>93826.63</td>\n",
       "      <td>0</td>\n",
       "    </tr>\n",
       "    <tr>\n",
       "      <th>4</th>\n",
       "      <td>5</td>\n",
       "      <td>15737888</td>\n",
       "      <td>Mitchell</td>\n",
       "      <td>850</td>\n",
       "      <td>Spain</td>\n",
       "      <td>Female</td>\n",
       "      <td>43</td>\n",
       "      <td>2.0</td>\n",
       "      <td>125510.82</td>\n",
       "      <td>1</td>\n",
       "      <td>1</td>\n",
       "      <td>1</td>\n",
       "      <td>79084.10</td>\n",
       "      <td>0</td>\n",
       "    </tr>\n",
       "  </tbody>\n",
       "</table>\n",
       "</div>"
      ],
      "text/plain": [
       "   RowNumber  CustomerId   Surname  CreditScore Geography  Gender  Age  \\\n",
       "0          1    15634602  Hargrave          619    France  Female   42   \n",
       "1          2    15647311      Hill          608     Spain  Female   41   \n",
       "2          3    15619304      Onio          502    France  Female   42   \n",
       "3          4    15701354      Boni          699    France  Female   39   \n",
       "4          5    15737888  Mitchell          850     Spain  Female   43   \n",
       "\n",
       "   Tenure    Balance  NumOfProducts  HasCrCard  IsActiveMember  \\\n",
       "0     2.0       0.00              1          1               1   \n",
       "1     1.0   83807.86              1          0               1   \n",
       "2     8.0  159660.80              3          1               0   \n",
       "3     1.0       0.00              2          0               0   \n",
       "4     2.0  125510.82              1          1               1   \n",
       "\n",
       "   EstimatedSalary  Exited  \n",
       "0        101348.88       1  \n",
       "1        112542.58       0  \n",
       "2        113931.57       1  \n",
       "3         93826.63       0  \n",
       "4         79084.10       0  "
      ]
     },
     "execution_count": 2,
     "metadata": {},
     "output_type": "execute_result"
    }
   ],
   "source": [
    "data = pd.read_csv('Churn.csv')\n",
    "data.head(5)"
   ]
  },
  {
   "cell_type": "markdown",
   "metadata": {},
   "source": [
    "### Анализ данных "
   ]
  },
  {
   "cell_type": "code",
   "execution_count": 3,
   "metadata": {
    "scrolled": true
   },
   "outputs": [
    {
     "name": "stdout",
     "output_type": "stream",
     "text": [
      "<class 'pandas.core.frame.DataFrame'>\n",
      "RangeIndex: 10000 entries, 0 to 9999\n",
      "Data columns (total 14 columns):\n",
      " #   Column           Non-Null Count  Dtype  \n",
      "---  ------           --------------  -----  \n",
      " 0   RowNumber        10000 non-null  int64  \n",
      " 1   CustomerId       10000 non-null  int64  \n",
      " 2   Surname          10000 non-null  object \n",
      " 3   CreditScore      10000 non-null  int64  \n",
      " 4   Geography        10000 non-null  object \n",
      " 5   Gender           10000 non-null  object \n",
      " 6   Age              10000 non-null  int64  \n",
      " 7   Tenure           9091 non-null   float64\n",
      " 8   Balance          10000 non-null  float64\n",
      " 9   NumOfProducts    10000 non-null  int64  \n",
      " 10  HasCrCard        10000 non-null  int64  \n",
      " 11  IsActiveMember   10000 non-null  int64  \n",
      " 12  EstimatedSalary  10000 non-null  float64\n",
      " 13  Exited           10000 non-null  int64  \n",
      "dtypes: float64(3), int64(8), object(3)\n",
      "memory usage: 1.1+ MB\n"
     ]
    },
    {
     "data": {
      "text/plain": [
       "None"
      ]
     },
     "metadata": {},
     "output_type": "display_data"
    },
    {
     "data": {
      "text/plain": [
       "array(['France', 'Spain', 'Germany'], dtype=object)"
      ]
     },
     "metadata": {},
     "output_type": "display_data"
    },
    {
     "data": {
      "text/plain": [
       "array(['Female', 'Male'], dtype=object)"
      ]
     },
     "metadata": {},
     "output_type": "display_data"
    },
    {
     "data": {
      "text/plain": [
       "array([ 2.,  1.,  8.,  7.,  4.,  6.,  3., 10.,  5.,  9.,  0., nan])"
      ]
     },
     "metadata": {},
     "output_type": "display_data"
    }
   ],
   "source": [
    "display(data.info())\n",
    "display(data['Geography'].unique())\n",
    "display(data['Gender'].unique())\n",
    "display(data['Tenure'].unique())"
   ]
  },
  {
   "cell_type": "markdown",
   "metadata": {},
   "source": [
    "Целевой признак `Exited` — факт ухода клиента, категориальный признак (задача классификации)"
   ]
  },
  {
   "cell_type": "markdown",
   "metadata": {},
   "source": [
    "- Tenure - 909 значений пропущено, заменим значениями заглушками (-1)\n",
    "- RowNumber - дублирует индекс строки, данный признак для обучения модели не нужен удалим.\n",
    "- CustomerId - идентификатор пользователя, данный признак для обучения модели не нужен удалим.\n",
    "- Surname - фамилия пользователя, данный признак для обучения модели не нужен удалим.\n",
    "- CreditScore - следует проверить распределение и сохранить данный столбец.\n",
    "- Geography - 3 уникальных значения France', 'Spain', 'Germany' преобразуем техникой OHE.\n",
    "- Gender - 2 уникальных значения, преобразуем техникой OHE."
   ]
  },
  {
   "cell_type": "markdown",
   "metadata": {},
   "source": [
    "### Подготовка данных"
   ]
  },
  {
   "cell_type": "markdown",
   "metadata": {},
   "source": [
    "Удалим строки с пропущенными значениями в столбце `Tenure`, т.к это 9,09 % от всего объёма данных"
   ]
  },
  {
   "cell_type": "code",
   "execution_count": 4,
   "metadata": {},
   "outputs": [
    {
     "name": "stdout",
     "output_type": "stream",
     "text": [
      "<class 'pandas.core.frame.DataFrame'>\n",
      "Int64Index: 9091 entries, 0 to 9998\n",
      "Data columns (total 14 columns):\n",
      " #   Column           Non-Null Count  Dtype  \n",
      "---  ------           --------------  -----  \n",
      " 0   RowNumber        9091 non-null   int64  \n",
      " 1   CustomerId       9091 non-null   int64  \n",
      " 2   Surname          9091 non-null   object \n",
      " 3   CreditScore      9091 non-null   int64  \n",
      " 4   Geography        9091 non-null   object \n",
      " 5   Gender           9091 non-null   object \n",
      " 6   Age              9091 non-null   int64  \n",
      " 7   Tenure           9091 non-null   float64\n",
      " 8   Balance          9091 non-null   float64\n",
      " 9   NumOfProducts    9091 non-null   int64  \n",
      " 10  HasCrCard        9091 non-null   int64  \n",
      " 11  IsActiveMember   9091 non-null   int64  \n",
      " 12  EstimatedSalary  9091 non-null   float64\n",
      " 13  Exited           9091 non-null   int64  \n",
      "dtypes: float64(3), int64(8), object(3)\n",
      "memory usage: 1.0+ MB\n"
     ]
    },
    {
     "data": {
      "text/plain": [
       "None"
      ]
     },
     "metadata": {},
     "output_type": "display_data"
    }
   ],
   "source": [
    "#Удалим пропущенные значения \n",
    "data.dropna(subset = ['Tenure'], inplace = True,)\n",
    "display(data.info())"
   ]
  },
  {
   "cell_type": "code",
   "execution_count": 5,
   "metadata": {},
   "outputs": [],
   "source": [
    "#Удалим лишние столбцы\n",
    "#RowNumber - дублирует индекс строки, данный признак для обучения модели не нужен удалим.\n",
    "#CustomerId - идентификатор пользователя, данный признак для обучения модели не нужен удалим.\n",
    "#Surname - фамилия пользователя, данный признак для обучения модели не нужен удалим.\n",
    "columns_for_drop = ['RowNumber','CustomerId', 'Surname']\n",
    "data_2 = data.drop(columns_for_drop, axis=1)\n",
    "data_2.drop(labels = [0],axis = 0,inplace=True)\n",
    "data_2 = data_2.reset_index(drop=True)"
   ]
  },
  {
   "cell_type": "markdown",
   "metadata": {},
   "source": [
    "### Выборка"
   ]
  },
  {
   "cell_type": "code",
   "execution_count": 7,
   "metadata": {},
   "outputs": [],
   "source": [
    "#Выбираем признаки и целевой признак\n",
    "features = data_2.drop('Exited', axis=1)\n",
    "target = data_2['Exited']"
   ]
  },
  {
   "cell_type": "code",
   "execution_count": 8,
   "metadata": {},
   "outputs": [],
   "source": [
    "#Делим на выборки\n",
    "features_train, target_train, features_valid, target_valid, features_test, target_test = train_valid_test_split(data_2, target = 'Exited', train_size=0.6, valid_size=0.2, test_size=0.2)"
   ]
  },
  {
   "cell_type": "code",
   "execution_count": 9,
   "metadata": {},
   "outputs": [
    {
     "name": "stdout",
     "output_type": "stream",
     "text": [
      "(5454, 10)\n",
      "(5454,)\n",
      "(1818, 10)\n",
      "(1818,)\n",
      "(1818, 10)\n",
      "(1818,)\n"
     ]
    }
   ],
   "source": [
    "print(features_train.shape)\n",
    "print(target_train.shape)\n",
    "print(features_valid.shape)\n",
    "print(target_valid.shape)\n",
    "print(features_test.shape)\n",
    "print(target_test.shape)"
   ]
  },
  {
   "cell_type": "code",
   "execution_count": 10,
   "metadata": {},
   "outputs": [],
   "source": [
    "#Сброс индексов \n",
    "features_train.reset_index(drop= True , inplace= True )\n",
    "features_valid.reset_index(drop= True , inplace= True )\n",
    "features_test.reset_index(drop= True , inplace= True )\n",
    "target_train.reset_index(drop= True , inplace= True )\n",
    "target_valid.reset_index(drop= True , inplace= True )\n",
    "target_test.reset_index(drop= True , inplace= True )"
   ]
  },
  {
   "cell_type": "code",
   "execution_count": 11,
   "metadata": {},
   "outputs": [
    {
     "data": {
      "text/html": [
       "<div>\n",
       "<style scoped>\n",
       "    .dataframe tbody tr th:only-of-type {\n",
       "        vertical-align: middle;\n",
       "    }\n",
       "\n",
       "    .dataframe tbody tr th {\n",
       "        vertical-align: top;\n",
       "    }\n",
       "\n",
       "    .dataframe thead th {\n",
       "        text-align: right;\n",
       "    }\n",
       "</style>\n",
       "<table border=\"1\" class=\"dataframe\">\n",
       "  <thead>\n",
       "    <tr style=\"text-align: right;\">\n",
       "      <th></th>\n",
       "      <th>CreditScore</th>\n",
       "      <th>Geography</th>\n",
       "      <th>Gender</th>\n",
       "      <th>Age</th>\n",
       "      <th>Tenure</th>\n",
       "      <th>Balance</th>\n",
       "      <th>NumOfProducts</th>\n",
       "      <th>HasCrCard</th>\n",
       "      <th>IsActiveMember</th>\n",
       "      <th>EstimatedSalary</th>\n",
       "    </tr>\n",
       "  </thead>\n",
       "  <tbody>\n",
       "    <tr>\n",
       "      <th>0</th>\n",
       "      <td>745</td>\n",
       "      <td>Germany</td>\n",
       "      <td>Male</td>\n",
       "      <td>36</td>\n",
       "      <td>8.0</td>\n",
       "      <td>145071.24</td>\n",
       "      <td>1</td>\n",
       "      <td>0</td>\n",
       "      <td>0</td>\n",
       "      <td>6078.46</td>\n",
       "    </tr>\n",
       "    <tr>\n",
       "      <th>1</th>\n",
       "      <td>850</td>\n",
       "      <td>France</td>\n",
       "      <td>Female</td>\n",
       "      <td>34</td>\n",
       "      <td>4.0</td>\n",
       "      <td>71379.53</td>\n",
       "      <td>2</td>\n",
       "      <td>1</td>\n",
       "      <td>1</td>\n",
       "      <td>154000.99</td>\n",
       "    </tr>\n",
       "  </tbody>\n",
       "</table>\n",
       "</div>"
      ],
      "text/plain": [
       "   CreditScore Geography  Gender  Age  Tenure    Balance  NumOfProducts  \\\n",
       "0          745   Germany    Male   36     8.0  145071.24              1   \n",
       "1          850    France  Female   34     4.0   71379.53              2   \n",
       "\n",
       "   HasCrCard  IsActiveMember  EstimatedSalary  \n",
       "0          0               0          6078.46  \n",
       "1          1               1        154000.99  "
      ]
     },
     "metadata": {},
     "output_type": "display_data"
    },
    {
     "data": {
      "text/plain": [
       "0    0\n",
       "1    0\n",
       "Name: Exited, dtype: int64"
      ]
     },
     "metadata": {},
     "output_type": "display_data"
    },
    {
     "data": {
      "text/html": [
       "<div>\n",
       "<style scoped>\n",
       "    .dataframe tbody tr th:only-of-type {\n",
       "        vertical-align: middle;\n",
       "    }\n",
       "\n",
       "    .dataframe tbody tr th {\n",
       "        vertical-align: top;\n",
       "    }\n",
       "\n",
       "    .dataframe thead th {\n",
       "        text-align: right;\n",
       "    }\n",
       "</style>\n",
       "<table border=\"1\" class=\"dataframe\">\n",
       "  <thead>\n",
       "    <tr style=\"text-align: right;\">\n",
       "      <th></th>\n",
       "      <th>CreditScore</th>\n",
       "      <th>Geography</th>\n",
       "      <th>Gender</th>\n",
       "      <th>Age</th>\n",
       "      <th>Tenure</th>\n",
       "      <th>Balance</th>\n",
       "      <th>NumOfProducts</th>\n",
       "      <th>HasCrCard</th>\n",
       "      <th>IsActiveMember</th>\n",
       "      <th>EstimatedSalary</th>\n",
       "    </tr>\n",
       "  </thead>\n",
       "  <tbody>\n",
       "    <tr>\n",
       "      <th>0</th>\n",
       "      <td>665</td>\n",
       "      <td>France</td>\n",
       "      <td>Female</td>\n",
       "      <td>55</td>\n",
       "      <td>8.0</td>\n",
       "      <td>136354.16</td>\n",
       "      <td>1</td>\n",
       "      <td>1</td>\n",
       "      <td>1</td>\n",
       "      <td>93769.89</td>\n",
       "    </tr>\n",
       "    <tr>\n",
       "      <th>1</th>\n",
       "      <td>604</td>\n",
       "      <td>Germany</td>\n",
       "      <td>Male</td>\n",
       "      <td>25</td>\n",
       "      <td>7.0</td>\n",
       "      <td>165413.43</td>\n",
       "      <td>1</td>\n",
       "      <td>1</td>\n",
       "      <td>1</td>\n",
       "      <td>35279.74</td>\n",
       "    </tr>\n",
       "  </tbody>\n",
       "</table>\n",
       "</div>"
      ],
      "text/plain": [
       "   CreditScore Geography  Gender  Age  Tenure    Balance  NumOfProducts  \\\n",
       "0          665    France  Female   55     8.0  136354.16              1   \n",
       "1          604   Germany    Male   25     7.0  165413.43              1   \n",
       "\n",
       "   HasCrCard  IsActiveMember  EstimatedSalary  \n",
       "0          1               1         93769.89  \n",
       "1          1               1         35279.74  "
      ]
     },
     "metadata": {},
     "output_type": "display_data"
    },
    {
     "data": {
      "text/plain": [
       "0    0\n",
       "1    0\n",
       "Name: Exited, dtype: int64"
      ]
     },
     "metadata": {},
     "output_type": "display_data"
    },
    {
     "data": {
      "text/html": [
       "<div>\n",
       "<style scoped>\n",
       "    .dataframe tbody tr th:only-of-type {\n",
       "        vertical-align: middle;\n",
       "    }\n",
       "\n",
       "    .dataframe tbody tr th {\n",
       "        vertical-align: top;\n",
       "    }\n",
       "\n",
       "    .dataframe thead th {\n",
       "        text-align: right;\n",
       "    }\n",
       "</style>\n",
       "<table border=\"1\" class=\"dataframe\">\n",
       "  <thead>\n",
       "    <tr style=\"text-align: right;\">\n",
       "      <th></th>\n",
       "      <th>CreditScore</th>\n",
       "      <th>Geography</th>\n",
       "      <th>Gender</th>\n",
       "      <th>Age</th>\n",
       "      <th>Tenure</th>\n",
       "      <th>Balance</th>\n",
       "      <th>NumOfProducts</th>\n",
       "      <th>HasCrCard</th>\n",
       "      <th>IsActiveMember</th>\n",
       "      <th>EstimatedSalary</th>\n",
       "    </tr>\n",
       "  </thead>\n",
       "  <tbody>\n",
       "    <tr>\n",
       "      <th>0</th>\n",
       "      <td>802</td>\n",
       "      <td>France</td>\n",
       "      <td>Male</td>\n",
       "      <td>29</td>\n",
       "      <td>9.0</td>\n",
       "      <td>127414.55</td>\n",
       "      <td>1</td>\n",
       "      <td>1</td>\n",
       "      <td>1</td>\n",
       "      <td>134459.12</td>\n",
       "    </tr>\n",
       "    <tr>\n",
       "      <th>1</th>\n",
       "      <td>687</td>\n",
       "      <td>France</td>\n",
       "      <td>Male</td>\n",
       "      <td>34</td>\n",
       "      <td>5.0</td>\n",
       "      <td>128270.56</td>\n",
       "      <td>1</td>\n",
       "      <td>1</td>\n",
       "      <td>0</td>\n",
       "      <td>191092.62</td>\n",
       "    </tr>\n",
       "  </tbody>\n",
       "</table>\n",
       "</div>"
      ],
      "text/plain": [
       "   CreditScore Geography Gender  Age  Tenure    Balance  NumOfProducts  \\\n",
       "0          802    France   Male   29     9.0  127414.55              1   \n",
       "1          687    France   Male   34     5.0  128270.56              1   \n",
       "\n",
       "   HasCrCard  IsActiveMember  EstimatedSalary  \n",
       "0          1               1        134459.12  \n",
       "1          1               0        191092.62  "
      ]
     },
     "metadata": {},
     "output_type": "display_data"
    },
    {
     "data": {
      "text/plain": [
       "0    0\n",
       "1    0\n",
       "Name: Exited, dtype: int64"
      ]
     },
     "metadata": {},
     "output_type": "display_data"
    }
   ],
   "source": [
    "display(features_train.head(2), target_train.head(2), features_valid.head(2), target_valid.head(2), features_test.head(2), target_test.head(2))"
   ]
  },
  {
   "cell_type": "markdown",
   "metadata": {},
   "source": [
    "### Преобразуем признаки техникой OHE"
   ]
  },
  {
   "cell_type": "code",
   "execution_count": 12,
   "metadata": {},
   "outputs": [],
   "source": [
    "cat_cols=['Geography','Gender']\n",
    "\n",
    "encoder = OneHotEncoder(drop='first')\n",
    "features_encoding_Geo = pd.DataFrame(encoder.fit_transform(features_train[cat_cols]).toarray())\n",
    "features_train=features_train.join(features_encoding_Geo,rsuffix='geo')\n",
    "features_train.drop(columns=['Geography','Gender'],axis = 1,inplace=True)\n",
    "\n",
    "features_encoding_Geo1 = pd.DataFrame(encoder.transform(features_valid[cat_cols]).toarray())\n",
    "features_valid=features_valid.join(features_encoding_Geo1,rsuffix='geo')\n",
    "features_valid.drop(columns=['Geography','Gender'],axis = 1,inplace=True)\n",
    "\n",
    "features_encoding_Geo2 = pd.DataFrame(encoder.transform(features_test[cat_cols]).toarray())\n",
    "features_test =features_test.join(features_encoding_Geo2,rsuffix='geo')\n",
    "features_test.drop(columns=['Geography','Gender'],axis = 1,inplace=True)"
   ]
  },
  {
   "cell_type": "code",
   "execution_count": 13,
   "metadata": {
    "scrolled": true
   },
   "outputs": [
    {
     "data": {
      "text/html": [
       "<div>\n",
       "<style scoped>\n",
       "    .dataframe tbody tr th:only-of-type {\n",
       "        vertical-align: middle;\n",
       "    }\n",
       "\n",
       "    .dataframe tbody tr th {\n",
       "        vertical-align: top;\n",
       "    }\n",
       "\n",
       "    .dataframe thead th {\n",
       "        text-align: right;\n",
       "    }\n",
       "</style>\n",
       "<table border=\"1\" class=\"dataframe\">\n",
       "  <thead>\n",
       "    <tr style=\"text-align: right;\">\n",
       "      <th></th>\n",
       "      <th>CreditScore</th>\n",
       "      <th>Age</th>\n",
       "      <th>Tenure</th>\n",
       "      <th>Balance</th>\n",
       "      <th>NumOfProducts</th>\n",
       "      <th>HasCrCard</th>\n",
       "      <th>IsActiveMember</th>\n",
       "      <th>EstimatedSalary</th>\n",
       "      <th>0</th>\n",
       "      <th>1</th>\n",
       "      <th>2</th>\n",
       "    </tr>\n",
       "  </thead>\n",
       "  <tbody>\n",
       "    <tr>\n",
       "      <th>0</th>\n",
       "      <td>745</td>\n",
       "      <td>36</td>\n",
       "      <td>8.0</td>\n",
       "      <td>145071.24</td>\n",
       "      <td>1</td>\n",
       "      <td>0</td>\n",
       "      <td>0</td>\n",
       "      <td>6078.46</td>\n",
       "      <td>1.0</td>\n",
       "      <td>0.0</td>\n",
       "      <td>1.0</td>\n",
       "    </tr>\n",
       "    <tr>\n",
       "      <th>1</th>\n",
       "      <td>850</td>\n",
       "      <td>34</td>\n",
       "      <td>4.0</td>\n",
       "      <td>71379.53</td>\n",
       "      <td>2</td>\n",
       "      <td>1</td>\n",
       "      <td>1</td>\n",
       "      <td>154000.99</td>\n",
       "      <td>0.0</td>\n",
       "      <td>0.0</td>\n",
       "      <td>0.0</td>\n",
       "    </tr>\n",
       "  </tbody>\n",
       "</table>\n",
       "</div>"
      ],
      "text/plain": [
       "   CreditScore  Age  Tenure    Balance  NumOfProducts  HasCrCard  \\\n",
       "0          745   36     8.0  145071.24              1          0   \n",
       "1          850   34     4.0   71379.53              2          1   \n",
       "\n",
       "   IsActiveMember  EstimatedSalary    0    1    2  \n",
       "0               0          6078.46  1.0  0.0  1.0  \n",
       "1               1        154000.99  0.0  0.0  0.0  "
      ]
     },
     "metadata": {},
     "output_type": "display_data"
    },
    {
     "data": {
      "text/html": [
       "<div>\n",
       "<style scoped>\n",
       "    .dataframe tbody tr th:only-of-type {\n",
       "        vertical-align: middle;\n",
       "    }\n",
       "\n",
       "    .dataframe tbody tr th {\n",
       "        vertical-align: top;\n",
       "    }\n",
       "\n",
       "    .dataframe thead th {\n",
       "        text-align: right;\n",
       "    }\n",
       "</style>\n",
       "<table border=\"1\" class=\"dataframe\">\n",
       "  <thead>\n",
       "    <tr style=\"text-align: right;\">\n",
       "      <th></th>\n",
       "      <th>CreditScore</th>\n",
       "      <th>Age</th>\n",
       "      <th>Tenure</th>\n",
       "      <th>Balance</th>\n",
       "      <th>NumOfProducts</th>\n",
       "      <th>HasCrCard</th>\n",
       "      <th>IsActiveMember</th>\n",
       "      <th>EstimatedSalary</th>\n",
       "      <th>0</th>\n",
       "      <th>1</th>\n",
       "      <th>2</th>\n",
       "    </tr>\n",
       "  </thead>\n",
       "  <tbody>\n",
       "    <tr>\n",
       "      <th>0</th>\n",
       "      <td>665</td>\n",
       "      <td>55</td>\n",
       "      <td>8.0</td>\n",
       "      <td>136354.16</td>\n",
       "      <td>1</td>\n",
       "      <td>1</td>\n",
       "      <td>1</td>\n",
       "      <td>93769.89</td>\n",
       "      <td>0.0</td>\n",
       "      <td>0.0</td>\n",
       "      <td>0.0</td>\n",
       "    </tr>\n",
       "    <tr>\n",
       "      <th>1</th>\n",
       "      <td>604</td>\n",
       "      <td>25</td>\n",
       "      <td>7.0</td>\n",
       "      <td>165413.43</td>\n",
       "      <td>1</td>\n",
       "      <td>1</td>\n",
       "      <td>1</td>\n",
       "      <td>35279.74</td>\n",
       "      <td>1.0</td>\n",
       "      <td>0.0</td>\n",
       "      <td>1.0</td>\n",
       "    </tr>\n",
       "  </tbody>\n",
       "</table>\n",
       "</div>"
      ],
      "text/plain": [
       "   CreditScore  Age  Tenure    Balance  NumOfProducts  HasCrCard  \\\n",
       "0          665   55     8.0  136354.16              1          1   \n",
       "1          604   25     7.0  165413.43              1          1   \n",
       "\n",
       "   IsActiveMember  EstimatedSalary    0    1    2  \n",
       "0               1         93769.89  0.0  0.0  0.0  \n",
       "1               1         35279.74  1.0  0.0  1.0  "
      ]
     },
     "metadata": {},
     "output_type": "display_data"
    },
    {
     "data": {
      "text/html": [
       "<div>\n",
       "<style scoped>\n",
       "    .dataframe tbody tr th:only-of-type {\n",
       "        vertical-align: middle;\n",
       "    }\n",
       "\n",
       "    .dataframe tbody tr th {\n",
       "        vertical-align: top;\n",
       "    }\n",
       "\n",
       "    .dataframe thead th {\n",
       "        text-align: right;\n",
       "    }\n",
       "</style>\n",
       "<table border=\"1\" class=\"dataframe\">\n",
       "  <thead>\n",
       "    <tr style=\"text-align: right;\">\n",
       "      <th></th>\n",
       "      <th>CreditScore</th>\n",
       "      <th>Age</th>\n",
       "      <th>Tenure</th>\n",
       "      <th>Balance</th>\n",
       "      <th>NumOfProducts</th>\n",
       "      <th>HasCrCard</th>\n",
       "      <th>IsActiveMember</th>\n",
       "      <th>EstimatedSalary</th>\n",
       "      <th>0</th>\n",
       "      <th>1</th>\n",
       "      <th>2</th>\n",
       "    </tr>\n",
       "  </thead>\n",
       "  <tbody>\n",
       "    <tr>\n",
       "      <th>0</th>\n",
       "      <td>802</td>\n",
       "      <td>29</td>\n",
       "      <td>9.0</td>\n",
       "      <td>127414.55</td>\n",
       "      <td>1</td>\n",
       "      <td>1</td>\n",
       "      <td>1</td>\n",
       "      <td>134459.12</td>\n",
       "      <td>0.0</td>\n",
       "      <td>0.0</td>\n",
       "      <td>1.0</td>\n",
       "    </tr>\n",
       "    <tr>\n",
       "      <th>1</th>\n",
       "      <td>687</td>\n",
       "      <td>34</td>\n",
       "      <td>5.0</td>\n",
       "      <td>128270.56</td>\n",
       "      <td>1</td>\n",
       "      <td>1</td>\n",
       "      <td>0</td>\n",
       "      <td>191092.62</td>\n",
       "      <td>0.0</td>\n",
       "      <td>0.0</td>\n",
       "      <td>1.0</td>\n",
       "    </tr>\n",
       "  </tbody>\n",
       "</table>\n",
       "</div>"
      ],
      "text/plain": [
       "   CreditScore  Age  Tenure    Balance  NumOfProducts  HasCrCard  \\\n",
       "0          802   29     9.0  127414.55              1          1   \n",
       "1          687   34     5.0  128270.56              1          1   \n",
       "\n",
       "   IsActiveMember  EstimatedSalary    0    1    2  \n",
       "0               1        134459.12  0.0  0.0  1.0  \n",
       "1               0        191092.62  0.0  0.0  1.0  "
      ]
     },
     "metadata": {},
     "output_type": "display_data"
    }
   ],
   "source": [
    "(display(features_train.head(2),\n",
    "         features_valid.head(2),\n",
    "         features_test.head(2)))"
   ]
  },
  {
   "cell_type": "code",
   "execution_count": 14,
   "metadata": {},
   "outputs": [
    {
     "name": "stdout",
     "output_type": "stream",
     "text": [
      "(5454, 11)\n",
      "(1818, 11)\n",
      "(1818, 11)\n"
     ]
    }
   ],
   "source": [
    "print(features_train.shape)\n",
    "print(features_valid.shape)\n",
    "print(features_test.shape)"
   ]
  },
  {
   "cell_type": "markdown",
   "metadata": {},
   "source": [
    "### Масштабирование признаков"
   ]
  },
  {
   "cell_type": "code",
   "execution_count": 15,
   "metadata": {},
   "outputs": [
    {
     "data": {
      "text/plain": [
       "StandardScaler()"
      ]
     },
     "execution_count": 15,
     "metadata": {},
     "output_type": "execute_result"
    }
   ],
   "source": [
    "numeric = ['CreditScore', 'Age', 'Tenure', 'Balance', 'NumOfProducts', 'EstimatedSalary']\n",
    "scaler = StandardScaler()\n",
    "scaler.fit(features_train[numeric])"
   ]
  },
  {
   "cell_type": "code",
   "execution_count": 16,
   "metadata": {
    "scrolled": true
   },
   "outputs": [
    {
     "data": {
      "text/html": [
       "<div>\n",
       "<style scoped>\n",
       "    .dataframe tbody tr th:only-of-type {\n",
       "        vertical-align: middle;\n",
       "    }\n",
       "\n",
       "    .dataframe tbody tr th {\n",
       "        vertical-align: top;\n",
       "    }\n",
       "\n",
       "    .dataframe thead th {\n",
       "        text-align: right;\n",
       "    }\n",
       "</style>\n",
       "<table border=\"1\" class=\"dataframe\">\n",
       "  <thead>\n",
       "    <tr style=\"text-align: right;\">\n",
       "      <th></th>\n",
       "      <th>CreditScore</th>\n",
       "      <th>Age</th>\n",
       "      <th>Tenure</th>\n",
       "      <th>Balance</th>\n",
       "      <th>NumOfProducts</th>\n",
       "      <th>HasCrCard</th>\n",
       "      <th>IsActiveMember</th>\n",
       "      <th>EstimatedSalary</th>\n",
       "      <th>0</th>\n",
       "      <th>1</th>\n",
       "      <th>2</th>\n",
       "    </tr>\n",
       "  </thead>\n",
       "  <tbody>\n",
       "    <tr>\n",
       "      <th>0</th>\n",
       "      <td>0.982488</td>\n",
       "      <td>-0.281395</td>\n",
       "      <td>1.043731</td>\n",
       "      <td>1.090780</td>\n",
       "      <td>-0.921931</td>\n",
       "      <td>0</td>\n",
       "      <td>0</td>\n",
       "      <td>-1.639920</td>\n",
       "      <td>1.0</td>\n",
       "      <td>0.0</td>\n",
       "      <td>1.0</td>\n",
       "    </tr>\n",
       "    <tr>\n",
       "      <th>1</th>\n",
       "      <td>2.068911</td>\n",
       "      <td>-0.471055</td>\n",
       "      <td>-0.336773</td>\n",
       "      <td>-0.091559</td>\n",
       "      <td>0.792427</td>\n",
       "      <td>1</td>\n",
       "      <td>1</td>\n",
       "      <td>0.933515</td>\n",
       "      <td>0.0</td>\n",
       "      <td>0.0</td>\n",
       "      <td>0.0</td>\n",
       "    </tr>\n",
       "  </tbody>\n",
       "</table>\n",
       "</div>"
      ],
      "text/plain": [
       "   CreditScore       Age    Tenure   Balance  NumOfProducts  HasCrCard  \\\n",
       "0     0.982488 -0.281395  1.043731  1.090780      -0.921931          0   \n",
       "1     2.068911 -0.471055 -0.336773 -0.091559       0.792427          1   \n",
       "\n",
       "   IsActiveMember  EstimatedSalary    0    1    2  \n",
       "0               0        -1.639920  1.0  0.0  1.0  \n",
       "1               1         0.933515  0.0  0.0  0.0  "
      ]
     },
     "execution_count": 16,
     "metadata": {},
     "output_type": "execute_result"
    }
   ],
   "source": [
    "features_train[numeric] = scaler.transform(features_train[numeric])\n",
    "features_train.head(2)"
   ]
  },
  {
   "cell_type": "code",
   "execution_count": 17,
   "metadata": {
    "scrolled": true
   },
   "outputs": [
    {
     "data": {
      "text/html": [
       "<div>\n",
       "<style scoped>\n",
       "    .dataframe tbody tr th:only-of-type {\n",
       "        vertical-align: middle;\n",
       "    }\n",
       "\n",
       "    .dataframe tbody tr th {\n",
       "        vertical-align: top;\n",
       "    }\n",
       "\n",
       "    .dataframe thead th {\n",
       "        text-align: right;\n",
       "    }\n",
       "</style>\n",
       "<table border=\"1\" class=\"dataframe\">\n",
       "  <thead>\n",
       "    <tr style=\"text-align: right;\">\n",
       "      <th></th>\n",
       "      <th>CreditScore</th>\n",
       "      <th>Age</th>\n",
       "      <th>Tenure</th>\n",
       "      <th>Balance</th>\n",
       "      <th>NumOfProducts</th>\n",
       "      <th>HasCrCard</th>\n",
       "      <th>IsActiveMember</th>\n",
       "      <th>EstimatedSalary</th>\n",
       "      <th>0</th>\n",
       "      <th>1</th>\n",
       "      <th>2</th>\n",
       "    </tr>\n",
       "  </thead>\n",
       "  <tbody>\n",
       "    <tr>\n",
       "      <th>0</th>\n",
       "      <td>0.154737</td>\n",
       "      <td>1.520375</td>\n",
       "      <td>1.043731</td>\n",
       "      <td>0.950920</td>\n",
       "      <td>-0.921931</td>\n",
       "      <td>1</td>\n",
       "      <td>1</td>\n",
       "      <td>-0.114336</td>\n",
       "      <td>0.0</td>\n",
       "      <td>0.0</td>\n",
       "      <td>0.0</td>\n",
       "    </tr>\n",
       "    <tr>\n",
       "      <th>1</th>\n",
       "      <td>-0.476424</td>\n",
       "      <td>-1.324525</td>\n",
       "      <td>0.698605</td>\n",
       "      <td>1.417158</td>\n",
       "      <td>-0.921931</td>\n",
       "      <td>1</td>\n",
       "      <td>1</td>\n",
       "      <td>-1.131900</td>\n",
       "      <td>1.0</td>\n",
       "      <td>0.0</td>\n",
       "      <td>1.0</td>\n",
       "    </tr>\n",
       "  </tbody>\n",
       "</table>\n",
       "</div>"
      ],
      "text/plain": [
       "   CreditScore       Age    Tenure   Balance  NumOfProducts  HasCrCard  \\\n",
       "0     0.154737  1.520375  1.043731  0.950920      -0.921931          1   \n",
       "1    -0.476424 -1.324525  0.698605  1.417158      -0.921931          1   \n",
       "\n",
       "   IsActiveMember  EstimatedSalary    0    1    2  \n",
       "0               1        -0.114336  0.0  0.0  0.0  \n",
       "1               1        -1.131900  1.0  0.0  1.0  "
      ]
     },
     "execution_count": 17,
     "metadata": {},
     "output_type": "execute_result"
    }
   ],
   "source": [
    "features_valid[numeric] = scaler.transform(features_valid[numeric])\n",
    "features_valid.head(2)"
   ]
  },
  {
   "cell_type": "code",
   "execution_count": 18,
   "metadata": {},
   "outputs": [
    {
     "data": {
      "text/html": [
       "<div>\n",
       "<style scoped>\n",
       "    .dataframe tbody tr th:only-of-type {\n",
       "        vertical-align: middle;\n",
       "    }\n",
       "\n",
       "    .dataframe tbody tr th {\n",
       "        vertical-align: top;\n",
       "    }\n",
       "\n",
       "    .dataframe thead th {\n",
       "        text-align: right;\n",
       "    }\n",
       "</style>\n",
       "<table border=\"1\" class=\"dataframe\">\n",
       "  <thead>\n",
       "    <tr style=\"text-align: right;\">\n",
       "      <th></th>\n",
       "      <th>CreditScore</th>\n",
       "      <th>Age</th>\n",
       "      <th>Tenure</th>\n",
       "      <th>Balance</th>\n",
       "      <th>NumOfProducts</th>\n",
       "      <th>HasCrCard</th>\n",
       "      <th>IsActiveMember</th>\n",
       "      <th>EstimatedSalary</th>\n",
       "      <th>0</th>\n",
       "      <th>1</th>\n",
       "      <th>2</th>\n",
       "    </tr>\n",
       "  </thead>\n",
       "  <tbody>\n",
       "    <tr>\n",
       "      <th>0</th>\n",
       "      <td>1.572260</td>\n",
       "      <td>-0.945205</td>\n",
       "      <td>1.388858</td>\n",
       "      <td>0.807489</td>\n",
       "      <td>-0.921931</td>\n",
       "      <td>1</td>\n",
       "      <td>1</td>\n",
       "      <td>0.593541</td>\n",
       "      <td>0.0</td>\n",
       "      <td>0.0</td>\n",
       "      <td>1.0</td>\n",
       "    </tr>\n",
       "    <tr>\n",
       "      <th>1</th>\n",
       "      <td>0.382368</td>\n",
       "      <td>-0.471055</td>\n",
       "      <td>0.008353</td>\n",
       "      <td>0.821223</td>\n",
       "      <td>-0.921931</td>\n",
       "      <td>1</td>\n",
       "      <td>0</td>\n",
       "      <td>1.578805</td>\n",
       "      <td>0.0</td>\n",
       "      <td>0.0</td>\n",
       "      <td>1.0</td>\n",
       "    </tr>\n",
       "  </tbody>\n",
       "</table>\n",
       "</div>"
      ],
      "text/plain": [
       "   CreditScore       Age    Tenure   Balance  NumOfProducts  HasCrCard  \\\n",
       "0     1.572260 -0.945205  1.388858  0.807489      -0.921931          1   \n",
       "1     0.382368 -0.471055  0.008353  0.821223      -0.921931          1   \n",
       "\n",
       "   IsActiveMember  EstimatedSalary    0    1    2  \n",
       "0               1         0.593541  0.0  0.0  1.0  \n",
       "1               0         1.578805  0.0  0.0  1.0  "
      ]
     },
     "execution_count": 18,
     "metadata": {},
     "output_type": "execute_result"
    }
   ],
   "source": [
    "features_test[numeric] = scaler.transform(features_test[numeric])\n",
    "features_test.head(2)"
   ]
  },
  {
   "cell_type": "markdown",
   "metadata": {},
   "source": [
    "## Исследование задачи"
   ]
  },
  {
   "cell_type": "markdown",
   "metadata": {},
   "source": [
    "При исследовании используем три модели - Дерево решений, Случайный лес, Логистическая регрессия."
   ]
  },
  {
   "cell_type": "markdown",
   "metadata": {},
   "source": [
    "### Обучение и точность моделей"
   ]
  },
  {
   "cell_type": "markdown",
   "metadata": {},
   "source": [
    "#### Параметры Дерево решений"
   ]
  },
  {
   "cell_type": "code",
   "execution_count": 19,
   "metadata": {},
   "outputs": [
    {
     "name": "stdout",
     "output_type": "stream",
     "text": [
      "Accuracy модели: 0.7970297029702971 \n",
      "Глубина дерева: 1\n",
      "Accuracy модели: 0.8311331133113311 \n",
      "Глубина дерева: 11\n",
      "Accuracy модели: 0.7970297029702971 \n",
      "Глубина дерева: 21\n",
      "Accuracy модели: 0.7948294829482948 \n",
      "Глубина дерева: 31\n",
      "Accuracy модели: 0.7948294829482948 \n",
      "Глубина дерева: 41\n",
      "Accuracy модели: 0.7948294829482948 \n",
      "Глубина дерева: 51\n",
      "Accuracy модели: 0.7948294829482948 \n",
      "Глубина дерева: 61\n",
      "Accuracy модели: 0.7948294829482948 \n",
      "Глубина дерева: 71\n"
     ]
    }
   ],
   "source": [
    "for depth in range(1, 80, 10):\n",
    "    model = DecisionTreeClassifier(random_state=12345, max_depth=depth)\n",
    "    best_result = model.fit(features_train, target_train).score(features_valid, target_valid)\n",
    "    print(\"Accuracy модели:\", best_result,\"\\nГлубина дерева:\",depth)"
   ]
  },
  {
   "cell_type": "markdown",
   "metadata": {},
   "source": [
    "Цикл показал лучший Accuracy с глубиной 11"
   ]
  },
  {
   "cell_type": "markdown",
   "metadata": {},
   "source": [
    "#### Параметры Случайный лес"
   ]
  },
  {
   "cell_type": "code",
   "execution_count": 20,
   "metadata": {},
   "outputs": [],
   "source": [
    "def lol():\n",
    "    for depth in range(1, 80, 10):\n",
    "        for estimators in range(1,16,3):\n",
    "            result = []\n",
    "            result_1 = []\n",
    "            model = RandomForestClassifier(random_state=12345, max_depth=depth,n_estimators=estimators)\n",
    "            best_result = model.fit(features_train, target_train).score(features_valid, target_valid)\n",
    "            result.append([best_result,depth,estimators])\n",
    "            print(result)\n",
    "    return result"
   ]
  },
  {
   "cell_type": "code",
   "execution_count": 21,
   "metadata": {},
   "outputs": [
    {
     "name": "stdout",
     "output_type": "stream",
     "text": [
      "[[0.8234323432343235, 1, 1]]\n",
      "[[0.7970297029702971, 1, 4]]\n",
      "[[0.7970297029702971, 1, 7]]\n",
      "[[0.7970297029702971, 1, 10]]\n",
      "[[0.7970297029702971, 1, 13]]\n",
      "[[0.8267326732673267, 11, 1]]\n",
      "[[0.845984598459846, 11, 4]]\n",
      "[[0.8586358635863587, 11, 7]]\n",
      "[[0.8619361936193619, 11, 10]]\n",
      "[[0.8613861386138614, 11, 13]]\n",
      "[[0.7744774477447744, 21, 1]]\n",
      "[[0.8404840484048405, 21, 4]]\n",
      "[[0.8465346534653465, 21, 7]]\n",
      "[[0.8531353135313532, 21, 10]]\n",
      "[[0.852035203520352, 21, 13]]\n",
      "[[0.7695269526952695, 31, 1]]\n",
      "[[0.8377337733773378, 31, 4]]\n",
      "[[0.8415841584158416, 31, 7]]\n",
      "[[0.8498349834983498, 31, 10]]\n",
      "[[0.8564356435643564, 31, 13]]\n",
      "[[0.7695269526952695, 41, 1]]\n",
      "[[0.8377337733773378, 41, 4]]\n",
      "[[0.8415841584158416, 41, 7]]\n",
      "[[0.8498349834983498, 41, 10]]\n",
      "[[0.8564356435643564, 41, 13]]\n",
      "[[0.7695269526952695, 51, 1]]\n",
      "[[0.8377337733773378, 51, 4]]\n",
      "[[0.8415841584158416, 51, 7]]\n",
      "[[0.8498349834983498, 51, 10]]\n",
      "[[0.8564356435643564, 51, 13]]\n",
      "[[0.7695269526952695, 61, 1]]\n",
      "[[0.8377337733773378, 61, 4]]\n",
      "[[0.8415841584158416, 61, 7]]\n",
      "[[0.8498349834983498, 61, 10]]\n",
      "[[0.8564356435643564, 61, 13]]\n",
      "[[0.7695269526952695, 71, 1]]\n",
      "[[0.8377337733773378, 71, 4]]\n",
      "[[0.8415841584158416, 71, 7]]\n",
      "[[0.8498349834983498, 71, 10]]\n",
      "[[0.8564356435643564, 71, 13]]\n",
      "[[0.8564356435643564, 71, 13]]\n"
     ]
    }
   ],
   "source": [
    "df_RFC=lol()\n",
    "print(df_RFC)"
   ]
  },
  {
   "cell_type": "markdown",
   "metadata": {},
   "source": [
    "Цикл показал лучший Accuracy с глубиной 21 и кол-во деревьев 13"
   ]
  },
  {
   "cell_type": "code",
   "execution_count": 22,
   "metadata": {},
   "outputs": [
    {
     "name": "stdout",
     "output_type": "stream",
     "text": [
      "Точность: \n",
      " дерево решений 0.8311331133113311 \n",
      " случайный лес 0.852035203520352 \n",
      " логистческая регрессия 0.8036303630363036\n"
     ]
    }
   ],
   "source": [
    "def all_models_accuracy(features_train, target_train, features_valid, target_valid):\n",
    "    model_DTC = DecisionTreeClassifier(random_state=12345, max_depth = 11)\n",
    "    DTC_score = model_DTC.fit(features_train, target_train).score(features_valid, target_valid)\n",
    "    \n",
    "    model_RFC = RandomForestClassifier(random_state=12345, n_estimators = 13, max_depth = 21)\n",
    "    RFC_score = model_RFC.fit(features_train, target_train).score(features_valid, target_valid)\n",
    "    \n",
    "    model_LgR = LogisticRegression(solver = 'liblinear',random_state=12345)\n",
    "    LgR_score = model_LgR.fit(features_train, target_train).score(features_valid, target_valid)\n",
    "    print(\"Точность:\", \"\\n дерево решений\", DTC_score,\"\\n случайный лес\", RFC_score, \"\\n логистческая регрессия\", LgR_score)\n",
    "all_models_accuracy(features_train, target_train, features_valid, target_valid)\n"
   ]
  },
  {
   "cell_type": "markdown",
   "metadata": {},
   "source": [
    "### Баланс классов"
   ]
  },
  {
   "cell_type": "code",
   "execution_count": 23,
   "metadata": {},
   "outputs": [
    {
     "name": "stdout",
     "output_type": "stream",
     "text": [
      "0    0.794646\n",
      "1    0.205354\n",
      "Name: Exited, dtype: float64\n",
      "0    0.79703\n",
      "1    0.20297\n",
      "Name: Exited, dtype: float64\n"
     ]
    }
   ],
   "source": [
    "print(target_train.value_counts(normalize = 1))\n",
    "print(target_valid.value_counts(normalize = 1))"
   ]
  },
  {
   "cell_type": "markdown",
   "metadata": {},
   "source": [
    "В выбороках есть дисбаланс класов. 80/20,предсказания моделей будут склоняться к наиболее часто встречающемуся варианту ответов"
   ]
  },
  {
   "cell_type": "markdown",
   "metadata": {},
   "source": [
    "### Проверка адекватности"
   ]
  },
  {
   "cell_type": "code",
   "execution_count": 24,
   "metadata": {},
   "outputs": [
    {
     "name": "stdout",
     "output_type": "stream",
     "text": [
      "Доли ответов:\n",
      " дерево решений\n",
      " 0    0.836084\n",
      "1    0.163916\n",
      "dtype: float64 случайный лес\n",
      " 0    0.861386\n",
      "1    0.138614\n",
      "dtype: float64 логистческая регрессия\n",
      " 0    0.919692\n",
      "1    0.080308\n",
      "dtype: float64"
     ]
    }
   ],
   "source": [
    "def all_models_share(features_train, target_train, features_valid, target_valid):\n",
    "    model_DTC = DecisionTreeClassifier(random_state=12345,max_depth = 11)\n",
    "    model_DTC.fit(features_train, target_train)\n",
    "    DTC_share = pd.Series(model_DTC.predict(features_valid)).value_counts(normalize = 1)\n",
    "           \n",
    "    model_RFC = RandomForestClassifier(random_state=12345, n_estimators = 13, max_depth = 21)\n",
    "    model_RFC.fit(features_train, target_train)\n",
    "    RFC_share = pd.Series(model_RFC.predict(features_valid)).value_counts(normalize = 1)\n",
    "    \n",
    "    model_LgR = LogisticRegression(solver = 'liblinear')\n",
    "    model_LgR.fit(features_train, target_train)\n",
    "    LgR_share = pd.Series(model_LgR.predict(features_valid)).value_counts(normalize = 1)\n",
    "    \n",
    "\n",
    "    \n",
    "    print(\"Доли ответов:\\n\", \"дерево решений\\n\", DTC_share, \"случайный лес\\n\", RFC_share, \"логистческая регрессия\\n\", LgR_share , end='')\n",
    "all_models_share(features_train, target_train, features_valid, target_valid)"
   ]
  },
  {
   "cell_type": "markdown",
   "metadata": {},
   "source": [
    "Сравним качество предсказаний с константной моделью"
   ]
  },
  {
   "cell_type": "code",
   "execution_count": 25,
   "metadata": {},
   "outputs": [
    {
     "name": "stdout",
     "output_type": "stream",
     "text": [
      "(1818,)\n",
      "Точность константной модели: 0.7970297029702971\n"
     ]
    }
   ],
   "source": [
    "target_predict_constant = pd.Series([0]*len(target_valid))\n",
    "print(target_predict_constant.shape)\n",
    "accuracy_score_constant = accuracy_score(target_valid, target_predict_constant)\n",
    "print('Точность константной модели:', accuracy_score_constant)"
   ]
  },
  {
   "cell_type": "markdown",
   "metadata": {},
   "source": [
    "### Матрицы ошибок "
   ]
  },
  {
   "cell_type": "markdown",
   "metadata": {},
   "source": [
    "#### Решающие дерево "
   ]
  },
  {
   "cell_type": "code",
   "execution_count": 26,
   "metadata": {},
   "outputs": [
    {
     "data": {
      "text/plain": [
       "array([[1331,  118],\n",
       "       [ 189,  180]])"
      ]
     },
     "execution_count": 26,
     "metadata": {},
     "output_type": "execute_result"
    }
   ],
   "source": [
    "model_DTC = DecisionTreeClassifier(random_state=12345, max_depth = 11)\n",
    "model_DTC.fit(features_train, target_train)\n",
    "DTC_prediction = model_DTC.predict(features_valid)\n",
    "confusion_matrix(target_valid, DTC_prediction)"
   ]
  },
  {
   "cell_type": "markdown",
   "metadata": {},
   "source": [
    "Высокое количество ложноположительных и ложноотрицательных предсказаний"
   ]
  },
  {
   "cell_type": "code",
   "execution_count": 27,
   "metadata": {},
   "outputs": [],
   "source": [
    "def rec_prec_f1(x, y, z):\n",
    "    print(\"Полнота\" , recall_score(x, y))\n",
    "    print(\"Точность\", precision_score(x, y))\n",
    "    print(\"F1-мера\", f1_score(x, y))\n",
    "    print(\"AUC-ROC\", roc_auc_score(x, z))"
   ]
  },
  {
   "cell_type": "code",
   "execution_count": 28,
   "metadata": {},
   "outputs": [
    {
     "name": "stdout",
     "output_type": "stream",
     "text": [
      "0.7156229602323628\n",
      "Полнота 0.4878048780487805\n",
      "Точность 0.6040268456375839\n",
      "F1-мера 0.5397301349325337\n",
      "AUC-ROC 0.7156229602323628\n"
     ]
    }
   ],
   "source": [
    "DTC_probabilities_one_valid = model_DTC.predict_proba(features_valid)[:, 1]\n",
    "auc_roc_DTC = roc_auc_score(target_valid, DTC_probabilities_one_valid)\n",
    "print(auc_roc_DTC)\n",
    "rec_prec_f1(target_valid, DTC_prediction, DTC_probabilities_one_valid)"
   ]
  },
  {
   "cell_type": "markdown",
   "metadata": {},
   "source": [
    "Низкое значение F1, модель плохо классифицирует целевой признак"
   ]
  },
  {
   "cell_type": "markdown",
   "metadata": {},
   "source": [
    "#### Случайный лес"
   ]
  },
  {
   "cell_type": "code",
   "execution_count": 29,
   "metadata": {},
   "outputs": [
    {
     "data": {
      "text/plain": [
       "array([[1373,   76],\n",
       "       [ 193,  176]])"
      ]
     },
     "execution_count": 29,
     "metadata": {},
     "output_type": "execute_result"
    }
   ],
   "source": [
    "model_RFC = RandomForestClassifier(random_state=12345, n_estimators = 13, max_depth = 21)\n",
    "model_RFC.fit(features_train, target_train)\n",
    "RFC_prediction = model_RFC.predict(features_valid)\n",
    "confusion_matrix(target_valid, RFC_prediction)"
   ]
  },
  {
   "cell_type": "markdown",
   "metadata": {},
   "source": [
    "Высокое количество ложноотрицательных предсказаний"
   ]
  },
  {
   "cell_type": "code",
   "execution_count": 30,
   "metadata": {
    "scrolled": true
   },
   "outputs": [
    {
     "name": "stdout",
     "output_type": "stream",
     "text": [
      "Полнота 0.47696476964769646\n",
      "Точность 0.6984126984126984\n",
      "F1-мера 0.5668276972624798\n",
      "AUC-ROC 0.8299687103151225\n"
     ]
    }
   ],
   "source": [
    "RFC_probabilities_one_valid = model_RFC.predict_proba(features_valid)[:, 1]\n",
    "auc_roc_RFC = roc_auc_score(target_valid, RFC_probabilities_one_valid)\n",
    "print(\"Полнота\" , recall_score(target_valid, RFC_prediction))\n",
    "print(\"Точность\", precision_score(target_valid, RFC_prediction))\n",
    "print(\"F1-мера\", f1_score(target_valid, RFC_prediction))\n",
    "print(\"AUC-ROC\", roc_auc_score(target_valid, RFC_probabilities_one_valid))"
   ]
  },
  {
   "cell_type": "code",
   "execution_count": 31,
   "metadata": {},
   "outputs": [
    {
     "name": "stdout",
     "output_type": "stream",
     "text": [
      "Полнота 0.47696476964769646\n",
      "Точность 0.6984126984126984\n",
      "F1-мера 0.5668276972624798\n",
      "AUC-ROC 0.8299687103151225\n"
     ]
    }
   ],
   "source": [
    "rec_prec_f1(target_valid, RFC_prediction, RFC_probabilities_one_valid)"
   ]
  },
  {
   "cell_type": "markdown",
   "metadata": {},
   "source": [
    "Низкое значение F1, модель плохо классифицирует целевой признак"
   ]
  },
  {
   "cell_type": "markdown",
   "metadata": {},
   "source": [
    "#### Логистическая регрессия"
   ]
  },
  {
   "cell_type": "code",
   "execution_count": 32,
   "metadata": {},
   "outputs": [
    {
     "data": {
      "text/plain": [
       "array([[1382,   67],\n",
       "       [ 290,   79]])"
      ]
     },
     "execution_count": 32,
     "metadata": {},
     "output_type": "execute_result"
    }
   ],
   "source": [
    "model_LgR = LogisticRegression(solver = 'liblinear')\n",
    "model_LgR.fit(features_train, target_train)\n",
    "LgR_prediction = model_LgR.predict(features_valid)\n",
    "confusion_matrix(target_valid, LgR_prediction)"
   ]
  },
  {
   "cell_type": "markdown",
   "metadata": {},
   "source": [
    "Самое высокое количество ложноотрицательных предсказаний среди всех моделей"
   ]
  },
  {
   "cell_type": "code",
   "execution_count": 33,
   "metadata": {},
   "outputs": [
    {
     "name": "stdout",
     "output_type": "stream",
     "text": [
      "Полнота 0.2140921409214092\n",
      "Точность 0.541095890410959\n",
      "F1-мера 0.3067961165048544\n",
      "AUC-ROC 0.7581978787351711\n"
     ]
    }
   ],
   "source": [
    "LgR_probabilities_one_valid = model_LgR.predict_proba(features_valid)[:, 1]\n",
    "auc_roc_LgR = roc_auc_score(target_valid, LgR_probabilities_one_valid)\n",
    "print(\"Полнота\" , recall_score(target_valid, LgR_prediction))\n",
    "print(\"Точность\", precision_score(target_valid, LgR_prediction))\n",
    "print(\"F1-мера\", f1_score(target_valid, LgR_prediction))\n",
    "print(\"AUC-ROC\", roc_auc_score(target_valid, LgR_probabilities_one_valid))"
   ]
  },
  {
   "cell_type": "code",
   "execution_count": 34,
   "metadata": {},
   "outputs": [
    {
     "name": "stdout",
     "output_type": "stream",
     "text": [
      "Полнота 0.2140921409214092\n",
      "Точность 0.541095890410959\n",
      "F1-мера 0.3067961165048544\n",
      "AUC-ROC 0.7581978787351711\n"
     ]
    }
   ],
   "source": [
    "rec_prec_f1(target_valid, LgR_prediction, LgR_probabilities_one_valid)"
   ]
  },
  {
   "cell_type": "markdown",
   "metadata": {},
   "source": [
    "## Борьба с дисбалансом "
   ]
  },
  {
   "cell_type": "markdown",
   "metadata": {},
   "source": [
    "Доля целевого показателя Exited с значением 1 слишком мала, применим технику upsampling  "
   ]
  },
  {
   "cell_type": "code",
   "execution_count": 35,
   "metadata": {},
   "outputs": [
    {
     "name": "stdout",
     "output_type": "stream",
     "text": [
      "0    0.794646\n",
      "1    0.205354\n",
      "Name: Exited, dtype: float64\n",
      "(5454,)\n"
     ]
    },
    {
     "data": {
      "text/plain": [
       "<AxesSubplot:ylabel='Frequency'>"
      ]
     },
     "execution_count": 35,
     "metadata": {},
     "output_type": "execute_result"
    },
    {
     "data": {
      "image/png": "[encoded data removed]",
      "text/plain": [
       "<Figure size 216x216 with 1 Axes>"
      ]
     },
     "metadata": {
      "needs_background": "light"
     },
     "output_type": "display_data"
    }
   ],
   "source": [
    "print(target_train.value_counts(normalize = 1))\n",
    "print(target_train.shape)\n",
    "target_train.plot(kind ='hist', bins=2, figsize=(3,3))"
   ]
  },
  {
   "cell_type": "markdown",
   "metadata": {},
   "source": [
    "### Увеличение выборки"
   ]
  },
  {
   "cell_type": "markdown",
   "metadata": {},
   "source": [
    "Увеличим количество положительных ответов в 4 раза, для того чтобы нивелировать разницу в классах выборок (80/20)"
   ]
  },
  {
   "cell_type": "code",
   "execution_count": 36,
   "metadata": {},
   "outputs": [],
   "source": [
    "def upsample(features, target, repeat, upsampled_сlass):\n",
    "    features_zeros = features[target == 0]\n",
    "    features_ones = features[target == 1]\n",
    "    target_zeros = target[target == 0]\n",
    "    target_ones = target[target == 1]\n",
    "    \n",
    "    if upsampled_сlass == 0:\n",
    "        features_upsampled = pd.concat([features_zeros]* repeat + [features_ones] )\n",
    "        target_upsampled = pd.concat([target_zeros]* repeat + [target_ones] )\n",
    "        features_upsampled, target_upsampled = shuffle(\n",
    "        features_upsampled, target_upsampled, random_state=12345)\n",
    "        \n",
    "    elif upsampled_сlass == 1:\n",
    "        features_upsampled = pd.concat([features_zeros] + [features_ones] * repeat)\n",
    "        target_upsampled = pd.concat([target_zeros] + [target_ones] * repeat)\n",
    "        features_upsampled, target_upsampled = shuffle(\n",
    "        features_upsampled, target_upsampled, random_state=12345)\n",
    "    else:\n",
    "        features_upsampled = 0\n",
    "        target_upsampled = 0  \n",
    "    return features_upsampled, target_upsampled"
   ]
  },
  {
   "cell_type": "code",
   "execution_count": 37,
   "metadata": {
    "scrolled": true
   },
   "outputs": [
    {
     "name": "stdout",
     "output_type": "stream",
     "text": [
      "1    0.508282\n",
      "0    0.491718\n",
      "Name: Exited, dtype: float64\n",
      "(8814,)\n"
     ]
    },
    {
     "data": {
      "text/plain": [
       "<AxesSubplot:ylabel='Frequency'>"
      ]
     },
     "execution_count": 37,
     "metadata": {},
     "output_type": "execute_result"
    },
    {
     "data": {
      "image/png": "[encoded data removed]",
      "text/plain": [
       "<Figure size 216x216 with 1 Axes>"
      ]
     },
     "metadata": {
      "needs_background": "light"
     },
     "output_type": "display_data"
    }
   ],
   "source": [
    "features_train_upsampled, target_train_upsampled = upsample(features_train, target_train, 4, 1)\n",
    "print(target_train_upsampled.value_counts(normalize = 1))\n",
    "print(target_train_upsampled.shape)\n",
    "target_train_upsampled.plot(kind ='hist', bins=2, figsize=(3,3))"
   ]
  },
  {
   "cell_type": "markdown",
   "metadata": {},
   "source": [
    "Дисбаланс классов устранен, примерный баланс классов колеблется на уровне 50/50"
   ]
  },
  {
   "cell_type": "markdown",
   "metadata": {},
   "source": [
    "### Точность моделей после балансировки "
   ]
  },
  {
   "cell_type": "markdown",
   "metadata": {},
   "source": [
    "#### Точность на несбалансированных выборках"
   ]
  },
  {
   "cell_type": "code",
   "execution_count": 38,
   "metadata": {},
   "outputs": [
    {
     "name": "stdout",
     "output_type": "stream",
     "text": [
      "Точность: \n",
      " дерево решений 0.8311331133113311 \n",
      " случайный лес 0.852035203520352 \n",
      " логистческая регрессия 0.8036303630363036\n"
     ]
    }
   ],
   "source": [
    "all_models_accuracy(features_train, target_train, features_valid, target_valid)"
   ]
  },
  {
   "cell_type": "markdown",
   "metadata": {},
   "source": [
    "#### Точность после upsampled"
   ]
  },
  {
   "cell_type": "code",
   "execution_count": 39,
   "metadata": {},
   "outputs": [
    {
     "name": "stdout",
     "output_type": "stream",
     "text": [
      "Точность: \n",
      " дерево решений 0.7491749174917491 \n",
      " случайный лес 0.8432343234323433 \n",
      " логистческая регрессия 0.7062706270627063\n"
     ]
    }
   ],
   "source": [
    "all_models_accuracy(features_train_upsampled, target_train_upsampled, features_valid, target_valid)"
   ]
  },
  {
   "cell_type": "markdown",
   "metadata": {},
   "source": [
    "#### Точность с class_weight"
   ]
  },
  {
   "cell_type": "code",
   "execution_count": 40,
   "metadata": {},
   "outputs": [
    {
     "name": "stdout",
     "output_type": "stream",
     "text": [
      "Точность: \n",
      " дерево решений 0.757975797579758 \n",
      " случайный лес 0.8591859185918592 \n",
      " логистческая регрессия 0.7128712871287128\n"
     ]
    }
   ],
   "source": [
    "def all_models_accuracy_balanced(features_train, target_train, features_valid, target_valid):\n",
    "    model_DTC = DecisionTreeClassifier(random_state=12345, max_depth = 11,class_weight='balanced')\n",
    "    DTC_score = model_DTC.fit(features_train, target_train).score(features_valid, target_valid)\n",
    "    \n",
    "    model_RFC = RandomForestClassifier(random_state=12345, n_estimators = 31, max_depth = 13,class_weight='balanced')\n",
    "    RFC_score = model_RFC.fit(features_train, target_train).score(features_valid, target_valid)\n",
    "    \n",
    "    model_LgR = LogisticRegression(solver = 'liblinear',random_state=12345,class_weight='balanced')\n",
    "    LgR_score = model_LgR.fit(features_train, target_train).score(features_valid, target_valid)\n",
    "    print(\"Точность:\", \"\\n дерево решений\", DTC_score,\"\\n случайный лес\", RFC_score, \"\\n логистческая регрессия\", LgR_score)\n",
    "all_models_accuracy_balanced(features_train, target_train, features_valid, target_valid)\n"
   ]
  },
  {
   "cell_type": "code",
   "execution_count": 41,
   "metadata": {},
   "outputs": [
    {
     "name": "stdout",
     "output_type": "stream",
     "text": [
      "Score 0.7128712871287128\n",
      "AUC-ROC 0.7629072287962355\n"
     ]
    },
    {
     "data": {
      "image/png": "[encoded data removed]",
      "text/plain": [
       "<Figure size 432x288 with 1 Axes>"
      ]
     },
     "metadata": {
      "needs_background": "light"
     },
     "output_type": "display_data"
    }
   ],
   "source": [
    "model_LgR = LogisticRegression(solver = 'liblinear',class_weight='balanced')\n",
    "model_LgR.fit(features_train, target_train)\n",
    "LgR_probabilities_one_valid_class_weight = model_LgR.predict_proba(features_valid)[:, 1]\n",
    "print(\"Score\", model_LgR.score(features_valid, target_valid))\n",
    "print(\"AUC-ROC\", roc_auc_score(target_valid, LgR_probabilities_one_valid_class_weight))\n",
    "\n",
    "fpr, tpr, thresholds = roc_curve(target_valid, LgR_probabilities_one_valid_class_weight) \n",
    "plt.figure()\n",
    "plt.plot(fpr, tpr)\n",
    "plt.plot([0, 1], [0, 1], linestyle='--')\n",
    "plt.xlim([0.0, 1.0])\n",
    "plt.ylim([0.0, 1.0])\n",
    "plt.xlabel('False Positive Rate')\n",
    "plt.ylabel('True Positive Rate')\n",
    "plt.title('ROC-кривая')\n",
    "plt.show()"
   ]
  },
  {
   "cell_type": "markdown",
   "metadata": {},
   "source": [
    "### Обучим модели после увеличения выборки"
   ]
  },
  {
   "cell_type": "markdown",
   "metadata": {},
   "source": [
    " #### Решающие дерево"
   ]
  },
  {
   "cell_type": "markdown",
   "metadata": {},
   "source": [
    "##### upsampled"
   ]
  },
  {
   "cell_type": "code",
   "execution_count": 42,
   "metadata": {},
   "outputs": [
    {
     "name": "stdout",
     "output_type": "stream",
     "text": [
      "DecisionTreeClassifier(max_depth=7, random_state=12345)\n",
      "CPU times: user 138 ms, sys: 535 µs, total: 139 ms\n",
      "Wall time: 141 ms\n"
     ]
    }
   ],
   "source": [
    "%%time \n",
    "best_f1_score = 0\n",
    "best_dt_up = None\n",
    "\n",
    "for depth in range(3, 15, 2):\n",
    "    model_DTC_upsampled = DecisionTreeClassifier(random_state=12345, max_depth = depth)\n",
    "    model_DTC_upsampled.fit(features_train_upsampled, target_train_upsampled)\n",
    "\n",
    "    DTC_prediction_upsampled = model_DTC_upsampled.predict(features_valid)\n",
    "    DTC_prediction_upsampled_f1_score = f1_score(target_valid, DTC_prediction_upsampled)\n",
    "\n",
    "    if best_f1_score < DTC_prediction_upsampled_f1_score:\n",
    "        best_f1_score = DTC_prediction_upsampled_f1_score\n",
    "        best_dt_up = model_DTC_upsampled\n",
    "\n",
    "print(best_dt_up)                                                      "
   ]
  },
  {
   "cell_type": "markdown",
   "metadata": {},
   "source": [
    "Показатели решающего дерева после балансировки upsampled"
   ]
  },
  {
   "cell_type": "code",
   "execution_count": 43,
   "metadata": {
    "scrolled": false
   },
   "outputs": [
    {
     "name": "stdout",
     "output_type": "stream",
     "text": [
      "Полнота 0.7262872628726287\n",
      "Точность 0.475177304964539\n",
      "F1-мера 0.5744908896034299\n",
      "AUC-ROC 0.8278777439258175\n"
     ]
    }
   ],
   "source": [
    "model_DTC_upsampled = DecisionTreeClassifier(random_state=12345,max_depth = 7)\n",
    "model_DTC_upsampled.fit(features_train_upsampled, target_train_upsampled)\n",
    "\n",
    "DTC_probabilities_one_valid_features_valid_upsampled = model_DTC_upsampled.predict_proba(features_valid)[:, 1]\n",
    "DTC_prediction_upsampled = model_DTC_upsampled.predict(features_valid)\n",
    "\n",
    "rec_prec_f1(target_valid, DTC_prediction_upsampled, DTC_probabilities_one_valid_features_valid_upsampled)"
   ]
  },
  {
   "cell_type": "markdown",
   "metadata": {},
   "source": [
    "##### class_weight"
   ]
  },
  {
   "cell_type": "code",
   "execution_count": 44,
   "metadata": {},
   "outputs": [
    {
     "name": "stdout",
     "output_type": "stream",
     "text": [
      "DecisionTreeClassifier(class_weight='balanced', max_depth=7, random_state=12345)\n",
      "CPU times: user 114 ms, sys: 333 µs, total: 115 ms\n",
      "Wall time: 120 ms\n"
     ]
    }
   ],
   "source": [
    "%%time\n",
    "best_f1_score = 0\n",
    "best_dt_bal = None\n",
    "\n",
    "for depth in range(3, 15, 2):\n",
    "    model_DTC_balanced = DecisionTreeClassifier(random_state=12345, max_depth = depth, class_weight='balanced')\n",
    "    model_DTC_balanced.fit(features_train, target_train)\n",
    "\n",
    "    DTC_prediction_balanced = model_DTC_balanced.predict(features_valid)\n",
    "    DTC_prediction_balanced_f1_score = f1_score(target_valid, DTC_prediction_balanced)\n",
    "\n",
    "    if best_f1_score < DTC_prediction_balanced_f1_score:\n",
    "        best_f1_score = DTC_prediction_balanced_f1_score\n",
    "        best_dt_bal = model_DTC_balanced\n",
    "\n",
    "print(best_dt_bal) "
   ]
  },
  {
   "cell_type": "markdown",
   "metadata": {},
   "source": [
    "Показатели решающего дерева после балансировки class_weight"
   ]
  },
  {
   "cell_type": "code",
   "execution_count": 45,
   "metadata": {
    "scrolled": true
   },
   "outputs": [
    {
     "name": "stdout",
     "output_type": "stream",
     "text": [
      "Полнота 0.7262872628726287\n",
      "Точность 0.47771836007130125\n",
      "F1-мера 0.5763440860215053\n",
      "AUC-ROC 0.8271885479379293\n"
     ]
    }
   ],
   "source": [
    "model_DTC_weight = DecisionTreeClassifier(random_state=12345,max_depth = 7,class_weight='balanced')\n",
    "model_DTC_weight.fit(features_train, target_train)\n",
    "DTC_probabilities_one_valid_features_valid_weight = model_DTC_weight.predict_proba(features_valid)[:, 1]\n",
    "DTC_prediction_weight = model_DTC_weight.predict(features_valid)\n",
    "\n",
    "rec_prec_f1(target_valid, DTC_prediction_weight, DTC_probabilities_one_valid_features_valid_weight)"
   ]
  },
  {
   "cell_type": "markdown",
   "metadata": {},
   "source": [
    "#### Случайный лес"
   ]
  },
  {
   "cell_type": "markdown",
   "metadata": {},
   "source": [
    "##### upsampled"
   ]
  },
  {
   "cell_type": "code",
   "execution_count": 46,
   "metadata": {},
   "outputs": [
    {
     "name": "stdout",
     "output_type": "stream",
     "text": [
      "RandomForestClassifier(max_depth=14, n_estimators=190, random_state=12345)\n",
      "CPU times: user 2min 17s, sys: 619 ms, total: 2min 18s\n",
      "Wall time: 2min 19s\n"
     ]
    }
   ],
   "source": [
    "%%time\n",
    "best_f1_score = 0\n",
    "model_RFC_upsampled = None\n",
    "\n",
    "for depth in range(1, 15):\n",
    "    for estimators in range(50,200,10):\n",
    "        model_RFC_upsampled = RandomForestClassifier(random_state=12345, max_depth = depth, n_estimators=estimators)\n",
    "        model_RFC_upsampled.fit(features_train_upsampled, target_train_upsampled)\n",
    "\n",
    "        RFC_prediction_upsampled = model_RFC_upsampled.predict(features_valid)\n",
    "        RFC_prediction_upsampled_f1_score = f1_score(target_valid, RFC_prediction_upsampled)\n",
    "\n",
    "    if best_f1_score < RFC_prediction_upsampled_f1_score:\n",
    "        best_f1_score = RFC_prediction_upsampled_f1_score\n",
    "        best_RFC_upsampled = model_RFC_upsampled\n",
    "\n",
    "print(best_RFC_upsampled) "
   ]
  },
  {
   "cell_type": "markdown",
   "metadata": {},
   "source": [
    "Показатели случайного леса после балансировки upsampled"
   ]
  },
  {
   "cell_type": "code",
   "execution_count": 47,
   "metadata": {
    "scrolled": true
   },
   "outputs": [
    {
     "name": "stdout",
     "output_type": "stream",
     "text": [
      "Полнота 0.6666666666666666\n",
      "Точность 0.5829383886255924\n",
      "F1-мера 0.6219974715549937\n",
      "AUC-ROC 0.861986866935612\n"
     ]
    }
   ],
   "source": [
    "model_RFC_upsampled = RandomForestClassifier(random_state=12345, n_estimators = 190, max_depth=11)\n",
    "model_RFC_upsampled.fit(features_train_upsampled, target_train_upsampled)\n",
    "RFC_prediction_upsampled = model_RFC_upsampled.predict(features_valid)\n",
    "RFC_probabilities_one_valid_features_valid_upsampled = model_RFC_upsampled.predict_proba(features_valid)[:, 1]\n",
    "\n",
    "rec_prec_f1(target_valid, RFC_prediction_upsampled,RFC_probabilities_one_valid_features_valid_upsampled)"
   ]
  },
  {
   "cell_type": "markdown",
   "metadata": {},
   "source": [
    "##### class_weight"
   ]
  },
  {
   "cell_type": "code",
   "execution_count": 48,
   "metadata": {},
   "outputs": [
    {
     "name": "stdout",
     "output_type": "stream",
     "text": [
      "RandomForestClassifier(class_weight='balanced', max_depth=10, n_estimators=190,\n",
      "                       random_state=12345)\n",
      "CPU times: user 1min 42s, sys: 441 ms, total: 1min 43s\n",
      "Wall time: 1min 43s\n"
     ]
    }
   ],
   "source": [
    "%%time\n",
    "best_f1_score = 0\n",
    "best_RFC_balanced = None\n",
    "for depth in range(1, 15):\n",
    "    for estimators in range(50,200,10):\n",
    "        model_RFC_balanced = RandomForestClassifier(random_state=12345, max_depth = depth, n_estimators=estimators, class_weight='balanced')\n",
    "        model_RFC_balanced.fit(features_train, target_train)\n",
    "\n",
    "        RFC_prediction_balanced = model_RFC_balanced.predict(features_valid)\n",
    "        RFC_prediction_balanced_f1_score = f1_score(target_valid, RFC_prediction_balanced)\n",
    "\n",
    "    if best_f1_score < RFC_prediction_balanced_f1_score:\n",
    "        best_f1_score = RFC_prediction_balanced_f1_score\n",
    "        best_RFC_balanced = model_RFC_balanced\n",
    "\n",
    "print(best_RFC_balanced) "
   ]
  },
  {
   "cell_type": "markdown",
   "metadata": {},
   "source": [
    "Показатели  случайного леса после балансировки class_weight"
   ]
  },
  {
   "cell_type": "code",
   "execution_count": 49,
   "metadata": {},
   "outputs": [
    {
     "name": "stdout",
     "output_type": "stream",
     "text": [
      "Полнота 0.6720867208672087\n",
      "Точность 0.5598194130925508\n",
      "F1-мера 0.6108374384236454\n",
      "AUC-ROC 0.8617998395304864\n"
     ]
    }
   ],
   "source": [
    "model_RFC_weight = RandomForestClassifier(random_state=12345, n_estimators = 190, max_depth=8, class_weight='balanced')\n",
    "model_RFC_weight.fit(features_train, target_train)\n",
    "RFC_probabilities_one_valid_features_valid_weight = model_RFC_weight.predict_proba(features_valid)[:, 1]\n",
    "RFC_prediction_weight = model_RFC_weight.predict(features_valid)\n",
    "\n",
    "rec_prec_f1(target_valid, RFC_prediction_weight, RFC_probabilities_one_valid_features_valid_weight)"
   ]
  },
  {
   "cell_type": "markdown",
   "metadata": {},
   "source": [
    "#### Логистическая регрессия"
   ]
  },
  {
   "cell_type": "markdown",
   "metadata": {},
   "source": [
    "##### upsampled"
   ]
  },
  {
   "cell_type": "markdown",
   "metadata": {},
   "source": [
    "Показатели логистическая регрессия после балансировки upsampled"
   ]
  },
  {
   "cell_type": "code",
   "execution_count": 50,
   "metadata": {},
   "outputs": [
    {
     "name": "stdout",
     "output_type": "stream",
     "text": [
      "Полнота 0.6883468834688347\n",
      "Точность 0.3774145616641902\n",
      "F1-мера 0.48752399232245675\n",
      "AUC-ROC 0.7629595964696707\n"
     ]
    }
   ],
   "source": [
    "model_LgR_upsampled = LogisticRegression(solver = 'liblinear')\n",
    "model_LgR_upsampled.fit(features_train_upsampled, target_train_upsampled)\n",
    "LgR_prediction_upsampled = model_LgR_upsampled.predict(features_valid)\n",
    "LGR_probabilities_one_valid_features_valid_upsampled = model_LgR_upsampled.predict_proba(features_valid)[:, 1]\n",
    "\n",
    "rec_prec_f1(target_valid, LgR_prediction_upsampled, LGR_probabilities_one_valid_features_valid_upsampled)"
   ]
  },
  {
   "cell_type": "markdown",
   "metadata": {},
   "source": [
    "##### class_weight"
   ]
  },
  {
   "cell_type": "markdown",
   "metadata": {},
   "source": [
    "Показатели логистическая регрессия после балансировки class_weight"
   ]
  },
  {
   "cell_type": "code",
   "execution_count": 51,
   "metadata": {},
   "outputs": [
    {
     "name": "stdout",
     "output_type": "stream",
     "text": [
      "Полнота 0.6720867208672087\n",
      "Точность 0.5598194130925508\n",
      "F1-мера 0.6108374384236454\n",
      "AUC-ROC 0.7629072287962355\n"
     ]
    }
   ],
   "source": [
    "model_LGR_weight = LogisticRegression(solver = 'liblinear', class_weight='balanced')\n",
    "model_LGR_weight.fit(features_train, target_train)\n",
    "LGR_probabilities_one_valid_features_valid_weight = model_LGR_weight.predict_proba(features_valid)[:, 1]\n",
    "RFC_prediction_weight = model_RFC_weight.predict(features_valid)\n",
    "\n",
    "rec_prec_f1(target_valid, RFC_prediction_weight, LGR_probabilities_one_valid_features_valid_weight)"
   ]
  },
  {
   "cell_type": "markdown",
   "metadata": {},
   "source": [
    "### Показатели случайного леса с лучшими параметрами"
   ]
  },
  {
   "cell_type": "code",
   "execution_count": 52,
   "metadata": {},
   "outputs": [
    {
     "name": "stdout",
     "output_type": "stream",
     "text": [
      "Полнота 0.47696476964769646\n",
      "Точность 0.6984126984126984\n",
      "F1-мера 0.5668276972624798\n",
      "AUC-ROC 0.8299687103151225\n"
     ]
    }
   ],
   "source": [
    "best_model_base = RandomForestClassifier(random_state=12345, n_estimators = 13, max_depth=21, )\n",
    "best_model_base.fit(features_train, target_train)\n",
    "best_model_prediction_base = best_model_base.predict(features_valid)\n",
    "best_model_probabilities_one_valid_base = best_model_base.predict_proba(features_valid)[:, 1]\n",
    "rec_prec_f1(target_valid, best_model_prediction_base, best_model_probabilities_one_valid_base)"
   ]
  },
  {
   "cell_type": "code",
   "execution_count": 53,
   "metadata": {},
   "outputs": [
    {
     "name": "stdout",
     "output_type": "stream",
     "text": [
      "Полнота 0.6666666666666666\n",
      "Точность 0.5829383886255924\n",
      "F1-мера 0.6219974715549937\n",
      "AUC-ROC 0.861986866935612\n"
     ]
    }
   ],
   "source": [
    "best_model_upsampled = RandomForestClassifier(random_state=12345, n_estimators = 190, max_depth=11)\n",
    "best_model_upsampled.fit(features_train_upsampled, target_train_upsampled)\n",
    "best_model_prediction_upsampled = best_model_upsampled.predict(features_valid)\n",
    "best_model_probabilities_one_valid_upsampled = best_model_upsampled.predict_proba(features_valid)[:, 1]\n",
    "rec_prec_f1(target_valid, best_model_prediction_upsampled, best_model_probabilities_one_valid_upsampled)"
   ]
  },
  {
   "cell_type": "code",
   "execution_count": 54,
   "metadata": {},
   "outputs": [
    {
     "name": "stdout",
     "output_type": "stream",
     "text": [
      "Полнота 0.6720867208672087\n",
      "Точность 0.5598194130925508\n",
      "F1-мера 0.6108374384236454\n",
      "AUC-ROC 0.8617998395304864\n"
     ]
    }
   ],
   "source": [
    "best_model_class_weight = RandomForestClassifier(random_state=12345, n_estimators = 190, max_depth=8,class_weight='balanced')\n",
    "best_model_class_weight.fit(features_train, target_train)\n",
    "best_model_prediction_class_weight = best_model_class_weight.predict(features_valid)\n",
    "best_model_probabilities_one_valid_class_weight = best_model_class_weight.predict_proba(features_valid)[:, 1]\n",
    "rec_prec_f1(target_valid, best_model_prediction_class_weight, best_model_probabilities_one_valid_class_weight)"
   ]
  },
  {
   "cell_type": "markdown",
   "metadata": {},
   "source": [
    "После подбора параметров, полнота AUC-ROC модели возросли, можно говорить о том, что качество модели улучшилось"
   ]
  },
  {
   "cell_type": "markdown",
   "metadata": {},
   "source": [
    "### Адекватность лучшей модели с оптимальными параметрами "
   ]
  },
  {
   "cell_type": "code",
   "execution_count": 55,
   "metadata": {},
   "outputs": [
    {
     "data": {
      "text/plain": [
       "0    1818\n",
       "dtype: int64"
      ]
     },
     "execution_count": 55,
     "metadata": {},
     "output_type": "execute_result"
    }
   ],
   "source": [
    "target_predict_constant = pd.Series([0]*len(target_valid))\n",
    "target_predict_constant.value_counts()"
   ]
  },
  {
   "cell_type": "code",
   "execution_count": 56,
   "metadata": {},
   "outputs": [
    {
     "name": "stdout",
     "output_type": "stream",
     "text": [
      "accuracy_score константой модели: 0.7970297029702971\n",
      "AUC-ROC константой модели: 0.5\n"
     ]
    }
   ],
   "source": [
    "print('accuracy_score константой модели:', accuracy_score(target_valid, target_predict_constant))\n",
    "print('AUC-ROC константой модели:', roc_auc_score(target_valid, target_predict_constant))"
   ]
  },
  {
   "cell_type": "code",
   "execution_count": 57,
   "metadata": {},
   "outputs": [
    {
     "name": "stdout",
     "output_type": "stream",
     "text": [
      "accuracy_score финальной модели upsampled: 0.8355335533553355\n",
      "AUC-ROC финальной модели upsampled: 0.861986866935612\n"
     ]
    }
   ],
   "source": [
    "print('accuracy_score финальной модели upsampled:', accuracy_score(target_valid, best_model_prediction_upsampled))\n",
    "print('AUC-ROC финальной модели upsampled:', roc_auc_score(target_valid, best_model_probabilities_one_valid_upsampled))"
   ]
  },
  {
   "cell_type": "code",
   "execution_count": 58,
   "metadata": {},
   "outputs": [
    {
     "name": "stdout",
     "output_type": "stream",
     "text": [
      "accuracy_score финальной модели class_weight: 0.8261826182618262\n",
      "AUC-ROC финальной модели class_weight: 0.8617998395304864\n"
     ]
    }
   ],
   "source": [
    "print('accuracy_score финальной модели class_weight:', accuracy_score(target_valid, best_model_prediction_class_weight))\n",
    "print('AUC-ROC финальной модели class_weight:', roc_auc_score(target_valid, best_model_probabilities_one_valid_class_weight))"
   ]
  },
  {
   "cell_type": "markdown",
   "metadata": {},
   "source": [
    "Точность модели случайный лес 85%, против 79% константной,т.е. можно считать модель адекватной"
   ]
  },
  {
   "cell_type": "markdown",
   "metadata": {},
   "source": [
    "## Тестирование модели"
   ]
  },
  {
   "cell_type": "markdown",
   "metadata": {},
   "source": [
    "### Проверка модели на тестовой выборке"
   ]
  },
  {
   "cell_type": "code",
   "execution_count": 59,
   "metadata": {},
   "outputs": [
    {
     "name": "stdout",
     "output_type": "stream",
     "text": [
      "Полнота 0.6456043956043956\n",
      "Точность 0.5581947743467933\n",
      "F1-мера 0.5987261146496815\n",
      "AUC-ROC 0.5015776864126245\n"
     ]
    }
   ],
   "source": [
    "finaly_model_prediction_upsampled = best_model_upsampled.predict(features_test)\n",
    "rec_prec_f1(target_test, finaly_model_prediction_upsampled, best_model_probabilities_one_valid_upsampled)"
   ]
  },
  {
   "cell_type": "code",
   "execution_count": 60,
   "metadata": {},
   "outputs": [
    {
     "data": {
      "image/png": "[encoded data removed]",
      "text/plain": [
       "<Figure size 432x288 with 1 Axes>"
      ]
     },
     "metadata": {
      "needs_background": "light"
     },
     "output_type": "display_data"
    }
   ],
   "source": [
    "final_model_probabilities_one = best_model_upsampled.predict_proba(features_test)[:, 1]\n",
    "\n",
    "fpr, tpr, thresholds = roc_curve(target_test, final_model_probabilities_one) \n",
    "\n",
    "plt.figure()\n",
    "plt.plot(fpr, tpr)\n",
    "plt.plot([0, 1], [0, 1], linestyle='--')\n",
    "plt.xlim([0.0, 1.0])\n",
    "plt.ylim([0.0, 1.0])\n",
    "plt.xlabel('False Positive Rate')\n",
    "plt.ylabel('True Positive Rate')\n",
    "plt.title('ROC-кривая')\n",
    "plt.show()"
   ]
  },
  {
   "cell_type": "code",
   "execution_count": 61,
   "metadata": {},
   "outputs": [
    {
     "name": "stdout",
     "output_type": "stream",
     "text": [
      "Полнота 0.6593406593406593\n",
      "Точность 0.5357142857142857\n",
      "F1-мера 0.5911330049261083\n",
      "AUC-ROC 0.4993009054219508\n"
     ]
    }
   ],
   "source": [
    "finaly_model_prediction_class_weight = best_model_class_weight.predict(features_test)\n",
    "rec_prec_f1(target_test, finaly_model_prediction_class_weight, best_model_probabilities_one_valid_class_weight)"
   ]
  },
  {
   "cell_type": "code",
   "execution_count": 62,
   "metadata": {
    "scrolled": false
   },
   "outputs": [
    {
     "data": {
      "image/png": "[encoded data removed]",
      "text/plain": [
       "<Figure size 432x288 with 1 Axes>"
      ]
     },
     "metadata": {
      "needs_background": "light"
     },
     "output_type": "display_data"
    }
   ],
   "source": [
    "final_model_probabilities_one = best_model_class_weight.predict_proba(features_test)[:, 1]\n",
    "\n",
    "fpr, tpr, thresholds = roc_curve(target_test, final_model_probabilities_one) \n",
    "\n",
    "plt.figure()\n",
    "plt.plot(fpr, tpr)\n",
    "plt.plot([0, 1], [0, 1], linestyle='--')\n",
    "plt.xlim([0.0, 1.0])\n",
    "plt.ylim([0.0, 1.0])\n",
    "plt.xlabel('False Positive Rate')\n",
    "plt.ylabel('True Positive Rate')\n",
    "plt.title('ROC-кривая')\n",
    "plt.show()"
   ]
  },
  {
   "cell_type": "markdown",
   "metadata": {},
   "source": [
    " ### Вывод"
   ]
  },
  {
   "cell_type": "markdown",
   "metadata": {},
   "source": [
    "Случайный лес с выбранными параметрами достиг:\n",
    "- Полнота = 0.67\n",
    "- Точность = 0.56\n",
    "- F1-мера = 0.61\n",
    "- AUC-ROC = 0.52\n",
    "\n",
    "Модель сбалансированна по охвату клиентов и качеству предсказаний, показала высокое качество и адекватность,достаточно высокая совокупная мера производительности модели(AUC-ROC), проверка на тестовой выборке показала что модель не переобучилась."
   ]
  },
  {
   "cell_type": "markdown",
   "metadata": {},
   "source": [
    "## Вывод"
   ]
  },
  {
   "cell_type": "markdown",
   "metadata": {},
   "source": [
    "Задача достичь f1 меры 0.59 достигунта, актуальный показатель на лучшей модели 0.6127023661270236.\n",
    "Модель Случайного леса с парметрами n_estimators = 13, max_depth=21.\n",
    "Для преодоления порога было сделано:\n",
    "- подготовка данных (удалены пропущенные значения, генеральная выборка разделена на валидационную, обучающую и тестовую, после чего данные были обработаны тезникой OHE и масштабированы)\n",
    "- обучены и исследованы показатели трех моделей на не сбалансированных выборках\n",
    "- устранен дизбаланс классов, лучшим образом покащал себя метод class_weight\n",
    "- методом иттерации подобраны оптимальные параметры для модели случайного леса \n",
    "\n",
    "Модель сбалансированна по охвату клиентов и качеству предсказаний, показала высокое качество и адекватность, достаточно высокая совокупная мера производительности модели(AUC-ROC), проверка на тестовой выборке показала что модель не переобучилась."
   ]
  },
  {
   "cell_type": "markdown",
   "metadata": {},
   "source": [
    "## Чек-лист готовности проекта"
   ]
  },
  {
   "cell_type": "markdown",
   "metadata": {},
   "source": [
    "Поставьте 'x' в выполненных пунктах. Далее нажмите Shift+Enter."
   ]
  },
  {
   "cell_type": "markdown",
   "metadata": {},
   "source": [
    "- [x]  Jupyter Notebook открыт\n",
    "- [x]  Весь код выполняется без ошибок\n",
    "- [x]  Ячейки с кодом расположены в порядке исполнения\n",
    "- [x]  Выполнен шаг 1: данные подготовлены\n",
    "- [x]  Выполнен шаг 2: задача исследована\n",
    "    - [x]  Исследован баланс классов\n",
    "    - [x]  Изучены модели без учёта дисбаланса\n",
    "    - [x]  Написаны выводы по результатам исследования\n",
    "- [x]  Выполнен шаг 3: учтён дисбаланс\n",
    "    - [x]  Применено несколько способов борьбы с дисбалансом\n",
    "    - [x]  Написаны выводы по результатам исследования\n",
    "- [x]  Выполнен шаг 4: проведено тестирование\n",
    "- [x]  Удалось достичь *F1*-меры не менее 0.59\n",
    "- [x]  Исследована метрика *AUC-ROC*"
   ]
  }
 ],
 "metadata": {
  "ExecuteTimeLog": [
   {
    "duration": 449,
    "start_time": "2022-12-16T08:32:59.989Z"
   },
   {
    "duration": 87,
    "start_time": "2022-12-16T08:33:06.487Z"
   },
   {
    "duration": 63,
    "start_time": "2022-12-16T08:33:12.562Z"
   },
   {
    "duration": 47,
    "start_time": "2022-12-16T08:36:33.483Z"
   },
   {
    "duration": 14,
    "start_time": "2022-12-16T08:43:53.276Z"
   },
   {
    "duration": 11,
    "start_time": "2022-12-16T08:47:51.337Z"
   },
   {
    "duration": 4,
    "start_time": "2022-12-16T08:47:55.153Z"
   },
   {
    "duration": 13,
    "start_time": "2022-12-16T08:47:55.735Z"
   },
   {
    "duration": 4,
    "start_time": "2022-12-16T09:05:57.079Z"
   },
   {
    "duration": 15,
    "start_time": "2022-12-16T09:06:36.208Z"
   },
   {
    "duration": 15,
    "start_time": "2022-12-16T09:06:56.320Z"
   },
   {
    "duration": 19,
    "start_time": "2022-12-16T09:07:11.185Z"
   },
   {
    "duration": 20,
    "start_time": "2022-12-16T09:07:30.824Z"
   },
   {
    "duration": 21,
    "start_time": "2022-12-16T09:08:09.960Z"
   },
   {
    "duration": 2,
    "start_time": "2022-12-16T09:11:36.725Z"
   },
   {
    "duration": 3,
    "start_time": "2022-12-16T09:11:52.351Z"
   },
   {
    "duration": 13,
    "start_time": "2022-12-16T09:14:20.045Z"
   },
   {
    "duration": 13,
    "start_time": "2022-12-16T09:14:40.351Z"
   },
   {
    "duration": 22,
    "start_time": "2022-12-16T09:18:01.964Z"
   },
   {
    "duration": 12,
    "start_time": "2022-12-16T09:18:27.438Z"
   },
   {
    "duration": 11,
    "start_time": "2022-12-16T09:18:31.139Z"
   },
   {
    "duration": 21,
    "start_time": "2022-12-16T09:18:35.980Z"
   },
   {
    "duration": 8,
    "start_time": "2022-12-16T09:18:44.948Z"
   },
   {
    "duration": 4,
    "start_time": "2022-12-16T09:18:57.693Z"
   },
   {
    "duration": 19,
    "start_time": "2022-12-16T09:19:05.671Z"
   },
   {
    "duration": 25,
    "start_time": "2022-12-16T09:23:40.018Z"
   },
   {
    "duration": 21,
    "start_time": "2022-12-16T09:23:49.009Z"
   },
   {
    "duration": 9,
    "start_time": "2022-12-16T09:24:04.970Z"
   },
   {
    "duration": 3,
    "start_time": "2022-12-16T09:24:23.170Z"
   },
   {
    "duration": 23,
    "start_time": "2022-12-16T09:24:46.225Z"
   },
   {
    "duration": 8,
    "start_time": "2022-12-16T09:24:51.578Z"
   },
   {
    "duration": 6,
    "start_time": "2022-12-16T09:29:29.472Z"
   },
   {
    "duration": 4,
    "start_time": "2022-12-16T09:30:16.559Z"
   },
   {
    "duration": 5,
    "start_time": "2022-12-16T09:30:52.510Z"
   },
   {
    "duration": 9,
    "start_time": "2022-12-16T09:34:20.557Z"
   },
   {
    "duration": 829,
    "start_time": "2022-12-16T09:38:00.729Z"
   },
   {
    "duration": 45,
    "start_time": "2022-12-16T09:38:22.525Z"
   },
   {
    "duration": 9,
    "start_time": "2022-12-16T09:38:40.451Z"
   },
   {
    "duration": 9,
    "start_time": "2022-12-16T09:38:43.139Z"
   },
   {
    "duration": 9,
    "start_time": "2022-12-16T09:41:57.610Z"
   },
   {
    "duration": 3643,
    "start_time": "2022-12-16T09:44:21.169Z"
   },
   {
    "duration": 37,
    "start_time": "2022-12-16T09:44:39.960Z"
   },
   {
    "duration": 53,
    "start_time": "2022-12-16T09:45:26.736Z"
   },
   {
    "duration": 53,
    "start_time": "2022-12-16T09:46:04.281Z"
   },
   {
    "duration": 71,
    "start_time": "2022-12-16T09:46:30.520Z"
   },
   {
    "duration": 11,
    "start_time": "2022-12-16T09:46:43.047Z"
   },
   {
    "duration": 17,
    "start_time": "2022-12-16T09:47:06.095Z"
   },
   {
    "duration": 5,
    "start_time": "2022-12-16T09:47:11.958Z"
   },
   {
    "duration": 11,
    "start_time": "2022-12-16T09:47:28.559Z"
   },
   {
    "duration": 9,
    "start_time": "2022-12-16T09:47:35.559Z"
   },
   {
    "duration": 40,
    "start_time": "2022-12-16T09:47:39.423Z"
   },
   {
    "duration": 6,
    "start_time": "2022-12-16T09:47:45.415Z"
   },
   {
    "duration": 4,
    "start_time": "2022-12-16T09:47:56.680Z"
   },
   {
    "duration": 4,
    "start_time": "2022-12-16T09:48:27.143Z"
   },
   {
    "duration": 5,
    "start_time": "2022-12-16T09:48:43.551Z"
   },
   {
    "duration": 12,
    "start_time": "2022-12-16T09:48:56.814Z"
   },
   {
    "duration": 16,
    "start_time": "2022-12-16T09:49:03.479Z"
   },
   {
    "duration": 5,
    "start_time": "2022-12-16T09:49:16.967Z"
   },
   {
    "duration": 9,
    "start_time": "2022-12-16T09:49:33.310Z"
   },
   {
    "duration": 47,
    "start_time": "2022-12-16T09:49:40.030Z"
   },
   {
    "duration": 50,
    "start_time": "2022-12-16T09:49:45.703Z"
   },
   {
    "duration": 50,
    "start_time": "2022-12-16T09:49:53.854Z"
   },
   {
    "duration": 48,
    "start_time": "2022-12-16T09:50:20.606Z"
   },
   {
    "duration": 4,
    "start_time": "2022-12-16T09:50:22.935Z"
   },
   {
    "duration": 51,
    "start_time": "2022-12-16T09:50:27.691Z"
   },
   {
    "duration": 69,
    "start_time": "2022-12-16T09:50:32.950Z"
   },
   {
    "duration": 56,
    "start_time": "2022-12-16T09:50:35.294Z"
   },
   {
    "duration": 56,
    "start_time": "2022-12-16T09:50:46.994Z"
   },
   {
    "duration": 89,
    "start_time": "2022-12-16T09:51:03.302Z"
   },
   {
    "duration": 56,
    "start_time": "2022-12-16T09:51:09.213Z"
   },
   {
    "duration": 64,
    "start_time": "2022-12-16T09:51:11.142Z"
   },
   {
    "duration": 60,
    "start_time": "2022-12-16T09:51:20.909Z"
   },
   {
    "duration": 45,
    "start_time": "2022-12-16T09:51:35.045Z"
   },
   {
    "duration": 56,
    "start_time": "2022-12-16T09:52:05.766Z"
   },
   {
    "duration": 63,
    "start_time": "2022-12-16T09:52:25.397Z"
   },
   {
    "duration": 45,
    "start_time": "2022-12-16T09:52:36.493Z"
   },
   {
    "duration": 95,
    "start_time": "2022-12-16T09:52:47.085Z"
   },
   {
    "duration": 57,
    "start_time": "2022-12-16T09:53:06.724Z"
   },
   {
    "duration": 4,
    "start_time": "2022-12-16T09:53:33.021Z"
   },
   {
    "duration": 12,
    "start_time": "2022-12-16T09:53:39.485Z"
   },
   {
    "duration": 3577,
    "start_time": "2022-12-16T09:53:46.355Z"
   },
   {
    "duration": 24,
    "start_time": "2022-12-16T09:53:49.935Z"
   },
   {
    "duration": 3,
    "start_time": "2022-12-16T09:53:49.961Z"
   },
   {
    "duration": 14,
    "start_time": "2022-12-16T09:53:49.966Z"
   },
   {
    "duration": 15,
    "start_time": "2022-12-16T09:53:49.982Z"
   },
   {
    "duration": 5,
    "start_time": "2022-12-16T09:53:49.999Z"
   },
   {
    "duration": 21,
    "start_time": "2022-12-16T09:53:50.006Z"
   },
   {
    "duration": 14,
    "start_time": "2022-12-16T09:53:50.030Z"
   },
   {
    "duration": 160,
    "start_time": "2022-12-16T12:18:06.432Z"
   },
   {
    "duration": 4642,
    "start_time": "2022-12-16T12:18:16.381Z"
   },
   {
    "duration": 172,
    "start_time": "2022-12-16T12:31:26.401Z"
   },
   {
    "duration": 14,
    "start_time": "2022-12-16T12:34:05.905Z"
   },
   {
    "duration": 15,
    "start_time": "2022-12-16T12:34:23.142Z"
   },
   {
    "duration": 3710,
    "start_time": "2022-12-16T12:34:56.451Z"
   },
   {
    "duration": 21,
    "start_time": "2022-12-16T12:35:00.164Z"
   },
   {
    "duration": 12,
    "start_time": "2022-12-16T12:35:00.187Z"
   },
   {
    "duration": 16,
    "start_time": "2022-12-16T12:35:00.202Z"
   },
   {
    "duration": 31,
    "start_time": "2022-12-16T12:35:00.221Z"
   },
   {
    "duration": 27,
    "start_time": "2022-12-16T12:35:00.254Z"
   },
   {
    "duration": 37,
    "start_time": "2022-12-16T12:35:00.282Z"
   },
   {
    "duration": 54,
    "start_time": "2022-12-16T12:35:00.321Z"
   },
   {
    "duration": 74,
    "start_time": "2022-12-16T12:35:00.377Z"
   },
   {
    "duration": 22,
    "start_time": "2022-12-16T12:40:57.651Z"
   },
   {
    "duration": 120,
    "start_time": "2022-12-16T12:47:13.980Z"
   },
   {
    "duration": 18,
    "start_time": "2022-12-16T12:52:26.340Z"
   },
   {
    "duration": 22,
    "start_time": "2022-12-16T12:59:16.231Z"
   },
   {
    "duration": 20,
    "start_time": "2022-12-16T12:59:22.971Z"
   },
   {
    "duration": 6,
    "start_time": "2022-12-16T13:58:10.956Z"
   },
   {
    "duration": 4,
    "start_time": "2022-12-16T13:58:25.072Z"
   },
   {
    "duration": 681,
    "start_time": "2022-12-16T13:59:08.831Z"
   },
   {
    "duration": 697,
    "start_time": "2022-12-16T13:59:35.032Z"
   },
   {
    "duration": 3592,
    "start_time": "2022-12-16T15:01:36.778Z"
   },
   {
    "duration": 20,
    "start_time": "2022-12-16T15:01:40.372Z"
   },
   {
    "duration": 4,
    "start_time": "2022-12-16T15:01:40.394Z"
   },
   {
    "duration": 6,
    "start_time": "2022-12-16T15:01:40.399Z"
   },
   {
    "duration": 41,
    "start_time": "2022-12-16T15:01:40.408Z"
   },
   {
    "duration": 7,
    "start_time": "2022-12-16T15:01:40.451Z"
   },
   {
    "duration": 23,
    "start_time": "2022-12-16T15:01:40.460Z"
   },
   {
    "duration": 13,
    "start_time": "2022-12-16T15:01:40.485Z"
   },
   {
    "duration": 12,
    "start_time": "2022-12-16T15:01:40.500Z"
   },
   {
    "duration": 25,
    "start_time": "2022-12-16T15:01:40.514Z"
   },
   {
    "duration": 21,
    "start_time": "2022-12-16T15:01:40.540Z"
   },
   {
    "duration": 41,
    "start_time": "2022-12-16T15:01:40.562Z"
   },
   {
    "duration": 792,
    "start_time": "2022-12-16T15:01:40.605Z"
   },
   {
    "duration": 4498,
    "start_time": "2022-12-17T05:15:13.893Z"
   },
   {
    "duration": 19,
    "start_time": "2022-12-17T05:15:18.393Z"
   },
   {
    "duration": 3,
    "start_time": "2022-12-17T05:15:18.414Z"
   },
   {
    "duration": 15,
    "start_time": "2022-12-17T05:15:18.418Z"
   },
   {
    "duration": 18,
    "start_time": "2022-12-17T05:15:18.435Z"
   },
   {
    "duration": 24,
    "start_time": "2022-12-17T05:15:18.455Z"
   },
   {
    "duration": 24,
    "start_time": "2022-12-17T05:15:18.481Z"
   },
   {
    "duration": 21,
    "start_time": "2022-12-17T05:15:18.507Z"
   },
   {
    "duration": 14,
    "start_time": "2022-12-17T05:15:18.531Z"
   },
   {
    "duration": 40,
    "start_time": "2022-12-17T05:15:18.546Z"
   },
   {
    "duration": 17,
    "start_time": "2022-12-17T05:15:18.587Z"
   },
   {
    "duration": 22,
    "start_time": "2022-12-17T05:15:18.606Z"
   },
   {
    "duration": 796,
    "start_time": "2022-12-17T05:15:18.630Z"
   },
   {
    "duration": 129,
    "start_time": "2022-12-17T05:15:19.428Z"
   },
   {
    "duration": 87,
    "start_time": "2022-12-17T05:23:42.847Z"
   },
   {
    "duration": 8,
    "start_time": "2022-12-17T05:23:55.795Z"
   },
   {
    "duration": 5,
    "start_time": "2022-12-17T06:15:36.695Z"
   },
   {
    "duration": 701,
    "start_time": "2022-12-17T06:16:02.643Z"
   },
   {
    "duration": 4618,
    "start_time": "2022-12-19T05:11:33.618Z"
   },
   {
    "duration": 20,
    "start_time": "2022-12-19T05:11:38.238Z"
   },
   {
    "duration": 3,
    "start_time": "2022-12-19T05:11:38.260Z"
   },
   {
    "duration": 7,
    "start_time": "2022-12-19T05:11:38.265Z"
   },
   {
    "duration": 12,
    "start_time": "2022-12-19T05:11:38.273Z"
   },
   {
    "duration": 4,
    "start_time": "2022-12-19T05:11:38.287Z"
   },
   {
    "duration": 11,
    "start_time": "2022-12-19T05:11:38.293Z"
   },
   {
    "duration": 29,
    "start_time": "2022-12-19T05:11:38.306Z"
   },
   {
    "duration": 12,
    "start_time": "2022-12-19T05:11:38.338Z"
   },
   {
    "duration": 22,
    "start_time": "2022-12-19T05:11:38.351Z"
   },
   {
    "duration": 16,
    "start_time": "2022-12-19T05:11:38.375Z"
   },
   {
    "duration": 45,
    "start_time": "2022-12-19T05:11:38.393Z"
   },
   {
    "duration": 800,
    "start_time": "2022-12-19T05:11:38.440Z"
   },
   {
    "duration": 100,
    "start_time": "2022-12-19T05:11:39.244Z"
   },
   {
    "duration": 891,
    "start_time": "2022-12-19T05:11:39.346Z"
   },
   {
    "duration": 6,
    "start_time": "2022-12-19T08:17:51.317Z"
   },
   {
    "duration": 5,
    "start_time": "2022-12-19T08:17:51.949Z"
   },
   {
    "duration": 8,
    "start_time": "2022-12-19T08:18:12.913Z"
   },
   {
    "duration": 5,
    "start_time": "2022-12-19T08:20:00.701Z"
   },
   {
    "duration": 7,
    "start_time": "2022-12-19T08:20:34.548Z"
   },
   {
    "duration": 159,
    "start_time": "2022-12-19T08:22:16.381Z"
   },
   {
    "duration": 2279,
    "start_time": "2022-12-19T08:23:16.235Z"
   },
   {
    "duration": 37,
    "start_time": "2022-12-19T08:23:25.226Z"
   },
   {
    "duration": 18,
    "start_time": "2022-12-19T08:24:35.026Z"
   },
   {
    "duration": 2449,
    "start_time": "2022-12-19T08:25:04.899Z"
   },
   {
    "duration": 20,
    "start_time": "2022-12-19T08:27:26.801Z"
   },
   {
    "duration": 2256,
    "start_time": "2022-12-19T08:27:50.297Z"
   },
   {
    "duration": 11,
    "start_time": "2022-12-19T08:27:56.786Z"
   },
   {
    "duration": 3,
    "start_time": "2022-12-19T08:44:28.929Z"
   },
   {
    "duration": 785,
    "start_time": "2022-12-19T08:45:42.818Z"
   },
   {
    "duration": 11,
    "start_time": "2022-12-19T08:50:25.808Z"
   },
   {
    "duration": 2,
    "start_time": "2022-12-19T08:56:04.124Z"
   },
   {
    "duration": 69,
    "start_time": "2022-12-19T08:56:12.490Z"
   },
   {
    "duration": 41,
    "start_time": "2022-12-19T08:58:01.611Z"
   },
   {
    "duration": 12,
    "start_time": "2022-12-19T09:03:11.770Z"
   },
   {
    "duration": 112,
    "start_time": "2022-12-19T09:03:50.832Z"
   },
   {
    "duration": 267,
    "start_time": "2022-12-19T09:09:20.576Z"
   },
   {
    "duration": 2422,
    "start_time": "2022-12-19T09:10:43.527Z"
   },
   {
    "duration": 4200,
    "start_time": "2022-12-19T09:11:00.069Z"
   },
   {
    "duration": 28,
    "start_time": "2022-12-19T09:11:04.273Z"
   },
   {
    "duration": 39,
    "start_time": "2022-12-19T09:11:04.304Z"
   },
   {
    "duration": 46,
    "start_time": "2022-12-19T09:11:04.346Z"
   },
   {
    "duration": 66,
    "start_time": "2022-12-19T09:11:04.395Z"
   },
   {
    "duration": 39,
    "start_time": "2022-12-19T09:11:04.463Z"
   },
   {
    "duration": 59,
    "start_time": "2022-12-19T09:11:04.505Z"
   },
   {
    "duration": 31,
    "start_time": "2022-12-19T09:11:04.566Z"
   },
   {
    "duration": 53,
    "start_time": "2022-12-19T09:11:04.599Z"
   },
   {
    "duration": 93,
    "start_time": "2022-12-19T09:11:04.653Z"
   },
   {
    "duration": 45,
    "start_time": "2022-12-19T09:11:04.749Z"
   },
   {
    "duration": 152,
    "start_time": "2022-12-19T09:11:04.799Z"
   },
   {
    "duration": 889,
    "start_time": "2022-12-19T09:11:04.953Z"
   },
   {
    "duration": 90,
    "start_time": "2022-12-19T09:11:05.846Z"
   },
   {
    "duration": 998,
    "start_time": "2022-12-19T09:11:05.939Z"
   },
   {
    "duration": 95,
    "start_time": "2022-12-19T09:11:06.941Z"
   },
   {
    "duration": 104,
    "start_time": "2022-12-19T09:11:07.038Z"
   },
   {
    "duration": 15,
    "start_time": "2022-12-19T09:11:07.144Z"
   },
   {
    "duration": 858,
    "start_time": "2022-12-19T09:11:07.162Z"
   },
   {
    "duration": 25,
    "start_time": "2022-12-19T09:11:08.022Z"
   },
   {
    "duration": 80,
    "start_time": "2022-12-19T09:11:08.049Z"
   },
   {
    "duration": 16,
    "start_time": "2022-12-19T09:11:08.131Z"
   },
   {
    "duration": 186,
    "start_time": "2022-12-19T09:11:08.150Z"
   },
   {
    "duration": 483,
    "start_time": "2022-12-19T09:11:08.340Z"
   },
   {
    "duration": 2228,
    "start_time": "2022-12-19T09:20:52.530Z"
   },
   {
    "duration": 4541,
    "start_time": "2022-12-20T09:49:52.455Z"
   },
   {
    "duration": 19,
    "start_time": "2022-12-20T09:49:56.998Z"
   },
   {
    "duration": 3,
    "start_time": "2022-12-20T09:49:57.018Z"
   },
   {
    "duration": 13,
    "start_time": "2022-12-20T09:49:57.023Z"
   },
   {
    "duration": 14,
    "start_time": "2022-12-20T09:49:57.037Z"
   },
   {
    "duration": 4,
    "start_time": "2022-12-20T09:49:57.053Z"
   },
   {
    "duration": 26,
    "start_time": "2022-12-20T09:49:57.059Z"
   },
   {
    "duration": 4,
    "start_time": "2022-12-20T09:49:57.086Z"
   },
   {
    "duration": 13,
    "start_time": "2022-12-20T09:49:57.091Z"
   },
   {
    "duration": 20,
    "start_time": "2022-12-20T09:49:57.107Z"
   },
   {
    "duration": 17,
    "start_time": "2022-12-20T09:49:57.129Z"
   },
   {
    "duration": 17,
    "start_time": "2022-12-20T09:49:57.177Z"
   },
   {
    "duration": 702,
    "start_time": "2022-12-20T09:49:57.196Z"
   },
   {
    "duration": 81,
    "start_time": "2022-12-20T09:49:57.900Z"
   },
   {
    "duration": 796,
    "start_time": "2022-12-20T09:49:57.983Z"
   },
   {
    "duration": 6,
    "start_time": "2022-12-20T09:49:58.781Z"
   },
   {
    "duration": 41,
    "start_time": "2022-12-20T09:49:58.880Z"
   },
   {
    "duration": 66,
    "start_time": "2022-12-20T09:49:58.923Z"
   },
   {
    "duration": 670,
    "start_time": "2022-12-20T09:49:58.990Z"
   },
   {
    "duration": 16,
    "start_time": "2022-12-20T09:49:59.662Z"
   },
   {
    "duration": 101,
    "start_time": "2022-12-20T09:49:59.679Z"
   },
   {
    "duration": 100,
    "start_time": "2022-12-20T09:49:59.782Z"
   },
   {
    "duration": 25,
    "start_time": "2022-12-20T09:49:59.884Z"
   },
   {
    "duration": 478,
    "start_time": "2022-12-20T09:49:59.911Z"
   },
   {
    "duration": 5,
    "start_time": "2022-12-20T10:42:40.220Z"
   },
   {
    "duration": 7,
    "start_time": "2022-12-20T10:45:50.955Z"
   },
   {
    "duration": 107,
    "start_time": "2022-12-20T10:46:03.445Z"
   },
   {
    "duration": 18,
    "start_time": "2022-12-20T10:46:37.814Z"
   },
   {
    "duration": 5,
    "start_time": "2022-12-20T10:47:36.054Z"
   },
   {
    "duration": 21,
    "start_time": "2022-12-20T10:47:38.316Z"
   },
   {
    "duration": 5,
    "start_time": "2022-12-20T10:47:57.956Z"
   },
   {
    "duration": 17,
    "start_time": "2022-12-20T10:47:59.694Z"
   },
   {
    "duration": 74,
    "start_time": "2022-12-20T10:48:03.140Z"
   },
   {
    "duration": 5,
    "start_time": "2022-12-20T10:48:08.821Z"
   },
   {
    "duration": 19,
    "start_time": "2022-12-20T10:48:09.996Z"
   },
   {
    "duration": 12,
    "start_time": "2022-12-20T10:48:17.379Z"
   },
   {
    "duration": 21,
    "start_time": "2022-12-20T10:48:23.724Z"
   },
   {
    "duration": 12,
    "start_time": "2022-12-20T10:48:31.930Z"
   },
   {
    "duration": 14,
    "start_time": "2022-12-20T10:48:54.388Z"
   },
   {
    "duration": 12,
    "start_time": "2022-12-20T10:49:04.676Z"
   },
   {
    "duration": 12,
    "start_time": "2022-12-20T10:49:35.553Z"
   },
   {
    "duration": 14,
    "start_time": "2022-12-20T10:49:41.564Z"
   },
   {
    "duration": 12,
    "start_time": "2022-12-20T10:49:45.603Z"
   },
   {
    "duration": 13,
    "start_time": "2022-12-20T10:49:51.651Z"
   },
   {
    "duration": 12,
    "start_time": "2022-12-20T10:50:13.667Z"
   },
   {
    "duration": 6,
    "start_time": "2022-12-20T10:53:22.546Z"
   },
   {
    "duration": 84,
    "start_time": "2022-12-20T10:56:18.221Z"
   },
   {
    "duration": 209,
    "start_time": "2022-12-20T10:56:22.856Z"
   },
   {
    "duration": 114,
    "start_time": "2022-12-20T10:56:39.736Z"
   },
   {
    "duration": 129,
    "start_time": "2022-12-20T10:56:55.832Z"
   },
   {
    "duration": 114,
    "start_time": "2022-12-20T11:01:29.011Z"
   },
   {
    "duration": 133,
    "start_time": "2022-12-20T11:01:38.764Z"
   },
   {
    "duration": 135,
    "start_time": "2022-12-20T11:04:56.902Z"
   },
   {
    "duration": 119,
    "start_time": "2022-12-20T11:05:17.997Z"
   },
   {
    "duration": 119,
    "start_time": "2022-12-20T11:05:26.548Z"
   },
   {
    "duration": 781,
    "start_time": "2022-12-20T11:18:28.907Z"
   },
   {
    "duration": 1154,
    "start_time": "2022-12-20T11:18:29.690Z"
   },
   {
    "duration": 790,
    "start_time": "2022-12-20T11:21:17.993Z"
   },
   {
    "duration": 1207,
    "start_time": "2022-12-20T11:21:18.884Z"
   },
   {
    "duration": 62,
    "start_time": "2022-12-20T11:28:43.567Z"
   },
   {
    "duration": 908,
    "start_time": "2022-12-20T11:35:24.772Z"
   },
   {
    "duration": 88,
    "start_time": "2022-12-20T11:36:02.693Z"
   },
   {
    "duration": 5089,
    "start_time": "2022-12-21T05:55:47.313Z"
   },
   {
    "duration": 25,
    "start_time": "2022-12-21T05:55:52.405Z"
   },
   {
    "duration": 34,
    "start_time": "2022-12-21T05:55:52.433Z"
   },
   {
    "duration": 38,
    "start_time": "2022-12-21T05:55:52.469Z"
   },
   {
    "duration": 66,
    "start_time": "2022-12-21T05:55:52.509Z"
   },
   {
    "duration": 19,
    "start_time": "2022-12-21T05:55:52.577Z"
   },
   {
    "duration": 33,
    "start_time": "2022-12-21T05:55:52.598Z"
   },
   {
    "duration": 46,
    "start_time": "2022-12-21T05:55:52.633Z"
   },
   {
    "duration": 42,
    "start_time": "2022-12-21T05:55:52.680Z"
   },
   {
    "duration": 45,
    "start_time": "2022-12-21T05:55:52.723Z"
   },
   {
    "duration": 19,
    "start_time": "2022-12-21T05:55:52.770Z"
   },
   {
    "duration": 19,
    "start_time": "2022-12-21T05:55:52.790Z"
   },
   {
    "duration": 833,
    "start_time": "2022-12-21T05:55:52.811Z"
   },
   {
    "duration": 92,
    "start_time": "2022-12-21T05:55:53.647Z"
   },
   {
    "duration": 831,
    "start_time": "2022-12-21T05:55:53.742Z"
   },
   {
    "duration": 67,
    "start_time": "2022-12-21T05:55:54.575Z"
   },
   {
    "duration": 138,
    "start_time": "2022-12-21T05:55:54.644Z"
   },
   {
    "duration": 9,
    "start_time": "2022-12-21T05:55:54.784Z"
   },
   {
    "duration": 706,
    "start_time": "2022-12-21T05:55:54.795Z"
   },
   {
    "duration": 8,
    "start_time": "2022-12-21T05:55:55.503Z"
   },
   {
    "duration": 129,
    "start_time": "2022-12-21T05:55:55.513Z"
   },
   {
    "duration": 96,
    "start_time": "2022-12-21T05:55:55.644Z"
   },
   {
    "duration": 17,
    "start_time": "2022-12-21T05:55:55.742Z"
   },
   {
    "duration": 480,
    "start_time": "2022-12-21T05:55:55.761Z"
   },
   {
    "duration": 150,
    "start_time": "2022-12-21T05:55:56.243Z"
   },
   {
    "duration": 5,
    "start_time": "2022-12-21T05:55:56.395Z"
   },
   {
    "duration": 186,
    "start_time": "2022-12-21T05:55:56.401Z"
   },
   {
    "duration": 757,
    "start_time": "2022-12-21T05:55:56.588Z"
   },
   {
    "duration": 1214,
    "start_time": "2022-12-21T05:55:57.348Z"
   },
   {
    "duration": 202,
    "start_time": "2022-12-21T05:55:58.564Z"
   },
   {
    "duration": 923,
    "start_time": "2022-12-21T05:55:58.767Z"
   },
   {
    "duration": 48,
    "start_time": "2022-12-21T05:55:59.691Z"
   },
   {
    "duration": 697810,
    "start_time": "2022-12-21T05:58:21.672Z"
   },
   {
    "duration": 7,
    "start_time": "2022-12-21T06:11:42.343Z"
   },
   {
    "duration": 65,
    "start_time": "2022-12-21T06:12:18.359Z"
   },
   {
    "duration": 4,
    "start_time": "2022-12-21T06:12:22.214Z"
   },
   {
    "duration": 3,
    "start_time": "2022-12-21T06:16:05.804Z"
   },
   {
    "duration": 515,
    "start_time": "2022-12-21T06:17:17.577Z"
   },
   {
    "duration": 977,
    "start_time": "2022-12-21T06:17:51.587Z"
   },
   {
    "duration": 2044238,
    "start_time": "2022-12-21T06:18:23.922Z"
   },
   {
    "duration": 4,
    "start_time": "2022-12-21T06:55:11.057Z"
   },
   {
    "duration": 849,
    "start_time": "2022-12-21T06:56:04.986Z"
   },
   {
    "duration": 9,
    "start_time": "2022-12-21T07:04:50.261Z"
   },
   {
    "duration": 9,
    "start_time": "2022-12-21T07:08:16.603Z"
   },
   {
    "duration": 12,
    "start_time": "2022-12-21T07:08:18.438Z"
   },
   {
    "duration": 139,
    "start_time": "2022-12-21T07:14:40.928Z"
   },
   {
    "duration": 18,
    "start_time": "2022-12-21T07:15:52.248Z"
   },
   {
    "duration": 2,
    "start_time": "2022-12-21T07:15:55.458Z"
   },
   {
    "duration": 15,
    "start_time": "2022-12-21T07:16:04.858Z"
   },
   {
    "duration": 17,
    "start_time": "2022-12-21T07:17:22.392Z"
   },
   {
    "duration": 14,
    "start_time": "2022-12-21T07:17:29.540Z"
   },
   {
    "duration": 12,
    "start_time": "2022-12-21T07:18:06.207Z"
   },
   {
    "duration": 12,
    "start_time": "2022-12-21T07:19:09.113Z"
   },
   {
    "duration": 3788,
    "start_time": "2022-12-21T07:19:42.833Z"
   },
   {
    "duration": 35,
    "start_time": "2022-12-21T07:19:46.623Z"
   },
   {
    "duration": 4,
    "start_time": "2022-12-21T07:19:46.663Z"
   },
   {
    "duration": 38,
    "start_time": "2022-12-21T07:19:46.668Z"
   },
   {
    "duration": 26,
    "start_time": "2022-12-21T07:19:46.708Z"
   },
   {
    "duration": 52,
    "start_time": "2022-12-21T07:19:46.737Z"
   },
   {
    "duration": 23,
    "start_time": "2022-12-21T07:19:46.791Z"
   },
   {
    "duration": 54,
    "start_time": "2022-12-21T07:19:46.817Z"
   },
   {
    "duration": 21,
    "start_time": "2022-12-21T07:19:46.873Z"
   },
   {
    "duration": 33,
    "start_time": "2022-12-21T07:19:46.896Z"
   },
   {
    "duration": 27,
    "start_time": "2022-12-21T07:19:46.930Z"
   },
   {
    "duration": 26,
    "start_time": "2022-12-21T07:19:46.959Z"
   },
   {
    "duration": 862,
    "start_time": "2022-12-21T07:19:46.987Z"
   },
   {
    "duration": 80,
    "start_time": "2022-12-21T07:19:47.856Z"
   },
   {
    "duration": 897,
    "start_time": "2022-12-21T07:19:47.938Z"
   },
   {
    "duration": 15,
    "start_time": "2022-12-21T07:19:48.844Z"
   },
   {
    "duration": 138,
    "start_time": "2022-12-21T07:19:48.862Z"
   },
   {
    "duration": 30,
    "start_time": "2022-12-21T07:19:49.002Z"
   },
   {
    "duration": 837,
    "start_time": "2022-12-21T07:19:49.033Z"
   },
   {
    "duration": 10,
    "start_time": "2022-12-21T07:19:49.872Z"
   },
   {
    "duration": 156,
    "start_time": "2022-12-21T07:19:49.884Z"
   },
   {
    "duration": 22,
    "start_time": "2022-12-21T07:19:50.054Z"
   },
   {
    "duration": 69,
    "start_time": "2022-12-21T07:19:50.078Z"
   },
   {
    "duration": 514,
    "start_time": "2022-12-21T07:19:50.150Z"
   },
   {
    "duration": 140,
    "start_time": "2022-12-21T07:19:50.666Z"
   },
   {
    "duration": 6,
    "start_time": "2022-12-21T07:19:50.808Z"
   },
   {
    "duration": 149,
    "start_time": "2022-12-21T07:19:50.816Z"
   },
   {
    "duration": 874,
    "start_time": "2022-12-21T07:19:50.967Z"
   },
   {
    "duration": 1319,
    "start_time": "2022-12-21T07:19:51.843Z"
   },
   {
    "duration": 210,
    "start_time": "2022-12-21T07:19:53.165Z"
   },
   {
    "duration": 1015,
    "start_time": "2022-12-21T07:19:53.377Z"
   },
   {
    "duration": 51,
    "start_time": "2022-12-21T07:19:54.393Z"
   },
   {
    "duration": 797,
    "start_time": "2022-12-21T07:19:54.446Z"
   },
   {
    "duration": 9,
    "start_time": "2022-12-21T07:19:55.245Z"
   },
   {
    "duration": 38,
    "start_time": "2022-12-21T07:19:55.257Z"
   },
   {
    "duration": 203,
    "start_time": "2022-12-21T07:19:55.296Z"
   },
   {
    "duration": 61,
    "start_time": "2022-12-21T07:20:22.635Z"
   },
   {
    "duration": 47,
    "start_time": "2022-12-21T07:20:28.481Z"
   },
   {
    "duration": 319,
    "start_time": "2022-12-21T07:23:15.741Z"
   },
   {
    "duration": 54,
    "start_time": "2022-12-21T07:29:29.100Z"
   },
   {
    "duration": 49,
    "start_time": "2022-12-21T07:33:34.801Z"
   },
   {
    "duration": 3,
    "start_time": "2022-12-21T07:35:19.273Z"
   },
   {
    "duration": 2,
    "start_time": "2022-12-21T07:35:24.407Z"
   },
   {
    "duration": 5456,
    "start_time": "2022-12-22T02:34:46.288Z"
   },
   {
    "duration": 110,
    "start_time": "2022-12-22T02:34:51.747Z"
   },
   {
    "duration": 33,
    "start_time": "2022-12-22T02:34:51.860Z"
   },
   {
    "duration": 16,
    "start_time": "2022-12-22T02:34:51.896Z"
   },
   {
    "duration": 5,
    "start_time": "2022-12-22T02:34:51.916Z"
   },
   {
    "duration": 33,
    "start_time": "2022-12-22T02:34:51.923Z"
   },
   {
    "duration": 15,
    "start_time": "2022-12-22T02:34:51.959Z"
   },
   {
    "duration": 16,
    "start_time": "2022-12-22T02:34:51.977Z"
   },
   {
    "duration": 15,
    "start_time": "2022-12-22T02:34:51.995Z"
   },
   {
    "duration": 16,
    "start_time": "2022-12-22T02:34:52.014Z"
   },
   {
    "duration": 41,
    "start_time": "2022-12-22T02:34:52.032Z"
   },
   {
    "duration": 38,
    "start_time": "2022-12-22T02:34:52.074Z"
   },
   {
    "duration": 27,
    "start_time": "2022-12-22T02:34:52.114Z"
   },
   {
    "duration": 1089,
    "start_time": "2022-12-22T02:34:52.144Z"
   },
   {
    "duration": 75,
    "start_time": "2022-12-22T02:34:53.239Z"
   },
   {
    "duration": 1126,
    "start_time": "2022-12-22T02:34:53.319Z"
   },
   {
    "duration": 68,
    "start_time": "2022-12-22T02:34:54.450Z"
   },
   {
    "duration": 140,
    "start_time": "2022-12-22T02:34:54.525Z"
   },
   {
    "duration": 19,
    "start_time": "2022-12-22T02:34:54.668Z"
   },
   {
    "duration": 1004,
    "start_time": "2022-12-22T02:34:54.691Z"
   },
   {
    "duration": 21,
    "start_time": "2022-12-22T02:34:55.697Z"
   },
   {
    "duration": 193,
    "start_time": "2022-12-22T02:34:55.720Z"
   },
   {
    "duration": 15,
    "start_time": "2022-12-22T02:34:55.915Z"
   },
   {
    "duration": 13,
    "start_time": "2022-12-22T02:34:55.932Z"
   },
   {
    "duration": 507,
    "start_time": "2022-12-22T02:34:55.947Z"
   },
   {
    "duration": 185,
    "start_time": "2022-12-22T02:34:56.456Z"
   },
   {
    "duration": 6,
    "start_time": "2022-12-22T02:34:56.643Z"
   },
   {
    "duration": 188,
    "start_time": "2022-12-22T02:34:56.653Z"
   },
   {
    "duration": 1069,
    "start_time": "2022-12-22T02:34:56.844Z"
   },
   {
    "duration": 1651,
    "start_time": "2022-12-22T02:34:57.916Z"
   },
   {
    "duration": 182,
    "start_time": "2022-12-22T02:34:59.569Z"
   },
   {
    "duration": 1106,
    "start_time": "2022-12-22T02:34:59.753Z"
   },
   {
    "duration": 70,
    "start_time": "2022-12-22T02:35:00.861Z"
   },
   {
    "duration": 5,
    "start_time": "2022-12-22T02:35:00.933Z"
   },
   {
    "duration": 12,
    "start_time": "2022-12-22T02:35:01.014Z"
   },
   {
    "duration": 1040,
    "start_time": "2022-12-22T02:35:01.034Z"
   },
   {
    "duration": 10,
    "start_time": "2022-12-22T02:35:02.076Z"
   },
   {
    "duration": 25,
    "start_time": "2022-12-22T02:35:02.088Z"
   },
   {
    "duration": 65,
    "start_time": "2022-12-22T02:35:02.115Z"
   },
   {
    "duration": 374,
    "start_time": "2022-12-22T02:35:02.183Z"
   },
   {
    "duration": 8,
    "start_time": "2022-12-22T02:41:33.338Z"
   },
   {
    "duration": 23,
    "start_time": "2022-12-22T02:41:46.492Z"
   },
   {
    "duration": 3496,
    "start_time": "2022-12-22T02:42:16.000Z"
   },
   {
    "duration": 56,
    "start_time": "2022-12-22T02:42:19.498Z"
   },
   {
    "duration": 24,
    "start_time": "2022-12-22T02:42:19.556Z"
   },
   {
    "duration": 18,
    "start_time": "2022-12-22T02:42:19.582Z"
   },
   {
    "duration": 6,
    "start_time": "2022-12-22T02:42:19.612Z"
   },
   {
    "duration": 17,
    "start_time": "2022-12-22T02:42:19.620Z"
   },
   {
    "duration": 9,
    "start_time": "2022-12-22T02:42:19.639Z"
   },
   {
    "duration": 14,
    "start_time": "2022-12-22T02:42:19.651Z"
   },
   {
    "duration": 17,
    "start_time": "2022-12-22T02:42:19.667Z"
   },
   {
    "duration": 28,
    "start_time": "2022-12-22T02:42:19.687Z"
   },
   {
    "duration": 27,
    "start_time": "2022-12-22T02:42:19.717Z"
   },
   {
    "duration": 23,
    "start_time": "2022-12-22T02:42:19.747Z"
   },
   {
    "duration": 46,
    "start_time": "2022-12-22T02:42:19.772Z"
   },
   {
    "duration": 726,
    "start_time": "2022-12-22T02:42:19.820Z"
   },
   {
    "duration": 8,
    "start_time": "2022-12-22T02:42:20.611Z"
   },
   {
    "duration": 802,
    "start_time": "2022-12-22T02:42:20.621Z"
   },
   {
    "duration": 91,
    "start_time": "2022-12-22T02:42:21.426Z"
   },
   {
    "duration": 36,
    "start_time": "2022-12-22T02:42:21.519Z"
   },
   {
    "duration": 66,
    "start_time": "2022-12-22T02:42:21.557Z"
   },
   {
    "duration": 663,
    "start_time": "2022-12-22T02:42:21.625Z"
   },
   {
    "duration": 23,
    "start_time": "2022-12-22T02:42:22.290Z"
   },
   {
    "duration": 102,
    "start_time": "2022-12-22T02:42:22.315Z"
   },
   {
    "duration": 100,
    "start_time": "2022-12-22T02:42:22.419Z"
   },
   {
    "duration": 10,
    "start_time": "2022-12-22T02:42:22.521Z"
   },
   {
    "duration": 493,
    "start_time": "2022-12-22T02:42:22.533Z"
   },
   {
    "duration": 137,
    "start_time": "2022-12-22T02:42:23.028Z"
   },
   {
    "duration": 7,
    "start_time": "2022-12-22T02:42:23.168Z"
   },
   {
    "duration": 124,
    "start_time": "2022-12-22T02:42:23.180Z"
   },
   {
    "duration": 704,
    "start_time": "2022-12-22T02:42:23.311Z"
   },
   {
    "duration": 1045,
    "start_time": "2022-12-22T02:42:24.018Z"
   },
   {
    "duration": 181,
    "start_time": "2022-12-22T02:42:25.065Z"
   },
   {
    "duration": 932,
    "start_time": "2022-12-22T02:42:25.248Z"
   },
   {
    "duration": 132,
    "start_time": "2022-12-22T02:42:26.182Z"
   },
   {
    "duration": 7,
    "start_time": "2022-12-22T02:42:26.317Z"
   },
   {
    "duration": 94,
    "start_time": "2022-12-22T02:42:26.327Z"
   },
   {
    "duration": 670,
    "start_time": "2022-12-22T02:42:26.423Z"
   },
   {
    "duration": 7,
    "start_time": "2022-12-22T02:42:27.094Z"
   },
   {
    "duration": 12,
    "start_time": "2022-12-22T02:42:27.111Z"
   },
   {
    "duration": 58,
    "start_time": "2022-12-22T02:42:27.125Z"
   },
   {
    "duration": 332,
    "start_time": "2022-12-22T02:42:27.185Z"
   },
   {
    "duration": 17,
    "start_time": "2022-12-22T02:46:43.451Z"
   },
   {
    "duration": 47,
    "start_time": "2022-12-22T02:47:00.644Z"
   },
   {
    "duration": 5,
    "start_time": "2022-12-22T02:52:12.657Z"
   },
   {
    "duration": 57,
    "start_time": "2022-12-22T02:53:59.792Z"
   },
   {
    "duration": 43,
    "start_time": "2022-12-22T02:54:02.320Z"
   },
   {
    "duration": 4795,
    "start_time": "2022-12-22T11:14:44.747Z"
   },
   {
    "duration": 105,
    "start_time": "2022-12-22T11:14:49.545Z"
   },
   {
    "duration": 27,
    "start_time": "2022-12-22T11:14:49.653Z"
   },
   {
    "duration": 21,
    "start_time": "2022-12-22T11:14:49.682Z"
   },
   {
    "duration": 7,
    "start_time": "2022-12-22T11:14:49.705Z"
   },
   {
    "duration": 23,
    "start_time": "2022-12-22T11:14:49.713Z"
   },
   {
    "duration": 6,
    "start_time": "2022-12-22T11:14:49.737Z"
   },
   {
    "duration": 35,
    "start_time": "2022-12-22T11:14:49.745Z"
   },
   {
    "duration": 4,
    "start_time": "2022-12-22T11:14:49.782Z"
   },
   {
    "duration": 14,
    "start_time": "2022-12-22T11:14:49.789Z"
   },
   {
    "duration": 24,
    "start_time": "2022-12-22T11:14:49.804Z"
   },
   {
    "duration": 50,
    "start_time": "2022-12-22T11:14:49.830Z"
   },
   {
    "duration": 27,
    "start_time": "2022-12-22T11:14:49.882Z"
   },
   {
    "duration": 781,
    "start_time": "2022-12-22T11:14:49.911Z"
   },
   {
    "duration": 88,
    "start_time": "2022-12-22T11:14:50.694Z"
   },
   {
    "duration": 895,
    "start_time": "2022-12-22T11:14:50.784Z"
   },
   {
    "duration": 7,
    "start_time": "2022-12-22T11:14:51.681Z"
   },
   {
    "duration": 77,
    "start_time": "2022-12-22T11:14:51.778Z"
   },
   {
    "duration": 60,
    "start_time": "2022-12-22T11:14:51.857Z"
   },
   {
    "duration": 810,
    "start_time": "2022-12-22T11:14:51.919Z"
   },
   {
    "duration": 12,
    "start_time": "2022-12-22T11:14:52.732Z"
   },
   {
    "duration": 138,
    "start_time": "2022-12-22T11:14:52.746Z"
   },
   {
    "duration": 101,
    "start_time": "2022-12-22T11:14:52.886Z"
   },
   {
    "duration": 87,
    "start_time": "2022-12-22T11:14:52.989Z"
   },
   {
    "duration": 626,
    "start_time": "2022-12-22T11:14:53.079Z"
   },
   {
    "duration": 144,
    "start_time": "2022-12-22T11:14:53.708Z"
   },
   {
    "duration": 40,
    "start_time": "2022-12-22T11:14:53.854Z"
   },
   {
    "duration": 353,
    "start_time": "2022-12-22T11:14:53.898Z"
   },
   {
    "duration": 925,
    "start_time": "2022-12-22T11:14:54.253Z"
   },
   {
    "duration": 1138,
    "start_time": "2022-12-22T11:14:55.180Z"
   },
   {
    "duration": 138,
    "start_time": "2022-12-22T11:14:56.377Z"
   },
   {
    "duration": 1089,
    "start_time": "2022-12-22T11:14:56.517Z"
   },
   {
    "duration": 170,
    "start_time": "2022-12-22T11:14:57.608Z"
   },
   {
    "duration": 4,
    "start_time": "2022-12-22T11:14:57.781Z"
   },
   {
    "duration": 16,
    "start_time": "2022-12-22T11:14:57.787Z"
   },
   {
    "duration": 823,
    "start_time": "2022-12-22T11:14:57.805Z"
   },
   {
    "duration": 8,
    "start_time": "2022-12-22T11:14:58.630Z"
   },
   {
    "duration": 72,
    "start_time": "2022-12-22T11:14:58.640Z"
   },
   {
    "duration": 63,
    "start_time": "2022-12-22T11:14:58.714Z"
   },
   {
    "duration": 329,
    "start_time": "2022-12-22T11:14:58.779Z"
   },
   {
    "duration": 3641,
    "start_time": "2022-12-22T11:47:46.329Z"
   },
   {
    "duration": 58,
    "start_time": "2022-12-22T11:47:49.972Z"
   },
   {
    "duration": 22,
    "start_time": "2022-12-22T11:47:50.031Z"
   },
   {
    "duration": 28,
    "start_time": "2022-12-22T11:47:50.055Z"
   },
   {
    "duration": 14,
    "start_time": "2022-12-22T11:47:50.086Z"
   },
   {
    "duration": 11,
    "start_time": "2022-12-22T11:47:50.102Z"
   },
   {
    "duration": 10,
    "start_time": "2022-12-22T11:47:50.114Z"
   },
   {
    "duration": 66,
    "start_time": "2022-12-22T11:47:50.126Z"
   },
   {
    "duration": 9,
    "start_time": "2022-12-22T11:47:50.194Z"
   },
   {
    "duration": 19,
    "start_time": "2022-12-22T11:47:50.206Z"
   },
   {
    "duration": 32,
    "start_time": "2022-12-22T11:47:50.227Z"
   },
   {
    "duration": 26,
    "start_time": "2022-12-22T11:47:50.262Z"
   },
   {
    "duration": 25,
    "start_time": "2022-12-22T11:47:50.291Z"
   },
   {
    "duration": 163,
    "start_time": "2022-12-22T11:47:50.321Z"
   },
   {
    "duration": 0,
    "start_time": "2022-12-22T11:47:50.486Z"
   },
   {
    "duration": 0,
    "start_time": "2022-12-22T11:47:50.487Z"
   },
   {
    "duration": 0,
    "start_time": "2022-12-22T11:47:50.488Z"
   },
   {
    "duration": 0,
    "start_time": "2022-12-22T11:47:50.489Z"
   },
   {
    "duration": 0,
    "start_time": "2022-12-22T11:47:50.490Z"
   },
   {
    "duration": 0,
    "start_time": "2022-12-22T11:47:50.492Z"
   },
   {
    "duration": 0,
    "start_time": "2022-12-22T11:47:50.494Z"
   },
   {
    "duration": 0,
    "start_time": "2022-12-22T11:47:50.496Z"
   },
   {
    "duration": 0,
    "start_time": "2022-12-22T11:47:50.497Z"
   },
   {
    "duration": 0,
    "start_time": "2022-12-22T11:47:50.498Z"
   },
   {
    "duration": 0,
    "start_time": "2022-12-22T11:47:50.500Z"
   },
   {
    "duration": 0,
    "start_time": "2022-12-22T11:47:50.501Z"
   },
   {
    "duration": 0,
    "start_time": "2022-12-22T11:47:50.502Z"
   },
   {
    "duration": 0,
    "start_time": "2022-12-22T11:47:50.504Z"
   },
   {
    "duration": 0,
    "start_time": "2022-12-22T11:47:50.505Z"
   },
   {
    "duration": 0,
    "start_time": "2022-12-22T11:47:50.506Z"
   },
   {
    "duration": 0,
    "start_time": "2022-12-22T11:47:50.507Z"
   },
   {
    "duration": 0,
    "start_time": "2022-12-22T11:47:50.508Z"
   },
   {
    "duration": 0,
    "start_time": "2022-12-22T11:47:50.510Z"
   },
   {
    "duration": 0,
    "start_time": "2022-12-22T11:47:50.512Z"
   },
   {
    "duration": 0,
    "start_time": "2022-12-22T11:47:50.513Z"
   },
   {
    "duration": 0,
    "start_time": "2022-12-22T11:47:50.514Z"
   },
   {
    "duration": 0,
    "start_time": "2022-12-22T11:47:50.515Z"
   },
   {
    "duration": 0,
    "start_time": "2022-12-22T11:47:50.517Z"
   },
   {
    "duration": 0,
    "start_time": "2022-12-22T11:47:50.518Z"
   },
   {
    "duration": 0,
    "start_time": "2022-12-22T11:47:50.519Z"
   },
   {
    "duration": 2015,
    "start_time": "2022-12-22T11:59:21.874Z"
   },
   {
    "duration": 2166,
    "start_time": "2022-12-22T12:01:37.031Z"
   },
   {
    "duration": 4,
    "start_time": "2022-12-22T12:06:34.975Z"
   },
   {
    "duration": 17,
    "start_time": "2022-12-22T12:06:55.694Z"
   },
   {
    "duration": 16,
    "start_time": "2022-12-22T12:07:28.019Z"
   },
   {
    "duration": 11,
    "start_time": "2022-12-22T12:07:35.388Z"
   },
   {
    "duration": 4,
    "start_time": "2022-12-22T12:11:49.593Z"
   },
   {
    "duration": 15,
    "start_time": "2022-12-22T12:13:25.142Z"
   },
   {
    "duration": 17,
    "start_time": "2022-12-22T12:13:45.553Z"
   },
   {
    "duration": 16,
    "start_time": "2022-12-22T12:14:06.744Z"
   },
   {
    "duration": 23,
    "start_time": "2022-12-22T12:15:31.884Z"
   },
   {
    "duration": 16,
    "start_time": "2022-12-22T12:15:51.093Z"
   },
   {
    "duration": 24,
    "start_time": "2022-12-22T12:17:18.978Z"
   },
   {
    "duration": 19,
    "start_time": "2022-12-22T12:17:24.943Z"
   },
   {
    "duration": 4,
    "start_time": "2022-12-22T12:18:17.797Z"
   },
   {
    "duration": 25,
    "start_time": "2022-12-22T12:18:54.224Z"
   },
   {
    "duration": 22,
    "start_time": "2022-12-22T12:19:45.071Z"
   },
   {
    "duration": 16,
    "start_time": "2022-12-22T12:20:01.197Z"
   },
   {
    "duration": 25,
    "start_time": "2022-12-22T12:20:08.314Z"
   },
   {
    "duration": 33,
    "start_time": "2022-12-22T12:20:29.768Z"
   },
   {
    "duration": 19,
    "start_time": "2022-12-22T12:20:59.935Z"
   },
   {
    "duration": 18,
    "start_time": "2022-12-22T12:22:00.311Z"
   },
   {
    "duration": 18,
    "start_time": "2022-12-22T12:22:21.756Z"
   },
   {
    "duration": 26,
    "start_time": "2022-12-22T12:23:04.568Z"
   },
   {
    "duration": 18,
    "start_time": "2022-12-22T12:23:26.718Z"
   },
   {
    "duration": 9,
    "start_time": "2022-12-22T12:26:33.117Z"
   },
   {
    "duration": 21,
    "start_time": "2022-12-22T12:26:57.684Z"
   },
   {
    "duration": 8,
    "start_time": "2022-12-22T12:34:17.477Z"
   },
   {
    "duration": 16,
    "start_time": "2022-12-22T12:34:27.601Z"
   },
   {
    "duration": 17,
    "start_time": "2022-12-22T12:36:49.572Z"
   },
   {
    "duration": 30,
    "start_time": "2022-12-22T12:36:56.432Z"
   },
   {
    "duration": 6,
    "start_time": "2022-12-22T12:39:22.836Z"
   },
   {
    "duration": 42,
    "start_time": "2022-12-22T12:39:26.348Z"
   },
   {
    "duration": 48,
    "start_time": "2022-12-22T12:42:19.993Z"
   },
   {
    "duration": 3846,
    "start_time": "2022-12-22T12:42:44.414Z"
   },
   {
    "duration": 86,
    "start_time": "2022-12-22T12:42:48.262Z"
   },
   {
    "duration": 28,
    "start_time": "2022-12-22T12:42:48.352Z"
   },
   {
    "duration": 38,
    "start_time": "2022-12-22T12:42:48.383Z"
   },
   {
    "duration": 77,
    "start_time": "2022-12-22T12:42:48.424Z"
   },
   {
    "duration": 48,
    "start_time": "2022-12-22T12:42:48.504Z"
   },
   {
    "duration": 33,
    "start_time": "2022-12-22T12:42:48.555Z"
   },
   {
    "duration": 86,
    "start_time": "2022-12-22T12:42:48.590Z"
   },
   {
    "duration": 25,
    "start_time": "2022-12-22T12:42:48.679Z"
   },
   {
    "duration": 6,
    "start_time": "2022-12-22T12:42:48.707Z"
   },
   {
    "duration": 34,
    "start_time": "2022-12-22T12:42:48.714Z"
   },
   {
    "duration": 9,
    "start_time": "2022-12-22T12:42:48.750Z"
   },
   {
    "duration": 34,
    "start_time": "2022-12-22T12:42:48.761Z"
   },
   {
    "duration": 23,
    "start_time": "2022-12-22T12:42:48.797Z"
   },
   {
    "duration": 20,
    "start_time": "2022-12-22T12:42:48.822Z"
   },
   {
    "duration": 180,
    "start_time": "2022-12-22T12:42:48.844Z"
   },
   {
    "duration": 0,
    "start_time": "2022-12-22T12:42:49.027Z"
   },
   {
    "duration": 0,
    "start_time": "2022-12-22T12:42:49.029Z"
   },
   {
    "duration": 0,
    "start_time": "2022-12-22T12:42:49.031Z"
   },
   {
    "duration": 0,
    "start_time": "2022-12-22T12:42:49.032Z"
   },
   {
    "duration": 0,
    "start_time": "2022-12-22T12:42:49.033Z"
   },
   {
    "duration": 0,
    "start_time": "2022-12-22T12:42:49.035Z"
   },
   {
    "duration": 0,
    "start_time": "2022-12-22T12:42:49.038Z"
   },
   {
    "duration": 0,
    "start_time": "2022-12-22T12:42:49.039Z"
   },
   {
    "duration": 0,
    "start_time": "2022-12-22T12:42:49.041Z"
   },
   {
    "duration": 0,
    "start_time": "2022-12-22T12:42:49.042Z"
   },
   {
    "duration": 0,
    "start_time": "2022-12-22T12:42:49.043Z"
   },
   {
    "duration": 0,
    "start_time": "2022-12-22T12:42:49.045Z"
   },
   {
    "duration": 0,
    "start_time": "2022-12-22T12:42:49.046Z"
   },
   {
    "duration": 0,
    "start_time": "2022-12-22T12:42:49.047Z"
   },
   {
    "duration": 0,
    "start_time": "2022-12-22T12:42:49.080Z"
   },
   {
    "duration": 0,
    "start_time": "2022-12-22T12:42:49.081Z"
   },
   {
    "duration": 0,
    "start_time": "2022-12-22T12:42:49.087Z"
   },
   {
    "duration": 0,
    "start_time": "2022-12-22T12:42:49.088Z"
   },
   {
    "duration": 0,
    "start_time": "2022-12-22T12:42:49.091Z"
   },
   {
    "duration": 0,
    "start_time": "2022-12-22T12:42:49.092Z"
   },
   {
    "duration": 0,
    "start_time": "2022-12-22T12:42:49.093Z"
   },
   {
    "duration": 0,
    "start_time": "2022-12-22T12:42:49.094Z"
   },
   {
    "duration": 0,
    "start_time": "2022-12-22T12:42:49.094Z"
   },
   {
    "duration": 0,
    "start_time": "2022-12-22T12:42:49.096Z"
   },
   {
    "duration": 0,
    "start_time": "2022-12-22T12:42:49.098Z"
   },
   {
    "duration": 0,
    "start_time": "2022-12-22T12:42:49.100Z"
   },
   {
    "duration": 24,
    "start_time": "2022-12-22T12:44:35.067Z"
   },
   {
    "duration": 29,
    "start_time": "2022-12-22T12:44:43.160Z"
   },
   {
    "duration": 4865,
    "start_time": "2022-12-22T12:45:37.540Z"
   },
   {
    "duration": 59,
    "start_time": "2022-12-22T12:45:42.408Z"
   },
   {
    "duration": 28,
    "start_time": "2022-12-22T12:45:42.469Z"
   },
   {
    "duration": 23,
    "start_time": "2022-12-22T12:45:42.499Z"
   },
   {
    "duration": 20,
    "start_time": "2022-12-22T12:45:42.524Z"
   },
   {
    "duration": 16,
    "start_time": "2022-12-22T12:45:42.546Z"
   },
   {
    "duration": 32,
    "start_time": "2022-12-22T12:45:42.564Z"
   },
   {
    "duration": 30,
    "start_time": "2022-12-22T12:45:42.598Z"
   },
   {
    "duration": 9,
    "start_time": "2022-12-22T12:45:42.630Z"
   },
   {
    "duration": 55,
    "start_time": "2022-12-22T12:45:42.641Z"
   },
   {
    "duration": 259,
    "start_time": "2022-12-22T12:45:42.698Z"
   },
   {
    "duration": 10,
    "start_time": "2022-12-22T12:45:42.959Z"
   },
   {
    "duration": 45,
    "start_time": "2022-12-22T12:45:42.981Z"
   },
   {
    "duration": 19,
    "start_time": "2022-12-22T12:45:43.030Z"
   },
   {
    "duration": 24,
    "start_time": "2022-12-22T12:45:43.051Z"
   },
   {
    "duration": 155,
    "start_time": "2022-12-22T12:45:43.077Z"
   },
   {
    "duration": 0,
    "start_time": "2022-12-22T12:45:43.234Z"
   },
   {
    "duration": 0,
    "start_time": "2022-12-22T12:45:43.236Z"
   },
   {
    "duration": 0,
    "start_time": "2022-12-22T12:45:43.237Z"
   },
   {
    "duration": 0,
    "start_time": "2022-12-22T12:45:43.238Z"
   },
   {
    "duration": 0,
    "start_time": "2022-12-22T12:45:43.240Z"
   },
   {
    "duration": 0,
    "start_time": "2022-12-22T12:45:43.241Z"
   },
   {
    "duration": 0,
    "start_time": "2022-12-22T12:45:43.243Z"
   },
   {
    "duration": 0,
    "start_time": "2022-12-22T12:45:43.245Z"
   },
   {
    "duration": 0,
    "start_time": "2022-12-22T12:45:43.246Z"
   },
   {
    "duration": 0,
    "start_time": "2022-12-22T12:45:43.248Z"
   },
   {
    "duration": 0,
    "start_time": "2022-12-22T12:45:43.249Z"
   },
   {
    "duration": 0,
    "start_time": "2022-12-22T12:45:43.250Z"
   },
   {
    "duration": 1,
    "start_time": "2022-12-22T12:45:43.283Z"
   },
   {
    "duration": 0,
    "start_time": "2022-12-22T12:45:43.285Z"
   },
   {
    "duration": 0,
    "start_time": "2022-12-22T12:45:43.285Z"
   },
   {
    "duration": 0,
    "start_time": "2022-12-22T12:45:43.287Z"
   },
   {
    "duration": 0,
    "start_time": "2022-12-22T12:45:43.288Z"
   },
   {
    "duration": 0,
    "start_time": "2022-12-22T12:45:43.289Z"
   },
   {
    "duration": 0,
    "start_time": "2022-12-22T12:45:43.290Z"
   },
   {
    "duration": 0,
    "start_time": "2022-12-22T12:45:43.291Z"
   },
   {
    "duration": 0,
    "start_time": "2022-12-22T12:45:43.292Z"
   },
   {
    "duration": 0,
    "start_time": "2022-12-22T12:45:43.293Z"
   },
   {
    "duration": 0,
    "start_time": "2022-12-22T12:45:43.294Z"
   },
   {
    "duration": 0,
    "start_time": "2022-12-22T12:45:43.296Z"
   },
   {
    "duration": 0,
    "start_time": "2022-12-22T12:45:43.297Z"
   },
   {
    "duration": 0,
    "start_time": "2022-12-22T12:45:43.299Z"
   },
   {
    "duration": 12,
    "start_time": "2022-12-22T12:49:20.317Z"
   },
   {
    "duration": 328,
    "start_time": "2022-12-22T12:49:29.170Z"
   },
   {
    "duration": 19,
    "start_time": "2022-12-22T12:49:59.716Z"
   },
   {
    "duration": 4697,
    "start_time": "2022-12-22T12:50:06.138Z"
   },
   {
    "duration": 62,
    "start_time": "2022-12-22T12:50:10.837Z"
   },
   {
    "duration": 25,
    "start_time": "2022-12-22T12:50:10.901Z"
   },
   {
    "duration": 22,
    "start_time": "2022-12-22T12:50:10.928Z"
   },
   {
    "duration": 23,
    "start_time": "2022-12-22T12:50:10.979Z"
   },
   {
    "duration": 9,
    "start_time": "2022-12-22T12:50:11.004Z"
   },
   {
    "duration": 7,
    "start_time": "2022-12-22T12:50:11.015Z"
   },
   {
    "duration": 18,
    "start_time": "2022-12-22T12:50:11.026Z"
   },
   {
    "duration": 5,
    "start_time": "2022-12-22T12:50:11.046Z"
   },
   {
    "duration": 37,
    "start_time": "2022-12-22T12:50:11.053Z"
   },
   {
    "duration": 21,
    "start_time": "2022-12-22T12:50:11.091Z"
   },
   {
    "duration": 14,
    "start_time": "2022-12-22T12:50:11.114Z"
   },
   {
    "duration": 27,
    "start_time": "2022-12-22T12:50:11.130Z"
   },
   {
    "duration": 34,
    "start_time": "2022-12-22T12:50:11.162Z"
   },
   {
    "duration": 23,
    "start_time": "2022-12-22T12:50:11.199Z"
   },
   {
    "duration": 175,
    "start_time": "2022-12-22T12:50:11.224Z"
   },
   {
    "duration": 0,
    "start_time": "2022-12-22T12:50:11.402Z"
   },
   {
    "duration": 0,
    "start_time": "2022-12-22T12:50:11.403Z"
   },
   {
    "duration": 0,
    "start_time": "2022-12-22T12:50:11.405Z"
   },
   {
    "duration": 0,
    "start_time": "2022-12-22T12:50:11.406Z"
   },
   {
    "duration": 0,
    "start_time": "2022-12-22T12:50:11.408Z"
   },
   {
    "duration": 0,
    "start_time": "2022-12-22T12:50:11.409Z"
   },
   {
    "duration": 0,
    "start_time": "2022-12-22T12:50:11.410Z"
   },
   {
    "duration": 0,
    "start_time": "2022-12-22T12:50:11.411Z"
   },
   {
    "duration": 0,
    "start_time": "2022-12-22T12:50:11.412Z"
   },
   {
    "duration": 0,
    "start_time": "2022-12-22T12:50:11.414Z"
   },
   {
    "duration": 1,
    "start_time": "2022-12-22T12:50:11.415Z"
   },
   {
    "duration": 0,
    "start_time": "2022-12-22T12:50:11.417Z"
   },
   {
    "duration": 0,
    "start_time": "2022-12-22T12:50:11.418Z"
   },
   {
    "duration": 0,
    "start_time": "2022-12-22T12:50:11.419Z"
   },
   {
    "duration": 0,
    "start_time": "2022-12-22T12:50:11.421Z"
   },
   {
    "duration": 0,
    "start_time": "2022-12-22T12:50:11.423Z"
   },
   {
    "duration": 0,
    "start_time": "2022-12-22T12:50:11.424Z"
   },
   {
    "duration": 0,
    "start_time": "2022-12-22T12:50:11.425Z"
   },
   {
    "duration": 0,
    "start_time": "2022-12-22T12:50:11.427Z"
   },
   {
    "duration": 0,
    "start_time": "2022-12-22T12:50:11.428Z"
   },
   {
    "duration": 0,
    "start_time": "2022-12-22T12:50:11.429Z"
   },
   {
    "duration": 0,
    "start_time": "2022-12-22T12:50:11.430Z"
   },
   {
    "duration": 0,
    "start_time": "2022-12-22T12:50:11.481Z"
   },
   {
    "duration": 0,
    "start_time": "2022-12-22T12:50:11.482Z"
   },
   {
    "duration": 0,
    "start_time": "2022-12-22T12:50:11.483Z"
   },
   {
    "duration": 0,
    "start_time": "2022-12-22T12:50:11.484Z"
   },
   {
    "duration": 21,
    "start_time": "2022-12-22T12:52:45.024Z"
   },
   {
    "duration": 34,
    "start_time": "2022-12-22T12:54:03.762Z"
   },
   {
    "duration": 20,
    "start_time": "2022-12-22T12:54:08.093Z"
   },
   {
    "duration": 3828,
    "start_time": "2022-12-22T12:55:03.805Z"
   },
   {
    "duration": 63,
    "start_time": "2022-12-22T12:55:07.636Z"
   },
   {
    "duration": 23,
    "start_time": "2022-12-22T12:55:07.701Z"
   },
   {
    "duration": 19,
    "start_time": "2022-12-22T12:55:07.726Z"
   },
   {
    "duration": 45,
    "start_time": "2022-12-22T12:55:07.746Z"
   },
   {
    "duration": 7,
    "start_time": "2022-12-22T12:55:07.794Z"
   },
   {
    "duration": 10,
    "start_time": "2022-12-22T12:55:07.804Z"
   },
   {
    "duration": 20,
    "start_time": "2022-12-22T12:55:07.816Z"
   },
   {
    "duration": 5,
    "start_time": "2022-12-22T12:55:07.838Z"
   },
   {
    "duration": 22,
    "start_time": "2022-12-22T12:55:07.846Z"
   },
   {
    "duration": 38,
    "start_time": "2022-12-22T12:55:07.869Z"
   },
   {
    "duration": 21,
    "start_time": "2022-12-22T12:55:07.908Z"
   },
   {
    "duration": 9,
    "start_time": "2022-12-22T12:55:07.931Z"
   },
   {
    "duration": 58,
    "start_time": "2022-12-22T12:55:07.941Z"
   },
   {
    "duration": 21,
    "start_time": "2022-12-22T12:55:08.001Z"
   },
   {
    "duration": 20,
    "start_time": "2022-12-22T12:55:08.024Z"
   },
   {
    "duration": 179,
    "start_time": "2022-12-22T12:55:08.047Z"
   },
   {
    "duration": 0,
    "start_time": "2022-12-22T12:55:08.231Z"
   },
   {
    "duration": 0,
    "start_time": "2022-12-22T12:55:08.232Z"
   },
   {
    "duration": 0,
    "start_time": "2022-12-22T12:55:08.240Z"
   },
   {
    "duration": 0,
    "start_time": "2022-12-22T12:55:08.241Z"
   },
   {
    "duration": 0,
    "start_time": "2022-12-22T12:55:08.243Z"
   },
   {
    "duration": 0,
    "start_time": "2022-12-22T12:55:08.244Z"
   },
   {
    "duration": 0,
    "start_time": "2022-12-22T12:55:08.245Z"
   },
   {
    "duration": 0,
    "start_time": "2022-12-22T12:55:08.247Z"
   },
   {
    "duration": 0,
    "start_time": "2022-12-22T12:55:08.249Z"
   },
   {
    "duration": 0,
    "start_time": "2022-12-22T12:55:08.251Z"
   },
   {
    "duration": 0,
    "start_time": "2022-12-22T12:55:08.252Z"
   },
   {
    "duration": 0,
    "start_time": "2022-12-22T12:55:08.253Z"
   },
   {
    "duration": 0,
    "start_time": "2022-12-22T12:55:08.255Z"
   },
   {
    "duration": 0,
    "start_time": "2022-12-22T12:55:08.280Z"
   },
   {
    "duration": 0,
    "start_time": "2022-12-22T12:55:08.281Z"
   },
   {
    "duration": 0,
    "start_time": "2022-12-22T12:55:08.282Z"
   },
   {
    "duration": 0,
    "start_time": "2022-12-22T12:55:08.282Z"
   },
   {
    "duration": 0,
    "start_time": "2022-12-22T12:55:08.283Z"
   },
   {
    "duration": 0,
    "start_time": "2022-12-22T12:55:08.284Z"
   },
   {
    "duration": 0,
    "start_time": "2022-12-22T12:55:08.285Z"
   },
   {
    "duration": 0,
    "start_time": "2022-12-22T12:55:08.287Z"
   },
   {
    "duration": 0,
    "start_time": "2022-12-22T12:55:08.288Z"
   },
   {
    "duration": 0,
    "start_time": "2022-12-22T12:55:08.289Z"
   },
   {
    "duration": 0,
    "start_time": "2022-12-22T12:55:08.290Z"
   },
   {
    "duration": 0,
    "start_time": "2022-12-22T12:55:08.292Z"
   },
   {
    "duration": 0,
    "start_time": "2022-12-22T12:55:08.294Z"
   },
   {
    "duration": 6,
    "start_time": "2022-12-22T12:58:30.470Z"
   },
   {
    "duration": 5,
    "start_time": "2022-12-22T12:58:57.798Z"
   },
   {
    "duration": 24,
    "start_time": "2022-12-22T12:59:03.126Z"
   },
   {
    "duration": 26,
    "start_time": "2022-12-22T12:59:11.927Z"
   },
   {
    "duration": 51,
    "start_time": "2022-12-22T12:59:18.255Z"
   },
   {
    "duration": 6,
    "start_time": "2022-12-22T12:59:28.533Z"
   },
   {
    "duration": 40,
    "start_time": "2022-12-22T12:59:40.504Z"
   },
   {
    "duration": 11,
    "start_time": "2022-12-22T13:00:02.237Z"
   },
   {
    "duration": 14,
    "start_time": "2022-12-22T13:00:19.993Z"
   },
   {
    "duration": 78,
    "start_time": "2022-12-22T13:00:44.591Z"
   },
   {
    "duration": 5639,
    "start_time": "2022-12-22T13:01:07.058Z"
   },
   {
    "duration": 61,
    "start_time": "2022-12-22T13:01:12.700Z"
   },
   {
    "duration": 37,
    "start_time": "2022-12-22T13:01:12.763Z"
   },
   {
    "duration": 45,
    "start_time": "2022-12-22T13:01:12.802Z"
   },
   {
    "duration": 48,
    "start_time": "2022-12-22T13:01:12.849Z"
   },
   {
    "duration": 71,
    "start_time": "2022-12-22T13:01:12.899Z"
   },
   {
    "duration": 57,
    "start_time": "2022-12-22T13:01:12.972Z"
   },
   {
    "duration": 82,
    "start_time": "2022-12-22T13:01:13.031Z"
   },
   {
    "duration": 107,
    "start_time": "2022-12-22T13:01:13.115Z"
   },
   {
    "duration": 134,
    "start_time": "2022-12-22T13:01:13.225Z"
   },
   {
    "duration": 79,
    "start_time": "2022-12-22T13:01:13.361Z"
   },
   {
    "duration": 114,
    "start_time": "2022-12-22T13:01:13.444Z"
   },
   {
    "duration": 154,
    "start_time": "2022-12-22T13:01:13.560Z"
   },
   {
    "duration": 133,
    "start_time": "2022-12-22T13:01:13.716Z"
   },
   {
    "duration": 209,
    "start_time": "2022-12-22T13:01:13.851Z"
   },
   {
    "duration": 94,
    "start_time": "2022-12-22T13:01:14.063Z"
   },
   {
    "duration": 189,
    "start_time": "2022-12-22T13:01:14.159Z"
   },
   {
    "duration": 0,
    "start_time": "2022-12-22T13:01:14.351Z"
   },
   {
    "duration": 0,
    "start_time": "2022-12-22T13:01:14.352Z"
   },
   {
    "duration": 0,
    "start_time": "2022-12-22T13:01:14.354Z"
   },
   {
    "duration": 0,
    "start_time": "2022-12-22T13:01:14.355Z"
   },
   {
    "duration": 0,
    "start_time": "2022-12-22T13:01:14.356Z"
   },
   {
    "duration": 0,
    "start_time": "2022-12-22T13:01:14.357Z"
   },
   {
    "duration": 0,
    "start_time": "2022-12-22T13:01:14.358Z"
   },
   {
    "duration": 0,
    "start_time": "2022-12-22T13:01:14.360Z"
   },
   {
    "duration": 0,
    "start_time": "2022-12-22T13:01:14.361Z"
   },
   {
    "duration": 0,
    "start_time": "2022-12-22T13:01:14.362Z"
   },
   {
    "duration": 0,
    "start_time": "2022-12-22T13:01:14.362Z"
   },
   {
    "duration": 0,
    "start_time": "2022-12-22T13:01:14.379Z"
   },
   {
    "duration": 0,
    "start_time": "2022-12-22T13:01:14.380Z"
   },
   {
    "duration": 0,
    "start_time": "2022-12-22T13:01:14.381Z"
   },
   {
    "duration": 0,
    "start_time": "2022-12-22T13:01:14.381Z"
   },
   {
    "duration": 0,
    "start_time": "2022-12-22T13:01:14.382Z"
   },
   {
    "duration": 0,
    "start_time": "2022-12-22T13:01:14.383Z"
   },
   {
    "duration": 0,
    "start_time": "2022-12-22T13:01:14.390Z"
   },
   {
    "duration": 0,
    "start_time": "2022-12-22T13:01:14.398Z"
   },
   {
    "duration": 0,
    "start_time": "2022-12-22T13:01:14.400Z"
   },
   {
    "duration": 0,
    "start_time": "2022-12-22T13:01:14.401Z"
   },
   {
    "duration": 0,
    "start_time": "2022-12-22T13:01:14.402Z"
   },
   {
    "duration": 0,
    "start_time": "2022-12-22T13:01:14.403Z"
   },
   {
    "duration": 1,
    "start_time": "2022-12-22T13:01:14.404Z"
   },
   {
    "duration": 0,
    "start_time": "2022-12-22T13:01:14.406Z"
   },
   {
    "duration": 0,
    "start_time": "2022-12-22T13:01:14.407Z"
   },
   {
    "duration": 3537,
    "start_time": "2022-12-22T13:06:03.731Z"
   },
   {
    "duration": 60,
    "start_time": "2022-12-22T13:06:07.270Z"
   },
   {
    "duration": 21,
    "start_time": "2022-12-22T13:06:07.332Z"
   },
   {
    "duration": 28,
    "start_time": "2022-12-22T13:06:07.355Z"
   },
   {
    "duration": 7,
    "start_time": "2022-12-22T13:06:07.384Z"
   },
   {
    "duration": 27,
    "start_time": "2022-12-22T13:06:07.393Z"
   },
   {
    "duration": 25,
    "start_time": "2022-12-22T13:06:07.422Z"
   },
   {
    "duration": 33,
    "start_time": "2022-12-22T13:06:07.450Z"
   },
   {
    "duration": 19,
    "start_time": "2022-12-22T13:06:07.485Z"
   },
   {
    "duration": 35,
    "start_time": "2022-12-22T13:06:07.507Z"
   },
   {
    "duration": 64,
    "start_time": "2022-12-22T13:06:07.543Z"
   },
   {
    "duration": 28,
    "start_time": "2022-12-22T13:06:07.609Z"
   },
   {
    "duration": 42,
    "start_time": "2022-12-22T13:06:07.640Z"
   },
   {
    "duration": 40,
    "start_time": "2022-12-22T13:06:07.684Z"
   },
   {
    "duration": 48,
    "start_time": "2022-12-22T13:06:07.727Z"
   },
   {
    "duration": 20,
    "start_time": "2022-12-22T13:06:07.778Z"
   },
   {
    "duration": 31,
    "start_time": "2022-12-22T13:06:07.800Z"
   },
   {
    "duration": 179,
    "start_time": "2022-12-22T13:06:07.833Z"
   },
   {
    "duration": 0,
    "start_time": "2022-12-22T13:06:08.014Z"
   },
   {
    "duration": 0,
    "start_time": "2022-12-22T13:06:08.016Z"
   },
   {
    "duration": 0,
    "start_time": "2022-12-22T13:06:08.017Z"
   },
   {
    "duration": 0,
    "start_time": "2022-12-22T13:06:08.019Z"
   },
   {
    "duration": 0,
    "start_time": "2022-12-22T13:06:08.020Z"
   },
   {
    "duration": 0,
    "start_time": "2022-12-22T13:06:08.021Z"
   },
   {
    "duration": 0,
    "start_time": "2022-12-22T13:06:08.023Z"
   },
   {
    "duration": 0,
    "start_time": "2022-12-22T13:06:08.024Z"
   },
   {
    "duration": 0,
    "start_time": "2022-12-22T13:06:08.025Z"
   },
   {
    "duration": 0,
    "start_time": "2022-12-22T13:06:08.027Z"
   },
   {
    "duration": 0,
    "start_time": "2022-12-22T13:06:08.028Z"
   },
   {
    "duration": 0,
    "start_time": "2022-12-22T13:06:08.030Z"
   },
   {
    "duration": 0,
    "start_time": "2022-12-22T13:06:08.031Z"
   },
   {
    "duration": 0,
    "start_time": "2022-12-22T13:06:08.032Z"
   },
   {
    "duration": 0,
    "start_time": "2022-12-22T13:06:08.035Z"
   },
   {
    "duration": 0,
    "start_time": "2022-12-22T13:06:08.036Z"
   },
   {
    "duration": 0,
    "start_time": "2022-12-22T13:06:08.078Z"
   },
   {
    "duration": 0,
    "start_time": "2022-12-22T13:06:08.080Z"
   },
   {
    "duration": 0,
    "start_time": "2022-12-22T13:06:08.082Z"
   },
   {
    "duration": 0,
    "start_time": "2022-12-22T13:06:08.084Z"
   },
   {
    "duration": 0,
    "start_time": "2022-12-22T13:06:08.086Z"
   },
   {
    "duration": 0,
    "start_time": "2022-12-22T13:06:08.087Z"
   },
   {
    "duration": 0,
    "start_time": "2022-12-22T13:06:08.089Z"
   },
   {
    "duration": 0,
    "start_time": "2022-12-22T13:06:08.091Z"
   },
   {
    "duration": 0,
    "start_time": "2022-12-22T13:06:08.092Z"
   },
   {
    "duration": 0,
    "start_time": "2022-12-22T13:06:08.093Z"
   },
   {
    "duration": 10,
    "start_time": "2022-12-22T13:29:03.496Z"
   },
   {
    "duration": 4,
    "start_time": "2022-12-22T13:29:05.403Z"
   },
   {
    "duration": 39,
    "start_time": "2022-12-22T13:29:08.419Z"
   },
   {
    "duration": 3,
    "start_time": "2022-12-22T13:29:38.758Z"
   },
   {
    "duration": 4780,
    "start_time": "2022-12-22T13:30:12.034Z"
   },
   {
    "duration": 58,
    "start_time": "2022-12-22T13:30:16.816Z"
   },
   {
    "duration": 21,
    "start_time": "2022-12-22T13:30:16.876Z"
   },
   {
    "duration": 18,
    "start_time": "2022-12-22T13:30:16.898Z"
   },
   {
    "duration": 6,
    "start_time": "2022-12-22T13:30:16.918Z"
   },
   {
    "duration": 13,
    "start_time": "2022-12-22T13:30:16.926Z"
   },
   {
    "duration": 10,
    "start_time": "2022-12-22T13:30:16.941Z"
   },
   {
    "duration": 35,
    "start_time": "2022-12-22T13:30:16.952Z"
   },
   {
    "duration": 5,
    "start_time": "2022-12-22T13:30:16.989Z"
   },
   {
    "duration": 6,
    "start_time": "2022-12-22T13:30:16.996Z"
   },
   {
    "duration": 75,
    "start_time": "2022-12-22T13:30:17.004Z"
   },
   {
    "duration": 3,
    "start_time": "2022-12-22T13:30:17.081Z"
   },
   {
    "duration": 140,
    "start_time": "2022-12-22T13:30:17.086Z"
   },
   {
    "duration": 0,
    "start_time": "2022-12-22T13:30:17.228Z"
   },
   {
    "duration": 0,
    "start_time": "2022-12-22T13:30:17.230Z"
   },
   {
    "duration": 0,
    "start_time": "2022-12-22T13:30:17.231Z"
   },
   {
    "duration": 0,
    "start_time": "2022-12-22T13:30:17.233Z"
   },
   {
    "duration": 0,
    "start_time": "2022-12-22T13:30:17.234Z"
   },
   {
    "duration": 0,
    "start_time": "2022-12-22T13:30:17.236Z"
   },
   {
    "duration": 0,
    "start_time": "2022-12-22T13:30:17.237Z"
   },
   {
    "duration": 0,
    "start_time": "2022-12-22T13:30:17.238Z"
   },
   {
    "duration": 0,
    "start_time": "2022-12-22T13:30:17.240Z"
   },
   {
    "duration": 0,
    "start_time": "2022-12-22T13:30:17.241Z"
   },
   {
    "duration": 0,
    "start_time": "2022-12-22T13:30:17.242Z"
   },
   {
    "duration": 0,
    "start_time": "2022-12-22T13:30:17.244Z"
   },
   {
    "duration": 0,
    "start_time": "2022-12-22T13:30:17.245Z"
   },
   {
    "duration": 0,
    "start_time": "2022-12-22T13:30:17.245Z"
   },
   {
    "duration": 0,
    "start_time": "2022-12-22T13:30:17.278Z"
   },
   {
    "duration": 0,
    "start_time": "2022-12-22T13:30:17.279Z"
   },
   {
    "duration": 0,
    "start_time": "2022-12-22T13:30:17.280Z"
   },
   {
    "duration": 0,
    "start_time": "2022-12-22T13:30:17.282Z"
   },
   {
    "duration": 0,
    "start_time": "2022-12-22T13:30:17.283Z"
   },
   {
    "duration": 0,
    "start_time": "2022-12-22T13:30:17.284Z"
   },
   {
    "duration": 0,
    "start_time": "2022-12-22T13:30:17.286Z"
   },
   {
    "duration": 0,
    "start_time": "2022-12-22T13:30:17.287Z"
   },
   {
    "duration": 0,
    "start_time": "2022-12-22T13:30:17.288Z"
   },
   {
    "duration": 1,
    "start_time": "2022-12-22T13:30:17.289Z"
   },
   {
    "duration": 0,
    "start_time": "2022-12-22T13:30:17.291Z"
   },
   {
    "duration": 0,
    "start_time": "2022-12-22T13:30:17.292Z"
   },
   {
    "duration": 0,
    "start_time": "2022-12-22T13:30:17.293Z"
   },
   {
    "duration": 0,
    "start_time": "2022-12-22T13:30:17.294Z"
   },
   {
    "duration": 0,
    "start_time": "2022-12-22T13:30:17.295Z"
   },
   {
    "duration": 0,
    "start_time": "2022-12-22T13:30:17.296Z"
   },
   {
    "duration": 0,
    "start_time": "2022-12-22T13:30:17.298Z"
   },
   {
    "duration": 4,
    "start_time": "2022-12-22T13:30:40.302Z"
   },
   {
    "duration": 30,
    "start_time": "2022-12-22T13:30:40.878Z"
   },
   {
    "duration": 3503,
    "start_time": "2022-12-22T17:04:52.444Z"
   },
   {
    "duration": 57,
    "start_time": "2022-12-22T17:04:55.949Z"
   },
   {
    "duration": 23,
    "start_time": "2022-12-22T17:04:56.008Z"
   },
   {
    "duration": 20,
    "start_time": "2022-12-22T17:04:56.034Z"
   },
   {
    "duration": 26,
    "start_time": "2022-12-22T17:04:56.055Z"
   },
   {
    "duration": 8,
    "start_time": "2022-12-22T17:04:56.083Z"
   },
   {
    "duration": 7,
    "start_time": "2022-12-22T17:04:56.092Z"
   },
   {
    "duration": 16,
    "start_time": "2022-12-22T17:04:56.101Z"
   },
   {
    "duration": 7,
    "start_time": "2022-12-22T17:04:56.119Z"
   },
   {
    "duration": 4,
    "start_time": "2022-12-22T17:04:56.129Z"
   },
   {
    "duration": 82,
    "start_time": "2022-12-22T17:04:56.135Z"
   },
   {
    "duration": 5,
    "start_time": "2022-12-22T17:04:56.219Z"
   },
   {
    "duration": 31,
    "start_time": "2022-12-22T17:04:56.225Z"
   },
   {
    "duration": 12,
    "start_time": "2022-12-22T17:04:56.278Z"
   },
   {
    "duration": 61,
    "start_time": "2022-12-22T17:04:56.291Z"
   },
   {
    "duration": 18,
    "start_time": "2022-12-22T17:04:56.353Z"
   },
   {
    "duration": 18,
    "start_time": "2022-12-22T17:04:56.373Z"
   },
   {
    "duration": 147,
    "start_time": "2022-12-22T17:04:56.393Z"
   },
   {
    "duration": 0,
    "start_time": "2022-12-22T17:04:56.543Z"
   },
   {
    "duration": 0,
    "start_time": "2022-12-22T17:04:56.544Z"
   },
   {
    "duration": 0,
    "start_time": "2022-12-22T17:04:56.545Z"
   },
   {
    "duration": 0,
    "start_time": "2022-12-22T17:04:56.547Z"
   },
   {
    "duration": 0,
    "start_time": "2022-12-22T17:04:56.548Z"
   },
   {
    "duration": 0,
    "start_time": "2022-12-22T17:04:56.549Z"
   },
   {
    "duration": 0,
    "start_time": "2022-12-22T17:04:56.550Z"
   },
   {
    "duration": 0,
    "start_time": "2022-12-22T17:04:56.551Z"
   },
   {
    "duration": 0,
    "start_time": "2022-12-22T17:04:56.552Z"
   },
   {
    "duration": 0,
    "start_time": "2022-12-22T17:04:56.553Z"
   },
   {
    "duration": 0,
    "start_time": "2022-12-22T17:04:56.555Z"
   },
   {
    "duration": 0,
    "start_time": "2022-12-22T17:04:56.556Z"
   },
   {
    "duration": 0,
    "start_time": "2022-12-22T17:04:56.578Z"
   },
   {
    "duration": 0,
    "start_time": "2022-12-22T17:04:56.579Z"
   },
   {
    "duration": 0,
    "start_time": "2022-12-22T17:04:56.581Z"
   },
   {
    "duration": 0,
    "start_time": "2022-12-22T17:04:56.582Z"
   },
   {
    "duration": 0,
    "start_time": "2022-12-22T17:04:56.583Z"
   },
   {
    "duration": 0,
    "start_time": "2022-12-22T17:04:56.584Z"
   },
   {
    "duration": 0,
    "start_time": "2022-12-22T17:04:56.585Z"
   },
   {
    "duration": 0,
    "start_time": "2022-12-22T17:04:56.586Z"
   },
   {
    "duration": 0,
    "start_time": "2022-12-22T17:04:56.587Z"
   },
   {
    "duration": 0,
    "start_time": "2022-12-22T17:04:56.588Z"
   },
   {
    "duration": 0,
    "start_time": "2022-12-22T17:04:56.589Z"
   },
   {
    "duration": 0,
    "start_time": "2022-12-22T17:04:56.590Z"
   },
   {
    "duration": 0,
    "start_time": "2022-12-22T17:04:56.591Z"
   },
   {
    "duration": 1,
    "start_time": "2022-12-22T17:04:56.592Z"
   },
   {
    "duration": 37,
    "start_time": "2022-12-22T17:06:39.919Z"
   },
   {
    "duration": 3444,
    "start_time": "2022-12-22T17:06:51.531Z"
   },
   {
    "duration": 57,
    "start_time": "2022-12-22T17:06:54.977Z"
   },
   {
    "duration": 22,
    "start_time": "2022-12-22T17:06:55.036Z"
   },
   {
    "duration": 33,
    "start_time": "2022-12-22T17:06:55.060Z"
   },
   {
    "duration": 8,
    "start_time": "2022-12-22T17:06:55.094Z"
   },
   {
    "duration": 29,
    "start_time": "2022-12-22T17:06:55.103Z"
   },
   {
    "duration": 38,
    "start_time": "2022-12-22T17:06:55.134Z"
   },
   {
    "duration": 36,
    "start_time": "2022-12-22T17:06:55.174Z"
   },
   {
    "duration": 32,
    "start_time": "2022-12-22T17:06:55.212Z"
   },
   {
    "duration": 16,
    "start_time": "2022-12-22T17:06:55.247Z"
   },
   {
    "duration": 79,
    "start_time": "2022-12-22T17:06:55.264Z"
   },
   {
    "duration": 3,
    "start_time": "2022-12-22T17:06:55.345Z"
   },
   {
    "duration": 82,
    "start_time": "2022-12-22T17:06:55.350Z"
   },
   {
    "duration": 8,
    "start_time": "2022-12-22T17:06:55.433Z"
   },
   {
    "duration": 31,
    "start_time": "2022-12-22T17:06:55.443Z"
   },
   {
    "duration": 26,
    "start_time": "2022-12-22T17:06:55.476Z"
   },
   {
    "duration": 47,
    "start_time": "2022-12-22T17:06:55.504Z"
   },
   {
    "duration": 134,
    "start_time": "2022-12-22T17:06:55.552Z"
   },
   {
    "duration": 0,
    "start_time": "2022-12-22T17:06:55.688Z"
   },
   {
    "duration": 0,
    "start_time": "2022-12-22T17:06:55.689Z"
   },
   {
    "duration": 0,
    "start_time": "2022-12-22T17:06:55.690Z"
   },
   {
    "duration": 0,
    "start_time": "2022-12-22T17:06:55.691Z"
   },
   {
    "duration": 0,
    "start_time": "2022-12-22T17:06:55.692Z"
   },
   {
    "duration": 0,
    "start_time": "2022-12-22T17:06:55.693Z"
   },
   {
    "duration": 0,
    "start_time": "2022-12-22T17:06:55.694Z"
   },
   {
    "duration": 0,
    "start_time": "2022-12-22T17:06:55.694Z"
   },
   {
    "duration": 0,
    "start_time": "2022-12-22T17:06:55.695Z"
   },
   {
    "duration": 0,
    "start_time": "2022-12-22T17:06:55.696Z"
   },
   {
    "duration": 0,
    "start_time": "2022-12-22T17:06:55.697Z"
   },
   {
    "duration": 0,
    "start_time": "2022-12-22T17:06:55.698Z"
   },
   {
    "duration": 0,
    "start_time": "2022-12-22T17:06:55.699Z"
   },
   {
    "duration": 0,
    "start_time": "2022-12-22T17:06:55.700Z"
   },
   {
    "duration": 0,
    "start_time": "2022-12-22T17:06:55.701Z"
   },
   {
    "duration": 0,
    "start_time": "2022-12-22T17:06:55.702Z"
   },
   {
    "duration": 0,
    "start_time": "2022-12-22T17:06:55.703Z"
   },
   {
    "duration": 0,
    "start_time": "2022-12-22T17:06:55.704Z"
   },
   {
    "duration": 0,
    "start_time": "2022-12-22T17:06:55.705Z"
   },
   {
    "duration": 0,
    "start_time": "2022-12-22T17:06:55.706Z"
   },
   {
    "duration": 0,
    "start_time": "2022-12-22T17:06:55.707Z"
   },
   {
    "duration": 0,
    "start_time": "2022-12-22T17:06:55.708Z"
   },
   {
    "duration": 0,
    "start_time": "2022-12-22T17:06:55.709Z"
   },
   {
    "duration": 0,
    "start_time": "2022-12-22T17:06:55.710Z"
   },
   {
    "duration": 0,
    "start_time": "2022-12-22T17:06:55.711Z"
   },
   {
    "duration": 0,
    "start_time": "2022-12-22T17:06:55.712Z"
   },
   {
    "duration": 4,
    "start_time": "2022-12-22T17:08:49.826Z"
   },
   {
    "duration": 25,
    "start_time": "2022-12-22T17:08:52.009Z"
   },
   {
    "duration": 3467,
    "start_time": "2022-12-22T17:09:02.081Z"
   },
   {
    "duration": 55,
    "start_time": "2022-12-22T17:09:05.551Z"
   },
   {
    "duration": 24,
    "start_time": "2022-12-22T17:09:05.609Z"
   },
   {
    "duration": 43,
    "start_time": "2022-12-22T17:09:05.635Z"
   },
   {
    "duration": 7,
    "start_time": "2022-12-22T17:09:05.680Z"
   },
   {
    "duration": 15,
    "start_time": "2022-12-22T17:09:05.689Z"
   },
   {
    "duration": 6,
    "start_time": "2022-12-22T17:09:05.707Z"
   },
   {
    "duration": 16,
    "start_time": "2022-12-22T17:09:05.715Z"
   },
   {
    "duration": 4,
    "start_time": "2022-12-22T17:09:05.733Z"
   },
   {
    "duration": 7,
    "start_time": "2022-12-22T17:09:05.741Z"
   },
   {
    "duration": 62,
    "start_time": "2022-12-22T17:09:05.750Z"
   },
   {
    "duration": 4,
    "start_time": "2022-12-22T17:09:05.814Z"
   },
   {
    "duration": 168,
    "start_time": "2022-12-22T17:09:05.820Z"
   },
   {
    "duration": 0,
    "start_time": "2022-12-22T17:09:05.991Z"
   },
   {
    "duration": 0,
    "start_time": "2022-12-22T17:09:05.993Z"
   },
   {
    "duration": 0,
    "start_time": "2022-12-22T17:09:05.994Z"
   },
   {
    "duration": 0,
    "start_time": "2022-12-22T17:09:05.996Z"
   },
   {
    "duration": 0,
    "start_time": "2022-12-22T17:09:05.997Z"
   },
   {
    "duration": 0,
    "start_time": "2022-12-22T17:09:05.999Z"
   },
   {
    "duration": 0,
    "start_time": "2022-12-22T17:09:06.000Z"
   },
   {
    "duration": 0,
    "start_time": "2022-12-22T17:09:06.002Z"
   },
   {
    "duration": 0,
    "start_time": "2022-12-22T17:09:06.003Z"
   },
   {
    "duration": 0,
    "start_time": "2022-12-22T17:09:06.005Z"
   },
   {
    "duration": 0,
    "start_time": "2022-12-22T17:09:06.006Z"
   },
   {
    "duration": 0,
    "start_time": "2022-12-22T17:09:06.007Z"
   },
   {
    "duration": 0,
    "start_time": "2022-12-22T17:09:06.009Z"
   },
   {
    "duration": 0,
    "start_time": "2022-12-22T17:09:06.010Z"
   },
   {
    "duration": 0,
    "start_time": "2022-12-22T17:09:06.011Z"
   },
   {
    "duration": 0,
    "start_time": "2022-12-22T17:09:06.013Z"
   },
   {
    "duration": 0,
    "start_time": "2022-12-22T17:09:06.015Z"
   },
   {
    "duration": 0,
    "start_time": "2022-12-22T17:09:06.016Z"
   },
   {
    "duration": 0,
    "start_time": "2022-12-22T17:09:06.018Z"
   },
   {
    "duration": 0,
    "start_time": "2022-12-22T17:09:06.019Z"
   },
   {
    "duration": 0,
    "start_time": "2022-12-22T17:09:06.020Z"
   },
   {
    "duration": 0,
    "start_time": "2022-12-22T17:09:06.022Z"
   },
   {
    "duration": 0,
    "start_time": "2022-12-22T17:09:06.023Z"
   },
   {
    "duration": 0,
    "start_time": "2022-12-22T17:09:06.025Z"
   },
   {
    "duration": 0,
    "start_time": "2022-12-22T17:09:06.078Z"
   },
   {
    "duration": 0,
    "start_time": "2022-12-22T17:09:06.080Z"
   },
   {
    "duration": 0,
    "start_time": "2022-12-22T17:09:06.081Z"
   },
   {
    "duration": 0,
    "start_time": "2022-12-22T17:09:06.083Z"
   },
   {
    "duration": 0,
    "start_time": "2022-12-22T17:09:06.084Z"
   },
   {
    "duration": 0,
    "start_time": "2022-12-22T17:09:06.086Z"
   },
   {
    "duration": 0,
    "start_time": "2022-12-22T17:09:06.087Z"
   },
   {
    "duration": 17,
    "start_time": "2022-12-22T17:09:24.800Z"
   },
   {
    "duration": 3443,
    "start_time": "2022-12-22T17:09:36.996Z"
   },
   {
    "duration": 58,
    "start_time": "2022-12-22T17:09:40.441Z"
   },
   {
    "duration": 20,
    "start_time": "2022-12-22T17:09:40.501Z"
   },
   {
    "duration": 18,
    "start_time": "2022-12-22T17:09:40.522Z"
   },
   {
    "duration": 19,
    "start_time": "2022-12-22T17:09:40.542Z"
   },
   {
    "duration": 15,
    "start_time": "2022-12-22T17:09:40.563Z"
   },
   {
    "duration": 31,
    "start_time": "2022-12-22T17:09:40.579Z"
   },
   {
    "duration": 18,
    "start_time": "2022-12-22T17:09:40.611Z"
   },
   {
    "duration": 27,
    "start_time": "2022-12-22T17:09:40.631Z"
   },
   {
    "duration": 22,
    "start_time": "2022-12-22T17:09:40.659Z"
   },
   {
    "duration": 75,
    "start_time": "2022-12-22T17:09:40.683Z"
   },
   {
    "duration": 3,
    "start_time": "2022-12-22T17:09:40.760Z"
   },
   {
    "duration": 63,
    "start_time": "2022-12-22T17:09:40.764Z"
   },
   {
    "duration": 17,
    "start_time": "2022-12-22T17:09:40.830Z"
   },
   {
    "duration": 37,
    "start_time": "2022-12-22T17:09:40.848Z"
   },
   {
    "duration": 21,
    "start_time": "2022-12-22T17:09:40.887Z"
   },
   {
    "duration": 25,
    "start_time": "2022-12-22T17:09:40.910Z"
   },
   {
    "duration": 159,
    "start_time": "2022-12-22T17:09:40.937Z"
   },
   {
    "duration": 0,
    "start_time": "2022-12-22T17:09:41.098Z"
   },
   {
    "duration": 0,
    "start_time": "2022-12-22T17:09:41.100Z"
   },
   {
    "duration": 0,
    "start_time": "2022-12-22T17:09:41.101Z"
   },
   {
    "duration": 0,
    "start_time": "2022-12-22T17:09:41.102Z"
   },
   {
    "duration": 0,
    "start_time": "2022-12-22T17:09:41.103Z"
   },
   {
    "duration": 0,
    "start_time": "2022-12-22T17:09:41.104Z"
   },
   {
    "duration": 0,
    "start_time": "2022-12-22T17:09:41.105Z"
   },
   {
    "duration": 0,
    "start_time": "2022-12-22T17:09:41.106Z"
   },
   {
    "duration": 0,
    "start_time": "2022-12-22T17:09:41.106Z"
   },
   {
    "duration": 0,
    "start_time": "2022-12-22T17:09:41.107Z"
   },
   {
    "duration": 0,
    "start_time": "2022-12-22T17:09:41.109Z"
   },
   {
    "duration": 0,
    "start_time": "2022-12-22T17:09:41.110Z"
   },
   {
    "duration": 0,
    "start_time": "2022-12-22T17:09:41.111Z"
   },
   {
    "duration": 0,
    "start_time": "2022-12-22T17:09:41.113Z"
   },
   {
    "duration": 0,
    "start_time": "2022-12-22T17:09:41.114Z"
   },
   {
    "duration": 0,
    "start_time": "2022-12-22T17:09:41.115Z"
   },
   {
    "duration": 0,
    "start_time": "2022-12-22T17:09:41.117Z"
   },
   {
    "duration": 0,
    "start_time": "2022-12-22T17:09:41.118Z"
   },
   {
    "duration": 0,
    "start_time": "2022-12-22T17:09:41.119Z"
   },
   {
    "duration": 0,
    "start_time": "2022-12-22T17:09:41.120Z"
   },
   {
    "duration": 0,
    "start_time": "2022-12-22T17:09:41.121Z"
   },
   {
    "duration": 0,
    "start_time": "2022-12-22T17:09:41.122Z"
   },
   {
    "duration": 0,
    "start_time": "2022-12-22T17:09:41.123Z"
   },
   {
    "duration": 0,
    "start_time": "2022-12-22T17:09:41.125Z"
   },
   {
    "duration": 0,
    "start_time": "2022-12-22T17:09:41.126Z"
   },
   {
    "duration": 0,
    "start_time": "2022-12-22T17:09:41.127Z"
   },
   {
    "duration": 3556,
    "start_time": "2022-12-22T17:12:02.564Z"
   },
   {
    "duration": 58,
    "start_time": "2022-12-22T17:12:06.124Z"
   },
   {
    "duration": 21,
    "start_time": "2022-12-22T17:12:06.183Z"
   },
   {
    "duration": 17,
    "start_time": "2022-12-22T17:12:06.205Z"
   },
   {
    "duration": 6,
    "start_time": "2022-12-22T17:12:06.224Z"
   },
   {
    "duration": 5,
    "start_time": "2022-12-22T17:12:06.231Z"
   },
   {
    "duration": 7,
    "start_time": "2022-12-22T17:12:06.237Z"
   },
   {
    "duration": 41,
    "start_time": "2022-12-22T17:12:06.246Z"
   },
   {
    "duration": 5,
    "start_time": "2022-12-22T17:12:06.288Z"
   },
   {
    "duration": 4,
    "start_time": "2022-12-22T17:12:06.294Z"
   },
   {
    "duration": 51,
    "start_time": "2022-12-22T17:12:06.300Z"
   },
   {
    "duration": 4,
    "start_time": "2022-12-22T17:12:06.378Z"
   },
   {
    "duration": 148,
    "start_time": "2022-12-22T17:12:06.384Z"
   },
   {
    "duration": 0,
    "start_time": "2022-12-22T17:12:06.535Z"
   },
   {
    "duration": 0,
    "start_time": "2022-12-22T17:12:06.536Z"
   },
   {
    "duration": 0,
    "start_time": "2022-12-22T17:12:06.537Z"
   },
   {
    "duration": 0,
    "start_time": "2022-12-22T17:12:06.538Z"
   },
   {
    "duration": 0,
    "start_time": "2022-12-22T17:12:06.539Z"
   },
   {
    "duration": 0,
    "start_time": "2022-12-22T17:12:06.540Z"
   },
   {
    "duration": 0,
    "start_time": "2022-12-22T17:12:06.541Z"
   },
   {
    "duration": 0,
    "start_time": "2022-12-22T17:12:06.542Z"
   },
   {
    "duration": 0,
    "start_time": "2022-12-22T17:12:06.543Z"
   },
   {
    "duration": 0,
    "start_time": "2022-12-22T17:12:06.544Z"
   },
   {
    "duration": 0,
    "start_time": "2022-12-22T17:12:06.545Z"
   },
   {
    "duration": 0,
    "start_time": "2022-12-22T17:12:06.546Z"
   },
   {
    "duration": 0,
    "start_time": "2022-12-22T17:12:06.547Z"
   },
   {
    "duration": 0,
    "start_time": "2022-12-22T17:12:06.548Z"
   },
   {
    "duration": 0,
    "start_time": "2022-12-22T17:12:06.577Z"
   },
   {
    "duration": 0,
    "start_time": "2022-12-22T17:12:06.579Z"
   },
   {
    "duration": 0,
    "start_time": "2022-12-22T17:12:06.580Z"
   },
   {
    "duration": 0,
    "start_time": "2022-12-22T17:12:06.581Z"
   },
   {
    "duration": 0,
    "start_time": "2022-12-22T17:12:06.582Z"
   },
   {
    "duration": 0,
    "start_time": "2022-12-22T17:12:06.583Z"
   },
   {
    "duration": 0,
    "start_time": "2022-12-22T17:12:06.584Z"
   },
   {
    "duration": 0,
    "start_time": "2022-12-22T17:12:06.585Z"
   },
   {
    "duration": 0,
    "start_time": "2022-12-22T17:12:06.586Z"
   },
   {
    "duration": 0,
    "start_time": "2022-12-22T17:12:06.587Z"
   },
   {
    "duration": 0,
    "start_time": "2022-12-22T17:12:06.588Z"
   },
   {
    "duration": 0,
    "start_time": "2022-12-22T17:12:06.589Z"
   },
   {
    "duration": 0,
    "start_time": "2022-12-22T17:12:06.590Z"
   },
   {
    "duration": 0,
    "start_time": "2022-12-22T17:12:06.591Z"
   },
   {
    "duration": 0,
    "start_time": "2022-12-22T17:12:06.592Z"
   },
   {
    "duration": 0,
    "start_time": "2022-12-22T17:12:06.593Z"
   },
   {
    "duration": 0,
    "start_time": "2022-12-22T17:12:06.594Z"
   },
   {
    "duration": 21,
    "start_time": "2022-12-22T17:13:53.731Z"
   },
   {
    "duration": 4469,
    "start_time": "2022-12-22T17:13:59.977Z"
   },
   {
    "duration": 58,
    "start_time": "2022-12-22T17:14:04.448Z"
   },
   {
    "duration": 22,
    "start_time": "2022-12-22T17:14:04.508Z"
   },
   {
    "duration": 24,
    "start_time": "2022-12-22T17:14:04.532Z"
   },
   {
    "duration": 22,
    "start_time": "2022-12-22T17:14:04.558Z"
   },
   {
    "duration": 3,
    "start_time": "2022-12-22T17:14:04.581Z"
   },
   {
    "duration": 8,
    "start_time": "2022-12-22T17:14:04.586Z"
   },
   {
    "duration": 13,
    "start_time": "2022-12-22T17:14:04.596Z"
   },
   {
    "duration": 4,
    "start_time": "2022-12-22T17:14:04.610Z"
   },
   {
    "duration": 5,
    "start_time": "2022-12-22T17:14:04.618Z"
   },
   {
    "duration": 77,
    "start_time": "2022-12-22T17:14:04.625Z"
   },
   {
    "duration": 4,
    "start_time": "2022-12-22T17:14:04.703Z"
   },
   {
    "duration": 17,
    "start_time": "2022-12-22T17:14:04.708Z"
   },
   {
    "duration": 9,
    "start_time": "2022-12-22T17:14:04.727Z"
   },
   {
    "duration": 46,
    "start_time": "2022-12-22T17:14:04.738Z"
   },
   {
    "duration": 19,
    "start_time": "2022-12-22T17:14:04.786Z"
   },
   {
    "duration": 20,
    "start_time": "2022-12-22T17:14:04.806Z"
   },
   {
    "duration": 182,
    "start_time": "2022-12-22T17:14:04.828Z"
   },
   {
    "duration": 0,
    "start_time": "2022-12-22T17:14:05.013Z"
   },
   {
    "duration": 0,
    "start_time": "2022-12-22T17:14:05.014Z"
   },
   {
    "duration": 0,
    "start_time": "2022-12-22T17:14:05.016Z"
   },
   {
    "duration": 0,
    "start_time": "2022-12-22T17:14:05.017Z"
   },
   {
    "duration": 0,
    "start_time": "2022-12-22T17:14:05.018Z"
   },
   {
    "duration": 0,
    "start_time": "2022-12-22T17:14:05.020Z"
   },
   {
    "duration": 0,
    "start_time": "2022-12-22T17:14:05.021Z"
   },
   {
    "duration": 0,
    "start_time": "2022-12-22T17:14:05.024Z"
   },
   {
    "duration": 0,
    "start_time": "2022-12-22T17:14:05.025Z"
   },
   {
    "duration": 0,
    "start_time": "2022-12-22T17:14:05.026Z"
   },
   {
    "duration": 0,
    "start_time": "2022-12-22T17:14:05.028Z"
   },
   {
    "duration": 0,
    "start_time": "2022-12-22T17:14:05.029Z"
   },
   {
    "duration": 0,
    "start_time": "2022-12-22T17:14:05.030Z"
   },
   {
    "duration": 0,
    "start_time": "2022-12-22T17:14:05.031Z"
   },
   {
    "duration": 0,
    "start_time": "2022-12-22T17:14:05.032Z"
   },
   {
    "duration": 0,
    "start_time": "2022-12-22T17:14:05.034Z"
   },
   {
    "duration": 0,
    "start_time": "2022-12-22T17:14:05.035Z"
   },
   {
    "duration": 0,
    "start_time": "2022-12-22T17:14:05.036Z"
   },
   {
    "duration": 0,
    "start_time": "2022-12-22T17:14:05.038Z"
   },
   {
    "duration": 0,
    "start_time": "2022-12-22T17:14:05.039Z"
   },
   {
    "duration": 0,
    "start_time": "2022-12-22T17:14:05.078Z"
   },
   {
    "duration": 0,
    "start_time": "2022-12-22T17:14:05.079Z"
   },
   {
    "duration": 0,
    "start_time": "2022-12-22T17:14:05.081Z"
   },
   {
    "duration": 0,
    "start_time": "2022-12-22T17:14:05.082Z"
   },
   {
    "duration": 0,
    "start_time": "2022-12-22T17:14:05.084Z"
   },
   {
    "duration": 0,
    "start_time": "2022-12-22T17:14:05.085Z"
   },
   {
    "duration": 22,
    "start_time": "2022-12-22T17:14:15.991Z"
   },
   {
    "duration": 4,
    "start_time": "2022-12-22T17:14:50.142Z"
   },
   {
    "duration": 25,
    "start_time": "2022-12-22T17:14:51.298Z"
   },
   {
    "duration": 4680,
    "start_time": "2022-12-22T17:15:02.590Z"
   },
   {
    "duration": 65,
    "start_time": "2022-12-22T17:15:07.272Z"
   },
   {
    "duration": 22,
    "start_time": "2022-12-22T17:15:07.339Z"
   },
   {
    "duration": 23,
    "start_time": "2022-12-22T17:15:07.363Z"
   },
   {
    "duration": 10,
    "start_time": "2022-12-22T17:15:07.389Z"
   },
   {
    "duration": 33,
    "start_time": "2022-12-22T17:15:07.401Z"
   },
   {
    "duration": 21,
    "start_time": "2022-12-22T17:15:07.436Z"
   },
   {
    "duration": 36,
    "start_time": "2022-12-22T17:15:07.458Z"
   },
   {
    "duration": 19,
    "start_time": "2022-12-22T17:15:07.496Z"
   },
   {
    "duration": 28,
    "start_time": "2022-12-22T17:15:07.518Z"
   },
   {
    "duration": 68,
    "start_time": "2022-12-22T17:15:07.548Z"
   },
   {
    "duration": 4,
    "start_time": "2022-12-22T17:15:07.617Z"
   },
   {
    "duration": 18,
    "start_time": "2022-12-22T17:15:07.622Z"
   },
   {
    "duration": 23,
    "start_time": "2022-12-22T17:15:07.641Z"
   },
   {
    "duration": 154,
    "start_time": "2022-12-22T17:15:07.665Z"
   },
   {
    "duration": 0,
    "start_time": "2022-12-22T17:15:07.821Z"
   },
   {
    "duration": 0,
    "start_time": "2022-12-22T17:15:07.822Z"
   },
   {
    "duration": 0,
    "start_time": "2022-12-22T17:15:07.823Z"
   },
   {
    "duration": 0,
    "start_time": "2022-12-22T17:15:07.824Z"
   },
   {
    "duration": 0,
    "start_time": "2022-12-22T17:15:07.825Z"
   },
   {
    "duration": 0,
    "start_time": "2022-12-22T17:15:07.826Z"
   },
   {
    "duration": 0,
    "start_time": "2022-12-22T17:15:07.828Z"
   },
   {
    "duration": 0,
    "start_time": "2022-12-22T17:15:07.829Z"
   },
   {
    "duration": 0,
    "start_time": "2022-12-22T17:15:07.831Z"
   },
   {
    "duration": 0,
    "start_time": "2022-12-22T17:15:07.832Z"
   },
   {
    "duration": 0,
    "start_time": "2022-12-22T17:15:07.833Z"
   },
   {
    "duration": 0,
    "start_time": "2022-12-22T17:15:07.834Z"
   },
   {
    "duration": 0,
    "start_time": "2022-12-22T17:15:07.835Z"
   },
   {
    "duration": 0,
    "start_time": "2022-12-22T17:15:07.836Z"
   },
   {
    "duration": 0,
    "start_time": "2022-12-22T17:15:07.838Z"
   },
   {
    "duration": 0,
    "start_time": "2022-12-22T17:15:07.839Z"
   },
   {
    "duration": 0,
    "start_time": "2022-12-22T17:15:07.840Z"
   },
   {
    "duration": 0,
    "start_time": "2022-12-22T17:15:07.841Z"
   },
   {
    "duration": 0,
    "start_time": "2022-12-22T17:15:07.842Z"
   },
   {
    "duration": 0,
    "start_time": "2022-12-22T17:15:07.878Z"
   },
   {
    "duration": 0,
    "start_time": "2022-12-22T17:15:07.880Z"
   },
   {
    "duration": 0,
    "start_time": "2022-12-22T17:15:07.881Z"
   },
   {
    "duration": 0,
    "start_time": "2022-12-22T17:15:07.883Z"
   },
   {
    "duration": 0,
    "start_time": "2022-12-22T17:15:07.884Z"
   },
   {
    "duration": 0,
    "start_time": "2022-12-22T17:15:07.885Z"
   },
   {
    "duration": 0,
    "start_time": "2022-12-22T17:15:07.886Z"
   },
   {
    "duration": 0,
    "start_time": "2022-12-22T17:15:07.888Z"
   },
   {
    "duration": 0,
    "start_time": "2022-12-22T17:15:07.889Z"
   },
   {
    "duration": 0,
    "start_time": "2022-12-22T17:15:07.890Z"
   },
   {
    "duration": 0,
    "start_time": "2022-12-22T17:15:07.892Z"
   },
   {
    "duration": 3,
    "start_time": "2022-12-22T17:15:12.541Z"
   },
   {
    "duration": 4,
    "start_time": "2022-12-22T17:15:21.023Z"
   },
   {
    "duration": 14,
    "start_time": "2022-12-22T17:15:27.545Z"
   },
   {
    "duration": 4966,
    "start_time": "2022-12-22T17:15:32.646Z"
   },
   {
    "duration": 57,
    "start_time": "2022-12-22T17:15:37.614Z"
   },
   {
    "duration": 24,
    "start_time": "2022-12-22T17:15:37.674Z"
   },
   {
    "duration": 18,
    "start_time": "2022-12-22T17:15:37.701Z"
   },
   {
    "duration": 7,
    "start_time": "2022-12-22T17:15:37.721Z"
   },
   {
    "duration": 5,
    "start_time": "2022-12-22T17:15:37.730Z"
   },
   {
    "duration": 43,
    "start_time": "2022-12-22T17:15:37.736Z"
   },
   {
    "duration": 24,
    "start_time": "2022-12-22T17:15:37.781Z"
   },
   {
    "duration": 6,
    "start_time": "2022-12-22T17:15:37.807Z"
   },
   {
    "duration": 7,
    "start_time": "2022-12-22T17:15:37.816Z"
   },
   {
    "duration": 80,
    "start_time": "2022-12-22T17:15:37.825Z"
   },
   {
    "duration": 5,
    "start_time": "2022-12-22T17:15:37.908Z"
   },
   {
    "duration": 19,
    "start_time": "2022-12-22T17:15:37.915Z"
   },
   {
    "duration": 22,
    "start_time": "2022-12-22T17:15:37.937Z"
   },
   {
    "duration": 12,
    "start_time": "2022-12-22T17:15:37.977Z"
   },
   {
    "duration": 33,
    "start_time": "2022-12-22T17:15:37.992Z"
   },
   {
    "duration": 50,
    "start_time": "2022-12-22T17:15:38.028Z"
   },
   {
    "duration": 29,
    "start_time": "2022-12-22T17:15:38.081Z"
   },
   {
    "duration": 247,
    "start_time": "2022-12-22T17:15:38.113Z"
   },
   {
    "duration": 0,
    "start_time": "2022-12-22T17:15:38.363Z"
   },
   {
    "duration": 0,
    "start_time": "2022-12-22T17:15:38.365Z"
   },
   {
    "duration": 0,
    "start_time": "2022-12-22T17:15:38.366Z"
   },
   {
    "duration": 0,
    "start_time": "2022-12-22T17:15:38.367Z"
   },
   {
    "duration": 0,
    "start_time": "2022-12-22T17:15:38.369Z"
   },
   {
    "duration": 0,
    "start_time": "2022-12-22T17:15:38.370Z"
   },
   {
    "duration": 0,
    "start_time": "2022-12-22T17:15:38.371Z"
   },
   {
    "duration": 0,
    "start_time": "2022-12-22T17:15:38.377Z"
   },
   {
    "duration": 0,
    "start_time": "2022-12-22T17:15:38.378Z"
   },
   {
    "duration": 0,
    "start_time": "2022-12-22T17:15:38.380Z"
   },
   {
    "duration": 0,
    "start_time": "2022-12-22T17:15:38.382Z"
   },
   {
    "duration": 0,
    "start_time": "2022-12-22T17:15:38.383Z"
   },
   {
    "duration": 0,
    "start_time": "2022-12-22T17:15:38.384Z"
   },
   {
    "duration": 0,
    "start_time": "2022-12-22T17:15:38.386Z"
   },
   {
    "duration": 0,
    "start_time": "2022-12-22T17:15:38.387Z"
   },
   {
    "duration": 0,
    "start_time": "2022-12-22T17:15:38.389Z"
   },
   {
    "duration": 0,
    "start_time": "2022-12-22T17:15:38.390Z"
   },
   {
    "duration": 0,
    "start_time": "2022-12-22T17:15:38.392Z"
   },
   {
    "duration": 0,
    "start_time": "2022-12-22T17:15:38.393Z"
   },
   {
    "duration": 0,
    "start_time": "2022-12-22T17:15:38.394Z"
   },
   {
    "duration": 0,
    "start_time": "2022-12-22T17:15:38.396Z"
   },
   {
    "duration": 0,
    "start_time": "2022-12-22T17:15:38.397Z"
   },
   {
    "duration": 0,
    "start_time": "2022-12-22T17:15:38.398Z"
   },
   {
    "duration": 0,
    "start_time": "2022-12-22T17:15:38.399Z"
   },
   {
    "duration": 0,
    "start_time": "2022-12-22T17:15:38.400Z"
   },
   {
    "duration": 0,
    "start_time": "2022-12-22T17:15:38.402Z"
   },
   {
    "duration": 3722,
    "start_time": "2022-12-22T17:15:55.170Z"
   },
   {
    "duration": 58,
    "start_time": "2022-12-22T17:15:58.895Z"
   },
   {
    "duration": 22,
    "start_time": "2022-12-22T17:15:58.956Z"
   },
   {
    "duration": 18,
    "start_time": "2022-12-22T17:15:58.981Z"
   },
   {
    "duration": 6,
    "start_time": "2022-12-22T17:15:59.001Z"
   },
   {
    "duration": 4,
    "start_time": "2022-12-22T17:15:59.009Z"
   },
   {
    "duration": 9,
    "start_time": "2022-12-22T17:15:59.015Z"
   },
   {
    "duration": 15,
    "start_time": "2022-12-22T17:15:59.025Z"
   },
   {
    "duration": 5,
    "start_time": "2022-12-22T17:15:59.041Z"
   },
   {
    "duration": 5,
    "start_time": "2022-12-22T17:15:59.077Z"
   },
   {
    "duration": 62,
    "start_time": "2022-12-22T17:15:59.084Z"
   },
   {
    "duration": 4,
    "start_time": "2022-12-22T17:15:59.147Z"
   },
   {
    "duration": 182,
    "start_time": "2022-12-22T17:15:59.153Z"
   },
   {
    "duration": 0,
    "start_time": "2022-12-22T17:15:59.338Z"
   },
   {
    "duration": 0,
    "start_time": "2022-12-22T17:15:59.339Z"
   },
   {
    "duration": 0,
    "start_time": "2022-12-22T17:15:59.341Z"
   },
   {
    "duration": 0,
    "start_time": "2022-12-22T17:15:59.343Z"
   },
   {
    "duration": 0,
    "start_time": "2022-12-22T17:15:59.345Z"
   },
   {
    "duration": 0,
    "start_time": "2022-12-22T17:15:59.346Z"
   },
   {
    "duration": 0,
    "start_time": "2022-12-22T17:15:59.348Z"
   },
   {
    "duration": 0,
    "start_time": "2022-12-22T17:15:59.350Z"
   },
   {
    "duration": 0,
    "start_time": "2022-12-22T17:15:59.377Z"
   },
   {
    "duration": 0,
    "start_time": "2022-12-22T17:15:59.379Z"
   },
   {
    "duration": 0,
    "start_time": "2022-12-22T17:15:59.381Z"
   },
   {
    "duration": 0,
    "start_time": "2022-12-22T17:15:59.382Z"
   },
   {
    "duration": 0,
    "start_time": "2022-12-22T17:15:59.384Z"
   },
   {
    "duration": 0,
    "start_time": "2022-12-22T17:15:59.386Z"
   },
   {
    "duration": 0,
    "start_time": "2022-12-22T17:15:59.387Z"
   },
   {
    "duration": 1,
    "start_time": "2022-12-22T17:15:59.388Z"
   },
   {
    "duration": 1,
    "start_time": "2022-12-22T17:15:59.390Z"
   },
   {
    "duration": 0,
    "start_time": "2022-12-22T17:15:59.392Z"
   },
   {
    "duration": 0,
    "start_time": "2022-12-22T17:15:59.394Z"
   },
   {
    "duration": 0,
    "start_time": "2022-12-22T17:15:59.395Z"
   },
   {
    "duration": 0,
    "start_time": "2022-12-22T17:15:59.396Z"
   },
   {
    "duration": 0,
    "start_time": "2022-12-22T17:15:59.398Z"
   },
   {
    "duration": 0,
    "start_time": "2022-12-22T17:15:59.399Z"
   },
   {
    "duration": 0,
    "start_time": "2022-12-22T17:15:59.401Z"
   },
   {
    "duration": 0,
    "start_time": "2022-12-22T17:15:59.403Z"
   },
   {
    "duration": 0,
    "start_time": "2022-12-22T17:15:59.404Z"
   },
   {
    "duration": 0,
    "start_time": "2022-12-22T17:15:59.406Z"
   },
   {
    "duration": 0,
    "start_time": "2022-12-22T17:15:59.407Z"
   },
   {
    "duration": 1,
    "start_time": "2022-12-22T17:15:59.408Z"
   },
   {
    "duration": 0,
    "start_time": "2022-12-22T17:15:59.410Z"
   },
   {
    "duration": 0,
    "start_time": "2022-12-22T17:15:59.412Z"
   },
   {
    "duration": 0,
    "start_time": "2022-12-22T17:15:59.414Z"
   },
   {
    "duration": 12,
    "start_time": "2022-12-22T17:17:10.991Z"
   },
   {
    "duration": 10,
    "start_time": "2022-12-22T17:17:24.158Z"
   },
   {
    "duration": 21,
    "start_time": "2022-12-22T17:17:24.801Z"
   },
   {
    "duration": 18,
    "start_time": "2022-12-22T17:17:25.399Z"
   },
   {
    "duration": 19,
    "start_time": "2022-12-22T17:17:28.811Z"
   },
   {
    "duration": 4066,
    "start_time": "2022-12-22T17:18:14.337Z"
   },
   {
    "duration": 102,
    "start_time": "2022-12-22T17:18:18.407Z"
   },
   {
    "duration": 84,
    "start_time": "2022-12-22T17:18:18.511Z"
   },
   {
    "duration": 21,
    "start_time": "2022-12-22T17:18:18.598Z"
   },
   {
    "duration": 58,
    "start_time": "2022-12-22T17:18:18.622Z"
   },
   {
    "duration": 22,
    "start_time": "2022-12-22T17:18:18.682Z"
   },
   {
    "duration": 73,
    "start_time": "2022-12-22T17:18:18.705Z"
   },
   {
    "duration": 32,
    "start_time": "2022-12-22T17:18:18.780Z"
   },
   {
    "duration": 19,
    "start_time": "2022-12-22T17:18:18.814Z"
   },
   {
    "duration": 42,
    "start_time": "2022-12-22T17:18:18.836Z"
   },
   {
    "duration": 128,
    "start_time": "2022-12-22T17:18:18.880Z"
   },
   {
    "duration": 4,
    "start_time": "2022-12-22T17:18:19.010Z"
   },
   {
    "duration": 80,
    "start_time": "2022-12-22T17:18:19.015Z"
   },
   {
    "duration": 36,
    "start_time": "2022-12-22T17:18:19.098Z"
   },
   {
    "duration": 46,
    "start_time": "2022-12-22T17:18:19.137Z"
   },
   {
    "duration": 44,
    "start_time": "2022-12-22T17:18:19.185Z"
   },
   {
    "duration": 22,
    "start_time": "2022-12-22T17:18:19.231Z"
   },
   {
    "duration": 39,
    "start_time": "2022-12-22T17:18:19.255Z"
   },
   {
    "duration": 152,
    "start_time": "2022-12-22T17:18:19.295Z"
   },
   {
    "duration": 0,
    "start_time": "2022-12-22T17:18:19.449Z"
   },
   {
    "duration": 0,
    "start_time": "2022-12-22T17:18:19.450Z"
   },
   {
    "duration": 0,
    "start_time": "2022-12-22T17:18:19.451Z"
   },
   {
    "duration": 0,
    "start_time": "2022-12-22T17:18:19.452Z"
   },
   {
    "duration": 0,
    "start_time": "2022-12-22T17:18:19.453Z"
   },
   {
    "duration": 0,
    "start_time": "2022-12-22T17:18:19.454Z"
   },
   {
    "duration": 0,
    "start_time": "2022-12-22T17:18:19.455Z"
   },
   {
    "duration": 0,
    "start_time": "2022-12-22T17:18:19.457Z"
   },
   {
    "duration": 0,
    "start_time": "2022-12-22T17:18:19.458Z"
   },
   {
    "duration": 0,
    "start_time": "2022-12-22T17:18:19.478Z"
   },
   {
    "duration": 0,
    "start_time": "2022-12-22T17:18:19.479Z"
   },
   {
    "duration": 0,
    "start_time": "2022-12-22T17:18:19.480Z"
   },
   {
    "duration": 0,
    "start_time": "2022-12-22T17:18:19.482Z"
   },
   {
    "duration": 0,
    "start_time": "2022-12-22T17:18:19.483Z"
   },
   {
    "duration": 0,
    "start_time": "2022-12-22T17:18:19.485Z"
   },
   {
    "duration": 0,
    "start_time": "2022-12-22T17:18:19.486Z"
   },
   {
    "duration": 0,
    "start_time": "2022-12-22T17:18:19.487Z"
   },
   {
    "duration": 0,
    "start_time": "2022-12-22T17:18:19.489Z"
   },
   {
    "duration": 0,
    "start_time": "2022-12-22T17:18:19.490Z"
   },
   {
    "duration": 0,
    "start_time": "2022-12-22T17:18:19.491Z"
   },
   {
    "duration": 0,
    "start_time": "2022-12-22T17:18:19.493Z"
   },
   {
    "duration": 0,
    "start_time": "2022-12-22T17:18:19.494Z"
   },
   {
    "duration": 0,
    "start_time": "2022-12-22T17:18:19.495Z"
   },
   {
    "duration": 0,
    "start_time": "2022-12-22T17:18:19.496Z"
   },
   {
    "duration": 0,
    "start_time": "2022-12-22T17:18:19.497Z"
   },
   {
    "duration": 0,
    "start_time": "2022-12-22T17:18:19.499Z"
   },
   {
    "duration": 21,
    "start_time": "2022-12-22T17:18:27.413Z"
   },
   {
    "duration": 26,
    "start_time": "2022-12-22T17:20:18.596Z"
   },
   {
    "duration": 20,
    "start_time": "2022-12-22T17:20:22.844Z"
   },
   {
    "duration": 3797,
    "start_time": "2022-12-22T17:20:36.981Z"
   },
   {
    "duration": 58,
    "start_time": "2022-12-22T17:20:40.780Z"
   },
   {
    "duration": 22,
    "start_time": "2022-12-22T17:20:40.841Z"
   },
   {
    "duration": 27,
    "start_time": "2022-12-22T17:20:40.865Z"
   },
   {
    "duration": 6,
    "start_time": "2022-12-22T17:20:40.894Z"
   },
   {
    "duration": 6,
    "start_time": "2022-12-22T17:20:40.902Z"
   },
   {
    "duration": 7,
    "start_time": "2022-12-22T17:20:40.910Z"
   },
   {
    "duration": 18,
    "start_time": "2022-12-22T17:20:40.919Z"
   },
   {
    "duration": 6,
    "start_time": "2022-12-22T17:20:40.939Z"
   },
   {
    "duration": 30,
    "start_time": "2022-12-22T17:20:40.949Z"
   },
   {
    "duration": 63,
    "start_time": "2022-12-22T17:20:40.981Z"
   },
   {
    "duration": 4,
    "start_time": "2022-12-22T17:20:41.046Z"
   },
   {
    "duration": 31,
    "start_time": "2022-12-22T17:20:41.051Z"
   },
   {
    "duration": 17,
    "start_time": "2022-12-22T17:20:41.084Z"
   },
   {
    "duration": 10,
    "start_time": "2022-12-22T17:20:41.102Z"
   },
   {
    "duration": 29,
    "start_time": "2022-12-22T17:20:41.114Z"
   },
   {
    "duration": 45,
    "start_time": "2022-12-22T17:20:41.144Z"
   },
   {
    "duration": 19,
    "start_time": "2022-12-22T17:20:41.190Z"
   },
   {
    "duration": 159,
    "start_time": "2022-12-22T17:20:41.212Z"
   },
   {
    "duration": 0,
    "start_time": "2022-12-22T17:20:41.373Z"
   },
   {
    "duration": 0,
    "start_time": "2022-12-22T17:20:41.378Z"
   },
   {
    "duration": 0,
    "start_time": "2022-12-22T17:20:41.380Z"
   },
   {
    "duration": 0,
    "start_time": "2022-12-22T17:20:41.381Z"
   },
   {
    "duration": 0,
    "start_time": "2022-12-22T17:20:41.383Z"
   },
   {
    "duration": 0,
    "start_time": "2022-12-22T17:20:41.385Z"
   },
   {
    "duration": 0,
    "start_time": "2022-12-22T17:20:41.387Z"
   },
   {
    "duration": 0,
    "start_time": "2022-12-22T17:20:41.388Z"
   },
   {
    "duration": 0,
    "start_time": "2022-12-22T17:20:41.389Z"
   },
   {
    "duration": 0,
    "start_time": "2022-12-22T17:20:41.390Z"
   },
   {
    "duration": 0,
    "start_time": "2022-12-22T17:20:41.391Z"
   },
   {
    "duration": 0,
    "start_time": "2022-12-22T17:20:41.393Z"
   },
   {
    "duration": 0,
    "start_time": "2022-12-22T17:20:41.394Z"
   },
   {
    "duration": 0,
    "start_time": "2022-12-22T17:20:41.395Z"
   },
   {
    "duration": 0,
    "start_time": "2022-12-22T17:20:41.396Z"
   },
   {
    "duration": 0,
    "start_time": "2022-12-22T17:20:41.397Z"
   },
   {
    "duration": 0,
    "start_time": "2022-12-22T17:20:41.398Z"
   },
   {
    "duration": 0,
    "start_time": "2022-12-22T17:20:41.400Z"
   },
   {
    "duration": 0,
    "start_time": "2022-12-22T17:20:41.401Z"
   },
   {
    "duration": 0,
    "start_time": "2022-12-22T17:20:41.402Z"
   },
   {
    "duration": 0,
    "start_time": "2022-12-22T17:20:41.404Z"
   },
   {
    "duration": 0,
    "start_time": "2022-12-22T17:20:41.405Z"
   },
   {
    "duration": 0,
    "start_time": "2022-12-22T17:20:41.406Z"
   },
   {
    "duration": 0,
    "start_time": "2022-12-22T17:20:41.407Z"
   },
   {
    "duration": 0,
    "start_time": "2022-12-22T17:20:41.409Z"
   },
   {
    "duration": 0,
    "start_time": "2022-12-22T17:20:41.410Z"
   },
   {
    "duration": 4,
    "start_time": "2022-12-22T17:21:39.505Z"
   },
   {
    "duration": 18,
    "start_time": "2022-12-22T17:21:40.080Z"
   },
   {
    "duration": 4851,
    "start_time": "2022-12-22T17:21:47.413Z"
   },
   {
    "duration": 58,
    "start_time": "2022-12-22T17:21:52.267Z"
   },
   {
    "duration": 25,
    "start_time": "2022-12-22T17:21:52.327Z"
   },
   {
    "duration": 26,
    "start_time": "2022-12-22T17:21:52.355Z"
   },
   {
    "duration": 8,
    "start_time": "2022-12-22T17:21:52.383Z"
   },
   {
    "duration": 9,
    "start_time": "2022-12-22T17:21:52.393Z"
   },
   {
    "duration": 10,
    "start_time": "2022-12-22T17:21:52.404Z"
   },
   {
    "duration": 20,
    "start_time": "2022-12-22T17:21:52.417Z"
   },
   {
    "duration": 5,
    "start_time": "2022-12-22T17:21:52.440Z"
   },
   {
    "duration": 31,
    "start_time": "2022-12-22T17:21:52.448Z"
   },
   {
    "duration": 75,
    "start_time": "2022-12-22T17:21:52.481Z"
   },
   {
    "duration": 4,
    "start_time": "2022-12-22T17:21:52.558Z"
   },
   {
    "duration": 29,
    "start_time": "2022-12-22T17:21:52.564Z"
   },
   {
    "duration": 25,
    "start_time": "2022-12-22T17:21:52.596Z"
   },
   {
    "duration": 11,
    "start_time": "2022-12-22T17:21:52.623Z"
   },
   {
    "duration": 43,
    "start_time": "2022-12-22T17:21:52.636Z"
   },
   {
    "duration": 23,
    "start_time": "2022-12-22T17:21:52.681Z"
   },
   {
    "duration": 22,
    "start_time": "2022-12-22T17:21:52.706Z"
   },
   {
    "duration": 162,
    "start_time": "2022-12-22T17:21:52.730Z"
   },
   {
    "duration": 0,
    "start_time": "2022-12-22T17:21:52.895Z"
   },
   {
    "duration": 0,
    "start_time": "2022-12-22T17:21:52.897Z"
   },
   {
    "duration": 0,
    "start_time": "2022-12-22T17:21:52.899Z"
   },
   {
    "duration": 0,
    "start_time": "2022-12-22T17:21:52.901Z"
   },
   {
    "duration": 0,
    "start_time": "2022-12-22T17:21:52.902Z"
   },
   {
    "duration": 0,
    "start_time": "2022-12-22T17:21:52.904Z"
   },
   {
    "duration": 0,
    "start_time": "2022-12-22T17:21:52.905Z"
   },
   {
    "duration": 1,
    "start_time": "2022-12-22T17:21:52.906Z"
   },
   {
    "duration": 0,
    "start_time": "2022-12-22T17:21:52.908Z"
   },
   {
    "duration": 0,
    "start_time": "2022-12-22T17:21:52.909Z"
   },
   {
    "duration": 0,
    "start_time": "2022-12-22T17:21:52.911Z"
   },
   {
    "duration": 0,
    "start_time": "2022-12-22T17:21:52.914Z"
   },
   {
    "duration": 0,
    "start_time": "2022-12-22T17:21:52.915Z"
   },
   {
    "duration": 0,
    "start_time": "2022-12-22T17:21:52.917Z"
   },
   {
    "duration": 0,
    "start_time": "2022-12-22T17:21:52.918Z"
   },
   {
    "duration": 0,
    "start_time": "2022-12-22T17:21:52.919Z"
   },
   {
    "duration": 0,
    "start_time": "2022-12-22T17:21:52.920Z"
   },
   {
    "duration": 0,
    "start_time": "2022-12-22T17:21:52.921Z"
   },
   {
    "duration": 0,
    "start_time": "2022-12-22T17:21:52.923Z"
   },
   {
    "duration": 0,
    "start_time": "2022-12-22T17:21:52.929Z"
   },
   {
    "duration": 0,
    "start_time": "2022-12-22T17:21:52.977Z"
   },
   {
    "duration": 0,
    "start_time": "2022-12-22T17:21:52.979Z"
   },
   {
    "duration": 0,
    "start_time": "2022-12-22T17:21:52.980Z"
   },
   {
    "duration": 0,
    "start_time": "2022-12-22T17:21:52.981Z"
   },
   {
    "duration": 0,
    "start_time": "2022-12-22T17:21:52.983Z"
   },
   {
    "duration": 0,
    "start_time": "2022-12-22T17:21:52.984Z"
   },
   {
    "duration": 4,
    "start_time": "2022-12-22T17:22:07.318Z"
   },
   {
    "duration": 21,
    "start_time": "2022-12-22T17:22:08.812Z"
   },
   {
    "duration": 3563,
    "start_time": "2022-12-22T17:22:13.879Z"
   },
   {
    "duration": 56,
    "start_time": "2022-12-22T17:22:17.445Z"
   },
   {
    "duration": 19,
    "start_time": "2022-12-22T17:22:17.504Z"
   },
   {
    "duration": 17,
    "start_time": "2022-12-22T17:22:17.525Z"
   },
   {
    "duration": 38,
    "start_time": "2022-12-22T17:22:17.544Z"
   },
   {
    "duration": 8,
    "start_time": "2022-12-22T17:22:17.584Z"
   },
   {
    "duration": 8,
    "start_time": "2022-12-22T17:22:17.594Z"
   },
   {
    "duration": 21,
    "start_time": "2022-12-22T17:22:17.605Z"
   },
   {
    "duration": 4,
    "start_time": "2022-12-22T17:22:17.627Z"
   },
   {
    "duration": 7,
    "start_time": "2022-12-22T17:22:17.633Z"
   },
   {
    "duration": 75,
    "start_time": "2022-12-22T17:22:17.642Z"
   },
   {
    "duration": 4,
    "start_time": "2022-12-22T17:22:17.720Z"
   },
   {
    "duration": 59,
    "start_time": "2022-12-22T17:22:17.727Z"
   },
   {
    "duration": 24,
    "start_time": "2022-12-22T17:22:17.790Z"
   },
   {
    "duration": 15,
    "start_time": "2022-12-22T17:22:17.817Z"
   },
   {
    "duration": 58,
    "start_time": "2022-12-22T17:22:17.835Z"
   },
   {
    "duration": 23,
    "start_time": "2022-12-22T17:22:17.895Z"
   },
   {
    "duration": 18,
    "start_time": "2022-12-22T17:22:17.920Z"
   },
   {
    "duration": 264,
    "start_time": "2022-12-22T17:22:17.940Z"
   },
   {
    "duration": 0,
    "start_time": "2022-12-22T17:22:18.207Z"
   },
   {
    "duration": 0,
    "start_time": "2022-12-22T17:22:18.208Z"
   },
   {
    "duration": 0,
    "start_time": "2022-12-22T17:22:18.210Z"
   },
   {
    "duration": 0,
    "start_time": "2022-12-22T17:22:18.212Z"
   },
   {
    "duration": 0,
    "start_time": "2022-12-22T17:22:18.213Z"
   },
   {
    "duration": 0,
    "start_time": "2022-12-22T17:22:18.214Z"
   },
   {
    "duration": 0,
    "start_time": "2022-12-22T17:22:18.216Z"
   },
   {
    "duration": 0,
    "start_time": "2022-12-22T17:22:18.217Z"
   },
   {
    "duration": 0,
    "start_time": "2022-12-22T17:22:18.218Z"
   },
   {
    "duration": 0,
    "start_time": "2022-12-22T17:22:18.219Z"
   },
   {
    "duration": 0,
    "start_time": "2022-12-22T17:22:18.278Z"
   },
   {
    "duration": 0,
    "start_time": "2022-12-22T17:22:18.280Z"
   },
   {
    "duration": 0,
    "start_time": "2022-12-22T17:22:18.283Z"
   },
   {
    "duration": 0,
    "start_time": "2022-12-22T17:22:18.284Z"
   },
   {
    "duration": 0,
    "start_time": "2022-12-22T17:22:18.285Z"
   },
   {
    "duration": 0,
    "start_time": "2022-12-22T17:22:18.286Z"
   },
   {
    "duration": 0,
    "start_time": "2022-12-22T17:22:18.287Z"
   },
   {
    "duration": 0,
    "start_time": "2022-12-22T17:22:18.288Z"
   },
   {
    "duration": 0,
    "start_time": "2022-12-22T17:22:18.290Z"
   },
   {
    "duration": 0,
    "start_time": "2022-12-22T17:22:18.291Z"
   },
   {
    "duration": 0,
    "start_time": "2022-12-22T17:22:18.292Z"
   },
   {
    "duration": 0,
    "start_time": "2022-12-22T17:22:18.292Z"
   },
   {
    "duration": 0,
    "start_time": "2022-12-22T17:22:18.293Z"
   },
   {
    "duration": 0,
    "start_time": "2022-12-22T17:22:18.294Z"
   },
   {
    "duration": 0,
    "start_time": "2022-12-22T17:22:18.296Z"
   },
   {
    "duration": 0,
    "start_time": "2022-12-22T17:22:18.299Z"
   },
   {
    "duration": 5,
    "start_time": "2022-12-22T17:24:07.764Z"
   },
   {
    "duration": 19,
    "start_time": "2022-12-22T17:24:09.206Z"
   },
   {
    "duration": 4541,
    "start_time": "2022-12-22T17:24:16.755Z"
   },
   {
    "duration": 58,
    "start_time": "2022-12-22T17:24:21.298Z"
   },
   {
    "duration": 22,
    "start_time": "2022-12-22T17:24:21.358Z"
   },
   {
    "duration": 29,
    "start_time": "2022-12-22T17:24:21.382Z"
   },
   {
    "duration": 40,
    "start_time": "2022-12-22T17:24:21.412Z"
   },
   {
    "duration": 33,
    "start_time": "2022-12-22T17:24:21.453Z"
   },
   {
    "duration": 12,
    "start_time": "2022-12-22T17:24:21.488Z"
   },
   {
    "duration": 22,
    "start_time": "2022-12-22T17:24:21.502Z"
   },
   {
    "duration": 38,
    "start_time": "2022-12-22T17:24:21.526Z"
   },
   {
    "duration": 16,
    "start_time": "2022-12-22T17:24:21.568Z"
   },
   {
    "duration": 65,
    "start_time": "2022-12-22T17:24:21.586Z"
   },
   {
    "duration": 4,
    "start_time": "2022-12-22T17:24:21.653Z"
   },
   {
    "duration": 41,
    "start_time": "2022-12-22T17:24:21.658Z"
   },
   {
    "duration": 20,
    "start_time": "2022-12-22T17:24:21.701Z"
   },
   {
    "duration": 28,
    "start_time": "2022-12-22T17:24:21.723Z"
   },
   {
    "duration": 33,
    "start_time": "2022-12-22T17:24:21.752Z"
   },
   {
    "duration": 29,
    "start_time": "2022-12-22T17:24:21.786Z"
   },
   {
    "duration": 20,
    "start_time": "2022-12-22T17:24:21.817Z"
   },
   {
    "duration": 154,
    "start_time": "2022-12-22T17:24:21.839Z"
   },
   {
    "duration": 0,
    "start_time": "2022-12-22T17:24:21.995Z"
   },
   {
    "duration": 0,
    "start_time": "2022-12-22T17:24:21.996Z"
   },
   {
    "duration": 0,
    "start_time": "2022-12-22T17:24:21.997Z"
   },
   {
    "duration": 0,
    "start_time": "2022-12-22T17:24:21.998Z"
   },
   {
    "duration": 0,
    "start_time": "2022-12-22T17:24:21.999Z"
   },
   {
    "duration": 0,
    "start_time": "2022-12-22T17:24:22.001Z"
   },
   {
    "duration": 0,
    "start_time": "2022-12-22T17:24:22.001Z"
   },
   {
    "duration": 0,
    "start_time": "2022-12-22T17:24:22.002Z"
   },
   {
    "duration": 0,
    "start_time": "2022-12-22T17:24:22.004Z"
   },
   {
    "duration": 0,
    "start_time": "2022-12-22T17:24:22.005Z"
   },
   {
    "duration": 0,
    "start_time": "2022-12-22T17:24:22.006Z"
   },
   {
    "duration": 0,
    "start_time": "2022-12-22T17:24:22.007Z"
   },
   {
    "duration": 0,
    "start_time": "2022-12-22T17:24:22.008Z"
   },
   {
    "duration": 0,
    "start_time": "2022-12-22T17:24:22.009Z"
   },
   {
    "duration": 0,
    "start_time": "2022-12-22T17:24:22.010Z"
   },
   {
    "duration": 0,
    "start_time": "2022-12-22T17:24:22.011Z"
   },
   {
    "duration": 0,
    "start_time": "2022-12-22T17:24:22.013Z"
   },
   {
    "duration": 0,
    "start_time": "2022-12-22T17:24:22.014Z"
   },
   {
    "duration": 0,
    "start_time": "2022-12-22T17:24:22.015Z"
   },
   {
    "duration": 0,
    "start_time": "2022-12-22T17:24:22.016Z"
   },
   {
    "duration": 0,
    "start_time": "2022-12-22T17:24:22.017Z"
   },
   {
    "duration": 0,
    "start_time": "2022-12-22T17:24:22.018Z"
   },
   {
    "duration": 0,
    "start_time": "2022-12-22T17:24:22.019Z"
   },
   {
    "duration": 0,
    "start_time": "2022-12-22T17:24:22.020Z"
   },
   {
    "duration": 0,
    "start_time": "2022-12-22T17:24:22.021Z"
   },
   {
    "duration": 0,
    "start_time": "2022-12-22T17:24:22.022Z"
   },
   {
    "duration": 4,
    "start_time": "2022-12-22T17:25:00.689Z"
   },
   {
    "duration": 4088,
    "start_time": "2022-12-22T17:25:09.290Z"
   },
   {
    "duration": 97,
    "start_time": "2022-12-22T17:25:13.381Z"
   },
   {
    "duration": 25,
    "start_time": "2022-12-22T17:25:13.480Z"
   },
   {
    "duration": 223,
    "start_time": "2022-12-22T17:25:13.507Z"
   },
   {
    "duration": 49,
    "start_time": "2022-12-22T17:25:13.731Z"
   },
   {
    "duration": 31,
    "start_time": "2022-12-22T17:25:13.782Z"
   },
   {
    "duration": 33,
    "start_time": "2022-12-22T17:25:13.815Z"
   },
   {
    "duration": 58,
    "start_time": "2022-12-22T17:25:13.850Z"
   },
   {
    "duration": 26,
    "start_time": "2022-12-22T17:25:13.911Z"
   },
   {
    "duration": 26,
    "start_time": "2022-12-22T17:25:13.939Z"
   },
   {
    "duration": 95,
    "start_time": "2022-12-22T17:25:13.967Z"
   },
   {
    "duration": 5,
    "start_time": "2022-12-22T17:25:14.064Z"
   },
   {
    "duration": 71,
    "start_time": "2022-12-22T17:25:14.071Z"
   },
   {
    "duration": 19,
    "start_time": "2022-12-22T17:25:14.144Z"
   },
   {
    "duration": 42,
    "start_time": "2022-12-22T17:25:14.165Z"
   },
   {
    "duration": 69,
    "start_time": "2022-12-22T17:25:14.209Z"
   },
   {
    "duration": 47,
    "start_time": "2022-12-22T17:25:14.280Z"
   },
   {
    "duration": 43,
    "start_time": "2022-12-22T17:25:14.329Z"
   },
   {
    "duration": 154,
    "start_time": "2022-12-22T17:25:14.374Z"
   },
   {
    "duration": 0,
    "start_time": "2022-12-22T17:25:14.530Z"
   },
   {
    "duration": 0,
    "start_time": "2022-12-22T17:25:14.531Z"
   },
   {
    "duration": 0,
    "start_time": "2022-12-22T17:25:14.532Z"
   },
   {
    "duration": 0,
    "start_time": "2022-12-22T17:25:14.533Z"
   },
   {
    "duration": 0,
    "start_time": "2022-12-22T17:25:14.534Z"
   },
   {
    "duration": 0,
    "start_time": "2022-12-22T17:25:14.535Z"
   },
   {
    "duration": 0,
    "start_time": "2022-12-22T17:25:14.536Z"
   },
   {
    "duration": 0,
    "start_time": "2022-12-22T17:25:14.537Z"
   },
   {
    "duration": 0,
    "start_time": "2022-12-22T17:25:14.538Z"
   },
   {
    "duration": 0,
    "start_time": "2022-12-22T17:25:14.539Z"
   },
   {
    "duration": 0,
    "start_time": "2022-12-22T17:25:14.541Z"
   },
   {
    "duration": 0,
    "start_time": "2022-12-22T17:25:14.542Z"
   },
   {
    "duration": 0,
    "start_time": "2022-12-22T17:25:14.543Z"
   },
   {
    "duration": 0,
    "start_time": "2022-12-22T17:25:14.544Z"
   },
   {
    "duration": 0,
    "start_time": "2022-12-22T17:25:14.545Z"
   },
   {
    "duration": 0,
    "start_time": "2022-12-22T17:25:14.545Z"
   },
   {
    "duration": 0,
    "start_time": "2022-12-22T17:25:14.546Z"
   },
   {
    "duration": 0,
    "start_time": "2022-12-22T17:25:14.579Z"
   },
   {
    "duration": 0,
    "start_time": "2022-12-22T17:25:14.581Z"
   },
   {
    "duration": 0,
    "start_time": "2022-12-22T17:25:14.582Z"
   },
   {
    "duration": 0,
    "start_time": "2022-12-22T17:25:14.584Z"
   },
   {
    "duration": 0,
    "start_time": "2022-12-22T17:25:14.585Z"
   },
   {
    "duration": 0,
    "start_time": "2022-12-22T17:25:14.586Z"
   },
   {
    "duration": 0,
    "start_time": "2022-12-22T17:25:14.588Z"
   },
   {
    "duration": 0,
    "start_time": "2022-12-22T17:25:14.589Z"
   },
   {
    "duration": 0,
    "start_time": "2022-12-22T17:25:14.590Z"
   },
   {
    "duration": 18,
    "start_time": "2022-12-22T17:25:40.277Z"
   },
   {
    "duration": 10,
    "start_time": "2022-12-22T17:26:04.960Z"
   },
   {
    "duration": 21,
    "start_time": "2022-12-22T17:26:06.786Z"
   },
   {
    "duration": 3740,
    "start_time": "2022-12-22T17:26:19.040Z"
   },
   {
    "duration": 100,
    "start_time": "2022-12-22T17:26:22.782Z"
   },
   {
    "duration": 23,
    "start_time": "2022-12-22T17:26:22.884Z"
   },
   {
    "duration": 89,
    "start_time": "2022-12-22T17:26:22.909Z"
   },
   {
    "duration": 26,
    "start_time": "2022-12-22T17:26:23.001Z"
   },
   {
    "duration": 49,
    "start_time": "2022-12-22T17:26:23.029Z"
   },
   {
    "duration": 15,
    "start_time": "2022-12-22T17:26:23.080Z"
   },
   {
    "duration": 51,
    "start_time": "2022-12-22T17:26:23.097Z"
   },
   {
    "duration": 31,
    "start_time": "2022-12-22T17:26:23.150Z"
   },
   {
    "duration": 26,
    "start_time": "2022-12-22T17:26:23.184Z"
   },
   {
    "duration": 105,
    "start_time": "2022-12-22T17:26:23.211Z"
   },
   {
    "duration": 4,
    "start_time": "2022-12-22T17:26:23.318Z"
   },
   {
    "duration": 95,
    "start_time": "2022-12-22T17:26:23.323Z"
   },
   {
    "duration": 75,
    "start_time": "2022-12-22T17:26:23.420Z"
   },
   {
    "duration": 80,
    "start_time": "2022-12-22T17:26:23.497Z"
   },
   {
    "duration": 24,
    "start_time": "2022-12-22T17:26:23.580Z"
   },
   {
    "duration": 73,
    "start_time": "2022-12-22T17:26:23.606Z"
   },
   {
    "duration": 19,
    "start_time": "2022-12-22T17:26:23.680Z"
   },
   {
    "duration": 245,
    "start_time": "2022-12-22T17:26:23.701Z"
   },
   {
    "duration": 0,
    "start_time": "2022-12-22T17:26:23.948Z"
   },
   {
    "duration": 0,
    "start_time": "2022-12-22T17:26:23.950Z"
   },
   {
    "duration": 0,
    "start_time": "2022-12-22T17:26:23.952Z"
   },
   {
    "duration": 0,
    "start_time": "2022-12-22T17:26:23.953Z"
   },
   {
    "duration": 0,
    "start_time": "2022-12-22T17:26:23.955Z"
   },
   {
    "duration": 0,
    "start_time": "2022-12-22T17:26:23.956Z"
   },
   {
    "duration": 0,
    "start_time": "2022-12-22T17:26:23.958Z"
   },
   {
    "duration": 0,
    "start_time": "2022-12-22T17:26:23.978Z"
   },
   {
    "duration": 0,
    "start_time": "2022-12-22T17:26:23.979Z"
   },
   {
    "duration": 0,
    "start_time": "2022-12-22T17:26:23.981Z"
   },
   {
    "duration": 0,
    "start_time": "2022-12-22T17:26:23.982Z"
   },
   {
    "duration": 0,
    "start_time": "2022-12-22T17:26:23.983Z"
   },
   {
    "duration": 0,
    "start_time": "2022-12-22T17:26:23.985Z"
   },
   {
    "duration": 0,
    "start_time": "2022-12-22T17:26:23.986Z"
   },
   {
    "duration": 0,
    "start_time": "2022-12-22T17:26:23.987Z"
   },
   {
    "duration": 0,
    "start_time": "2022-12-22T17:26:23.988Z"
   },
   {
    "duration": 0,
    "start_time": "2022-12-22T17:26:23.989Z"
   },
   {
    "duration": 0,
    "start_time": "2022-12-22T17:26:23.990Z"
   },
   {
    "duration": 0,
    "start_time": "2022-12-22T17:26:23.991Z"
   },
   {
    "duration": 0,
    "start_time": "2022-12-22T17:26:23.992Z"
   },
   {
    "duration": 0,
    "start_time": "2022-12-22T17:26:23.994Z"
   },
   {
    "duration": 1,
    "start_time": "2022-12-22T17:26:23.994Z"
   },
   {
    "duration": 0,
    "start_time": "2022-12-22T17:26:23.996Z"
   },
   {
    "duration": 0,
    "start_time": "2022-12-22T17:26:23.997Z"
   },
   {
    "duration": 0,
    "start_time": "2022-12-22T17:26:23.998Z"
   },
   {
    "duration": 0,
    "start_time": "2022-12-22T17:26:23.999Z"
   },
   {
    "duration": 4431,
    "start_time": "2022-12-22T17:29:07.654Z"
   },
   {
    "duration": 57,
    "start_time": "2022-12-22T17:29:12.087Z"
   },
   {
    "duration": 23,
    "start_time": "2022-12-22T17:29:12.145Z"
   },
   {
    "duration": 24,
    "start_time": "2022-12-22T17:29:12.170Z"
   },
   {
    "duration": 8,
    "start_time": "2022-12-22T17:29:12.196Z"
   },
   {
    "duration": 14,
    "start_time": "2022-12-22T17:29:12.206Z"
   },
   {
    "duration": 15,
    "start_time": "2022-12-22T17:29:12.221Z"
   },
   {
    "duration": 34,
    "start_time": "2022-12-22T17:29:12.238Z"
   },
   {
    "duration": 4,
    "start_time": "2022-12-22T17:29:12.274Z"
   },
   {
    "duration": 13,
    "start_time": "2022-12-22T17:29:12.281Z"
   },
   {
    "duration": 65,
    "start_time": "2022-12-22T17:29:12.296Z"
   },
   {
    "duration": 13,
    "start_time": "2022-12-22T17:29:12.364Z"
   },
   {
    "duration": 154,
    "start_time": "2022-12-22T17:29:12.379Z"
   },
   {
    "duration": 0,
    "start_time": "2022-12-22T17:29:12.536Z"
   },
   {
    "duration": 0,
    "start_time": "2022-12-22T17:29:12.537Z"
   },
   {
    "duration": 0,
    "start_time": "2022-12-22T17:29:12.538Z"
   },
   {
    "duration": 0,
    "start_time": "2022-12-22T17:29:12.539Z"
   },
   {
    "duration": 0,
    "start_time": "2022-12-22T17:29:12.540Z"
   },
   {
    "duration": 0,
    "start_time": "2022-12-22T17:29:12.541Z"
   },
   {
    "duration": 0,
    "start_time": "2022-12-22T17:29:12.542Z"
   },
   {
    "duration": 0,
    "start_time": "2022-12-22T17:29:12.543Z"
   },
   {
    "duration": 0,
    "start_time": "2022-12-22T17:29:12.544Z"
   },
   {
    "duration": 0,
    "start_time": "2022-12-22T17:29:12.545Z"
   },
   {
    "duration": 0,
    "start_time": "2022-12-22T17:29:12.547Z"
   },
   {
    "duration": 0,
    "start_time": "2022-12-22T17:29:12.548Z"
   },
   {
    "duration": 0,
    "start_time": "2022-12-22T17:29:12.549Z"
   },
   {
    "duration": 0,
    "start_time": "2022-12-22T17:29:12.550Z"
   },
   {
    "duration": 0,
    "start_time": "2022-12-22T17:29:12.551Z"
   },
   {
    "duration": 0,
    "start_time": "2022-12-22T17:29:12.552Z"
   },
   {
    "duration": 0,
    "start_time": "2022-12-22T17:29:12.553Z"
   },
   {
    "duration": 0,
    "start_time": "2022-12-22T17:29:12.553Z"
   },
   {
    "duration": 0,
    "start_time": "2022-12-22T17:29:12.554Z"
   },
   {
    "duration": 0,
    "start_time": "2022-12-22T17:29:12.554Z"
   },
   {
    "duration": 0,
    "start_time": "2022-12-22T17:29:12.578Z"
   },
   {
    "duration": 0,
    "start_time": "2022-12-22T17:29:12.579Z"
   },
   {
    "duration": 0,
    "start_time": "2022-12-22T17:29:12.581Z"
   },
   {
    "duration": 0,
    "start_time": "2022-12-22T17:29:12.582Z"
   },
   {
    "duration": 0,
    "start_time": "2022-12-22T17:29:12.583Z"
   },
   {
    "duration": 0,
    "start_time": "2022-12-22T17:29:12.584Z"
   },
   {
    "duration": 0,
    "start_time": "2022-12-22T17:29:12.586Z"
   },
   {
    "duration": 0,
    "start_time": "2022-12-22T17:29:12.587Z"
   },
   {
    "duration": 0,
    "start_time": "2022-12-22T17:29:12.588Z"
   },
   {
    "duration": 0,
    "start_time": "2022-12-22T17:29:12.589Z"
   },
   {
    "duration": 0,
    "start_time": "2022-12-22T17:29:12.590Z"
   },
   {
    "duration": 0,
    "start_time": "2022-12-22T17:29:12.591Z"
   },
   {
    "duration": 5,
    "start_time": "2022-12-22T17:42:35.875Z"
   },
   {
    "duration": 29,
    "start_time": "2022-12-22T17:42:39.413Z"
   },
   {
    "duration": 3546,
    "start_time": "2022-12-22T17:42:50.449Z"
   },
   {
    "duration": 57,
    "start_time": "2022-12-22T17:42:53.998Z"
   },
   {
    "duration": 21,
    "start_time": "2022-12-22T17:42:54.056Z"
   },
   {
    "duration": 17,
    "start_time": "2022-12-22T17:42:54.079Z"
   },
   {
    "duration": 5,
    "start_time": "2022-12-22T17:42:54.098Z"
   },
   {
    "duration": 5,
    "start_time": "2022-12-22T17:42:54.105Z"
   },
   {
    "duration": 7,
    "start_time": "2022-12-22T17:42:54.112Z"
   },
   {
    "duration": 31,
    "start_time": "2022-12-22T17:42:54.121Z"
   },
   {
    "duration": 4,
    "start_time": "2022-12-22T17:42:54.154Z"
   },
   {
    "duration": 4,
    "start_time": "2022-12-22T17:42:54.177Z"
   },
   {
    "duration": 48,
    "start_time": "2022-12-22T17:42:54.182Z"
   },
   {
    "duration": 4,
    "start_time": "2022-12-22T17:42:54.232Z"
   },
   {
    "duration": 161,
    "start_time": "2022-12-22T17:42:54.238Z"
   },
   {
    "duration": 0,
    "start_time": "2022-12-22T17:42:54.401Z"
   },
   {
    "duration": 0,
    "start_time": "2022-12-22T17:42:54.403Z"
   },
   {
    "duration": 0,
    "start_time": "2022-12-22T17:42:54.404Z"
   },
   {
    "duration": 0,
    "start_time": "2022-12-22T17:42:54.405Z"
   },
   {
    "duration": 0,
    "start_time": "2022-12-22T17:42:54.406Z"
   },
   {
    "duration": 0,
    "start_time": "2022-12-22T17:42:54.407Z"
   },
   {
    "duration": 0,
    "start_time": "2022-12-22T17:42:54.408Z"
   },
   {
    "duration": 0,
    "start_time": "2022-12-22T17:42:54.409Z"
   },
   {
    "duration": 0,
    "start_time": "2022-12-22T17:42:54.410Z"
   },
   {
    "duration": 0,
    "start_time": "2022-12-22T17:42:54.411Z"
   },
   {
    "duration": 0,
    "start_time": "2022-12-22T17:42:54.412Z"
   },
   {
    "duration": 0,
    "start_time": "2022-12-22T17:42:54.413Z"
   },
   {
    "duration": 0,
    "start_time": "2022-12-22T17:42:54.415Z"
   },
   {
    "duration": 0,
    "start_time": "2022-12-22T17:42:54.416Z"
   },
   {
    "duration": 0,
    "start_time": "2022-12-22T17:42:54.417Z"
   },
   {
    "duration": 0,
    "start_time": "2022-12-22T17:42:54.417Z"
   },
   {
    "duration": 0,
    "start_time": "2022-12-22T17:42:54.419Z"
   },
   {
    "duration": 0,
    "start_time": "2022-12-22T17:42:54.419Z"
   },
   {
    "duration": 0,
    "start_time": "2022-12-22T17:42:54.420Z"
   },
   {
    "duration": 0,
    "start_time": "2022-12-22T17:42:54.422Z"
   },
   {
    "duration": 0,
    "start_time": "2022-12-22T17:42:54.423Z"
   },
   {
    "duration": 0,
    "start_time": "2022-12-22T17:42:54.424Z"
   },
   {
    "duration": 0,
    "start_time": "2022-12-22T17:42:54.425Z"
   },
   {
    "duration": 0,
    "start_time": "2022-12-22T17:42:54.426Z"
   },
   {
    "duration": 0,
    "start_time": "2022-12-22T17:42:54.427Z"
   },
   {
    "duration": 0,
    "start_time": "2022-12-22T17:42:54.428Z"
   },
   {
    "duration": 0,
    "start_time": "2022-12-22T17:42:54.429Z"
   },
   {
    "duration": 0,
    "start_time": "2022-12-22T17:42:54.430Z"
   },
   {
    "duration": 0,
    "start_time": "2022-12-22T17:42:54.431Z"
   },
   {
    "duration": 0,
    "start_time": "2022-12-22T17:42:54.478Z"
   },
   {
    "duration": 0,
    "start_time": "2022-12-22T17:42:54.480Z"
   },
   {
    "duration": 0,
    "start_time": "2022-12-22T17:42:54.481Z"
   },
   {
    "duration": 4,
    "start_time": "2022-12-22T17:43:55.362Z"
   },
   {
    "duration": 5,
    "start_time": "2022-12-22T17:49:32.353Z"
   },
   {
    "duration": 16,
    "start_time": "2022-12-22T17:49:35.249Z"
   },
   {
    "duration": 28,
    "start_time": "2022-12-22T17:49:38.253Z"
   },
   {
    "duration": 5,
    "start_time": "2022-12-22T17:49:59.823Z"
   },
   {
    "duration": 21,
    "start_time": "2022-12-22T17:50:00.591Z"
   },
   {
    "duration": 5230,
    "start_time": "2022-12-22T17:50:07.161Z"
   },
   {
    "duration": 59,
    "start_time": "2022-12-22T17:50:12.394Z"
   },
   {
    "duration": 21,
    "start_time": "2022-12-22T17:50:12.455Z"
   },
   {
    "duration": 21,
    "start_time": "2022-12-22T17:50:12.479Z"
   },
   {
    "duration": 6,
    "start_time": "2022-12-22T17:50:12.502Z"
   },
   {
    "duration": 8,
    "start_time": "2022-12-22T17:50:12.509Z"
   },
   {
    "duration": 11,
    "start_time": "2022-12-22T17:50:12.519Z"
   },
   {
    "duration": 13,
    "start_time": "2022-12-22T17:50:12.531Z"
   },
   {
    "duration": 10,
    "start_time": "2022-12-22T17:50:12.546Z"
   },
   {
    "duration": 3,
    "start_time": "2022-12-22T17:50:12.579Z"
   },
   {
    "duration": 65,
    "start_time": "2022-12-22T17:50:12.584Z"
   },
   {
    "duration": 5,
    "start_time": "2022-12-22T17:50:12.651Z"
   },
   {
    "duration": 33,
    "start_time": "2022-12-22T17:50:12.658Z"
   },
   {
    "duration": 26,
    "start_time": "2022-12-22T17:50:12.693Z"
   },
   {
    "duration": 11,
    "start_time": "2022-12-22T17:50:12.721Z"
   },
   {
    "duration": 44,
    "start_time": "2022-12-22T17:50:12.734Z"
   },
   {
    "duration": 21,
    "start_time": "2022-12-22T17:50:12.780Z"
   },
   {
    "duration": 31,
    "start_time": "2022-12-22T17:50:12.803Z"
   },
   {
    "duration": 185,
    "start_time": "2022-12-22T17:50:12.836Z"
   },
   {
    "duration": 0,
    "start_time": "2022-12-22T17:50:13.024Z"
   },
   {
    "duration": 0,
    "start_time": "2022-12-22T17:50:13.025Z"
   },
   {
    "duration": 0,
    "start_time": "2022-12-22T17:50:13.026Z"
   },
   {
    "duration": 0,
    "start_time": "2022-12-22T17:50:13.027Z"
   },
   {
    "duration": 0,
    "start_time": "2022-12-22T17:50:13.028Z"
   },
   {
    "duration": 0,
    "start_time": "2022-12-22T17:50:13.029Z"
   },
   {
    "duration": 0,
    "start_time": "2022-12-22T17:50:13.031Z"
   },
   {
    "duration": 0,
    "start_time": "2022-12-22T17:50:13.031Z"
   },
   {
    "duration": 0,
    "start_time": "2022-12-22T17:50:13.032Z"
   },
   {
    "duration": 0,
    "start_time": "2022-12-22T17:50:13.033Z"
   },
   {
    "duration": 0,
    "start_time": "2022-12-22T17:50:13.034Z"
   },
   {
    "duration": 0,
    "start_time": "2022-12-22T17:50:13.036Z"
   },
   {
    "duration": 0,
    "start_time": "2022-12-22T17:50:13.037Z"
   },
   {
    "duration": 0,
    "start_time": "2022-12-22T17:50:13.038Z"
   },
   {
    "duration": 0,
    "start_time": "2022-12-22T17:50:13.039Z"
   },
   {
    "duration": 0,
    "start_time": "2022-12-22T17:50:13.040Z"
   },
   {
    "duration": 0,
    "start_time": "2022-12-22T17:50:13.041Z"
   },
   {
    "duration": 0,
    "start_time": "2022-12-22T17:50:13.042Z"
   },
   {
    "duration": 0,
    "start_time": "2022-12-22T17:50:13.043Z"
   },
   {
    "duration": 0,
    "start_time": "2022-12-22T17:50:13.044Z"
   },
   {
    "duration": 0,
    "start_time": "2022-12-22T17:50:13.090Z"
   },
   {
    "duration": 1,
    "start_time": "2022-12-22T17:50:13.093Z"
   },
   {
    "duration": 0,
    "start_time": "2022-12-22T17:50:13.095Z"
   },
   {
    "duration": 0,
    "start_time": "2022-12-22T17:50:13.096Z"
   },
   {
    "duration": 0,
    "start_time": "2022-12-22T17:50:13.097Z"
   },
   {
    "duration": 0,
    "start_time": "2022-12-22T17:50:13.098Z"
   },
   {
    "duration": 13,
    "start_time": "2022-12-22T17:52:30.900Z"
   },
   {
    "duration": 47,
    "start_time": "2022-12-22T17:52:41.238Z"
   },
   {
    "duration": 50,
    "start_time": "2022-12-22T17:52:56.751Z"
   },
   {
    "duration": 57,
    "start_time": "2022-12-22T17:53:06.641Z"
   },
   {
    "duration": 35,
    "start_time": "2022-12-22T17:53:29.499Z"
   },
   {
    "duration": 22,
    "start_time": "2022-12-22T17:54:24.702Z"
   },
   {
    "duration": 31,
    "start_time": "2022-12-22T17:54:42.719Z"
   },
   {
    "duration": 3610,
    "start_time": "2022-12-22T17:55:09.790Z"
   },
   {
    "duration": 56,
    "start_time": "2022-12-22T17:55:13.402Z"
   },
   {
    "duration": 20,
    "start_time": "2022-12-22T17:55:13.460Z"
   },
   {
    "duration": 18,
    "start_time": "2022-12-22T17:55:13.482Z"
   },
   {
    "duration": 5,
    "start_time": "2022-12-22T17:55:13.502Z"
   },
   {
    "duration": 19,
    "start_time": "2022-12-22T17:55:13.509Z"
   },
   {
    "duration": 7,
    "start_time": "2022-12-22T17:55:13.530Z"
   },
   {
    "duration": 13,
    "start_time": "2022-12-22T17:55:13.539Z"
   },
   {
    "duration": 27,
    "start_time": "2022-12-22T17:55:13.553Z"
   },
   {
    "duration": 11,
    "start_time": "2022-12-22T17:55:13.583Z"
   },
   {
    "duration": 90,
    "start_time": "2022-12-22T17:55:13.595Z"
   },
   {
    "duration": 6,
    "start_time": "2022-12-22T17:55:13.687Z"
   },
   {
    "duration": 36,
    "start_time": "2022-12-22T17:55:13.695Z"
   },
   {
    "duration": 49,
    "start_time": "2022-12-22T17:55:13.733Z"
   },
   {
    "duration": 9,
    "start_time": "2022-12-22T17:55:13.784Z"
   },
   {
    "duration": 24,
    "start_time": "2022-12-22T17:55:13.795Z"
   },
   {
    "duration": 21,
    "start_time": "2022-12-22T17:55:13.821Z"
   },
   {
    "duration": 54,
    "start_time": "2022-12-22T17:55:13.844Z"
   },
   {
    "duration": 1084,
    "start_time": "2022-12-22T17:55:13.900Z"
   },
   {
    "duration": 95,
    "start_time": "2022-12-22T17:55:14.986Z"
   },
   {
    "duration": 1505,
    "start_time": "2022-12-22T17:55:15.083Z"
   },
   {
    "duration": 91,
    "start_time": "2022-12-22T17:55:16.592Z"
   },
   {
    "duration": 93,
    "start_time": "2022-12-22T17:55:16.686Z"
   },
   {
    "duration": 13,
    "start_time": "2022-12-22T17:55:16.781Z"
   },
   {
    "duration": 663,
    "start_time": "2022-12-22T17:55:16.797Z"
   },
   {
    "duration": 18,
    "start_time": "2022-12-22T17:55:17.463Z"
   },
   {
    "duration": 22,
    "start_time": "2022-12-22T17:55:17.483Z"
   },
   {
    "duration": 169,
    "start_time": "2022-12-22T17:55:17.510Z"
   },
   {
    "duration": 13,
    "start_time": "2022-12-22T17:55:17.680Z"
   },
   {
    "duration": 511,
    "start_time": "2022-12-22T17:55:17.695Z"
   },
   {
    "duration": 140,
    "start_time": "2022-12-22T17:55:18.209Z"
   },
   {
    "duration": 6,
    "start_time": "2022-12-22T17:55:18.351Z"
   },
   {
    "duration": 178,
    "start_time": "2022-12-22T17:55:18.359Z"
   },
   {
    "duration": 0,
    "start_time": "2022-12-22T17:55:18.540Z"
   },
   {
    "duration": 0,
    "start_time": "2022-12-22T17:55:18.542Z"
   },
   {
    "duration": 0,
    "start_time": "2022-12-22T17:55:18.544Z"
   },
   {
    "duration": 0,
    "start_time": "2022-12-22T17:55:18.546Z"
   },
   {
    "duration": 0,
    "start_time": "2022-12-22T17:55:18.548Z"
   },
   {
    "duration": 0,
    "start_time": "2022-12-22T17:55:18.550Z"
   },
   {
    "duration": 0,
    "start_time": "2022-12-22T17:55:18.551Z"
   },
   {
    "duration": 0,
    "start_time": "2022-12-22T17:55:18.552Z"
   },
   {
    "duration": 0,
    "start_time": "2022-12-22T17:55:18.552Z"
   },
   {
    "duration": 0,
    "start_time": "2022-12-22T17:55:18.554Z"
   },
   {
    "duration": 0,
    "start_time": "2022-12-22T17:55:18.554Z"
   },
   {
    "duration": 0,
    "start_time": "2022-12-22T17:55:18.577Z"
   },
   {
    "duration": 723,
    "start_time": "2022-12-22T18:04:02.866Z"
   },
   {
    "duration": 781,
    "start_time": "2022-12-22T18:04:13.400Z"
   },
   {
    "duration": 710,
    "start_time": "2022-12-22T18:04:19.673Z"
   },
   {
    "duration": 61,
    "start_time": "2022-12-22T18:04:26.350Z"
   },
   {
    "duration": 808,
    "start_time": "2022-12-22T18:04:39.670Z"
   },
   {
    "duration": 748,
    "start_time": "2022-12-22T18:05:24.738Z"
   },
   {
    "duration": 766,
    "start_time": "2022-12-22T18:05:31.122Z"
   },
   {
    "duration": 684,
    "start_time": "2022-12-22T18:06:02.016Z"
   },
   {
    "duration": 708,
    "start_time": "2022-12-22T18:06:22.682Z"
   },
   {
    "duration": 3575,
    "start_time": "2022-12-22T18:07:03.054Z"
   },
   {
    "duration": 58,
    "start_time": "2022-12-22T18:07:06.631Z"
   },
   {
    "duration": 23,
    "start_time": "2022-12-22T18:07:06.691Z"
   },
   {
    "duration": 19,
    "start_time": "2022-12-22T18:07:06.716Z"
   },
   {
    "duration": 6,
    "start_time": "2022-12-22T18:07:06.737Z"
   },
   {
    "duration": 38,
    "start_time": "2022-12-22T18:07:06.745Z"
   },
   {
    "duration": 30,
    "start_time": "2022-12-22T18:07:06.785Z"
   },
   {
    "duration": 67,
    "start_time": "2022-12-22T18:07:06.817Z"
   },
   {
    "duration": 12,
    "start_time": "2022-12-22T18:07:06.887Z"
   },
   {
    "duration": 20,
    "start_time": "2022-12-22T18:07:06.903Z"
   },
   {
    "duration": 60,
    "start_time": "2022-12-22T18:07:06.925Z"
   },
   {
    "duration": 5,
    "start_time": "2022-12-22T18:07:06.987Z"
   },
   {
    "duration": 56,
    "start_time": "2022-12-22T18:07:06.993Z"
   },
   {
    "duration": 44,
    "start_time": "2022-12-22T18:07:07.051Z"
   },
   {
    "duration": 13,
    "start_time": "2022-12-22T18:07:07.097Z"
   },
   {
    "duration": 29,
    "start_time": "2022-12-22T18:07:07.113Z"
   },
   {
    "duration": 50,
    "start_time": "2022-12-22T18:07:07.144Z"
   },
   {
    "duration": 28,
    "start_time": "2022-12-22T18:07:07.197Z"
   },
   {
    "duration": 752,
    "start_time": "2022-12-22T18:07:07.227Z"
   },
   {
    "duration": 102,
    "start_time": "2022-12-22T18:07:07.980Z"
   },
   {
    "duration": 895,
    "start_time": "2022-12-22T18:07:08.084Z"
   },
   {
    "duration": 7,
    "start_time": "2022-12-22T18:07:08.981Z"
   },
   {
    "duration": 45,
    "start_time": "2022-12-22T18:07:09.078Z"
   },
   {
    "duration": 14,
    "start_time": "2022-12-22T18:07:09.124Z"
   },
   {
    "duration": 669,
    "start_time": "2022-12-22T18:07:09.140Z"
   },
   {
    "duration": 11,
    "start_time": "2022-12-22T18:07:09.811Z"
   },
   {
    "duration": 60,
    "start_time": "2022-12-22T18:07:09.824Z"
   },
   {
    "duration": 98,
    "start_time": "2022-12-22T18:07:09.889Z"
   },
   {
    "duration": 87,
    "start_time": "2022-12-22T18:07:09.990Z"
   },
   {
    "duration": 531,
    "start_time": "2022-12-22T18:07:10.084Z"
   },
   {
    "duration": 134,
    "start_time": "2022-12-22T18:07:10.617Z"
   },
   {
    "duration": 5,
    "start_time": "2022-12-22T18:07:10.753Z"
   },
   {
    "duration": 171,
    "start_time": "2022-12-22T18:07:10.760Z"
   },
   {
    "duration": 0,
    "start_time": "2022-12-22T18:07:10.933Z"
   },
   {
    "duration": 0,
    "start_time": "2022-12-22T18:07:10.935Z"
   },
   {
    "duration": 0,
    "start_time": "2022-12-22T18:07:10.937Z"
   },
   {
    "duration": 0,
    "start_time": "2022-12-22T18:07:10.938Z"
   },
   {
    "duration": 0,
    "start_time": "2022-12-22T18:07:10.940Z"
   },
   {
    "duration": 0,
    "start_time": "2022-12-22T18:07:10.941Z"
   },
   {
    "duration": 0,
    "start_time": "2022-12-22T18:07:10.943Z"
   },
   {
    "duration": 0,
    "start_time": "2022-12-22T18:07:10.944Z"
   },
   {
    "duration": 0,
    "start_time": "2022-12-22T18:07:10.946Z"
   },
   {
    "duration": 0,
    "start_time": "2022-12-22T18:07:10.948Z"
   },
   {
    "duration": 0,
    "start_time": "2022-12-22T18:07:10.949Z"
   },
   {
    "duration": 0,
    "start_time": "2022-12-22T18:07:10.950Z"
   },
   {
    "duration": 768,
    "start_time": "2022-12-22T18:10:47.751Z"
   },
   {
    "duration": 715,
    "start_time": "2022-12-22T18:11:04.824Z"
   },
   {
    "duration": 739,
    "start_time": "2022-12-22T18:11:17.340Z"
   },
   {
    "duration": 77,
    "start_time": "2022-12-22T18:12:29.858Z"
   },
   {
    "duration": 84,
    "start_time": "2022-12-22T18:12:39.331Z"
   },
   {
    "duration": 11,
    "start_time": "2022-12-22T18:13:12.253Z"
   },
   {
    "duration": 11,
    "start_time": "2022-12-22T18:13:32.593Z"
   },
   {
    "duration": 11,
    "start_time": "2022-12-22T18:14:06.381Z"
   },
   {
    "duration": 36,
    "start_time": "2022-12-22T18:14:34.118Z"
   },
   {
    "duration": 4,
    "start_time": "2022-12-22T18:17:41.646Z"
   },
   {
    "duration": 3757,
    "start_time": "2022-12-22T18:18:26.928Z"
   },
   {
    "duration": 60,
    "start_time": "2022-12-22T18:18:30.688Z"
   },
   {
    "duration": 23,
    "start_time": "2022-12-22T18:18:30.750Z"
   },
   {
    "duration": 25,
    "start_time": "2022-12-22T18:18:30.776Z"
   },
   {
    "duration": 7,
    "start_time": "2022-12-22T18:18:30.804Z"
   },
   {
    "duration": 22,
    "start_time": "2022-12-22T18:18:30.813Z"
   },
   {
    "duration": 10,
    "start_time": "2022-12-22T18:18:30.837Z"
   },
   {
    "duration": 31,
    "start_time": "2022-12-22T18:18:30.849Z"
   },
   {
    "duration": 30,
    "start_time": "2022-12-22T18:18:30.882Z"
   },
   {
    "duration": 22,
    "start_time": "2022-12-22T18:18:30.916Z"
   },
   {
    "duration": 43,
    "start_time": "2022-12-22T18:18:30.940Z"
   },
   {
    "duration": 23,
    "start_time": "2022-12-22T18:18:30.986Z"
   },
   {
    "duration": 57,
    "start_time": "2022-12-22T18:18:31.012Z"
   },
   {
    "duration": 34,
    "start_time": "2022-12-22T18:18:31.071Z"
   },
   {
    "duration": 5,
    "start_time": "2022-12-22T18:18:31.108Z"
   },
   {
    "duration": 39,
    "start_time": "2022-12-22T18:18:31.114Z"
   },
   {
    "duration": 35,
    "start_time": "2022-12-22T18:18:31.155Z"
   },
   {
    "duration": 22,
    "start_time": "2022-12-22T18:18:31.192Z"
   },
   {
    "duration": 75,
    "start_time": "2022-12-22T18:18:31.216Z"
   },
   {
    "duration": 1591,
    "start_time": "2022-12-22T18:18:31.293Z"
   },
   {
    "duration": 92,
    "start_time": "2022-12-22T18:18:32.887Z"
   },
   {
    "duration": 847,
    "start_time": "2022-12-22T18:18:32.981Z"
   },
   {
    "duration": 94,
    "start_time": "2022-12-22T18:18:33.888Z"
   },
   {
    "duration": 48,
    "start_time": "2022-12-22T18:18:33.984Z"
   },
   {
    "duration": 12,
    "start_time": "2022-12-22T18:18:34.035Z"
   },
   {
    "duration": 689,
    "start_time": "2022-12-22T18:18:34.049Z"
   },
   {
    "duration": 11,
    "start_time": "2022-12-22T18:18:34.741Z"
   },
   {
    "duration": 40,
    "start_time": "2022-12-22T18:18:34.757Z"
   },
   {
    "duration": 181,
    "start_time": "2022-12-22T18:18:34.799Z"
   },
   {
    "duration": 25,
    "start_time": "2022-12-22T18:18:34.982Z"
   },
   {
    "duration": 480,
    "start_time": "2022-12-22T18:18:35.079Z"
   },
   {
    "duration": 143,
    "start_time": "2022-12-22T18:18:35.561Z"
   },
   {
    "duration": 6,
    "start_time": "2022-12-22T18:18:35.706Z"
   },
   {
    "duration": 174,
    "start_time": "2022-12-22T18:18:35.715Z"
   },
   {
    "duration": 0,
    "start_time": "2022-12-22T18:18:35.892Z"
   },
   {
    "duration": 0,
    "start_time": "2022-12-22T18:18:35.894Z"
   },
   {
    "duration": 0,
    "start_time": "2022-12-22T18:18:35.896Z"
   },
   {
    "duration": 0,
    "start_time": "2022-12-22T18:18:35.898Z"
   },
   {
    "duration": 0,
    "start_time": "2022-12-22T18:18:35.899Z"
   },
   {
    "duration": 0,
    "start_time": "2022-12-22T18:18:35.900Z"
   },
   {
    "duration": 0,
    "start_time": "2022-12-22T18:18:35.901Z"
   },
   {
    "duration": 0,
    "start_time": "2022-12-22T18:18:35.902Z"
   },
   {
    "duration": 0,
    "start_time": "2022-12-22T18:18:35.904Z"
   },
   {
    "duration": 0,
    "start_time": "2022-12-22T18:18:35.906Z"
   },
   {
    "duration": 0,
    "start_time": "2022-12-22T18:18:35.908Z"
   },
   {
    "duration": 0,
    "start_time": "2022-12-22T18:18:35.909Z"
   },
   {
    "duration": 48,
    "start_time": "2022-12-22T18:21:16.198Z"
   },
   {
    "duration": 784,
    "start_time": "2022-12-22T18:23:56.194Z"
   },
   {
    "duration": 720,
    "start_time": "2022-12-22T18:24:17.559Z"
   },
   {
    "duration": 730,
    "start_time": "2022-12-22T18:24:33.152Z"
   },
   {
    "duration": 855,
    "start_time": "2022-12-22T18:24:50.923Z"
   },
   {
    "duration": 755,
    "start_time": "2022-12-22T18:25:27.325Z"
   },
   {
    "duration": 911,
    "start_time": "2022-12-22T18:25:47.877Z"
   },
   {
    "duration": 773,
    "start_time": "2022-12-22T18:25:55.817Z"
   },
   {
    "duration": 388,
    "start_time": "2022-12-22T18:33:37.191Z"
   },
   {
    "duration": 21,
    "start_time": "2022-12-22T18:36:59.691Z"
   },
   {
    "duration": 58,
    "start_time": "2022-12-22T18:57:19.560Z"
   },
   {
    "duration": 50,
    "start_time": "2022-12-22T18:58:01.541Z"
   },
   {
    "duration": 60,
    "start_time": "2022-12-22T18:58:33.407Z"
   },
   {
    "duration": 48,
    "start_time": "2022-12-22T18:58:47.579Z"
   },
   {
    "duration": 45,
    "start_time": "2022-12-22T18:59:01.602Z"
   },
   {
    "duration": 5,
    "start_time": "2022-12-22T18:59:14.310Z"
   },
   {
    "duration": 7,
    "start_time": "2022-12-22T18:59:43.410Z"
   },
   {
    "duration": 675,
    "start_time": "2022-12-22T18:59:47.652Z"
   },
   {
    "duration": 101,
    "start_time": "2022-12-22T19:00:36.756Z"
   },
   {
    "duration": 736,
    "start_time": "2022-12-22T19:00:38.573Z"
   },
   {
    "duration": 6,
    "start_time": "2022-12-22T19:01:27.526Z"
   },
   {
    "duration": 697,
    "start_time": "2022-12-22T19:01:28.640Z"
   },
   {
    "duration": 5,
    "start_time": "2022-12-22T19:01:44.932Z"
   },
   {
    "duration": 18,
    "start_time": "2022-12-22T19:01:45.710Z"
   },
   {
    "duration": 57,
    "start_time": "2022-12-22T19:08:14.216Z"
   },
   {
    "duration": 27,
    "start_time": "2022-12-22T19:08:14.959Z"
   },
   {
    "duration": 47,
    "start_time": "2022-12-22T19:08:33.218Z"
   },
   {
    "duration": 6,
    "start_time": "2022-12-22T19:09:01.917Z"
   },
   {
    "duration": 23,
    "start_time": "2022-12-22T19:09:05.413Z"
   },
   {
    "duration": 6,
    "start_time": "2022-12-22T19:09:45.622Z"
   },
   {
    "duration": 758,
    "start_time": "2022-12-22T19:09:46.517Z"
   },
   {
    "duration": 6,
    "start_time": "2022-12-22T19:10:14.648Z"
   },
   {
    "duration": 768,
    "start_time": "2022-12-22T19:10:15.360Z"
   },
   {
    "duration": 6,
    "start_time": "2022-12-22T19:11:22.020Z"
   },
   {
    "duration": 717,
    "start_time": "2022-12-22T19:11:22.116Z"
   },
   {
    "duration": 723,
    "start_time": "2022-12-22T19:11:25.247Z"
   },
   {
    "duration": 7,
    "start_time": "2022-12-22T19:12:30.211Z"
   },
   {
    "duration": 8,
    "start_time": "2022-12-22T19:15:55.833Z"
   },
   {
    "duration": 21,
    "start_time": "2022-12-22T19:15:58.609Z"
   },
   {
    "duration": 3566,
    "start_time": "2022-12-22T19:16:07.934Z"
   },
   {
    "duration": 59,
    "start_time": "2022-12-22T19:16:11.502Z"
   },
   {
    "duration": 23,
    "start_time": "2022-12-22T19:16:11.563Z"
   },
   {
    "duration": 18,
    "start_time": "2022-12-22T19:16:11.589Z"
   },
   {
    "duration": 6,
    "start_time": "2022-12-22T19:16:11.609Z"
   },
   {
    "duration": 5,
    "start_time": "2022-12-22T19:16:11.617Z"
   },
   {
    "duration": 7,
    "start_time": "2022-12-22T19:16:11.624Z"
   },
   {
    "duration": 24,
    "start_time": "2022-12-22T19:16:11.633Z"
   },
   {
    "duration": 25,
    "start_time": "2022-12-22T19:16:11.659Z"
   },
   {
    "duration": 8,
    "start_time": "2022-12-22T19:16:11.687Z"
   },
   {
    "duration": 29,
    "start_time": "2022-12-22T19:16:11.697Z"
   },
   {
    "duration": 5,
    "start_time": "2022-12-22T19:16:11.728Z"
   },
   {
    "duration": 56,
    "start_time": "2022-12-22T19:16:11.736Z"
   },
   {
    "duration": 33,
    "start_time": "2022-12-22T19:16:11.794Z"
   },
   {
    "duration": 4,
    "start_time": "2022-12-22T19:16:11.829Z"
   },
   {
    "duration": 11,
    "start_time": "2022-12-22T19:16:11.835Z"
   },
   {
    "duration": 23,
    "start_time": "2022-12-22T19:16:11.878Z"
   },
   {
    "duration": 33,
    "start_time": "2022-12-22T19:16:11.903Z"
   },
   {
    "duration": 21,
    "start_time": "2022-12-22T19:16:11.938Z"
   },
   {
    "duration": 721,
    "start_time": "2022-12-22T19:16:11.961Z"
   },
   {
    "duration": 97,
    "start_time": "2022-12-22T19:16:12.684Z"
   },
   {
    "duration": 796,
    "start_time": "2022-12-22T19:16:12.783Z"
   },
   {
    "duration": 7,
    "start_time": "2022-12-22T19:16:13.581Z"
   },
   {
    "duration": 128,
    "start_time": "2022-12-22T19:16:13.590Z"
   },
   {
    "duration": 12,
    "start_time": "2022-12-22T19:16:13.720Z"
   },
   {
    "duration": 671,
    "start_time": "2022-12-22T19:16:13.734Z"
   },
   {
    "duration": 11,
    "start_time": "2022-12-22T19:16:14.407Z"
   },
   {
    "duration": 58,
    "start_time": "2022-12-22T19:16:14.422Z"
   },
   {
    "duration": 96,
    "start_time": "2022-12-22T19:16:14.483Z"
   },
   {
    "duration": 11,
    "start_time": "2022-12-22T19:16:14.580Z"
   },
   {
    "duration": 514,
    "start_time": "2022-12-22T19:16:14.593Z"
   },
   {
    "duration": 133,
    "start_time": "2022-12-22T19:16:15.109Z"
   },
   {
    "duration": 20,
    "start_time": "2022-12-22T19:16:15.243Z"
   },
   {
    "duration": 15,
    "start_time": "2022-12-22T19:16:15.265Z"
   },
   {
    "duration": 136,
    "start_time": "2022-12-22T19:16:15.282Z"
   },
   {
    "duration": 688,
    "start_time": "2022-12-22T19:16:15.424Z"
   },
   {
    "duration": 1072,
    "start_time": "2022-12-22T19:16:16.113Z"
   },
   {
    "duration": 214,
    "start_time": "2022-12-22T19:16:17.187Z"
   },
   {
    "duration": 1000,
    "start_time": "2022-12-22T19:16:17.402Z"
   },
   {
    "duration": 83,
    "start_time": "2022-12-22T19:16:18.404Z"
   },
   {
    "duration": 89,
    "start_time": "2022-12-22T19:16:18.490Z"
   },
   {
    "duration": 6,
    "start_time": "2022-12-22T19:16:18.581Z"
   },
   {
    "duration": 638,
    "start_time": "2022-12-22T19:16:18.589Z"
   },
   {
    "duration": 7,
    "start_time": "2022-12-22T19:16:19.229Z"
   },
   {
    "duration": 15,
    "start_time": "2022-12-22T19:16:19.237Z"
   },
   {
    "duration": 57,
    "start_time": "2022-12-22T19:16:19.253Z"
   },
   {
    "duration": 287,
    "start_time": "2022-12-22T19:16:19.311Z"
   },
   {
    "duration": 40,
    "start_time": "2022-12-22T19:18:06.712Z"
   },
   {
    "duration": 3465,
    "start_time": "2022-12-22T19:18:21.203Z"
   },
   {
    "duration": 80,
    "start_time": "2022-12-22T19:18:24.670Z"
   },
   {
    "duration": 21,
    "start_time": "2022-12-22T19:18:24.752Z"
   },
   {
    "duration": 18,
    "start_time": "2022-12-22T19:18:24.775Z"
   },
   {
    "duration": 11,
    "start_time": "2022-12-22T19:18:24.794Z"
   },
   {
    "duration": 13,
    "start_time": "2022-12-22T19:18:24.806Z"
   },
   {
    "duration": 8,
    "start_time": "2022-12-22T19:18:24.820Z"
   },
   {
    "duration": 14,
    "start_time": "2022-12-22T19:18:24.829Z"
   },
   {
    "duration": 5,
    "start_time": "2022-12-22T19:18:24.845Z"
   },
   {
    "duration": 4,
    "start_time": "2022-12-22T19:18:24.852Z"
   },
   {
    "duration": 49,
    "start_time": "2022-12-22T19:18:24.858Z"
   },
   {
    "duration": 5,
    "start_time": "2022-12-22T19:18:24.908Z"
   },
   {
    "duration": 31,
    "start_time": "2022-12-22T19:18:24.915Z"
   },
   {
    "duration": 55,
    "start_time": "2022-12-22T19:18:24.948Z"
   },
   {
    "duration": 4,
    "start_time": "2022-12-22T19:18:25.004Z"
   },
   {
    "duration": 18,
    "start_time": "2022-12-22T19:18:25.009Z"
   },
   {
    "duration": 34,
    "start_time": "2022-12-22T19:18:25.029Z"
   },
   {
    "duration": 25,
    "start_time": "2022-12-22T19:18:25.079Z"
   },
   {
    "duration": 22,
    "start_time": "2022-12-22T19:18:25.106Z"
   },
   {
    "duration": 749,
    "start_time": "2022-12-22T19:18:25.130Z"
   },
   {
    "duration": 9,
    "start_time": "2022-12-22T19:18:25.881Z"
   },
   {
    "duration": 741,
    "start_time": "2022-12-22T19:18:25.892Z"
   },
   {
    "duration": 6,
    "start_time": "2022-12-22T19:18:26.679Z"
   },
   {
    "duration": 124,
    "start_time": "2022-12-22T19:18:26.686Z"
   },
   {
    "duration": 11,
    "start_time": "2022-12-22T19:18:26.812Z"
   },
   {
    "duration": 619,
    "start_time": "2022-12-22T19:18:26.825Z"
   },
   {
    "duration": 10,
    "start_time": "2022-12-22T19:18:27.445Z"
   },
   {
    "duration": 37,
    "start_time": "2022-12-22T19:18:27.458Z"
   },
   {
    "duration": 92,
    "start_time": "2022-12-22T19:18:27.496Z"
   },
   {
    "duration": 96,
    "start_time": "2022-12-22T19:18:27.590Z"
   },
   {
    "duration": 519,
    "start_time": "2022-12-22T19:18:27.688Z"
   },
   {
    "duration": 177,
    "start_time": "2022-12-22T19:18:28.209Z"
   },
   {
    "duration": 28,
    "start_time": "2022-12-22T19:18:28.388Z"
   },
   {
    "duration": 7,
    "start_time": "2022-12-22T19:18:28.419Z"
   },
   {
    "duration": 153,
    "start_time": "2022-12-22T19:18:28.428Z"
   },
   {
    "duration": 696,
    "start_time": "2022-12-22T19:18:28.584Z"
   },
   {
    "duration": 999,
    "start_time": "2022-12-22T19:18:29.282Z"
   },
   {
    "duration": 218,
    "start_time": "2022-12-22T19:18:30.283Z"
   },
   {
    "duration": 974,
    "start_time": "2022-12-22T19:18:30.503Z"
   },
   {
    "duration": 99,
    "start_time": "2022-12-22T19:18:31.479Z"
   },
   {
    "duration": 5,
    "start_time": "2022-12-22T19:18:31.580Z"
   },
   {
    "duration": 92,
    "start_time": "2022-12-22T19:18:31.587Z"
   },
   {
    "duration": 605,
    "start_time": "2022-12-22T19:18:31.681Z"
   },
   {
    "duration": 6,
    "start_time": "2022-12-22T19:18:32.288Z"
   },
   {
    "duration": 11,
    "start_time": "2022-12-22T19:18:32.296Z"
   },
   {
    "duration": 47,
    "start_time": "2022-12-22T19:18:32.309Z"
   },
   {
    "duration": 318,
    "start_time": "2022-12-22T19:18:32.378Z"
   },
   {
    "duration": 3644,
    "start_time": "2022-12-22T19:20:14.103Z"
   },
   {
    "duration": 78,
    "start_time": "2022-12-22T19:20:17.750Z"
   },
   {
    "duration": 27,
    "start_time": "2022-12-22T19:20:17.830Z"
   },
   {
    "duration": 21,
    "start_time": "2022-12-22T19:20:17.879Z"
   },
   {
    "duration": 6,
    "start_time": "2022-12-22T19:20:17.903Z"
   },
   {
    "duration": 11,
    "start_time": "2022-12-22T19:20:17.911Z"
   },
   {
    "duration": 8,
    "start_time": "2022-12-22T19:20:17.924Z"
   },
   {
    "duration": 14,
    "start_time": "2022-12-22T19:20:17.934Z"
   },
   {
    "duration": 31,
    "start_time": "2022-12-22T19:20:17.950Z"
   },
   {
    "duration": 7,
    "start_time": "2022-12-22T19:20:17.983Z"
   },
   {
    "duration": 68,
    "start_time": "2022-12-22T19:20:17.992Z"
   },
   {
    "duration": 19,
    "start_time": "2022-12-22T19:20:18.062Z"
   },
   {
    "duration": 39,
    "start_time": "2022-12-22T19:20:18.083Z"
   },
   {
    "duration": 66,
    "start_time": "2022-12-22T19:20:18.125Z"
   },
   {
    "duration": 4,
    "start_time": "2022-12-22T19:20:18.194Z"
   },
   {
    "duration": 17,
    "start_time": "2022-12-22T19:20:18.201Z"
   },
   {
    "duration": 57,
    "start_time": "2022-12-22T19:20:18.223Z"
   },
   {
    "duration": 33,
    "start_time": "2022-12-22T19:20:18.282Z"
   },
   {
    "duration": 32,
    "start_time": "2022-12-22T19:20:18.318Z"
   },
   {
    "duration": 768,
    "start_time": "2022-12-22T19:20:18.352Z"
   },
   {
    "duration": 99,
    "start_time": "2022-12-22T19:20:19.179Z"
   },
   {
    "duration": 699,
    "start_time": "2022-12-22T19:20:19.280Z"
   },
   {
    "duration": 97,
    "start_time": "2022-12-22T19:20:19.982Z"
   },
   {
    "duration": 134,
    "start_time": "2022-12-22T19:20:20.081Z"
   },
   {
    "duration": 12,
    "start_time": "2022-12-22T19:20:20.217Z"
   },
   {
    "duration": 651,
    "start_time": "2022-12-22T19:20:20.231Z"
   },
   {
    "duration": 11,
    "start_time": "2022-12-22T19:20:20.883Z"
   },
   {
    "duration": 90,
    "start_time": "2022-12-22T19:20:20.896Z"
   },
   {
    "duration": 96,
    "start_time": "2022-12-22T19:20:20.988Z"
   },
   {
    "duration": 100,
    "start_time": "2022-12-22T19:20:21.086Z"
   },
   {
    "duration": 477,
    "start_time": "2022-12-22T19:20:21.188Z"
   },
   {
    "duration": 136,
    "start_time": "2022-12-22T19:20:21.667Z"
   },
   {
    "duration": 5,
    "start_time": "2022-12-22T19:20:21.805Z"
   },
   {
    "duration": 149,
    "start_time": "2022-12-22T19:20:21.812Z"
   },
   {
    "duration": 829,
    "start_time": "2022-12-22T19:20:21.963Z"
   },
   {
    "duration": 1098,
    "start_time": "2022-12-22T19:20:22.879Z"
   },
   {
    "duration": 133,
    "start_time": "2022-12-22T19:20:23.980Z"
   },
   {
    "duration": 874,
    "start_time": "2022-12-22T19:20:24.114Z"
   },
   {
    "duration": 187,
    "start_time": "2022-12-22T19:20:24.990Z"
   },
   {
    "duration": 5,
    "start_time": "2022-12-22T19:20:25.179Z"
   },
   {
    "duration": 6,
    "start_time": "2022-12-22T19:20:25.187Z"
   },
   {
    "duration": 621,
    "start_time": "2022-12-22T19:20:25.195Z"
   },
   {
    "duration": 7,
    "start_time": "2022-12-22T19:20:25.818Z"
   },
   {
    "duration": 20,
    "start_time": "2022-12-22T19:20:25.827Z"
   },
   {
    "duration": 76,
    "start_time": "2022-12-22T19:20:25.849Z"
   },
   {
    "duration": 280,
    "start_time": "2022-12-22T19:20:25.927Z"
   },
   {
    "duration": 3554,
    "start_time": "2022-12-22T19:25:13.926Z"
   },
   {
    "duration": 60,
    "start_time": "2022-12-22T19:25:17.483Z"
   },
   {
    "duration": 23,
    "start_time": "2022-12-22T19:25:17.545Z"
   },
   {
    "duration": 23,
    "start_time": "2022-12-22T19:25:17.570Z"
   },
   {
    "duration": 8,
    "start_time": "2022-12-22T19:25:17.596Z"
   },
   {
    "duration": 11,
    "start_time": "2022-12-22T19:25:17.606Z"
   },
   {
    "duration": 7,
    "start_time": "2022-12-22T19:25:17.619Z"
   },
   {
    "duration": 15,
    "start_time": "2022-12-22T19:25:17.629Z"
   },
   {
    "duration": 32,
    "start_time": "2022-12-22T19:25:17.647Z"
   },
   {
    "duration": 6,
    "start_time": "2022-12-22T19:25:17.684Z"
   },
   {
    "duration": 31,
    "start_time": "2022-12-22T19:25:17.692Z"
   },
   {
    "duration": 4,
    "start_time": "2022-12-22T19:25:17.725Z"
   },
   {
    "duration": 58,
    "start_time": "2022-12-22T19:25:17.730Z"
   },
   {
    "duration": 33,
    "start_time": "2022-12-22T19:25:17.789Z"
   },
   {
    "duration": 5,
    "start_time": "2022-12-22T19:25:17.824Z"
   },
   {
    "duration": 31,
    "start_time": "2022-12-22T19:25:17.831Z"
   },
   {
    "duration": 30,
    "start_time": "2022-12-22T19:25:17.877Z"
   },
   {
    "duration": 68,
    "start_time": "2022-12-22T19:25:17.908Z"
   },
   {
    "duration": 20,
    "start_time": "2022-12-22T19:25:17.977Z"
   },
   {
    "duration": 785,
    "start_time": "2022-12-22T19:25:18.000Z"
   },
   {
    "duration": 96,
    "start_time": "2022-12-22T19:25:18.787Z"
   },
   {
    "duration": 794,
    "start_time": "2022-12-22T19:25:18.885Z"
   },
   {
    "duration": 97,
    "start_time": "2022-12-22T19:25:19.681Z"
   },
   {
    "duration": 42,
    "start_time": "2022-12-22T19:25:19.780Z"
   },
   {
    "duration": 12,
    "start_time": "2022-12-22T19:25:19.824Z"
   },
   {
    "duration": 667,
    "start_time": "2022-12-22T19:25:19.839Z"
   },
   {
    "duration": 13,
    "start_time": "2022-12-22T19:25:20.508Z"
   },
   {
    "duration": 53,
    "start_time": "2022-12-22T19:25:20.526Z"
   },
   {
    "duration": 102,
    "start_time": "2022-12-22T19:25:20.581Z"
   },
   {
    "duration": 93,
    "start_time": "2022-12-22T19:25:20.685Z"
   },
   {
    "duration": 428,
    "start_time": "2022-12-22T19:25:20.781Z"
   },
   {
    "duration": 136,
    "start_time": "2022-12-22T19:25:21.212Z"
   },
   {
    "duration": 6,
    "start_time": "2022-12-22T19:25:21.350Z"
   },
   {
    "duration": 136,
    "start_time": "2022-12-22T19:25:21.357Z"
   },
   {
    "duration": 688,
    "start_time": "2022-12-22T19:25:21.495Z"
   },
   {
    "duration": 1035,
    "start_time": "2022-12-22T19:25:22.184Z"
   },
   {
    "duration": 187,
    "start_time": "2022-12-22T19:25:23.221Z"
   },
   {
    "duration": 956,
    "start_time": "2022-12-22T19:25:23.410Z"
   },
   {
    "duration": 35,
    "start_time": "2022-12-22T19:25:24.368Z"
   },
   {
    "duration": 4302,
    "start_time": "2022-12-23T05:09:22.476Z"
   },
   {
    "duration": 96,
    "start_time": "2022-12-23T05:09:26.781Z"
   },
   {
    "duration": 22,
    "start_time": "2022-12-23T05:09:26.879Z"
   },
   {
    "duration": 33,
    "start_time": "2022-12-23T05:09:26.903Z"
   },
   {
    "duration": 6,
    "start_time": "2022-12-23T05:09:26.937Z"
   },
   {
    "duration": 9,
    "start_time": "2022-12-23T05:09:26.945Z"
   },
   {
    "duration": 9,
    "start_time": "2022-12-23T05:09:26.956Z"
   },
   {
    "duration": 22,
    "start_time": "2022-12-23T05:09:26.966Z"
   },
   {
    "duration": 3,
    "start_time": "2022-12-23T05:09:26.990Z"
   },
   {
    "duration": 5,
    "start_time": "2022-12-23T05:09:26.996Z"
   },
   {
    "duration": 41,
    "start_time": "2022-12-23T05:09:27.002Z"
   },
   {
    "duration": 3,
    "start_time": "2022-12-23T05:09:27.045Z"
   },
   {
    "duration": 28,
    "start_time": "2022-12-23T05:09:27.050Z"
   },
   {
    "duration": 28,
    "start_time": "2022-12-23T05:09:27.079Z"
   },
   {
    "duration": 27,
    "start_time": "2022-12-23T05:09:27.108Z"
   },
   {
    "duration": 11,
    "start_time": "2022-12-23T05:09:27.137Z"
   },
   {
    "duration": 37,
    "start_time": "2022-12-23T05:09:27.149Z"
   },
   {
    "duration": 17,
    "start_time": "2022-12-23T05:09:27.187Z"
   },
   {
    "duration": 31,
    "start_time": "2022-12-23T05:09:27.205Z"
   },
   {
    "duration": 698,
    "start_time": "2022-12-23T05:09:27.238Z"
   },
   {
    "duration": 97,
    "start_time": "2022-12-23T05:09:27.938Z"
   },
   {
    "duration": 657,
    "start_time": "2022-12-23T05:09:28.037Z"
   },
   {
    "duration": 7,
    "start_time": "2022-12-23T05:09:28.736Z"
   },
   {
    "duration": 123,
    "start_time": "2022-12-23T05:09:28.745Z"
   },
   {
    "duration": 10,
    "start_time": "2022-12-23T05:09:28.870Z"
   },
   {
    "duration": 545,
    "start_time": "2022-12-23T05:09:28.882Z"
   },
   {
    "duration": 14,
    "start_time": "2022-12-23T05:09:29.429Z"
   },
   {
    "duration": 100,
    "start_time": "2022-12-23T05:09:29.446Z"
   },
   {
    "duration": 102,
    "start_time": "2022-12-23T05:09:29.548Z"
   },
   {
    "duration": 22,
    "start_time": "2022-12-23T05:09:29.652Z"
   },
   {
    "duration": 470,
    "start_time": "2022-12-23T05:09:29.675Z"
   },
   {
    "duration": 119,
    "start_time": "2022-12-23T05:09:30.147Z"
   },
   {
    "duration": 5,
    "start_time": "2022-12-23T05:09:30.268Z"
   },
   {
    "duration": 234,
    "start_time": "2022-12-23T05:09:30.275Z"
   },
   {
    "duration": 628,
    "start_time": "2022-12-23T05:09:30.511Z"
   },
   {
    "duration": 996,
    "start_time": "2022-12-23T05:09:31.141Z"
   },
   {
    "duration": 130,
    "start_time": "2022-12-23T05:09:32.140Z"
   },
   {
    "duration": 965,
    "start_time": "2022-12-23T05:09:32.272Z"
   },
   {
    "duration": 196,
    "start_time": "2022-12-23T05:09:33.239Z"
   },
   {
    "duration": 1512151,
    "start_time": "2022-12-23T05:09:33.438Z"
   },
   {
    "duration": 3,
    "start_time": "2022-12-23T05:34:45.591Z"
   },
   {
    "duration": 589,
    "start_time": "2022-12-23T05:34:45.596Z"
   },
   {
    "duration": 6,
    "start_time": "2022-12-23T05:34:46.187Z"
   },
   {
    "duration": 18,
    "start_time": "2022-12-23T05:34:46.196Z"
   },
   {
    "duration": 59,
    "start_time": "2022-12-23T05:34:46.215Z"
   },
   {
    "duration": 267,
    "start_time": "2022-12-23T05:34:46.276Z"
   },
   {
    "duration": 3,
    "start_time": "2022-12-23T05:37:54.952Z"
   },
   {
    "duration": 2,
    "start_time": "2022-12-23T05:37:57.952Z"
   },
   {
    "duration": 3419,
    "start_time": "2022-12-23T05:48:58.697Z"
   },
   {
    "duration": 54,
    "start_time": "2022-12-23T05:49:02.119Z"
   },
   {
    "duration": 33,
    "start_time": "2022-12-23T05:49:02.175Z"
   },
   {
    "duration": 64,
    "start_time": "2022-12-23T05:49:02.210Z"
   },
   {
    "duration": 52,
    "start_time": "2022-12-23T05:49:02.275Z"
   },
   {
    "duration": 26,
    "start_time": "2022-12-23T05:49:02.329Z"
   },
   {
    "duration": 17,
    "start_time": "2022-12-23T05:49:02.357Z"
   },
   {
    "duration": 23,
    "start_time": "2022-12-23T05:49:02.376Z"
   },
   {
    "duration": 45,
    "start_time": "2022-12-23T05:49:02.402Z"
   },
   {
    "duration": 20,
    "start_time": "2022-12-23T05:49:02.450Z"
   },
   {
    "duration": 57,
    "start_time": "2022-12-23T05:49:02.472Z"
   },
   {
    "duration": 32,
    "start_time": "2022-12-23T05:49:02.531Z"
   },
   {
    "duration": 75,
    "start_time": "2022-12-23T05:49:02.565Z"
   },
   {
    "duration": 67,
    "start_time": "2022-12-23T05:49:02.642Z"
   },
   {
    "duration": 8,
    "start_time": "2022-12-23T05:49:02.711Z"
   },
   {
    "duration": 43,
    "start_time": "2022-12-23T05:49:02.721Z"
   },
   {
    "duration": 55,
    "start_time": "2022-12-23T05:49:02.766Z"
   },
   {
    "duration": 56,
    "start_time": "2022-12-23T05:49:02.823Z"
   },
   {
    "duration": 31,
    "start_time": "2022-12-23T05:49:02.881Z"
   },
   {
    "duration": 721,
    "start_time": "2022-12-23T05:49:02.915Z"
   },
   {
    "duration": 9,
    "start_time": "2022-12-23T05:49:03.638Z"
   },
   {
    "duration": 700,
    "start_time": "2022-12-23T05:49:03.736Z"
   },
   {
    "duration": 97,
    "start_time": "2022-12-23T05:49:04.438Z"
   },
   {
    "duration": 68,
    "start_time": "2022-12-23T05:49:04.538Z"
   },
   {
    "duration": 43,
    "start_time": "2022-12-23T05:49:04.608Z"
   },
   {
    "duration": 591,
    "start_time": "2022-12-23T05:49:04.653Z"
   },
   {
    "duration": 9,
    "start_time": "2022-12-23T05:49:05.246Z"
   },
   {
    "duration": 84,
    "start_time": "2022-12-23T05:49:05.258Z"
   },
   {
    "duration": 99,
    "start_time": "2022-12-23T05:49:05.344Z"
   },
   {
    "duration": 92,
    "start_time": "2022-12-23T05:49:05.445Z"
   },
   {
    "duration": 415,
    "start_time": "2022-12-23T05:49:05.539Z"
   },
   {
    "duration": 152,
    "start_time": "2022-12-23T05:49:05.956Z"
   },
   {
    "duration": 6,
    "start_time": "2022-12-23T05:49:06.109Z"
   },
   {
    "duration": 141,
    "start_time": "2022-12-23T05:49:06.117Z"
   },
   {
    "duration": 695,
    "start_time": "2022-12-23T05:49:06.259Z"
   },
   {
    "duration": 1103,
    "start_time": "2022-12-23T05:49:07.037Z"
   },
   {
    "duration": 126,
    "start_time": "2022-12-23T05:49:08.142Z"
   },
   {
    "duration": 936,
    "start_time": "2022-12-23T05:49:08.270Z"
   },
   {
    "duration": 128,
    "start_time": "2022-12-23T05:49:09.208Z"
   },
   {
    "duration": 4,
    "start_time": "2022-12-23T05:49:09.338Z"
   },
   {
    "duration": 2,
    "start_time": "2022-12-23T05:49:09.344Z"
   },
   {
    "duration": 682,
    "start_time": "2022-12-23T05:49:09.348Z"
   },
   {
    "duration": 7,
    "start_time": "2022-12-23T05:49:10.034Z"
   },
   {
    "duration": 34,
    "start_time": "2022-12-23T05:49:10.043Z"
   },
   {
    "duration": 56,
    "start_time": "2022-12-23T05:49:10.079Z"
   },
   {
    "duration": 288,
    "start_time": "2022-12-23T05:49:10.137Z"
   },
   {
    "duration": 3583,
    "start_time": "2022-12-23T05:55:57.734Z"
   },
   {
    "duration": 60,
    "start_time": "2022-12-23T05:56:01.320Z"
   },
   {
    "duration": 18,
    "start_time": "2022-12-23T05:56:01.382Z"
   },
   {
    "duration": 16,
    "start_time": "2022-12-23T05:56:01.402Z"
   },
   {
    "duration": 45,
    "start_time": "2022-12-23T05:56:01.420Z"
   },
   {
    "duration": 7,
    "start_time": "2022-12-23T05:56:01.467Z"
   },
   {
    "duration": 20,
    "start_time": "2022-12-23T05:56:01.475Z"
   },
   {
    "duration": 37,
    "start_time": "2022-12-23T05:56:01.497Z"
   },
   {
    "duration": 27,
    "start_time": "2022-12-23T05:56:01.536Z"
   },
   {
    "duration": 29,
    "start_time": "2022-12-23T05:56:01.566Z"
   },
   {
    "duration": 50,
    "start_time": "2022-12-23T05:56:01.597Z"
   },
   {
    "duration": 24,
    "start_time": "2022-12-23T05:56:01.650Z"
   },
   {
    "duration": 79,
    "start_time": "2022-12-23T05:56:01.676Z"
   },
   {
    "duration": 37,
    "start_time": "2022-12-23T05:56:01.757Z"
   },
   {
    "duration": 6,
    "start_time": "2022-12-23T05:56:01.796Z"
   },
   {
    "duration": 35,
    "start_time": "2022-12-23T05:56:01.804Z"
   },
   {
    "duration": 39,
    "start_time": "2022-12-23T05:56:01.845Z"
   },
   {
    "duration": 29,
    "start_time": "2022-12-23T05:56:01.885Z"
   },
   {
    "duration": 36,
    "start_time": "2022-12-23T05:56:01.915Z"
   },
   {
    "duration": 797,
    "start_time": "2022-12-23T05:56:01.953Z"
   },
   {
    "duration": 10,
    "start_time": "2022-12-23T05:56:02.755Z"
   },
   {
    "duration": 872,
    "start_time": "2022-12-23T05:56:02.767Z"
   },
   {
    "duration": 90,
    "start_time": "2022-12-23T05:56:03.647Z"
   },
   {
    "duration": 51,
    "start_time": "2022-12-23T05:56:03.743Z"
   },
   {
    "duration": 12,
    "start_time": "2022-12-23T05:56:03.796Z"
   },
   {
    "duration": 633,
    "start_time": "2022-12-23T05:56:03.810Z"
   },
   {
    "duration": 10,
    "start_time": "2022-12-23T05:56:04.449Z"
   },
   {
    "duration": 77,
    "start_time": "2022-12-23T05:56:04.464Z"
   },
   {
    "duration": 93,
    "start_time": "2022-12-23T05:56:04.546Z"
   },
   {
    "duration": 22,
    "start_time": "2022-12-23T05:56:04.640Z"
   },
   {
    "duration": 493,
    "start_time": "2022-12-23T05:56:04.664Z"
   },
   {
    "duration": 123,
    "start_time": "2022-12-23T05:56:05.159Z"
   },
   {
    "duration": 6,
    "start_time": "2022-12-23T05:56:05.283Z"
   },
   {
    "duration": 131,
    "start_time": "2022-12-23T05:56:05.290Z"
   },
   {
    "duration": 711,
    "start_time": "2022-12-23T05:56:05.423Z"
   },
   {
    "duration": 1019,
    "start_time": "2022-12-23T05:56:06.136Z"
   },
   {
    "duration": 213,
    "start_time": "2022-12-23T05:56:07.158Z"
   },
   {
    "duration": 930,
    "start_time": "2022-12-23T05:56:07.373Z"
   },
   {
    "duration": 54,
    "start_time": "2022-12-23T05:56:08.305Z"
   },
   {
    "duration": 87,
    "start_time": "2022-12-23T05:56:08.449Z"
   },
   {
    "duration": 5,
    "start_time": "2022-12-23T05:56:08.546Z"
   },
   {
    "duration": 598,
    "start_time": "2022-12-23T05:56:08.552Z"
   },
   {
    "duration": 7,
    "start_time": "2022-12-23T05:56:09.152Z"
   },
   {
    "duration": 23,
    "start_time": "2022-12-23T05:56:09.161Z"
   },
   {
    "duration": 66,
    "start_time": "2022-12-23T05:56:09.185Z"
   },
   {
    "duration": 274,
    "start_time": "2022-12-23T05:56:09.253Z"
   },
   {
    "duration": 3647,
    "start_time": "2022-12-23T05:59:19.507Z"
   },
   {
    "duration": 58,
    "start_time": "2022-12-23T05:59:23.156Z"
   },
   {
    "duration": 19,
    "start_time": "2022-12-23T05:59:23.216Z"
   },
   {
    "duration": 18,
    "start_time": "2022-12-23T05:59:23.237Z"
   },
   {
    "duration": 31,
    "start_time": "2022-12-23T05:59:23.257Z"
   },
   {
    "duration": 9,
    "start_time": "2022-12-23T05:59:23.290Z"
   },
   {
    "duration": 17,
    "start_time": "2022-12-23T05:59:23.301Z"
   },
   {
    "duration": 24,
    "start_time": "2022-12-23T05:59:23.321Z"
   },
   {
    "duration": 7,
    "start_time": "2022-12-23T05:59:23.347Z"
   },
   {
    "duration": 20,
    "start_time": "2022-12-23T05:59:23.357Z"
   },
   {
    "duration": 48,
    "start_time": "2022-12-23T05:59:23.379Z"
   },
   {
    "duration": 4,
    "start_time": "2022-12-23T05:59:23.428Z"
   },
   {
    "duration": 40,
    "start_time": "2022-12-23T05:59:23.434Z"
   },
   {
    "duration": 29,
    "start_time": "2022-12-23T05:59:23.476Z"
   },
   {
    "duration": 4,
    "start_time": "2022-12-23T05:59:23.506Z"
   },
   {
    "duration": 25,
    "start_time": "2022-12-23T05:59:23.511Z"
   },
   {
    "duration": 21,
    "start_time": "2022-12-23T05:59:23.537Z"
   },
   {
    "duration": 19,
    "start_time": "2022-12-23T05:59:23.559Z"
   },
   {
    "duration": 23,
    "start_time": "2022-12-23T05:59:23.580Z"
   },
   {
    "duration": 635,
    "start_time": "2022-12-23T05:59:23.605Z"
   },
   {
    "duration": 98,
    "start_time": "2022-12-23T05:59:24.242Z"
   },
   {
    "duration": 798,
    "start_time": "2022-12-23T05:59:24.345Z"
   },
   {
    "duration": 92,
    "start_time": "2022-12-23T05:59:25.145Z"
   },
   {
    "duration": 62,
    "start_time": "2022-12-23T05:59:25.238Z"
   },
   {
    "duration": 11,
    "start_time": "2022-12-23T05:59:25.301Z"
   },
   {
    "duration": 600,
    "start_time": "2022-12-23T05:59:25.313Z"
   },
   {
    "duration": 9,
    "start_time": "2022-12-23T05:59:25.914Z"
   },
   {
    "duration": 31,
    "start_time": "2022-12-23T05:59:25.926Z"
   },
   {
    "duration": 99,
    "start_time": "2022-12-23T05:59:26.037Z"
   },
   {
    "duration": 17,
    "start_time": "2022-12-23T05:59:26.138Z"
   },
   {
    "duration": 505,
    "start_time": "2022-12-23T05:59:26.157Z"
   },
   {
    "duration": 173,
    "start_time": "2022-12-23T05:59:26.664Z"
   },
   {
    "duration": 7,
    "start_time": "2022-12-23T05:59:26.839Z"
   },
   {
    "duration": 159,
    "start_time": "2022-12-23T05:59:26.848Z"
   },
   {
    "duration": 637,
    "start_time": "2022-12-23T05:59:27.009Z"
   },
   {
    "duration": 1028,
    "start_time": "2022-12-23T05:59:27.649Z"
   },
   {
    "duration": 131,
    "start_time": "2022-12-23T05:59:28.737Z"
   },
   {
    "duration": 920,
    "start_time": "2022-12-23T05:59:28.870Z"
   },
   {
    "duration": 151,
    "start_time": "2022-12-23T05:59:29.791Z"
   },
   {
    "duration": 3,
    "start_time": "2022-12-23T05:59:29.943Z"
   },
   {
    "duration": 15,
    "start_time": "2022-12-23T05:59:29.948Z"
   },
   {
    "duration": 604,
    "start_time": "2022-12-23T05:59:29.964Z"
   },
   {
    "duration": 6,
    "start_time": "2022-12-23T05:59:30.570Z"
   },
   {
    "duration": 55,
    "start_time": "2022-12-23T05:59:30.577Z"
   },
   {
    "duration": 74,
    "start_time": "2022-12-23T05:59:30.634Z"
   },
   {
    "duration": 309,
    "start_time": "2022-12-23T05:59:30.710Z"
   },
   {
    "duration": 125,
    "start_time": "2022-12-23T06:39:36.916Z"
   },
   {
    "duration": 56,
    "start_time": "2022-12-23T06:41:34.773Z"
   },
   {
    "duration": 57,
    "start_time": "2022-12-23T06:41:56.234Z"
   },
   {
    "duration": 64,
    "start_time": "2022-12-23T06:42:22.498Z"
   },
   {
    "duration": 14,
    "start_time": "2022-12-23T06:44:28.258Z"
   },
   {
    "duration": 138,
    "start_time": "2022-12-23T06:44:57.082Z"
   },
   {
    "duration": 134,
    "start_time": "2022-12-23T06:45:13.139Z"
   },
   {
    "duration": 27,
    "start_time": "2022-12-23T06:46:27.240Z"
   },
   {
    "duration": 521,
    "start_time": "2022-12-23T06:46:33.593Z"
   },
   {
    "duration": 200,
    "start_time": "2022-12-23T06:46:54.177Z"
   },
   {
    "duration": 15,
    "start_time": "2022-12-23T06:49:26.616Z"
   },
   {
    "duration": 3487,
    "start_time": "2022-12-23T06:49:48.304Z"
   },
   {
    "duration": 66,
    "start_time": "2022-12-23T06:49:51.793Z"
   },
   {
    "duration": 26,
    "start_time": "2022-12-23T06:49:51.861Z"
   },
   {
    "duration": 16,
    "start_time": "2022-12-23T06:49:51.889Z"
   },
   {
    "duration": 9,
    "start_time": "2022-12-23T06:49:51.907Z"
   },
   {
    "duration": 24,
    "start_time": "2022-12-23T06:49:51.917Z"
   },
   {
    "duration": 20,
    "start_time": "2022-12-23T06:49:51.943Z"
   },
   {
    "duration": 30,
    "start_time": "2022-12-23T06:49:51.964Z"
   },
   {
    "duration": 9,
    "start_time": "2022-12-23T06:49:51.997Z"
   },
   {
    "duration": 18,
    "start_time": "2022-12-23T06:49:52.009Z"
   },
   {
    "duration": 49,
    "start_time": "2022-12-23T06:49:52.029Z"
   },
   {
    "duration": 4,
    "start_time": "2022-12-23T06:49:52.080Z"
   },
   {
    "duration": 44,
    "start_time": "2022-12-23T06:49:52.085Z"
   },
   {
    "duration": 32,
    "start_time": "2022-12-23T06:49:52.131Z"
   },
   {
    "duration": 4,
    "start_time": "2022-12-23T06:49:52.164Z"
   },
   {
    "duration": 43,
    "start_time": "2022-12-23T06:49:52.169Z"
   },
   {
    "duration": 40,
    "start_time": "2022-12-23T06:49:52.214Z"
   },
   {
    "duration": 33,
    "start_time": "2022-12-23T06:49:52.256Z"
   },
   {
    "duration": 29,
    "start_time": "2022-12-23T06:49:52.291Z"
   },
   {
    "duration": 137,
    "start_time": "2022-12-23T06:49:52.322Z"
   },
   {
    "duration": 0,
    "start_time": "2022-12-23T06:49:52.462Z"
   },
   {
    "duration": 0,
    "start_time": "2022-12-23T06:49:52.463Z"
   },
   {
    "duration": 0,
    "start_time": "2022-12-23T06:49:52.464Z"
   },
   {
    "duration": 0,
    "start_time": "2022-12-23T06:49:52.465Z"
   },
   {
    "duration": 0,
    "start_time": "2022-12-23T06:49:52.466Z"
   },
   {
    "duration": 0,
    "start_time": "2022-12-23T06:49:52.467Z"
   },
   {
    "duration": 0,
    "start_time": "2022-12-23T06:49:52.469Z"
   },
   {
    "duration": 0,
    "start_time": "2022-12-23T06:49:52.470Z"
   },
   {
    "duration": 0,
    "start_time": "2022-12-23T06:49:52.471Z"
   },
   {
    "duration": 0,
    "start_time": "2022-12-23T06:49:52.473Z"
   },
   {
    "duration": 0,
    "start_time": "2022-12-23T06:49:52.475Z"
   },
   {
    "duration": 0,
    "start_time": "2022-12-23T06:49:52.476Z"
   },
   {
    "duration": 0,
    "start_time": "2022-12-23T06:49:52.478Z"
   },
   {
    "duration": 0,
    "start_time": "2022-12-23T06:49:52.479Z"
   },
   {
    "duration": 0,
    "start_time": "2022-12-23T06:49:52.481Z"
   },
   {
    "duration": 0,
    "start_time": "2022-12-23T06:49:52.482Z"
   },
   {
    "duration": 0,
    "start_time": "2022-12-23T06:49:52.484Z"
   },
   {
    "duration": 0,
    "start_time": "2022-12-23T06:49:52.485Z"
   },
   {
    "duration": 0,
    "start_time": "2022-12-23T06:49:52.487Z"
   },
   {
    "duration": 0,
    "start_time": "2022-12-23T06:49:52.536Z"
   },
   {
    "duration": 0,
    "start_time": "2022-12-23T06:49:52.538Z"
   },
   {
    "duration": 0,
    "start_time": "2022-12-23T06:49:52.541Z"
   },
   {
    "duration": 0,
    "start_time": "2022-12-23T06:49:52.543Z"
   },
   {
    "duration": 0,
    "start_time": "2022-12-23T06:49:52.544Z"
   },
   {
    "duration": 0,
    "start_time": "2022-12-23T06:49:52.545Z"
   },
   {
    "duration": 0,
    "start_time": "2022-12-23T06:49:52.546Z"
   },
   {
    "duration": 0,
    "start_time": "2022-12-23T06:49:52.548Z"
   },
   {
    "duration": 641,
    "start_time": "2022-12-23T06:50:13.496Z"
   },
   {
    "duration": 15,
    "start_time": "2022-12-23T06:50:32.878Z"
   },
   {
    "duration": 623,
    "start_time": "2022-12-23T06:50:57.967Z"
   },
   {
    "duration": 196,
    "start_time": "2022-12-23T06:51:05.240Z"
   },
   {
    "duration": 2,
    "start_time": "2022-12-23T06:53:51.669Z"
   },
   {
    "duration": 61,
    "start_time": "2022-12-23T07:02:58.818Z"
   },
   {
    "duration": 4287,
    "start_time": "2022-12-23T07:03:08.058Z"
   },
   {
    "duration": 217,
    "start_time": "2022-12-23T07:04:25.081Z"
   },
   {
    "duration": 247,
    "start_time": "2022-12-23T07:08:36.655Z"
   },
   {
    "duration": 222,
    "start_time": "2022-12-23T07:10:42.798Z"
   },
   {
    "duration": 230,
    "start_time": "2022-12-23T07:12:33.350Z"
   },
   {
    "duration": 230,
    "start_time": "2022-12-23T07:14:59.595Z"
   },
   {
    "duration": 4241,
    "start_time": "2022-12-23T07:15:08.082Z"
   },
   {
    "duration": 465,
    "start_time": "2022-12-23T07:16:54.252Z"
   },
   {
    "duration": 3329,
    "start_time": "2022-12-23T07:17:09.064Z"
   },
   {
    "duration": 3409,
    "start_time": "2022-12-23T07:17:38.817Z"
   },
   {
    "duration": 11,
    "start_time": "2022-12-23T07:18:25.967Z"
   },
   {
    "duration": 24,
    "start_time": "2022-12-23T07:18:38.825Z"
   },
   {
    "duration": 20,
    "start_time": "2022-12-23T07:18:50.658Z"
   },
   {
    "duration": 70,
    "start_time": "2022-12-23T07:19:02.335Z"
   },
   {
    "duration": 54,
    "start_time": "2022-12-23T07:19:28.200Z"
   },
   {
    "duration": 51,
    "start_time": "2022-12-23T07:19:32.518Z"
   },
   {
    "duration": 10,
    "start_time": "2022-12-23T07:20:46.984Z"
   },
   {
    "duration": 13,
    "start_time": "2022-12-23T07:20:56.983Z"
   },
   {
    "duration": 70,
    "start_time": "2022-12-23T07:21:03.093Z"
   },
   {
    "duration": 89,
    "start_time": "2022-12-23T07:21:16.333Z"
   },
   {
    "duration": 62,
    "start_time": "2022-12-23T07:21:30.334Z"
   },
   {
    "duration": 15,
    "start_time": "2022-12-23T07:21:42.674Z"
   },
   {
    "duration": 59,
    "start_time": "2022-12-23T07:22:09.369Z"
   },
   {
    "duration": 126,
    "start_time": "2022-12-23T07:22:15.056Z"
   },
   {
    "duration": 822,
    "start_time": "2022-12-23T07:22:22.262Z"
   },
   {
    "duration": 1645,
    "start_time": "2022-12-23T07:22:57.510Z"
   },
   {
    "duration": 1859,
    "start_time": "2022-12-23T07:24:17.557Z"
   },
   {
    "duration": 2270,
    "start_time": "2022-12-23T07:24:50.359Z"
   },
   {
    "duration": 1676,
    "start_time": "2022-12-23T07:25:08.552Z"
   },
   {
    "duration": 32,
    "start_time": "2022-12-23T07:30:28.861Z"
   },
   {
    "duration": 2044,
    "start_time": "2022-12-23T07:30:40.233Z"
   },
   {
    "duration": 1896,
    "start_time": "2022-12-23T07:30:57.433Z"
   },
   {
    "duration": 37,
    "start_time": "2022-12-23T07:31:17.634Z"
   },
   {
    "duration": 23,
    "start_time": "2022-12-23T07:31:26.462Z"
   },
   {
    "duration": 1999,
    "start_time": "2022-12-23T07:31:40.721Z"
   },
   {
    "duration": 1814,
    "start_time": "2022-12-23T07:32:29.568Z"
   },
   {
    "duration": 217,
    "start_time": "2022-12-23T07:32:42.801Z"
   },
   {
    "duration": 2013,
    "start_time": "2022-12-23T07:32:52.773Z"
   },
   {
    "duration": 2203,
    "start_time": "2022-12-23T07:33:10.940Z"
   },
   {
    "duration": 22,
    "start_time": "2022-12-23T07:33:29.669Z"
   },
   {
    "duration": 2000,
    "start_time": "2022-12-23T07:33:36.744Z"
   },
   {
    "duration": 2149,
    "start_time": "2022-12-23T07:33:47.816Z"
   },
   {
    "duration": 2054,
    "start_time": "2022-12-23T07:35:24.593Z"
   },
   {
    "duration": 29,
    "start_time": "2022-12-23T07:35:41.399Z"
   },
   {
    "duration": 39,
    "start_time": "2022-12-23T07:35:44.957Z"
   },
   {
    "duration": 2093,
    "start_time": "2022-12-23T07:35:47.970Z"
   },
   {
    "duration": 46,
    "start_time": "2022-12-23T07:37:26.230Z"
   },
   {
    "duration": 2024,
    "start_time": "2022-12-23T07:37:30.200Z"
   },
   {
    "duration": 1918,
    "start_time": "2022-12-23T07:38:19.457Z"
   },
   {
    "duration": 1866,
    "start_time": "2022-12-23T07:38:27.877Z"
   },
   {
    "duration": 52,
    "start_time": "2022-12-23T07:38:41.376Z"
   },
   {
    "duration": 64,
    "start_time": "2022-12-23T07:38:45.458Z"
   },
   {
    "duration": 2010,
    "start_time": "2022-12-23T07:38:52.001Z"
   },
   {
    "duration": 23,
    "start_time": "2022-12-23T07:39:30.879Z"
   },
   {
    "duration": 34,
    "start_time": "2022-12-23T07:39:40.550Z"
   },
   {
    "duration": 5,
    "start_time": "2022-12-23T07:40:14.108Z"
   },
   {
    "duration": 5,
    "start_time": "2022-12-23T07:40:20.001Z"
   },
   {
    "duration": 5,
    "start_time": "2022-12-23T07:40:24.516Z"
   },
   {
    "duration": 92,
    "start_time": "2022-12-23T07:40:30.301Z"
   },
   {
    "duration": 4,
    "start_time": "2022-12-23T07:40:34.717Z"
   },
   {
    "duration": 20,
    "start_time": "2022-12-23T07:40:39.574Z"
   },
   {
    "duration": 2534,
    "start_time": "2022-12-23T07:41:34.772Z"
   },
   {
    "duration": 66,
    "start_time": "2022-12-23T07:41:37.309Z"
   },
   {
    "duration": 36,
    "start_time": "2022-12-23T07:41:37.377Z"
   },
   {
    "duration": 34,
    "start_time": "2022-12-23T07:41:37.415Z"
   },
   {
    "duration": 17,
    "start_time": "2022-12-23T07:41:37.450Z"
   },
   {
    "duration": 13,
    "start_time": "2022-12-23T07:41:37.473Z"
   },
   {
    "duration": 8,
    "start_time": "2022-12-23T07:41:37.488Z"
   },
   {
    "duration": 14,
    "start_time": "2022-12-23T07:41:37.498Z"
   },
   {
    "duration": 25,
    "start_time": "2022-12-23T07:41:37.513Z"
   },
   {
    "duration": 25,
    "start_time": "2022-12-23T07:41:37.545Z"
   },
   {
    "duration": 35,
    "start_time": "2022-12-23T07:41:37.572Z"
   },
   {
    "duration": 5,
    "start_time": "2022-12-23T07:41:37.608Z"
   },
   {
    "duration": 44,
    "start_time": "2022-12-23T07:41:37.614Z"
   },
   {
    "duration": 43,
    "start_time": "2022-12-23T07:41:37.659Z"
   },
   {
    "duration": 4,
    "start_time": "2022-12-23T07:41:37.704Z"
   },
   {
    "duration": 37,
    "start_time": "2022-12-23T07:41:37.710Z"
   },
   {
    "duration": 48,
    "start_time": "2022-12-23T07:41:37.749Z"
   },
   {
    "duration": 22,
    "start_time": "2022-12-23T07:41:37.798Z"
   },
   {
    "duration": 29,
    "start_time": "2022-12-23T07:41:37.821Z"
   },
   {
    "duration": 255,
    "start_time": "2022-12-23T07:41:37.852Z"
   },
   {
    "duration": 4420,
    "start_time": "2022-12-23T07:41:49.188Z"
   },
   {
    "duration": 64,
    "start_time": "2022-12-23T07:41:53.610Z"
   },
   {
    "duration": 19,
    "start_time": "2022-12-23T07:41:53.675Z"
   },
   {
    "duration": 15,
    "start_time": "2022-12-23T07:41:53.696Z"
   },
   {
    "duration": 30,
    "start_time": "2022-12-23T07:41:53.712Z"
   },
   {
    "duration": 27,
    "start_time": "2022-12-23T07:41:53.750Z"
   },
   {
    "duration": 8,
    "start_time": "2022-12-23T07:41:53.779Z"
   },
   {
    "duration": 13,
    "start_time": "2022-12-23T07:41:53.789Z"
   },
   {
    "duration": 8,
    "start_time": "2022-12-23T07:41:53.803Z"
   },
   {
    "duration": 34,
    "start_time": "2022-12-23T07:41:53.814Z"
   },
   {
    "duration": 55,
    "start_time": "2022-12-23T07:41:53.850Z"
   },
   {
    "duration": 4,
    "start_time": "2022-12-23T07:41:53.906Z"
   },
   {
    "duration": 56,
    "start_time": "2022-12-23T07:41:53.912Z"
   },
   {
    "duration": 44,
    "start_time": "2022-12-23T07:41:53.973Z"
   },
   {
    "duration": 4,
    "start_time": "2022-12-23T07:41:54.019Z"
   },
   {
    "duration": 49,
    "start_time": "2022-12-23T07:41:54.039Z"
   },
   {
    "duration": 27,
    "start_time": "2022-12-23T07:41:54.089Z"
   },
   {
    "duration": 26,
    "start_time": "2022-12-23T07:41:54.118Z"
   },
   {
    "duration": 43,
    "start_time": "2022-12-23T07:41:54.148Z"
   },
   {
    "duration": 229,
    "start_time": "2022-12-23T07:41:54.193Z"
   },
   {
    "duration": 146,
    "start_time": "2022-12-23T07:41:54.424Z"
   },
   {
    "duration": 0,
    "start_time": "2022-12-23T07:41:54.573Z"
   },
   {
    "duration": 0,
    "start_time": "2022-12-23T07:41:54.573Z"
   },
   {
    "duration": 0,
    "start_time": "2022-12-23T07:41:54.574Z"
   },
   {
    "duration": 0,
    "start_time": "2022-12-23T07:41:54.575Z"
   },
   {
    "duration": 0,
    "start_time": "2022-12-23T07:41:54.576Z"
   },
   {
    "duration": 0,
    "start_time": "2022-12-23T07:41:54.578Z"
   },
   {
    "duration": 0,
    "start_time": "2022-12-23T07:41:54.579Z"
   },
   {
    "duration": 0,
    "start_time": "2022-12-23T07:41:54.580Z"
   },
   {
    "duration": 0,
    "start_time": "2022-12-23T07:41:54.581Z"
   },
   {
    "duration": 0,
    "start_time": "2022-12-23T07:41:54.583Z"
   },
   {
    "duration": 0,
    "start_time": "2022-12-23T07:41:54.584Z"
   },
   {
    "duration": 0,
    "start_time": "2022-12-23T07:41:54.585Z"
   },
   {
    "duration": 0,
    "start_time": "2022-12-23T07:41:54.586Z"
   },
   {
    "duration": 0,
    "start_time": "2022-12-23T07:41:54.587Z"
   },
   {
    "duration": 0,
    "start_time": "2022-12-23T07:41:54.588Z"
   },
   {
    "duration": 0,
    "start_time": "2022-12-23T07:41:54.589Z"
   },
   {
    "duration": 0,
    "start_time": "2022-12-23T07:41:54.590Z"
   },
   {
    "duration": 0,
    "start_time": "2022-12-23T07:41:54.590Z"
   },
   {
    "duration": 0,
    "start_time": "2022-12-23T07:41:54.591Z"
   },
   {
    "duration": 0,
    "start_time": "2022-12-23T07:41:54.593Z"
   },
   {
    "duration": 0,
    "start_time": "2022-12-23T07:41:54.594Z"
   },
   {
    "duration": 0,
    "start_time": "2022-12-23T07:41:54.595Z"
   },
   {
    "duration": 0,
    "start_time": "2022-12-23T07:41:54.596Z"
   },
   {
    "duration": 0,
    "start_time": "2022-12-23T07:41:54.640Z"
   },
   {
    "duration": 0,
    "start_time": "2022-12-23T07:41:54.641Z"
   },
   {
    "duration": 1,
    "start_time": "2022-12-23T07:41:54.641Z"
   },
   {
    "duration": 0,
    "start_time": "2022-12-23T07:41:54.643Z"
   },
   {
    "duration": 17,
    "start_time": "2022-12-23T07:42:13.711Z"
   },
   {
    "duration": 1799,
    "start_time": "2022-12-23T07:42:40.469Z"
   },
   {
    "duration": 4,
    "start_time": "2022-12-23T07:43:10.476Z"
   },
   {
    "duration": 1933,
    "start_time": "2022-12-23T07:43:17.533Z"
   },
   {
    "duration": 324,
    "start_time": "2022-12-23T07:43:37.666Z"
   },
   {
    "duration": 120,
    "start_time": "2022-12-23T07:43:40.557Z"
   },
   {
    "duration": 1893,
    "start_time": "2022-12-23T07:43:43.973Z"
   },
   {
    "duration": 1769,
    "start_time": "2022-12-23T07:43:52.733Z"
   },
   {
    "duration": 1969,
    "start_time": "2022-12-23T07:44:02.391Z"
   },
   {
    "duration": 2009,
    "start_time": "2022-12-23T07:44:21.820Z"
   },
   {
    "duration": 1900,
    "start_time": "2022-12-23T07:44:24.562Z"
   },
   {
    "duration": 1952,
    "start_time": "2022-12-23T07:44:32.010Z"
   },
   {
    "duration": 1943,
    "start_time": "2022-12-23T07:44:38.532Z"
   },
   {
    "duration": 2018,
    "start_time": "2022-12-23T07:44:51.484Z"
   },
   {
    "duration": 1930,
    "start_time": "2022-12-23T07:45:10.003Z"
   },
   {
    "duration": 26,
    "start_time": "2022-12-23T07:45:20.698Z"
   },
   {
    "duration": 24,
    "start_time": "2022-12-23T07:45:29.596Z"
   },
   {
    "duration": 26,
    "start_time": "2022-12-23T07:45:33.283Z"
   },
   {
    "duration": 1958,
    "start_time": "2022-12-23T07:45:37.255Z"
   },
   {
    "duration": 2013,
    "start_time": "2022-12-23T07:45:41.860Z"
   },
   {
    "duration": 77,
    "start_time": "2022-12-23T07:50:27.617Z"
   },
   {
    "duration": 16,
    "start_time": "2022-12-23T07:50:33.146Z"
   },
   {
    "duration": 5,
    "start_time": "2022-12-23T07:50:45.000Z"
   },
   {
    "duration": 11,
    "start_time": "2022-12-23T07:50:49.584Z"
   },
   {
    "duration": 267,
    "start_time": "2022-12-23T07:50:55.601Z"
   },
   {
    "duration": 3,
    "start_time": "2022-12-23T07:51:36.897Z"
   },
   {
    "duration": 279,
    "start_time": "2022-12-23T07:51:38.433Z"
   },
   {
    "duration": 58,
    "start_time": "2022-12-23T07:51:49.053Z"
   },
   {
    "duration": 83,
    "start_time": "2022-12-23T07:52:10.696Z"
   },
   {
    "duration": 47,
    "start_time": "2022-12-23T07:52:17.159Z"
   },
   {
    "duration": 80,
    "start_time": "2022-12-23T07:52:21.376Z"
   },
   {
    "duration": 73,
    "start_time": "2022-12-23T07:52:28.312Z"
   },
   {
    "duration": 4,
    "start_time": "2022-12-23T07:52:34.108Z"
   },
   {
    "duration": 278,
    "start_time": "2022-12-23T07:52:36.391Z"
   },
   {
    "duration": 6,
    "start_time": "2022-12-23T07:53:38.257Z"
   },
   {
    "duration": 302,
    "start_time": "2022-12-23T07:53:39.851Z"
   },
   {
    "duration": 13,
    "start_time": "2022-12-23T07:53:48.633Z"
   },
   {
    "duration": 294,
    "start_time": "2022-12-23T07:53:50.176Z"
   },
   {
    "duration": 4,
    "start_time": "2022-12-23T07:54:05.309Z"
   },
   {
    "duration": 35,
    "start_time": "2022-12-23T07:54:06.135Z"
   },
   {
    "duration": 3,
    "start_time": "2022-12-23T07:54:18.166Z"
   },
   {
    "duration": 23,
    "start_time": "2022-12-23T07:54:18.562Z"
   },
   {
    "duration": 66,
    "start_time": "2022-12-23T07:55:11.119Z"
   },
   {
    "duration": 4,
    "start_time": "2022-12-23T07:55:25.351Z"
   },
   {
    "duration": 24,
    "start_time": "2022-12-23T07:55:26.679Z"
   },
   {
    "duration": 5,
    "start_time": "2022-12-23T07:55:41.313Z"
   },
   {
    "duration": 268,
    "start_time": "2022-12-23T07:55:42.033Z"
   },
   {
    "duration": 5,
    "start_time": "2022-12-23T07:55:53.276Z"
   },
   {
    "duration": 38,
    "start_time": "2022-12-23T07:55:53.816Z"
   },
   {
    "duration": 5,
    "start_time": "2022-12-23T07:56:24.650Z"
   },
   {
    "duration": 27,
    "start_time": "2022-12-23T07:56:25.861Z"
   },
   {
    "duration": 4,
    "start_time": "2022-12-23T07:56:34.990Z"
   },
   {
    "duration": 26,
    "start_time": "2022-12-23T07:56:35.814Z"
   },
   {
    "duration": 4,
    "start_time": "2022-12-23T07:56:40.112Z"
   },
   {
    "duration": 249,
    "start_time": "2022-12-23T07:56:40.409Z"
   },
   {
    "duration": 64,
    "start_time": "2022-12-23T07:57:05.935Z"
   },
   {
    "duration": 4,
    "start_time": "2022-12-23T07:57:09.454Z"
   },
   {
    "duration": 19,
    "start_time": "2022-12-23T07:57:10.390Z"
   },
   {
    "duration": 55,
    "start_time": "2022-12-23T07:57:29.526Z"
   },
   {
    "duration": 4,
    "start_time": "2022-12-23T07:57:32.945Z"
   },
   {
    "duration": 21,
    "start_time": "2022-12-23T07:57:34.158Z"
   },
   {
    "duration": 4,
    "start_time": "2022-12-23T07:57:37.823Z"
   },
   {
    "duration": 258,
    "start_time": "2022-12-23T07:57:38.470Z"
   },
   {
    "duration": 71,
    "start_time": "2022-12-23T07:57:41.958Z"
   },
   {
    "duration": 4,
    "start_time": "2022-12-23T07:57:44.870Z"
   },
   {
    "duration": 17,
    "start_time": "2022-12-23T07:57:45.494Z"
   },
   {
    "duration": 7,
    "start_time": "2022-12-23T07:58:28.036Z"
   },
   {
    "duration": 18,
    "start_time": "2022-12-23T07:58:28.613Z"
   },
   {
    "duration": 5,
    "start_time": "2022-12-23T07:58:39.950Z"
   },
   {
    "duration": 256,
    "start_time": "2022-12-23T07:58:40.653Z"
   },
   {
    "duration": 4,
    "start_time": "2022-12-23T07:59:08.484Z"
   },
   {
    "duration": 28,
    "start_time": "2022-12-23T07:59:09.085Z"
   },
   {
    "duration": 298,
    "start_time": "2022-12-23T07:59:12.021Z"
   },
   {
    "duration": 3,
    "start_time": "2022-12-23T07:59:15.484Z"
   },
   {
    "duration": 25,
    "start_time": "2022-12-23T07:59:16.163Z"
   },
   {
    "duration": 4,
    "start_time": "2022-12-23T07:59:23.970Z"
   },
   {
    "duration": 19,
    "start_time": "2022-12-23T07:59:24.788Z"
   },
   {
    "duration": 11,
    "start_time": "2022-12-23T07:59:27.997Z"
   },
   {
    "duration": 17,
    "start_time": "2022-12-23T07:59:28.661Z"
   },
   {
    "duration": 4,
    "start_time": "2022-12-23T07:59:32.949Z"
   },
   {
    "duration": 269,
    "start_time": "2022-12-23T07:59:33.750Z"
   },
   {
    "duration": 4,
    "start_time": "2022-12-23T07:59:52.909Z"
   },
   {
    "duration": 30,
    "start_time": "2022-12-23T07:59:53.617Z"
   },
   {
    "duration": 4,
    "start_time": "2022-12-23T07:59:58.749Z"
   },
   {
    "duration": 23,
    "start_time": "2022-12-23T07:59:59.371Z"
   },
   {
    "duration": 111,
    "start_time": "2022-12-23T08:00:04.268Z"
   },
   {
    "duration": 4,
    "start_time": "2022-12-23T08:00:07.849Z"
   },
   {
    "duration": 24,
    "start_time": "2022-12-23T08:00:08.453Z"
   },
   {
    "duration": 4,
    "start_time": "2022-12-23T08:00:21.350Z"
   },
   {
    "duration": 33,
    "start_time": "2022-12-23T08:00:21.916Z"
   },
   {
    "duration": 4,
    "start_time": "2022-12-23T08:00:24.468Z"
   },
   {
    "duration": 23,
    "start_time": "2022-12-23T08:00:25.101Z"
   },
   {
    "duration": 3,
    "start_time": "2022-12-23T08:01:18.498Z"
   },
   {
    "duration": 24,
    "start_time": "2022-12-23T08:01:18.796Z"
   },
   {
    "duration": 4,
    "start_time": "2022-12-23T08:01:32.654Z"
   },
   {
    "duration": 19,
    "start_time": "2022-12-23T08:01:33.068Z"
   },
   {
    "duration": 4,
    "start_time": "2022-12-23T08:02:03.956Z"
   },
   {
    "duration": 104,
    "start_time": "2022-12-23T08:02:04.618Z"
   },
   {
    "duration": 4,
    "start_time": "2022-12-23T08:02:11.763Z"
   },
   {
    "duration": 16,
    "start_time": "2022-12-23T08:02:12.365Z"
   },
   {
    "duration": 4,
    "start_time": "2022-12-23T08:02:16.594Z"
   },
   {
    "duration": 1671,
    "start_time": "2022-12-23T08:02:16.600Z"
   },
   {
    "duration": 4,
    "start_time": "2022-12-23T08:02:33.950Z"
   },
   {
    "duration": 1786,
    "start_time": "2022-12-23T08:02:35.428Z"
   },
   {
    "duration": 4,
    "start_time": "2022-12-23T08:03:15.915Z"
   },
   {
    "duration": 1735,
    "start_time": "2022-12-23T08:03:16.634Z"
   },
   {
    "duration": 5,
    "start_time": "2022-12-23T08:03:36.397Z"
   },
   {
    "duration": 1802,
    "start_time": "2022-12-23T08:03:39.291Z"
   },
   {
    "duration": 5,
    "start_time": "2022-12-23T08:03:48.809Z"
   },
   {
    "duration": 1865,
    "start_time": "2022-12-23T08:03:50.124Z"
   },
   {
    "duration": 174,
    "start_time": "2022-12-23T08:03:59.491Z"
   },
   {
    "duration": 5,
    "start_time": "2022-12-23T08:04:04.882Z"
   },
   {
    "duration": 15,
    "start_time": "2022-12-23T08:04:07.206Z"
   },
   {
    "duration": 71,
    "start_time": "2022-12-23T08:05:00.254Z"
   },
   {
    "duration": 106,
    "start_time": "2022-12-23T08:05:09.778Z"
   },
   {
    "duration": 42,
    "start_time": "2022-12-23T08:05:36.883Z"
   },
   {
    "duration": 21,
    "start_time": "2022-12-23T08:05:37.818Z"
   },
   {
    "duration": 4,
    "start_time": "2022-12-23T08:05:58.602Z"
   },
   {
    "duration": 14,
    "start_time": "2022-12-23T08:05:59.570Z"
   },
   {
    "duration": 6,
    "start_time": "2022-12-23T08:06:04.449Z"
   },
   {
    "duration": 133,
    "start_time": "2022-12-23T08:06:04.979Z"
   },
   {
    "duration": 6,
    "start_time": "2022-12-23T08:06:07.417Z"
   },
   {
    "duration": 1766,
    "start_time": "2022-12-23T08:06:07.889Z"
   },
   {
    "duration": 53,
    "start_time": "2022-12-23T08:06:12.889Z"
   },
   {
    "duration": 4,
    "start_time": "2022-12-23T08:06:24.603Z"
   },
   {
    "duration": 18,
    "start_time": "2022-12-23T08:06:25.457Z"
   },
   {
    "duration": 5,
    "start_time": "2022-12-23T08:06:28.795Z"
   },
   {
    "duration": 99,
    "start_time": "2022-12-23T08:06:29.319Z"
   },
   {
    "duration": 6,
    "start_time": "2022-12-23T08:06:31.894Z"
   },
   {
    "duration": 1732,
    "start_time": "2022-12-23T08:06:32.401Z"
   },
   {
    "duration": 108,
    "start_time": "2022-12-23T08:06:40.354Z"
   },
   {
    "duration": 1752,
    "start_time": "2022-12-23T08:06:40.906Z"
   },
   {
    "duration": 4,
    "start_time": "2022-12-23T08:06:44.737Z"
   },
   {
    "duration": 15,
    "start_time": "2022-12-23T08:06:46.240Z"
   },
   {
    "duration": 45,
    "start_time": "2022-12-23T08:07:11.073Z"
   },
   {
    "duration": 49,
    "start_time": "2022-12-23T08:07:14.353Z"
   },
   {
    "duration": 5,
    "start_time": "2022-12-23T08:07:26.697Z"
   },
   {
    "duration": 14,
    "start_time": "2022-12-23T08:07:27.529Z"
   },
   {
    "duration": 5,
    "start_time": "2022-12-23T08:07:51.193Z"
   },
   {
    "duration": 21,
    "start_time": "2022-12-23T08:07:51.888Z"
   },
   {
    "duration": 4,
    "start_time": "2022-12-23T08:07:59.610Z"
   },
   {
    "duration": 16,
    "start_time": "2022-12-23T08:08:00.218Z"
   },
   {
    "duration": 193,
    "start_time": "2022-12-23T08:08:29.441Z"
   },
   {
    "duration": 5,
    "start_time": "2022-12-23T08:08:35.484Z"
   },
   {
    "duration": 15,
    "start_time": "2022-12-23T08:08:36.169Z"
   },
   {
    "duration": 4,
    "start_time": "2022-12-23T08:08:39.322Z"
   },
   {
    "duration": 99,
    "start_time": "2022-12-23T08:08:39.820Z"
   },
   {
    "duration": 5,
    "start_time": "2022-12-23T08:08:43.202Z"
   },
   {
    "duration": 1599,
    "start_time": "2022-12-23T08:08:43.718Z"
   },
   {
    "duration": 4,
    "start_time": "2022-12-23T08:09:03.464Z"
   },
   {
    "duration": 1550,
    "start_time": "2022-12-23T08:09:04.106Z"
   },
   {
    "duration": 4,
    "start_time": "2022-12-23T08:09:07.823Z"
   },
   {
    "duration": 1612,
    "start_time": "2022-12-23T08:09:08.576Z"
   },
   {
    "duration": 5,
    "start_time": "2022-12-23T08:09:35.026Z"
   },
   {
    "duration": 5,
    "start_time": "2022-12-23T08:09:42.440Z"
   },
   {
    "duration": 19,
    "start_time": "2022-12-23T08:09:42.992Z"
   },
   {
    "duration": 4,
    "start_time": "2022-12-23T08:09:51.440Z"
   },
   {
    "duration": 22,
    "start_time": "2022-12-23T08:09:52.108Z"
   },
   {
    "duration": 3,
    "start_time": "2022-12-23T08:09:58.519Z"
   },
   {
    "duration": 26,
    "start_time": "2022-12-23T08:09:59.064Z"
   },
   {
    "duration": 4,
    "start_time": "2022-12-23T08:10:17.288Z"
   },
   {
    "duration": 18,
    "start_time": "2022-12-23T08:10:17.766Z"
   },
   {
    "duration": 15,
    "start_time": "2022-12-23T08:10:26.518Z"
   },
   {
    "duration": 18,
    "start_time": "2022-12-23T08:10:26.864Z"
   },
   {
    "duration": 5,
    "start_time": "2022-12-23T08:10:36.735Z"
   },
   {
    "duration": 28,
    "start_time": "2022-12-23T08:10:37.296Z"
   },
   {
    "duration": 5,
    "start_time": "2022-12-23T08:11:02.523Z"
   },
   {
    "duration": 1516,
    "start_time": "2022-12-23T08:11:03.011Z"
   },
   {
    "duration": 58,
    "start_time": "2022-12-23T08:11:28.648Z"
   },
   {
    "duration": 4,
    "start_time": "2022-12-23T08:11:43.399Z"
   },
   {
    "duration": 19,
    "start_time": "2022-12-23T08:11:44.061Z"
   },
   {
    "duration": 5,
    "start_time": "2022-12-23T08:11:46.024Z"
   },
   {
    "duration": 21,
    "start_time": "2022-12-23T08:11:46.543Z"
   },
   {
    "duration": 5,
    "start_time": "2022-12-23T08:11:48.552Z"
   },
   {
    "duration": 132,
    "start_time": "2022-12-23T08:11:49.088Z"
   },
   {
    "duration": 4,
    "start_time": "2022-12-23T08:11:58.152Z"
   },
   {
    "duration": 108,
    "start_time": "2022-12-23T08:11:58.713Z"
   },
   {
    "duration": 4,
    "start_time": "2022-12-23T08:12:19.487Z"
   },
   {
    "duration": 24,
    "start_time": "2022-12-23T08:12:20.118Z"
   },
   {
    "duration": 4,
    "start_time": "2022-12-23T08:13:01.662Z"
   },
   {
    "duration": 138,
    "start_time": "2022-12-23T08:13:02.358Z"
   },
   {
    "duration": 3,
    "start_time": "2022-12-23T08:13:09.790Z"
   },
   {
    "duration": 106,
    "start_time": "2022-12-23T08:13:11.154Z"
   },
   {
    "duration": 5,
    "start_time": "2022-12-23T08:13:52.454Z"
   },
   {
    "duration": 27,
    "start_time": "2022-12-23T08:13:52.982Z"
   },
   {
    "duration": 4,
    "start_time": "2022-12-23T08:14:20.019Z"
   },
   {
    "duration": 21,
    "start_time": "2022-12-23T08:14:20.573Z"
   },
   {
    "duration": 5,
    "start_time": "2022-12-23T08:14:26.694Z"
   },
   {
    "duration": 29,
    "start_time": "2022-12-23T08:14:27.047Z"
   },
   {
    "duration": 4,
    "start_time": "2022-12-23T08:14:30.765Z"
   },
   {
    "duration": 104,
    "start_time": "2022-12-23T08:14:31.122Z"
   },
   {
    "duration": 4,
    "start_time": "2022-12-23T08:14:41.373Z"
   },
   {
    "duration": 27,
    "start_time": "2022-12-23T08:14:41.735Z"
   },
   {
    "duration": 4,
    "start_time": "2022-12-23T08:14:57.422Z"
   },
   {
    "duration": 23,
    "start_time": "2022-12-23T08:14:57.814Z"
   },
   {
    "duration": 5,
    "start_time": "2022-12-23T08:15:06.797Z"
   },
   {
    "duration": 25,
    "start_time": "2022-12-23T08:15:07.344Z"
   },
   {
    "duration": 5,
    "start_time": "2022-12-23T08:15:33.452Z"
   },
   {
    "duration": 25,
    "start_time": "2022-12-23T08:15:33.901Z"
   },
   {
    "duration": 4,
    "start_time": "2022-12-23T08:15:55.389Z"
   },
   {
    "duration": 103,
    "start_time": "2022-12-23T08:15:55.820Z"
   },
   {
    "duration": 5,
    "start_time": "2022-12-23T08:16:03.054Z"
   },
   {
    "duration": 12,
    "start_time": "2022-12-23T08:16:03.397Z"
   },
   {
    "duration": 5,
    "start_time": "2022-12-23T08:16:05.533Z"
   },
   {
    "duration": 99,
    "start_time": "2022-12-23T08:16:06.084Z"
   },
   {
    "duration": 4,
    "start_time": "2022-12-23T08:16:08.068Z"
   },
   {
    "duration": 1699,
    "start_time": "2022-12-23T08:16:08.396Z"
   },
   {
    "duration": 5,
    "start_time": "2022-12-23T08:16:19.501Z"
   },
   {
    "duration": 1719,
    "start_time": "2022-12-23T08:16:20.046Z"
   },
   {
    "duration": 5,
    "start_time": "2022-12-23T08:16:37.996Z"
   },
   {
    "duration": 1748,
    "start_time": "2022-12-23T08:16:39.351Z"
   },
   {
    "duration": 4,
    "start_time": "2022-12-23T08:17:02.101Z"
   },
   {
    "duration": 1726,
    "start_time": "2022-12-23T08:17:03.484Z"
   },
   {
    "duration": 177,
    "start_time": "2022-12-23T08:17:46.150Z"
   },
   {
    "duration": 1715,
    "start_time": "2022-12-23T08:18:14.891Z"
   },
   {
    "duration": 1687,
    "start_time": "2022-12-23T08:18:26.564Z"
   },
   {
    "duration": 1658,
    "start_time": "2022-12-23T08:18:32.979Z"
   },
   {
    "duration": 1788,
    "start_time": "2022-12-23T08:19:04.564Z"
   },
   {
    "duration": 1732,
    "start_time": "2022-12-23T08:19:13.972Z"
   },
   {
    "duration": 1820,
    "start_time": "2022-12-23T08:19:48.075Z"
   },
   {
    "duration": 1802,
    "start_time": "2022-12-23T08:20:00.068Z"
   },
   {
    "duration": 4,
    "start_time": "2022-12-23T08:20:19.212Z"
   },
   {
    "duration": 15,
    "start_time": "2022-12-23T08:20:21.251Z"
   },
   {
    "duration": 11,
    "start_time": "2022-12-23T08:20:26.243Z"
   },
   {
    "duration": 11,
    "start_time": "2022-12-23T08:20:38.467Z"
   },
   {
    "duration": 4,
    "start_time": "2022-12-23T08:20:43.732Z"
   },
   {
    "duration": 128,
    "start_time": "2022-12-23T08:20:44.299Z"
   },
   {
    "duration": 7,
    "start_time": "2022-12-23T08:20:46.979Z"
   },
   {
    "duration": 1773,
    "start_time": "2022-12-23T08:20:47.554Z"
   },
   {
    "duration": 66,
    "start_time": "2022-12-23T08:20:52.362Z"
   },
   {
    "duration": 4,
    "start_time": "2022-12-23T08:20:54.803Z"
   },
   {
    "duration": 14,
    "start_time": "2022-12-23T08:20:56.110Z"
   },
   {
    "duration": 4,
    "start_time": "2022-12-23T08:25:42.959Z"
   },
   {
    "duration": 12,
    "start_time": "2022-12-23T08:25:43.639Z"
   },
   {
    "duration": 5,
    "start_time": "2022-12-23T08:26:22.160Z"
   },
   {
    "duration": 90,
    "start_time": "2022-12-23T08:26:22.863Z"
   },
   {
    "duration": 4,
    "start_time": "2022-12-23T08:26:27.134Z"
   },
   {
    "duration": 1543,
    "start_time": "2022-12-23T08:26:27.671Z"
   },
   {
    "duration": 5,
    "start_time": "2022-12-23T08:26:49.640Z"
   },
   {
    "duration": 1736,
    "start_time": "2022-12-23T08:26:49.991Z"
   },
   {
    "duration": 5,
    "start_time": "2022-12-23T08:27:01.800Z"
   },
   {
    "duration": 1684,
    "start_time": "2022-12-23T08:27:05.535Z"
   },
   {
    "duration": 5,
    "start_time": "2022-12-23T08:27:24.542Z"
   },
   {
    "duration": 1692,
    "start_time": "2022-12-23T08:27:24.982Z"
   },
   {
    "duration": 4,
    "start_time": "2022-12-23T08:27:35.479Z"
   },
   {
    "duration": 1765,
    "start_time": "2022-12-23T08:27:35.902Z"
   },
   {
    "duration": 5,
    "start_time": "2022-12-23T08:28:04.631Z"
   },
   {
    "duration": 1646,
    "start_time": "2022-12-23T08:28:05.149Z"
   },
   {
    "duration": 55,
    "start_time": "2022-12-23T08:28:37.943Z"
   },
   {
    "duration": 59,
    "start_time": "2022-12-23T08:28:40.799Z"
   },
   {
    "duration": 6,
    "start_time": "2022-12-23T08:28:50.007Z"
   },
   {
    "duration": 13,
    "start_time": "2022-12-23T08:28:51.114Z"
   },
   {
    "duration": 4,
    "start_time": "2022-12-23T08:28:58.630Z"
   },
   {
    "duration": 96,
    "start_time": "2022-12-23T08:28:59.214Z"
   },
   {
    "duration": 6,
    "start_time": "2022-12-23T08:29:03.157Z"
   },
   {
    "duration": 1595,
    "start_time": "2022-12-23T08:29:03.694Z"
   },
   {
    "duration": 3202,
    "start_time": "2022-12-23T08:29:20.962Z"
   },
   {
    "duration": 18,
    "start_time": "2022-12-23T08:30:01.471Z"
   },
   {
    "duration": 23,
    "start_time": "2022-12-23T08:30:02.218Z"
   },
   {
    "duration": 5,
    "start_time": "2022-12-23T08:30:08.582Z"
   },
   {
    "duration": 20,
    "start_time": "2022-12-23T08:30:09.181Z"
   },
   {
    "duration": 4,
    "start_time": "2022-12-23T08:30:11.364Z"
   },
   {
    "duration": 21,
    "start_time": "2022-12-23T08:30:11.965Z"
   },
   {
    "duration": 5,
    "start_time": "2022-12-23T08:30:37.573Z"
   },
   {
    "duration": 19,
    "start_time": "2022-12-23T08:30:37.997Z"
   },
   {
    "duration": 5,
    "start_time": "2022-12-23T08:30:46.173Z"
   },
   {
    "duration": 19,
    "start_time": "2022-12-23T08:30:46.797Z"
   },
   {
    "duration": 4,
    "start_time": "2022-12-23T08:30:51.113Z"
   },
   {
    "duration": 23,
    "start_time": "2022-12-23T08:30:51.484Z"
   },
   {
    "duration": 7,
    "start_time": "2022-12-23T08:31:00.612Z"
   },
   {
    "duration": 24,
    "start_time": "2022-12-23T08:31:01.230Z"
   },
   {
    "duration": 5,
    "start_time": "2022-12-23T08:31:09.915Z"
   },
   {
    "duration": 24,
    "start_time": "2022-12-23T08:31:10.284Z"
   },
   {
    "duration": 6,
    "start_time": "2022-12-23T08:31:12.407Z"
   },
   {
    "duration": 20,
    "start_time": "2022-12-23T08:31:13.085Z"
   },
   {
    "duration": 4,
    "start_time": "2022-12-23T08:31:14.868Z"
   },
   {
    "duration": 19,
    "start_time": "2022-12-23T08:31:15.244Z"
   },
   {
    "duration": 54,
    "start_time": "2022-12-23T08:31:17.485Z"
   },
   {
    "duration": 25,
    "start_time": "2022-12-23T08:31:18.279Z"
   },
   {
    "duration": 6,
    "start_time": "2022-12-23T08:31:21.150Z"
   },
   {
    "duration": 28,
    "start_time": "2022-12-23T08:31:21.902Z"
   },
   {
    "duration": 5,
    "start_time": "2022-12-23T08:31:25.369Z"
   },
   {
    "duration": 21,
    "start_time": "2022-12-23T08:31:25.894Z"
   },
   {
    "duration": 4,
    "start_time": "2022-12-23T08:31:37.317Z"
   },
   {
    "duration": 20,
    "start_time": "2022-12-23T08:31:37.893Z"
   },
   {
    "duration": 5,
    "start_time": "2022-12-23T08:31:52.525Z"
   },
   {
    "duration": 1546,
    "start_time": "2022-12-23T08:31:53.117Z"
   },
   {
    "duration": 5,
    "start_time": "2022-12-23T08:32:03.409Z"
   },
   {
    "duration": 10,
    "start_time": "2022-12-23T08:32:05.245Z"
   },
   {
    "duration": 4,
    "start_time": "2022-12-23T08:32:07.060Z"
   },
   {
    "duration": 12,
    "start_time": "2022-12-23T08:32:07.468Z"
   },
   {
    "duration": 4,
    "start_time": "2022-12-23T08:32:10.156Z"
   },
   {
    "duration": 91,
    "start_time": "2022-12-23T08:32:10.692Z"
   },
   {
    "duration": 4,
    "start_time": "2022-12-23T08:32:13.380Z"
   },
   {
    "duration": 1667,
    "start_time": "2022-12-23T08:32:13.985Z"
   },
   {
    "duration": 5,
    "start_time": "2022-12-23T08:32:35.548Z"
   },
   {
    "duration": 1742,
    "start_time": "2022-12-23T08:32:36.156Z"
   },
   {
    "duration": 6,
    "start_time": "2022-12-23T08:32:42.429Z"
   },
   {
    "duration": 4,
    "start_time": "2022-12-23T08:32:46.156Z"
   },
   {
    "duration": 13,
    "start_time": "2022-12-23T08:32:46.712Z"
   },
   {
    "duration": 51,
    "start_time": "2022-12-23T08:32:50.291Z"
   },
   {
    "duration": 44,
    "start_time": "2022-12-23T08:32:54.388Z"
   },
   {
    "duration": 14,
    "start_time": "2022-12-23T08:32:55.060Z"
   },
   {
    "duration": 5,
    "start_time": "2022-12-23T08:33:00.262Z"
   },
   {
    "duration": 133,
    "start_time": "2022-12-23T08:33:00.749Z"
   },
   {
    "duration": 175,
    "start_time": "2022-12-23T08:33:29.100Z"
   },
   {
    "duration": 184,
    "start_time": "2022-12-23T08:33:33.916Z"
   },
   {
    "duration": 4,
    "start_time": "2022-12-23T08:33:40.868Z"
   },
   {
    "duration": 97,
    "start_time": "2022-12-23T08:33:41.691Z"
   },
   {
    "duration": 4,
    "start_time": "2022-12-23T08:34:20.909Z"
   },
   {
    "duration": 98,
    "start_time": "2022-12-23T08:34:21.291Z"
   },
   {
    "duration": 5,
    "start_time": "2022-12-23T08:34:32.428Z"
   },
   {
    "duration": 99,
    "start_time": "2022-12-23T08:34:33.884Z"
   },
   {
    "duration": 4,
    "start_time": "2022-12-23T08:34:41.275Z"
   },
   {
    "duration": 14,
    "start_time": "2022-12-23T08:34:41.691Z"
   },
   {
    "duration": 4,
    "start_time": "2022-12-23T08:34:43.699Z"
   },
   {
    "duration": 4,
    "start_time": "2022-12-23T08:34:46.413Z"
   },
   {
    "duration": 1620,
    "start_time": "2022-12-23T08:34:46.938Z"
   },
   {
    "duration": 4,
    "start_time": "2022-12-23T08:34:53.179Z"
   },
   {
    "duration": 14,
    "start_time": "2022-12-23T08:34:55.491Z"
   },
   {
    "duration": 4,
    "start_time": "2022-12-23T08:35:46.524Z"
   },
   {
    "duration": 12,
    "start_time": "2022-12-23T08:35:47.641Z"
   },
   {
    "duration": 4,
    "start_time": "2022-12-23T08:35:55.415Z"
   },
   {
    "duration": 12,
    "start_time": "2022-12-23T08:35:55.962Z"
   },
   {
    "duration": 5,
    "start_time": "2022-12-23T08:36:04.826Z"
   },
   {
    "duration": 12,
    "start_time": "2022-12-23T08:36:05.498Z"
   },
   {
    "duration": 56,
    "start_time": "2022-12-23T08:36:15.225Z"
   },
   {
    "duration": 50,
    "start_time": "2022-12-23T08:36:21.069Z"
   },
   {
    "duration": 4,
    "start_time": "2022-12-23T08:36:24.387Z"
   },
   {
    "duration": 17,
    "start_time": "2022-12-23T08:36:25.275Z"
   },
   {
    "duration": 5,
    "start_time": "2022-12-23T08:37:06.770Z"
   },
   {
    "duration": 12,
    "start_time": "2022-12-23T08:37:07.362Z"
   },
   {
    "duration": 4,
    "start_time": "2022-12-23T08:37:31.193Z"
   },
   {
    "duration": 32,
    "start_time": "2022-12-23T08:37:32.422Z"
   },
   {
    "duration": 4,
    "start_time": "2022-12-23T08:37:36.598Z"
   },
   {
    "duration": 25,
    "start_time": "2022-12-23T08:37:37.065Z"
   },
   {
    "duration": 5,
    "start_time": "2022-12-23T08:37:41.849Z"
   },
   {
    "duration": 15,
    "start_time": "2022-12-23T08:37:42.585Z"
   },
   {
    "duration": 6,
    "start_time": "2022-12-23T08:37:52.418Z"
   },
   {
    "duration": 14,
    "start_time": "2022-12-23T08:37:52.858Z"
   },
   {
    "duration": 4,
    "start_time": "2022-12-23T08:38:15.217Z"
   },
   {
    "duration": 19,
    "start_time": "2022-12-23T08:38:15.674Z"
   },
   {
    "duration": 4,
    "start_time": "2022-12-23T08:38:23.681Z"
   },
   {
    "duration": 26,
    "start_time": "2022-12-23T08:38:24.329Z"
   },
   {
    "duration": 7,
    "start_time": "2022-12-23T08:38:30.243Z"
   },
   {
    "duration": 27,
    "start_time": "2022-12-23T08:38:30.625Z"
   },
   {
    "duration": 18,
    "start_time": "2022-12-23T08:38:36.653Z"
   },
   {
    "duration": 21,
    "start_time": "2022-12-23T08:38:39.411Z"
   },
   {
    "duration": 15,
    "start_time": "2022-12-23T08:38:54.867Z"
   },
   {
    "duration": 9,
    "start_time": "2022-12-23T08:39:04.645Z"
   },
   {
    "duration": 19,
    "start_time": "2022-12-23T08:39:05.651Z"
   },
   {
    "duration": 4,
    "start_time": "2022-12-23T08:39:23.777Z"
   },
   {
    "duration": 20,
    "start_time": "2022-12-23T08:39:24.506Z"
   },
   {
    "duration": 5,
    "start_time": "2022-12-23T08:40:00.762Z"
   },
   {
    "duration": 25,
    "start_time": "2022-12-23T08:40:01.377Z"
   },
   {
    "duration": 4,
    "start_time": "2022-12-23T08:40:24.392Z"
   },
   {
    "duration": 20,
    "start_time": "2022-12-23T08:40:25.362Z"
   },
   {
    "duration": 6,
    "start_time": "2022-12-23T08:40:46.400Z"
   },
   {
    "duration": 5,
    "start_time": "2022-12-23T08:40:49.105Z"
   },
   {
    "duration": 22,
    "start_time": "2022-12-23T08:40:49.614Z"
   },
   {
    "duration": 7,
    "start_time": "2022-12-23T08:40:57.144Z"
   },
   {
    "duration": 33,
    "start_time": "2022-12-23T08:40:57.720Z"
   },
   {
    "duration": 6,
    "start_time": "2022-12-23T08:41:24.663Z"
   },
   {
    "duration": 21,
    "start_time": "2022-12-23T08:41:25.058Z"
   },
   {
    "duration": 6,
    "start_time": "2022-12-23T08:41:33.824Z"
   },
   {
    "duration": 14,
    "start_time": "2022-12-23T08:41:34.347Z"
   },
   {
    "duration": 5,
    "start_time": "2022-12-23T08:41:38.759Z"
   },
   {
    "duration": 111,
    "start_time": "2022-12-23T08:41:39.263Z"
   },
   {
    "duration": 4,
    "start_time": "2022-12-23T08:41:41.624Z"
   },
   {
    "duration": 1813,
    "start_time": "2022-12-23T08:41:42.184Z"
   },
   {
    "duration": 4,
    "start_time": "2022-12-23T08:42:10.879Z"
   },
   {
    "duration": 1792,
    "start_time": "2022-12-23T08:42:11.160Z"
   },
   {
    "duration": 3,
    "start_time": "2022-12-23T08:42:31.328Z"
   },
   {
    "duration": 1764,
    "start_time": "2022-12-23T08:42:31.808Z"
   },
   {
    "duration": 3507,
    "start_time": "2022-12-23T08:42:41.450Z"
   },
   {
    "duration": 3657,
    "start_time": "2022-12-23T08:42:45.870Z"
   },
   {
    "duration": 5,
    "start_time": "2022-12-23T08:43:41.734Z"
   },
   {
    "duration": 3343,
    "start_time": "2022-12-23T08:43:42.209Z"
   },
   {
    "duration": 4,
    "start_time": "2022-12-23T08:44:17.462Z"
   },
   {
    "duration": 20,
    "start_time": "2022-12-23T08:44:17.847Z"
   },
   {
    "duration": 5,
    "start_time": "2022-12-23T08:44:37.545Z"
   },
   {
    "duration": 3394,
    "start_time": "2022-12-23T08:44:37.924Z"
   },
   {
    "duration": 4,
    "start_time": "2022-12-23T08:44:46.294Z"
   },
   {
    "duration": 28,
    "start_time": "2022-12-23T08:44:46.630Z"
   },
   {
    "duration": 4,
    "start_time": "2022-12-23T08:44:48.908Z"
   },
   {
    "duration": 221,
    "start_time": "2022-12-23T08:44:49.453Z"
   },
   {
    "duration": 59,
    "start_time": "2022-12-23T08:46:59.196Z"
   },
   {
    "duration": 56,
    "start_time": "2022-12-23T08:47:02.943Z"
   },
   {
    "duration": 53,
    "start_time": "2022-12-23T08:47:09.772Z"
   },
   {
    "duration": 5,
    "start_time": "2022-12-23T08:47:25.432Z"
   },
   {
    "duration": 3364,
    "start_time": "2022-12-23T08:47:27.353Z"
   },
   {
    "duration": 47,
    "start_time": "2022-12-23T08:47:35.165Z"
   },
   {
    "duration": 44,
    "start_time": "2022-12-23T08:47:38.773Z"
   },
   {
    "duration": 56,
    "start_time": "2022-12-23T08:47:40.420Z"
   },
   {
    "duration": 60,
    "start_time": "2022-12-23T08:47:45.078Z"
   },
   {
    "duration": 60,
    "start_time": "2022-12-23T08:47:49.019Z"
   },
   {
    "duration": 0,
    "start_time": "2022-12-23T08:47:49.081Z"
   },
   {
    "duration": 82,
    "start_time": "2022-12-23T08:48:09.210Z"
   },
   {
    "duration": 81,
    "start_time": "2022-12-23T08:48:12.053Z"
   },
   {
    "duration": 4,
    "start_time": "2022-12-23T08:48:26.525Z"
   },
   {
    "duration": 20,
    "start_time": "2022-12-23T08:48:27.589Z"
   },
   {
    "duration": 4,
    "start_time": "2022-12-23T08:48:38.509Z"
   },
   {
    "duration": 13,
    "start_time": "2022-12-23T08:48:39.110Z"
   },
   {
    "duration": 4,
    "start_time": "2022-12-23T08:48:48.781Z"
   },
   {
    "duration": 21,
    "start_time": "2022-12-23T08:48:49.179Z"
   },
   {
    "duration": 4,
    "start_time": "2022-12-23T08:48:54.853Z"
   },
   {
    "duration": 19,
    "start_time": "2022-12-23T08:48:55.276Z"
   },
   {
    "duration": 5,
    "start_time": "2022-12-23T08:49:02.525Z"
   },
   {
    "duration": 20,
    "start_time": "2022-12-23T08:49:03.484Z"
   },
   {
    "duration": 8,
    "start_time": "2022-12-23T08:49:08.241Z"
   },
   {
    "duration": 212,
    "start_time": "2022-12-23T08:49:08.796Z"
   },
   {
    "duration": 4,
    "start_time": "2022-12-23T08:49:11.675Z"
   },
   {
    "duration": 3344,
    "start_time": "2022-12-23T08:49:12.628Z"
   },
   {
    "duration": 1773,
    "start_time": "2022-12-23T08:49:20.851Z"
   },
   {
    "duration": 3434,
    "start_time": "2022-12-23T08:49:25.629Z"
   },
   {
    "duration": 4,
    "start_time": "2022-12-23T08:49:41.803Z"
   },
   {
    "duration": 3401,
    "start_time": "2022-12-23T08:49:42.310Z"
   },
   {
    "duration": 69,
    "start_time": "2022-12-23T08:50:21.251Z"
   },
   {
    "duration": 54,
    "start_time": "2022-12-23T08:50:38.596Z"
   },
   {
    "duration": 48,
    "start_time": "2022-12-23T08:50:46.049Z"
   },
   {
    "duration": 61,
    "start_time": "2022-12-23T08:51:12.364Z"
   },
   {
    "duration": 4,
    "start_time": "2022-12-23T08:51:15.676Z"
   },
   {
    "duration": 3463,
    "start_time": "2022-12-23T08:51:16.236Z"
   },
   {
    "duration": 4,
    "start_time": "2022-12-23T08:51:30.590Z"
   },
   {
    "duration": 3435,
    "start_time": "2022-12-23T08:51:31.196Z"
   },
   {
    "duration": 4,
    "start_time": "2022-12-23T08:51:52.157Z"
   },
   {
    "duration": 3472,
    "start_time": "2022-12-23T08:51:52.703Z"
   },
   {
    "duration": 5,
    "start_time": "2022-12-23T08:52:02.773Z"
   },
   {
    "duration": 3552,
    "start_time": "2022-12-23T08:52:03.219Z"
   },
   {
    "duration": 3639,
    "start_time": "2022-12-23T08:52:18.180Z"
   },
   {
    "duration": 4,
    "start_time": "2022-12-23T08:52:34.560Z"
   },
   {
    "duration": 3469,
    "start_time": "2022-12-23T08:52:36.507Z"
   },
   {
    "duration": 8,
    "start_time": "2022-12-23T08:52:46.035Z"
   },
   {
    "duration": 3587,
    "start_time": "2022-12-23T08:52:46.571Z"
   },
   {
    "duration": 4,
    "start_time": "2022-12-23T08:53:15.012Z"
   },
   {
    "duration": 3618,
    "start_time": "2022-12-23T08:53:15.579Z"
   },
   {
    "duration": 4,
    "start_time": "2022-12-23T08:53:29.995Z"
   },
   {
    "duration": 24,
    "start_time": "2022-12-23T08:53:31.994Z"
   },
   {
    "duration": 4,
    "start_time": "2022-12-23T08:56:05.713Z"
   },
   {
    "duration": 199,
    "start_time": "2022-12-23T08:56:06.219Z"
   },
   {
    "duration": 4,
    "start_time": "2022-12-23T08:58:05.402Z"
   },
   {
    "duration": 199,
    "start_time": "2022-12-23T08:58:05.921Z"
   },
   {
    "duration": 4,
    "start_time": "2022-12-23T08:58:37.874Z"
   },
   {
    "duration": 198,
    "start_time": "2022-12-23T08:58:39.234Z"
   },
   {
    "duration": 4,
    "start_time": "2022-12-23T08:58:47.977Z"
   },
   {
    "duration": 3508,
    "start_time": "2022-12-23T08:58:48.585Z"
   },
   {
    "duration": 4,
    "start_time": "2022-12-23T08:58:55.665Z"
   },
   {
    "duration": 21,
    "start_time": "2022-12-23T08:58:56.194Z"
   },
   {
    "duration": 4,
    "start_time": "2022-12-23T08:59:06.378Z"
   },
   {
    "duration": 21,
    "start_time": "2022-12-23T08:59:06.769Z"
   },
   {
    "duration": 5,
    "start_time": "2022-12-23T08:59:09.473Z"
   },
   {
    "duration": 235,
    "start_time": "2022-12-23T08:59:09.961Z"
   },
   {
    "duration": 67,
    "start_time": "2022-12-23T08:59:25.017Z"
   },
   {
    "duration": 189,
    "start_time": "2022-12-23T08:59:29.840Z"
   },
   {
    "duration": 181,
    "start_time": "2022-12-23T08:59:34.273Z"
   },
   {
    "duration": 6,
    "start_time": "2022-12-23T08:59:40.634Z"
   },
   {
    "duration": 3399,
    "start_time": "2022-12-23T08:59:41.169Z"
   },
   {
    "duration": 6,
    "start_time": "2022-12-23T08:59:54.560Z"
   },
   {
    "duration": 20,
    "start_time": "2022-12-23T08:59:55.169Z"
   },
   {
    "duration": 4,
    "start_time": "2022-12-23T08:59:58.129Z"
   },
   {
    "duration": 21,
    "start_time": "2022-12-23T08:59:58.696Z"
   },
   {
    "duration": 4,
    "start_time": "2022-12-23T09:00:11.329Z"
   },
   {
    "duration": 21,
    "start_time": "2022-12-23T09:00:11.905Z"
   },
   {
    "duration": 70,
    "start_time": "2022-12-23T09:02:04.752Z"
   },
   {
    "duration": 3,
    "start_time": "2022-12-23T09:02:10.481Z"
   },
   {
    "duration": 20,
    "start_time": "2022-12-23T09:02:11.560Z"
   },
   {
    "duration": 4,
    "start_time": "2022-12-23T09:02:24.319Z"
   },
   {
    "duration": 19,
    "start_time": "2022-12-23T09:02:25.488Z"
   },
   {
    "duration": 9,
    "start_time": "2022-12-23T09:03:07.442Z"
   },
   {
    "duration": 18,
    "start_time": "2022-12-23T09:03:08.176Z"
   },
   {
    "duration": 4,
    "start_time": "2022-12-23T09:03:18.304Z"
   },
   {
    "duration": 25,
    "start_time": "2022-12-23T09:03:18.753Z"
   },
   {
    "duration": 4,
    "start_time": "2022-12-23T09:03:26.664Z"
   },
   {
    "duration": 24,
    "start_time": "2022-12-23T09:03:27.126Z"
   },
   {
    "duration": 4,
    "start_time": "2022-12-23T09:03:31.224Z"
   },
   {
    "duration": 13,
    "start_time": "2022-12-23T09:03:33.631Z"
   },
   {
    "duration": 22,
    "start_time": "2022-12-23T09:03:33.934Z"
   },
   {
    "duration": 5,
    "start_time": "2022-12-23T09:03:59.087Z"
   },
   {
    "duration": 20,
    "start_time": "2022-12-23T09:03:59.639Z"
   },
   {
    "duration": 3,
    "start_time": "2022-12-23T09:04:14.262Z"
   },
   {
    "duration": 20,
    "start_time": "2022-12-23T09:04:15.023Z"
   },
   {
    "duration": 4,
    "start_time": "2022-12-23T09:04:25.935Z"
   },
   {
    "duration": 20,
    "start_time": "2022-12-23T09:04:26.430Z"
   },
   {
    "duration": 4,
    "start_time": "2022-12-23T09:04:45.238Z"
   },
   {
    "duration": 3068,
    "start_time": "2022-12-23T09:04:45.759Z"
   },
   {
    "duration": 4,
    "start_time": "2022-12-23T09:05:07.407Z"
   },
   {
    "duration": 3130,
    "start_time": "2022-12-23T09:05:07.935Z"
   },
   {
    "duration": 3,
    "start_time": "2022-12-23T09:05:42.247Z"
   },
   {
    "duration": 3024,
    "start_time": "2022-12-23T09:05:42.815Z"
   },
   {
    "duration": 4,
    "start_time": "2022-12-23T09:06:04.031Z"
   },
   {
    "duration": 19,
    "start_time": "2022-12-23T09:06:04.382Z"
   },
   {
    "duration": 4,
    "start_time": "2022-12-23T09:06:08.086Z"
   },
   {
    "duration": 197,
    "start_time": "2022-12-23T09:06:08.622Z"
   },
   {
    "duration": 5,
    "start_time": "2022-12-23T09:06:12.550Z"
   },
   {
    "duration": 3393,
    "start_time": "2022-12-23T09:06:13.039Z"
   },
   {
    "duration": 4,
    "start_time": "2022-12-23T09:06:25.246Z"
   },
   {
    "duration": 3047,
    "start_time": "2022-12-23T09:06:25.743Z"
   },
   {
    "duration": 3,
    "start_time": "2022-12-23T09:06:33.230Z"
   },
   {
    "duration": 2961,
    "start_time": "2022-12-23T09:06:33.543Z"
   },
   {
    "duration": 5,
    "start_time": "2022-12-23T09:06:46.655Z"
   },
   {
    "duration": 19,
    "start_time": "2022-12-23T09:06:47.141Z"
   },
   {
    "duration": 4,
    "start_time": "2022-12-23T09:06:58.278Z"
   },
   {
    "duration": 3,
    "start_time": "2022-12-23T09:07:00.927Z"
   },
   {
    "duration": 3229,
    "start_time": "2022-12-23T09:07:01.318Z"
   },
   {
    "duration": 3,
    "start_time": "2022-12-23T09:07:37.478Z"
   },
   {
    "duration": 19,
    "start_time": "2022-12-23T09:07:38.094Z"
   },
   {
    "duration": 5,
    "start_time": "2022-12-23T09:07:48.950Z"
   },
   {
    "duration": 19,
    "start_time": "2022-12-23T09:07:49.454Z"
   },
   {
    "duration": 4,
    "start_time": "2022-12-23T09:08:00.214Z"
   },
   {
    "duration": 19,
    "start_time": "2022-12-23T09:08:00.741Z"
   },
   {
    "duration": 4,
    "start_time": "2022-12-23T09:08:14.663Z"
   },
   {
    "duration": 19,
    "start_time": "2022-12-23T09:08:15.230Z"
   },
   {
    "duration": 3,
    "start_time": "2022-12-23T09:08:39.262Z"
   },
   {
    "duration": 20,
    "start_time": "2022-12-23T09:08:40.501Z"
   },
   {
    "duration": 4,
    "start_time": "2022-12-23T09:08:46.078Z"
   },
   {
    "duration": 198,
    "start_time": "2022-12-23T09:08:46.660Z"
   },
   {
    "duration": 4,
    "start_time": "2022-12-23T09:08:49.741Z"
   },
   {
    "duration": 3190,
    "start_time": "2022-12-23T09:08:50.293Z"
   },
   {
    "duration": 5,
    "start_time": "2022-12-23T09:09:17.189Z"
   },
   {
    "duration": 3130,
    "start_time": "2022-12-23T09:09:17.589Z"
   },
   {
    "duration": 4,
    "start_time": "2022-12-23T09:09:42.406Z"
   },
   {
    "duration": 2997,
    "start_time": "2022-12-23T09:09:42.973Z"
   },
   {
    "duration": 5,
    "start_time": "2022-12-23T09:09:52.421Z"
   },
   {
    "duration": 19,
    "start_time": "2022-12-23T09:09:52.916Z"
   },
   {
    "duration": 57,
    "start_time": "2022-12-23T09:10:09.580Z"
   },
   {
    "duration": 20,
    "start_time": "2022-12-23T09:10:10.005Z"
   },
   {
    "duration": 3,
    "start_time": "2022-12-23T09:10:15.068Z"
   },
   {
    "duration": 19,
    "start_time": "2022-12-23T09:10:16.204Z"
   },
   {
    "duration": 4,
    "start_time": "2022-12-23T09:10:29.148Z"
   },
   {
    "duration": 19,
    "start_time": "2022-12-23T09:10:29.748Z"
   },
   {
    "duration": 4,
    "start_time": "2022-12-23T09:10:36.564Z"
   },
   {
    "duration": 22,
    "start_time": "2022-12-23T09:10:37.132Z"
   },
   {
    "duration": 4,
    "start_time": "2022-12-23T09:10:43.292Z"
   },
   {
    "duration": 181,
    "start_time": "2022-12-23T09:10:43.851Z"
   },
   {
    "duration": 4,
    "start_time": "2022-12-23T09:10:46.133Z"
   },
   {
    "duration": 3095,
    "start_time": "2022-12-23T09:10:46.635Z"
   },
   {
    "duration": 4,
    "start_time": "2022-12-23T09:11:18.419Z"
   },
   {
    "duration": 3191,
    "start_time": "2022-12-23T09:11:18.700Z"
   },
   {
    "duration": 4,
    "start_time": "2022-12-23T09:11:41.811Z"
   },
   {
    "duration": 3017,
    "start_time": "2022-12-23T09:11:42.300Z"
   },
   {
    "duration": 4,
    "start_time": "2022-12-23T09:12:07.900Z"
   },
   {
    "duration": 3115,
    "start_time": "2022-12-23T09:12:08.482Z"
   },
   {
    "duration": 3201,
    "start_time": "2022-12-23T09:12:17.019Z"
   },
   {
    "duration": 3182,
    "start_time": "2022-12-23T09:12:28.732Z"
   },
   {
    "duration": 4528,
    "start_time": "2022-12-23T09:12:41.243Z"
   },
   {
    "duration": 3169,
    "start_time": "2022-12-23T09:12:48.924Z"
   },
   {
    "duration": 4,
    "start_time": "2022-12-23T09:13:02.930Z"
   },
   {
    "duration": 11,
    "start_time": "2022-12-23T09:13:03.589Z"
   },
   {
    "duration": 49,
    "start_time": "2022-12-23T09:13:14.004Z"
   },
   {
    "duration": 13,
    "start_time": "2022-12-23T09:13:14.386Z"
   },
   {
    "duration": 5,
    "start_time": "2022-12-23T09:13:18.707Z"
   },
   {
    "duration": 22,
    "start_time": "2022-12-23T09:13:19.547Z"
   },
   {
    "duration": 4,
    "start_time": "2022-12-23T09:13:29.076Z"
   },
   {
    "duration": 20,
    "start_time": "2022-12-23T09:13:29.651Z"
   },
   {
    "duration": 5,
    "start_time": "2022-12-23T09:13:37.970Z"
   },
   {
    "duration": 25,
    "start_time": "2022-12-23T09:13:38.386Z"
   },
   {
    "duration": 4,
    "start_time": "2022-12-23T09:13:49.842Z"
   },
   {
    "duration": 3212,
    "start_time": "2022-12-23T09:13:50.419Z"
   },
   {
    "duration": 5,
    "start_time": "2022-12-23T09:13:59.850Z"
   },
   {
    "duration": 16,
    "start_time": "2022-12-23T09:14:00.330Z"
   },
   {
    "duration": 4,
    "start_time": "2022-12-23T09:17:20.802Z"
   },
   {
    "duration": 3304,
    "start_time": "2022-12-23T09:17:21.274Z"
   },
   {
    "duration": 3128,
    "start_time": "2022-12-23T09:17:56.750Z"
   },
   {
    "duration": 4,
    "start_time": "2022-12-23T09:19:17.646Z"
   },
   {
    "duration": 3493,
    "start_time": "2022-12-23T09:19:18.161Z"
   },
   {
    "duration": 92,
    "start_time": "2022-12-23T09:19:30.881Z"
   },
   {
    "duration": 4,
    "start_time": "2022-12-23T09:19:34.209Z"
   },
   {
    "duration": 20,
    "start_time": "2022-12-23T09:19:35.473Z"
   },
   {
    "duration": 4,
    "start_time": "2022-12-23T09:19:40.176Z"
   },
   {
    "duration": 3311,
    "start_time": "2022-12-23T09:19:40.760Z"
   },
   {
    "duration": 4,
    "start_time": "2022-12-23T09:20:02.273Z"
   },
   {
    "duration": 23,
    "start_time": "2022-12-23T09:20:02.640Z"
   },
   {
    "duration": 4,
    "start_time": "2022-12-23T09:20:17.217Z"
   },
   {
    "duration": 4,
    "start_time": "2022-12-23T09:20:20.497Z"
   },
   {
    "duration": 22,
    "start_time": "2022-12-23T09:20:21.008Z"
   },
   {
    "duration": 5,
    "start_time": "2022-12-23T09:20:36.232Z"
   },
   {
    "duration": 20,
    "start_time": "2022-12-23T09:20:37.135Z"
   },
   {
    "duration": 4,
    "start_time": "2022-12-23T09:20:44.849Z"
   },
   {
    "duration": 21,
    "start_time": "2022-12-23T09:20:45.408Z"
   },
   {
    "duration": 4,
    "start_time": "2022-12-23T09:20:50.432Z"
   },
   {
    "duration": 3,
    "start_time": "2022-12-23T09:20:54.895Z"
   },
   {
    "duration": 184,
    "start_time": "2022-12-23T09:20:55.249Z"
   },
   {
    "duration": 3,
    "start_time": "2022-12-23T09:21:02.184Z"
   },
   {
    "duration": 3379,
    "start_time": "2022-12-23T09:21:03.239Z"
   },
   {
    "duration": 5,
    "start_time": "2022-12-23T09:22:24.448Z"
   },
   {
    "duration": 22,
    "start_time": "2022-12-23T09:22:26.200Z"
   },
   {
    "duration": 4,
    "start_time": "2022-12-23T09:22:29.863Z"
   },
   {
    "duration": 3358,
    "start_time": "2022-12-23T09:22:30.478Z"
   },
   {
    "duration": 1618,
    "start_time": "2022-12-23T09:29:06.202Z"
   },
   {
    "duration": 583,
    "start_time": "2022-12-23T09:30:35.253Z"
   },
   {
    "duration": 197,
    "start_time": "2022-12-23T09:30:44.078Z"
   },
   {
    "duration": 577,
    "start_time": "2022-12-23T09:31:08.260Z"
   },
   {
    "duration": 203,
    "start_time": "2022-12-23T09:31:14.260Z"
   },
   {
    "duration": 417,
    "start_time": "2022-12-23T09:31:45.220Z"
   },
   {
    "duration": 218,
    "start_time": "2022-12-23T09:31:49.861Z"
   },
   {
    "duration": 3516,
    "start_time": "2022-12-23T09:32:44.101Z"
   },
   {
    "duration": 54,
    "start_time": "2022-12-23T09:32:47.619Z"
   },
   {
    "duration": 18,
    "start_time": "2022-12-23T09:32:47.674Z"
   },
   {
    "duration": 19,
    "start_time": "2022-12-23T09:32:47.693Z"
   },
   {
    "duration": 6,
    "start_time": "2022-12-23T09:32:47.714Z"
   },
   {
    "duration": 16,
    "start_time": "2022-12-23T09:32:47.721Z"
   },
   {
    "duration": 10,
    "start_time": "2022-12-23T09:32:47.739Z"
   },
   {
    "duration": 26,
    "start_time": "2022-12-23T09:32:47.750Z"
   },
   {
    "duration": 22,
    "start_time": "2022-12-23T09:32:47.778Z"
   },
   {
    "duration": 22,
    "start_time": "2022-12-23T09:32:47.802Z"
   },
   {
    "duration": 43,
    "start_time": "2022-12-23T09:32:47.826Z"
   },
   {
    "duration": 5,
    "start_time": "2022-12-23T09:32:47.871Z"
   },
   {
    "duration": 32,
    "start_time": "2022-12-23T09:32:47.878Z"
   },
   {
    "duration": 36,
    "start_time": "2022-12-23T09:32:47.913Z"
   },
   {
    "duration": 3,
    "start_time": "2022-12-23T09:32:47.951Z"
   },
   {
    "duration": 24,
    "start_time": "2022-12-23T09:32:47.955Z"
   },
   {
    "duration": 51,
    "start_time": "2022-12-23T09:32:47.981Z"
   },
   {
    "duration": 18,
    "start_time": "2022-12-23T09:32:48.034Z"
   },
   {
    "duration": 18,
    "start_time": "2022-12-23T09:32:48.054Z"
   },
   {
    "duration": 226,
    "start_time": "2022-12-23T09:32:48.074Z"
   },
   {
    "duration": 5,
    "start_time": "2022-12-23T09:32:48.301Z"
   },
   {
    "duration": 1683,
    "start_time": "2022-12-23T09:32:48.308Z"
   },
   {
    "duration": 249,
    "start_time": "2022-12-23T09:32:49.993Z"
   },
   {
    "duration": 96,
    "start_time": "2022-12-23T09:32:50.244Z"
   },
   {
    "duration": 794,
    "start_time": "2022-12-23T09:32:50.343Z"
   },
   {
    "duration": 97,
    "start_time": "2022-12-23T09:32:51.139Z"
   },
   {
    "duration": 33,
    "start_time": "2022-12-23T09:32:51.238Z"
   },
   {
    "duration": 11,
    "start_time": "2022-12-23T09:32:51.273Z"
   },
   {
    "duration": 625,
    "start_time": "2022-12-23T09:32:51.286Z"
   },
   {
    "duration": 11,
    "start_time": "2022-12-23T09:32:51.913Z"
   },
   {
    "duration": 101,
    "start_time": "2022-12-23T09:32:51.935Z"
   },
   {
    "duration": 98,
    "start_time": "2022-12-23T09:32:52.039Z"
   },
   {
    "duration": 16,
    "start_time": "2022-12-23T09:32:52.138Z"
   },
   {
    "duration": 437,
    "start_time": "2022-12-23T09:32:52.236Z"
   },
   {
    "duration": 125,
    "start_time": "2022-12-23T09:32:52.676Z"
   },
   {
    "duration": 5,
    "start_time": "2022-12-23T09:32:52.803Z"
   },
   {
    "duration": 135,
    "start_time": "2022-12-23T09:32:52.810Z"
   },
   {
    "duration": 220,
    "start_time": "2022-12-23T09:32:52.946Z"
   },
   {
    "duration": 470,
    "start_time": "2022-12-23T09:32:53.167Z"
   },
   {
    "duration": 135,
    "start_time": "2022-12-23T09:32:53.640Z"
   },
   {
    "duration": 795,
    "start_time": "2022-12-23T09:32:53.778Z"
   },
   {
    "duration": 64,
    "start_time": "2022-12-23T09:32:54.575Z"
   },
   {
    "duration": 11,
    "start_time": "2022-12-23T09:32:54.734Z"
   },
   {
    "duration": 20,
    "start_time": "2022-12-23T09:32:54.747Z"
   },
   {
    "duration": 636,
    "start_time": "2022-12-23T09:32:54.769Z"
   },
   {
    "duration": 6,
    "start_time": "2022-12-23T09:32:55.407Z"
   },
   {
    "duration": 23,
    "start_time": "2022-12-23T09:32:55.414Z"
   },
   {
    "duration": 42,
    "start_time": "2022-12-23T09:32:55.439Z"
   },
   {
    "duration": 242,
    "start_time": "2022-12-23T09:32:55.483Z"
   },
   {
    "duration": 691,
    "start_time": "2022-12-23T09:35:10.645Z"
   },
   {
    "duration": 209,
    "start_time": "2022-12-23T09:35:40.045Z"
   },
   {
    "duration": 228,
    "start_time": "2022-12-23T09:35:59.621Z"
   },
   {
    "duration": 247,
    "start_time": "2022-12-23T09:37:14.164Z"
   },
   {
    "duration": 3537,
    "start_time": "2022-12-23T09:38:04.240Z"
   },
   {
    "duration": 55,
    "start_time": "2022-12-23T09:38:07.779Z"
   },
   {
    "duration": 20,
    "start_time": "2022-12-23T09:38:07.836Z"
   },
   {
    "duration": 16,
    "start_time": "2022-12-23T09:38:07.858Z"
   },
   {
    "duration": 5,
    "start_time": "2022-12-23T09:38:07.875Z"
   },
   {
    "duration": 24,
    "start_time": "2022-12-23T09:38:07.882Z"
   },
   {
    "duration": 27,
    "start_time": "2022-12-23T09:38:07.908Z"
   },
   {
    "duration": 24,
    "start_time": "2022-12-23T09:38:07.937Z"
   },
   {
    "duration": 8,
    "start_time": "2022-12-23T09:38:07.963Z"
   },
   {
    "duration": 12,
    "start_time": "2022-12-23T09:38:07.973Z"
   },
   {
    "duration": 43,
    "start_time": "2022-12-23T09:38:07.986Z"
   },
   {
    "duration": 5,
    "start_time": "2022-12-23T09:38:08.031Z"
   },
   {
    "duration": 52,
    "start_time": "2022-12-23T09:38:08.037Z"
   },
   {
    "duration": 31,
    "start_time": "2022-12-23T09:38:08.091Z"
   },
   {
    "duration": 3,
    "start_time": "2022-12-23T09:38:08.123Z"
   },
   {
    "duration": 20,
    "start_time": "2022-12-23T09:38:08.134Z"
   },
   {
    "duration": 40,
    "start_time": "2022-12-23T09:38:08.155Z"
   },
   {
    "duration": 18,
    "start_time": "2022-12-23T09:38:08.197Z"
   },
   {
    "duration": 34,
    "start_time": "2022-12-23T09:38:08.218Z"
   },
   {
    "duration": 211,
    "start_time": "2022-12-23T09:38:08.253Z"
   },
   {
    "duration": 4,
    "start_time": "2022-12-23T09:38:08.465Z"
   },
   {
    "duration": 1673,
    "start_time": "2022-12-23T09:38:08.470Z"
   },
   {
    "duration": 217,
    "start_time": "2022-12-23T09:38:10.145Z"
   },
   {
    "duration": 72,
    "start_time": "2022-12-23T09:38:10.365Z"
   },
   {
    "duration": 310,
    "start_time": "2022-12-23T09:38:10.442Z"
   },
   {
    "duration": 88,
    "start_time": "2022-12-23T09:38:10.754Z"
   },
   {
    "duration": 131,
    "start_time": "2022-12-23T09:38:10.844Z"
   },
   {
    "duration": 10,
    "start_time": "2022-12-23T09:38:10.980Z"
   },
   {
    "duration": 585,
    "start_time": "2022-12-23T09:38:10.992Z"
   },
   {
    "duration": 10,
    "start_time": "2022-12-23T09:38:11.579Z"
   },
   {
    "duration": 47,
    "start_time": "2022-12-23T09:38:11.590Z"
   },
   {
    "duration": 104,
    "start_time": "2022-12-23T09:38:11.640Z"
   },
   {
    "duration": 10,
    "start_time": "2022-12-23T09:38:11.745Z"
   },
   {
    "duration": 407,
    "start_time": "2022-12-23T09:38:11.837Z"
   },
   {
    "duration": 112,
    "start_time": "2022-12-23T09:38:12.245Z"
   },
   {
    "duration": 5,
    "start_time": "2022-12-23T09:38:12.359Z"
   },
   {
    "duration": 151,
    "start_time": "2022-12-23T09:38:12.365Z"
   },
   {
    "duration": 255,
    "start_time": "2022-12-23T09:38:12.518Z"
   },
   {
    "duration": 400,
    "start_time": "2022-12-23T09:38:12.837Z"
   },
   {
    "duration": 132,
    "start_time": "2022-12-23T09:38:13.240Z"
   },
   {
    "duration": 923,
    "start_time": "2022-12-23T09:38:13.374Z"
   },
   {
    "duration": 49,
    "start_time": "2022-12-23T09:38:14.298Z"
   },
   {
    "duration": 9,
    "start_time": "2022-12-23T09:38:14.437Z"
   },
   {
    "duration": 88,
    "start_time": "2022-12-23T09:38:14.447Z"
   },
   {
    "duration": 340,
    "start_time": "2022-12-23T09:38:14.537Z"
   },
   {
    "duration": 6,
    "start_time": "2022-12-23T09:38:14.878Z"
   },
   {
    "duration": 19,
    "start_time": "2022-12-23T09:38:14.886Z"
   },
   {
    "duration": 37,
    "start_time": "2022-12-23T09:38:14.906Z"
   },
   {
    "duration": 281,
    "start_time": "2022-12-23T09:38:14.945Z"
   },
   {
    "duration": 228,
    "start_time": "2022-12-23T09:41:09.826Z"
   },
   {
    "duration": 518,
    "start_time": "2022-12-23T09:41:24.018Z"
   },
   {
    "duration": 232,
    "start_time": "2022-12-23T09:41:28.905Z"
   },
   {
    "duration": 43,
    "start_time": "2022-12-23T09:42:01.330Z"
   },
   {
    "duration": 779,
    "start_time": "2022-12-23T09:42:03.842Z"
   },
   {
    "duration": 244,
    "start_time": "2022-12-23T09:42:26.928Z"
   },
   {
    "duration": 24,
    "start_time": "2022-12-23T09:46:07.418Z"
   },
   {
    "duration": 57,
    "start_time": "2022-12-23T09:47:22.647Z"
   },
   {
    "duration": 51,
    "start_time": "2022-12-23T09:47:36.967Z"
   },
   {
    "duration": 63,
    "start_time": "2022-12-23T09:47:46.648Z"
   },
   {
    "duration": 59,
    "start_time": "2022-12-23T09:47:58.395Z"
   },
   {
    "duration": 20,
    "start_time": "2022-12-23T09:49:21.821Z"
   },
   {
    "duration": 132,
    "start_time": "2022-12-23T09:49:52.750Z"
   },
   {
    "duration": 18,
    "start_time": "2022-12-23T09:49:57.767Z"
   },
   {
    "duration": 60,
    "start_time": "2022-12-23T09:50:54.670Z"
   },
   {
    "duration": 35,
    "start_time": "2022-12-23T09:53:56.132Z"
   },
   {
    "duration": 42,
    "start_time": "2022-12-23T09:54:43.557Z"
   },
   {
    "duration": 4,
    "start_time": "2022-12-23T09:59:39.610Z"
   },
   {
    "duration": 20,
    "start_time": "2022-12-23T09:59:41.146Z"
   },
   {
    "duration": 4,
    "start_time": "2022-12-23T10:00:48.824Z"
   },
   {
    "duration": 2365,
    "start_time": "2022-12-23T10:00:50.121Z"
   },
   {
    "duration": 114,
    "start_time": "2022-12-23T10:10:07.264Z"
   },
   {
    "duration": 3555,
    "start_time": "2022-12-23T10:10:19.883Z"
   },
   {
    "duration": 54,
    "start_time": "2022-12-23T10:10:23.441Z"
   },
   {
    "duration": 18,
    "start_time": "2022-12-23T10:10:23.497Z"
   },
   {
    "duration": 19,
    "start_time": "2022-12-23T10:10:23.517Z"
   },
   {
    "duration": 37,
    "start_time": "2022-12-23T10:10:23.537Z"
   },
   {
    "duration": 27,
    "start_time": "2022-12-23T10:10:23.576Z"
   },
   {
    "duration": 22,
    "start_time": "2022-12-23T10:10:23.605Z"
   },
   {
    "duration": 17,
    "start_time": "2022-12-23T10:10:23.629Z"
   },
   {
    "duration": 19,
    "start_time": "2022-12-23T10:10:23.647Z"
   },
   {
    "duration": 13,
    "start_time": "2022-12-23T10:10:23.669Z"
   },
   {
    "duration": 53,
    "start_time": "2022-12-23T10:10:23.684Z"
   },
   {
    "duration": 4,
    "start_time": "2022-12-23T10:10:23.739Z"
   },
   {
    "duration": 56,
    "start_time": "2022-12-23T10:10:23.745Z"
   },
   {
    "duration": 30,
    "start_time": "2022-12-23T10:10:23.803Z"
   },
   {
    "duration": 3,
    "start_time": "2022-12-23T10:10:23.835Z"
   },
   {
    "duration": 33,
    "start_time": "2022-12-23T10:10:23.840Z"
   },
   {
    "duration": 25,
    "start_time": "2022-12-23T10:10:23.875Z"
   },
   {
    "duration": 18,
    "start_time": "2022-12-23T10:10:23.902Z"
   },
   {
    "duration": 21,
    "start_time": "2022-12-23T10:10:23.922Z"
   },
   {
    "duration": 223,
    "start_time": "2022-12-23T10:10:23.944Z"
   },
   {
    "duration": 4,
    "start_time": "2022-12-23T10:10:24.169Z"
   },
   {
    "duration": 1778,
    "start_time": "2022-12-23T10:10:24.175Z"
   },
   {
    "duration": 229,
    "start_time": "2022-12-23T10:10:25.954Z"
   },
   {
    "duration": 99,
    "start_time": "2022-12-23T10:10:26.237Z"
   },
   {
    "duration": 296,
    "start_time": "2022-12-23T10:10:26.338Z"
   },
   {
    "duration": 97,
    "start_time": "2022-12-23T10:10:26.638Z"
   },
   {
    "duration": 51,
    "start_time": "2022-12-23T10:10:26.737Z"
   },
   {
    "duration": 18,
    "start_time": "2022-12-23T10:10:26.793Z"
   },
   {
    "duration": 612,
    "start_time": "2022-12-23T10:10:26.812Z"
   },
   {
    "duration": 68,
    "start_time": "2022-12-23T10:10:27.426Z"
   },
   {
    "duration": 45,
    "start_time": "2022-12-23T10:10:27.495Z"
   },
   {
    "duration": 98,
    "start_time": "2022-12-23T10:10:27.541Z"
   },
   {
    "duration": 94,
    "start_time": "2022-12-23T10:10:27.641Z"
   },
   {
    "duration": 416,
    "start_time": "2022-12-23T10:10:27.739Z"
   },
   {
    "duration": 116,
    "start_time": "2022-12-23T10:10:28.157Z"
   },
   {
    "duration": 5,
    "start_time": "2022-12-23T10:10:28.275Z"
   },
   {
    "duration": 130,
    "start_time": "2022-12-23T10:10:28.282Z"
   },
   {
    "duration": 227,
    "start_time": "2022-12-23T10:10:28.413Z"
   },
   {
    "duration": 494,
    "start_time": "2022-12-23T10:10:28.643Z"
   },
   {
    "duration": 217,
    "start_time": "2022-12-23T10:10:29.139Z"
   },
   {
    "duration": 259,
    "start_time": "2022-12-23T10:10:29.358Z"
   },
   {
    "duration": 117,
    "start_time": "2022-12-23T10:10:29.619Z"
   },
   {
    "duration": 5,
    "start_time": "2022-12-23T10:10:29.738Z"
   },
   {
    "duration": 100,
    "start_time": "2022-12-23T10:10:29.745Z"
   },
   {
    "duration": 12,
    "start_time": "2022-12-23T10:10:29.847Z"
   },
   {
    "duration": 2360,
    "start_time": "2022-12-23T10:10:29.861Z"
   },
   {
    "duration": 124,
    "start_time": "2022-12-23T10:10:32.222Z"
   },
   {
    "duration": 5,
    "start_time": "2022-12-23T10:10:32.348Z"
   },
   {
    "duration": 31,
    "start_time": "2022-12-23T10:10:32.355Z"
   },
   {
    "duration": 42,
    "start_time": "2022-12-23T10:10:32.388Z"
   },
   {
    "duration": 308,
    "start_time": "2022-12-23T10:10:32.432Z"
   },
   {
    "duration": 3459,
    "start_time": "2022-12-23T10:45:29.848Z"
   },
   {
    "duration": 58,
    "start_time": "2022-12-23T10:45:33.310Z"
   },
   {
    "duration": 22,
    "start_time": "2022-12-23T10:45:33.369Z"
   },
   {
    "duration": 23,
    "start_time": "2022-12-23T10:45:33.393Z"
   },
   {
    "duration": 6,
    "start_time": "2022-12-23T10:45:33.436Z"
   },
   {
    "duration": 34,
    "start_time": "2022-12-23T10:45:33.444Z"
   },
   {
    "duration": 26,
    "start_time": "2022-12-23T10:45:33.480Z"
   },
   {
    "duration": 20,
    "start_time": "2022-12-23T10:45:33.508Z"
   },
   {
    "duration": 21,
    "start_time": "2022-12-23T10:45:33.529Z"
   },
   {
    "duration": 14,
    "start_time": "2022-12-23T10:45:33.552Z"
   },
   {
    "duration": 48,
    "start_time": "2022-12-23T10:45:33.568Z"
   },
   {
    "duration": 4,
    "start_time": "2022-12-23T10:45:33.617Z"
   },
   {
    "duration": 45,
    "start_time": "2022-12-23T10:45:33.622Z"
   },
   {
    "duration": 43,
    "start_time": "2022-12-23T10:45:33.668Z"
   },
   {
    "duration": 4,
    "start_time": "2022-12-23T10:45:33.713Z"
   },
   {
    "duration": 16,
    "start_time": "2022-12-23T10:45:33.718Z"
   },
   {
    "duration": 33,
    "start_time": "2022-12-23T10:45:33.736Z"
   },
   {
    "duration": 37,
    "start_time": "2022-12-23T10:45:33.771Z"
   },
   {
    "duration": 35,
    "start_time": "2022-12-23T10:45:33.809Z"
   },
   {
    "duration": 225,
    "start_time": "2022-12-23T10:45:33.845Z"
   },
   {
    "duration": 4,
    "start_time": "2022-12-23T10:45:34.072Z"
   },
   {
    "duration": 1657,
    "start_time": "2022-12-23T10:45:34.078Z"
   },
   {
    "duration": 211,
    "start_time": "2022-12-23T10:45:35.737Z"
   },
   {
    "duration": 87,
    "start_time": "2022-12-23T10:45:35.950Z"
   },
   {
    "duration": 316,
    "start_time": "2022-12-23T10:45:36.039Z"
   },
   {
    "duration": 98,
    "start_time": "2022-12-23T10:45:36.437Z"
   },
   {
    "duration": 34,
    "start_time": "2022-12-23T10:45:36.537Z"
   },
   {
    "duration": 15,
    "start_time": "2022-12-23T10:45:36.575Z"
   },
   {
    "duration": 598,
    "start_time": "2022-12-23T10:45:36.592Z"
   },
   {
    "duration": 62,
    "start_time": "2022-12-23T10:45:37.191Z"
   },
   {
    "duration": 81,
    "start_time": "2022-12-23T10:45:37.255Z"
   },
   {
    "duration": 102,
    "start_time": "2022-12-23T10:45:37.338Z"
   },
   {
    "duration": 44,
    "start_time": "2022-12-23T10:45:37.441Z"
   },
   {
    "duration": 462,
    "start_time": "2022-12-23T10:45:37.487Z"
   },
   {
    "duration": 124,
    "start_time": "2022-12-23T10:45:37.950Z"
   },
   {
    "duration": 5,
    "start_time": "2022-12-23T10:45:38.076Z"
   },
   {
    "duration": 137,
    "start_time": "2022-12-23T10:45:38.082Z"
   },
   {
    "duration": 219,
    "start_time": "2022-12-23T10:45:38.220Z"
   },
   {
    "duration": 496,
    "start_time": "2022-12-23T10:45:38.441Z"
   },
   {
    "duration": 132,
    "start_time": "2022-12-23T10:45:38.941Z"
   },
   {
    "duration": 293,
    "start_time": "2022-12-23T10:45:39.074Z"
   },
   {
    "duration": 74,
    "start_time": "2022-12-23T10:45:39.368Z"
   },
   {
    "duration": 4,
    "start_time": "2022-12-23T10:45:39.445Z"
   },
   {
    "duration": 29,
    "start_time": "2022-12-23T10:45:39.536Z"
   },
   {
    "duration": 23,
    "start_time": "2022-12-23T10:45:39.567Z"
   },
   {
    "duration": 2166,
    "start_time": "2022-12-23T10:45:39.591Z"
   },
   {
    "duration": 116,
    "start_time": "2022-12-23T10:45:41.759Z"
   },
   {
    "duration": 6,
    "start_time": "2022-12-23T10:45:41.877Z"
   },
   {
    "duration": 23,
    "start_time": "2022-12-23T10:45:41.885Z"
   },
   {
    "duration": 27,
    "start_time": "2022-12-23T10:45:41.909Z"
   },
   {
    "duration": 302,
    "start_time": "2022-12-23T10:45:41.938Z"
   },
   {
    "duration": 4703,
    "start_time": "2022-12-23T13:00:36.075Z"
   },
   {
    "duration": 97,
    "start_time": "2022-12-23T13:00:40.781Z"
   },
   {
    "duration": 29,
    "start_time": "2022-12-23T13:00:40.880Z"
   },
   {
    "duration": 17,
    "start_time": "2022-12-23T13:00:40.913Z"
   },
   {
    "duration": 4,
    "start_time": "2022-12-23T13:00:40.933Z"
   },
   {
    "duration": 5,
    "start_time": "2022-12-23T13:00:40.939Z"
   },
   {
    "duration": 8,
    "start_time": "2022-12-23T13:00:40.945Z"
   },
   {
    "duration": 15,
    "start_time": "2022-12-23T13:00:40.955Z"
   },
   {
    "duration": 26,
    "start_time": "2022-12-23T13:00:40.972Z"
   },
   {
    "duration": 20,
    "start_time": "2022-12-23T13:00:41.000Z"
   },
   {
    "duration": 57,
    "start_time": "2022-12-23T13:00:41.021Z"
   },
   {
    "duration": 4,
    "start_time": "2022-12-23T13:00:41.080Z"
   },
   {
    "duration": 160,
    "start_time": "2022-12-23T13:00:41.086Z"
   },
   {
    "duration": 0,
    "start_time": "2022-12-23T13:00:41.249Z"
   },
   {
    "duration": 0,
    "start_time": "2022-12-23T13:00:41.250Z"
   },
   {
    "duration": 0,
    "start_time": "2022-12-23T13:00:41.252Z"
   },
   {
    "duration": 0,
    "start_time": "2022-12-23T13:00:41.253Z"
   },
   {
    "duration": 0,
    "start_time": "2022-12-23T13:00:41.254Z"
   },
   {
    "duration": 0,
    "start_time": "2022-12-23T13:00:41.255Z"
   },
   {
    "duration": 0,
    "start_time": "2022-12-23T13:00:41.256Z"
   },
   {
    "duration": 0,
    "start_time": "2022-12-23T13:00:41.257Z"
   },
   {
    "duration": 0,
    "start_time": "2022-12-23T13:00:41.258Z"
   },
   {
    "duration": 0,
    "start_time": "2022-12-23T13:00:41.259Z"
   },
   {
    "duration": 0,
    "start_time": "2022-12-23T13:00:41.261Z"
   },
   {
    "duration": 0,
    "start_time": "2022-12-23T13:00:41.262Z"
   },
   {
    "duration": 0,
    "start_time": "2022-12-23T13:00:41.262Z"
   },
   {
    "duration": 0,
    "start_time": "2022-12-23T13:00:41.263Z"
   },
   {
    "duration": 0,
    "start_time": "2022-12-23T13:00:41.264Z"
   },
   {
    "duration": 0,
    "start_time": "2022-12-23T13:00:41.265Z"
   },
   {
    "duration": 0,
    "start_time": "2022-12-23T13:00:41.266Z"
   },
   {
    "duration": 0,
    "start_time": "2022-12-23T13:00:41.267Z"
   },
   {
    "duration": 0,
    "start_time": "2022-12-23T13:00:41.268Z"
   },
   {
    "duration": 0,
    "start_time": "2022-12-23T13:00:41.270Z"
   },
   {
    "duration": 0,
    "start_time": "2022-12-23T13:00:41.270Z"
   },
   {
    "duration": 0,
    "start_time": "2022-12-23T13:00:41.271Z"
   },
   {
    "duration": 0,
    "start_time": "2022-12-23T13:00:41.272Z"
   },
   {
    "duration": 0,
    "start_time": "2022-12-23T13:00:41.273Z"
   },
   {
    "duration": 0,
    "start_time": "2022-12-23T13:00:41.274Z"
   },
   {
    "duration": 0,
    "start_time": "2022-12-23T13:00:41.275Z"
   },
   {
    "duration": 0,
    "start_time": "2022-12-23T13:00:41.276Z"
   },
   {
    "duration": 0,
    "start_time": "2022-12-23T13:00:41.277Z"
   },
   {
    "duration": 0,
    "start_time": "2022-12-23T13:00:41.278Z"
   },
   {
    "duration": 0,
    "start_time": "2022-12-23T13:00:41.279Z"
   },
   {
    "duration": 0,
    "start_time": "2022-12-23T13:00:41.280Z"
   },
   {
    "duration": 0,
    "start_time": "2022-12-23T13:00:41.281Z"
   },
   {
    "duration": 0,
    "start_time": "2022-12-23T13:00:41.282Z"
   },
   {
    "duration": 0,
    "start_time": "2022-12-23T13:00:41.283Z"
   },
   {
    "duration": 0,
    "start_time": "2022-12-23T13:00:41.284Z"
   },
   {
    "duration": 0,
    "start_time": "2022-12-23T13:00:41.285Z"
   },
   {
    "duration": 0,
    "start_time": "2022-12-23T13:00:41.296Z"
   },
   {
    "duration": 0,
    "start_time": "2022-12-23T13:00:41.298Z"
   },
   {
    "duration": 0,
    "start_time": "2022-12-23T13:00:41.299Z"
   },
   {
    "duration": 3471,
    "start_time": "2022-12-23T13:36:20.742Z"
   },
   {
    "duration": 58,
    "start_time": "2022-12-23T13:36:24.215Z"
   },
   {
    "duration": 22,
    "start_time": "2022-12-23T13:36:24.274Z"
   },
   {
    "duration": 23,
    "start_time": "2022-12-23T13:36:24.299Z"
   },
   {
    "duration": 7,
    "start_time": "2022-12-23T13:36:24.324Z"
   },
   {
    "duration": 6,
    "start_time": "2022-12-23T13:36:24.333Z"
   },
   {
    "duration": 7,
    "start_time": "2022-12-23T13:36:24.341Z"
   },
   {
    "duration": 16,
    "start_time": "2022-12-23T13:36:24.351Z"
   },
   {
    "duration": 6,
    "start_time": "2022-12-23T13:36:24.395Z"
   },
   {
    "duration": 4,
    "start_time": "2022-12-23T13:36:24.405Z"
   },
   {
    "duration": 44,
    "start_time": "2022-12-23T13:36:24.411Z"
   },
   {
    "duration": 45,
    "start_time": "2022-12-23T13:36:24.457Z"
   },
   {
    "duration": 0,
    "start_time": "2022-12-23T13:36:24.504Z"
   },
   {
    "duration": 0,
    "start_time": "2022-12-23T13:36:24.506Z"
   },
   {
    "duration": 0,
    "start_time": "2022-12-23T13:36:24.507Z"
   },
   {
    "duration": 0,
    "start_time": "2022-12-23T13:36:24.509Z"
   },
   {
    "duration": 0,
    "start_time": "2022-12-23T13:36:24.510Z"
   },
   {
    "duration": 0,
    "start_time": "2022-12-23T13:36:24.511Z"
   },
   {
    "duration": 0,
    "start_time": "2022-12-23T13:36:24.512Z"
   },
   {
    "duration": 0,
    "start_time": "2022-12-23T13:36:24.514Z"
   },
   {
    "duration": 0,
    "start_time": "2022-12-23T13:36:24.515Z"
   },
   {
    "duration": 0,
    "start_time": "2022-12-23T13:36:24.516Z"
   },
   {
    "duration": 0,
    "start_time": "2022-12-23T13:36:24.517Z"
   },
   {
    "duration": 0,
    "start_time": "2022-12-23T13:36:24.519Z"
   },
   {
    "duration": 0,
    "start_time": "2022-12-23T13:36:24.520Z"
   },
   {
    "duration": 0,
    "start_time": "2022-12-23T13:36:24.522Z"
   },
   {
    "duration": 0,
    "start_time": "2022-12-23T13:36:24.523Z"
   },
   {
    "duration": 0,
    "start_time": "2022-12-23T13:36:24.524Z"
   },
   {
    "duration": 0,
    "start_time": "2022-12-23T13:36:24.525Z"
   },
   {
    "duration": 0,
    "start_time": "2022-12-23T13:36:24.526Z"
   },
   {
    "duration": 0,
    "start_time": "2022-12-23T13:36:24.527Z"
   },
   {
    "duration": 0,
    "start_time": "2022-12-23T13:36:24.528Z"
   },
   {
    "duration": 0,
    "start_time": "2022-12-23T13:36:24.529Z"
   },
   {
    "duration": 0,
    "start_time": "2022-12-23T13:36:24.531Z"
   },
   {
    "duration": 0,
    "start_time": "2022-12-23T13:36:24.532Z"
   },
   {
    "duration": 0,
    "start_time": "2022-12-23T13:36:24.533Z"
   },
   {
    "duration": 0,
    "start_time": "2022-12-23T13:36:24.534Z"
   },
   {
    "duration": 0,
    "start_time": "2022-12-23T13:36:24.535Z"
   },
   {
    "duration": 0,
    "start_time": "2022-12-23T13:36:24.536Z"
   },
   {
    "duration": 0,
    "start_time": "2022-12-23T13:36:24.537Z"
   },
   {
    "duration": 0,
    "start_time": "2022-12-23T13:36:24.538Z"
   },
   {
    "duration": 0,
    "start_time": "2022-12-23T13:36:24.540Z"
   },
   {
    "duration": 0,
    "start_time": "2022-12-23T13:36:24.541Z"
   },
   {
    "duration": 0,
    "start_time": "2022-12-23T13:36:24.542Z"
   },
   {
    "duration": 0,
    "start_time": "2022-12-23T13:36:24.596Z"
   },
   {
    "duration": 0,
    "start_time": "2022-12-23T13:36:24.597Z"
   },
   {
    "duration": 0,
    "start_time": "2022-12-23T13:36:24.598Z"
   },
   {
    "duration": 0,
    "start_time": "2022-12-23T13:36:24.600Z"
   },
   {
    "duration": 0,
    "start_time": "2022-12-23T13:36:24.601Z"
   },
   {
    "duration": 0,
    "start_time": "2022-12-23T13:36:24.602Z"
   },
   {
    "duration": 0,
    "start_time": "2022-12-23T13:36:24.603Z"
   },
   {
    "duration": 16,
    "start_time": "2022-12-23T13:42:31.582Z"
   },
   {
    "duration": 29,
    "start_time": "2022-12-23T13:44:04.222Z"
   },
   {
    "duration": 4,
    "start_time": "2022-12-23T13:44:28.462Z"
   },
   {
    "duration": 49,
    "start_time": "2022-12-23T13:49:12.622Z"
   },
   {
    "duration": 55,
    "start_time": "2022-12-23T13:49:36.503Z"
   },
   {
    "duration": 117,
    "start_time": "2022-12-23T13:50:07.024Z"
   },
   {
    "duration": 10,
    "start_time": "2022-12-23T13:50:47.343Z"
   },
   {
    "duration": 3445,
    "start_time": "2022-12-23T13:51:08.744Z"
   },
   {
    "duration": 61,
    "start_time": "2022-12-23T13:51:12.191Z"
   },
   {
    "duration": 21,
    "start_time": "2022-12-23T13:51:12.253Z"
   },
   {
    "duration": 17,
    "start_time": "2022-12-23T13:51:12.276Z"
   },
   {
    "duration": 6,
    "start_time": "2022-12-23T13:51:12.296Z"
   },
   {
    "duration": 5,
    "start_time": "2022-12-23T13:51:12.304Z"
   },
   {
    "duration": 6,
    "start_time": "2022-12-23T13:51:12.310Z"
   },
   {
    "duration": 23,
    "start_time": "2022-12-23T13:51:12.318Z"
   },
   {
    "duration": 5,
    "start_time": "2022-12-23T13:51:12.342Z"
   },
   {
    "duration": 15,
    "start_time": "2022-12-23T13:51:12.349Z"
   },
   {
    "duration": 45,
    "start_time": "2022-12-23T13:51:12.366Z"
   },
   {
    "duration": 125,
    "start_time": "2022-12-23T13:51:12.412Z"
   },
   {
    "duration": 0,
    "start_time": "2022-12-23T13:51:12.539Z"
   },
   {
    "duration": 0,
    "start_time": "2022-12-23T13:51:12.540Z"
   },
   {
    "duration": 0,
    "start_time": "2022-12-23T13:51:12.541Z"
   },
   {
    "duration": 0,
    "start_time": "2022-12-23T13:51:12.542Z"
   },
   {
    "duration": 0,
    "start_time": "2022-12-23T13:51:12.544Z"
   },
   {
    "duration": 0,
    "start_time": "2022-12-23T13:51:12.545Z"
   },
   {
    "duration": 0,
    "start_time": "2022-12-23T13:51:12.546Z"
   },
   {
    "duration": 0,
    "start_time": "2022-12-23T13:51:12.547Z"
   },
   {
    "duration": 0,
    "start_time": "2022-12-23T13:51:12.548Z"
   },
   {
    "duration": 0,
    "start_time": "2022-12-23T13:51:12.549Z"
   },
   {
    "duration": 0,
    "start_time": "2022-12-23T13:51:12.550Z"
   },
   {
    "duration": 0,
    "start_time": "2022-12-23T13:51:12.551Z"
   },
   {
    "duration": 0,
    "start_time": "2022-12-23T13:51:12.552Z"
   },
   {
    "duration": 0,
    "start_time": "2022-12-23T13:51:12.553Z"
   },
   {
    "duration": 0,
    "start_time": "2022-12-23T13:51:12.554Z"
   },
   {
    "duration": 0,
    "start_time": "2022-12-23T13:51:12.555Z"
   },
   {
    "duration": 0,
    "start_time": "2022-12-23T13:51:12.556Z"
   },
   {
    "duration": 0,
    "start_time": "2022-12-23T13:51:12.557Z"
   },
   {
    "duration": 0,
    "start_time": "2022-12-23T13:51:12.558Z"
   },
   {
    "duration": 0,
    "start_time": "2022-12-23T13:51:12.559Z"
   },
   {
    "duration": 0,
    "start_time": "2022-12-23T13:51:12.560Z"
   },
   {
    "duration": 0,
    "start_time": "2022-12-23T13:51:12.561Z"
   },
   {
    "duration": 0,
    "start_time": "2022-12-23T13:51:12.597Z"
   },
   {
    "duration": 0,
    "start_time": "2022-12-23T13:51:12.598Z"
   },
   {
    "duration": 0,
    "start_time": "2022-12-23T13:51:12.600Z"
   },
   {
    "duration": 0,
    "start_time": "2022-12-23T13:51:12.601Z"
   },
   {
    "duration": 0,
    "start_time": "2022-12-23T13:51:12.602Z"
   },
   {
    "duration": 0,
    "start_time": "2022-12-23T13:51:12.603Z"
   },
   {
    "duration": 0,
    "start_time": "2022-12-23T13:51:12.604Z"
   },
   {
    "duration": 0,
    "start_time": "2022-12-23T13:51:12.605Z"
   },
   {
    "duration": 0,
    "start_time": "2022-12-23T13:51:12.606Z"
   },
   {
    "duration": 0,
    "start_time": "2022-12-23T13:51:12.607Z"
   },
   {
    "duration": 0,
    "start_time": "2022-12-23T13:51:12.608Z"
   },
   {
    "duration": 0,
    "start_time": "2022-12-23T13:51:12.610Z"
   },
   {
    "duration": 0,
    "start_time": "2022-12-23T13:51:12.611Z"
   },
   {
    "duration": 0,
    "start_time": "2022-12-23T13:51:12.612Z"
   },
   {
    "duration": 0,
    "start_time": "2022-12-23T13:51:12.613Z"
   },
   {
    "duration": 0,
    "start_time": "2022-12-23T13:51:12.614Z"
   },
   {
    "duration": 10,
    "start_time": "2022-12-23T13:51:47.593Z"
   },
   {
    "duration": 4,
    "start_time": "2022-12-23T13:51:51.015Z"
   },
   {
    "duration": 21,
    "start_time": "2022-12-23T13:52:01.472Z"
   },
   {
    "duration": 17,
    "start_time": "2022-12-23T13:52:21.187Z"
   },
   {
    "duration": 52,
    "start_time": "2022-12-23T13:56:15.464Z"
   },
   {
    "duration": 3485,
    "start_time": "2022-12-23T13:56:22.664Z"
   },
   {
    "duration": 66,
    "start_time": "2022-12-23T13:56:26.152Z"
   },
   {
    "duration": 19,
    "start_time": "2022-12-23T13:56:26.220Z"
   },
   {
    "duration": 16,
    "start_time": "2022-12-23T13:56:26.241Z"
   },
   {
    "duration": 6,
    "start_time": "2022-12-23T13:56:26.258Z"
   },
   {
    "duration": 39,
    "start_time": "2022-12-23T13:56:26.265Z"
   },
   {
    "duration": 7,
    "start_time": "2022-12-23T13:56:26.306Z"
   },
   {
    "duration": 13,
    "start_time": "2022-12-23T13:56:26.315Z"
   },
   {
    "duration": 7,
    "start_time": "2022-12-23T13:56:26.330Z"
   },
   {
    "duration": 5,
    "start_time": "2022-12-23T13:56:26.339Z"
   },
   {
    "duration": 72,
    "start_time": "2022-12-23T13:56:26.345Z"
   },
   {
    "duration": 217,
    "start_time": "2022-12-23T13:56:26.419Z"
   },
   {
    "duration": 0,
    "start_time": "2022-12-23T13:56:26.638Z"
   },
   {
    "duration": 0,
    "start_time": "2022-12-23T13:56:26.639Z"
   },
   {
    "duration": 0,
    "start_time": "2022-12-23T13:56:26.640Z"
   },
   {
    "duration": 0,
    "start_time": "2022-12-23T13:56:26.641Z"
   },
   {
    "duration": 0,
    "start_time": "2022-12-23T13:56:26.697Z"
   },
   {
    "duration": 0,
    "start_time": "2022-12-23T13:56:26.698Z"
   },
   {
    "duration": 0,
    "start_time": "2022-12-23T13:56:26.699Z"
   },
   {
    "duration": 0,
    "start_time": "2022-12-23T13:56:26.700Z"
   },
   {
    "duration": 0,
    "start_time": "2022-12-23T13:56:26.701Z"
   },
   {
    "duration": 0,
    "start_time": "2022-12-23T13:56:26.702Z"
   },
   {
    "duration": 0,
    "start_time": "2022-12-23T13:56:26.703Z"
   },
   {
    "duration": 0,
    "start_time": "2022-12-23T13:56:26.704Z"
   },
   {
    "duration": 0,
    "start_time": "2022-12-23T13:56:26.705Z"
   },
   {
    "duration": 0,
    "start_time": "2022-12-23T13:56:26.706Z"
   },
   {
    "duration": 0,
    "start_time": "2022-12-23T13:56:26.706Z"
   },
   {
    "duration": 0,
    "start_time": "2022-12-23T13:56:26.707Z"
   },
   {
    "duration": 0,
    "start_time": "2022-12-23T13:56:26.708Z"
   },
   {
    "duration": 0,
    "start_time": "2022-12-23T13:56:26.710Z"
   },
   {
    "duration": 0,
    "start_time": "2022-12-23T13:56:26.711Z"
   },
   {
    "duration": 0,
    "start_time": "2022-12-23T13:56:26.712Z"
   },
   {
    "duration": 0,
    "start_time": "2022-12-23T13:56:26.713Z"
   },
   {
    "duration": 0,
    "start_time": "2022-12-23T13:56:26.714Z"
   },
   {
    "duration": 0,
    "start_time": "2022-12-23T13:56:26.715Z"
   },
   {
    "duration": 0,
    "start_time": "2022-12-23T13:56:26.716Z"
   },
   {
    "duration": 0,
    "start_time": "2022-12-23T13:56:26.717Z"
   },
   {
    "duration": 0,
    "start_time": "2022-12-23T13:56:26.718Z"
   },
   {
    "duration": 0,
    "start_time": "2022-12-23T13:56:26.719Z"
   },
   {
    "duration": 0,
    "start_time": "2022-12-23T13:56:26.720Z"
   },
   {
    "duration": 0,
    "start_time": "2022-12-23T13:56:26.721Z"
   },
   {
    "duration": 0,
    "start_time": "2022-12-23T13:56:26.722Z"
   },
   {
    "duration": 0,
    "start_time": "2022-12-23T13:56:26.723Z"
   },
   {
    "duration": 0,
    "start_time": "2022-12-23T13:56:26.724Z"
   },
   {
    "duration": 0,
    "start_time": "2022-12-23T13:56:26.725Z"
   },
   {
    "duration": 0,
    "start_time": "2022-12-23T13:56:26.725Z"
   },
   {
    "duration": 0,
    "start_time": "2022-12-23T13:56:26.726Z"
   },
   {
    "duration": 0,
    "start_time": "2022-12-23T13:56:26.728Z"
   },
   {
    "duration": 0,
    "start_time": "2022-12-23T13:56:26.729Z"
   },
   {
    "duration": 0,
    "start_time": "2022-12-23T13:56:26.730Z"
   },
   {
    "duration": 0,
    "start_time": "2022-12-23T13:56:26.732Z"
   },
   {
    "duration": 20,
    "start_time": "2022-12-23T13:56:37.191Z"
   },
   {
    "duration": 1931,
    "start_time": "2022-12-23T13:59:14.105Z"
   },
   {
    "duration": 3447,
    "start_time": "2022-12-23T13:59:22.794Z"
   },
   {
    "duration": 58,
    "start_time": "2022-12-23T13:59:26.243Z"
   },
   {
    "duration": 21,
    "start_time": "2022-12-23T13:59:26.303Z"
   },
   {
    "duration": 18,
    "start_time": "2022-12-23T13:59:26.325Z"
   },
   {
    "duration": 5,
    "start_time": "2022-12-23T13:59:26.345Z"
   },
   {
    "duration": 6,
    "start_time": "2022-12-23T13:59:26.351Z"
   },
   {
    "duration": 39,
    "start_time": "2022-12-23T13:59:26.358Z"
   },
   {
    "duration": 14,
    "start_time": "2022-12-23T13:59:26.398Z"
   },
   {
    "duration": 13,
    "start_time": "2022-12-23T13:59:26.414Z"
   },
   {
    "duration": 5,
    "start_time": "2022-12-23T13:59:26.429Z"
   },
   {
    "duration": 32,
    "start_time": "2022-12-23T13:59:26.436Z"
   },
   {
    "duration": 150,
    "start_time": "2022-12-23T13:59:26.470Z"
   },
   {
    "duration": 0,
    "start_time": "2022-12-23T13:59:26.622Z"
   },
   {
    "duration": 0,
    "start_time": "2022-12-23T13:59:26.623Z"
   },
   {
    "duration": 0,
    "start_time": "2022-12-23T13:59:26.625Z"
   },
   {
    "duration": 0,
    "start_time": "2022-12-23T13:59:26.626Z"
   },
   {
    "duration": 0,
    "start_time": "2022-12-23T13:59:26.626Z"
   },
   {
    "duration": 0,
    "start_time": "2022-12-23T13:59:26.627Z"
   },
   {
    "duration": 0,
    "start_time": "2022-12-23T13:59:26.628Z"
   },
   {
    "duration": 0,
    "start_time": "2022-12-23T13:59:26.629Z"
   },
   {
    "duration": 0,
    "start_time": "2022-12-23T13:59:26.630Z"
   },
   {
    "duration": 0,
    "start_time": "2022-12-23T13:59:26.631Z"
   },
   {
    "duration": 0,
    "start_time": "2022-12-23T13:59:26.632Z"
   },
   {
    "duration": 0,
    "start_time": "2022-12-23T13:59:26.633Z"
   },
   {
    "duration": 0,
    "start_time": "2022-12-23T13:59:26.634Z"
   },
   {
    "duration": 0,
    "start_time": "2022-12-23T13:59:26.635Z"
   },
   {
    "duration": 0,
    "start_time": "2022-12-23T13:59:26.636Z"
   },
   {
    "duration": 0,
    "start_time": "2022-12-23T13:59:26.637Z"
   },
   {
    "duration": 0,
    "start_time": "2022-12-23T13:59:26.638Z"
   },
   {
    "duration": 0,
    "start_time": "2022-12-23T13:59:26.639Z"
   },
   {
    "duration": 0,
    "start_time": "2022-12-23T13:59:26.640Z"
   },
   {
    "duration": 0,
    "start_time": "2022-12-23T13:59:26.641Z"
   },
   {
    "duration": 0,
    "start_time": "2022-12-23T13:59:26.642Z"
   },
   {
    "duration": 0,
    "start_time": "2022-12-23T13:59:26.644Z"
   },
   {
    "duration": 0,
    "start_time": "2022-12-23T13:59:26.645Z"
   },
   {
    "duration": 0,
    "start_time": "2022-12-23T13:59:26.646Z"
   },
   {
    "duration": 0,
    "start_time": "2022-12-23T13:59:26.647Z"
   },
   {
    "duration": 0,
    "start_time": "2022-12-23T13:59:26.648Z"
   },
   {
    "duration": 0,
    "start_time": "2022-12-23T13:59:26.649Z"
   },
   {
    "duration": 0,
    "start_time": "2022-12-23T13:59:26.696Z"
   },
   {
    "duration": 0,
    "start_time": "2022-12-23T13:59:26.698Z"
   },
   {
    "duration": 0,
    "start_time": "2022-12-23T13:59:26.699Z"
   },
   {
    "duration": 0,
    "start_time": "2022-12-23T13:59:26.700Z"
   },
   {
    "duration": 0,
    "start_time": "2022-12-23T13:59:26.701Z"
   },
   {
    "duration": 0,
    "start_time": "2022-12-23T13:59:26.702Z"
   },
   {
    "duration": 0,
    "start_time": "2022-12-23T13:59:26.703Z"
   },
   {
    "duration": 0,
    "start_time": "2022-12-23T13:59:26.704Z"
   },
   {
    "duration": 0,
    "start_time": "2022-12-23T13:59:26.705Z"
   },
   {
    "duration": 0,
    "start_time": "2022-12-23T13:59:26.706Z"
   },
   {
    "duration": 0,
    "start_time": "2022-12-23T13:59:26.707Z"
   },
   {
    "duration": 0,
    "start_time": "2022-12-23T13:59:26.707Z"
   },
   {
    "duration": 48,
    "start_time": "2022-12-23T14:03:18.503Z"
   },
   {
    "duration": 13,
    "start_time": "2022-12-23T14:03:25.664Z"
   },
   {
    "duration": 19,
    "start_time": "2022-12-23T14:05:59.263Z"
   },
   {
    "duration": 10,
    "start_time": "2022-12-23T14:06:12.792Z"
   },
   {
    "duration": 15,
    "start_time": "2022-12-23T14:06:18.544Z"
   },
   {
    "duration": 19,
    "start_time": "2022-12-23T14:07:44.664Z"
   },
   {
    "duration": 12,
    "start_time": "2022-12-23T14:08:06.588Z"
   },
   {
    "duration": 11,
    "start_time": "2022-12-23T14:08:15.704Z"
   },
   {
    "duration": 20,
    "start_time": "2022-12-23T14:08:21.585Z"
   },
   {
    "duration": 18,
    "start_time": "2022-12-23T14:08:27.744Z"
   },
   {
    "duration": 54,
    "start_time": "2022-12-23T14:13:18.553Z"
   },
   {
    "duration": 3508,
    "start_time": "2022-12-23T14:13:26.707Z"
   },
   {
    "duration": 65,
    "start_time": "2022-12-23T14:13:30.218Z"
   },
   {
    "duration": 22,
    "start_time": "2022-12-23T14:13:30.285Z"
   },
   {
    "duration": 72,
    "start_time": "2022-12-23T14:13:30.309Z"
   },
   {
    "duration": 59,
    "start_time": "2022-12-23T14:13:30.383Z"
   },
   {
    "duration": 38,
    "start_time": "2022-12-23T14:13:30.445Z"
   },
   {
    "duration": 51,
    "start_time": "2022-12-23T14:13:30.485Z"
   },
   {
    "duration": 59,
    "start_time": "2022-12-23T14:13:30.538Z"
   },
   {
    "duration": 77,
    "start_time": "2022-12-23T14:13:30.599Z"
   },
   {
    "duration": 51,
    "start_time": "2022-12-23T14:13:30.678Z"
   },
   {
    "duration": 99,
    "start_time": "2022-12-23T14:13:30.731Z"
   },
   {
    "duration": 210,
    "start_time": "2022-12-23T14:13:30.832Z"
   },
   {
    "duration": 0,
    "start_time": "2022-12-23T14:13:31.045Z"
   },
   {
    "duration": 0,
    "start_time": "2022-12-23T14:13:31.046Z"
   },
   {
    "duration": 0,
    "start_time": "2022-12-23T14:13:31.049Z"
   },
   {
    "duration": 0,
    "start_time": "2022-12-23T14:13:31.050Z"
   },
   {
    "duration": 0,
    "start_time": "2022-12-23T14:13:31.052Z"
   },
   {
    "duration": 0,
    "start_time": "2022-12-23T14:13:31.053Z"
   },
   {
    "duration": 0,
    "start_time": "2022-12-23T14:13:31.055Z"
   },
   {
    "duration": 0,
    "start_time": "2022-12-23T14:13:31.057Z"
   },
   {
    "duration": 0,
    "start_time": "2022-12-23T14:13:31.059Z"
   },
   {
    "duration": 0,
    "start_time": "2022-12-23T14:13:31.061Z"
   },
   {
    "duration": 0,
    "start_time": "2022-12-23T14:13:31.063Z"
   },
   {
    "duration": 0,
    "start_time": "2022-12-23T14:13:31.065Z"
   },
   {
    "duration": 0,
    "start_time": "2022-12-23T14:13:31.097Z"
   },
   {
    "duration": 0,
    "start_time": "2022-12-23T14:13:31.099Z"
   },
   {
    "duration": 0,
    "start_time": "2022-12-23T14:13:31.101Z"
   },
   {
    "duration": 0,
    "start_time": "2022-12-23T14:13:31.102Z"
   },
   {
    "duration": 0,
    "start_time": "2022-12-23T14:13:31.103Z"
   },
   {
    "duration": 0,
    "start_time": "2022-12-23T14:13:31.104Z"
   },
   {
    "duration": 0,
    "start_time": "2022-12-23T14:13:31.105Z"
   },
   {
    "duration": 0,
    "start_time": "2022-12-23T14:13:31.106Z"
   },
   {
    "duration": 0,
    "start_time": "2022-12-23T14:13:31.107Z"
   },
   {
    "duration": 0,
    "start_time": "2022-12-23T14:13:31.108Z"
   },
   {
    "duration": 0,
    "start_time": "2022-12-23T14:13:31.110Z"
   },
   {
    "duration": 1,
    "start_time": "2022-12-23T14:13:31.110Z"
   },
   {
    "duration": 0,
    "start_time": "2022-12-23T14:13:31.112Z"
   },
   {
    "duration": 0,
    "start_time": "2022-12-23T14:13:31.113Z"
   },
   {
    "duration": 0,
    "start_time": "2022-12-23T14:13:31.114Z"
   },
   {
    "duration": 0,
    "start_time": "2022-12-23T14:13:31.115Z"
   },
   {
    "duration": 0,
    "start_time": "2022-12-23T14:13:31.116Z"
   },
   {
    "duration": 0,
    "start_time": "2022-12-23T14:13:31.117Z"
   },
   {
    "duration": 0,
    "start_time": "2022-12-23T14:13:31.118Z"
   },
   {
    "duration": 0,
    "start_time": "2022-12-23T14:13:31.120Z"
   },
   {
    "duration": 0,
    "start_time": "2022-12-23T14:13:31.121Z"
   },
   {
    "duration": 0,
    "start_time": "2022-12-23T14:13:31.122Z"
   },
   {
    "duration": 0,
    "start_time": "2022-12-23T14:13:31.123Z"
   },
   {
    "duration": 0,
    "start_time": "2022-12-23T14:13:31.124Z"
   },
   {
    "duration": 0,
    "start_time": "2022-12-23T14:13:31.125Z"
   },
   {
    "duration": 0,
    "start_time": "2022-12-23T14:13:31.126Z"
   },
   {
    "duration": 0,
    "start_time": "2022-12-23T14:13:31.128Z"
   },
   {
    "duration": 15,
    "start_time": "2022-12-23T14:14:51.427Z"
   },
   {
    "duration": 49,
    "start_time": "2022-12-23T14:15:18.544Z"
   },
   {
    "duration": 14,
    "start_time": "2022-12-23T14:15:26.486Z"
   },
   {
    "duration": 13,
    "start_time": "2022-12-23T14:15:54.553Z"
   },
   {
    "duration": 3955,
    "start_time": "2022-12-23T14:16:00.802Z"
   },
   {
    "duration": 60,
    "start_time": "2022-12-23T14:16:04.760Z"
   },
   {
    "duration": 22,
    "start_time": "2022-12-23T14:16:04.822Z"
   },
   {
    "duration": 20,
    "start_time": "2022-12-23T14:16:04.847Z"
   },
   {
    "duration": 7,
    "start_time": "2022-12-23T14:16:04.897Z"
   },
   {
    "duration": 9,
    "start_time": "2022-12-23T14:16:04.906Z"
   },
   {
    "duration": 12,
    "start_time": "2022-12-23T14:16:04.918Z"
   },
   {
    "duration": 17,
    "start_time": "2022-12-23T14:16:04.931Z"
   },
   {
    "duration": 21,
    "start_time": "2022-12-23T14:16:04.950Z"
   },
   {
    "duration": 7,
    "start_time": "2022-12-23T14:16:04.975Z"
   },
   {
    "duration": 51,
    "start_time": "2022-12-23T14:16:04.984Z"
   },
   {
    "duration": 162,
    "start_time": "2022-12-23T14:16:05.037Z"
   },
   {
    "duration": 0,
    "start_time": "2022-12-23T14:16:05.201Z"
   },
   {
    "duration": 0,
    "start_time": "2022-12-23T14:16:05.203Z"
   },
   {
    "duration": 0,
    "start_time": "2022-12-23T14:16:05.205Z"
   },
   {
    "duration": 1,
    "start_time": "2022-12-23T14:16:05.208Z"
   },
   {
    "duration": 0,
    "start_time": "2022-12-23T14:16:05.210Z"
   },
   {
    "duration": 0,
    "start_time": "2022-12-23T14:16:05.213Z"
   },
   {
    "duration": 0,
    "start_time": "2022-12-23T14:16:05.215Z"
   },
   {
    "duration": 0,
    "start_time": "2022-12-23T14:16:05.216Z"
   },
   {
    "duration": 0,
    "start_time": "2022-12-23T14:16:05.218Z"
   },
   {
    "duration": 0,
    "start_time": "2022-12-23T14:16:05.221Z"
   },
   {
    "duration": 0,
    "start_time": "2022-12-23T14:16:05.222Z"
   },
   {
    "duration": 0,
    "start_time": "2022-12-23T14:16:05.224Z"
   },
   {
    "duration": 0,
    "start_time": "2022-12-23T14:16:05.225Z"
   },
   {
    "duration": 0,
    "start_time": "2022-12-23T14:16:05.227Z"
   },
   {
    "duration": 0,
    "start_time": "2022-12-23T14:16:05.229Z"
   },
   {
    "duration": 0,
    "start_time": "2022-12-23T14:16:05.231Z"
   },
   {
    "duration": 0,
    "start_time": "2022-12-23T14:16:05.232Z"
   },
   {
    "duration": 0,
    "start_time": "2022-12-23T14:16:05.235Z"
   },
   {
    "duration": 0,
    "start_time": "2022-12-23T14:16:05.237Z"
   },
   {
    "duration": 0,
    "start_time": "2022-12-23T14:16:05.239Z"
   },
   {
    "duration": 0,
    "start_time": "2022-12-23T14:16:05.240Z"
   },
   {
    "duration": 0,
    "start_time": "2022-12-23T14:16:05.297Z"
   },
   {
    "duration": 0,
    "start_time": "2022-12-23T14:16:05.299Z"
   },
   {
    "duration": 0,
    "start_time": "2022-12-23T14:16:05.300Z"
   },
   {
    "duration": 0,
    "start_time": "2022-12-23T14:16:05.301Z"
   },
   {
    "duration": 0,
    "start_time": "2022-12-23T14:16:05.302Z"
   },
   {
    "duration": 0,
    "start_time": "2022-12-23T14:16:05.303Z"
   },
   {
    "duration": 0,
    "start_time": "2022-12-23T14:16:05.304Z"
   },
   {
    "duration": 0,
    "start_time": "2022-12-23T14:16:05.306Z"
   },
   {
    "duration": 0,
    "start_time": "2022-12-23T14:16:05.307Z"
   },
   {
    "duration": 0,
    "start_time": "2022-12-23T14:16:05.308Z"
   },
   {
    "duration": 0,
    "start_time": "2022-12-23T14:16:05.310Z"
   },
   {
    "duration": 0,
    "start_time": "2022-12-23T14:16:05.311Z"
   },
   {
    "duration": 0,
    "start_time": "2022-12-23T14:16:05.312Z"
   },
   {
    "duration": 0,
    "start_time": "2022-12-23T14:16:05.313Z"
   },
   {
    "duration": 0,
    "start_time": "2022-12-23T14:16:05.313Z"
   },
   {
    "duration": 1,
    "start_time": "2022-12-23T14:16:05.314Z"
   },
   {
    "duration": 0,
    "start_time": "2022-12-23T14:16:05.315Z"
   },
   {
    "duration": 0,
    "start_time": "2022-12-23T14:16:05.316Z"
   },
   {
    "duration": 17,
    "start_time": "2022-12-23T14:16:43.829Z"
   },
   {
    "duration": 19,
    "start_time": "2022-12-23T14:17:27.921Z"
   },
   {
    "duration": 3558,
    "start_time": "2022-12-23T14:20:16.957Z"
   },
   {
    "duration": 56,
    "start_time": "2022-12-23T14:20:20.517Z"
   },
   {
    "duration": 19,
    "start_time": "2022-12-23T14:20:20.575Z"
   },
   {
    "duration": 17,
    "start_time": "2022-12-23T14:20:20.596Z"
   },
   {
    "duration": 5,
    "start_time": "2022-12-23T14:20:20.616Z"
   },
   {
    "duration": 15,
    "start_time": "2022-12-23T14:20:20.623Z"
   },
   {
    "duration": 25,
    "start_time": "2022-12-23T14:20:20.640Z"
   },
   {
    "duration": 28,
    "start_time": "2022-12-23T14:20:20.666Z"
   },
   {
    "duration": 4,
    "start_time": "2022-12-23T14:20:20.696Z"
   },
   {
    "duration": 25,
    "start_time": "2022-12-23T14:20:20.701Z"
   },
   {
    "duration": 35,
    "start_time": "2022-12-23T14:20:20.728Z"
   },
   {
    "duration": 126,
    "start_time": "2022-12-23T14:20:20.764Z"
   },
   {
    "duration": 0,
    "start_time": "2022-12-23T14:20:20.893Z"
   },
   {
    "duration": 0,
    "start_time": "2022-12-23T14:20:20.896Z"
   },
   {
    "duration": 0,
    "start_time": "2022-12-23T14:20:20.897Z"
   },
   {
    "duration": 0,
    "start_time": "2022-12-23T14:20:20.898Z"
   },
   {
    "duration": 0,
    "start_time": "2022-12-23T14:20:20.899Z"
   },
   {
    "duration": 0,
    "start_time": "2022-12-23T14:20:20.900Z"
   },
   {
    "duration": 0,
    "start_time": "2022-12-23T14:20:20.902Z"
   },
   {
    "duration": 0,
    "start_time": "2022-12-23T14:20:20.902Z"
   },
   {
    "duration": 0,
    "start_time": "2022-12-23T14:20:20.903Z"
   },
   {
    "duration": 0,
    "start_time": "2022-12-23T14:20:20.904Z"
   },
   {
    "duration": 0,
    "start_time": "2022-12-23T14:20:20.905Z"
   },
   {
    "duration": 0,
    "start_time": "2022-12-23T14:20:20.906Z"
   },
   {
    "duration": 0,
    "start_time": "2022-12-23T14:20:20.907Z"
   },
   {
    "duration": 0,
    "start_time": "2022-12-23T14:20:20.908Z"
   },
   {
    "duration": 0,
    "start_time": "2022-12-23T14:20:20.909Z"
   },
   {
    "duration": 0,
    "start_time": "2022-12-23T14:20:20.911Z"
   },
   {
    "duration": 0,
    "start_time": "2022-12-23T14:20:20.912Z"
   },
   {
    "duration": 0,
    "start_time": "2022-12-23T14:20:20.913Z"
   },
   {
    "duration": 0,
    "start_time": "2022-12-23T14:20:20.914Z"
   },
   {
    "duration": 0,
    "start_time": "2022-12-23T14:20:20.915Z"
   },
   {
    "duration": 0,
    "start_time": "2022-12-23T14:20:20.915Z"
   },
   {
    "duration": 0,
    "start_time": "2022-12-23T14:20:20.917Z"
   },
   {
    "duration": 0,
    "start_time": "2022-12-23T14:20:20.918Z"
   },
   {
    "duration": 0,
    "start_time": "2022-12-23T14:20:20.919Z"
   },
   {
    "duration": 0,
    "start_time": "2022-12-23T14:20:20.920Z"
   },
   {
    "duration": 0,
    "start_time": "2022-12-23T14:20:20.921Z"
   },
   {
    "duration": 0,
    "start_time": "2022-12-23T14:20:20.922Z"
   },
   {
    "duration": 0,
    "start_time": "2022-12-23T14:20:20.923Z"
   },
   {
    "duration": 0,
    "start_time": "2022-12-23T14:20:20.924Z"
   },
   {
    "duration": 0,
    "start_time": "2022-12-23T14:20:20.925Z"
   },
   {
    "duration": 0,
    "start_time": "2022-12-23T14:20:20.926Z"
   },
   {
    "duration": 0,
    "start_time": "2022-12-23T14:20:20.927Z"
   },
   {
    "duration": 0,
    "start_time": "2022-12-23T14:20:20.928Z"
   },
   {
    "duration": 0,
    "start_time": "2022-12-23T14:20:20.929Z"
   },
   {
    "duration": 0,
    "start_time": "2022-12-23T14:20:20.930Z"
   },
   {
    "duration": 0,
    "start_time": "2022-12-23T14:20:20.931Z"
   },
   {
    "duration": 0,
    "start_time": "2022-12-23T14:20:20.932Z"
   },
   {
    "duration": 0,
    "start_time": "2022-12-23T14:20:20.933Z"
   },
   {
    "duration": 0,
    "start_time": "2022-12-23T14:20:20.934Z"
   },
   {
    "duration": 12,
    "start_time": "2022-12-23T14:26:23.306Z"
   },
   {
    "duration": 13,
    "start_time": "2022-12-23T14:26:47.180Z"
   },
   {
    "duration": 54,
    "start_time": "2022-12-23T14:27:39.403Z"
   },
   {
    "duration": 14,
    "start_time": "2022-12-23T14:37:48.127Z"
   },
   {
    "duration": 3349,
    "start_time": "2022-12-23T14:37:56.447Z"
   },
   {
    "duration": 58,
    "start_time": "2022-12-23T14:37:59.798Z"
   },
   {
    "duration": 24,
    "start_time": "2022-12-23T14:37:59.858Z"
   },
   {
    "duration": 21,
    "start_time": "2022-12-23T14:37:59.884Z"
   },
   {
    "duration": 5,
    "start_time": "2022-12-23T14:37:59.906Z"
   },
   {
    "duration": 6,
    "start_time": "2022-12-23T14:37:59.913Z"
   },
   {
    "duration": 6,
    "start_time": "2022-12-23T14:37:59.921Z"
   },
   {
    "duration": 17,
    "start_time": "2022-12-23T14:37:59.929Z"
   },
   {
    "duration": 6,
    "start_time": "2022-12-23T14:37:59.947Z"
   },
   {
    "duration": 12,
    "start_time": "2022-12-23T14:37:59.957Z"
   },
   {
    "duration": 58,
    "start_time": "2022-12-23T14:37:59.971Z"
   },
   {
    "duration": 15,
    "start_time": "2022-12-23T14:38:00.031Z"
   },
   {
    "duration": 159,
    "start_time": "2022-12-23T14:38:00.048Z"
   },
   {
    "duration": 0,
    "start_time": "2022-12-23T14:38:00.209Z"
   },
   {
    "duration": 0,
    "start_time": "2022-12-23T14:38:00.210Z"
   },
   {
    "duration": 0,
    "start_time": "2022-12-23T14:38:00.211Z"
   },
   {
    "duration": 0,
    "start_time": "2022-12-23T14:38:00.213Z"
   },
   {
    "duration": 0,
    "start_time": "2022-12-23T14:38:00.213Z"
   },
   {
    "duration": 0,
    "start_time": "2022-12-23T14:38:00.215Z"
   },
   {
    "duration": 0,
    "start_time": "2022-12-23T14:38:00.216Z"
   },
   {
    "duration": 0,
    "start_time": "2022-12-23T14:38:00.217Z"
   },
   {
    "duration": 0,
    "start_time": "2022-12-23T14:38:00.219Z"
   },
   {
    "duration": 0,
    "start_time": "2022-12-23T14:38:00.220Z"
   },
   {
    "duration": 0,
    "start_time": "2022-12-23T14:38:00.221Z"
   },
   {
    "duration": 0,
    "start_time": "2022-12-23T14:38:00.222Z"
   },
   {
    "duration": 0,
    "start_time": "2022-12-23T14:38:00.223Z"
   },
   {
    "duration": 0,
    "start_time": "2022-12-23T14:38:00.224Z"
   },
   {
    "duration": 0,
    "start_time": "2022-12-23T14:38:00.225Z"
   },
   {
    "duration": 0,
    "start_time": "2022-12-23T14:38:00.226Z"
   },
   {
    "duration": 0,
    "start_time": "2022-12-23T14:38:00.227Z"
   },
   {
    "duration": 0,
    "start_time": "2022-12-23T14:38:00.228Z"
   },
   {
    "duration": 0,
    "start_time": "2022-12-23T14:38:00.230Z"
   },
   {
    "duration": 0,
    "start_time": "2022-12-23T14:38:00.231Z"
   },
   {
    "duration": 0,
    "start_time": "2022-12-23T14:38:00.232Z"
   },
   {
    "duration": 0,
    "start_time": "2022-12-23T14:38:00.233Z"
   },
   {
    "duration": 0,
    "start_time": "2022-12-23T14:38:00.234Z"
   },
   {
    "duration": 0,
    "start_time": "2022-12-23T14:38:00.236Z"
   },
   {
    "duration": 0,
    "start_time": "2022-12-23T14:38:00.297Z"
   },
   {
    "duration": 0,
    "start_time": "2022-12-23T14:38:00.298Z"
   },
   {
    "duration": 0,
    "start_time": "2022-12-23T14:38:00.299Z"
   },
   {
    "duration": 0,
    "start_time": "2022-12-23T14:38:00.300Z"
   },
   {
    "duration": 0,
    "start_time": "2022-12-23T14:38:00.302Z"
   },
   {
    "duration": 0,
    "start_time": "2022-12-23T14:38:00.302Z"
   },
   {
    "duration": 0,
    "start_time": "2022-12-23T14:38:00.303Z"
   },
   {
    "duration": 0,
    "start_time": "2022-12-23T14:38:00.304Z"
   },
   {
    "duration": 0,
    "start_time": "2022-12-23T14:38:00.305Z"
   },
   {
    "duration": 0,
    "start_time": "2022-12-23T14:38:00.306Z"
   },
   {
    "duration": 0,
    "start_time": "2022-12-23T14:38:00.307Z"
   },
   {
    "duration": 0,
    "start_time": "2022-12-23T14:38:00.308Z"
   },
   {
    "duration": 0,
    "start_time": "2022-12-23T14:38:00.309Z"
   },
   {
    "duration": 0,
    "start_time": "2022-12-23T14:38:00.310Z"
   },
   {
    "duration": 0,
    "start_time": "2022-12-23T14:38:00.311Z"
   },
   {
    "duration": 13,
    "start_time": "2022-12-23T14:38:18.559Z"
   },
   {
    "duration": 32,
    "start_time": "2022-12-23T14:38:42.160Z"
   },
   {
    "duration": 3373,
    "start_time": "2022-12-23T14:38:55.720Z"
   },
   {
    "duration": 55,
    "start_time": "2022-12-23T14:38:59.097Z"
   },
   {
    "duration": 20,
    "start_time": "2022-12-23T14:38:59.154Z"
   },
   {
    "duration": 21,
    "start_time": "2022-12-23T14:38:59.176Z"
   },
   {
    "duration": 5,
    "start_time": "2022-12-23T14:38:59.199Z"
   },
   {
    "duration": 5,
    "start_time": "2022-12-23T14:38:59.205Z"
   },
   {
    "duration": 11,
    "start_time": "2022-12-23T14:38:59.211Z"
   },
   {
    "duration": 13,
    "start_time": "2022-12-23T14:38:59.223Z"
   },
   {
    "duration": 5,
    "start_time": "2022-12-23T14:38:59.238Z"
   },
   {
    "duration": 6,
    "start_time": "2022-12-23T14:38:59.246Z"
   },
   {
    "duration": 56,
    "start_time": "2022-12-23T14:38:59.253Z"
   },
   {
    "duration": 15,
    "start_time": "2022-12-23T14:38:59.311Z"
   },
   {
    "duration": 12,
    "start_time": "2022-12-23T14:38:59.328Z"
   },
   {
    "duration": 60,
    "start_time": "2022-12-23T14:38:59.341Z"
   },
   {
    "duration": 21,
    "start_time": "2022-12-23T14:38:59.403Z"
   },
   {
    "duration": 5,
    "start_time": "2022-12-23T14:38:59.425Z"
   },
   {
    "duration": 11,
    "start_time": "2022-12-23T14:38:59.432Z"
   },
   {
    "duration": 21,
    "start_time": "2022-12-23T14:38:59.445Z"
   },
   {
    "duration": 22,
    "start_time": "2022-12-23T14:38:59.496Z"
   },
   {
    "duration": 19,
    "start_time": "2022-12-23T14:38:59.520Z"
   },
   {
    "duration": 162,
    "start_time": "2022-12-23T14:38:59.541Z"
   },
   {
    "duration": 0,
    "start_time": "2022-12-23T14:38:59.705Z"
   },
   {
    "duration": 0,
    "start_time": "2022-12-23T14:38:59.707Z"
   },
   {
    "duration": 0,
    "start_time": "2022-12-23T14:38:59.708Z"
   },
   {
    "duration": 0,
    "start_time": "2022-12-23T14:38:59.709Z"
   },
   {
    "duration": 0,
    "start_time": "2022-12-23T14:38:59.710Z"
   },
   {
    "duration": 0,
    "start_time": "2022-12-23T14:38:59.711Z"
   },
   {
    "duration": 0,
    "start_time": "2022-12-23T14:38:59.712Z"
   },
   {
    "duration": 0,
    "start_time": "2022-12-23T14:38:59.713Z"
   },
   {
    "duration": 0,
    "start_time": "2022-12-23T14:38:59.714Z"
   },
   {
    "duration": 0,
    "start_time": "2022-12-23T14:38:59.715Z"
   },
   {
    "duration": 0,
    "start_time": "2022-12-23T14:38:59.717Z"
   },
   {
    "duration": 0,
    "start_time": "2022-12-23T14:38:59.718Z"
   },
   {
    "duration": 0,
    "start_time": "2022-12-23T14:38:59.719Z"
   },
   {
    "duration": 0,
    "start_time": "2022-12-23T14:38:59.720Z"
   },
   {
    "duration": 0,
    "start_time": "2022-12-23T14:38:59.721Z"
   },
   {
    "duration": 0,
    "start_time": "2022-12-23T14:38:59.722Z"
   },
   {
    "duration": 0,
    "start_time": "2022-12-23T14:38:59.723Z"
   },
   {
    "duration": 0,
    "start_time": "2022-12-23T14:38:59.724Z"
   },
   {
    "duration": 0,
    "start_time": "2022-12-23T14:38:59.725Z"
   },
   {
    "duration": 0,
    "start_time": "2022-12-23T14:38:59.727Z"
   },
   {
    "duration": 0,
    "start_time": "2022-12-23T14:38:59.728Z"
   },
   {
    "duration": 0,
    "start_time": "2022-12-23T14:38:59.729Z"
   },
   {
    "duration": 0,
    "start_time": "2022-12-23T14:38:59.730Z"
   },
   {
    "duration": 0,
    "start_time": "2022-12-23T14:38:59.731Z"
   },
   {
    "duration": 0,
    "start_time": "2022-12-23T14:38:59.732Z"
   },
   {
    "duration": 0,
    "start_time": "2022-12-23T14:38:59.734Z"
   },
   {
    "duration": 0,
    "start_time": "2022-12-23T14:38:59.735Z"
   },
   {
    "duration": 0,
    "start_time": "2022-12-23T14:38:59.735Z"
   },
   {
    "duration": 0,
    "start_time": "2022-12-23T14:38:59.736Z"
   },
   {
    "duration": 0,
    "start_time": "2022-12-23T14:38:59.738Z"
   },
   {
    "duration": 0,
    "start_time": "2022-12-23T14:38:59.739Z"
   },
   {
    "duration": 10,
    "start_time": "2022-12-23T14:43:08.488Z"
   },
   {
    "duration": 11,
    "start_time": "2022-12-23T14:43:14.961Z"
   },
   {
    "duration": 10,
    "start_time": "2022-12-23T14:43:21.807Z"
   },
   {
    "duration": 12,
    "start_time": "2022-12-23T14:43:26.767Z"
   },
   {
    "duration": 51,
    "start_time": "2022-12-23T14:45:57.932Z"
   },
   {
    "duration": 3548,
    "start_time": "2022-12-23T14:46:02.869Z"
   },
   {
    "duration": 99,
    "start_time": "2022-12-23T14:46:06.420Z"
   },
   {
    "duration": 19,
    "start_time": "2022-12-23T14:46:06.521Z"
   },
   {
    "duration": 69,
    "start_time": "2022-12-23T14:46:06.542Z"
   },
   {
    "duration": 5,
    "start_time": "2022-12-23T14:46:06.613Z"
   },
   {
    "duration": 4,
    "start_time": "2022-12-23T14:46:06.620Z"
   },
   {
    "duration": 10,
    "start_time": "2022-12-23T14:46:06.625Z"
   },
   {
    "duration": 12,
    "start_time": "2022-12-23T14:46:06.637Z"
   },
   {
    "duration": 5,
    "start_time": "2022-12-23T14:46:06.696Z"
   },
   {
    "duration": 5,
    "start_time": "2022-12-23T14:46:06.704Z"
   },
   {
    "duration": 92,
    "start_time": "2022-12-23T14:46:06.711Z"
   },
   {
    "duration": 292,
    "start_time": "2022-12-23T14:46:06.805Z"
   },
   {
    "duration": 1,
    "start_time": "2022-12-23T14:46:07.099Z"
   },
   {
    "duration": 0,
    "start_time": "2022-12-23T14:46:07.101Z"
   },
   {
    "duration": 0,
    "start_time": "2022-12-23T14:46:07.102Z"
   },
   {
    "duration": 0,
    "start_time": "2022-12-23T14:46:07.102Z"
   },
   {
    "duration": 0,
    "start_time": "2022-12-23T14:46:07.103Z"
   },
   {
    "duration": 0,
    "start_time": "2022-12-23T14:46:07.104Z"
   },
   {
    "duration": 0,
    "start_time": "2022-12-23T14:46:07.105Z"
   },
   {
    "duration": 0,
    "start_time": "2022-12-23T14:46:07.106Z"
   },
   {
    "duration": 0,
    "start_time": "2022-12-23T14:46:07.107Z"
   },
   {
    "duration": 0,
    "start_time": "2022-12-23T14:46:07.108Z"
   },
   {
    "duration": 0,
    "start_time": "2022-12-23T14:46:07.109Z"
   },
   {
    "duration": 0,
    "start_time": "2022-12-23T14:46:07.109Z"
   },
   {
    "duration": 0,
    "start_time": "2022-12-23T14:46:07.110Z"
   },
   {
    "duration": 0,
    "start_time": "2022-12-23T14:46:07.111Z"
   },
   {
    "duration": 0,
    "start_time": "2022-12-23T14:46:07.112Z"
   },
   {
    "duration": 0,
    "start_time": "2022-12-23T14:46:07.113Z"
   },
   {
    "duration": 0,
    "start_time": "2022-12-23T14:46:07.115Z"
   },
   {
    "duration": 0,
    "start_time": "2022-12-23T14:46:07.116Z"
   },
   {
    "duration": 0,
    "start_time": "2022-12-23T14:46:07.117Z"
   },
   {
    "duration": 0,
    "start_time": "2022-12-23T14:46:07.118Z"
   },
   {
    "duration": 0,
    "start_time": "2022-12-23T14:46:07.119Z"
   },
   {
    "duration": 0,
    "start_time": "2022-12-23T14:46:07.120Z"
   },
   {
    "duration": 0,
    "start_time": "2022-12-23T14:46:07.121Z"
   },
   {
    "duration": 0,
    "start_time": "2022-12-23T14:46:07.122Z"
   },
   {
    "duration": 0,
    "start_time": "2022-12-23T14:46:07.123Z"
   },
   {
    "duration": 0,
    "start_time": "2022-12-23T14:46:07.124Z"
   },
   {
    "duration": 0,
    "start_time": "2022-12-23T14:46:07.125Z"
   },
   {
    "duration": 0,
    "start_time": "2022-12-23T14:46:07.126Z"
   },
   {
    "duration": 0,
    "start_time": "2022-12-23T14:46:07.126Z"
   },
   {
    "duration": 0,
    "start_time": "2022-12-23T14:46:07.128Z"
   },
   {
    "duration": 0,
    "start_time": "2022-12-23T14:46:07.129Z"
   },
   {
    "duration": 0,
    "start_time": "2022-12-23T14:46:07.129Z"
   },
   {
    "duration": 0,
    "start_time": "2022-12-23T14:46:07.130Z"
   },
   {
    "duration": 0,
    "start_time": "2022-12-23T14:46:07.131Z"
   },
   {
    "duration": 0,
    "start_time": "2022-12-23T14:46:07.132Z"
   },
   {
    "duration": 0,
    "start_time": "2022-12-23T14:46:07.133Z"
   },
   {
    "duration": 0,
    "start_time": "2022-12-23T14:46:07.135Z"
   },
   {
    "duration": 0,
    "start_time": "2022-12-23T14:46:07.136Z"
   },
   {
    "duration": 0,
    "start_time": "2022-12-23T14:46:07.137Z"
   },
   {
    "duration": 12,
    "start_time": "2022-12-23T14:48:41.435Z"
   },
   {
    "duration": 29,
    "start_time": "2022-12-23T14:48:47.454Z"
   },
   {
    "duration": 34,
    "start_time": "2022-12-23T14:49:00.084Z"
   },
   {
    "duration": 39,
    "start_time": "2022-12-23T14:49:20.035Z"
   },
   {
    "duration": 22,
    "start_time": "2022-12-23T14:49:48.882Z"
   },
   {
    "duration": 3256,
    "start_time": "2022-12-23T14:49:56.724Z"
   },
   {
    "duration": 56,
    "start_time": "2022-12-23T14:49:59.982Z"
   },
   {
    "duration": 20,
    "start_time": "2022-12-23T14:50:00.040Z"
   },
   {
    "duration": 17,
    "start_time": "2022-12-23T14:50:00.062Z"
   },
   {
    "duration": 19,
    "start_time": "2022-12-23T14:50:00.080Z"
   },
   {
    "duration": 20,
    "start_time": "2022-12-23T14:50:00.101Z"
   },
   {
    "duration": 24,
    "start_time": "2022-12-23T14:50:00.123Z"
   },
   {
    "duration": 51,
    "start_time": "2022-12-23T14:50:00.149Z"
   },
   {
    "duration": 7,
    "start_time": "2022-12-23T14:50:00.202Z"
   },
   {
    "duration": 27,
    "start_time": "2022-12-23T14:50:00.212Z"
   },
   {
    "duration": 52,
    "start_time": "2022-12-23T14:50:00.241Z"
   },
   {
    "duration": 25,
    "start_time": "2022-12-23T14:50:00.295Z"
   },
   {
    "duration": 29,
    "start_time": "2022-12-23T14:50:00.322Z"
   },
   {
    "duration": 56,
    "start_time": "2022-12-23T14:50:00.354Z"
   },
   {
    "duration": 31,
    "start_time": "2022-12-23T14:50:00.412Z"
   },
   {
    "duration": 21,
    "start_time": "2022-12-23T14:50:00.444Z"
   },
   {
    "duration": 24,
    "start_time": "2022-12-23T14:50:00.466Z"
   },
   {
    "duration": 37,
    "start_time": "2022-12-23T14:50:00.491Z"
   },
   {
    "duration": 37,
    "start_time": "2022-12-23T14:50:00.529Z"
   },
   {
    "duration": 18,
    "start_time": "2022-12-23T14:50:00.567Z"
   },
   {
    "duration": 149,
    "start_time": "2022-12-23T14:50:00.587Z"
   },
   {
    "duration": 0,
    "start_time": "2022-12-23T14:50:00.739Z"
   },
   {
    "duration": 0,
    "start_time": "2022-12-23T14:50:00.740Z"
   },
   {
    "duration": 0,
    "start_time": "2022-12-23T14:50:00.741Z"
   },
   {
    "duration": 0,
    "start_time": "2022-12-23T14:50:00.742Z"
   },
   {
    "duration": 0,
    "start_time": "2022-12-23T14:50:00.743Z"
   },
   {
    "duration": 0,
    "start_time": "2022-12-23T14:50:00.745Z"
   },
   {
    "duration": 0,
    "start_time": "2022-12-23T14:50:00.746Z"
   },
   {
    "duration": 0,
    "start_time": "2022-12-23T14:50:00.747Z"
   },
   {
    "duration": 0,
    "start_time": "2022-12-23T14:50:00.748Z"
   },
   {
    "duration": 0,
    "start_time": "2022-12-23T14:50:00.749Z"
   },
   {
    "duration": 0,
    "start_time": "2022-12-23T14:50:00.750Z"
   },
   {
    "duration": 0,
    "start_time": "2022-12-23T14:50:00.751Z"
   },
   {
    "duration": 0,
    "start_time": "2022-12-23T14:50:00.752Z"
   },
   {
    "duration": 0,
    "start_time": "2022-12-23T14:50:00.753Z"
   },
   {
    "duration": 0,
    "start_time": "2022-12-23T14:50:00.755Z"
   },
   {
    "duration": 0,
    "start_time": "2022-12-23T14:50:00.756Z"
   },
   {
    "duration": 0,
    "start_time": "2022-12-23T14:50:00.757Z"
   },
   {
    "duration": 0,
    "start_time": "2022-12-23T14:50:00.758Z"
   },
   {
    "duration": 0,
    "start_time": "2022-12-23T14:50:00.759Z"
   },
   {
    "duration": 0,
    "start_time": "2022-12-23T14:50:00.760Z"
   },
   {
    "duration": 0,
    "start_time": "2022-12-23T14:50:00.796Z"
   },
   {
    "duration": 0,
    "start_time": "2022-12-23T14:50:00.798Z"
   },
   {
    "duration": 1,
    "start_time": "2022-12-23T14:50:00.799Z"
   },
   {
    "duration": 0,
    "start_time": "2022-12-23T14:50:00.801Z"
   },
   {
    "duration": 0,
    "start_time": "2022-12-23T14:50:00.802Z"
   },
   {
    "duration": 0,
    "start_time": "2022-12-23T14:50:00.803Z"
   },
   {
    "duration": 0,
    "start_time": "2022-12-23T14:50:00.805Z"
   },
   {
    "duration": 0,
    "start_time": "2022-12-23T14:50:00.805Z"
   },
   {
    "duration": 0,
    "start_time": "2022-12-23T14:50:00.807Z"
   },
   {
    "duration": 0,
    "start_time": "2022-12-23T14:50:00.809Z"
   },
   {
    "duration": 0,
    "start_time": "2022-12-23T14:50:00.810Z"
   },
   {
    "duration": 38,
    "start_time": "2022-12-23T14:52:36.039Z"
   },
   {
    "duration": 17,
    "start_time": "2022-12-23T14:54:05.927Z"
   },
   {
    "duration": 3420,
    "start_time": "2022-12-23T14:54:14.047Z"
   },
   {
    "duration": 57,
    "start_time": "2022-12-23T14:54:17.469Z"
   },
   {
    "duration": 19,
    "start_time": "2022-12-23T14:54:17.528Z"
   },
   {
    "duration": 17,
    "start_time": "2022-12-23T14:54:17.549Z"
   },
   {
    "duration": 29,
    "start_time": "2022-12-23T14:54:17.568Z"
   },
   {
    "duration": 5,
    "start_time": "2022-12-23T14:54:17.599Z"
   },
   {
    "duration": 10,
    "start_time": "2022-12-23T14:54:17.605Z"
   },
   {
    "duration": 16,
    "start_time": "2022-12-23T14:54:17.617Z"
   },
   {
    "duration": 5,
    "start_time": "2022-12-23T14:54:17.634Z"
   },
   {
    "duration": 9,
    "start_time": "2022-12-23T14:54:17.642Z"
   },
   {
    "duration": 53,
    "start_time": "2022-12-23T14:54:17.652Z"
   },
   {
    "duration": 15,
    "start_time": "2022-12-23T14:54:17.707Z"
   },
   {
    "duration": 21,
    "start_time": "2022-12-23T14:54:17.723Z"
   },
   {
    "duration": 51,
    "start_time": "2022-12-23T14:54:17.746Z"
   },
   {
    "duration": 21,
    "start_time": "2022-12-23T14:54:17.799Z"
   },
   {
    "duration": 5,
    "start_time": "2022-12-23T14:54:17.822Z"
   },
   {
    "duration": 13,
    "start_time": "2022-12-23T14:54:17.828Z"
   },
   {
    "duration": 24,
    "start_time": "2022-12-23T14:54:17.843Z"
   },
   {
    "duration": 45,
    "start_time": "2022-12-23T14:54:17.869Z"
   },
   {
    "duration": 40,
    "start_time": "2022-12-23T14:54:17.916Z"
   },
   {
    "duration": 228,
    "start_time": "2022-12-23T14:54:17.958Z"
   },
   {
    "duration": 9,
    "start_time": "2022-12-23T14:54:18.188Z"
   },
   {
    "duration": 1791,
    "start_time": "2022-12-23T14:54:18.200Z"
   },
   {
    "duration": 219,
    "start_time": "2022-12-23T14:54:19.996Z"
   },
   {
    "duration": 85,
    "start_time": "2022-12-23T14:54:20.217Z"
   },
   {
    "duration": 321,
    "start_time": "2022-12-23T14:54:20.304Z"
   },
   {
    "duration": 7,
    "start_time": "2022-12-23T14:54:20.696Z"
   },
   {
    "duration": 155,
    "start_time": "2022-12-23T14:54:20.707Z"
   },
   {
    "duration": 17,
    "start_time": "2022-12-23T14:54:20.864Z"
   },
   {
    "duration": 599,
    "start_time": "2022-12-23T14:54:20.882Z"
   },
   {
    "duration": 67,
    "start_time": "2022-12-23T14:54:21.483Z"
   },
   {
    "duration": 46,
    "start_time": "2022-12-23T14:54:21.552Z"
   },
   {
    "duration": 103,
    "start_time": "2022-12-23T14:54:21.599Z"
   },
   {
    "duration": 11,
    "start_time": "2022-12-23T14:54:21.704Z"
   },
   {
    "duration": 495,
    "start_time": "2022-12-23T14:54:21.717Z"
   },
   {
    "duration": 128,
    "start_time": "2022-12-23T14:54:22.213Z"
   },
   {
    "duration": 6,
    "start_time": "2022-12-23T14:54:22.342Z"
   },
   {
    "duration": 128,
    "start_time": "2022-12-23T14:54:22.349Z"
   },
   {
    "duration": 243,
    "start_time": "2022-12-23T14:54:22.479Z"
   },
   {
    "duration": 401,
    "start_time": "2022-12-23T14:54:22.797Z"
   },
   {
    "duration": 214,
    "start_time": "2022-12-23T14:54:23.200Z"
   },
   {
    "duration": 273,
    "start_time": "2022-12-23T14:54:23.416Z"
   },
   {
    "duration": 37,
    "start_time": "2022-12-23T14:54:23.690Z"
   },
   {
    "duration": 6,
    "start_time": "2022-12-23T14:54:23.798Z"
   },
   {
    "duration": 91,
    "start_time": "2022-12-23T14:54:23.806Z"
   },
   {
    "duration": 4,
    "start_time": "2022-12-23T14:54:23.898Z"
   },
   {
    "duration": 2442,
    "start_time": "2022-12-23T14:54:23.904Z"
   },
   {
    "duration": 153,
    "start_time": "2022-12-23T14:54:26.348Z"
   },
   {
    "duration": 7,
    "start_time": "2022-12-23T14:54:26.503Z"
   },
   {
    "duration": 30,
    "start_time": "2022-12-23T14:54:26.512Z"
   },
   {
    "duration": 142,
    "start_time": "2022-12-23T14:54:26.544Z"
   },
   {
    "duration": 0,
    "start_time": "2022-12-23T14:54:26.687Z"
   },
   {
    "duration": 10,
    "start_time": "2022-12-23T14:54:52.094Z"
   },
   {
    "duration": 34,
    "start_time": "2022-12-23T14:55:05.893Z"
   },
   {
    "duration": 3467,
    "start_time": "2022-12-23T14:55:15.425Z"
   },
   {
    "duration": 58,
    "start_time": "2022-12-23T14:55:18.894Z"
   },
   {
    "duration": 20,
    "start_time": "2022-12-23T14:55:18.953Z"
   },
   {
    "duration": 19,
    "start_time": "2022-12-23T14:55:18.974Z"
   },
   {
    "duration": 19,
    "start_time": "2022-12-23T14:55:18.997Z"
   },
   {
    "duration": 6,
    "start_time": "2022-12-23T14:55:19.017Z"
   },
   {
    "duration": 9,
    "start_time": "2022-12-23T14:55:19.025Z"
   },
   {
    "duration": 14,
    "start_time": "2022-12-23T14:55:19.035Z"
   },
   {
    "duration": 4,
    "start_time": "2022-12-23T14:55:19.051Z"
   },
   {
    "duration": 5,
    "start_time": "2022-12-23T14:55:19.057Z"
   },
   {
    "duration": 58,
    "start_time": "2022-12-23T14:55:19.063Z"
   },
   {
    "duration": 15,
    "start_time": "2022-12-23T14:55:19.123Z"
   },
   {
    "duration": 20,
    "start_time": "2022-12-23T14:55:19.140Z"
   },
   {
    "duration": 58,
    "start_time": "2022-12-23T14:55:19.163Z"
   },
   {
    "duration": 24,
    "start_time": "2022-12-23T14:55:19.223Z"
   },
   {
    "duration": 9,
    "start_time": "2022-12-23T14:55:19.250Z"
   },
   {
    "duration": 15,
    "start_time": "2022-12-23T14:55:19.260Z"
   },
   {
    "duration": 23,
    "start_time": "2022-12-23T14:55:19.297Z"
   },
   {
    "duration": 19,
    "start_time": "2022-12-23T14:55:19.322Z"
   },
   {
    "duration": 18,
    "start_time": "2022-12-23T14:55:19.343Z"
   },
   {
    "duration": 228,
    "start_time": "2022-12-23T14:55:19.362Z"
   },
   {
    "duration": 8,
    "start_time": "2022-12-23T14:55:19.592Z"
   },
   {
    "duration": 1719,
    "start_time": "2022-12-23T14:55:19.602Z"
   },
   {
    "duration": 274,
    "start_time": "2022-12-23T14:55:21.323Z"
   },
   {
    "duration": 98,
    "start_time": "2022-12-23T14:55:21.599Z"
   },
   {
    "duration": 507,
    "start_time": "2022-12-23T14:55:21.698Z"
   },
   {
    "duration": 7,
    "start_time": "2022-12-23T14:55:22.298Z"
   },
   {
    "duration": 120,
    "start_time": "2022-12-23T14:55:22.307Z"
   },
   {
    "duration": 73,
    "start_time": "2022-12-23T14:55:22.429Z"
   },
   {
    "duration": 1243,
    "start_time": "2022-12-23T14:55:22.503Z"
   },
   {
    "duration": 87,
    "start_time": "2022-12-23T14:55:23.748Z"
   },
   {
    "duration": 21,
    "start_time": "2022-12-23T14:55:23.837Z"
   },
   {
    "duration": 108,
    "start_time": "2022-12-23T14:55:23.898Z"
   },
   {
    "duration": 9,
    "start_time": "2022-12-23T14:55:24.008Z"
   },
   {
    "duration": 502,
    "start_time": "2022-12-23T14:55:24.019Z"
   },
   {
    "duration": 132,
    "start_time": "2022-12-23T14:55:24.523Z"
   },
   {
    "duration": 5,
    "start_time": "2022-12-23T14:55:24.657Z"
   },
   {
    "duration": 134,
    "start_time": "2022-12-23T14:55:24.664Z"
   },
   {
    "duration": 229,
    "start_time": "2022-12-23T14:55:24.800Z"
   },
   {
    "duration": 401,
    "start_time": "2022-12-23T14:55:25.097Z"
   },
   {
    "duration": 220,
    "start_time": "2022-12-23T14:55:25.503Z"
   },
   {
    "duration": 268,
    "start_time": "2022-12-23T14:55:25.725Z"
   },
   {
    "duration": 104,
    "start_time": "2022-12-23T14:55:25.995Z"
   },
   {
    "duration": 3,
    "start_time": "2022-12-23T14:55:26.101Z"
   },
   {
    "duration": 101,
    "start_time": "2022-12-23T14:55:26.106Z"
   },
   {
    "duration": 9,
    "start_time": "2022-12-23T14:55:26.209Z"
   },
   {
    "duration": 2355,
    "start_time": "2022-12-23T14:55:26.220Z"
   },
   {
    "duration": 124,
    "start_time": "2022-12-23T14:55:28.577Z"
   },
   {
    "duration": 6,
    "start_time": "2022-12-23T14:55:28.703Z"
   },
   {
    "duration": 23,
    "start_time": "2022-12-23T14:55:28.710Z"
   },
   {
    "duration": 131,
    "start_time": "2022-12-23T14:55:28.735Z"
   },
   {
    "duration": 0,
    "start_time": "2022-12-23T14:55:28.868Z"
   },
   {
    "duration": 33,
    "start_time": "2022-12-23T14:55:45.221Z"
   },
   {
    "duration": 4309,
    "start_time": "2022-12-23T17:17:52.977Z"
   },
   {
    "duration": 93,
    "start_time": "2022-12-23T17:17:57.288Z"
   },
   {
    "duration": 20,
    "start_time": "2022-12-23T17:17:57.382Z"
   },
   {
    "duration": 16,
    "start_time": "2022-12-23T17:17:57.403Z"
   },
   {
    "duration": 5,
    "start_time": "2022-12-23T17:17:57.421Z"
   },
   {
    "duration": 9,
    "start_time": "2022-12-23T17:17:57.428Z"
   },
   {
    "duration": 11,
    "start_time": "2022-12-23T17:17:57.439Z"
   },
   {
    "duration": 14,
    "start_time": "2022-12-23T17:17:57.451Z"
   },
   {
    "duration": 6,
    "start_time": "2022-12-23T17:17:57.466Z"
   },
   {
    "duration": 11,
    "start_time": "2022-12-23T17:17:57.473Z"
   },
   {
    "duration": 48,
    "start_time": "2022-12-23T17:17:57.486Z"
   },
   {
    "duration": 22,
    "start_time": "2022-12-23T17:17:57.535Z"
   },
   {
    "duration": 28,
    "start_time": "2022-12-23T17:17:57.559Z"
   },
   {
    "duration": 40,
    "start_time": "2022-12-23T17:17:57.589Z"
   },
   {
    "duration": 9,
    "start_time": "2022-12-23T17:17:57.631Z"
   },
   {
    "duration": 30,
    "start_time": "2022-12-23T17:17:57.641Z"
   },
   {
    "duration": 28,
    "start_time": "2022-12-23T17:17:57.673Z"
   },
   {
    "duration": 20,
    "start_time": "2022-12-23T17:17:57.703Z"
   },
   {
    "duration": 23,
    "start_time": "2022-12-23T17:17:57.724Z"
   },
   {
    "duration": 219,
    "start_time": "2022-12-23T17:17:57.749Z"
   },
   {
    "duration": 3,
    "start_time": "2022-12-23T17:17:57.970Z"
   },
   {
    "duration": 1658,
    "start_time": "2022-12-23T17:17:57.975Z"
   },
   {
    "duration": 288,
    "start_time": "2022-12-23T17:17:59.635Z"
   },
   {
    "duration": 14,
    "start_time": "2022-12-23T17:17:59.925Z"
   },
   {
    "duration": 301,
    "start_time": "2022-12-23T17:17:59.942Z"
   },
   {
    "duration": 82,
    "start_time": "2022-12-23T17:18:00.245Z"
   },
   {
    "duration": 59,
    "start_time": "2022-12-23T17:18:00.420Z"
   },
   {
    "duration": 19,
    "start_time": "2022-12-23T17:18:00.481Z"
   },
   {
    "duration": 631,
    "start_time": "2022-12-23T17:18:00.502Z"
   },
   {
    "duration": 59,
    "start_time": "2022-12-23T17:18:01.135Z"
   },
   {
    "duration": 35,
    "start_time": "2022-12-23T17:18:01.195Z"
   },
   {
    "duration": 201,
    "start_time": "2022-12-23T17:18:01.231Z"
   },
   {
    "duration": 54,
    "start_time": "2022-12-23T17:18:01.434Z"
   },
   {
    "duration": 443,
    "start_time": "2022-12-23T17:18:01.491Z"
   },
   {
    "duration": 123,
    "start_time": "2022-12-23T17:18:01.936Z"
   },
   {
    "duration": 5,
    "start_time": "2022-12-23T17:18:02.061Z"
   },
   {
    "duration": 137,
    "start_time": "2022-12-23T17:18:02.067Z"
   },
   {
    "duration": 231,
    "start_time": "2022-12-23T17:18:02.205Z"
   },
   {
    "duration": 491,
    "start_time": "2022-12-23T17:18:02.439Z"
   },
   {
    "duration": 207,
    "start_time": "2022-12-23T17:18:02.934Z"
   },
   {
    "duration": 263,
    "start_time": "2022-12-23T17:18:03.145Z"
   },
   {
    "duration": 112,
    "start_time": "2022-12-23T17:18:03.410Z"
   },
   {
    "duration": 4,
    "start_time": "2022-12-23T17:18:03.524Z"
   },
   {
    "duration": 112,
    "start_time": "2022-12-23T17:18:03.530Z"
   },
   {
    "duration": 10,
    "start_time": "2022-12-23T17:18:03.644Z"
   },
   {
    "duration": 2294,
    "start_time": "2022-12-23T17:18:03.655Z"
   },
   {
    "duration": 116,
    "start_time": "2022-12-23T17:18:05.951Z"
   },
   {
    "duration": 6,
    "start_time": "2022-12-23T17:18:06.069Z"
   },
   {
    "duration": 19,
    "start_time": "2022-12-23T17:18:06.076Z"
   },
   {
    "duration": 32,
    "start_time": "2022-12-23T17:18:06.096Z"
   },
   {
    "duration": 268,
    "start_time": "2022-12-23T17:18:06.130Z"
   },
   {
    "duration": 3262,
    "start_time": "2022-12-23T17:42:25.608Z"
   },
   {
    "duration": 54,
    "start_time": "2022-12-23T17:42:28.872Z"
   },
   {
    "duration": 21,
    "start_time": "2022-12-23T17:42:28.928Z"
   },
   {
    "duration": 17,
    "start_time": "2022-12-23T17:42:28.950Z"
   },
   {
    "duration": 5,
    "start_time": "2022-12-23T17:42:28.970Z"
   },
   {
    "duration": 3,
    "start_time": "2022-12-23T17:42:28.977Z"
   },
   {
    "duration": 4,
    "start_time": "2022-12-23T17:42:29.021Z"
   },
   {
    "duration": 12,
    "start_time": "2022-12-23T17:42:29.027Z"
   },
   {
    "duration": 4,
    "start_time": "2022-12-23T17:42:29.040Z"
   },
   {
    "duration": 5,
    "start_time": "2022-12-23T17:42:29.045Z"
   },
   {
    "duration": 29,
    "start_time": "2022-12-23T17:42:29.052Z"
   },
   {
    "duration": 50,
    "start_time": "2022-12-23T17:42:29.083Z"
   },
   {
    "duration": 30,
    "start_time": "2022-12-23T17:42:29.134Z"
   },
   {
    "duration": 21,
    "start_time": "2022-12-23T17:42:29.168Z"
   },
   {
    "duration": 5,
    "start_time": "2022-12-23T17:42:29.191Z"
   },
   {
    "duration": 30,
    "start_time": "2022-12-23T17:42:29.198Z"
   },
   {
    "duration": 26,
    "start_time": "2022-12-23T17:42:29.230Z"
   },
   {
    "duration": 20,
    "start_time": "2022-12-23T17:42:29.257Z"
   },
   {
    "duration": 16,
    "start_time": "2022-12-23T17:42:29.279Z"
   },
   {
    "duration": 231,
    "start_time": "2022-12-23T17:42:29.296Z"
   },
   {
    "duration": 5,
    "start_time": "2022-12-23T17:42:29.531Z"
   },
   {
    "duration": 1658,
    "start_time": "2022-12-23T17:42:29.538Z"
   },
   {
    "duration": 227,
    "start_time": "2022-12-23T17:42:31.198Z"
   },
   {
    "duration": 98,
    "start_time": "2022-12-23T17:42:31.427Z"
   },
   {
    "duration": 394,
    "start_time": "2022-12-23T17:42:31.529Z"
   },
   {
    "duration": 19,
    "start_time": "2022-12-23T17:42:31.925Z"
   },
   {
    "duration": 47,
    "start_time": "2022-12-23T17:42:32.022Z"
   },
   {
    "duration": 15,
    "start_time": "2022-12-23T17:42:32.071Z"
   },
   {
    "duration": 583,
    "start_time": "2022-12-23T17:42:32.087Z"
   },
   {
    "duration": 65,
    "start_time": "2022-12-23T17:42:32.671Z"
   },
   {
    "duration": 84,
    "start_time": "2022-12-23T17:42:32.737Z"
   },
   {
    "duration": 99,
    "start_time": "2022-12-23T17:42:32.824Z"
   },
   {
    "duration": 22,
    "start_time": "2022-12-23T17:42:32.925Z"
   },
   {
    "duration": 416,
    "start_time": "2022-12-23T17:42:33.021Z"
   },
   {
    "duration": 119,
    "start_time": "2022-12-23T17:42:33.439Z"
   },
   {
    "duration": 5,
    "start_time": "2022-12-23T17:42:33.559Z"
   },
   {
    "duration": 116,
    "start_time": "2022-12-23T17:42:33.565Z"
   },
   {
    "duration": 251,
    "start_time": "2022-12-23T17:42:33.683Z"
   },
   {
    "duration": 442,
    "start_time": "2022-12-23T17:42:33.938Z"
   },
   {
    "duration": 136,
    "start_time": "2022-12-23T17:42:34.421Z"
   },
   {
    "duration": 249,
    "start_time": "2022-12-23T17:42:34.561Z"
   },
   {
    "duration": 116,
    "start_time": "2022-12-23T17:42:34.812Z"
   },
   {
    "duration": 4,
    "start_time": "2022-12-23T17:42:34.930Z"
   },
   {
    "duration": 94,
    "start_time": "2022-12-23T17:42:34.936Z"
   },
   {
    "duration": 20,
    "start_time": "2022-12-23T17:42:35.032Z"
   },
   {
    "duration": 2273,
    "start_time": "2022-12-23T17:42:35.054Z"
   },
   {
    "duration": 119,
    "start_time": "2022-12-23T17:42:37.329Z"
   },
   {
    "duration": 6,
    "start_time": "2022-12-23T17:42:37.449Z"
   },
   {
    "duration": 10,
    "start_time": "2022-12-23T17:42:37.456Z"
   },
   {
    "duration": 18,
    "start_time": "2022-12-23T17:42:37.468Z"
   },
   {
    "duration": 307,
    "start_time": "2022-12-23T17:42:37.488Z"
   },
   {
    "duration": 36,
    "start_time": "2022-12-23T17:43:56.725Z"
   },
   {
    "duration": 21,
    "start_time": "2022-12-23T17:48:04.318Z"
   },
   {
    "duration": 118,
    "start_time": "2022-12-23T17:49:47.408Z"
   },
   {
    "duration": 60,
    "start_time": "2022-12-23T17:50:02.046Z"
   },
   {
    "duration": 18,
    "start_time": "2022-12-23T17:50:12.902Z"
   },
   {
    "duration": 17,
    "start_time": "2022-12-23T17:50:36.525Z"
   },
   {
    "duration": 4132,
    "start_time": "2022-12-23T17:50:46.125Z"
   },
   {
    "duration": 56,
    "start_time": "2022-12-23T17:50:50.259Z"
   },
   {
    "duration": 20,
    "start_time": "2022-12-23T17:50:50.316Z"
   },
   {
    "duration": 15,
    "start_time": "2022-12-23T17:50:50.337Z"
   },
   {
    "duration": 5,
    "start_time": "2022-12-23T17:50:50.354Z"
   },
   {
    "duration": 4,
    "start_time": "2022-12-23T17:50:50.361Z"
   },
   {
    "duration": 8,
    "start_time": "2022-12-23T17:50:50.367Z"
   },
   {
    "duration": 49,
    "start_time": "2022-12-23T17:50:50.376Z"
   },
   {
    "duration": 4,
    "start_time": "2022-12-23T17:50:50.427Z"
   },
   {
    "duration": 8,
    "start_time": "2022-12-23T17:50:50.432Z"
   },
   {
    "duration": 38,
    "start_time": "2022-12-23T17:50:50.441Z"
   },
   {
    "duration": 40,
    "start_time": "2022-12-23T17:50:50.481Z"
   },
   {
    "duration": 28,
    "start_time": "2022-12-23T17:50:50.523Z"
   },
   {
    "duration": 4,
    "start_time": "2022-12-23T17:50:50.553Z"
   },
   {
    "duration": 21,
    "start_time": "2022-12-23T17:50:50.559Z"
   },
   {
    "duration": 22,
    "start_time": "2022-12-23T17:50:50.582Z"
   },
   {
    "duration": 33,
    "start_time": "2022-12-23T17:50:50.605Z"
   },
   {
    "duration": 17,
    "start_time": "2022-12-23T17:50:50.639Z"
   },
   {
    "duration": 210,
    "start_time": "2022-12-23T17:50:50.657Z"
   },
   {
    "duration": 4,
    "start_time": "2022-12-23T17:50:50.869Z"
   },
   {
    "duration": 1602,
    "start_time": "2022-12-23T17:50:50.875Z"
   },
   {
    "duration": 248,
    "start_time": "2022-12-23T17:50:52.479Z"
   },
   {
    "duration": 96,
    "start_time": "2022-12-23T17:50:52.729Z"
   },
   {
    "duration": 303,
    "start_time": "2022-12-23T17:50:52.827Z"
   },
   {
    "duration": 90,
    "start_time": "2022-12-23T17:50:53.132Z"
   },
   {
    "duration": 39,
    "start_time": "2022-12-23T17:50:53.225Z"
   },
   {
    "duration": 65,
    "start_time": "2022-12-23T17:50:53.265Z"
   },
   {
    "duration": 585,
    "start_time": "2022-12-23T17:50:53.331Z"
   },
   {
    "duration": 116,
    "start_time": "2022-12-23T17:50:53.917Z"
   },
   {
    "duration": 0,
    "start_time": "2022-12-23T17:50:54.036Z"
   },
   {
    "duration": 0,
    "start_time": "2022-12-23T17:50:54.038Z"
   },
   {
    "duration": 0,
    "start_time": "2022-12-23T17:50:54.039Z"
   },
   {
    "duration": 0,
    "start_time": "2022-12-23T17:50:54.040Z"
   },
   {
    "duration": 0,
    "start_time": "2022-12-23T17:50:54.041Z"
   },
   {
    "duration": 0,
    "start_time": "2022-12-23T17:50:54.042Z"
   },
   {
    "duration": 0,
    "start_time": "2022-12-23T17:50:54.043Z"
   },
   {
    "duration": 0,
    "start_time": "2022-12-23T17:50:54.044Z"
   },
   {
    "duration": 0,
    "start_time": "2022-12-23T17:50:54.045Z"
   },
   {
    "duration": 0,
    "start_time": "2022-12-23T17:50:54.046Z"
   },
   {
    "duration": 0,
    "start_time": "2022-12-23T17:50:54.047Z"
   },
   {
    "duration": 0,
    "start_time": "2022-12-23T17:50:54.048Z"
   },
   {
    "duration": 0,
    "start_time": "2022-12-23T17:50:54.049Z"
   },
   {
    "duration": 0,
    "start_time": "2022-12-23T17:50:54.050Z"
   },
   {
    "duration": 0,
    "start_time": "2022-12-23T17:50:54.051Z"
   },
   {
    "duration": 0,
    "start_time": "2022-12-23T17:50:54.052Z"
   },
   {
    "duration": 0,
    "start_time": "2022-12-23T17:50:54.054Z"
   },
   {
    "duration": 0,
    "start_time": "2022-12-23T17:50:54.055Z"
   },
   {
    "duration": 0,
    "start_time": "2022-12-23T17:50:54.056Z"
   },
   {
    "duration": 0,
    "start_time": "2022-12-23T17:50:54.057Z"
   },
   {
    "duration": 0,
    "start_time": "2022-12-23T17:50:54.058Z"
   },
   {
    "duration": 59,
    "start_time": "2022-12-23T17:55:57.567Z"
   },
   {
    "duration": 62,
    "start_time": "2022-12-23T17:57:04.219Z"
   },
   {
    "duration": 26,
    "start_time": "2022-12-23T17:57:21.705Z"
   },
   {
    "duration": 105,
    "start_time": "2022-12-23T17:57:52.629Z"
   },
   {
    "duration": 10,
    "start_time": "2022-12-23T17:57:55.438Z"
   },
   {
    "duration": 19,
    "start_time": "2022-12-23T17:58:02.099Z"
   },
   {
    "duration": 75,
    "start_time": "2022-12-23T17:58:35.238Z"
   },
   {
    "duration": 58,
    "start_time": "2022-12-23T17:58:51.246Z"
   },
   {
    "duration": 58,
    "start_time": "2022-12-23T17:59:00.803Z"
   },
   {
    "duration": 65,
    "start_time": "2022-12-23T17:59:08.896Z"
   },
   {
    "duration": 64,
    "start_time": "2022-12-23T18:00:04.917Z"
   },
   {
    "duration": 18,
    "start_time": "2022-12-23T18:00:51.117Z"
   },
   {
    "duration": 58,
    "start_time": "2022-12-23T18:01:13.211Z"
   },
   {
    "duration": 10,
    "start_time": "2022-12-23T18:01:37.603Z"
   },
   {
    "duration": 12,
    "start_time": "2022-12-23T18:01:38.239Z"
   },
   {
    "duration": 19,
    "start_time": "2022-12-23T18:02:14.608Z"
   },
   {
    "duration": 11,
    "start_time": "2022-12-23T18:03:12.725Z"
   },
   {
    "duration": 58,
    "start_time": "2022-12-23T18:10:34.167Z"
   },
   {
    "duration": 57,
    "start_time": "2022-12-23T18:10:58.343Z"
   },
   {
    "duration": 55,
    "start_time": "2022-12-23T18:11:17.637Z"
   },
   {
    "duration": 56,
    "start_time": "2022-12-23T18:12:30.847Z"
   },
   {
    "duration": 58,
    "start_time": "2022-12-23T18:13:39.099Z"
   },
   {
    "duration": 57,
    "start_time": "2022-12-23T18:13:45.926Z"
   },
   {
    "duration": 58,
    "start_time": "2022-12-23T18:13:58.838Z"
   },
   {
    "duration": 70,
    "start_time": "2022-12-23T18:14:42.704Z"
   },
   {
    "duration": 23,
    "start_time": "2022-12-23T18:15:09.300Z"
   },
   {
    "duration": 629,
    "start_time": "2022-12-23T18:15:14.838Z"
   },
   {
    "duration": 57,
    "start_time": "2022-12-23T18:15:17.454Z"
   },
   {
    "duration": 17,
    "start_time": "2022-12-23T18:15:24.012Z"
   },
   {
    "duration": 10,
    "start_time": "2022-12-23T18:16:02.930Z"
   },
   {
    "duration": 66,
    "start_time": "2022-12-23T18:16:13.754Z"
   },
   {
    "duration": 606,
    "start_time": "2022-12-23T18:16:24.145Z"
   },
   {
    "duration": 10,
    "start_time": "2022-12-23T18:16:27.502Z"
   },
   {
    "duration": 17,
    "start_time": "2022-12-23T18:20:08.038Z"
   },
   {
    "duration": 10,
    "start_time": "2022-12-23T18:21:07.767Z"
   },
   {
    "duration": 17,
    "start_time": "2022-12-23T18:21:41.704Z"
   },
   {
    "duration": 57,
    "start_time": "2022-12-23T18:21:52.300Z"
   },
   {
    "duration": 17,
    "start_time": "2022-12-23T18:22:02.969Z"
   },
   {
    "duration": 74,
    "start_time": "2022-12-23T18:22:09.639Z"
   },
   {
    "duration": 63,
    "start_time": "2022-12-23T18:22:31.919Z"
   },
   {
    "duration": 64,
    "start_time": "2022-12-23T18:22:39.808Z"
   },
   {
    "duration": 52,
    "start_time": "2022-12-23T18:22:48.613Z"
   },
   {
    "duration": 63,
    "start_time": "2022-12-23T18:22:57.167Z"
   },
   {
    "duration": 19,
    "start_time": "2022-12-23T18:23:33.926Z"
   },
   {
    "duration": 9,
    "start_time": "2022-12-23T18:23:39.199Z"
   },
   {
    "duration": 176,
    "start_time": "2022-12-23T18:23:53.446Z"
   },
   {
    "duration": 18,
    "start_time": "2022-12-23T18:24:20.889Z"
   },
   {
    "duration": 12,
    "start_time": "2022-12-23T18:25:03.528Z"
   },
   {
    "duration": 57,
    "start_time": "2022-12-23T18:25:16.359Z"
   },
   {
    "duration": 18,
    "start_time": "2022-12-23T18:43:10.074Z"
   },
   {
    "duration": 25,
    "start_time": "2022-12-23T18:43:23.747Z"
   },
   {
    "duration": 66,
    "start_time": "2022-12-23T18:43:31.601Z"
   },
   {
    "duration": 20,
    "start_time": "2022-12-23T18:43:51.639Z"
   },
   {
    "duration": 64,
    "start_time": "2022-12-23T18:43:57.705Z"
   },
   {
    "duration": 13,
    "start_time": "2022-12-23T18:44:23.555Z"
   },
   {
    "duration": 25,
    "start_time": "2022-12-23T18:44:40.334Z"
   },
   {
    "duration": 3919,
    "start_time": "2022-12-23T18:44:52.642Z"
   },
   {
    "duration": 57,
    "start_time": "2022-12-23T18:44:56.564Z"
   },
   {
    "duration": 26,
    "start_time": "2022-12-23T18:44:56.623Z"
   },
   {
    "duration": 23,
    "start_time": "2022-12-23T18:44:56.651Z"
   },
   {
    "duration": 7,
    "start_time": "2022-12-23T18:44:56.676Z"
   },
   {
    "duration": 6,
    "start_time": "2022-12-23T18:44:56.686Z"
   },
   {
    "duration": 35,
    "start_time": "2022-12-23T18:44:56.694Z"
   },
   {
    "duration": 21,
    "start_time": "2022-12-23T18:44:56.731Z"
   },
   {
    "duration": 6,
    "start_time": "2022-12-23T18:44:56.754Z"
   },
   {
    "duration": 7,
    "start_time": "2022-12-23T18:44:56.763Z"
   },
   {
    "duration": 31,
    "start_time": "2022-12-23T18:44:56.772Z"
   },
   {
    "duration": 50,
    "start_time": "2022-12-23T18:44:56.805Z"
   },
   {
    "duration": 29,
    "start_time": "2022-12-23T18:44:56.857Z"
   },
   {
    "duration": 4,
    "start_time": "2022-12-23T18:44:56.888Z"
   },
   {
    "duration": 38,
    "start_time": "2022-12-23T18:44:56.894Z"
   },
   {
    "duration": 39,
    "start_time": "2022-12-23T18:44:56.934Z"
   },
   {
    "duration": 25,
    "start_time": "2022-12-23T18:44:56.975Z"
   },
   {
    "duration": 32,
    "start_time": "2022-12-23T18:44:57.002Z"
   },
   {
    "duration": 285,
    "start_time": "2022-12-23T18:44:57.036Z"
   },
   {
    "duration": 9,
    "start_time": "2022-12-23T18:44:57.332Z"
   },
   {
    "duration": 1748,
    "start_time": "2022-12-23T18:44:57.344Z"
   },
   {
    "duration": 246,
    "start_time": "2022-12-23T18:44:59.094Z"
   },
   {
    "duration": 14,
    "start_time": "2022-12-23T18:44:59.345Z"
   },
   {
    "duration": 467,
    "start_time": "2022-12-23T18:44:59.364Z"
   },
   {
    "duration": 25,
    "start_time": "2022-12-23T18:44:59.837Z"
   },
   {
    "duration": 134,
    "start_time": "2022-12-23T18:44:59.868Z"
   },
   {
    "duration": 191,
    "start_time": "2022-12-23T18:45:00.005Z"
   },
   {
    "duration": 0,
    "start_time": "2022-12-23T18:45:00.199Z"
   },
   {
    "duration": 0,
    "start_time": "2022-12-23T18:45:00.200Z"
   },
   {
    "duration": 0,
    "start_time": "2022-12-23T18:45:00.203Z"
   },
   {
    "duration": 0,
    "start_time": "2022-12-23T18:45:00.204Z"
   },
   {
    "duration": 0,
    "start_time": "2022-12-23T18:45:00.207Z"
   },
   {
    "duration": 0,
    "start_time": "2022-12-23T18:45:00.208Z"
   },
   {
    "duration": 0,
    "start_time": "2022-12-23T18:45:00.209Z"
   },
   {
    "duration": 0,
    "start_time": "2022-12-23T18:45:00.211Z"
   },
   {
    "duration": 0,
    "start_time": "2022-12-23T18:45:00.226Z"
   },
   {
    "duration": 0,
    "start_time": "2022-12-23T18:45:00.227Z"
   },
   {
    "duration": 0,
    "start_time": "2022-12-23T18:45:00.228Z"
   },
   {
    "duration": 0,
    "start_time": "2022-12-23T18:45:00.229Z"
   },
   {
    "duration": 0,
    "start_time": "2022-12-23T18:45:00.230Z"
   },
   {
    "duration": 0,
    "start_time": "2022-12-23T18:45:00.242Z"
   },
   {
    "duration": 0,
    "start_time": "2022-12-23T18:45:00.244Z"
   },
   {
    "duration": 0,
    "start_time": "2022-12-23T18:45:00.245Z"
   },
   {
    "duration": 0,
    "start_time": "2022-12-23T18:45:00.246Z"
   },
   {
    "duration": 0,
    "start_time": "2022-12-23T18:45:00.251Z"
   },
   {
    "duration": 0,
    "start_time": "2022-12-23T18:45:00.255Z"
   },
   {
    "duration": 0,
    "start_time": "2022-12-23T18:45:00.256Z"
   },
   {
    "duration": 0,
    "start_time": "2022-12-23T18:45:00.258Z"
   },
   {
    "duration": 0,
    "start_time": "2022-12-23T18:45:00.260Z"
   },
   {
    "duration": 0,
    "start_time": "2022-12-23T18:45:00.262Z"
   },
   {
    "duration": 13,
    "start_time": "2022-12-23T18:45:54.005Z"
   },
   {
    "duration": 17,
    "start_time": "2022-12-23T18:46:02.017Z"
   },
   {
    "duration": 11,
    "start_time": "2022-12-23T18:46:27.944Z"
   },
   {
    "duration": 13,
    "start_time": "2022-12-23T18:46:32.334Z"
   },
   {
    "duration": 10,
    "start_time": "2022-12-23T18:47:04.153Z"
   },
   {
    "duration": 4296,
    "start_time": "2022-12-24T07:34:21.070Z"
   },
   {
    "duration": 91,
    "start_time": "2022-12-24T07:34:25.368Z"
   },
   {
    "duration": 19,
    "start_time": "2022-12-24T07:34:25.461Z"
   },
   {
    "duration": 14,
    "start_time": "2022-12-24T07:34:25.482Z"
   },
   {
    "duration": 5,
    "start_time": "2022-12-24T07:34:25.498Z"
   },
   {
    "duration": 11,
    "start_time": "2022-12-24T07:34:25.504Z"
   },
   {
    "duration": 10,
    "start_time": "2022-12-24T07:34:25.517Z"
   },
   {
    "duration": 14,
    "start_time": "2022-12-24T07:34:25.528Z"
   },
   {
    "duration": 4,
    "start_time": "2022-12-24T07:34:25.543Z"
   },
   {
    "duration": 9,
    "start_time": "2022-12-24T07:34:25.549Z"
   },
   {
    "duration": 33,
    "start_time": "2022-12-24T07:34:25.560Z"
   },
   {
    "duration": 31,
    "start_time": "2022-12-24T07:34:25.594Z"
   },
   {
    "duration": 27,
    "start_time": "2022-12-24T07:34:25.626Z"
   },
   {
    "duration": 3,
    "start_time": "2022-12-24T07:34:25.654Z"
   },
   {
    "duration": 13,
    "start_time": "2022-12-24T07:34:25.659Z"
   },
   {
    "duration": 23,
    "start_time": "2022-12-24T07:34:25.673Z"
   },
   {
    "duration": 39,
    "start_time": "2022-12-24T07:34:25.697Z"
   },
   {
    "duration": 31,
    "start_time": "2022-12-24T07:34:25.737Z"
   },
   {
    "duration": 196,
    "start_time": "2022-12-24T07:34:25.770Z"
   },
   {
    "duration": 4,
    "start_time": "2022-12-24T07:34:25.968Z"
   },
   {
    "duration": 1552,
    "start_time": "2022-12-24T07:34:25.974Z"
   },
   {
    "duration": 296,
    "start_time": "2022-12-24T07:34:27.527Z"
   },
   {
    "duration": 95,
    "start_time": "2022-12-24T07:34:27.830Z"
   },
   {
    "duration": 294,
    "start_time": "2022-12-24T07:34:27.927Z"
   },
   {
    "duration": 8,
    "start_time": "2022-12-24T07:34:28.223Z"
   },
   {
    "duration": 127,
    "start_time": "2022-12-24T07:34:28.233Z"
   },
   {
    "duration": 108,
    "start_time": "2022-12-24T07:34:28.361Z"
   },
   {
    "duration": 0,
    "start_time": "2022-12-24T07:34:28.471Z"
   },
   {
    "duration": 0,
    "start_time": "2022-12-24T07:34:28.472Z"
   },
   {
    "duration": 0,
    "start_time": "2022-12-24T07:34:28.474Z"
   },
   {
    "duration": 0,
    "start_time": "2022-12-24T07:34:28.474Z"
   },
   {
    "duration": 1,
    "start_time": "2022-12-24T07:34:28.477Z"
   },
   {
    "duration": 0,
    "start_time": "2022-12-24T07:34:28.479Z"
   },
   {
    "duration": 0,
    "start_time": "2022-12-24T07:34:28.480Z"
   },
   {
    "duration": 0,
    "start_time": "2022-12-24T07:34:28.482Z"
   },
   {
    "duration": 0,
    "start_time": "2022-12-24T07:34:28.483Z"
   },
   {
    "duration": 0,
    "start_time": "2022-12-24T07:34:28.484Z"
   },
   {
    "duration": 0,
    "start_time": "2022-12-24T07:34:28.485Z"
   },
   {
    "duration": 0,
    "start_time": "2022-12-24T07:34:28.486Z"
   },
   {
    "duration": 0,
    "start_time": "2022-12-24T07:34:28.487Z"
   },
   {
    "duration": 0,
    "start_time": "2022-12-24T07:34:28.488Z"
   },
   {
    "duration": 0,
    "start_time": "2022-12-24T07:34:28.489Z"
   },
   {
    "duration": 0,
    "start_time": "2022-12-24T07:34:28.520Z"
   },
   {
    "duration": 0,
    "start_time": "2022-12-24T07:34:28.522Z"
   },
   {
    "duration": 0,
    "start_time": "2022-12-24T07:34:28.523Z"
   },
   {
    "duration": 0,
    "start_time": "2022-12-24T07:34:28.524Z"
   },
   {
    "duration": 0,
    "start_time": "2022-12-24T07:34:28.525Z"
   },
   {
    "duration": 0,
    "start_time": "2022-12-24T07:34:28.526Z"
   },
   {
    "duration": 0,
    "start_time": "2022-12-24T07:34:28.527Z"
   },
   {
    "duration": 0,
    "start_time": "2022-12-24T07:34:28.528Z"
   },
   {
    "duration": 10,
    "start_time": "2022-12-24T07:35:25.116Z"
   },
   {
    "duration": 11,
    "start_time": "2022-12-24T07:35:57.427Z"
   },
   {
    "duration": 18,
    "start_time": "2022-12-24T07:36:28.968Z"
   },
   {
    "duration": 4343,
    "start_time": "2022-12-24T07:36:36.655Z"
   },
   {
    "duration": 61,
    "start_time": "2022-12-24T07:36:41.000Z"
   },
   {
    "duration": 20,
    "start_time": "2022-12-24T07:36:41.062Z"
   },
   {
    "duration": 15,
    "start_time": "2022-12-24T07:36:41.084Z"
   },
   {
    "duration": 20,
    "start_time": "2022-12-24T07:36:41.101Z"
   },
   {
    "duration": 3,
    "start_time": "2022-12-24T07:36:41.122Z"
   },
   {
    "duration": 5,
    "start_time": "2022-12-24T07:36:41.126Z"
   },
   {
    "duration": 15,
    "start_time": "2022-12-24T07:36:41.133Z"
   },
   {
    "duration": 4,
    "start_time": "2022-12-24T07:36:41.149Z"
   },
   {
    "duration": 8,
    "start_time": "2022-12-24T07:36:41.155Z"
   },
   {
    "duration": 28,
    "start_time": "2022-12-24T07:36:41.164Z"
   },
   {
    "duration": 43,
    "start_time": "2022-12-24T07:36:41.194Z"
   },
   {
    "duration": 31,
    "start_time": "2022-12-24T07:36:41.238Z"
   },
   {
    "duration": 4,
    "start_time": "2022-12-24T07:36:41.270Z"
   },
   {
    "duration": 9,
    "start_time": "2022-12-24T07:36:41.275Z"
   },
   {
    "duration": 57,
    "start_time": "2022-12-24T07:36:41.285Z"
   },
   {
    "duration": 17,
    "start_time": "2022-12-24T07:36:41.343Z"
   },
   {
    "duration": 18,
    "start_time": "2022-12-24T07:36:41.362Z"
   },
   {
    "duration": 228,
    "start_time": "2022-12-24T07:36:41.382Z"
   },
   {
    "duration": 9,
    "start_time": "2022-12-24T07:36:41.612Z"
   },
   {
    "duration": 1668,
    "start_time": "2022-12-24T07:36:41.622Z"
   },
   {
    "duration": 235,
    "start_time": "2022-12-24T07:36:43.292Z"
   },
   {
    "duration": 9,
    "start_time": "2022-12-24T07:36:43.530Z"
   },
   {
    "duration": 382,
    "start_time": "2022-12-24T07:36:43.541Z"
   },
   {
    "duration": 94,
    "start_time": "2022-12-24T07:36:43.928Z"
   },
   {
    "duration": 39,
    "start_time": "2022-12-24T07:36:44.030Z"
   },
   {
    "duration": 18,
    "start_time": "2022-12-24T07:36:44.070Z"
   },
   {
    "duration": 616,
    "start_time": "2022-12-24T07:36:44.092Z"
   },
   {
    "duration": 62,
    "start_time": "2022-12-24T07:36:44.709Z"
   },
   {
    "duration": 56,
    "start_time": "2022-12-24T07:36:44.773Z"
   },
   {
    "duration": 10,
    "start_time": "2022-12-24T07:36:44.831Z"
   },
   {
    "duration": 111,
    "start_time": "2022-12-24T07:36:44.922Z"
   },
   {
    "duration": 324,
    "start_time": "2022-12-24T07:36:45.036Z"
   },
   {
    "duration": 140,
    "start_time": "2022-12-24T07:36:45.361Z"
   },
   {
    "duration": 6,
    "start_time": "2022-12-24T07:36:45.502Z"
   },
   {
    "duration": 135,
    "start_time": "2022-12-24T07:36:45.510Z"
   },
   {
    "duration": 231,
    "start_time": "2022-12-24T07:36:45.647Z"
   },
   {
    "duration": 403,
    "start_time": "2022-12-24T07:36:45.922Z"
   },
   {
    "duration": 134,
    "start_time": "2022-12-24T07:36:46.327Z"
   },
   {
    "duration": 297,
    "start_time": "2022-12-24T07:36:46.463Z"
   },
   {
    "duration": 65,
    "start_time": "2022-12-24T07:36:46.762Z"
   },
   {
    "duration": 6,
    "start_time": "2022-12-24T07:36:46.829Z"
   },
   {
    "duration": 105,
    "start_time": "2022-12-24T07:36:46.837Z"
   },
   {
    "duration": 7,
    "start_time": "2022-12-24T07:36:46.944Z"
   },
   {
    "duration": 2465,
    "start_time": "2022-12-24T07:36:46.953Z"
   },
   {
    "duration": 129,
    "start_time": "2022-12-24T07:36:49.419Z"
   },
   {
    "duration": 6,
    "start_time": "2022-12-24T07:36:49.549Z"
   },
   {
    "duration": 21,
    "start_time": "2022-12-24T07:36:49.557Z"
   },
   {
    "duration": 24,
    "start_time": "2022-12-24T07:36:49.580Z"
   },
   {
    "duration": 328,
    "start_time": "2022-12-24T07:36:49.606Z"
   },
   {
    "duration": 58,
    "start_time": "2022-12-24T07:37:37.584Z"
   },
   {
    "duration": 63,
    "start_time": "2022-12-24T07:37:56.938Z"
   },
   {
    "duration": 184,
    "start_time": "2022-12-24T07:38:04.435Z"
   },
   {
    "duration": 83,
    "start_time": "2022-12-24T07:39:21.883Z"
   },
   {
    "duration": 64,
    "start_time": "2022-12-24T07:39:36.654Z"
   },
   {
    "duration": 63,
    "start_time": "2022-12-24T07:39:44.546Z"
   },
   {
    "duration": 73,
    "start_time": "2022-12-24T07:39:53.874Z"
   },
   {
    "duration": 67,
    "start_time": "2022-12-24T07:40:04.874Z"
   },
   {
    "duration": 62,
    "start_time": "2022-12-24T07:40:14.652Z"
   },
   {
    "duration": 14,
    "start_time": "2022-12-24T07:42:15.873Z"
   },
   {
    "duration": 29,
    "start_time": "2022-12-24T07:42:23.315Z"
   },
   {
    "duration": 21,
    "start_time": "2022-12-24T07:43:46.426Z"
   },
   {
    "duration": 13,
    "start_time": "2022-12-24T07:43:53.025Z"
   },
   {
    "duration": 14,
    "start_time": "2022-12-24T07:46:09.375Z"
   },
   {
    "duration": 3579,
    "start_time": "2022-12-24T07:46:32.242Z"
   },
   {
    "duration": 60,
    "start_time": "2022-12-24T07:46:35.826Z"
   },
   {
    "duration": 17,
    "start_time": "2022-12-24T07:46:35.888Z"
   },
   {
    "duration": 20,
    "start_time": "2022-12-24T07:46:35.907Z"
   },
   {
    "duration": 6,
    "start_time": "2022-12-24T07:46:35.936Z"
   },
   {
    "duration": 4,
    "start_time": "2022-12-24T07:46:35.944Z"
   },
   {
    "duration": 8,
    "start_time": "2022-12-24T07:46:35.950Z"
   },
   {
    "duration": 13,
    "start_time": "2022-12-24T07:46:35.959Z"
   },
   {
    "duration": 7,
    "start_time": "2022-12-24T07:46:35.973Z"
   },
   {
    "duration": 8,
    "start_time": "2022-12-24T07:46:35.982Z"
   },
   {
    "duration": 57,
    "start_time": "2022-12-24T07:46:35.991Z"
   },
   {
    "duration": 20,
    "start_time": "2022-12-24T07:46:36.050Z"
   },
   {
    "duration": 27,
    "start_time": "2022-12-24T07:46:36.072Z"
   },
   {
    "duration": 23,
    "start_time": "2022-12-24T07:46:36.101Z"
   },
   {
    "duration": 48,
    "start_time": "2022-12-24T07:46:36.126Z"
   },
   {
    "duration": 24,
    "start_time": "2022-12-24T07:46:36.176Z"
   },
   {
    "duration": 17,
    "start_time": "2022-12-24T07:46:36.201Z"
   },
   {
    "duration": 24,
    "start_time": "2022-12-24T07:46:36.220Z"
   },
   {
    "duration": 214,
    "start_time": "2022-12-24T07:46:36.246Z"
   },
   {
    "duration": 4,
    "start_time": "2022-12-24T07:46:36.461Z"
   },
   {
    "duration": 1772,
    "start_time": "2022-12-24T07:46:36.467Z"
   },
   {
    "duration": 290,
    "start_time": "2022-12-24T07:46:38.242Z"
   },
   {
    "duration": 13,
    "start_time": "2022-12-24T07:46:38.535Z"
   },
   {
    "duration": 312,
    "start_time": "2022-12-24T07:46:38.621Z"
   },
   {
    "duration": 95,
    "start_time": "2022-12-24T07:46:38.935Z"
   },
   {
    "duration": 45,
    "start_time": "2022-12-24T07:46:39.033Z"
   },
   {
    "duration": 173,
    "start_time": "2022-12-24T07:46:39.079Z"
   },
   {
    "duration": 0,
    "start_time": "2022-12-24T07:46:39.254Z"
   },
   {
    "duration": 0,
    "start_time": "2022-12-24T07:46:39.255Z"
   },
   {
    "duration": 0,
    "start_time": "2022-12-24T07:46:39.257Z"
   },
   {
    "duration": 0,
    "start_time": "2022-12-24T07:46:39.258Z"
   },
   {
    "duration": 0,
    "start_time": "2022-12-24T07:46:39.259Z"
   },
   {
    "duration": 0,
    "start_time": "2022-12-24T07:46:39.260Z"
   },
   {
    "duration": 0,
    "start_time": "2022-12-24T07:46:39.261Z"
   },
   {
    "duration": 0,
    "start_time": "2022-12-24T07:46:39.262Z"
   },
   {
    "duration": 0,
    "start_time": "2022-12-24T07:46:39.263Z"
   },
   {
    "duration": 0,
    "start_time": "2022-12-24T07:46:39.264Z"
   },
   {
    "duration": 0,
    "start_time": "2022-12-24T07:46:39.265Z"
   },
   {
    "duration": 0,
    "start_time": "2022-12-24T07:46:39.266Z"
   },
   {
    "duration": 0,
    "start_time": "2022-12-24T07:46:39.268Z"
   },
   {
    "duration": 0,
    "start_time": "2022-12-24T07:46:39.269Z"
   },
   {
    "duration": 0,
    "start_time": "2022-12-24T07:46:39.270Z"
   },
   {
    "duration": 0,
    "start_time": "2022-12-24T07:46:39.272Z"
   },
   {
    "duration": 0,
    "start_time": "2022-12-24T07:46:39.273Z"
   },
   {
    "duration": 0,
    "start_time": "2022-12-24T07:46:39.274Z"
   },
   {
    "duration": 0,
    "start_time": "2022-12-24T07:46:39.276Z"
   },
   {
    "duration": 0,
    "start_time": "2022-12-24T07:46:39.277Z"
   },
   {
    "duration": 0,
    "start_time": "2022-12-24T07:46:39.278Z"
   },
   {
    "duration": 0,
    "start_time": "2022-12-24T07:46:39.280Z"
   },
   {
    "duration": 0,
    "start_time": "2022-12-24T07:46:39.321Z"
   },
   {
    "duration": 12,
    "start_time": "2022-12-24T07:48:46.149Z"
   },
   {
    "duration": 16,
    "start_time": "2022-12-24T07:48:59.381Z"
   },
   {
    "duration": 3193,
    "start_time": "2022-12-24T07:49:06.760Z"
   },
   {
    "duration": 54,
    "start_time": "2022-12-24T07:49:09.955Z"
   },
   {
    "duration": 21,
    "start_time": "2022-12-24T07:49:10.011Z"
   },
   {
    "duration": 17,
    "start_time": "2022-12-24T07:49:10.034Z"
   },
   {
    "duration": 6,
    "start_time": "2022-12-24T07:49:10.053Z"
   },
   {
    "duration": 6,
    "start_time": "2022-12-24T07:49:10.060Z"
   },
   {
    "duration": 8,
    "start_time": "2022-12-24T07:49:10.068Z"
   },
   {
    "duration": 21,
    "start_time": "2022-12-24T07:49:10.077Z"
   },
   {
    "duration": 7,
    "start_time": "2022-12-24T07:49:10.100Z"
   },
   {
    "duration": 3,
    "start_time": "2022-12-24T07:49:10.123Z"
   },
   {
    "duration": 33,
    "start_time": "2022-12-24T07:49:10.128Z"
   },
   {
    "duration": 27,
    "start_time": "2022-12-24T07:49:10.163Z"
   },
   {
    "duration": 50,
    "start_time": "2022-12-24T07:49:10.192Z"
   },
   {
    "duration": 4,
    "start_time": "2022-12-24T07:49:10.244Z"
   },
   {
    "duration": 24,
    "start_time": "2022-12-24T07:49:10.249Z"
   },
   {
    "duration": 24,
    "start_time": "2022-12-24T07:49:10.275Z"
   },
   {
    "duration": 32,
    "start_time": "2022-12-24T07:49:10.300Z"
   },
   {
    "duration": 18,
    "start_time": "2022-12-24T07:49:10.334Z"
   },
   {
    "duration": 212,
    "start_time": "2022-12-24T07:49:10.354Z"
   },
   {
    "duration": 3,
    "start_time": "2022-12-24T07:49:10.568Z"
   },
   {
    "duration": 1604,
    "start_time": "2022-12-24T07:49:10.573Z"
   },
   {
    "duration": 247,
    "start_time": "2022-12-24T07:49:12.179Z"
   },
   {
    "duration": 97,
    "start_time": "2022-12-24T07:49:12.428Z"
   },
   {
    "duration": 303,
    "start_time": "2022-12-24T07:49:12.526Z"
   },
   {
    "duration": 94,
    "start_time": "2022-12-24T07:49:12.831Z"
   },
   {
    "duration": 35,
    "start_time": "2022-12-24T07:49:12.927Z"
   },
   {
    "duration": 66,
    "start_time": "2022-12-24T07:49:12.964Z"
   },
   {
    "duration": 866,
    "start_time": "2022-12-24T07:49:13.033Z"
   },
   {
    "duration": 71,
    "start_time": "2022-12-24T07:49:13.901Z"
   },
   {
    "duration": 57,
    "start_time": "2022-12-24T07:49:13.974Z"
   },
   {
    "duration": 10,
    "start_time": "2022-12-24T07:49:14.121Z"
   },
   {
    "duration": 189,
    "start_time": "2022-12-24T07:49:14.133Z"
   },
   {
    "duration": 308,
    "start_time": "2022-12-24T07:49:14.324Z"
   },
   {
    "duration": 155,
    "start_time": "2022-12-24T07:49:14.633Z"
   },
   {
    "duration": 5,
    "start_time": "2022-12-24T07:49:14.789Z"
   },
   {
    "duration": 128,
    "start_time": "2022-12-24T07:49:14.796Z"
   },
   {
    "duration": 237,
    "start_time": "2022-12-24T07:49:14.925Z"
   },
   {
    "duration": 459,
    "start_time": "2022-12-24T07:49:15.164Z"
   },
   {
    "duration": 227,
    "start_time": "2022-12-24T07:49:15.625Z"
   },
   {
    "duration": 248,
    "start_time": "2022-12-24T07:49:15.853Z"
   },
   {
    "duration": 39,
    "start_time": "2022-12-24T07:49:16.103Z"
   },
   {
    "duration": 88,
    "start_time": "2022-12-24T07:49:16.144Z"
   },
   {
    "duration": 87,
    "start_time": "2022-12-24T07:49:16.235Z"
   },
   {
    "duration": 15,
    "start_time": "2022-12-24T07:49:16.327Z"
   },
   {
    "duration": 2232,
    "start_time": "2022-12-24T07:49:16.343Z"
   },
   {
    "duration": 246,
    "start_time": "2022-12-24T07:49:18.577Z"
   },
   {
    "duration": 9,
    "start_time": "2022-12-24T07:49:18.825Z"
   },
   {
    "duration": 23,
    "start_time": "2022-12-24T07:49:18.835Z"
   },
   {
    "duration": 70,
    "start_time": "2022-12-24T07:49:18.859Z"
   },
   {
    "duration": 413,
    "start_time": "2022-12-24T07:49:18.932Z"
   },
   {
    "duration": 678,
    "start_time": "2022-12-24T07:49:36.333Z"
   },
   {
    "duration": 4129,
    "start_time": "2022-12-24T07:49:45.734Z"
   },
   {
    "duration": 83,
    "start_time": "2022-12-24T07:49:49.865Z"
   },
   {
    "duration": 76,
    "start_time": "2022-12-24T07:49:49.949Z"
   },
   {
    "duration": 23,
    "start_time": "2022-12-24T07:49:50.027Z"
   },
   {
    "duration": 14,
    "start_time": "2022-12-24T07:49:50.053Z"
   },
   {
    "duration": 53,
    "start_time": "2022-12-24T07:49:50.069Z"
   },
   {
    "duration": 8,
    "start_time": "2022-12-24T07:49:50.124Z"
   },
   {
    "duration": 16,
    "start_time": "2022-12-24T07:49:50.134Z"
   },
   {
    "duration": 5,
    "start_time": "2022-12-24T07:49:50.152Z"
   },
   {
    "duration": 9,
    "start_time": "2022-12-24T07:49:50.159Z"
   },
   {
    "duration": 82,
    "start_time": "2022-12-24T07:49:50.170Z"
   },
   {
    "duration": 76,
    "start_time": "2022-12-24T07:49:50.253Z"
   },
   {
    "duration": 98,
    "start_time": "2022-12-24T07:49:50.331Z"
   },
   {
    "duration": 5,
    "start_time": "2022-12-24T07:49:50.433Z"
   },
   {
    "duration": 18,
    "start_time": "2022-12-24T07:49:50.440Z"
   },
   {
    "duration": 74,
    "start_time": "2022-12-24T07:49:50.459Z"
   },
   {
    "duration": 25,
    "start_time": "2022-12-24T07:49:50.535Z"
   },
   {
    "duration": 84,
    "start_time": "2022-12-24T07:49:50.562Z"
   },
   {
    "duration": 406,
    "start_time": "2022-12-24T07:49:50.648Z"
   },
   {
    "duration": 4,
    "start_time": "2022-12-24T07:49:51.055Z"
   },
   {
    "duration": 1916,
    "start_time": "2022-12-24T07:49:51.060Z"
   },
   {
    "duration": 249,
    "start_time": "2022-12-24T07:49:52.977Z"
   },
   {
    "duration": 92,
    "start_time": "2022-12-24T07:49:53.228Z"
   },
   {
    "duration": 308,
    "start_time": "2022-12-24T07:49:53.323Z"
   },
   {
    "duration": 6,
    "start_time": "2022-12-24T07:49:53.720Z"
   },
   {
    "duration": 36,
    "start_time": "2022-12-24T07:49:53.727Z"
   },
   {
    "duration": 67,
    "start_time": "2022-12-24T07:49:53.765Z"
   },
   {
    "duration": 668,
    "start_time": "2022-12-24T07:49:53.834Z"
   },
   {
    "duration": 0,
    "start_time": "2022-12-24T07:49:54.504Z"
   },
   {
    "duration": 0,
    "start_time": "2022-12-24T07:49:54.505Z"
   },
   {
    "duration": 0,
    "start_time": "2022-12-24T07:49:54.506Z"
   },
   {
    "duration": 0,
    "start_time": "2022-12-24T07:49:54.508Z"
   },
   {
    "duration": 0,
    "start_time": "2022-12-24T07:49:54.521Z"
   },
   {
    "duration": 0,
    "start_time": "2022-12-24T07:49:54.523Z"
   },
   {
    "duration": 0,
    "start_time": "2022-12-24T07:49:54.524Z"
   },
   {
    "duration": 0,
    "start_time": "2022-12-24T07:49:54.525Z"
   },
   {
    "duration": 0,
    "start_time": "2022-12-24T07:49:54.527Z"
   },
   {
    "duration": 0,
    "start_time": "2022-12-24T07:49:54.528Z"
   },
   {
    "duration": 0,
    "start_time": "2022-12-24T07:49:54.530Z"
   },
   {
    "duration": 0,
    "start_time": "2022-12-24T07:49:54.531Z"
   },
   {
    "duration": 0,
    "start_time": "2022-12-24T07:49:54.532Z"
   },
   {
    "duration": 0,
    "start_time": "2022-12-24T07:49:54.534Z"
   },
   {
    "duration": 0,
    "start_time": "2022-12-24T07:49:54.535Z"
   },
   {
    "duration": 0,
    "start_time": "2022-12-24T07:49:54.537Z"
   },
   {
    "duration": 0,
    "start_time": "2022-12-24T07:49:54.538Z"
   },
   {
    "duration": 0,
    "start_time": "2022-12-24T07:49:54.540Z"
   },
   {
    "duration": 0,
    "start_time": "2022-12-24T07:49:54.541Z"
   },
   {
    "duration": 0,
    "start_time": "2022-12-24T07:49:54.542Z"
   },
   {
    "duration": 0,
    "start_time": "2022-12-24T07:49:54.543Z"
   },
   {
    "duration": 0,
    "start_time": "2022-12-24T07:49:54.545Z"
   },
   {
    "duration": 74,
    "start_time": "2022-12-24T07:50:02.448Z"
   },
   {
    "duration": 641,
    "start_time": "2022-12-24T07:50:04.799Z"
   },
   {
    "duration": 13,
    "start_time": "2022-12-24T07:51:22.895Z"
   },
   {
    "duration": 563,
    "start_time": "2022-12-24T07:51:39.895Z"
   },
   {
    "duration": 562,
    "start_time": "2022-12-24T07:51:59.962Z"
   },
   {
    "duration": 68,
    "start_time": "2022-12-24T07:52:06.583Z"
   },
   {
    "duration": 59,
    "start_time": "2022-12-24T07:52:33.087Z"
   },
   {
    "duration": 46,
    "start_time": "2022-12-24T07:53:03.438Z"
   },
   {
    "duration": 57,
    "start_time": "2022-12-24T07:53:06.835Z"
   },
   {
    "duration": 54,
    "start_time": "2022-12-24T07:53:33.529Z"
   },
   {
    "duration": 60,
    "start_time": "2022-12-24T07:53:42.027Z"
   },
   {
    "duration": 20,
    "start_time": "2022-12-24T07:54:34.125Z"
   },
   {
    "duration": 13,
    "start_time": "2022-12-24T07:54:40.927Z"
   },
   {
    "duration": 56,
    "start_time": "2022-12-24T07:55:20.597Z"
   },
   {
    "duration": 9,
    "start_time": "2022-12-24T07:56:19.664Z"
   },
   {
    "duration": 9,
    "start_time": "2022-12-24T07:56:39.452Z"
   },
   {
    "duration": 66,
    "start_time": "2022-12-24T07:56:46.961Z"
   },
   {
    "duration": 18,
    "start_time": "2022-12-24T07:56:50.326Z"
   },
   {
    "duration": 19,
    "start_time": "2022-12-24T07:57:01.326Z"
   },
   {
    "duration": 70,
    "start_time": "2022-12-24T07:57:14.852Z"
   },
   {
    "duration": 9,
    "start_time": "2022-12-24T07:57:17.969Z"
   },
   {
    "duration": 20,
    "start_time": "2022-12-24T07:57:25.338Z"
   },
   {
    "duration": 3396,
    "start_time": "2022-12-24T07:57:45.418Z"
   },
   {
    "duration": 52,
    "start_time": "2022-12-24T07:57:48.816Z"
   },
   {
    "duration": 19,
    "start_time": "2022-12-24T07:57:48.870Z"
   },
   {
    "duration": 15,
    "start_time": "2022-12-24T07:57:48.891Z"
   },
   {
    "duration": 5,
    "start_time": "2022-12-24T07:57:48.908Z"
   },
   {
    "duration": 3,
    "start_time": "2022-12-24T07:57:48.921Z"
   },
   {
    "duration": 21,
    "start_time": "2022-12-24T07:57:48.926Z"
   },
   {
    "duration": 18,
    "start_time": "2022-12-24T07:57:48.949Z"
   },
   {
    "duration": 9,
    "start_time": "2022-12-24T07:57:48.968Z"
   },
   {
    "duration": 18,
    "start_time": "2022-12-24T07:57:48.978Z"
   },
   {
    "duration": 35,
    "start_time": "2022-12-24T07:57:48.998Z"
   },
   {
    "duration": 21,
    "start_time": "2022-12-24T07:57:49.035Z"
   },
   {
    "duration": 28,
    "start_time": "2022-12-24T07:57:49.058Z"
   },
   {
    "duration": 3,
    "start_time": "2022-12-24T07:57:49.088Z"
   },
   {
    "duration": 29,
    "start_time": "2022-12-24T07:57:49.093Z"
   },
   {
    "duration": 35,
    "start_time": "2022-12-24T07:57:49.124Z"
   },
   {
    "duration": 18,
    "start_time": "2022-12-24T07:57:49.161Z"
   },
   {
    "duration": 48,
    "start_time": "2022-12-24T07:57:49.181Z"
   },
   {
    "duration": 223,
    "start_time": "2022-12-24T07:57:49.231Z"
   },
   {
    "duration": 3,
    "start_time": "2022-12-24T07:57:49.456Z"
   },
   {
    "duration": 1629,
    "start_time": "2022-12-24T07:57:49.461Z"
   },
   {
    "duration": 230,
    "start_time": "2022-12-24T07:57:51.092Z"
   },
   {
    "duration": 12,
    "start_time": "2022-12-24T07:57:51.324Z"
   },
   {
    "duration": 382,
    "start_time": "2022-12-24T07:57:51.339Z"
   },
   {
    "duration": 8,
    "start_time": "2022-12-24T07:57:51.723Z"
   },
   {
    "duration": 141,
    "start_time": "2022-12-24T07:57:51.733Z"
   },
   {
    "duration": 13,
    "start_time": "2022-12-24T07:57:51.875Z"
   },
   {
    "duration": 593,
    "start_time": "2022-12-24T07:57:51.889Z"
   },
   {
    "duration": 63,
    "start_time": "2022-12-24T07:57:52.483Z"
   },
   {
    "duration": 20,
    "start_time": "2022-12-24T07:57:52.548Z"
   },
   {
    "duration": 208,
    "start_time": "2022-12-24T07:57:52.622Z"
   },
   {
    "duration": 403,
    "start_time": "2022-12-24T07:57:52.832Z"
   },
   {
    "duration": 117,
    "start_time": "2022-12-24T07:57:53.237Z"
   },
   {
    "duration": 5,
    "start_time": "2022-12-24T07:57:53.355Z"
   },
   {
    "duration": 124,
    "start_time": "2022-12-24T07:57:53.362Z"
   },
   {
    "duration": 241,
    "start_time": "2022-12-24T07:57:53.488Z"
   },
   {
    "duration": 390,
    "start_time": "2022-12-24T07:57:53.732Z"
   },
   {
    "duration": 315,
    "start_time": "2022-12-24T07:57:54.124Z"
   },
   {
    "duration": 0,
    "start_time": "2022-12-24T07:57:54.441Z"
   },
   {
    "duration": 0,
    "start_time": "2022-12-24T07:57:54.442Z"
   },
   {
    "duration": 0,
    "start_time": "2022-12-24T07:57:54.443Z"
   },
   {
    "duration": 0,
    "start_time": "2022-12-24T07:57:54.445Z"
   },
   {
    "duration": 0,
    "start_time": "2022-12-24T07:57:54.445Z"
   },
   {
    "duration": 0,
    "start_time": "2022-12-24T07:57:54.446Z"
   },
   {
    "duration": 0,
    "start_time": "2022-12-24T07:57:54.448Z"
   },
   {
    "duration": 0,
    "start_time": "2022-12-24T07:57:54.448Z"
   },
   {
    "duration": 0,
    "start_time": "2022-12-24T07:57:54.450Z"
   },
   {
    "duration": 0,
    "start_time": "2022-12-24T07:57:54.451Z"
   },
   {
    "duration": 0,
    "start_time": "2022-12-24T07:57:54.452Z"
   },
   {
    "duration": 329,
    "start_time": "2022-12-24T07:59:47.911Z"
   },
   {
    "duration": 311,
    "start_time": "2022-12-24T08:02:36.911Z"
   },
   {
    "duration": 211,
    "start_time": "2022-12-24T08:02:46.833Z"
   },
   {
    "duration": 215,
    "start_time": "2022-12-24T08:04:10.443Z"
   },
   {
    "duration": 233,
    "start_time": "2022-12-24T08:07:11.537Z"
   },
   {
    "duration": 251,
    "start_time": "2022-12-24T08:07:25.200Z"
   },
   {
    "duration": 258,
    "start_time": "2022-12-24T08:07:40.770Z"
   },
   {
    "duration": 312,
    "start_time": "2022-12-24T08:13:22.093Z"
   },
   {
    "duration": 26,
    "start_time": "2022-12-24T08:16:25.175Z"
   },
   {
    "duration": 3417,
    "start_time": "2022-12-24T08:16:38.518Z"
   },
   {
    "duration": 52,
    "start_time": "2022-12-24T08:16:41.939Z"
   },
   {
    "duration": 17,
    "start_time": "2022-12-24T08:16:41.992Z"
   },
   {
    "duration": 17,
    "start_time": "2022-12-24T08:16:42.011Z"
   },
   {
    "duration": 12,
    "start_time": "2022-12-24T08:16:42.030Z"
   },
   {
    "duration": 14,
    "start_time": "2022-12-24T08:16:42.044Z"
   },
   {
    "duration": 6,
    "start_time": "2022-12-24T08:16:42.059Z"
   },
   {
    "duration": 24,
    "start_time": "2022-12-24T08:16:42.067Z"
   },
   {
    "duration": 11,
    "start_time": "2022-12-24T08:16:42.093Z"
   },
   {
    "duration": 10,
    "start_time": "2022-12-24T08:16:42.106Z"
   },
   {
    "duration": 45,
    "start_time": "2022-12-24T08:16:42.118Z"
   },
   {
    "duration": 20,
    "start_time": "2022-12-24T08:16:42.164Z"
   },
   {
    "duration": 33,
    "start_time": "2022-12-24T08:16:42.185Z"
   },
   {
    "duration": 5,
    "start_time": "2022-12-24T08:16:42.221Z"
   },
   {
    "duration": 22,
    "start_time": "2022-12-24T08:16:42.228Z"
   },
   {
    "duration": 20,
    "start_time": "2022-12-24T08:16:42.252Z"
   },
   {
    "duration": 19,
    "start_time": "2022-12-24T08:16:42.273Z"
   },
   {
    "duration": 32,
    "start_time": "2022-12-24T08:16:42.293Z"
   },
   {
    "duration": 211,
    "start_time": "2022-12-24T08:16:42.327Z"
   },
   {
    "duration": 3,
    "start_time": "2022-12-24T08:16:42.540Z"
   },
   {
    "duration": 1659,
    "start_time": "2022-12-24T08:16:42.544Z"
   },
   {
    "duration": 244,
    "start_time": "2022-12-24T08:16:44.205Z"
   },
   {
    "duration": 75,
    "start_time": "2022-12-24T08:16:44.452Z"
   },
   {
    "duration": 392,
    "start_time": "2022-12-24T08:16:44.529Z"
   },
   {
    "duration": 10,
    "start_time": "2022-12-24T08:16:44.924Z"
   },
   {
    "duration": 156,
    "start_time": "2022-12-24T08:16:44.936Z"
   },
   {
    "duration": 123,
    "start_time": "2022-12-24T08:16:45.094Z"
   },
   {
    "duration": 0,
    "start_time": "2022-12-24T08:16:45.221Z"
   },
   {
    "duration": 0,
    "start_time": "2022-12-24T08:16:45.223Z"
   },
   {
    "duration": 0,
    "start_time": "2022-12-24T08:16:45.225Z"
   },
   {
    "duration": 0,
    "start_time": "2022-12-24T08:16:45.227Z"
   },
   {
    "duration": 0,
    "start_time": "2022-12-24T08:16:45.229Z"
   },
   {
    "duration": 0,
    "start_time": "2022-12-24T08:16:45.230Z"
   },
   {
    "duration": 0,
    "start_time": "2022-12-24T08:16:45.239Z"
   },
   {
    "duration": 0,
    "start_time": "2022-12-24T08:16:45.242Z"
   },
   {
    "duration": 0,
    "start_time": "2022-12-24T08:16:45.243Z"
   },
   {
    "duration": 0,
    "start_time": "2022-12-24T08:16:45.244Z"
   },
   {
    "duration": 0,
    "start_time": "2022-12-24T08:16:45.246Z"
   },
   {
    "duration": 0,
    "start_time": "2022-12-24T08:16:45.247Z"
   },
   {
    "duration": 0,
    "start_time": "2022-12-24T08:16:45.249Z"
   },
   {
    "duration": 0,
    "start_time": "2022-12-24T08:16:45.251Z"
   },
   {
    "duration": 0,
    "start_time": "2022-12-24T08:16:45.252Z"
   },
   {
    "duration": 0,
    "start_time": "2022-12-24T08:16:45.254Z"
   },
   {
    "duration": 0,
    "start_time": "2022-12-24T08:16:45.255Z"
   },
   {
    "duration": 0,
    "start_time": "2022-12-24T08:16:45.257Z"
   },
   {
    "duration": 0,
    "start_time": "2022-12-24T08:16:45.258Z"
   },
   {
    "duration": 0,
    "start_time": "2022-12-24T08:16:45.260Z"
   },
   {
    "duration": 0,
    "start_time": "2022-12-24T08:16:45.262Z"
   },
   {
    "duration": 0,
    "start_time": "2022-12-24T08:16:45.263Z"
   },
   {
    "duration": 0,
    "start_time": "2022-12-24T08:16:45.264Z"
   },
   {
    "duration": 0,
    "start_time": "2022-12-24T08:16:45.265Z"
   },
   {
    "duration": 3,
    "start_time": "2022-12-24T08:17:20.787Z"
   },
   {
    "duration": 14,
    "start_time": "2022-12-24T08:17:24.486Z"
   },
   {
    "duration": 15,
    "start_time": "2022-12-24T08:17:42.185Z"
   },
   {
    "duration": 15,
    "start_time": "2022-12-24T08:17:49.699Z"
   },
   {
    "duration": 13,
    "start_time": "2022-12-24T08:18:43.520Z"
   },
   {
    "duration": 3334,
    "start_time": "2022-12-24T08:18:58.707Z"
   },
   {
    "duration": 56,
    "start_time": "2022-12-24T08:19:02.044Z"
   },
   {
    "duration": 23,
    "start_time": "2022-12-24T08:19:02.101Z"
   },
   {
    "duration": 18,
    "start_time": "2022-12-24T08:19:02.126Z"
   },
   {
    "duration": 6,
    "start_time": "2022-12-24T08:19:02.146Z"
   },
   {
    "duration": 7,
    "start_time": "2022-12-24T08:19:02.153Z"
   },
   {
    "duration": 9,
    "start_time": "2022-12-24T08:19:02.161Z"
   },
   {
    "duration": 12,
    "start_time": "2022-12-24T08:19:02.172Z"
   },
   {
    "duration": 5,
    "start_time": "2022-12-24T08:19:02.185Z"
   },
   {
    "duration": 3,
    "start_time": "2022-12-24T08:19:02.221Z"
   },
   {
    "duration": 42,
    "start_time": "2022-12-24T08:19:02.226Z"
   },
   {
    "duration": 22,
    "start_time": "2022-12-24T08:19:02.270Z"
   },
   {
    "duration": 54,
    "start_time": "2022-12-24T08:19:02.294Z"
   },
   {
    "duration": 4,
    "start_time": "2022-12-24T08:19:02.349Z"
   },
   {
    "duration": 14,
    "start_time": "2022-12-24T08:19:02.354Z"
   },
   {
    "duration": 20,
    "start_time": "2022-12-24T08:19:02.371Z"
   },
   {
    "duration": 44,
    "start_time": "2022-12-24T08:19:02.393Z"
   },
   {
    "duration": 17,
    "start_time": "2022-12-24T08:19:02.439Z"
   },
   {
    "duration": 221,
    "start_time": "2022-12-24T08:19:02.458Z"
   },
   {
    "duration": 4,
    "start_time": "2022-12-24T08:19:02.681Z"
   },
   {
    "duration": 1640,
    "start_time": "2022-12-24T08:19:02.686Z"
   },
   {
    "duration": 294,
    "start_time": "2022-12-24T08:19:04.328Z"
   },
   {
    "duration": 9,
    "start_time": "2022-12-24T08:19:04.624Z"
   },
   {
    "duration": 222,
    "start_time": "2022-12-24T08:19:04.722Z"
   },
   {
    "duration": 80,
    "start_time": "2022-12-24T08:19:04.946Z"
   },
   {
    "duration": 131,
    "start_time": "2022-12-24T08:19:05.029Z"
   },
   {
    "duration": 5,
    "start_time": "2022-12-24T08:19:05.162Z"
   },
   {
    "duration": 27,
    "start_time": "2022-12-24T08:19:05.171Z"
   },
   {
    "duration": 22,
    "start_time": "2022-12-24T08:19:05.200Z"
   },
   {
    "duration": 604,
    "start_time": "2022-12-24T08:19:05.224Z"
   },
   {
    "duration": 54,
    "start_time": "2022-12-24T08:19:05.829Z"
   },
   {
    "duration": 142,
    "start_time": "2022-12-24T08:19:05.885Z"
   },
   {
    "duration": 104,
    "start_time": "2022-12-24T08:19:06.029Z"
   },
   {
    "duration": 131,
    "start_time": "2022-12-24T08:19:06.223Z"
   },
   {
    "duration": 4,
    "start_time": "2022-12-24T08:19:06.356Z"
   },
   {
    "duration": 110,
    "start_time": "2022-12-24T08:19:06.362Z"
   },
   {
    "duration": 249,
    "start_time": "2022-12-24T08:19:06.474Z"
   },
   {
    "duration": 396,
    "start_time": "2022-12-24T08:19:06.725Z"
   },
   {
    "duration": 398,
    "start_time": "2022-12-24T08:19:07.124Z"
   },
   {
    "duration": 381,
    "start_time": "2022-12-24T08:19:07.524Z"
   },
   {
    "duration": 153,
    "start_time": "2022-12-24T08:19:07.906Z"
   },
   {
    "duration": 0,
    "start_time": "2022-12-24T08:19:08.061Z"
   },
   {
    "duration": 0,
    "start_time": "2022-12-24T08:19:08.062Z"
   },
   {
    "duration": 0,
    "start_time": "2022-12-24T08:19:08.064Z"
   },
   {
    "duration": 0,
    "start_time": "2022-12-24T08:19:08.065Z"
   },
   {
    "duration": 0,
    "start_time": "2022-12-24T08:19:08.066Z"
   },
   {
    "duration": 0,
    "start_time": "2022-12-24T08:19:08.067Z"
   },
   {
    "duration": 0,
    "start_time": "2022-12-24T08:19:08.068Z"
   },
   {
    "duration": 0,
    "start_time": "2022-12-24T08:19:08.069Z"
   },
   {
    "duration": 0,
    "start_time": "2022-12-24T08:19:08.071Z"
   },
   {
    "duration": 0,
    "start_time": "2022-12-24T08:19:08.072Z"
   },
   {
    "duration": 0,
    "start_time": "2022-12-24T08:19:08.073Z"
   },
   {
    "duration": 19,
    "start_time": "2022-12-24T08:20:59.112Z"
   },
   {
    "duration": 10,
    "start_time": "2022-12-24T08:22:32.598Z"
   },
   {
    "duration": 11,
    "start_time": "2022-12-24T08:22:48.397Z"
   },
   {
    "duration": 9,
    "start_time": "2022-12-24T08:23:06.937Z"
   },
   {
    "duration": 40,
    "start_time": "2022-12-24T08:28:07.046Z"
   },
   {
    "duration": 46,
    "start_time": "2022-12-24T08:28:23.935Z"
   },
   {
    "duration": 230,
    "start_time": "2022-12-24T08:29:36.730Z"
   },
   {
    "duration": 255,
    "start_time": "2022-12-24T08:29:41.781Z"
   },
   {
    "duration": 90,
    "start_time": "2022-12-24T08:30:23.842Z"
   },
   {
    "duration": 132,
    "start_time": "2022-12-24T08:32:40.503Z"
   },
   {
    "duration": 197,
    "start_time": "2022-12-24T08:33:53.127Z"
   },
   {
    "duration": 14,
    "start_time": "2022-12-24T08:42:28.541Z"
   },
   {
    "duration": 21,
    "start_time": "2022-12-24T08:43:14.013Z"
   },
   {
    "duration": 13,
    "start_time": "2022-12-24T08:43:37.995Z"
   },
   {
    "duration": 34,
    "start_time": "2022-12-24T08:43:52.483Z"
   },
   {
    "duration": 66,
    "start_time": "2022-12-24T08:44:44.547Z"
   },
   {
    "duration": 52,
    "start_time": "2022-12-24T08:45:28.907Z"
   },
   {
    "duration": 44,
    "start_time": "2022-12-24T08:45:29.771Z"
   },
   {
    "duration": 47,
    "start_time": "2022-12-24T08:45:40.504Z"
   },
   {
    "duration": 35,
    "start_time": "2022-12-24T08:45:56.980Z"
   },
   {
    "duration": 40,
    "start_time": "2022-12-24T08:46:11.800Z"
   },
   {
    "duration": 36,
    "start_time": "2022-12-24T08:46:50.190Z"
   },
   {
    "duration": 4063,
    "start_time": "2022-12-24T08:46:59.897Z"
   },
   {
    "duration": 67,
    "start_time": "2022-12-24T08:47:03.963Z"
   },
   {
    "duration": 29,
    "start_time": "2022-12-24T08:47:04.032Z"
   },
   {
    "duration": 46,
    "start_time": "2022-12-24T08:47:04.064Z"
   },
   {
    "duration": 5,
    "start_time": "2022-12-24T08:47:04.111Z"
   },
   {
    "duration": 62,
    "start_time": "2022-12-24T08:47:04.118Z"
   },
   {
    "duration": 39,
    "start_time": "2022-12-24T08:47:04.181Z"
   },
   {
    "duration": 74,
    "start_time": "2022-12-24T08:47:04.223Z"
   },
   {
    "duration": 59,
    "start_time": "2022-12-24T08:47:04.298Z"
   },
   {
    "duration": 31,
    "start_time": "2022-12-24T08:47:04.360Z"
   },
   {
    "duration": 100,
    "start_time": "2022-12-24T08:47:04.393Z"
   },
   {
    "duration": 25,
    "start_time": "2022-12-24T08:47:04.495Z"
   },
   {
    "duration": 46,
    "start_time": "2022-12-24T08:47:04.521Z"
   },
   {
    "duration": 17,
    "start_time": "2022-12-24T08:47:04.574Z"
   },
   {
    "duration": 21,
    "start_time": "2022-12-24T08:47:04.592Z"
   },
   {
    "duration": 70,
    "start_time": "2022-12-24T08:47:04.615Z"
   },
   {
    "duration": 28,
    "start_time": "2022-12-24T08:47:04.687Z"
   },
   {
    "duration": 53,
    "start_time": "2022-12-24T08:47:04.716Z"
   },
   {
    "duration": 228,
    "start_time": "2022-12-24T08:47:04.771Z"
   },
   {
    "duration": 5,
    "start_time": "2022-12-24T08:47:05.001Z"
   },
   {
    "duration": 2143,
    "start_time": "2022-12-24T08:47:05.007Z"
   },
   {
    "duration": 282,
    "start_time": "2022-12-24T08:47:07.152Z"
   },
   {
    "duration": 86,
    "start_time": "2022-12-24T08:47:07.437Z"
   },
   {
    "duration": 397,
    "start_time": "2022-12-24T08:47:07.530Z"
   },
   {
    "duration": 21,
    "start_time": "2022-12-24T08:47:07.933Z"
   },
   {
    "duration": 111,
    "start_time": "2022-12-24T08:47:07.960Z"
   },
   {
    "duration": 5,
    "start_time": "2022-12-24T08:47:08.073Z"
   },
   {
    "duration": 27,
    "start_time": "2022-12-24T08:47:08.083Z"
   },
   {
    "duration": 27,
    "start_time": "2022-12-24T08:47:08.112Z"
   },
   {
    "duration": 721,
    "start_time": "2022-12-24T08:47:08.141Z"
   },
   {
    "duration": 77,
    "start_time": "2022-12-24T08:47:08.864Z"
   },
   {
    "duration": 16,
    "start_time": "2022-12-24T08:47:08.943Z"
   },
   {
    "duration": 60,
    "start_time": "2022-12-24T08:47:08.961Z"
   },
   {
    "duration": 205,
    "start_time": "2022-12-24T08:47:09.025Z"
   },
   {
    "duration": 104,
    "start_time": "2022-12-24T08:47:09.239Z"
   },
   {
    "duration": 137,
    "start_time": "2022-12-24T08:47:09.351Z"
   },
   {
    "duration": 5,
    "start_time": "2022-12-24T08:47:09.489Z"
   },
   {
    "duration": 143,
    "start_time": "2022-12-24T08:47:09.496Z"
   },
   {
    "duration": 246,
    "start_time": "2022-12-24T08:47:09.641Z"
   },
   {
    "duration": 452,
    "start_time": "2022-12-24T08:47:09.922Z"
   },
   {
    "duration": 486,
    "start_time": "2022-12-24T08:47:10.377Z"
   },
   {
    "duration": 487,
    "start_time": "2022-12-24T08:47:10.865Z"
   },
   {
    "duration": 49,
    "start_time": "2022-12-24T08:47:11.354Z"
   },
   {
    "duration": 210,
    "start_time": "2022-12-24T08:47:11.405Z"
   },
   {
    "duration": 0,
    "start_time": "2022-12-24T08:47:11.617Z"
   },
   {
    "duration": 0,
    "start_time": "2022-12-24T08:47:11.622Z"
   },
   {
    "duration": 0,
    "start_time": "2022-12-24T08:47:11.623Z"
   },
   {
    "duration": 0,
    "start_time": "2022-12-24T08:47:11.623Z"
   },
   {
    "duration": 0,
    "start_time": "2022-12-24T08:47:11.624Z"
   },
   {
    "duration": 0,
    "start_time": "2022-12-24T08:47:11.625Z"
   },
   {
    "duration": 0,
    "start_time": "2022-12-24T08:47:11.626Z"
   },
   {
    "duration": 0,
    "start_time": "2022-12-24T08:47:11.628Z"
   },
   {
    "duration": 0,
    "start_time": "2022-12-24T08:47:11.629Z"
   },
   {
    "duration": 0,
    "start_time": "2022-12-24T08:47:11.631Z"
   },
   {
    "duration": 0,
    "start_time": "2022-12-24T08:47:11.632Z"
   },
   {
    "duration": 47,
    "start_time": "2022-12-24T08:48:50.221Z"
   },
   {
    "duration": 3564,
    "start_time": "2022-12-24T08:48:57.847Z"
   },
   {
    "duration": 78,
    "start_time": "2022-12-24T08:49:01.413Z"
   },
   {
    "duration": 24,
    "start_time": "2022-12-24T08:49:01.493Z"
   },
   {
    "duration": 64,
    "start_time": "2022-12-24T08:49:01.519Z"
   },
   {
    "duration": 29,
    "start_time": "2022-12-24T08:49:01.586Z"
   },
   {
    "duration": 58,
    "start_time": "2022-12-24T08:49:01.617Z"
   },
   {
    "duration": 38,
    "start_time": "2022-12-24T08:49:01.676Z"
   },
   {
    "duration": 64,
    "start_time": "2022-12-24T08:49:01.716Z"
   },
   {
    "duration": 20,
    "start_time": "2022-12-24T08:49:01.781Z"
   },
   {
    "duration": 51,
    "start_time": "2022-12-24T08:49:01.802Z"
   },
   {
    "duration": 38,
    "start_time": "2022-12-24T08:49:01.856Z"
   },
   {
    "duration": 23,
    "start_time": "2022-12-24T08:49:01.896Z"
   },
   {
    "duration": 107,
    "start_time": "2022-12-24T08:49:01.922Z"
   },
   {
    "duration": 59,
    "start_time": "2022-12-24T08:49:02.033Z"
   },
   {
    "duration": 23,
    "start_time": "2022-12-24T08:49:02.094Z"
   },
   {
    "duration": 73,
    "start_time": "2022-12-24T08:49:02.119Z"
   },
   {
    "duration": 22,
    "start_time": "2022-12-24T08:49:02.193Z"
   },
   {
    "duration": 30,
    "start_time": "2022-12-24T08:49:02.217Z"
   },
   {
    "duration": 247,
    "start_time": "2022-12-24T08:49:02.249Z"
   },
   {
    "duration": 4,
    "start_time": "2022-12-24T08:49:02.497Z"
   },
   {
    "duration": 3145,
    "start_time": "2022-12-24T08:49:02.503Z"
   },
   {
    "duration": 228,
    "start_time": "2022-12-24T08:49:05.650Z"
   },
   {
    "duration": 47,
    "start_time": "2022-12-24T08:49:05.880Z"
   },
   {
    "duration": 350,
    "start_time": "2022-12-24T08:49:05.930Z"
   },
   {
    "duration": 9,
    "start_time": "2022-12-24T08:49:06.322Z"
   },
   {
    "duration": 163,
    "start_time": "2022-12-24T08:49:06.335Z"
   },
   {
    "duration": 3,
    "start_time": "2022-12-24T08:49:06.500Z"
   },
   {
    "duration": 22,
    "start_time": "2022-12-24T08:49:06.504Z"
   },
   {
    "duration": 25,
    "start_time": "2022-12-24T08:49:06.528Z"
   },
   {
    "duration": 620,
    "start_time": "2022-12-24T08:49:06.555Z"
   },
   {
    "duration": 65,
    "start_time": "2022-12-24T08:49:07.176Z"
   },
   {
    "duration": 12,
    "start_time": "2022-12-24T08:49:07.244Z"
   },
   {
    "duration": 69,
    "start_time": "2022-12-24T08:49:07.258Z"
   },
   {
    "duration": 24,
    "start_time": "2022-12-24T08:49:07.328Z"
   },
   {
    "duration": 124,
    "start_time": "2022-12-24T08:49:07.422Z"
   },
   {
    "duration": 120,
    "start_time": "2022-12-24T08:49:07.548Z"
   },
   {
    "duration": 5,
    "start_time": "2022-12-24T08:49:07.670Z"
   },
   {
    "duration": 136,
    "start_time": "2022-12-24T08:49:07.676Z"
   },
   {
    "duration": 241,
    "start_time": "2022-12-24T08:49:07.813Z"
   },
   {
    "duration": 466,
    "start_time": "2022-12-24T08:49:08.057Z"
   },
   {
    "duration": 344,
    "start_time": "2022-12-24T08:49:08.530Z"
   },
   {
    "duration": 498,
    "start_time": "2022-12-24T08:49:08.876Z"
   },
   {
    "duration": 46,
    "start_time": "2022-12-24T08:49:09.376Z"
   },
   {
    "duration": 43,
    "start_time": "2022-12-24T08:49:09.424Z"
   },
   {
    "duration": 301,
    "start_time": "2022-12-24T08:49:09.469Z"
   },
   {
    "duration": 52,
    "start_time": "2022-12-24T08:49:09.772Z"
   },
   {
    "duration": 4,
    "start_time": "2022-12-24T08:49:09.826Z"
   },
   {
    "duration": 120,
    "start_time": "2022-12-24T08:49:09.831Z"
   },
   {
    "duration": 12,
    "start_time": "2022-12-24T08:49:09.953Z"
   },
   {
    "duration": 2357,
    "start_time": "2022-12-24T08:49:09.967Z"
   },
   {
    "duration": 139,
    "start_time": "2022-12-24T08:49:12.327Z"
   },
   {
    "duration": 6,
    "start_time": "2022-12-24T08:49:12.468Z"
   },
   {
    "duration": 11,
    "start_time": "2022-12-24T08:49:12.475Z"
   },
   {
    "duration": 160,
    "start_time": "2022-12-24T08:49:12.488Z"
   },
   {
    "duration": 0,
    "start_time": "2022-12-24T08:49:12.650Z"
   },
   {
    "duration": 213,
    "start_time": "2022-12-24T08:57:24.709Z"
   },
   {
    "duration": 3508,
    "start_time": "2022-12-24T10:57:57.141Z"
   },
   {
    "duration": 60,
    "start_time": "2022-12-24T10:58:00.652Z"
   },
   {
    "duration": 19,
    "start_time": "2022-12-24T10:58:00.714Z"
   },
   {
    "duration": 14,
    "start_time": "2022-12-24T10:58:00.736Z"
   },
   {
    "duration": 5,
    "start_time": "2022-12-24T10:58:00.751Z"
   },
   {
    "duration": 25,
    "start_time": "2022-12-24T10:58:00.757Z"
   },
   {
    "duration": 12,
    "start_time": "2022-12-24T10:58:00.784Z"
   },
   {
    "duration": 29,
    "start_time": "2022-12-24T10:58:00.798Z"
   },
   {
    "duration": 17,
    "start_time": "2022-12-24T10:58:00.828Z"
   },
   {
    "duration": 14,
    "start_time": "2022-12-24T10:58:00.848Z"
   },
   {
    "duration": 53,
    "start_time": "2022-12-24T10:58:00.864Z"
   },
   {
    "duration": 48,
    "start_time": "2022-12-24T10:58:00.919Z"
   },
   {
    "duration": 30,
    "start_time": "2022-12-24T10:58:00.968Z"
   },
   {
    "duration": 8,
    "start_time": "2022-12-24T10:58:01.000Z"
   },
   {
    "duration": 34,
    "start_time": "2022-12-24T10:58:01.010Z"
   },
   {
    "duration": 35,
    "start_time": "2022-12-24T10:58:01.046Z"
   },
   {
    "duration": 38,
    "start_time": "2022-12-24T10:58:01.083Z"
   },
   {
    "duration": 19,
    "start_time": "2022-12-24T10:58:01.123Z"
   },
   {
    "duration": 213,
    "start_time": "2022-12-24T10:58:01.144Z"
   },
   {
    "duration": 4,
    "start_time": "2022-12-24T10:58:01.359Z"
   },
   {
    "duration": 1695,
    "start_time": "2022-12-24T10:58:01.364Z"
   },
   {
    "duration": 264,
    "start_time": "2022-12-24T10:58:03.061Z"
   },
   {
    "duration": 94,
    "start_time": "2022-12-24T10:58:03.328Z"
   },
   {
    "duration": 253,
    "start_time": "2022-12-24T10:58:03.424Z"
   },
   {
    "duration": 8,
    "start_time": "2022-12-24T10:58:03.722Z"
   },
   {
    "duration": 126,
    "start_time": "2022-12-24T10:58:03.732Z"
   },
   {
    "duration": 4,
    "start_time": "2022-12-24T10:58:03.859Z"
   },
   {
    "duration": 22,
    "start_time": "2022-12-24T10:58:03.867Z"
   },
   {
    "duration": 21,
    "start_time": "2022-12-24T10:58:03.891Z"
   },
   {
    "duration": 593,
    "start_time": "2022-12-24T10:58:03.913Z"
   },
   {
    "duration": 70,
    "start_time": "2022-12-24T10:58:04.508Z"
   },
   {
    "duration": 10,
    "start_time": "2022-12-24T10:58:04.580Z"
   },
   {
    "duration": 131,
    "start_time": "2022-12-24T10:58:04.592Z"
   },
   {
    "duration": 203,
    "start_time": "2022-12-24T10:58:04.725Z"
   },
   {
    "duration": 14,
    "start_time": "2022-12-24T10:58:04.930Z"
   },
   {
    "duration": 160,
    "start_time": "2022-12-24T10:58:04.947Z"
   },
   {
    "duration": 14,
    "start_time": "2022-12-24T10:58:05.109Z"
   },
   {
    "duration": 140,
    "start_time": "2022-12-24T10:58:05.125Z"
   },
   {
    "duration": 355,
    "start_time": "2022-12-24T10:58:05.267Z"
   },
   {
    "duration": 401,
    "start_time": "2022-12-24T10:58:05.624Z"
   },
   {
    "duration": 722,
    "start_time": "2022-12-24T10:58:06.028Z"
   },
   {
    "duration": 573,
    "start_time": "2022-12-24T10:58:06.752Z"
   },
   {
    "duration": 38,
    "start_time": "2022-12-24T10:58:07.327Z"
   },
   {
    "duration": 35,
    "start_time": "2022-12-24T10:58:07.422Z"
   },
   {
    "duration": 562,
    "start_time": "2022-12-24T10:58:07.459Z"
   },
   {
    "duration": 284,
    "start_time": "2022-12-24T10:58:08.023Z"
   },
   {
    "duration": 35,
    "start_time": "2022-12-24T10:58:08.308Z"
   },
   {
    "duration": 5,
    "start_time": "2022-12-24T10:58:08.422Z"
   },
   {
    "duration": 93,
    "start_time": "2022-12-24T10:58:08.429Z"
   },
   {
    "duration": 23,
    "start_time": "2022-12-24T10:58:08.524Z"
   },
   {
    "duration": 2069,
    "start_time": "2022-12-24T10:58:08.548Z"
   },
   {
    "duration": 127,
    "start_time": "2022-12-24T10:58:10.620Z"
   },
   {
    "duration": 6,
    "start_time": "2022-12-24T10:58:10.749Z"
   },
   {
    "duration": 10,
    "start_time": "2022-12-24T10:58:10.756Z"
   },
   {
    "duration": 135,
    "start_time": "2022-12-24T10:58:10.768Z"
   },
   {
    "duration": 0,
    "start_time": "2022-12-24T10:58:10.905Z"
   },
   {
    "duration": 41,
    "start_time": "2022-12-24T11:11:54.760Z"
   },
   {
    "duration": 175,
    "start_time": "2022-12-24T11:22:50.760Z"
   },
   {
    "duration": 3450,
    "start_time": "2022-12-24T11:24:00.531Z"
   },
   {
    "duration": 52,
    "start_time": "2022-12-24T11:24:03.983Z"
   },
   {
    "duration": 20,
    "start_time": "2022-12-24T11:24:04.037Z"
   },
   {
    "duration": 22,
    "start_time": "2022-12-24T11:24:04.059Z"
   },
   {
    "duration": 5,
    "start_time": "2022-12-24T11:24:04.082Z"
   },
   {
    "duration": 23,
    "start_time": "2022-12-24T11:24:04.089Z"
   },
   {
    "duration": 14,
    "start_time": "2022-12-24T11:24:04.115Z"
   },
   {
    "duration": 16,
    "start_time": "2022-12-24T11:24:04.131Z"
   },
   {
    "duration": 19,
    "start_time": "2022-12-24T11:24:04.149Z"
   },
   {
    "duration": 24,
    "start_time": "2022-12-24T11:24:04.172Z"
   },
   {
    "duration": 33,
    "start_time": "2022-12-24T11:24:04.198Z"
   },
   {
    "duration": 21,
    "start_time": "2022-12-24T11:24:04.233Z"
   },
   {
    "duration": 51,
    "start_time": "2022-12-24T11:24:04.255Z"
   },
   {
    "duration": 13,
    "start_time": "2022-12-24T11:24:04.308Z"
   },
   {
    "duration": 14,
    "start_time": "2022-12-24T11:24:04.323Z"
   },
   {
    "duration": 28,
    "start_time": "2022-12-24T11:24:04.339Z"
   },
   {
    "duration": 16,
    "start_time": "2022-12-24T11:24:04.369Z"
   },
   {
    "duration": 29,
    "start_time": "2022-12-24T11:24:04.387Z"
   },
   {
    "duration": 234,
    "start_time": "2022-12-24T11:24:04.417Z"
   },
   {
    "duration": 4,
    "start_time": "2022-12-24T11:24:04.652Z"
   },
   {
    "duration": 2507,
    "start_time": "2022-12-24T11:24:04.658Z"
   },
   {
    "duration": 260,
    "start_time": "2022-12-24T11:24:07.167Z"
   },
   {
    "duration": 92,
    "start_time": "2022-12-24T11:24:07.430Z"
   },
   {
    "duration": 305,
    "start_time": "2022-12-24T11:24:07.524Z"
   },
   {
    "duration": 93,
    "start_time": "2022-12-24T11:24:07.832Z"
   },
   {
    "duration": 100,
    "start_time": "2022-12-24T11:24:07.927Z"
   },
   {
    "duration": 3,
    "start_time": "2022-12-24T11:24:08.028Z"
   },
   {
    "duration": 18,
    "start_time": "2022-12-24T11:24:08.034Z"
   },
   {
    "duration": 8,
    "start_time": "2022-12-24T11:24:08.053Z"
   },
   {
    "duration": 1175,
    "start_time": "2022-12-24T11:24:08.063Z"
   },
   {
    "duration": 118,
    "start_time": "2022-12-24T11:24:09.240Z"
   },
   {
    "duration": 64,
    "start_time": "2022-12-24T11:24:09.360Z"
   },
   {
    "duration": 99,
    "start_time": "2022-12-24T11:24:09.425Z"
   },
   {
    "duration": 191,
    "start_time": "2022-12-24T11:24:09.535Z"
   },
   {
    "duration": 112,
    "start_time": "2022-12-24T11:24:09.728Z"
   },
   {
    "duration": 198,
    "start_time": "2022-12-24T11:24:09.843Z"
   },
   {
    "duration": 5,
    "start_time": "2022-12-24T11:24:10.043Z"
   },
   {
    "duration": 117,
    "start_time": "2022-12-24T11:24:10.049Z"
   },
   {
    "duration": 258,
    "start_time": "2022-12-24T11:24:10.168Z"
   },
   {
    "duration": 493,
    "start_time": "2022-12-24T11:24:10.428Z"
   },
   {
    "duration": 397,
    "start_time": "2022-12-24T11:24:10.923Z"
   },
   {
    "duration": 399,
    "start_time": "2022-12-24T11:24:11.328Z"
   },
   {
    "duration": 41,
    "start_time": "2022-12-24T11:24:11.728Z"
   },
   {
    "duration": 52,
    "start_time": "2022-12-24T11:24:11.771Z"
   },
   {
    "duration": 301,
    "start_time": "2022-12-24T11:24:11.825Z"
   },
   {
    "duration": 405,
    "start_time": "2022-12-24T11:24:12.127Z"
   },
   {
    "duration": 188,
    "start_time": "2022-12-24T11:24:12.533Z"
   },
   {
    "duration": 222,
    "start_time": "2022-12-24T11:24:12.723Z"
   },
   {
    "duration": 74,
    "start_time": "2022-12-24T11:24:12.947Z"
   },
   {
    "duration": 11,
    "start_time": "2022-12-24T11:24:13.023Z"
   },
   {
    "duration": 5,
    "start_time": "2022-12-24T11:24:13.036Z"
   },
   {
    "duration": 2688,
    "start_time": "2022-12-24T11:24:13.043Z"
   },
   {
    "duration": 124,
    "start_time": "2022-12-24T11:24:15.733Z"
   },
   {
    "duration": 6,
    "start_time": "2022-12-24T11:24:15.859Z"
   },
   {
    "duration": 9,
    "start_time": "2022-12-24T11:24:15.867Z"
   },
   {
    "duration": 132,
    "start_time": "2022-12-24T11:24:15.877Z"
   },
   {
    "duration": 0,
    "start_time": "2022-12-24T11:24:16.010Z"
   },
   {
    "duration": 95,
    "start_time": "2022-12-24T11:40:10.565Z"
   },
   {
    "duration": 3471,
    "start_time": "2022-12-24T11:56:06.834Z"
   },
   {
    "duration": 55,
    "start_time": "2022-12-24T11:56:10.309Z"
   },
   {
    "duration": 22,
    "start_time": "2022-12-24T11:56:10.366Z"
   },
   {
    "duration": 32,
    "start_time": "2022-12-24T11:56:10.391Z"
   },
   {
    "duration": 5,
    "start_time": "2022-12-24T11:56:10.425Z"
   },
   {
    "duration": 12,
    "start_time": "2022-12-24T11:56:10.432Z"
   },
   {
    "duration": 13,
    "start_time": "2022-12-24T11:56:10.446Z"
   },
   {
    "duration": 14,
    "start_time": "2022-12-24T11:56:10.461Z"
   },
   {
    "duration": 5,
    "start_time": "2022-12-24T11:56:10.476Z"
   },
   {
    "duration": 14,
    "start_time": "2022-12-24T11:56:10.483Z"
   },
   {
    "duration": 46,
    "start_time": "2022-12-24T11:56:10.498Z"
   },
   {
    "duration": 26,
    "start_time": "2022-12-24T11:56:10.546Z"
   },
   {
    "duration": 53,
    "start_time": "2022-12-24T11:56:10.574Z"
   },
   {
    "duration": 4,
    "start_time": "2022-12-24T11:56:10.629Z"
   },
   {
    "duration": 15,
    "start_time": "2022-12-24T11:56:10.635Z"
   },
   {
    "duration": 21,
    "start_time": "2022-12-24T11:56:10.651Z"
   },
   {
    "duration": 18,
    "start_time": "2022-12-24T11:56:10.673Z"
   },
   {
    "duration": 44,
    "start_time": "2022-12-24T11:56:10.693Z"
   },
   {
    "duration": 222,
    "start_time": "2022-12-24T11:56:10.738Z"
   },
   {
    "duration": 5,
    "start_time": "2022-12-24T11:56:10.962Z"
   },
   {
    "duration": 1788,
    "start_time": "2022-12-24T11:56:10.968Z"
   },
   {
    "duration": 264,
    "start_time": "2022-12-24T11:56:12.758Z"
   },
   {
    "duration": 97,
    "start_time": "2022-12-24T11:56:13.024Z"
   },
   {
    "duration": 221,
    "start_time": "2022-12-24T11:56:13.124Z"
   },
   {
    "duration": 7,
    "start_time": "2022-12-24T11:56:13.422Z"
   },
   {
    "duration": 138,
    "start_time": "2022-12-24T11:56:13.431Z"
   },
   {
    "duration": 4,
    "start_time": "2022-12-24T11:56:13.571Z"
   },
   {
    "duration": 18,
    "start_time": "2022-12-24T11:56:13.580Z"
   },
   {
    "duration": 25,
    "start_time": "2022-12-24T11:56:13.600Z"
   },
   {
    "duration": 586,
    "start_time": "2022-12-24T11:56:13.627Z"
   },
   {
    "duration": 65,
    "start_time": "2022-12-24T11:56:14.215Z"
   },
   {
    "duration": 11,
    "start_time": "2022-12-24T11:56:14.282Z"
   },
   {
    "duration": 36,
    "start_time": "2022-12-24T11:56:14.294Z"
   },
   {
    "duration": 102,
    "start_time": "2022-12-24T11:56:14.333Z"
   },
   {
    "duration": 96,
    "start_time": "2022-12-24T11:56:14.525Z"
   },
   {
    "duration": 133,
    "start_time": "2022-12-24T11:56:14.623Z"
   },
   {
    "duration": 5,
    "start_time": "2022-12-24T11:56:14.757Z"
   },
   {
    "duration": 116,
    "start_time": "2022-12-24T11:56:14.764Z"
   },
   {
    "duration": 244,
    "start_time": "2022-12-24T11:56:14.882Z"
   },
   {
    "duration": 429,
    "start_time": "2022-12-24T11:56:15.129Z"
   },
   {
    "duration": 432,
    "start_time": "2022-12-24T11:56:15.561Z"
   },
   {
    "duration": 409,
    "start_time": "2022-12-24T11:56:15.996Z"
   },
   {
    "duration": 50,
    "start_time": "2022-12-24T11:56:16.406Z"
   },
   {
    "duration": 35,
    "start_time": "2022-12-24T11:56:16.458Z"
   },
   {
    "duration": 245,
    "start_time": "2022-12-24T11:56:16.495Z"
   },
   {
    "duration": 189,
    "start_time": "2022-12-24T11:56:16.742Z"
   },
   {
    "duration": 97,
    "start_time": "2022-12-24T11:56:16.933Z"
   },
   {
    "duration": 302,
    "start_time": "2022-12-24T11:56:17.032Z"
   },
   {
    "duration": 3,
    "start_time": "2022-12-24T11:56:17.335Z"
   },
   {
    "duration": 10,
    "start_time": "2022-12-24T11:56:17.340Z"
   },
   {
    "duration": 12,
    "start_time": "2022-12-24T11:56:17.351Z"
   },
   {
    "duration": 2098,
    "start_time": "2022-12-24T11:56:17.364Z"
   },
   {
    "duration": 124,
    "start_time": "2022-12-24T11:56:19.464Z"
   },
   {
    "duration": 104,
    "start_time": "2022-12-24T11:56:19.589Z"
   },
   {
    "duration": 6,
    "start_time": "2022-12-24T11:56:19.695Z"
   },
   {
    "duration": 20,
    "start_time": "2022-12-24T11:56:19.703Z"
   },
   {
    "duration": 122,
    "start_time": "2022-12-24T11:56:19.724Z"
   },
   {
    "duration": 0,
    "start_time": "2022-12-24T11:56:19.848Z"
   },
   {
    "duration": 3439,
    "start_time": "2022-12-24T12:51:32.222Z"
   },
   {
    "duration": 57,
    "start_time": "2022-12-24T12:51:35.664Z"
   },
   {
    "duration": 24,
    "start_time": "2022-12-24T12:51:35.723Z"
   },
   {
    "duration": 24,
    "start_time": "2022-12-24T12:51:35.750Z"
   },
   {
    "duration": 6,
    "start_time": "2022-12-24T12:51:35.776Z"
   },
   {
    "duration": 46,
    "start_time": "2022-12-24T12:51:35.784Z"
   },
   {
    "duration": 15,
    "start_time": "2022-12-24T12:51:35.832Z"
   },
   {
    "duration": 16,
    "start_time": "2022-12-24T12:51:35.848Z"
   },
   {
    "duration": 17,
    "start_time": "2022-12-24T12:51:35.865Z"
   },
   {
    "duration": 7,
    "start_time": "2022-12-24T12:51:35.885Z"
   },
   {
    "duration": 36,
    "start_time": "2022-12-24T12:51:35.893Z"
   },
   {
    "duration": 21,
    "start_time": "2022-12-24T12:51:35.931Z"
   },
   {
    "duration": 29,
    "start_time": "2022-12-24T12:51:35.954Z"
   },
   {
    "duration": 3,
    "start_time": "2022-12-24T12:51:35.985Z"
   },
   {
    "duration": 33,
    "start_time": "2022-12-24T12:51:35.990Z"
   },
   {
    "duration": 21,
    "start_time": "2022-12-24T12:51:36.025Z"
   },
   {
    "duration": 19,
    "start_time": "2022-12-24T12:51:36.047Z"
   },
   {
    "duration": 19,
    "start_time": "2022-12-24T12:51:36.067Z"
   },
   {
    "duration": 350,
    "start_time": "2022-12-24T12:51:36.088Z"
   },
   {
    "duration": 4,
    "start_time": "2022-12-24T12:51:36.439Z"
   },
   {
    "duration": 2381,
    "start_time": "2022-12-24T12:51:36.445Z"
   },
   {
    "duration": 294,
    "start_time": "2022-12-24T12:51:38.828Z"
   },
   {
    "duration": 96,
    "start_time": "2022-12-24T12:51:39.125Z"
   },
   {
    "duration": 229,
    "start_time": "2022-12-24T12:51:39.223Z"
   },
   {
    "duration": 74,
    "start_time": "2022-12-24T12:51:39.455Z"
   },
   {
    "duration": 127,
    "start_time": "2022-12-24T12:51:39.531Z"
   },
   {
    "duration": 3,
    "start_time": "2022-12-24T12:51:39.660Z"
   },
   {
    "duration": 19,
    "start_time": "2022-12-24T12:51:39.666Z"
   },
   {
    "duration": 12,
    "start_time": "2022-12-24T12:51:39.687Z"
   },
   {
    "duration": 592,
    "start_time": "2022-12-24T12:51:39.701Z"
   },
   {
    "duration": 66,
    "start_time": "2022-12-24T12:51:40.295Z"
   },
   {
    "duration": 9,
    "start_time": "2022-12-24T12:51:40.363Z"
   },
   {
    "duration": 54,
    "start_time": "2022-12-24T12:51:40.373Z"
   },
   {
    "duration": 102,
    "start_time": "2022-12-24T12:51:40.429Z"
   },
   {
    "duration": 19,
    "start_time": "2022-12-24T12:51:40.621Z"
   },
   {
    "duration": 133,
    "start_time": "2022-12-24T12:51:40.642Z"
   },
   {
    "duration": 5,
    "start_time": "2022-12-24T12:51:40.777Z"
   },
   {
    "duration": 121,
    "start_time": "2022-12-24T12:51:40.784Z"
   },
   {
    "duration": 227,
    "start_time": "2022-12-24T12:51:40.907Z"
   },
   {
    "duration": 487,
    "start_time": "2022-12-24T12:51:41.136Z"
   },
   {
    "duration": 417,
    "start_time": "2022-12-24T12:51:41.625Z"
   },
   {
    "duration": 491,
    "start_time": "2022-12-24T12:51:42.044Z"
   },
   {
    "duration": 43,
    "start_time": "2022-12-24T12:51:42.537Z"
   },
   {
    "duration": 64,
    "start_time": "2022-12-24T12:51:42.581Z"
   },
   {
    "duration": 260,
    "start_time": "2022-12-24T12:51:42.647Z"
   },
   {
    "duration": 204,
    "start_time": "2022-12-24T12:51:42.908Z"
   },
   {
    "duration": 108,
    "start_time": "2022-12-24T12:51:43.114Z"
   },
   {
    "duration": 301,
    "start_time": "2022-12-24T12:51:43.224Z"
   },
   {
    "duration": 3,
    "start_time": "2022-12-24T12:51:43.527Z"
   },
   {
    "duration": 12,
    "start_time": "2022-12-24T12:51:43.532Z"
   },
   {
    "duration": 17,
    "start_time": "2022-12-24T12:51:43.545Z"
   },
   {
    "duration": 2215,
    "start_time": "2022-12-24T12:51:43.564Z"
   },
   {
    "duration": 130,
    "start_time": "2022-12-24T12:51:45.781Z"
   },
   {
    "duration": 97,
    "start_time": "2022-12-24T12:51:45.913Z"
   },
   {
    "duration": 6,
    "start_time": "2022-12-24T12:51:46.024Z"
   },
   {
    "duration": 17,
    "start_time": "2022-12-24T12:51:46.033Z"
   },
   {
    "duration": 136,
    "start_time": "2022-12-24T12:51:46.053Z"
   },
   {
    "duration": 0,
    "start_time": "2022-12-24T12:51:46.191Z"
   },
   {
    "duration": 4,
    "start_time": "2022-12-24T12:54:18.344Z"
   },
   {
    "duration": 2088,
    "start_time": "2022-12-24T12:54:22.501Z"
   },
   {
    "duration": 5,
    "start_time": "2022-12-24T13:14:24.165Z"
   },
   {
    "duration": 7,
    "start_time": "2022-12-24T13:14:52.809Z"
   },
   {
    "duration": 2206,
    "start_time": "2022-12-24T13:15:02.148Z"
   },
   {
    "duration": 1663,
    "start_time": "2022-12-24T13:15:41.236Z"
   },
   {
    "duration": 92,
    "start_time": "2022-12-24T14:12:16.835Z"
   },
   {
    "duration": 99,
    "start_time": "2022-12-24T14:14:07.158Z"
   },
   {
    "duration": 129,
    "start_time": "2022-12-24T14:17:56.327Z"
   },
   {
    "duration": 34,
    "start_time": "2022-12-24T14:20:09.114Z"
   },
   {
    "duration": 59,
    "start_time": "2022-12-24T14:20:17.509Z"
   },
   {
    "duration": 25,
    "start_time": "2022-12-24T14:24:24.229Z"
   },
   {
    "duration": 3438,
    "start_time": "2022-12-24T14:25:34.467Z"
   },
   {
    "duration": 54,
    "start_time": "2022-12-24T14:25:37.907Z"
   },
   {
    "duration": 19,
    "start_time": "2022-12-24T14:25:37.962Z"
   },
   {
    "duration": 17,
    "start_time": "2022-12-24T14:25:37.983Z"
   },
   {
    "duration": 22,
    "start_time": "2022-12-24T14:25:38.002Z"
   },
   {
    "duration": 7,
    "start_time": "2022-12-24T14:25:38.025Z"
   },
   {
    "duration": 8,
    "start_time": "2022-12-24T14:25:38.034Z"
   },
   {
    "duration": 12,
    "start_time": "2022-12-24T14:25:38.043Z"
   },
   {
    "duration": 4,
    "start_time": "2022-12-24T14:25:38.057Z"
   },
   {
    "duration": 6,
    "start_time": "2022-12-24T14:25:38.064Z"
   },
   {
    "duration": 60,
    "start_time": "2022-12-24T14:25:38.071Z"
   },
   {
    "duration": 23,
    "start_time": "2022-12-24T14:25:38.133Z"
   },
   {
    "duration": 63,
    "start_time": "2022-12-24T14:25:38.158Z"
   },
   {
    "duration": 5,
    "start_time": "2022-12-24T14:25:38.223Z"
   },
   {
    "duration": 14,
    "start_time": "2022-12-24T14:25:38.229Z"
   },
   {
    "duration": 21,
    "start_time": "2022-12-24T14:25:38.245Z"
   },
   {
    "duration": 18,
    "start_time": "2022-12-24T14:25:38.268Z"
   },
   {
    "duration": 48,
    "start_time": "2022-12-24T14:25:38.288Z"
   },
   {
    "duration": 216,
    "start_time": "2022-12-24T14:25:38.338Z"
   },
   {
    "duration": 4,
    "start_time": "2022-12-24T14:25:38.556Z"
   },
   {
    "duration": 1656,
    "start_time": "2022-12-24T14:25:38.561Z"
   },
   {
    "duration": 242,
    "start_time": "2022-12-24T14:25:40.222Z"
   },
   {
    "duration": 61,
    "start_time": "2022-12-24T14:25:40.466Z"
   },
   {
    "duration": 309,
    "start_time": "2022-12-24T14:25:40.529Z"
   },
   {
    "duration": 6,
    "start_time": "2022-12-24T14:25:40.840Z"
   },
   {
    "duration": 124,
    "start_time": "2022-12-24T14:25:40.928Z"
   },
   {
    "duration": 3,
    "start_time": "2022-12-24T14:25:41.054Z"
   },
   {
    "duration": 16,
    "start_time": "2022-12-24T14:25:41.061Z"
   },
   {
    "duration": 10,
    "start_time": "2022-12-24T14:25:41.078Z"
   },
   {
    "duration": 644,
    "start_time": "2022-12-24T14:25:41.090Z"
   },
   {
    "duration": 61,
    "start_time": "2022-12-24T14:25:41.736Z"
   },
   {
    "duration": 28,
    "start_time": "2022-12-24T14:25:41.798Z"
   },
   {
    "duration": 98,
    "start_time": "2022-12-24T14:25:41.828Z"
   },
   {
    "duration": 194,
    "start_time": "2022-12-24T14:25:41.928Z"
   },
   {
    "duration": 104,
    "start_time": "2022-12-24T14:25:42.125Z"
   },
   {
    "duration": 160,
    "start_time": "2022-12-24T14:25:42.232Z"
   },
   {
    "duration": 6,
    "start_time": "2022-12-24T14:25:42.395Z"
   },
   {
    "duration": 118,
    "start_time": "2022-12-24T14:25:42.403Z"
   },
   {
    "duration": 229,
    "start_time": "2022-12-24T14:25:42.523Z"
   },
   {
    "duration": 471,
    "start_time": "2022-12-24T14:25:42.753Z"
   },
   {
    "duration": 425,
    "start_time": "2022-12-24T14:25:43.229Z"
   },
   {
    "duration": 444,
    "start_time": "2022-12-24T14:25:43.657Z"
   },
   {
    "duration": 52,
    "start_time": "2022-12-24T14:25:44.103Z"
   },
   {
    "duration": 37,
    "start_time": "2022-12-24T14:25:44.156Z"
   },
   {
    "duration": 275,
    "start_time": "2022-12-24T14:25:44.194Z"
   },
   {
    "duration": 255,
    "start_time": "2022-12-24T14:25:44.471Z"
   },
   {
    "duration": 97,
    "start_time": "2022-12-24T14:25:44.728Z"
   },
   {
    "duration": 295,
    "start_time": "2022-12-24T14:25:44.827Z"
   },
   {
    "duration": 11,
    "start_time": "2022-12-24T14:25:45.124Z"
   },
   {
    "duration": 36,
    "start_time": "2022-12-24T14:25:45.137Z"
   },
   {
    "duration": 2228,
    "start_time": "2022-12-24T14:25:45.175Z"
   },
   {
    "duration": 1617,
    "start_time": "2022-12-24T14:25:47.405Z"
   },
   {
    "duration": 112,
    "start_time": "2022-12-24T14:25:49.024Z"
   },
   {
    "duration": 118,
    "start_time": "2022-12-24T14:25:49.138Z"
   },
   {
    "duration": 144,
    "start_time": "2022-12-24T14:25:49.258Z"
   },
   {
    "duration": 5,
    "start_time": "2022-12-24T14:25:49.404Z"
   },
   {
    "duration": 17,
    "start_time": "2022-12-24T14:25:49.410Z"
   },
   {
    "duration": 144,
    "start_time": "2022-12-24T14:25:49.429Z"
   },
   {
    "duration": 0,
    "start_time": "2022-12-24T14:25:49.575Z"
   },
   {
    "duration": 42,
    "start_time": "2022-12-24T14:26:51.666Z"
   },
   {
    "duration": 9,
    "start_time": "2022-12-24T14:28:35.289Z"
   },
   {
    "duration": 3609,
    "start_time": "2022-12-24T14:28:42.608Z"
   },
   {
    "duration": 53,
    "start_time": "2022-12-24T14:28:46.219Z"
   },
   {
    "duration": 17,
    "start_time": "2022-12-24T14:28:46.273Z"
   },
   {
    "duration": 14,
    "start_time": "2022-12-24T14:28:46.292Z"
   },
   {
    "duration": 15,
    "start_time": "2022-12-24T14:28:46.308Z"
   },
   {
    "duration": 2,
    "start_time": "2022-12-24T14:28:46.325Z"
   },
   {
    "duration": 6,
    "start_time": "2022-12-24T14:28:46.328Z"
   },
   {
    "duration": 12,
    "start_time": "2022-12-24T14:28:46.335Z"
   },
   {
    "duration": 3,
    "start_time": "2022-12-24T14:28:46.349Z"
   },
   {
    "duration": 4,
    "start_time": "2022-12-24T14:28:46.355Z"
   },
   {
    "duration": 29,
    "start_time": "2022-12-24T14:28:46.360Z"
   },
   {
    "duration": 47,
    "start_time": "2022-12-24T14:28:46.391Z"
   },
   {
    "duration": 29,
    "start_time": "2022-12-24T14:28:46.440Z"
   },
   {
    "duration": 3,
    "start_time": "2022-12-24T14:28:46.471Z"
   },
   {
    "duration": 18,
    "start_time": "2022-12-24T14:28:46.476Z"
   },
   {
    "duration": 22,
    "start_time": "2022-12-24T14:28:46.521Z"
   },
   {
    "duration": 18,
    "start_time": "2022-12-24T14:28:46.544Z"
   },
   {
    "duration": 17,
    "start_time": "2022-12-24T14:28:46.564Z"
   },
   {
    "duration": 229,
    "start_time": "2022-12-24T14:28:46.583Z"
   },
   {
    "duration": 8,
    "start_time": "2022-12-24T14:28:46.814Z"
   },
   {
    "duration": 1584,
    "start_time": "2022-12-24T14:28:46.823Z"
   },
   {
    "duration": 227,
    "start_time": "2022-12-24T14:28:48.408Z"
   },
   {
    "duration": 92,
    "start_time": "2022-12-24T14:28:48.637Z"
   },
   {
    "duration": 311,
    "start_time": "2022-12-24T14:28:48.732Z"
   },
   {
    "duration": 82,
    "start_time": "2022-12-24T14:28:49.045Z"
   },
   {
    "duration": 126,
    "start_time": "2022-12-24T14:28:49.129Z"
   },
   {
    "duration": 3,
    "start_time": "2022-12-24T14:28:49.257Z"
   },
   {
    "duration": 16,
    "start_time": "2022-12-24T14:28:49.263Z"
   },
   {
    "duration": 12,
    "start_time": "2022-12-24T14:28:49.281Z"
   },
   {
    "duration": 556,
    "start_time": "2022-12-24T14:28:49.320Z"
   },
   {
    "duration": 59,
    "start_time": "2022-12-24T14:28:49.877Z"
   },
   {
    "duration": 10,
    "start_time": "2022-12-24T14:28:49.938Z"
   },
   {
    "duration": 75,
    "start_time": "2022-12-24T14:28:49.949Z"
   },
   {
    "duration": 196,
    "start_time": "2022-12-24T14:28:50.026Z"
   },
   {
    "duration": 14,
    "start_time": "2022-12-24T14:28:50.224Z"
   },
   {
    "duration": 121,
    "start_time": "2022-12-24T14:28:50.240Z"
   },
   {
    "duration": 5,
    "start_time": "2022-12-24T14:28:50.362Z"
   },
   {
    "duration": 113,
    "start_time": "2022-12-24T14:28:50.369Z"
   },
   {
    "duration": 240,
    "start_time": "2022-12-24T14:28:50.483Z"
   },
   {
    "duration": 397,
    "start_time": "2022-12-24T14:28:50.725Z"
   },
   {
    "duration": 498,
    "start_time": "2022-12-24T14:28:51.125Z"
   },
   {
    "duration": 400,
    "start_time": "2022-12-24T14:28:51.626Z"
   },
   {
    "duration": 40,
    "start_time": "2022-12-24T14:28:52.028Z"
   },
   {
    "duration": 51,
    "start_time": "2022-12-24T14:28:52.070Z"
   },
   {
    "duration": 239,
    "start_time": "2022-12-24T14:28:52.123Z"
   },
   {
    "duration": 198,
    "start_time": "2022-12-24T14:28:52.363Z"
   },
   {
    "duration": 66,
    "start_time": "2022-12-24T14:28:52.563Z"
   },
   {
    "duration": 288,
    "start_time": "2022-12-24T14:28:52.633Z"
   },
   {
    "duration": 4,
    "start_time": "2022-12-24T14:28:52.923Z"
   },
   {
    "duration": 26,
    "start_time": "2022-12-24T14:28:52.929Z"
   },
   {
    "duration": 2075,
    "start_time": "2022-12-24T14:28:52.956Z"
   },
   {
    "duration": 1693,
    "start_time": "2022-12-24T14:28:55.033Z"
   },
   {
    "duration": 99,
    "start_time": "2022-12-24T14:28:56.727Z"
   },
   {
    "duration": 105,
    "start_time": "2022-12-24T14:28:56.827Z"
   },
   {
    "duration": 132,
    "start_time": "2022-12-24T14:28:56.933Z"
   },
   {
    "duration": 5,
    "start_time": "2022-12-24T14:28:57.066Z"
   },
   {
    "duration": 10,
    "start_time": "2022-12-24T14:28:57.073Z"
   },
   {
    "duration": 161,
    "start_time": "2022-12-24T14:28:57.084Z"
   },
   {
    "duration": 0,
    "start_time": "2022-12-24T14:28:57.247Z"
   },
   {
    "duration": 3512,
    "start_time": "2022-12-24T14:31:02.419Z"
   },
   {
    "duration": 59,
    "start_time": "2022-12-24T14:31:05.933Z"
   },
   {
    "duration": 22,
    "start_time": "2022-12-24T14:31:05.994Z"
   },
   {
    "duration": 28,
    "start_time": "2022-12-24T14:31:06.018Z"
   },
   {
    "duration": 7,
    "start_time": "2022-12-24T14:31:06.049Z"
   },
   {
    "duration": 20,
    "start_time": "2022-12-24T14:31:06.057Z"
   },
   {
    "duration": 14,
    "start_time": "2022-12-24T14:31:06.079Z"
   },
   {
    "duration": 14,
    "start_time": "2022-12-24T14:31:06.094Z"
   },
   {
    "duration": 10,
    "start_time": "2022-12-24T14:31:06.109Z"
   },
   {
    "duration": 9,
    "start_time": "2022-12-24T14:31:06.120Z"
   },
   {
    "duration": 34,
    "start_time": "2022-12-24T14:31:06.131Z"
   },
   {
    "duration": 21,
    "start_time": "2022-12-24T14:31:06.166Z"
   },
   {
    "duration": 42,
    "start_time": "2022-12-24T14:31:06.189Z"
   },
   {
    "duration": 3,
    "start_time": "2022-12-24T14:31:06.234Z"
   },
   {
    "duration": 14,
    "start_time": "2022-12-24T14:31:06.239Z"
   },
   {
    "duration": 22,
    "start_time": "2022-12-24T14:31:06.256Z"
   },
   {
    "duration": 41,
    "start_time": "2022-12-24T14:31:06.280Z"
   },
   {
    "duration": 20,
    "start_time": "2022-12-24T14:31:06.322Z"
   },
   {
    "duration": 210,
    "start_time": "2022-12-24T14:31:06.344Z"
   },
   {
    "duration": 4,
    "start_time": "2022-12-24T14:31:06.557Z"
   },
   {
    "duration": 2410,
    "start_time": "2022-12-24T14:31:06.563Z"
   },
   {
    "duration": 256,
    "start_time": "2022-12-24T14:31:08.975Z"
   },
   {
    "duration": 6,
    "start_time": "2022-12-24T14:31:09.322Z"
   },
   {
    "duration": 293,
    "start_time": "2022-12-24T14:31:09.330Z"
   },
   {
    "duration": 96,
    "start_time": "2022-12-24T14:31:09.625Z"
   },
   {
    "duration": 42,
    "start_time": "2022-12-24T14:31:09.724Z"
   },
   {
    "duration": 3,
    "start_time": "2022-12-24T14:31:09.767Z"
   },
   {
    "duration": 21,
    "start_time": "2022-12-24T14:31:09.772Z"
   },
   {
    "duration": 31,
    "start_time": "2022-12-24T14:31:09.795Z"
   },
   {
    "duration": 574,
    "start_time": "2022-12-24T14:31:09.827Z"
   },
   {
    "duration": 67,
    "start_time": "2022-12-24T14:31:10.403Z"
   },
   {
    "duration": 9,
    "start_time": "2022-12-24T14:31:10.471Z"
   },
   {
    "duration": 49,
    "start_time": "2022-12-24T14:31:10.481Z"
   },
   {
    "duration": 191,
    "start_time": "2022-12-24T14:31:10.531Z"
   },
   {
    "duration": 106,
    "start_time": "2022-12-24T14:31:10.724Z"
   },
   {
    "duration": 128,
    "start_time": "2022-12-24T14:31:10.832Z"
   },
   {
    "duration": 6,
    "start_time": "2022-12-24T14:31:10.962Z"
   },
   {
    "duration": 127,
    "start_time": "2022-12-24T14:31:10.969Z"
   },
   {
    "duration": 225,
    "start_time": "2022-12-24T14:31:11.098Z"
   },
   {
    "duration": 457,
    "start_time": "2022-12-24T14:31:11.324Z"
   },
   {
    "duration": 339,
    "start_time": "2022-12-24T14:31:11.786Z"
   },
   {
    "duration": 554,
    "start_time": "2022-12-24T14:31:12.127Z"
   },
   {
    "duration": 56,
    "start_time": "2022-12-24T14:31:12.683Z"
   },
   {
    "duration": 43,
    "start_time": "2022-12-24T14:31:12.741Z"
   },
   {
    "duration": 244,
    "start_time": "2022-12-24T14:31:12.786Z"
   },
   {
    "duration": 194,
    "start_time": "2022-12-24T14:31:13.032Z"
   },
   {
    "duration": 95,
    "start_time": "2022-12-24T14:31:13.228Z"
   },
   {
    "duration": 294,
    "start_time": "2022-12-24T14:31:13.328Z"
   },
   {
    "duration": 4,
    "start_time": "2022-12-24T14:31:13.624Z"
   },
   {
    "duration": 14,
    "start_time": "2022-12-24T14:31:13.630Z"
   },
   {
    "duration": 2239,
    "start_time": "2022-12-24T14:31:13.645Z"
   },
   {
    "duration": 1609,
    "start_time": "2022-12-24T14:31:15.886Z"
   },
   {
    "duration": 102,
    "start_time": "2022-12-24T14:31:17.497Z"
   },
   {
    "duration": 100,
    "start_time": "2022-12-24T14:31:17.601Z"
   },
   {
    "duration": 133,
    "start_time": "2022-12-24T14:31:17.703Z"
   },
   {
    "duration": 5,
    "start_time": "2022-12-24T14:31:17.838Z"
   },
   {
    "duration": 19,
    "start_time": "2022-12-24T14:31:17.845Z"
   },
   {
    "duration": 48,
    "start_time": "2022-12-24T14:31:17.865Z"
   },
   {
    "duration": 309,
    "start_time": "2022-12-24T14:31:17.914Z"
   },
   {
    "duration": 85,
    "start_time": "2022-12-24T14:33:52.723Z"
   },
   {
    "duration": 130,
    "start_time": "2022-12-24T14:35:02.100Z"
   },
   {
    "duration": 125,
    "start_time": "2022-12-24T14:35:14.758Z"
   },
   {
    "duration": 3340,
    "start_time": "2022-12-24T14:36:31.020Z"
   },
   {
    "duration": 53,
    "start_time": "2022-12-24T14:36:34.362Z"
   },
   {
    "duration": 19,
    "start_time": "2022-12-24T14:36:34.416Z"
   },
   {
    "duration": 15,
    "start_time": "2022-12-24T14:36:34.437Z"
   },
   {
    "duration": 7,
    "start_time": "2022-12-24T14:36:34.453Z"
   },
   {
    "duration": 7,
    "start_time": "2022-12-24T14:36:34.461Z"
   },
   {
    "duration": 8,
    "start_time": "2022-12-24T14:36:34.469Z"
   },
   {
    "duration": 13,
    "start_time": "2022-12-24T14:36:34.479Z"
   },
   {
    "duration": 28,
    "start_time": "2022-12-24T14:36:34.494Z"
   },
   {
    "duration": 4,
    "start_time": "2022-12-24T14:36:34.524Z"
   },
   {
    "duration": 35,
    "start_time": "2022-12-24T14:36:34.530Z"
   },
   {
    "duration": 25,
    "start_time": "2022-12-24T14:36:34.567Z"
   },
   {
    "duration": 55,
    "start_time": "2022-12-24T14:36:34.594Z"
   },
   {
    "duration": 3,
    "start_time": "2022-12-24T14:36:34.651Z"
   },
   {
    "duration": 14,
    "start_time": "2022-12-24T14:36:34.656Z"
   },
   {
    "duration": 21,
    "start_time": "2022-12-24T14:36:34.671Z"
   },
   {
    "duration": 41,
    "start_time": "2022-12-24T14:36:34.694Z"
   },
   {
    "duration": 18,
    "start_time": "2022-12-24T14:36:34.737Z"
   },
   {
    "duration": 223,
    "start_time": "2022-12-24T14:36:34.757Z"
   },
   {
    "duration": 4,
    "start_time": "2022-12-24T14:36:34.981Z"
   },
   {
    "duration": 1716,
    "start_time": "2022-12-24T14:36:34.987Z"
   },
   {
    "duration": 227,
    "start_time": "2022-12-24T14:36:36.704Z"
   },
   {
    "duration": 94,
    "start_time": "2022-12-24T14:36:36.933Z"
   },
   {
    "duration": 311,
    "start_time": "2022-12-24T14:36:37.029Z"
   },
   {
    "duration": 8,
    "start_time": "2022-12-24T14:36:37.420Z"
   },
   {
    "duration": 129,
    "start_time": "2022-12-24T14:36:37.431Z"
   },
   {
    "duration": 2,
    "start_time": "2022-12-24T14:36:37.562Z"
   },
   {
    "duration": 17,
    "start_time": "2022-12-24T14:36:37.568Z"
   },
   {
    "duration": 9,
    "start_time": "2022-12-24T14:36:37.587Z"
   },
   {
    "duration": 585,
    "start_time": "2022-12-24T14:36:37.597Z"
   },
   {
    "duration": 59,
    "start_time": "2022-12-24T14:36:38.183Z"
   },
   {
    "duration": 9,
    "start_time": "2022-12-24T14:36:38.244Z"
   },
   {
    "duration": 73,
    "start_time": "2022-12-24T14:36:38.254Z"
   },
   {
    "duration": 193,
    "start_time": "2022-12-24T14:36:38.329Z"
   },
   {
    "duration": 111,
    "start_time": "2022-12-24T14:36:38.524Z"
   },
   {
    "duration": 123,
    "start_time": "2022-12-24T14:36:38.636Z"
   },
   {
    "duration": 5,
    "start_time": "2022-12-24T14:36:38.761Z"
   },
   {
    "duration": 122,
    "start_time": "2022-12-24T14:36:38.767Z"
   },
   {
    "duration": 231,
    "start_time": "2022-12-24T14:36:38.891Z"
   },
   {
    "duration": 448,
    "start_time": "2022-12-24T14:36:39.125Z"
   },
   {
    "duration": 401,
    "start_time": "2022-12-24T14:36:39.622Z"
   },
   {
    "duration": 396,
    "start_time": "2022-12-24T14:36:40.027Z"
   },
   {
    "duration": 41,
    "start_time": "2022-12-24T14:36:40.424Z"
   },
   {
    "duration": 37,
    "start_time": "2022-12-24T14:36:40.467Z"
   },
   {
    "duration": 244,
    "start_time": "2022-12-24T14:36:40.521Z"
   },
   {
    "duration": 205,
    "start_time": "2022-12-24T14:36:40.767Z"
   },
   {
    "duration": 57,
    "start_time": "2022-12-24T14:36:40.974Z"
   },
   {
    "duration": 199,
    "start_time": "2022-12-24T14:36:41.123Z"
   },
   {
    "duration": 2,
    "start_time": "2022-12-24T14:36:41.324Z"
   },
   {
    "duration": 11,
    "start_time": "2022-12-24T14:36:41.328Z"
   },
   {
    "duration": 2165,
    "start_time": "2022-12-24T14:36:41.341Z"
   },
   {
    "duration": 1681,
    "start_time": "2022-12-24T14:36:43.508Z"
   },
   {
    "duration": 102,
    "start_time": "2022-12-24T14:36:45.191Z"
   },
   {
    "duration": 130,
    "start_time": "2022-12-24T14:36:45.295Z"
   },
   {
    "duration": 139,
    "start_time": "2022-12-24T14:36:45.428Z"
   },
   {
    "duration": 5,
    "start_time": "2022-12-24T14:36:45.569Z"
   },
   {
    "duration": 13,
    "start_time": "2022-12-24T14:36:45.576Z"
   },
   {
    "duration": 45,
    "start_time": "2022-12-24T14:36:45.591Z"
   },
   {
    "duration": 284,
    "start_time": "2022-12-24T14:36:45.638Z"
   },
   {
    "duration": 108,
    "start_time": "2022-12-24T14:37:19.122Z"
   },
   {
    "duration": 3312,
    "start_time": "2022-12-24T14:37:27.122Z"
   },
   {
    "duration": 52,
    "start_time": "2022-12-24T14:37:30.436Z"
   },
   {
    "duration": 19,
    "start_time": "2022-12-24T14:37:30.489Z"
   },
   {
    "duration": 33,
    "start_time": "2022-12-24T14:37:30.510Z"
   },
   {
    "duration": 15,
    "start_time": "2022-12-24T14:37:30.545Z"
   },
   {
    "duration": 44,
    "start_time": "2022-12-24T14:37:30.562Z"
   },
   {
    "duration": 29,
    "start_time": "2022-12-24T14:37:30.608Z"
   },
   {
    "duration": 22,
    "start_time": "2022-12-24T14:37:30.638Z"
   },
   {
    "duration": 6,
    "start_time": "2022-12-24T14:37:30.661Z"
   },
   {
    "duration": 23,
    "start_time": "2022-12-24T14:37:30.669Z"
   },
   {
    "duration": 35,
    "start_time": "2022-12-24T14:37:30.693Z"
   },
   {
    "duration": 21,
    "start_time": "2022-12-24T14:37:30.730Z"
   },
   {
    "duration": 29,
    "start_time": "2022-12-24T14:37:30.753Z"
   },
   {
    "duration": 3,
    "start_time": "2022-12-24T14:37:30.784Z"
   },
   {
    "duration": 39,
    "start_time": "2022-12-24T14:37:30.788Z"
   },
   {
    "duration": 41,
    "start_time": "2022-12-24T14:37:30.828Z"
   },
   {
    "duration": 44,
    "start_time": "2022-12-24T14:37:30.871Z"
   },
   {
    "duration": 19,
    "start_time": "2022-12-24T14:37:30.917Z"
   },
   {
    "duration": 206,
    "start_time": "2022-12-24T14:37:30.938Z"
   },
   {
    "duration": 4,
    "start_time": "2022-12-24T14:37:31.146Z"
   },
   {
    "duration": 1674,
    "start_time": "2022-12-24T14:37:31.152Z"
   },
   {
    "duration": 294,
    "start_time": "2022-12-24T14:37:32.828Z"
   },
   {
    "duration": 95,
    "start_time": "2022-12-24T14:37:33.126Z"
   },
   {
    "duration": 228,
    "start_time": "2022-12-24T14:37:33.223Z"
   },
   {
    "duration": 75,
    "start_time": "2022-12-24T14:37:33.453Z"
   },
   {
    "duration": 128,
    "start_time": "2022-12-24T14:37:33.531Z"
   },
   {
    "duration": 3,
    "start_time": "2022-12-24T14:37:33.660Z"
   },
   {
    "duration": 17,
    "start_time": "2022-12-24T14:37:33.667Z"
   },
   {
    "duration": 11,
    "start_time": "2022-12-24T14:37:33.686Z"
   },
   {
    "duration": 600,
    "start_time": "2022-12-24T14:37:33.698Z"
   },
   {
    "duration": 63,
    "start_time": "2022-12-24T14:37:34.300Z"
   },
   {
    "duration": 11,
    "start_time": "2022-12-24T14:37:34.366Z"
   },
   {
    "duration": 50,
    "start_time": "2022-12-24T14:37:34.378Z"
   },
   {
    "duration": 107,
    "start_time": "2022-12-24T14:37:34.430Z"
   },
   {
    "duration": 96,
    "start_time": "2022-12-24T14:37:34.625Z"
   },
   {
    "duration": 160,
    "start_time": "2022-12-24T14:37:34.723Z"
   },
   {
    "duration": 5,
    "start_time": "2022-12-24T14:37:34.885Z"
   },
   {
    "duration": 132,
    "start_time": "2022-12-24T14:37:34.893Z"
   },
   {
    "duration": 293,
    "start_time": "2022-12-24T14:37:35.027Z"
   },
   {
    "duration": 399,
    "start_time": "2022-12-24T14:37:35.323Z"
   },
   {
    "duration": 496,
    "start_time": "2022-12-24T14:37:35.725Z"
   },
   {
    "duration": 418,
    "start_time": "2022-12-24T14:37:36.224Z"
   },
   {
    "duration": 39,
    "start_time": "2022-12-24T14:37:36.644Z"
   },
   {
    "duration": 60,
    "start_time": "2022-12-24T14:37:36.685Z"
   },
   {
    "duration": 245,
    "start_time": "2022-12-24T14:37:36.747Z"
   },
   {
    "duration": 201,
    "start_time": "2022-12-24T14:37:36.994Z"
   },
   {
    "duration": 43,
    "start_time": "2022-12-24T14:37:37.197Z"
   },
   {
    "duration": 283,
    "start_time": "2022-12-24T14:37:37.243Z"
   },
   {
    "duration": 6,
    "start_time": "2022-12-24T14:37:37.528Z"
   },
   {
    "duration": 86,
    "start_time": "2022-12-24T14:37:37.535Z"
   },
   {
    "duration": 2069,
    "start_time": "2022-12-24T14:37:37.623Z"
   },
   {
    "duration": 1569,
    "start_time": "2022-12-24T14:37:39.694Z"
   },
   {
    "duration": 81,
    "start_time": "2022-12-24T14:37:41.265Z"
   },
   {
    "duration": 105,
    "start_time": "2022-12-24T14:37:41.348Z"
   },
   {
    "duration": 109,
    "start_time": "2022-12-24T14:37:41.455Z"
   },
   {
    "duration": 7,
    "start_time": "2022-12-24T14:37:41.568Z"
   },
   {
    "duration": 15,
    "start_time": "2022-12-24T14:37:41.576Z"
   },
   {
    "duration": 37,
    "start_time": "2022-12-24T14:37:41.592Z"
   },
   {
    "duration": 296,
    "start_time": "2022-12-24T14:37:41.631Z"
   },
   {
    "duration": 4398,
    "start_time": "2022-12-24T15:54:38.866Z"
   },
   {
    "duration": 339,
    "start_time": "2022-12-24T15:54:43.266Z"
   },
   {
    "duration": 19,
    "start_time": "2022-12-24T15:54:43.606Z"
   },
   {
    "duration": 17,
    "start_time": "2022-12-24T15:54:43.628Z"
   },
   {
    "duration": 7,
    "start_time": "2022-12-24T15:54:43.647Z"
   },
   {
    "duration": 6,
    "start_time": "2022-12-24T15:54:43.656Z"
   },
   {
    "duration": 8,
    "start_time": "2022-12-24T15:54:43.663Z"
   },
   {
    "duration": 10,
    "start_time": "2022-12-24T15:54:43.673Z"
   },
   {
    "duration": 4,
    "start_time": "2022-12-24T15:54:43.685Z"
   },
   {
    "duration": 4,
    "start_time": "2022-12-24T15:54:43.712Z"
   },
   {
    "duration": 29,
    "start_time": "2022-12-24T15:54:43.717Z"
   },
   {
    "duration": 22,
    "start_time": "2022-12-24T15:54:47.933Z"
   },
   {
    "duration": 13,
    "start_time": "2022-12-24T15:54:57.019Z"
   },
   {
    "duration": 19,
    "start_time": "2022-12-24T16:00:53.114Z"
   },
   {
    "duration": 1922,
    "start_time": "2022-12-24T16:32:09.739Z"
   },
   {
    "duration": 46,
    "start_time": "2022-12-24T16:32:11.664Z"
   },
   {
    "duration": 24,
    "start_time": "2022-12-24T16:32:11.711Z"
   },
   {
    "duration": 27,
    "start_time": "2022-12-24T16:32:11.737Z"
   },
   {
    "duration": 18,
    "start_time": "2022-12-24T16:32:11.766Z"
   },
   {
    "duration": 13,
    "start_time": "2022-12-24T16:32:11.786Z"
   },
   {
    "duration": 36,
    "start_time": "2022-12-24T16:32:11.801Z"
   },
   {
    "duration": 24,
    "start_time": "2022-12-24T16:32:11.839Z"
   },
   {
    "duration": 7,
    "start_time": "2022-12-24T16:32:11.864Z"
   },
   {
    "duration": 16,
    "start_time": "2022-12-24T16:32:11.874Z"
   },
   {
    "duration": 40,
    "start_time": "2022-12-24T16:32:11.891Z"
   },
   {
    "duration": 19,
    "start_time": "2022-12-24T16:32:11.933Z"
   },
   {
    "duration": 48,
    "start_time": "2022-12-24T16:32:11.953Z"
   },
   {
    "duration": 4,
    "start_time": "2022-12-24T16:32:12.002Z"
   },
   {
    "duration": 30,
    "start_time": "2022-12-24T16:32:12.007Z"
   },
   {
    "duration": 37,
    "start_time": "2022-12-24T16:32:12.039Z"
   },
   {
    "duration": 15,
    "start_time": "2022-12-24T16:32:12.077Z"
   },
   {
    "duration": 32,
    "start_time": "2022-12-24T16:32:12.094Z"
   },
   {
    "duration": 186,
    "start_time": "2022-12-24T16:32:12.127Z"
   },
   {
    "duration": 5,
    "start_time": "2022-12-24T16:32:12.314Z"
   },
   {
    "duration": 1616,
    "start_time": "2022-12-24T16:32:12.321Z"
   },
   {
    "duration": 216,
    "start_time": "2022-12-24T16:32:13.939Z"
   },
   {
    "duration": 59,
    "start_time": "2022-12-24T16:32:14.157Z"
   },
   {
    "duration": 319,
    "start_time": "2022-12-24T16:32:14.218Z"
   },
   {
    "duration": 81,
    "start_time": "2022-12-24T16:32:14.539Z"
   },
   {
    "duration": 128,
    "start_time": "2022-12-24T16:32:14.622Z"
   },
   {
    "duration": 3,
    "start_time": "2022-12-24T16:32:14.751Z"
   },
   {
    "duration": 16,
    "start_time": "2022-12-24T16:32:14.757Z"
   },
   {
    "duration": 9,
    "start_time": "2022-12-24T16:32:14.774Z"
   },
   {
    "duration": 583,
    "start_time": "2022-12-24T16:32:14.785Z"
   },
   {
    "duration": 69,
    "start_time": "2022-12-24T16:32:15.369Z"
   },
   {
    "duration": 9,
    "start_time": "2022-12-24T16:32:15.439Z"
   },
   {
    "duration": 68,
    "start_time": "2022-12-24T16:32:15.449Z"
   },
   {
    "duration": 113,
    "start_time": "2022-12-24T16:32:15.519Z"
   },
   {
    "duration": 23,
    "start_time": "2022-12-24T16:32:15.714Z"
   },
   {
    "duration": 119,
    "start_time": "2022-12-24T16:32:15.739Z"
   },
   {
    "duration": 4,
    "start_time": "2022-12-24T16:32:15.860Z"
   },
   {
    "duration": 122,
    "start_time": "2022-12-24T16:32:15.865Z"
   },
   {
    "duration": 894,
    "start_time": "2022-12-24T16:32:55.853Z"
   },
   {
    "duration": 3428,
    "start_time": "2022-12-24T16:42:21.446Z"
   },
   {
    "duration": 55,
    "start_time": "2022-12-24T16:42:24.876Z"
   },
   {
    "duration": 18,
    "start_time": "2022-12-24T16:42:24.933Z"
   },
   {
    "duration": 15,
    "start_time": "2022-12-24T16:42:24.953Z"
   },
   {
    "duration": 6,
    "start_time": "2022-12-24T16:42:24.969Z"
   },
   {
    "duration": 5,
    "start_time": "2022-12-24T16:42:24.977Z"
   },
   {
    "duration": 30,
    "start_time": "2022-12-24T16:42:24.984Z"
   },
   {
    "duration": 28,
    "start_time": "2022-12-24T16:42:25.016Z"
   },
   {
    "duration": 6,
    "start_time": "2022-12-24T16:42:25.045Z"
   },
   {
    "duration": 9,
    "start_time": "2022-12-24T16:42:25.052Z"
   },
   {
    "duration": 32,
    "start_time": "2022-12-24T16:42:25.063Z"
   },
   {
    "duration": 112,
    "start_time": "2022-12-24T16:42:52.061Z"
   },
   {
    "duration": 17,
    "start_time": "2022-12-24T16:43:03.138Z"
   },
   {
    "duration": 315,
    "start_time": "2022-12-24T16:43:55.171Z"
   },
   {
    "duration": 10,
    "start_time": "2022-12-24T16:44:01.202Z"
   },
   {
    "duration": 14,
    "start_time": "2022-12-24T16:44:29.858Z"
   },
   {
    "duration": 15,
    "start_time": "2022-12-24T16:44:57.409Z"
   },
   {
    "duration": 13,
    "start_time": "2022-12-24T16:45:16.602Z"
   },
   {
    "duration": 16,
    "start_time": "2022-12-24T16:46:42.542Z"
   },
   {
    "duration": 84,
    "start_time": "2022-12-24T16:47:34.242Z"
   },
   {
    "duration": 17,
    "start_time": "2022-12-24T16:47:50.571Z"
   },
   {
    "duration": 15,
    "start_time": "2022-12-24T16:48:17.578Z"
   },
   {
    "duration": 5,
    "start_time": "2022-12-24T16:48:22.350Z"
   },
   {
    "duration": 9,
    "start_time": "2022-12-24T16:49:22.277Z"
   },
   {
    "duration": 18,
    "start_time": "2022-12-24T16:49:24.252Z"
   },
   {
    "duration": 16,
    "start_time": "2022-12-24T16:49:24.758Z"
   },
   {
    "duration": 16,
    "start_time": "2022-12-24T16:49:28.179Z"
   },
   {
    "duration": 3362,
    "start_time": "2022-12-24T16:50:27.898Z"
   },
   {
    "duration": 55,
    "start_time": "2022-12-24T16:50:31.263Z"
   },
   {
    "duration": 22,
    "start_time": "2022-12-24T16:50:31.319Z"
   },
   {
    "duration": 31,
    "start_time": "2022-12-24T16:50:31.343Z"
   },
   {
    "duration": 19,
    "start_time": "2022-12-24T16:50:31.375Z"
   },
   {
    "duration": 16,
    "start_time": "2022-12-24T16:50:31.396Z"
   },
   {
    "duration": 49,
    "start_time": "2022-12-24T16:50:31.413Z"
   },
   {
    "duration": 26,
    "start_time": "2022-12-24T16:50:31.464Z"
   },
   {
    "duration": 24,
    "start_time": "2022-12-24T16:50:31.492Z"
   },
   {
    "duration": 40,
    "start_time": "2022-12-24T16:50:31.518Z"
   },
   {
    "duration": 65,
    "start_time": "2022-12-24T16:50:31.560Z"
   },
   {
    "duration": 59,
    "start_time": "2022-12-24T16:50:31.627Z"
   },
   {
    "duration": 117,
    "start_time": "2022-12-24T16:50:38.179Z"
   },
   {
    "duration": 3427,
    "start_time": "2022-12-24T16:50:48.781Z"
   },
   {
    "duration": 55,
    "start_time": "2022-12-24T16:50:52.211Z"
   },
   {
    "duration": 21,
    "start_time": "2022-12-24T16:50:52.267Z"
   },
   {
    "duration": 16,
    "start_time": "2022-12-24T16:50:52.290Z"
   },
   {
    "duration": 8,
    "start_time": "2022-12-24T16:50:52.308Z"
   },
   {
    "duration": 23,
    "start_time": "2022-12-24T16:50:52.318Z"
   },
   {
    "duration": 10,
    "start_time": "2022-12-24T16:50:52.342Z"
   },
   {
    "duration": 14,
    "start_time": "2022-12-24T16:50:52.353Z"
   },
   {
    "duration": 4,
    "start_time": "2022-12-24T16:50:52.369Z"
   },
   {
    "duration": 8,
    "start_time": "2022-12-24T16:50:52.375Z"
   },
   {
    "duration": 42,
    "start_time": "2022-12-24T16:50:52.385Z"
   },
   {
    "duration": 134,
    "start_time": "2022-12-24T16:50:52.428Z"
   },
   {
    "duration": 3492,
    "start_time": "2022-12-24T16:51:47.850Z"
   },
   {
    "duration": 52,
    "start_time": "2022-12-24T16:51:51.344Z"
   },
   {
    "duration": 22,
    "start_time": "2022-12-24T16:51:51.397Z"
   },
   {
    "duration": 18,
    "start_time": "2022-12-24T16:51:51.422Z"
   },
   {
    "duration": 6,
    "start_time": "2022-12-24T16:51:51.442Z"
   },
   {
    "duration": 3,
    "start_time": "2022-12-24T16:51:51.450Z"
   },
   {
    "duration": 6,
    "start_time": "2022-12-24T16:51:51.455Z"
   },
   {
    "duration": 13,
    "start_time": "2022-12-24T16:51:51.463Z"
   },
   {
    "duration": 4,
    "start_time": "2022-12-24T16:51:51.477Z"
   },
   {
    "duration": 5,
    "start_time": "2022-12-24T16:51:51.482Z"
   },
   {
    "duration": 34,
    "start_time": "2022-12-24T16:51:51.512Z"
   },
   {
    "duration": 23,
    "start_time": "2022-12-24T16:51:51.548Z"
   },
   {
    "duration": 26,
    "start_time": "2022-12-24T16:51:55.624Z"
   },
   {
    "duration": 3857,
    "start_time": "2022-12-24T16:53:17.295Z"
   },
   {
    "duration": 87,
    "start_time": "2022-12-24T16:53:21.154Z"
   },
   {
    "duration": 75,
    "start_time": "2022-12-24T16:53:21.243Z"
   },
   {
    "duration": 18,
    "start_time": "2022-12-24T16:53:21.320Z"
   },
   {
    "duration": 27,
    "start_time": "2022-12-24T16:53:21.339Z"
   },
   {
    "duration": 78,
    "start_time": "2022-12-24T16:53:21.367Z"
   },
   {
    "duration": 16,
    "start_time": "2022-12-24T16:53:21.446Z"
   },
   {
    "duration": 27,
    "start_time": "2022-12-24T16:53:21.464Z"
   },
   {
    "duration": 22,
    "start_time": "2022-12-24T16:53:21.493Z"
   },
   {
    "duration": 25,
    "start_time": "2022-12-24T16:53:21.518Z"
   },
   {
    "duration": 91,
    "start_time": "2022-12-24T16:53:21.545Z"
   },
   {
    "duration": 79,
    "start_time": "2022-12-24T16:53:21.638Z"
   },
   {
    "duration": 35,
    "start_time": "2022-12-24T16:53:21.719Z"
   },
   {
    "duration": 4,
    "start_time": "2022-12-24T16:53:21.755Z"
   },
   {
    "duration": 64,
    "start_time": "2022-12-24T16:53:21.760Z"
   },
   {
    "duration": 31,
    "start_time": "2022-12-24T16:53:21.826Z"
   },
   {
    "duration": 70,
    "start_time": "2022-12-24T16:53:21.858Z"
   },
   {
    "duration": 17,
    "start_time": "2022-12-24T16:53:21.930Z"
   },
   {
    "duration": 220,
    "start_time": "2022-12-24T16:53:21.948Z"
   },
   {
    "duration": 4,
    "start_time": "2022-12-24T16:53:22.169Z"
   },
   {
    "duration": 1655,
    "start_time": "2022-12-24T16:53:22.174Z"
   },
   {
    "duration": 228,
    "start_time": "2022-12-24T16:53:23.831Z"
   },
   {
    "duration": 67,
    "start_time": "2022-12-24T16:53:24.060Z"
   },
   {
    "duration": 227,
    "start_time": "2022-12-24T16:53:24.212Z"
   },
   {
    "duration": 76,
    "start_time": "2022-12-24T16:53:24.441Z"
   },
   {
    "duration": 144,
    "start_time": "2022-12-24T16:53:24.519Z"
   },
   {
    "duration": 4,
    "start_time": "2022-12-24T16:53:24.665Z"
   },
   {
    "duration": 27,
    "start_time": "2022-12-24T16:53:24.673Z"
   },
   {
    "duration": 9,
    "start_time": "2022-12-24T16:53:24.702Z"
   },
   {
    "duration": 588,
    "start_time": "2022-12-24T16:53:24.715Z"
   },
   {
    "duration": 56,
    "start_time": "2022-12-24T16:53:25.305Z"
   },
   {
    "duration": 9,
    "start_time": "2022-12-24T16:53:25.362Z"
   },
   {
    "duration": 41,
    "start_time": "2022-12-24T16:53:25.373Z"
   },
   {
    "duration": 99,
    "start_time": "2022-12-24T16:53:25.416Z"
   },
   {
    "duration": 117,
    "start_time": "2022-12-24T16:53:25.519Z"
   },
   {
    "duration": 118,
    "start_time": "2022-12-24T16:53:25.637Z"
   },
   {
    "duration": 4,
    "start_time": "2022-12-24T16:53:25.757Z"
   },
   {
    "duration": 117,
    "start_time": "2022-12-24T16:53:25.763Z"
   },
   {
    "duration": 232,
    "start_time": "2022-12-24T16:53:25.882Z"
   },
   {
    "duration": 434,
    "start_time": "2022-12-24T16:53:26.116Z"
   },
   {
    "duration": 401,
    "start_time": "2022-12-24T16:53:26.613Z"
   },
   {
    "duration": 403,
    "start_time": "2022-12-24T16:53:27.016Z"
   },
   {
    "duration": 45,
    "start_time": "2022-12-24T16:53:27.421Z"
   },
   {
    "duration": 59,
    "start_time": "2022-12-24T16:53:27.468Z"
   },
   {
    "duration": 244,
    "start_time": "2022-12-24T16:53:27.530Z"
   },
   {
    "duration": 191,
    "start_time": "2022-12-24T16:53:27.775Z"
   },
   {
    "duration": 52,
    "start_time": "2022-12-24T16:53:27.967Z"
   },
   {
    "duration": 202,
    "start_time": "2022-12-24T16:53:28.023Z"
   },
   {
    "duration": 4,
    "start_time": "2022-12-24T16:53:28.226Z"
   },
   {
    "duration": 18,
    "start_time": "2022-12-24T16:53:28.313Z"
   },
   {
    "duration": 2151,
    "start_time": "2022-12-24T16:53:28.333Z"
   },
   {
    "duration": 1756,
    "start_time": "2022-12-24T16:53:30.485Z"
   },
   {
    "duration": 89,
    "start_time": "2022-12-24T16:53:32.243Z"
   },
   {
    "duration": 104,
    "start_time": "2022-12-24T16:53:32.334Z"
   },
   {
    "duration": 100,
    "start_time": "2022-12-24T16:53:32.439Z"
   },
   {
    "duration": 6,
    "start_time": "2022-12-24T16:53:32.540Z"
   },
   {
    "duration": 10,
    "start_time": "2022-12-24T16:53:32.548Z"
   },
   {
    "duration": 27,
    "start_time": "2022-12-24T16:53:32.560Z"
   },
   {
    "duration": 305,
    "start_time": "2022-12-24T16:53:32.589Z"
   },
   {
    "duration": 1946,
    "start_time": "2022-12-24T17:07:04.229Z"
   },
   {
    "duration": 52,
    "start_time": "2022-12-24T17:07:06.178Z"
   },
   {
    "duration": 18,
    "start_time": "2022-12-24T17:07:06.232Z"
   },
   {
    "duration": 18,
    "start_time": "2022-12-24T17:07:06.252Z"
   },
   {
    "duration": 8,
    "start_time": "2022-12-24T17:07:06.271Z"
   },
   {
    "duration": 19,
    "start_time": "2022-12-24T17:07:06.280Z"
   },
   {
    "duration": 32,
    "start_time": "2022-12-24T17:07:06.301Z"
   },
   {
    "duration": 26,
    "start_time": "2022-12-24T17:07:06.334Z"
   },
   {
    "duration": 17,
    "start_time": "2022-12-24T17:07:06.362Z"
   },
   {
    "duration": 9,
    "start_time": "2022-12-24T17:07:06.382Z"
   },
   {
    "duration": 48,
    "start_time": "2022-12-24T17:07:06.393Z"
   },
   {
    "duration": 17,
    "start_time": "2022-12-24T17:07:13.870Z"
   },
   {
    "duration": 33,
    "start_time": "2022-12-24T17:07:15.680Z"
   },
   {
    "duration": 3340,
    "start_time": "2022-12-24T17:07:50.719Z"
   },
   {
    "duration": 54,
    "start_time": "2022-12-24T17:07:54.061Z"
   },
   {
    "duration": 21,
    "start_time": "2022-12-24T17:07:54.117Z"
   },
   {
    "duration": 15,
    "start_time": "2022-12-24T17:07:54.141Z"
   },
   {
    "duration": 6,
    "start_time": "2022-12-24T17:07:54.157Z"
   },
   {
    "duration": 6,
    "start_time": "2022-12-24T17:07:54.164Z"
   },
   {
    "duration": 9,
    "start_time": "2022-12-24T17:07:54.171Z"
   },
   {
    "duration": 33,
    "start_time": "2022-12-24T17:07:54.181Z"
   },
   {
    "duration": 11,
    "start_time": "2022-12-24T17:07:54.215Z"
   },
   {
    "duration": 6,
    "start_time": "2022-12-24T17:07:54.229Z"
   },
   {
    "duration": 31,
    "start_time": "2022-12-24T17:07:54.236Z"
   },
   {
    "duration": 18,
    "start_time": "2022-12-24T17:07:54.268Z"
   },
   {
    "duration": 21,
    "start_time": "2022-12-24T17:07:57.734Z"
   },
   {
    "duration": 34,
    "start_time": "2022-12-24T17:08:01.134Z"
   },
   {
    "duration": 21,
    "start_time": "2022-12-24T17:11:57.425Z"
   },
   {
    "duration": 35,
    "start_time": "2022-12-24T17:11:59.045Z"
   },
   {
    "duration": 3371,
    "start_time": "2022-12-24T17:12:09.778Z"
   },
   {
    "duration": 50,
    "start_time": "2022-12-24T17:12:13.151Z"
   },
   {
    "duration": 31,
    "start_time": "2022-12-24T17:12:13.203Z"
   },
   {
    "duration": 15,
    "start_time": "2022-12-24T17:12:13.236Z"
   },
   {
    "duration": 7,
    "start_time": "2022-12-24T17:12:13.253Z"
   },
   {
    "duration": 4,
    "start_time": "2022-12-24T17:12:13.262Z"
   },
   {
    "duration": 14,
    "start_time": "2022-12-24T17:12:13.268Z"
   },
   {
    "duration": 20,
    "start_time": "2022-12-24T17:12:13.283Z"
   },
   {
    "duration": 4,
    "start_time": "2022-12-24T17:12:13.313Z"
   },
   {
    "duration": 14,
    "start_time": "2022-12-24T17:12:13.320Z"
   },
   {
    "duration": 33,
    "start_time": "2022-12-24T17:12:13.336Z"
   },
   {
    "duration": 18,
    "start_time": "2022-12-24T17:12:13.370Z"
   },
   {
    "duration": 51,
    "start_time": "2022-12-24T17:12:13.390Z"
   },
   {
    "duration": 4854,
    "start_time": "2022-12-25T06:04:41.195Z"
   },
   {
    "duration": 405,
    "start_time": "2022-12-25T06:04:46.051Z"
   },
   {
    "duration": 25,
    "start_time": "2022-12-25T06:04:46.458Z"
   },
   {
    "duration": 18,
    "start_time": "2022-12-25T06:04:46.486Z"
   },
   {
    "duration": 8,
    "start_time": "2022-12-25T06:04:46.505Z"
   },
   {
    "duration": 7,
    "start_time": "2022-12-25T06:04:46.552Z"
   },
   {
    "duration": 10,
    "start_time": "2022-12-25T06:04:46.561Z"
   },
   {
    "duration": 16,
    "start_time": "2022-12-25T06:04:46.572Z"
   },
   {
    "duration": 5,
    "start_time": "2022-12-25T06:04:46.591Z"
   },
   {
    "duration": 7,
    "start_time": "2022-12-25T06:04:46.598Z"
   },
   {
    "duration": 57,
    "start_time": "2022-12-25T06:04:46.607Z"
   },
   {
    "duration": 6,
    "start_time": "2022-12-25T06:04:46.665Z"
   },
   {
    "duration": 28,
    "start_time": "2022-12-25T06:04:46.796Z"
   },
   {
    "duration": 4,
    "start_time": "2022-12-25T06:04:46.826Z"
   },
   {
    "duration": 27,
    "start_time": "2022-12-25T06:04:46.832Z"
   },
   {
    "duration": 21,
    "start_time": "2022-12-25T06:04:46.861Z"
   },
   {
    "duration": 18,
    "start_time": "2022-12-25T06:04:46.884Z"
   },
   {
    "duration": 17,
    "start_time": "2022-12-25T06:04:46.904Z"
   },
   {
    "duration": 138,
    "start_time": "2022-12-25T06:04:48.995Z"
   },
   {
    "duration": 1,
    "start_time": "2022-12-25T06:04:49.135Z"
   },
   {
    "duration": 0,
    "start_time": "2022-12-25T06:04:49.137Z"
   },
   {
    "duration": 24,
    "start_time": "2022-12-25T06:04:50.760Z"
   },
   {
    "duration": 0,
    "start_time": "2022-12-25T06:04:50.786Z"
   },
   {
    "duration": 24,
    "start_time": "2022-12-25T06:04:52.515Z"
   },
   {
    "duration": 0,
    "start_time": "2022-12-25T06:04:52.540Z"
   },
   {
    "duration": 22,
    "start_time": "2022-12-25T06:04:54.156Z"
   },
   {
    "duration": 0,
    "start_time": "2022-12-25T06:04:54.180Z"
   },
   {
    "duration": 0,
    "start_time": "2022-12-25T06:04:54.181Z"
   },
   {
    "duration": 0,
    "start_time": "2022-12-25T06:04:54.182Z"
   },
   {
    "duration": 0,
    "start_time": "2022-12-25T06:04:54.183Z"
   },
   {
    "duration": 0,
    "start_time": "2022-12-25T06:04:54.184Z"
   },
   {
    "duration": 0,
    "start_time": "2022-12-25T06:04:54.185Z"
   },
   {
    "duration": 0,
    "start_time": "2022-12-25T06:04:54.187Z"
   },
   {
    "duration": 0,
    "start_time": "2022-12-25T06:04:54.188Z"
   },
   {
    "duration": 0,
    "start_time": "2022-12-25T06:04:54.189Z"
   },
   {
    "duration": 126,
    "start_time": "2022-12-25T06:04:54.260Z"
   },
   {
    "duration": 6,
    "start_time": "2022-12-25T06:04:54.388Z"
   },
   {
    "duration": 130,
    "start_time": "2022-12-25T06:04:54.396Z"
   },
   {
    "duration": 38,
    "start_time": "2022-12-25T06:04:54.528Z"
   },
   {
    "duration": 1,
    "start_time": "2022-12-25T06:04:54.567Z"
   },
   {
    "duration": 0,
    "start_time": "2022-12-25T06:04:54.569Z"
   },
   {
    "duration": 0,
    "start_time": "2022-12-25T06:04:54.570Z"
   },
   {
    "duration": 0,
    "start_time": "2022-12-25T06:04:54.571Z"
   },
   {
    "duration": 0,
    "start_time": "2022-12-25T06:04:54.572Z"
   },
   {
    "duration": 20,
    "start_time": "2022-12-25T06:04:54.876Z"
   },
   {
    "duration": 0,
    "start_time": "2022-12-25T06:04:54.897Z"
   },
   {
    "duration": 0,
    "start_time": "2022-12-25T06:04:54.898Z"
   },
   {
    "duration": 0,
    "start_time": "2022-12-25T06:04:54.899Z"
   },
   {
    "duration": 3,
    "start_time": "2022-12-25T06:04:56.519Z"
   },
   {
    "duration": 13,
    "start_time": "2022-12-25T06:04:56.524Z"
   },
   {
    "duration": 25,
    "start_time": "2022-12-25T06:04:57.099Z"
   },
   {
    "duration": 0,
    "start_time": "2022-12-25T06:04:57.125Z"
   },
   {
    "duration": 19,
    "start_time": "2022-12-25T06:04:58.396Z"
   },
   {
    "duration": 0,
    "start_time": "2022-12-25T06:04:58.417Z"
   },
   {
    "duration": 0,
    "start_time": "2022-12-25T06:04:58.419Z"
   },
   {
    "duration": 0,
    "start_time": "2022-12-25T06:04:58.419Z"
   },
   {
    "duration": 0,
    "start_time": "2022-12-25T06:04:58.421Z"
   },
   {
    "duration": 0,
    "start_time": "2022-12-25T06:04:58.422Z"
   },
   {
    "duration": 11,
    "start_time": "2022-12-25T06:04:58.815Z"
   },
   {
    "duration": 3681,
    "start_time": "2022-12-25T06:07:00.285Z"
   },
   {
    "duration": 54,
    "start_time": "2022-12-25T06:07:03.969Z"
   },
   {
    "duration": 24,
    "start_time": "2022-12-25T06:07:04.024Z"
   },
   {
    "duration": 16,
    "start_time": "2022-12-25T06:07:04.050Z"
   },
   {
    "duration": 7,
    "start_time": "2022-12-25T06:07:04.068Z"
   },
   {
    "duration": 7,
    "start_time": "2022-12-25T06:07:04.077Z"
   },
   {
    "duration": 7,
    "start_time": "2022-12-25T06:07:04.086Z"
   },
   {
    "duration": 11,
    "start_time": "2022-12-25T06:07:04.094Z"
   },
   {
    "duration": 5,
    "start_time": "2022-12-25T06:07:04.107Z"
   },
   {
    "duration": 5,
    "start_time": "2022-12-25T06:07:04.113Z"
   },
   {
    "duration": 60,
    "start_time": "2022-12-25T06:07:04.120Z"
   },
   {
    "duration": 5,
    "start_time": "2022-12-25T06:07:04.183Z"
   },
   {
    "duration": 0,
    "start_time": "2022-12-25T06:07:04.190Z"
   },
   {
    "duration": 0,
    "start_time": "2022-12-25T06:07:04.191Z"
   },
   {
    "duration": 0,
    "start_time": "2022-12-25T06:07:04.192Z"
   },
   {
    "duration": 0,
    "start_time": "2022-12-25T06:07:04.193Z"
   },
   {
    "duration": 0,
    "start_time": "2022-12-25T06:07:04.194Z"
   },
   {
    "duration": 0,
    "start_time": "2022-12-25T06:07:04.196Z"
   },
   {
    "duration": 0,
    "start_time": "2022-12-25T06:07:04.197Z"
   },
   {
    "duration": 0,
    "start_time": "2022-12-25T06:07:04.198Z"
   },
   {
    "duration": 0,
    "start_time": "2022-12-25T06:07:04.199Z"
   },
   {
    "duration": 0,
    "start_time": "2022-12-25T06:07:04.201Z"
   },
   {
    "duration": 0,
    "start_time": "2022-12-25T06:07:04.202Z"
   },
   {
    "duration": 0,
    "start_time": "2022-12-25T06:07:04.204Z"
   },
   {
    "duration": 0,
    "start_time": "2022-12-25T06:07:04.251Z"
   },
   {
    "duration": 0,
    "start_time": "2022-12-25T06:07:04.252Z"
   },
   {
    "duration": 0,
    "start_time": "2022-12-25T06:07:04.253Z"
   },
   {
    "duration": 112,
    "start_time": "2022-12-25T06:07:33.691Z"
   },
   {
    "duration": 0,
    "start_time": "2022-12-25T06:07:33.805Z"
   },
   {
    "duration": 0,
    "start_time": "2022-12-25T06:07:33.806Z"
   },
   {
    "duration": 0,
    "start_time": "2022-12-25T06:07:33.808Z"
   },
   {
    "duration": 0,
    "start_time": "2022-12-25T06:07:33.809Z"
   },
   {
    "duration": 0,
    "start_time": "2022-12-25T06:07:33.810Z"
   },
   {
    "duration": 0,
    "start_time": "2022-12-25T06:07:33.811Z"
   },
   {
    "duration": 0,
    "start_time": "2022-12-25T06:07:33.812Z"
   },
   {
    "duration": 0,
    "start_time": "2022-12-25T06:07:33.813Z"
   },
   {
    "duration": 0,
    "start_time": "2022-12-25T06:07:33.814Z"
   },
   {
    "duration": 0,
    "start_time": "2022-12-25T06:07:33.815Z"
   },
   {
    "duration": 9,
    "start_time": "2022-12-25T06:07:34.210Z"
   },
   {
    "duration": 0,
    "start_time": "2022-12-25T06:07:34.221Z"
   },
   {
    "duration": 3700,
    "start_time": "2022-12-25T06:09:25.768Z"
   },
   {
    "duration": 55,
    "start_time": "2022-12-25T06:09:29.470Z"
   },
   {
    "duration": 29,
    "start_time": "2022-12-25T06:09:29.527Z"
   },
   {
    "duration": 24,
    "start_time": "2022-12-25T06:09:29.559Z"
   },
   {
    "duration": 12,
    "start_time": "2022-12-25T06:09:29.585Z"
   },
   {
    "duration": 12,
    "start_time": "2022-12-25T06:09:29.599Z"
   },
   {
    "duration": 14,
    "start_time": "2022-12-25T06:09:29.613Z"
   },
   {
    "duration": 33,
    "start_time": "2022-12-25T06:09:29.630Z"
   },
   {
    "duration": 6,
    "start_time": "2022-12-25T06:09:29.665Z"
   },
   {
    "duration": 18,
    "start_time": "2022-12-25T06:09:29.675Z"
   },
   {
    "duration": 57,
    "start_time": "2022-12-25T06:09:29.696Z"
   },
   {
    "duration": 187,
    "start_time": "2022-12-25T06:09:29.756Z"
   },
   {
    "duration": 0,
    "start_time": "2022-12-25T06:09:29.951Z"
   },
   {
    "duration": 0,
    "start_time": "2022-12-25T06:09:29.952Z"
   },
   {
    "duration": 0,
    "start_time": "2022-12-25T06:09:29.954Z"
   },
   {
    "duration": 1,
    "start_time": "2022-12-25T06:09:29.955Z"
   },
   {
    "duration": 0,
    "start_time": "2022-12-25T06:09:29.957Z"
   },
   {
    "duration": 0,
    "start_time": "2022-12-25T06:09:29.958Z"
   },
   {
    "duration": 0,
    "start_time": "2022-12-25T06:09:29.960Z"
   },
   {
    "duration": 0,
    "start_time": "2022-12-25T06:09:29.961Z"
   },
   {
    "duration": 0,
    "start_time": "2022-12-25T06:09:29.962Z"
   },
   {
    "duration": 0,
    "start_time": "2022-12-25T06:09:29.964Z"
   },
   {
    "duration": 0,
    "start_time": "2022-12-25T06:09:29.965Z"
   },
   {
    "duration": 0,
    "start_time": "2022-12-25T06:09:29.966Z"
   },
   {
    "duration": 0,
    "start_time": "2022-12-25T06:09:29.968Z"
   },
   {
    "duration": 0,
    "start_time": "2022-12-25T06:09:29.969Z"
   },
   {
    "duration": 0,
    "start_time": "2022-12-25T06:09:29.970Z"
   },
   {
    "duration": 0,
    "start_time": "2022-12-25T06:09:29.972Z"
   },
   {
    "duration": 0,
    "start_time": "2022-12-25T06:09:29.974Z"
   },
   {
    "duration": 0,
    "start_time": "2022-12-25T06:09:29.975Z"
   },
   {
    "duration": 0,
    "start_time": "2022-12-25T06:09:29.976Z"
   },
   {
    "duration": 0,
    "start_time": "2022-12-25T06:09:29.977Z"
   },
   {
    "duration": 0,
    "start_time": "2022-12-25T06:09:29.978Z"
   },
   {
    "duration": 0,
    "start_time": "2022-12-25T06:09:29.979Z"
   },
   {
    "duration": 0,
    "start_time": "2022-12-25T06:09:29.981Z"
   },
   {
    "duration": 0,
    "start_time": "2022-12-25T06:09:29.982Z"
   },
   {
    "duration": 0,
    "start_time": "2022-12-25T06:09:29.983Z"
   },
   {
    "duration": 0,
    "start_time": "2022-12-25T06:09:29.985Z"
   },
   {
    "duration": 0,
    "start_time": "2022-12-25T06:09:29.986Z"
   },
   {
    "duration": 0,
    "start_time": "2022-12-25T06:09:29.988Z"
   },
   {
    "duration": 0,
    "start_time": "2022-12-25T06:09:29.990Z"
   },
   {
    "duration": 0,
    "start_time": "2022-12-25T06:09:30.052Z"
   },
   {
    "duration": 0,
    "start_time": "2022-12-25T06:09:30.053Z"
   },
   {
    "duration": 0,
    "start_time": "2022-12-25T06:09:30.055Z"
   },
   {
    "duration": 0,
    "start_time": "2022-12-25T06:09:30.056Z"
   },
   {
    "duration": 0,
    "start_time": "2022-12-25T06:09:30.057Z"
   },
   {
    "duration": 0,
    "start_time": "2022-12-25T06:09:30.059Z"
   },
   {
    "duration": 0,
    "start_time": "2022-12-25T06:09:30.060Z"
   },
   {
    "duration": 0,
    "start_time": "2022-12-25T06:09:30.061Z"
   },
   {
    "duration": 0,
    "start_time": "2022-12-25T06:09:30.062Z"
   },
   {
    "duration": 1,
    "start_time": "2022-12-25T06:09:30.063Z"
   },
   {
    "duration": 0,
    "start_time": "2022-12-25T06:09:30.065Z"
   },
   {
    "duration": 0,
    "start_time": "2022-12-25T06:09:30.066Z"
   },
   {
    "duration": 0,
    "start_time": "2022-12-25T06:09:30.067Z"
   },
   {
    "duration": 0,
    "start_time": "2022-12-25T06:09:30.069Z"
   },
   {
    "duration": 0,
    "start_time": "2022-12-25T06:09:30.069Z"
   },
   {
    "duration": 0,
    "start_time": "2022-12-25T06:09:30.071Z"
   },
   {
    "duration": 0,
    "start_time": "2022-12-25T06:09:30.072Z"
   },
   {
    "duration": 0,
    "start_time": "2022-12-25T06:09:30.073Z"
   },
   {
    "duration": 3588,
    "start_time": "2022-12-25T06:15:21.009Z"
   },
   {
    "duration": 55,
    "start_time": "2022-12-25T06:15:24.599Z"
   },
   {
    "duration": 21,
    "start_time": "2022-12-25T06:15:24.656Z"
   },
   {
    "duration": 19,
    "start_time": "2022-12-25T06:15:24.678Z"
   },
   {
    "duration": 12,
    "start_time": "2022-12-25T06:15:24.699Z"
   },
   {
    "duration": 38,
    "start_time": "2022-12-25T06:15:24.713Z"
   },
   {
    "duration": 6,
    "start_time": "2022-12-25T06:15:24.753Z"
   },
   {
    "duration": 12,
    "start_time": "2022-12-25T06:15:24.761Z"
   },
   {
    "duration": 5,
    "start_time": "2022-12-25T06:15:24.774Z"
   },
   {
    "duration": 6,
    "start_time": "2022-12-25T06:15:24.781Z"
   },
   {
    "duration": 31,
    "start_time": "2022-12-25T06:15:24.789Z"
   },
   {
    "duration": 129,
    "start_time": "2022-12-25T06:15:24.852Z"
   },
   {
    "duration": 0,
    "start_time": "2022-12-25T06:15:24.984Z"
   },
   {
    "duration": 0,
    "start_time": "2022-12-25T06:15:24.985Z"
   },
   {
    "duration": 0,
    "start_time": "2022-12-25T06:15:24.986Z"
   },
   {
    "duration": 0,
    "start_time": "2022-12-25T06:15:24.987Z"
   },
   {
    "duration": 0,
    "start_time": "2022-12-25T06:15:24.988Z"
   },
   {
    "duration": 0,
    "start_time": "2022-12-25T06:15:24.989Z"
   },
   {
    "duration": 0,
    "start_time": "2022-12-25T06:15:24.990Z"
   },
   {
    "duration": 0,
    "start_time": "2022-12-25T06:15:24.991Z"
   },
   {
    "duration": 0,
    "start_time": "2022-12-25T06:15:24.992Z"
   },
   {
    "duration": 0,
    "start_time": "2022-12-25T06:15:24.993Z"
   },
   {
    "duration": 0,
    "start_time": "2022-12-25T06:15:24.994Z"
   },
   {
    "duration": 0,
    "start_time": "2022-12-25T06:15:24.996Z"
   },
   {
    "duration": 1,
    "start_time": "2022-12-25T06:15:24.996Z"
   },
   {
    "duration": 0,
    "start_time": "2022-12-25T06:15:24.998Z"
   },
   {
    "duration": 0,
    "start_time": "2022-12-25T06:15:25.051Z"
   },
   {
    "duration": 0,
    "start_time": "2022-12-25T06:15:25.053Z"
   },
   {
    "duration": 0,
    "start_time": "2022-12-25T06:15:25.054Z"
   },
   {
    "duration": 0,
    "start_time": "2022-12-25T06:15:25.055Z"
   },
   {
    "duration": 0,
    "start_time": "2022-12-25T06:15:25.057Z"
   },
   {
    "duration": 0,
    "start_time": "2022-12-25T06:15:25.058Z"
   },
   {
    "duration": 0,
    "start_time": "2022-12-25T06:15:25.059Z"
   },
   {
    "duration": 0,
    "start_time": "2022-12-25T06:15:25.060Z"
   },
   {
    "duration": 0,
    "start_time": "2022-12-25T06:15:25.061Z"
   },
   {
    "duration": 0,
    "start_time": "2022-12-25T06:15:25.062Z"
   },
   {
    "duration": 0,
    "start_time": "2022-12-25T06:15:25.064Z"
   },
   {
    "duration": 0,
    "start_time": "2022-12-25T06:15:25.065Z"
   },
   {
    "duration": 0,
    "start_time": "2022-12-25T06:15:25.066Z"
   },
   {
    "duration": 0,
    "start_time": "2022-12-25T06:15:25.068Z"
   },
   {
    "duration": 0,
    "start_time": "2022-12-25T06:15:25.069Z"
   },
   {
    "duration": 0,
    "start_time": "2022-12-25T06:15:25.070Z"
   },
   {
    "duration": 0,
    "start_time": "2022-12-25T06:15:25.071Z"
   },
   {
    "duration": 0,
    "start_time": "2022-12-25T06:15:25.072Z"
   },
   {
    "duration": 0,
    "start_time": "2022-12-25T06:15:25.073Z"
   },
   {
    "duration": 0,
    "start_time": "2022-12-25T06:15:25.074Z"
   },
   {
    "duration": 0,
    "start_time": "2022-12-25T06:15:25.076Z"
   },
   {
    "duration": 0,
    "start_time": "2022-12-25T06:15:25.077Z"
   },
   {
    "duration": 0,
    "start_time": "2022-12-25T06:15:25.077Z"
   },
   {
    "duration": 0,
    "start_time": "2022-12-25T06:15:25.079Z"
   },
   {
    "duration": 0,
    "start_time": "2022-12-25T06:15:25.080Z"
   },
   {
    "duration": 0,
    "start_time": "2022-12-25T06:15:25.081Z"
   },
   {
    "duration": 0,
    "start_time": "2022-12-25T06:15:25.082Z"
   },
   {
    "duration": 0,
    "start_time": "2022-12-25T06:15:25.083Z"
   },
   {
    "duration": 0,
    "start_time": "2022-12-25T06:15:25.084Z"
   },
   {
    "duration": 0,
    "start_time": "2022-12-25T06:15:25.085Z"
   },
   {
    "duration": 0,
    "start_time": "2022-12-25T06:15:25.086Z"
   },
   {
    "duration": 0,
    "start_time": "2022-12-25T06:15:25.087Z"
   },
   {
    "duration": 0,
    "start_time": "2022-12-25T06:15:25.151Z"
   },
   {
    "duration": 15,
    "start_time": "2022-12-25T06:17:11.387Z"
   },
   {
    "duration": 15,
    "start_time": "2022-12-25T06:18:14.435Z"
   },
   {
    "duration": 30,
    "start_time": "2022-12-25T06:18:35.196Z"
   },
   {
    "duration": 3767,
    "start_time": "2022-12-25T06:18:45.435Z"
   },
   {
    "duration": 71,
    "start_time": "2022-12-25T06:18:49.205Z"
   },
   {
    "duration": 27,
    "start_time": "2022-12-25T06:18:49.279Z"
   },
   {
    "duration": 31,
    "start_time": "2022-12-25T06:18:49.308Z"
   },
   {
    "duration": 8,
    "start_time": "2022-12-25T06:18:49.351Z"
   },
   {
    "duration": 21,
    "start_time": "2022-12-25T06:18:49.360Z"
   },
   {
    "duration": 16,
    "start_time": "2022-12-25T06:18:49.383Z"
   },
   {
    "duration": 18,
    "start_time": "2022-12-25T06:18:49.401Z"
   },
   {
    "duration": 19,
    "start_time": "2022-12-25T06:18:49.420Z"
   },
   {
    "duration": 9,
    "start_time": "2022-12-25T06:18:49.442Z"
   },
   {
    "duration": 51,
    "start_time": "2022-12-25T06:18:49.453Z"
   },
   {
    "duration": 25,
    "start_time": "2022-12-25T06:18:49.506Z"
   },
   {
    "duration": 37,
    "start_time": "2022-12-25T06:18:49.533Z"
   },
   {
    "duration": 25,
    "start_time": "2022-12-25T06:18:49.572Z"
   },
   {
    "duration": 36,
    "start_time": "2022-12-25T06:18:49.599Z"
   },
   {
    "duration": 61,
    "start_time": "2022-12-25T06:18:49.637Z"
   },
   {
    "duration": 35,
    "start_time": "2022-12-25T06:18:49.700Z"
   },
   {
    "duration": 45,
    "start_time": "2022-12-25T06:18:49.738Z"
   },
   {
    "duration": 278,
    "start_time": "2022-12-25T06:18:49.785Z"
   },
   {
    "duration": 4,
    "start_time": "2022-12-25T06:18:50.065Z"
   },
   {
    "duration": 2126,
    "start_time": "2022-12-25T06:18:50.072Z"
   },
   {
    "duration": 353,
    "start_time": "2022-12-25T06:18:52.200Z"
   },
   {
    "duration": 95,
    "start_time": "2022-12-25T06:18:52.561Z"
   },
   {
    "duration": 293,
    "start_time": "2022-12-25T06:18:52.659Z"
   },
   {
    "duration": 97,
    "start_time": "2022-12-25T06:18:52.955Z"
   },
   {
    "duration": 46,
    "start_time": "2022-12-25T06:18:53.055Z"
   },
   {
    "duration": 4,
    "start_time": "2022-12-25T06:18:53.103Z"
   },
   {
    "duration": 51,
    "start_time": "2022-12-25T06:18:53.112Z"
   },
   {
    "duration": 11,
    "start_time": "2022-12-25T06:18:53.165Z"
   },
   {
    "duration": 683,
    "start_time": "2022-12-25T06:18:53.178Z"
   },
   {
    "duration": 59,
    "start_time": "2022-12-25T06:18:53.863Z"
   },
   {
    "duration": 32,
    "start_time": "2022-12-25T06:18:53.923Z"
   },
   {
    "duration": 25,
    "start_time": "2022-12-25T06:18:53.957Z"
   },
   {
    "duration": 113,
    "start_time": "2022-12-25T06:18:54.052Z"
   },
   {
    "duration": 12,
    "start_time": "2022-12-25T06:18:54.252Z"
   },
   {
    "duration": 149,
    "start_time": "2022-12-25T06:18:54.266Z"
   },
   {
    "duration": 6,
    "start_time": "2022-12-25T06:18:54.417Z"
   },
   {
    "duration": 142,
    "start_time": "2022-12-25T06:18:54.425Z"
   },
   {
    "duration": 283,
    "start_time": "2022-12-25T06:18:54.569Z"
   },
   {
    "duration": 426,
    "start_time": "2022-12-25T06:18:54.854Z"
   },
   {
    "duration": 474,
    "start_time": "2022-12-25T06:18:55.283Z"
   },
   {
    "duration": 508,
    "start_time": "2022-12-25T06:18:55.759Z"
   },
   {
    "duration": 43,
    "start_time": "2022-12-25T06:18:56.269Z"
   },
   {
    "duration": 64,
    "start_time": "2022-12-25T06:18:56.314Z"
   },
   {
    "duration": 296,
    "start_time": "2022-12-25T06:18:56.380Z"
   },
   {
    "duration": 239,
    "start_time": "2022-12-25T06:18:56.678Z"
   },
   {
    "duration": 42,
    "start_time": "2022-12-25T06:18:56.919Z"
   },
   {
    "duration": 304,
    "start_time": "2022-12-25T06:18:57.052Z"
   },
   {
    "duration": 4,
    "start_time": "2022-12-25T06:18:57.357Z"
   },
   {
    "duration": 11,
    "start_time": "2022-12-25T06:18:57.362Z"
   },
   {
    "duration": 2664,
    "start_time": "2022-12-25T06:18:57.374Z"
   },
   {
    "duration": 2136,
    "start_time": "2022-12-25T06:19:00.051Z"
   },
   {
    "duration": 106,
    "start_time": "2022-12-25T06:19:02.189Z"
   },
   {
    "duration": 137,
    "start_time": "2022-12-25T06:19:02.297Z"
   },
   {
    "duration": 138,
    "start_time": "2022-12-25T06:19:02.436Z"
   },
   {
    "duration": 6,
    "start_time": "2022-12-25T06:19:02.576Z"
   },
   {
    "duration": 41,
    "start_time": "2022-12-25T06:19:02.584Z"
   },
   {
    "duration": 45,
    "start_time": "2022-12-25T06:19:02.627Z"
   },
   {
    "duration": 310,
    "start_time": "2022-12-25T06:19:02.674Z"
   },
   {
    "duration": 3969,
    "start_time": "2022-12-25T06:24:02.220Z"
   },
   {
    "duration": 93,
    "start_time": "2022-12-25T06:24:06.192Z"
   },
   {
    "duration": 78,
    "start_time": "2022-12-25T06:24:06.287Z"
   },
   {
    "duration": 19,
    "start_time": "2022-12-25T06:24:06.367Z"
   },
   {
    "duration": 63,
    "start_time": "2022-12-25T06:24:06.388Z"
   },
   {
    "duration": 3,
    "start_time": "2022-12-25T06:24:06.453Z"
   },
   {
    "duration": 8,
    "start_time": "2022-12-25T06:24:06.457Z"
   },
   {
    "duration": 13,
    "start_time": "2022-12-25T06:24:06.467Z"
   },
   {
    "duration": 5,
    "start_time": "2022-12-25T06:24:06.482Z"
   },
   {
    "duration": 5,
    "start_time": "2022-12-25T06:24:06.488Z"
   },
   {
    "duration": 83,
    "start_time": "2022-12-25T06:24:06.495Z"
   },
   {
    "duration": 81,
    "start_time": "2022-12-25T06:24:06.580Z"
   },
   {
    "duration": 28,
    "start_time": "2022-12-25T06:24:06.663Z"
   },
   {
    "duration": 59,
    "start_time": "2022-12-25T06:24:06.694Z"
   },
   {
    "duration": 21,
    "start_time": "2022-12-25T06:24:06.755Z"
   },
   {
    "duration": 21,
    "start_time": "2022-12-25T06:24:06.777Z"
   },
   {
    "duration": 18,
    "start_time": "2022-12-25T06:24:06.851Z"
   },
   {
    "duration": 18,
    "start_time": "2022-12-25T06:24:06.871Z"
   },
   {
    "duration": 476,
    "start_time": "2022-12-25T06:24:06.890Z"
   },
   {
    "duration": 4,
    "start_time": "2022-12-25T06:24:07.368Z"
   },
   {
    "duration": 2000,
    "start_time": "2022-12-25T06:24:07.374Z"
   },
   {
    "duration": 277,
    "start_time": "2022-12-25T06:24:09.375Z"
   },
   {
    "duration": 96,
    "start_time": "2022-12-25T06:24:09.656Z"
   },
   {
    "duration": 405,
    "start_time": "2022-12-25T06:24:09.755Z"
   },
   {
    "duration": 7,
    "start_time": "2022-12-25T06:24:10.250Z"
   },
   {
    "duration": 44,
    "start_time": "2022-12-25T06:24:10.259Z"
   },
   {
    "duration": 48,
    "start_time": "2022-12-25T06:24:10.305Z"
   },
   {
    "duration": 22,
    "start_time": "2022-12-25T06:24:10.354Z"
   },
   {
    "duration": 11,
    "start_time": "2022-12-25T06:24:10.377Z"
   },
   {
    "duration": 713,
    "start_time": "2022-12-25T06:24:10.389Z"
   },
   {
    "duration": 72,
    "start_time": "2022-12-25T06:24:11.104Z"
   },
   {
    "duration": 10,
    "start_time": "2022-12-25T06:24:11.178Z"
   },
   {
    "duration": 65,
    "start_time": "2022-12-25T06:24:11.190Z"
   },
   {
    "duration": 193,
    "start_time": "2022-12-25T06:24:11.258Z"
   },
   {
    "duration": 103,
    "start_time": "2022-12-25T06:24:11.454Z"
   },
   {
    "duration": 149,
    "start_time": "2022-12-25T06:24:11.559Z"
   },
   {
    "duration": 7,
    "start_time": "2022-12-25T06:24:11.710Z"
   },
   {
    "duration": 148,
    "start_time": "2022-12-25T06:24:11.719Z"
   },
   {
    "duration": 285,
    "start_time": "2022-12-25T06:24:11.869Z"
   },
   {
    "duration": 420,
    "start_time": "2022-12-25T06:24:12.159Z"
   },
   {
    "duration": 343,
    "start_time": "2022-12-25T06:24:12.657Z"
   },
   {
    "duration": 487,
    "start_time": "2022-12-25T06:24:13.052Z"
   },
   {
    "duration": 49,
    "start_time": "2022-12-25T06:24:13.540Z"
   },
   {
    "duration": 39,
    "start_time": "2022-12-25T06:24:13.590Z"
   },
   {
    "duration": 308,
    "start_time": "2022-12-25T06:24:13.630Z"
   },
   {
    "duration": 228,
    "start_time": "2022-12-25T06:24:13.940Z"
   },
   {
    "duration": 86,
    "start_time": "2022-12-25T06:24:14.170Z"
   },
   {
    "duration": 304,
    "start_time": "2022-12-25T06:24:14.258Z"
   },
   {
    "duration": 3,
    "start_time": "2022-12-25T06:24:14.564Z"
   },
   {
    "duration": 10,
    "start_time": "2022-12-25T06:24:14.568Z"
   },
   {
    "duration": 2633,
    "start_time": "2022-12-25T06:24:14.580Z"
   },
   {
    "duration": 1985,
    "start_time": "2022-12-25T06:24:17.215Z"
   },
   {
    "duration": 114,
    "start_time": "2022-12-25T06:24:19.203Z"
   },
   {
    "duration": 123,
    "start_time": "2022-12-25T06:24:19.319Z"
   },
   {
    "duration": 120,
    "start_time": "2022-12-25T06:24:19.444Z"
   },
   {
    "duration": 6,
    "start_time": "2022-12-25T06:24:19.566Z"
   },
   {
    "duration": 14,
    "start_time": "2022-12-25T06:24:19.574Z"
   },
   {
    "duration": 37,
    "start_time": "2022-12-25T06:24:19.590Z"
   },
   {
    "duration": 341,
    "start_time": "2022-12-25T06:24:19.629Z"
   },
   {
    "duration": 128,
    "start_time": "2022-12-25T06:31:02.246Z"
   },
   {
    "duration": 16,
    "start_time": "2022-12-25T06:31:51.375Z"
   },
   {
    "duration": 3721,
    "start_time": "2022-12-25T06:33:11.975Z"
   },
   {
    "duration": 56,
    "start_time": "2022-12-25T06:33:15.699Z"
   },
   {
    "duration": 22,
    "start_time": "2022-12-25T06:33:15.757Z"
   },
   {
    "duration": 19,
    "start_time": "2022-12-25T06:33:15.781Z"
   },
   {
    "duration": 11,
    "start_time": "2022-12-25T06:33:15.802Z"
   },
   {
    "duration": 37,
    "start_time": "2022-12-25T06:33:15.814Z"
   },
   {
    "duration": 16,
    "start_time": "2022-12-25T06:33:15.852Z"
   },
   {
    "duration": 14,
    "start_time": "2022-12-25T06:33:15.869Z"
   },
   {
    "duration": 6,
    "start_time": "2022-12-25T06:33:15.884Z"
   },
   {
    "duration": 5,
    "start_time": "2022-12-25T06:33:15.893Z"
   },
   {
    "duration": 71,
    "start_time": "2022-12-25T06:33:15.900Z"
   },
   {
    "duration": 12,
    "start_time": "2022-12-25T06:33:15.973Z"
   },
   {
    "duration": 81,
    "start_time": "2022-12-25T06:33:15.986Z"
   },
   {
    "duration": 3,
    "start_time": "2022-12-25T06:33:16.068Z"
   },
   {
    "duration": 14,
    "start_time": "2022-12-25T06:33:16.073Z"
   },
   {
    "duration": 73,
    "start_time": "2022-12-25T06:33:16.088Z"
   },
   {
    "duration": 19,
    "start_time": "2022-12-25T06:33:16.163Z"
   },
   {
    "duration": 83,
    "start_time": "2022-12-25T06:33:16.183Z"
   },
   {
    "duration": 293,
    "start_time": "2022-12-25T06:33:16.268Z"
   },
   {
    "duration": 0,
    "start_time": "2022-12-25T06:33:16.564Z"
   },
   {
    "duration": 0,
    "start_time": "2022-12-25T06:33:16.566Z"
   },
   {
    "duration": 0,
    "start_time": "2022-12-25T06:33:16.568Z"
   },
   {
    "duration": 0,
    "start_time": "2022-12-25T06:33:16.569Z"
   },
   {
    "duration": 0,
    "start_time": "2022-12-25T06:33:16.570Z"
   },
   {
    "duration": 0,
    "start_time": "2022-12-25T06:33:16.572Z"
   },
   {
    "duration": 0,
    "start_time": "2022-12-25T06:33:16.573Z"
   },
   {
    "duration": 0,
    "start_time": "2022-12-25T06:33:16.574Z"
   },
   {
    "duration": 0,
    "start_time": "2022-12-25T06:33:16.575Z"
   },
   {
    "duration": 0,
    "start_time": "2022-12-25T06:33:16.576Z"
   },
   {
    "duration": 0,
    "start_time": "2022-12-25T06:33:16.577Z"
   },
   {
    "duration": 0,
    "start_time": "2022-12-25T06:33:16.578Z"
   },
   {
    "duration": 0,
    "start_time": "2022-12-25T06:33:16.579Z"
   },
   {
    "duration": 0,
    "start_time": "2022-12-25T06:33:16.580Z"
   },
   {
    "duration": 0,
    "start_time": "2022-12-25T06:33:16.580Z"
   },
   {
    "duration": 0,
    "start_time": "2022-12-25T06:33:16.581Z"
   },
   {
    "duration": 0,
    "start_time": "2022-12-25T06:33:16.582Z"
   },
   {
    "duration": 0,
    "start_time": "2022-12-25T06:33:16.583Z"
   },
   {
    "duration": 0,
    "start_time": "2022-12-25T06:33:16.584Z"
   },
   {
    "duration": 0,
    "start_time": "2022-12-25T06:33:16.585Z"
   },
   {
    "duration": 0,
    "start_time": "2022-12-25T06:33:16.586Z"
   },
   {
    "duration": 0,
    "start_time": "2022-12-25T06:33:16.587Z"
   },
   {
    "duration": 0,
    "start_time": "2022-12-25T06:33:16.588Z"
   },
   {
    "duration": 0,
    "start_time": "2022-12-25T06:33:16.589Z"
   },
   {
    "duration": 0,
    "start_time": "2022-12-25T06:33:16.590Z"
   },
   {
    "duration": 0,
    "start_time": "2022-12-25T06:33:16.591Z"
   },
   {
    "duration": 0,
    "start_time": "2022-12-25T06:33:16.651Z"
   },
   {
    "duration": 0,
    "start_time": "2022-12-25T06:33:16.652Z"
   },
   {
    "duration": 0,
    "start_time": "2022-12-25T06:33:16.653Z"
   },
   {
    "duration": 0,
    "start_time": "2022-12-25T06:33:16.654Z"
   },
   {
    "duration": 0,
    "start_time": "2022-12-25T06:33:16.655Z"
   },
   {
    "duration": 0,
    "start_time": "2022-12-25T06:33:16.656Z"
   },
   {
    "duration": 0,
    "start_time": "2022-12-25T06:33:16.658Z"
   },
   {
    "duration": 0,
    "start_time": "2022-12-25T06:33:16.658Z"
   },
   {
    "duration": 0,
    "start_time": "2022-12-25T06:33:16.659Z"
   },
   {
    "duration": 0,
    "start_time": "2022-12-25T06:33:16.661Z"
   },
   {
    "duration": 0,
    "start_time": "2022-12-25T06:33:16.662Z"
   },
   {
    "duration": 0,
    "start_time": "2022-12-25T06:33:16.663Z"
   },
   {
    "duration": 0,
    "start_time": "2022-12-25T06:33:16.664Z"
   },
   {
    "duration": 0,
    "start_time": "2022-12-25T06:33:16.665Z"
   },
   {
    "duration": 17,
    "start_time": "2022-12-25T06:34:19.410Z"
   },
   {
    "duration": 3793,
    "start_time": "2022-12-25T06:34:26.648Z"
   },
   {
    "duration": 55,
    "start_time": "2022-12-25T06:34:30.443Z"
   },
   {
    "duration": 20,
    "start_time": "2022-12-25T06:34:30.500Z"
   },
   {
    "duration": 32,
    "start_time": "2022-12-25T06:34:30.522Z"
   },
   {
    "duration": 30,
    "start_time": "2022-12-25T06:34:30.556Z"
   },
   {
    "duration": 51,
    "start_time": "2022-12-25T06:34:30.587Z"
   },
   {
    "duration": 33,
    "start_time": "2022-12-25T06:34:30.641Z"
   },
   {
    "duration": 40,
    "start_time": "2022-12-25T06:34:30.676Z"
   },
   {
    "duration": 14,
    "start_time": "2022-12-25T06:34:30.717Z"
   },
   {
    "duration": 46,
    "start_time": "2022-12-25T06:34:30.733Z"
   },
   {
    "duration": 64,
    "start_time": "2022-12-25T06:34:30.780Z"
   },
   {
    "duration": 125,
    "start_time": "2022-12-25T06:34:30.846Z"
   },
   {
    "duration": 0,
    "start_time": "2022-12-25T06:34:30.974Z"
   },
   {
    "duration": 0,
    "start_time": "2022-12-25T06:34:30.975Z"
   },
   {
    "duration": 0,
    "start_time": "2022-12-25T06:34:30.976Z"
   },
   {
    "duration": 0,
    "start_time": "2022-12-25T06:34:30.977Z"
   },
   {
    "duration": 0,
    "start_time": "2022-12-25T06:34:30.978Z"
   },
   {
    "duration": 0,
    "start_time": "2022-12-25T06:34:30.979Z"
   },
   {
    "duration": 0,
    "start_time": "2022-12-25T06:34:30.981Z"
   },
   {
    "duration": 0,
    "start_time": "2022-12-25T06:34:30.981Z"
   },
   {
    "duration": 0,
    "start_time": "2022-12-25T06:34:30.983Z"
   },
   {
    "duration": 0,
    "start_time": "2022-12-25T06:34:30.984Z"
   },
   {
    "duration": 0,
    "start_time": "2022-12-25T06:34:30.985Z"
   },
   {
    "duration": 0,
    "start_time": "2022-12-25T06:34:30.986Z"
   },
   {
    "duration": 0,
    "start_time": "2022-12-25T06:34:30.987Z"
   },
   {
    "duration": 0,
    "start_time": "2022-12-25T06:34:30.989Z"
   },
   {
    "duration": 0,
    "start_time": "2022-12-25T06:34:30.990Z"
   },
   {
    "duration": 0,
    "start_time": "2022-12-25T06:34:30.991Z"
   },
   {
    "duration": 0,
    "start_time": "2022-12-25T06:34:30.992Z"
   },
   {
    "duration": 0,
    "start_time": "2022-12-25T06:34:30.993Z"
   },
   {
    "duration": 0,
    "start_time": "2022-12-25T06:34:30.995Z"
   },
   {
    "duration": 0,
    "start_time": "2022-12-25T06:34:30.995Z"
   },
   {
    "duration": 0,
    "start_time": "2022-12-25T06:34:30.996Z"
   },
   {
    "duration": 0,
    "start_time": "2022-12-25T06:34:30.997Z"
   },
   {
    "duration": 0,
    "start_time": "2022-12-25T06:34:30.998Z"
   },
   {
    "duration": 0,
    "start_time": "2022-12-25T06:34:31.000Z"
   },
   {
    "duration": 0,
    "start_time": "2022-12-25T06:34:31.051Z"
   },
   {
    "duration": 0,
    "start_time": "2022-12-25T06:34:31.052Z"
   },
   {
    "duration": 0,
    "start_time": "2022-12-25T06:34:31.053Z"
   },
   {
    "duration": 0,
    "start_time": "2022-12-25T06:34:31.054Z"
   },
   {
    "duration": 0,
    "start_time": "2022-12-25T06:34:31.056Z"
   },
   {
    "duration": 0,
    "start_time": "2022-12-25T06:34:31.056Z"
   },
   {
    "duration": 0,
    "start_time": "2022-12-25T06:34:31.058Z"
   },
   {
    "duration": 0,
    "start_time": "2022-12-25T06:34:31.059Z"
   },
   {
    "duration": 0,
    "start_time": "2022-12-25T06:34:31.060Z"
   },
   {
    "duration": 0,
    "start_time": "2022-12-25T06:34:31.061Z"
   },
   {
    "duration": 0,
    "start_time": "2022-12-25T06:34:31.062Z"
   },
   {
    "duration": 0,
    "start_time": "2022-12-25T06:34:31.063Z"
   },
   {
    "duration": 0,
    "start_time": "2022-12-25T06:34:31.064Z"
   },
   {
    "duration": 0,
    "start_time": "2022-12-25T06:34:31.065Z"
   },
   {
    "duration": 0,
    "start_time": "2022-12-25T06:34:31.066Z"
   },
   {
    "duration": 0,
    "start_time": "2022-12-25T06:34:31.067Z"
   },
   {
    "duration": 0,
    "start_time": "2022-12-25T06:34:31.068Z"
   },
   {
    "duration": 0,
    "start_time": "2022-12-25T06:34:31.069Z"
   },
   {
    "duration": 0,
    "start_time": "2022-12-25T06:34:31.070Z"
   },
   {
    "duration": 1,
    "start_time": "2022-12-25T06:34:31.071Z"
   },
   {
    "duration": 0,
    "start_time": "2022-12-25T06:34:31.072Z"
   },
   {
    "duration": 0,
    "start_time": "2022-12-25T06:34:31.073Z"
   },
   {
    "duration": 0,
    "start_time": "2022-12-25T06:34:31.074Z"
   },
   {
    "duration": 15,
    "start_time": "2022-12-25T06:35:05.708Z"
   },
   {
    "duration": 95,
    "start_time": "2022-12-25T06:39:21.444Z"
   },
   {
    "duration": 22,
    "start_time": "2022-12-25T06:39:29.688Z"
   },
   {
    "duration": 4076,
    "start_time": "2022-12-25T06:39:46.848Z"
   },
   {
    "duration": 56,
    "start_time": "2022-12-25T06:39:50.927Z"
   },
   {
    "duration": 22,
    "start_time": "2022-12-25T06:39:50.985Z"
   },
   {
    "duration": 45,
    "start_time": "2022-12-25T06:39:51.009Z"
   },
   {
    "duration": 9,
    "start_time": "2022-12-25T06:39:51.056Z"
   },
   {
    "duration": 27,
    "start_time": "2022-12-25T06:39:51.067Z"
   },
   {
    "duration": 15,
    "start_time": "2022-12-25T06:39:51.097Z"
   },
   {
    "duration": 19,
    "start_time": "2022-12-25T06:39:51.114Z"
   },
   {
    "duration": 5,
    "start_time": "2022-12-25T06:39:51.135Z"
   },
   {
    "duration": 11,
    "start_time": "2022-12-25T06:39:51.144Z"
   },
   {
    "duration": 47,
    "start_time": "2022-12-25T06:39:51.157Z"
   },
   {
    "duration": 207,
    "start_time": "2022-12-25T06:39:51.206Z"
   },
   {
    "duration": 0,
    "start_time": "2022-12-25T06:39:51.416Z"
   },
   {
    "duration": 0,
    "start_time": "2022-12-25T06:39:51.418Z"
   },
   {
    "duration": 0,
    "start_time": "2022-12-25T06:39:51.420Z"
   },
   {
    "duration": 0,
    "start_time": "2022-12-25T06:39:51.422Z"
   },
   {
    "duration": 0,
    "start_time": "2022-12-25T06:39:51.424Z"
   },
   {
    "duration": 0,
    "start_time": "2022-12-25T06:39:51.425Z"
   },
   {
    "duration": 0,
    "start_time": "2022-12-25T06:39:51.426Z"
   },
   {
    "duration": 0,
    "start_time": "2022-12-25T06:39:51.428Z"
   },
   {
    "duration": 0,
    "start_time": "2022-12-25T06:39:51.430Z"
   },
   {
    "duration": 0,
    "start_time": "2022-12-25T06:39:51.431Z"
   },
   {
    "duration": 0,
    "start_time": "2022-12-25T06:39:51.451Z"
   },
   {
    "duration": 0,
    "start_time": "2022-12-25T06:39:51.453Z"
   },
   {
    "duration": 0,
    "start_time": "2022-12-25T06:39:51.454Z"
   },
   {
    "duration": 0,
    "start_time": "2022-12-25T06:39:51.456Z"
   },
   {
    "duration": 0,
    "start_time": "2022-12-25T06:39:51.458Z"
   },
   {
    "duration": 0,
    "start_time": "2022-12-25T06:39:51.459Z"
   },
   {
    "duration": 1,
    "start_time": "2022-12-25T06:39:51.460Z"
   },
   {
    "duration": 0,
    "start_time": "2022-12-25T06:39:51.462Z"
   },
   {
    "duration": 0,
    "start_time": "2022-12-25T06:39:51.464Z"
   },
   {
    "duration": 0,
    "start_time": "2022-12-25T06:39:51.465Z"
   },
   {
    "duration": 0,
    "start_time": "2022-12-25T06:39:51.467Z"
   },
   {
    "duration": 0,
    "start_time": "2022-12-25T06:39:51.469Z"
   },
   {
    "duration": 0,
    "start_time": "2022-12-25T06:39:51.470Z"
   },
   {
    "duration": 0,
    "start_time": "2022-12-25T06:39:51.471Z"
   },
   {
    "duration": 0,
    "start_time": "2022-12-25T06:39:51.473Z"
   },
   {
    "duration": 0,
    "start_time": "2022-12-25T06:39:51.473Z"
   },
   {
    "duration": 0,
    "start_time": "2022-12-25T06:39:51.475Z"
   },
   {
    "duration": 1,
    "start_time": "2022-12-25T06:39:51.475Z"
   },
   {
    "duration": 0,
    "start_time": "2022-12-25T06:39:51.477Z"
   },
   {
    "duration": 0,
    "start_time": "2022-12-25T06:39:51.477Z"
   },
   {
    "duration": 0,
    "start_time": "2022-12-25T06:39:51.478Z"
   },
   {
    "duration": 0,
    "start_time": "2022-12-25T06:39:51.480Z"
   },
   {
    "duration": 0,
    "start_time": "2022-12-25T06:39:51.481Z"
   },
   {
    "duration": 0,
    "start_time": "2022-12-25T06:39:51.483Z"
   },
   {
    "duration": 0,
    "start_time": "2022-12-25T06:39:51.484Z"
   },
   {
    "duration": 0,
    "start_time": "2022-12-25T06:39:51.485Z"
   },
   {
    "duration": 0,
    "start_time": "2022-12-25T06:39:51.487Z"
   },
   {
    "duration": 0,
    "start_time": "2022-12-25T06:39:51.488Z"
   },
   {
    "duration": 0,
    "start_time": "2022-12-25T06:39:51.489Z"
   },
   {
    "duration": 0,
    "start_time": "2022-12-25T06:39:51.491Z"
   },
   {
    "duration": 0,
    "start_time": "2022-12-25T06:39:51.551Z"
   },
   {
    "duration": 0,
    "start_time": "2022-12-25T06:39:51.554Z"
   },
   {
    "duration": 0,
    "start_time": "2022-12-25T06:39:51.555Z"
   },
   {
    "duration": 0,
    "start_time": "2022-12-25T06:39:51.556Z"
   },
   {
    "duration": 0,
    "start_time": "2022-12-25T06:39:51.557Z"
   },
   {
    "duration": 0,
    "start_time": "2022-12-25T06:39:51.558Z"
   },
   {
    "duration": 0,
    "start_time": "2022-12-25T06:39:51.560Z"
   },
   {
    "duration": 12,
    "start_time": "2022-12-25T06:42:14.028Z"
   },
   {
    "duration": 38,
    "start_time": "2022-12-25T06:42:17.324Z"
   },
   {
    "duration": 17,
    "start_time": "2022-12-25T06:43:15.372Z"
   },
   {
    "duration": 16,
    "start_time": "2022-12-25T06:43:53.679Z"
   },
   {
    "duration": 3910,
    "start_time": "2022-12-25T06:44:06.948Z"
   },
   {
    "duration": 57,
    "start_time": "2022-12-25T06:44:10.861Z"
   },
   {
    "duration": 25,
    "start_time": "2022-12-25T06:44:10.920Z"
   },
   {
    "duration": 19,
    "start_time": "2022-12-25T06:44:10.951Z"
   },
   {
    "duration": 7,
    "start_time": "2022-12-25T06:44:10.973Z"
   },
   {
    "duration": 6,
    "start_time": "2022-12-25T06:44:10.982Z"
   },
   {
    "duration": 10,
    "start_time": "2022-12-25T06:44:10.989Z"
   },
   {
    "duration": 15,
    "start_time": "2022-12-25T06:44:11.001Z"
   },
   {
    "duration": 4,
    "start_time": "2022-12-25T06:44:11.018Z"
   },
   {
    "duration": 29,
    "start_time": "2022-12-25T06:44:11.023Z"
   },
   {
    "duration": 36,
    "start_time": "2022-12-25T06:44:11.054Z"
   },
   {
    "duration": 15,
    "start_time": "2022-12-25T06:44:11.091Z"
   },
   {
    "duration": 61,
    "start_time": "2022-12-25T06:44:11.108Z"
   },
   {
    "duration": 3,
    "start_time": "2022-12-25T06:44:11.172Z"
   },
   {
    "duration": 19,
    "start_time": "2022-12-25T06:44:11.177Z"
   },
   {
    "duration": 24,
    "start_time": "2022-12-25T06:44:11.197Z"
   },
   {
    "duration": 38,
    "start_time": "2022-12-25T06:44:11.222Z"
   },
   {
    "duration": 18,
    "start_time": "2022-12-25T06:44:11.262Z"
   },
   {
    "duration": 158,
    "start_time": "2022-12-25T06:44:11.282Z"
   },
   {
    "duration": 0,
    "start_time": "2022-12-25T06:44:11.443Z"
   },
   {
    "duration": 0,
    "start_time": "2022-12-25T06:44:11.444Z"
   },
   {
    "duration": 0,
    "start_time": "2022-12-25T06:44:11.445Z"
   },
   {
    "duration": 1,
    "start_time": "2022-12-25T06:44:11.450Z"
   },
   {
    "duration": 0,
    "start_time": "2022-12-25T06:44:11.452Z"
   },
   {
    "duration": 0,
    "start_time": "2022-12-25T06:44:11.453Z"
   },
   {
    "duration": 0,
    "start_time": "2022-12-25T06:44:11.454Z"
   },
   {
    "duration": 0,
    "start_time": "2022-12-25T06:44:11.455Z"
   },
   {
    "duration": 0,
    "start_time": "2022-12-25T06:44:11.456Z"
   },
   {
    "duration": 0,
    "start_time": "2022-12-25T06:44:11.457Z"
   },
   {
    "duration": 0,
    "start_time": "2022-12-25T06:44:11.458Z"
   },
   {
    "duration": 0,
    "start_time": "2022-12-25T06:44:11.460Z"
   },
   {
    "duration": 0,
    "start_time": "2022-12-25T06:44:11.461Z"
   },
   {
    "duration": 0,
    "start_time": "2022-12-25T06:44:11.462Z"
   },
   {
    "duration": 0,
    "start_time": "2022-12-25T06:44:11.463Z"
   },
   {
    "duration": 0,
    "start_time": "2022-12-25T06:44:11.465Z"
   },
   {
    "duration": 0,
    "start_time": "2022-12-25T06:44:11.466Z"
   },
   {
    "duration": 0,
    "start_time": "2022-12-25T06:44:11.467Z"
   },
   {
    "duration": 0,
    "start_time": "2022-12-25T06:44:11.468Z"
   },
   {
    "duration": 0,
    "start_time": "2022-12-25T06:44:11.469Z"
   },
   {
    "duration": 0,
    "start_time": "2022-12-25T06:44:11.470Z"
   },
   {
    "duration": 0,
    "start_time": "2022-12-25T06:44:11.471Z"
   },
   {
    "duration": 0,
    "start_time": "2022-12-25T06:44:11.472Z"
   },
   {
    "duration": 0,
    "start_time": "2022-12-25T06:44:11.474Z"
   },
   {
    "duration": 0,
    "start_time": "2022-12-25T06:44:11.474Z"
   },
   {
    "duration": 0,
    "start_time": "2022-12-25T06:44:11.476Z"
   },
   {
    "duration": 1,
    "start_time": "2022-12-25T06:44:11.476Z"
   },
   {
    "duration": 0,
    "start_time": "2022-12-25T06:44:11.478Z"
   },
   {
    "duration": 0,
    "start_time": "2022-12-25T06:44:11.479Z"
   },
   {
    "duration": 0,
    "start_time": "2022-12-25T06:44:11.481Z"
   },
   {
    "duration": 0,
    "start_time": "2022-12-25T06:44:11.482Z"
   },
   {
    "duration": 0,
    "start_time": "2022-12-25T06:44:11.483Z"
   },
   {
    "duration": 0,
    "start_time": "2022-12-25T06:44:11.484Z"
   },
   {
    "duration": 0,
    "start_time": "2022-12-25T06:44:11.485Z"
   },
   {
    "duration": 0,
    "start_time": "2022-12-25T06:44:11.486Z"
   },
   {
    "duration": 0,
    "start_time": "2022-12-25T06:44:11.551Z"
   },
   {
    "duration": 0,
    "start_time": "2022-12-25T06:44:11.552Z"
   },
   {
    "duration": 0,
    "start_time": "2022-12-25T06:44:11.556Z"
   },
   {
    "duration": 0,
    "start_time": "2022-12-25T06:44:11.557Z"
   },
   {
    "duration": 0,
    "start_time": "2022-12-25T06:44:11.558Z"
   },
   {
    "duration": 16,
    "start_time": "2022-12-25T06:45:02.364Z"
   },
   {
    "duration": 3700,
    "start_time": "2022-12-25T06:45:07.903Z"
   },
   {
    "duration": 60,
    "start_time": "2022-12-25T06:45:11.605Z"
   },
   {
    "duration": 24,
    "start_time": "2022-12-25T06:45:11.667Z"
   },
   {
    "duration": 61,
    "start_time": "2022-12-25T06:45:11.693Z"
   },
   {
    "duration": 8,
    "start_time": "2022-12-25T06:45:11.756Z"
   },
   {
    "duration": 11,
    "start_time": "2022-12-25T06:45:11.765Z"
   },
   {
    "duration": 11,
    "start_time": "2022-12-25T06:45:11.778Z"
   },
   {
    "duration": 12,
    "start_time": "2022-12-25T06:45:11.791Z"
   },
   {
    "duration": 5,
    "start_time": "2022-12-25T06:45:11.852Z"
   },
   {
    "duration": 5,
    "start_time": "2022-12-25T06:45:11.861Z"
   },
   {
    "duration": 85,
    "start_time": "2022-12-25T06:45:11.869Z"
   },
   {
    "duration": 226,
    "start_time": "2022-12-25T06:45:11.955Z"
   },
   {
    "duration": 0,
    "start_time": "2022-12-25T06:45:12.184Z"
   },
   {
    "duration": 0,
    "start_time": "2022-12-25T06:45:12.185Z"
   },
   {
    "duration": 0,
    "start_time": "2022-12-25T06:45:12.187Z"
   },
   {
    "duration": 0,
    "start_time": "2022-12-25T06:45:12.188Z"
   },
   {
    "duration": 0,
    "start_time": "2022-12-25T06:45:12.190Z"
   },
   {
    "duration": 0,
    "start_time": "2022-12-25T06:45:12.192Z"
   },
   {
    "duration": 0,
    "start_time": "2022-12-25T06:45:12.251Z"
   },
   {
    "duration": 0,
    "start_time": "2022-12-25T06:45:12.252Z"
   },
   {
    "duration": 0,
    "start_time": "2022-12-25T06:45:12.254Z"
   },
   {
    "duration": 0,
    "start_time": "2022-12-25T06:45:12.255Z"
   },
   {
    "duration": 0,
    "start_time": "2022-12-25T06:45:12.256Z"
   },
   {
    "duration": 0,
    "start_time": "2022-12-25T06:45:12.258Z"
   },
   {
    "duration": 0,
    "start_time": "2022-12-25T06:45:12.259Z"
   },
   {
    "duration": 0,
    "start_time": "2022-12-25T06:45:12.260Z"
   },
   {
    "duration": 0,
    "start_time": "2022-12-25T06:45:12.261Z"
   },
   {
    "duration": 0,
    "start_time": "2022-12-25T06:45:12.262Z"
   },
   {
    "duration": 0,
    "start_time": "2022-12-25T06:45:12.263Z"
   },
   {
    "duration": 0,
    "start_time": "2022-12-25T06:45:12.265Z"
   },
   {
    "duration": 0,
    "start_time": "2022-12-25T06:45:12.266Z"
   },
   {
    "duration": 0,
    "start_time": "2022-12-25T06:45:12.268Z"
   },
   {
    "duration": 0,
    "start_time": "2022-12-25T06:45:12.269Z"
   },
   {
    "duration": 0,
    "start_time": "2022-12-25T06:45:12.270Z"
   },
   {
    "duration": 0,
    "start_time": "2022-12-25T06:45:12.272Z"
   },
   {
    "duration": 0,
    "start_time": "2022-12-25T06:45:12.273Z"
   },
   {
    "duration": 0,
    "start_time": "2022-12-25T06:45:12.274Z"
   },
   {
    "duration": 0,
    "start_time": "2022-12-25T06:45:12.275Z"
   },
   {
    "duration": 0,
    "start_time": "2022-12-25T06:45:12.277Z"
   },
   {
    "duration": 0,
    "start_time": "2022-12-25T06:45:12.278Z"
   },
   {
    "duration": 0,
    "start_time": "2022-12-25T06:45:12.279Z"
   },
   {
    "duration": 0,
    "start_time": "2022-12-25T06:45:12.281Z"
   },
   {
    "duration": 0,
    "start_time": "2022-12-25T06:45:12.282Z"
   },
   {
    "duration": 0,
    "start_time": "2022-12-25T06:45:12.283Z"
   },
   {
    "duration": 0,
    "start_time": "2022-12-25T06:45:12.284Z"
   },
   {
    "duration": 0,
    "start_time": "2022-12-25T06:45:12.285Z"
   },
   {
    "duration": 0,
    "start_time": "2022-12-25T06:45:12.286Z"
   },
   {
    "duration": 0,
    "start_time": "2022-12-25T06:45:12.287Z"
   },
   {
    "duration": 0,
    "start_time": "2022-12-25T06:45:12.351Z"
   },
   {
    "duration": 0,
    "start_time": "2022-12-25T06:45:12.352Z"
   },
   {
    "duration": 0,
    "start_time": "2022-12-25T06:45:12.354Z"
   },
   {
    "duration": 0,
    "start_time": "2022-12-25T06:45:12.355Z"
   },
   {
    "duration": 0,
    "start_time": "2022-12-25T06:45:12.357Z"
   },
   {
    "duration": 0,
    "start_time": "2022-12-25T06:45:12.358Z"
   },
   {
    "duration": 0,
    "start_time": "2022-12-25T06:45:12.359Z"
   },
   {
    "duration": 0,
    "start_time": "2022-12-25T06:45:12.360Z"
   },
   {
    "duration": 0,
    "start_time": "2022-12-25T06:45:12.361Z"
   },
   {
    "duration": 0,
    "start_time": "2022-12-25T06:45:12.362Z"
   },
   {
    "duration": 0,
    "start_time": "2022-12-25T06:45:12.364Z"
   },
   {
    "duration": 30,
    "start_time": "2022-12-25T06:48:18.663Z"
   },
   {
    "duration": 30,
    "start_time": "2022-12-25T06:48:22.663Z"
   },
   {
    "duration": 3,
    "start_time": "2022-12-25T06:48:25.783Z"
   },
   {
    "duration": 3864,
    "start_time": "2022-12-25T06:49:43.779Z"
   },
   {
    "duration": 59,
    "start_time": "2022-12-25T06:49:47.645Z"
   },
   {
    "duration": 22,
    "start_time": "2022-12-25T06:49:47.706Z"
   },
   {
    "duration": 26,
    "start_time": "2022-12-25T06:49:47.730Z"
   },
   {
    "duration": 8,
    "start_time": "2022-12-25T06:49:47.759Z"
   },
   {
    "duration": 5,
    "start_time": "2022-12-25T06:49:47.769Z"
   },
   {
    "duration": 9,
    "start_time": "2022-12-25T06:49:47.776Z"
   },
   {
    "duration": 18,
    "start_time": "2022-12-25T06:49:47.787Z"
   },
   {
    "duration": 5,
    "start_time": "2022-12-25T06:49:47.808Z"
   },
   {
    "duration": 36,
    "start_time": "2022-12-25T06:49:47.815Z"
   },
   {
    "duration": 34,
    "start_time": "2022-12-25T06:49:47.853Z"
   },
   {
    "duration": 158,
    "start_time": "2022-12-25T06:49:47.888Z"
   },
   {
    "duration": 0,
    "start_time": "2022-12-25T06:49:48.051Z"
   },
   {
    "duration": 0,
    "start_time": "2022-12-25T06:49:48.052Z"
   },
   {
    "duration": 0,
    "start_time": "2022-12-25T06:49:48.053Z"
   },
   {
    "duration": 0,
    "start_time": "2022-12-25T06:49:48.054Z"
   },
   {
    "duration": 0,
    "start_time": "2022-12-25T06:49:48.055Z"
   },
   {
    "duration": 0,
    "start_time": "2022-12-25T06:49:48.057Z"
   },
   {
    "duration": 0,
    "start_time": "2022-12-25T06:49:48.058Z"
   },
   {
    "duration": 0,
    "start_time": "2022-12-25T06:49:48.059Z"
   },
   {
    "duration": 0,
    "start_time": "2022-12-25T06:49:48.060Z"
   },
   {
    "duration": 0,
    "start_time": "2022-12-25T06:49:48.061Z"
   },
   {
    "duration": 0,
    "start_time": "2022-12-25T06:49:48.063Z"
   },
   {
    "duration": 0,
    "start_time": "2022-12-25T06:49:48.064Z"
   },
   {
    "duration": 0,
    "start_time": "2022-12-25T06:49:48.065Z"
   },
   {
    "duration": 0,
    "start_time": "2022-12-25T06:49:48.067Z"
   },
   {
    "duration": 0,
    "start_time": "2022-12-25T06:49:48.069Z"
   },
   {
    "duration": 0,
    "start_time": "2022-12-25T06:49:48.070Z"
   },
   {
    "duration": 0,
    "start_time": "2022-12-25T06:49:48.072Z"
   },
   {
    "duration": 0,
    "start_time": "2022-12-25T06:49:48.073Z"
   },
   {
    "duration": 0,
    "start_time": "2022-12-25T06:49:48.075Z"
   },
   {
    "duration": 0,
    "start_time": "2022-12-25T06:49:48.076Z"
   },
   {
    "duration": 0,
    "start_time": "2022-12-25T06:49:48.078Z"
   },
   {
    "duration": 0,
    "start_time": "2022-12-25T06:49:48.079Z"
   },
   {
    "duration": 0,
    "start_time": "2022-12-25T06:49:48.080Z"
   },
   {
    "duration": 0,
    "start_time": "2022-12-25T06:49:48.082Z"
   },
   {
    "duration": 0,
    "start_time": "2022-12-25T06:49:48.083Z"
   },
   {
    "duration": 0,
    "start_time": "2022-12-25T06:49:48.085Z"
   },
   {
    "duration": 0,
    "start_time": "2022-12-25T06:49:48.086Z"
   },
   {
    "duration": 0,
    "start_time": "2022-12-25T06:49:48.087Z"
   },
   {
    "duration": 1,
    "start_time": "2022-12-25T06:49:48.088Z"
   },
   {
    "duration": 0,
    "start_time": "2022-12-25T06:49:48.090Z"
   },
   {
    "duration": 0,
    "start_time": "2022-12-25T06:49:48.091Z"
   },
   {
    "duration": 0,
    "start_time": "2022-12-25T06:49:48.152Z"
   },
   {
    "duration": 0,
    "start_time": "2022-12-25T06:49:48.153Z"
   },
   {
    "duration": 0,
    "start_time": "2022-12-25T06:49:48.155Z"
   },
   {
    "duration": 0,
    "start_time": "2022-12-25T06:49:48.156Z"
   },
   {
    "duration": 0,
    "start_time": "2022-12-25T06:49:48.157Z"
   },
   {
    "duration": 0,
    "start_time": "2022-12-25T06:49:48.158Z"
   },
   {
    "duration": 0,
    "start_time": "2022-12-25T06:49:48.159Z"
   },
   {
    "duration": 0,
    "start_time": "2022-12-25T06:49:48.161Z"
   },
   {
    "duration": 0,
    "start_time": "2022-12-25T06:49:48.162Z"
   },
   {
    "duration": 0,
    "start_time": "2022-12-25T06:49:48.162Z"
   },
   {
    "duration": 0,
    "start_time": "2022-12-25T06:49:48.164Z"
   },
   {
    "duration": 0,
    "start_time": "2022-12-25T06:49:48.165Z"
   },
   {
    "duration": 0,
    "start_time": "2022-12-25T06:49:48.167Z"
   },
   {
    "duration": 0,
    "start_time": "2022-12-25T06:49:48.168Z"
   },
   {
    "duration": 0,
    "start_time": "2022-12-25T06:49:48.169Z"
   },
   {
    "duration": 0,
    "start_time": "2022-12-25T06:49:48.170Z"
   },
   {
    "duration": 5588,
    "start_time": "2022-12-25T07:21:54.574Z"
   },
   {
    "duration": 118,
    "start_time": "2022-12-25T07:22:00.166Z"
   },
   {
    "duration": 78,
    "start_time": "2022-12-25T07:22:00.286Z"
   },
   {
    "duration": 26,
    "start_time": "2022-12-25T07:22:00.366Z"
   },
   {
    "duration": 10,
    "start_time": "2022-12-25T07:22:00.452Z"
   },
   {
    "duration": 16,
    "start_time": "2022-12-25T07:22:00.465Z"
   },
   {
    "duration": 11,
    "start_time": "2022-12-25T07:22:00.487Z"
   },
   {
    "duration": 63,
    "start_time": "2022-12-25T07:22:00.500Z"
   },
   {
    "duration": 6,
    "start_time": "2022-12-25T07:22:00.565Z"
   },
   {
    "duration": 7,
    "start_time": "2022-12-25T07:22:00.575Z"
   },
   {
    "duration": 102,
    "start_time": "2022-12-25T07:22:00.584Z"
   },
   {
    "duration": 238,
    "start_time": "2022-12-25T07:22:00.690Z"
   },
   {
    "duration": 0,
    "start_time": "2022-12-25T07:22:00.951Z"
   },
   {
    "duration": 0,
    "start_time": "2022-12-25T07:22:00.953Z"
   },
   {
    "duration": 0,
    "start_time": "2022-12-25T07:22:00.955Z"
   },
   {
    "duration": 0,
    "start_time": "2022-12-25T07:22:00.956Z"
   },
   {
    "duration": 13,
    "start_time": "2022-12-25T07:22:06.431Z"
   },
   {
    "duration": 0,
    "start_time": "2022-12-25T07:22:06.447Z"
   },
   {
    "duration": 30,
    "start_time": "2022-12-25T07:22:06.673Z"
   },
   {
    "duration": 0,
    "start_time": "2022-12-25T07:22:06.707Z"
   },
   {
    "duration": 0,
    "start_time": "2022-12-25T07:22:06.709Z"
   },
   {
    "duration": 0,
    "start_time": "2022-12-25T07:22:06.711Z"
   },
   {
    "duration": 0,
    "start_time": "2022-12-25T07:22:06.713Z"
   },
   {
    "duration": 0,
    "start_time": "2022-12-25T07:22:06.714Z"
   },
   {
    "duration": 0,
    "start_time": "2022-12-25T07:22:06.715Z"
   },
   {
    "duration": 0,
    "start_time": "2022-12-25T07:22:06.716Z"
   },
   {
    "duration": 0,
    "start_time": "2022-12-25T07:22:06.718Z"
   },
   {
    "duration": 0,
    "start_time": "2022-12-25T07:22:06.719Z"
   },
   {
    "duration": 0,
    "start_time": "2022-12-25T07:22:06.719Z"
   },
   {
    "duration": 0,
    "start_time": "2022-12-25T07:22:06.720Z"
   },
   {
    "duration": 0,
    "start_time": "2022-12-25T07:22:06.722Z"
   },
   {
    "duration": 0,
    "start_time": "2022-12-25T07:22:06.724Z"
   },
   {
    "duration": 0,
    "start_time": "2022-12-25T07:22:06.725Z"
   },
   {
    "duration": 0,
    "start_time": "2022-12-25T07:22:06.751Z"
   },
   {
    "duration": 0,
    "start_time": "2022-12-25T07:22:06.753Z"
   },
   {
    "duration": 0,
    "start_time": "2022-12-25T07:22:06.755Z"
   },
   {
    "duration": 0,
    "start_time": "2022-12-25T07:22:06.757Z"
   },
   {
    "duration": 0,
    "start_time": "2022-12-25T07:22:06.758Z"
   },
   {
    "duration": 0,
    "start_time": "2022-12-25T07:22:06.759Z"
   },
   {
    "duration": 0,
    "start_time": "2022-12-25T07:22:06.760Z"
   },
   {
    "duration": 0,
    "start_time": "2022-12-25T07:22:06.762Z"
   },
   {
    "duration": 0,
    "start_time": "2022-12-25T07:22:06.765Z"
   },
   {
    "duration": 0,
    "start_time": "2022-12-25T07:22:06.766Z"
   },
   {
    "duration": 0,
    "start_time": "2022-12-25T07:22:06.768Z"
   },
   {
    "duration": 0,
    "start_time": "2022-12-25T07:22:06.769Z"
   },
   {
    "duration": 0,
    "start_time": "2022-12-25T07:22:06.772Z"
   },
   {
    "duration": 0,
    "start_time": "2022-12-25T07:22:06.772Z"
   },
   {
    "duration": 0,
    "start_time": "2022-12-25T07:22:06.774Z"
   },
   {
    "duration": 0,
    "start_time": "2022-12-25T07:22:06.775Z"
   },
   {
    "duration": 0,
    "start_time": "2022-12-25T07:22:06.777Z"
   },
   {
    "duration": 0,
    "start_time": "2022-12-25T07:22:06.779Z"
   },
   {
    "duration": 0,
    "start_time": "2022-12-25T07:22:06.780Z"
   },
   {
    "duration": 0,
    "start_time": "2022-12-25T07:22:06.781Z"
   },
   {
    "duration": 0,
    "start_time": "2022-12-25T07:22:06.782Z"
   },
   {
    "duration": 0,
    "start_time": "2022-12-25T07:22:06.783Z"
   },
   {
    "duration": 0,
    "start_time": "2022-12-25T07:22:06.784Z"
   },
   {
    "duration": 0,
    "start_time": "2022-12-25T07:22:06.786Z"
   },
   {
    "duration": 0,
    "start_time": "2022-12-25T07:22:06.787Z"
   },
   {
    "duration": 0,
    "start_time": "2022-12-25T07:22:06.788Z"
   },
   {
    "duration": 5149,
    "start_time": "2022-12-25T07:25:54.786Z"
   },
   {
    "duration": 63,
    "start_time": "2022-12-25T07:25:59.937Z"
   },
   {
    "duration": 22,
    "start_time": "2022-12-25T07:26:00.001Z"
   },
   {
    "duration": 20,
    "start_time": "2022-12-25T07:26:00.024Z"
   },
   {
    "duration": 19,
    "start_time": "2022-12-25T07:26:00.045Z"
   },
   {
    "duration": 16,
    "start_time": "2022-12-25T07:26:00.068Z"
   },
   {
    "duration": 9,
    "start_time": "2022-12-25T07:26:00.085Z"
   },
   {
    "duration": 20,
    "start_time": "2022-12-25T07:26:00.096Z"
   },
   {
    "duration": 21,
    "start_time": "2022-12-25T07:26:00.118Z"
   },
   {
    "duration": 6,
    "start_time": "2022-12-25T07:26:00.141Z"
   },
   {
    "duration": 56,
    "start_time": "2022-12-25T07:26:00.149Z"
   },
   {
    "duration": 29,
    "start_time": "2022-12-25T07:26:00.208Z"
   },
   {
    "duration": 46,
    "start_time": "2022-12-25T07:26:00.239Z"
   },
   {
    "duration": 4,
    "start_time": "2022-12-25T07:26:00.286Z"
   },
   {
    "duration": 18,
    "start_time": "2022-12-25T07:26:00.292Z"
   },
   {
    "duration": 50,
    "start_time": "2022-12-25T07:26:00.312Z"
   },
   {
    "duration": 20,
    "start_time": "2022-12-25T07:26:00.365Z"
   },
   {
    "duration": 36,
    "start_time": "2022-12-25T07:26:00.387Z"
   },
   {
    "duration": 233,
    "start_time": "2022-12-25T07:26:00.425Z"
   },
   {
    "duration": 6,
    "start_time": "2022-12-25T07:26:00.659Z"
   },
   {
    "duration": 2098,
    "start_time": "2022-12-25T07:26:00.667Z"
   },
   {
    "duration": 292,
    "start_time": "2022-12-25T07:26:02.768Z"
   },
   {
    "duration": 9,
    "start_time": "2022-12-25T07:26:03.063Z"
   },
   {
    "duration": 304,
    "start_time": "2022-12-25T07:26:03.153Z"
   },
   {
    "duration": 91,
    "start_time": "2022-12-25T07:26:03.460Z"
   },
   {
    "duration": 129,
    "start_time": "2022-12-25T07:26:03.553Z"
   },
   {
    "duration": 4,
    "start_time": "2022-12-25T07:26:03.684Z"
   },
   {
    "duration": 23,
    "start_time": "2022-12-25T07:26:03.693Z"
   },
   {
    "duration": 33,
    "start_time": "2022-12-25T07:26:03.719Z"
   },
   {
    "duration": 727,
    "start_time": "2022-12-25T07:26:03.755Z"
   },
   {
    "duration": 82,
    "start_time": "2022-12-25T07:26:04.484Z"
   },
   {
    "duration": 13,
    "start_time": "2022-12-25T07:26:04.568Z"
   },
   {
    "duration": 76,
    "start_time": "2022-12-25T07:26:04.583Z"
   },
   {
    "duration": 112,
    "start_time": "2022-12-25T07:26:04.662Z"
   },
   {
    "duration": 103,
    "start_time": "2022-12-25T07:26:04.776Z"
   },
   {
    "duration": 128,
    "start_time": "2022-12-25T07:26:04.881Z"
   },
   {
    "duration": 5,
    "start_time": "2022-12-25T07:26:05.011Z"
   },
   {
    "duration": 144,
    "start_time": "2022-12-25T07:26:05.018Z"
   },
   {
    "duration": 255,
    "start_time": "2022-12-25T07:26:05.163Z"
   },
   {
    "duration": 434,
    "start_time": "2022-12-25T07:26:05.451Z"
   },
   {
    "duration": 579,
    "start_time": "2022-12-25T07:26:05.888Z"
   },
   {
    "duration": 399,
    "start_time": "2022-12-25T07:26:06.468Z"
   },
   {
    "duration": 43,
    "start_time": "2022-12-25T07:26:06.868Z"
   },
   {
    "duration": 64,
    "start_time": "2022-12-25T07:26:06.913Z"
   },
   {
    "duration": 321,
    "start_time": "2022-12-25T07:26:06.979Z"
   },
   {
    "duration": 242,
    "start_time": "2022-12-25T07:26:07.302Z"
   },
   {
    "duration": 115,
    "start_time": "2022-12-25T07:26:07.545Z"
   },
   {
    "duration": 290,
    "start_time": "2022-12-25T07:26:07.662Z"
   },
   {
    "duration": 5,
    "start_time": "2022-12-25T07:26:07.954Z"
   },
   {
    "duration": 14,
    "start_time": "2022-12-25T07:26:07.961Z"
   },
   {
    "duration": 2811,
    "start_time": "2022-12-25T07:26:07.977Z"
   },
   {
    "duration": 2088,
    "start_time": "2022-12-25T07:26:10.790Z"
   },
   {
    "duration": 99,
    "start_time": "2022-12-25T07:26:12.879Z"
   },
   {
    "duration": 122,
    "start_time": "2022-12-25T07:26:12.980Z"
   },
   {
    "duration": 125,
    "start_time": "2022-12-25T07:26:13.104Z"
   },
   {
    "duration": 7,
    "start_time": "2022-12-25T07:26:13.231Z"
   },
   {
    "duration": 20,
    "start_time": "2022-12-25T07:26:13.250Z"
   },
   {
    "duration": 37,
    "start_time": "2022-12-25T07:26:13.272Z"
   },
   {
    "duration": 248,
    "start_time": "2022-12-25T07:26:13.311Z"
   },
   {
    "duration": 43,
    "start_time": "2022-12-25T07:26:28.636Z"
   },
   {
    "duration": 2036,
    "start_time": "2022-12-25T07:32:51.801Z"
   },
   {
    "duration": 126,
    "start_time": "2022-12-25T07:34:14.029Z"
   },
   {
    "duration": 118,
    "start_time": "2022-12-25T07:36:08.165Z"
   },
   {
    "duration": 31,
    "start_time": "2022-12-25T07:37:44.223Z"
   },
   {
    "duration": 79,
    "start_time": "2022-12-25T07:42:48.589Z"
   },
   {
    "duration": 62,
    "start_time": "2022-12-25T07:53:10.944Z"
   },
   {
    "duration": 65,
    "start_time": "2022-12-25T07:53:32.437Z"
   },
   {
    "duration": 46,
    "start_time": "2022-12-25T07:53:41.615Z"
   },
   {
    "duration": 3970,
    "start_time": "2022-12-25T07:55:09.142Z"
   },
   {
    "duration": 66,
    "start_time": "2022-12-25T07:55:13.114Z"
   },
   {
    "duration": 31,
    "start_time": "2022-12-25T07:55:13.183Z"
   },
   {
    "duration": 52,
    "start_time": "2022-12-25T07:55:13.216Z"
   },
   {
    "duration": 8,
    "start_time": "2022-12-25T07:55:13.273Z"
   },
   {
    "duration": 4,
    "start_time": "2022-12-25T07:55:13.283Z"
   },
   {
    "duration": 8,
    "start_time": "2022-12-25T07:55:13.288Z"
   },
   {
    "duration": 16,
    "start_time": "2022-12-25T07:55:13.298Z"
   },
   {
    "duration": 9,
    "start_time": "2022-12-25T07:55:13.315Z"
   },
   {
    "duration": 10,
    "start_time": "2022-12-25T07:55:13.327Z"
   },
   {
    "duration": 54,
    "start_time": "2022-12-25T07:55:13.338Z"
   },
   {
    "duration": 58,
    "start_time": "2022-12-25T07:55:13.393Z"
   },
   {
    "duration": 41,
    "start_time": "2022-12-25T07:55:13.452Z"
   },
   {
    "duration": 5,
    "start_time": "2022-12-25T07:55:13.495Z"
   },
   {
    "duration": 14,
    "start_time": "2022-12-25T07:55:13.501Z"
   },
   {
    "duration": 64,
    "start_time": "2022-12-25T07:55:13.516Z"
   },
   {
    "duration": 23,
    "start_time": "2022-12-25T07:55:13.582Z"
   },
   {
    "duration": 19,
    "start_time": "2022-12-25T07:55:13.609Z"
   },
   {
    "duration": 222,
    "start_time": "2022-12-25T07:55:13.629Z"
   },
   {
    "duration": 7,
    "start_time": "2022-12-25T07:55:13.853Z"
   },
   {
    "duration": 2161,
    "start_time": "2022-12-25T07:55:13.862Z"
   },
   {
    "duration": 145,
    "start_time": "2022-12-25T07:55:16.025Z"
   },
   {
    "duration": 10,
    "start_time": "2022-12-25T07:55:16.177Z"
   },
   {
    "duration": 243,
    "start_time": "2022-12-25T07:55:16.252Z"
   },
   {
    "duration": 13,
    "start_time": "2022-12-25T07:55:16.562Z"
   },
   {
    "duration": 121,
    "start_time": "2022-12-25T07:55:16.577Z"
   },
   {
    "duration": 4,
    "start_time": "2022-12-25T07:55:16.700Z"
   },
   {
    "duration": 177,
    "start_time": "2022-12-25T07:55:16.711Z"
   },
   {
    "duration": 0,
    "start_time": "2022-12-25T07:55:16.889Z"
   },
   {
    "duration": 0,
    "start_time": "2022-12-25T07:55:16.891Z"
   },
   {
    "duration": 0,
    "start_time": "2022-12-25T07:55:16.892Z"
   },
   {
    "duration": 0,
    "start_time": "2022-12-25T07:55:16.893Z"
   },
   {
    "duration": 0,
    "start_time": "2022-12-25T07:55:16.894Z"
   },
   {
    "duration": 0,
    "start_time": "2022-12-25T07:55:16.896Z"
   },
   {
    "duration": 0,
    "start_time": "2022-12-25T07:55:16.897Z"
   },
   {
    "duration": 0,
    "start_time": "2022-12-25T07:55:16.897Z"
   },
   {
    "duration": 0,
    "start_time": "2022-12-25T07:55:16.899Z"
   },
   {
    "duration": 0,
    "start_time": "2022-12-25T07:55:16.900Z"
   },
   {
    "duration": 0,
    "start_time": "2022-12-25T07:55:16.901Z"
   },
   {
    "duration": 0,
    "start_time": "2022-12-25T07:55:16.902Z"
   },
   {
    "duration": 0,
    "start_time": "2022-12-25T07:55:16.904Z"
   },
   {
    "duration": 0,
    "start_time": "2022-12-25T07:55:16.905Z"
   },
   {
    "duration": 0,
    "start_time": "2022-12-25T07:55:16.906Z"
   },
   {
    "duration": 0,
    "start_time": "2022-12-25T07:55:16.908Z"
   },
   {
    "duration": 0,
    "start_time": "2022-12-25T07:55:16.909Z"
   },
   {
    "duration": 0,
    "start_time": "2022-12-25T07:55:16.910Z"
   },
   {
    "duration": 0,
    "start_time": "2022-12-25T07:55:16.911Z"
   },
   {
    "duration": 0,
    "start_time": "2022-12-25T07:55:16.912Z"
   },
   {
    "duration": 0,
    "start_time": "2022-12-25T07:55:16.913Z"
   },
   {
    "duration": 0,
    "start_time": "2022-12-25T07:55:16.953Z"
   },
   {
    "duration": 0,
    "start_time": "2022-12-25T07:55:16.954Z"
   },
   {
    "duration": 0,
    "start_time": "2022-12-25T07:55:16.954Z"
   },
   {
    "duration": 0,
    "start_time": "2022-12-25T07:55:16.955Z"
   },
   {
    "duration": 0,
    "start_time": "2022-12-25T07:55:16.956Z"
   },
   {
    "duration": 0,
    "start_time": "2022-12-25T07:55:16.956Z"
   },
   {
    "duration": 0,
    "start_time": "2022-12-25T07:55:16.957Z"
   },
   {
    "duration": 0,
    "start_time": "2022-12-25T07:55:16.958Z"
   },
   {
    "duration": 0,
    "start_time": "2022-12-25T07:55:16.959Z"
   },
   {
    "duration": 0,
    "start_time": "2022-12-25T07:55:16.960Z"
   },
   {
    "duration": 21,
    "start_time": "2022-12-25T07:57:17.078Z"
   },
   {
    "duration": 71,
    "start_time": "2022-12-25T07:59:03.575Z"
   },
   {
    "duration": 78,
    "start_time": "2022-12-25T07:59:19.206Z"
   },
   {
    "duration": 19,
    "start_time": "2022-12-25T07:59:34.518Z"
   },
   {
    "duration": 21,
    "start_time": "2022-12-25T07:59:39.163Z"
   },
   {
    "duration": 4312,
    "start_time": "2022-12-25T08:00:46.608Z"
   },
   {
    "duration": 64,
    "start_time": "2022-12-25T08:00:50.922Z"
   },
   {
    "duration": 30,
    "start_time": "2022-12-25T08:00:50.989Z"
   },
   {
    "duration": 40,
    "start_time": "2022-12-25T08:00:51.021Z"
   },
   {
    "duration": 10,
    "start_time": "2022-12-25T08:00:51.065Z"
   },
   {
    "duration": 8,
    "start_time": "2022-12-25T08:00:51.077Z"
   },
   {
    "duration": 9,
    "start_time": "2022-12-25T08:00:51.087Z"
   },
   {
    "duration": 15,
    "start_time": "2022-12-25T08:00:51.099Z"
   },
   {
    "duration": 6,
    "start_time": "2022-12-25T08:00:51.116Z"
   },
   {
    "duration": 38,
    "start_time": "2022-12-25T08:00:51.124Z"
   },
   {
    "duration": 43,
    "start_time": "2022-12-25T08:00:51.164Z"
   },
   {
    "duration": 49,
    "start_time": "2022-12-25T08:00:51.209Z"
   },
   {
    "duration": 42,
    "start_time": "2022-12-25T08:00:51.260Z"
   },
   {
    "duration": 6,
    "start_time": "2022-12-25T08:00:51.304Z"
   },
   {
    "duration": 16,
    "start_time": "2022-12-25T08:00:51.312Z"
   },
   {
    "duration": 50,
    "start_time": "2022-12-25T08:00:51.330Z"
   },
   {
    "duration": 19,
    "start_time": "2022-12-25T08:00:51.382Z"
   },
   {
    "duration": 25,
    "start_time": "2022-12-25T08:00:51.403Z"
   },
   {
    "duration": 239,
    "start_time": "2022-12-25T08:00:51.430Z"
   },
   {
    "duration": 4,
    "start_time": "2022-12-25T08:00:51.670Z"
   },
   {
    "duration": 2088,
    "start_time": "2022-12-25T08:00:51.676Z"
   },
   {
    "duration": 186,
    "start_time": "2022-12-25T08:00:53.769Z"
   },
   {
    "duration": 8,
    "start_time": "2022-12-25T08:00:53.957Z"
   },
   {
    "duration": 284,
    "start_time": "2022-12-25T08:00:53.967Z"
   },
   {
    "duration": 18,
    "start_time": "2022-12-25T08:00:54.253Z"
   },
   {
    "duration": 131,
    "start_time": "2022-12-25T08:00:54.276Z"
   },
   {
    "duration": 3,
    "start_time": "2022-12-25T08:00:54.409Z"
   },
   {
    "duration": 19,
    "start_time": "2022-12-25T08:00:54.418Z"
   },
   {
    "duration": 85,
    "start_time": "2022-12-25T08:00:54.438Z"
   },
   {
    "duration": 32,
    "start_time": "2022-12-25T08:00:54.524Z"
   },
   {
    "duration": 15,
    "start_time": "2022-12-25T08:00:54.564Z"
   },
   {
    "duration": 76,
    "start_time": "2022-12-25T08:00:54.581Z"
   },
   {
    "duration": 193,
    "start_time": "2022-12-25T08:00:54.661Z"
   },
   {
    "duration": 20,
    "start_time": "2022-12-25T08:00:54.856Z"
   },
   {
    "duration": 239,
    "start_time": "2022-12-25T08:00:54.882Z"
   },
   {
    "duration": 6,
    "start_time": "2022-12-25T08:00:55.123Z"
   },
   {
    "duration": 145,
    "start_time": "2022-12-25T08:00:55.131Z"
   },
   {
    "duration": 128,
    "start_time": "2022-12-25T08:00:55.277Z"
   },
   {
    "duration": 279,
    "start_time": "2022-12-25T08:00:55.407Z"
   },
   {
    "duration": 561,
    "start_time": "2022-12-25T08:00:55.690Z"
   },
   {
    "duration": 422,
    "start_time": "2022-12-25T08:00:56.254Z"
   },
   {
    "duration": 44,
    "start_time": "2022-12-25T08:00:56.677Z"
   },
   {
    "duration": 61,
    "start_time": "2022-12-25T08:00:56.723Z"
   },
   {
    "duration": 301,
    "start_time": "2022-12-25T08:00:56.786Z"
   },
   {
    "duration": 250,
    "start_time": "2022-12-25T08:00:57.090Z"
   },
   {
    "duration": 125,
    "start_time": "2022-12-25T08:00:57.341Z"
   },
   {
    "duration": 296,
    "start_time": "2022-12-25T08:00:57.469Z"
   },
   {
    "duration": 4,
    "start_time": "2022-12-25T08:00:57.770Z"
   },
   {
    "duration": 9,
    "start_time": "2022-12-25T08:00:57.776Z"
   },
   {
    "duration": 3148,
    "start_time": "2022-12-25T08:00:57.787Z"
   },
   {
    "duration": 2263,
    "start_time": "2022-12-25T08:01:00.936Z"
   },
   {
    "duration": 125,
    "start_time": "2022-12-25T08:01:03.201Z"
   },
   {
    "duration": 139,
    "start_time": "2022-12-25T08:01:03.328Z"
   },
   {
    "duration": 116,
    "start_time": "2022-12-25T08:01:03.471Z"
   },
   {
    "duration": 7,
    "start_time": "2022-12-25T08:01:03.589Z"
   },
   {
    "duration": 21,
    "start_time": "2022-12-25T08:01:03.597Z"
   },
   {
    "duration": 56,
    "start_time": "2022-12-25T08:01:03.620Z"
   },
   {
    "duration": 302,
    "start_time": "2022-12-25T08:01:03.678Z"
   },
   {
    "duration": 161,
    "start_time": "2022-12-25T08:12:11.038Z"
   },
   {
    "duration": 158,
    "start_time": "2022-12-25T08:13:15.729Z"
   },
   {
    "duration": 103,
    "start_time": "2022-12-25T08:14:05.964Z"
   },
   {
    "duration": 22,
    "start_time": "2022-12-25T08:14:14.924Z"
   },
   {
    "duration": 10,
    "start_time": "2022-12-25T08:14:24.799Z"
   },
   {
    "duration": 315,
    "start_time": "2022-12-25T08:23:55.360Z"
   },
   {
    "duration": 301,
    "start_time": "2022-12-25T08:24:37.799Z"
   },
   {
    "duration": 93,
    "start_time": "2022-12-25T08:29:03.262Z"
   },
   {
    "duration": 4099,
    "start_time": "2022-12-25T08:32:05.245Z"
   },
   {
    "duration": 64,
    "start_time": "2022-12-25T08:32:09.347Z"
   },
   {
    "duration": 24,
    "start_time": "2022-12-25T08:32:09.413Z"
   },
   {
    "duration": 30,
    "start_time": "2022-12-25T08:32:09.439Z"
   },
   {
    "duration": 9,
    "start_time": "2022-12-25T08:32:09.472Z"
   },
   {
    "duration": 6,
    "start_time": "2022-12-25T08:32:09.482Z"
   },
   {
    "duration": 13,
    "start_time": "2022-12-25T08:32:09.490Z"
   },
   {
    "duration": 15,
    "start_time": "2022-12-25T08:32:09.505Z"
   },
   {
    "duration": 31,
    "start_time": "2022-12-25T08:32:09.522Z"
   },
   {
    "duration": 18,
    "start_time": "2022-12-25T08:32:09.556Z"
   },
   {
    "duration": 50,
    "start_time": "2022-12-25T08:32:09.583Z"
   },
   {
    "duration": 35,
    "start_time": "2022-12-25T08:32:09.651Z"
   },
   {
    "duration": 36,
    "start_time": "2022-12-25T08:32:09.689Z"
   },
   {
    "duration": 5,
    "start_time": "2022-12-25T08:32:09.753Z"
   },
   {
    "duration": 22,
    "start_time": "2022-12-25T08:32:09.761Z"
   },
   {
    "duration": 32,
    "start_time": "2022-12-25T08:32:09.785Z"
   },
   {
    "duration": 44,
    "start_time": "2022-12-25T08:32:09.819Z"
   },
   {
    "duration": 23,
    "start_time": "2022-12-25T08:32:09.866Z"
   },
   {
    "duration": 293,
    "start_time": "2022-12-25T08:32:09.891Z"
   },
   {
    "duration": 6,
    "start_time": "2022-12-25T08:32:10.186Z"
   },
   {
    "duration": 2187,
    "start_time": "2022-12-25T08:32:10.194Z"
   },
   {
    "duration": 190,
    "start_time": "2022-12-25T08:32:12.383Z"
   },
   {
    "duration": 10,
    "start_time": "2022-12-25T08:32:12.653Z"
   },
   {
    "duration": 287,
    "start_time": "2022-12-25T08:32:12.665Z"
   },
   {
    "duration": 8,
    "start_time": "2022-12-25T08:32:12.954Z"
   },
   {
    "duration": 123,
    "start_time": "2022-12-25T08:32:12.964Z"
   },
   {
    "duration": 3,
    "start_time": "2022-12-25T08:32:13.089Z"
   },
   {
    "duration": 27,
    "start_time": "2022-12-25T08:32:13.094Z"
   },
   {
    "duration": 150,
    "start_time": "2022-12-25T08:32:13.123Z"
   },
   {
    "duration": 24,
    "start_time": "2022-12-25T08:32:13.276Z"
   },
   {
    "duration": 13,
    "start_time": "2022-12-25T08:32:13.303Z"
   },
   {
    "duration": 157,
    "start_time": "2022-12-25T08:32:13.317Z"
   },
   {
    "duration": 102,
    "start_time": "2022-12-25T08:32:13.552Z"
   },
   {
    "duration": 116,
    "start_time": "2022-12-25T08:32:13.657Z"
   },
   {
    "duration": 132,
    "start_time": "2022-12-25T08:32:13.775Z"
   },
   {
    "duration": 6,
    "start_time": "2022-12-25T08:32:13.909Z"
   },
   {
    "duration": 156,
    "start_time": "2022-12-25T08:32:13.917Z"
   },
   {
    "duration": 201,
    "start_time": "2022-12-25T08:32:14.075Z"
   },
   {
    "duration": 303,
    "start_time": "2022-12-25T08:32:14.350Z"
   },
   {
    "duration": 536,
    "start_time": "2022-12-25T08:32:14.655Z"
   },
   {
    "duration": 486,
    "start_time": "2022-12-25T08:32:15.197Z"
   },
   {
    "duration": 46,
    "start_time": "2022-12-25T08:32:15.685Z"
   },
   {
    "duration": 60,
    "start_time": "2022-12-25T08:32:15.733Z"
   },
   {
    "duration": 346,
    "start_time": "2022-12-25T08:32:15.795Z"
   },
   {
    "duration": 275,
    "start_time": "2022-12-25T08:32:16.144Z"
   },
   {
    "duration": 132,
    "start_time": "2022-12-25T08:32:16.421Z"
   },
   {
    "duration": 210,
    "start_time": "2022-12-25T08:32:16.556Z"
   },
   {
    "duration": 84,
    "start_time": "2022-12-25T08:32:16.769Z"
   },
   {
    "duration": 15,
    "start_time": "2022-12-25T08:32:16.856Z"
   },
   {
    "duration": 2982,
    "start_time": "2022-12-25T08:32:16.873Z"
   },
   {
    "duration": 2214,
    "start_time": "2022-12-25T08:32:19.858Z"
   },
   {
    "duration": 106,
    "start_time": "2022-12-25T08:32:22.074Z"
   },
   {
    "duration": 136,
    "start_time": "2022-12-25T08:32:22.182Z"
   },
   {
    "duration": 135,
    "start_time": "2022-12-25T08:32:22.319Z"
   },
   {
    "duration": 12,
    "start_time": "2022-12-25T08:32:22.459Z"
   },
   {
    "duration": 15,
    "start_time": "2022-12-25T08:32:22.473Z"
   },
   {
    "duration": 31,
    "start_time": "2022-12-25T08:32:22.490Z"
   },
   {
    "duration": 277,
    "start_time": "2022-12-25T08:32:22.522Z"
   },
   {
    "duration": 121,
    "start_time": "2022-12-25T08:34:39.241Z"
   },
   {
    "duration": 172,
    "start_time": "2022-12-25T08:34:47.801Z"
   },
   {
    "duration": 116,
    "start_time": "2022-12-25T08:34:54.894Z"
   },
   {
    "duration": 3909,
    "start_time": "2022-12-25T08:35:44.787Z"
   },
   {
    "duration": 58,
    "start_time": "2022-12-25T08:35:48.698Z"
   },
   {
    "duration": 25,
    "start_time": "2022-12-25T08:35:48.758Z"
   },
   {
    "duration": 17,
    "start_time": "2022-12-25T08:35:48.785Z"
   },
   {
    "duration": 6,
    "start_time": "2022-12-25T08:35:48.804Z"
   },
   {
    "duration": 5,
    "start_time": "2022-12-25T08:35:48.812Z"
   },
   {
    "duration": 34,
    "start_time": "2022-12-25T08:35:48.818Z"
   },
   {
    "duration": 22,
    "start_time": "2022-12-25T08:35:48.855Z"
   },
   {
    "duration": 5,
    "start_time": "2022-12-25T08:35:48.879Z"
   },
   {
    "duration": 20,
    "start_time": "2022-12-25T08:35:48.887Z"
   },
   {
    "duration": 50,
    "start_time": "2022-12-25T08:35:48.908Z"
   },
   {
    "duration": 28,
    "start_time": "2022-12-25T08:35:48.960Z"
   },
   {
    "duration": 32,
    "start_time": "2022-12-25T08:35:48.990Z"
   },
   {
    "duration": 26,
    "start_time": "2022-12-25T08:35:49.024Z"
   },
   {
    "duration": 21,
    "start_time": "2022-12-25T08:35:49.053Z"
   },
   {
    "duration": 24,
    "start_time": "2022-12-25T08:35:49.076Z"
   },
   {
    "duration": 19,
    "start_time": "2022-12-25T08:35:49.102Z"
   },
   {
    "duration": 47,
    "start_time": "2022-12-25T08:35:49.123Z"
   },
   {
    "duration": 256,
    "start_time": "2022-12-25T08:35:49.172Z"
   },
   {
    "duration": 5,
    "start_time": "2022-12-25T08:35:49.430Z"
   },
   {
    "duration": 2139,
    "start_time": "2022-12-25T08:35:49.437Z"
   },
   {
    "duration": 190,
    "start_time": "2022-12-25T08:35:51.578Z"
   },
   {
    "duration": 90,
    "start_time": "2022-12-25T08:35:51.770Z"
   },
   {
    "duration": 289,
    "start_time": "2022-12-25T08:35:51.862Z"
   },
   {
    "duration": 13,
    "start_time": "2022-12-25T08:35:52.153Z"
   },
   {
    "duration": 129,
    "start_time": "2022-12-25T08:35:52.168Z"
   },
   {
    "duration": 4,
    "start_time": "2022-12-25T08:35:52.299Z"
   },
   {
    "duration": 19,
    "start_time": "2022-12-25T08:35:52.306Z"
   },
   {
    "duration": 113,
    "start_time": "2022-12-25T08:35:52.327Z"
   },
   {
    "duration": 31,
    "start_time": "2022-12-25T08:35:52.442Z"
   },
   {
    "duration": 10,
    "start_time": "2022-12-25T08:35:52.475Z"
   },
   {
    "duration": 66,
    "start_time": "2022-12-25T08:35:52.487Z"
   },
   {
    "duration": 98,
    "start_time": "2022-12-25T08:35:52.555Z"
   },
   {
    "duration": 111,
    "start_time": "2022-12-25T08:35:52.655Z"
   },
   {
    "duration": 144,
    "start_time": "2022-12-25T08:35:52.767Z"
   },
   {
    "duration": 6,
    "start_time": "2022-12-25T08:35:52.912Z"
   },
   {
    "duration": 152,
    "start_time": "2022-12-25T08:35:52.919Z"
   },
   {
    "duration": 190,
    "start_time": "2022-12-25T08:35:53.072Z"
   },
   {
    "duration": 286,
    "start_time": "2022-12-25T08:35:53.266Z"
   },
   {
    "duration": 517,
    "start_time": "2022-12-25T08:35:53.555Z"
   },
   {
    "duration": 491,
    "start_time": "2022-12-25T08:35:54.075Z"
   },
   {
    "duration": 43,
    "start_time": "2022-12-25T08:35:54.568Z"
   },
   {
    "duration": 56,
    "start_time": "2022-12-25T08:35:54.613Z"
   },
   {
    "duration": 325,
    "start_time": "2022-12-25T08:35:54.671Z"
   },
   {
    "duration": 245,
    "start_time": "2022-12-25T08:35:54.998Z"
   },
   {
    "duration": 122,
    "start_time": "2022-12-25T08:35:55.244Z"
   },
   {
    "duration": 303,
    "start_time": "2022-12-25T08:35:55.367Z"
   },
   {
    "duration": 78,
    "start_time": "2022-12-25T08:35:55.673Z"
   },
   {
    "duration": 17,
    "start_time": "2022-12-25T08:35:55.754Z"
   },
   {
    "duration": 2749,
    "start_time": "2022-12-25T08:35:55.773Z"
   },
   {
    "duration": 2205,
    "start_time": "2022-12-25T08:35:58.524Z"
   },
   {
    "duration": 138,
    "start_time": "2022-12-25T08:36:00.731Z"
   },
   {
    "duration": 174,
    "start_time": "2022-12-25T08:36:00.871Z"
   },
   {
    "duration": 134,
    "start_time": "2022-12-25T08:36:01.050Z"
   },
   {
    "duration": 6,
    "start_time": "2022-12-25T08:36:01.186Z"
   },
   {
    "duration": 36,
    "start_time": "2022-12-25T08:36:01.193Z"
   },
   {
    "duration": 50,
    "start_time": "2022-12-25T08:36:01.231Z"
   },
   {
    "duration": 295,
    "start_time": "2022-12-25T08:36:01.283Z"
   },
   {
    "duration": 4867,
    "start_time": "2022-12-25T11:11:10.833Z"
   },
   {
    "duration": 99,
    "start_time": "2022-12-25T11:11:15.703Z"
   },
   {
    "duration": 21,
    "start_time": "2022-12-25T11:11:15.804Z"
   },
   {
    "duration": 18,
    "start_time": "2022-12-25T11:11:15.826Z"
   },
   {
    "duration": 6,
    "start_time": "2022-12-25T11:11:15.847Z"
   },
   {
    "duration": 8,
    "start_time": "2022-12-25T11:11:15.855Z"
   },
   {
    "duration": 7,
    "start_time": "2022-12-25T11:11:15.865Z"
   },
   {
    "duration": 14,
    "start_time": "2022-12-25T11:11:15.873Z"
   },
   {
    "duration": 4,
    "start_time": "2022-12-25T11:11:15.913Z"
   },
   {
    "duration": 6,
    "start_time": "2022-12-25T11:11:15.919Z"
   },
   {
    "duration": 36,
    "start_time": "2022-12-25T11:11:15.927Z"
   },
   {
    "duration": 53,
    "start_time": "2022-12-25T11:11:15.964Z"
   },
   {
    "duration": 29,
    "start_time": "2022-12-25T11:11:16.018Z"
   },
   {
    "duration": 3,
    "start_time": "2022-12-25T11:11:16.050Z"
   },
   {
    "duration": 14,
    "start_time": "2022-12-25T11:11:16.055Z"
   },
   {
    "duration": 49,
    "start_time": "2022-12-25T11:11:16.071Z"
   },
   {
    "duration": 17,
    "start_time": "2022-12-25T11:11:16.122Z"
   },
   {
    "duration": 23,
    "start_time": "2022-12-25T11:11:16.141Z"
   },
   {
    "duration": 268,
    "start_time": "2022-12-25T11:11:16.166Z"
   },
   {
    "duration": 5,
    "start_time": "2022-12-25T11:11:16.436Z"
   },
   {
    "duration": 1944,
    "start_time": "2022-12-25T11:11:16.443Z"
   },
   {
    "duration": 145,
    "start_time": "2022-12-25T11:11:18.389Z"
   },
   {
    "duration": 78,
    "start_time": "2022-12-25T11:11:18.536Z"
   },
   {
    "duration": 225,
    "start_time": "2022-12-25T11:11:18.616Z"
   },
   {
    "duration": 9,
    "start_time": "2022-12-25T11:11:18.913Z"
   },
   {
    "duration": 54,
    "start_time": "2022-12-25T11:11:19.013Z"
   },
   {
    "duration": 4,
    "start_time": "2022-12-25T11:11:19.069Z"
   },
   {
    "duration": 29,
    "start_time": "2022-12-25T11:11:19.075Z"
   },
   {
    "duration": 114,
    "start_time": "2022-12-25T11:11:19.106Z"
   },
   {
    "duration": 23,
    "start_time": "2022-12-25T11:11:19.222Z"
   },
   {
    "duration": 10,
    "start_time": "2022-12-25T11:11:19.247Z"
   },
   {
    "duration": 54,
    "start_time": "2022-12-25T11:11:19.259Z"
   },
   {
    "duration": 199,
    "start_time": "2022-12-25T11:11:19.315Z"
   },
   {
    "duration": 110,
    "start_time": "2022-12-25T11:11:19.516Z"
   },
   {
    "duration": 151,
    "start_time": "2022-12-25T11:11:19.628Z"
   },
   {
    "duration": 6,
    "start_time": "2022-12-25T11:11:19.781Z"
   },
   {
    "duration": 134,
    "start_time": "2022-12-25T11:11:19.789Z"
   },
   {
    "duration": 189,
    "start_time": "2022-12-25T11:11:19.924Z"
   },
   {
    "duration": 298,
    "start_time": "2022-12-25T11:11:20.115Z"
   },
   {
    "duration": 497,
    "start_time": "2022-12-25T11:11:20.416Z"
   },
   {
    "duration": 396,
    "start_time": "2022-12-25T11:11:20.918Z"
   },
   {
    "duration": 41,
    "start_time": "2022-12-25T11:11:21.316Z"
   },
   {
    "duration": 53,
    "start_time": "2022-12-25T11:11:21.359Z"
   },
   {
    "duration": 282,
    "start_time": "2022-12-25T11:11:21.414Z"
   },
   {
    "duration": 234,
    "start_time": "2022-12-25T11:11:21.697Z"
   },
   {
    "duration": 92,
    "start_time": "2022-12-25T11:11:21.933Z"
   },
   {
    "duration": 288,
    "start_time": "2022-12-25T11:11:22.027Z"
   },
   {
    "duration": 3,
    "start_time": "2022-12-25T11:11:22.317Z"
   },
   {
    "duration": 6,
    "start_time": "2022-12-25T11:11:22.322Z"
   },
   {
    "duration": 2528,
    "start_time": "2022-12-25T11:11:22.330Z"
   },
   {
    "duration": 2002,
    "start_time": "2022-12-25T11:11:24.860Z"
   },
   {
    "duration": 110,
    "start_time": "2022-12-25T11:11:26.863Z"
   },
   {
    "duration": 133,
    "start_time": "2022-12-25T11:11:26.975Z"
   },
   {
    "duration": 105,
    "start_time": "2022-12-25T11:11:27.113Z"
   },
   {
    "duration": 8,
    "start_time": "2022-12-25T11:11:27.221Z"
   },
   {
    "duration": 13,
    "start_time": "2022-12-25T11:11:27.231Z"
   },
   {
    "duration": 27,
    "start_time": "2022-12-25T11:11:27.246Z"
   },
   {
    "duration": 348,
    "start_time": "2022-12-25T11:11:27.275Z"
   },
   {
    "duration": 96,
    "start_time": "2022-12-25T11:12:53.492Z"
   },
   {
    "duration": 122,
    "start_time": "2022-12-25T11:13:00.138Z"
   },
   {
    "duration": 95,
    "start_time": "2022-12-25T11:13:10.810Z"
   },
   {
    "duration": 3276,
    "start_time": "2022-12-25T11:13:35.451Z"
   },
   {
    "duration": 52,
    "start_time": "2022-12-25T11:13:38.729Z"
   },
   {
    "duration": 21,
    "start_time": "2022-12-25T11:13:38.783Z"
   },
   {
    "duration": 20,
    "start_time": "2022-12-25T11:13:38.806Z"
   },
   {
    "duration": 7,
    "start_time": "2022-12-25T11:13:38.827Z"
   },
   {
    "duration": 4,
    "start_time": "2022-12-25T11:13:38.836Z"
   },
   {
    "duration": 7,
    "start_time": "2022-12-25T11:13:38.842Z"
   },
   {
    "duration": 15,
    "start_time": "2022-12-25T11:13:38.850Z"
   },
   {
    "duration": 4,
    "start_time": "2022-12-25T11:13:38.867Z"
   },
   {
    "duration": 4,
    "start_time": "2022-12-25T11:13:38.874Z"
   },
   {
    "duration": 58,
    "start_time": "2022-12-25T11:13:38.879Z"
   },
   {
    "duration": 25,
    "start_time": "2022-12-25T11:13:38.939Z"
   },
   {
    "duration": 54,
    "start_time": "2022-12-25T11:13:38.966Z"
   },
   {
    "duration": 3,
    "start_time": "2022-12-25T11:13:39.022Z"
   },
   {
    "duration": 14,
    "start_time": "2022-12-25T11:13:39.027Z"
   },
   {
    "duration": 40,
    "start_time": "2022-12-25T11:13:39.043Z"
   },
   {
    "duration": 36,
    "start_time": "2022-12-25T11:13:39.084Z"
   },
   {
    "duration": 26,
    "start_time": "2022-12-25T11:13:39.123Z"
   },
   {
    "duration": 223,
    "start_time": "2022-12-25T11:13:39.151Z"
   },
   {
    "duration": 3,
    "start_time": "2022-12-25T11:13:39.376Z"
   },
   {
    "duration": 1885,
    "start_time": "2022-12-25T11:13:39.381Z"
   },
   {
    "duration": 154,
    "start_time": "2022-12-25T11:13:41.268Z"
   },
   {
    "duration": 7,
    "start_time": "2022-12-25T11:13:41.513Z"
   },
   {
    "duration": 390,
    "start_time": "2022-12-25T11:13:41.522Z"
   },
   {
    "duration": 5,
    "start_time": "2022-12-25T11:13:41.914Z"
   },
   {
    "duration": 38,
    "start_time": "2022-12-25T11:13:41.921Z"
   },
   {
    "duration": 11,
    "start_time": "2022-12-25T11:13:41.960Z"
   },
   {
    "duration": 28,
    "start_time": "2022-12-25T11:13:41.974Z"
   },
   {
    "duration": 94,
    "start_time": "2022-12-25T11:13:42.004Z"
   },
   {
    "duration": 28,
    "start_time": "2022-12-25T11:13:42.100Z"
   },
   {
    "duration": 10,
    "start_time": "2022-12-25T11:13:42.130Z"
   },
   {
    "duration": 73,
    "start_time": "2022-12-25T11:13:42.142Z"
   },
   {
    "duration": 94,
    "start_time": "2022-12-25T11:13:42.219Z"
   },
   {
    "duration": 114,
    "start_time": "2022-12-25T11:13:42.317Z"
   },
   {
    "duration": 130,
    "start_time": "2022-12-25T11:13:42.432Z"
   },
   {
    "duration": 6,
    "start_time": "2022-12-25T11:13:42.563Z"
   },
   {
    "duration": 135,
    "start_time": "2022-12-25T11:13:42.570Z"
   },
   {
    "duration": 132,
    "start_time": "2022-12-25T11:13:42.711Z"
   },
   {
    "duration": 319,
    "start_time": "2022-12-25T11:13:42.847Z"
   },
   {
    "duration": 401,
    "start_time": "2022-12-25T11:13:43.212Z"
   },
   {
    "duration": 499,
    "start_time": "2022-12-25T11:13:43.615Z"
   },
   {
    "duration": 39,
    "start_time": "2022-12-25T11:13:44.116Z"
   },
   {
    "duration": 37,
    "start_time": "2022-12-25T11:13:44.156Z"
   },
   {
    "duration": 276,
    "start_time": "2022-12-25T11:13:44.212Z"
   },
   {
    "duration": 213,
    "start_time": "2022-12-25T11:13:44.489Z"
   },
   {
    "duration": 109,
    "start_time": "2022-12-25T11:13:44.704Z"
   },
   {
    "duration": 205,
    "start_time": "2022-12-25T11:13:44.815Z"
   },
   {
    "duration": 91,
    "start_time": "2022-12-25T11:13:45.022Z"
   },
   {
    "duration": 13,
    "start_time": "2022-12-25T11:13:45.115Z"
   },
   {
    "duration": 2451,
    "start_time": "2022-12-25T11:13:45.130Z"
   },
   {
    "duration": 1834,
    "start_time": "2022-12-25T11:13:47.582Z"
   },
   {
    "duration": 100,
    "start_time": "2022-12-25T11:13:49.417Z"
   },
   {
    "duration": 121,
    "start_time": "2022-12-25T11:13:49.519Z"
   },
   {
    "duration": 102,
    "start_time": "2022-12-25T11:13:49.641Z"
   },
   {
    "duration": 7,
    "start_time": "2022-12-25T11:13:49.744Z"
   },
   {
    "duration": 12,
    "start_time": "2022-12-25T11:13:49.752Z"
   },
   {
    "duration": 47,
    "start_time": "2022-12-25T11:13:49.765Z"
   },
   {
    "duration": 309,
    "start_time": "2022-12-25T11:13:49.813Z"
   },
   {
    "duration": 3264,
    "start_time": "2022-12-25T11:23:34.156Z"
   },
   {
    "duration": 51,
    "start_time": "2022-12-25T11:23:37.422Z"
   },
   {
    "duration": 18,
    "start_time": "2022-12-25T11:23:37.475Z"
   },
   {
    "duration": 20,
    "start_time": "2022-12-25T11:23:37.494Z"
   },
   {
    "duration": 7,
    "start_time": "2022-12-25T11:23:37.516Z"
   },
   {
    "duration": 3,
    "start_time": "2022-12-25T11:23:37.524Z"
   },
   {
    "duration": 11,
    "start_time": "2022-12-25T11:23:37.528Z"
   },
   {
    "duration": 11,
    "start_time": "2022-12-25T11:23:37.541Z"
   },
   {
    "duration": 4,
    "start_time": "2022-12-25T11:23:37.554Z"
   },
   {
    "duration": 8,
    "start_time": "2022-12-25T11:23:37.559Z"
   },
   {
    "duration": 55,
    "start_time": "2022-12-25T11:23:37.568Z"
   },
   {
    "duration": 24,
    "start_time": "2022-12-25T11:23:37.625Z"
   },
   {
    "duration": 27,
    "start_time": "2022-12-25T11:23:37.651Z"
   },
   {
    "duration": 31,
    "start_time": "2022-12-25T11:23:37.681Z"
   },
   {
    "duration": 14,
    "start_time": "2022-12-25T11:23:37.714Z"
   },
   {
    "duration": 22,
    "start_time": "2022-12-25T11:23:37.729Z"
   },
   {
    "duration": 19,
    "start_time": "2022-12-25T11:23:37.752Z"
   },
   {
    "duration": 48,
    "start_time": "2022-12-25T11:23:37.773Z"
   },
   {
    "duration": 201,
    "start_time": "2022-12-25T11:23:37.823Z"
   },
   {
    "duration": 5,
    "start_time": "2022-12-25T11:23:38.026Z"
   },
   {
    "duration": 1787,
    "start_time": "2022-12-25T11:23:38.032Z"
   },
   {
    "duration": 132,
    "start_time": "2022-12-25T11:23:39.821Z"
   },
   {
    "duration": 58,
    "start_time": "2022-12-25T11:23:39.955Z"
   },
   {
    "duration": 243,
    "start_time": "2022-12-25T11:23:40.016Z"
   },
   {
    "duration": 7,
    "start_time": "2022-12-25T11:23:40.313Z"
   },
   {
    "duration": 121,
    "start_time": "2022-12-25T11:23:40.322Z"
   },
   {
    "duration": 3,
    "start_time": "2022-12-25T11:23:40.445Z"
   },
   {
    "duration": 23,
    "start_time": "2022-12-25T11:23:40.451Z"
   },
   {
    "duration": 107,
    "start_time": "2022-12-25T11:23:40.476Z"
   },
   {
    "duration": 31,
    "start_time": "2022-12-25T11:23:40.585Z"
   },
   {
    "duration": 11,
    "start_time": "2022-12-25T11:23:40.618Z"
   },
   {
    "duration": 83,
    "start_time": "2022-12-25T11:23:40.631Z"
   },
   {
    "duration": 105,
    "start_time": "2022-12-25T11:23:40.716Z"
   },
   {
    "duration": 23,
    "start_time": "2022-12-25T11:23:40.913Z"
   },
   {
    "duration": 147,
    "start_time": "2022-12-25T11:23:40.939Z"
   },
   {
    "duration": 5,
    "start_time": "2022-12-25T11:23:41.088Z"
   },
   {
    "duration": 131,
    "start_time": "2022-12-25T11:23:41.094Z"
   },
   {
    "duration": 138,
    "start_time": "2022-12-25T11:23:41.227Z"
   },
   {
    "duration": 294,
    "start_time": "2022-12-25T11:23:41.366Z"
   },
   {
    "duration": 449,
    "start_time": "2022-12-25T11:23:41.664Z"
   },
   {
    "duration": 499,
    "start_time": "2022-12-25T11:23:42.119Z"
   },
   {
    "duration": 46,
    "start_time": "2022-12-25T11:23:42.620Z"
   },
   {
    "duration": 54,
    "start_time": "2022-12-25T11:23:42.668Z"
   },
   {
    "duration": 274,
    "start_time": "2022-12-25T11:23:42.723Z"
   },
   {
    "duration": 204,
    "start_time": "2022-12-25T11:23:42.999Z"
   },
   {
    "duration": 109,
    "start_time": "2022-12-25T11:23:43.205Z"
   },
   {
    "duration": 299,
    "start_time": "2022-12-25T11:23:43.316Z"
   },
   {
    "duration": 4,
    "start_time": "2022-12-25T11:23:43.616Z"
   },
   {
    "duration": 7,
    "start_time": "2022-12-25T11:23:43.621Z"
   },
   {
    "duration": 2328,
    "start_time": "2022-12-25T11:23:43.629Z"
   },
   {
    "duration": 1816,
    "start_time": "2022-12-25T11:23:45.959Z"
   },
   {
    "duration": 96,
    "start_time": "2022-12-25T11:23:47.777Z"
   },
   {
    "duration": 9,
    "start_time": "2022-12-25T11:23:47.875Z"
   },
   {
    "duration": 29,
    "start_time": "2022-12-25T11:23:47.886Z"
   },
   {
    "duration": 39,
    "start_time": "2022-12-25T11:23:47.917Z"
   },
   {
    "duration": 313,
    "start_time": "2022-12-25T11:23:47.958Z"
   },
   {
    "duration": 10,
    "start_time": "2022-12-25T11:26:27.236Z"
   },
   {
    "duration": 9,
    "start_time": "2022-12-25T11:26:34.292Z"
   },
   {
    "duration": 11,
    "start_time": "2022-12-25T11:26:48.900Z"
   },
   {
    "duration": 3220,
    "start_time": "2022-12-25T11:27:48.740Z"
   },
   {
    "duration": 53,
    "start_time": "2022-12-25T11:27:51.962Z"
   },
   {
    "duration": 20,
    "start_time": "2022-12-25T11:27:52.016Z"
   },
   {
    "duration": 15,
    "start_time": "2022-12-25T11:27:52.038Z"
   },
   {
    "duration": 6,
    "start_time": "2022-12-25T11:27:52.055Z"
   },
   {
    "duration": 7,
    "start_time": "2022-12-25T11:27:52.063Z"
   },
   {
    "duration": 6,
    "start_time": "2022-12-25T11:27:52.072Z"
   },
   {
    "duration": 33,
    "start_time": "2022-12-25T11:27:52.080Z"
   },
   {
    "duration": 5,
    "start_time": "2022-12-25T11:27:52.115Z"
   },
   {
    "duration": 4,
    "start_time": "2022-12-25T11:27:52.122Z"
   },
   {
    "duration": 34,
    "start_time": "2022-12-25T11:27:52.127Z"
   },
   {
    "duration": 56,
    "start_time": "2022-12-25T11:27:52.163Z"
   },
   {
    "duration": 28,
    "start_time": "2022-12-25T11:27:52.220Z"
   },
   {
    "duration": 3,
    "start_time": "2022-12-25T11:27:52.249Z"
   },
   {
    "duration": 12,
    "start_time": "2022-12-25T11:27:52.254Z"
   },
   {
    "duration": 20,
    "start_time": "2022-12-25T11:27:52.267Z"
   },
   {
    "duration": 39,
    "start_time": "2022-12-25T11:27:52.289Z"
   },
   {
    "duration": 18,
    "start_time": "2022-12-25T11:27:52.330Z"
   },
   {
    "duration": 213,
    "start_time": "2022-12-25T11:27:52.350Z"
   },
   {
    "duration": 4,
    "start_time": "2022-12-25T11:27:52.564Z"
   },
   {
    "duration": 1794,
    "start_time": "2022-12-25T11:27:52.569Z"
   },
   {
    "duration": 150,
    "start_time": "2022-12-25T11:27:54.365Z"
   },
   {
    "duration": 97,
    "start_time": "2022-12-25T11:27:54.518Z"
   },
   {
    "duration": 230,
    "start_time": "2022-12-25T11:27:54.616Z"
   },
   {
    "duration": 7,
    "start_time": "2022-12-25T11:27:54.913Z"
   },
   {
    "duration": 119,
    "start_time": "2022-12-25T11:27:54.921Z"
   },
   {
    "duration": 3,
    "start_time": "2022-12-25T11:27:55.041Z"
   },
   {
    "duration": 16,
    "start_time": "2022-12-25T11:27:55.048Z"
   },
   {
    "duration": 114,
    "start_time": "2022-12-25T11:27:55.066Z"
   },
   {
    "duration": 32,
    "start_time": "2022-12-25T11:27:55.181Z"
   },
   {
    "duration": 9,
    "start_time": "2022-12-25T11:27:55.214Z"
   },
   {
    "duration": 22,
    "start_time": "2022-12-25T11:27:55.225Z"
   },
   {
    "duration": 264,
    "start_time": "2022-12-25T11:27:55.248Z"
   },
   {
    "duration": 11,
    "start_time": "2022-12-25T11:27:55.514Z"
   },
   {
    "duration": 136,
    "start_time": "2022-12-25T11:27:55.526Z"
   },
   {
    "duration": 6,
    "start_time": "2022-12-25T11:27:55.664Z"
   },
   {
    "duration": 120,
    "start_time": "2022-12-25T11:27:55.672Z"
   },
   {
    "duration": 147,
    "start_time": "2022-12-25T11:27:55.794Z"
   },
   {
    "duration": 369,
    "start_time": "2022-12-25T11:27:55.943Z"
   },
   {
    "duration": 430,
    "start_time": "2022-12-25T11:27:56.314Z"
   },
   {
    "duration": 402,
    "start_time": "2022-12-25T11:27:56.812Z"
   },
   {
    "duration": 38,
    "start_time": "2022-12-25T11:27:57.216Z"
   },
   {
    "duration": 31,
    "start_time": "2022-12-25T11:27:57.255Z"
   },
   {
    "duration": 272,
    "start_time": "2022-12-25T11:27:57.288Z"
   },
   {
    "duration": 216,
    "start_time": "2022-12-25T11:27:57.562Z"
   },
   {
    "duration": 43,
    "start_time": "2022-12-25T11:27:57.779Z"
   },
   {
    "duration": 300,
    "start_time": "2022-12-25T11:27:57.913Z"
   },
   {
    "duration": 3,
    "start_time": "2022-12-25T11:27:58.215Z"
   },
   {
    "duration": 10,
    "start_time": "2022-12-25T11:27:58.219Z"
   },
   {
    "duration": 2352,
    "start_time": "2022-12-25T11:27:58.231Z"
   },
   {
    "duration": 1822,
    "start_time": "2022-12-25T11:28:00.585Z"
   },
   {
    "duration": 104,
    "start_time": "2022-12-25T11:28:02.408Z"
   },
   {
    "duration": 6,
    "start_time": "2022-12-25T11:28:02.514Z"
   },
   {
    "duration": 14,
    "start_time": "2022-12-25T11:28:02.521Z"
   },
   {
    "duration": 33,
    "start_time": "2022-12-25T11:28:02.536Z"
   },
   {
    "duration": 274,
    "start_time": "2022-12-25T11:28:02.571Z"
   },
   {
    "duration": 103,
    "start_time": "2022-12-25T11:32:01.182Z"
   },
   {
    "duration": 85,
    "start_time": "2022-12-25T11:32:13.121Z"
   },
   {
    "duration": 100,
    "start_time": "2022-12-25T11:35:17.321Z"
   },
   {
    "duration": 23,
    "start_time": "2022-12-25T11:35:35.761Z"
   },
   {
    "duration": 93,
    "start_time": "2022-12-25T11:38:15.517Z"
   },
   {
    "duration": 9,
    "start_time": "2022-12-25T11:38:28.329Z"
   },
   {
    "duration": 24,
    "start_time": "2022-12-25T11:38:35.833Z"
   },
   {
    "duration": 3227,
    "start_time": "2022-12-25T11:38:42.080Z"
   },
   {
    "duration": 52,
    "start_time": "2022-12-25T11:38:45.310Z"
   },
   {
    "duration": 20,
    "start_time": "2022-12-25T11:38:45.363Z"
   },
   {
    "duration": 16,
    "start_time": "2022-12-25T11:38:45.385Z"
   },
   {
    "duration": 12,
    "start_time": "2022-12-25T11:38:45.402Z"
   },
   {
    "duration": 4,
    "start_time": "2022-12-25T11:38:45.416Z"
   },
   {
    "duration": 6,
    "start_time": "2022-12-25T11:38:45.421Z"
   },
   {
    "duration": 12,
    "start_time": "2022-12-25T11:38:45.428Z"
   },
   {
    "duration": 5,
    "start_time": "2022-12-25T11:38:45.441Z"
   },
   {
    "duration": 4,
    "start_time": "2022-12-25T11:38:45.449Z"
   },
   {
    "duration": 59,
    "start_time": "2022-12-25T11:38:45.454Z"
   },
   {
    "duration": 23,
    "start_time": "2022-12-25T11:38:45.514Z"
   },
   {
    "duration": 27,
    "start_time": "2022-12-25T11:38:45.539Z"
   },
   {
    "duration": 4,
    "start_time": "2022-12-25T11:38:45.568Z"
   },
   {
    "duration": 40,
    "start_time": "2022-12-25T11:38:45.573Z"
   },
   {
    "duration": 20,
    "start_time": "2022-12-25T11:38:45.615Z"
   },
   {
    "duration": 17,
    "start_time": "2022-12-25T11:38:45.636Z"
   },
   {
    "duration": 17,
    "start_time": "2022-12-25T11:38:45.655Z"
   },
   {
    "duration": 230,
    "start_time": "2022-12-25T11:38:45.674Z"
   },
   {
    "duration": 11,
    "start_time": "2022-12-25T11:38:45.905Z"
   },
   {
    "duration": 1768,
    "start_time": "2022-12-25T11:38:45.918Z"
   },
   {
    "duration": 225,
    "start_time": "2022-12-25T11:38:47.687Z"
   },
   {
    "duration": 10,
    "start_time": "2022-12-25T11:38:47.914Z"
   },
   {
    "duration": 290,
    "start_time": "2022-12-25T11:38:47.925Z"
   },
   {
    "duration": 95,
    "start_time": "2022-12-25T11:38:48.218Z"
   },
   {
    "duration": 29,
    "start_time": "2022-12-25T11:38:48.315Z"
   },
   {
    "duration": 4,
    "start_time": "2022-12-25T11:38:48.345Z"
   },
   {
    "duration": 15,
    "start_time": "2022-12-25T11:38:48.352Z"
   },
   {
    "duration": 113,
    "start_time": "2022-12-25T11:38:48.368Z"
   },
   {
    "duration": 18,
    "start_time": "2022-12-25T11:38:48.483Z"
   },
   {
    "duration": 10,
    "start_time": "2022-12-25T11:38:48.511Z"
   },
   {
    "duration": 96,
    "start_time": "2022-12-25T11:38:48.522Z"
   },
   {
    "duration": 192,
    "start_time": "2022-12-25T11:38:48.620Z"
   },
   {
    "duration": 97,
    "start_time": "2022-12-25T11:38:48.815Z"
   },
   {
    "duration": 148,
    "start_time": "2022-12-25T11:38:48.914Z"
   },
   {
    "duration": 6,
    "start_time": "2022-12-25T11:38:49.064Z"
   },
   {
    "duration": 166,
    "start_time": "2022-12-25T11:38:49.072Z"
   },
   {
    "duration": 129,
    "start_time": "2022-12-25T11:38:49.240Z"
   },
   {
    "duration": 244,
    "start_time": "2022-12-25T11:38:49.412Z"
   },
   {
    "duration": 455,
    "start_time": "2022-12-25T11:38:49.658Z"
   },
   {
    "duration": 414,
    "start_time": "2022-12-25T11:38:50.115Z"
   },
   {
    "duration": 47,
    "start_time": "2022-12-25T11:38:50.532Z"
   },
   {
    "duration": 65,
    "start_time": "2022-12-25T11:38:50.581Z"
   },
   {
    "duration": 279,
    "start_time": "2022-12-25T11:38:50.648Z"
   },
   {
    "duration": 218,
    "start_time": "2022-12-25T11:38:50.928Z"
   },
   {
    "duration": 165,
    "start_time": "2022-12-25T11:38:51.147Z"
   },
   {
    "duration": 199,
    "start_time": "2022-12-25T11:38:51.314Z"
   },
   {
    "duration": 4,
    "start_time": "2022-12-25T11:38:51.514Z"
   },
   {
    "duration": 7,
    "start_time": "2022-12-25T11:38:51.519Z"
   },
   {
    "duration": 2235,
    "start_time": "2022-12-25T11:38:51.527Z"
   },
   {
    "duration": 1714,
    "start_time": "2022-12-25T11:38:53.763Z"
   },
   {
    "duration": 110,
    "start_time": "2022-12-25T11:38:55.479Z"
   },
   {
    "duration": 6,
    "start_time": "2022-12-25T11:38:55.590Z"
   },
   {
    "duration": 21,
    "start_time": "2022-12-25T11:38:55.597Z"
   },
   {
    "duration": 28,
    "start_time": "2022-12-25T11:38:55.619Z"
   },
   {
    "duration": 263,
    "start_time": "2022-12-25T11:38:55.649Z"
   },
   {
    "duration": 96,
    "start_time": "2022-12-25T11:40:22.041Z"
   },
   {
    "duration": 3254,
    "start_time": "2022-12-25T11:40:44.472Z"
   },
   {
    "duration": 53,
    "start_time": "2022-12-25T11:40:47.728Z"
   },
   {
    "duration": 19,
    "start_time": "2022-12-25T11:40:47.782Z"
   },
   {
    "duration": 17,
    "start_time": "2022-12-25T11:40:47.803Z"
   },
   {
    "duration": 6,
    "start_time": "2022-12-25T11:40:47.821Z"
   },
   {
    "duration": 3,
    "start_time": "2022-12-25T11:40:47.829Z"
   },
   {
    "duration": 8,
    "start_time": "2022-12-25T11:40:47.833Z"
   },
   {
    "duration": 12,
    "start_time": "2022-12-25T11:40:47.842Z"
   },
   {
    "duration": 4,
    "start_time": "2022-12-25T11:40:47.855Z"
   },
   {
    "duration": 4,
    "start_time": "2022-12-25T11:40:47.862Z"
   },
   {
    "duration": 62,
    "start_time": "2022-12-25T11:40:47.867Z"
   },
   {
    "duration": 23,
    "start_time": "2022-12-25T11:40:47.930Z"
   },
   {
    "duration": 58,
    "start_time": "2022-12-25T11:40:47.955Z"
   },
   {
    "duration": 3,
    "start_time": "2022-12-25T11:40:48.015Z"
   },
   {
    "duration": 11,
    "start_time": "2022-12-25T11:40:48.020Z"
   },
   {
    "duration": 23,
    "start_time": "2022-12-25T11:40:48.033Z"
   },
   {
    "duration": 58,
    "start_time": "2022-12-25T11:40:48.057Z"
   },
   {
    "duration": 25,
    "start_time": "2022-12-25T11:40:48.117Z"
   },
   {
    "duration": 193,
    "start_time": "2022-12-25T11:40:48.143Z"
   },
   {
    "duration": 3,
    "start_time": "2022-12-25T11:40:48.338Z"
   },
   {
    "duration": 1749,
    "start_time": "2022-12-25T11:40:48.343Z"
   },
   {
    "duration": 142,
    "start_time": "2022-12-25T11:40:50.093Z"
   },
   {
    "duration": 97,
    "start_time": "2022-12-25T11:40:50.315Z"
   },
   {
    "duration": 134,
    "start_time": "2022-12-25T11:40:50.414Z"
   },
   {
    "duration": 67,
    "start_time": "2022-12-25T11:40:50.550Z"
   },
   {
    "duration": 122,
    "start_time": "2022-12-25T11:40:50.619Z"
   },
   {
    "duration": 3,
    "start_time": "2022-12-25T11:40:50.742Z"
   },
   {
    "duration": 16,
    "start_time": "2022-12-25T11:40:50.748Z"
   },
   {
    "duration": 95,
    "start_time": "2022-12-25T11:40:50.766Z"
   },
   {
    "duration": 19,
    "start_time": "2022-12-25T11:40:50.863Z"
   },
   {
    "duration": 10,
    "start_time": "2022-12-25T11:40:50.883Z"
   },
   {
    "duration": 21,
    "start_time": "2022-12-25T11:40:50.913Z"
   },
   {
    "duration": 276,
    "start_time": "2022-12-25T11:40:50.936Z"
   },
   {
    "duration": 10,
    "start_time": "2022-12-25T11:40:51.214Z"
   },
   {
    "duration": 131,
    "start_time": "2022-12-25T11:40:51.225Z"
   },
   {
    "duration": 5,
    "start_time": "2022-12-25T11:40:51.358Z"
   },
   {
    "duration": 124,
    "start_time": "2022-12-25T11:40:51.365Z"
   },
   {
    "duration": 129,
    "start_time": "2022-12-25T11:40:51.492Z"
   },
   {
    "duration": 394,
    "start_time": "2022-12-25T11:40:51.622Z"
   },
   {
    "duration": 406,
    "start_time": "2022-12-25T11:40:52.019Z"
   },
   {
    "duration": 474,
    "start_time": "2022-12-25T11:40:52.426Z"
   },
   {
    "duration": 45,
    "start_time": "2022-12-25T11:40:52.902Z"
   },
   {
    "duration": 37,
    "start_time": "2022-12-25T11:40:52.949Z"
   },
   {
    "duration": 300,
    "start_time": "2022-12-25T11:40:52.988Z"
   },
   {
    "duration": 217,
    "start_time": "2022-12-25T11:40:53.289Z"
   },
   {
    "duration": 117,
    "start_time": "2022-12-25T11:40:53.508Z"
   },
   {
    "duration": 196,
    "start_time": "2022-12-25T11:40:53.627Z"
   },
   {
    "duration": 3,
    "start_time": "2022-12-25T11:40:53.913Z"
   },
   {
    "duration": 23,
    "start_time": "2022-12-25T11:40:53.918Z"
   },
   {
    "duration": 2276,
    "start_time": "2022-12-25T11:40:53.943Z"
   },
   {
    "duration": 1776,
    "start_time": "2022-12-25T11:40:56.221Z"
   },
   {
    "duration": 8,
    "start_time": "2022-12-25T11:40:57.998Z"
   },
   {
    "duration": 117,
    "start_time": "2022-12-25T11:40:58.013Z"
   },
   {
    "duration": 0,
    "start_time": "2022-12-25T11:40:58.132Z"
   },
   {
    "duration": 0,
    "start_time": "2022-12-25T11:40:58.133Z"
   },
   {
    "duration": 128,
    "start_time": "2022-12-25T11:45:00.301Z"
   },
   {
    "duration": 143,
    "start_time": "2022-12-25T11:45:08.616Z"
   },
   {
    "duration": 3227,
    "start_time": "2022-12-25T11:45:23.330Z"
   },
   {
    "duration": 63,
    "start_time": "2022-12-25T11:45:26.560Z"
   },
   {
    "duration": 24,
    "start_time": "2022-12-25T11:45:26.624Z"
   },
   {
    "duration": 15,
    "start_time": "2022-12-25T11:45:26.650Z"
   },
   {
    "duration": 6,
    "start_time": "2022-12-25T11:45:26.667Z"
   },
   {
    "duration": 6,
    "start_time": "2022-12-25T11:45:26.674Z"
   },
   {
    "duration": 6,
    "start_time": "2022-12-25T11:45:26.681Z"
   },
   {
    "duration": 10,
    "start_time": "2022-12-25T11:45:26.712Z"
   },
   {
    "duration": 8,
    "start_time": "2022-12-25T11:45:26.723Z"
   },
   {
    "duration": 4,
    "start_time": "2022-12-25T11:45:26.733Z"
   },
   {
    "duration": 30,
    "start_time": "2022-12-25T11:45:26.738Z"
   },
   {
    "duration": 53,
    "start_time": "2022-12-25T11:45:26.770Z"
   },
   {
    "duration": 29,
    "start_time": "2022-12-25T11:45:26.825Z"
   },
   {
    "duration": 3,
    "start_time": "2022-12-25T11:45:26.857Z"
   },
   {
    "duration": 24,
    "start_time": "2022-12-25T11:45:26.861Z"
   },
   {
    "duration": 61,
    "start_time": "2022-12-25T11:45:26.886Z"
   },
   {
    "duration": 15,
    "start_time": "2022-12-25T11:45:26.949Z"
   },
   {
    "duration": 66,
    "start_time": "2022-12-25T11:45:26.966Z"
   },
   {
    "duration": 402,
    "start_time": "2022-12-25T11:45:27.034Z"
   },
   {
    "duration": 3,
    "start_time": "2022-12-25T11:45:27.438Z"
   },
   {
    "duration": 2565,
    "start_time": "2022-12-25T11:45:27.443Z"
   },
   {
    "duration": 208,
    "start_time": "2022-12-25T11:45:30.009Z"
   },
   {
    "duration": 14,
    "start_time": "2022-12-25T11:45:30.218Z"
   },
   {
    "duration": 194,
    "start_time": "2022-12-25T11:45:30.318Z"
   },
   {
    "duration": 8,
    "start_time": "2022-12-25T11:45:30.518Z"
   },
   {
    "duration": 132,
    "start_time": "2022-12-25T11:45:30.533Z"
   },
   {
    "duration": 3,
    "start_time": "2022-12-25T11:45:30.667Z"
   },
   {
    "duration": 33,
    "start_time": "2022-12-25T11:45:30.671Z"
   },
   {
    "duration": 95,
    "start_time": "2022-12-25T11:45:30.706Z"
   },
   {
    "duration": 24,
    "start_time": "2022-12-25T11:45:30.802Z"
   },
   {
    "duration": 16,
    "start_time": "2022-12-25T11:45:30.828Z"
   },
   {
    "duration": 73,
    "start_time": "2022-12-25T11:45:30.845Z"
   },
   {
    "duration": 202,
    "start_time": "2022-12-25T11:45:30.921Z"
   },
   {
    "duration": 94,
    "start_time": "2022-12-25T11:45:31.125Z"
   },
   {
    "duration": 145,
    "start_time": "2022-12-25T11:45:31.221Z"
   },
   {
    "duration": 5,
    "start_time": "2022-12-25T11:45:31.368Z"
   },
   {
    "duration": 158,
    "start_time": "2022-12-25T11:45:31.375Z"
   },
   {
    "duration": 187,
    "start_time": "2022-12-25T11:45:31.535Z"
   },
   {
    "duration": 294,
    "start_time": "2022-12-25T11:45:31.724Z"
   },
   {
    "duration": 459,
    "start_time": "2022-12-25T11:45:32.020Z"
   },
   {
    "duration": 395,
    "start_time": "2022-12-25T11:45:32.517Z"
   },
   {
    "duration": 47,
    "start_time": "2022-12-25T11:45:32.914Z"
   },
   {
    "duration": 56,
    "start_time": "2022-12-25T11:45:32.963Z"
   },
   {
    "duration": 327,
    "start_time": "2022-12-25T11:45:33.021Z"
   },
   {
    "duration": 227,
    "start_time": "2022-12-25T11:45:33.350Z"
   },
   {
    "duration": 143,
    "start_time": "2022-12-25T11:45:33.579Z"
   },
   {
    "duration": 197,
    "start_time": "2022-12-25T11:45:33.731Z"
   },
   {
    "duration": 88,
    "start_time": "2022-12-25T11:45:33.930Z"
   },
   {
    "duration": 4,
    "start_time": "2022-12-25T11:45:34.020Z"
   },
   {
    "duration": 2382,
    "start_time": "2022-12-25T11:45:34.026Z"
   },
   {
    "duration": 1873,
    "start_time": "2022-12-25T11:45:36.411Z"
   },
   {
    "duration": 136,
    "start_time": "2022-12-25T11:45:38.286Z"
   },
   {
    "duration": 7,
    "start_time": "2022-12-25T11:45:38.424Z"
   },
   {
    "duration": 12,
    "start_time": "2022-12-25T11:45:38.433Z"
   },
   {
    "duration": 28,
    "start_time": "2022-12-25T11:45:38.447Z"
   },
   {
    "duration": 249,
    "start_time": "2022-12-25T11:45:38.477Z"
   },
   {
    "duration": 105,
    "start_time": "2022-12-25T11:48:01.201Z"
   },
   {
    "duration": 3309,
    "start_time": "2022-12-25T11:48:08.902Z"
   },
   {
    "duration": 65,
    "start_time": "2022-12-25T11:48:12.215Z"
   },
   {
    "duration": 17,
    "start_time": "2022-12-25T11:48:12.282Z"
   },
   {
    "duration": 27,
    "start_time": "2022-12-25T11:48:12.302Z"
   },
   {
    "duration": 45,
    "start_time": "2022-12-25T11:48:12.331Z"
   },
   {
    "duration": 15,
    "start_time": "2022-12-25T11:48:12.378Z"
   },
   {
    "duration": 33,
    "start_time": "2022-12-25T11:48:12.395Z"
   },
   {
    "duration": 27,
    "start_time": "2022-12-25T11:48:12.430Z"
   },
   {
    "duration": 31,
    "start_time": "2022-12-25T11:48:12.459Z"
   },
   {
    "duration": 60,
    "start_time": "2022-12-25T11:48:12.493Z"
   },
   {
    "duration": 71,
    "start_time": "2022-12-25T11:48:12.555Z"
   },
   {
    "duration": 48,
    "start_time": "2022-12-25T11:48:12.627Z"
   },
   {
    "duration": 26,
    "start_time": "2022-12-25T11:48:12.676Z"
   },
   {
    "duration": 26,
    "start_time": "2022-12-25T11:48:12.704Z"
   },
   {
    "duration": 59,
    "start_time": "2022-12-25T11:48:12.732Z"
   },
   {
    "duration": 59,
    "start_time": "2022-12-25T11:48:12.792Z"
   },
   {
    "duration": 21,
    "start_time": "2022-12-25T11:48:12.853Z"
   },
   {
    "duration": 29,
    "start_time": "2022-12-25T11:48:12.876Z"
   },
   {
    "duration": 319,
    "start_time": "2022-12-25T11:48:12.907Z"
   },
   {
    "duration": 4,
    "start_time": "2022-12-25T11:48:13.228Z"
   },
   {
    "duration": 1894,
    "start_time": "2022-12-25T11:48:13.233Z"
   },
   {
    "duration": 133,
    "start_time": "2022-12-25T11:48:15.129Z"
   },
   {
    "duration": 12,
    "start_time": "2022-12-25T11:48:15.318Z"
   },
   {
    "duration": 277,
    "start_time": "2022-12-25T11:48:15.335Z"
   },
   {
    "duration": 13,
    "start_time": "2022-12-25T11:48:15.614Z"
   },
   {
    "duration": 135,
    "start_time": "2022-12-25T11:48:15.629Z"
   },
   {
    "duration": 4,
    "start_time": "2022-12-25T11:48:15.765Z"
   },
   {
    "duration": 23,
    "start_time": "2022-12-25T11:48:15.772Z"
   },
   {
    "duration": 112,
    "start_time": "2022-12-25T11:48:15.796Z"
   },
   {
    "duration": 31,
    "start_time": "2022-12-25T11:48:15.910Z"
   },
   {
    "duration": 9,
    "start_time": "2022-12-25T11:48:15.942Z"
   },
   {
    "duration": 66,
    "start_time": "2022-12-25T11:48:15.953Z"
   },
   {
    "duration": 96,
    "start_time": "2022-12-25T11:48:16.020Z"
   },
   {
    "duration": 121,
    "start_time": "2022-12-25T11:48:16.118Z"
   },
   {
    "duration": 153,
    "start_time": "2022-12-25T11:48:16.241Z"
   },
   {
    "duration": 5,
    "start_time": "2022-12-25T11:48:16.395Z"
   },
   {
    "duration": 136,
    "start_time": "2022-12-25T11:48:16.401Z"
   },
   {
    "duration": 200,
    "start_time": "2022-12-25T11:48:16.539Z"
   },
   {
    "duration": 215,
    "start_time": "2022-12-25T11:48:16.819Z"
   },
   {
    "duration": 487,
    "start_time": "2022-12-25T11:48:17.035Z"
   },
   {
    "duration": 381,
    "start_time": "2022-12-25T11:48:17.527Z"
   },
   {
    "duration": 47,
    "start_time": "2022-12-25T11:48:17.909Z"
   },
   {
    "duration": 33,
    "start_time": "2022-12-25T11:48:17.958Z"
   },
   {
    "duration": 296,
    "start_time": "2022-12-25T11:48:17.993Z"
   },
   {
    "duration": 216,
    "start_time": "2022-12-25T11:48:18.291Z"
   },
   {
    "duration": 110,
    "start_time": "2022-12-25T11:48:18.508Z"
   },
   {
    "duration": 207,
    "start_time": "2022-12-25T11:48:18.620Z"
   },
   {
    "duration": 4,
    "start_time": "2022-12-25T11:48:18.831Z"
   },
   {
    "duration": 104,
    "start_time": "2022-12-25T11:48:18.837Z"
   },
   {
    "duration": 2481,
    "start_time": "2022-12-25T11:48:18.943Z"
   },
   {
    "duration": 1920,
    "start_time": "2022-12-25T11:48:21.426Z"
   },
   {
    "duration": 109,
    "start_time": "2022-12-25T11:48:23.348Z"
   },
   {
    "duration": 6,
    "start_time": "2022-12-25T11:48:23.458Z"
   },
   {
    "duration": 62,
    "start_time": "2022-12-25T11:48:23.465Z"
   },
   {
    "duration": 63,
    "start_time": "2022-12-25T11:48:23.529Z"
   },
   {
    "duration": 296,
    "start_time": "2022-12-25T11:48:23.594Z"
   },
   {
    "duration": 4976,
    "start_time": "2022-12-25T13:22:09.929Z"
   },
   {
    "duration": 104,
    "start_time": "2022-12-25T13:22:14.909Z"
   },
   {
    "duration": 20,
    "start_time": "2022-12-25T13:22:15.015Z"
   },
   {
    "duration": 18,
    "start_time": "2022-12-25T13:22:15.037Z"
   },
   {
    "duration": 8,
    "start_time": "2022-12-25T13:22:15.057Z"
   },
   {
    "duration": 15,
    "start_time": "2022-12-25T13:22:15.067Z"
   },
   {
    "duration": 14,
    "start_time": "2022-12-25T13:22:15.084Z"
   },
   {
    "duration": 26,
    "start_time": "2022-12-25T13:22:15.100Z"
   },
   {
    "duration": 5,
    "start_time": "2022-12-25T13:22:15.128Z"
   },
   {
    "duration": 13,
    "start_time": "2022-12-25T13:22:15.134Z"
   },
   {
    "duration": 61,
    "start_time": "2022-12-25T13:22:15.149Z"
   },
   {
    "duration": 35,
    "start_time": "2022-12-25T13:22:15.212Z"
   },
   {
    "duration": 33,
    "start_time": "2022-12-25T13:22:15.249Z"
   },
   {
    "duration": 10,
    "start_time": "2022-12-25T13:22:15.285Z"
   },
   {
    "duration": 39,
    "start_time": "2022-12-25T13:22:15.297Z"
   },
   {
    "duration": 32,
    "start_time": "2022-12-25T13:22:15.338Z"
   },
   {
    "duration": 19,
    "start_time": "2022-12-25T13:22:15.372Z"
   },
   {
    "duration": 19,
    "start_time": "2022-12-25T13:22:15.393Z"
   },
   {
    "duration": 241,
    "start_time": "2022-12-25T13:22:15.413Z"
   },
   {
    "duration": 5,
    "start_time": "2022-12-25T13:22:15.656Z"
   },
   {
    "duration": 2042,
    "start_time": "2022-12-25T13:22:15.663Z"
   },
   {
    "duration": 152,
    "start_time": "2022-12-25T13:22:17.706Z"
   },
   {
    "duration": 79,
    "start_time": "2022-12-25T13:22:17.859Z"
   },
   {
    "duration": 297,
    "start_time": "2022-12-25T13:22:17.940Z"
   },
   {
    "duration": 97,
    "start_time": "2022-12-25T13:22:18.239Z"
   },
   {
    "duration": 33,
    "start_time": "2022-12-25T13:22:18.337Z"
   },
   {
    "duration": 4,
    "start_time": "2022-12-25T13:22:18.371Z"
   },
   {
    "duration": 18,
    "start_time": "2022-12-25T13:22:18.377Z"
   },
   {
    "duration": 121,
    "start_time": "2022-12-25T13:22:18.397Z"
   },
   {
    "duration": 29,
    "start_time": "2022-12-25T13:22:18.520Z"
   },
   {
    "duration": 10,
    "start_time": "2022-12-25T13:22:18.551Z"
   },
   {
    "duration": 74,
    "start_time": "2022-12-25T13:22:18.563Z"
   },
   {
    "duration": 99,
    "start_time": "2022-12-25T13:22:18.639Z"
   },
   {
    "duration": 113,
    "start_time": "2022-12-25T13:22:18.741Z"
   },
   {
    "duration": 134,
    "start_time": "2022-12-25T13:22:18.856Z"
   },
   {
    "duration": 7,
    "start_time": "2022-12-25T13:22:18.992Z"
   },
   {
    "duration": 188,
    "start_time": "2022-12-25T13:22:19.001Z"
   },
   {
    "duration": 162,
    "start_time": "2022-12-25T13:22:19.191Z"
   },
   {
    "duration": 350,
    "start_time": "2022-12-25T13:22:19.355Z"
   },
   {
    "duration": 432,
    "start_time": "2022-12-25T13:22:19.737Z"
   },
   {
    "duration": 413,
    "start_time": "2022-12-25T13:22:20.236Z"
   },
   {
    "duration": 47,
    "start_time": "2022-12-25T13:22:20.651Z"
   },
   {
    "duration": 50,
    "start_time": "2022-12-25T13:22:20.700Z"
   },
   {
    "duration": 339,
    "start_time": "2022-12-25T13:22:20.751Z"
   },
   {
    "duration": 260,
    "start_time": "2022-12-25T13:22:21.092Z"
   },
   {
    "duration": 90,
    "start_time": "2022-12-25T13:22:21.353Z"
   },
   {
    "duration": 204,
    "start_time": "2022-12-25T13:22:21.536Z"
   },
   {
    "duration": 3,
    "start_time": "2022-12-25T13:22:21.742Z"
   },
   {
    "duration": 7,
    "start_time": "2022-12-25T13:22:21.747Z"
   },
   {
    "duration": 2628,
    "start_time": "2022-12-25T13:22:21.756Z"
   },
   {
    "duration": 2038,
    "start_time": "2022-12-25T13:22:24.386Z"
   },
   {
    "duration": 126,
    "start_time": "2022-12-25T13:22:26.436Z"
   },
   {
    "duration": 7,
    "start_time": "2022-12-25T13:22:26.564Z"
   },
   {
    "duration": 20,
    "start_time": "2022-12-25T13:22:26.573Z"
   },
   {
    "duration": 47,
    "start_time": "2022-12-25T13:22:26.595Z"
   },
   {
    "duration": 305,
    "start_time": "2022-12-25T13:22:26.644Z"
   },
   {
    "duration": 99,
    "start_time": "2022-12-25T13:30:00.768Z"
   },
   {
    "duration": 152,
    "start_time": "2022-12-25T13:30:05.148Z"
   },
   {
    "duration": 113,
    "start_time": "2022-12-25T13:30:08.068Z"
   },
   {
    "duration": 109,
    "start_time": "2022-12-25T13:30:33.567Z"
   },
   {
    "duration": 146,
    "start_time": "2022-12-25T13:30:34.089Z"
   },
   {
    "duration": 117,
    "start_time": "2022-12-25T13:30:35.540Z"
   },
   {
    "duration": 136,
    "start_time": "2022-12-25T13:31:47.792Z"
   },
   {
    "duration": 122,
    "start_time": "2022-12-25T13:33:03.709Z"
   },
   {
    "duration": 111,
    "start_time": "2022-12-25T13:33:35.590Z"
   },
   {
    "duration": 3743,
    "start_time": "2022-12-25T13:33:43.709Z"
   },
   {
    "duration": 53,
    "start_time": "2022-12-25T13:33:47.454Z"
   },
   {
    "duration": 20,
    "start_time": "2022-12-25T13:33:47.509Z"
   },
   {
    "duration": 35,
    "start_time": "2022-12-25T13:33:47.531Z"
   },
   {
    "duration": 7,
    "start_time": "2022-12-25T13:33:47.568Z"
   },
   {
    "duration": 10,
    "start_time": "2022-12-25T13:33:47.577Z"
   },
   {
    "duration": 13,
    "start_time": "2022-12-25T13:33:47.588Z"
   },
   {
    "duration": 15,
    "start_time": "2022-12-25T13:33:47.602Z"
   },
   {
    "duration": 8,
    "start_time": "2022-12-25T13:33:47.619Z"
   },
   {
    "duration": 21,
    "start_time": "2022-12-25T13:33:47.630Z"
   },
   {
    "duration": 45,
    "start_time": "2022-12-25T13:33:47.653Z"
   },
   {
    "duration": 24,
    "start_time": "2022-12-25T13:33:47.700Z"
   },
   {
    "duration": 36,
    "start_time": "2022-12-25T13:33:47.725Z"
   },
   {
    "duration": 4,
    "start_time": "2022-12-25T13:33:47.762Z"
   },
   {
    "duration": 15,
    "start_time": "2022-12-25T13:33:47.767Z"
   },
   {
    "duration": 32,
    "start_time": "2022-12-25T13:33:47.783Z"
   },
   {
    "duration": 15,
    "start_time": "2022-12-25T13:33:47.817Z"
   },
   {
    "duration": 25,
    "start_time": "2022-12-25T13:33:47.835Z"
   },
   {
    "duration": 228,
    "start_time": "2022-12-25T13:33:47.861Z"
   },
   {
    "duration": 4,
    "start_time": "2022-12-25T13:33:48.090Z"
   },
   {
    "duration": 2061,
    "start_time": "2022-12-25T13:33:48.095Z"
   },
   {
    "duration": 193,
    "start_time": "2022-12-25T13:33:50.158Z"
   },
   {
    "duration": 90,
    "start_time": "2022-12-25T13:33:50.353Z"
   },
   {
    "duration": 194,
    "start_time": "2022-12-25T13:33:50.445Z"
   },
   {
    "duration": 12,
    "start_time": "2022-12-25T13:33:50.641Z"
   },
   {
    "duration": 143,
    "start_time": "2022-12-25T13:33:50.655Z"
   },
   {
    "duration": 24,
    "start_time": "2022-12-25T13:33:50.801Z"
   },
   {
    "duration": 93,
    "start_time": "2022-12-25T13:33:50.830Z"
   },
   {
    "duration": 132,
    "start_time": "2022-12-25T13:33:50.925Z"
   },
   {
    "duration": 26,
    "start_time": "2022-12-25T13:33:51.059Z"
   },
   {
    "duration": 12,
    "start_time": "2022-12-25T13:33:51.087Z"
   },
   {
    "duration": 140,
    "start_time": "2022-12-25T13:33:51.101Z"
   },
   {
    "duration": 199,
    "start_time": "2022-12-25T13:33:51.244Z"
   },
   {
    "duration": 118,
    "start_time": "2022-12-25T13:33:51.445Z"
   },
   {
    "duration": 144,
    "start_time": "2022-12-25T13:33:51.565Z"
   },
   {
    "duration": 5,
    "start_time": "2022-12-25T13:33:51.711Z"
   },
   {
    "duration": 169,
    "start_time": "2022-12-25T13:33:51.718Z"
   },
   {
    "duration": 167,
    "start_time": "2022-12-25T13:33:51.889Z"
   },
   {
    "duration": 313,
    "start_time": "2022-12-25T13:33:52.135Z"
   },
   {
    "duration": 589,
    "start_time": "2022-12-25T13:33:52.451Z"
   },
   {
    "duration": 511,
    "start_time": "2022-12-25T13:33:53.045Z"
   },
   {
    "duration": 96,
    "start_time": "2022-12-25T13:33:53.557Z"
   },
   {
    "duration": 36,
    "start_time": "2022-12-25T13:33:53.655Z"
   },
   {
    "duration": 358,
    "start_time": "2022-12-25T13:33:53.693Z"
   },
   {
    "duration": 419,
    "start_time": "2022-12-25T13:33:54.053Z"
   },
   {
    "duration": 167,
    "start_time": "2022-12-25T13:33:54.474Z"
   },
   {
    "duration": 200,
    "start_time": "2022-12-25T13:33:54.643Z"
   },
   {
    "duration": 113,
    "start_time": "2022-12-25T13:33:54.845Z"
   },
   {
    "duration": 18,
    "start_time": "2022-12-25T13:33:54.961Z"
   },
   {
    "duration": 2590,
    "start_time": "2022-12-25T13:33:54.981Z"
   },
   {
    "duration": 1978,
    "start_time": "2022-12-25T13:33:57.573Z"
   },
   {
    "duration": 122,
    "start_time": "2022-12-25T13:33:59.553Z"
   },
   {
    "duration": 150,
    "start_time": "2022-12-25T13:33:59.677Z"
   },
   {
    "duration": 122,
    "start_time": "2022-12-25T13:33:59.828Z"
   },
   {
    "duration": 6,
    "start_time": "2022-12-25T13:33:59.951Z"
   },
   {
    "duration": 152,
    "start_time": "2022-12-25T13:33:59.958Z"
   },
   {
    "duration": 0,
    "start_time": "2022-12-25T13:34:00.113Z"
   },
   {
    "duration": 0,
    "start_time": "2022-12-25T13:34:00.114Z"
   },
   {
    "duration": 51,
    "start_time": "2022-12-25T13:38:09.750Z"
   },
   {
    "duration": 3664,
    "start_time": "2022-12-25T13:41:44.448Z"
   },
   {
    "duration": 55,
    "start_time": "2022-12-25T13:41:48.114Z"
   },
   {
    "duration": 19,
    "start_time": "2022-12-25T13:41:48.171Z"
   },
   {
    "duration": 17,
    "start_time": "2022-12-25T13:41:48.192Z"
   },
   {
    "duration": 31,
    "start_time": "2022-12-25T13:41:48.211Z"
   },
   {
    "duration": 13,
    "start_time": "2022-12-25T13:41:48.244Z"
   },
   {
    "duration": 9,
    "start_time": "2022-12-25T13:41:48.259Z"
   },
   {
    "duration": 18,
    "start_time": "2022-12-25T13:41:48.270Z"
   },
   {
    "duration": 22,
    "start_time": "2022-12-25T13:41:48.290Z"
   },
   {
    "duration": 17,
    "start_time": "2022-12-25T13:41:48.315Z"
   },
   {
    "duration": 35,
    "start_time": "2022-12-25T13:41:48.333Z"
   },
   {
    "duration": 25,
    "start_time": "2022-12-25T13:41:48.369Z"
   },
   {
    "duration": 52,
    "start_time": "2022-12-25T13:41:48.396Z"
   },
   {
    "duration": 3,
    "start_time": "2022-12-25T13:41:48.450Z"
   },
   {
    "duration": 37,
    "start_time": "2022-12-25T13:41:48.455Z"
   },
   {
    "duration": 30,
    "start_time": "2022-12-25T13:41:48.493Z"
   },
   {
    "duration": 18,
    "start_time": "2022-12-25T13:41:48.525Z"
   },
   {
    "duration": 24,
    "start_time": "2022-12-25T13:41:48.545Z"
   },
   {
    "duration": 219,
    "start_time": "2022-12-25T13:41:48.570Z"
   },
   {
    "duration": 4,
    "start_time": "2022-12-25T13:41:48.790Z"
   },
   {
    "duration": 2081,
    "start_time": "2022-12-25T13:41:48.796Z"
   },
   {
    "duration": 169,
    "start_time": "2022-12-25T13:41:50.878Z"
   },
   {
    "duration": 94,
    "start_time": "2022-12-25T13:41:51.049Z"
   },
   {
    "duration": 391,
    "start_time": "2022-12-25T13:41:51.145Z"
   },
   {
    "duration": 6,
    "start_time": "2022-12-25T13:41:51.538Z"
   },
   {
    "duration": 59,
    "start_time": "2022-12-25T13:41:51.545Z"
   },
   {
    "duration": 3,
    "start_time": "2022-12-25T13:41:51.606Z"
   },
   {
    "duration": 29,
    "start_time": "2022-12-25T13:41:51.612Z"
   },
   {
    "duration": 109,
    "start_time": "2022-12-25T13:41:51.643Z"
   },
   {
    "duration": 23,
    "start_time": "2022-12-25T13:41:51.754Z"
   },
   {
    "duration": 11,
    "start_time": "2022-12-25T13:41:51.779Z"
   },
   {
    "duration": 55,
    "start_time": "2022-12-25T13:41:51.792Z"
   },
   {
    "duration": 287,
    "start_time": "2022-12-25T13:41:51.849Z"
   },
   {
    "duration": 11,
    "start_time": "2022-12-25T13:41:52.138Z"
   },
   {
    "duration": 156,
    "start_time": "2022-12-25T13:41:52.151Z"
   },
   {
    "duration": 6,
    "start_time": "2022-12-25T13:41:52.309Z"
   },
   {
    "duration": 166,
    "start_time": "2022-12-25T13:41:52.316Z"
   },
   {
    "duration": 254,
    "start_time": "2022-12-25T13:41:52.484Z"
   },
   {
    "duration": 297,
    "start_time": "2022-12-25T13:41:52.741Z"
   },
   {
    "duration": 505,
    "start_time": "2022-12-25T13:41:53.040Z"
   },
   {
    "duration": 511,
    "start_time": "2022-12-25T13:41:53.547Z"
   },
   {
    "duration": 85,
    "start_time": "2022-12-25T13:41:54.059Z"
   },
   {
    "duration": 93,
    "start_time": "2022-12-25T13:41:54.146Z"
   },
   {
    "duration": 439,
    "start_time": "2022-12-25T13:41:54.241Z"
   },
   {
    "duration": 231,
    "start_time": "2022-12-25T13:41:54.682Z"
   },
   {
    "duration": 121,
    "start_time": "2022-12-25T13:41:54.915Z"
   },
   {
    "duration": 301,
    "start_time": "2022-12-25T13:41:55.038Z"
   },
   {
    "duration": 3,
    "start_time": "2022-12-25T13:41:55.341Z"
   },
   {
    "duration": 23,
    "start_time": "2022-12-25T13:41:55.346Z"
   },
   {
    "duration": 2614,
    "start_time": "2022-12-25T13:41:55.371Z"
   },
   {
    "duration": 2080,
    "start_time": "2022-12-25T13:41:57.987Z"
   },
   {
    "duration": 119,
    "start_time": "2022-12-25T13:42:00.069Z"
   },
   {
    "duration": 148,
    "start_time": "2022-12-25T13:42:00.190Z"
   },
   {
    "duration": 115,
    "start_time": "2022-12-25T13:42:00.340Z"
   },
   {
    "duration": 7,
    "start_time": "2022-12-25T13:42:00.457Z"
   },
   {
    "duration": 63,
    "start_time": "2022-12-25T13:42:00.465Z"
   },
   {
    "duration": 88,
    "start_time": "2022-12-25T13:42:00.530Z"
   },
   {
    "duration": 42,
    "start_time": "2022-12-25T13:42:00.620Z"
   },
   {
    "duration": 162,
    "start_time": "2022-12-25T13:42:00.664Z"
   },
   {
    "duration": 0,
    "start_time": "2022-12-25T13:42:00.828Z"
   },
   {
    "duration": 19,
    "start_time": "2022-12-25T13:48:16.148Z"
   },
   {
    "duration": 328,
    "start_time": "2022-12-25T13:51:33.726Z"
   },
   {
    "duration": 117,
    "start_time": "2022-12-25T13:52:36.453Z"
   },
   {
    "duration": 7,
    "start_time": "2022-12-25T13:53:16.634Z"
   },
   {
    "duration": 8,
    "start_time": "2022-12-25T13:53:19.877Z"
   },
   {
    "duration": 29,
    "start_time": "2022-12-25T13:54:31.025Z"
   },
   {
    "duration": 4479,
    "start_time": "2022-12-25T13:55:50.405Z"
   },
   {
    "duration": 68,
    "start_time": "2022-12-25T13:55:54.886Z"
   },
   {
    "duration": 30,
    "start_time": "2022-12-25T13:55:54.956Z"
   },
   {
    "duration": 19,
    "start_time": "2022-12-25T13:55:54.988Z"
   },
   {
    "duration": 36,
    "start_time": "2022-12-25T13:55:55.009Z"
   },
   {
    "duration": 36,
    "start_time": "2022-12-25T13:55:55.048Z"
   },
   {
    "duration": 18,
    "start_time": "2022-12-25T13:55:55.087Z"
   },
   {
    "duration": 32,
    "start_time": "2022-12-25T13:55:55.107Z"
   },
   {
    "duration": 18,
    "start_time": "2022-12-25T13:55:55.142Z"
   },
   {
    "duration": 6,
    "start_time": "2022-12-25T13:55:55.164Z"
   },
   {
    "duration": 50,
    "start_time": "2022-12-25T13:55:55.171Z"
   },
   {
    "duration": 39,
    "start_time": "2022-12-25T13:55:55.223Z"
   },
   {
    "duration": 43,
    "start_time": "2022-12-25T13:55:55.264Z"
   },
   {
    "duration": 10,
    "start_time": "2022-12-25T13:55:55.310Z"
   },
   {
    "duration": 42,
    "start_time": "2022-12-25T13:55:55.322Z"
   },
   {
    "duration": 47,
    "start_time": "2022-12-25T13:55:55.367Z"
   },
   {
    "duration": 33,
    "start_time": "2022-12-25T13:55:55.416Z"
   },
   {
    "duration": 30,
    "start_time": "2022-12-25T13:55:55.451Z"
   },
   {
    "duration": 262,
    "start_time": "2022-12-25T13:55:55.483Z"
   },
   {
    "duration": 9,
    "start_time": "2022-12-25T13:55:55.747Z"
   },
   {
    "duration": 2169,
    "start_time": "2022-12-25T13:55:55.757Z"
   },
   {
    "duration": 159,
    "start_time": "2022-12-25T13:55:57.927Z"
   },
   {
    "duration": 56,
    "start_time": "2022-12-25T13:55:58.088Z"
   },
   {
    "duration": 389,
    "start_time": "2022-12-25T13:55:58.147Z"
   },
   {
    "duration": 10,
    "start_time": "2022-12-25T13:55:58.538Z"
   },
   {
    "duration": 44,
    "start_time": "2022-12-25T13:55:58.553Z"
   },
   {
    "duration": 5,
    "start_time": "2022-12-25T13:55:58.599Z"
   },
   {
    "duration": 24,
    "start_time": "2022-12-25T13:55:58.647Z"
   },
   {
    "duration": 123,
    "start_time": "2022-12-25T13:55:58.673Z"
   },
   {
    "duration": 24,
    "start_time": "2022-12-25T13:55:58.799Z"
   },
   {
    "duration": 27,
    "start_time": "2022-12-25T13:55:58.825Z"
   },
   {
    "duration": 80,
    "start_time": "2022-12-25T13:55:58.858Z"
   },
   {
    "duration": 120,
    "start_time": "2022-12-25T13:55:58.941Z"
   },
   {
    "duration": 104,
    "start_time": "2022-12-25T13:55:59.067Z"
   },
   {
    "duration": 172,
    "start_time": "2022-12-25T13:55:59.173Z"
   },
   {
    "duration": 7,
    "start_time": "2022-12-25T13:55:59.353Z"
   },
   {
    "duration": 139,
    "start_time": "2022-12-25T13:55:59.362Z"
   },
   {
    "duration": 178,
    "start_time": "2022-12-25T13:55:59.504Z"
   },
   {
    "duration": 369,
    "start_time": "2022-12-25T13:55:59.684Z"
   },
   {
    "duration": 587,
    "start_time": "2022-12-25T13:56:00.055Z"
   },
   {
    "duration": 418,
    "start_time": "2022-12-25T13:56:00.643Z"
   },
   {
    "duration": 45,
    "start_time": "2022-12-25T13:56:01.063Z"
   },
   {
    "duration": 75,
    "start_time": "2022-12-25T13:56:01.110Z"
   },
   {
    "duration": 322,
    "start_time": "2022-12-25T13:56:01.188Z"
   },
   {
    "duration": 261,
    "start_time": "2022-12-25T13:56:01.512Z"
   },
   {
    "duration": 76,
    "start_time": "2022-12-25T13:56:01.775Z"
   },
   {
    "duration": 289,
    "start_time": "2022-12-25T13:56:01.853Z"
   },
   {
    "duration": 13,
    "start_time": "2022-12-25T13:56:02.148Z"
   },
   {
    "duration": 29,
    "start_time": "2022-12-25T13:56:02.164Z"
   },
   {
    "duration": 2961,
    "start_time": "2022-12-25T13:56:02.196Z"
   },
   {
    "duration": 2195,
    "start_time": "2022-12-25T13:56:05.159Z"
   },
   {
    "duration": 127,
    "start_time": "2022-12-25T13:56:07.357Z"
   },
   {
    "duration": 167,
    "start_time": "2022-12-25T13:56:07.485Z"
   },
   {
    "duration": 127,
    "start_time": "2022-12-25T13:56:07.656Z"
   },
   {
    "duration": 11,
    "start_time": "2022-12-25T13:56:07.786Z"
   },
   {
    "duration": 31,
    "start_time": "2022-12-25T13:56:07.801Z"
   },
   {
    "duration": 60,
    "start_time": "2022-12-25T13:56:07.835Z"
   },
   {
    "duration": 21,
    "start_time": "2022-12-25T13:56:07.897Z"
   },
   {
    "duration": 68,
    "start_time": "2022-12-25T13:56:07.920Z"
   },
   {
    "duration": 30,
    "start_time": "2022-12-25T13:56:07.991Z"
   },
   {
    "duration": 301,
    "start_time": "2022-12-25T13:56:08.024Z"
   },
   {
    "duration": 125738,
    "start_time": "2022-12-25T13:59:03.225Z"
   },
   {
    "duration": 0,
    "start_time": "2022-12-25T14:05:21.058Z"
   },
   {
    "duration": 40471,
    "start_time": "2022-12-25T14:05:35.858Z"
   },
   {
    "duration": 63,
    "start_time": "2022-12-25T14:10:41.393Z"
   },
   {
    "duration": 51,
    "start_time": "2022-12-25T14:12:08.652Z"
   },
   {
    "duration": 59,
    "start_time": "2022-12-25T14:12:16.608Z"
   },
   {
    "duration": 4065,
    "start_time": "2022-12-25T14:13:24.656Z"
   },
   {
    "duration": 74,
    "start_time": "2022-12-25T14:13:28.724Z"
   },
   {
    "duration": 25,
    "start_time": "2022-12-25T14:13:28.799Z"
   },
   {
    "duration": 24,
    "start_time": "2022-12-25T14:13:28.826Z"
   },
   {
    "duration": 23,
    "start_time": "2022-12-25T14:13:28.858Z"
   },
   {
    "duration": 35,
    "start_time": "2022-12-25T14:13:28.883Z"
   },
   {
    "duration": 29,
    "start_time": "2022-12-25T14:13:28.920Z"
   },
   {
    "duration": 12,
    "start_time": "2022-12-25T14:13:28.952Z"
   },
   {
    "duration": 30,
    "start_time": "2022-12-25T14:13:28.966Z"
   },
   {
    "duration": 21,
    "start_time": "2022-12-25T14:13:28.999Z"
   },
   {
    "duration": 46,
    "start_time": "2022-12-25T14:13:29.023Z"
   },
   {
    "duration": 39,
    "start_time": "2022-12-25T14:13:29.072Z"
   },
   {
    "duration": 45,
    "start_time": "2022-12-25T14:13:29.113Z"
   },
   {
    "duration": 3,
    "start_time": "2022-12-25T14:13:29.162Z"
   },
   {
    "duration": 19,
    "start_time": "2022-12-25T14:13:29.166Z"
   },
   {
    "duration": 25,
    "start_time": "2022-12-25T14:13:29.187Z"
   },
   {
    "duration": 43,
    "start_time": "2022-12-25T14:13:29.214Z"
   },
   {
    "duration": 18,
    "start_time": "2022-12-25T14:13:29.259Z"
   },
   {
    "duration": 235,
    "start_time": "2022-12-25T14:13:29.279Z"
   },
   {
    "duration": 4,
    "start_time": "2022-12-25T14:13:29.516Z"
   },
   {
    "duration": 3362,
    "start_time": "2022-12-25T14:13:29.522Z"
   },
   {
    "duration": 248,
    "start_time": "2022-12-25T14:13:32.887Z"
   },
   {
    "duration": 96,
    "start_time": "2022-12-25T14:13:33.143Z"
   },
   {
    "duration": 195,
    "start_time": "2022-12-25T14:13:33.241Z"
   },
   {
    "duration": 12,
    "start_time": "2022-12-25T14:13:33.438Z"
   },
   {
    "duration": 130,
    "start_time": "2022-12-25T14:13:33.454Z"
   },
   {
    "duration": 4,
    "start_time": "2022-12-25T14:13:33.585Z"
   },
   {
    "duration": 21,
    "start_time": "2022-12-25T14:13:33.590Z"
   },
   {
    "duration": 130,
    "start_time": "2022-12-25T14:13:33.613Z"
   },
   {
    "duration": 26,
    "start_time": "2022-12-25T14:13:33.745Z"
   },
   {
    "duration": 15,
    "start_time": "2022-12-25T14:13:33.773Z"
   },
   {
    "duration": 148,
    "start_time": "2022-12-25T14:13:33.791Z"
   },
   {
    "duration": 111,
    "start_time": "2022-12-25T14:13:33.941Z"
   },
   {
    "duration": 102,
    "start_time": "2022-12-25T14:13:34.136Z"
   },
   {
    "duration": 156,
    "start_time": "2022-12-25T14:13:34.240Z"
   },
   {
    "duration": 6,
    "start_time": "2022-12-25T14:13:34.398Z"
   },
   {
    "duration": 180,
    "start_time": "2022-12-25T14:13:34.407Z"
   },
   {
    "duration": 192,
    "start_time": "2022-12-25T14:13:34.589Z"
   },
   {
    "duration": 326,
    "start_time": "2022-12-25T14:13:34.834Z"
   },
   {
    "duration": 587,
    "start_time": "2022-12-25T14:13:35.162Z"
   },
   {
    "duration": 446,
    "start_time": "2022-12-25T14:13:35.836Z"
   },
   {
    "duration": 65,
    "start_time": "2022-12-25T14:13:36.285Z"
   },
   {
    "duration": 56,
    "start_time": "2022-12-25T14:13:36.353Z"
   },
   {
    "duration": 370,
    "start_time": "2022-12-25T14:13:36.411Z"
   },
   {
    "duration": 252,
    "start_time": "2022-12-25T14:13:36.783Z"
   },
   {
    "duration": 101,
    "start_time": "2022-12-25T14:13:37.038Z"
   },
   {
    "duration": 303,
    "start_time": "2022-12-25T14:13:37.143Z"
   },
   {
    "duration": 5,
    "start_time": "2022-12-25T14:13:37.449Z"
   },
   {
    "duration": 10,
    "start_time": "2022-12-25T14:13:37.456Z"
   },
   {
    "duration": 56,
    "start_time": "2022-12-25T14:13:37.469Z"
   },
   {
    "duration": 0,
    "start_time": "2022-12-25T14:13:37.527Z"
   },
   {
    "duration": 0,
    "start_time": "2022-12-25T14:13:37.529Z"
   },
   {
    "duration": 0,
    "start_time": "2022-12-25T14:13:37.531Z"
   },
   {
    "duration": 0,
    "start_time": "2022-12-25T14:13:37.532Z"
   },
   {
    "duration": 0,
    "start_time": "2022-12-25T14:13:37.534Z"
   },
   {
    "duration": 0,
    "start_time": "2022-12-25T14:13:37.535Z"
   },
   {
    "duration": 0,
    "start_time": "2022-12-25T14:13:37.536Z"
   },
   {
    "duration": 0,
    "start_time": "2022-12-25T14:13:37.537Z"
   },
   {
    "duration": 0,
    "start_time": "2022-12-25T14:13:37.539Z"
   },
   {
    "duration": 0,
    "start_time": "2022-12-25T14:13:37.540Z"
   },
   {
    "duration": 0,
    "start_time": "2022-12-25T14:13:37.541Z"
   },
   {
    "duration": 75,
    "start_time": "2022-12-25T14:14:22.710Z"
   },
   {
    "duration": 129,
    "start_time": "2022-12-25T14:16:16.565Z"
   },
   {
    "duration": 12,
    "start_time": "2022-12-25T14:18:17.222Z"
   },
   {
    "duration": 4364,
    "start_time": "2022-12-25T14:18:31.444Z"
   },
   {
    "duration": 82,
    "start_time": "2022-12-25T14:18:35.811Z"
   },
   {
    "duration": 24,
    "start_time": "2022-12-25T14:18:35.895Z"
   },
   {
    "duration": 25,
    "start_time": "2022-12-25T14:18:35.938Z"
   },
   {
    "duration": 29,
    "start_time": "2022-12-25T14:18:35.966Z"
   },
   {
    "duration": 10,
    "start_time": "2022-12-25T14:18:35.998Z"
   },
   {
    "duration": 57,
    "start_time": "2022-12-25T14:18:36.010Z"
   },
   {
    "duration": 31,
    "start_time": "2022-12-25T14:18:36.069Z"
   },
   {
    "duration": 9,
    "start_time": "2022-12-25T14:18:36.102Z"
   },
   {
    "duration": 13,
    "start_time": "2022-12-25T14:18:36.112Z"
   },
   {
    "duration": 76,
    "start_time": "2022-12-25T14:18:36.127Z"
   },
   {
    "duration": 51,
    "start_time": "2022-12-25T14:18:36.205Z"
   },
   {
    "duration": 49,
    "start_time": "2022-12-25T14:18:36.263Z"
   },
   {
    "duration": 4,
    "start_time": "2022-12-25T14:18:36.315Z"
   },
   {
    "duration": 26,
    "start_time": "2022-12-25T14:18:36.321Z"
   },
   {
    "duration": 51,
    "start_time": "2022-12-25T14:18:36.349Z"
   },
   {
    "duration": 31,
    "start_time": "2022-12-25T14:18:36.402Z"
   },
   {
    "duration": 33,
    "start_time": "2022-12-25T14:18:36.445Z"
   },
   {
    "duration": 287,
    "start_time": "2022-12-25T14:18:36.481Z"
   },
   {
    "duration": 13,
    "start_time": "2022-12-25T14:18:36.770Z"
   },
   {
    "duration": 2300,
    "start_time": "2022-12-25T14:18:36.788Z"
   },
   {
    "duration": 193,
    "start_time": "2022-12-25T14:18:39.090Z"
   },
   {
    "duration": 69,
    "start_time": "2022-12-25T14:18:39.286Z"
   },
   {
    "duration": 214,
    "start_time": "2022-12-25T14:18:39.438Z"
   },
   {
    "duration": 97,
    "start_time": "2022-12-25T14:18:39.662Z"
   },
   {
    "duration": 48,
    "start_time": "2022-12-25T14:18:39.765Z"
   },
   {
    "duration": 4,
    "start_time": "2022-12-25T14:18:39.814Z"
   },
   {
    "duration": 63,
    "start_time": "2022-12-25T14:18:39.820Z"
   },
   {
    "duration": 119,
    "start_time": "2022-12-25T14:18:39.885Z"
   },
   {
    "duration": 44,
    "start_time": "2022-12-25T14:18:40.006Z"
   },
   {
    "duration": 18,
    "start_time": "2022-12-25T14:18:40.052Z"
   },
   {
    "duration": 175,
    "start_time": "2022-12-25T14:18:40.075Z"
   },
   {
    "duration": 195,
    "start_time": "2022-12-25T14:18:40.262Z"
   },
   {
    "duration": 26,
    "start_time": "2022-12-25T14:18:40.459Z"
   },
   {
    "duration": 190,
    "start_time": "2022-12-25T14:18:40.488Z"
   },
   {
    "duration": 6,
    "start_time": "2022-12-25T14:18:40.680Z"
   },
   {
    "duration": 158,
    "start_time": "2022-12-25T14:18:40.688Z"
   },
   {
    "duration": 210,
    "start_time": "2022-12-25T14:18:40.847Z"
   },
   {
    "duration": 321,
    "start_time": "2022-12-25T14:18:41.065Z"
   },
   {
    "duration": 460,
    "start_time": "2022-12-25T14:18:41.443Z"
   },
   {
    "duration": 421,
    "start_time": "2022-12-25T14:18:41.907Z"
   },
   {
    "duration": 65,
    "start_time": "2022-12-25T14:18:42.330Z"
   },
   {
    "duration": 63,
    "start_time": "2022-12-25T14:18:42.398Z"
   },
   {
    "duration": 402,
    "start_time": "2022-12-25T14:18:42.463Z"
   },
   {
    "duration": 307,
    "start_time": "2022-12-25T14:18:42.871Z"
   },
   {
    "duration": 73,
    "start_time": "2022-12-25T14:18:43.181Z"
   },
   {
    "duration": 287,
    "start_time": "2022-12-25T14:18:43.258Z"
   },
   {
    "duration": 7,
    "start_time": "2022-12-25T14:18:43.551Z"
   },
   {
    "duration": 23,
    "start_time": "2022-12-25T14:18:43.563Z"
   },
   {
    "duration": 210,
    "start_time": "2022-12-25T14:18:43.588Z"
   },
   {
    "duration": 0,
    "start_time": "2022-12-25T14:18:43.800Z"
   },
   {
    "duration": 0,
    "start_time": "2022-12-25T14:18:43.801Z"
   },
   {
    "duration": 0,
    "start_time": "2022-12-25T14:18:43.803Z"
   },
   {
    "duration": 0,
    "start_time": "2022-12-25T14:18:43.804Z"
   },
   {
    "duration": 0,
    "start_time": "2022-12-25T14:18:43.805Z"
   },
   {
    "duration": 0,
    "start_time": "2022-12-25T14:18:43.806Z"
   },
   {
    "duration": 0,
    "start_time": "2022-12-25T14:18:43.808Z"
   },
   {
    "duration": 0,
    "start_time": "2022-12-25T14:18:43.809Z"
   },
   {
    "duration": 0,
    "start_time": "2022-12-25T14:18:43.810Z"
   },
   {
    "duration": 0,
    "start_time": "2022-12-25T14:18:43.811Z"
   },
   {
    "duration": 0,
    "start_time": "2022-12-25T14:18:43.813Z"
   },
   {
    "duration": 4449,
    "start_time": "2022-12-25T14:22:41.873Z"
   },
   {
    "duration": 84,
    "start_time": "2022-12-25T14:22:46.324Z"
   },
   {
    "duration": 22,
    "start_time": "2022-12-25T14:22:46.410Z"
   },
   {
    "duration": 57,
    "start_time": "2022-12-25T14:22:46.434Z"
   },
   {
    "duration": 8,
    "start_time": "2022-12-25T14:22:46.494Z"
   },
   {
    "duration": 20,
    "start_time": "2022-12-25T14:22:46.504Z"
   },
   {
    "duration": 52,
    "start_time": "2022-12-25T14:22:46.526Z"
   },
   {
    "duration": 26,
    "start_time": "2022-12-25T14:22:46.580Z"
   },
   {
    "duration": 4,
    "start_time": "2022-12-25T14:22:46.609Z"
   },
   {
    "duration": 10,
    "start_time": "2022-12-25T14:22:46.615Z"
   },
   {
    "duration": 127,
    "start_time": "2022-12-25T14:22:46.626Z"
   },
   {
    "duration": 40,
    "start_time": "2022-12-25T14:22:46.756Z"
   },
   {
    "duration": 65,
    "start_time": "2022-12-25T14:22:46.798Z"
   },
   {
    "duration": 34,
    "start_time": "2022-12-25T14:22:46.868Z"
   },
   {
    "duration": 61,
    "start_time": "2022-12-25T14:22:46.904Z"
   },
   {
    "duration": 51,
    "start_time": "2022-12-25T14:22:46.969Z"
   },
   {
    "duration": 77,
    "start_time": "2022-12-25T14:22:47.023Z"
   },
   {
    "duration": 24,
    "start_time": "2022-12-25T14:22:47.103Z"
   },
   {
    "duration": 322,
    "start_time": "2022-12-25T14:22:47.130Z"
   },
   {
    "duration": 5,
    "start_time": "2022-12-25T14:22:47.464Z"
   },
   {
    "duration": 2257,
    "start_time": "2022-12-25T14:22:47.471Z"
   },
   {
    "duration": 216,
    "start_time": "2022-12-25T14:22:49.730Z"
   },
   {
    "duration": 83,
    "start_time": "2022-12-25T14:22:49.951Z"
   },
   {
    "duration": 216,
    "start_time": "2022-12-25T14:22:50.037Z"
   },
   {
    "duration": 11,
    "start_time": "2022-12-25T14:22:50.259Z"
   },
   {
    "duration": 174,
    "start_time": "2022-12-25T14:22:50.276Z"
   },
   {
    "duration": 5,
    "start_time": "2022-12-25T14:22:50.460Z"
   },
   {
    "duration": 39,
    "start_time": "2022-12-25T14:22:50.470Z"
   },
   {
    "duration": 118,
    "start_time": "2022-12-25T14:22:50.511Z"
   },
   {
    "duration": 39,
    "start_time": "2022-12-25T14:22:50.630Z"
   },
   {
    "duration": 45,
    "start_time": "2022-12-25T14:22:50.673Z"
   },
   {
    "duration": 51,
    "start_time": "2022-12-25T14:22:50.720Z"
   },
   {
    "duration": 266,
    "start_time": "2022-12-25T14:22:50.773Z"
   },
   {
    "duration": 17,
    "start_time": "2022-12-25T14:22:51.048Z"
   },
   {
    "duration": 160,
    "start_time": "2022-12-25T14:22:51.066Z"
   },
   {
    "duration": 9,
    "start_time": "2022-12-25T14:22:51.228Z"
   },
   {
    "duration": 191,
    "start_time": "2022-12-25T14:22:51.239Z"
   },
   {
    "duration": 161,
    "start_time": "2022-12-25T14:22:51.432Z"
   },
   {
    "duration": 315,
    "start_time": "2022-12-25T14:22:51.634Z"
   },
   {
    "duration": 502,
    "start_time": "2022-12-25T14:22:51.951Z"
   },
   {
    "duration": 513,
    "start_time": "2022-12-25T14:22:52.466Z"
   },
   {
    "duration": 64,
    "start_time": "2022-12-25T14:22:52.981Z"
   },
   {
    "duration": 50,
    "start_time": "2022-12-25T14:22:53.047Z"
   },
   {
    "duration": 358,
    "start_time": "2022-12-25T14:22:53.099Z"
   },
   {
    "duration": 259,
    "start_time": "2022-12-25T14:22:53.463Z"
   },
   {
    "duration": 124,
    "start_time": "2022-12-25T14:22:53.724Z"
   },
   {
    "duration": 298,
    "start_time": "2022-12-25T14:22:53.850Z"
   },
   {
    "duration": 11,
    "start_time": "2022-12-25T14:22:54.157Z"
   },
   {
    "duration": 19,
    "start_time": "2022-12-25T14:22:54.170Z"
   },
   {
    "duration": 142283,
    "start_time": "2022-12-25T14:22:54.192Z"
   },
   {
    "duration": 143714,
    "start_time": "2022-12-25T14:25:16.478Z"
   },
   {
    "duration": 2364,
    "start_time": "2022-12-25T14:27:40.195Z"
   },
   {
    "duration": 195,
    "start_time": "2022-12-25T14:27:42.562Z"
   },
   {
    "duration": 201,
    "start_time": "2022-12-25T14:27:42.769Z"
   },
   {
    "duration": 154,
    "start_time": "2022-12-25T14:27:42.972Z"
   },
   {
    "duration": 23,
    "start_time": "2022-12-25T14:27:43.143Z"
   },
   {
    "duration": 33,
    "start_time": "2022-12-25T14:27:43.168Z"
   },
   {
    "duration": 14,
    "start_time": "2022-12-25T14:27:43.204Z"
   },
   {
    "duration": 8,
    "start_time": "2022-12-25T14:27:43.220Z"
   },
   {
    "duration": 56,
    "start_time": "2022-12-25T14:27:43.230Z"
   },
   {
    "duration": 26,
    "start_time": "2022-12-25T14:27:43.287Z"
   },
   {
    "duration": 272,
    "start_time": "2022-12-25T14:27:43.315Z"
   },
   {
    "duration": 1352,
    "start_time": "2022-12-25T14:32:41.855Z"
   },
   {
    "duration": 5,
    "start_time": "2022-12-25T14:33:05.101Z"
   },
   {
    "duration": 48,
    "start_time": "2022-12-25T14:34:21.175Z"
   },
   {
    "duration": 13,
    "start_time": "2022-12-25T14:34:27.899Z"
   },
   {
    "duration": 1327,
    "start_time": "2022-12-25T14:34:37.899Z"
   },
   {
    "duration": 11,
    "start_time": "2022-12-25T14:34:39.606Z"
   },
   {
    "duration": 13,
    "start_time": "2022-12-25T14:34:50.493Z"
   },
   {
    "duration": 4037,
    "start_time": "2022-12-25T14:35:27.815Z"
   },
   {
    "duration": 57,
    "start_time": "2022-12-25T14:35:31.859Z"
   },
   {
    "duration": 44,
    "start_time": "2022-12-25T14:35:31.918Z"
   },
   {
    "duration": 20,
    "start_time": "2022-12-25T14:35:31.967Z"
   },
   {
    "duration": 17,
    "start_time": "2022-12-25T14:35:31.989Z"
   },
   {
    "duration": 25,
    "start_time": "2022-12-25T14:35:32.008Z"
   },
   {
    "duration": 43,
    "start_time": "2022-12-25T14:35:32.036Z"
   },
   {
    "duration": 30,
    "start_time": "2022-12-25T14:35:32.081Z"
   },
   {
    "duration": 6,
    "start_time": "2022-12-25T14:35:32.113Z"
   },
   {
    "duration": 28,
    "start_time": "2022-12-25T14:35:32.122Z"
   },
   {
    "duration": 51,
    "start_time": "2022-12-25T14:35:32.152Z"
   },
   {
    "duration": 42,
    "start_time": "2022-12-25T14:35:32.205Z"
   },
   {
    "duration": 40,
    "start_time": "2022-12-25T14:35:32.249Z"
   },
   {
    "duration": 5,
    "start_time": "2022-12-25T14:35:32.292Z"
   },
   {
    "duration": 18,
    "start_time": "2022-12-25T14:35:32.300Z"
   },
   {
    "duration": 36,
    "start_time": "2022-12-25T14:35:32.339Z"
   },
   {
    "duration": 27,
    "start_time": "2022-12-25T14:35:32.377Z"
   },
   {
    "duration": 59,
    "start_time": "2022-12-25T14:35:32.407Z"
   },
   {
    "duration": 263,
    "start_time": "2022-12-25T14:35:32.476Z"
   },
   {
    "duration": 10,
    "start_time": "2022-12-25T14:35:32.741Z"
   },
   {
    "duration": 2264,
    "start_time": "2022-12-25T14:35:32.761Z"
   },
   {
    "duration": 176,
    "start_time": "2022-12-25T14:35:35.027Z"
   },
   {
    "duration": 18,
    "start_time": "2022-12-25T14:35:35.240Z"
   },
   {
    "duration": 277,
    "start_time": "2022-12-25T14:35:35.264Z"
   },
   {
    "duration": 15,
    "start_time": "2022-12-25T14:35:35.543Z"
   },
   {
    "duration": 145,
    "start_time": "2022-12-25T14:35:35.560Z"
   },
   {
    "duration": 7,
    "start_time": "2022-12-25T14:35:35.707Z"
   },
   {
    "duration": 35,
    "start_time": "2022-12-25T14:35:35.720Z"
   },
   {
    "duration": 133,
    "start_time": "2022-12-25T14:35:35.757Z"
   },
   {
    "duration": 33,
    "start_time": "2022-12-25T14:35:35.893Z"
   },
   {
    "duration": 17,
    "start_time": "2022-12-25T14:35:35.941Z"
   },
   {
    "duration": 31,
    "start_time": "2022-12-25T14:35:35.960Z"
   },
   {
    "duration": 161,
    "start_time": "2022-12-25T14:35:35.993Z"
   },
   {
    "duration": 113,
    "start_time": "2022-12-25T14:35:36.157Z"
   },
   {
    "duration": 139,
    "start_time": "2022-12-25T14:35:36.273Z"
   },
   {
    "duration": 6,
    "start_time": "2022-12-25T14:35:36.414Z"
   },
   {
    "duration": 169,
    "start_time": "2022-12-25T14:35:36.422Z"
   },
   {
    "duration": 257,
    "start_time": "2022-12-25T14:35:36.593Z"
   },
   {
    "duration": 312,
    "start_time": "2022-12-25T14:35:36.857Z"
   },
   {
    "duration": 568,
    "start_time": "2022-12-25T14:35:37.172Z"
   },
   {
    "duration": 422,
    "start_time": "2022-12-25T14:35:37.742Z"
   },
   {
    "duration": 48,
    "start_time": "2022-12-25T14:35:38.166Z"
   },
   {
    "duration": 64,
    "start_time": "2022-12-25T14:35:38.216Z"
   },
   {
    "duration": 365,
    "start_time": "2022-12-25T14:35:38.282Z"
   },
   {
    "duration": 252,
    "start_time": "2022-12-25T14:35:38.652Z"
   },
   {
    "duration": 161,
    "start_time": "2022-12-25T14:35:38.906Z"
   },
   {
    "duration": 205,
    "start_time": "2022-12-25T14:35:39.135Z"
   },
   {
    "duration": 8,
    "start_time": "2022-12-25T14:35:39.357Z"
   },
   {
    "duration": 28,
    "start_time": "2022-12-25T14:35:39.371Z"
   },
   {
    "duration": 128812,
    "start_time": "2022-12-25T14:35:39.401Z"
   },
   {
    "duration": 126075,
    "start_time": "2022-12-25T14:37:48.215Z"
   },
   {
    "duration": 1293,
    "start_time": "2022-12-25T14:39:54.293Z"
   },
   {
    "duration": 15,
    "start_time": "2022-12-25T14:39:55.590Z"
   },
   {
    "duration": 2402,
    "start_time": "2022-12-25T14:39:55.607Z"
   },
   {
    "duration": 150,
    "start_time": "2022-12-25T14:39:58.011Z"
   },
   {
    "duration": 179,
    "start_time": "2022-12-25T14:39:58.163Z"
   },
   {
    "duration": 115,
    "start_time": "2022-12-25T14:39:58.348Z"
   },
   {
    "duration": 9,
    "start_time": "2022-12-25T14:39:58.466Z"
   },
   {
    "duration": 34,
    "start_time": "2022-12-25T14:39:58.477Z"
   },
   {
    "duration": 10,
    "start_time": "2022-12-25T14:39:58.513Z"
   },
   {
    "duration": 58,
    "start_time": "2022-12-25T14:39:58.525Z"
   },
   {
    "duration": 41,
    "start_time": "2022-12-25T14:39:58.585Z"
   },
   {
    "duration": 55,
    "start_time": "2022-12-25T14:39:58.629Z"
   },
   {
    "duration": 299,
    "start_time": "2022-12-25T14:39:58.685Z"
   },
   {
    "duration": 128,
    "start_time": "2022-12-25T14:40:51.433Z"
   },
   {
    "duration": 130,
    "start_time": "2022-12-25T14:40:53.400Z"
   },
   {
    "duration": 103,
    "start_time": "2022-12-25T14:40:55.098Z"
   },
   {
    "duration": 25,
    "start_time": "2022-12-25T14:41:04.626Z"
   },
   {
    "duration": 25,
    "start_time": "2022-12-25T14:41:06.968Z"
   },
   {
    "duration": 346,
    "start_time": "2022-12-25T14:41:12.360Z"
   },
   {
    "duration": 177056,
    "start_time": "2022-12-25T14:50:49.830Z"
   },
   {
    "duration": 719,
    "start_time": "2022-12-25T14:54:46.129Z"
   },
   {
    "duration": 11,
    "start_time": "2022-12-25T14:54:50.395Z"
   },
   {
    "duration": 32,
    "start_time": "2022-12-25T14:55:06.709Z"
   },
   {
    "duration": 1263,
    "start_time": "2022-12-25T14:56:10.956Z"
   },
   {
    "duration": 29,
    "start_time": "2022-12-25T14:56:12.222Z"
   },
   {
    "duration": 630,
    "start_time": "2022-12-25T14:56:17.456Z"
   },
   {
    "duration": 14,
    "start_time": "2022-12-25T14:56:20.128Z"
   },
   {
    "duration": 4498,
    "start_time": "2022-12-25T14:57:37.610Z"
   },
   {
    "duration": 61,
    "start_time": "2022-12-25T14:57:42.111Z"
   },
   {
    "duration": 19,
    "start_time": "2022-12-25T14:57:42.174Z"
   },
   {
    "duration": 18,
    "start_time": "2022-12-25T14:57:42.195Z"
   },
   {
    "duration": 9,
    "start_time": "2022-12-25T14:57:42.236Z"
   },
   {
    "duration": 29,
    "start_time": "2022-12-25T14:57:42.248Z"
   },
   {
    "duration": 8,
    "start_time": "2022-12-25T14:57:42.279Z"
   },
   {
    "duration": 21,
    "start_time": "2022-12-25T14:57:42.289Z"
   },
   {
    "duration": 15,
    "start_time": "2022-12-25T14:57:42.313Z"
   },
   {
    "duration": 28,
    "start_time": "2022-12-25T14:57:42.329Z"
   },
   {
    "duration": 44,
    "start_time": "2022-12-25T14:57:42.358Z"
   },
   {
    "duration": 38,
    "start_time": "2022-12-25T14:57:42.404Z"
   },
   {
    "duration": 41,
    "start_time": "2022-12-25T14:57:42.443Z"
   },
   {
    "duration": 22,
    "start_time": "2022-12-25T14:57:42.488Z"
   },
   {
    "duration": 44,
    "start_time": "2022-12-25T14:57:42.512Z"
   },
   {
    "duration": 80,
    "start_time": "2022-12-25T14:57:42.561Z"
   },
   {
    "duration": 59,
    "start_time": "2022-12-25T14:57:42.644Z"
   },
   {
    "duration": 39,
    "start_time": "2022-12-25T14:57:42.705Z"
   },
   {
    "duration": 292,
    "start_time": "2022-12-25T14:57:42.751Z"
   },
   {
    "duration": 8,
    "start_time": "2022-12-25T14:57:43.045Z"
   },
   {
    "duration": 2093,
    "start_time": "2022-12-25T14:57:43.058Z"
   },
   {
    "duration": 183,
    "start_time": "2022-12-25T14:57:45.154Z"
   },
   {
    "duration": 19,
    "start_time": "2022-12-25T14:57:45.341Z"
   },
   {
    "duration": 277,
    "start_time": "2022-12-25T14:57:45.366Z"
   },
   {
    "duration": 92,
    "start_time": "2022-12-25T14:57:45.650Z"
   },
   {
    "duration": 64,
    "start_time": "2022-12-25T14:57:45.748Z"
   },
   {
    "duration": 22,
    "start_time": "2022-12-25T14:57:45.816Z"
   },
   {
    "duration": 47,
    "start_time": "2022-12-25T14:57:45.840Z"
   },
   {
    "duration": 110,
    "start_time": "2022-12-25T14:57:45.890Z"
   },
   {
    "duration": 24,
    "start_time": "2022-12-25T14:57:46.002Z"
   },
   {
    "duration": 12,
    "start_time": "2022-12-25T14:57:46.038Z"
   },
   {
    "duration": 95,
    "start_time": "2022-12-25T14:57:46.052Z"
   },
   {
    "duration": 196,
    "start_time": "2022-12-25T14:57:46.149Z"
   },
   {
    "duration": 21,
    "start_time": "2022-12-25T14:57:46.351Z"
   },
   {
    "duration": 177,
    "start_time": "2022-12-25T14:57:46.374Z"
   },
   {
    "duration": 7,
    "start_time": "2022-12-25T14:57:46.553Z"
   },
   {
    "duration": 153,
    "start_time": "2022-12-25T14:57:46.561Z"
   },
   {
    "duration": 170,
    "start_time": "2022-12-25T14:57:46.717Z"
   },
   {
    "duration": 304,
    "start_time": "2022-12-25T14:57:46.935Z"
   },
   {
    "duration": 502,
    "start_time": "2022-12-25T14:57:47.240Z"
   },
   {
    "duration": 426,
    "start_time": "2022-12-25T14:57:47.747Z"
   },
   {
    "duration": 45,
    "start_time": "2022-12-25T14:57:48.175Z"
   },
   {
    "duration": 56,
    "start_time": "2022-12-25T14:57:48.222Z"
   },
   {
    "duration": 332,
    "start_time": "2022-12-25T14:57:48.280Z"
   },
   {
    "duration": 273,
    "start_time": "2022-12-25T14:57:48.614Z"
   },
   {
    "duration": 73,
    "start_time": "2022-12-25T14:57:48.889Z"
   },
   {
    "duration": 272,
    "start_time": "2022-12-25T14:57:48.964Z"
   },
   {
    "duration": 125401,
    "start_time": "2022-12-25T14:57:49.240Z"
   },
   {
    "duration": 177756,
    "start_time": "2022-12-25T14:59:54.643Z"
   },
   {
    "duration": 7,
    "start_time": "2022-12-25T15:02:52.402Z"
   },
   {
    "duration": 17,
    "start_time": "2022-12-25T15:02:52.411Z"
   },
   {
    "duration": 1270,
    "start_time": "2022-12-25T15:02:52.431Z"
   },
   {
    "duration": 154,
    "start_time": "2022-12-25T15:02:53.702Z"
   },
   {
    "duration": 0,
    "start_time": "2022-12-25T15:02:53.858Z"
   },
   {
    "duration": 0,
    "start_time": "2022-12-25T15:02:53.860Z"
   },
   {
    "duration": 0,
    "start_time": "2022-12-25T15:02:53.862Z"
   },
   {
    "duration": 0,
    "start_time": "2022-12-25T15:02:53.863Z"
   },
   {
    "duration": 0,
    "start_time": "2022-12-25T15:02:53.865Z"
   },
   {
    "duration": 0,
    "start_time": "2022-12-25T15:02:53.866Z"
   },
   {
    "duration": 0,
    "start_time": "2022-12-25T15:02:53.868Z"
   },
   {
    "duration": 0,
    "start_time": "2022-12-25T15:02:53.869Z"
   },
   {
    "duration": 0,
    "start_time": "2022-12-25T15:02:53.870Z"
   },
   {
    "duration": 0,
    "start_time": "2022-12-25T15:02:53.872Z"
   },
   {
    "duration": 0,
    "start_time": "2022-12-25T15:02:53.873Z"
   },
   {
    "duration": 0,
    "start_time": "2022-12-25T15:02:53.875Z"
   },
   {
    "duration": 14,
    "start_time": "2022-12-25T15:05:12.836Z"
   },
   {
    "duration": 628,
    "start_time": "2022-12-25T15:05:15.289Z"
   },
   {
    "duration": 13,
    "start_time": "2022-12-25T15:05:17.180Z"
   },
   {
    "duration": 138,
    "start_time": "2022-12-25T15:05:35.389Z"
   },
   {
    "duration": 45,
    "start_time": "2022-12-25T15:05:35.750Z"
   },
   {
    "duration": 92,
    "start_time": "2022-12-25T15:05:40.308Z"
   },
   {
    "duration": 18,
    "start_time": "2022-12-25T15:05:59.530Z"
   },
   {
    "duration": 9,
    "start_time": "2022-12-25T15:06:01.289Z"
   },
   {
    "duration": 8,
    "start_time": "2022-12-25T15:06:01.646Z"
   },
   {
    "duration": 7,
    "start_time": "2022-12-25T15:06:02.154Z"
   },
   {
    "duration": 16,
    "start_time": "2022-12-25T15:06:24.435Z"
   },
   {
    "duration": 43,
    "start_time": "2022-12-25T15:06:24.453Z"
   },
   {
    "duration": 367,
    "start_time": "2022-12-25T15:06:33.262Z"
   },
   {
    "duration": 4800,
    "start_time": "2022-12-25T16:37:35.860Z"
   },
   {
    "duration": 348,
    "start_time": "2022-12-25T16:37:40.663Z"
   },
   {
    "duration": 19,
    "start_time": "2022-12-25T16:37:41.013Z"
   },
   {
    "duration": 15,
    "start_time": "2022-12-25T16:37:41.033Z"
   },
   {
    "duration": 6,
    "start_time": "2022-12-25T16:37:41.051Z"
   },
   {
    "duration": 8,
    "start_time": "2022-12-25T16:37:41.059Z"
   },
   {
    "duration": 7,
    "start_time": "2022-12-25T16:37:41.068Z"
   },
   {
    "duration": 37,
    "start_time": "2022-12-25T16:37:41.076Z"
   },
   {
    "duration": 4,
    "start_time": "2022-12-25T16:37:41.115Z"
   },
   {
    "duration": 5,
    "start_time": "2022-12-25T16:37:41.121Z"
   },
   {
    "duration": 29,
    "start_time": "2022-12-25T16:37:41.127Z"
   },
   {
    "duration": 21,
    "start_time": "2022-12-25T16:37:41.157Z"
   },
   {
    "duration": 49,
    "start_time": "2022-12-25T16:37:41.180Z"
   },
   {
    "duration": 4,
    "start_time": "2022-12-25T16:37:41.232Z"
   },
   {
    "duration": 10,
    "start_time": "2022-12-25T16:37:41.237Z"
   },
   {
    "duration": 18,
    "start_time": "2022-12-25T16:37:41.249Z"
   },
   {
    "duration": 14,
    "start_time": "2022-12-25T16:37:41.269Z"
   },
   {
    "duration": 43,
    "start_time": "2022-12-25T16:37:41.284Z"
   },
   {
    "duration": 203,
    "start_time": "2022-12-25T16:37:41.328Z"
   },
   {
    "duration": 4,
    "start_time": "2022-12-25T16:37:41.533Z"
   },
   {
    "duration": 1771,
    "start_time": "2022-12-25T16:37:41.538Z"
   },
   {
    "duration": 131,
    "start_time": "2022-12-25T16:37:43.313Z"
   },
   {
    "duration": 6,
    "start_time": "2022-12-25T16:37:43.514Z"
   },
   {
    "duration": 201,
    "start_time": "2022-12-25T16:37:43.613Z"
   },
   {
    "duration": 98,
    "start_time": "2022-12-25T16:37:43.816Z"
   },
   {
    "duration": 28,
    "start_time": "2022-12-25T16:37:43.916Z"
   },
   {
    "duration": 3,
    "start_time": "2022-12-25T16:37:43.945Z"
   },
   {
    "duration": 16,
    "start_time": "2022-12-25T16:37:43.950Z"
   },
   {
    "duration": 99,
    "start_time": "2022-12-25T16:37:43.967Z"
   },
   {
    "duration": 18,
    "start_time": "2022-12-25T16:37:44.068Z"
   },
   {
    "duration": 8,
    "start_time": "2022-12-25T16:37:44.088Z"
   },
   {
    "duration": 23,
    "start_time": "2022-12-25T16:37:44.113Z"
   },
   {
    "duration": 105,
    "start_time": "2022-12-25T16:37:44.213Z"
   },
   {
    "duration": 95,
    "start_time": "2022-12-25T16:37:44.321Z"
   },
   {
    "duration": 128,
    "start_time": "2022-12-25T16:37:44.418Z"
   },
   {
    "duration": 5,
    "start_time": "2022-12-25T16:37:44.547Z"
   },
   {
    "duration": 131,
    "start_time": "2022-12-25T16:37:44.553Z"
   },
   {
    "duration": 130,
    "start_time": "2022-12-25T16:37:44.686Z"
   },
   {
    "duration": 323,
    "start_time": "2022-12-25T16:37:44.818Z"
   },
   {
    "duration": 471,
    "start_time": "2022-12-25T16:37:45.143Z"
   },
   {
    "duration": 382,
    "start_time": "2022-12-25T16:37:45.621Z"
   },
   {
    "duration": 47,
    "start_time": "2022-12-25T16:37:46.004Z"
   },
   {
    "duration": 33,
    "start_time": "2022-12-25T16:37:46.052Z"
   },
   {
    "duration": 269,
    "start_time": "2022-12-25T16:37:46.086Z"
   },
   {
    "duration": 211,
    "start_time": "2022-12-25T16:37:46.357Z"
   },
   {
    "duration": 68,
    "start_time": "2022-12-25T16:37:46.570Z"
   },
   {
    "duration": 278,
    "start_time": "2022-12-25T16:37:46.640Z"
   },
   {
    "duration": 38253,
    "start_time": "2022-12-25T16:37:46.920Z"
   },
   {
    "duration": 188,
    "start_time": "2022-12-25T16:38:25.174Z"
   },
   {
    "duration": 102152,
    "start_time": "2022-12-25T16:38:55.586Z"
   },
   {
    "duration": 144907,
    "start_time": "2022-12-25T16:40:37.740Z"
   },
   {
    "duration": 10,
    "start_time": "2022-12-25T16:45:12.981Z"
   },
   {
    "duration": 54,
    "start_time": "2022-12-25T16:45:40.410Z"
   },
   {
    "duration": 4,
    "start_time": "2022-12-25T16:46:07.564Z"
   },
   {
    "duration": 691,
    "start_time": "2022-12-25T16:47:26.144Z"
   },
   {
    "duration": 44,
    "start_time": "2022-12-25T16:47:47.280Z"
   },
   {
    "duration": 657,
    "start_time": "2022-12-25T16:49:40.539Z"
   },
   {
    "duration": 3301,
    "start_time": "2022-12-25T16:49:59.724Z"
   },
   {
    "duration": 50,
    "start_time": "2022-12-25T16:50:03.028Z"
   },
   {
    "duration": 18,
    "start_time": "2022-12-25T16:50:03.079Z"
   },
   {
    "duration": 18,
    "start_time": "2022-12-25T16:50:03.098Z"
   },
   {
    "duration": 8,
    "start_time": "2022-12-25T16:50:03.117Z"
   },
   {
    "duration": 13,
    "start_time": "2022-12-25T16:50:03.126Z"
   },
   {
    "duration": 10,
    "start_time": "2022-12-25T16:50:03.141Z"
   },
   {
    "duration": 22,
    "start_time": "2022-12-25T16:50:03.153Z"
   },
   {
    "duration": 20,
    "start_time": "2022-12-25T16:50:03.177Z"
   },
   {
    "duration": 17,
    "start_time": "2022-12-25T16:50:03.200Z"
   },
   {
    "duration": 34,
    "start_time": "2022-12-25T16:50:03.219Z"
   },
   {
    "duration": 51,
    "start_time": "2022-12-25T16:50:03.254Z"
   },
   {
    "duration": 60,
    "start_time": "2022-12-25T16:50:03.307Z"
   },
   {
    "duration": 8,
    "start_time": "2022-12-25T16:50:03.369Z"
   },
   {
    "duration": 35,
    "start_time": "2022-12-25T16:50:03.378Z"
   },
   {
    "duration": 42,
    "start_time": "2022-12-25T16:50:03.415Z"
   },
   {
    "duration": 24,
    "start_time": "2022-12-25T16:50:03.459Z"
   },
   {
    "duration": 15,
    "start_time": "2022-12-25T16:50:03.485Z"
   },
   {
    "duration": 183,
    "start_time": "2022-12-25T16:50:03.502Z"
   },
   {
    "duration": 4,
    "start_time": "2022-12-25T16:50:03.686Z"
   },
   {
    "duration": 1753,
    "start_time": "2022-12-25T16:50:03.692Z"
   },
   {
    "duration": 173,
    "start_time": "2022-12-25T16:50:05.446Z"
   },
   {
    "duration": 95,
    "start_time": "2022-12-25T16:50:05.621Z"
   },
   {
    "duration": 164,
    "start_time": "2022-12-25T16:50:05.718Z"
   },
   {
    "duration": 5,
    "start_time": "2022-12-25T16:50:05.914Z"
   },
   {
    "duration": 119,
    "start_time": "2022-12-25T16:50:05.921Z"
   },
   {
    "duration": 4,
    "start_time": "2022-12-25T16:50:06.042Z"
   },
   {
    "duration": 19,
    "start_time": "2022-12-25T16:50:06.050Z"
   },
   {
    "duration": 104,
    "start_time": "2022-12-25T16:50:06.071Z"
   },
   {
    "duration": 18,
    "start_time": "2022-12-25T16:50:06.177Z"
   },
   {
    "duration": 22,
    "start_time": "2022-12-25T16:50:06.197Z"
   },
   {
    "duration": 24,
    "start_time": "2022-12-25T16:50:06.221Z"
   },
   {
    "duration": 170,
    "start_time": "2022-12-25T16:50:06.247Z"
   },
   {
    "duration": 98,
    "start_time": "2022-12-25T16:50:06.419Z"
   },
   {
    "duration": 131,
    "start_time": "2022-12-25T16:50:06.519Z"
   },
   {
    "duration": 5,
    "start_time": "2022-12-25T16:50:06.652Z"
   },
   {
    "duration": 117,
    "start_time": "2022-12-25T16:50:06.659Z"
   },
   {
    "duration": 147,
    "start_time": "2022-12-25T16:50:06.778Z"
   },
   {
    "duration": 338,
    "start_time": "2022-12-25T16:50:06.926Z"
   },
   {
    "duration": 453,
    "start_time": "2022-12-25T16:50:07.266Z"
   },
   {
    "duration": 379,
    "start_time": "2022-12-25T16:50:07.722Z"
   },
   {
    "duration": 38,
    "start_time": "2022-12-25T16:50:08.112Z"
   },
   {
    "duration": 33,
    "start_time": "2022-12-25T16:50:08.151Z"
   },
   {
    "duration": 278,
    "start_time": "2022-12-25T16:50:08.186Z"
   },
   {
    "duration": 200,
    "start_time": "2022-12-25T16:50:08.466Z"
   },
   {
    "duration": 54,
    "start_time": "2022-12-25T16:50:08.668Z"
   },
   {
    "duration": 206,
    "start_time": "2022-12-25T16:50:08.723Z"
   },
   {
    "duration": 1283,
    "start_time": "2022-12-25T16:50:44.901Z"
   },
   {
    "duration": 978,
    "start_time": "2022-12-25T16:51:31.502Z"
   },
   {
    "duration": 4396,
    "start_time": "2022-12-25T17:18:14.096Z"
   },
   {
    "duration": 161,
    "start_time": "2022-12-25T17:18:18.494Z"
   },
   {
    "duration": 18,
    "start_time": "2022-12-25T17:18:18.657Z"
   },
   {
    "duration": 17,
    "start_time": "2022-12-25T17:18:18.677Z"
   },
   {
    "duration": 7,
    "start_time": "2022-12-25T17:18:18.695Z"
   },
   {
    "duration": 18,
    "start_time": "2022-12-25T17:18:18.704Z"
   },
   {
    "duration": 7,
    "start_time": "2022-12-25T17:18:18.724Z"
   },
   {
    "duration": 14,
    "start_time": "2022-12-25T17:18:18.733Z"
   },
   {
    "duration": 4,
    "start_time": "2022-12-25T17:18:18.748Z"
   },
   {
    "duration": 9,
    "start_time": "2022-12-25T17:18:18.755Z"
   },
   {
    "duration": 31,
    "start_time": "2022-12-25T17:18:18.765Z"
   },
   {
    "duration": 43,
    "start_time": "2022-12-25T17:18:18.797Z"
   },
   {
    "duration": 26,
    "start_time": "2022-12-25T17:18:18.842Z"
   },
   {
    "duration": 4,
    "start_time": "2022-12-25T17:18:18.869Z"
   },
   {
    "duration": 12,
    "start_time": "2022-12-25T17:18:18.874Z"
   },
   {
    "duration": 46,
    "start_time": "2022-12-25T17:18:18.888Z"
   },
   {
    "duration": 16,
    "start_time": "2022-12-25T17:18:18.936Z"
   },
   {
    "duration": 16,
    "start_time": "2022-12-25T17:18:18.954Z"
   },
   {
    "duration": 242,
    "start_time": "2022-12-25T17:18:18.972Z"
   },
   {
    "duration": 5,
    "start_time": "2022-12-25T17:18:19.223Z"
   },
   {
    "duration": 1889,
    "start_time": "2022-12-25T17:18:19.230Z"
   },
   {
    "duration": 200,
    "start_time": "2022-12-25T17:18:21.122Z"
   },
   {
    "duration": 95,
    "start_time": "2022-12-25T17:18:21.328Z"
   },
   {
    "duration": 144,
    "start_time": "2022-12-25T17:18:21.425Z"
   },
   {
    "duration": 57,
    "start_time": "2022-12-25T17:18:21.571Z"
   },
   {
    "duration": 123,
    "start_time": "2022-12-25T17:18:21.631Z"
   },
   {
    "duration": 3,
    "start_time": "2022-12-25T17:18:21.756Z"
   },
   {
    "duration": 18,
    "start_time": "2022-12-25T17:18:21.763Z"
   },
   {
    "duration": 115,
    "start_time": "2022-12-25T17:18:21.783Z"
   },
   {
    "duration": 28,
    "start_time": "2022-12-25T17:18:21.900Z"
   },
   {
    "duration": 9,
    "start_time": "2022-12-25T17:18:21.930Z"
   },
   {
    "duration": 83,
    "start_time": "2022-12-25T17:18:21.941Z"
   },
   {
    "duration": 107,
    "start_time": "2022-12-25T17:18:22.026Z"
   },
   {
    "duration": 95,
    "start_time": "2022-12-25T17:18:22.135Z"
   },
   {
    "duration": 130,
    "start_time": "2022-12-25T17:18:22.232Z"
   },
   {
    "duration": 4,
    "start_time": "2022-12-25T17:18:22.364Z"
   },
   {
    "duration": 126,
    "start_time": "2022-12-25T17:18:22.370Z"
   },
   {
    "duration": 224,
    "start_time": "2022-12-25T17:18:22.498Z"
   },
   {
    "duration": 303,
    "start_time": "2022-12-25T17:18:22.724Z"
   },
   {
    "duration": 401,
    "start_time": "2022-12-25T17:18:23.029Z"
   },
   {
    "duration": 504,
    "start_time": "2022-12-25T17:18:23.432Z"
   },
   {
    "duration": 40,
    "start_time": "2022-12-25T17:18:23.937Z"
   },
   {
    "duration": 44,
    "start_time": "2022-12-25T17:18:23.979Z"
   },
   {
    "duration": 328,
    "start_time": "2022-12-25T17:18:24.025Z"
   },
   {
    "duration": 214,
    "start_time": "2022-12-25T17:18:24.354Z"
   },
   {
    "duration": 63,
    "start_time": "2022-12-25T17:18:24.569Z"
   },
   {
    "duration": 291,
    "start_time": "2022-12-25T17:18:24.633Z"
   },
   {
    "duration": 107246,
    "start_time": "2022-12-25T17:18:24.926Z"
   },
   {
    "duration": 3406,
    "start_time": "2022-12-25T17:20:29.568Z"
   },
   {
    "duration": 70,
    "start_time": "2022-12-25T17:20:32.976Z"
   },
   {
    "duration": 21,
    "start_time": "2022-12-25T17:20:33.048Z"
   },
   {
    "duration": 58,
    "start_time": "2022-12-25T17:20:33.071Z"
   },
   {
    "duration": 9,
    "start_time": "2022-12-25T17:20:33.131Z"
   },
   {
    "duration": 5,
    "start_time": "2022-12-25T17:20:33.142Z"
   },
   {
    "duration": 7,
    "start_time": "2022-12-25T17:20:33.149Z"
   },
   {
    "duration": 12,
    "start_time": "2022-12-25T17:20:33.158Z"
   },
   {
    "duration": 6,
    "start_time": "2022-12-25T17:20:33.223Z"
   },
   {
    "duration": 6,
    "start_time": "2022-12-25T17:20:33.232Z"
   },
   {
    "duration": 101,
    "start_time": "2022-12-25T17:20:33.240Z"
   },
   {
    "duration": 92,
    "start_time": "2022-12-25T17:20:33.344Z"
   },
   {
    "duration": 87,
    "start_time": "2022-12-25T17:20:33.439Z"
   },
   {
    "duration": 4,
    "start_time": "2022-12-25T17:20:33.528Z"
   },
   {
    "duration": 13,
    "start_time": "2022-12-25T17:20:33.534Z"
   },
   {
    "duration": 82,
    "start_time": "2022-12-25T17:20:33.549Z"
   },
   {
    "duration": 21,
    "start_time": "2022-12-25T17:20:33.633Z"
   },
   {
    "duration": 74,
    "start_time": "2022-12-25T17:20:33.656Z"
   },
   {
    "duration": 507,
    "start_time": "2022-12-25T17:20:33.732Z"
   },
   {
    "duration": 5,
    "start_time": "2022-12-25T17:20:34.242Z"
   },
   {
    "duration": 2358,
    "start_time": "2022-12-25T17:20:34.249Z"
   },
   {
    "duration": 215,
    "start_time": "2022-12-25T17:20:36.609Z"
   },
   {
    "duration": 93,
    "start_time": "2022-12-25T17:20:36.830Z"
   },
   {
    "duration": 208,
    "start_time": "2022-12-25T17:20:36.925Z"
   },
   {
    "duration": 90,
    "start_time": "2022-12-25T17:20:37.134Z"
   },
   {
    "duration": 73,
    "start_time": "2022-12-25T17:20:37.226Z"
   },
   {
    "duration": 13,
    "start_time": "2022-12-25T17:20:37.301Z"
   },
   {
    "duration": 38,
    "start_time": "2022-12-25T17:20:37.317Z"
   },
   {
    "duration": 117,
    "start_time": "2022-12-25T17:20:37.357Z"
   },
   {
    "duration": 20,
    "start_time": "2022-12-25T17:20:37.476Z"
   },
   {
    "duration": 38,
    "start_time": "2022-12-25T17:20:37.498Z"
   },
   {
    "duration": 86,
    "start_time": "2022-12-25T17:20:37.539Z"
   },
   {
    "duration": 195,
    "start_time": "2022-12-25T17:20:37.626Z"
   },
   {
    "duration": 19,
    "start_time": "2022-12-25T17:20:37.823Z"
   },
   {
    "duration": 152,
    "start_time": "2022-12-25T17:20:37.843Z"
   },
   {
    "duration": 5,
    "start_time": "2022-12-25T17:20:37.996Z"
   },
   {
    "duration": 152,
    "start_time": "2022-12-25T17:20:38.003Z"
   },
   {
    "duration": 265,
    "start_time": "2022-12-25T17:20:38.157Z"
   },
   {
    "duration": 208,
    "start_time": "2022-12-25T17:20:38.424Z"
   },
   {
    "duration": 488,
    "start_time": "2022-12-25T17:20:38.634Z"
   },
   {
    "duration": 415,
    "start_time": "2022-12-25T17:20:39.124Z"
   },
   {
    "duration": 51,
    "start_time": "2022-12-25T17:20:39.540Z"
   },
   {
    "duration": 46,
    "start_time": "2022-12-25T17:20:39.593Z"
   },
   {
    "duration": 284,
    "start_time": "2022-12-25T17:20:39.640Z"
   },
   {
    "duration": 216,
    "start_time": "2022-12-25T17:20:39.926Z"
   },
   {
    "duration": 80,
    "start_time": "2022-12-25T17:20:40.143Z"
   },
   {
    "duration": 208,
    "start_time": "2022-12-25T17:20:40.224Z"
   },
   {
    "duration": 25036,
    "start_time": "2022-12-25T17:20:40.438Z"
   },
   {
    "duration": 218,
    "start_time": "2022-12-25T17:21:05.476Z"
   },
   {
    "duration": 3,
    "start_time": "2022-12-25T17:21:05.697Z"
   },
   {
    "duration": 8,
    "start_time": "2022-12-25T17:21:05.701Z"
   },
   {
    "duration": 1006,
    "start_time": "2022-12-25T17:21:05.711Z"
   },
   {
    "duration": 12,
    "start_time": "2022-12-25T17:21:06.719Z"
   },
   {
    "duration": 558,
    "start_time": "2022-12-25T17:21:06.733Z"
   },
   {
    "duration": 12,
    "start_time": "2022-12-25T17:21:07.293Z"
   },
   {
    "duration": 115,
    "start_time": "2022-12-25T17:21:07.307Z"
   },
   {
    "duration": 26,
    "start_time": "2022-12-25T17:21:07.424Z"
   },
   {
    "duration": 106,
    "start_time": "2022-12-25T17:21:07.452Z"
   },
   {
    "duration": 7,
    "start_time": "2022-12-25T17:21:07.560Z"
   },
   {
    "duration": 12,
    "start_time": "2022-12-25T17:21:07.568Z"
   },
   {
    "duration": 9,
    "start_time": "2022-12-25T17:21:07.582Z"
   },
   {
    "duration": 8,
    "start_time": "2022-12-25T17:21:07.593Z"
   },
   {
    "duration": 14,
    "start_time": "2022-12-25T17:21:07.622Z"
   },
   {
    "duration": 17,
    "start_time": "2022-12-25T17:21:07.638Z"
   },
   {
    "duration": 272,
    "start_time": "2022-12-25T17:21:07.656Z"
   },
   {
    "duration": 35,
    "start_time": "2022-12-25T17:21:07.931Z"
   },
   {
    "duration": 4252,
    "start_time": "2022-12-25T17:22:03.109Z"
   },
   {
    "duration": 52,
    "start_time": "2022-12-25T17:22:07.363Z"
   },
   {
    "duration": 19,
    "start_time": "2022-12-25T17:22:07.417Z"
   },
   {
    "duration": 19,
    "start_time": "2022-12-25T17:22:07.438Z"
   },
   {
    "duration": 8,
    "start_time": "2022-12-25T17:22:07.459Z"
   },
   {
    "duration": 5,
    "start_time": "2022-12-25T17:22:07.469Z"
   },
   {
    "duration": 7,
    "start_time": "2022-12-25T17:22:07.475Z"
   },
   {
    "duration": 42,
    "start_time": "2022-12-25T17:22:07.483Z"
   },
   {
    "duration": 5,
    "start_time": "2022-12-25T17:22:07.528Z"
   },
   {
    "duration": 5,
    "start_time": "2022-12-25T17:22:07.536Z"
   },
   {
    "duration": 36,
    "start_time": "2022-12-25T17:22:07.542Z"
   },
   {
    "duration": 62,
    "start_time": "2022-12-25T17:22:07.580Z"
   },
   {
    "duration": 42,
    "start_time": "2022-12-25T17:22:07.643Z"
   },
   {
    "duration": 3,
    "start_time": "2022-12-25T17:22:07.687Z"
   },
   {
    "duration": 31,
    "start_time": "2022-12-25T17:22:07.692Z"
   },
   {
    "duration": 29,
    "start_time": "2022-12-25T17:22:07.724Z"
   },
   {
    "duration": 24,
    "start_time": "2022-12-25T17:22:07.755Z"
   },
   {
    "duration": 19,
    "start_time": "2022-12-25T17:22:07.781Z"
   },
   {
    "duration": 226,
    "start_time": "2022-12-25T17:22:07.801Z"
   },
   {
    "duration": 4,
    "start_time": "2022-12-25T17:22:08.029Z"
   },
   {
    "duration": 1849,
    "start_time": "2022-12-25T17:22:08.034Z"
   },
   {
    "duration": 236,
    "start_time": "2022-12-25T17:22:09.886Z"
   },
   {
    "duration": 8,
    "start_time": "2022-12-25T17:22:10.124Z"
   },
   {
    "duration": 291,
    "start_time": "2022-12-25T17:22:10.135Z"
   },
   {
    "duration": 93,
    "start_time": "2022-12-25T17:22:10.428Z"
   },
   {
    "duration": 31,
    "start_time": "2022-12-25T17:22:10.523Z"
   },
   {
    "duration": 3,
    "start_time": "2022-12-25T17:22:10.555Z"
   },
   {
    "duration": 16,
    "start_time": "2022-12-25T17:22:10.562Z"
   },
   {
    "duration": 114,
    "start_time": "2022-12-25T17:22:10.579Z"
   },
   {
    "duration": 31,
    "start_time": "2022-12-25T17:22:10.695Z"
   },
   {
    "duration": 9,
    "start_time": "2022-12-25T17:22:10.727Z"
   },
   {
    "duration": 91,
    "start_time": "2022-12-25T17:22:10.737Z"
   },
   {
    "duration": 101,
    "start_time": "2022-12-25T17:22:10.830Z"
   },
   {
    "duration": 104,
    "start_time": "2022-12-25T17:22:10.932Z"
   },
   {
    "duration": 142,
    "start_time": "2022-12-25T17:22:11.039Z"
   },
   {
    "duration": 6,
    "start_time": "2022-12-25T17:22:11.183Z"
   },
   {
    "duration": 132,
    "start_time": "2022-12-25T17:22:11.191Z"
   },
   {
    "duration": 130,
    "start_time": "2022-12-25T17:22:11.325Z"
   },
   {
    "duration": 314,
    "start_time": "2022-12-25T17:22:11.457Z"
   },
   {
    "duration": 466,
    "start_time": "2022-12-25T17:22:11.773Z"
   },
   {
    "duration": 468,
    "start_time": "2022-12-25T17:22:12.240Z"
   },
   {
    "duration": 66,
    "start_time": "2022-12-25T17:22:12.709Z"
   },
   {
    "duration": 63,
    "start_time": "2022-12-25T17:22:12.776Z"
   },
   {
    "duration": 309,
    "start_time": "2022-12-25T17:22:12.841Z"
   },
   {
    "duration": 217,
    "start_time": "2022-12-25T17:22:13.152Z"
   },
   {
    "duration": 62,
    "start_time": "2022-12-25T17:22:13.370Z"
   },
   {
    "duration": 201,
    "start_time": "2022-12-25T17:22:13.433Z"
   },
   {
    "duration": 110870,
    "start_time": "2022-12-25T17:22:13.635Z"
   },
   {
    "duration": 149612,
    "start_time": "2022-12-25T17:24:04.506Z"
   },
   {
    "duration": 5,
    "start_time": "2022-12-25T17:26:34.122Z"
   },
   {
    "duration": 10,
    "start_time": "2022-12-25T17:26:34.129Z"
   },
   {
    "duration": 995,
    "start_time": "2022-12-25T17:26:34.140Z"
   },
   {
    "duration": 10,
    "start_time": "2022-12-25T17:26:35.137Z"
   },
   {
    "duration": 522,
    "start_time": "2022-12-25T17:26:35.148Z"
   },
   {
    "duration": 10,
    "start_time": "2022-12-25T17:26:35.671Z"
   },
   {
    "duration": 111,
    "start_time": "2022-12-25T17:26:35.683Z"
   },
   {
    "duration": 36,
    "start_time": "2022-12-25T17:26:35.795Z"
   },
   {
    "duration": 119,
    "start_time": "2022-12-25T17:26:35.832Z"
   },
   {
    "duration": 7,
    "start_time": "2022-12-25T17:26:35.956Z"
   },
   {
    "duration": 9,
    "start_time": "2022-12-25T17:26:35.964Z"
   },
   {
    "duration": 7,
    "start_time": "2022-12-25T17:26:35.975Z"
   },
   {
    "duration": 7,
    "start_time": "2022-12-25T17:26:35.983Z"
   },
   {
    "duration": 39,
    "start_time": "2022-12-25T17:26:35.992Z"
   },
   {
    "duration": 19,
    "start_time": "2022-12-25T17:26:36.033Z"
   },
   {
    "duration": 246,
    "start_time": "2022-12-25T17:26:36.054Z"
   },
   {
    "duration": 137,
    "start_time": "2022-12-25T17:35:30.978Z"
   },
   {
    "duration": 10,
    "start_time": "2022-12-25T17:35:55.555Z"
   },
   {
    "duration": 301,
    "start_time": "2022-12-25T17:35:59.308Z"
   },
   {
    "duration": 114,
    "start_time": "2022-12-25T17:36:23.709Z"
   },
   {
    "duration": 110137,
    "start_time": "2022-12-25T17:39:28.516Z"
   },
   {
    "duration": 41,
    "start_time": "2022-12-25T17:45:00.984Z"
   },
   {
    "duration": 4,
    "start_time": "2022-12-25T17:57:33.001Z"
   },
   {
    "duration": 3248,
    "start_time": "2022-12-25T17:58:44.611Z"
   },
   {
    "duration": 53,
    "start_time": "2022-12-25T17:58:47.861Z"
   },
   {
    "duration": 21,
    "start_time": "2022-12-25T17:58:47.916Z"
   },
   {
    "duration": 17,
    "start_time": "2022-12-25T17:58:47.939Z"
   },
   {
    "duration": 7,
    "start_time": "2022-12-25T17:58:47.958Z"
   },
   {
    "duration": 5,
    "start_time": "2022-12-25T17:58:47.966Z"
   },
   {
    "duration": 10,
    "start_time": "2022-12-25T17:58:47.972Z"
   },
   {
    "duration": 41,
    "start_time": "2022-12-25T17:58:47.984Z"
   },
   {
    "duration": 4,
    "start_time": "2022-12-25T17:58:48.026Z"
   },
   {
    "duration": 6,
    "start_time": "2022-12-25T17:58:48.032Z"
   },
   {
    "duration": 34,
    "start_time": "2022-12-25T17:58:48.039Z"
   },
   {
    "duration": 49,
    "start_time": "2022-12-25T17:58:48.074Z"
   },
   {
    "duration": 27,
    "start_time": "2022-12-25T17:58:48.125Z"
   },
   {
    "duration": 3,
    "start_time": "2022-12-25T17:58:48.154Z"
   },
   {
    "duration": 11,
    "start_time": "2022-12-25T17:58:48.159Z"
   },
   {
    "duration": 22,
    "start_time": "2022-12-25T17:58:48.171Z"
   },
   {
    "duration": 45,
    "start_time": "2022-12-25T17:58:48.194Z"
   },
   {
    "duration": 18,
    "start_time": "2022-12-25T17:58:48.240Z"
   },
   {
    "duration": 207,
    "start_time": "2022-12-25T17:58:48.259Z"
   },
   {
    "duration": 5,
    "start_time": "2022-12-25T17:58:48.467Z"
   },
   {
    "duration": 1792,
    "start_time": "2022-12-25T17:58:48.473Z"
   },
   {
    "duration": 160,
    "start_time": "2022-12-25T17:58:50.267Z"
   },
   {
    "duration": 93,
    "start_time": "2022-12-25T17:58:50.428Z"
   },
   {
    "duration": 140,
    "start_time": "2022-12-25T17:58:50.524Z"
   },
   {
    "duration": 6,
    "start_time": "2022-12-25T17:58:50.722Z"
   },
   {
    "duration": 125,
    "start_time": "2022-12-25T17:58:50.730Z"
   },
   {
    "duration": 3,
    "start_time": "2022-12-25T17:58:50.857Z"
   },
   {
    "duration": 17,
    "start_time": "2022-12-25T17:58:50.863Z"
   },
   {
    "duration": 95,
    "start_time": "2022-12-25T17:58:50.881Z"
   },
   {
    "duration": 19,
    "start_time": "2022-12-25T17:58:50.978Z"
   },
   {
    "duration": 26,
    "start_time": "2022-12-25T17:58:50.998Z"
   },
   {
    "duration": 98,
    "start_time": "2022-12-25T17:58:51.025Z"
   },
   {
    "duration": 106,
    "start_time": "2022-12-25T17:58:51.125Z"
   },
   {
    "duration": 101,
    "start_time": "2022-12-25T17:58:51.233Z"
   },
   {
    "duration": 131,
    "start_time": "2022-12-25T17:58:51.335Z"
   },
   {
    "duration": 5,
    "start_time": "2022-12-25T17:58:51.467Z"
   },
   {
    "duration": 132,
    "start_time": "2022-12-25T17:58:51.473Z"
   },
   {
    "duration": 135,
    "start_time": "2022-12-25T17:58:51.606Z"
   },
   {
    "duration": 327,
    "start_time": "2022-12-25T17:58:51.742Z"
   },
   {
    "duration": 399,
    "start_time": "2022-12-25T17:58:52.123Z"
   },
   {
    "duration": 487,
    "start_time": "2022-12-25T17:58:52.525Z"
   },
   {
    "duration": 147,
    "start_time": "2022-12-25T17:58:53.021Z"
   },
   {
    "duration": 40,
    "start_time": "2022-12-25T17:58:53.170Z"
   },
   {
    "duration": 129,
    "start_time": "2022-12-25T17:58:53.223Z"
   },
   {
    "duration": 35,
    "start_time": "2022-12-25T17:58:53.354Z"
   },
   {
    "duration": 310,
    "start_time": "2022-12-25T17:58:53.390Z"
   },
   {
    "duration": 266,
    "start_time": "2022-12-25T17:58:53.702Z"
   },
   {
    "duration": 106831,
    "start_time": "2022-12-25T17:58:53.970Z"
   },
   {
    "duration": 227,
    "start_time": "2022-12-25T18:00:40.803Z"
   },
   {
    "duration": 100,
    "start_time": "2022-12-25T18:00:41.032Z"
   },
   {
    "duration": 203,
    "start_time": "2022-12-25T18:00:41.221Z"
   },
   {
    "duration": 3,
    "start_time": "2022-12-25T18:00:41.425Z"
   },
   {
    "duration": 16,
    "start_time": "2022-12-25T18:00:41.429Z"
   },
   {
    "duration": 1008,
    "start_time": "2022-12-25T18:00:41.446Z"
   },
   {
    "duration": 9,
    "start_time": "2022-12-25T18:00:42.456Z"
   },
   {
    "duration": 580,
    "start_time": "2022-12-25T18:00:42.467Z"
   },
   {
    "duration": 12,
    "start_time": "2022-12-25T18:00:43.049Z"
   },
   {
    "duration": 120,
    "start_time": "2022-12-25T18:00:43.063Z"
   },
   {
    "duration": 39,
    "start_time": "2022-12-25T18:00:43.185Z"
   },
   {
    "duration": 96,
    "start_time": "2022-12-25T18:00:43.226Z"
   },
   {
    "duration": 6,
    "start_time": "2022-12-25T18:00:43.324Z"
   },
   {
    "duration": 22,
    "start_time": "2022-12-25T18:00:43.332Z"
   },
   {
    "duration": 30,
    "start_time": "2022-12-25T18:00:43.355Z"
   },
   {
    "duration": 9,
    "start_time": "2022-12-25T18:00:43.386Z"
   },
   {
    "duration": 26,
    "start_time": "2022-12-25T18:00:43.396Z"
   },
   {
    "duration": 33,
    "start_time": "2022-12-25T18:00:43.424Z"
   },
   {
    "duration": 124,
    "start_time": "2022-12-25T18:00:43.459Z"
   },
   {
    "duration": 35,
    "start_time": "2022-12-25T18:02:48.817Z"
   },
   {
    "duration": 30,
    "start_time": "2022-12-25T18:03:09.405Z"
   },
   {
    "duration": 149929,
    "start_time": "2022-12-25T18:04:36.294Z"
   },
   {
    "duration": 947,
    "start_time": "2022-12-25T18:07:06.225Z"
   },
   {
    "duration": 535,
    "start_time": "2022-12-25T18:09:37.592Z"
   },
   {
    "duration": 869,
    "start_time": "2022-12-25T18:13:06.466Z"
   },
   {
    "duration": 894,
    "start_time": "2022-12-25T18:13:29.947Z"
   },
   {
    "duration": 502,
    "start_time": "2022-12-25T18:15:43.296Z"
   },
   {
    "duration": 95,
    "start_time": "2022-12-25T18:16:33.071Z"
   },
   {
    "duration": 553,
    "start_time": "2022-12-25T18:16:33.716Z"
   },
   {
    "duration": 863,
    "start_time": "2022-12-25T18:16:36.390Z"
   },
   {
    "duration": 5,
    "start_time": "2022-12-25T18:16:44.815Z"
   },
   {
    "duration": 6,
    "start_time": "2022-12-25T18:16:46.765Z"
   },
   {
    "duration": 6,
    "start_time": "2022-12-25T18:16:47.553Z"
   },
   {
    "duration": 7,
    "start_time": "2022-12-25T18:16:49.170Z"
   },
   {
    "duration": 45,
    "start_time": "2022-12-25T18:17:19.340Z"
   },
   {
    "duration": 69,
    "start_time": "2022-12-25T18:17:21.753Z"
   },
   {
    "duration": 169,
    "start_time": "2022-12-25T18:17:46.419Z"
   },
   {
    "duration": 116,
    "start_time": "2022-12-25T18:18:55.395Z"
   },
   {
    "duration": 174,
    "start_time": "2022-12-25T18:19:27.319Z"
   },
   {
    "duration": 179,
    "start_time": "2022-12-25T18:19:32.963Z"
   },
   {
    "duration": 268,
    "start_time": "2022-12-25T18:19:54.949Z"
   },
   {
    "duration": 156,
    "start_time": "2022-12-25T18:20:15.691Z"
   },
   {
    "duration": 177,
    "start_time": "2022-12-25T18:20:23.548Z"
   },
   {
    "duration": 3349,
    "start_time": "2022-12-25T18:27:42.152Z"
   },
   {
    "duration": 51,
    "start_time": "2022-12-25T18:27:45.503Z"
   },
   {
    "duration": 17,
    "start_time": "2022-12-25T18:27:45.556Z"
   },
   {
    "duration": 24,
    "start_time": "2022-12-25T18:27:45.576Z"
   },
   {
    "duration": 12,
    "start_time": "2022-12-25T18:27:45.602Z"
   },
   {
    "duration": 10,
    "start_time": "2022-12-25T18:27:45.616Z"
   },
   {
    "duration": 20,
    "start_time": "2022-12-25T18:27:45.627Z"
   },
   {
    "duration": 12,
    "start_time": "2022-12-25T18:27:45.648Z"
   },
   {
    "duration": 4,
    "start_time": "2022-12-25T18:27:45.661Z"
   },
   {
    "duration": 4,
    "start_time": "2022-12-25T18:27:45.667Z"
   },
   {
    "duration": 35,
    "start_time": "2022-12-25T18:27:45.673Z"
   },
   {
    "duration": 24,
    "start_time": "2022-12-25T18:27:45.722Z"
   },
   {
    "duration": 29,
    "start_time": "2022-12-25T18:27:45.748Z"
   },
   {
    "duration": 3,
    "start_time": "2022-12-25T18:27:45.779Z"
   },
   {
    "duration": 11,
    "start_time": "2022-12-25T18:27:45.784Z"
   },
   {
    "duration": 29,
    "start_time": "2022-12-25T18:27:45.823Z"
   },
   {
    "duration": 25,
    "start_time": "2022-12-25T18:27:45.854Z"
   },
   {
    "duration": 44,
    "start_time": "2022-12-25T18:27:45.881Z"
   },
   {
    "duration": 202,
    "start_time": "2022-12-25T18:27:45.927Z"
   },
   {
    "duration": 4,
    "start_time": "2022-12-25T18:27:46.130Z"
   },
   {
    "duration": 1780,
    "start_time": "2022-12-25T18:27:46.136Z"
   },
   {
    "duration": 131,
    "start_time": "2022-12-25T18:27:47.922Z"
   },
   {
    "duration": 71,
    "start_time": "2022-12-25T18:27:48.055Z"
   },
   {
    "duration": 219,
    "start_time": "2022-12-25T18:27:48.128Z"
   },
   {
    "duration": 75,
    "start_time": "2022-12-25T18:27:48.349Z"
   },
   {
    "duration": 125,
    "start_time": "2022-12-25T18:27:48.428Z"
   },
   {
    "duration": 3,
    "start_time": "2022-12-25T18:27:48.554Z"
   },
   {
    "duration": 22,
    "start_time": "2022-12-25T18:27:48.560Z"
   },
   {
    "duration": 103,
    "start_time": "2022-12-25T18:27:48.583Z"
   },
   {
    "duration": 34,
    "start_time": "2022-12-25T18:27:48.688Z"
   },
   {
    "duration": 10,
    "start_time": "2022-12-25T18:27:48.724Z"
   },
   {
    "duration": 85,
    "start_time": "2022-12-25T18:27:48.736Z"
   },
   {
    "duration": 105,
    "start_time": "2022-12-25T18:27:48.825Z"
   },
   {
    "duration": 10,
    "start_time": "2022-12-25T18:27:49.021Z"
   },
   {
    "duration": 147,
    "start_time": "2022-12-25T18:27:49.033Z"
   },
   {
    "duration": 5,
    "start_time": "2022-12-25T18:27:49.182Z"
   },
   {
    "duration": 144,
    "start_time": "2022-12-25T18:27:49.189Z"
   },
   {
    "duration": 190,
    "start_time": "2022-12-25T18:27:49.334Z"
   },
   {
    "duration": 254,
    "start_time": "2022-12-25T18:27:49.527Z"
   },
   {
    "duration": 405,
    "start_time": "2022-12-25T18:27:49.823Z"
   },
   {
    "duration": 494,
    "start_time": "2022-12-25T18:27:50.230Z"
   },
   {
    "duration": 147,
    "start_time": "2022-12-25T18:27:50.726Z"
   },
   {
    "duration": 33,
    "start_time": "2022-12-25T18:27:50.875Z"
   },
   {
    "duration": 123,
    "start_time": "2022-12-25T18:27:50.921Z"
   },
   {
    "duration": 30,
    "start_time": "2022-12-25T18:27:51.046Z"
   },
   {
    "duration": 307,
    "start_time": "2022-12-25T18:27:51.078Z"
   },
   {
    "duration": 506,
    "start_time": "2022-12-25T18:27:51.386Z"
   },
   {
    "duration": 102676,
    "start_time": "2022-12-25T18:27:51.894Z"
   },
   {
    "duration": 888,
    "start_time": "2022-12-25T18:29:34.572Z"
   },
   {
    "duration": 69,
    "start_time": "2022-12-25T18:29:35.463Z"
   },
   {
    "duration": 251,
    "start_time": "2022-12-25T18:29:35.623Z"
   },
   {
    "duration": 138,
    "start_time": "2022-12-25T18:29:35.876Z"
   },
   {
    "duration": 570,
    "start_time": "2022-12-25T18:29:36.021Z"
   },
   {
    "duration": 934,
    "start_time": "2022-12-25T18:29:36.593Z"
   },
   {
    "duration": 6,
    "start_time": "2022-12-25T18:29:37.529Z"
   },
   {
    "duration": 7,
    "start_time": "2022-12-25T18:29:37.537Z"
   },
   {
    "duration": 5,
    "start_time": "2022-12-25T18:29:37.546Z"
   },
   {
    "duration": 6,
    "start_time": "2022-12-25T18:29:37.552Z"
   },
   {
    "duration": 79,
    "start_time": "2022-12-25T18:29:37.560Z"
   },
   {
    "duration": 162,
    "start_time": "2022-12-25T18:29:37.641Z"
   },
   {
    "duration": 84,
    "start_time": "2022-12-25T18:29:37.805Z"
   },
   {
    "duration": 194,
    "start_time": "2022-12-25T18:29:37.891Z"
   },
   {
    "duration": 3435,
    "start_time": "2022-12-25T18:33:48.624Z"
   },
   {
    "duration": 53,
    "start_time": "2022-12-25T18:33:52.061Z"
   },
   {
    "duration": 22,
    "start_time": "2022-12-25T18:33:52.115Z"
   },
   {
    "duration": 19,
    "start_time": "2022-12-25T18:33:52.139Z"
   },
   {
    "duration": 7,
    "start_time": "2022-12-25T18:33:52.160Z"
   },
   {
    "duration": 8,
    "start_time": "2022-12-25T18:33:52.168Z"
   },
   {
    "duration": 14,
    "start_time": "2022-12-25T18:33:52.178Z"
   },
   {
    "duration": 33,
    "start_time": "2022-12-25T18:33:52.194Z"
   },
   {
    "duration": 5,
    "start_time": "2022-12-25T18:33:52.229Z"
   },
   {
    "duration": 11,
    "start_time": "2022-12-25T18:33:52.236Z"
   },
   {
    "duration": 35,
    "start_time": "2022-12-25T18:33:52.249Z"
   },
   {
    "duration": 51,
    "start_time": "2022-12-25T18:33:52.286Z"
   },
   {
    "duration": 44,
    "start_time": "2022-12-25T18:33:52.340Z"
   },
   {
    "duration": 17,
    "start_time": "2022-12-25T18:33:52.387Z"
   },
   {
    "duration": 20,
    "start_time": "2022-12-25T18:33:52.405Z"
   },
   {
    "duration": 30,
    "start_time": "2022-12-25T18:33:52.426Z"
   },
   {
    "duration": 26,
    "start_time": "2022-12-25T18:33:52.458Z"
   },
   {
    "duration": 40,
    "start_time": "2022-12-25T18:33:52.486Z"
   },
   {
    "duration": 205,
    "start_time": "2022-12-25T18:33:52.528Z"
   },
   {
    "duration": 4,
    "start_time": "2022-12-25T18:33:52.734Z"
   },
   {
    "duration": 1992,
    "start_time": "2022-12-25T18:33:52.739Z"
   },
   {
    "duration": 197,
    "start_time": "2022-12-25T18:33:54.733Z"
   },
   {
    "duration": 8,
    "start_time": "2022-12-25T18:33:55.021Z"
   },
   {
    "duration": 297,
    "start_time": "2022-12-25T18:33:55.032Z"
   },
   {
    "duration": 91,
    "start_time": "2022-12-25T18:33:55.330Z"
   },
   {
    "duration": 61,
    "start_time": "2022-12-25T18:33:55.424Z"
   },
   {
    "duration": 3,
    "start_time": "2022-12-25T18:33:55.487Z"
   },
   {
    "duration": 39,
    "start_time": "2022-12-25T18:33:55.493Z"
   },
   {
    "duration": 131,
    "start_time": "2022-12-25T18:33:55.534Z"
   },
   {
    "duration": 20,
    "start_time": "2022-12-25T18:33:55.667Z"
   },
   {
    "duration": 28,
    "start_time": "2022-12-25T18:33:55.689Z"
   },
   {
    "duration": 106,
    "start_time": "2022-12-25T18:33:55.718Z"
   },
   {
    "duration": 296,
    "start_time": "2022-12-25T18:33:55.826Z"
   },
   {
    "duration": 35,
    "start_time": "2022-12-25T18:33:56.124Z"
   },
   {
    "duration": 139,
    "start_time": "2022-12-25T18:33:56.161Z"
   },
   {
    "duration": 5,
    "start_time": "2022-12-25T18:33:56.302Z"
   },
   {
    "duration": 136,
    "start_time": "2022-12-25T18:33:56.308Z"
   },
   {
    "duration": 181,
    "start_time": "2022-12-25T18:33:56.446Z"
   },
   {
    "duration": 296,
    "start_time": "2022-12-25T18:33:56.628Z"
   },
   {
    "duration": 420,
    "start_time": "2022-12-25T18:33:56.925Z"
   },
   {
    "duration": 521,
    "start_time": "2022-12-25T18:33:57.348Z"
   },
   {
    "duration": 162,
    "start_time": "2022-12-25T18:33:57.871Z"
   },
   {
    "duration": 38,
    "start_time": "2022-12-25T18:33:58.035Z"
   },
   {
    "duration": 149,
    "start_time": "2022-12-25T18:33:58.075Z"
   },
   {
    "duration": 35,
    "start_time": "2022-12-25T18:33:58.226Z"
   },
   {
    "duration": 364,
    "start_time": "2022-12-25T18:33:58.263Z"
   },
   {
    "duration": 575,
    "start_time": "2022-12-25T18:33:58.629Z"
   },
   {
    "duration": 4271,
    "start_time": "2022-12-25T18:35:28.341Z"
   },
   {
    "duration": 51,
    "start_time": "2022-12-25T18:35:32.614Z"
   },
   {
    "duration": 19,
    "start_time": "2022-12-25T18:35:32.666Z"
   },
   {
    "duration": 15,
    "start_time": "2022-12-25T18:35:32.687Z"
   },
   {
    "duration": 18,
    "start_time": "2022-12-25T18:35:32.704Z"
   },
   {
    "duration": 6,
    "start_time": "2022-12-25T18:35:32.723Z"
   },
   {
    "duration": 29,
    "start_time": "2022-12-25T18:35:32.730Z"
   },
   {
    "duration": 22,
    "start_time": "2022-12-25T18:35:32.761Z"
   },
   {
    "duration": 23,
    "start_time": "2022-12-25T18:35:32.785Z"
   },
   {
    "duration": 21,
    "start_time": "2022-12-25T18:35:32.810Z"
   },
   {
    "duration": 39,
    "start_time": "2022-12-25T18:35:32.833Z"
   },
   {
    "duration": 23,
    "start_time": "2022-12-25T18:35:32.874Z"
   },
   {
    "duration": 31,
    "start_time": "2022-12-25T18:35:32.899Z"
   },
   {
    "duration": 12,
    "start_time": "2022-12-25T18:35:32.932Z"
   },
   {
    "duration": 21,
    "start_time": "2022-12-25T18:35:32.946Z"
   },
   {
    "duration": 35,
    "start_time": "2022-12-25T18:35:32.968Z"
   },
   {
    "duration": 25,
    "start_time": "2022-12-25T18:35:33.006Z"
   },
   {
    "duration": 18,
    "start_time": "2022-12-25T18:35:33.033Z"
   },
   {
    "duration": 215,
    "start_time": "2022-12-25T18:35:33.052Z"
   },
   {
    "duration": 4,
    "start_time": "2022-12-25T18:35:33.268Z"
   },
   {
    "duration": 1909,
    "start_time": "2022-12-25T18:35:33.274Z"
   },
   {
    "duration": 147,
    "start_time": "2022-12-25T18:35:35.185Z"
   },
   {
    "duration": 93,
    "start_time": "2022-12-25T18:35:35.334Z"
   },
   {
    "duration": 214,
    "start_time": "2022-12-25T18:35:35.430Z"
   },
   {
    "duration": 78,
    "start_time": "2022-12-25T18:35:35.646Z"
   },
   {
    "duration": 125,
    "start_time": "2022-12-25T18:35:35.726Z"
   },
   {
    "duration": 3,
    "start_time": "2022-12-25T18:35:35.853Z"
   },
   {
    "duration": 25,
    "start_time": "2022-12-25T18:35:35.860Z"
   },
   {
    "duration": 109,
    "start_time": "2022-12-25T18:35:35.886Z"
   },
   {
    "duration": 30,
    "start_time": "2022-12-25T18:35:35.996Z"
   },
   {
    "duration": 10,
    "start_time": "2022-12-25T18:35:36.028Z"
   },
   {
    "duration": 84,
    "start_time": "2022-12-25T18:35:36.039Z"
   },
   {
    "duration": 105,
    "start_time": "2022-12-25T18:35:36.125Z"
   },
   {
    "duration": 102,
    "start_time": "2022-12-25T18:35:36.232Z"
   },
   {
    "duration": 124,
    "start_time": "2022-12-25T18:35:36.336Z"
   },
   {
    "duration": 5,
    "start_time": "2022-12-25T18:35:36.461Z"
   },
   {
    "duration": 121,
    "start_time": "2022-12-25T18:35:36.468Z"
   },
   {
    "duration": 140,
    "start_time": "2022-12-25T18:35:36.591Z"
   },
   {
    "duration": 335,
    "start_time": "2022-12-25T18:35:36.733Z"
   },
   {
    "duration": 459,
    "start_time": "2022-12-25T18:35:37.070Z"
   },
   {
    "duration": 393,
    "start_time": "2022-12-25T18:35:37.531Z"
   },
   {
    "duration": 153,
    "start_time": "2022-12-25T18:35:37.926Z"
   },
   {
    "duration": 45,
    "start_time": "2022-12-25T18:35:38.081Z"
   },
   {
    "duration": 123,
    "start_time": "2022-12-25T18:35:38.128Z"
   },
   {
    "duration": 31,
    "start_time": "2022-12-25T18:35:38.253Z"
   },
   {
    "duration": 141810,
    "start_time": "2022-12-25T18:35:38.286Z"
   },
   {
    "duration": 601,
    "start_time": "2022-12-25T18:38:00.098Z"
   },
   {
    "duration": 105817,
    "start_time": "2022-12-25T18:38:00.701Z"
   },
   {
    "duration": 937,
    "start_time": "2022-12-25T18:39:46.521Z"
   },
   {
    "duration": 167,
    "start_time": "2022-12-25T18:39:47.460Z"
   },
   {
    "duration": 343,
    "start_time": "2022-12-25T18:39:47.629Z"
   },
   {
    "duration": 118,
    "start_time": "2022-12-25T18:39:47.974Z"
   },
   {
    "duration": 556,
    "start_time": "2022-12-25T18:39:48.094Z"
   },
   {
    "duration": 933,
    "start_time": "2022-12-25T18:39:48.651Z"
   },
   {
    "duration": 7,
    "start_time": "2022-12-25T18:39:49.585Z"
   },
   {
    "duration": 8,
    "start_time": "2022-12-25T18:39:49.593Z"
   },
   {
    "duration": 25,
    "start_time": "2022-12-25T18:39:49.603Z"
   },
   {
    "duration": 9,
    "start_time": "2022-12-25T18:39:49.629Z"
   },
   {
    "duration": 107,
    "start_time": "2022-12-25T18:39:49.640Z"
   },
   {
    "duration": 187,
    "start_time": "2022-12-25T18:39:49.748Z"
   },
   {
    "duration": 1487,
    "start_time": "2022-12-25T18:39:49.939Z"
   },
   {
    "duration": 1483,
    "start_time": "2022-12-25T18:42:03.622Z"
   },
   {
    "duration": 7,
    "start_time": "2022-12-25T18:42:18.828Z"
   },
   {
    "duration": 6,
    "start_time": "2022-12-25T18:42:22.467Z"
   },
   {
    "duration": 70,
    "start_time": "2022-12-25T18:42:50.468Z"
   },
   {
    "duration": 90,
    "start_time": "2022-12-25T18:43:03.193Z"
   },
   {
    "duration": 180,
    "start_time": "2022-12-25T18:43:05.007Z"
   },
   {
    "duration": 3349,
    "start_time": "2022-12-25T18:43:32.848Z"
   },
   {
    "duration": 52,
    "start_time": "2022-12-25T18:43:36.200Z"
   },
   {
    "duration": 17,
    "start_time": "2022-12-25T18:43:36.254Z"
   },
   {
    "duration": 15,
    "start_time": "2022-12-25T18:43:36.273Z"
   },
   {
    "duration": 6,
    "start_time": "2022-12-25T18:43:36.290Z"
   },
   {
    "duration": 25,
    "start_time": "2022-12-25T18:43:36.297Z"
   },
   {
    "duration": 4,
    "start_time": "2022-12-25T18:43:36.324Z"
   },
   {
    "duration": 12,
    "start_time": "2022-12-25T18:43:36.329Z"
   },
   {
    "duration": 5,
    "start_time": "2022-12-25T18:43:36.342Z"
   },
   {
    "duration": 4,
    "start_time": "2022-12-25T18:43:36.350Z"
   },
   {
    "duration": 33,
    "start_time": "2022-12-25T18:43:36.356Z"
   },
   {
    "duration": 50,
    "start_time": "2022-12-25T18:43:36.391Z"
   },
   {
    "duration": 26,
    "start_time": "2022-12-25T18:43:36.443Z"
   },
   {
    "duration": 3,
    "start_time": "2022-12-25T18:43:36.471Z"
   },
   {
    "duration": 11,
    "start_time": "2022-12-25T18:43:36.475Z"
   },
   {
    "duration": 51,
    "start_time": "2022-12-25T18:43:36.487Z"
   },
   {
    "duration": 17,
    "start_time": "2022-12-25T18:43:36.540Z"
   },
   {
    "duration": 15,
    "start_time": "2022-12-25T18:43:36.559Z"
   },
   {
    "duration": 211,
    "start_time": "2022-12-25T18:43:36.576Z"
   },
   {
    "duration": 4,
    "start_time": "2022-12-25T18:43:36.788Z"
   },
   {
    "duration": 1736,
    "start_time": "2022-12-25T18:43:36.793Z"
   },
   {
    "duration": 197,
    "start_time": "2022-12-25T18:43:38.530Z"
   },
   {
    "duration": 94,
    "start_time": "2022-12-25T18:43:38.729Z"
   },
   {
    "duration": 198,
    "start_time": "2022-12-25T18:43:38.825Z"
   },
   {
    "duration": 6,
    "start_time": "2022-12-25T18:43:39.025Z"
   },
   {
    "duration": 124,
    "start_time": "2022-12-25T18:43:39.032Z"
   },
   {
    "duration": 3,
    "start_time": "2022-12-25T18:43:39.157Z"
   },
   {
    "duration": 14,
    "start_time": "2022-12-25T18:43:39.164Z"
   },
   {
    "duration": 108,
    "start_time": "2022-12-25T18:43:39.180Z"
   },
   {
    "duration": 20,
    "start_time": "2022-12-25T18:43:39.289Z"
   },
   {
    "duration": 11,
    "start_time": "2022-12-25T18:43:39.322Z"
   },
   {
    "duration": 21,
    "start_time": "2022-12-25T18:43:39.334Z"
   },
   {
    "duration": 174,
    "start_time": "2022-12-25T18:43:39.356Z"
   },
   {
    "duration": 11,
    "start_time": "2022-12-25T18:43:39.622Z"
   },
   {
    "duration": 140,
    "start_time": "2022-12-25T18:43:39.634Z"
   },
   {
    "duration": 5,
    "start_time": "2022-12-25T18:43:39.776Z"
   },
   {
    "duration": 116,
    "start_time": "2022-12-25T18:43:39.782Z"
   },
   {
    "duration": 135,
    "start_time": "2022-12-25T18:43:39.899Z"
   },
   {
    "duration": 333,
    "start_time": "2022-12-25T18:43:40.035Z"
   },
   {
    "duration": 402,
    "start_time": "2022-12-25T18:43:40.421Z"
   },
   {
    "duration": 403,
    "start_time": "2022-12-25T18:43:40.825Z"
   },
   {
    "duration": 145,
    "start_time": "2022-12-25T18:43:41.230Z"
   },
   {
    "duration": 46,
    "start_time": "2022-12-25T18:43:41.376Z"
   },
   {
    "duration": 124,
    "start_time": "2022-12-25T18:43:41.424Z"
   },
   {
    "duration": 31,
    "start_time": "2022-12-25T18:43:41.550Z"
   },
   {
    "duration": 139239,
    "start_time": "2022-12-25T18:43:41.584Z"
   },
   {
    "duration": 1501,
    "start_time": "2022-12-25T18:46:00.826Z"
   },
   {
    "duration": 103094,
    "start_time": "2022-12-25T18:46:02.329Z"
   },
   {
    "duration": 906,
    "start_time": "2022-12-25T18:47:45.424Z"
   },
   {
    "duration": 190,
    "start_time": "2022-12-25T18:47:46.332Z"
   },
   {
    "duration": 237,
    "start_time": "2022-12-25T18:47:46.524Z"
   },
   {
    "duration": 112,
    "start_time": "2022-12-25T18:47:46.763Z"
   },
   {
    "duration": 1439,
    "start_time": "2022-12-25T18:47:46.877Z"
   },
   {
    "duration": 904,
    "start_time": "2022-12-25T18:47:48.321Z"
   },
   {
    "duration": 8,
    "start_time": "2022-12-25T18:47:49.227Z"
   },
   {
    "duration": 11,
    "start_time": "2022-12-25T18:47:49.236Z"
   },
   {
    "duration": 9,
    "start_time": "2022-12-25T18:47:49.248Z"
   },
   {
    "duration": 6,
    "start_time": "2022-12-25T18:47:49.261Z"
   },
   {
    "duration": 109,
    "start_time": "2022-12-25T18:47:49.269Z"
   },
   {
    "duration": 193,
    "start_time": "2022-12-25T18:47:49.379Z"
   },
   {
    "duration": 76,
    "start_time": "2022-12-25T18:47:49.573Z"
   },
   {
    "duration": 176,
    "start_time": "2022-12-25T18:47:49.651Z"
   }
  ],
  "kernelspec": {
   "display_name": "Python 3 (ipykernel)",
   "language": "python",
   "name": "python3"
  },
  "language_info": {
   "codemirror_mode": {
    "name": "ipython",
    "version": 3
   },
   "file_extension": ".py",
   "mimetype": "text/x-python",
   "name": "python",
   "nbconvert_exporter": "python",
   "pygments_lexer": "ipython3",
   "version": "3.9.12"
  },
  "toc": {
   "base_numbering": 1,
   "nav_menu": {
    "height": "151.996px",
    "width": "210px"
   },
   "number_sections": true,
   "sideBar": true,
   "skip_h1_title": true,
   "title_cell": "Содержание",
   "title_sidebar": "Contents",
   "toc_cell": true,
   "toc_position": {
    "height": "calc(100% - 180px)",
    "left": "10px",
    "top": "150px",
    "width": "225px"
   },
   "toc_section_display": true,
   "toc_window_display": true
  }
 },
 "nbformat": 4,
 "nbformat_minor": 2
}
