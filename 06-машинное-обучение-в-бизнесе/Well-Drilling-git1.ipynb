{
 "cells": [
  {
   "cell_type": "markdown",
   "metadata": {},
   "source": [
    "# Выбор локации для скважины"
   ]
  },
  {
   "cell_type": "markdown",
   "metadata": {},
   "source": [
    "Допустим, вы работаете в добывающей компании «ГлавРосГосНефть». Нужно решить, где бурить новую скважину.\n",
    "\n",
    "Вам предоставлены пробы нефти в трёх регионах: в каждом 10 000 месторождений, где измерили качество нефти и объём её запасов. Постройте модель машинного обучения, которая поможет определить регион, где добыча принесёт наибольшую прибыль. Проанализируйте возможную прибыль и риски техникой *Bootstrap.*\n",
    "\n",
    "Шаги для выбора локации:\n",
    "\n",
    "- В избранном регионе ищут месторождения, для каждого определяют значения признаков;\n",
    "- Строят модель и оценивают объём запасов;\n",
    "- Выбирают месторождения с самым высокими оценками значений. Количество месторождений зависит от бюджета компании и стоимости разработки одной скважины;\n",
    "- Прибыль равна суммарной прибыли отобранных месторождений."
   ]
  },
  {
   "cell_type": "markdown",
   "metadata": {},
   "source": [
    "## Загрузка и подготовка данных"
   ]
  },
  {
   "cell_type": "markdown",
   "metadata": {},
   "source": [
    "### Импорт бибилиотек"
   ]
  },
  {
   "cell_type": "code",
   "execution_count": 1,
   "metadata": {},
   "outputs": [],
   "source": [
    "import pandas as pd\n",
    "import numpy as np\n",
    "import matplotlib.pyplot as plt\n",
    "from sklearn.model_selection import train_test_split\n",
    "from sklearn.linear_model import LinearRegression\n",
    "from sklearn.metrics import mean_squared_error\n",
    "RND = np.random.RandomState(12345)"
   ]
  },
  {
   "cell_type": "markdown",
   "metadata": {},
   "source": [
    "### Загрузка данных"
   ]
  },
  {
   "cell_type": "code",
   "execution_count": 2,
   "metadata": {},
   "outputs": [],
   "source": [
    "geo_0 = pd.read_csv('/datasets/geo_data_0.csv')\n",
    "geo_1 = pd.read_csv('/datasets/geo_data_1.csv')\n",
    "geo_2 = pd.read_csv('/datasets/geo_data_2.csv')"
   ]
  },
  {
   "cell_type": "markdown",
   "metadata": {},
   "source": [
    "### Проверка данных"
   ]
  },
  {
   "cell_type": "markdown",
   "metadata": {},
   "source": [
    "Проверка на пропуски"
   ]
  },
  {
   "cell_type": "code",
   "execution_count": 3,
   "metadata": {},
   "outputs": [
    {
     "name": "stdout",
     "output_type": "stream",
     "text": [
      "<class 'pandas.core.frame.DataFrame'>\n",
      "RangeIndex: 100000 entries, 0 to 99999\n",
      "Data columns (total 5 columns):\n",
      " #   Column   Non-Null Count   Dtype  \n",
      "---  ------   --------------   -----  \n",
      " 0   id       100000 non-null  object \n",
      " 1   f0       100000 non-null  float64\n",
      " 2   f1       100000 non-null  float64\n",
      " 3   f2       100000 non-null  float64\n",
      " 4   product  100000 non-null  float64\n",
      "dtypes: float64(4), object(1)\n",
      "memory usage: 3.8+ MB\n",
      "<class 'pandas.core.frame.DataFrame'>\n",
      "RangeIndex: 100000 entries, 0 to 99999\n",
      "Data columns (total 5 columns):\n",
      " #   Column   Non-Null Count   Dtype  \n",
      "---  ------   --------------   -----  \n",
      " 0   id       100000 non-null  object \n",
      " 1   f0       100000 non-null  float64\n",
      " 2   f1       100000 non-null  float64\n",
      " 3   f2       100000 non-null  float64\n",
      " 4   product  100000 non-null  float64\n",
      "dtypes: float64(4), object(1)\n",
      "memory usage: 3.8+ MB\n",
      "<class 'pandas.core.frame.DataFrame'>\n",
      "RangeIndex: 100000 entries, 0 to 99999\n",
      "Data columns (total 5 columns):\n",
      " #   Column   Non-Null Count   Dtype  \n",
      "---  ------   --------------   -----  \n",
      " 0   id       100000 non-null  object \n",
      " 1   f0       100000 non-null  float64\n",
      " 2   f1       100000 non-null  float64\n",
      " 3   f2       100000 non-null  float64\n",
      " 4   product  100000 non-null  float64\n",
      "dtypes: float64(4), object(1)\n",
      "memory usage: 3.8+ MB\n",
      "None None None\n"
     ]
    }
   ],
   "source": [
    "print(geo_0.info(), geo_1.info(), geo_2.info())"
   ]
  },
  {
   "cell_type": "markdown",
   "metadata": {},
   "source": [
    "Проверка на дубликаты"
   ]
  },
  {
   "cell_type": "code",
   "execution_count": 4,
   "metadata": {},
   "outputs": [
    {
     "name": "stdout",
     "output_type": "stream",
     "text": [
      "0\n",
      "0\n",
      "0\n"
     ]
    }
   ],
   "source": [
    "print(geo_0.duplicated().sum())\n",
    "print(geo_1.duplicated().sum())\n",
    "print(geo_2.duplicated().sum())"
   ]
  },
  {
   "cell_type": "code",
   "execution_count": 5,
   "metadata": {},
   "outputs": [
    {
     "name": "stdout",
     "output_type": "stream",
     "text": [
      "                  f0             f1             f2        product\n",
      "count  100000.000000  100000.000000  100000.000000  100000.000000\n",
      "mean        0.500419       0.250143       2.502647      92.500000\n",
      "std         0.871832       0.504433       3.248248      44.288691\n",
      "min        -1.408605      -0.848218     -12.088328       0.000000\n",
      "25%        -0.072580      -0.200881       0.287748      56.497507\n",
      "50%         0.502360       0.250252       2.515969      91.849972\n",
      "75%         1.073581       0.700646       4.715088     128.564089\n",
      "max         2.362331       1.343769      16.003790     185.364347\n",
      "               f0        f1        f2   product\n",
      "f0       1.000000 -0.440723 -0.003153  0.143536\n",
      "f1      -0.440723  1.000000  0.001724 -0.192356\n",
      "f2      -0.003153  0.001724  1.000000  0.483663\n",
      "product  0.143536 -0.192356  0.483663  1.000000\n"
     ]
    }
   ],
   "source": [
    "print(geo_0.describe())\n",
    "print(geo_0.corr())"
   ]
  },
  {
   "cell_type": "code",
   "execution_count": 23,
   "metadata": {},
   "outputs": [
    {
     "name": "stdout",
     "output_type": "stream",
     "text": [
      "                  f0             f1             f2        product\n",
      "count  100000.000000  100000.000000  100000.000000  100000.000000\n",
      "mean        1.141296      -4.796579       2.494541      68.825000\n",
      "std         8.965932       5.119872       1.703572      45.944423\n",
      "min       -31.609576     -26.358598      -0.018144       0.000000\n",
      "25%        -6.298551      -8.267985       1.000021      26.953261\n",
      "50%         1.153055      -4.813172       2.011479      57.085625\n",
      "75%         8.621015      -1.332816       3.999904     107.813044\n",
      "max        29.421755      18.734063       5.019721     137.945408\n",
      "               f0        f1        f2   product\n",
      "f0       1.000000  0.182287 -0.001777 -0.030491\n",
      "f1       0.182287  1.000000 -0.002595 -0.010155\n",
      "f2      -0.001777 -0.002595  1.000000  0.999397\n",
      "product -0.030491 -0.010155  0.999397  1.000000\n"
     ]
    }
   ],
   "source": [
    "print(geo_1.describe())\n",
    "print(geo_1.corr())"
   ]
  },
  {
   "cell_type": "code",
   "execution_count": 24,
   "metadata": {},
   "outputs": [
    {
     "name": "stdout",
     "output_type": "stream",
     "text": [
      "                  f0             f1             f2        product\n",
      "count  100000.000000  100000.000000  100000.000000  100000.000000\n",
      "mean        0.002023      -0.002081       2.495128      95.000000\n",
      "std         1.732045       1.730417       3.473445      44.749921\n",
      "min        -8.760004      -7.084020     -11.970335       0.000000\n",
      "25%        -1.162288      -1.174820       0.130359      59.450441\n",
      "50%         0.009424      -0.009482       2.484236      94.925613\n",
      "75%         1.158535       1.163678       4.858794     130.595027\n",
      "max         7.238262       7.844801      16.739402     190.029838\n",
      "               f0        f1        f2   product\n",
      "f0       1.000000  0.000528 -0.000448 -0.001987\n",
      "f1       0.000528  1.000000  0.000779 -0.001012\n",
      "f2      -0.000448  0.000779  1.000000  0.445871\n",
      "product -0.001987 -0.001012  0.445871  1.000000\n"
     ]
    }
   ],
   "source": [
    "print(geo_2.describe())\n",
    "print(geo_2.corr())"
   ]
  },
  {
   "cell_type": "markdown",
   "metadata": {},
   "source": []
  },
  {
   "cell_type": "markdown",
   "metadata": {},
   "source": [
    "### Вывод"
   ]
  },
  {
   "cell_type": "markdown",
   "metadata": {},
   "source": [
    "- Тип данных столбцов корректный\n",
    "- Пропуски отсутствуют\n",
    "- Дубликаты отсутствуют\n",
    "\n",
    "`Регион № 1` имеется зависимость между показателем 'F2' и 'Product' (0.48), занимает второе место по среднему запасу 'Product'\n",
    "\n",
    "`Регион № 2` имеется очень сильная зависимость между показателем 'F2' и 'Product' (1.00), последнее место по среднему запасу 'Product'\n",
    "\n",
    "`Регион № 3` имеется зависимость между показателем 'F2' и 'Product' (0.45), занимает первое место по среднему запасу 'Product'"
   ]
  },
  {
   "cell_type": "markdown",
   "metadata": {},
   "source": [
    "## Обучение и проверка модели"
   ]
  },
  {
   "cell_type": "markdown",
   "metadata": {},
   "source": [
    "### Разбейте данные на обучающую и валидационную выборки"
   ]
  },
  {
   "cell_type": "code",
   "execution_count": 8,
   "metadata": {},
   "outputs": [],
   "source": [
    "features_0 = geo_0.drop(['id', 'product'], axis = 1)\n",
    "target_0 = geo_0['product']\n",
    "features_train_0, features_valid_0, target_train_0, target_valid_0 = train_test_split(features_0, target_0, test_size=.25, random_state=RND)\n",
    "\n",
    "features_1 = geo_1.drop(['id', 'product'], axis = 1)\n",
    "target_1 = geo_1['product']\n",
    "features_train_1, features_valid_1, target_train_1, target_valid_1 = train_test_split(features_1, target_1, test_size=.25, random_state=RND)\n",
    "\n",
    "features_2 = geo_2.drop(['id', 'product'], axis = 1)\n",
    "target_2 = geo_2['product']\n",
    "features_train_2, features_valid_2, target_train_2, target_valid_2 = train_test_split(features_2, target_2, test_size=.25, random_state=RND)"
   ]
  },
  {
   "cell_type": "markdown",
   "metadata": {},
   "source": [
    "### Обучите модель, cохраните средний запас предсказанного сырья и RMSE"
   ]
  },
  {
   "cell_type": "code",
   "execution_count": 9,
   "metadata": {},
   "outputs": [
    {
     "name": "stdout",
     "output_type": "stream",
     "text": [
      "Cредний запас предсказанного сырья 92.59256778438035\n",
      "RMSE 37.5794217150813\n"
     ]
    }
   ],
   "source": [
    "model_0 = LinearRegression()\n",
    "model_0.fit(features_train_0, target_train_0)\n",
    "predictions_0 = model_0.predict(features_valid_0)\n",
    "MSE_0 = mean_squared_error(target_valid_0, predictions_0)\n",
    "RMSE_0 = MSE_0 ** 0.5\n",
    "\n",
    "print('Cредний запас предсказанного сырья', predictions_0.mean())\n",
    "print('RMSE', RMSE_0)"
   ]
  },
  {
   "cell_type": "code",
   "execution_count": 10,
   "metadata": {},
   "outputs": [
    {
     "name": "stdout",
     "output_type": "stream",
     "text": [
      "Cредний запас предсказанного сырья 68.76995145799754\n",
      "RMSE 0.889736773768065\n"
     ]
    }
   ],
   "source": [
    "model_1 = LinearRegression()\n",
    "model_1.fit(features_train_1, target_train_1)\n",
    "predictions_1 = model_1.predict(features_valid_1)\n",
    "MSE_1 = mean_squared_error(target_valid_1, predictions_1)\n",
    "RMSE_1 = MSE_1 ** 0.5\n",
    "\n",
    "print('Cредний запас предсказанного сырья', predictions_1.mean())\n",
    "print('RMSE', RMSE_1)"
   ]
  },
  {
   "cell_type": "code",
   "execution_count": 11,
   "metadata": {},
   "outputs": [
    {
     "name": "stdout",
     "output_type": "stream",
     "text": [
      "Cредний запас предсказанного сырья 95.087528122523\n",
      "RMSE 39.958042459521614\n"
     ]
    }
   ],
   "source": [
    "model_2 = LinearRegression()\n",
    "model_2.fit(features_train_2, target_train_2)\n",
    "predictions_2 = model_2.predict(features_valid_2)\n",
    "MSE_2 = mean_squared_error(target_valid_2, predictions_2)\n",
    "RMSE_2 = MSE_2 ** 0.5\n",
    "\n",
    "print('Cредний запас предсказанного сырья',predictions_2.mean())\n",
    "print('RMSE',RMSE_2)"
   ]
  },
  {
   "cell_type": "markdown",
   "metadata": {},
   "source": [
    "### Вывод"
   ]
  },
  {
   "cell_type": "markdown",
   "metadata": {},
   "source": [
    "- Наилучшая RMSE в первом регионе\n",
    "- Наибольшая средняя по запасам в третьем регионе "
   ]
  },
  {
   "cell_type": "markdown",
   "metadata": {},
   "source": [
    "## Подготовка к расчёту прибыли"
   ]
  },
  {
   "cell_type": "markdown",
   "metadata": {},
   "source": [
    "### Достаточный объём сырья для безубыточной разработки новой скважины"
   ]
  },
  {
   "cell_type": "markdown",
   "metadata": {},
   "source": [
    "- При разведке региона исследуют 500 точек, из которых с помощью машинного обучения выбирают 200 лучших для разработки.\n",
    "- Бюджет на разработку скважин в регионе — 10 млрд рублей.\n",
    "- Доход с каждой единицы продукта составляет 450 тыс. рублей, поскольку объём указан в тысячах баррелей."
   ]
  },
  {
   "cell_type": "code",
   "execution_count": 25,
   "metadata": {},
   "outputs": [],
   "source": [
    "well = 500\n",
    "wells_number = 200\n",
    "budget = 10**10\n",
    "per_unit = 450000"
   ]
  },
  {
   "cell_type": "code",
   "execution_count": 13,
   "metadata": {},
   "outputs": [
    {
     "name": "stdout",
     "output_type": "stream",
     "text": [
      "Объём сырья для безубыточной разработки новой скважины: 111.11111111111111\n",
      "\n",
      "Cредний запас сырья регион 1: 92.50000000000001 \n",
      "Cредний запас сырья регион 2: 68.82500000000002 \n",
      "Cредний запас сырья регион 3: 95.00000000000004\n"
     ]
    }
   ],
   "source": [
    "budget_for_one = budget / wells_number\n",
    "min_mean_product = budget_for_one / per_unit\n",
    "print('Объём сырья для безубыточной разработки новой скважины:', min_mean_product)\n",
    "print('\\nCредний запас сырья регион 1:',target_0.mean(),\n",
    "'\\nCредний запас сырья регион 2:', target_1.mean(),\n",
    "'\\nCредний запас сырья регион 3:', target_2.mean())"
   ]
  },
  {
   "cell_type": "markdown",
   "metadata": {},
   "source": [
    "Средний запас сырья в каждом из трех регионов меньше расчетного объёма сырья для безубыточной разработки новой скважины"
   ]
  },
  {
   "cell_type": "markdown",
   "metadata": {},
   "source": [
    "### Напишите функцию для расчёта прибыли по выбранным 200 скважинам и предсказаниям модели"
   ]
  },
  {
   "cell_type": "code",
   "execution_count": 14,
   "metadata": {},
   "outputs": [],
   "source": [
    "def revenue(target, probabilities):\n",
    "    target = pd.Series(target).reset_index(drop=True)\n",
    "    probabilities = pd.Series(probabilities).reset_index(drop=True)\n",
    "    probs_sorted = probabilities.sort_values(ascending=False)\n",
    "    selected = target[probs_sorted.index][:wells_number]\n",
    "    return (round((selected.sum()*per_unit) - budget,2))"
   ]
  },
  {
   "cell_type": "code",
   "execution_count": 15,
   "metadata": {},
   "outputs": [
    {
     "name": "stdout",
     "output_type": "stream",
     "text": [
      "Прибыль регион 1: 3320826043.14\n",
      "Прибыль регион 2: 2415086696.68\n",
      "Прибыль регион 3: 2539915945.84\n"
     ]
    }
   ],
   "source": [
    "print('Прибыль регион 1:',revenue(target_valid_0,predictions_0))\n",
    "print('Прибыль регион 2:',revenue(target_valid_1,predictions_1))\n",
    "print('Прибыль регион 3:',revenue(target_valid_2,predictions_2))"
   ]
  },
  {
   "cell_type": "markdown",
   "metadata": {},
   "source": [
    "### Вывод"
   ]
  },
  {
   "cell_type": "markdown",
   "metadata": {},
   "source": [
    "Самым прибыльным регионом является `Регион 1`, расчетный показатель прибыли составляет 3 320 826 043,14 рублей"
   ]
  },
  {
   "cell_type": "markdown",
   "metadata": {},
   "source": [
    "## Расчёт прибыли и рисков "
   ]
  },
  {
   "cell_type": "markdown",
   "metadata": {},
   "source": [
    "### Распределение прибыли техникой Bootstrap с 1000 выборок"
   ]
  },
  {
   "cell_type": "code",
   "execution_count": 16,
   "metadata": {},
   "outputs": [],
   "source": [
    "target_valid_0.reset_index(drop= True , inplace= True )\n",
    "target_valid_1.reset_index(drop= True , inplace= True )\n",
    "target_valid_2.reset_index(drop= True , inplace= True )"
   ]
  },
  {
   "cell_type": "code",
   "execution_count": 17,
   "metadata": {},
   "outputs": [],
   "source": [
    "def Bootstrap(target, probabilities):\n",
    "    values = []\n",
    "    for i in range(1000):\n",
    "        target_subsample = target.sample(n=well, replace=True, random_state=RND)\n",
    "        probs_subsample = probabilities[target_subsample.index]\n",
    "        profit_sample = revenue(target_subsample, probs_subsample)\n",
    "        values.append(profit_sample)\n",
    "    values = pd.Series(values)  \n",
    "    lower = values.quantile(0.025)\n",
    "    upper = values.quantile(0.975)\n",
    "    count = 0\n",
    "    for i in range(len(values)):\n",
    "        if values[i] < 0:\n",
    "            count += 1\n",
    "    return print('\\nСредняя прибыль', round(values.mean(),2),\n",
    "                 '\\n95% доверительный интервал от:',round(lower,2),'до:', round(upper,2),\n",
    "                 '\\nПроцент риска',round(count / len(values) * 100,3))"
   ]
  },
  {
   "cell_type": "code",
   "execution_count": 26,
   "metadata": {},
   "outputs": [
    {
     "name": "stdout",
     "output_type": "stream",
     "text": [
      "1    2\n",
      "1    2\n",
      "1    2\n",
      "dtype: int64\n",
      "1    2\n",
      "1    2\n",
      "1    2\n",
      "1    2\n",
      "1    2\n",
      "1    2\n",
      "1    2\n",
      "1    2\n",
      "1    2\n",
      "2    3\n",
      "dtype: int64\n",
      "2\n",
      "0    2\n",
      "1    2\n",
      "2    2\n",
      "3    3\n",
      "dtype: int64\n"
     ]
    }
   ],
   "source": [
    "a = pd.Series([2, 2, 2, 3], index = [1, 1, 1, 2])\n",
    "print(a[1])\n",
    "print(a[a.index])\n",
    "a = a.reset_index(drop = True)\n",
    "print(a[1])\n",
    "print(a[a.index])"
   ]
  },
  {
   "cell_type": "code",
   "execution_count": 18,
   "metadata": {},
   "outputs": [
    {
     "name": "stdout",
     "output_type": "stream",
     "text": [
      "\n",
      "Средняя прибыль 394284411.34 \n",
      "95% доверительный интервал от: -69450566.85 до: 915496165.83 \n",
      "Процент риска 6.1\n"
     ]
    }
   ],
   "source": [
    "Bootstrap(target_valid_0, predictions_0)"
   ]
  },
  {
   "cell_type": "code",
   "execution_count": 19,
   "metadata": {},
   "outputs": [
    {
     "name": "stdout",
     "output_type": "stream",
     "text": [
      "\n",
      "Средняя прибыль 454736359.1 \n",
      "95% доверительный интервал от: 61071811.3 до: 855914149.14 \n",
      "Процент риска 0.7\n"
     ]
    }
   ],
   "source": [
    "Bootstrap(target_valid_1, predictions_1)"
   ]
  },
  {
   "cell_type": "code",
   "execution_count": 20,
   "metadata": {
    "scrolled": true
   },
   "outputs": [
    {
     "name": "stdout",
     "output_type": "stream",
     "text": [
      "\n",
      "Средняя прибыль 353664097.52 \n",
      "95% доверительный интервал от: -162650946.94 до: 847761844.51 \n",
      "Процент риска 7.6\n"
     ]
    }
   ],
   "source": [
    "Bootstrap(target_valid_2, predictions_2)"
   ]
  },
  {
   "cell_type": "markdown",
   "metadata": {},
   "source": [
    "### Вывод"
   ]
  },
  {
   "cell_type": "markdown",
   "metadata": {},
   "source": [
    "`Регион 2`\n",
    "- Самый низкий процент риска < 2,5%\n",
    "- Отсутствует отрицательные значения доверительного интервала\n",
    "- Наибольшая средняя прибыль\n",
    "\n",
    "На основании вышеизложенного можно говорить о том, что `Регион 2` является наилучшим выбором из трех предложенных для разработки скважин"
   ]
  },
  {
   "cell_type": "markdown",
   "metadata": {},
   "source": [
    "## Итоги"
   ]
  },
  {
   "cell_type": "markdown",
   "metadata": {},
   "source": [
    "Были рассмотрены три региона с потенциально возможными местами для бурения новых скважин\n",
    "\n",
    "Изначально, потенциально самым прибыльным регионом выглядел `Регион № 3`с самым большим показателем по среднему запасу 'Product'\n",
    "\n",
    "После был рассчитан объём сырья для безубыточной разработки новой скважины (111.11)\n",
    "\n",
    "Так как бюджет и количество потенциальных точек бурения ограничены, при помощи модели линейной регрессии был рассчитан средний запас предсказанного сырья и прибыли, которые для каждого из регионов равны:\n",
    "\n",
    "`Регион 1`\n",
    "- Средний запас сырья: 92.50\n",
    "- Прибыль: 3 320,826 млн. руб.\n",
    "\n",
    "`Регион 2`\n",
    "- Средний запас сырья: 68.83 \n",
    "- Прибыль: 2 415,087 млн. руб.\n",
    "\n",
    "`Регион 3`\n",
    "- Средний запас сырья: 95.00\n",
    "- Прибыль: 2 539,916 млн. руб.\n",
    "\n",
    "Средний запас сырья в каждом из трех регионов оказался недостаточен для безубыточной разработки скважин\n",
    "\n",
    "На основании вышеизложенного была применена техника Bootstrap с 1000 выборок для определения распределения прибыли и расчета рисков, в ходе применения которой был сделан вывод, что Регион 2 является наилучшим выбором из трех предложенных для разработки, т.к. имеет самый низкий процент риска получения отрицательной прибыли и максимальную потенциально возможную прибыль из представленных для разработки регионов."
   ]
  }
 ],
 "metadata": {
  "ExecuteTimeLog": [
   {
    "duration": 1594,
    "start_time": "2023-01-04T05:25:17.080Z"
   },
   {
    "duration": 786,
    "start_time": "2023-01-04T05:27:07.575Z"
   },
   {
    "duration": 18,
    "start_time": "2023-01-04T05:27:18.344Z"
   },
   {
    "duration": 106,
    "start_time": "2023-01-04T05:28:10.996Z"
   },
   {
    "duration": 1317,
    "start_time": "2023-01-04T05:28:15.463Z"
   },
   {
    "duration": 14,
    "start_time": "2023-01-04T05:28:17.300Z"
   },
   {
    "duration": 23,
    "start_time": "2023-01-04T05:28:47.275Z"
   },
   {
    "duration": 22,
    "start_time": "2023-01-04T05:29:11.077Z"
   },
   {
    "duration": 22,
    "start_time": "2023-01-04T05:29:13.626Z"
   },
   {
    "duration": 16,
    "start_time": "2023-01-04T05:29:25.081Z"
   },
   {
    "duration": 27,
    "start_time": "2023-01-04T05:29:31.338Z"
   },
   {
    "duration": 39,
    "start_time": "2023-01-04T05:29:40.974Z"
   },
   {
    "duration": 1337,
    "start_time": "2023-01-04T05:31:33.674Z"
   },
   {
    "duration": 413,
    "start_time": "2023-01-04T05:31:35.013Z"
   },
   {
    "duration": 43,
    "start_time": "2023-01-04T05:31:35.427Z"
   },
   {
    "duration": 142,
    "start_time": "2023-01-04T05:36:55.794Z"
   },
   {
    "duration": 76,
    "start_time": "2023-01-04T05:47:15.162Z"
   },
   {
    "duration": 1349,
    "start_time": "2023-01-06T04:59:41.416Z"
   },
   {
    "duration": 712,
    "start_time": "2023-01-06T04:59:42.767Z"
   },
   {
    "duration": 33,
    "start_time": "2023-01-06T04:59:43.481Z"
   },
   {
    "duration": 109,
    "start_time": "2023-01-06T04:59:43.516Z"
   },
   {
    "duration": 1243,
    "start_time": "2023-01-06T05:10:04.211Z"
   },
   {
    "duration": 348,
    "start_time": "2023-01-06T05:10:05.456Z"
   },
   {
    "duration": 32,
    "start_time": "2023-01-06T05:10:05.805Z"
   },
   {
    "duration": 115,
    "start_time": "2023-01-06T05:10:05.839Z"
   },
   {
    "duration": 45,
    "start_time": "2023-01-06T05:10:05.955Z"
   },
   {
    "duration": 42,
    "start_time": "2023-01-06T05:10:37.655Z"
   },
   {
    "duration": 44,
    "start_time": "2023-01-06T05:10:44.584Z"
   },
   {
    "duration": 50,
    "start_time": "2023-01-06T05:10:54.210Z"
   },
   {
    "duration": 26,
    "start_time": "2023-01-06T05:11:20.817Z"
   },
   {
    "duration": 35,
    "start_time": "2023-01-06T05:18:26.291Z"
   },
   {
    "duration": 27,
    "start_time": "2023-01-06T05:18:31.968Z"
   },
   {
    "duration": 1211,
    "start_time": "2023-01-06T05:21:08.139Z"
   },
   {
    "duration": 353,
    "start_time": "2023-01-06T05:21:09.352Z"
   },
   {
    "duration": 33,
    "start_time": "2023-01-06T05:21:09.707Z"
   },
   {
    "duration": 118,
    "start_time": "2023-01-06T05:21:09.742Z"
   },
   {
    "duration": 54,
    "start_time": "2023-01-06T05:21:09.863Z"
   },
   {
    "duration": 25,
    "start_time": "2023-01-06T05:22:18.059Z"
   },
   {
    "duration": 22,
    "start_time": "2023-01-06T05:22:58.207Z"
   },
   {
    "duration": 20,
    "start_time": "2023-01-06T05:24:09.805Z"
   },
   {
    "duration": 13,
    "start_time": "2023-01-06T05:24:11.766Z"
   },
   {
    "duration": 1222,
    "start_time": "2023-01-06T05:27:01.652Z"
   },
   {
    "duration": 350,
    "start_time": "2023-01-06T05:27:02.876Z"
   },
   {
    "duration": 34,
    "start_time": "2023-01-06T05:27:03.228Z"
   },
   {
    "duration": 134,
    "start_time": "2023-01-06T05:27:03.263Z"
   },
   {
    "duration": 52,
    "start_time": "2023-01-06T05:27:03.398Z"
   },
   {
    "duration": 66,
    "start_time": "2023-01-06T05:27:03.452Z"
   },
   {
    "duration": 15,
    "start_time": "2023-01-06T05:27:57.238Z"
   },
   {
    "duration": 17,
    "start_time": "2023-01-06T05:28:07.172Z"
   },
   {
    "duration": 16,
    "start_time": "2023-01-06T05:28:07.764Z"
   },
   {
    "duration": 15,
    "start_time": "2023-01-06T05:28:38.898Z"
   },
   {
    "duration": 16,
    "start_time": "2023-01-06T05:29:45.059Z"
   },
   {
    "duration": 22,
    "start_time": "2023-01-06T05:33:16.516Z"
   },
   {
    "duration": 21,
    "start_time": "2023-01-06T05:33:19.839Z"
   },
   {
    "duration": 16,
    "start_time": "2023-01-06T05:33:47.442Z"
   },
   {
    "duration": 20,
    "start_time": "2023-01-06T05:37:26.285Z"
   },
   {
    "duration": 16,
    "start_time": "2023-01-06T05:37:57.654Z"
   },
   {
    "duration": 15,
    "start_time": "2023-01-06T05:38:15.599Z"
   },
   {
    "duration": 49,
    "start_time": "2023-01-06T05:42:36.094Z"
   },
   {
    "duration": 94,
    "start_time": "2023-01-06T05:57:22.215Z"
   },
   {
    "duration": 2,
    "start_time": "2023-01-06T05:57:23.973Z"
   },
   {
    "duration": 2,
    "start_time": "2023-01-06T05:57:24.535Z"
   },
   {
    "duration": 8,
    "start_time": "2023-01-06T05:57:40.493Z"
   },
   {
    "duration": 3,
    "start_time": "2023-01-06T05:57:58.858Z"
   },
   {
    "duration": 4,
    "start_time": "2023-01-06T06:06:27.939Z"
   },
   {
    "duration": 3,
    "start_time": "2023-01-06T06:06:36.122Z"
   },
   {
    "duration": 5,
    "start_time": "2023-01-06T06:10:19.605Z"
   },
   {
    "duration": 6,
    "start_time": "2023-01-06T06:11:26.822Z"
   },
   {
    "duration": 5,
    "start_time": "2023-01-06T06:11:38.469Z"
   },
   {
    "duration": 5,
    "start_time": "2023-01-06T06:12:08.759Z"
   },
   {
    "duration": 6,
    "start_time": "2023-01-06T06:12:15.655Z"
   },
   {
    "duration": 5,
    "start_time": "2023-01-06T06:12:33.758Z"
   },
   {
    "duration": 54,
    "start_time": "2023-01-06T06:13:03.420Z"
   },
   {
    "duration": 6,
    "start_time": "2023-01-06T06:13:13.782Z"
   },
   {
    "duration": 7,
    "start_time": "2023-01-06T07:38:09.533Z"
   },
   {
    "duration": 9,
    "start_time": "2023-01-06T07:38:21.499Z"
   },
   {
    "duration": 5,
    "start_time": "2023-01-06T07:38:33.190Z"
   },
   {
    "duration": 7,
    "start_time": "2023-01-06T07:38:42.501Z"
   },
   {
    "duration": 3,
    "start_time": "2023-01-06T07:39:01.828Z"
   },
   {
    "duration": 4,
    "start_time": "2023-01-06T07:44:23.795Z"
   },
   {
    "duration": 15,
    "start_time": "2023-01-06T07:45:09.143Z"
   },
   {
    "duration": 3,
    "start_time": "2023-01-06T07:45:42.163Z"
   },
   {
    "duration": 17,
    "start_time": "2023-01-06T07:45:42.532Z"
   },
   {
    "duration": 4,
    "start_time": "2023-01-06T07:46:27.893Z"
   },
   {
    "duration": 8,
    "start_time": "2023-01-06T07:46:28.950Z"
   },
   {
    "duration": 15,
    "start_time": "2023-01-06T07:47:05.277Z"
   },
   {
    "duration": 4,
    "start_time": "2023-01-06T07:48:56.053Z"
   },
   {
    "duration": 7,
    "start_time": "2023-01-06T07:49:23.692Z"
   },
   {
    "duration": 7,
    "start_time": "2023-01-06T07:49:29.294Z"
   },
   {
    "duration": 7,
    "start_time": "2023-01-06T07:49:34.931Z"
   },
   {
    "duration": 7,
    "start_time": "2023-01-06T07:50:03.393Z"
   },
   {
    "duration": 3,
    "start_time": "2023-01-06T07:50:43.178Z"
   },
   {
    "duration": 13,
    "start_time": "2023-01-06T07:50:43.863Z"
   },
   {
    "duration": 1185,
    "start_time": "2023-01-06T08:09:02.872Z"
   },
   {
    "duration": 357,
    "start_time": "2023-01-06T08:09:04.062Z"
   },
   {
    "duration": 32,
    "start_time": "2023-01-06T08:09:04.421Z"
   },
   {
    "duration": 129,
    "start_time": "2023-01-06T08:09:04.456Z"
   },
   {
    "duration": 38,
    "start_time": "2023-01-06T08:09:04.586Z"
   },
   {
    "duration": 93,
    "start_time": "2023-01-06T08:09:04.625Z"
   },
   {
    "duration": 109,
    "start_time": "2023-01-06T08:09:04.721Z"
   },
   {
    "duration": 187,
    "start_time": "2023-01-06T08:09:04.832Z"
   },
   {
    "duration": 100,
    "start_time": "2023-01-06T08:09:05.022Z"
   },
   {
    "duration": 93,
    "start_time": "2023-01-06T08:09:05.126Z"
   },
   {
    "duration": 33,
    "start_time": "2023-01-06T08:09:05.221Z"
   },
   {
    "duration": 23,
    "start_time": "2023-01-06T08:09:05.256Z"
   },
   {
    "duration": 22,
    "start_time": "2023-01-06T08:09:05.280Z"
   },
   {
    "duration": 4,
    "start_time": "2023-01-06T08:12:02.568Z"
   },
   {
    "duration": 14,
    "start_time": "2023-01-06T08:12:03.945Z"
   },
   {
    "duration": 3,
    "start_time": "2023-01-06T08:13:55.410Z"
   },
   {
    "duration": 14,
    "start_time": "2023-01-06T08:13:56.081Z"
   },
   {
    "duration": 4,
    "start_time": "2023-01-06T08:15:33.569Z"
   },
   {
    "duration": 15,
    "start_time": "2023-01-06T08:15:34.698Z"
   },
   {
    "duration": 3,
    "start_time": "2023-01-06T08:16:06.009Z"
   },
   {
    "duration": 14,
    "start_time": "2023-01-06T08:16:06.978Z"
   },
   {
    "duration": 3,
    "start_time": "2023-01-06T08:18:23.737Z"
   },
   {
    "duration": 14,
    "start_time": "2023-01-06T08:18:24.176Z"
   },
   {
    "duration": 3,
    "start_time": "2023-01-06T08:18:30.777Z"
   },
   {
    "duration": 14,
    "start_time": "2023-01-06T08:18:31.737Z"
   },
   {
    "duration": 3,
    "start_time": "2023-01-06T08:24:33.928Z"
   },
   {
    "duration": 14,
    "start_time": "2023-01-06T08:24:34.380Z"
   },
   {
    "duration": 1195,
    "start_time": "2023-01-06T08:31:02.577Z"
   },
   {
    "duration": 355,
    "start_time": "2023-01-06T08:31:03.774Z"
   },
   {
    "duration": 33,
    "start_time": "2023-01-06T08:31:04.131Z"
   },
   {
    "duration": 119,
    "start_time": "2023-01-06T08:31:04.166Z"
   },
   {
    "duration": 43,
    "start_time": "2023-01-06T08:31:04.287Z"
   },
   {
    "duration": 15,
    "start_time": "2023-01-06T08:31:04.332Z"
   },
   {
    "duration": 172,
    "start_time": "2023-01-06T08:31:04.349Z"
   },
   {
    "duration": 197,
    "start_time": "2023-01-06T08:31:04.523Z"
   },
   {
    "duration": 95,
    "start_time": "2023-01-06T08:31:04.722Z"
   },
   {
    "duration": 103,
    "start_time": "2023-01-06T08:31:04.820Z"
   },
   {
    "duration": 3,
    "start_time": "2023-01-06T08:31:04.925Z"
   },
   {
    "duration": 99,
    "start_time": "2023-01-06T08:31:04.930Z"
   },
   {
    "duration": 17,
    "start_time": "2023-01-06T08:32:21.839Z"
   },
   {
    "duration": 4,
    "start_time": "2023-01-06T08:32:50.958Z"
   },
   {
    "duration": 18,
    "start_time": "2023-01-06T08:32:51.639Z"
   },
   {
    "duration": 3,
    "start_time": "2023-01-06T08:33:02.079Z"
   },
   {
    "duration": 18,
    "start_time": "2023-01-06T08:33:03.558Z"
   },
   {
    "duration": 4,
    "start_time": "2023-01-06T08:36:04.958Z"
   },
   {
    "duration": 17,
    "start_time": "2023-01-06T08:36:05.999Z"
   },
   {
    "duration": 6,
    "start_time": "2023-01-06T08:38:31.959Z"
   },
   {
    "duration": 4,
    "start_time": "2023-01-06T08:38:41.718Z"
   },
   {
    "duration": 5,
    "start_time": "2023-01-06T08:39:57.358Z"
   },
   {
    "duration": 5,
    "start_time": "2023-01-06T08:40:06.843Z"
   },
   {
    "duration": 6,
    "start_time": "2023-01-06T08:40:13.278Z"
   },
   {
    "duration": 6,
    "start_time": "2023-01-06T08:42:48.890Z"
   },
   {
    "duration": 10,
    "start_time": "2023-01-06T08:43:18.436Z"
   },
   {
    "duration": 3,
    "start_time": "2023-01-06T08:44:01.086Z"
   },
   {
    "duration": 12,
    "start_time": "2023-01-06T08:44:02.301Z"
   },
   {
    "duration": 8,
    "start_time": "2023-01-06T08:44:20.586Z"
   },
   {
    "duration": 10,
    "start_time": "2023-01-06T08:44:29.835Z"
   },
   {
    "duration": 8,
    "start_time": "2023-01-06T08:44:34.411Z"
   },
   {
    "duration": 9,
    "start_time": "2023-01-06T08:44:59.557Z"
   },
   {
    "duration": 9,
    "start_time": "2023-01-06T08:45:11.027Z"
   },
   {
    "duration": 9,
    "start_time": "2023-01-06T08:47:50.880Z"
   },
   {
    "duration": 3,
    "start_time": "2023-01-06T08:48:16.896Z"
   },
   {
    "duration": 18,
    "start_time": "2023-01-06T08:48:17.451Z"
   },
   {
    "duration": 3,
    "start_time": "2023-01-06T08:48:29.472Z"
   },
   {
    "duration": 17,
    "start_time": "2023-01-06T08:48:30.098Z"
   },
   {
    "duration": 3,
    "start_time": "2023-01-06T08:48:39.420Z"
   },
   {
    "duration": 22,
    "start_time": "2023-01-06T08:48:40.677Z"
   },
   {
    "duration": 1251,
    "start_time": "2023-01-06T08:48:55.803Z"
   },
   {
    "duration": 356,
    "start_time": "2023-01-06T08:48:57.056Z"
   },
   {
    "duration": 34,
    "start_time": "2023-01-06T08:48:57.414Z"
   },
   {
    "duration": 131,
    "start_time": "2023-01-06T08:48:57.450Z"
   },
   {
    "duration": 44,
    "start_time": "2023-01-06T08:48:57.583Z"
   },
   {
    "duration": 18,
    "start_time": "2023-01-06T08:48:57.629Z"
   },
   {
    "duration": 108,
    "start_time": "2023-01-06T08:48:57.718Z"
   },
   {
    "duration": 197,
    "start_time": "2023-01-06T08:48:57.828Z"
   },
   {
    "duration": 3,
    "start_time": "2023-01-06T08:48:58.027Z"
   },
   {
    "duration": 193,
    "start_time": "2023-01-06T08:48:58.032Z"
   },
   {
    "duration": 7,
    "start_time": "2023-01-06T08:48:58.227Z"
   },
   {
    "duration": 21,
    "start_time": "2023-01-06T08:48:58.236Z"
   },
   {
    "duration": 16,
    "start_time": "2023-01-06T08:51:31.676Z"
   },
   {
    "duration": 4,
    "start_time": "2023-01-06T08:51:33.437Z"
   },
   {
    "duration": 18,
    "start_time": "2023-01-06T08:51:33.780Z"
   },
   {
    "duration": 1207,
    "start_time": "2023-01-06T08:51:56.957Z"
   },
   {
    "duration": 361,
    "start_time": "2023-01-06T08:51:58.165Z"
   },
   {
    "duration": 35,
    "start_time": "2023-01-06T08:51:58.528Z"
   },
   {
    "duration": 122,
    "start_time": "2023-01-06T08:51:58.565Z"
   },
   {
    "duration": 37,
    "start_time": "2023-01-06T08:51:58.689Z"
   },
   {
    "duration": 16,
    "start_time": "2023-01-06T08:51:58.727Z"
   },
   {
    "duration": 174,
    "start_time": "2023-01-06T08:51:58.745Z"
   },
   {
    "duration": 106,
    "start_time": "2023-01-06T08:51:58.922Z"
   },
   {
    "duration": 3,
    "start_time": "2023-01-06T08:51:59.115Z"
   },
   {
    "duration": 98,
    "start_time": "2023-01-06T08:51:59.121Z"
   },
   {
    "duration": 6,
    "start_time": "2023-01-06T08:51:59.221Z"
   },
   {
    "duration": 22,
    "start_time": "2023-01-06T08:51:59.228Z"
   },
   {
    "duration": 3,
    "start_time": "2023-01-06T08:53:38.762Z"
   },
   {
    "duration": 17,
    "start_time": "2023-01-06T08:53:39.881Z"
   },
   {
    "duration": 114,
    "start_time": "2023-01-06T09:06:20.011Z"
   },
   {
    "duration": 3,
    "start_time": "2023-01-06T09:06:40.308Z"
   },
   {
    "duration": 1256,
    "start_time": "2023-01-06T09:06:46.907Z"
   },
   {
    "duration": 348,
    "start_time": "2023-01-06T09:06:48.165Z"
   },
   {
    "duration": 33,
    "start_time": "2023-01-06T09:06:48.514Z"
   },
   {
    "duration": 125,
    "start_time": "2023-01-06T09:06:48.550Z"
   },
   {
    "duration": 50,
    "start_time": "2023-01-06T09:06:48.676Z"
   },
   {
    "duration": 21,
    "start_time": "2023-01-06T09:06:48.727Z"
   },
   {
    "duration": 110,
    "start_time": "2023-01-06T09:06:48.818Z"
   },
   {
    "duration": 109,
    "start_time": "2023-01-06T09:06:49.015Z"
   },
   {
    "duration": 4,
    "start_time": "2023-01-06T09:06:49.126Z"
   },
   {
    "duration": 101,
    "start_time": "2023-01-06T09:06:49.218Z"
   },
   {
    "duration": 106,
    "start_time": "2023-01-06T09:06:49.321Z"
   },
   {
    "duration": 0,
    "start_time": "2023-01-06T09:06:49.429Z"
   },
   {
    "duration": 0,
    "start_time": "2023-01-06T09:06:49.430Z"
   },
   {
    "duration": 9,
    "start_time": "2023-01-06T09:07:44.861Z"
   },
   {
    "duration": 3,
    "start_time": "2023-01-06T09:08:37.548Z"
   },
   {
    "duration": 19,
    "start_time": "2023-01-06T09:08:37.895Z"
   },
   {
    "duration": 3,
    "start_time": "2023-01-06T09:08:57.916Z"
   },
   {
    "duration": 17,
    "start_time": "2023-01-06T09:08:58.370Z"
   },
   {
    "duration": 3,
    "start_time": "2023-01-06T09:09:10.487Z"
   },
   {
    "duration": 4,
    "start_time": "2023-01-06T09:09:19.896Z"
   },
   {
    "duration": 21,
    "start_time": "2023-01-06T09:09:21.765Z"
   },
   {
    "duration": 3,
    "start_time": "2023-01-06T09:09:41.403Z"
   },
   {
    "duration": 15,
    "start_time": "2023-01-06T09:09:41.935Z"
   },
   {
    "duration": 3,
    "start_time": "2023-01-06T09:10:55.546Z"
   },
   {
    "duration": 1256,
    "start_time": "2023-01-06T09:11:00.630Z"
   },
   {
    "duration": 372,
    "start_time": "2023-01-06T09:11:01.887Z"
   },
   {
    "duration": 35,
    "start_time": "2023-01-06T09:11:02.261Z"
   },
   {
    "duration": 131,
    "start_time": "2023-01-06T09:11:02.298Z"
   },
   {
    "duration": 43,
    "start_time": "2023-01-06T09:11:02.432Z"
   },
   {
    "duration": 40,
    "start_time": "2023-01-06T09:11:02.478Z"
   },
   {
    "duration": 119,
    "start_time": "2023-01-06T09:11:02.522Z"
   },
   {
    "duration": 178,
    "start_time": "2023-01-06T09:11:02.643Z"
   },
   {
    "duration": 193,
    "start_time": "2023-01-06T09:11:02.823Z"
   },
   {
    "duration": 21,
    "start_time": "2023-01-06T09:11:03.017Z"
   },
   {
    "duration": 131,
    "start_time": "2023-01-06T09:11:03.039Z"
   },
   {
    "duration": 0,
    "start_time": "2023-01-06T09:11:03.172Z"
   },
   {
    "duration": 0,
    "start_time": "2023-01-06T09:11:03.175Z"
   },
   {
    "duration": 11,
    "start_time": "2023-01-06T09:13:15.147Z"
   },
   {
    "duration": 12,
    "start_time": "2023-01-06T09:13:57.508Z"
   },
   {
    "duration": 4,
    "start_time": "2023-01-06T09:13:58.184Z"
   },
   {
    "duration": 4,
    "start_time": "2023-01-06T09:16:59.140Z"
   },
   {
    "duration": 19,
    "start_time": "2023-01-06T09:16:59.505Z"
   },
   {
    "duration": 18,
    "start_time": "2023-01-06T09:19:43.314Z"
   },
   {
    "duration": 18,
    "start_time": "2023-01-06T09:19:58.387Z"
   },
   {
    "duration": 15,
    "start_time": "2023-01-06T09:20:12.726Z"
   },
   {
    "duration": 63,
    "start_time": "2023-01-06T09:22:22.098Z"
   },
   {
    "duration": 16,
    "start_time": "2023-01-06T09:22:22.525Z"
   },
   {
    "duration": 56,
    "start_time": "2023-01-06T09:22:44.909Z"
   },
   {
    "duration": 3,
    "start_time": "2023-01-06T09:22:51.939Z"
   },
   {
    "duration": 17,
    "start_time": "2023-01-06T09:22:52.595Z"
   },
   {
    "duration": 10,
    "start_time": "2023-01-06T09:24:06.295Z"
   },
   {
    "duration": 17,
    "start_time": "2023-01-06T09:24:55.844Z"
   },
   {
    "duration": 17,
    "start_time": "2023-01-06T09:25:12.556Z"
   },
   {
    "duration": 1710,
    "start_time": "2023-01-06T11:14:55.765Z"
   },
   {
    "duration": 1836,
    "start_time": "2023-01-06T11:14:57.477Z"
   },
   {
    "duration": 52,
    "start_time": "2023-01-06T11:14:59.315Z"
   },
   {
    "duration": 144,
    "start_time": "2023-01-06T11:14:59.369Z"
   },
   {
    "duration": 46,
    "start_time": "2023-01-06T11:14:59.516Z"
   },
   {
    "duration": 92,
    "start_time": "2023-01-06T11:14:59.567Z"
   },
   {
    "duration": 116,
    "start_time": "2023-01-06T11:14:59.661Z"
   },
   {
    "duration": 195,
    "start_time": "2023-01-06T11:14:59.781Z"
   },
   {
    "duration": 206,
    "start_time": "2023-01-06T11:14:59.978Z"
   },
   {
    "duration": 37,
    "start_time": "2023-01-06T11:15:00.186Z"
   },
   {
    "duration": 38,
    "start_time": "2023-01-06T11:15:00.225Z"
   },
   {
    "duration": 63,
    "start_time": "2023-01-06T11:15:00.264Z"
   },
   {
    "duration": 5,
    "start_time": "2023-01-06T12:52:58.651Z"
   },
   {
    "duration": 5,
    "start_time": "2023-01-06T12:56:16.481Z"
   },
   {
    "duration": 153,
    "start_time": "2023-01-06T12:56:32.543Z"
   },
   {
    "duration": 5,
    "start_time": "2023-01-06T12:57:03.942Z"
   },
   {
    "duration": 15,
    "start_time": "2023-01-06T12:57:04.397Z"
   },
   {
    "duration": 9,
    "start_time": "2023-01-06T12:57:32.172Z"
   },
   {
    "duration": 14,
    "start_time": "2023-01-06T12:57:32.703Z"
   },
   {
    "duration": 5,
    "start_time": "2023-01-06T12:57:47.926Z"
   },
   {
    "duration": 17,
    "start_time": "2023-01-06T12:57:49.634Z"
   },
   {
    "duration": 6,
    "start_time": "2023-01-06T13:25:18.878Z"
   },
   {
    "duration": 18,
    "start_time": "2023-01-06T13:25:19.444Z"
   },
   {
    "duration": 1436,
    "start_time": "2023-01-06T13:26:12.545Z"
   },
   {
    "duration": 397,
    "start_time": "2023-01-06T13:26:13.983Z"
   },
   {
    "duration": 38,
    "start_time": "2023-01-06T13:26:14.382Z"
   },
   {
    "duration": 153,
    "start_time": "2023-01-06T13:26:14.422Z"
   },
   {
    "duration": 51,
    "start_time": "2023-01-06T13:26:14.577Z"
   },
   {
    "duration": 32,
    "start_time": "2023-01-06T13:26:14.630Z"
   },
   {
    "duration": 190,
    "start_time": "2023-01-06T13:26:14.666Z"
   },
   {
    "duration": 193,
    "start_time": "2023-01-06T13:26:14.859Z"
   },
   {
    "duration": 6,
    "start_time": "2023-01-06T13:26:15.055Z"
   },
   {
    "duration": 14,
    "start_time": "2023-01-06T13:26:15.151Z"
   },
   {
    "duration": 21,
    "start_time": "2023-01-06T13:26:15.167Z"
   },
   {
    "duration": 38,
    "start_time": "2023-01-06T13:26:15.190Z"
   },
   {
    "duration": 6,
    "start_time": "2023-01-06T13:26:15.230Z"
   },
   {
    "duration": 145,
    "start_time": "2023-01-06T13:26:15.238Z"
   },
   {
    "duration": 12,
    "start_time": "2023-01-06T13:29:29.359Z"
   },
   {
    "duration": 12,
    "start_time": "2023-01-06T13:29:30.873Z"
   },
   {
    "duration": 17,
    "start_time": "2023-01-06T13:29:31.831Z"
   },
   {
    "duration": 11,
    "start_time": "2023-01-06T13:31:12.469Z"
   },
   {
    "duration": 5,
    "start_time": "2023-01-06T13:31:39.501Z"
   },
   {
    "duration": 14,
    "start_time": "2023-01-06T13:31:42.146Z"
   },
   {
    "duration": 5,
    "start_time": "2023-01-06T13:33:55.665Z"
   },
   {
    "duration": 13,
    "start_time": "2023-01-06T13:33:56.786Z"
   },
   {
    "duration": 6,
    "start_time": "2023-01-06T13:35:47.001Z"
   },
   {
    "duration": 14,
    "start_time": "2023-01-06T13:35:47.791Z"
   },
   {
    "duration": 5,
    "start_time": "2023-01-06T13:36:24.722Z"
   },
   {
    "duration": 15,
    "start_time": "2023-01-06T13:36:27.303Z"
   },
   {
    "duration": 15,
    "start_time": "2023-01-06T13:36:29.322Z"
   },
   {
    "duration": 6,
    "start_time": "2023-01-06T13:37:12.601Z"
   },
   {
    "duration": 14,
    "start_time": "2023-01-06T13:37:13.156Z"
   },
   {
    "duration": 7,
    "start_time": "2023-01-06T13:38:02.381Z"
   },
   {
    "duration": 1096,
    "start_time": "2023-01-06T13:38:03.093Z"
   },
   {
    "duration": 5,
    "start_time": "2023-01-06T13:38:17.102Z"
   },
   {
    "duration": 17,
    "start_time": "2023-01-06T13:38:19.044Z"
   },
   {
    "duration": 5,
    "start_time": "2023-01-06T13:39:11.230Z"
   },
   {
    "duration": 6,
    "start_time": "2023-01-06T13:39:12.770Z"
   },
   {
    "duration": 1052,
    "start_time": "2023-01-06T13:39:13.164Z"
   },
   {
    "duration": 17,
    "start_time": "2023-01-06T13:39:14.218Z"
   },
   {
    "duration": 5,
    "start_time": "2023-01-06T13:39:42.936Z"
   },
   {
    "duration": 6,
    "start_time": "2023-01-06T13:39:43.167Z"
   },
   {
    "duration": 1119,
    "start_time": "2023-01-06T13:39:43.786Z"
   },
   {
    "duration": 1094,
    "start_time": "2023-01-06T13:39:44.908Z"
   },
   {
    "duration": 5,
    "start_time": "2023-01-06T13:40:25.901Z"
   },
   {
    "duration": 1101,
    "start_time": "2023-01-06T13:40:27.666Z"
   },
   {
    "duration": 1513,
    "start_time": "2023-01-06T13:41:08.938Z"
   },
   {
    "duration": 429,
    "start_time": "2023-01-06T13:41:10.454Z"
   },
   {
    "duration": 38,
    "start_time": "2023-01-06T13:41:10.885Z"
   },
   {
    "duration": 158,
    "start_time": "2023-01-06T13:41:10.925Z"
   },
   {
    "duration": 43,
    "start_time": "2023-01-06T13:41:11.085Z"
   },
   {
    "duration": 127,
    "start_time": "2023-01-06T13:41:11.130Z"
   },
   {
    "duration": 103,
    "start_time": "2023-01-06T13:41:11.260Z"
   },
   {
    "duration": 96,
    "start_time": "2023-01-06T13:41:11.366Z"
   },
   {
    "duration": 89,
    "start_time": "2023-01-06T13:41:11.466Z"
   },
   {
    "duration": 117,
    "start_time": "2023-01-06T13:41:11.558Z"
   },
   {
    "duration": 8,
    "start_time": "2023-01-06T13:41:11.677Z"
   },
   {
    "duration": 41,
    "start_time": "2023-01-06T13:41:11.686Z"
   },
   {
    "duration": 5,
    "start_time": "2023-01-06T13:41:11.729Z"
   },
   {
    "duration": 12,
    "start_time": "2023-01-06T13:41:11.736Z"
   },
   {
    "duration": 1119,
    "start_time": "2023-01-06T13:41:11.750Z"
   },
   {
    "duration": 1041,
    "start_time": "2023-01-06T13:41:12.870Z"
   },
   {
    "duration": 1474,
    "start_time": "2023-01-06T13:44:21.830Z"
   },
   {
    "duration": 446,
    "start_time": "2023-01-06T13:44:23.306Z"
   },
   {
    "duration": 49,
    "start_time": "2023-01-06T13:44:23.754Z"
   },
   {
    "duration": 165,
    "start_time": "2023-01-06T13:44:23.805Z"
   },
   {
    "duration": 43,
    "start_time": "2023-01-06T13:44:23.971Z"
   },
   {
    "duration": 149,
    "start_time": "2023-01-06T13:44:24.016Z"
   },
   {
    "duration": 24,
    "start_time": "2023-01-06T13:44:24.167Z"
   },
   {
    "duration": 106,
    "start_time": "2023-01-06T13:44:24.253Z"
   },
   {
    "duration": 200,
    "start_time": "2023-01-06T13:44:24.364Z"
   },
   {
    "duration": 19,
    "start_time": "2023-01-06T13:44:24.567Z"
   },
   {
    "duration": 21,
    "start_time": "2023-01-06T13:44:24.589Z"
   },
   {
    "duration": 45,
    "start_time": "2023-01-06T13:44:24.613Z"
   },
   {
    "duration": 10,
    "start_time": "2023-01-06T13:44:24.663Z"
   },
   {
    "duration": 13,
    "start_time": "2023-01-06T13:44:24.675Z"
   },
   {
    "duration": 1149,
    "start_time": "2023-01-06T13:44:24.691Z"
   },
   {
    "duration": 6,
    "start_time": "2023-01-06T13:45:07.717Z"
   },
   {
    "duration": 1066,
    "start_time": "2023-01-06T13:45:08.256Z"
   },
   {
    "duration": 1241,
    "start_time": "2023-01-06T13:46:19.146Z"
   },
   {
    "duration": 1115,
    "start_time": "2023-01-06T13:46:20.389Z"
   },
   {
    "duration": 107,
    "start_time": "2023-01-06T13:47:14.318Z"
   },
   {
    "duration": 1118,
    "start_time": "2023-01-06T13:47:14.696Z"
   },
   {
    "duration": 5,
    "start_time": "2023-01-06T13:47:20.376Z"
   },
   {
    "duration": 1069,
    "start_time": "2023-01-06T13:47:21.121Z"
   },
   {
    "duration": 6,
    "start_time": "2023-01-06T13:47:31.633Z"
   },
   {
    "duration": 1091,
    "start_time": "2023-01-06T13:47:31.641Z"
   },
   {
    "duration": 5,
    "start_time": "2023-01-06T13:47:46.597Z"
   },
   {
    "duration": 1114,
    "start_time": "2023-01-06T13:47:47.695Z"
   },
   {
    "duration": 77,
    "start_time": "2023-01-06T13:49:24.736Z"
   },
   {
    "duration": 77,
    "start_time": "2023-01-06T13:49:31.766Z"
   },
   {
    "duration": 1124,
    "start_time": "2023-01-06T13:49:32.469Z"
   },
   {
    "duration": 7,
    "start_time": "2023-01-06T13:49:53.593Z"
   },
   {
    "duration": 1171,
    "start_time": "2023-01-06T13:49:54.737Z"
   },
   {
    "duration": 5,
    "start_time": "2023-01-06T13:51:08.713Z"
   },
   {
    "duration": 1073,
    "start_time": "2023-01-06T13:51:12.495Z"
   },
   {
    "duration": 5,
    "start_time": "2023-01-06T13:52:25.906Z"
   },
   {
    "duration": 1317,
    "start_time": "2023-01-06T13:52:27.565Z"
   },
   {
    "duration": 6,
    "start_time": "2023-01-06T13:53:01.396Z"
   },
   {
    "duration": 1084,
    "start_time": "2023-01-06T13:53:01.737Z"
   },
   {
    "duration": 6,
    "start_time": "2023-01-06T13:53:26.190Z"
   },
   {
    "duration": 1243,
    "start_time": "2023-01-06T13:53:26.511Z"
   },
   {
    "duration": 7,
    "start_time": "2023-01-06T13:53:46.060Z"
   },
   {
    "duration": 1204,
    "start_time": "2023-01-06T13:53:46.471Z"
   },
   {
    "duration": 1221,
    "start_time": "2023-01-06T13:53:55.574Z"
   },
   {
    "duration": 1192,
    "start_time": "2023-01-06T13:53:56.798Z"
   },
   {
    "duration": 7,
    "start_time": "2023-01-06T13:54:34.196Z"
   },
   {
    "duration": 1089,
    "start_time": "2023-01-06T13:54:35.091Z"
   },
   {
    "duration": 7,
    "start_time": "2023-01-06T13:56:31.404Z"
   },
   {
    "duration": 1113,
    "start_time": "2023-01-06T13:56:32.353Z"
   },
   {
    "duration": 91,
    "start_time": "2023-01-06T13:57:06.551Z"
   },
   {
    "duration": 1046,
    "start_time": "2023-01-06T13:57:07.195Z"
   },
   {
    "duration": 6,
    "start_time": "2023-01-06T13:57:12.106Z"
   },
   {
    "duration": 1028,
    "start_time": "2023-01-06T13:57:12.780Z"
   },
   {
    "duration": 6,
    "start_time": "2023-01-06T13:57:31.021Z"
   },
   {
    "duration": 1087,
    "start_time": "2023-01-06T13:57:31.211Z"
   },
   {
    "duration": 5,
    "start_time": "2023-01-06T13:58:43.522Z"
   },
   {
    "duration": 1020,
    "start_time": "2023-01-06T13:58:44.196Z"
   },
   {
    "duration": 75,
    "start_time": "2023-01-06T13:59:09.811Z"
   },
   {
    "duration": 5,
    "start_time": "2023-01-06T13:59:15.479Z"
   },
   {
    "duration": 1037,
    "start_time": "2023-01-06T13:59:16.179Z"
   },
   {
    "duration": 1022,
    "start_time": "2023-01-06T13:59:24.755Z"
   },
   {
    "duration": 5,
    "start_time": "2023-01-06T13:59:32.641Z"
   },
   {
    "duration": 989,
    "start_time": "2023-01-06T13:59:33.916Z"
   },
   {
    "duration": 1020,
    "start_time": "2023-01-06T13:59:36.882Z"
   },
   {
    "duration": 1056,
    "start_time": "2023-01-06T13:59:37.905Z"
   },
   {
    "duration": 1430,
    "start_time": "2023-01-06T13:59:56.053Z"
   },
   {
    "duration": 410,
    "start_time": "2023-01-06T13:59:57.485Z"
   },
   {
    "duration": 40,
    "start_time": "2023-01-06T13:59:57.897Z"
   },
   {
    "duration": 163,
    "start_time": "2023-01-06T13:59:57.950Z"
   },
   {
    "duration": 57,
    "start_time": "2023-01-06T13:59:58.115Z"
   },
   {
    "duration": 81,
    "start_time": "2023-01-06T13:59:58.174Z"
   },
   {
    "duration": 109,
    "start_time": "2023-01-06T13:59:58.259Z"
   },
   {
    "duration": 186,
    "start_time": "2023-01-06T13:59:58.369Z"
   },
   {
    "duration": 100,
    "start_time": "2023-01-06T13:59:58.557Z"
   },
   {
    "duration": 99,
    "start_time": "2023-01-06T13:59:58.661Z"
   },
   {
    "duration": 8,
    "start_time": "2023-01-06T13:59:58.762Z"
   },
   {
    "duration": 25,
    "start_time": "2023-01-06T13:59:58.772Z"
   },
   {
    "duration": 3,
    "start_time": "2023-01-06T13:59:58.798Z"
   },
   {
    "duration": 6,
    "start_time": "2023-01-06T13:59:58.804Z"
   },
   {
    "duration": 1128,
    "start_time": "2023-01-06T13:59:58.812Z"
   },
   {
    "duration": 1094,
    "start_time": "2023-01-06T13:59:59.950Z"
   },
   {
    "duration": 1083,
    "start_time": "2023-01-06T14:00:01.046Z"
   },
   {
    "duration": 5,
    "start_time": "2023-01-06T14:01:48.661Z"
   },
   {
    "duration": 1037,
    "start_time": "2023-01-06T14:01:50.081Z"
   },
   {
    "duration": 1013,
    "start_time": "2023-01-06T14:01:53.971Z"
   },
   {
    "duration": 1050,
    "start_time": "2023-01-06T14:01:54.986Z"
   },
   {
    "duration": 1397,
    "start_time": "2023-01-06T14:12:27.494Z"
   },
   {
    "duration": 422,
    "start_time": "2023-01-06T14:12:28.894Z"
   },
   {
    "duration": 41,
    "start_time": "2023-01-06T14:12:29.318Z"
   },
   {
    "duration": 156,
    "start_time": "2023-01-06T14:12:29.362Z"
   },
   {
    "duration": 48,
    "start_time": "2023-01-06T14:12:29.520Z"
   },
   {
    "duration": 79,
    "start_time": "2023-01-06T14:12:29.571Z"
   },
   {
    "duration": 111,
    "start_time": "2023-01-06T14:12:29.657Z"
   },
   {
    "duration": 194,
    "start_time": "2023-01-06T14:12:29.770Z"
   },
   {
    "duration": 89,
    "start_time": "2023-01-06T14:12:29.969Z"
   },
   {
    "duration": 100,
    "start_time": "2023-01-06T14:12:30.062Z"
   },
   {
    "duration": 6,
    "start_time": "2023-01-06T14:12:30.164Z"
   },
   {
    "duration": 35,
    "start_time": "2023-01-06T14:12:30.172Z"
   },
   {
    "duration": 4,
    "start_time": "2023-01-06T14:12:30.209Z"
   },
   {
    "duration": 11,
    "start_time": "2023-01-06T14:12:30.214Z"
   },
   {
    "duration": 1068,
    "start_time": "2023-01-06T14:12:30.227Z"
   },
   {
    "duration": 1040,
    "start_time": "2023-01-06T14:12:31.297Z"
   },
   {
    "duration": 1053,
    "start_time": "2023-01-06T14:12:32.339Z"
   },
   {
    "duration": 67,
    "start_time": "2023-01-07T14:08:54.466Z"
   },
   {
    "duration": 1600,
    "start_time": "2023-01-07T14:09:01.380Z"
   },
   {
    "duration": 867,
    "start_time": "2023-01-07T14:09:02.982Z"
   },
   {
    "duration": 38,
    "start_time": "2023-01-07T14:09:03.852Z"
   },
   {
    "duration": 144,
    "start_time": "2023-01-07T14:09:03.893Z"
   },
   {
    "duration": 45,
    "start_time": "2023-01-07T14:09:04.042Z"
   },
   {
    "duration": 54,
    "start_time": "2023-01-07T14:09:04.089Z"
   },
   {
    "duration": 98,
    "start_time": "2023-01-07T14:09:04.145Z"
   },
   {
    "duration": 107,
    "start_time": "2023-01-07T14:09:04.245Z"
   },
   {
    "duration": 217,
    "start_time": "2023-01-07T14:09:04.354Z"
   },
   {
    "duration": 170,
    "start_time": "2023-01-07T14:09:04.577Z"
   },
   {
    "duration": 37,
    "start_time": "2023-01-07T14:09:04.751Z"
   },
   {
    "duration": 19,
    "start_time": "2023-01-07T14:09:04.790Z"
   },
   {
    "duration": 56,
    "start_time": "2023-01-07T14:09:04.811Z"
   },
   {
    "duration": 4,
    "start_time": "2023-01-07T14:09:04.868Z"
   },
   {
    "duration": 13,
    "start_time": "2023-01-07T14:09:04.874Z"
   },
   {
    "duration": 1116,
    "start_time": "2023-01-07T14:09:04.889Z"
   },
   {
    "duration": 1096,
    "start_time": "2023-01-07T14:09:06.007Z"
   },
   {
    "duration": 1056,
    "start_time": "2023-01-07T14:09:07.105Z"
   },
   {
    "duration": 49,
    "start_time": "2023-01-07T14:15:39.453Z"
   },
   {
    "duration": 144,
    "start_time": "2023-01-07T14:15:50.326Z"
   },
   {
    "duration": 67,
    "start_time": "2023-01-07T14:16:04.214Z"
   },
   {
    "duration": 50,
    "start_time": "2023-01-07T14:16:08.854Z"
   },
   {
    "duration": 47,
    "start_time": "2023-01-07T14:16:14.357Z"
   },
   {
    "duration": 192,
    "start_time": "2023-01-07T14:17:16.606Z"
   },
   {
    "duration": 90,
    "start_time": "2023-01-07T14:17:30.427Z"
   },
   {
    "duration": 59,
    "start_time": "2023-01-07T14:18:48.686Z"
   },
   {
    "duration": 41,
    "start_time": "2023-01-07T14:20:48.707Z"
   },
   {
    "duration": 33,
    "start_time": "2023-01-07T14:20:59.015Z"
   },
   {
    "duration": 32,
    "start_time": "2023-01-07T14:20:59.318Z"
   },
   {
    "duration": 143,
    "start_time": "2023-01-07T14:24:27.625Z"
   },
   {
    "duration": 4,
    "start_time": "2023-01-07T14:25:19.604Z"
   },
   {
    "duration": 61,
    "start_time": "2023-01-07T14:26:02.585Z"
   },
   {
    "duration": 41,
    "start_time": "2023-01-07T14:26:05.357Z"
   },
   {
    "duration": 43,
    "start_time": "2023-01-07T14:26:19.065Z"
   },
   {
    "duration": 43,
    "start_time": "2023-01-07T14:28:07.848Z"
   },
   {
    "duration": 1387,
    "start_time": "2023-01-07T14:28:25.594Z"
   },
   {
    "duration": 406,
    "start_time": "2023-01-07T14:28:26.983Z"
   },
   {
    "duration": 48,
    "start_time": "2023-01-07T14:28:27.391Z"
   },
   {
    "duration": 206,
    "start_time": "2023-01-07T14:28:27.440Z"
   },
   {
    "duration": 52,
    "start_time": "2023-01-07T14:28:27.651Z"
   },
   {
    "duration": 51,
    "start_time": "2023-01-07T14:28:27.705Z"
   },
   {
    "duration": 35,
    "start_time": "2023-01-07T14:28:27.758Z"
   },
   {
    "duration": 57,
    "start_time": "2023-01-07T14:28:27.795Z"
   },
   {
    "duration": 82,
    "start_time": "2023-01-07T14:28:27.855Z"
   },
   {
    "duration": 142,
    "start_time": "2023-01-07T14:28:27.940Z"
   },
   {
    "duration": 154,
    "start_time": "2023-01-07T14:28:28.085Z"
   },
   {
    "duration": 112,
    "start_time": "2023-01-07T14:28:28.249Z"
   },
   {
    "duration": 11,
    "start_time": "2023-01-07T14:28:28.362Z"
   },
   {
    "duration": 12,
    "start_time": "2023-01-07T14:28:28.376Z"
   },
   {
    "duration": 26,
    "start_time": "2023-01-07T14:28:28.389Z"
   },
   {
    "duration": 3,
    "start_time": "2023-01-07T14:28:28.417Z"
   },
   {
    "duration": 27,
    "start_time": "2023-01-07T14:28:28.422Z"
   },
   {
    "duration": 1049,
    "start_time": "2023-01-07T14:28:28.451Z"
   },
   {
    "duration": 1016,
    "start_time": "2023-01-07T14:28:29.502Z"
   },
   {
    "duration": 1026,
    "start_time": "2023-01-07T14:28:30.520Z"
   },
   {
    "duration": 45,
    "start_time": "2023-01-07T14:35:44.603Z"
   },
   {
    "duration": 41,
    "start_time": "2023-01-07T14:35:45.771Z"
   },
   {
    "duration": 41,
    "start_time": "2023-01-07T14:36:30.763Z"
   },
   {
    "duration": 43,
    "start_time": "2023-01-07T14:36:38.403Z"
   },
   {
    "duration": 3,
    "start_time": "2023-01-07T14:42:08.982Z"
   },
   {
    "duration": 9,
    "start_time": "2023-01-07T14:44:37.362Z"
   }
  ],
  "kernelspec": {
   "display_name": "Python 3 (ipykernel)",
   "language": "python",
   "name": "python3"
  },
  "language_info": {
   "codemirror_mode": {
    "name": "ipython",
    "version": 3
   },
   "file_extension": ".py",
   "mimetype": "text/x-python",
   "name": "python",
   "nbconvert_exporter": "python",
   "pygments_lexer": "ipython3",
   "version": "3.9.12"
  },
  "toc": {
   "base_numbering": 1,
   "nav_menu": {
    "height": "204.006px",
    "width": "288.999px"
   },
   "number_sections": true,
   "sideBar": true,
   "skip_h1_title": true,
   "title_cell": "Table of Contents",
   "title_sidebar": "Contents",
   "toc_cell": false,
   "toc_position": {},
   "toc_section_display": true,
   "toc_window_display": false
  }
 },
 "nbformat": 4,
 "nbformat_minor": 2
}
