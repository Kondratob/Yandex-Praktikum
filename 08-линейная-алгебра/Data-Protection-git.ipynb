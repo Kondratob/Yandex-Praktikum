{
 "cells": [
  {
   "cell_type": "markdown",
   "metadata": {
    "toc": true
   },
   "source": [
    "<h1>Содержание<span class=\"tocSkip\"></span></h1>\n",
    "<div class=\"toc\"><ul class=\"toc-item\"><li><span><a href=\"#Загрузка-данных\" data-toc-modified-id=\"Загрузка-данных-1\"><span class=\"toc-item-num\">1&nbsp;&nbsp;</span>Загрузка данных</a></span><ul class=\"toc-item\"><li><span><a href=\"#Импорт-библиотек\" data-toc-modified-id=\"Импорт-библиотек-1.1\"><span class=\"toc-item-num\">1.1&nbsp;&nbsp;</span>Импорт библиотек</a></span></li><li><span><a href=\"#Загрузка-данных\" data-toc-modified-id=\"Загрузка-данных-1.2\"><span class=\"toc-item-num\">1.2&nbsp;&nbsp;</span>Загрузка данных</a></span></li><li><span><a href=\"#Описательная-статистика\" data-toc-modified-id=\"Описательная-статистика-1.3\"><span class=\"toc-item-num\">1.3&nbsp;&nbsp;</span>Описательная статистика</a></span></li><li><span><a href=\"#Визуализация-данных\" data-toc-modified-id=\"Визуализация-данных-1.4\"><span class=\"toc-item-num\">1.4&nbsp;&nbsp;</span>Визуализация данных</a></span></li><li><span><a href=\"#Выделение-признаков-и-целевого-признака\" data-toc-modified-id=\"Выделение-признаков-и-целевого-признака-1.5\"><span class=\"toc-item-num\">1.5&nbsp;&nbsp;</span>Выделение признаков и целевого признака</a></span></li><li><span><a href=\"#Разделение-на-выборки\" data-toc-modified-id=\"Разделение-на-выборки-1.6\"><span class=\"toc-item-num\">1.6&nbsp;&nbsp;</span>Разделение на выборки</a></span></li><li><span><a href=\"#Вывод\" data-toc-modified-id=\"Вывод-1.7\"><span class=\"toc-item-num\">1.7&nbsp;&nbsp;</span>Вывод</a></span></li></ul></li><li><span><a href=\"#Умножение-матриц\" data-toc-modified-id=\"Умножение-матриц-2\"><span class=\"toc-item-num\">2&nbsp;&nbsp;</span>Умножение матриц</a></span></li><li><span><a href=\"#Алгоритм-преобразования\" data-toc-modified-id=\"Алгоритм-преобразования-3\"><span class=\"toc-item-num\">3&nbsp;&nbsp;</span>Алгоритм преобразования</a></span><ul class=\"toc-item\"><li><span><a href=\"#Преобразование-выборок-в-матрицы\" data-toc-modified-id=\"Преобразование-выборок-в-матрицы-3.1\"><span class=\"toc-item-num\">3.1&nbsp;&nbsp;</span>Преобразование выборок в матрицы</a></span></li><li><span><a href=\"#Создадание-рандомной,-обратимой-матрицы-4\\4\" data-toc-modified-id=\"Создадание-рандомной,-обратимой-матрицы-4\\4-3.2\"><span class=\"toc-item-num\">3.2&nbsp;&nbsp;</span>Создадание рандомной, обратимой матрицы 4\\4</a></span></li><li><span><a href=\"#Умножение-рандомной-матрицы-на-обратную-ей-матрицу\" data-toc-modified-id=\"Умножение-рандомной-матрицы-на-обратную-ей-матрицу-3.3\"><span class=\"toc-item-num\">3.3&nbsp;&nbsp;</span>Умножение рандомной матрицы на обратную ей матрицу</a></span></li><li><span><a href=\"#Вернем-matrix_features_train-в-изначальный-вид-умножив-на-обратную-random_matrix\" data-toc-modified-id=\"Вернем-matrix_features_train-в-изначальный-вид-умножив-на-обратную-random_matrix-3.4\"><span class=\"toc-item-num\">3.4&nbsp;&nbsp;</span>Вернем matrix_features_train в изначальный вид умножив на обратную random_matrix</a></span></li></ul></li><li><span><a href=\"#Проверка-алгоритма\" data-toc-modified-id=\"Проверка-алгоритма-4\"><span class=\"toc-item-num\">4&nbsp;&nbsp;</span>Проверка алгоритма</a></span><ul class=\"toc-item\"><li><span><a href=\"#R2-score-изначальной-выборки\" data-toc-modified-id=\"R2-score-изначальной-выборки-4.1\"><span class=\"toc-item-num\">4.1&nbsp;&nbsp;</span>R2 score изначальной выборки</a></span></li><li><span><a href=\"#R2-score-выборки,-после-преобразований:\" data-toc-modified-id=\"R2-score-выборки,-после-преобразований:-4.2\"><span class=\"toc-item-num\">4.2&nbsp;&nbsp;</span>R2 score выборки, после преобразований:</a></span></li></ul></li><li><span><a href=\"#Вывод:\" data-toc-modified-id=\"Вывод:-5\"><span class=\"toc-item-num\">5&nbsp;&nbsp;</span>Вывод:</a></span></li><li><span><a href=\"#Чек-лист-проверки\" data-toc-modified-id=\"Чек-лист-проверки-6\"><span class=\"toc-item-num\">6&nbsp;&nbsp;</span>Чек-лист проверки</a></span></li></ul></div>"
   ]
  },
  {
   "cell_type": "markdown",
   "metadata": {},
   "source": [
    "# Защита персональных данных клиентов"
   ]
  },
  {
   "cell_type": "markdown",
   "metadata": {},
   "source": [
    "Вам нужно защитить данные клиентов страховой компании «Хоть потоп». Разработайте такой метод преобразования данных, чтобы по ним было сложно восстановить персональную информацию. Обоснуйте корректность его работы.\n",
    "\n",
    "Нужно защитить данные, чтобы при преобразовании качество моделей машинного обучения не ухудшилось. Подбирать наилучшую модель не требуется."
   ]
  },
  {
   "cell_type": "markdown",
   "metadata": {},
   "source": [
    "## Загрузка данных"
   ]
  },
  {
   "cell_type": "markdown",
   "metadata": {},
   "source": [
    "### Импорт библиотек"
   ]
  },
  {
   "cell_type": "code",
   "execution_count": 1,
   "metadata": {},
   "outputs": [],
   "source": [
    "import pandas as pd \n",
    "import numpy as np\n",
    "\n",
    "from sklearn.model_selection import train_test_split\n",
    "from sklearn.linear_model import LinearRegression\n",
    "from sklearn.metrics import r2_score\n",
    "\n",
    "import matplotlib.pyplot as plt\n",
    "import seaborn as sns"
   ]
  },
  {
   "cell_type": "markdown",
   "metadata": {},
   "source": [
    "### Загрузка данных"
   ]
  },
  {
   "cell_type": "code",
   "execution_count": 2,
   "metadata": {},
   "outputs": [],
   "source": [
    "data = pd.read_csv('insurance.csv')"
   ]
  },
  {
   "cell_type": "code",
   "execution_count": 3,
   "metadata": {},
   "outputs": [
    {
     "data": {
      "text/html": [
       "<div>\n",
       "<style scoped>\n",
       "    .dataframe tbody tr th:only-of-type {\n",
       "        vertical-align: middle;\n",
       "    }\n",
       "\n",
       "    .dataframe tbody tr th {\n",
       "        vertical-align: top;\n",
       "    }\n",
       "\n",
       "    .dataframe thead th {\n",
       "        text-align: right;\n",
       "    }\n",
       "</style>\n",
       "<table border=\"1\" class=\"dataframe\">\n",
       "  <thead>\n",
       "    <tr style=\"text-align: right;\">\n",
       "      <th></th>\n",
       "      <th>Пол</th>\n",
       "      <th>Возраст</th>\n",
       "      <th>Зарплата</th>\n",
       "      <th>Члены семьи</th>\n",
       "      <th>Страховые выплаты</th>\n",
       "    </tr>\n",
       "  </thead>\n",
       "  <tbody>\n",
       "    <tr>\n",
       "      <th>0</th>\n",
       "      <td>1</td>\n",
       "      <td>41.0</td>\n",
       "      <td>49600.0</td>\n",
       "      <td>1</td>\n",
       "      <td>0</td>\n",
       "    </tr>\n",
       "    <tr>\n",
       "      <th>1</th>\n",
       "      <td>0</td>\n",
       "      <td>46.0</td>\n",
       "      <td>38000.0</td>\n",
       "      <td>1</td>\n",
       "      <td>1</td>\n",
       "    </tr>\n",
       "    <tr>\n",
       "      <th>2</th>\n",
       "      <td>0</td>\n",
       "      <td>29.0</td>\n",
       "      <td>21000.0</td>\n",
       "      <td>0</td>\n",
       "      <td>0</td>\n",
       "    </tr>\n",
       "    <tr>\n",
       "      <th>3</th>\n",
       "      <td>0</td>\n",
       "      <td>21.0</td>\n",
       "      <td>41700.0</td>\n",
       "      <td>2</td>\n",
       "      <td>0</td>\n",
       "    </tr>\n",
       "    <tr>\n",
       "      <th>4</th>\n",
       "      <td>1</td>\n",
       "      <td>28.0</td>\n",
       "      <td>26100.0</td>\n",
       "      <td>0</td>\n",
       "      <td>0</td>\n",
       "    </tr>\n",
       "    <tr>\n",
       "      <th>...</th>\n",
       "      <td>...</td>\n",
       "      <td>...</td>\n",
       "      <td>...</td>\n",
       "      <td>...</td>\n",
       "      <td>...</td>\n",
       "    </tr>\n",
       "    <tr>\n",
       "      <th>4995</th>\n",
       "      <td>0</td>\n",
       "      <td>28.0</td>\n",
       "      <td>35700.0</td>\n",
       "      <td>2</td>\n",
       "      <td>0</td>\n",
       "    </tr>\n",
       "    <tr>\n",
       "      <th>4996</th>\n",
       "      <td>0</td>\n",
       "      <td>34.0</td>\n",
       "      <td>52400.0</td>\n",
       "      <td>1</td>\n",
       "      <td>0</td>\n",
       "    </tr>\n",
       "    <tr>\n",
       "      <th>4997</th>\n",
       "      <td>0</td>\n",
       "      <td>20.0</td>\n",
       "      <td>33900.0</td>\n",
       "      <td>2</td>\n",
       "      <td>0</td>\n",
       "    </tr>\n",
       "    <tr>\n",
       "      <th>4998</th>\n",
       "      <td>1</td>\n",
       "      <td>22.0</td>\n",
       "      <td>32700.0</td>\n",
       "      <td>3</td>\n",
       "      <td>0</td>\n",
       "    </tr>\n",
       "    <tr>\n",
       "      <th>4999</th>\n",
       "      <td>1</td>\n",
       "      <td>28.0</td>\n",
       "      <td>40600.0</td>\n",
       "      <td>1</td>\n",
       "      <td>0</td>\n",
       "    </tr>\n",
       "  </tbody>\n",
       "</table>\n",
       "<p>5000 rows × 5 columns</p>\n",
       "</div>"
      ],
      "text/plain": [
       "      Пол  Возраст  Зарплата  Члены семьи  Страховые выплаты\n",
       "0       1     41.0   49600.0            1                  0\n",
       "1       0     46.0   38000.0            1                  1\n",
       "2       0     29.0   21000.0            0                  0\n",
       "3       0     21.0   41700.0            2                  0\n",
       "4       1     28.0   26100.0            0                  0\n",
       "...   ...      ...       ...          ...                ...\n",
       "4995    0     28.0   35700.0            2                  0\n",
       "4996    0     34.0   52400.0            1                  0\n",
       "4997    0     20.0   33900.0            2                  0\n",
       "4998    1     22.0   32700.0            3                  0\n",
       "4999    1     28.0   40600.0            1                  0\n",
       "\n",
       "[5000 rows x 5 columns]"
      ]
     },
     "metadata": {},
     "output_type": "display_data"
    }
   ],
   "source": [
    "display(data)"
   ]
  },
  {
   "cell_type": "code",
   "execution_count": 4,
   "metadata": {
    "scrolled": true
   },
   "outputs": [
    {
     "name": "stdout",
     "output_type": "stream",
     "text": [
      "<class 'pandas.core.frame.DataFrame'>\n",
      "RangeIndex: 5000 entries, 0 to 4999\n",
      "Data columns (total 5 columns):\n",
      " #   Column             Non-Null Count  Dtype  \n",
      "---  ------             --------------  -----  \n",
      " 0   Пол                5000 non-null   int64  \n",
      " 1   Возраст            5000 non-null   float64\n",
      " 2   Зарплата           5000 non-null   float64\n",
      " 3   Члены семьи        5000 non-null   int64  \n",
      " 4   Страховые выплаты  5000 non-null   int64  \n",
      "dtypes: float64(2), int64(3)\n",
      "memory usage: 195.4 KB\n"
     ]
    },
    {
     "data": {
      "text/plain": [
       "None"
      ]
     },
     "metadata": {},
     "output_type": "display_data"
    }
   ],
   "source": [
    "display(data.info())"
   ]
  },
  {
   "cell_type": "code",
   "execution_count": 5,
   "metadata": {},
   "outputs": [
    {
     "name": "stdout",
     "output_type": "stream",
     "text": [
      "(5000, 5)\n"
     ]
    }
   ],
   "source": [
    "print(data.shape)"
   ]
  },
  {
   "cell_type": "markdown",
   "metadata": {},
   "source": [
    "### Описательная статистика"
   ]
  },
  {
   "cell_type": "code",
   "execution_count": 6,
   "metadata": {},
   "outputs": [
    {
     "name": "stdout",
     "output_type": "stream",
     "text": [
      "               Пол      Возраст      Зарплата  Члены семьи  Страховые выплаты\n",
      "count  5000.000000  5000.000000   5000.000000  5000.000000        5000.000000\n",
      "mean      0.499000    30.952800  39916.360000     1.194200           0.148000\n",
      "std       0.500049     8.440807   9900.083569     1.091387           0.463183\n",
      "min       0.000000    18.000000   5300.000000     0.000000           0.000000\n",
      "25%       0.000000    24.000000  33300.000000     0.000000           0.000000\n",
      "50%       0.000000    30.000000  40200.000000     1.000000           0.000000\n",
      "75%       1.000000    37.000000  46600.000000     2.000000           0.000000\n",
      "max       1.000000    65.000000  79000.000000     6.000000           5.000000\n"
     ]
    }
   ],
   "source": [
    "print(data.describe())"
   ]
  },
  {
   "cell_type": "markdown",
   "metadata": {},
   "source": [
    "- Средний возраст клиентов 30 лет.\n",
    "- Зарпалата клиентов в среднем составляет 40 200.\n",
    "- Состав семьи подавляющего числа клиентов - 1 человек."
   ]
  },
  {
   "cell_type": "markdown",
   "metadata": {},
   "source": [
    "### Визуализация данных"
   ]
  },
  {
   "cell_type": "code",
   "execution_count": 7,
   "metadata": {},
   "outputs": [],
   "source": [
    "def create_plot(title, x_name):\n",
    "    sns.set()\n",
    "    fig, ax = plt.subplots(figsize=(12, 5),constrained_layout=True)\n",
    "    sns.countplot(x=x_name, data=data, palette='Spectral')\n",
    "    ax.set_title(title)\n",
    "    plt.ylabel('Количество')"
   ]
  },
  {
   "cell_type": "code",
   "execution_count": 8,
   "metadata": {},
   "outputs": [
    {
     "data": {
      "text/html": [
       "<div>\n",
       "<style scoped>\n",
       "    .dataframe tbody tr th:only-of-type {\n",
       "        vertical-align: middle;\n",
       "    }\n",
       "\n",
       "    .dataframe tbody tr th {\n",
       "        vertical-align: top;\n",
       "    }\n",
       "\n",
       "    .dataframe thead th {\n",
       "        text-align: right;\n",
       "    }\n",
       "</style>\n",
       "<table border=\"1\" class=\"dataframe\">\n",
       "  <thead>\n",
       "    <tr style=\"text-align: right;\">\n",
       "      <th></th>\n",
       "      <th>%</th>\n",
       "    </tr>\n",
       "  </thead>\n",
       "  <tbody>\n",
       "    <tr>\n",
       "      <th>0</th>\n",
       "      <td>88.72</td>\n",
       "    </tr>\n",
       "    <tr>\n",
       "      <th>1</th>\n",
       "      <td>8.46</td>\n",
       "    </tr>\n",
       "    <tr>\n",
       "      <th>2</th>\n",
       "      <td>2.30</td>\n",
       "    </tr>\n",
       "    <tr>\n",
       "      <th>3</th>\n",
       "      <td>0.36</td>\n",
       "    </tr>\n",
       "    <tr>\n",
       "      <th>4</th>\n",
       "      <td>0.14</td>\n",
       "    </tr>\n",
       "    <tr>\n",
       "      <th>5</th>\n",
       "      <td>0.02</td>\n",
       "    </tr>\n",
       "  </tbody>\n",
       "</table>\n",
       "</div>"
      ],
      "text/plain": [
       "       %\n",
       "0  88.72\n",
       "1   8.46\n",
       "2   2.30\n",
       "3   0.36\n",
       "4   0.14\n",
       "5   0.02"
      ]
     },
     "metadata": {},
     "output_type": "display_data"
    }
   ],
   "source": [
    "payments = (pd.DataFrame(data['Страховые выплаты'].value_counts()*100/len(data)))\n",
    "payments.columns = ['%']\n",
    "display(payments)"
   ]
  },
  {
   "cell_type": "code",
   "execution_count": 9,
   "metadata": {},
   "outputs": [
    {
     "data": {
      "image/png": "[encoded data removed]",
      "text/plain": [
       "<Figure size 864x360 with 1 Axes>"
      ]
     },
     "metadata": {},
     "output_type": "display_data"
    }
   ],
   "source": [
    "create_plot('Количество страховых выплат','Страховые выплаты')"
   ]
  },
  {
   "cell_type": "markdown",
   "metadata": {},
   "source": [
    "`88%` от всех клиентов не имеют ни одной страховой выплаты, хотя бы одну страховую выплату имеют лишь `8.5 %`, две выплаты имееют `2.3%`, от 3 до 5 страховых выплат имеют менее `1%` от всех клиентов"
   ]
  },
  {
   "cell_type": "code",
   "execution_count": 10,
   "metadata": {},
   "outputs": [
    {
     "data": {
      "image/png": "[encoded data removed]",
      "text/plain": [
       "<Figure size 864x360 with 1 Axes>"
      ]
     },
     "metadata": {},
     "output_type": "display_data"
    }
   ],
   "source": [
    "create_plot('Распределение по составу семьи','Члены семьи')"
   ]
  },
  {
   "cell_type": "markdown",
   "metadata": {},
   "source": [
    "Состав семьи подавляющего числа клиентов - 1 человек."
   ]
  },
  {
   "cell_type": "markdown",
   "metadata": {},
   "source": [
    "### Выделение признаков и целевого признака"
   ]
  },
  {
   "cell_type": "code",
   "execution_count": 11,
   "metadata": {},
   "outputs": [],
   "source": [
    "target = data.loc[:, 'Страховые выплаты']\n",
    "features = data.drop(['Страховые выплаты'], axis=1)"
   ]
  },
  {
   "cell_type": "markdown",
   "metadata": {},
   "source": [
    "### Разделение на выборки"
   ]
  },
  {
   "cell_type": "code",
   "execution_count": 12,
   "metadata": {},
   "outputs": [],
   "source": [
    "features_train, features_test, target_train, target_test = train_test_split(features, \n",
    "                                                                            target, \n",
    "                                                                            test_size=0.2, \n",
    "                                                                            random_state=12345)"
   ]
  },
  {
   "cell_type": "code",
   "execution_count": 13,
   "metadata": {},
   "outputs": [
    {
     "name": "stdout",
     "output_type": "stream",
     "text": [
      "(4000, 4)\n",
      "(1000, 4)\n",
      "(4000,)\n",
      "(1000,)\n"
     ]
    }
   ],
   "source": [
    "print(features_train.shape)\n",
    "print(features_test.shape)\n",
    "print(target_train.shape)\n",
    "print(target_test.shape)"
   ]
  },
  {
   "cell_type": "markdown",
   "metadata": {},
   "source": [
    "### Вывод"
   ]
  },
  {
   "cell_type": "markdown",
   "metadata": {},
   "source": [
    "- Данные загружены, пропуски отсутствуют\n",
    "- Целевой признак - Страховые выплаты"
   ]
  },
  {
   "cell_type": "markdown",
   "metadata": {},
   "source": [
    "## Умножение матриц"
   ]
  },
  {
   "cell_type": "markdown",
   "metadata": {},
   "source": [
    "В этом задании вы можете записывать формулы в *Jupyter Notebook.*\n",
    "\n",
    "Чтобы записать формулу внутри текста, окружите её символами доллара \\\\$; если снаружи —  двойными символами \\\\$\\\\$. Эти формулы записываются на языке вёрстки *LaTeX.* \n",
    "\n",
    "Для примера мы записали формулы линейной регрессии. Можете их скопировать и отредактировать, чтобы решить задачу.\n",
    "\n",
    "Работать в *LaTeX* необязательно."
   ]
  },
  {
   "cell_type": "markdown",
   "metadata": {},
   "source": [
    "Обозначения:\n",
    "\n",
    "- $X$ — матрица признаков (нулевой столбец состоит из единиц)\n",
    "\n",
    "- $y$ — вектор целевого признака\n",
    "\n",
    "- $P$ — матрица, на которую умножаются признаки\n",
    "\n",
    "- $w$ — вектор весов линейной регрессии (нулевой элемент равен сдвигу)"
   ]
  },
  {
   "cell_type": "markdown",
   "metadata": {},
   "source": [
    "Предсказания:\n",
    "\n",
    "$$\n",
    "a = Xw\n",
    "$$\n",
    "\n",
    "Задача обучения:\n",
    "\n",
    "$$\n",
    "w = \\arg\\min_w MSE(Xw, y)\n",
    "$$\n",
    "\n",
    "Формула обучения:\n",
    "\n",
    "$$\n",
    "w = (X^T X)^{-1} X^T y\n",
    "$$"
   ]
  },
  {
   "cell_type": "markdown",
   "metadata": {},
   "source": [
    "**Вопрос:** Признаки умножают на обратимую матрицу. Изменится ли качество линейной регрессии?\n",
    "\n",
    "**Ответ:** не изменится\n",
    "\n",
    "**Обоснование:** \n",
    "\n",
    "Представим новую матрицу признаков X1 как произведение старой X на матрицу P(обратимую)\n",
    "\n",
    "$$X1=X*P$$\n",
    "\n",
    "Подставим новое значение X1 в формулу w1\n",
    "\n",
    "$$w1=((XP)^TXP)^{−1}(XP)^Ty$$\n",
    "\n",
    "Раскроем первое произведение (XP)^T:\n",
    "\n",
    "$$w1=(P^TX^TXP)^{-1}P^TX^Ty$$\n",
    "\n",
    "Перегруппируем множители в скобках, чтобы это выглядело как произведение трех множителей\n",
    "$$w1=(P^T(X^TX)P)^{-1}P^TX^Ty$$\n",
    "\n",
    "Раскроем скобки $(P^T(X^TX)P)^{-1}$\n",
    "$$w1=P^{-1}(X^TX)^{-1}(P^T)^{-1}P^TX^Ty$$\n",
    "\n",
    "Так как $P$ по условию обратимая, то произведение  $(P^T)^{−1}P^T$ равно $E$(единичная матрица):\n",
    "\n",
    "$$w1=P^{-1}(X^TX)^{-1}EX^Ty=P^{-1}(X^TX)^{-1}X^Ty$$\n",
    "\n",
    "Получилась формула для $w$\n",
    "$$w1=P^{-1}(X^TX)^{-1}X^Ty=P^{-1}w$$\n",
    "\n",
    "Подставим новое значение весов $𝑤1$ в формулу для предсказаний линейной регрессии. Предсказания модели рассчитываются по формуле:\n",
    "\n",
    "$$a=Xw$$\n",
    "\n",
    "Подставим в эту формулу значения $X1$ и $w1$ для того, чтобы на их основе вычислить предсказания модели $a1$:\n",
    "$$a1=X1w1=XPP^{-1}w$$\n",
    "\n",
    "Так как $P$ по условию обратимая, то произведение $PP^{−1}$ снова равно $E$:\n",
    "\n",
    "$$a1=XPP^{-1}w=XEw=Xw=a$$\n",
    "\n",
    "На основании вышеизложенного следует, что предсказания $a1$ для матрицы признаков, умноженных на обратимую матрицу $P$ равны предсказаниям $a$. Следовательно, отвечая на вопрос изменится ли качество линейной регрессии при умножении признаков на обратимую матрицу - нет, не изменится. В данном случае, параметры линейной регрессии в исходной задаче $w$ и в преобразованной $w1$ связаны следующим образом: $$w1=P^{-1}w$$"
   ]
  },
  {
   "cell_type": "markdown",
   "metadata": {},
   "source": [
    "## Алгоритм преобразования"
   ]
  },
  {
   "cell_type": "markdown",
   "metadata": {},
   "source": [
    "**Алгоритм:**\n",
    "\n",
    "Алгоритм преобразования - матрица со случайными величинами, у которой существует обратная к ней матрица. \n",
    "\n",
    "Для этого, можно воспользоваться функцией numpy.random.randn."
   ]
  },
  {
   "cell_type": "markdown",
   "metadata": {},
   "source": [
    "**Обоснование:**"
   ]
  },
  {
   "cell_type": "markdown",
   "metadata": {},
   "source": [
    "### Преобразование выборок в матрицы"
   ]
  },
  {
   "cell_type": "code",
   "execution_count": 14,
   "metadata": {},
   "outputs": [],
   "source": [
    "matrix_features_train = features_train.values\n",
    "matrix_features_test = features_test.values"
   ]
  },
  {
   "cell_type": "markdown",
   "metadata": {},
   "source": [
    "### Создадание рандомной, обратимой матрицы 4\\4"
   ]
  },
  {
   "cell_type": "code",
   "execution_count": 15,
   "metadata": {},
   "outputs": [
    {
     "data": {
      "text/plain": [
       "array([[-0.49024324,  0.18952368, -1.23121203, -0.41176783],\n",
       "       [ 2.13422896,  0.64403265,  0.46249514,  0.50016473],\n",
       "       [-1.54282237, -0.26967076, -0.77757698, -2.59688224],\n",
       "       [ 0.2213442 , -0.38651952,  1.09222008,  0.43870255]])"
      ]
     },
     "execution_count": 15,
     "metadata": {},
     "output_type": "execute_result"
    }
   ],
   "source": [
    "random_matrix = np.random.randn(4, 4)\n",
    "random_matrix"
   ]
  },
  {
   "cell_type": "markdown",
   "metadata": {},
   "source": [
    "### Умножение рандомной матрицы на обратную ей матрицу "
   ]
  },
  {
   "cell_type": "code",
   "execution_count": 16,
   "metadata": {},
   "outputs": [
    {
     "data": {
      "text/plain": [
       "array([[ 1., -0., -0.,  0.],\n",
       "       [-0.,  1.,  0., -0.],\n",
       "       [ 0.,  0.,  1.,  0.],\n",
       "       [ 0.,  0.,  0.,  1.]])"
      ]
     },
     "execution_count": 16,
     "metadata": {},
     "output_type": "execute_result"
    }
   ],
   "source": [
    "np.round(random_matrix @ np.linalg.inv(random_matrix))"
   ]
  },
  {
   "cell_type": "markdown",
   "metadata": {},
   "source": [
    "Получена единичная матрица, значит `random_matrix` обратимая "
   ]
  },
  {
   "cell_type": "markdown",
   "metadata": {},
   "source": [
    "Умножение `matrix_features_train` и `matrix_features_test` на `random_matrix`"
   ]
  },
  {
   "cell_type": "code",
   "execution_count": 17,
   "metadata": {},
   "outputs": [],
   "source": [
    "encoded_matrix_features_train = matrix_features_train.dot(random_matrix)\n",
    "encoded_matrix_features_test = matrix_features_test.dot(random_matrix)"
   ]
  },
  {
   "cell_type": "markdown",
   "metadata": {},
   "source": [
    "### Вернем matrix_features_train в изначальный вид умножив на обратную random_matrix"
   ]
  },
  {
   "cell_type": "code",
   "execution_count": 18,
   "metadata": {},
   "outputs": [],
   "source": [
    "decoded_matrix_features_train = encoded_matrix_features_train.dot(np.linalg.inv(random_matrix))"
   ]
  },
  {
   "cell_type": "code",
   "execution_count": 19,
   "metadata": {},
   "outputs": [],
   "source": [
    "features_train_check = np.round(pd.DataFrame(decoded_matrix_features_train, \n",
    "                                             columns=features_train.columns))"
   ]
  },
  {
   "cell_type": "code",
   "execution_count": 20,
   "metadata": {
    "scrolled": true
   },
   "outputs": [
    {
     "data": {
      "text/html": [
       "<div>\n",
       "<style scoped>\n",
       "    .dataframe tbody tr th:only-of-type {\n",
       "        vertical-align: middle;\n",
       "    }\n",
       "\n",
       "    .dataframe tbody tr th {\n",
       "        vertical-align: top;\n",
       "    }\n",
       "\n",
       "    .dataframe thead th {\n",
       "        text-align: right;\n",
       "    }\n",
       "</style>\n",
       "<table border=\"1\" class=\"dataframe\">\n",
       "  <thead>\n",
       "    <tr style=\"text-align: right;\">\n",
       "      <th></th>\n",
       "      <th>index</th>\n",
       "      <th>Пол</th>\n",
       "      <th>Возраст</th>\n",
       "      <th>Зарплата</th>\n",
       "      <th>Члены семьи</th>\n",
       "    </tr>\n",
       "  </thead>\n",
       "  <tbody>\n",
       "    <tr>\n",
       "      <th>0</th>\n",
       "      <td>-317</td>\n",
       "      <td>0.0</td>\n",
       "      <td>0.0</td>\n",
       "      <td>0.0</td>\n",
       "      <td>0.0</td>\n",
       "    </tr>\n",
       "    <tr>\n",
       "      <th>1</th>\n",
       "      <td>-4142</td>\n",
       "      <td>0.0</td>\n",
       "      <td>0.0</td>\n",
       "      <td>0.0</td>\n",
       "      <td>0.0</td>\n",
       "    </tr>\n",
       "    <tr>\n",
       "      <th>2</th>\n",
       "      <td>-4250</td>\n",
       "      <td>0.0</td>\n",
       "      <td>0.0</td>\n",
       "      <td>0.0</td>\n",
       "      <td>0.0</td>\n",
       "    </tr>\n",
       "    <tr>\n",
       "      <th>3</th>\n",
       "      <td>-707</td>\n",
       "      <td>0.0</td>\n",
       "      <td>0.0</td>\n",
       "      <td>0.0</td>\n",
       "      <td>0.0</td>\n",
       "    </tr>\n",
       "    <tr>\n",
       "      <th>4</th>\n",
       "      <td>-144</td>\n",
       "      <td>0.0</td>\n",
       "      <td>0.0</td>\n",
       "      <td>0.0</td>\n",
       "      <td>0.0</td>\n",
       "    </tr>\n",
       "    <tr>\n",
       "      <th>...</th>\n",
       "      <td>...</td>\n",
       "      <td>...</td>\n",
       "      <td>...</td>\n",
       "      <td>...</td>\n",
       "      <td>...</td>\n",
       "    </tr>\n",
       "    <tr>\n",
       "      <th>3995</th>\n",
       "      <td>498</td>\n",
       "      <td>0.0</td>\n",
       "      <td>0.0</td>\n",
       "      <td>0.0</td>\n",
       "      <td>0.0</td>\n",
       "    </tr>\n",
       "    <tr>\n",
       "      <th>3996</th>\n",
       "      <td>504</td>\n",
       "      <td>0.0</td>\n",
       "      <td>0.0</td>\n",
       "      <td>0.0</td>\n",
       "      <td>0.0</td>\n",
       "    </tr>\n",
       "    <tr>\n",
       "      <th>3997</th>\n",
       "      <td>1820</td>\n",
       "      <td>0.0</td>\n",
       "      <td>0.0</td>\n",
       "      <td>0.0</td>\n",
       "      <td>0.0</td>\n",
       "    </tr>\n",
       "    <tr>\n",
       "      <th>3998</th>\n",
       "      <td>441</td>\n",
       "      <td>0.0</td>\n",
       "      <td>0.0</td>\n",
       "      <td>0.0</td>\n",
       "      <td>0.0</td>\n",
       "    </tr>\n",
       "    <tr>\n",
       "      <th>3999</th>\n",
       "      <td>-579</td>\n",
       "      <td>0.0</td>\n",
       "      <td>0.0</td>\n",
       "      <td>0.0</td>\n",
       "      <td>0.0</td>\n",
       "    </tr>\n",
       "  </tbody>\n",
       "</table>\n",
       "<p>4000 rows × 5 columns</p>\n",
       "</div>"
      ],
      "text/plain": [
       "      index  Пол  Возраст  Зарплата  Члены семьи\n",
       "0      -317  0.0      0.0       0.0          0.0\n",
       "1     -4142  0.0      0.0       0.0          0.0\n",
       "2     -4250  0.0      0.0       0.0          0.0\n",
       "3      -707  0.0      0.0       0.0          0.0\n",
       "4      -144  0.0      0.0       0.0          0.0\n",
       "...     ...  ...      ...       ...          ...\n",
       "3995    498  0.0      0.0       0.0          0.0\n",
       "3996    504  0.0      0.0       0.0          0.0\n",
       "3997   1820  0.0      0.0       0.0          0.0\n",
       "3998    441  0.0      0.0       0.0          0.0\n",
       "3999   -579  0.0      0.0       0.0          0.0\n",
       "\n",
       "[4000 rows x 5 columns]"
      ]
     },
     "metadata": {},
     "output_type": "display_data"
    }
   ],
   "source": [
    "display((features_train_check.reset_index())-(features_train.reset_index()))"
   ]
  },
  {
   "cell_type": "markdown",
   "metadata": {},
   "source": [
    "Данные идентичны"
   ]
  },
  {
   "cell_type": "markdown",
   "metadata": {},
   "source": [
    "## Проверка алгоритма"
   ]
  },
  {
   "cell_type": "markdown",
   "metadata": {},
   "source": [
    "### R2 score изначальной выборки"
   ]
  },
  {
   "cell_type": "code",
   "execution_count": 21,
   "metadata": {},
   "outputs": [
    {
     "name": "stdout",
     "output_type": "stream",
     "text": [
      "R2 score изначальной выборки: 0.412\n"
     ]
    }
   ],
   "source": [
    "model = LinearRegression()\n",
    "model.fit(matrix_features_train, target_train)\n",
    "predicted_norm = model.predict(features_test)\n",
    "norm_r2 = model.score(features_test, target_test)\n",
    "print('R2 score изначальной выборки:', norm_r2.round(3))"
   ]
  },
  {
   "cell_type": "markdown",
   "metadata": {},
   "source": [
    "### R2 score выборки, после преобразований:"
   ]
  },
  {
   "cell_type": "code",
   "execution_count": 22,
   "metadata": {},
   "outputs": [
    {
     "name": "stdout",
     "output_type": "stream",
     "text": [
      "R2 score выборки, после преобразований: 0.412\n"
     ]
    }
   ],
   "source": [
    "model.fit(encoded_matrix_features_train, target_train)\n",
    "predicted_encoded = model.predict(encoded_matrix_features_test)\n",
    "encoded_r2 = model.score(encoded_matrix_features_test, target_test)\n",
    "print('R2 score выборки, после преобразований:', encoded_r2.round(3))"
   ]
  },
  {
   "cell_type": "markdown",
   "metadata": {},
   "source": [
    "R2 score на исходных и преобразованных данных осталось неизменным, следовательно алгоритм работает корректно"
   ]
  },
  {
   "cell_type": "markdown",
   "metadata": {},
   "source": [
    "## Вывод:"
   ]
  },
  {
   "cell_type": "markdown",
   "metadata": {},
   "source": [
    "- Данные загружены, пропуски отсутствуют, целевой признак - страховые выплаты.\n",
    "- Создан алгоритм преобразования данных.\n",
    "- Качество линейной регресии R2 на исходных и преобразованных данных осталось неизменным, на основании вышеизложенного можно говорить о том, что данный алгоритм работает корректно."
   ]
  }
 ],
 "metadata": {
  "ExecuteTimeLog": [
   {
    "duration": 439,
    "start_time": "2023-02-25T07:04:29.032Z"
   },
   {
    "duration": 2,
    "start_time": "2023-02-25T07:05:42.996Z"
   },
   {
    "duration": 84,
    "start_time": "2023-02-25T07:22:20.903Z"
   },
   {
    "duration": 69,
    "start_time": "2023-02-25T07:22:34.014Z"
   },
   {
    "duration": 27,
    "start_time": "2023-02-25T07:22:37.798Z"
   },
   {
    "duration": 10,
    "start_time": "2023-02-25T07:22:38.027Z"
   },
   {
    "duration": 19,
    "start_time": "2023-02-25T07:43:12.526Z"
   },
   {
    "duration": 24,
    "start_time": "2023-02-25T07:44:37.054Z"
   },
   {
    "duration": 21,
    "start_time": "2023-02-25T07:44:51.565Z"
   },
   {
    "duration": 23,
    "start_time": "2023-02-25T07:45:02.659Z"
   },
   {
    "duration": 25,
    "start_time": "2023-02-25T07:45:07.149Z"
   },
   {
    "duration": 30,
    "start_time": "2023-02-25T07:45:12.737Z"
   },
   {
    "duration": 31,
    "start_time": "2023-02-25T07:45:22.655Z"
   },
   {
    "duration": 31,
    "start_time": "2023-02-25T07:45:39.121Z"
   },
   {
    "duration": 16,
    "start_time": "2023-02-25T07:45:48.069Z"
   },
   {
    "duration": 9,
    "start_time": "2023-02-25T07:45:57.023Z"
   },
   {
    "duration": 8,
    "start_time": "2023-02-25T07:46:04.188Z"
   },
   {
    "duration": 7,
    "start_time": "2023-02-25T07:46:11.563Z"
   },
   {
    "duration": 8,
    "start_time": "2023-02-25T07:54:59.316Z"
   },
   {
    "duration": 4,
    "start_time": "2023-02-25T07:56:22.361Z"
   },
   {
    "duration": 8,
    "start_time": "2023-02-25T07:57:43.916Z"
   },
   {
    "duration": 5,
    "start_time": "2023-02-25T07:57:49.221Z"
   },
   {
    "duration": 13,
    "start_time": "2023-02-25T07:57:53.139Z"
   },
   {
    "duration": 751,
    "start_time": "2023-02-25T07:58:13.474Z"
   },
   {
    "duration": 7,
    "start_time": "2023-02-25T07:58:18.563Z"
   },
   {
    "duration": 7,
    "start_time": "2023-02-25T07:58:34.219Z"
   },
   {
    "duration": 6,
    "start_time": "2023-02-25T07:59:10.969Z"
   },
   {
    "duration": 6,
    "start_time": "2023-02-25T07:59:18.398Z"
   },
   {
    "duration": 50,
    "start_time": "2023-02-25T07:59:49.133Z"
   },
   {
    "duration": 5,
    "start_time": "2023-02-25T07:59:56.444Z"
   },
   {
    "duration": 4,
    "start_time": "2023-02-25T08:00:24.364Z"
   },
   {
    "duration": 3,
    "start_time": "2023-02-25T08:00:53.478Z"
   },
   {
    "duration": 1052,
    "start_time": "2023-02-26T04:59:12.867Z"
   },
   {
    "duration": 83,
    "start_time": "2023-02-26T04:59:13.921Z"
   },
   {
    "duration": 23,
    "start_time": "2023-02-26T04:59:14.005Z"
   },
   {
    "duration": 39,
    "start_time": "2023-02-26T04:59:14.029Z"
   },
   {
    "duration": 5,
    "start_time": "2023-02-26T04:59:14.070Z"
   },
   {
    "duration": 8,
    "start_time": "2023-02-26T04:59:14.077Z"
   },
   {
    "duration": 6,
    "start_time": "2023-02-26T04:59:14.086Z"
   },
   {
    "duration": 17,
    "start_time": "2023-02-26T04:59:14.093Z"
   },
   {
    "duration": 4,
    "start_time": "2023-02-26T04:59:14.111Z"
   },
   {
    "duration": 7,
    "start_time": "2023-02-26T04:59:14.116Z"
   },
   {
    "duration": 21,
    "start_time": "2023-02-26T04:59:14.124Z"
   },
   {
    "duration": 4,
    "start_time": "2023-02-26T04:59:14.147Z"
   },
   {
    "duration": 7,
    "start_time": "2023-02-26T04:59:14.153Z"
   },
   {
    "duration": 89,
    "start_time": "2023-02-26T05:04:15.888Z"
   },
   {
    "duration": 20,
    "start_time": "2023-02-26T05:18:30.976Z"
   },
   {
    "duration": 26,
    "start_time": "2023-02-26T05:19:06.170Z"
   },
   {
    "duration": 24,
    "start_time": "2023-02-26T05:19:39.707Z"
   },
   {
    "duration": 24,
    "start_time": "2023-02-26T05:30:09.609Z"
   },
   {
    "duration": 42,
    "start_time": "2023-02-26T05:30:42.331Z"
   },
   {
    "duration": 39,
    "start_time": "2023-02-26T05:30:52.727Z"
   },
   {
    "duration": 30,
    "start_time": "2023-02-26T05:32:11.166Z"
   },
   {
    "duration": 43,
    "start_time": "2023-02-26T05:32:40.927Z"
   },
   {
    "duration": 28,
    "start_time": "2023-02-26T05:33:14.571Z"
   },
   {
    "duration": 26,
    "start_time": "2023-02-26T05:33:29.058Z"
   },
   {
    "duration": 105,
    "start_time": "2023-02-26T05:35:59.815Z"
   },
   {
    "duration": 18,
    "start_time": "2023-02-26T05:36:57.955Z"
   },
   {
    "duration": 17,
    "start_time": "2023-02-26T05:37:30.701Z"
   },
   {
    "duration": 7,
    "start_time": "2023-02-26T05:37:37.659Z"
   },
   {
    "duration": 11,
    "start_time": "2023-02-26T05:37:42.526Z"
   },
   {
    "duration": 18,
    "start_time": "2023-02-26T05:38:00.895Z"
   },
   {
    "duration": 76,
    "start_time": "2023-02-26T05:38:45.268Z"
   },
   {
    "duration": 3,
    "start_time": "2023-02-26T05:56:04.656Z"
   },
   {
    "duration": 22,
    "start_time": "2023-02-26T06:16:25.004Z"
   },
   {
    "duration": 1138,
    "start_time": "2023-02-26T06:16:32.275Z"
   },
   {
    "duration": 28,
    "start_time": "2023-02-26T06:16:33.414Z"
   },
   {
    "duration": 21,
    "start_time": "2023-02-26T06:16:33.444Z"
   },
   {
    "duration": 12,
    "start_time": "2023-02-26T06:16:33.467Z"
   },
   {
    "duration": 3,
    "start_time": "2023-02-26T06:16:33.481Z"
   },
   {
    "duration": 5,
    "start_time": "2023-02-26T06:16:33.486Z"
   },
   {
    "duration": 7,
    "start_time": "2023-02-26T06:16:33.492Z"
   },
   {
    "duration": 8,
    "start_time": "2023-02-26T06:16:33.500Z"
   },
   {
    "duration": 35,
    "start_time": "2023-02-26T06:16:33.510Z"
   },
   {
    "duration": 7,
    "start_time": "2023-02-26T06:16:33.548Z"
   },
   {
    "duration": 8,
    "start_time": "2023-02-26T06:16:33.557Z"
   },
   {
    "duration": 6,
    "start_time": "2023-02-26T06:16:33.568Z"
   },
   {
    "duration": 71,
    "start_time": "2023-02-26T06:16:33.576Z"
   },
   {
    "duration": 8,
    "start_time": "2023-02-26T06:16:33.650Z"
   },
   {
    "duration": 99,
    "start_time": "2023-02-26T06:16:33.660Z"
   },
   {
    "duration": 1055,
    "start_time": "2023-02-26T06:22:01.584Z"
   },
   {
    "duration": 30,
    "start_time": "2023-02-26T06:22:02.641Z"
   },
   {
    "duration": 23,
    "start_time": "2023-02-26T06:22:02.673Z"
   },
   {
    "duration": 19,
    "start_time": "2023-02-26T06:22:02.698Z"
   },
   {
    "duration": 17,
    "start_time": "2023-02-26T06:22:02.718Z"
   },
   {
    "duration": 18,
    "start_time": "2023-02-26T06:22:02.737Z"
   },
   {
    "duration": 13,
    "start_time": "2023-02-26T06:22:02.757Z"
   },
   {
    "duration": 12,
    "start_time": "2023-02-26T06:22:02.772Z"
   },
   {
    "duration": 5,
    "start_time": "2023-02-26T06:22:02.786Z"
   },
   {
    "duration": 8,
    "start_time": "2023-02-26T06:22:02.794Z"
   },
   {
    "duration": 12,
    "start_time": "2023-02-26T06:22:02.803Z"
   },
   {
    "duration": 28,
    "start_time": "2023-02-26T06:22:02.817Z"
   },
   {
    "duration": 4,
    "start_time": "2023-02-26T06:22:02.847Z"
   },
   {
    "duration": 9,
    "start_time": "2023-02-26T06:22:02.853Z"
   },
   {
    "duration": 20,
    "start_time": "2023-02-26T06:22:02.944Z"
   },
   {
    "duration": 8,
    "start_time": "2023-02-26T06:22:03.045Z"
   },
   {
    "duration": 5,
    "start_time": "2023-02-26T06:22:03.055Z"
   },
   {
    "duration": 11,
    "start_time": "2023-02-26T06:22:03.061Z"
   },
   {
    "duration": 9,
    "start_time": "2023-02-26T06:25:39.797Z"
   },
   {
    "duration": 9,
    "start_time": "2023-02-26T06:26:02.927Z"
   },
   {
    "duration": 9,
    "start_time": "2023-02-26T06:26:05.763Z"
   },
   {
    "duration": 9,
    "start_time": "2023-02-26T06:26:09.315Z"
   },
   {
    "duration": 4,
    "start_time": "2023-02-26T06:27:07.694Z"
   },
   {
    "duration": 6,
    "start_time": "2023-02-26T06:27:41.994Z"
   },
   {
    "duration": 87,
    "start_time": "2023-02-26T06:32:16.352Z"
   },
   {
    "duration": 2188,
    "start_time": "2023-02-26T07:21:25.565Z"
   },
   {
    "duration": 28,
    "start_time": "2023-02-26T07:21:27.755Z"
   },
   {
    "duration": 20,
    "start_time": "2023-02-26T07:21:48.463Z"
   },
   {
    "duration": 12,
    "start_time": "2023-02-26T07:21:48.814Z"
   },
   {
    "duration": 3,
    "start_time": "2023-02-26T07:21:49.005Z"
   },
   {
    "duration": 4,
    "start_time": "2023-02-26T07:22:20.062Z"
   },
   {
    "duration": 5,
    "start_time": "2023-02-26T07:22:20.581Z"
   },
   {
    "duration": 4,
    "start_time": "2023-02-26T07:22:20.770Z"
   },
   {
    "duration": 4,
    "start_time": "2023-02-26T07:23:47.266Z"
   },
   {
    "duration": 4,
    "start_time": "2023-02-26T07:23:48.575Z"
   },
   {
    "duration": 4,
    "start_time": "2023-02-26T07:23:51.678Z"
   },
   {
    "duration": 3,
    "start_time": "2023-02-26T07:23:54.598Z"
   },
   {
    "duration": 4,
    "start_time": "2023-02-26T07:24:37.086Z"
   },
   {
    "duration": 6,
    "start_time": "2023-02-26T07:24:37.571Z"
   },
   {
    "duration": 17,
    "start_time": "2023-02-26T07:24:37.817Z"
   },
   {
    "duration": 9,
    "start_time": "2023-02-26T07:25:38.072Z"
   },
   {
    "duration": 6,
    "start_time": "2023-02-26T07:25:39.232Z"
   },
   {
    "duration": 55,
    "start_time": "2023-02-26T08:54:10.986Z"
   },
   {
    "duration": 6,
    "start_time": "2023-02-26T08:54:21.205Z"
   },
   {
    "duration": 2072,
    "start_time": "2023-02-26T08:54:31.863Z"
   },
   {
    "duration": 111,
    "start_time": "2023-02-26T08:54:33.937Z"
   },
   {
    "duration": 46,
    "start_time": "2023-02-26T08:54:34.050Z"
   },
   {
    "duration": 11,
    "start_time": "2023-02-26T08:54:34.098Z"
   },
   {
    "duration": 5,
    "start_time": "2023-02-26T08:54:34.112Z"
   },
   {
    "duration": 81,
    "start_time": "2023-02-26T08:54:34.119Z"
   },
   {
    "duration": 5,
    "start_time": "2023-02-26T08:54:34.207Z"
   },
   {
    "duration": 10,
    "start_time": "2023-02-26T08:54:34.213Z"
   },
   {
    "duration": 6,
    "start_time": "2023-02-26T08:54:34.224Z"
   },
   {
    "duration": 4,
    "start_time": "2023-02-26T08:54:34.232Z"
   },
   {
    "duration": 6,
    "start_time": "2023-02-26T08:54:34.238Z"
   },
   {
    "duration": 19,
    "start_time": "2023-02-26T08:54:34.291Z"
   },
   {
    "duration": 6,
    "start_time": "2023-02-26T08:54:34.312Z"
   },
   {
    "duration": 77,
    "start_time": "2023-02-26T08:54:34.321Z"
   },
   {
    "duration": 217,
    "start_time": "2023-02-26T08:54:34.400Z"
   },
   {
    "duration": 40,
    "start_time": "2023-02-26T08:54:34.619Z"
   },
   {
    "duration": 42,
    "start_time": "2023-02-26T08:54:34.660Z"
   },
   {
    "duration": 6,
    "start_time": "2023-02-26T08:54:34.707Z"
   },
   {
    "duration": 99,
    "start_time": "2023-02-26T08:56:49.701Z"
   },
   {
    "duration": 10,
    "start_time": "2023-02-26T08:57:04.126Z"
   },
   {
    "duration": 11,
    "start_time": "2023-02-26T08:57:11.229Z"
   },
   {
    "duration": 18,
    "start_time": "2023-02-26T08:57:15.876Z"
   },
   {
    "duration": 11,
    "start_time": "2023-02-26T08:57:27.686Z"
   },
   {
    "duration": 13,
    "start_time": "2023-02-26T08:58:13.241Z"
   },
   {
    "duration": 17,
    "start_time": "2023-02-26T08:58:59.988Z"
   },
   {
    "duration": 4,
    "start_time": "2023-02-26T08:59:27.033Z"
   },
   {
    "duration": 2572,
    "start_time": "2023-02-26T08:59:45.071Z"
   },
   {
    "duration": 15914,
    "start_time": "2023-02-26T08:59:55.875Z"
   },
   {
    "duration": 1048,
    "start_time": "2023-02-26T10:54:48.897Z"
   },
   {
    "duration": 127,
    "start_time": "2023-02-26T10:54:49.947Z"
   },
   {
    "duration": 18,
    "start_time": "2023-02-26T10:54:50.075Z"
   },
   {
    "duration": 10,
    "start_time": "2023-02-26T10:54:50.095Z"
   },
   {
    "duration": 12,
    "start_time": "2023-02-26T10:54:50.107Z"
   },
   {
    "duration": 20,
    "start_time": "2023-02-26T10:54:50.121Z"
   },
   {
    "duration": 1622,
    "start_time": "2023-02-26T10:54:50.142Z"
   },
   {
    "duration": 0,
    "start_time": "2023-02-26T10:54:51.766Z"
   },
   {
    "duration": 0,
    "start_time": "2023-02-26T10:54:51.767Z"
   },
   {
    "duration": 0,
    "start_time": "2023-02-26T10:54:51.768Z"
   },
   {
    "duration": 0,
    "start_time": "2023-02-26T10:54:51.770Z"
   },
   {
    "duration": 0,
    "start_time": "2023-02-26T10:54:51.771Z"
   },
   {
    "duration": 0,
    "start_time": "2023-02-26T10:54:51.772Z"
   },
   {
    "duration": 0,
    "start_time": "2023-02-26T10:54:51.773Z"
   },
   {
    "duration": 0,
    "start_time": "2023-02-26T10:54:51.775Z"
   },
   {
    "duration": 0,
    "start_time": "2023-02-26T10:54:51.776Z"
   },
   {
    "duration": 0,
    "start_time": "2023-02-26T10:54:51.779Z"
   },
   {
    "duration": 0,
    "start_time": "2023-02-26T10:54:51.780Z"
   },
   {
    "duration": 0,
    "start_time": "2023-02-26T10:54:51.781Z"
   },
   {
    "duration": 1307,
    "start_time": "2023-02-26T11:10:58.603Z"
   },
   {
    "duration": 1073,
    "start_time": "2023-02-26T11:18:29.934Z"
   },
   {
    "duration": 35,
    "start_time": "2023-02-26T11:18:31.008Z"
   },
   {
    "duration": 20,
    "start_time": "2023-02-26T11:18:31.044Z"
   },
   {
    "duration": 24,
    "start_time": "2023-02-26T11:18:31.066Z"
   },
   {
    "duration": 27,
    "start_time": "2023-02-26T11:18:31.100Z"
   },
   {
    "duration": 32,
    "start_time": "2023-02-26T11:18:31.130Z"
   },
   {
    "duration": 11,
    "start_time": "2023-02-26T11:18:31.164Z"
   },
   {
    "duration": 45,
    "start_time": "2023-02-26T11:18:31.177Z"
   },
   {
    "duration": 22,
    "start_time": "2023-02-26T11:18:31.224Z"
   },
   {
    "duration": 19,
    "start_time": "2023-02-26T11:18:31.248Z"
   },
   {
    "duration": 45,
    "start_time": "2023-02-26T11:18:31.269Z"
   },
   {
    "duration": 43,
    "start_time": "2023-02-26T11:18:31.316Z"
   },
   {
    "duration": 72,
    "start_time": "2023-02-26T11:18:31.361Z"
   },
   {
    "duration": 162,
    "start_time": "2023-02-26T11:18:31.435Z"
   },
   {
    "duration": 61,
    "start_time": "2023-02-26T11:18:31.598Z"
   },
   {
    "duration": 39,
    "start_time": "2023-02-26T11:18:31.660Z"
   },
   {
    "duration": 103,
    "start_time": "2023-02-26T11:18:31.706Z"
   },
   {
    "duration": 72,
    "start_time": "2023-02-26T11:18:31.813Z"
   },
   {
    "duration": 26,
    "start_time": "2023-02-26T11:18:31.887Z"
   },
   {
    "duration": 581,
    "start_time": "2023-02-26T11:27:34.204Z"
   },
   {
    "duration": 3,
    "start_time": "2023-02-26T11:33:56.353Z"
   },
   {
    "duration": 71,
    "start_time": "2023-02-26T11:34:58.205Z"
   },
   {
    "duration": 4,
    "start_time": "2023-02-26T11:35:23.368Z"
   },
   {
    "duration": 88,
    "start_time": "2023-02-26T11:35:31.108Z"
   },
   {
    "duration": 87,
    "start_time": "2023-02-26T11:35:41.377Z"
   },
   {
    "duration": 113,
    "start_time": "2023-02-26T11:35:47.067Z"
   },
   {
    "duration": 63,
    "start_time": "2023-02-26T11:36:20.112Z"
   },
   {
    "duration": 3,
    "start_time": "2023-02-26T11:36:27.448Z"
   },
   {
    "duration": 117,
    "start_time": "2023-02-26T11:36:27.644Z"
   },
   {
    "duration": 119,
    "start_time": "2023-02-26T11:38:14.145Z"
   },
   {
    "duration": 142,
    "start_time": "2023-02-26T11:39:01.310Z"
   },
   {
    "duration": 143,
    "start_time": "2023-02-26T11:39:52.209Z"
   },
   {
    "duration": 3,
    "start_time": "2023-02-26T11:47:49.485Z"
   },
   {
    "duration": 472,
    "start_time": "2023-02-26T11:47:50.748Z"
   },
   {
    "duration": 420,
    "start_time": "2023-02-26T11:47:57.208Z"
   },
   {
    "duration": 472,
    "start_time": "2023-02-26T11:50:34.164Z"
   },
   {
    "duration": 24,
    "start_time": "2023-02-26T12:03:21.833Z"
   },
   {
    "duration": 23,
    "start_time": "2023-02-26T12:03:42.813Z"
   },
   {
    "duration": 10,
    "start_time": "2023-02-26T12:04:48.433Z"
   },
   {
    "duration": 5,
    "start_time": "2023-02-26T12:04:54.933Z"
   },
   {
    "duration": 19,
    "start_time": "2023-02-26T12:05:04.253Z"
   },
   {
    "duration": 7,
    "start_time": "2023-02-26T12:06:17.895Z"
   },
   {
    "duration": 9,
    "start_time": "2023-02-26T12:06:45.037Z"
   },
   {
    "duration": 12,
    "start_time": "2023-02-26T12:06:53.672Z"
   },
   {
    "duration": 7,
    "start_time": "2023-02-26T12:07:08.413Z"
   },
   {
    "duration": 9,
    "start_time": "2023-02-26T12:07:14.953Z"
   },
   {
    "duration": 78,
    "start_time": "2023-02-26T12:11:43.757Z"
   },
   {
    "duration": 13,
    "start_time": "2023-02-26T12:12:19.453Z"
   },
   {
    "duration": 12,
    "start_time": "2023-02-26T12:12:28.693Z"
   },
   {
    "duration": 9,
    "start_time": "2023-02-26T12:12:42.413Z"
   },
   {
    "duration": 9,
    "start_time": "2023-02-26T12:13:21.372Z"
   },
   {
    "duration": 14,
    "start_time": "2023-02-26T12:14:24.752Z"
   },
   {
    "duration": 15,
    "start_time": "2023-02-26T12:14:32.497Z"
   },
   {
    "duration": 11,
    "start_time": "2023-02-26T12:14:42.452Z"
   },
   {
    "duration": 10,
    "start_time": "2023-02-26T12:14:52.413Z"
   },
   {
    "duration": 9,
    "start_time": "2023-02-26T12:17:32.733Z"
   },
   {
    "duration": 10,
    "start_time": "2023-02-26T12:17:42.713Z"
   },
   {
    "duration": 88,
    "start_time": "2023-02-26T12:17:54.452Z"
   },
   {
    "duration": 8,
    "start_time": "2023-02-26T12:18:06.382Z"
   },
   {
    "duration": 469,
    "start_time": "2023-02-26T12:19:26.472Z"
   },
   {
    "duration": 394,
    "start_time": "2023-02-26T12:19:36.634Z"
   },
   {
    "duration": 6,
    "start_time": "2023-02-26T12:19:47.072Z"
   },
   {
    "duration": 11,
    "start_time": "2023-02-26T12:19:52.673Z"
   },
   {
    "duration": 5,
    "start_time": "2023-02-26T12:19:55.522Z"
   },
   {
    "duration": 139,
    "start_time": "2023-02-26T12:20:06.072Z"
   },
   {
    "duration": 137,
    "start_time": "2023-02-26T12:20:27.322Z"
   },
   {
    "duration": 13,
    "start_time": "2023-02-26T12:20:37.011Z"
   },
   {
    "duration": 780,
    "start_time": "2023-02-26T12:20:42.512Z"
   },
   {
    "duration": 9,
    "start_time": "2023-02-26T12:20:54.452Z"
   },
   {
    "duration": 89,
    "start_time": "2023-02-26T12:22:33.852Z"
   },
   {
    "duration": 8,
    "start_time": "2023-02-26T12:22:46.952Z"
   },
   {
    "duration": 11,
    "start_time": "2023-02-26T12:22:53.152Z"
   },
   {
    "duration": 1363,
    "start_time": "2023-02-26T12:23:34.521Z"
   },
   {
    "duration": 29,
    "start_time": "2023-02-26T12:23:35.886Z"
   },
   {
    "duration": 17,
    "start_time": "2023-02-26T12:23:35.916Z"
   },
   {
    "duration": 20,
    "start_time": "2023-02-26T12:23:35.935Z"
   },
   {
    "duration": 10,
    "start_time": "2023-02-26T12:23:35.959Z"
   },
   {
    "duration": 37,
    "start_time": "2023-02-26T12:23:35.971Z"
   },
   {
    "duration": 13,
    "start_time": "2023-02-26T12:23:36.014Z"
   },
   {
    "duration": 28,
    "start_time": "2023-02-26T12:23:36.031Z"
   },
   {
    "duration": 511,
    "start_time": "2023-02-26T12:23:36.061Z"
   },
   {
    "duration": 464,
    "start_time": "2023-02-26T12:23:36.575Z"
   },
   {
    "duration": 4,
    "start_time": "2023-02-26T12:23:37.040Z"
   },
   {
    "duration": 30,
    "start_time": "2023-02-26T12:23:37.046Z"
   },
   {
    "duration": 15,
    "start_time": "2023-02-26T12:23:37.078Z"
   },
   {
    "duration": 5,
    "start_time": "2023-02-26T12:23:37.095Z"
   },
   {
    "duration": 11,
    "start_time": "2023-02-26T12:23:37.101Z"
   },
   {
    "duration": 24,
    "start_time": "2023-02-26T12:23:37.113Z"
   },
   {
    "duration": 53,
    "start_time": "2023-02-26T12:23:37.139Z"
   },
   {
    "duration": 17,
    "start_time": "2023-02-26T12:23:37.194Z"
   },
   {
    "duration": 91,
    "start_time": "2023-02-26T12:23:37.213Z"
   },
   {
    "duration": 95,
    "start_time": "2023-02-26T12:23:37.310Z"
   },
   {
    "duration": 16,
    "start_time": "2023-02-26T12:23:37.406Z"
   },
   {
    "duration": 25,
    "start_time": "2023-02-26T12:23:37.424Z"
   }
  ],
  "kernelspec": {
   "display_name": "Python 3 (ipykernel)",
   "language": "python",
   "name": "python3"
  },
  "language_info": {
   "codemirror_mode": {
    "name": "ipython",
    "version": 3
   },
   "file_extension": ".py",
   "mimetype": "text/x-python",
   "name": "python",
   "nbconvert_exporter": "python",
   "pygments_lexer": "ipython3",
   "version": "3.9.12"
  },
  "toc": {
   "base_numbering": 1,
   "nav_menu": {},
   "number_sections": true,
   "sideBar": true,
   "skip_h1_title": true,
   "title_cell": "Содержание",
   "title_sidebar": "Contents",
   "toc_cell": true,
   "toc_position": {
    "height": "calc(100% - 180px)",
    "left": "10px",
    "top": "150px",
    "width": "188.175px"
   },
   "toc_section_display": true,
   "toc_window_display": true
  }
 },
 "nbformat": 4,
 "nbformat_minor": 2
}
