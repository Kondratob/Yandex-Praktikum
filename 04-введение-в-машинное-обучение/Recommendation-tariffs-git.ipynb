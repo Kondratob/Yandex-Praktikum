{
 "cells": [
  {
   "cell_type": "markdown",
   "metadata": {},
   "source": [
    "# Рекомендация тарифов"
   ]
  },
  {
   "cell_type": "markdown",
   "metadata": {},
   "source": [
    "В вашем распоряжении данные о поведении клиентов, которые уже перешли на эти тарифы.\n",
    "Нужно построить модель для задачи классификации, которая выберет подходящий тариф.\n",
    "\n",
    "Постройте модель с максимально большим значением *accuracy*.\n",
    "Чтобы сдать проект успешно, нужно довести долю правильных ответов по крайней мере до 0.75."
   ]
  },
  {
   "cell_type": "markdown",
   "metadata": {},
   "source": [
    "## Откройте и изучите файл"
   ]
  },
  {
   "cell_type": "code",
   "execution_count": 1,
   "metadata": {},
   "outputs": [],
   "source": [
    "import pandas as pd\n",
    "from sklearn.tree import DecisionTreeClassifier\n",
    "from sklearn.ensemble import RandomForestClassifier\n",
    "from sklearn.linear_model import LogisticRegression\n",
    "from sklearn.model_selection import train_test_split\n",
    "from sklearn.metrics import accuracy_score\n",
    "from sklearn.model_selection import GridSearchCV\n",
    "from sklearn.dummy import DummyClassifier"
   ]
  },
  {
   "cell_type": "code",
   "execution_count": 2,
   "metadata": {
    "scrolled": true
   },
   "outputs": [],
   "source": [
    "df = pd.read_csv('users_behavior.csv')"
   ]
  },
  {
   "cell_type": "code",
   "execution_count": 3,
   "metadata": {},
   "outputs": [
    {
     "name": "stdout",
     "output_type": "stream",
     "text": [
      "<class 'pandas.core.frame.DataFrame'>\n",
      "RangeIndex: 3214 entries, 0 to 3213\n",
      "Data columns (total 5 columns):\n",
      " #   Column    Non-Null Count  Dtype  \n",
      "---  ------    --------------  -----  \n",
      " 0   calls     3214 non-null   float64\n",
      " 1   minutes   3214 non-null   float64\n",
      " 2   messages  3214 non-null   float64\n",
      " 3   mb_used   3214 non-null   float64\n",
      " 4   is_ultra  3214 non-null   int64  \n",
      "dtypes: float64(4), int64(1)\n",
      "memory usage: 125.7 KB\n"
     ]
    }
   ],
   "source": [
    "df.info()"
   ]
  },
  {
   "cell_type": "code",
   "execution_count": 4,
   "metadata": {
    "scrolled": true
   },
   "outputs": [
    {
     "data": {
      "text/html": [
       "<div>\n",
       "<style scoped>\n",
       "    .dataframe tbody tr th:only-of-type {\n",
       "        vertical-align: middle;\n",
       "    }\n",
       "\n",
       "    .dataframe tbody tr th {\n",
       "        vertical-align: top;\n",
       "    }\n",
       "\n",
       "    .dataframe thead th {\n",
       "        text-align: right;\n",
       "    }\n",
       "</style>\n",
       "<table border=\"1\" class=\"dataframe\">\n",
       "  <thead>\n",
       "    <tr style=\"text-align: right;\">\n",
       "      <th></th>\n",
       "      <th>calls</th>\n",
       "      <th>minutes</th>\n",
       "      <th>messages</th>\n",
       "      <th>mb_used</th>\n",
       "      <th>is_ultra</th>\n",
       "    </tr>\n",
       "  </thead>\n",
       "  <tbody>\n",
       "    <tr>\n",
       "      <th>0</th>\n",
       "      <td>40.0</td>\n",
       "      <td>311.90</td>\n",
       "      <td>83.0</td>\n",
       "      <td>19915.42</td>\n",
       "      <td>0</td>\n",
       "    </tr>\n",
       "    <tr>\n",
       "      <th>1</th>\n",
       "      <td>85.0</td>\n",
       "      <td>516.75</td>\n",
       "      <td>56.0</td>\n",
       "      <td>22696.96</td>\n",
       "      <td>0</td>\n",
       "    </tr>\n",
       "    <tr>\n",
       "      <th>2</th>\n",
       "      <td>77.0</td>\n",
       "      <td>467.66</td>\n",
       "      <td>86.0</td>\n",
       "      <td>21060.45</td>\n",
       "      <td>0</td>\n",
       "    </tr>\n",
       "    <tr>\n",
       "      <th>3</th>\n",
       "      <td>106.0</td>\n",
       "      <td>745.53</td>\n",
       "      <td>81.0</td>\n",
       "      <td>8437.39</td>\n",
       "      <td>1</td>\n",
       "    </tr>\n",
       "    <tr>\n",
       "      <th>4</th>\n",
       "      <td>66.0</td>\n",
       "      <td>418.74</td>\n",
       "      <td>1.0</td>\n",
       "      <td>14502.75</td>\n",
       "      <td>0</td>\n",
       "    </tr>\n",
       "    <tr>\n",
       "      <th>...</th>\n",
       "      <td>...</td>\n",
       "      <td>...</td>\n",
       "      <td>...</td>\n",
       "      <td>...</td>\n",
       "      <td>...</td>\n",
       "    </tr>\n",
       "    <tr>\n",
       "      <th>3209</th>\n",
       "      <td>122.0</td>\n",
       "      <td>910.98</td>\n",
       "      <td>20.0</td>\n",
       "      <td>35124.90</td>\n",
       "      <td>1</td>\n",
       "    </tr>\n",
       "    <tr>\n",
       "      <th>3210</th>\n",
       "      <td>25.0</td>\n",
       "      <td>190.36</td>\n",
       "      <td>0.0</td>\n",
       "      <td>3275.61</td>\n",
       "      <td>0</td>\n",
       "    </tr>\n",
       "    <tr>\n",
       "      <th>3211</th>\n",
       "      <td>97.0</td>\n",
       "      <td>634.44</td>\n",
       "      <td>70.0</td>\n",
       "      <td>13974.06</td>\n",
       "      <td>0</td>\n",
       "    </tr>\n",
       "    <tr>\n",
       "      <th>3212</th>\n",
       "      <td>64.0</td>\n",
       "      <td>462.32</td>\n",
       "      <td>90.0</td>\n",
       "      <td>31239.78</td>\n",
       "      <td>0</td>\n",
       "    </tr>\n",
       "    <tr>\n",
       "      <th>3213</th>\n",
       "      <td>80.0</td>\n",
       "      <td>566.09</td>\n",
       "      <td>6.0</td>\n",
       "      <td>29480.52</td>\n",
       "      <td>1</td>\n",
       "    </tr>\n",
       "  </tbody>\n",
       "</table>\n",
       "<p>3214 rows × 5 columns</p>\n",
       "</div>"
      ],
      "text/plain": [
       "      calls  minutes  messages   mb_used  is_ultra\n",
       "0      40.0   311.90      83.0  19915.42         0\n",
       "1      85.0   516.75      56.0  22696.96         0\n",
       "2      77.0   467.66      86.0  21060.45         0\n",
       "3     106.0   745.53      81.0   8437.39         1\n",
       "4      66.0   418.74       1.0  14502.75         0\n",
       "...     ...      ...       ...       ...       ...\n",
       "3209  122.0   910.98      20.0  35124.90         1\n",
       "3210   25.0   190.36       0.0   3275.61         0\n",
       "3211   97.0   634.44      70.0  13974.06         0\n",
       "3212   64.0   462.32      90.0  31239.78         0\n",
       "3213   80.0   566.09       6.0  29480.52         1\n",
       "\n",
       "[3214 rows x 5 columns]"
      ]
     },
     "execution_count": 4,
     "metadata": {},
     "output_type": "execute_result"
    }
   ],
   "source": [
    "df"
   ]
  },
  {
   "cell_type": "markdown",
   "metadata": {},
   "source": [
    "Вывод: Данные без пропусков, предобработка не требуется:"
   ]
  },
  {
   "cell_type": "markdown",
   "metadata": {},
   "source": [
    "## Разбейте данные на выборки"
   ]
  },
  {
   "cell_type": "code",
   "execution_count": 5,
   "metadata": {},
   "outputs": [],
   "source": [
    "features = df.drop(['is_ultra'], axis=1) # признаки \n",
    "target = df['is_ultra'] # целевой признак"
   ]
  },
  {
   "cell_type": "markdown",
   "metadata": {},
   "source": [
    "### Делим на тренировочную и тестовую 60\\40 "
   ]
  },
  {
   "cell_type": "code",
   "execution_count": 6,
   "metadata": {},
   "outputs": [],
   "source": [
    "(features_train, features_test, target_train, target_test) = (train_test_split(features, target, test_size=0.4, \n",
    "                                                                               random_state=12345))"
   ]
  },
  {
   "cell_type": "markdown",
   "metadata": {},
   "source": [
    "### Делим на валидационную и тестовую 50\\50"
   ]
  },
  {
   "cell_type": "code",
   "execution_count": 7,
   "metadata": {},
   "outputs": [],
   "source": [
    "(features_valid, features_test, target_valid, target_test) = (train_test_split(features_test,target_test, test_size = 0.5,\n",
    "                                                                               random_state = 12345))"
   ]
  },
  {
   "cell_type": "markdown",
   "metadata": {},
   "source": [
    "## Исследуйте модели"
   ]
  },
  {
   "cell_type": "markdown",
   "metadata": {},
   "source": [
    "### Решающее дерево"
   ]
  },
  {
   "cell_type": "code",
   "execution_count": 8,
   "metadata": {},
   "outputs": [
    {
     "name": "stdout",
     "output_type": "stream",
     "text": [
      "Accuaracu наилучшей модели на валидационной выборке: 0.785\n",
      "Глубина дерева: 3\n"
     ]
    }
   ],
   "source": [
    "best_model = None\n",
    "best_result = 0\n",
    "best_depth = 0\n",
    "for depth in range(1, 50):\n",
    "    model = DecisionTreeClassifier(random_state=12345, max_depth=depth)\n",
    "    model.fit(features_train, target_train)\n",
    "    result = model.score(features_valid, target_valid)\n",
    "    if result > best_result:\n",
    "        best_model_1 = model\n",
    "        best_result = result\n",
    "        best_depth = depth\n",
    "\n",
    "print(f'Accuaracu наилучшей модели на валидационной выборке: {best_result:.3f}')\n",
    "print(f'Глубина дерева: {best_depth}')"
   ]
  },
  {
   "cell_type": "markdown",
   "metadata": {},
   "source": [
    "### Случайный лес"
   ]
  },
  {
   "cell_type": "code",
   "execution_count": 9,
   "metadata": {
    "scrolled": false
   },
   "outputs": [
    {
     "name": "stdout",
     "output_type": "stream",
     "text": [
      "Accuaracu наилучшей модели на валидационной выборке: 0.809\n",
      "Количество деревьев: 40\n",
      "Максимальная глубина: 10\n"
     ]
    }
   ],
   "source": [
    "best_model = None\n",
    "best_result = 0\n",
    "best_est = 0\n",
    "best_depth = 0\n",
    "for est in range(1,50):\n",
    "    for depth in range (1, 11):\n",
    "        model = RandomForestClassifier(random_state=12345, n_estimators=est, max_depth=depth)\n",
    "        model.fit(features_train,target_train)\n",
    "        result = model.score(features_valid, target_valid)\n",
    "        if result > best_result:\n",
    "            best_model_2 = model\n",
    "            best_result = result\n",
    "            best_est = est\n",
    "            best_depth = depth\n",
    "\n",
    "print(f'Accuaracu наилучшей модели на валидационной выборке: {best_result:.3f}')\n",
    "print(f'Количество деревьев: {best_est}')\n",
    "print(f'Максимальная глубина: {depth}')"
   ]
  },
  {
   "cell_type": "markdown",
   "metadata": {},
   "source": [
    "#### Функция Gridsearchcv"
   ]
  },
  {
   "cell_type": "code",
   "execution_count": 10,
   "metadata": {},
   "outputs": [
    {
     "data": {
      "text/plain": [
       "GridSearchCV(cv=5, estimator=RandomForestClassifier(),\n",
       "             param_grid={'max_depth': range(1, 13, 2),\n",
       "                         'min_samples_leaf': range(1, 8),\n",
       "                         'min_samples_split': range(2, 10, 2),\n",
       "                         'n_estimators': range(10, 51, 10)})"
      ]
     },
     "execution_count": 10,
     "metadata": {},
     "output_type": "execute_result"
    }
   ],
   "source": [
    "clf = RandomForestClassifier()\n",
    "parametrs = { 'n_estimators': range (10, 51, 10),\n",
    "              'max_depth': range (1,13, 2),\n",
    "              'min_samples_leaf': range (1,8),\n",
    "              'min_samples_split': range (2,10,2) }\n",
    "grid = GridSearchCV(clf, parametrs, cv=5)\n",
    "grid.fit(features_train, target_train)"
   ]
  },
  {
   "cell_type": "code",
   "execution_count": 11,
   "metadata": {
    "scrolled": true
   },
   "outputs": [
    {
     "data": {
      "text/plain": [
       "{'max_depth': 11,\n",
       " 'min_samples_leaf': 3,\n",
       " 'min_samples_split': 6,\n",
       " 'n_estimators': 10}"
      ]
     },
     "execution_count": 11,
     "metadata": {},
     "output_type": "execute_result"
    }
   ],
   "source": [
    "grid.best_params_"
   ]
  },
  {
   "cell_type": "code",
   "execution_count": 12,
   "metadata": {},
   "outputs": [
    {
     "data": {
      "text/plain": [
       "0.801"
      ]
     },
     "execution_count": 12,
     "metadata": {},
     "output_type": "execute_result"
    }
   ],
   "source": [
    "clf1 = RandomForestClassifier(max_depth=9, n_estimators=40, min_samples_leaf=2, min_samples_split=6)\n",
    "clf1.fit(features_train,target_train)\n",
    "clf1.score(features_valid, target_valid).round(3)"
   ]
  },
  {
   "cell_type": "markdown",
   "metadata": {},
   "source": [
    "### Логистическая регрессия "
   ]
  },
  {
   "cell_type": "code",
   "execution_count": 13,
   "metadata": {
    "scrolled": true
   },
   "outputs": [
    {
     "name": "stdout",
     "output_type": "stream",
     "text": [
      "Accuaracu модели логистической регрессии на валидационной выборке: 0.711\n"
     ]
    }
   ],
   "source": [
    "model = LogisticRegression()\n",
    "model.fit(features_train, target_train)\n",
    "result = model.score(features_valid, target_valid)\n",
    "print(f'Accuaracu модели логистической регрессии на валидационной выборке: {result:.3f}')"
   ]
  },
  {
   "cell_type": "markdown",
   "metadata": {},
   "source": [
    "### Лучшая модель "
   ]
  },
  {
   "cell_type": "code",
   "execution_count": 14,
   "metadata": {},
   "outputs": [
    {
     "name": "stdout",
     "output_type": "stream",
     "text": [
      "Accuaracu лучшей модели: 0.809\n",
      "Лучшая модель: RandomForestClassifier(max_depth=8, n_estimators=40, random_state=12345)\n"
     ]
    }
   ],
   "source": [
    "print(f'Accuaracu лучшей модели: {best_result:.3f}')\n",
    "print(f'Лучшая модель: {best_model_2}')"
   ]
  },
  {
   "cell_type": "markdown",
   "metadata": {},
   "source": [
    "## Проверьте модель на тестовой выборке"
   ]
  },
  {
   "cell_type": "code",
   "execution_count": 15,
   "metadata": {},
   "outputs": [],
   "source": [
    "prediction_test = best_model_2.predict(features_test)"
   ]
  },
  {
   "cell_type": "code",
   "execution_count": 16,
   "metadata": {},
   "outputs": [],
   "source": [
    "score_best_model_test = accuracy_score(prediction_test, target_test)"
   ]
  },
  {
   "cell_type": "code",
   "execution_count": 17,
   "metadata": {},
   "outputs": [
    {
     "name": "stdout",
     "output_type": "stream",
     "text": [
      "Accuaracu модели на тестовой выборке: 0.796\n"
     ]
    }
   ],
   "source": [
    "print(f'Accuaracu модели на тестовой выборке: {score_best_model_test:.3f}')"
   ]
  },
  {
   "cell_type": "markdown",
   "metadata": {},
   "source": [
    "### Вывод:"
   ]
  },
  {
   "cell_type": "markdown",
   "metadata": {},
   "source": [
    "`RandomForestClassifier(max_depth=8, n_estimators=40, random_state=12345)` на валидационной и тестовой выборке, показывает одинаково хороший результат"
   ]
  },
  {
   "cell_type": "markdown",
   "metadata": {},
   "source": [
    "## Проверьте модели на адекватность"
   ]
  },
  {
   "cell_type": "code",
   "execution_count": 18,
   "metadata": {
    "scrolled": true
   },
   "outputs": [
    {
     "name": "stdout",
     "output_type": "stream",
     "text": [
      "0    0.693528\n",
      "1    0.306472\n",
      "Name: is_ultra, dtype: float64\n",
      "0.6842923794712286\n"
     ]
    }
   ],
   "source": [
    "print(df['is_ultra'].value_counts() / df.shape[0])\n",
    "\n",
    "dummy_clf = DummyClassifier(strategy=\"most_frequent\")\n",
    "dummy_clf.fit(features_train, target_train)\n",
    "DummyClassifier(strategy='most_frequent')\n",
    "dummy_clf.predict(features_test)\n",
    "print(dummy_clf.score(prediction_test, target_test))"
   ]
  },
  {
   "cell_type": "markdown",
   "metadata": {},
   "source": [
    "## Вывод по проекту"
   ]
  },
  {
   "cell_type": "markdown",
   "metadata": {},
   "source": [
    "Исследуя модели классификации `DecisionTreeClassifier` `RandomForestClassifier` `LogisticRegression`. Выбрали модель с лучшим Accuaracu:0.8087, RandomForestClassifier с гиперпараметрами max_depth=8, n_estimators=40.\n",
    "\n",
    "Проверив модель на тестовой выборке получили Accuaracu (0.796) близкое к значению Accuaracu полученному на валидационный выборке, но не превышающем его, из чего следует что модель не подверглась переобучению и недообучению"
   ]
  }
 ],
 "metadata": {
  "ExecuteTimeLog": [
   {
    "duration": 1084,
    "start_time": "2022-11-22T14:54:29.212Z"
   },
   {
    "duration": 77,
    "start_time": "2022-11-22T14:55:15.885Z"
   },
   {
    "duration": 62,
    "start_time": "2022-11-22T14:55:24.874Z"
   },
   {
    "duration": 47,
    "start_time": "2022-11-22T14:55:30.904Z"
   },
   {
    "duration": 41,
    "start_time": "2022-11-22T14:56:01.615Z"
   },
   {
    "duration": 39,
    "start_time": "2022-11-22T14:56:10.950Z"
   },
   {
    "duration": 41,
    "start_time": "2022-11-22T14:56:32.983Z"
   },
   {
    "duration": 37,
    "start_time": "2022-11-22T14:56:41.205Z"
   },
   {
    "duration": 34,
    "start_time": "2022-11-22T14:58:23.828Z"
   },
   {
    "duration": 121,
    "start_time": "2022-11-22T14:58:32.219Z"
   },
   {
    "duration": 33,
    "start_time": "2022-11-22T14:58:35.940Z"
   },
   {
    "duration": 1120,
    "start_time": "2022-11-22T14:58:45.510Z"
   },
   {
    "duration": 34,
    "start_time": "2022-11-22T14:59:05.366Z"
   },
   {
    "duration": 33,
    "start_time": "2022-11-22T14:59:11.832Z"
   },
   {
    "duration": 28,
    "start_time": "2022-11-22T14:59:16.565Z"
   },
   {
    "duration": 35,
    "start_time": "2022-11-22T14:59:23.357Z"
   },
   {
    "duration": 13,
    "start_time": "2022-11-22T14:59:46.177Z"
   },
   {
    "duration": 75,
    "start_time": "2022-11-22T15:04:14.587Z"
   },
   {
    "duration": 86,
    "start_time": "2022-11-22T15:04:30.724Z"
   },
   {
    "duration": 90,
    "start_time": "2022-11-22T15:04:45.593Z"
   },
   {
    "duration": 3,
    "start_time": "2022-11-22T15:06:19.269Z"
   },
   {
    "duration": 4,
    "start_time": "2022-11-22T15:06:19.929Z"
   },
   {
    "duration": 75,
    "start_time": "2022-11-22T15:06:46.724Z"
   },
   {
    "duration": 70,
    "start_time": "2022-11-22T15:07:03.648Z"
   },
   {
    "duration": 72,
    "start_time": "2022-11-22T15:07:15.363Z"
   },
   {
    "duration": 108,
    "start_time": "2022-11-22T15:07:41.395Z"
   },
   {
    "duration": 13,
    "start_time": "2022-11-22T15:07:52.243Z"
   },
   {
    "duration": 13,
    "start_time": "2022-11-22T15:08:08.669Z"
   },
   {
    "duration": 7,
    "start_time": "2022-11-22T15:08:17.379Z"
   },
   {
    "duration": 8,
    "start_time": "2022-11-22T15:08:26.928Z"
   },
   {
    "duration": 7,
    "start_time": "2022-11-22T15:08:39.531Z"
   },
   {
    "duration": 14,
    "start_time": "2022-11-22T15:08:45.193Z"
   },
   {
    "duration": 6,
    "start_time": "2022-11-22T15:12:51.463Z"
   },
   {
    "duration": 5,
    "start_time": "2022-11-22T15:16:02.233Z"
   },
   {
    "duration": 86,
    "start_time": "2022-11-22T15:16:25.071Z"
   },
   {
    "duration": 4,
    "start_time": "2022-11-22T15:16:55.311Z"
   },
   {
    "duration": 4,
    "start_time": "2022-11-22T15:17:07.910Z"
   },
   {
    "duration": 18,
    "start_time": "2022-11-22T15:18:10.535Z"
   },
   {
    "duration": 7,
    "start_time": "2022-11-22T15:18:22.617Z"
   },
   {
    "duration": 12,
    "start_time": "2022-11-22T15:18:37.325Z"
   },
   {
    "duration": 14,
    "start_time": "2022-11-22T15:18:48.358Z"
   },
   {
    "duration": 19,
    "start_time": "2022-11-22T15:19:02.526Z"
   },
   {
    "duration": 22,
    "start_time": "2022-11-22T15:19:10.486Z"
   },
   {
    "duration": 5,
    "start_time": "2022-11-22T15:20:51.791Z"
   },
   {
    "duration": 13,
    "start_time": "2022-11-22T15:21:05.804Z"
   },
   {
    "duration": 5,
    "start_time": "2022-11-22T15:24:10.683Z"
   },
   {
    "duration": 33,
    "start_time": "2022-11-22T15:24:45.555Z"
   },
   {
    "duration": 28,
    "start_time": "2022-11-22T15:27:06.136Z"
   },
   {
    "duration": 126,
    "start_time": "2022-11-22T15:27:36.250Z"
   },
   {
    "duration": 20,
    "start_time": "2022-11-22T15:27:42.489Z"
   },
   {
    "duration": 125,
    "start_time": "2022-11-22T15:27:47.566Z"
   },
   {
    "duration": 3808,
    "start_time": "2022-11-22T15:32:08.445Z"
   },
   {
    "duration": 8,
    "start_time": "2022-11-22T15:34:07.979Z"
   },
   {
    "duration": 1107,
    "start_time": "2022-11-22T15:34:22.321Z"
   },
   {
    "duration": 20,
    "start_time": "2022-11-22T15:34:23.431Z"
   },
   {
    "duration": 4,
    "start_time": "2022-11-22T15:34:23.453Z"
   },
   {
    "duration": 6,
    "start_time": "2022-11-22T15:34:23.458Z"
   },
   {
    "duration": 5,
    "start_time": "2022-11-22T15:34:23.465Z"
   },
   {
    "duration": 162,
    "start_time": "2022-11-22T15:34:23.472Z"
   },
   {
    "duration": 3875,
    "start_time": "2022-11-22T15:34:23.636Z"
   },
   {
    "duration": 8,
    "start_time": "2022-11-22T15:34:27.513Z"
   },
   {
    "duration": 31676,
    "start_time": "2022-11-22T15:45:13.800Z"
   },
   {
    "duration": 82,
    "start_time": "2022-11-22T15:50:01.646Z"
   },
   {
    "duration": 33719,
    "start_time": "2022-11-22T15:50:13.232Z"
   },
   {
    "duration": 33590,
    "start_time": "2022-11-22T15:51:00.152Z"
   },
   {
    "duration": 31876,
    "start_time": "2022-11-22T15:51:42.802Z"
   },
   {
    "duration": 1113,
    "start_time": "2022-11-22T15:55:08.288Z"
   },
   {
    "duration": 18,
    "start_time": "2022-11-22T15:55:09.403Z"
   },
   {
    "duration": 3,
    "start_time": "2022-11-22T15:55:09.422Z"
   },
   {
    "duration": 6,
    "start_time": "2022-11-22T15:55:09.426Z"
   },
   {
    "duration": 4,
    "start_time": "2022-11-22T15:55:09.434Z"
   },
   {
    "duration": 133,
    "start_time": "2022-11-22T15:55:09.440Z"
   },
   {
    "duration": 31506,
    "start_time": "2022-11-22T15:55:09.574Z"
   },
   {
    "duration": 7,
    "start_time": "2022-11-22T15:55:41.082Z"
   },
   {
    "duration": 103,
    "start_time": "2022-11-22T15:57:32.543Z"
   },
   {
    "duration": 23,
    "start_time": "2022-11-22T15:57:38.526Z"
   },
   {
    "duration": 22,
    "start_time": "2022-11-22T15:57:55.008Z"
   },
   {
    "duration": 31506,
    "start_time": "2022-11-22T15:58:02.008Z"
   },
   {
    "duration": 123,
    "start_time": "2022-11-22T15:58:37.988Z"
   },
   {
    "duration": 6,
    "start_time": "2022-11-22T15:59:04.294Z"
   },
   {
    "duration": 14,
    "start_time": "2022-11-22T15:59:11.278Z"
   },
   {
    "duration": 3,
    "start_time": "2022-11-22T15:59:17.739Z"
   },
   {
    "duration": 380,
    "start_time": "2022-11-22T16:01:44.560Z"
   },
   {
    "duration": 11,
    "start_time": "2022-11-22T16:04:27.076Z"
   },
   {
    "duration": 10,
    "start_time": "2022-11-22T16:05:10.716Z"
   },
   {
    "duration": 9,
    "start_time": "2022-11-22T16:06:22.486Z"
   },
   {
    "duration": 34,
    "start_time": "2022-11-22T16:06:26.020Z"
   },
   {
    "duration": 1070,
    "start_time": "2022-11-22T16:06:35.153Z"
   },
   {
    "duration": 19,
    "start_time": "2022-11-22T16:06:36.224Z"
   },
   {
    "duration": 4,
    "start_time": "2022-11-22T16:06:36.244Z"
   },
   {
    "duration": 7,
    "start_time": "2022-11-22T16:06:36.249Z"
   },
   {
    "duration": 21,
    "start_time": "2022-11-22T16:06:36.258Z"
   },
   {
    "duration": 422,
    "start_time": "2022-11-22T16:06:36.281Z"
   },
   {
    "duration": 28151,
    "start_time": "2022-11-22T16:06:36.705Z"
   },
   {
    "duration": 30,
    "start_time": "2022-11-22T16:07:04.858Z"
   },
   {
    "duration": 456,
    "start_time": "2022-11-22T16:07:37.478Z"
   },
   {
    "duration": 22,
    "start_time": "2022-11-22T16:11:27.837Z"
   },
   {
    "duration": 38,
    "start_time": "2022-11-22T16:32:05.500Z"
   },
   {
    "duration": 3,
    "start_time": "2022-11-22T16:39:29.223Z"
   },
   {
    "duration": 93,
    "start_time": "2022-11-22T16:43:10.556Z"
   },
   {
    "duration": 22,
    "start_time": "2022-11-22T16:45:17.723Z"
   },
   {
    "duration": 13,
    "start_time": "2022-11-22T16:45:31.171Z"
   },
   {
    "duration": 415,
    "start_time": "2022-11-22T16:46:12.467Z"
   },
   {
    "duration": 28030,
    "start_time": "2022-11-22T16:46:22.963Z"
   },
   {
    "duration": 11,
    "start_time": "2022-11-22T16:47:37.121Z"
   },
   {
    "duration": 8,
    "start_time": "2022-11-22T16:50:44.277Z"
   },
   {
    "duration": 8,
    "start_time": "2022-11-22T16:51:24.200Z"
   },
   {
    "duration": 9,
    "start_time": "2022-11-22T16:51:42.221Z"
   },
   {
    "duration": 11,
    "start_time": "2022-11-22T16:51:52.214Z"
   },
   {
    "duration": 21,
    "start_time": "2022-11-22T16:51:52.950Z"
   },
   {
    "duration": 19,
    "start_time": "2022-11-22T16:53:26.756Z"
   },
   {
    "duration": 10,
    "start_time": "2022-11-22T16:53:52.727Z"
   },
   {
    "duration": 17,
    "start_time": "2022-11-22T16:53:57.341Z"
   },
   {
    "duration": 1392,
    "start_time": "2022-11-22T16:54:06.071Z"
   },
   {
    "duration": 19,
    "start_time": "2022-11-22T16:54:07.465Z"
   },
   {
    "duration": 4,
    "start_time": "2022-11-22T16:54:07.486Z"
   },
   {
    "duration": 6,
    "start_time": "2022-11-22T16:54:07.493Z"
   },
   {
    "duration": 8,
    "start_time": "2022-11-22T16:54:07.500Z"
   },
   {
    "duration": 438,
    "start_time": "2022-11-22T16:54:07.510Z"
   },
   {
    "duration": 27992,
    "start_time": "2022-11-22T16:54:07.949Z"
   },
   {
    "duration": 23,
    "start_time": "2022-11-22T16:54:35.942Z"
   },
   {
    "duration": 11,
    "start_time": "2022-11-22T16:54:35.966Z"
   },
   {
    "duration": 113,
    "start_time": "2022-11-22T16:54:35.979Z"
   },
   {
    "duration": 10,
    "start_time": "2022-11-22T16:56:26.598Z"
   },
   {
    "duration": 13,
    "start_time": "2022-11-22T16:56:30.548Z"
   },
   {
    "duration": 18,
    "start_time": "2022-11-22T16:57:43.375Z"
   },
   {
    "duration": 17,
    "start_time": "2022-11-22T16:57:49.670Z"
   },
   {
    "duration": 2,
    "start_time": "2022-11-22T16:58:03.503Z"
   },
   {
    "duration": 5,
    "start_time": "2022-11-22T16:58:58.923Z"
   },
   {
    "duration": 11,
    "start_time": "2022-11-22T16:59:17.787Z"
   },
   {
    "duration": 12,
    "start_time": "2022-11-22T16:59:25.030Z"
   },
   {
    "duration": 18,
    "start_time": "2022-11-22T16:59:35.588Z"
   },
   {
    "duration": 17,
    "start_time": "2022-11-22T17:01:27.682Z"
   },
   {
    "duration": 12,
    "start_time": "2022-11-22T17:01:34.079Z"
   },
   {
    "duration": 12,
    "start_time": "2022-11-22T17:01:56.436Z"
   },
   {
    "duration": 12,
    "start_time": "2022-11-22T17:02:05.551Z"
   },
   {
    "duration": 17,
    "start_time": "2022-11-22T17:03:41.409Z"
   },
   {
    "duration": 12,
    "start_time": "2022-11-22T17:04:12.641Z"
   },
   {
    "duration": 1045,
    "start_time": "2022-11-22T17:04:28.975Z"
   },
   {
    "duration": 19,
    "start_time": "2022-11-22T17:04:30.022Z"
   },
   {
    "duration": 12,
    "start_time": "2022-11-22T17:04:30.043Z"
   },
   {
    "duration": 21,
    "start_time": "2022-11-22T17:04:30.057Z"
   },
   {
    "duration": 18,
    "start_time": "2022-11-22T17:04:30.080Z"
   },
   {
    "duration": 489,
    "start_time": "2022-11-22T17:04:30.099Z"
   },
   {
    "duration": 28272,
    "start_time": "2022-11-22T17:04:30.589Z"
   },
   {
    "duration": 24,
    "start_time": "2022-11-22T17:04:58.863Z"
   },
   {
    "duration": 10,
    "start_time": "2022-11-22T17:04:58.888Z"
   },
   {
    "duration": 123,
    "start_time": "2022-11-22T17:04:58.900Z"
   },
   {
    "duration": 16,
    "start_time": "2022-11-22T17:05:24.930Z"
   },
   {
    "duration": 13,
    "start_time": "2022-11-22T17:07:39.441Z"
   },
   {
    "duration": 14,
    "start_time": "2022-11-22T17:07:49.715Z"
   },
   {
    "duration": 2,
    "start_time": "2022-11-22T17:08:21.894Z"
   },
   {
    "duration": 11,
    "start_time": "2022-11-22T17:08:24.372Z"
   },
   {
    "duration": 16,
    "start_time": "2022-11-22T17:08:38.034Z"
   },
   {
    "duration": 11,
    "start_time": "2022-11-22T17:10:33.138Z"
   },
   {
    "duration": 8,
    "start_time": "2022-11-22T17:10:43.522Z"
   },
   {
    "duration": 1070,
    "start_time": "2022-11-22T17:11:09.672Z"
   },
   {
    "duration": 18,
    "start_time": "2022-11-22T17:11:10.743Z"
   },
   {
    "duration": 4,
    "start_time": "2022-11-22T17:11:10.762Z"
   },
   {
    "duration": 6,
    "start_time": "2022-11-22T17:11:10.767Z"
   },
   {
    "duration": 4,
    "start_time": "2022-11-22T17:11:10.775Z"
   },
   {
    "duration": 417,
    "start_time": "2022-11-22T17:11:10.780Z"
   },
   {
    "duration": 28988,
    "start_time": "2022-11-22T17:11:11.199Z"
   },
   {
    "duration": 29,
    "start_time": "2022-11-22T17:11:40.189Z"
   },
   {
    "duration": 27,
    "start_time": "2022-11-22T17:11:40.220Z"
   },
   {
    "duration": 159,
    "start_time": "2022-11-22T17:11:40.249Z"
   },
   {
    "duration": 13,
    "start_time": "2022-11-22T17:12:15.201Z"
   },
   {
    "duration": 14,
    "start_time": "2022-11-22T17:12:37.041Z"
   },
   {
    "duration": 12,
    "start_time": "2022-11-22T17:14:19.715Z"
   },
   {
    "duration": 8,
    "start_time": "2022-11-22T17:14:36.575Z"
   },
   {
    "duration": 19,
    "start_time": "2022-11-22T17:15:22.414Z"
   },
   {
    "duration": 17,
    "start_time": "2022-11-22T17:19:55.288Z"
   },
   {
    "duration": 92,
    "start_time": "2022-11-22T17:20:18.545Z"
   },
   {
    "duration": 17,
    "start_time": "2022-11-22T17:21:56.011Z"
   },
   {
    "duration": 11,
    "start_time": "2022-11-22T17:22:11.680Z"
   },
   {
    "duration": 17,
    "start_time": "2022-11-22T17:22:19.272Z"
   },
   {
    "duration": 10,
    "start_time": "2022-11-22T17:22:22.865Z"
   },
   {
    "duration": 17,
    "start_time": "2022-11-22T17:22:25.522Z"
   },
   {
    "duration": 17,
    "start_time": "2022-11-22T17:22:41.226Z"
   },
   {
    "duration": 8,
    "start_time": "2022-11-22T17:24:59.524Z"
   },
   {
    "duration": 8,
    "start_time": "2022-11-22T17:26:02.232Z"
   },
   {
    "duration": 34,
    "start_time": "2022-11-22T17:26:06.173Z"
   },
   {
    "duration": 9,
    "start_time": "2022-11-22T17:26:10.723Z"
   },
   {
    "duration": 3,
    "start_time": "2022-11-22T17:26:23.469Z"
   },
   {
    "duration": 5,
    "start_time": "2022-11-22T17:26:30.606Z"
   },
   {
    "duration": 1178,
    "start_time": "2022-11-22T17:27:02.983Z"
   },
   {
    "duration": 19,
    "start_time": "2022-11-22T17:27:04.163Z"
   },
   {
    "duration": 3,
    "start_time": "2022-11-22T17:27:04.184Z"
   },
   {
    "duration": 8,
    "start_time": "2022-11-22T17:27:04.189Z"
   },
   {
    "duration": 5,
    "start_time": "2022-11-22T17:27:04.199Z"
   },
   {
    "duration": 425,
    "start_time": "2022-11-22T17:27:04.205Z"
   },
   {
    "duration": 28218,
    "start_time": "2022-11-22T17:27:04.632Z"
   },
   {
    "duration": 23,
    "start_time": "2022-11-22T17:27:32.851Z"
   },
   {
    "duration": 11,
    "start_time": "2022-11-22T17:27:32.875Z"
   },
   {
    "duration": 4,
    "start_time": "2022-11-22T17:27:32.888Z"
   },
   {
    "duration": 4,
    "start_time": "2022-11-22T17:36:36.781Z"
   },
   {
    "duration": 4,
    "start_time": "2022-11-22T17:36:51.237Z"
   },
   {
    "duration": 72,
    "start_time": "2022-11-22T17:41:43.690Z"
   },
   {
    "duration": 1248,
    "start_time": "2022-11-23T05:01:10.974Z"
   },
   {
    "duration": 19,
    "start_time": "2022-11-23T05:01:12.224Z"
   },
   {
    "duration": 4,
    "start_time": "2022-11-23T05:01:12.244Z"
   },
   {
    "duration": 8,
    "start_time": "2022-11-23T05:01:12.250Z"
   },
   {
    "duration": 6,
    "start_time": "2022-11-23T05:01:12.261Z"
   },
   {
    "duration": 534,
    "start_time": "2022-11-23T05:01:12.268Z"
   },
   {
    "duration": 30134,
    "start_time": "2022-11-23T05:01:12.804Z"
   },
   {
    "duration": 23,
    "start_time": "2022-11-23T05:01:42.939Z"
   },
   {
    "duration": 3,
    "start_time": "2022-11-23T05:01:42.964Z"
   },
   {
    "duration": 14,
    "start_time": "2022-11-23T05:01:42.968Z"
   },
   {
    "duration": 12,
    "start_time": "2022-11-23T05:01:42.983Z"
   },
   {
    "duration": 1097,
    "start_time": "2022-11-23T05:01:55.550Z"
   },
   {
    "duration": 21,
    "start_time": "2022-11-23T05:01:56.649Z"
   },
   {
    "duration": 13,
    "start_time": "2022-11-23T05:01:56.672Z"
   },
   {
    "duration": 13,
    "start_time": "2022-11-23T05:01:56.688Z"
   },
   {
    "duration": 38,
    "start_time": "2022-11-23T05:01:56.702Z"
   },
   {
    "duration": 451,
    "start_time": "2022-11-23T05:01:56.742Z"
   },
   {
    "duration": 1157,
    "start_time": "2022-11-23T05:02:19.825Z"
   },
   {
    "duration": 21,
    "start_time": "2022-11-23T05:02:20.984Z"
   },
   {
    "duration": 9,
    "start_time": "2022-11-23T05:02:21.006Z"
   },
   {
    "duration": 26,
    "start_time": "2022-11-23T05:02:21.017Z"
   },
   {
    "duration": 25,
    "start_time": "2022-11-23T05:02:21.045Z"
   },
   {
    "duration": 482,
    "start_time": "2022-11-23T05:02:21.072Z"
   },
   {
    "duration": 30192,
    "start_time": "2022-11-23T05:02:21.556Z"
   },
   {
    "duration": 24,
    "start_time": "2022-11-23T05:02:51.750Z"
   },
   {
    "duration": 5,
    "start_time": "2022-11-23T05:02:51.776Z"
   },
   {
    "duration": 26,
    "start_time": "2022-11-23T05:02:51.784Z"
   },
   {
    "duration": 5,
    "start_time": "2022-11-23T05:02:51.812Z"
   },
   {
    "duration": 44,
    "start_time": "2022-11-23T05:42:44.886Z"
   },
   {
    "duration": 5,
    "start_time": "2022-11-23T06:33:50.137Z"
   },
   {
    "duration": 5,
    "start_time": "2022-11-23T06:34:20.961Z"
   },
   {
    "duration": 1311,
    "start_time": "2022-11-23T06:35:23.720Z"
   },
   {
    "duration": 25,
    "start_time": "2022-11-23T06:35:25.034Z"
   },
   {
    "duration": 17,
    "start_time": "2022-11-23T06:35:25.061Z"
   },
   {
    "duration": 37,
    "start_time": "2022-11-23T06:35:25.081Z"
   },
   {
    "duration": 28,
    "start_time": "2022-11-23T06:35:25.120Z"
   },
   {
    "duration": 457,
    "start_time": "2022-11-23T06:35:25.150Z"
   },
   {
    "duration": 31531,
    "start_time": "2022-11-23T06:35:25.608Z"
   },
   {
    "duration": 27,
    "start_time": "2022-11-23T06:35:57.141Z"
   },
   {
    "duration": 5,
    "start_time": "2022-11-23T06:35:57.170Z"
   },
   {
    "duration": 21,
    "start_time": "2022-11-23T06:35:57.177Z"
   },
   {
    "duration": 9,
    "start_time": "2022-11-23T06:35:57.200Z"
   },
   {
    "duration": 37,
    "start_time": "2022-11-23T07:01:39.663Z"
   },
   {
    "duration": 102,
    "start_time": "2022-11-23T07:07:01.792Z"
   },
   {
    "duration": 289940,
    "start_time": "2022-11-23T07:07:28.115Z"
   },
   {
    "duration": 5,
    "start_time": "2022-11-23T07:13:42.713Z"
   },
   {
    "duration": 19,
    "start_time": "2022-11-23T07:22:38.335Z"
   },
   {
    "duration": 12,
    "start_time": "2022-11-23T07:34:37.305Z"
   },
   {
    "duration": 3,
    "start_time": "2022-11-23T07:35:47.703Z"
   },
   {
    "duration": 8,
    "start_time": "2022-11-23T07:36:15.776Z"
   },
   {
    "duration": 12,
    "start_time": "2022-11-23T07:36:39.054Z"
   },
   {
    "duration": 14,
    "start_time": "2022-11-23T07:36:47.487Z"
   },
   {
    "duration": 117,
    "start_time": "2022-11-23T07:37:31.263Z"
   },
   {
    "duration": 7,
    "start_time": "2022-11-23T07:47:29.682Z"
   },
   {
    "duration": 48,
    "start_time": "2022-11-23T07:48:03.734Z"
   },
   {
    "duration": 13,
    "start_time": "2022-11-23T07:50:51.544Z"
   },
   {
    "duration": 8,
    "start_time": "2022-11-23T07:51:44.816Z"
   },
   {
    "duration": 8,
    "start_time": "2022-11-23T07:52:22.720Z"
   },
   {
    "duration": 7,
    "start_time": "2022-11-23T07:53:04.272Z"
   },
   {
    "duration": 33,
    "start_time": "2022-11-23T07:53:52.540Z"
   },
   {
    "duration": 17,
    "start_time": "2022-11-23T07:54:02.016Z"
   },
   {
    "duration": 8,
    "start_time": "2022-11-23T07:54:28.295Z"
   },
   {
    "duration": 6,
    "start_time": "2022-11-23T07:55:20.775Z"
   },
   {
    "duration": 1106,
    "start_time": "2022-11-23T08:14:07.258Z"
   },
   {
    "duration": 18,
    "start_time": "2022-11-23T08:14:08.366Z"
   },
   {
    "duration": 4,
    "start_time": "2022-11-23T08:14:08.386Z"
   },
   {
    "duration": 13,
    "start_time": "2022-11-23T08:14:08.391Z"
   },
   {
    "duration": 6,
    "start_time": "2022-11-23T08:14:08.406Z"
   },
   {
    "duration": 477,
    "start_time": "2022-11-23T08:14:08.413Z"
   },
   {
    "duration": 30449,
    "start_time": "2022-11-23T08:14:08.892Z"
   },
   {
    "duration": 290085,
    "start_time": "2022-11-23T08:14:39.343Z"
   },
   {
    "duration": 7,
    "start_time": "2022-11-23T08:19:29.430Z"
   },
   {
    "duration": 127,
    "start_time": "2022-11-23T08:19:29.447Z"
   },
   {
    "duration": 28,
    "start_time": "2022-11-23T08:19:29.575Z"
   },
   {
    "duration": 5,
    "start_time": "2022-11-23T08:19:29.605Z"
   },
   {
    "duration": 37,
    "start_time": "2022-11-23T08:19:29.612Z"
   },
   {
    "duration": 5,
    "start_time": "2022-11-23T08:19:29.652Z"
   },
   {
    "duration": 10,
    "start_time": "2022-11-23T08:19:29.658Z"
   }
  ],
  "kernelspec": {
   "display_name": "Python 3 (ipykernel)",
   "language": "python",
   "name": "python3"
  },
  "language_info": {
   "codemirror_mode": {
    "name": "ipython",
    "version": 3
   },
   "file_extension": ".py",
   "mimetype": "text/x-python",
   "name": "python",
   "nbconvert_exporter": "python",
   "pygments_lexer": "ipython3",
   "version": "3.9.12"
  },
  "toc": {
   "base_numbering": 1,
   "nav_menu": {},
   "number_sections": true,
   "sideBar": true,
   "skip_h1_title": true,
   "title_cell": "Table of Contents",
   "title_sidebar": "Contents",
   "toc_cell": false,
   "toc_position": {},
   "toc_section_display": true,
   "toc_window_display": false
  }
 },
 "nbformat": 4,
 "nbformat_minor": 2
}
