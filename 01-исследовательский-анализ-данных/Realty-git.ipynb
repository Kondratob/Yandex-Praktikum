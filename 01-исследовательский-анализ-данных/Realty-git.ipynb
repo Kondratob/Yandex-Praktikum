{
 "cells": [
  {
   "cell_type": "markdown",
   "metadata": {},
   "source": [
    "# Исследование объявлений о продаже квартир\n",
    "\n",
    "В вашем распоряжении данные сервиса Яндекс.Недвижимость — архив объявлений о продаже квартир в Санкт-Петербурге и соседних населённых пунктов за несколько лет. Нужно научиться определять рыночную стоимость объектов недвижимости. Ваша задача — установить параметры. Это позволит построить автоматизированную систему: она отследит аномалии и мошенническую деятельность. \n",
    "\n",
    "По каждой квартире на продажу доступны два вида данных. Первые вписаны пользователем, вторые — получены автоматически на основе картографических данных. Например, расстояние до центра, аэропорта, ближайшего парка и водоёма. "
   ]
  },
  {
   "cell_type": "markdown",
   "metadata": {},
   "source": [
    "### 1. Откройте файл с данными и изучите общую информацию. "
   ]
  },
  {
   "cell_type": "code",
   "execution_count": 1,
   "metadata": {
    "scrolled": true
   },
   "outputs": [
    {
     "data": {
      "text/html": [
       "<div>\n",
       "<style scoped>\n",
       "    .dataframe tbody tr th:only-of-type {\n",
       "        vertical-align: middle;\n",
       "    }\n",
       "\n",
       "    .dataframe tbody tr th {\n",
       "        vertical-align: top;\n",
       "    }\n",
       "\n",
       "    .dataframe thead th {\n",
       "        text-align: right;\n",
       "    }\n",
       "</style>\n",
       "<table border=\"1\" class=\"dataframe\">\n",
       "  <thead>\n",
       "    <tr style=\"text-align: right;\">\n",
       "      <th></th>\n",
       "      <th>total_images</th>\n",
       "      <th>last_price</th>\n",
       "      <th>total_area</th>\n",
       "      <th>first_day_exposition</th>\n",
       "      <th>rooms</th>\n",
       "      <th>ceiling_height</th>\n",
       "      <th>floors_total</th>\n",
       "      <th>living_area</th>\n",
       "      <th>floor</th>\n",
       "      <th>is_apartment</th>\n",
       "      <th>...</th>\n",
       "      <th>kitchen_area</th>\n",
       "      <th>balcony</th>\n",
       "      <th>locality_name</th>\n",
       "      <th>airports_nearest</th>\n",
       "      <th>cityCenters_nearest</th>\n",
       "      <th>parks_around3000</th>\n",
       "      <th>parks_nearest</th>\n",
       "      <th>ponds_around3000</th>\n",
       "      <th>ponds_nearest</th>\n",
       "      <th>days_exposition</th>\n",
       "    </tr>\n",
       "  </thead>\n",
       "  <tbody>\n",
       "    <tr>\n",
       "      <th>0</th>\n",
       "      <td>20</td>\n",
       "      <td>13000000.0</td>\n",
       "      <td>108.0</td>\n",
       "      <td>2019-03-07T00:00:00</td>\n",
       "      <td>3</td>\n",
       "      <td>2.70</td>\n",
       "      <td>16.0</td>\n",
       "      <td>51.0</td>\n",
       "      <td>8</td>\n",
       "      <td>NaN</td>\n",
       "      <td>...</td>\n",
       "      <td>25.0</td>\n",
       "      <td>NaN</td>\n",
       "      <td>Санкт-Петербург</td>\n",
       "      <td>18863.0</td>\n",
       "      <td>16028.0</td>\n",
       "      <td>1.0</td>\n",
       "      <td>482.0</td>\n",
       "      <td>2.0</td>\n",
       "      <td>755.0</td>\n",
       "      <td>NaN</td>\n",
       "    </tr>\n",
       "    <tr>\n",
       "      <th>1</th>\n",
       "      <td>7</td>\n",
       "      <td>3350000.0</td>\n",
       "      <td>40.4</td>\n",
       "      <td>2018-12-04T00:00:00</td>\n",
       "      <td>1</td>\n",
       "      <td>NaN</td>\n",
       "      <td>11.0</td>\n",
       "      <td>18.6</td>\n",
       "      <td>1</td>\n",
       "      <td>NaN</td>\n",
       "      <td>...</td>\n",
       "      <td>11.0</td>\n",
       "      <td>2.0</td>\n",
       "      <td>посёлок Шушары</td>\n",
       "      <td>12817.0</td>\n",
       "      <td>18603.0</td>\n",
       "      <td>0.0</td>\n",
       "      <td>NaN</td>\n",
       "      <td>0.0</td>\n",
       "      <td>NaN</td>\n",
       "      <td>81.0</td>\n",
       "    </tr>\n",
       "    <tr>\n",
       "      <th>2</th>\n",
       "      <td>10</td>\n",
       "      <td>5196000.0</td>\n",
       "      <td>56.0</td>\n",
       "      <td>2015-08-20T00:00:00</td>\n",
       "      <td>2</td>\n",
       "      <td>NaN</td>\n",
       "      <td>5.0</td>\n",
       "      <td>34.3</td>\n",
       "      <td>4</td>\n",
       "      <td>NaN</td>\n",
       "      <td>...</td>\n",
       "      <td>8.3</td>\n",
       "      <td>0.0</td>\n",
       "      <td>Санкт-Петербург</td>\n",
       "      <td>21741.0</td>\n",
       "      <td>13933.0</td>\n",
       "      <td>1.0</td>\n",
       "      <td>90.0</td>\n",
       "      <td>2.0</td>\n",
       "      <td>574.0</td>\n",
       "      <td>558.0</td>\n",
       "    </tr>\n",
       "    <tr>\n",
       "      <th>3</th>\n",
       "      <td>0</td>\n",
       "      <td>64900000.0</td>\n",
       "      <td>159.0</td>\n",
       "      <td>2015-07-24T00:00:00</td>\n",
       "      <td>3</td>\n",
       "      <td>NaN</td>\n",
       "      <td>14.0</td>\n",
       "      <td>NaN</td>\n",
       "      <td>9</td>\n",
       "      <td>NaN</td>\n",
       "      <td>...</td>\n",
       "      <td>NaN</td>\n",
       "      <td>0.0</td>\n",
       "      <td>Санкт-Петербург</td>\n",
       "      <td>28098.0</td>\n",
       "      <td>6800.0</td>\n",
       "      <td>2.0</td>\n",
       "      <td>84.0</td>\n",
       "      <td>3.0</td>\n",
       "      <td>234.0</td>\n",
       "      <td>424.0</td>\n",
       "    </tr>\n",
       "    <tr>\n",
       "      <th>4</th>\n",
       "      <td>2</td>\n",
       "      <td>10000000.0</td>\n",
       "      <td>100.0</td>\n",
       "      <td>2018-06-19T00:00:00</td>\n",
       "      <td>2</td>\n",
       "      <td>3.03</td>\n",
       "      <td>14.0</td>\n",
       "      <td>32.0</td>\n",
       "      <td>13</td>\n",
       "      <td>NaN</td>\n",
       "      <td>...</td>\n",
       "      <td>41.0</td>\n",
       "      <td>NaN</td>\n",
       "      <td>Санкт-Петербург</td>\n",
       "      <td>31856.0</td>\n",
       "      <td>8098.0</td>\n",
       "      <td>2.0</td>\n",
       "      <td>112.0</td>\n",
       "      <td>1.0</td>\n",
       "      <td>48.0</td>\n",
       "      <td>121.0</td>\n",
       "    </tr>\n",
       "  </tbody>\n",
       "</table>\n",
       "<p>5 rows × 22 columns</p>\n",
       "</div>"
      ],
      "text/plain": [
       "   total_images  last_price  total_area first_day_exposition  rooms  \\\n",
       "0            20  13000000.0       108.0  2019-03-07T00:00:00      3   \n",
       "1             7   3350000.0        40.4  2018-12-04T00:00:00      1   \n",
       "2            10   5196000.0        56.0  2015-08-20T00:00:00      2   \n",
       "3             0  64900000.0       159.0  2015-07-24T00:00:00      3   \n",
       "4             2  10000000.0       100.0  2018-06-19T00:00:00      2   \n",
       "\n",
       "   ceiling_height  floors_total  living_area  floor is_apartment  ...  \\\n",
       "0            2.70          16.0         51.0      8          NaN  ...   \n",
       "1             NaN          11.0         18.6      1          NaN  ...   \n",
       "2             NaN           5.0         34.3      4          NaN  ...   \n",
       "3             NaN          14.0          NaN      9          NaN  ...   \n",
       "4            3.03          14.0         32.0     13          NaN  ...   \n",
       "\n",
       "   kitchen_area  balcony    locality_name  airports_nearest  \\\n",
       "0          25.0      NaN  Санкт-Петербург           18863.0   \n",
       "1          11.0      2.0   посёлок Шушары           12817.0   \n",
       "2           8.3      0.0  Санкт-Петербург           21741.0   \n",
       "3           NaN      0.0  Санкт-Петербург           28098.0   \n",
       "4          41.0      NaN  Санкт-Петербург           31856.0   \n",
       "\n",
       "  cityCenters_nearest  parks_around3000  parks_nearest  ponds_around3000  \\\n",
       "0             16028.0               1.0          482.0               2.0   \n",
       "1             18603.0               0.0            NaN               0.0   \n",
       "2             13933.0               1.0           90.0               2.0   \n",
       "3              6800.0               2.0           84.0               3.0   \n",
       "4              8098.0               2.0          112.0               1.0   \n",
       "\n",
       "   ponds_nearest  days_exposition  \n",
       "0          755.0              NaN  \n",
       "1            NaN             81.0  \n",
       "2          574.0            558.0  \n",
       "3          234.0            424.0  \n",
       "4           48.0            121.0  \n",
       "\n",
       "[5 rows x 22 columns]"
      ]
     },
     "execution_count": 1,
     "metadata": {},
     "output_type": "execute_result"
    }
   ],
   "source": [
    "import pandas as pd\n",
    "data = pd.read_csv('real_estate_data.csv',sep='\\t')\n",
    "data.head(5)"
   ]
  },
  {
   "cell_type": "code",
   "execution_count": 2,
   "metadata": {
    "scrolled": true
   },
   "outputs": [
    {
     "data": {
      "image/png": "[encoded data removed]",
      "text/plain": [
       "<Figure size 1080x1440 with 20 Axes>"
      ]
     },
     "metadata": {
      "needs_background": "light"
     },
     "output_type": "display_data"
    }
   ],
   "source": [
    "data.hist(figsize=(15, 20));"
   ]
  },
  {
   "cell_type": "code",
   "execution_count": 3,
   "metadata": {
    "scrolled": true
   },
   "outputs": [
    {
     "name": "stdout",
     "output_type": "stream",
     "text": [
      "<class 'pandas.core.frame.DataFrame'>\n",
      "RangeIndex: 23699 entries, 0 to 23698\n",
      "Data columns (total 22 columns):\n",
      " #   Column                Non-Null Count  Dtype  \n",
      "---  ------                --------------  -----  \n",
      " 0   total_images          23699 non-null  int64  \n",
      " 1   last_price            23699 non-null  float64\n",
      " 2   total_area            23699 non-null  float64\n",
      " 3   first_day_exposition  23699 non-null  object \n",
      " 4   rooms                 23699 non-null  int64  \n",
      " 5   ceiling_height        14504 non-null  float64\n",
      " 6   floors_total          23613 non-null  float64\n",
      " 7   living_area           21796 non-null  float64\n",
      " 8   floor                 23699 non-null  int64  \n",
      " 9   is_apartment          2775 non-null   object \n",
      " 10  studio                23699 non-null  bool   \n",
      " 11  open_plan             23699 non-null  bool   \n",
      " 12  kitchen_area          21421 non-null  float64\n",
      " 13  balcony               12180 non-null  float64\n",
      " 14  locality_name         23650 non-null  object \n",
      " 15  airports_nearest      18157 non-null  float64\n",
      " 16  cityCenters_nearest   18180 non-null  float64\n",
      " 17  parks_around3000      18181 non-null  float64\n",
      " 18  parks_nearest         8079 non-null   float64\n",
      " 19  ponds_around3000      18181 non-null  float64\n",
      " 20  ponds_nearest         9110 non-null   float64\n",
      " 21  days_exposition       20518 non-null  float64\n",
      "dtypes: bool(2), float64(14), int64(3), object(3)\n",
      "memory usage: 3.7+ MB\n"
     ]
    }
   ],
   "source": [
    "data.info()"
   ]
  },
  {
   "cell_type": "code",
   "execution_count": 4,
   "metadata": {},
   "outputs": [
    {
     "name": "stdout",
     "output_type": "stream",
     "text": [
      "101441\n"
     ]
    },
    {
     "data": {
      "text/plain": [
       "total_images                0\n",
       "last_price                  0\n",
       "total_area                  0\n",
       "first_day_exposition        0\n",
       "rooms                       0\n",
       "ceiling_height           9195\n",
       "floors_total               86\n",
       "living_area              1903\n",
       "floor                       0\n",
       "is_apartment            20924\n",
       "studio                      0\n",
       "open_plan                   0\n",
       "kitchen_area             2278\n",
       "balcony                 11519\n",
       "locality_name              49\n",
       "airports_nearest         5542\n",
       "cityCenters_nearest      5519\n",
       "parks_around3000         5518\n",
       "parks_nearest           15620\n",
       "ponds_around3000         5518\n",
       "ponds_nearest           14589\n",
       "days_exposition          3181\n",
       "dtype: int64"
      ]
     },
     "execution_count": 4,
     "metadata": {},
     "output_type": "execute_result"
    }
   ],
   "source": [
    "print(data.isna().sum().sum())\n",
    "data.isna().sum()"
   ]
  },
  {
   "cell_type": "markdown",
   "metadata": {},
   "source": [
    "1. Огромное количество пропусков, 46718 значений пропущено, в том числе: высота потолков, жилая площадь, площадь кухни, информации о типе недвижимости, информация о количестве балконов.\n",
    "2. Количество этажей в здании, водоемов, парков, балконов, дней размещения имеют тип значений с плавающей запятой, логично такие данные хранить и обрабатывать в формате целочисленных значений."
   ]
  },
  {
   "cell_type": "markdown",
   "metadata": {},
   "source": [
    "### 2. Предобработка данных"
   ]
  },
  {
   "cell_type": "markdown",
   "metadata": {},
   "source": [
    "#### 2.1 Удаление пропусков, форматирование данных "
   ]
  },
  {
   "cell_type": "code",
   "execution_count": 5,
   "metadata": {
    "scrolled": true
   },
   "outputs": [],
   "source": [
    "data['balcony'] = data['balcony'].fillna(0).astype('int') #Замена пропусков, замена на целочисленное значение \n",
    "data['days_exposition'] = data['days_exposition'].fillna(0).astype('int') #Замена пропусков, замена на целочисленное значение \n",
    "data['is_apartment'] = data['is_apartment'].fillna(False) #Замена пропусков, замена на целочисленное значение\n",
    "data['ponds_around3000'] = data['ponds_around3000'].fillna(0).astype('int') #Замена пропусков, замена на целочисленное значение\n",
    "data['parks_around3000'] = data['parks_around3000'].fillna(0).astype('int') #Замена пропусков, замена на целочисленное значение\n",
    "data['first_day_exposition'] = pd.to_datetime(data['first_day_exposition'], format = '%Y-%m-%dT%H:%M:%S') #Форматирование даты\n",
    "data['total_area'] = data['total_area'].round(2)"
   ]
  },
  {
   "cell_type": "markdown",
   "metadata": {},
   "source": [
    "Потолки пропуски"
   ]
  },
  {
   "cell_type": "code",
   "execution_count": 6,
   "metadata": {},
   "outputs": [
    {
     "name": "stdout",
     "output_type": "stream",
     "text": [
      "count    13734.000000\n",
      "mean         2.681406\n",
      "std          0.187649\n",
      "min          2.000000\n",
      "25%          2.500000\n",
      "50%          2.640000\n",
      "75%          2.760000\n",
      "max          3.250000\n",
      "Name: ceiling_height, dtype: float64\n"
     ]
    },
    {
     "data": {
      "image/png": "[encoded data removed]",
      "text/plain": [
       "<Figure size 432x288 with 1 Axes>"
      ]
     },
     "metadata": {
      "needs_background": "light"
     },
     "output_type": "display_data"
    }
   ],
   "source": [
    "import matplotlib.pyplot as plt\n",
    "plt.ylim(2,4)\n",
    "data.boxplot('ceiling_height')\n",
    "tru_ceiling_height = data[(data['ceiling_height'] <= 3.25) & (data['ceiling_height'] >= 2)]['ceiling_height'].reset_index(drop=True)\n",
    "print(tru_ceiling_height.describe())\n",
    "data['ceiling_height'] = data['ceiling_height'].fillna(tru_ceiling_height.median()).round(2)"
   ]
  },
  {
   "cell_type": "markdown",
   "metadata": {},
   "source": [
    "Жилая площадь пропуски"
   ]
  },
  {
   "cell_type": "code",
   "execution_count": 7,
   "metadata": {},
   "outputs": [
    {
     "name": "stdout",
     "output_type": "stream",
     "text": [
      "count    21110.000000\n",
      "mean        31.748455\n",
      "std         14.242826\n",
      "min          2.000000\n",
      "25%         18.462500\n",
      "50%         30.000000\n",
      "75%         41.000000\n",
      "max         80.000000\n",
      "Name: living_area, dtype: float64\n"
     ]
    }
   ],
   "source": [
    "tru_living_area = data[(data['living_area'] <= 80) & (data['living_area'] >= 1)]['living_area'].reset_index(drop=True)\n",
    "print(tru_living_area.describe())"
   ]
  },
  {
   "cell_type": "code",
   "execution_count": 8,
   "metadata": {
    "scrolled": false
   },
   "outputs": [
    {
     "data": {
      "image/png": "[encoded data removed]",
      "text/plain": [
       "<Figure size 432x288 with 1 Axes>"
      ]
     },
     "metadata": {
      "needs_background": "light"
     },
     "output_type": "display_data"
    }
   ],
   "source": [
    "plt.ylim(0,80)\n",
    "data.boxplot('living_area')\n",
    "data['living_area'] = data['living_area'].fillna(tru_living_area.median()).round(2)"
   ]
  },
  {
   "cell_type": "code",
   "execution_count": 9,
   "metadata": {},
   "outputs": [
    {
     "name": "stdout",
     "output_type": "stream",
     "text": [
      "count    20398.00000\n",
      "mean         9.59607\n",
      "std          3.25999\n",
      "min          1.30000\n",
      "25%          7.00000\n",
      "50%          9.00000\n",
      "75%         11.20000\n",
      "max         20.00000\n",
      "Name: kitchen_area, dtype: float64\n"
     ]
    }
   ],
   "source": [
    "tru_kitchen_area = data[(data['kitchen_area'] <= 20) & (data['kitchen_area'] >= 1)]['kitchen_area'].reset_index(drop=True)\n",
    "print(tru_kitchen_area.describe())"
   ]
  },
  {
   "cell_type": "code",
   "execution_count": 10,
   "metadata": {},
   "outputs": [
    {
     "data": {
      "image/png": "[encoded data removed]",
      "text/plain": [
       "<Figure size 432x288 with 1 Axes>"
      ]
     },
     "metadata": {
      "needs_background": "light"
     },
     "output_type": "display_data"
    }
   ],
   "source": [
    "plt.ylim(0,20)\n",
    "data.boxplot('kitchen_area')\n",
    "data['kitchen_area'] = data['kitchen_area'].fillna(tru_living_area.median()).round(2)"
   ]
  },
  {
   "cell_type": "markdown",
   "metadata": {
    "scrolled": true
   },
   "source": [
    "Следуем следующей логике: если количество балконов не указано, то их в квартире нет; если отсутствует значение времени размещения объявления, значит объявление еще актуально, так же заменяем значения на целочисленные для удобства; если отсутствует информация о категории недвижимости (апартаменты), принимаем что эти объекты таковыми не являются и заменяем пустые значения на False; отсутствующие данные по количеству водоемов и парков в радиусе 3000 м. заполняем по аналогии с балконами. Высоту потолков, жилую и площадь кухни заполним медианой."
   ]
  },
  {
   "cell_type": "markdown",
   "metadata": {
    "scrolled": true
   },
   "source": [
    "#### 2.2 Убираем аномалии потолков и квартиры в домах без этажей"
   ]
  },
  {
   "cell_type": "code",
   "execution_count": 11,
   "metadata": {
    "scrolled": true
   },
   "outputs": [],
   "source": [
    "data.loc[data['ceiling_height'] > 10, 'ceiling_height'] = data['ceiling_height'] / 10 #Убираем аномально высокие потолки\n",
    "\n",
    "data.dropna(axis = 0, how='any', subset =[\"floors_total\"], inplace=True)\n",
    "\n",
    "data.reset_index(drop=True) #Сбросили индексы\n",
    "data['floors_total'] = data['floors_total'].astype('int') # Дробной части у этажа не бывает"
   ]
  },
  {
   "cell_type": "code",
   "execution_count": 12,
   "metadata": {},
   "outputs": [
    {
     "data": {
      "text/html": [
       "<div>\n",
       "<style scoped>\n",
       "    .dataframe tbody tr th:only-of-type {\n",
       "        vertical-align: middle;\n",
       "    }\n",
       "\n",
       "    .dataframe tbody tr th {\n",
       "        vertical-align: top;\n",
       "    }\n",
       "\n",
       "    .dataframe thead th {\n",
       "        text-align: right;\n",
       "    }\n",
       "</style>\n",
       "<table border=\"1\" class=\"dataframe\">\n",
       "  <thead>\n",
       "    <tr style=\"text-align: right;\">\n",
       "      <th></th>\n",
       "      <th>total_images</th>\n",
       "      <th>last_price</th>\n",
       "      <th>total_area</th>\n",
       "      <th>first_day_exposition</th>\n",
       "      <th>rooms</th>\n",
       "      <th>ceiling_height</th>\n",
       "      <th>floors_total</th>\n",
       "      <th>living_area</th>\n",
       "      <th>floor</th>\n",
       "      <th>is_apartment</th>\n",
       "      <th>...</th>\n",
       "      <th>kitchen_area</th>\n",
       "      <th>balcony</th>\n",
       "      <th>locality_name</th>\n",
       "      <th>airports_nearest</th>\n",
       "      <th>cityCenters_nearest</th>\n",
       "      <th>parks_around3000</th>\n",
       "      <th>parks_nearest</th>\n",
       "      <th>ponds_around3000</th>\n",
       "      <th>ponds_nearest</th>\n",
       "      <th>days_exposition</th>\n",
       "    </tr>\n",
       "  </thead>\n",
       "  <tbody>\n",
       "    <tr>\n",
       "      <th>5712</th>\n",
       "      <td>5</td>\n",
       "      <td>1500000.0</td>\n",
       "      <td>42.8</td>\n",
       "      <td>2017-08-14</td>\n",
       "      <td>2</td>\n",
       "      <td>1.20</td>\n",
       "      <td>2</td>\n",
       "      <td>27.5</td>\n",
       "      <td>1</td>\n",
       "      <td>False</td>\n",
       "      <td>...</td>\n",
       "      <td>5.20</td>\n",
       "      <td>0</td>\n",
       "      <td>городской посёлок Мга</td>\n",
       "      <td>NaN</td>\n",
       "      <td>NaN</td>\n",
       "      <td>0</td>\n",
       "      <td>NaN</td>\n",
       "      <td>0</td>\n",
       "      <td>NaN</td>\n",
       "      <td>248</td>\n",
       "    </tr>\n",
       "    <tr>\n",
       "      <th>15061</th>\n",
       "      <td>19</td>\n",
       "      <td>5600000.0</td>\n",
       "      <td>56.4</td>\n",
       "      <td>2018-05-11</td>\n",
       "      <td>2</td>\n",
       "      <td>1.40</td>\n",
       "      <td>14</td>\n",
       "      <td>32.4</td>\n",
       "      <td>5</td>\n",
       "      <td>False</td>\n",
       "      <td>...</td>\n",
       "      <td>9.10</td>\n",
       "      <td>2</td>\n",
       "      <td>Санкт-Петербург</td>\n",
       "      <td>14814.0</td>\n",
       "      <td>13610.0</td>\n",
       "      <td>0</td>\n",
       "      <td>NaN</td>\n",
       "      <td>0</td>\n",
       "      <td>NaN</td>\n",
       "      <td>315</td>\n",
       "    </tr>\n",
       "    <tr>\n",
       "      <th>16934</th>\n",
       "      <td>5</td>\n",
       "      <td>4100000.0</td>\n",
       "      <td>40.0</td>\n",
       "      <td>2017-10-17</td>\n",
       "      <td>1</td>\n",
       "      <td>1.75</td>\n",
       "      <td>37</td>\n",
       "      <td>17.4</td>\n",
       "      <td>5</td>\n",
       "      <td>False</td>\n",
       "      <td>...</td>\n",
       "      <td>8.34</td>\n",
       "      <td>0</td>\n",
       "      <td>Санкт-Петербург</td>\n",
       "      <td>18732.0</td>\n",
       "      <td>20444.0</td>\n",
       "      <td>0</td>\n",
       "      <td>NaN</td>\n",
       "      <td>3</td>\n",
       "      <td>80.0</td>\n",
       "      <td>71</td>\n",
       "    </tr>\n",
       "    <tr>\n",
       "      <th>22309</th>\n",
       "      <td>20</td>\n",
       "      <td>5300000.0</td>\n",
       "      <td>45.0</td>\n",
       "      <td>2017-09-30</td>\n",
       "      <td>1</td>\n",
       "      <td>1.03</td>\n",
       "      <td>16</td>\n",
       "      <td>15.5</td>\n",
       "      <td>15</td>\n",
       "      <td>False</td>\n",
       "      <td>...</td>\n",
       "      <td>30.00</td>\n",
       "      <td>0</td>\n",
       "      <td>Санкт-Петербург</td>\n",
       "      <td>36353.0</td>\n",
       "      <td>11936.0</td>\n",
       "      <td>2</td>\n",
       "      <td>440.0</td>\n",
       "      <td>2</td>\n",
       "      <td>450.0</td>\n",
       "      <td>136</td>\n",
       "    </tr>\n",
       "    <tr>\n",
       "      <th>22590</th>\n",
       "      <td>16</td>\n",
       "      <td>6000000.0</td>\n",
       "      <td>55.0</td>\n",
       "      <td>2018-10-31</td>\n",
       "      <td>2</td>\n",
       "      <td>1.00</td>\n",
       "      <td>12</td>\n",
       "      <td>32.4</td>\n",
       "      <td>7</td>\n",
       "      <td>False</td>\n",
       "      <td>...</td>\n",
       "      <td>10.00</td>\n",
       "      <td>0</td>\n",
       "      <td>Санкт-Петербург</td>\n",
       "      <td>33053.0</td>\n",
       "      <td>14217.0</td>\n",
       "      <td>2</td>\n",
       "      <td>293.0</td>\n",
       "      <td>2</td>\n",
       "      <td>289.0</td>\n",
       "      <td>13</td>\n",
       "    </tr>\n",
       "  </tbody>\n",
       "</table>\n",
       "<p>5 rows × 22 columns</p>\n",
       "</div>"
      ],
      "text/plain": [
       "       total_images  last_price  total_area first_day_exposition  rooms  \\\n",
       "5712              5   1500000.0        42.8           2017-08-14      2   \n",
       "15061            19   5600000.0        56.4           2018-05-11      2   \n",
       "16934             5   4100000.0        40.0           2017-10-17      1   \n",
       "22309            20   5300000.0        45.0           2017-09-30      1   \n",
       "22590            16   6000000.0        55.0           2018-10-31      2   \n",
       "\n",
       "       ceiling_height  floors_total  living_area  floor  is_apartment  ...  \\\n",
       "5712             1.20             2         27.5      1         False  ...   \n",
       "15061            1.40            14         32.4      5         False  ...   \n",
       "16934            1.75            37         17.4      5         False  ...   \n",
       "22309            1.03            16         15.5     15         False  ...   \n",
       "22590            1.00            12         32.4      7         False  ...   \n",
       "\n",
       "       kitchen_area  balcony          locality_name  airports_nearest  \\\n",
       "5712           5.20        0  городской посёлок Мга               NaN   \n",
       "15061          9.10        2        Санкт-Петербург           14814.0   \n",
       "16934          8.34        0        Санкт-Петербург           18732.0   \n",
       "22309         30.00        0        Санкт-Петербург           36353.0   \n",
       "22590         10.00        0        Санкт-Петербург           33053.0   \n",
       "\n",
       "      cityCenters_nearest  parks_around3000  parks_nearest  ponds_around3000  \\\n",
       "5712                  NaN                 0            NaN                 0   \n",
       "15061             13610.0                 0            NaN                 0   \n",
       "16934             20444.0                 0            NaN                 3   \n",
       "22309             11936.0                 2          440.0                 2   \n",
       "22590             14217.0                 2          293.0                 2   \n",
       "\n",
       "       ponds_nearest  days_exposition  \n",
       "5712             NaN              248  \n",
       "15061            NaN              315  \n",
       "16934           80.0               71  \n",
       "22309          450.0              136  \n",
       "22590          289.0               13  \n",
       "\n",
       "[5 rows x 22 columns]"
      ]
     },
     "metadata": {},
     "output_type": "display_data"
    }
   ],
   "source": [
    "#display(data['ceiling_height'].describe()) #Метровые потолки? Кладовые под лестницей?\n",
    "display(data[data['ceiling_height'] < 2])\n",
    "#Объявления выглядят реальными, есть фотографии, соотношение комнат к общей площади нормальное\n",
    "data.loc[data['ceiling_height'] < 2, 'ceiling_height'] = data['ceiling_height'] + 1\n",
    "# Сошлемся на ошибку, добьём до 2 метров"
   ]
  },
  {
   "cell_type": "markdown",
   "metadata": {},
   "source": [
    "#### 2.3 Удаление дубликатов"
   ]
  },
  {
   "cell_type": "code",
   "execution_count": 13,
   "metadata": {
    "scrolled": false
   },
   "outputs": [
    {
     "name": "stdout",
     "output_type": "stream",
     "text": [
      "365\n"
     ]
    }
   ],
   "source": [
    "#data['locality_name'].unique()\n",
    "#data.groupby('locality_name')['locality_name'].count()\n",
    "print(len(data['locality_name'].unique()))\n",
    "data['locality_name'] = data['locality_name'].str.replace('посёлок', 'поселок')\n",
    "data['locality_name'] = data['locality_name'].str.replace('поселок городского типа', 'поселок')\n",
    "data['locality_name'] = data['locality_name'].str.replace('деревня', 'поселок')\n",
    "data['locality_name'] = data['locality_name'].str.replace('садовое товарищество', 'поселок')\n",
    "data['locality_name'] = data['locality_name'].str.replace('садоводческое некоммерческое товарищество', 'поселок')\n",
    "data['locality_name'] = data['locality_name'].str.replace('поселок при железнодорожной станции', 'поселок')\n",
    "data['locality_name'] = data['locality_name'].str.replace('поселок станции', 'поселок')\n",
    "data['locality_name'] = data['locality_name'].str.replace('городской поселок', 'поселок')\n",
    "data['locality_name'] = data['locality_name'].str.replace('ё', 'е')\n",
    "data['locality_name'] = data['locality_name'].str.lower()\n"
   ]
  },
  {
   "cell_type": "code",
   "execution_count": 14,
   "metadata": {
    "scrolled": true
   },
   "outputs": [
    {
     "name": "stdout",
     "output_type": "stream",
     "text": [
      "312\n",
      "['санкт-петербург' 'поселок шушары' 'поселок янино-1' 'поселок парголово'\n",
      " 'поселок мурино' 'ломоносов' 'сертолово' 'петергоф' 'пушкин'\n",
      " 'поселок кудрово' 'коммунар' 'колпино' 'поселок красный бор' 'гатчина'\n",
      " 'поселок федоровское' 'выборг' 'кронштадт' 'кировск'\n",
      " 'поселок новое девяткино' 'поселок металлострой' 'поселок лебяжье'\n",
      " 'поселок сиверский' 'поселок молодцово' 'поселок кузьмоловский'\n",
      " 'поселок новая ропша' 'павловск' 'поселок пикколово' 'всеволожск'\n",
      " 'волхов' 'кингисепп' 'приозерск' 'сестрорецк' 'поселок куттузи'\n",
      " 'поселок аннино' 'поселок ефимовский' 'поселок плодовое'\n",
      " 'поселок заклинье' 'поселок торковичи' 'поселок первомайское'\n",
      " 'красное село' 'поселок понтонный' 'сясьстрой' 'поселок старая'\n",
      " 'поселок лесколово' 'поселок новый свет' 'сланцы' 'село путилово'\n",
      " 'ивангород' 'мурино' 'шлиссельбург' 'никольское' 'зеленогорск'\n",
      " 'сосновый бор' 'поселок оржицы' 'поселок кальтино' 'кудрово'\n",
      " 'поселок романовка' 'поселок бугры' 'поселок рощино' 'кириши' 'луга'\n",
      " 'волосово' 'отрадное' 'село павлово' 'поселок оредеж' 'село копорье'\n",
      " 'поселок молодежное' 'тихвин' 'поселок победа' 'поселок нурма'\n",
      " 'поселок синявино' 'тосно' 'поселок стрельна' 'бокситогорск'\n",
      " 'поселок александровская' 'поселок лопухинка' 'пикалево'\n",
      " 'поселок терволово' 'поселок советский' 'подпорожье' 'поселок петровское'\n",
      " 'поселок токсово' 'поселок сельцо' 'поселок вырица' 'поселок кипень'\n",
      " 'поселок келози' 'поселок вартемяги' 'поселок тельмана'\n",
      " 'поселок севастьяново' 'поселок большая ижора' nan 'поселок павлово'\n",
      " 'поселок агалатово' 'поселок новогорелово' 'поселок лесогорский'\n",
      " 'поселок лаголово' 'поселок цвелодубово' 'поселок рахья'\n",
      " 'поселок белогорка' 'поселок заводской' 'поселок новоселье'\n",
      " 'поселок большие колпаны' 'поселок горбунки' 'поселок батово'\n",
      " 'поселок заневка' 'поселок иссад' 'приморск' 'поселок мистолово'\n",
      " 'новая ладога' 'поселок зимитицы' 'поселок барышево'\n",
      " 'поселок разметелево' 'поселок имени свердлова' 'поселок пеники'\n",
      " 'поселок рябово' 'поселок пудомяги' 'поселок корнево' 'поселок низино'\n",
      " 'поселок бегуницы' 'поселок поляны' 'поселок мга' 'поселок елизаветино'\n",
      " 'поселок кузнечное' 'поселок колтуши' 'поселок запорожское'\n",
      " 'поселок гостилицы' 'поселок малое карлино' 'поселок мичуринское'\n",
      " 'поселок имени морозова' 'поселок песочный' 'поселок сосново'\n",
      " 'поселок аро' 'поселок ильичево' 'поселок тайцы' 'поселок малое верево'\n",
      " 'поселок извара' 'поселок вещево' 'село паша' 'поселок калитино'\n",
      " 'поселок ульяновка' 'поселок чудской бор' 'поселок дубровка'\n",
      " 'поселок мины' 'поселок войсковицы' 'поселок коркино' 'поселок ропша'\n",
      " 'поселок приладожский' 'поселок щеглово' 'поселок гаврилово'\n",
      " 'лодейное поле' 'поселок рабитицы' 'поселок никольский'\n",
      " 'поселок кузьмолово' 'поселок малые колпаны' 'поселок петро-славянка'\n",
      " 'поселок назия' 'поселок репино' 'поселок углово'\n",
      " 'поселок старая малукса' 'поселок меньково' 'поселок старые бегуницы'\n",
      " 'поселок саперный' 'поселок семрино' 'поселок глажево'\n",
      " 'поселок кобринское' 'поселок гарболово' 'поселок юкки'\n",
      " 'поселок приветнинское' 'поселок мануйлово' 'поселок пчева'\n",
      " 'поселок цвылево' 'поселок мельниково' 'поселок пудость'\n",
      " 'поселок усть-луга' 'светогорск' 'любань' 'поселок селезнево'\n",
      " 'каменногорск' 'поселок кривко' 'поселок глебычево' 'поселок парицы'\n",
      " 'поселок жилпоселок' 'поселок войскорово' 'село никольское'\n",
      " 'поселок стеклянный' 'поселок важины' 'поселок мыза-ивановка'\n",
      " 'село русско-высоцкое' 'поселок форносово' 'село старая ладога'\n",
      " 'поселок житково' 'поселок виллози' 'поселок лампово' 'поселок шпаньково'\n",
      " 'поселок лаврики' 'поселок сумино' 'поселок возрождение'\n",
      " 'поселок старосиверская' 'поселок кикерино' 'поселок старое хинколово'\n",
      " 'поселок пригородный' 'поселок торфяное' 'поселок будогощь'\n",
      " 'поселок суходолье' 'поселок красная долина' 'поселок хапо-ое'\n",
      " 'поселок дружная горка' 'поселок лисий нос' 'поселок яльгелево'\n",
      " 'село рождествено' 'поселок старополье' 'поселок левашово'\n",
      " 'поселок сяськелево' 'поселок камышовка' 'поселок лесная поляна'\n",
      " 'поселок хязельки' 'поселок жилгородок' 'поселок ялгино'\n",
      " 'поселок новый учхоз' 'поселок гончарово' 'поселок почап'\n",
      " 'поселок саперное' 'поселок платформа 69-й километр' 'поселок каложицы'\n",
      " 'поселок фалилеево' 'поселок пельгора' 'поселок торошковичи'\n",
      " 'поселок белоостров' 'поселок алексеевка' 'поселок серебрянский'\n",
      " 'поселок лукаши' 'поселок тарасово' 'поселок кингисеппский'\n",
      " 'поселок ушаки' 'поселок котлы' 'поселок сижно' 'поселок торосово'\n",
      " 'поселок форт красная горка' 'поселок новолисино' 'поселок громово'\n",
      " 'поселок глинка' 'поселок старая пустошь' 'поселок коммунары'\n",
      " 'поселок починок' 'поселок вознесенье' 'поселок разбегаево'\n",
      " 'поселок гладкое' 'поселок тесово-4' 'поселок бор' 'поселок коробицыно'\n",
      " 'поселок большая вруда' 'поселок курковицы' 'поселок кобралово'\n",
      " 'поселок суоранда' 'поселок кондратьево' 'коттеджный поселок счастье'\n",
      " 'поселок любань' 'поселок реброво' 'поселок тойворово'\n",
      " 'поселок семиозерье' 'поселок лесное' 'поселок совхозный'\n",
      " 'поселок ленинское' 'поселок суйда' 'поселок нижние осельки'\n",
      " 'поселок свирь' 'поселок перово' 'высоцк' 'село шум' 'поселок котельский'\n",
      " 'поселок лужайка' 'поселок большая пустомержа' 'поселок красносельское'\n",
      " 'поселок вахнова кара' 'поселок пижма'\n",
      " 'коттеджный поселок кивеннапа север' 'поселок ромашки' 'поселок каськово'\n",
      " 'поселок куровицы' 'поселок плоское' 'поселок кирпичное'\n",
      " 'поселок ям-тесово' 'поселок раздолье' 'поселок терпилицы'\n",
      " 'поселок шугозеро' 'поселок ваганово' 'поселок пушное' 'поселок садко'\n",
      " 'поселок усть-ижора' 'поселок выскатка' 'поселок свирьстрой'\n",
      " 'поселок кисельня' 'поселок трубников бор' 'поселок высокоключевой'\n",
      " 'поселок пансионат зеленый бор' 'поселок ненимяки' 'поселок снегиревка'\n",
      " 'поселок рапполово' 'поселок пустынка' 'поселок большой сабск'\n",
      " 'поселок русско' 'поселок лупполово' 'поселок большое рейзино'\n",
      " 'поселок малая романовка' 'поселок дружноселье' 'поселок пчевжа'\n",
      " 'поселок володарское' 'поселок нижняя' 'коттеджный поселок лесное'\n",
      " 'поселок тихковицы' 'поселок борисова грива' 'поселок дзержинского']\n"
     ]
    }
   ],
   "source": [
    "print(len(data['locality_name'].unique()))\n",
    "print(data['locality_name'].unique())"
   ]
  },
  {
   "cell_type": "markdown",
   "metadata": {
    "scrolled": true
   },
   "source": [
    "Удалили `53` дубликата"
   ]
  },
  {
   "cell_type": "markdown",
   "metadata": {},
   "source": [
    "### 3. Посчитайте и добавьте в таблицу новые столбцы"
   ]
  },
  {
   "cell_type": "code",
   "execution_count": 15,
   "metadata": {},
   "outputs": [],
   "source": [
    "data['price_per_square_meter'] = round(data['last_price']/data['total_area'], 2) # Цена одного квадратного метра\n",
    "data['weekday'] = data['first_day_exposition'].dt.weekday # День недели публикации объявления\n",
    "data['month'] = data['first_day_exposition'].dt.month # Месяц публикации объявления\n",
    "data['year'] = data['first_day_exposition'].dt.year # Год публикации объявления\n",
    "# Тип этажа квартиры\n",
    "def floor_category(row):\n",
    "    floors_total = row['floors_total']\n",
    "    floor = row['floor']\n",
    "    if floor == 1:\n",
    "        return 'первый'\n",
    "    elif floor == floors_total:\n",
    "        return 'последний'\n",
    "    elif 1 < floor < floors_total:\n",
    "        return 'другой'\n",
    "data['floor_category'] = data.apply(floor_category, axis = 1)\n",
    "# Расстояние до центра города в Км, до целых значений\n",
    "# Была бы укрупненная группировка по районам/округам взял бы среднюю для заполнения пропусков, \n",
    "# не удаляя 5к пропусков использовал 'round(0)' для округления\n",
    "data['cityCenters_nearest_Km'] = (data['cityCenters_nearest']/1000).round(0)"
   ]
  },
  {
   "cell_type": "markdown",
   "metadata": {},
   "source": [
    "### 4. Проведите исследовательский анализ данных"
   ]
  },
  {
   "cell_type": "markdown",
   "metadata": {},
   "source": [
    "#### 4.1 Общая площадь"
   ]
  },
  {
   "cell_type": "code",
   "execution_count": 16,
   "metadata": {},
   "outputs": [
    {
     "data": {
      "text/plain": [
       "count    23613.00\n",
       "mean        60.34\n",
       "std         35.65\n",
       "min         12.00\n",
       "25%         40.00\n",
       "50%         52.00\n",
       "75%         69.80\n",
       "max        900.00\n",
       "Name: total_area, dtype: float64"
      ]
     },
     "execution_count": 16,
     "metadata": {},
     "output_type": "execute_result"
    }
   ],
   "source": [
    "data['total_area'].describe().round(2)"
   ]
  },
  {
   "cell_type": "code",
   "execution_count": 17,
   "metadata": {},
   "outputs": [
    {
     "data": {
      "image/png": "[encoded data removed]",
      "text/plain": [
       "<Figure size 1080x576 with 1 Axes>"
      ]
     },
     "metadata": {
      "needs_background": "light"
     },
     "output_type": "display_data"
    }
   ],
   "source": [
    "data.plot(y = 'total_area', kind = 'hist', bins = 250, grid=True, figsize = (15,8), range = (10,250));"
   ]
  },
  {
   "cell_type": "markdown",
   "metadata": {},
   "source": [
    "Минимальная площадь квартиры составляет 12 м2, максимальная 900 м2. В среднем площадь составляет 52 м2"
   ]
  },
  {
   "cell_type": "markdown",
   "metadata": {},
   "source": [
    "#### 4.2 Жилая площадь"
   ]
  },
  {
   "cell_type": "code",
   "execution_count": 18,
   "metadata": {},
   "outputs": [
    {
     "data": {
      "text/plain": [
       "count    23613.00\n",
       "mean        34.11\n",
       "std         21.18\n",
       "min          2.00\n",
       "25%         19.00\n",
       "50%         30.00\n",
       "75%         41.10\n",
       "max        409.70\n",
       "Name: living_area, dtype: float64"
      ]
     },
     "execution_count": 18,
     "metadata": {},
     "output_type": "execute_result"
    }
   ],
   "source": [
    "data['living_area'].describe().round(2)"
   ]
  },
  {
   "cell_type": "code",
   "execution_count": 19,
   "metadata": {
    "scrolled": false
   },
   "outputs": [
    {
     "data": {
      "image/png": "[encoded data removed]",
      "text/plain": [
       "<Figure size 1080x576 with 1 Axes>"
      ]
     },
     "metadata": {
      "needs_background": "light"
     },
     "output_type": "display_data"
    }
   ],
   "source": [
    "data.plot(y = 'living_area', kind = 'hist', bins = 150, grid=True, figsize = (15,8), range = (10,80));"
   ]
  },
  {
   "cell_type": "markdown",
   "metadata": {},
   "source": [
    "Минимальная жилая площадь составляет 2 м2, максимальная 409 м2. В среднем жилая площадь составляет 30 м2"
   ]
  },
  {
   "cell_type": "markdown",
   "metadata": {},
   "source": [
    "#### 4.3 Площадь кухни"
   ]
  },
  {
   "cell_type": "code",
   "execution_count": 20,
   "metadata": {},
   "outputs": [
    {
     "data": {
      "text/plain": [
       "count    23613.00\n",
       "mean        12.40\n",
       "std          7.99\n",
       "min          1.30\n",
       "25%          7.30\n",
       "50%         10.00\n",
       "75%         13.50\n",
       "max        112.00\n",
       "Name: kitchen_area, dtype: float64"
      ]
     },
     "execution_count": 20,
     "metadata": {},
     "output_type": "execute_result"
    }
   ],
   "source": [
    "data['kitchen_area'].describe().round(2)"
   ]
  },
  {
   "cell_type": "code",
   "execution_count": 21,
   "metadata": {},
   "outputs": [
    {
     "data": {
      "image/png": "[encoded data removed]",
      "text/plain": [
       "<Figure size 1080x576 with 1 Axes>"
      ]
     },
     "metadata": {
      "needs_background": "light"
     },
     "output_type": "display_data"
    }
   ],
   "source": [
    "data.plot(y = 'kitchen_area', kind = 'hist', bins = 100, grid=True, figsize = (15,8), range = (1,80));"
   ]
  },
  {
   "cell_type": "markdown",
   "metadata": {},
   "source": [
    "Минимальная площадь кухни составляет 1.3 м2, максимальная 112 м2. В среднем площадь кухни составляет 10 м2. Распределение Пуассона."
   ]
  },
  {
   "cell_type": "markdown",
   "metadata": {},
   "source": [
    "#### 4.4 Цена объекта"
   ]
  },
  {
   "cell_type": "code",
   "execution_count": 22,
   "metadata": {},
   "outputs": [
    {
     "name": "stdout",
     "output_type": "stream",
     "text": [
      "Минимальная цена:12,190.00\n",
      "Максимальная цена:763,000,000.00\n",
      "Средняя цена:6,540,555.46\n",
      "Медиана:4,650,000.00\n"
     ]
    },
    {
     "data": {
      "image/png": "[encoded data removed]",
      "text/plain": [
       "<Figure size 1080x576 with 1 Axes>"
      ]
     },
     "metadata": {
      "needs_background": "light"
     },
     "output_type": "display_data"
    }
   ],
   "source": [
    "data.plot(y = 'last_price', kind = 'hist', bins = 100, grid=True, figsize = (15,8), range = (1500000,20000000))\n",
    "print(f\"Минимальная цена:{data['last_price'].min():,.2f}\")\n",
    "print(f\"Максимальная цена:{data['last_price'].max():,.2f}\")\n",
    "print(f\"Средняя цена:{data['last_price'].mean():,.2f}\")\n",
    "print(f\"Медиана:{data['last_price'].median():,.2f}\")"
   ]
  },
  {
   "cell_type": "markdown",
   "metadata": {},
   "source": [
    "Средняя цена объекта составляет `6 500 млн. рублей`"
   ]
  },
  {
   "cell_type": "markdown",
   "metadata": {},
   "source": [
    "#### 4.5 Количество комнат"
   ]
  },
  {
   "cell_type": "code",
   "execution_count": 23,
   "metadata": {},
   "outputs": [
    {
     "data": {
      "text/plain": [
       "count    23613.00\n",
       "mean         5.88\n",
       "std          4.87\n",
       "min          1.00\n",
       "25%          2.00\n",
       "50%          4.00\n",
       "75%          8.00\n",
       "max         33.00\n",
       "Name: floor, dtype: float64"
      ]
     },
     "execution_count": 23,
     "metadata": {},
     "output_type": "execute_result"
    }
   ],
   "source": [
    "data['floor'].describe().round(2)"
   ]
  },
  {
   "cell_type": "code",
   "execution_count": 24,
   "metadata": {},
   "outputs": [
    {
     "data": {
      "image/png": "[encoded data removed]",
      "text/plain": [
       "<Figure size 1080x576 with 1 Axes>"
      ]
     },
     "metadata": {
      "needs_background": "light"
     },
     "output_type": "display_data"
    }
   ],
   "source": [
    "data.plot(y = 'floor', kind = 'hist', bins = 40, grid=True, figsize = (15,8), range = (1,25));"
   ]
  },
  {
   "cell_type": "markdown",
   "metadata": {},
   "source": [
    "Большинство из представленных квартир имеют 2 жилые комнаты"
   ]
  },
  {
   "cell_type": "markdown",
   "metadata": {},
   "source": [
    "#### 4.6 Высота потолков"
   ]
  },
  {
   "cell_type": "code",
   "execution_count": 25,
   "metadata": {},
   "outputs": [
    {
     "data": {
      "text/plain": [
       "count    23613.00\n",
       "mean         2.69\n",
       "std          0.24\n",
       "min          2.00\n",
       "25%          2.60\n",
       "50%          2.64\n",
       "75%          2.70\n",
       "max         10.00\n",
       "Name: ceiling_height, dtype: float64"
      ]
     },
     "execution_count": 25,
     "metadata": {},
     "output_type": "execute_result"
    }
   ],
   "source": [
    "data['ceiling_height'].describe().round(2)"
   ]
  },
  {
   "cell_type": "code",
   "execution_count": 26,
   "metadata": {},
   "outputs": [
    {
     "data": {
      "image/png": "[encoded data removed]",
      "text/plain": [
       "<Figure size 1080x576 with 1 Axes>"
      ]
     },
     "metadata": {
      "needs_background": "light"
     },
     "output_type": "display_data"
    }
   ],
   "source": [
    "data.plot(y = 'ceiling_height', kind = 'hist', bins = 8, grid=True, figsize = (15,8), range = (2,4));"
   ]
  },
  {
   "cell_type": "markdown",
   "metadata": {},
   "source": [
    "Средняя высота потолков составляет 2.65.\n",
    "\n",
    "Распределение Гаусса."
   ]
  },
  {
   "cell_type": "markdown",
   "metadata": {},
   "source": [
    "#### 4.7 Этаж квартиры"
   ]
  },
  {
   "cell_type": "code",
   "execution_count": 27,
   "metadata": {},
   "outputs": [
    {
     "data": {
      "text/plain": [
       "count    23613.00\n",
       "mean         5.88\n",
       "std          4.87\n",
       "min          1.00\n",
       "25%          2.00\n",
       "50%          4.00\n",
       "75%          8.00\n",
       "max         33.00\n",
       "Name: floor, dtype: float64"
      ]
     },
     "execution_count": 27,
     "metadata": {},
     "output_type": "execute_result"
    }
   ],
   "source": [
    "data['floor'].describe().round(2)"
   ]
  },
  {
   "cell_type": "code",
   "execution_count": 28,
   "metadata": {},
   "outputs": [
    {
     "data": {
      "image/png": "[encoded data removed]",
      "text/plain": [
       "<Figure size 1080x576 with 1 Axes>"
      ]
     },
     "metadata": {
      "needs_background": "light"
     },
     "output_type": "display_data"
    }
   ],
   "source": [
    "data.plot(y = 'floor', kind = 'hist', bins = 10, grid=True, figsize = (15,8), range = (1,33));"
   ]
  },
  {
   "cell_type": "markdown",
   "metadata": {},
   "source": [
    "Большинство представленных квартир находятся на 3/4 этаже"
   ]
  },
  {
   "cell_type": "markdown",
   "metadata": {},
   "source": [
    "#### 4.8 Тип этажа квартиры («первый», «последний», «другой»)"
   ]
  },
  {
   "cell_type": "code",
   "execution_count": 29,
   "metadata": {},
   "outputs": [
    {
     "data": {
      "text/html": [
       "<div>\n",
       "<style scoped>\n",
       "    .dataframe tbody tr th:only-of-type {\n",
       "        vertical-align: middle;\n",
       "    }\n",
       "\n",
       "    .dataframe tbody tr th {\n",
       "        vertical-align: top;\n",
       "    }\n",
       "\n",
       "    .dataframe thead th {\n",
       "        text-align: right;\n",
       "    }\n",
       "</style>\n",
       "<table border=\"1\" class=\"dataframe\">\n",
       "  <thead>\n",
       "    <tr style=\"text-align: right;\">\n",
       "      <th></th>\n",
       "      <th>count</th>\n",
       "      <th>mean</th>\n",
       "      <th>ratio</th>\n",
       "    </tr>\n",
       "    <tr>\n",
       "      <th>floor_category</th>\n",
       "      <th></th>\n",
       "      <th></th>\n",
       "      <th></th>\n",
       "    </tr>\n",
       "  </thead>\n",
       "  <tbody>\n",
       "    <tr>\n",
       "      <th>другой</th>\n",
       "      <td>17363</td>\n",
       "      <td>6.45</td>\n",
       "      <td>73.53</td>\n",
       "    </tr>\n",
       "    <tr>\n",
       "      <th>первый</th>\n",
       "      <td>2914</td>\n",
       "      <td>1.00</td>\n",
       "      <td>12.34</td>\n",
       "    </tr>\n",
       "    <tr>\n",
       "      <th>последний</th>\n",
       "      <td>3336</td>\n",
       "      <td>7.17</td>\n",
       "      <td>14.13</td>\n",
       "    </tr>\n",
       "  </tbody>\n",
       "</table>\n",
       "</div>"
      ],
      "text/plain": [
       "                count  mean  ratio\n",
       "floor_category                    \n",
       "другой          17363  6.45  73.53\n",
       "первый           2914  1.00  12.34\n",
       "последний        3336  7.17  14.13"
      ]
     },
     "execution_count": 29,
     "metadata": {},
     "output_type": "execute_result"
    }
   ],
   "source": [
    "floor_category_total = data.pivot_table(index='floor_category',values='floor',aggfunc=('count','mean'))\n",
    "floor_category_total['ratio'] = (floor_category_total['count']/floor_category_total['count'].sum()*100).round(2)\n",
    "floor_category_total.round(2)"
   ]
  },
  {
   "cell_type": "code",
   "execution_count": 30,
   "metadata": {
    "scrolled": true
   },
   "outputs": [
    {
     "data": {
      "image/png": "[encoded data removed]",
      "text/plain": [
       "<Figure size 720x360 with 1 Axes>"
      ]
     },
     "metadata": {},
     "output_type": "display_data"
    }
   ],
   "source": [
    "floor_category_total.plot(y='count', kind='pie',grid=True,autopct='%1.2f%%', figsize = (10,5));"
   ]
  },
  {
   "cell_type": "markdown",
   "metadata": {},
   "source": [
    "Большинство квартир находится в категории `другой` 73,53 %, на `первом` этаже располагается 12,34 % квартир, квартиры на `последнем` этаже составляют 14,13 %"
   ]
  },
  {
   "cell_type": "markdown",
   "metadata": {},
   "source": [
    "#### 4.9 Общее количество этажей в доме"
   ]
  },
  {
   "cell_type": "code",
   "execution_count": 31,
   "metadata": {},
   "outputs": [
    {
     "data": {
      "text/plain": [
       "count    23581.00\n",
       "mean        10.64\n",
       "std          6.53\n",
       "min          1.00\n",
       "25%          5.00\n",
       "50%          9.00\n",
       "75%         16.00\n",
       "max         29.00\n",
       "Name: floors_total, dtype: float64"
      ]
     },
     "execution_count": 31,
     "metadata": {},
     "output_type": "execute_result"
    }
   ],
   "source": [
    "data['floors_total'][data['floors_total']<30].describe().round(2)"
   ]
  },
  {
   "cell_type": "code",
   "execution_count": 32,
   "metadata": {},
   "outputs": [
    {
     "data": {
      "image/png": "[encoded data removed]",
      "text/plain": [
       "<Figure size 1080x576 with 1 Axes>"
      ]
     },
     "metadata": {
      "needs_background": "light"
     },
     "output_type": "display_data"
    }
   ],
   "source": [
    "data.plot(y = 'floors_total', kind = 'hist', bins = 30, grid=True, figsize = (15,8), range = (1,29));"
   ]
  },
  {
   "cell_type": "markdown",
   "metadata": {},
   "source": [
    "Большинство представленных квартир расположены в 5-ти и 9-ти этажных зданиях"
   ]
  },
  {
   "cell_type": "markdown",
   "metadata": {},
   "source": [
    "#### 4.10 Расстояние до центра города в метрах"
   ]
  },
  {
   "cell_type": "code",
   "execution_count": 33,
   "metadata": {},
   "outputs": [
    {
     "data": {
      "text/plain": [
       "count    18104.00\n",
       "mean     14185.08\n",
       "std       8614.13\n",
       "min        181.00\n",
       "25%       9233.75\n",
       "50%      13093.00\n",
       "75%      16287.00\n",
       "max      65968.00\n",
       "Name: cityCenters_nearest, dtype: float64"
      ]
     },
     "execution_count": 33,
     "metadata": {},
     "output_type": "execute_result"
    }
   ],
   "source": [
    "data['cityCenters_nearest'].describe().round(2)"
   ]
  },
  {
   "cell_type": "code",
   "execution_count": 34,
   "metadata": {},
   "outputs": [
    {
     "data": {
      "image/png": "[encoded data removed]",
      "text/plain": [
       "<Figure size 1080x576 with 1 Axes>"
      ]
     },
     "metadata": {
      "needs_background": "light"
     },
     "output_type": "display_data"
    }
   ],
   "source": [
    "data.plot(y = 'cityCenters_nearest', kind = 'hist', bins = 50, grid=True, figsize = (15,8), range = (180,65000));"
   ]
  },
  {
   "cell_type": "markdown",
   "metadata": {},
   "source": [
    "Средняя отдаленность от центра города составляет 13000 м. Распределение Пуассона."
   ]
  },
  {
   "cell_type": "markdown",
   "metadata": {},
   "source": [
    "#### 4.11 Расстояние до ближайшего аэропорта"
   ]
  },
  {
   "cell_type": "code",
   "execution_count": 35,
   "metadata": {},
   "outputs": [
    {
     "data": {
      "text/plain": [
       "count    18081.00\n",
       "mean     28788.01\n",
       "std      12626.21\n",
       "min          0.00\n",
       "25%      18575.00\n",
       "50%      26726.00\n",
       "75%      37242.00\n",
       "max      84869.00\n",
       "Name: airports_nearest, dtype: float64"
      ]
     },
     "execution_count": 35,
     "metadata": {},
     "output_type": "execute_result"
    }
   ],
   "source": [
    "data['airports_nearest'].describe().round(2)"
   ]
  },
  {
   "cell_type": "code",
   "execution_count": 36,
   "metadata": {},
   "outputs": [
    {
     "data": {
      "image/png": "[encoded data removed]",
      "text/plain": [
       "<Figure size 1080x576 with 1 Axes>"
      ]
     },
     "metadata": {
      "needs_background": "light"
     },
     "output_type": "display_data"
    }
   ],
   "source": [
    "data.plot(y = 'airports_nearest', kind = 'hist', bins = 30, grid=True, figsize = (15,8), range = (180,60000));"
   ]
  },
  {
   "cell_type": "markdown",
   "metadata": {},
   "source": [
    "Средняя отдаленность от ближайшего аэропорта города составляет 26800 м. Распределение Гаусса."
   ]
  },
  {
   "cell_type": "markdown",
   "metadata": {},
   "source": [
    "#### 4.12 Расстояние до ближайшего парка"
   ]
  },
  {
   "cell_type": "code",
   "execution_count": 37,
   "metadata": {},
   "outputs": [
    {
     "data": {
      "text/plain": [
       "count    8045.00\n",
       "mean      490.55\n",
       "std       341.34\n",
       "min         1.00\n",
       "25%       288.00\n",
       "50%       455.00\n",
       "75%       612.00\n",
       "max      3190.00\n",
       "Name: parks_nearest, dtype: float64"
      ]
     },
     "execution_count": 37,
     "metadata": {},
     "output_type": "execute_result"
    }
   ],
   "source": [
    "data['parks_nearest'].describe().round(2)"
   ]
  },
  {
   "cell_type": "code",
   "execution_count": 38,
   "metadata": {},
   "outputs": [
    {
     "data": {
      "image/png": "[encoded data removed]",
      "text/plain": [
       "<Figure size 1080x576 with 1 Axes>"
      ]
     },
     "metadata": {
      "needs_background": "light"
     },
     "output_type": "display_data"
    }
   ],
   "source": [
    "data.plot(y = 'parks_nearest', kind = 'hist', bins = 50, grid=True, figsize = (15,8), range = (1,3190));"
   ]
  },
  {
   "cell_type": "markdown",
   "metadata": {},
   "source": [
    "Средняя отдаленность от ближайшего парка составляет 450 м. Распределение Пуассона."
   ]
  },
  {
   "cell_type": "markdown",
   "metadata": {},
   "source": [
    "#### 4.13 День и месяц публикации объявления"
   ]
  },
  {
   "cell_type": "code",
   "execution_count": 39,
   "metadata": {},
   "outputs": [
    {
     "data": {
      "image/png": "[encoded data removed]",
      "text/plain": [
       "<Figure size 1080x576 with 1 Axes>"
      ]
     },
     "metadata": {
      "needs_background": "light"
     },
     "output_type": "display_data"
    },
    {
     "data": {
      "image/png": "[encoded data removed]",
      "text/plain": [
       "<Figure size 1080x576 with 1 Axes>"
      ]
     },
     "metadata": {
      "needs_background": "light"
     },
     "output_type": "display_data"
    }
   ],
   "source": [
    "weekday_count = data.pivot_table(index='weekday',values='floor',aggfunc=('count'))\n",
    "month_count = data.pivot_table(index='month',values='floor',aggfunc=('count'))\n",
    "weekday_count.columns=['count']\n",
    "\n",
    "month_count.columns=['count']\n",
    "month_count.plot(grid=True,figsize = (15,8))\n",
    "weekday_count.plot(grid=True,figsize = (15,8));"
   ]
  },
  {
   "cell_type": "markdown",
   "metadata": {},
   "source": [
    "Наибольшее число объявлений публикуется со вторника по пятницу, пиковыми месяцами публикации объявлений являлись февраль, март и ноябрь"
   ]
  },
  {
   "cell_type": "markdown",
   "metadata": {},
   "source": [
    "### 5. Изучите, как быстро продавались квартиры"
   ]
  },
  {
   "cell_type": "markdown",
   "metadata": {},
   "source": [
    "#### 5.1 Строим гистограмму"
   ]
  },
  {
   "cell_type": "code",
   "execution_count": 40,
   "metadata": {},
   "outputs": [
    {
     "name": "stdout",
     "output_type": "stream",
     "text": [
      "count    20440.000000\n",
      "mean       180.816389\n",
      "std        219.472824\n",
      "min          1.000000\n",
      "25%         45.000000\n",
      "50%         95.000000\n",
      "75%        232.000000\n",
      "max       1572.000000\n",
      "Name: days_exposition, dtype: float64\n"
     ]
    }
   ],
   "source": [
    "print(data[(data['days_exposition'] > 0) & (data['days_exposition'] < 1580)]['days_exposition'].describe())"
   ]
  },
  {
   "cell_type": "code",
   "execution_count": 41,
   "metadata": {},
   "outputs": [],
   "source": [
    "tru_days_exposition = data[(data['days_exposition'] != 45) & (data['days_exposition'] != 60) & (data['days_exposition'] != 0)]"
   ]
  },
  {
   "cell_type": "code",
   "execution_count": 42,
   "metadata": {},
   "outputs": [
    {
     "name": "stdout",
     "output_type": "stream",
     "text": [
      "count    19023.000000\n",
      "mean       190.589655\n",
      "std        224.716959\n",
      "min          1.000000\n",
      "25%         42.000000\n",
      "50%        108.000000\n",
      "75%        250.000000\n",
      "max       1580.000000\n",
      "Name: days_exposition, dtype: float64\n"
     ]
    }
   ],
   "source": [
    "print(tru_days_exposition['days_exposition'].describe())"
   ]
  },
  {
   "cell_type": "code",
   "execution_count": 43,
   "metadata": {},
   "outputs": [
    {
     "data": {
      "image/png": "[encoded data removed]",
      "text/plain": [
       "<Figure size 1080x576 with 1 Axes>"
      ]
     },
     "metadata": {
      "needs_background": "light"
     },
     "output_type": "display_data"
    },
    {
     "data": {
      "image/png": "[encoded data removed]",
      "text/plain": [
       "<Figure size 1080x576 with 1 Axes>"
      ]
     },
     "metadata": {
      "needs_background": "light"
     },
     "output_type": "display_data"
    },
    {
     "data": {
      "image/png": "[encoded data removed]",
      "text/plain": [
       "<Figure size 1080x576 with 1 Axes>"
      ]
     },
     "metadata": {
      "needs_background": "light"
     },
     "output_type": "display_data"
    }
   ],
   "source": [
    "data.plot(y = 'days_exposition', kind = 'hist', bins = 30, grid = True, figsize = (15,8), range = (0,1580))\n",
    "data.plot(y = 'days_exposition', kind = 'hist', bins = 90, grid = True, figsize = (15,8), range = (1,80))\n",
    "data.plot(y = 'days_exposition', kind = 'hist', bins = 30, grid = True, figsize = (15,8), range = (200,900));"
   ]
  },
  {
   "cell_type": "code",
   "execution_count": 44,
   "metadata": {},
   "outputs": [
    {
     "data": {
      "image/png": "[encoded data removed]",
      "text/plain": [
       "<Figure size 1080x576 with 1 Axes>"
      ]
     },
     "metadata": {
      "needs_background": "light"
     },
     "output_type": "display_data"
    }
   ],
   "source": [
    "tru_days_exposition.plot(y = 'days_exposition', kind = 'hist', bins = 90, grid = True, figsize = (15,8), range = (1,80));"
   ]
  },
  {
   "cell_type": "markdown",
   "metadata": {},
   "source": [
    "В среднем квартиры продаются от 45 до 90 дней, быстрыми продажами можно считать продажи до 50 дней, долгие продажи от 200 до 500 дней, необычно долгие продажи от 500 до 1580 дней. Необычно много продаж на 45 и 60 день публикации"
   ]
  },
  {
   "cell_type": "markdown",
   "metadata": {},
   "source": [
    "### 6. Факторы влияющие на стоимость объекта "
   ]
  },
  {
   "cell_type": "markdown",
   "metadata": {},
   "source": [
    "#### 6.1 Зависит ли цена от общей площади"
   ]
  },
  {
   "cell_type": "code",
   "execution_count": 45,
   "metadata": {},
   "outputs": [
    {
     "data": {
      "text/plain": [
       "0.6535810085611218"
      ]
     },
     "execution_count": 45,
     "metadata": {},
     "output_type": "execute_result"
    }
   ],
   "source": [
    "data['total_area'].corr(data['last_price'])"
   ]
  },
  {
   "cell_type": "code",
   "execution_count": 46,
   "metadata": {
    "scrolled": true
   },
   "outputs": [
    {
     "data": {
      "image/png": "[encoded data removed]",
      "text/plain": [
       "<Figure size 720x360 with 1 Axes>"
      ]
     },
     "metadata": {
      "needs_background": "light"
     },
     "output_type": "display_data"
    }
   ],
   "source": [
    "(\n",
    "data.pivot_table(index = 'total_area', values = 'last_price', aggfunc = ['mean', 'median'])\n",
    ".plot(y='median',style = 'o',alpha =0.4, grid = True , figsize=(10,5))\n",
    ");"
   ]
  },
  {
   "cell_type": "markdown",
   "metadata": {},
   "source": [
    "Слабая свзяь, с ростом общей площади цена увеличивается незначительно"
   ]
  },
  {
   "cell_type": "markdown",
   "metadata": {},
   "source": [
    "#### 6.2 Зависит ли цена от жилой площади"
   ]
  },
  {
   "cell_type": "code",
   "execution_count": 47,
   "metadata": {},
   "outputs": [
    {
     "data": {
      "text/plain": [
       "0.5406082290786978"
      ]
     },
     "execution_count": 47,
     "metadata": {},
     "output_type": "execute_result"
    }
   ],
   "source": [
    "data['living_area'].corr(data['last_price'])"
   ]
  },
  {
   "cell_type": "code",
   "execution_count": 48,
   "metadata": {
    "scrolled": true
   },
   "outputs": [
    {
     "data": {
      "image/png": "[encoded data removed]",
      "text/plain": [
       "<Figure size 720x360 with 1 Axes>"
      ]
     },
     "metadata": {
      "needs_background": "light"
     },
     "output_type": "display_data"
    }
   ],
   "source": [
    "(\n",
    "data.pivot_table(index = 'living_area', values = 'last_price', aggfunc = ['mean', 'median'])\n",
    ".plot(y='median',style = 'o',alpha =0.4, grid = True , figsize=(10,5))\n",
    ");"
   ]
  },
  {
   "cell_type": "markdown",
   "metadata": {},
   "source": [
    "Слабая свзяь, с ростом жилой площади цена увеличивается незначительно"
   ]
  },
  {
   "cell_type": "markdown",
   "metadata": {},
   "source": [
    "#### 6.3 Зависит ли цена от площади кухни"
   ]
  },
  {
   "cell_type": "code",
   "execution_count": 49,
   "metadata": {},
   "outputs": [
    {
     "data": {
      "text/plain": [
       "0.31039222735521754"
      ]
     },
     "execution_count": 49,
     "metadata": {},
     "output_type": "execute_result"
    }
   ],
   "source": [
    "data['kitchen_area'].corr(data['last_price'])"
   ]
  },
  {
   "cell_type": "code",
   "execution_count": 50,
   "metadata": {},
   "outputs": [
    {
     "data": {
      "image/png": "[encoded data removed]",
      "text/plain": [
       "<Figure size 720x360 with 1 Axes>"
      ]
     },
     "metadata": {
      "needs_background": "light"
     },
     "output_type": "display_data"
    }
   ],
   "source": [
    "(\n",
    "data.pivot_table(index = 'kitchen_area', values = 'last_price', aggfunc = ['mean', 'median'])\n",
    ".plot(y='median',style = 'o',alpha =0.4, grid = True , figsize=(10,5))\n",
    ");"
   ]
  },
  {
   "cell_type": "markdown",
   "metadata": {},
   "source": [
    "Слабая свзяь, с ростом площади кухни цена увеличивается незначительно"
   ]
  },
  {
   "cell_type": "markdown",
   "metadata": {},
   "source": [
    "#### 6.4 Зависит ли цена от количества комнат"
   ]
  },
  {
   "cell_type": "code",
   "execution_count": 51,
   "metadata": {},
   "outputs": [
    {
     "data": {
      "text/plain": [
       "0.36312416659845503"
      ]
     },
     "execution_count": 51,
     "metadata": {},
     "output_type": "execute_result"
    }
   ],
   "source": [
    "data['rooms'].corr(data['last_price'])"
   ]
  },
  {
   "cell_type": "code",
   "execution_count": 52,
   "metadata": {
    "scrolled": true
   },
   "outputs": [
    {
     "data": {
      "image/png": "[encoded data removed]",
      "text/plain": [
       "<Figure size 720x360 with 1 Axes>"
      ]
     },
     "metadata": {
      "needs_background": "light"
     },
     "output_type": "display_data"
    }
   ],
   "source": [
    "(\n",
    "data.pivot_table(index = 'rooms', values = 'last_price', aggfunc = ['mean', 'median'])\n",
    ".plot(y='median',style = 'o-', grid = True , figsize=(10,5))\n",
    ");"
   ]
  },
  {
   "cell_type": "markdown",
   "metadata": {},
   "source": [
    "Слабая связь, с ростом количества комнат цена увеличивается незначительно"
   ]
  },
  {
   "cell_type": "markdown",
   "metadata": {},
   "source": [
    "#### 6.5 Зависит ли цена от этажа, на котором расположена квартира (первый, последний, другой)"
   ]
  },
  {
   "cell_type": "code",
   "execution_count": 53,
   "metadata": {},
   "outputs": [
    {
     "data": {
      "text/html": [
       "<div>\n",
       "<style scoped>\n",
       "    .dataframe tbody tr th:only-of-type {\n",
       "        vertical-align: middle;\n",
       "    }\n",
       "\n",
       "    .dataframe tbody tr th {\n",
       "        vertical-align: top;\n",
       "    }\n",
       "\n",
       "    .dataframe thead tr th {\n",
       "        text-align: left;\n",
       "    }\n",
       "\n",
       "    .dataframe thead tr:last-of-type th {\n",
       "        text-align: right;\n",
       "    }\n",
       "</style>\n",
       "<table border=\"1\" class=\"dataframe\">\n",
       "  <thead>\n",
       "    <tr>\n",
       "      <th></th>\n",
       "      <th>mean</th>\n",
       "      <th>median</th>\n",
       "    </tr>\n",
       "    <tr>\n",
       "      <th></th>\n",
       "      <th>last_price</th>\n",
       "      <th>last_price</th>\n",
       "    </tr>\n",
       "    <tr>\n",
       "      <th>floor_category</th>\n",
       "      <th></th>\n",
       "      <th></th>\n",
       "    </tr>\n",
       "  </thead>\n",
       "  <tbody>\n",
       "    <tr>\n",
       "      <th>другой</th>\n",
       "      <td>6674074.18</td>\n",
       "      <td>4850000.0</td>\n",
       "    </tr>\n",
       "    <tr>\n",
       "      <th>первый</th>\n",
       "      <td>4805699.09</td>\n",
       "      <td>3900000.0</td>\n",
       "    </tr>\n",
       "    <tr>\n",
       "      <th>последний</th>\n",
       "      <td>7361024.84</td>\n",
       "      <td>4300000.0</td>\n",
       "    </tr>\n",
       "  </tbody>\n",
       "</table>\n",
       "</div>"
      ],
      "text/plain": [
       "                      mean     median\n",
       "                last_price last_price\n",
       "floor_category                       \n",
       "другой          6674074.18  4850000.0\n",
       "первый          4805699.09  3900000.0\n",
       "последний       7361024.84  4300000.0"
      ]
     },
     "execution_count": 53,
     "metadata": {},
     "output_type": "execute_result"
    }
   ],
   "source": [
    "round((data.pivot_table(index = 'floor_category', values = 'last_price', aggfunc = ['mean', 'median'])),2)"
   ]
  },
  {
   "cell_type": "code",
   "execution_count": 54,
   "metadata": {
    "scrolled": true
   },
   "outputs": [
    {
     "data": {
      "image/png": "[encoded data removed]",
      "text/plain": [
       "<Figure size 720x360 with 1 Axes>"
      ]
     },
     "metadata": {
      "needs_background": "light"
     },
     "output_type": "display_data"
    }
   ],
   "source": [
    "(\n",
    "data.pivot_table(index = 'floor_category', values = 'last_price', aggfunc = ['mean', 'median'])\n",
    ".plot(y='median',style = 'o-', grid = True , figsize=(10,5))\n",
    ");"
   ]
  },
  {
   "cell_type": "markdown",
   "metadata": {},
   "source": [
    "Наиболее дешевые квартиры находятся на первом этаже, самые дорогие на любом кроме первого и последнего этажах"
   ]
  },
  {
   "cell_type": "markdown",
   "metadata": {},
   "source": [
    "#### 6.6 Зависит ли цена от даты размещения (день недели, месяц, год)"
   ]
  },
  {
   "cell_type": "code",
   "execution_count": 55,
   "metadata": {
    "scrolled": true
   },
   "outputs": [
    {
     "data": {
      "image/png": "[encoded data removed]",
      "text/plain": [
       "<Figure size 720x360 with 1 Axes>"
      ]
     },
     "metadata": {
      "needs_background": "light"
     },
     "output_type": "display_data"
    }
   ],
   "source": [
    "(\n",
    "data.pivot_table(index = ['weekday'], values = 'last_price', aggfunc = ['mean', 'median','count'])\n",
    ".plot(y=['median'],style = 'o-', grid = True , figsize=(10,5))\n",
    ");"
   ]
  },
  {
   "cell_type": "code",
   "execution_count": 56,
   "metadata": {},
   "outputs": [
    {
     "data": {
      "image/png": "[encoded data removed]",
      "text/plain": [
       "<Figure size 720x360 with 1 Axes>"
      ]
     },
     "metadata": {
      "needs_background": "light"
     },
     "output_type": "display_data"
    }
   ],
   "source": [
    "(\n",
    "data.pivot_table(index = ['month'], values = 'last_price', aggfunc = ['mean', 'median','count'])\n",
    ".plot(y=['median'],style = 'o-', grid = True , figsize=(10,5))\n",
    ");"
   ]
  },
  {
   "cell_type": "code",
   "execution_count": 57,
   "metadata": {
    "scrolled": true
   },
   "outputs": [
    {
     "data": {
      "image/png": "[encoded data removed]",
      "text/plain": [
       "<Figure size 720x360 with 1 Axes>"
      ]
     },
     "metadata": {
      "needs_background": "light"
     },
     "output_type": "display_data"
    }
   ],
   "source": [
    "(\n",
    "data.pivot_table(index = ['year'], values = 'last_price', aggfunc = ['mean', 'median','count'])\n",
    ".plot(y=['median'],style = 'o-', grid = True , figsize=(10,5))\n",
    ");"
   ]
  },
  {
   "cell_type": "markdown",
   "metadata": {},
   "source": [
    "Самые дешевые объявления в выборке по дням недели публикуются в субботу. В выборке по месяцам самые выгодные объявления публиковались в мае, июне. В период 2014-2016 годов наблюдалось резкое снижение стоимости квартир"
   ]
  },
  {
   "cell_type": "markdown",
   "metadata": {},
   "source": [
    "### 7. Посчитайте среднюю цену одного квадратного метра в 10 населённых пунктах с наибольшим числом объявлений. Выделите населённые пункты с самой высокой и низкой стоимостью квадратного метра."
   ]
  },
  {
   "cell_type": "code",
   "execution_count": 58,
   "metadata": {},
   "outputs": [],
   "source": [
    "data_top10 = data.pivot_table(index='locality_name',values = 'price_per_square_meter', aggfunc = ['count','mean'])\n",
    "data_top10.columns = ['count', 'mean']\n",
    "data_top10 = data_top10.sort_values('count', ascending = False).head(10)"
   ]
  },
  {
   "cell_type": "code",
   "execution_count": 59,
   "metadata": {},
   "outputs": [
    {
     "data": {
      "text/html": [
       "<div>\n",
       "<style scoped>\n",
       "    .dataframe tbody tr th:only-of-type {\n",
       "        vertical-align: middle;\n",
       "    }\n",
       "\n",
       "    .dataframe tbody tr th {\n",
       "        vertical-align: top;\n",
       "    }\n",
       "\n",
       "    .dataframe thead th {\n",
       "        text-align: right;\n",
       "    }\n",
       "</style>\n",
       "<table border=\"1\" class=\"dataframe\">\n",
       "  <thead>\n",
       "    <tr style=\"text-align: right;\">\n",
       "      <th></th>\n",
       "      <th>count</th>\n",
       "      <th>mean</th>\n",
       "    </tr>\n",
       "    <tr>\n",
       "      <th>locality_name</th>\n",
       "      <th></th>\n",
       "      <th></th>\n",
       "    </tr>\n",
       "  </thead>\n",
       "  <tbody>\n",
       "    <tr>\n",
       "      <th>санкт-петербург</th>\n",
       "      <td>15651</td>\n",
       "      <td>114868.88</td>\n",
       "    </tr>\n",
       "    <tr>\n",
       "      <th>выборг</th>\n",
       "      <td>237</td>\n",
       "      <td>58141.91</td>\n",
       "    </tr>\n",
       "  </tbody>\n",
       "</table>\n",
       "</div>"
      ],
      "text/plain": [
       "                 count       mean\n",
       "locality_name                    \n",
       "санкт-петербург  15651  114868.88\n",
       "выборг             237   58141.91"
      ]
     },
     "metadata": {},
     "output_type": "display_data"
    }
   ],
   "source": [
    "display(data_top10[(data_top10['mean'] == data_top10['mean'].max()) | (data_top10['mean'] == data_top10['mean'].min())].round(2))"
   ]
  },
  {
   "cell_type": "code",
   "execution_count": 60,
   "metadata": {},
   "outputs": [
    {
     "data": {
      "text/html": [
       "<div>\n",
       "<style scoped>\n",
       "    .dataframe tbody tr th:only-of-type {\n",
       "        vertical-align: middle;\n",
       "    }\n",
       "\n",
       "    .dataframe tbody tr th {\n",
       "        vertical-align: top;\n",
       "    }\n",
       "\n",
       "    .dataframe thead th {\n",
       "        text-align: right;\n",
       "    }\n",
       "</style>\n",
       "<table border=\"1\" class=\"dataframe\">\n",
       "  <thead>\n",
       "    <tr style=\"text-align: right;\">\n",
       "      <th></th>\n",
       "      <th>count</th>\n",
       "      <th>mean</th>\n",
       "    </tr>\n",
       "    <tr>\n",
       "      <th>locality_name</th>\n",
       "      <th></th>\n",
       "      <th></th>\n",
       "    </tr>\n",
       "  </thead>\n",
       "  <tbody>\n",
       "    <tr>\n",
       "      <th>санкт-петербург</th>\n",
       "      <td>15651</td>\n",
       "      <td>114868.88</td>\n",
       "    </tr>\n",
       "    <tr>\n",
       "      <th>поселок мурино</th>\n",
       "      <td>552</td>\n",
       "      <td>85629.57</td>\n",
       "    </tr>\n",
       "    <tr>\n",
       "      <th>поселок шушары</th>\n",
       "      <td>439</td>\n",
       "      <td>78551.34</td>\n",
       "    </tr>\n",
       "    <tr>\n",
       "      <th>всеволожск</th>\n",
       "      <td>398</td>\n",
       "      <td>68654.47</td>\n",
       "    </tr>\n",
       "    <tr>\n",
       "      <th>пушкин</th>\n",
       "      <td>369</td>\n",
       "      <td>103125.82</td>\n",
       "    </tr>\n",
       "    <tr>\n",
       "      <th>колпино</th>\n",
       "      <td>338</td>\n",
       "      <td>75424.58</td>\n",
       "    </tr>\n",
       "    <tr>\n",
       "      <th>поселок парголово</th>\n",
       "      <td>327</td>\n",
       "      <td>90175.91</td>\n",
       "    </tr>\n",
       "    <tr>\n",
       "      <th>гатчина</th>\n",
       "      <td>307</td>\n",
       "      <td>68746.15</td>\n",
       "    </tr>\n",
       "    <tr>\n",
       "      <th>поселок кудрово</th>\n",
       "      <td>299</td>\n",
       "      <td>92473.55</td>\n",
       "    </tr>\n",
       "    <tr>\n",
       "      <th>выборг</th>\n",
       "      <td>237</td>\n",
       "      <td>58141.91</td>\n",
       "    </tr>\n",
       "  </tbody>\n",
       "</table>\n",
       "</div>"
      ],
      "text/plain": [
       "                   count       mean\n",
       "locality_name                      \n",
       "санкт-петербург    15651  114868.88\n",
       "поселок мурино       552   85629.57\n",
       "поселок шушары       439   78551.34\n",
       "всеволожск           398   68654.47\n",
       "пушкин               369  103125.82\n",
       "колпино              338   75424.58\n",
       "поселок парголово    327   90175.91\n",
       "гатчина              307   68746.15\n",
       "поселок кудрово      299   92473.55\n",
       "выборг               237   58141.91"
      ]
     },
     "metadata": {},
     "output_type": "display_data"
    }
   ],
   "source": [
    "display(data_top10.round(2))"
   ]
  },
  {
   "cell_type": "markdown",
   "metadata": {},
   "source": [
    "Самый дорогой м2 в выборке среди 10 населенных пунктов с наибольшим числом объявлений находится в Санкт-Петербурге, самый дешевый в Выборге"
   ]
  },
  {
   "cell_type": "markdown",
   "metadata": {},
   "source": [
    "### 8.  Выделите квартиры в Санкт-Петербурге, вычислите среднюю цену каждого километра. Как стоимость объектов зависит от расстояния до центра города."
   ]
  },
  {
   "cell_type": "code",
   "execution_count": 61,
   "metadata": {},
   "outputs": [
    {
     "data": {
      "image/png": "[encoded data removed]",
      "text/plain": [
       "<Figure size 720x360 with 1 Axes>"
      ]
     },
     "metadata": {
      "needs_background": "light"
     },
     "output_type": "display_data"
    }
   ],
   "source": [
    "pivot_table_km = data.query('locality_name == \"санкт-петербург\"').pivot_table(index ='cityCenters_nearest_Km', values = 'price_per_square_meter', aggfunc = 'mean')\n",
    "pivot_table_km\n",
    "pivot_table_km.plot(style = 'o-', grid = True , figsize=(10,5));"
   ]
  },
  {
   "cell_type": "markdown",
   "metadata": {},
   "source": [
    "Как и ожидалось пиковая стоимость за м2 наблюдается в радиусе 2 км от центра, в диапазоне от 2 до 7 км наблюдается рост стоимости м2, есть непонятный скачок стоимости м2 в радиусе 27 км от центра"
   ]
  },
  {
   "cell_type": "markdown",
   "metadata": {},
   "source": [
    "### Общий вывод"
   ]
  },
  {
   "cell_type": "markdown",
   "metadata": {},
   "source": [
    "1. В среднем площадь квартир составляет 52 м2, средняя жилая площадь составляет 31 м2, кухни 10 м2.\n",
    "2. Средняя цена квартир  6 500 000 рублей, наиболее дешевый м2 наблюдается у квартир находящихся на первом этаже, самый дорогой на любом кроме первого и последнего этажах, самый дорогой м2 в выборке среди 10 населенных пунктов с наибольшим числом объявлений находится в Санкт-Петербурге, самый дешевый в Выборге, пиковая стоимость за м2 наблюдается в радиусе 2 км от центра, в диапазоне от 2 до 7 км. Большинство представленных квартир имеют 2 жилые комнаты, высота потолков 2.77 м. Большинство квартир находятся на 3/4 этаже в 5-ти и 9-ти этажных МКД, в среднем отдаленность от центра города составляет 13000 м.\n",
    "3. Средняя отдаленность от ближайшего аэропорта города составляет 26800 м.\n",
    "4. Наибольшее число объявлений публикуется со вторника по пятницу, пиковыми месяцами публикации объявлений являлись февраль, март и ноябрь.\n",
    "5. В среднем квартиры продаются от 45 до 90 дней, необычно много продаж на 45 и 60 день публикации. если взять за основу что продажи на 45 и 60 день выбросы, то граница быстрых продаж сдвигается на неделю.  Цена квартиры незначительно коррелирует с общей площадью, жилой площадью, площадью кухни."
   ]
  }
 ],
 "metadata": {
  "ExecuteTimeLog": [
   {
    "duration": 503,
    "start_time": "2022-09-16T07:43:40.809Z"
   },
   {
    "duration": 82,
    "start_time": "2022-09-16T07:43:58.820Z"
   },
   {
    "duration": 81,
    "start_time": "2022-09-16T07:44:20.775Z"
   },
   {
    "duration": 89,
    "start_time": "2022-09-16T07:46:13.822Z"
   },
   {
    "duration": 363,
    "start_time": "2022-09-16T07:46:37.814Z"
   },
   {
    "duration": 96,
    "start_time": "2022-09-16T07:46:43.037Z"
   },
   {
    "duration": 83,
    "start_time": "2022-09-16T07:48:00.536Z"
   },
   {
    "duration": 83,
    "start_time": "2022-09-16T07:48:39.674Z"
   },
   {
    "duration": 90,
    "start_time": "2022-09-16T07:48:48.029Z"
   },
   {
    "duration": 80,
    "start_time": "2022-09-16T07:48:51.564Z"
   },
   {
    "duration": 83,
    "start_time": "2022-09-16T07:52:51.595Z"
   },
   {
    "duration": 83,
    "start_time": "2022-09-16T07:53:19.179Z"
   },
   {
    "duration": 92,
    "start_time": "2022-09-16T07:53:24.986Z"
   },
   {
    "duration": 473,
    "start_time": "2022-09-16T07:54:17.881Z"
   },
   {
    "duration": 85,
    "start_time": "2022-09-16T07:54:59.415Z"
   },
   {
    "duration": 93,
    "start_time": "2022-09-16T07:57:28.550Z"
   },
   {
    "duration": 42,
    "start_time": "2022-09-17T10:14:31.299Z"
   },
   {
    "duration": 482,
    "start_time": "2022-09-17T10:14:45.314Z"
   },
   {
    "duration": 1491,
    "start_time": "2022-09-17T10:14:45.798Z"
   },
   {
    "duration": 90,
    "start_time": "2022-09-17T10:21:43.719Z"
   },
   {
    "duration": 4,
    "start_time": "2022-09-17T10:22:20.910Z"
   },
   {
    "duration": 1922,
    "start_time": "2022-09-17T10:22:24.850Z"
   },
   {
    "duration": 103,
    "start_time": "2022-09-17T10:23:08.436Z"
   },
   {
    "duration": 88,
    "start_time": "2022-09-17T10:23:49.450Z"
   },
   {
    "duration": 489,
    "start_time": "2022-09-17T10:25:04.155Z"
   },
   {
    "duration": 12,
    "start_time": "2022-09-17T10:25:04.646Z"
   },
   {
    "duration": 2020,
    "start_time": "2022-09-17T10:25:04.659Z"
   },
   {
    "duration": 1767,
    "start_time": "2022-09-17T10:25:51.576Z"
   },
   {
    "duration": 9,
    "start_time": "2022-09-17T10:31:19.970Z"
   },
   {
    "duration": 458,
    "start_time": "2022-09-17T10:33:51.812Z"
   },
   {
    "duration": 12,
    "start_time": "2022-09-17T10:33:52.272Z"
   },
   {
    "duration": 1974,
    "start_time": "2022-09-17T10:33:52.286Z"
   },
   {
    "duration": 8,
    "start_time": "2022-09-17T10:33:54.261Z"
   },
   {
    "duration": 8,
    "start_time": "2022-09-17T10:35:38.290Z"
   },
   {
    "duration": 5,
    "start_time": "2022-09-17T10:38:45.152Z"
   },
   {
    "duration": 8,
    "start_time": "2022-09-17T10:38:51.036Z"
   },
   {
    "duration": 122,
    "start_time": "2022-09-17T10:42:21.129Z"
   },
   {
    "duration": 99,
    "start_time": "2022-09-17T10:42:29.709Z"
   },
   {
    "duration": 9,
    "start_time": "2022-09-17T10:43:50.500Z"
   },
   {
    "duration": 7,
    "start_time": "2022-09-17T10:43:57.502Z"
   },
   {
    "duration": 7,
    "start_time": "2022-09-17T10:44:59.948Z"
   },
   {
    "duration": 5,
    "start_time": "2022-09-17T10:45:15.236Z"
   },
   {
    "duration": 80,
    "start_time": "2022-09-17T10:45:50.643Z"
   },
   {
    "duration": 103,
    "start_time": "2022-09-17T10:46:18.869Z"
   },
   {
    "duration": 8,
    "start_time": "2022-09-17T10:47:07.737Z"
   },
   {
    "duration": 7,
    "start_time": "2022-09-17T10:47:21.213Z"
   },
   {
    "duration": 5,
    "start_time": "2022-09-17T10:48:04.772Z"
   },
   {
    "duration": 7,
    "start_time": "2022-09-17T10:49:41.188Z"
   },
   {
    "duration": 5,
    "start_time": "2022-09-17T10:49:45.379Z"
   },
   {
    "duration": 5,
    "start_time": "2022-09-17T10:49:57.137Z"
   },
   {
    "duration": 10,
    "start_time": "2022-09-17T10:50:07.891Z"
   },
   {
    "duration": 10,
    "start_time": "2022-09-17T10:50:13.387Z"
   },
   {
    "duration": 9,
    "start_time": "2022-09-17T10:53:45.428Z"
   },
   {
    "duration": 10,
    "start_time": "2022-09-17T10:53:49.905Z"
   },
   {
    "duration": 991,
    "start_time": "2022-09-17T11:01:40.133Z"
   },
   {
    "duration": 960,
    "start_time": "2022-09-17T11:03:52.742Z"
   },
   {
    "duration": 11,
    "start_time": "2022-09-17T11:04:53.195Z"
   },
   {
    "duration": 35,
    "start_time": "2022-09-17T11:05:09.212Z"
   },
   {
    "duration": 8,
    "start_time": "2022-09-17T11:05:40.217Z"
   },
   {
    "duration": 8,
    "start_time": "2022-09-17T11:07:33.181Z"
   },
   {
    "duration": 5,
    "start_time": "2022-09-17T11:24:17.218Z"
   },
   {
    "duration": 7,
    "start_time": "2022-09-17T11:24:50.535Z"
   },
   {
    "duration": 6,
    "start_time": "2022-09-17T11:25:18.228Z"
   },
   {
    "duration": 73,
    "start_time": "2022-09-17T11:25:30.914Z"
   },
   {
    "duration": 483,
    "start_time": "2022-09-20T07:18:29.049Z"
   },
   {
    "duration": 0,
    "start_time": "2022-09-20T07:18:29.534Z"
   },
   {
    "duration": 0,
    "start_time": "2022-09-20T07:18:29.535Z"
   },
   {
    "duration": 0,
    "start_time": "2022-09-20T07:18:29.536Z"
   },
   {
    "duration": 9,
    "start_time": "2022-09-20T07:18:29.630Z"
   },
   {
    "duration": 7,
    "start_time": "2022-09-20T07:18:29.750Z"
   },
   {
    "duration": 9,
    "start_time": "2022-09-20T07:18:29.949Z"
   },
   {
    "duration": 7,
    "start_time": "2022-09-20T07:18:30.009Z"
   },
   {
    "duration": 10,
    "start_time": "2022-09-20T07:18:30.269Z"
   },
   {
    "duration": 8,
    "start_time": "2022-09-20T07:18:30.329Z"
   },
   {
    "duration": 11,
    "start_time": "2022-09-20T07:18:30.410Z"
   },
   {
    "duration": 7,
    "start_time": "2022-09-20T07:18:30.470Z"
   },
   {
    "duration": 10,
    "start_time": "2022-09-20T07:18:30.591Z"
   },
   {
    "duration": 9,
    "start_time": "2022-09-20T07:18:31.021Z"
   },
   {
    "duration": 8,
    "start_time": "2022-09-20T07:18:31.051Z"
   },
   {
    "duration": 9,
    "start_time": "2022-09-20T07:18:31.079Z"
   },
   {
    "duration": 9,
    "start_time": "2022-09-20T07:18:31.127Z"
   },
   {
    "duration": 8,
    "start_time": "2022-09-20T07:18:31.151Z"
   },
   {
    "duration": 0,
    "start_time": "2022-09-20T07:18:31.161Z"
   },
   {
    "duration": 0,
    "start_time": "2022-09-20T07:18:31.162Z"
   },
   {
    "duration": 12,
    "start_time": "2022-09-20T07:18:31.164Z"
   },
   {
    "duration": 0,
    "start_time": "2022-09-20T07:18:31.177Z"
   },
   {
    "duration": 49,
    "start_time": "2022-09-20T07:18:31.179Z"
   },
   {
    "duration": 0,
    "start_time": "2022-09-20T07:18:31.230Z"
   },
   {
    "duration": 0,
    "start_time": "2022-09-20T07:18:31.231Z"
   },
   {
    "duration": 9,
    "start_time": "2022-09-20T07:18:31.328Z"
   },
   {
    "duration": 0,
    "start_time": "2022-09-20T07:18:31.338Z"
   },
   {
    "duration": 0,
    "start_time": "2022-09-20T07:18:31.340Z"
   },
   {
    "duration": 9,
    "start_time": "2022-09-20T07:18:31.405Z"
   },
   {
    "duration": 0,
    "start_time": "2022-09-20T07:18:31.416Z"
   },
   {
    "duration": 10,
    "start_time": "2022-09-20T07:18:31.507Z"
   },
   {
    "duration": 570,
    "start_time": "2022-09-20T07:18:50.169Z"
   },
   {
    "duration": 2511,
    "start_time": "2022-09-20T07:18:50.741Z"
   },
   {
    "duration": 16,
    "start_time": "2022-09-20T07:18:53.254Z"
   },
   {
    "duration": 8,
    "start_time": "2022-09-20T07:18:53.272Z"
   },
   {
    "duration": 27,
    "start_time": "2022-09-20T07:18:53.281Z"
   },
   {
    "duration": 76,
    "start_time": "2022-09-20T07:18:53.309Z"
   },
   {
    "duration": 0,
    "start_time": "2022-09-20T07:18:53.387Z"
   },
   {
    "duration": 0,
    "start_time": "2022-09-20T07:18:53.395Z"
   },
   {
    "duration": 0,
    "start_time": "2022-09-20T07:18:53.397Z"
   },
   {
    "duration": 0,
    "start_time": "2022-09-20T07:18:53.398Z"
   },
   {
    "duration": 0,
    "start_time": "2022-09-20T07:18:53.400Z"
   },
   {
    "duration": 0,
    "start_time": "2022-09-20T07:18:53.402Z"
   },
   {
    "duration": 0,
    "start_time": "2022-09-20T07:18:53.403Z"
   },
   {
    "duration": 0,
    "start_time": "2022-09-20T07:18:53.404Z"
   },
   {
    "duration": 0,
    "start_time": "2022-09-20T07:18:53.405Z"
   },
   {
    "duration": 0,
    "start_time": "2022-09-20T07:18:53.406Z"
   },
   {
    "duration": 0,
    "start_time": "2022-09-20T07:18:53.407Z"
   },
   {
    "duration": 0,
    "start_time": "2022-09-20T07:18:53.407Z"
   },
   {
    "duration": 0,
    "start_time": "2022-09-20T07:18:53.408Z"
   },
   {
    "duration": 0,
    "start_time": "2022-09-20T07:18:53.409Z"
   },
   {
    "duration": 0,
    "start_time": "2022-09-20T07:18:53.410Z"
   },
   {
    "duration": 0,
    "start_time": "2022-09-20T07:18:53.411Z"
   },
   {
    "duration": 0,
    "start_time": "2022-09-20T07:18:53.412Z"
   },
   {
    "duration": 0,
    "start_time": "2022-09-20T07:18:53.413Z"
   },
   {
    "duration": 0,
    "start_time": "2022-09-20T07:18:53.414Z"
   },
   {
    "duration": 0,
    "start_time": "2022-09-20T07:18:53.415Z"
   },
   {
    "duration": 0,
    "start_time": "2022-09-20T07:18:53.417Z"
   },
   {
    "duration": 0,
    "start_time": "2022-09-20T07:18:53.418Z"
   },
   {
    "duration": 0,
    "start_time": "2022-09-20T07:18:53.419Z"
   },
   {
    "duration": 0,
    "start_time": "2022-09-20T07:18:53.420Z"
   },
   {
    "duration": 0,
    "start_time": "2022-09-20T07:18:53.421Z"
   },
   {
    "duration": 107,
    "start_time": "2022-09-20T07:19:18.205Z"
   },
   {
    "duration": 4,
    "start_time": "2022-09-20T07:19:18.429Z"
   },
   {
    "duration": 319,
    "start_time": "2022-09-20T07:19:20.009Z"
   },
   {
    "duration": 663,
    "start_time": "2022-09-20T07:19:20.647Z"
   },
   {
    "duration": 429,
    "start_time": "2022-09-20T07:19:21.383Z"
   },
   {
    "duration": 356,
    "start_time": "2022-09-20T07:19:21.814Z"
   },
   {
    "duration": 371,
    "start_time": "2022-09-20T07:19:22.172Z"
   },
   {
    "duration": 268,
    "start_time": "2022-09-20T07:19:22.545Z"
   },
   {
    "duration": 224,
    "start_time": "2022-09-20T07:19:22.815Z"
   },
   {
    "duration": 307,
    "start_time": "2022-09-20T07:19:23.041Z"
   },
   {
    "duration": 201,
    "start_time": "2022-09-20T07:19:23.350Z"
   },
   {
    "duration": 237,
    "start_time": "2022-09-20T07:19:23.553Z"
   },
   {
    "duration": 278,
    "start_time": "2022-09-20T07:19:23.795Z"
   },
   {
    "duration": 242,
    "start_time": "2022-09-20T07:19:24.075Z"
   },
   {
    "duration": 250,
    "start_time": "2022-09-20T07:19:24.318Z"
   },
   {
    "duration": 377,
    "start_time": "2022-09-20T07:19:24.570Z"
   },
   {
    "duration": 474,
    "start_time": "2022-09-20T07:19:24.948Z"
   },
   {
    "duration": 179,
    "start_time": "2022-09-20T07:19:25.424Z"
   },
   {
    "duration": 294,
    "start_time": "2022-09-20T07:19:25.605Z"
   },
   {
    "duration": 171,
    "start_time": "2022-09-20T07:19:25.905Z"
   },
   {
    "duration": 181,
    "start_time": "2022-09-20T07:19:26.109Z"
   },
   {
    "duration": 195,
    "start_time": "2022-09-20T07:19:26.295Z"
   },
   {
    "duration": 611,
    "start_time": "2022-09-20T07:19:26.499Z"
   },
   {
    "duration": 30,
    "start_time": "2022-09-20T07:19:27.187Z"
   },
   {
    "duration": 184,
    "start_time": "2022-09-20T07:19:28.907Z"
   },
   {
    "duration": 62,
    "start_time": "2022-09-20T07:46:04.432Z"
   },
   {
    "duration": 725,
    "start_time": "2022-09-20T07:46:13.674Z"
   },
   {
    "duration": 2468,
    "start_time": "2022-09-20T07:46:14.401Z"
   },
   {
    "duration": 18,
    "start_time": "2022-09-20T07:46:16.871Z"
   },
   {
    "duration": 13,
    "start_time": "2022-09-20T07:46:16.891Z"
   },
   {
    "duration": 48,
    "start_time": "2022-09-20T07:46:16.907Z"
   },
   {
    "duration": 95,
    "start_time": "2022-09-20T07:46:16.956Z"
   },
   {
    "duration": 0,
    "start_time": "2022-09-20T07:46:17.054Z"
   },
   {
    "duration": 0,
    "start_time": "2022-09-20T07:46:17.056Z"
   },
   {
    "duration": 0,
    "start_time": "2022-09-20T07:46:17.057Z"
   },
   {
    "duration": 0,
    "start_time": "2022-09-20T07:46:17.059Z"
   },
   {
    "duration": 0,
    "start_time": "2022-09-20T07:46:17.061Z"
   },
   {
    "duration": 0,
    "start_time": "2022-09-20T07:46:17.062Z"
   },
   {
    "duration": 0,
    "start_time": "2022-09-20T07:46:17.064Z"
   },
   {
    "duration": 0,
    "start_time": "2022-09-20T07:46:17.066Z"
   },
   {
    "duration": 0,
    "start_time": "2022-09-20T07:46:17.067Z"
   },
   {
    "duration": 0,
    "start_time": "2022-09-20T07:46:17.069Z"
   },
   {
    "duration": 0,
    "start_time": "2022-09-20T07:46:17.070Z"
   },
   {
    "duration": 0,
    "start_time": "2022-09-20T07:46:17.071Z"
   },
   {
    "duration": 0,
    "start_time": "2022-09-20T07:46:17.073Z"
   },
   {
    "duration": 0,
    "start_time": "2022-09-20T07:46:17.075Z"
   },
   {
    "duration": 0,
    "start_time": "2022-09-20T07:46:17.077Z"
   },
   {
    "duration": 0,
    "start_time": "2022-09-20T07:46:17.078Z"
   },
   {
    "duration": 0,
    "start_time": "2022-09-20T07:46:17.080Z"
   },
   {
    "duration": 0,
    "start_time": "2022-09-20T07:46:17.081Z"
   },
   {
    "duration": 0,
    "start_time": "2022-09-20T07:46:17.083Z"
   },
   {
    "duration": 0,
    "start_time": "2022-09-20T07:46:17.084Z"
   },
   {
    "duration": 0,
    "start_time": "2022-09-20T07:46:17.085Z"
   },
   {
    "duration": 0,
    "start_time": "2022-09-20T07:46:17.135Z"
   },
   {
    "duration": 0,
    "start_time": "2022-09-20T07:46:17.136Z"
   },
   {
    "duration": 0,
    "start_time": "2022-09-20T07:46:17.137Z"
   },
   {
    "duration": 0,
    "start_time": "2022-09-20T07:46:17.138Z"
   },
   {
    "duration": 14,
    "start_time": "2022-09-20T07:50:36.600Z"
   },
   {
    "duration": 17,
    "start_time": "2022-09-20T07:50:41.663Z"
   },
   {
    "duration": 17,
    "start_time": "2022-09-20T07:51:06.358Z"
   },
   {
    "duration": 13,
    "start_time": "2022-09-20T07:51:08.661Z"
   },
   {
    "duration": 15,
    "start_time": "2022-09-20T07:51:26.598Z"
   },
   {
    "duration": 15,
    "start_time": "2022-09-20T07:51:30.997Z"
   },
   {
    "duration": 15,
    "start_time": "2022-09-20T07:51:36.085Z"
   },
   {
    "duration": 4,
    "start_time": "2022-09-20T07:51:39.860Z"
   },
   {
    "duration": 13,
    "start_time": "2022-09-20T07:51:42.556Z"
   },
   {
    "duration": 14,
    "start_time": "2022-09-20T07:51:54.397Z"
   },
   {
    "duration": 12,
    "start_time": "2022-09-20T07:52:11.029Z"
   },
   {
    "duration": 39,
    "start_time": "2022-09-20T07:52:18.645Z"
   },
   {
    "duration": 13,
    "start_time": "2022-09-20T07:52:31.355Z"
   },
   {
    "duration": 16,
    "start_time": "2022-09-20T07:52:44.149Z"
   },
   {
    "duration": 13,
    "start_time": "2022-09-20T07:52:47.485Z"
   },
   {
    "duration": 20,
    "start_time": "2022-09-20T08:20:51.551Z"
   },
   {
    "duration": 17,
    "start_time": "2022-09-20T08:21:00.439Z"
   },
   {
    "duration": 565,
    "start_time": "2022-09-20T08:21:12.161Z"
   },
   {
    "duration": 2108,
    "start_time": "2022-09-20T08:21:12.733Z"
   },
   {
    "duration": 16,
    "start_time": "2022-09-20T08:21:14.842Z"
   },
   {
    "duration": 10,
    "start_time": "2022-09-20T08:21:14.860Z"
   },
   {
    "duration": 26,
    "start_time": "2022-09-20T08:21:14.872Z"
   },
   {
    "duration": 59,
    "start_time": "2022-09-20T08:21:14.900Z"
   },
   {
    "duration": 112,
    "start_time": "2022-09-20T08:21:14.961Z"
   },
   {
    "duration": 5,
    "start_time": "2022-09-20T08:21:15.074Z"
   },
   {
    "duration": 316,
    "start_time": "2022-09-20T08:21:15.081Z"
   },
   {
    "duration": 596,
    "start_time": "2022-09-20T08:21:15.398Z"
   },
   {
    "duration": 478,
    "start_time": "2022-09-20T08:21:15.996Z"
   },
   {
    "duration": 335,
    "start_time": "2022-09-20T08:21:16.476Z"
   },
   {
    "duration": 323,
    "start_time": "2022-09-20T08:21:16.813Z"
   },
   {
    "duration": 274,
    "start_time": "2022-09-20T08:21:17.139Z"
   },
   {
    "duration": 205,
    "start_time": "2022-09-20T08:21:17.415Z"
   },
   {
    "duration": 191,
    "start_time": "2022-09-20T08:21:17.622Z"
   },
   {
    "duration": 304,
    "start_time": "2022-09-20T08:21:17.814Z"
   },
   {
    "duration": 233,
    "start_time": "2022-09-20T08:21:18.120Z"
   },
   {
    "duration": 266,
    "start_time": "2022-09-20T08:21:18.354Z"
   },
   {
    "duration": 237,
    "start_time": "2022-09-20T08:21:18.622Z"
   },
   {
    "duration": 238,
    "start_time": "2022-09-20T08:21:18.860Z"
   },
   {
    "duration": 351,
    "start_time": "2022-09-20T08:21:19.100Z"
   },
   {
    "duration": 461,
    "start_time": "2022-09-20T08:21:19.452Z"
   },
   {
    "duration": 167,
    "start_time": "2022-09-20T08:21:19.915Z"
   },
   {
    "duration": 191,
    "start_time": "2022-09-20T08:21:20.084Z"
   },
   {
    "duration": 237,
    "start_time": "2022-09-20T08:21:20.276Z"
   },
   {
    "duration": 208,
    "start_time": "2022-09-20T08:21:20.515Z"
   },
   {
    "duration": 174,
    "start_time": "2022-09-20T08:21:20.725Z"
   },
   {
    "duration": 508,
    "start_time": "2022-09-20T08:21:20.901Z"
   },
   {
    "duration": 38,
    "start_time": "2022-09-20T08:21:21.411Z"
   },
   {
    "duration": 183,
    "start_time": "2022-09-20T08:21:21.450Z"
   },
   {
    "duration": 23,
    "start_time": "2022-09-20T08:24:40.987Z"
   },
   {
    "duration": 11,
    "start_time": "2022-09-20T08:24:53.310Z"
   },
   {
    "duration": 77,
    "start_time": "2022-09-20T08:27:28.461Z"
   },
   {
    "duration": 15,
    "start_time": "2022-09-20T08:27:36.197Z"
   },
   {
    "duration": 48,
    "start_time": "2022-09-20T08:28:22.236Z"
   },
   {
    "duration": 41,
    "start_time": "2022-09-20T08:28:28.856Z"
   },
   {
    "duration": 13,
    "start_time": "2022-09-20T08:28:35.548Z"
   },
   {
    "duration": 9,
    "start_time": "2022-09-20T08:28:43.525Z"
   },
   {
    "duration": 19,
    "start_time": "2022-09-20T08:28:47.348Z"
   },
   {
    "duration": 88,
    "start_time": "2022-09-20T08:28:57.314Z"
   },
   {
    "duration": 46,
    "start_time": "2022-09-20T08:29:09.036Z"
   },
   {
    "duration": 20,
    "start_time": "2022-09-20T08:29:15.724Z"
   },
   {
    "duration": 22,
    "start_time": "2022-09-20T08:31:02.019Z"
   },
   {
    "duration": 70,
    "start_time": "2022-09-20T08:33:23.795Z"
   },
   {
    "duration": 89,
    "start_time": "2022-09-20T08:33:32.874Z"
   },
   {
    "duration": 15,
    "start_time": "2022-09-20T08:33:50.131Z"
   },
   {
    "duration": 15,
    "start_time": "2022-09-20T08:34:51.377Z"
   },
   {
    "duration": 16,
    "start_time": "2022-09-20T08:35:27.209Z"
   },
   {
    "duration": 19,
    "start_time": "2022-09-20T08:51:55.971Z"
   },
   {
    "duration": 20,
    "start_time": "2022-09-20T08:52:01.514Z"
   },
   {
    "duration": 21,
    "start_time": "2022-09-20T08:52:14.275Z"
   },
   {
    "duration": 34,
    "start_time": "2022-09-20T08:52:20.675Z"
   },
   {
    "duration": 11,
    "start_time": "2022-09-20T08:56:23.921Z"
   },
   {
    "duration": 25,
    "start_time": "2022-09-20T08:56:25.945Z"
   },
   {
    "duration": 31,
    "start_time": "2022-09-20T08:56:47.385Z"
   },
   {
    "duration": 120,
    "start_time": "2022-09-20T08:57:11.633Z"
   },
   {
    "duration": 67,
    "start_time": "2022-09-20T08:57:21.728Z"
   },
   {
    "duration": 37,
    "start_time": "2022-09-20T08:57:32.649Z"
   },
   {
    "duration": 32,
    "start_time": "2022-09-20T08:57:45.328Z"
   },
   {
    "duration": 31,
    "start_time": "2022-09-20T08:58:28.881Z"
   },
   {
    "duration": 39,
    "start_time": "2022-09-20T08:59:33.792Z"
   },
   {
    "duration": 38,
    "start_time": "2022-09-20T09:00:13.496Z"
   },
   {
    "duration": 30,
    "start_time": "2022-09-20T09:00:38.361Z"
   },
   {
    "duration": 42,
    "start_time": "2022-09-20T09:06:19.366Z"
   },
   {
    "duration": 40,
    "start_time": "2022-09-20T09:06:26.310Z"
   },
   {
    "duration": 55,
    "start_time": "2022-09-20T09:06:35.965Z"
   },
   {
    "duration": 27,
    "start_time": "2022-09-20T09:08:02.917Z"
   },
   {
    "duration": 35,
    "start_time": "2022-09-20T09:08:15.885Z"
   },
   {
    "duration": 16,
    "start_time": "2022-09-20T09:08:38.028Z"
   },
   {
    "duration": 481,
    "start_time": "2022-09-20T09:09:05.576Z"
   },
   {
    "duration": 2374,
    "start_time": "2022-09-20T09:09:06.059Z"
   },
   {
    "duration": 15,
    "start_time": "2022-09-20T09:09:08.435Z"
   },
   {
    "duration": 9,
    "start_time": "2022-09-20T09:09:08.452Z"
   },
   {
    "duration": 20,
    "start_time": "2022-09-20T09:09:08.463Z"
   },
   {
    "duration": 51,
    "start_time": "2022-09-20T09:09:08.485Z"
   },
   {
    "duration": 36,
    "start_time": "2022-09-20T09:09:08.538Z"
   },
   {
    "duration": 116,
    "start_time": "2022-09-20T09:09:08.576Z"
   },
   {
    "duration": 4,
    "start_time": "2022-09-20T09:09:08.694Z"
   },
   {
    "duration": 342,
    "start_time": "2022-09-20T09:09:08.701Z"
   },
   {
    "duration": 606,
    "start_time": "2022-09-20T09:09:09.045Z"
   },
   {
    "duration": 418,
    "start_time": "2022-09-20T09:09:09.652Z"
   },
   {
    "duration": 343,
    "start_time": "2022-09-20T09:09:10.071Z"
   },
   {
    "duration": 337,
    "start_time": "2022-09-20T09:09:10.416Z"
   },
   {
    "duration": 236,
    "start_time": "2022-09-20T09:09:10.755Z"
   },
   {
    "duration": 211,
    "start_time": "2022-09-20T09:09:10.993Z"
   },
   {
    "duration": 200,
    "start_time": "2022-09-20T09:09:11.206Z"
   },
   {
    "duration": 283,
    "start_time": "2022-09-20T09:09:11.407Z"
   },
   {
    "duration": 271,
    "start_time": "2022-09-20T09:09:11.692Z"
   },
   {
    "duration": 278,
    "start_time": "2022-09-20T09:09:11.965Z"
   },
   {
    "duration": 239,
    "start_time": "2022-09-20T09:09:12.245Z"
   },
   {
    "duration": 240,
    "start_time": "2022-09-20T09:09:12.485Z"
   },
   {
    "duration": 344,
    "start_time": "2022-09-20T09:09:12.727Z"
   },
   {
    "duration": 462,
    "start_time": "2022-09-20T09:09:13.073Z"
   },
   {
    "duration": 168,
    "start_time": "2022-09-20T09:09:13.537Z"
   },
   {
    "duration": 199,
    "start_time": "2022-09-20T09:09:13.707Z"
   },
   {
    "duration": 256,
    "start_time": "2022-09-20T09:09:13.908Z"
   },
   {
    "duration": 240,
    "start_time": "2022-09-20T09:09:14.168Z"
   },
   {
    "duration": 185,
    "start_time": "2022-09-20T09:09:14.411Z"
   },
   {
    "duration": 550,
    "start_time": "2022-09-20T09:09:14.599Z"
   },
   {
    "duration": 32,
    "start_time": "2022-09-20T09:09:15.151Z"
   },
   {
    "duration": 238,
    "start_time": "2022-09-20T09:09:15.185Z"
   },
   {
    "duration": 17,
    "start_time": "2022-09-20T09:11:18.154Z"
   },
   {
    "duration": 98,
    "start_time": "2022-09-20T09:12:37.672Z"
   },
   {
    "duration": 9,
    "start_time": "2022-09-20T09:12:45.815Z"
   },
   {
    "duration": 9,
    "start_time": "2022-09-20T09:13:05.345Z"
   },
   {
    "duration": 8,
    "start_time": "2022-09-20T09:13:12.592Z"
   },
   {
    "duration": 8,
    "start_time": "2022-09-20T09:13:17.695Z"
   },
   {
    "duration": 7,
    "start_time": "2022-09-20T09:13:22.472Z"
   },
   {
    "duration": 466,
    "start_time": "2022-09-20T09:13:28.992Z"
   },
   {
    "duration": 2117,
    "start_time": "2022-09-20T09:13:29.460Z"
   },
   {
    "duration": 15,
    "start_time": "2022-09-20T09:13:31.579Z"
   },
   {
    "duration": 15,
    "start_time": "2022-09-20T09:13:31.596Z"
   },
   {
    "duration": 20,
    "start_time": "2022-09-20T09:13:31.613Z"
   },
   {
    "duration": 12,
    "start_time": "2022-09-20T09:13:31.634Z"
   },
   {
    "duration": 26,
    "start_time": "2022-09-20T09:13:31.647Z"
   },
   {
    "duration": 122,
    "start_time": "2022-09-20T09:13:31.675Z"
   },
   {
    "duration": 6,
    "start_time": "2022-09-20T09:13:31.799Z"
   },
   {
    "duration": 287,
    "start_time": "2022-09-20T09:13:31.808Z"
   },
   {
    "duration": 578,
    "start_time": "2022-09-20T09:13:32.096Z"
   },
   {
    "duration": 379,
    "start_time": "2022-09-20T09:13:32.675Z"
   },
   {
    "duration": 320,
    "start_time": "2022-09-20T09:13:33.056Z"
   },
   {
    "duration": 349,
    "start_time": "2022-09-20T09:13:33.378Z"
   },
   {
    "duration": 232,
    "start_time": "2022-09-20T09:13:33.728Z"
   },
   {
    "duration": 188,
    "start_time": "2022-09-20T09:13:33.961Z"
   },
   {
    "duration": 199,
    "start_time": "2022-09-20T09:13:34.151Z"
   },
   {
    "duration": 282,
    "start_time": "2022-09-20T09:13:34.351Z"
   },
   {
    "duration": 225,
    "start_time": "2022-09-20T09:13:34.635Z"
   },
   {
    "duration": 255,
    "start_time": "2022-09-20T09:13:34.862Z"
   },
   {
    "duration": 224,
    "start_time": "2022-09-20T09:13:35.119Z"
   },
   {
    "duration": 237,
    "start_time": "2022-09-20T09:13:35.345Z"
   },
   {
    "duration": 349,
    "start_time": "2022-09-20T09:13:35.584Z"
   },
   {
    "duration": 471,
    "start_time": "2022-09-20T09:13:35.935Z"
   },
   {
    "duration": 187,
    "start_time": "2022-09-20T09:13:36.408Z"
   },
   {
    "duration": 188,
    "start_time": "2022-09-20T09:13:36.597Z"
   },
   {
    "duration": 242,
    "start_time": "2022-09-20T09:13:36.787Z"
   },
   {
    "duration": 178,
    "start_time": "2022-09-20T09:13:37.035Z"
   },
   {
    "duration": 165,
    "start_time": "2022-09-20T09:13:37.215Z"
   },
   {
    "duration": 570,
    "start_time": "2022-09-20T09:13:37.382Z"
   },
   {
    "duration": 25,
    "start_time": "2022-09-20T09:13:37.953Z"
   },
   {
    "duration": 235,
    "start_time": "2022-09-20T09:13:37.979Z"
   },
   {
    "duration": 114,
    "start_time": "2022-09-20T09:15:11.219Z"
   },
   {
    "duration": 8,
    "start_time": "2022-09-20T09:15:14.674Z"
   },
   {
    "duration": 28,
    "start_time": "2022-09-20T09:20:06.400Z"
   },
   {
    "duration": 18,
    "start_time": "2022-09-20T09:21:19.527Z"
   },
   {
    "duration": 60,
    "start_time": "2022-09-20T09:21:31.103Z"
   },
   {
    "duration": 88,
    "start_time": "2022-09-20T09:28:02.312Z"
   },
   {
    "duration": 97,
    "start_time": "2022-09-20T09:28:07.708Z"
   },
   {
    "duration": 600,
    "start_time": "2022-09-20T09:28:45.942Z"
   },
   {
    "duration": 2112,
    "start_time": "2022-09-20T09:28:46.545Z"
   },
   {
    "duration": 17,
    "start_time": "2022-09-20T09:28:48.659Z"
   },
   {
    "duration": 9,
    "start_time": "2022-09-20T09:28:48.678Z"
   },
   {
    "duration": 23,
    "start_time": "2022-09-20T09:28:48.688Z"
   },
   {
    "duration": 32,
    "start_time": "2022-09-20T09:28:48.713Z"
   },
   {
    "duration": 31,
    "start_time": "2022-09-20T09:28:48.747Z"
   },
   {
    "duration": 186,
    "start_time": "2022-09-20T09:28:48.780Z"
   },
   {
    "duration": 8,
    "start_time": "2022-09-20T09:28:48.968Z"
   },
   {
    "duration": 296,
    "start_time": "2022-09-20T09:28:48.978Z"
   },
   {
    "duration": 623,
    "start_time": "2022-09-20T09:28:49.276Z"
   },
   {
    "duration": 390,
    "start_time": "2022-09-20T09:28:49.901Z"
   },
   {
    "duration": 327,
    "start_time": "2022-09-20T09:28:50.293Z"
   },
   {
    "duration": 340,
    "start_time": "2022-09-20T09:28:50.622Z"
   },
   {
    "duration": 240,
    "start_time": "2022-09-20T09:28:50.964Z"
   },
   {
    "duration": 198,
    "start_time": "2022-09-20T09:28:51.206Z"
   },
   {
    "duration": 189,
    "start_time": "2022-09-20T09:28:51.406Z"
   },
   {
    "duration": 279,
    "start_time": "2022-09-20T09:28:51.597Z"
   },
   {
    "duration": 231,
    "start_time": "2022-09-20T09:28:51.878Z"
   },
   {
    "duration": 273,
    "start_time": "2022-09-20T09:28:52.111Z"
   },
   {
    "duration": 232,
    "start_time": "2022-09-20T09:28:52.386Z"
   },
   {
    "duration": 246,
    "start_time": "2022-09-20T09:28:52.620Z"
   },
   {
    "duration": 349,
    "start_time": "2022-09-20T09:28:52.868Z"
   },
   {
    "duration": 455,
    "start_time": "2022-09-20T09:28:53.219Z"
   },
   {
    "duration": 171,
    "start_time": "2022-09-20T09:28:53.676Z"
   },
   {
    "duration": 180,
    "start_time": "2022-09-20T09:28:53.849Z"
   },
   {
    "duration": 248,
    "start_time": "2022-09-20T09:28:54.033Z"
   },
   {
    "duration": 212,
    "start_time": "2022-09-20T09:28:54.285Z"
   },
   {
    "duration": 178,
    "start_time": "2022-09-20T09:28:54.500Z"
   },
   {
    "duration": 522,
    "start_time": "2022-09-20T09:28:54.680Z"
   },
   {
    "duration": 38,
    "start_time": "2022-09-20T09:28:55.203Z"
   },
   {
    "duration": 101,
    "start_time": "2022-09-20T09:28:55.242Z"
   },
   {
    "duration": 19,
    "start_time": "2022-09-20T09:29:12.451Z"
   },
   {
    "duration": 503,
    "start_time": "2022-09-20T09:29:17.093Z"
   },
   {
    "duration": 2101,
    "start_time": "2022-09-20T09:29:17.599Z"
   },
   {
    "duration": 16,
    "start_time": "2022-09-20T09:29:19.702Z"
   },
   {
    "duration": 8,
    "start_time": "2022-09-20T09:29:19.721Z"
   },
   {
    "duration": 26,
    "start_time": "2022-09-20T09:29:19.730Z"
   },
   {
    "duration": 13,
    "start_time": "2022-09-20T09:29:19.758Z"
   },
   {
    "duration": 31,
    "start_time": "2022-09-20T09:29:19.772Z"
   },
   {
    "duration": 146,
    "start_time": "2022-09-20T09:29:19.805Z"
   },
   {
    "duration": 8,
    "start_time": "2022-09-20T09:29:19.953Z"
   },
   {
    "duration": 316,
    "start_time": "2022-09-20T09:29:19.965Z"
   },
   {
    "duration": 605,
    "start_time": "2022-09-20T09:29:20.282Z"
   },
   {
    "duration": 401,
    "start_time": "2022-09-20T09:29:20.888Z"
   },
   {
    "duration": 328,
    "start_time": "2022-09-20T09:29:21.290Z"
   },
   {
    "duration": 333,
    "start_time": "2022-09-20T09:29:21.620Z"
   },
   {
    "duration": 239,
    "start_time": "2022-09-20T09:29:21.956Z"
   },
   {
    "duration": 207,
    "start_time": "2022-09-20T09:29:22.197Z"
   },
   {
    "duration": 203,
    "start_time": "2022-09-20T09:29:22.406Z"
   },
   {
    "duration": 272,
    "start_time": "2022-09-20T09:29:22.611Z"
   },
   {
    "duration": 230,
    "start_time": "2022-09-20T09:29:22.885Z"
   },
   {
    "duration": 257,
    "start_time": "2022-09-20T09:29:23.117Z"
   },
   {
    "duration": 221,
    "start_time": "2022-09-20T09:29:23.375Z"
   },
   {
    "duration": 253,
    "start_time": "2022-09-20T09:29:23.597Z"
   },
   {
    "duration": 343,
    "start_time": "2022-09-20T09:29:23.852Z"
   },
   {
    "duration": 449,
    "start_time": "2022-09-20T09:29:24.197Z"
   },
   {
    "duration": 171,
    "start_time": "2022-09-20T09:29:24.648Z"
   },
   {
    "duration": 189,
    "start_time": "2022-09-20T09:29:24.820Z"
   },
   {
    "duration": 237,
    "start_time": "2022-09-20T09:29:25.011Z"
   },
   {
    "duration": 189,
    "start_time": "2022-09-20T09:29:25.253Z"
   },
   {
    "duration": 169,
    "start_time": "2022-09-20T09:29:25.445Z"
   },
   {
    "duration": 536,
    "start_time": "2022-09-20T09:29:25.616Z"
   },
   {
    "duration": 28,
    "start_time": "2022-09-20T09:29:26.154Z"
   },
   {
    "duration": 136,
    "start_time": "2022-09-20T09:29:26.183Z"
   },
   {
    "duration": 29,
    "start_time": "2022-09-20T09:29:50.915Z"
   },
   {
    "duration": 537,
    "start_time": "2022-09-20T09:29:57.948Z"
   },
   {
    "duration": 2206,
    "start_time": "2022-09-20T09:29:58.487Z"
   },
   {
    "duration": 16,
    "start_time": "2022-09-20T09:30:00.695Z"
   },
   {
    "duration": 20,
    "start_time": "2022-09-20T09:30:00.714Z"
   },
   {
    "duration": 108,
    "start_time": "2022-09-20T09:30:00.736Z"
   },
   {
    "duration": 0,
    "start_time": "2022-09-20T09:30:00.846Z"
   },
   {
    "duration": 0,
    "start_time": "2022-09-20T09:30:00.848Z"
   },
   {
    "duration": 0,
    "start_time": "2022-09-20T09:30:00.850Z"
   },
   {
    "duration": 0,
    "start_time": "2022-09-20T09:30:00.851Z"
   },
   {
    "duration": 0,
    "start_time": "2022-09-20T09:30:00.852Z"
   },
   {
    "duration": 0,
    "start_time": "2022-09-20T09:30:00.853Z"
   },
   {
    "duration": 0,
    "start_time": "2022-09-20T09:30:00.854Z"
   },
   {
    "duration": 0,
    "start_time": "2022-09-20T09:30:00.856Z"
   },
   {
    "duration": 0,
    "start_time": "2022-09-20T09:30:00.857Z"
   },
   {
    "duration": 0,
    "start_time": "2022-09-20T09:30:00.859Z"
   },
   {
    "duration": 0,
    "start_time": "2022-09-20T09:30:00.860Z"
   },
   {
    "duration": 0,
    "start_time": "2022-09-20T09:30:00.862Z"
   },
   {
    "duration": 0,
    "start_time": "2022-09-20T09:30:00.863Z"
   },
   {
    "duration": 0,
    "start_time": "2022-09-20T09:30:00.864Z"
   },
   {
    "duration": 0,
    "start_time": "2022-09-20T09:30:00.865Z"
   },
   {
    "duration": 0,
    "start_time": "2022-09-20T09:30:00.867Z"
   },
   {
    "duration": 0,
    "start_time": "2022-09-20T09:30:00.868Z"
   },
   {
    "duration": 0,
    "start_time": "2022-09-20T09:30:00.869Z"
   },
   {
    "duration": 0,
    "start_time": "2022-09-20T09:30:00.871Z"
   },
   {
    "duration": 0,
    "start_time": "2022-09-20T09:30:00.872Z"
   },
   {
    "duration": 0,
    "start_time": "2022-09-20T09:30:00.874Z"
   },
   {
    "duration": 0,
    "start_time": "2022-09-20T09:30:00.875Z"
   },
   {
    "duration": 1,
    "start_time": "2022-09-20T09:30:00.876Z"
   },
   {
    "duration": 0,
    "start_time": "2022-09-20T09:30:00.878Z"
   },
   {
    "duration": 0,
    "start_time": "2022-09-20T09:30:00.934Z"
   },
   {
    "duration": 0,
    "start_time": "2022-09-20T09:30:00.935Z"
   },
   {
    "duration": 0,
    "start_time": "2022-09-20T09:30:00.937Z"
   },
   {
    "duration": 23,
    "start_time": "2022-09-20T09:30:25.246Z"
   },
   {
    "duration": 22,
    "start_time": "2022-09-20T09:30:31.309Z"
   },
   {
    "duration": 72,
    "start_time": "2022-09-20T09:30:52.174Z"
   },
   {
    "duration": 496,
    "start_time": "2022-09-20T09:30:58.670Z"
   },
   {
    "duration": 2148,
    "start_time": "2022-09-20T09:31:01.885Z"
   },
   {
    "duration": 18,
    "start_time": "2022-09-20T09:31:04.036Z"
   },
   {
    "duration": 11,
    "start_time": "2022-09-20T09:31:04.056Z"
   },
   {
    "duration": 56,
    "start_time": "2022-09-20T09:31:08.957Z"
   },
   {
    "duration": 21,
    "start_time": "2022-09-20T09:31:23.061Z"
   },
   {
    "duration": 57,
    "start_time": "2022-09-20T09:31:39.055Z"
   },
   {
    "duration": 24,
    "start_time": "2022-09-20T09:32:30.940Z"
   },
   {
    "duration": 20,
    "start_time": "2022-09-20T09:32:45.124Z"
   },
   {
    "duration": 100,
    "start_time": "2022-09-20T09:32:52.620Z"
   },
   {
    "duration": 32,
    "start_time": "2022-09-20T09:33:28.467Z"
   },
   {
    "duration": 1258,
    "start_time": "2022-09-20T09:37:42.263Z"
   },
   {
    "duration": 3216,
    "start_time": "2022-09-20T09:38:03.535Z"
   },
   {
    "duration": 3061,
    "start_time": "2022-09-20T09:38:18.070Z"
   },
   {
    "duration": 6,
    "start_time": "2022-09-20T09:40:15.182Z"
   },
   {
    "duration": 26,
    "start_time": "2022-09-20T09:40:27.645Z"
   },
   {
    "duration": 23,
    "start_time": "2022-09-20T09:41:11.829Z"
   },
   {
    "duration": 56,
    "start_time": "2022-09-20T09:41:25.620Z"
   },
   {
    "duration": 171,
    "start_time": "2022-09-20T09:41:37.188Z"
   },
   {
    "duration": 32,
    "start_time": "2022-09-20T09:41:49.507Z"
   },
   {
    "duration": 85,
    "start_time": "2022-09-20T09:41:53.932Z"
   },
   {
    "duration": 20,
    "start_time": "2022-09-20T09:45:47.403Z"
   },
   {
    "duration": 25,
    "start_time": "2022-09-20T09:52:25.042Z"
   },
   {
    "duration": 22,
    "start_time": "2022-09-20T09:52:40.163Z"
   },
   {
    "duration": 21,
    "start_time": "2022-09-20T09:53:22.482Z"
   },
   {
    "duration": 19,
    "start_time": "2022-09-20T09:53:26.626Z"
   },
   {
    "duration": 25,
    "start_time": "2022-09-20T09:55:02.546Z"
   },
   {
    "duration": 25,
    "start_time": "2022-09-20T09:55:05.881Z"
   },
   {
    "duration": 31,
    "start_time": "2022-09-20T09:55:15.106Z"
   },
   {
    "duration": 87,
    "start_time": "2022-09-20T09:55:24.216Z"
   },
   {
    "duration": 18,
    "start_time": "2022-09-20T09:55:39.721Z"
   },
   {
    "duration": 29,
    "start_time": "2022-09-20T09:55:42.464Z"
   },
   {
    "duration": 20,
    "start_time": "2022-09-20T09:55:52.256Z"
   },
   {
    "duration": 24,
    "start_time": "2022-09-20T09:56:06.290Z"
   },
   {
    "duration": 23,
    "start_time": "2022-09-20T09:56:28.897Z"
   },
   {
    "duration": 23,
    "start_time": "2022-09-20T09:57:05.707Z"
   },
   {
    "duration": 23,
    "start_time": "2022-09-20T09:57:12.499Z"
   },
   {
    "duration": 24,
    "start_time": "2022-09-20T09:57:27.844Z"
   },
   {
    "duration": 18,
    "start_time": "2022-09-20T10:06:45.278Z"
   },
   {
    "duration": 83,
    "start_time": "2022-09-20T10:07:04.550Z"
   },
   {
    "duration": 23,
    "start_time": "2022-09-20T10:07:43.189Z"
   },
   {
    "duration": 25,
    "start_time": "2022-09-20T10:07:50.021Z"
   },
   {
    "duration": 5,
    "start_time": "2022-09-20T10:08:24.614Z"
   },
   {
    "duration": 19,
    "start_time": "2022-09-20T10:08:29.750Z"
   },
   {
    "duration": 21,
    "start_time": "2022-09-20T10:08:49.782Z"
   },
   {
    "duration": 19,
    "start_time": "2022-09-20T10:08:57.862Z"
   },
   {
    "duration": 38,
    "start_time": "2022-09-20T10:09:06.984Z"
   },
   {
    "duration": 35,
    "start_time": "2022-09-20T10:09:13.062Z"
   },
   {
    "duration": 23,
    "start_time": "2022-09-20T10:09:19.158Z"
   },
   {
    "duration": 83,
    "start_time": "2022-09-20T10:09:53.799Z"
   },
   {
    "duration": 24,
    "start_time": "2022-09-20T10:10:21.574Z"
   },
   {
    "duration": 32,
    "start_time": "2022-09-20T10:10:54.070Z"
   },
   {
    "duration": 63,
    "start_time": "2022-09-20T10:20:08.153Z"
   },
   {
    "duration": 537,
    "start_time": "2022-09-20T10:20:13.962Z"
   },
   {
    "duration": 2161,
    "start_time": "2022-09-20T10:20:14.500Z"
   },
   {
    "duration": 16,
    "start_time": "2022-09-20T10:20:16.663Z"
   },
   {
    "duration": 11,
    "start_time": "2022-09-20T10:20:16.682Z"
   },
   {
    "duration": 21,
    "start_time": "2022-09-20T10:20:16.695Z"
   },
   {
    "duration": 19,
    "start_time": "2022-09-20T10:20:16.718Z"
   },
   {
    "duration": 27,
    "start_time": "2022-09-20T10:20:16.738Z"
   },
   {
    "duration": 138,
    "start_time": "2022-09-20T10:20:16.767Z"
   },
   {
    "duration": 8,
    "start_time": "2022-09-20T10:20:16.907Z"
   },
   {
    "duration": 299,
    "start_time": "2022-09-20T10:20:16.917Z"
   },
   {
    "duration": 599,
    "start_time": "2022-09-20T10:20:17.218Z"
   },
   {
    "duration": 391,
    "start_time": "2022-09-20T10:20:17.818Z"
   },
   {
    "duration": 329,
    "start_time": "2022-09-20T10:20:18.211Z"
   },
   {
    "duration": 345,
    "start_time": "2022-09-20T10:20:18.542Z"
   },
   {
    "duration": 231,
    "start_time": "2022-09-20T10:20:18.888Z"
   },
   {
    "duration": 200,
    "start_time": "2022-09-20T10:20:19.121Z"
   },
   {
    "duration": 200,
    "start_time": "2022-09-20T10:20:19.322Z"
   },
   {
    "duration": 279,
    "start_time": "2022-09-20T10:20:19.524Z"
   },
   {
    "duration": 217,
    "start_time": "2022-09-20T10:20:19.804Z"
   },
   {
    "duration": 271,
    "start_time": "2022-09-20T10:20:20.023Z"
   },
   {
    "duration": 224,
    "start_time": "2022-09-20T10:20:20.296Z"
   },
   {
    "duration": 237,
    "start_time": "2022-09-20T10:20:20.522Z"
   },
   {
    "duration": 344,
    "start_time": "2022-09-20T10:20:20.761Z"
   },
   {
    "duration": 420,
    "start_time": "2022-09-20T10:20:21.107Z"
   },
   {
    "duration": 161,
    "start_time": "2022-09-20T10:20:21.533Z"
   },
   {
    "duration": 179,
    "start_time": "2022-09-20T10:20:21.696Z"
   },
   {
    "duration": 245,
    "start_time": "2022-09-20T10:20:21.877Z"
   },
   {
    "duration": 207,
    "start_time": "2022-09-20T10:20:22.126Z"
   },
   {
    "duration": 157,
    "start_time": "2022-09-20T10:20:22.335Z"
   },
   {
    "duration": 516,
    "start_time": "2022-09-20T10:20:22.493Z"
   },
   {
    "duration": 30,
    "start_time": "2022-09-20T10:20:23.011Z"
   },
   {
    "duration": 105,
    "start_time": "2022-09-20T10:20:23.042Z"
   },
   {
    "duration": 25,
    "start_time": "2022-09-20T10:21:09.522Z"
   },
   {
    "duration": 20,
    "start_time": "2022-09-20T10:21:43.763Z"
   },
   {
    "duration": 575,
    "start_time": "2022-09-20T10:21:51.851Z"
   },
   {
    "duration": 2173,
    "start_time": "2022-09-20T10:21:52.428Z"
   },
   {
    "duration": 15,
    "start_time": "2022-09-20T10:21:54.603Z"
   },
   {
    "duration": 11,
    "start_time": "2022-09-20T10:21:54.620Z"
   },
   {
    "duration": 26,
    "start_time": "2022-09-20T10:21:54.632Z"
   },
   {
    "duration": 13,
    "start_time": "2022-09-20T10:21:54.660Z"
   },
   {
    "duration": 27,
    "start_time": "2022-09-20T10:21:54.674Z"
   },
   {
    "duration": 132,
    "start_time": "2022-09-20T10:21:54.703Z"
   },
   {
    "duration": 8,
    "start_time": "2022-09-20T10:21:54.837Z"
   },
   {
    "duration": 294,
    "start_time": "2022-09-20T10:21:54.848Z"
   },
   {
    "duration": 588,
    "start_time": "2022-09-20T10:21:55.144Z"
   },
   {
    "duration": 394,
    "start_time": "2022-09-20T10:21:55.733Z"
   },
   {
    "duration": 434,
    "start_time": "2022-09-20T10:21:56.134Z"
   },
   {
    "duration": 317,
    "start_time": "2022-09-20T10:21:56.570Z"
   },
   {
    "duration": 224,
    "start_time": "2022-09-20T10:21:56.888Z"
   },
   {
    "duration": 200,
    "start_time": "2022-09-20T10:21:57.113Z"
   },
   {
    "duration": 194,
    "start_time": "2022-09-20T10:21:57.314Z"
   },
   {
    "duration": 264,
    "start_time": "2022-09-20T10:21:57.509Z"
   },
   {
    "duration": 247,
    "start_time": "2022-09-20T10:21:57.774Z"
   },
   {
    "duration": 262,
    "start_time": "2022-09-20T10:21:58.023Z"
   },
   {
    "duration": 214,
    "start_time": "2022-09-20T10:21:58.287Z"
   },
   {
    "duration": 245,
    "start_time": "2022-09-20T10:21:58.503Z"
   },
   {
    "duration": 352,
    "start_time": "2022-09-20T10:21:58.750Z"
   },
   {
    "duration": 452,
    "start_time": "2022-09-20T10:21:59.103Z"
   },
   {
    "duration": 193,
    "start_time": "2022-09-20T10:21:59.556Z"
   },
   {
    "duration": 185,
    "start_time": "2022-09-20T10:21:59.750Z"
   },
   {
    "duration": 269,
    "start_time": "2022-09-20T10:21:59.937Z"
   },
   {
    "duration": 187,
    "start_time": "2022-09-20T10:22:00.211Z"
   },
   {
    "duration": 174,
    "start_time": "2022-09-20T10:22:00.399Z"
   },
   {
    "duration": 553,
    "start_time": "2022-09-20T10:22:00.575Z"
   },
   {
    "duration": 33,
    "start_time": "2022-09-20T10:22:01.133Z"
   },
   {
    "duration": 101,
    "start_time": "2022-09-20T10:22:01.168Z"
   },
   {
    "duration": 321,
    "start_time": "2022-09-20T10:34:11.520Z"
   },
   {
    "duration": 310,
    "start_time": "2022-09-20T10:34:24.784Z"
   },
   {
    "duration": 297,
    "start_time": "2022-09-20T10:34:34.480Z"
   },
   {
    "duration": 292,
    "start_time": "2022-09-20T10:35:24.767Z"
   },
   {
    "duration": 189,
    "start_time": "2022-09-20T10:35:34.375Z"
   },
   {
    "duration": 185,
    "start_time": "2022-09-20T10:35:40.759Z"
   },
   {
    "duration": 195,
    "start_time": "2022-09-20T10:35:49.879Z"
   },
   {
    "duration": 200,
    "start_time": "2022-09-20T10:37:33.193Z"
   },
   {
    "duration": 667,
    "start_time": "2022-09-20T10:40:55.389Z"
   },
   {
    "duration": 647,
    "start_time": "2022-09-20T10:41:35.212Z"
   },
   {
    "duration": 761,
    "start_time": "2022-09-20T10:42:32.540Z"
   },
   {
    "duration": 676,
    "start_time": "2022-09-20T10:43:27.733Z"
   },
   {
    "duration": 654,
    "start_time": "2022-09-20T10:44:14.331Z"
   },
   {
    "duration": 772,
    "start_time": "2022-09-20T10:44:24.747Z"
   },
   {
    "duration": 680,
    "start_time": "2022-09-20T10:44:52.459Z"
   },
   {
    "duration": 633,
    "start_time": "2022-09-20T10:46:30.963Z"
   },
   {
    "duration": 761,
    "start_time": "2022-09-20T10:46:41.106Z"
   },
   {
    "duration": 855,
    "start_time": "2022-09-20T10:46:53.963Z"
   },
   {
    "duration": 724,
    "start_time": "2022-09-20T10:56:21.223Z"
   },
   {
    "duration": 710,
    "start_time": "2022-09-20T10:56:36.871Z"
   },
   {
    "duration": 888,
    "start_time": "2022-09-20T10:57:34.158Z"
   },
   {
    "duration": 763,
    "start_time": "2022-09-20T10:57:59.182Z"
   },
   {
    "duration": 5,
    "start_time": "2022-09-20T11:00:28.007Z"
   },
   {
    "duration": 709,
    "start_time": "2022-09-20T11:00:32.837Z"
   },
   {
    "duration": 745,
    "start_time": "2022-09-20T11:01:08.613Z"
   },
   {
    "duration": 879,
    "start_time": "2022-09-20T11:01:18.981Z"
   },
   {
    "duration": 779,
    "start_time": "2022-09-20T11:01:34.709Z"
   },
   {
    "duration": 729,
    "start_time": "2022-09-20T11:01:49.868Z"
   },
   {
    "duration": 845,
    "start_time": "2022-09-20T11:02:10.340Z"
   },
   {
    "duration": 816,
    "start_time": "2022-09-20T11:02:16.244Z"
   },
   {
    "duration": 144,
    "start_time": "2022-09-20T11:02:47.964Z"
   },
   {
    "duration": 783,
    "start_time": "2022-09-20T11:03:19.820Z"
   },
   {
    "duration": 1311,
    "start_time": "2022-09-20T11:04:05.412Z"
   },
   {
    "duration": 725,
    "start_time": "2022-09-20T11:04:24.299Z"
   },
   {
    "duration": 1231,
    "start_time": "2022-09-20T11:05:18.819Z"
   },
   {
    "duration": 1153,
    "start_time": "2022-09-20T11:05:36.154Z"
   },
   {
    "duration": 1151,
    "start_time": "2022-09-20T11:05:54.011Z"
   },
   {
    "duration": 1047,
    "start_time": "2022-09-20T11:06:39.611Z"
   },
   {
    "duration": 1025,
    "start_time": "2022-09-20T11:06:56.419Z"
   },
   {
    "duration": 776,
    "start_time": "2022-09-20T11:07:25.705Z"
   },
   {
    "duration": 1005,
    "start_time": "2022-09-20T11:08:06.986Z"
   },
   {
    "duration": 1112,
    "start_time": "2022-09-20T11:08:19.617Z"
   },
   {
    "duration": 66,
    "start_time": "2022-09-20T13:58:05.183Z"
   },
   {
    "duration": 614,
    "start_time": "2022-09-20T13:58:14.157Z"
   },
   {
    "duration": 2883,
    "start_time": "2022-09-20T13:58:14.773Z"
   },
   {
    "duration": 17,
    "start_time": "2022-09-20T13:58:17.658Z"
   },
   {
    "duration": 9,
    "start_time": "2022-09-20T13:58:17.677Z"
   },
   {
    "duration": 33,
    "start_time": "2022-09-20T13:58:17.688Z"
   },
   {
    "duration": 14,
    "start_time": "2022-09-20T13:58:17.724Z"
   },
   {
    "duration": 29,
    "start_time": "2022-09-20T13:58:17.739Z"
   },
   {
    "duration": 164,
    "start_time": "2022-09-20T13:58:17.770Z"
   },
   {
    "duration": 8,
    "start_time": "2022-09-20T13:58:17.936Z"
   },
   {
    "duration": 372,
    "start_time": "2022-09-20T13:58:17.948Z"
   },
   {
    "duration": 732,
    "start_time": "2022-09-20T13:58:18.322Z"
   },
   {
    "duration": 502,
    "start_time": "2022-09-20T13:58:19.056Z"
   },
   {
    "duration": 388,
    "start_time": "2022-09-20T13:58:19.560Z"
   },
   {
    "duration": 379,
    "start_time": "2022-09-20T13:58:19.950Z"
   },
   {
    "duration": 269,
    "start_time": "2022-09-20T13:58:20.331Z"
   },
   {
    "duration": 228,
    "start_time": "2022-09-20T13:58:20.607Z"
   },
   {
    "duration": 353,
    "start_time": "2022-09-20T13:58:20.837Z"
   },
   {
    "duration": 196,
    "start_time": "2022-09-20T13:58:21.194Z"
   },
   {
    "duration": 256,
    "start_time": "2022-09-20T13:58:21.391Z"
   },
   {
    "duration": 303,
    "start_time": "2022-09-20T13:58:21.649Z"
   },
   {
    "duration": 268,
    "start_time": "2022-09-20T13:58:21.954Z"
   },
   {
    "duration": 296,
    "start_time": "2022-09-20T13:58:22.224Z"
   },
   {
    "duration": 427,
    "start_time": "2022-09-20T13:58:22.523Z"
   },
   {
    "duration": 1367,
    "start_time": "2022-09-20T13:58:22.952Z"
   },
   {
    "duration": 199,
    "start_time": "2022-09-20T13:58:24.323Z"
   },
   {
    "duration": 218,
    "start_time": "2022-09-20T13:58:24.524Z"
   },
   {
    "duration": 204,
    "start_time": "2022-09-20T13:58:24.743Z"
   },
   {
    "duration": 220,
    "start_time": "2022-09-20T13:58:24.950Z"
   },
   {
    "duration": 223,
    "start_time": "2022-09-20T13:58:25.171Z"
   },
   {
    "duration": 634,
    "start_time": "2022-09-20T13:58:25.396Z"
   },
   {
    "duration": 28,
    "start_time": "2022-09-20T13:58:26.031Z"
   },
   {
    "duration": 114,
    "start_time": "2022-09-20T13:58:26.060Z"
   },
   {
    "duration": 36,
    "start_time": "2022-09-20T14:02:31.817Z"
   },
   {
    "duration": 34,
    "start_time": "2022-09-20T14:02:40.737Z"
   },
   {
    "duration": 48,
    "start_time": "2022-09-20T14:03:09.368Z"
   },
   {
    "duration": 56,
    "start_time": "2022-09-20T14:03:22.680Z"
   },
   {
    "duration": 49,
    "start_time": "2022-09-20T14:03:34.982Z"
   },
   {
    "duration": 25,
    "start_time": "2022-09-20T14:16:38.038Z"
   },
   {
    "duration": 612,
    "start_time": "2022-09-20T14:16:54.915Z"
   },
   {
    "duration": 2618,
    "start_time": "2022-09-20T14:16:55.530Z"
   },
   {
    "duration": 17,
    "start_time": "2022-09-20T14:16:58.150Z"
   },
   {
    "duration": 13,
    "start_time": "2022-09-20T14:16:58.170Z"
   },
   {
    "duration": 39,
    "start_time": "2022-09-20T14:16:58.185Z"
   },
   {
    "duration": 14,
    "start_time": "2022-09-20T14:16:58.226Z"
   },
   {
    "duration": 31,
    "start_time": "2022-09-20T14:16:58.242Z"
   },
   {
    "duration": 196,
    "start_time": "2022-09-20T14:16:58.275Z"
   },
   {
    "duration": 8,
    "start_time": "2022-09-20T14:16:58.473Z"
   },
   {
    "duration": 359,
    "start_time": "2022-09-20T14:16:58.494Z"
   },
   {
    "duration": 772,
    "start_time": "2022-09-20T14:16:58.856Z"
   },
   {
    "duration": 524,
    "start_time": "2022-09-20T14:16:59.630Z"
   },
   {
    "duration": 401,
    "start_time": "2022-09-20T14:17:00.156Z"
   },
   {
    "duration": 400,
    "start_time": "2022-09-20T14:17:00.559Z"
   },
   {
    "duration": 300,
    "start_time": "2022-09-20T14:17:00.962Z"
   },
   {
    "duration": 271,
    "start_time": "2022-09-20T14:17:01.264Z"
   },
   {
    "duration": 242,
    "start_time": "2022-09-20T14:17:01.537Z"
   },
   {
    "duration": 340,
    "start_time": "2022-09-20T14:17:01.781Z"
   },
   {
    "duration": 260,
    "start_time": "2022-09-20T14:17:02.122Z"
   },
   {
    "duration": 344,
    "start_time": "2022-09-20T14:17:02.384Z"
   },
   {
    "duration": 307,
    "start_time": "2022-09-20T14:17:02.730Z"
   },
   {
    "duration": 304,
    "start_time": "2022-09-20T14:17:03.039Z"
   },
   {
    "duration": 439,
    "start_time": "2022-09-20T14:17:03.346Z"
   },
   {
    "duration": 1329,
    "start_time": "2022-09-20T14:17:03.787Z"
   },
   {
    "duration": 228,
    "start_time": "2022-09-20T14:17:05.118Z"
   },
   {
    "duration": 227,
    "start_time": "2022-09-20T14:17:05.348Z"
   },
   {
    "duration": 226,
    "start_time": "2022-09-20T14:17:05.577Z"
   },
   {
    "duration": 214,
    "start_time": "2022-09-20T14:17:05.809Z"
   },
   {
    "duration": 200,
    "start_time": "2022-09-20T14:17:06.025Z"
   },
   {
    "duration": 715,
    "start_time": "2022-09-20T14:17:06.226Z"
   },
   {
    "duration": 32,
    "start_time": "2022-09-20T14:17:06.943Z"
   },
   {
    "duration": 105,
    "start_time": "2022-09-20T14:17:06.997Z"
   },
   {
    "duration": 30,
    "start_time": "2022-09-20T14:17:47.212Z"
   },
   {
    "duration": 13,
    "start_time": "2022-09-20T14:17:52.929Z"
   },
   {
    "duration": 20,
    "start_time": "2022-09-20T14:18:01.565Z"
   },
   {
    "duration": 32,
    "start_time": "2022-09-20T14:18:16.744Z"
   },
   {
    "duration": 270,
    "start_time": "2022-09-20T14:18:21.579Z"
   },
   {
    "duration": 188,
    "start_time": "2022-09-20T14:19:55.549Z"
   },
   {
    "duration": 5,
    "start_time": "2022-09-20T14:20:16.252Z"
   },
   {
    "duration": 187,
    "start_time": "2022-09-20T14:20:26.367Z"
   },
   {
    "duration": 166,
    "start_time": "2022-09-20T14:24:31.440Z"
   },
   {
    "duration": 171,
    "start_time": "2022-09-20T14:24:38.186Z"
   },
   {
    "duration": 169,
    "start_time": "2022-09-20T14:24:54.000Z"
   },
   {
    "duration": 366,
    "start_time": "2022-09-20T14:26:34.618Z"
   },
   {
    "duration": 180,
    "start_time": "2022-09-20T14:30:56.157Z"
   },
   {
    "duration": 196,
    "start_time": "2022-09-20T14:36:03.024Z"
   },
   {
    "duration": 154,
    "start_time": "2022-09-20T14:36:23.338Z"
   },
   {
    "duration": 15,
    "start_time": "2022-09-20T14:48:52.664Z"
   },
   {
    "duration": 15,
    "start_time": "2022-09-20T14:49:06.312Z"
   },
   {
    "duration": 15,
    "start_time": "2022-09-20T14:50:19.351Z"
   },
   {
    "duration": 16,
    "start_time": "2022-09-20T14:50:26.243Z"
   },
   {
    "duration": 106,
    "start_time": "2022-09-20T14:51:22.138Z"
   },
   {
    "duration": 20,
    "start_time": "2022-09-20T14:51:28.593Z"
   },
   {
    "duration": 16,
    "start_time": "2022-09-20T14:51:53.813Z"
   },
   {
    "duration": 555,
    "start_time": "2022-09-20T14:55:01.781Z"
   },
   {
    "duration": 2461,
    "start_time": "2022-09-20T14:55:02.339Z"
   },
   {
    "duration": 17,
    "start_time": "2022-09-20T14:55:04.802Z"
   },
   {
    "duration": 15,
    "start_time": "2022-09-20T14:55:04.821Z"
   },
   {
    "duration": 26,
    "start_time": "2022-09-20T14:55:04.839Z"
   },
   {
    "duration": 42,
    "start_time": "2022-09-20T14:55:04.867Z"
   },
   {
    "duration": 47,
    "start_time": "2022-09-20T14:55:04.911Z"
   },
   {
    "duration": 146,
    "start_time": "2022-09-20T14:55:04.960Z"
   },
   {
    "duration": 8,
    "start_time": "2022-09-20T14:55:05.108Z"
   },
   {
    "duration": 322,
    "start_time": "2022-09-20T14:55:05.118Z"
   },
   {
    "duration": 667,
    "start_time": "2022-09-20T14:55:05.442Z"
   },
   {
    "duration": 460,
    "start_time": "2022-09-20T14:55:06.111Z"
   },
   {
    "duration": 491,
    "start_time": "2022-09-20T14:55:06.573Z"
   },
   {
    "duration": 360,
    "start_time": "2022-09-20T14:55:07.069Z"
   },
   {
    "duration": 258,
    "start_time": "2022-09-20T14:55:07.431Z"
   },
   {
    "duration": 216,
    "start_time": "2022-09-20T14:55:07.690Z"
   },
   {
    "duration": 236,
    "start_time": "2022-09-20T14:55:07.908Z"
   },
   {
    "duration": 316,
    "start_time": "2022-09-20T14:55:08.145Z"
   },
   {
    "duration": 246,
    "start_time": "2022-09-20T14:55:08.463Z"
   },
   {
    "duration": 297,
    "start_time": "2022-09-20T14:55:08.710Z"
   },
   {
    "duration": 245,
    "start_time": "2022-09-20T14:55:09.009Z"
   },
   {
    "duration": 267,
    "start_time": "2022-09-20T14:55:09.257Z"
   },
   {
    "duration": 379,
    "start_time": "2022-09-20T14:55:09.525Z"
   },
   {
    "duration": 1238,
    "start_time": "2022-09-20T14:55:09.906Z"
   },
   {
    "duration": 192,
    "start_time": "2022-09-20T14:55:11.146Z"
   },
   {
    "duration": 203,
    "start_time": "2022-09-20T14:55:11.340Z"
   },
   {
    "duration": 194,
    "start_time": "2022-09-20T14:55:11.546Z"
   },
   {
    "duration": 207,
    "start_time": "2022-09-20T14:55:11.742Z"
   },
   {
    "duration": 187,
    "start_time": "2022-09-20T14:55:11.951Z"
   },
   {
    "duration": 583,
    "start_time": "2022-09-20T14:55:12.140Z"
   },
   {
    "duration": 34,
    "start_time": "2022-09-20T14:55:12.725Z"
   },
   {
    "duration": 229,
    "start_time": "2022-09-20T14:55:12.761Z"
   },
   {
    "duration": 564,
    "start_time": "2022-09-20T16:13:04.986Z"
   },
   {
    "duration": 2488,
    "start_time": "2022-09-20T16:13:05.552Z"
   },
   {
    "duration": 18,
    "start_time": "2022-09-20T16:13:08.042Z"
   },
   {
    "duration": 15,
    "start_time": "2022-09-20T16:13:08.062Z"
   },
   {
    "duration": 35,
    "start_time": "2022-09-20T16:13:08.079Z"
   },
   {
    "duration": 18,
    "start_time": "2022-09-20T16:13:08.117Z"
   },
   {
    "duration": 48,
    "start_time": "2022-09-20T16:13:08.137Z"
   },
   {
    "duration": 155,
    "start_time": "2022-09-20T16:13:08.187Z"
   },
   {
    "duration": 11,
    "start_time": "2022-09-20T16:13:08.345Z"
   },
   {
    "duration": 376,
    "start_time": "2022-09-20T16:13:08.358Z"
   },
   {
    "duration": 702,
    "start_time": "2022-09-20T16:13:08.737Z"
   },
   {
    "duration": 439,
    "start_time": "2022-09-20T16:13:09.441Z"
   },
   {
    "duration": 377,
    "start_time": "2022-09-20T16:13:09.881Z"
   },
   {
    "duration": 358,
    "start_time": "2022-09-20T16:13:10.262Z"
   },
   {
    "duration": 274,
    "start_time": "2022-09-20T16:13:10.621Z"
   },
   {
    "duration": 227,
    "start_time": "2022-09-20T16:13:10.897Z"
   },
   {
    "duration": 210,
    "start_time": "2022-09-20T16:13:11.125Z"
   },
   {
    "duration": 324,
    "start_time": "2022-09-20T16:13:11.337Z"
   },
   {
    "duration": 282,
    "start_time": "2022-09-20T16:13:11.663Z"
   },
   {
    "duration": 283,
    "start_time": "2022-09-20T16:13:11.946Z"
   },
   {
    "duration": 254,
    "start_time": "2022-09-20T16:13:12.231Z"
   },
   {
    "duration": 264,
    "start_time": "2022-09-20T16:13:12.487Z"
   },
   {
    "duration": 429,
    "start_time": "2022-09-20T16:13:12.754Z"
   },
   {
    "duration": 1217,
    "start_time": "2022-09-20T16:13:13.185Z"
   },
   {
    "duration": 174,
    "start_time": "2022-09-20T16:13:14.404Z"
   },
   {
    "duration": 186,
    "start_time": "2022-09-20T16:13:14.580Z"
   },
   {
    "duration": 179,
    "start_time": "2022-09-20T16:13:14.768Z"
   },
   {
    "duration": 187,
    "start_time": "2022-09-20T16:13:14.949Z"
   },
   {
    "duration": 184,
    "start_time": "2022-09-20T16:13:15.138Z"
   },
   {
    "duration": 574,
    "start_time": "2022-09-20T16:13:15.323Z"
   },
   {
    "duration": 31,
    "start_time": "2022-09-20T16:13:15.898Z"
   },
   {
    "duration": 212,
    "start_time": "2022-09-20T16:13:15.931Z"
   },
   {
    "duration": 512,
    "start_time": "2022-09-21T15:05:05.363Z"
   },
   {
    "duration": 2131,
    "start_time": "2022-09-21T15:05:05.877Z"
   },
   {
    "duration": 15,
    "start_time": "2022-09-21T15:05:08.009Z"
   },
   {
    "duration": 12,
    "start_time": "2022-09-21T15:05:08.025Z"
   },
   {
    "duration": 22,
    "start_time": "2022-09-21T15:05:08.038Z"
   },
   {
    "duration": 12,
    "start_time": "2022-09-21T15:05:08.061Z"
   },
   {
    "duration": 51,
    "start_time": "2022-09-21T15:05:08.074Z"
   },
   {
    "duration": 103,
    "start_time": "2022-09-21T15:05:08.126Z"
   },
   {
    "duration": 6,
    "start_time": "2022-09-21T15:05:08.231Z"
   },
   {
    "duration": 272,
    "start_time": "2022-09-21T15:05:08.239Z"
   },
   {
    "duration": 544,
    "start_time": "2022-09-21T15:05:08.512Z"
   },
   {
    "duration": 357,
    "start_time": "2022-09-21T15:05:09.057Z"
   },
   {
    "duration": 308,
    "start_time": "2022-09-21T15:05:09.421Z"
   },
   {
    "duration": 278,
    "start_time": "2022-09-21T15:05:09.732Z"
   },
   {
    "duration": 226,
    "start_time": "2022-09-21T15:05:10.011Z"
   },
   {
    "duration": 175,
    "start_time": "2022-09-21T15:05:10.238Z"
   },
   {
    "duration": 258,
    "start_time": "2022-09-21T15:05:10.421Z"
   },
   {
    "duration": 150,
    "start_time": "2022-09-21T15:05:10.680Z"
   },
   {
    "duration": 194,
    "start_time": "2022-09-21T15:05:10.831Z"
   },
   {
    "duration": 252,
    "start_time": "2022-09-21T15:05:11.027Z"
   },
   {
    "duration": 197,
    "start_time": "2022-09-21T15:05:11.280Z"
   },
   {
    "duration": 233,
    "start_time": "2022-09-21T15:05:11.478Z"
   },
   {
    "duration": 316,
    "start_time": "2022-09-21T15:05:11.712Z"
   },
   {
    "duration": 986,
    "start_time": "2022-09-21T15:05:12.029Z"
   },
   {
    "duration": 140,
    "start_time": "2022-09-21T15:05:13.021Z"
   },
   {
    "duration": 159,
    "start_time": "2022-09-21T15:05:13.162Z"
   },
   {
    "duration": 153,
    "start_time": "2022-09-21T15:05:13.323Z"
   },
   {
    "duration": 153,
    "start_time": "2022-09-21T15:05:13.478Z"
   },
   {
    "duration": 171,
    "start_time": "2022-09-21T15:05:13.633Z"
   },
   {
    "duration": 479,
    "start_time": "2022-09-21T15:05:13.806Z"
   },
   {
    "duration": 39,
    "start_time": "2022-09-21T15:05:14.287Z"
   },
   {
    "duration": 164,
    "start_time": "2022-09-21T15:05:14.328Z"
   },
   {
    "duration": 751,
    "start_time": "2022-09-21T15:14:46.852Z"
   },
   {
    "duration": 90,
    "start_time": "2022-09-21T15:14:56.918Z"
   },
   {
    "duration": 67,
    "start_time": "2022-09-21T15:15:22.851Z"
   },
   {
    "duration": 92,
    "start_time": "2022-09-21T15:15:28.396Z"
   },
   {
    "duration": 8,
    "start_time": "2022-09-21T15:16:01.983Z"
   },
   {
    "duration": 7,
    "start_time": "2022-09-21T15:16:10.082Z"
   },
   {
    "duration": 106,
    "start_time": "2022-09-21T15:16:26.606Z"
   },
   {
    "duration": 116,
    "start_time": "2022-09-21T15:16:44.976Z"
   },
   {
    "duration": 165,
    "start_time": "2022-09-21T15:20:23.265Z"
   },
   {
    "duration": 100,
    "start_time": "2022-09-21T15:20:28.159Z"
   },
   {
    "duration": 177,
    "start_time": "2022-09-21T15:20:35.992Z"
   },
   {
    "duration": 1269,
    "start_time": "2022-09-21T15:20:53.673Z"
   },
   {
    "duration": 849,
    "start_time": "2022-09-21T15:21:10.712Z"
   },
   {
    "duration": 107,
    "start_time": "2022-09-21T15:21:28.020Z"
   },
   {
    "duration": 111,
    "start_time": "2022-09-21T15:21:41.566Z"
   },
   {
    "duration": 101,
    "start_time": "2022-09-21T15:21:48.763Z"
   },
   {
    "duration": 119,
    "start_time": "2022-09-21T15:22:01.466Z"
   },
   {
    "duration": 100,
    "start_time": "2022-09-21T15:22:10.466Z"
   },
   {
    "duration": 203,
    "start_time": "2022-09-21T15:22:16.777Z"
   },
   {
    "duration": 101,
    "start_time": "2022-09-21T15:22:21.265Z"
   },
   {
    "duration": 107,
    "start_time": "2022-09-21T15:22:32.249Z"
   },
   {
    "duration": 121,
    "start_time": "2022-09-21T15:22:39.328Z"
   },
   {
    "duration": 102,
    "start_time": "2022-09-21T15:22:43.572Z"
   },
   {
    "duration": 97,
    "start_time": "2022-09-21T15:22:49.080Z"
   },
   {
    "duration": 107,
    "start_time": "2022-09-21T15:23:00.689Z"
   },
   {
    "duration": 102,
    "start_time": "2022-09-21T15:23:27.465Z"
   },
   {
    "duration": 4,
    "start_time": "2022-09-21T15:24:03.740Z"
   },
   {
    "duration": 96,
    "start_time": "2022-09-21T15:24:19.790Z"
   },
   {
    "duration": 107,
    "start_time": "2022-09-21T15:24:30.990Z"
   },
   {
    "duration": 102,
    "start_time": "2022-09-21T15:25:42.179Z"
   },
   {
    "duration": 104,
    "start_time": "2022-09-21T15:25:52.602Z"
   },
   {
    "duration": 118,
    "start_time": "2022-09-21T15:26:01.018Z"
   },
   {
    "duration": 3,
    "start_time": "2022-09-21T15:27:39.213Z"
   },
   {
    "duration": 103,
    "start_time": "2022-09-21T15:27:42.678Z"
   },
   {
    "duration": 475,
    "start_time": "2022-09-21T15:29:40.648Z"
   },
   {
    "duration": 1964,
    "start_time": "2022-09-21T15:29:41.124Z"
   },
   {
    "duration": 14,
    "start_time": "2022-09-21T15:29:43.089Z"
   },
   {
    "duration": 18,
    "start_time": "2022-09-21T15:29:43.105Z"
   },
   {
    "duration": 22,
    "start_time": "2022-09-21T15:29:43.125Z"
   },
   {
    "duration": 114,
    "start_time": "2022-09-21T15:29:43.149Z"
   },
   {
    "duration": 13,
    "start_time": "2022-09-21T15:29:43.264Z"
   },
   {
    "duration": 46,
    "start_time": "2022-09-21T15:29:43.278Z"
   },
   {
    "duration": 116,
    "start_time": "2022-09-21T15:29:43.326Z"
   },
   {
    "duration": 8,
    "start_time": "2022-09-21T15:29:43.443Z"
   },
   {
    "duration": 277,
    "start_time": "2022-09-21T15:29:43.452Z"
   },
   {
    "duration": 576,
    "start_time": "2022-09-21T15:29:43.730Z"
   },
   {
    "duration": 358,
    "start_time": "2022-09-21T15:29:44.307Z"
   },
   {
    "duration": 287,
    "start_time": "2022-09-21T15:29:44.668Z"
   },
   {
    "duration": 323,
    "start_time": "2022-09-21T15:29:44.957Z"
   },
   {
    "duration": 225,
    "start_time": "2022-09-21T15:29:45.282Z"
   },
   {
    "duration": 176,
    "start_time": "2022-09-21T15:29:45.509Z"
   },
   {
    "duration": 276,
    "start_time": "2022-09-21T15:29:45.686Z"
   },
   {
    "duration": 184,
    "start_time": "2022-09-21T15:29:45.964Z"
   },
   {
    "duration": 245,
    "start_time": "2022-09-21T15:29:46.150Z"
   },
   {
    "duration": 235,
    "start_time": "2022-09-21T15:29:46.396Z"
   },
   {
    "duration": 193,
    "start_time": "2022-09-21T15:29:46.633Z"
   },
   {
    "duration": 218,
    "start_time": "2022-09-21T15:29:46.828Z"
   },
   {
    "duration": 317,
    "start_time": "2022-09-21T15:29:47.047Z"
   },
   {
    "duration": 1022,
    "start_time": "2022-09-21T15:29:47.366Z"
   },
   {
    "duration": 144,
    "start_time": "2022-09-21T15:29:48.389Z"
   },
   {
    "duration": 163,
    "start_time": "2022-09-21T15:29:48.535Z"
   },
   {
    "duration": 142,
    "start_time": "2022-09-21T15:29:48.700Z"
   },
   {
    "duration": 153,
    "start_time": "2022-09-21T15:29:48.844Z"
   },
   {
    "duration": 158,
    "start_time": "2022-09-21T15:29:48.999Z"
   },
   {
    "duration": 483,
    "start_time": "2022-09-21T15:29:49.159Z"
   },
   {
    "duration": 27,
    "start_time": "2022-09-21T15:29:49.644Z"
   },
   {
    "duration": 168,
    "start_time": "2022-09-21T15:29:49.673Z"
   },
   {
    "duration": 101,
    "start_time": "2022-09-21T15:32:23.747Z"
   },
   {
    "duration": 95,
    "start_time": "2022-09-21T15:32:40.266Z"
   },
   {
    "duration": 208,
    "start_time": "2022-09-21T15:33:06.087Z"
   },
   {
    "duration": 112,
    "start_time": "2022-09-21T15:33:23.768Z"
   },
   {
    "duration": 114,
    "start_time": "2022-09-21T15:33:44.643Z"
   },
   {
    "duration": 105,
    "start_time": "2022-09-21T15:33:58.011Z"
   },
   {
    "duration": 122,
    "start_time": "2022-09-21T15:34:07.619Z"
   },
   {
    "duration": 127,
    "start_time": "2022-09-21T15:34:23.245Z"
   },
   {
    "duration": 110,
    "start_time": "2022-09-21T15:34:56.758Z"
   },
   {
    "duration": 146,
    "start_time": "2022-09-21T15:35:06.095Z"
   },
   {
    "duration": 98,
    "start_time": "2022-09-21T15:35:19.038Z"
   },
   {
    "duration": 143,
    "start_time": "2022-09-21T15:35:28.148Z"
   },
   {
    "duration": 114,
    "start_time": "2022-09-21T15:35:59.919Z"
   },
   {
    "duration": 111,
    "start_time": "2022-09-21T15:37:28.381Z"
   },
   {
    "duration": 137,
    "start_time": "2022-09-21T15:38:45.288Z"
   },
   {
    "duration": 109,
    "start_time": "2022-09-21T15:39:28.066Z"
   },
   {
    "duration": 142,
    "start_time": "2022-09-21T15:39:37.764Z"
   },
   {
    "duration": 219,
    "start_time": "2022-09-21T15:40:05.672Z"
   },
   {
    "duration": 104,
    "start_time": "2022-09-21T15:44:54.866Z"
   },
   {
    "duration": 103,
    "start_time": "2022-09-21T15:45:18.858Z"
   },
   {
    "duration": 108,
    "start_time": "2022-09-21T15:45:28.091Z"
   },
   {
    "duration": 108,
    "start_time": "2022-09-21T15:45:33.869Z"
   },
   {
    "duration": 116,
    "start_time": "2022-09-21T15:45:48.370Z"
   },
   {
    "duration": 119,
    "start_time": "2022-09-21T15:45:54.719Z"
   },
   {
    "duration": 122,
    "start_time": "2022-09-21T15:46:51.932Z"
   },
   {
    "duration": 136,
    "start_time": "2022-09-21T15:47:11.322Z"
   },
   {
    "duration": 132,
    "start_time": "2022-09-21T15:47:43.876Z"
   },
   {
    "duration": 141,
    "start_time": "2022-09-21T15:47:59.046Z"
   },
   {
    "duration": 125,
    "start_time": "2022-09-21T15:48:08.552Z"
   },
   {
    "duration": 123,
    "start_time": "2022-09-21T15:48:55.877Z"
   },
   {
    "duration": 122,
    "start_time": "2022-09-21T15:49:13.565Z"
   },
   {
    "duration": 119,
    "start_time": "2022-09-21T15:49:30.161Z"
   },
   {
    "duration": 492,
    "start_time": "2022-09-21T15:49:50.895Z"
   },
   {
    "duration": 2199,
    "start_time": "2022-09-21T15:49:51.389Z"
   },
   {
    "duration": 16,
    "start_time": "2022-09-21T15:49:53.589Z"
   },
   {
    "duration": 12,
    "start_time": "2022-09-21T15:49:53.607Z"
   },
   {
    "duration": 22,
    "start_time": "2022-09-21T15:49:53.620Z"
   },
   {
    "duration": 128,
    "start_time": "2022-09-21T15:49:53.644Z"
   },
   {
    "duration": 123,
    "start_time": "2022-09-21T15:49:53.773Z"
   },
   {
    "duration": 10,
    "start_time": "2022-09-21T15:49:53.898Z"
   },
   {
    "duration": 46,
    "start_time": "2022-09-21T15:49:53.910Z"
   },
   {
    "duration": 116,
    "start_time": "2022-09-21T15:49:53.958Z"
   },
   {
    "duration": 7,
    "start_time": "2022-09-21T15:49:54.076Z"
   },
   {
    "duration": 311,
    "start_time": "2022-09-21T15:49:54.085Z"
   },
   {
    "duration": 603,
    "start_time": "2022-09-21T15:49:54.397Z"
   },
   {
    "duration": 391,
    "start_time": "2022-09-21T15:49:55.002Z"
   },
   {
    "duration": 318,
    "start_time": "2022-09-21T15:49:55.394Z"
   },
   {
    "duration": 326,
    "start_time": "2022-09-21T15:49:55.713Z"
   },
   {
    "duration": 260,
    "start_time": "2022-09-21T15:49:56.040Z"
   },
   {
    "duration": 298,
    "start_time": "2022-09-21T15:49:56.302Z"
   },
   {
    "duration": 183,
    "start_time": "2022-09-21T15:49:56.601Z"
   },
   {
    "duration": 178,
    "start_time": "2022-09-21T15:49:56.785Z"
   },
   {
    "duration": 219,
    "start_time": "2022-09-21T15:49:56.965Z"
   },
   {
    "duration": 266,
    "start_time": "2022-09-21T15:49:57.186Z"
   },
   {
    "duration": 234,
    "start_time": "2022-09-21T15:49:57.453Z"
   },
   {
    "duration": 257,
    "start_time": "2022-09-21T15:49:57.688Z"
   },
   {
    "duration": 333,
    "start_time": "2022-09-21T15:49:57.947Z"
   },
   {
    "duration": 1211,
    "start_time": "2022-09-21T15:49:58.281Z"
   },
   {
    "duration": 168,
    "start_time": "2022-09-21T15:49:59.493Z"
   },
   {
    "duration": 200,
    "start_time": "2022-09-21T15:49:59.665Z"
   },
   {
    "duration": 178,
    "start_time": "2022-09-21T15:49:59.867Z"
   },
   {
    "duration": 165,
    "start_time": "2022-09-21T15:50:00.047Z"
   },
   {
    "duration": 187,
    "start_time": "2022-09-21T15:50:00.213Z"
   },
   {
    "duration": 539,
    "start_time": "2022-09-21T15:50:00.402Z"
   },
   {
    "duration": 31,
    "start_time": "2022-09-21T15:50:00.943Z"
   },
   {
    "duration": 195,
    "start_time": "2022-09-21T15:50:00.975Z"
   },
   {
    "duration": 84,
    "start_time": "2022-09-21T15:51:22.687Z"
   },
   {
    "duration": 234,
    "start_time": "2022-09-21T15:51:42.148Z"
   },
   {
    "duration": 130,
    "start_time": "2022-09-21T15:55:37.362Z"
   },
   {
    "duration": 130,
    "start_time": "2022-09-21T15:56:05.970Z"
   },
   {
    "duration": 142,
    "start_time": "2022-09-21T15:56:41.913Z"
   },
   {
    "duration": 124,
    "start_time": "2022-09-21T15:56:49.068Z"
   },
   {
    "duration": 114,
    "start_time": "2022-09-21T15:56:59.801Z"
   },
   {
    "duration": 509,
    "start_time": "2022-09-21T15:57:07.334Z"
   },
   {
    "duration": 2126,
    "start_time": "2022-09-21T15:57:07.846Z"
   },
   {
    "duration": 14,
    "start_time": "2022-09-21T15:57:09.973Z"
   },
   {
    "duration": 12,
    "start_time": "2022-09-21T15:57:09.988Z"
   },
   {
    "duration": 18,
    "start_time": "2022-09-21T15:57:10.001Z"
   },
   {
    "duration": 133,
    "start_time": "2022-09-21T15:57:10.020Z"
   },
   {
    "duration": 129,
    "start_time": "2022-09-21T15:57:10.154Z"
   },
   {
    "duration": 125,
    "start_time": "2022-09-21T15:57:10.284Z"
   },
   {
    "duration": 27,
    "start_time": "2022-09-21T15:57:10.411Z"
   },
   {
    "duration": 36,
    "start_time": "2022-09-21T15:57:10.441Z"
   },
   {
    "duration": 110,
    "start_time": "2022-09-21T15:57:10.478Z"
   },
   {
    "duration": 7,
    "start_time": "2022-09-21T15:57:10.589Z"
   },
   {
    "duration": 353,
    "start_time": "2022-09-21T15:57:10.597Z"
   },
   {
    "duration": 728,
    "start_time": "2022-09-21T15:57:10.952Z"
   },
   {
    "duration": 409,
    "start_time": "2022-09-21T15:57:11.682Z"
   },
   {
    "duration": 328,
    "start_time": "2022-09-21T15:57:12.092Z"
   },
   {
    "duration": 333,
    "start_time": "2022-09-21T15:57:12.421Z"
   },
   {
    "duration": 358,
    "start_time": "2022-09-21T15:57:12.755Z"
   },
   {
    "duration": 230,
    "start_time": "2022-09-21T15:57:13.115Z"
   },
   {
    "duration": 201,
    "start_time": "2022-09-21T15:57:13.348Z"
   },
   {
    "duration": 169,
    "start_time": "2022-09-21T15:57:13.551Z"
   },
   {
    "duration": 235,
    "start_time": "2022-09-21T15:57:13.721Z"
   },
   {
    "duration": 250,
    "start_time": "2022-09-21T15:57:13.958Z"
   },
   {
    "duration": 220,
    "start_time": "2022-09-21T15:57:14.210Z"
   },
   {
    "duration": 235,
    "start_time": "2022-09-21T15:57:14.433Z"
   },
   {
    "duration": 335,
    "start_time": "2022-09-21T15:57:14.669Z"
   },
   {
    "duration": 1189,
    "start_time": "2022-09-21T15:57:15.006Z"
   },
   {
    "duration": 180,
    "start_time": "2022-09-21T15:57:16.199Z"
   },
   {
    "duration": 170,
    "start_time": "2022-09-21T15:57:16.381Z"
   },
   {
    "duration": 155,
    "start_time": "2022-09-21T15:57:16.553Z"
   },
   {
    "duration": 173,
    "start_time": "2022-09-21T15:57:16.710Z"
   },
   {
    "duration": 174,
    "start_time": "2022-09-21T15:57:16.885Z"
   },
   {
    "duration": 511,
    "start_time": "2022-09-21T15:57:17.061Z"
   },
   {
    "duration": 26,
    "start_time": "2022-09-21T15:57:17.574Z"
   },
   {
    "duration": 302,
    "start_time": "2022-09-21T15:57:17.602Z"
   },
   {
    "duration": 77,
    "start_time": "2022-09-21T15:58:33.775Z"
   },
   {
    "duration": 91,
    "start_time": "2022-09-21T15:58:57.507Z"
   },
   {
    "duration": 79,
    "start_time": "2022-09-21T15:59:05.360Z"
   },
   {
    "duration": 78,
    "start_time": "2022-09-21T15:59:29.619Z"
   },
   {
    "duration": 608,
    "start_time": "2022-09-21T16:00:25.807Z"
   },
   {
    "duration": 2242,
    "start_time": "2022-09-21T16:00:26.418Z"
   },
   {
    "duration": 15,
    "start_time": "2022-09-21T16:00:28.661Z"
   },
   {
    "duration": 18,
    "start_time": "2022-09-21T16:00:28.679Z"
   },
   {
    "duration": 29,
    "start_time": "2022-09-21T16:00:28.699Z"
   },
   {
    "duration": 126,
    "start_time": "2022-09-21T16:00:28.732Z"
   },
   {
    "duration": 124,
    "start_time": "2022-09-21T16:00:28.860Z"
   },
   {
    "duration": 141,
    "start_time": "2022-09-21T16:00:28.986Z"
   },
   {
    "duration": 16,
    "start_time": "2022-09-21T16:00:29.129Z"
   },
   {
    "duration": 50,
    "start_time": "2022-09-21T16:00:29.149Z"
   },
   {
    "duration": 116,
    "start_time": "2022-09-21T16:00:29.201Z"
   },
   {
    "duration": 13,
    "start_time": "2022-09-21T16:00:29.318Z"
   },
   {
    "duration": 336,
    "start_time": "2022-09-21T16:00:29.333Z"
   },
   {
    "duration": 631,
    "start_time": "2022-09-21T16:00:29.670Z"
   },
   {
    "duration": 399,
    "start_time": "2022-09-21T16:00:30.303Z"
   },
   {
    "duration": 368,
    "start_time": "2022-09-21T16:00:30.704Z"
   },
   {
    "duration": 326,
    "start_time": "2022-09-21T16:00:31.074Z"
   },
   {
    "duration": 325,
    "start_time": "2022-09-21T16:00:31.402Z"
   },
   {
    "duration": 217,
    "start_time": "2022-09-21T16:00:31.728Z"
   },
   {
    "duration": 180,
    "start_time": "2022-09-21T16:00:31.947Z"
   },
   {
    "duration": 176,
    "start_time": "2022-09-21T16:00:32.138Z"
   },
   {
    "duration": 247,
    "start_time": "2022-09-21T16:00:32.315Z"
   },
   {
    "duration": 247,
    "start_time": "2022-09-21T16:00:32.564Z"
   },
   {
    "duration": 230,
    "start_time": "2022-09-21T16:00:32.812Z"
   },
   {
    "duration": 226,
    "start_time": "2022-09-21T16:00:33.043Z"
   },
   {
    "duration": 377,
    "start_time": "2022-09-21T16:00:33.271Z"
   },
   {
    "duration": 1141,
    "start_time": "2022-09-21T16:00:33.650Z"
   },
   {
    "duration": 182,
    "start_time": "2022-09-21T16:00:34.794Z"
   },
   {
    "duration": 173,
    "start_time": "2022-09-21T16:00:34.978Z"
   },
   {
    "duration": 155,
    "start_time": "2022-09-21T16:00:35.152Z"
   },
   {
    "duration": 176,
    "start_time": "2022-09-21T16:00:35.309Z"
   },
   {
    "duration": 174,
    "start_time": "2022-09-21T16:00:35.487Z"
   },
   {
    "duration": 576,
    "start_time": "2022-09-21T16:00:35.663Z"
   },
   {
    "duration": 39,
    "start_time": "2022-09-21T16:00:36.240Z"
   },
   {
    "duration": 296,
    "start_time": "2022-09-21T16:00:36.281Z"
   }
  ],
  "kernelspec": {
   "display_name": "Python 3 (ipykernel)",
   "language": "python",
   "name": "python3"
  },
  "language_info": {
   "codemirror_mode": {
    "name": "ipython",
    "version": 3
   },
   "file_extension": ".py",
   "mimetype": "text/x-python",
   "name": "python",
   "nbconvert_exporter": "python",
   "pygments_lexer": "ipython3",
   "version": "3.9.12"
  },
  "toc": {
   "base_numbering": 1,
   "nav_menu": {},
   "number_sections": true,
   "sideBar": true,
   "skip_h1_title": true,
   "title_cell": "Table of Contents",
   "title_sidebar": "Contents",
   "toc_cell": false,
   "toc_position": {},
   "toc_section_display": true,
   "toc_window_display": false
  }
 },
 "nbformat": 4,
 "nbformat_minor": 2
}
