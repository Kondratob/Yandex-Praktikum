{
 "cells": [
  {
   "cell_type": "markdown",
   "id": "5a243c9c",
   "metadata": {},
   "source": [
    "<b>Привет!</b>\n",
    "\n",
    "Меня зовут Харочкина Екатерина, и я буду проверять твой проект. Давай общаться на «ты», но если это неудобно, пожалуйста, сообщи. Моя основная цель — не указать на совершенные тобою ошибки, поделиться своим опытом и помочь тебе совершенствоваться как профессионалу.\n",
    "\n",
    "Ты подготовил замечательный проект, но есть аспекты, которые еще можно улучшить. Я буду использовать комментарии с цветовой разметкой. Пожалуйста, **не перемещай, не изменяй и не удаляй их**. Это поможет выполнить повторную проверку твоего проекта оперативнее.\n",
    "\n",
    "<div class=\"alert alert-danger\">\n",
    "<b>Комментарий ревьюера №1</b> \n",
    "    \n",
    "Таким комментарием выделены самые важные замечания. Без их отработки проект не будет принят.\n",
    "</div>\n",
    "\n",
    "<div class=\"alert alert-warning\">\n",
    "<b>Комментарий ревьюера №1</b> \n",
    "    \n",
    "Таким комментарием выделены небольшие замечания и рекомендации, которые будет хорошо учесть.\n",
    "</div>\n",
    "\n",
    "<div class=\"alert alert-success\">\n",
    "<b>Комментарий ревьюера №1</b> \n",
    "    \n",
    "Таким комментарием выделены удачные решения🙂\n",
    "</div>\n",
    "\n",
    "\n",
    "Давай работать над проектом в диалоге: если ты **что-то меняешь** в проекте по моим рекомендациям — **пиши об этом**. После того, как ты все доработаешь, я смогу принять твой проект!) "
   ]
  },
  {
   "cell_type": "markdown",
   "id": "b20c2065",
   "metadata": {
    "deletable": false,
    "editable": false,
    "id": "c81daeeb"
   },
   "source": [
    "# Исследование надежности заемщиков\n"
   ]
  },
  {
   "cell_type": "markdown",
   "id": "67754938",
   "metadata": {
    "deletable": false,
    "editable": false,
    "id": "827c20bf"
   },
   "source": [
    "Во второй части проекта вы выполните шаги 3 и 4. Их вручную проверит ревьюер.\n",
    "Чтобы вам не пришлось писать код заново для шагов 1 и 2, мы добавили авторские решения в ячейки с кодом. \n",
    "\n"
   ]
  },
  {
   "cell_type": "markdown",
   "id": "e25331dd",
   "metadata": {
    "deletable": false,
    "editable": false,
    "id": "744d7639"
   },
   "source": [
    "## Откройте таблицу и изучите общую информацию о данных"
   ]
  },
  {
   "cell_type": "markdown",
   "id": "78569d71",
   "metadata": {
    "deletable": false,
    "editable": false,
    "id": "e7a14c31"
   },
   "source": [
    "**Задание 1. Импортируйте библиотеку pandas. Считайте данные из csv-файла в датафрейм и сохраните в переменную `data`. Путь к файлу:**\n",
    "\n",
    "`/datasets/data.csv`"
   ]
  },
  {
   "cell_type": "code",
   "execution_count": 1,
   "id": "903379c2",
   "metadata": {
    "deletable": false,
    "id": "7bcf75c9"
   },
   "outputs": [],
   "source": [
    "import pandas as pd\n",
    "\n",
    "try:\n",
    "    data = pd.read_csv('/datasets/data.csv')\n",
    "except:\n",
    "    data = pd.read_csv('https://code.s3.yandex.net/datasets/data.csv')"
   ]
  },
  {
   "cell_type": "markdown",
   "id": "740d31e2",
   "metadata": {
    "deletable": false,
    "editable": false,
    "id": "b8038fe3"
   },
   "source": [
    "**Задание 2. Выведите первые 20 строчек датафрейма `data` на экран.**"
   ]
  },
  {
   "cell_type": "code",
   "execution_count": 2,
   "id": "0ffb5a24",
   "metadata": {
    "deletable": false,
    "id": "2a7cab99",
    "outputId": "1a8f3ef2-d323-4ec2-ddf7-89670b5944c4"
   },
   "outputs": [
    {
     "data": {
      "text/html": [
       "<div>\n",
       "<style scoped>\n",
       "    .dataframe tbody tr th:only-of-type {\n",
       "        vertical-align: middle;\n",
       "    }\n",
       "\n",
       "    .dataframe tbody tr th {\n",
       "        vertical-align: top;\n",
       "    }\n",
       "\n",
       "    .dataframe thead th {\n",
       "        text-align: right;\n",
       "    }\n",
       "</style>\n",
       "<table border=\"1\" class=\"dataframe\">\n",
       "  <thead>\n",
       "    <tr style=\"text-align: right;\">\n",
       "      <th></th>\n",
       "      <th>children</th>\n",
       "      <th>days_employed</th>\n",
       "      <th>dob_years</th>\n",
       "      <th>education</th>\n",
       "      <th>education_id</th>\n",
       "      <th>family_status</th>\n",
       "      <th>family_status_id</th>\n",
       "      <th>gender</th>\n",
       "      <th>income_type</th>\n",
       "      <th>debt</th>\n",
       "      <th>total_income</th>\n",
       "      <th>purpose</th>\n",
       "    </tr>\n",
       "  </thead>\n",
       "  <tbody>\n",
       "    <tr>\n",
       "      <th>0</th>\n",
       "      <td>1</td>\n",
       "      <td>-8437.673028</td>\n",
       "      <td>42</td>\n",
       "      <td>высшее</td>\n",
       "      <td>0</td>\n",
       "      <td>женат / замужем</td>\n",
       "      <td>0</td>\n",
       "      <td>F</td>\n",
       "      <td>сотрудник</td>\n",
       "      <td>0</td>\n",
       "      <td>253875.639453</td>\n",
       "      <td>покупка жилья</td>\n",
       "    </tr>\n",
       "    <tr>\n",
       "      <th>1</th>\n",
       "      <td>1</td>\n",
       "      <td>-4024.803754</td>\n",
       "      <td>36</td>\n",
       "      <td>среднее</td>\n",
       "      <td>1</td>\n",
       "      <td>женат / замужем</td>\n",
       "      <td>0</td>\n",
       "      <td>F</td>\n",
       "      <td>сотрудник</td>\n",
       "      <td>0</td>\n",
       "      <td>112080.014102</td>\n",
       "      <td>приобретение автомобиля</td>\n",
       "    </tr>\n",
       "    <tr>\n",
       "      <th>2</th>\n",
       "      <td>0</td>\n",
       "      <td>-5623.422610</td>\n",
       "      <td>33</td>\n",
       "      <td>Среднее</td>\n",
       "      <td>1</td>\n",
       "      <td>женат / замужем</td>\n",
       "      <td>0</td>\n",
       "      <td>M</td>\n",
       "      <td>сотрудник</td>\n",
       "      <td>0</td>\n",
       "      <td>145885.952297</td>\n",
       "      <td>покупка жилья</td>\n",
       "    </tr>\n",
       "    <tr>\n",
       "      <th>3</th>\n",
       "      <td>3</td>\n",
       "      <td>-4124.747207</td>\n",
       "      <td>32</td>\n",
       "      <td>среднее</td>\n",
       "      <td>1</td>\n",
       "      <td>женат / замужем</td>\n",
       "      <td>0</td>\n",
       "      <td>M</td>\n",
       "      <td>сотрудник</td>\n",
       "      <td>0</td>\n",
       "      <td>267628.550329</td>\n",
       "      <td>дополнительное образование</td>\n",
       "    </tr>\n",
       "    <tr>\n",
       "      <th>4</th>\n",
       "      <td>0</td>\n",
       "      <td>340266.072047</td>\n",
       "      <td>53</td>\n",
       "      <td>среднее</td>\n",
       "      <td>1</td>\n",
       "      <td>гражданский брак</td>\n",
       "      <td>1</td>\n",
       "      <td>F</td>\n",
       "      <td>пенсионер</td>\n",
       "      <td>0</td>\n",
       "      <td>158616.077870</td>\n",
       "      <td>сыграть свадьбу</td>\n",
       "    </tr>\n",
       "    <tr>\n",
       "      <th>5</th>\n",
       "      <td>0</td>\n",
       "      <td>-926.185831</td>\n",
       "      <td>27</td>\n",
       "      <td>высшее</td>\n",
       "      <td>0</td>\n",
       "      <td>гражданский брак</td>\n",
       "      <td>1</td>\n",
       "      <td>M</td>\n",
       "      <td>компаньон</td>\n",
       "      <td>0</td>\n",
       "      <td>255763.565419</td>\n",
       "      <td>покупка жилья</td>\n",
       "    </tr>\n",
       "    <tr>\n",
       "      <th>6</th>\n",
       "      <td>0</td>\n",
       "      <td>-2879.202052</td>\n",
       "      <td>43</td>\n",
       "      <td>высшее</td>\n",
       "      <td>0</td>\n",
       "      <td>женат / замужем</td>\n",
       "      <td>0</td>\n",
       "      <td>F</td>\n",
       "      <td>компаньон</td>\n",
       "      <td>0</td>\n",
       "      <td>240525.971920</td>\n",
       "      <td>операции с жильем</td>\n",
       "    </tr>\n",
       "    <tr>\n",
       "      <th>7</th>\n",
       "      <td>0</td>\n",
       "      <td>-152.779569</td>\n",
       "      <td>50</td>\n",
       "      <td>СРЕДНЕЕ</td>\n",
       "      <td>1</td>\n",
       "      <td>женат / замужем</td>\n",
       "      <td>0</td>\n",
       "      <td>M</td>\n",
       "      <td>сотрудник</td>\n",
       "      <td>0</td>\n",
       "      <td>135823.934197</td>\n",
       "      <td>образование</td>\n",
       "    </tr>\n",
       "    <tr>\n",
       "      <th>8</th>\n",
       "      <td>2</td>\n",
       "      <td>-6929.865299</td>\n",
       "      <td>35</td>\n",
       "      <td>ВЫСШЕЕ</td>\n",
       "      <td>0</td>\n",
       "      <td>гражданский брак</td>\n",
       "      <td>1</td>\n",
       "      <td>F</td>\n",
       "      <td>сотрудник</td>\n",
       "      <td>0</td>\n",
       "      <td>95856.832424</td>\n",
       "      <td>на проведение свадьбы</td>\n",
       "    </tr>\n",
       "    <tr>\n",
       "      <th>9</th>\n",
       "      <td>0</td>\n",
       "      <td>-2188.756445</td>\n",
       "      <td>41</td>\n",
       "      <td>среднее</td>\n",
       "      <td>1</td>\n",
       "      <td>женат / замужем</td>\n",
       "      <td>0</td>\n",
       "      <td>M</td>\n",
       "      <td>сотрудник</td>\n",
       "      <td>0</td>\n",
       "      <td>144425.938277</td>\n",
       "      <td>покупка жилья для семьи</td>\n",
       "    </tr>\n",
       "    <tr>\n",
       "      <th>10</th>\n",
       "      <td>2</td>\n",
       "      <td>-4171.483647</td>\n",
       "      <td>36</td>\n",
       "      <td>высшее</td>\n",
       "      <td>0</td>\n",
       "      <td>женат / замужем</td>\n",
       "      <td>0</td>\n",
       "      <td>M</td>\n",
       "      <td>компаньон</td>\n",
       "      <td>0</td>\n",
       "      <td>113943.491460</td>\n",
       "      <td>покупка недвижимости</td>\n",
       "    </tr>\n",
       "    <tr>\n",
       "      <th>11</th>\n",
       "      <td>0</td>\n",
       "      <td>-792.701887</td>\n",
       "      <td>40</td>\n",
       "      <td>среднее</td>\n",
       "      <td>1</td>\n",
       "      <td>женат / замужем</td>\n",
       "      <td>0</td>\n",
       "      <td>F</td>\n",
       "      <td>сотрудник</td>\n",
       "      <td>0</td>\n",
       "      <td>77069.234271</td>\n",
       "      <td>покупка коммерческой недвижимости</td>\n",
       "    </tr>\n",
       "    <tr>\n",
       "      <th>12</th>\n",
       "      <td>0</td>\n",
       "      <td>NaN</td>\n",
       "      <td>65</td>\n",
       "      <td>среднее</td>\n",
       "      <td>1</td>\n",
       "      <td>гражданский брак</td>\n",
       "      <td>1</td>\n",
       "      <td>M</td>\n",
       "      <td>пенсионер</td>\n",
       "      <td>0</td>\n",
       "      <td>NaN</td>\n",
       "      <td>сыграть свадьбу</td>\n",
       "    </tr>\n",
       "    <tr>\n",
       "      <th>13</th>\n",
       "      <td>0</td>\n",
       "      <td>-1846.641941</td>\n",
       "      <td>54</td>\n",
       "      <td>неоконченное высшее</td>\n",
       "      <td>2</td>\n",
       "      <td>женат / замужем</td>\n",
       "      <td>0</td>\n",
       "      <td>F</td>\n",
       "      <td>сотрудник</td>\n",
       "      <td>0</td>\n",
       "      <td>130458.228857</td>\n",
       "      <td>приобретение автомобиля</td>\n",
       "    </tr>\n",
       "    <tr>\n",
       "      <th>14</th>\n",
       "      <td>0</td>\n",
       "      <td>-1844.956182</td>\n",
       "      <td>56</td>\n",
       "      <td>высшее</td>\n",
       "      <td>0</td>\n",
       "      <td>гражданский брак</td>\n",
       "      <td>1</td>\n",
       "      <td>F</td>\n",
       "      <td>компаньон</td>\n",
       "      <td>1</td>\n",
       "      <td>165127.911772</td>\n",
       "      <td>покупка жилой недвижимости</td>\n",
       "    </tr>\n",
       "    <tr>\n",
       "      <th>15</th>\n",
       "      <td>1</td>\n",
       "      <td>-972.364419</td>\n",
       "      <td>26</td>\n",
       "      <td>среднее</td>\n",
       "      <td>1</td>\n",
       "      <td>женат / замужем</td>\n",
       "      <td>0</td>\n",
       "      <td>F</td>\n",
       "      <td>сотрудник</td>\n",
       "      <td>0</td>\n",
       "      <td>116820.904450</td>\n",
       "      <td>строительство собственной недвижимости</td>\n",
       "    </tr>\n",
       "    <tr>\n",
       "      <th>16</th>\n",
       "      <td>0</td>\n",
       "      <td>-1719.934226</td>\n",
       "      <td>35</td>\n",
       "      <td>среднее</td>\n",
       "      <td>1</td>\n",
       "      <td>женат / замужем</td>\n",
       "      <td>0</td>\n",
       "      <td>F</td>\n",
       "      <td>сотрудник</td>\n",
       "      <td>0</td>\n",
       "      <td>289202.704229</td>\n",
       "      <td>недвижимость</td>\n",
       "    </tr>\n",
       "    <tr>\n",
       "      <th>17</th>\n",
       "      <td>0</td>\n",
       "      <td>-2369.999720</td>\n",
       "      <td>33</td>\n",
       "      <td>высшее</td>\n",
       "      <td>0</td>\n",
       "      <td>гражданский брак</td>\n",
       "      <td>1</td>\n",
       "      <td>M</td>\n",
       "      <td>сотрудник</td>\n",
       "      <td>0</td>\n",
       "      <td>90410.586745</td>\n",
       "      <td>строительство недвижимости</td>\n",
       "    </tr>\n",
       "    <tr>\n",
       "      <th>18</th>\n",
       "      <td>0</td>\n",
       "      <td>400281.136913</td>\n",
       "      <td>53</td>\n",
       "      <td>среднее</td>\n",
       "      <td>1</td>\n",
       "      <td>вдовец / вдова</td>\n",
       "      <td>2</td>\n",
       "      <td>F</td>\n",
       "      <td>пенсионер</td>\n",
       "      <td>0</td>\n",
       "      <td>56823.777243</td>\n",
       "      <td>на покупку подержанного автомобиля</td>\n",
       "    </tr>\n",
       "    <tr>\n",
       "      <th>19</th>\n",
       "      <td>0</td>\n",
       "      <td>-10038.818549</td>\n",
       "      <td>48</td>\n",
       "      <td>СРЕДНЕЕ</td>\n",
       "      <td>1</td>\n",
       "      <td>в разводе</td>\n",
       "      <td>3</td>\n",
       "      <td>F</td>\n",
       "      <td>сотрудник</td>\n",
       "      <td>0</td>\n",
       "      <td>242831.107982</td>\n",
       "      <td>на покупку своего автомобиля</td>\n",
       "    </tr>\n",
       "  </tbody>\n",
       "</table>\n",
       "</div>"
      ],
      "text/plain": [
       "    children  days_employed  dob_years            education  education_id  \\\n",
       "0          1   -8437.673028         42               высшее             0   \n",
       "1          1   -4024.803754         36              среднее             1   \n",
       "2          0   -5623.422610         33              Среднее             1   \n",
       "3          3   -4124.747207         32              среднее             1   \n",
       "4          0  340266.072047         53              среднее             1   \n",
       "5          0    -926.185831         27               высшее             0   \n",
       "6          0   -2879.202052         43               высшее             0   \n",
       "7          0    -152.779569         50              СРЕДНЕЕ             1   \n",
       "8          2   -6929.865299         35               ВЫСШЕЕ             0   \n",
       "9          0   -2188.756445         41              среднее             1   \n",
       "10         2   -4171.483647         36               высшее             0   \n",
       "11         0    -792.701887         40              среднее             1   \n",
       "12         0            NaN         65              среднее             1   \n",
       "13         0   -1846.641941         54  неоконченное высшее             2   \n",
       "14         0   -1844.956182         56               высшее             0   \n",
       "15         1    -972.364419         26              среднее             1   \n",
       "16         0   -1719.934226         35              среднее             1   \n",
       "17         0   -2369.999720         33               высшее             0   \n",
       "18         0  400281.136913         53              среднее             1   \n",
       "19         0  -10038.818549         48              СРЕДНЕЕ             1   \n",
       "\n",
       "       family_status  family_status_id gender income_type  debt  \\\n",
       "0    женат / замужем                 0      F   сотрудник     0   \n",
       "1    женат / замужем                 0      F   сотрудник     0   \n",
       "2    женат / замужем                 0      M   сотрудник     0   \n",
       "3    женат / замужем                 0      M   сотрудник     0   \n",
       "4   гражданский брак                 1      F   пенсионер     0   \n",
       "5   гражданский брак                 1      M   компаньон     0   \n",
       "6    женат / замужем                 0      F   компаньон     0   \n",
       "7    женат / замужем                 0      M   сотрудник     0   \n",
       "8   гражданский брак                 1      F   сотрудник     0   \n",
       "9    женат / замужем                 0      M   сотрудник     0   \n",
       "10   женат / замужем                 0      M   компаньон     0   \n",
       "11   женат / замужем                 0      F   сотрудник     0   \n",
       "12  гражданский брак                 1      M   пенсионер     0   \n",
       "13   женат / замужем                 0      F   сотрудник     0   \n",
       "14  гражданский брак                 1      F   компаньон     1   \n",
       "15   женат / замужем                 0      F   сотрудник     0   \n",
       "16   женат / замужем                 0      F   сотрудник     0   \n",
       "17  гражданский брак                 1      M   сотрудник     0   \n",
       "18    вдовец / вдова                 2      F   пенсионер     0   \n",
       "19         в разводе                 3      F   сотрудник     0   \n",
       "\n",
       "     total_income                                 purpose  \n",
       "0   253875.639453                           покупка жилья  \n",
       "1   112080.014102                 приобретение автомобиля  \n",
       "2   145885.952297                           покупка жилья  \n",
       "3   267628.550329              дополнительное образование  \n",
       "4   158616.077870                         сыграть свадьбу  \n",
       "5   255763.565419                           покупка жилья  \n",
       "6   240525.971920                       операции с жильем  \n",
       "7   135823.934197                             образование  \n",
       "8    95856.832424                   на проведение свадьбы  \n",
       "9   144425.938277                 покупка жилья для семьи  \n",
       "10  113943.491460                    покупка недвижимости  \n",
       "11   77069.234271       покупка коммерческой недвижимости  \n",
       "12            NaN                         сыграть свадьбу  \n",
       "13  130458.228857                 приобретение автомобиля  \n",
       "14  165127.911772              покупка жилой недвижимости  \n",
       "15  116820.904450  строительство собственной недвижимости  \n",
       "16  289202.704229                            недвижимость  \n",
       "17   90410.586745              строительство недвижимости  \n",
       "18   56823.777243      на покупку подержанного автомобиля  \n",
       "19  242831.107982            на покупку своего автомобиля  "
      ]
     },
     "execution_count": 2,
     "metadata": {},
     "output_type": "execute_result"
    }
   ],
   "source": [
    "data.head(20)"
   ]
  },
  {
   "cell_type": "markdown",
   "id": "3f8fa6c9",
   "metadata": {
    "deletable": false,
    "editable": false,
    "id": "1c12e233"
   },
   "source": [
    "**Задание 3. Выведите основную информацию о датафрейме с помощью метода `info()`.**"
   ]
  },
  {
   "cell_type": "code",
   "execution_count": 3,
   "id": "1929ccc9",
   "metadata": {
    "deletable": false,
    "id": "2b757bca",
    "outputId": "15376089-8dad-46c9-b520-c05248d43158"
   },
   "outputs": [
    {
     "name": "stdout",
     "output_type": "stream",
     "text": [
      "<class 'pandas.core.frame.DataFrame'>\n",
      "RangeIndex: 21525 entries, 0 to 21524\n",
      "Data columns (total 12 columns):\n",
      " #   Column            Non-Null Count  Dtype  \n",
      "---  ------            --------------  -----  \n",
      " 0   children          21525 non-null  int64  \n",
      " 1   days_employed     19351 non-null  float64\n",
      " 2   dob_years         21525 non-null  int64  \n",
      " 3   education         21525 non-null  object \n",
      " 4   education_id      21525 non-null  int64  \n",
      " 5   family_status     21525 non-null  object \n",
      " 6   family_status_id  21525 non-null  int64  \n",
      " 7   gender            21525 non-null  object \n",
      " 8   income_type       21525 non-null  object \n",
      " 9   debt              21525 non-null  int64  \n",
      " 10  total_income      19351 non-null  float64\n",
      " 11  purpose           21525 non-null  object \n",
      "dtypes: float64(2), int64(5), object(5)\n",
      "memory usage: 2.0+ MB\n"
     ]
    }
   ],
   "source": [
    "data.info()"
   ]
  },
  {
   "cell_type": "markdown",
   "id": "38ae1554",
   "metadata": {
    "deletable": false,
    "editable": false,
    "id": "333ec665"
   },
   "source": [
    "## Предобработка данных"
   ]
  },
  {
   "cell_type": "markdown",
   "id": "e2a15ecb",
   "metadata": {
    "deletable": false,
    "editable": false,
    "id": "02d92d53"
   },
   "source": [
    "### Удаление пропусков"
   ]
  },
  {
   "cell_type": "markdown",
   "id": "8ad9a453",
   "metadata": {
    "deletable": false,
    "editable": false,
    "id": "cd84967c"
   },
   "source": [
    "**Задание 4. Выведите количество пропущенных значений для каждого столбца. Используйте комбинацию двух методов.**"
   ]
  },
  {
   "cell_type": "code",
   "execution_count": 4,
   "id": "d9b2c6cf",
   "metadata": {
    "deletable": false,
    "id": "7f9b2309",
    "outputId": "81f4d817-781c-465c-ed15-91ce4446810d"
   },
   "outputs": [
    {
     "data": {
      "text/plain": [
       "children               0\n",
       "days_employed       2174\n",
       "dob_years              0\n",
       "education              0\n",
       "education_id           0\n",
       "family_status          0\n",
       "family_status_id       0\n",
       "gender                 0\n",
       "income_type            0\n",
       "debt                   0\n",
       "total_income        2174\n",
       "purpose                0\n",
       "dtype: int64"
      ]
     },
     "execution_count": 4,
     "metadata": {},
     "output_type": "execute_result"
    }
   ],
   "source": [
    "data.isna().sum()"
   ]
  },
  {
   "cell_type": "markdown",
   "id": "e61cc532",
   "metadata": {
    "deletable": false,
    "editable": false,
    "id": "db86e27b"
   },
   "source": [
    "**Задание 5. В двух столбцах есть пропущенные значения. Один из них — `days_employed`. Пропуски в этом столбце вы обработаете на следующем этапе. Другой столбец с пропущенными значениями — `total_income` — хранит данные о доходах. На сумму дохода сильнее всего влияет тип занятости, поэтому заполнить пропуски в этом столбце нужно медианным значением по каждому типу из столбца `income_type`. Например, у человека с типом занятости `сотрудник` пропуск в столбце `total_income` должен быть заполнен медианным доходом среди всех записей с тем же типом.**"
   ]
  },
  {
   "cell_type": "code",
   "execution_count": 5,
   "id": "eaf09b74",
   "metadata": {
    "deletable": false,
    "id": "42006a93"
   },
   "outputs": [],
   "source": [
    "for t in data['income_type'].unique():\n",
    "    data.loc[(data['income_type'] == t) & (data['total_income'].isna()), 'total_income'] = \\\n",
    "    data.loc[(data['income_type'] == t), 'total_income'].median()"
   ]
  },
  {
   "cell_type": "markdown",
   "id": "ce058adc",
   "metadata": {
    "deletable": false,
    "editable": false,
    "id": "89da5ece"
   },
   "source": [
    "### Обработка аномальных значений"
   ]
  },
  {
   "cell_type": "markdown",
   "id": "74a7aad0",
   "metadata": {
    "deletable": false,
    "editable": false,
    "id": "57964554"
   },
   "source": [
    "**Задание 6. В данных могут встречаться артефакты (аномалии) — значения, которые не отражают действительность и появились по какой-то ошибке. таким артефактом будет отрицательное количество дней трудового стажа в столбце `days_employed`. Для реальных данных это нормально. Обработайте значения в этом столбце: замените все отрицательные значения положительными с помощью метода `abs()`.**"
   ]
  },
  {
   "cell_type": "code",
   "execution_count": 6,
   "id": "d2c1ffed",
   "metadata": {
    "deletable": false,
    "id": "f6f055bf"
   },
   "outputs": [],
   "source": [
    "data['days_employed'] = data['days_employed'].abs()"
   ]
  },
  {
   "cell_type": "markdown",
   "id": "13bea775",
   "metadata": {
    "deletable": false,
    "editable": false,
    "id": "6107dd2f"
   },
   "source": [
    "**Задание 7. Для каждого типа занятости выведите медианное значение трудового стажа `days_employed` в днях.**"
   ]
  },
  {
   "cell_type": "code",
   "execution_count": 7,
   "id": "ba937eed",
   "metadata": {
    "deletable": false,
    "id": "85a5faf6",
    "outputId": "801ef80e-522b-4668-f34e-565af7432bcf"
   },
   "outputs": [
    {
     "data": {
      "text/plain": [
       "income_type\n",
       "безработный        366413.652744\n",
       "в декрете            3296.759962\n",
       "госслужащий          2689.368353\n",
       "компаньон            1547.382223\n",
       "пенсионер          365213.306266\n",
       "предприниматель       520.848083\n",
       "сотрудник            1574.202821\n",
       "студент               578.751554\n",
       "Name: days_employed, dtype: float64"
      ]
     },
     "execution_count": 7,
     "metadata": {},
     "output_type": "execute_result"
    }
   ],
   "source": [
    "data.groupby('income_type')['days_employed'].agg('median')"
   ]
  },
  {
   "cell_type": "markdown",
   "id": "41332e1b",
   "metadata": {
    "deletable": false,
    "editable": false,
    "id": "38d1a030"
   },
   "source": [
    "У двух типов (безработные и пенсионеры) получатся аномально большие значения. Исправить такие значения сложно, поэтому оставьте их как есть. Тем более этот столбец не понадобится вам для исследования."
   ]
  },
  {
   "cell_type": "markdown",
   "id": "35dcdc22",
   "metadata": {
    "deletable": false,
    "editable": false,
    "id": "d8a9f147"
   },
   "source": [
    "**Задание 8. Выведите перечень уникальных значений столбца `children`.**"
   ]
  },
  {
   "cell_type": "code",
   "execution_count": 8,
   "id": "d6323e55",
   "metadata": {
    "deletable": false,
    "id": "ef5056eb",
    "outputId": "6975b15c-7f95-4697-d16d-a0c79b657b03"
   },
   "outputs": [
    {
     "data": {
      "text/plain": [
       "array([ 1,  0,  3,  2, -1,  4, 20,  5])"
      ]
     },
     "execution_count": 8,
     "metadata": {},
     "output_type": "execute_result"
    }
   ],
   "source": [
    "data['children'].unique()"
   ]
  },
  {
   "cell_type": "markdown",
   "id": "96b40fef",
   "metadata": {
    "deletable": false,
    "editable": false,
    "id": "40b9ebf2"
   },
   "source": [
    "**Задание 9. В столбце `children` есть два аномальных значения. Удалите строки, в которых встречаются такие аномальные значения из датафрейма `data`.**"
   ]
  },
  {
   "cell_type": "code",
   "execution_count": 9,
   "id": "17e588c5",
   "metadata": {
    "deletable": false,
    "id": "3ff9801d"
   },
   "outputs": [],
   "source": [
    "data = data[(data['children'] != -1) & (data['children'] != 20)]"
   ]
  },
  {
   "cell_type": "markdown",
   "id": "64a4c398",
   "metadata": {
    "deletable": false,
    "editable": false,
    "id": "bbc4d0ce"
   },
   "source": [
    "**Задание 10. Ещё раз выведите перечень уникальных значений столбца `children`, чтобы убедиться, что артефакты удалены.**"
   ]
  },
  {
   "cell_type": "code",
   "execution_count": 10,
   "id": "eb614114",
   "metadata": {
    "deletable": false,
    "id": "ad4fa8b7",
    "outputId": "b2097101-d49d-44d9-901b-32a65c9463d1"
   },
   "outputs": [
    {
     "data": {
      "text/plain": [
       "array([1, 0, 3, 2, 4, 5])"
      ]
     },
     "execution_count": 10,
     "metadata": {},
     "output_type": "execute_result"
    }
   ],
   "source": [
    "data['children'].unique()"
   ]
  },
  {
   "cell_type": "markdown",
   "id": "4f5423e0",
   "metadata": {
    "deletable": false,
    "editable": false,
    "id": "75440b63"
   },
   "source": [
    "### Удаление пропусков (продолжение)"
   ]
  },
  {
   "cell_type": "markdown",
   "id": "681b6175",
   "metadata": {
    "deletable": false,
    "editable": false,
    "id": "f4ea573f"
   },
   "source": [
    "**Задание 11. Заполните пропуски в столбце `days_employed` медианными значениями по каждого типа занятости `income_type`.**"
   ]
  },
  {
   "cell_type": "code",
   "execution_count": 11,
   "id": "ac6c86b4",
   "metadata": {
    "deletable": false,
    "id": "af6b1a7e"
   },
   "outputs": [],
   "source": [
    "for t in data['income_type'].unique():\n",
    "    data.loc[(data['income_type'] == t) & (data['days_employed'].isna()), 'days_employed'] = \\\n",
    "    data.loc[(data['income_type'] == t), 'days_employed'].median()"
   ]
  },
  {
   "cell_type": "markdown",
   "id": "107a2cd9",
   "metadata": {
    "deletable": false,
    "editable": false,
    "id": "2753f40d"
   },
   "source": [
    "**Задание 12. Убедитесь, что все пропуски заполнены. Проверьте себя и ещё раз выведите количество пропущенных значений для каждого столбца с помощью двух методов.**"
   ]
  },
  {
   "cell_type": "code",
   "execution_count": 12,
   "id": "d3830791",
   "metadata": {
    "deletable": false,
    "id": "55f78bc2",
    "outputId": "8da1e4e1-358e-4e87-98c9-f261bce0a7b2"
   },
   "outputs": [
    {
     "data": {
      "text/plain": [
       "children            0\n",
       "days_employed       0\n",
       "dob_years           0\n",
       "education           0\n",
       "education_id        0\n",
       "family_status       0\n",
       "family_status_id    0\n",
       "gender              0\n",
       "income_type         0\n",
       "debt                0\n",
       "total_income        0\n",
       "purpose             0\n",
       "dtype: int64"
      ]
     },
     "execution_count": 12,
     "metadata": {},
     "output_type": "execute_result"
    }
   ],
   "source": [
    "data.isna().sum()"
   ]
  },
  {
   "cell_type": "markdown",
   "id": "bba0fa4d",
   "metadata": {
    "deletable": false,
    "editable": false,
    "id": "ddc81e43"
   },
   "source": [
    "### Изменение типов данных"
   ]
  },
  {
   "cell_type": "markdown",
   "id": "b7d191ad",
   "metadata": {
    "deletable": false,
    "editable": false,
    "id": "42d19d24"
   },
   "source": [
    "**Задание 13. Замените вещественный тип данных в столбце `total_income` на целочисленный с помощью метода `astype()`.**"
   ]
  },
  {
   "cell_type": "code",
   "execution_count": 13,
   "id": "30ae7954",
   "metadata": {
    "deletable": false,
    "id": "920b65ad"
   },
   "outputs": [],
   "source": [
    "data['total_income'] = data['total_income'].astype(int)"
   ]
  },
  {
   "cell_type": "markdown",
   "id": "5f88644e",
   "metadata": {
    "deletable": false,
    "editable": false,
    "id": "80c420ba"
   },
   "source": [
    "### Обработка дубликатов"
   ]
  },
  {
   "cell_type": "markdown",
   "id": "d80d8da3",
   "metadata": {
    "deletable": false,
    "editable": false
   },
   "source": [
    "**Задание 14. Обработайте неявные дубликаты в столбце `education`. В этом столбце есть одни и те же значения, но записанные по-разному: с использованием заглавных и строчных букв. Приведите их к нижнему регистру. Проверьте остальные столбцы.**"
   ]
  },
  {
   "cell_type": "code",
   "execution_count": 14,
   "id": "80f3fe4d",
   "metadata": {
    "deletable": false
   },
   "outputs": [],
   "source": [
    "data['education'] = data['education'].str.lower()"
   ]
  },
  {
   "cell_type": "markdown",
   "id": "a38d985e",
   "metadata": {
    "deletable": false,
    "editable": false,
    "id": "dc587695"
   },
   "source": [
    "**Задание 15. Выведите на экран количество строк-дубликатов в данных. Если такие строки присутствуют, удалите их.**"
   ]
  },
  {
   "cell_type": "code",
   "execution_count": 15,
   "id": "814df438",
   "metadata": {
    "deletable": false,
    "id": "3ee445e4",
    "outputId": "9684deba-1934-42d1-99e1-cda61740f822"
   },
   "outputs": [
    {
     "data": {
      "text/plain": [
       "71"
      ]
     },
     "execution_count": 15,
     "metadata": {},
     "output_type": "execute_result"
    }
   ],
   "source": [
    "data.duplicated().sum()"
   ]
  },
  {
   "cell_type": "code",
   "execution_count": 16,
   "id": "853fc2ce",
   "metadata": {
    "deletable": false,
    "id": "8575fe05"
   },
   "outputs": [],
   "source": [
    "data = data.drop_duplicates()"
   ]
  },
  {
   "cell_type": "markdown",
   "id": "1c2edc85",
   "metadata": {
    "deletable": false,
    "editable": false,
    "id": "9904cf55"
   },
   "source": [
    "### Категоризация данных"
   ]
  },
  {
   "cell_type": "markdown",
   "id": "4b534738",
   "metadata": {
    "deletable": false,
    "editable": false,
    "id": "72fcc8a2"
   },
   "source": [
    "**Задание 16. На основании диапазонов, указанных ниже, создайте в датафрейме `data` столбец `total_income_category` с категориями:**\n",
    "\n",
    "- 0–30000 — `'E'`;\n",
    "- 30001–50000 — `'D'`;\n",
    "- 50001–200000 — `'C'`;\n",
    "- 200001–1000000 — `'B'`;\n",
    "- 1000001 и выше — `'A'`.\n",
    "\n",
    "\n",
    "**Например, кредитополучателю с доходом 25000 нужно назначить категорию `'E'`, а клиенту, получающему 235000, — `'B'`. Используйте собственную функцию с именем `categorize_income()` и метод `apply()`.**"
   ]
  },
  {
   "cell_type": "code",
   "execution_count": 17,
   "id": "d8673917",
   "metadata": {
    "deletable": false,
    "id": "e1771346"
   },
   "outputs": [],
   "source": [
    "def categorize_income(income):\n",
    "    try:\n",
    "        if 0 <= income <= 30000:\n",
    "            return 'E'\n",
    "        elif 30001 <= income <= 50000:\n",
    "            return 'D'\n",
    "        elif 50001 <= income <= 200000:\n",
    "            return 'C'\n",
    "        elif 200001 <= income <= 1000000:\n",
    "            return 'B'\n",
    "        elif income >= 1000001:\n",
    "            return 'A'\n",
    "    except:\n",
    "        pass"
   ]
  },
  {
   "cell_type": "code",
   "execution_count": 18,
   "id": "c3246835",
   "metadata": {
    "deletable": false,
    "id": "d5f3586d"
   },
   "outputs": [],
   "source": [
    "data['total_income_category'] = data['total_income'].apply(categorize_income)"
   ]
  },
  {
   "cell_type": "markdown",
   "id": "fe26c553",
   "metadata": {
    "deletable": false,
    "editable": false,
    "id": "dde49b5c"
   },
   "source": [
    "**Задание 17. Выведите на экран перечень уникальных целей взятия кредита из столбца `purpose`.**"
   ]
  },
  {
   "cell_type": "code",
   "execution_count": 19,
   "id": "97fd05ed",
   "metadata": {
    "deletable": false,
    "id": "f67ce9b3",
    "outputId": "673c12d9-7d7e-4ae0-9812-c622c89dd244"
   },
   "outputs": [
    {
     "data": {
      "text/plain": [
       "array(['покупка жилья', 'приобретение автомобиля',\n",
       "       'дополнительное образование', 'сыграть свадьбу',\n",
       "       'операции с жильем', 'образование', 'на проведение свадьбы',\n",
       "       'покупка жилья для семьи', 'покупка недвижимости',\n",
       "       'покупка коммерческой недвижимости', 'покупка жилой недвижимости',\n",
       "       'строительство собственной недвижимости', 'недвижимость',\n",
       "       'строительство недвижимости', 'на покупку подержанного автомобиля',\n",
       "       'на покупку своего автомобиля',\n",
       "       'операции с коммерческой недвижимостью',\n",
       "       'строительство жилой недвижимости', 'жилье',\n",
       "       'операции со своей недвижимостью', 'автомобили',\n",
       "       'заняться образованием', 'сделка с подержанным автомобилем',\n",
       "       'получение образования', 'автомобиль', 'свадьба',\n",
       "       'получение дополнительного образования', 'покупка своего жилья',\n",
       "       'операции с недвижимостью', 'получение высшего образования',\n",
       "       'свой автомобиль', 'сделка с автомобилем',\n",
       "       'профильное образование', 'высшее образование',\n",
       "       'покупка жилья для сдачи', 'на покупку автомобиля', 'ремонт жилью',\n",
       "       'заняться высшим образованием'], dtype=object)"
      ]
     },
     "execution_count": 19,
     "metadata": {},
     "output_type": "execute_result"
    }
   ],
   "source": [
    "data['purpose'].unique()"
   ]
  },
  {
   "cell_type": "markdown",
   "id": "f1c013b0",
   "metadata": {
    "deletable": false,
    "editable": false,
    "id": "85d0aef0"
   },
   "source": [
    "**Задание 18. Создайте функцию, которая на основании данных из столбца `purpose` сформирует новый столбец `purpose_category`, в который войдут следующие категории:**\n",
    "\n",
    "- `'операции с автомобилем'`,\n",
    "- `'операции с недвижимостью'`,\n",
    "- `'проведение свадьбы'`,\n",
    "- `'получение образования'`.\n",
    "\n",
    "**Например, если в столбце `purpose` находится подстрока `'на покупку автомобиля'`, то в столбце `purpose_category` должна появиться строка `'операции с автомобилем'`.**\n",
    "\n",
    "**Используйте собственную функцию с именем `categorize_purpose()` и метод `apply()`. Изучите данные в столбце `purpose` и определите, какие подстроки помогут вам правильно определить категорию.**"
   ]
  },
  {
   "cell_type": "code",
   "execution_count": 20,
   "id": "1fc65d17",
   "metadata": {
    "deletable": false,
    "id": "e149fab4"
   },
   "outputs": [],
   "source": [
    "def categorize_purpose(row):\n",
    "    try:\n",
    "        if 'автом' in row:\n",
    "            return 'операции с автомобилем'\n",
    "        elif 'жил' in row or 'недвиж' in row:\n",
    "            return 'операции с недвижимостью'\n",
    "        elif 'свад' in row:\n",
    "            return 'проведение свадьбы'\n",
    "        elif 'образов' in row:\n",
    "            return 'получение образования'\n",
    "    except:\n",
    "        return 'нет категории'"
   ]
  },
  {
   "cell_type": "code",
   "execution_count": 21,
   "id": "234f27c2",
   "metadata": {
    "deletable": false,
    "id": "bf36e69b"
   },
   "outputs": [],
   "source": [
    "data['purpose_category'] = data['purpose'].apply(categorize_purpose)"
   ]
  },
  {
   "cell_type": "markdown",
   "id": "b6d0697c",
   "metadata": {
    "deletable": false,
    "editable": false,
    "id": "09b242bf"
   },
   "source": [
    "### Шаг 3. Исследуйте данные и ответьте на вопросы"
   ]
  },
  {
   "cell_type": "markdown",
   "id": "735cc7c1",
   "metadata": {},
   "source": [
    "<div class=\"alert alert-danger\">\n",
    "<b>Комментарий ревьюера №1</b> Замечание по всему разделу ответов на вопросы\n",
    "    \n",
    "Гораздо рациональнее здесь воспользоваться `pivot_table()`.\n",
    "    \n",
    "Чтобы найти долю должников, нужно количество должников поделить на общее число заемщиков. Эту долю можно найти с помощью функции агрегации `mean`\n",
    "    \n",
    "Попробуй получить сводную следующего вида. В индексе столбец, который исследуем (в первом вопросе это количество детей), а столбцы: 'Всего кредитополучателей', 'Всего должников', 'Доля должников'. Учитывай, что использовать параметр columns не обязательно, а в параметр aggfunc можно указывать несколько функций агрегации сразу.\n",
    "\n",
    "Также могу посоветовать переименовать столбцы и написать функцию для построения сводных во всех вопросах.\n",
    "</div>"
   ]
  },
  {
   "cell_type": "markdown",
   "id": "c6a7942f",
   "metadata": {
    "deletable": false,
    "editable": false,
    "id": "c5d66278"
   },
   "source": [
    "#### 3.1 Есть ли зависимость между количеством детей и возвратом кредита в срок?"
   ]
  },
  {
   "cell_type": "code",
   "execution_count": 30,
   "id": "d6a475d3",
   "metadata": {
    "deletable": false,
    "id": "2cacfc4a"
   },
   "outputs": [
    {
     "data": {
      "text/html": [
       "<div>\n",
       "<style scoped>\n",
       "    .dataframe tbody tr th:only-of-type {\n",
       "        vertical-align: middle;\n",
       "    }\n",
       "\n",
       "    .dataframe tbody tr th {\n",
       "        vertical-align: top;\n",
       "    }\n",
       "\n",
       "    .dataframe thead th {\n",
       "        text-align: right;\n",
       "    }\n",
       "</style>\n",
       "<table border=\"1\" class=\"dataframe\">\n",
       "  <thead>\n",
       "    <tr style=\"text-align: right;\">\n",
       "      <th></th>\n",
       "      <th>Задолженность</th>\n",
       "      <th>Кол-во. кредитов</th>\n",
       "      <th>Отношение</th>\n",
       "    </tr>\n",
       "    <tr>\n",
       "      <th>children</th>\n",
       "      <th></th>\n",
       "      <th></th>\n",
       "      <th></th>\n",
       "    </tr>\n",
       "  </thead>\n",
       "  <tbody>\n",
       "    <tr>\n",
       "      <th>0</th>\n",
       "      <td>1063</td>\n",
       "      <td>14091</td>\n",
       "      <td>0.075438</td>\n",
       "    </tr>\n",
       "    <tr>\n",
       "      <th>1</th>\n",
       "      <td>444</td>\n",
       "      <td>4808</td>\n",
       "      <td>0.092346</td>\n",
       "    </tr>\n",
       "    <tr>\n",
       "      <th>2</th>\n",
       "      <td>194</td>\n",
       "      <td>2052</td>\n",
       "      <td>0.094542</td>\n",
       "    </tr>\n",
       "    <tr>\n",
       "      <th>3</th>\n",
       "      <td>27</td>\n",
       "      <td>330</td>\n",
       "      <td>0.081818</td>\n",
       "    </tr>\n",
       "    <tr>\n",
       "      <th>4</th>\n",
       "      <td>4</td>\n",
       "      <td>41</td>\n",
       "      <td>0.097561</td>\n",
       "    </tr>\n",
       "    <tr>\n",
       "      <th>5</th>\n",
       "      <td>0</td>\n",
       "      <td>9</td>\n",
       "      <td>0.000000</td>\n",
       "    </tr>\n",
       "  </tbody>\n",
       "</table>\n",
       "</div>"
      ],
      "text/plain": [
       "          Задолженность  Кол-во. кредитов  Отношение\n",
       "children                                            \n",
       "0                  1063             14091   0.075438\n",
       "1                   444              4808   0.092346\n",
       "2                   194              2052   0.094542\n",
       "3                    27               330   0.081818\n",
       "4                     4                41   0.097561\n",
       "5                     0                 9   0.000000"
      ]
     },
     "execution_count": 30,
     "metadata": {},
     "output_type": "execute_result"
    }
   ],
   "source": [
    "data_debt = pd.pivot_table(data, index=['children'], values=['debt'], aggfunc=['sum','count','mean'])\n",
    "#data_debt['ratio_sum_debt'] = data.groupby('children')['debt'].sum()/data['debt'].sum()*100\n",
    "#data_debt['ratio_count_debt'] = data_debt['sum']/data_debt['count']*100\n",
    "data_debt.rename(columns = {'sum':'Задолженность','count':'Кол-во. кредитов','mean' : 'Отношение'}, inplace = True)\n",
    "data_debt.droplevel(1,axis=1)"
   ]
  },
  {
   "cell_type": "markdown",
   "id": "1b23e315",
   "metadata": {},
   "source": [
    "<div class=\"alert alert-warning\">\n",
    "<b>Комментарий ревьюера №2</b> \n",
    "    \n",
    "Чтобы убрать мультииндекс в названиях столбцов (слово debt), можно использовать метод `.droplevel(1,axis=1)` или переименовать столбцы так:\n",
    "\n",
    "    data_debt.columns = ['Количество должников', 'Всего кредитополучателей', 'Доля должников']\n",
    "</div>"
   ]
  },
  {
   "cell_type": "markdown",
   "id": "9dd63b37",
   "metadata": {
    "deletable": false,
    "id": "3a6b99ec"
   },
   "source": [
    "**Вывод:** Наибольшая доля заёмщиков банка от общего числа заёмщиков либо не имеют детей, либо имеют одного, двух детей. Среди этих групп заёмщиков наиболее ответственно к возврату кредитов относятся потребители без детей"
   ]
  },
  {
   "cell_type": "markdown",
   "id": "be2aca35",
   "metadata": {},
   "source": [
    "<div class=\"alert alert-danger\">\n",
    "<b>Комментарий ревьюера №1</b> \n",
    "    \n",
    "Людей с пятью детьми всего 9, выборка слишком маленькая для корректных выводов. Можно отметить, что люди без детей наиболее ответственные заемщики\n",
    "</div>"
   ]
  },
  {
   "cell_type": "markdown",
   "id": "76180135",
   "metadata": {
    "deletable": false,
    "editable": false,
    "id": "97be82ca"
   },
   "source": [
    "#### 3.2 Есть ли зависимость между семейным положением и возвратом кредита в срок?"
   ]
  },
  {
   "cell_type": "code",
   "execution_count": 31,
   "id": "62ece62c",
   "metadata": {
    "deletable": false,
    "id": "dc3f7ee8"
   },
   "outputs": [
    {
     "data": {
      "text/html": [
       "<div>\n",
       "<style scoped>\n",
       "    .dataframe tbody tr th:only-of-type {\n",
       "        vertical-align: middle;\n",
       "    }\n",
       "\n",
       "    .dataframe tbody tr th {\n",
       "        vertical-align: top;\n",
       "    }\n",
       "\n",
       "    .dataframe thead th {\n",
       "        text-align: right;\n",
       "    }\n",
       "</style>\n",
       "<table border=\"1\" class=\"dataframe\">\n",
       "  <thead>\n",
       "    <tr style=\"text-align: right;\">\n",
       "      <th></th>\n",
       "      <th>Задолженность</th>\n",
       "      <th>Кол-во. кредитов</th>\n",
       "      <th>Отношение</th>\n",
       "    </tr>\n",
       "    <tr>\n",
       "      <th>family_status</th>\n",
       "      <th></th>\n",
       "      <th></th>\n",
       "      <th></th>\n",
       "    </tr>\n",
       "  </thead>\n",
       "  <tbody>\n",
       "    <tr>\n",
       "      <th>Не женат / не замужем</th>\n",
       "      <td>273</td>\n",
       "      <td>2796</td>\n",
       "      <td>0.097639</td>\n",
       "    </tr>\n",
       "    <tr>\n",
       "      <th>в разводе</th>\n",
       "      <td>84</td>\n",
       "      <td>1189</td>\n",
       "      <td>0.070648</td>\n",
       "    </tr>\n",
       "    <tr>\n",
       "      <th>вдовец / вдова</th>\n",
       "      <td>63</td>\n",
       "      <td>951</td>\n",
       "      <td>0.066246</td>\n",
       "    </tr>\n",
       "    <tr>\n",
       "      <th>гражданский брак</th>\n",
       "      <td>385</td>\n",
       "      <td>4134</td>\n",
       "      <td>0.093130</td>\n",
       "    </tr>\n",
       "    <tr>\n",
       "      <th>женат / замужем</th>\n",
       "      <td>927</td>\n",
       "      <td>12261</td>\n",
       "      <td>0.075606</td>\n",
       "    </tr>\n",
       "  </tbody>\n",
       "</table>\n",
       "</div>"
      ],
      "text/plain": [
       "                       Задолженность  Кол-во. кредитов  Отношение\n",
       "family_status                                                    \n",
       "Не женат / не замужем            273              2796   0.097639\n",
       "в разводе                         84              1189   0.070648\n",
       "вдовец / вдова                    63               951   0.066246\n",
       "гражданский брак                 385              4134   0.093130\n",
       "женат / замужем                  927             12261   0.075606"
      ]
     },
     "execution_count": 31,
     "metadata": {},
     "output_type": "execute_result"
    }
   ],
   "source": [
    "data_debt_family_status = pd.pivot_table(data, index=['family_status'], values=['debt'], aggfunc=['sum','count','mean'])\n",
    "#data_debt_family_status['ratio_sum_debt'] = data.groupby('family_status')['debt'].sum()/data['debt'].sum()*100\n",
    "#data_debt_family_status['ratio_count_debt'] = data_debt_family_status['sum']/data_debt_family_status['count']*100\n",
    "data_debt_family_status.rename(columns = {'sum':'Задолженность','count':'Кол-во. кредитов','mean' : 'Отношение'},inplace = True)\n",
    "data_debt_family_status.droplevel(1,axis=1)"
   ]
  },
  {
   "cell_type": "markdown",
   "id": "65826666",
   "metadata": {
    "deletable": false,
    "id": "1cef7837"
   },
   "source": [
    "**Вывод:** Наибольшие число не возвратов у категорий потребителей `Не женат/не замужем` и `гражданский брак`, категория потребителей `вдовец/вдова` чаще всего возвращает кредит в срок"
   ]
  },
  {
   "cell_type": "markdown",
   "id": "84441ebd",
   "metadata": {},
   "source": [
    "<div class=\"alert alert-success\">\n",
    "<b>Комментарий ревьюера №1</b> \n",
    "    \n",
    "Хорошо\n",
    "</div>"
   ]
  },
  {
   "cell_type": "markdown",
   "id": "7b613c72",
   "metadata": {
    "deletable": false,
    "editable": false,
    "id": "1e8b2fca"
   },
   "source": [
    "#### 3.3 Есть ли зависимость между уровнем дохода и возвратом кредита в срок?"
   ]
  },
  {
   "cell_type": "code",
   "execution_count": 32,
   "id": "cff1c051",
   "metadata": {
    "deletable": false,
    "id": "cd7e3720"
   },
   "outputs": [
    {
     "data": {
      "text/html": [
       "<div>\n",
       "<style scoped>\n",
       "    .dataframe tbody tr th:only-of-type {\n",
       "        vertical-align: middle;\n",
       "    }\n",
       "\n",
       "    .dataframe tbody tr th {\n",
       "        vertical-align: top;\n",
       "    }\n",
       "\n",
       "    .dataframe thead th {\n",
       "        text-align: right;\n",
       "    }\n",
       "</style>\n",
       "<table border=\"1\" class=\"dataframe\">\n",
       "  <thead>\n",
       "    <tr style=\"text-align: right;\">\n",
       "      <th></th>\n",
       "      <th>Задолженность</th>\n",
       "      <th>Кол-во. кредитов</th>\n",
       "      <th>Отношение</th>\n",
       "    </tr>\n",
       "    <tr>\n",
       "      <th>total_income_category</th>\n",
       "      <th></th>\n",
       "      <th></th>\n",
       "      <th></th>\n",
       "    </tr>\n",
       "  </thead>\n",
       "  <tbody>\n",
       "    <tr>\n",
       "      <th>A</th>\n",
       "      <td>2</td>\n",
       "      <td>25</td>\n",
       "      <td>0.080000</td>\n",
       "    </tr>\n",
       "    <tr>\n",
       "      <th>B</th>\n",
       "      <td>354</td>\n",
       "      <td>5014</td>\n",
       "      <td>0.070602</td>\n",
       "    </tr>\n",
       "    <tr>\n",
       "      <th>C</th>\n",
       "      <td>1353</td>\n",
       "      <td>15921</td>\n",
       "      <td>0.084982</td>\n",
       "    </tr>\n",
       "    <tr>\n",
       "      <th>D</th>\n",
       "      <td>21</td>\n",
       "      <td>349</td>\n",
       "      <td>0.060172</td>\n",
       "    </tr>\n",
       "    <tr>\n",
       "      <th>E</th>\n",
       "      <td>2</td>\n",
       "      <td>22</td>\n",
       "      <td>0.090909</td>\n",
       "    </tr>\n",
       "  </tbody>\n",
       "</table>\n",
       "</div>"
      ],
      "text/plain": [
       "                       Задолженность  Кол-во. кредитов  Отношение\n",
       "total_income_category                                            \n",
       "A                                  2                25   0.080000\n",
       "B                                354              5014   0.070602\n",
       "C                               1353             15921   0.084982\n",
       "D                                 21               349   0.060172\n",
       "E                                  2                22   0.090909"
      ]
     },
     "execution_count": 32,
     "metadata": {},
     "output_type": "execute_result"
    }
   ],
   "source": [
    "data_debt_income = pd.pivot_table(data, index=['total_income_category'], values=['debt'], aggfunc=['sum','count','mean'])\n",
    "#data_debt_income['ratio_sum_debt'] = data.groupby('total_income_category')['debt'].sum()/data['debt'].sum()*100\n",
    "#data_debt_income['ratio_count_debt'] = data_debt_income['sum']/data_debt_income['count']*100\n",
    "data_debt_income.rename(columns = {'sum':'Задолженность','count':'Кол-во. кредитов','mean' : 'Отношение'},inplace = True)\n",
    "data_debt_income.droplevel(1,axis=1)"
   ]
  },
  {
   "cell_type": "markdown",
   "id": "dc296978",
   "metadata": {
    "deletable": false,
    "id": "e8593def"
   },
   "source": [
    "**Вывод:** Наибольшая доля заёмщиков банка от общего числа заёмщиков соответсвуют категориям `B` и `C`,\n",
    "Среди этих групп заёмщиков наиболее ответственно к возврату кредитов относятся потребители категории `B`\n",
    "\n",
    "*`0–30000 — 'E'\n",
    "30001–50000 — 'D'\n",
    "50001–200000 — 'C'\n",
    "200001–1000000 — 'B'\n",
    "1000001 и выше — 'A'`*"
   ]
  },
  {
   "cell_type": "markdown",
   "id": "46412d03",
   "metadata": {},
   "source": [
    "<div class=\"alert alert-warning\">\n",
    "<b>Комментарий ревьюера №1</b> \n",
    "    \n",
    "Здесь лучше делать выводы по двум самым крупным категориям - B и С\n",
    "</div>"
   ]
  },
  {
   "cell_type": "markdown",
   "id": "20b437c4",
   "metadata": {
    "deletable": false,
    "editable": false,
    "id": "99ecbd1f"
   },
   "source": [
    "#### 3.4 Как разные цели кредита влияют на его возврат в срок?"
   ]
  },
  {
   "cell_type": "code",
   "execution_count": 33,
   "id": "e3758a9c",
   "metadata": {
    "deletable": false,
    "id": "2b687290"
   },
   "outputs": [
    {
     "data": {
      "text/html": [
       "<div>\n",
       "<style scoped>\n",
       "    .dataframe tbody tr th:only-of-type {\n",
       "        vertical-align: middle;\n",
       "    }\n",
       "\n",
       "    .dataframe tbody tr th {\n",
       "        vertical-align: top;\n",
       "    }\n",
       "\n",
       "    .dataframe thead th {\n",
       "        text-align: right;\n",
       "    }\n",
       "</style>\n",
       "<table border=\"1\" class=\"dataframe\">\n",
       "  <thead>\n",
       "    <tr style=\"text-align: right;\">\n",
       "      <th></th>\n",
       "      <th>Задолженность</th>\n",
       "      <th>Кол-во. кредитов</th>\n",
       "      <th>Отношение</th>\n",
       "    </tr>\n",
       "    <tr>\n",
       "      <th>purpose_category</th>\n",
       "      <th></th>\n",
       "      <th></th>\n",
       "      <th></th>\n",
       "    </tr>\n",
       "  </thead>\n",
       "  <tbody>\n",
       "    <tr>\n",
       "      <th>операции с автомобилем</th>\n",
       "      <td>400</td>\n",
       "      <td>4279</td>\n",
       "      <td>0.093480</td>\n",
       "    </tr>\n",
       "    <tr>\n",
       "      <th>операции с недвижимостью</th>\n",
       "      <td>780</td>\n",
       "      <td>10751</td>\n",
       "      <td>0.072551</td>\n",
       "    </tr>\n",
       "    <tr>\n",
       "      <th>получение образования</th>\n",
       "      <td>369</td>\n",
       "      <td>3988</td>\n",
       "      <td>0.092528</td>\n",
       "    </tr>\n",
       "    <tr>\n",
       "      <th>проведение свадьбы</th>\n",
       "      <td>183</td>\n",
       "      <td>2313</td>\n",
       "      <td>0.079118</td>\n",
       "    </tr>\n",
       "  </tbody>\n",
       "</table>\n",
       "</div>"
      ],
      "text/plain": [
       "                          Задолженность  Кол-во. кредитов  Отношение\n",
       "purpose_category                                                    \n",
       "операции с автомобилем              400              4279   0.093480\n",
       "операции с недвижимостью            780             10751   0.072551\n",
       "получение образования               369              3988   0.092528\n",
       "проведение свадьбы                  183              2313   0.079118"
      ]
     },
     "execution_count": 33,
     "metadata": {},
     "output_type": "execute_result"
    }
   ],
   "source": [
    "data_debt_purpose = pd.pivot_table(data, index=['purpose_category'], values=['debt'], aggfunc=['sum','count','mean'])\n",
    "#data_debt_purpose['ratio_sum_debt'] = data.groupby('purpose_category')['debt'].sum()/data['debt'].sum()*100\n",
    "#data_debt_purpose['ratio_count_debt'] = data_debt_purpose['sum']/data_debt_purpose['count']*100\n",
    "data_debt_purpose.rename(columns = {'sum':'Задолженность','count':'Кол-во. кредитов','mean' : 'Отношение'},inplace = True)\n",
    "data_debt_purpose.droplevel(1,axis=1)"
   ]
  },
  {
   "cell_type": "markdown",
   "id": "796d0b7f",
   "metadata": {
    "deletable": false,
    "id": "b4bb2ce6"
   },
   "source": [
    "**Вывод:** Наибольшие число не возвратов у потребителей целью кредита которых являются `Операции с автомобилем` и `Получение образования`, категория потребителей с целью кредита `Операции с недвижимостью` и `Проведение свадьбы` чаще всего возвращает кредит в срок"
   ]
  },
  {
   "cell_type": "markdown",
   "id": "531f111a",
   "metadata": {},
   "source": [
    "<div class=\"alert alert-success\">\n",
    "<b>Комментарий ревьюера №1</b> \n",
    "    \n",
    "Верно\n",
    "</div>"
   ]
  },
  {
   "cell_type": "markdown",
   "id": "5b478083",
   "metadata": {
    "deletable": false,
    "editable": false,
    "id": "09c3ac4c"
   },
   "source": [
    "#### 3.5 Приведите возможные причины появления пропусков в исходных данных."
   ]
  },
  {
   "cell_type": "markdown",
   "id": "56b03f4d",
   "metadata": {
    "deletable": false,
    "id": "9da2ceda"
   },
   "source": [
    "*Ответ:* `Неверный ввод`, `ошибки в системах` сбора и обработки данных, попытка `сокрытия информации` в связи с конфликтом интересов исполнителя или ответственного за сбор и обработку информации"
   ]
  },
  {
   "cell_type": "markdown",
   "id": "37a8a2eb",
   "metadata": {},
   "source": [
    "<div class=\"alert alert-success\">\n",
    "<b>Комментарий ревьюера №1</b> \n",
    "    \n",
    "Добавлю, возможно, эту информацию не требуют в некоторых случаях. Проблемы могли возникнуть на этапе загрузки и на этапе выгрузки данных. Неправильный запрос, объединение таблиц также может быть причиной.\n",
    "</div>"
   ]
  },
  {
   "cell_type": "markdown",
   "id": "37627206",
   "metadata": {
    "deletable": false,
    "editable": false,
    "id": "7b0487d6"
   },
   "source": [
    "#### 3.6 Объясните, почему заполнить пропуски медианным значением — лучшее решение для количественных переменных."
   ]
  },
  {
   "cell_type": "markdown",
   "id": "d567ccc6",
   "metadata": {
    "deletable": false,
    "id": "7ecf2b8e"
   },
   "source": [
    "*Ответ:* `Медиана` определяет наиболее вероятное значение, медиану не искажают аномально большие или аномально маленькие отклоняющиеся значения"
   ]
  },
  {
   "cell_type": "markdown",
   "id": "4fb07288",
   "metadata": {},
   "source": [
    "<div class=\"alert alert-danger\">\n",
    "<b>Комментарий ревьюера №1</b> \n",
    "    \n",
    "Да, смотрим на наличие выбросов, но медиана и мода - разные вещи. Медиана - середина упорядоченной выборки. Мода - наиболее часто встречающееся значение. В ряду 40, 41, 42, 43, 50, 50, 50 мода 50, а медиана 43.\n",
    "</div>"
   ]
  },
  {
   "cell_type": "markdown",
   "id": "3bf03701",
   "metadata": {
    "deletable": false,
    "editable": false,
    "id": "6db5255a"
   },
   "source": [
    "### Шаг 4: общий вывод."
   ]
  },
  {
   "cell_type": "markdown",
   "id": "cdf35d13",
   "metadata": {
    "deletable": false,
    "id": "bad65432"
   },
   "source": [
    "Все категории потребителей имеют зависимость с возвратом кредита в срок, наиболее безопасного заёмщика можно описать следующим образом: Люди, не имеющие детей, состоящие в официальном браке или разведены, с уровнем дохода от 200 000, целью кредита которых являются операции с недвижимостью"
   ]
  },
  {
   "cell_type": "markdown",
   "id": "41e1b47c",
   "metadata": {},
   "source": [
    "<div class=\"alert alert-danger\">\n",
    "<b>Комментарий ревьюера №1</b> \n",
    "    \n",
    "Выводы нужно будет дополнить. Опиши все найденные зависимости. Также можно добавить рекомендации банку-заказчику, описать портрет \"идеального\" клиента и/или, наоборот, наиболее рискованного клиента.\n",
    "</div>"
   ]
  },
  {
   "cell_type": "markdown",
   "id": "300170df",
   "metadata": {},
   "source": [
    "<div style=\"border:solid purple 2px; padding: 20px\"> \n",
    "<b> <font color='purple' >   \n",
    "    \n",
    "В целом, работа хорошая. У тебя отличные аналитические навыки, но остались небольшие доработки. Доделывай и присылай на повторную проверку.\n",
    "        \n",
    "Жду твоих исправлений 😊\n",
    "</font></b>\n",
    "</div>"
   ]
  },
  {
   "cell_type": "markdown",
   "id": "2e27c2b2",
   "metadata": {},
   "source": [
    "<div style=\"border:solid purple 2px; padding: 20px\"> \n",
    "<b> <font color='purple' >   \n",
    "Отлично! Критических замечаний больше нет. Проект принят! 👏 Поздравляю и желаю удачи!\n",
    "</font></b>\n",
    "</div>"
   ]
  }
 ],
 "metadata": {
  "ExecuteTimeLog": [
   {
    "duration": 48,
    "start_time": "2022-09-07T09:56:36.071Z"
   },
   {
    "duration": 6,
    "start_time": "2022-09-07T09:56:57.965Z"
   },
   {
    "duration": 6,
    "start_time": "2022-09-07T09:57:04.866Z"
   },
   {
    "duration": 9,
    "start_time": "2022-09-07T09:57:10.040Z"
   },
   {
    "duration": 433,
    "start_time": "2022-09-07T09:57:27.399Z"
   },
   {
    "duration": 33,
    "start_time": "2022-09-07T09:57:27.833Z"
   },
   {
    "duration": 18,
    "start_time": "2022-09-07T09:57:27.869Z"
   },
   {
    "duration": 9,
    "start_time": "2022-09-07T09:57:27.889Z"
   },
   {
    "duration": 31,
    "start_time": "2022-09-07T09:57:27.899Z"
   },
   {
    "duration": 18,
    "start_time": "2022-09-07T09:57:27.932Z"
   },
   {
    "duration": 23,
    "start_time": "2022-09-07T09:57:27.953Z"
   },
   {
    "duration": 7,
    "start_time": "2022-09-07T09:57:27.978Z"
   },
   {
    "duration": 8,
    "start_time": "2022-09-07T09:57:27.986Z"
   },
   {
    "duration": 4,
    "start_time": "2022-09-07T09:57:27.996Z"
   },
   {
    "duration": 32,
    "start_time": "2022-09-07T09:57:28.001Z"
   },
   {
    "duration": 14,
    "start_time": "2022-09-07T09:57:28.034Z"
   },
   {
    "duration": 21,
    "start_time": "2022-09-07T09:57:28.050Z"
   },
   {
    "duration": 11,
    "start_time": "2022-09-07T09:57:28.075Z"
   },
   {
    "duration": 22,
    "start_time": "2022-09-07T09:57:28.088Z"
   },
   {
    "duration": 16,
    "start_time": "2022-09-07T09:57:28.111Z"
   },
   {
    "duration": 4,
    "start_time": "2022-09-07T09:57:28.129Z"
   },
   {
    "duration": 14,
    "start_time": "2022-09-07T09:57:28.141Z"
   },
   {
    "duration": 17,
    "start_time": "2022-09-07T09:57:28.157Z"
   },
   {
    "duration": 5,
    "start_time": "2022-09-07T09:57:28.175Z"
   },
   {
    "duration": 12,
    "start_time": "2022-09-07T09:57:28.181Z"
   },
   {
    "duration": 11,
    "start_time": "2022-09-07T09:57:28.194Z"
   },
   {
    "duration": 2,
    "start_time": "2022-09-07T09:57:28.207Z"
   },
   {
    "duration": 6,
    "start_time": "2022-09-07T09:57:28.210Z"
   },
   {
    "duration": 6,
    "start_time": "2022-09-07T09:57:28.217Z"
   },
   {
    "duration": 5,
    "start_time": "2022-09-07T10:01:34.860Z"
   },
   {
    "duration": 14,
    "start_time": "2022-09-07T10:01:41.450Z"
   },
   {
    "duration": 8,
    "start_time": "2022-09-07T10:02:06.977Z"
   },
   {
    "duration": 6,
    "start_time": "2022-09-07T10:02:16.505Z"
   },
   {
    "duration": 66,
    "start_time": "2022-09-07T10:38:02.529Z"
   },
   {
    "duration": 1209,
    "start_time": "2022-09-07T10:38:49.531Z"
   },
   {
    "duration": 10,
    "start_time": "2022-09-07T10:38:58.783Z"
   },
   {
    "duration": 22,
    "start_time": "2022-09-07T10:39:23.182Z"
   },
   {
    "duration": 11,
    "start_time": "2022-09-07T10:39:40.481Z"
   },
   {
    "duration": 26,
    "start_time": "2022-09-07T10:39:46.681Z"
   },
   {
    "duration": 9,
    "start_time": "2022-09-07T10:40:07.150Z"
   },
   {
    "duration": 8,
    "start_time": "2022-09-07T10:40:19.411Z"
   },
   {
    "duration": 466,
    "start_time": "2022-09-07T10:40:54.928Z"
   },
   {
    "duration": 20,
    "start_time": "2022-09-07T10:40:55.395Z"
   },
   {
    "duration": 35,
    "start_time": "2022-09-07T10:40:55.416Z"
   },
   {
    "duration": 11,
    "start_time": "2022-09-07T10:40:55.452Z"
   },
   {
    "duration": 33,
    "start_time": "2022-09-07T10:40:55.465Z"
   },
   {
    "duration": 3,
    "start_time": "2022-09-07T10:40:55.500Z"
   },
   {
    "duration": 11,
    "start_time": "2022-09-07T10:40:55.504Z"
   },
   {
    "duration": 4,
    "start_time": "2022-09-07T10:40:55.516Z"
   },
   {
    "duration": 27,
    "start_time": "2022-09-07T10:40:55.521Z"
   },
   {
    "duration": 5,
    "start_time": "2022-09-07T10:40:55.551Z"
   },
   {
    "duration": 35,
    "start_time": "2022-09-07T10:40:55.557Z"
   },
   {
    "duration": 10,
    "start_time": "2022-09-07T10:40:55.594Z"
   },
   {
    "duration": 7,
    "start_time": "2022-09-07T10:40:55.606Z"
   },
   {
    "duration": 27,
    "start_time": "2022-09-07T10:40:55.614Z"
   },
   {
    "duration": 25,
    "start_time": "2022-09-07T10:40:55.643Z"
   },
   {
    "duration": 17,
    "start_time": "2022-09-07T10:40:55.669Z"
   },
   {
    "duration": 3,
    "start_time": "2022-09-07T10:40:55.688Z"
   },
   {
    "duration": 17,
    "start_time": "2022-09-07T10:40:55.693Z"
   },
   {
    "duration": 21,
    "start_time": "2022-09-07T10:40:55.712Z"
   },
   {
    "duration": 16,
    "start_time": "2022-09-07T10:40:55.735Z"
   },
   {
    "duration": 22,
    "start_time": "2022-09-07T10:40:55.753Z"
   },
   {
    "duration": 22,
    "start_time": "2022-09-07T10:40:55.776Z"
   },
   {
    "duration": 2,
    "start_time": "2022-09-07T10:40:55.800Z"
   },
   {
    "duration": 8,
    "start_time": "2022-09-07T10:40:55.803Z"
   },
   {
    "duration": 66,
    "start_time": "2022-09-07T10:41:22.183Z"
   },
   {
    "duration": 6,
    "start_time": "2022-09-07T10:41:27.191Z"
   },
   {
    "duration": 7,
    "start_time": "2022-09-07T10:41:42.153Z"
   },
   {
    "duration": 3,
    "start_time": "2022-09-07T10:41:52.732Z"
   },
   {
    "duration": 8,
    "start_time": "2022-09-07T10:42:04.183Z"
   },
   {
    "duration": 7,
    "start_time": "2022-09-07T10:42:33.599Z"
   },
   {
    "duration": 5,
    "start_time": "2022-09-07T10:42:36.549Z"
   },
   {
    "duration": 1300,
    "start_time": "2022-09-07T10:43:04.780Z"
   },
   {
    "duration": 11,
    "start_time": "2022-09-07T10:43:11.151Z"
   },
   {
    "duration": 106,
    "start_time": "2022-09-07T10:43:19.284Z"
   },
   {
    "duration": 4,
    "start_time": "2022-09-07T10:43:24.685Z"
   },
   {
    "duration": 19,
    "start_time": "2022-09-07T10:43:34.681Z"
   },
   {
    "duration": 1448,
    "start_time": "2022-09-07T10:51:11.825Z"
   },
   {
    "duration": 13,
    "start_time": "2022-09-07T10:51:17.620Z"
   },
   {
    "duration": 19,
    "start_time": "2022-09-07T10:51:29.113Z"
   },
   {
    "duration": 9,
    "start_time": "2022-09-07T10:51:55.181Z"
   },
   {
    "duration": 22,
    "start_time": "2022-09-07T11:03:09.627Z"
   },
   {
    "duration": 23,
    "start_time": "2022-09-07T11:07:53.133Z"
   },
   {
    "duration": 18,
    "start_time": "2022-09-07T11:08:09.906Z"
   },
   {
    "duration": 16,
    "start_time": "2022-09-07T11:09:25.408Z"
   },
   {
    "duration": 33,
    "start_time": "2022-09-07T11:09:33.678Z"
   },
   {
    "duration": 190,
    "start_time": "2022-09-07T11:11:22.983Z"
   },
   {
    "duration": 88,
    "start_time": "2022-09-07T11:11:37.508Z"
   },
   {
    "duration": 17,
    "start_time": "2022-09-07T11:12:26.032Z"
   },
   {
    "duration": 19,
    "start_time": "2022-09-07T11:12:33.406Z"
   },
   {
    "duration": 7,
    "start_time": "2022-09-07T11:18:55.985Z"
   },
   {
    "duration": 8,
    "start_time": "2022-09-07T11:19:40.803Z"
   },
   {
    "duration": 8,
    "start_time": "2022-09-07T11:19:49.679Z"
   },
   {
    "duration": 7,
    "start_time": "2022-09-07T11:20:04.191Z"
   },
   {
    "duration": 10,
    "start_time": "2022-09-07T11:20:08.902Z"
   },
   {
    "duration": 14,
    "start_time": "2022-09-07T11:20:11.988Z"
   },
   {
    "duration": 13,
    "start_time": "2022-09-07T11:20:23.195Z"
   },
   {
    "duration": 470,
    "start_time": "2022-09-07T11:40:50.245Z"
   },
   {
    "duration": 20,
    "start_time": "2022-09-07T11:40:50.717Z"
   },
   {
    "duration": 28,
    "start_time": "2022-09-07T11:40:50.738Z"
   },
   {
    "duration": 9,
    "start_time": "2022-09-07T11:40:50.768Z"
   },
   {
    "duration": 37,
    "start_time": "2022-09-07T11:40:50.778Z"
   },
   {
    "duration": 3,
    "start_time": "2022-09-07T11:40:50.817Z"
   },
   {
    "duration": 17,
    "start_time": "2022-09-07T11:40:50.822Z"
   },
   {
    "duration": 4,
    "start_time": "2022-09-07T11:40:50.840Z"
   },
   {
    "duration": 8,
    "start_time": "2022-09-07T11:40:50.845Z"
   },
   {
    "duration": 3,
    "start_time": "2022-09-07T11:40:50.856Z"
   },
   {
    "duration": 32,
    "start_time": "2022-09-07T11:40:50.860Z"
   },
   {
    "duration": 8,
    "start_time": "2022-09-07T11:40:50.893Z"
   },
   {
    "duration": 6,
    "start_time": "2022-09-07T11:40:50.903Z"
   },
   {
    "duration": 38,
    "start_time": "2022-09-07T11:40:50.910Z"
   },
   {
    "duration": 19,
    "start_time": "2022-09-07T11:40:50.950Z"
   },
   {
    "duration": 15,
    "start_time": "2022-09-07T11:40:50.970Z"
   },
   {
    "duration": 3,
    "start_time": "2022-09-07T11:40:50.987Z"
   },
   {
    "duration": 17,
    "start_time": "2022-09-07T11:40:50.991Z"
   },
   {
    "duration": 17,
    "start_time": "2022-09-07T11:40:51.010Z"
   },
   {
    "duration": 7,
    "start_time": "2022-09-07T11:40:51.028Z"
   },
   {
    "duration": 15,
    "start_time": "2022-09-07T11:40:51.036Z"
   },
   {
    "duration": 37,
    "start_time": "2022-09-07T11:40:51.053Z"
   },
   {
    "duration": 0,
    "start_time": "2022-09-07T11:40:51.092Z"
   },
   {
    "duration": 0,
    "start_time": "2022-09-07T11:40:51.092Z"
   },
   {
    "duration": 17,
    "start_time": "2022-09-07T11:41:07.814Z"
   },
   {
    "duration": 15,
    "start_time": "2022-09-07T11:41:22.237Z"
   },
   {
    "duration": 13,
    "start_time": "2022-09-07T11:42:08.479Z"
   },
   {
    "duration": 21,
    "start_time": "2022-09-07T11:42:18.979Z"
   },
   {
    "duration": 1013,
    "start_time": "2022-09-07T11:43:16.814Z"
   },
   {
    "duration": 700,
    "start_time": "2022-09-07T11:43:54.333Z"
   },
   {
    "duration": 17,
    "start_time": "2022-09-07T11:44:06.798Z"
   },
   {
    "duration": 13,
    "start_time": "2022-09-07T11:44:59.746Z"
   },
   {
    "duration": 17,
    "start_time": "2022-09-07T11:45:59.061Z"
   },
   {
    "duration": 14,
    "start_time": "2022-09-07T11:54:58.142Z"
   },
   {
    "duration": 18,
    "start_time": "2022-09-07T11:55:06.337Z"
   },
   {
    "duration": 21,
    "start_time": "2022-09-07T11:55:48.005Z"
   },
   {
    "duration": 26,
    "start_time": "2022-09-07T11:56:07.374Z"
   },
   {
    "duration": 19,
    "start_time": "2022-09-07T11:56:23.813Z"
   },
   {
    "duration": 23,
    "start_time": "2022-09-07T11:56:55.155Z"
   },
   {
    "duration": 18,
    "start_time": "2022-09-07T11:57:16.952Z"
   },
   {
    "duration": 19,
    "start_time": "2022-09-07T11:57:28.250Z"
   },
   {
    "duration": 21,
    "start_time": "2022-09-07T11:57:43.775Z"
   },
   {
    "duration": 26,
    "start_time": "2022-09-07T11:57:49.418Z"
   },
   {
    "duration": 24,
    "start_time": "2022-09-07T12:01:31.773Z"
   },
   {
    "duration": 31,
    "start_time": "2022-09-07T12:01:39.539Z"
   },
   {
    "duration": 24,
    "start_time": "2022-09-07T12:01:52.181Z"
   },
   {
    "duration": 25,
    "start_time": "2022-09-07T12:01:56.710Z"
   },
   {
    "duration": 26,
    "start_time": "2022-09-07T12:02:20.322Z"
   },
   {
    "duration": 22,
    "start_time": "2022-09-07T12:02:25.876Z"
   },
   {
    "duration": 25,
    "start_time": "2022-09-07T12:17:22.916Z"
   },
   {
    "duration": 47,
    "start_time": "2022-09-07T12:35:28.837Z"
   },
   {
    "duration": 24,
    "start_time": "2022-09-07T12:35:50.881Z"
   },
   {
    "duration": 21,
    "start_time": "2022-09-07T12:36:13.760Z"
   },
   {
    "duration": 17,
    "start_time": "2022-09-07T12:36:29.856Z"
   },
   {
    "duration": 15,
    "start_time": "2022-09-07T12:36:46.672Z"
   },
   {
    "duration": 20,
    "start_time": "2022-09-07T12:36:49.037Z"
   },
   {
    "duration": 16,
    "start_time": "2022-09-07T12:36:53.701Z"
   },
   {
    "duration": 20,
    "start_time": "2022-09-07T12:44:30.724Z"
   },
   {
    "duration": 797,
    "start_time": "2022-09-07T12:45:39.101Z"
   },
   {
    "duration": 1696,
    "start_time": "2022-09-07T12:45:59.839Z"
   },
   {
    "duration": 1429,
    "start_time": "2022-09-07T12:46:13.367Z"
   },
   {
    "duration": 1283,
    "start_time": "2022-09-07T12:46:24.342Z"
   },
   {
    "duration": 1277,
    "start_time": "2022-09-07T12:47:20.228Z"
   },
   {
    "duration": 1011,
    "start_time": "2022-09-07T12:47:26.764Z"
   },
   {
    "duration": 1185,
    "start_time": "2022-09-07T12:47:44.850Z"
   },
   {
    "duration": 1493,
    "start_time": "2022-09-07T12:48:18.487Z"
   },
   {
    "duration": 898,
    "start_time": "2022-09-07T12:48:28.586Z"
   },
   {
    "duration": 1377,
    "start_time": "2022-09-07T12:48:37.382Z"
   },
   {
    "duration": 1436,
    "start_time": "2022-09-07T12:49:15.135Z"
   },
   {
    "duration": 417,
    "start_time": "2022-09-07T12:49:28.372Z"
   },
   {
    "duration": 20,
    "start_time": "2022-09-07T12:49:28.791Z"
   },
   {
    "duration": 13,
    "start_time": "2022-09-07T12:49:28.812Z"
   },
   {
    "duration": 20,
    "start_time": "2022-09-07T12:49:28.827Z"
   },
   {
    "duration": 42,
    "start_time": "2022-09-07T12:49:28.850Z"
   },
   {
    "duration": 4,
    "start_time": "2022-09-07T12:49:28.894Z"
   },
   {
    "duration": 14,
    "start_time": "2022-09-07T12:49:28.900Z"
   },
   {
    "duration": 25,
    "start_time": "2022-09-07T12:49:28.915Z"
   },
   {
    "duration": 13,
    "start_time": "2022-09-07T12:49:28.942Z"
   },
   {
    "duration": 12,
    "start_time": "2022-09-07T12:49:28.957Z"
   },
   {
    "duration": 59,
    "start_time": "2022-09-07T12:49:28.971Z"
   },
   {
    "duration": 11,
    "start_time": "2022-09-07T12:49:29.032Z"
   },
   {
    "duration": 4,
    "start_time": "2022-09-07T12:49:29.044Z"
   },
   {
    "duration": 14,
    "start_time": "2022-09-07T12:49:29.050Z"
   },
   {
    "duration": 21,
    "start_time": "2022-09-07T12:49:29.065Z"
   },
   {
    "duration": 14,
    "start_time": "2022-09-07T12:49:29.088Z"
   },
   {
    "duration": 3,
    "start_time": "2022-09-07T12:49:29.104Z"
   },
   {
    "duration": 10,
    "start_time": "2022-09-07T12:49:29.138Z"
   },
   {
    "duration": 10,
    "start_time": "2022-09-07T12:49:29.149Z"
   },
   {
    "duration": 5,
    "start_time": "2022-09-07T12:49:29.160Z"
   },
   {
    "duration": 13,
    "start_time": "2022-09-07T12:49:29.166Z"
   },
   {
    "duration": 1368,
    "start_time": "2022-09-07T12:49:29.180Z"
   },
   {
    "duration": 0,
    "start_time": "2022-09-07T12:49:30.550Z"
   },
   {
    "duration": 0,
    "start_time": "2022-09-07T12:49:30.551Z"
   },
   {
    "duration": 828,
    "start_time": "2022-09-07T12:50:33.775Z"
   },
   {
    "duration": 20,
    "start_time": "2022-09-07T12:52:01.576Z"
   },
   {
    "duration": 19,
    "start_time": "2022-09-07T12:52:05.438Z"
   },
   {
    "duration": 884,
    "start_time": "2022-09-07T12:52:15.336Z"
   },
   {
    "duration": 975,
    "start_time": "2022-09-07T12:52:25.150Z"
   },
   {
    "duration": 23,
    "start_time": "2022-09-07T12:53:22.038Z"
   },
   {
    "duration": 26,
    "start_time": "2022-09-07T12:53:31.712Z"
   },
   {
    "duration": 470,
    "start_time": "2022-09-07T12:53:41.906Z"
   },
   {
    "duration": 22,
    "start_time": "2022-09-07T12:53:42.378Z"
   },
   {
    "duration": 14,
    "start_time": "2022-09-07T12:53:42.401Z"
   },
   {
    "duration": 23,
    "start_time": "2022-09-07T12:53:42.417Z"
   },
   {
    "duration": 33,
    "start_time": "2022-09-07T12:53:42.442Z"
   },
   {
    "duration": 3,
    "start_time": "2022-09-07T12:53:42.476Z"
   },
   {
    "duration": 10,
    "start_time": "2022-09-07T12:53:42.481Z"
   },
   {
    "duration": 6,
    "start_time": "2022-09-07T12:53:42.493Z"
   },
   {
    "duration": 9,
    "start_time": "2022-09-07T12:53:42.501Z"
   },
   {
    "duration": 27,
    "start_time": "2022-09-07T12:53:42.512Z"
   },
   {
    "duration": 31,
    "start_time": "2022-09-07T12:53:42.541Z"
   },
   {
    "duration": 9,
    "start_time": "2022-09-07T12:53:42.573Z"
   },
   {
    "duration": 5,
    "start_time": "2022-09-07T12:53:42.584Z"
   },
   {
    "duration": 17,
    "start_time": "2022-09-07T12:53:42.591Z"
   },
   {
    "duration": 40,
    "start_time": "2022-09-07T12:53:42.610Z"
   },
   {
    "duration": 17,
    "start_time": "2022-09-07T12:53:42.651Z"
   },
   {
    "duration": 3,
    "start_time": "2022-09-07T12:53:42.670Z"
   },
   {
    "duration": 15,
    "start_time": "2022-09-07T12:53:42.675Z"
   },
   {
    "duration": 7,
    "start_time": "2022-09-07T12:53:42.691Z"
   },
   {
    "duration": 3,
    "start_time": "2022-09-07T12:53:42.700Z"
   },
   {
    "duration": 11,
    "start_time": "2022-09-07T12:53:42.705Z"
   },
   {
    "duration": 73,
    "start_time": "2022-09-07T12:53:42.738Z"
   },
   {
    "duration": 0,
    "start_time": "2022-09-07T12:53:42.813Z"
   },
   {
    "duration": 0,
    "start_time": "2022-09-07T12:53:42.814Z"
   },
   {
    "duration": 15,
    "start_time": "2022-09-07T12:54:00.767Z"
   },
   {
    "duration": 482,
    "start_time": "2022-09-07T12:54:28.695Z"
   },
   {
    "duration": 21,
    "start_time": "2022-09-07T12:54:29.179Z"
   },
   {
    "duration": 26,
    "start_time": "2022-09-07T12:54:29.202Z"
   },
   {
    "duration": 18,
    "start_time": "2022-09-07T12:54:29.239Z"
   },
   {
    "duration": 35,
    "start_time": "2022-09-07T12:54:29.259Z"
   },
   {
    "duration": 3,
    "start_time": "2022-09-07T12:54:29.295Z"
   },
   {
    "duration": 11,
    "start_time": "2022-09-07T12:54:29.299Z"
   },
   {
    "duration": 7,
    "start_time": "2022-09-07T12:54:29.312Z"
   },
   {
    "duration": 37,
    "start_time": "2022-09-07T12:54:29.321Z"
   },
   {
    "duration": 6,
    "start_time": "2022-09-07T12:54:29.360Z"
   },
   {
    "duration": 49,
    "start_time": "2022-09-07T12:54:29.367Z"
   },
   {
    "duration": 18,
    "start_time": "2022-09-07T12:54:29.417Z"
   },
   {
    "duration": 21,
    "start_time": "2022-09-07T12:54:29.437Z"
   },
   {
    "duration": 20,
    "start_time": "2022-09-07T12:54:29.460Z"
   },
   {
    "duration": 42,
    "start_time": "2022-09-07T12:54:29.482Z"
   },
   {
    "duration": 26,
    "start_time": "2022-09-07T12:54:29.526Z"
   },
   {
    "duration": 4,
    "start_time": "2022-09-07T12:54:29.554Z"
   },
   {
    "duration": 12,
    "start_time": "2022-09-07T12:54:29.559Z"
   },
   {
    "duration": 11,
    "start_time": "2022-09-07T12:54:29.573Z"
   },
   {
    "duration": 3,
    "start_time": "2022-09-07T12:54:29.586Z"
   },
   {
    "duration": 10,
    "start_time": "2022-09-07T12:54:29.591Z"
   },
   {
    "duration": 81,
    "start_time": "2022-09-07T12:54:29.603Z"
   },
   {
    "duration": 0,
    "start_time": "2022-09-07T12:54:29.686Z"
   },
   {
    "duration": 0,
    "start_time": "2022-09-07T12:54:29.687Z"
   },
   {
    "duration": 15,
    "start_time": "2022-09-07T12:55:02.282Z"
   },
   {
    "duration": 17,
    "start_time": "2022-09-07T12:55:11.036Z"
   },
   {
    "duration": 17,
    "start_time": "2022-09-07T12:56:09.308Z"
   },
   {
    "duration": 20,
    "start_time": "2022-09-07T12:56:22.101Z"
   },
   {
    "duration": 19,
    "start_time": "2022-09-07T12:56:46.286Z"
   },
   {
    "duration": 17,
    "start_time": "2022-09-07T12:57:09.771Z"
   },
   {
    "duration": 21,
    "start_time": "2022-09-07T12:58:02.329Z"
   },
   {
    "duration": 31,
    "start_time": "2022-09-07T12:58:07.021Z"
   },
   {
    "duration": 19,
    "start_time": "2022-09-07T12:59:11.483Z"
   },
   {
    "duration": 18,
    "start_time": "2022-09-07T13:01:43.415Z"
   },
   {
    "duration": 26,
    "start_time": "2022-09-07T13:07:04.258Z"
   },
   {
    "duration": 33,
    "start_time": "2022-09-07T13:07:31.331Z"
   },
   {
    "duration": 23,
    "start_time": "2022-09-07T13:07:41.171Z"
   },
   {
    "duration": 25,
    "start_time": "2022-09-07T13:08:01.809Z"
   },
   {
    "duration": 23,
    "start_time": "2022-09-07T13:08:15.746Z"
   },
   {
    "duration": 23,
    "start_time": "2022-09-07T13:08:26.105Z"
   },
   {
    "duration": 25,
    "start_time": "2022-09-07T13:08:29.553Z"
   },
   {
    "duration": 23,
    "start_time": "2022-09-07T13:08:48.364Z"
   },
   {
    "duration": 24,
    "start_time": "2022-09-07T13:08:57.652Z"
   },
   {
    "duration": 22,
    "start_time": "2022-09-07T13:09:08.648Z"
   },
   {
    "duration": 24,
    "start_time": "2022-09-07T13:09:13.255Z"
   },
   {
    "duration": 22,
    "start_time": "2022-09-07T13:09:23.526Z"
   },
   {
    "duration": 22,
    "start_time": "2022-09-07T13:09:35.893Z"
   },
   {
    "duration": 51,
    "start_time": "2022-09-07T13:09:51.720Z"
   },
   {
    "duration": 77,
    "start_time": "2022-09-07T13:09:57.909Z"
   },
   {
    "duration": 77,
    "start_time": "2022-09-07T13:10:20.785Z"
   },
   {
    "duration": 496,
    "start_time": "2022-09-07T13:10:29.970Z"
   },
   {
    "duration": 24,
    "start_time": "2022-09-07T13:10:30.469Z"
   },
   {
    "duration": 18,
    "start_time": "2022-09-07T13:10:30.494Z"
   },
   {
    "duration": 29,
    "start_time": "2022-09-07T13:10:30.514Z"
   },
   {
    "duration": 56,
    "start_time": "2022-09-07T13:10:30.545Z"
   },
   {
    "duration": 3,
    "start_time": "2022-09-07T13:10:30.603Z"
   },
   {
    "duration": 29,
    "start_time": "2022-09-07T13:10:30.608Z"
   },
   {
    "duration": 21,
    "start_time": "2022-09-07T13:10:30.638Z"
   },
   {
    "duration": 13,
    "start_time": "2022-09-07T13:10:30.660Z"
   },
   {
    "duration": 13,
    "start_time": "2022-09-07T13:10:30.676Z"
   },
   {
    "duration": 48,
    "start_time": "2022-09-07T13:10:30.690Z"
   },
   {
    "duration": 9,
    "start_time": "2022-09-07T13:10:30.739Z"
   },
   {
    "duration": 19,
    "start_time": "2022-09-07T13:10:30.750Z"
   },
   {
    "duration": 27,
    "start_time": "2022-09-07T13:10:30.770Z"
   },
   {
    "duration": 43,
    "start_time": "2022-09-07T13:10:30.798Z"
   },
   {
    "duration": 17,
    "start_time": "2022-09-07T13:10:30.842Z"
   },
   {
    "duration": 21,
    "start_time": "2022-09-07T13:10:30.861Z"
   },
   {
    "duration": 27,
    "start_time": "2022-09-07T13:10:30.884Z"
   },
   {
    "duration": 18,
    "start_time": "2022-09-07T13:10:30.913Z"
   },
   {
    "duration": 10,
    "start_time": "2022-09-07T13:10:30.932Z"
   },
   {
    "duration": 35,
    "start_time": "2022-09-07T13:10:30.944Z"
   },
   {
    "duration": 59,
    "start_time": "2022-09-07T13:10:30.981Z"
   },
   {
    "duration": 0,
    "start_time": "2022-09-07T13:10:31.042Z"
   },
   {
    "duration": 0,
    "start_time": "2022-09-07T13:10:31.043Z"
   },
   {
    "duration": 4,
    "start_time": "2022-09-07T13:10:45.305Z"
   },
   {
    "duration": 4,
    "start_time": "2022-09-07T13:11:06.148Z"
   },
   {
    "duration": 21,
    "start_time": "2022-09-07T13:11:19.395Z"
   },
   {
    "duration": 25,
    "start_time": "2022-09-07T13:12:01.201Z"
   },
   {
    "duration": 25,
    "start_time": "2022-09-07T13:12:19.459Z"
   },
   {
    "duration": 23,
    "start_time": "2022-09-07T13:12:39.544Z"
   },
   {
    "duration": 26,
    "start_time": "2022-09-07T13:12:50.759Z"
   },
   {
    "duration": 26,
    "start_time": "2022-09-07T13:15:04.311Z"
   },
   {
    "duration": 28,
    "start_time": "2022-09-07T13:21:00.851Z"
   },
   {
    "duration": 1438,
    "start_time": "2022-09-07T13:21:10.573Z"
   },
   {
    "duration": 1104,
    "start_time": "2022-09-07T13:21:19.974Z"
   },
   {
    "duration": 1083,
    "start_time": "2022-09-07T13:21:30.561Z"
   },
   {
    "duration": 860,
    "start_time": "2022-09-07T13:21:38.975Z"
   },
   {
    "duration": 2297,
    "start_time": "2022-09-07T13:22:02.061Z"
   },
   {
    "duration": 25,
    "start_time": "2022-09-07T13:22:10.442Z"
   },
   {
    "duration": 851,
    "start_time": "2022-09-07T13:22:22.768Z"
   },
   {
    "duration": 24,
    "start_time": "2022-09-07T13:22:34.535Z"
   },
   {
    "duration": 23,
    "start_time": "2022-09-07T13:22:48.328Z"
   },
   {
    "duration": 25,
    "start_time": "2022-09-07T13:22:54.475Z"
   },
   {
    "duration": 22,
    "start_time": "2022-09-07T13:23:00.536Z"
   },
   {
    "duration": 27,
    "start_time": "2022-09-07T13:23:08.164Z"
   },
   {
    "duration": 26,
    "start_time": "2022-09-07T13:23:15.095Z"
   },
   {
    "duration": 28,
    "start_time": "2022-09-07T13:24:52.393Z"
   },
   {
    "duration": 31,
    "start_time": "2022-09-07T13:25:07.600Z"
   },
   {
    "duration": 26,
    "start_time": "2022-09-07T13:25:46.472Z"
   },
   {
    "duration": 25,
    "start_time": "2022-09-07T14:06:38.692Z"
   },
   {
    "duration": 36,
    "start_time": "2022-09-07T14:06:58.155Z"
   },
   {
    "duration": 25,
    "start_time": "2022-09-07T14:07:09.208Z"
   },
   {
    "duration": 25,
    "start_time": "2022-09-07T14:07:22.103Z"
   },
   {
    "duration": 25,
    "start_time": "2022-09-07T14:07:41.878Z"
   },
   {
    "duration": 30,
    "start_time": "2022-09-07T14:08:21.334Z"
   },
   {
    "duration": 35,
    "start_time": "2022-09-07T14:08:41.896Z"
   },
   {
    "duration": 26,
    "start_time": "2022-09-07T14:08:48.138Z"
   },
   {
    "duration": 26,
    "start_time": "2022-09-07T14:08:59.032Z"
   },
   {
    "duration": 445,
    "start_time": "2022-09-07T14:15:29.868Z"
   },
   {
    "duration": 21,
    "start_time": "2022-09-07T14:15:30.314Z"
   },
   {
    "duration": 14,
    "start_time": "2022-09-07T14:15:30.336Z"
   },
   {
    "duration": 10,
    "start_time": "2022-09-07T14:15:30.352Z"
   },
   {
    "duration": 38,
    "start_time": "2022-09-07T14:15:30.363Z"
   },
   {
    "duration": 3,
    "start_time": "2022-09-07T14:15:30.403Z"
   },
   {
    "duration": 30,
    "start_time": "2022-09-07T14:15:30.408Z"
   },
   {
    "duration": 4,
    "start_time": "2022-09-07T14:15:30.440Z"
   },
   {
    "duration": 10,
    "start_time": "2022-09-07T14:15:30.446Z"
   },
   {
    "duration": 6,
    "start_time": "2022-09-07T14:15:30.458Z"
   },
   {
    "duration": 36,
    "start_time": "2022-09-07T14:15:30.465Z"
   },
   {
    "duration": 9,
    "start_time": "2022-09-07T14:15:30.502Z"
   },
   {
    "duration": 7,
    "start_time": "2022-09-07T14:15:30.538Z"
   },
   {
    "duration": 24,
    "start_time": "2022-09-07T14:15:30.546Z"
   },
   {
    "duration": 37,
    "start_time": "2022-09-07T14:15:30.571Z"
   },
   {
    "duration": 26,
    "start_time": "2022-09-07T14:15:30.610Z"
   },
   {
    "duration": 5,
    "start_time": "2022-09-07T14:15:30.638Z"
   },
   {
    "duration": 19,
    "start_time": "2022-09-07T14:15:30.644Z"
   },
   {
    "duration": 26,
    "start_time": "2022-09-07T14:15:30.665Z"
   },
   {
    "duration": 11,
    "start_time": "2022-09-07T14:15:30.693Z"
   },
   {
    "duration": 31,
    "start_time": "2022-09-07T14:15:30.705Z"
   },
   {
    "duration": 56,
    "start_time": "2022-09-07T14:15:30.737Z"
   },
   {
    "duration": 3,
    "start_time": "2022-09-07T14:15:30.794Z"
   },
   {
    "duration": 29,
    "start_time": "2022-09-07T14:15:30.798Z"
   },
   {
    "duration": 1043,
    "start_time": "2022-09-07T14:19:08.109Z"
   },
   {
    "duration": 272,
    "start_time": "2022-09-07T14:19:25.640Z"
   },
   {
    "duration": 16,
    "start_time": "2022-09-07T14:20:06.727Z"
   },
   {
    "duration": 12,
    "start_time": "2022-09-07T14:20:15.716Z"
   },
   {
    "duration": 94,
    "start_time": "2022-09-07T14:20:52.145Z"
   },
   {
    "duration": 13,
    "start_time": "2022-09-07T14:21:04.922Z"
   },
   {
    "duration": 89,
    "start_time": "2022-09-07T14:21:15.694Z"
   },
   {
    "duration": 9,
    "start_time": "2022-09-07T14:21:55.232Z"
   },
   {
    "duration": 174,
    "start_time": "2022-09-07T14:21:59.970Z"
   },
   {
    "duration": 58,
    "start_time": "2022-09-07T14:22:19.713Z"
   },
   {
    "duration": 12,
    "start_time": "2022-09-07T14:22:31.474Z"
   },
   {
    "duration": 11,
    "start_time": "2022-09-07T14:22:43.845Z"
   },
   {
    "duration": 11,
    "start_time": "2022-09-07T14:23:59.493Z"
   },
   {
    "duration": 16,
    "start_time": "2022-09-07T14:24:28.822Z"
   },
   {
    "duration": 188,
    "start_time": "2022-09-07T14:24:35.830Z"
   },
   {
    "duration": 9,
    "start_time": "2022-09-07T14:25:11.951Z"
   },
   {
    "duration": 113,
    "start_time": "2022-09-07T14:25:16.337Z"
   },
   {
    "duration": 813,
    "start_time": "2022-09-07T14:25:26.510Z"
   },
   {
    "duration": 468,
    "start_time": "2022-09-07T14:25:37.349Z"
   },
   {
    "duration": 21,
    "start_time": "2022-09-07T14:25:37.820Z"
   },
   {
    "duration": 16,
    "start_time": "2022-09-07T14:25:37.843Z"
   },
   {
    "duration": 13,
    "start_time": "2022-09-07T14:25:37.861Z"
   },
   {
    "duration": 33,
    "start_time": "2022-09-07T14:25:37.876Z"
   },
   {
    "duration": 3,
    "start_time": "2022-09-07T14:25:37.911Z"
   },
   {
    "duration": 29,
    "start_time": "2022-09-07T14:25:37.916Z"
   },
   {
    "duration": 4,
    "start_time": "2022-09-07T14:25:37.947Z"
   },
   {
    "duration": 8,
    "start_time": "2022-09-07T14:25:37.952Z"
   },
   {
    "duration": 5,
    "start_time": "2022-09-07T14:25:37.963Z"
   },
   {
    "duration": 33,
    "start_time": "2022-09-07T14:25:37.969Z"
   },
   {
    "duration": 42,
    "start_time": "2022-09-07T14:25:38.004Z"
   },
   {
    "duration": 4,
    "start_time": "2022-09-07T14:25:38.047Z"
   },
   {
    "duration": 12,
    "start_time": "2022-09-07T14:25:38.052Z"
   },
   {
    "duration": 21,
    "start_time": "2022-09-07T14:25:38.066Z"
   },
   {
    "duration": 54,
    "start_time": "2022-09-07T14:25:38.088Z"
   },
   {
    "duration": 4,
    "start_time": "2022-09-07T14:25:38.144Z"
   },
   {
    "duration": 17,
    "start_time": "2022-09-07T14:25:38.150Z"
   },
   {
    "duration": 7,
    "start_time": "2022-09-07T14:25:38.169Z"
   },
   {
    "duration": 4,
    "start_time": "2022-09-07T14:25:38.178Z"
   },
   {
    "duration": 11,
    "start_time": "2022-09-07T14:25:38.183Z"
   },
   {
    "duration": 59,
    "start_time": "2022-09-07T14:25:38.196Z"
   },
   {
    "duration": 2,
    "start_time": "2022-09-07T14:25:38.257Z"
   },
   {
    "duration": 11,
    "start_time": "2022-09-07T14:25:38.260Z"
   },
   {
    "duration": 22,
    "start_time": "2022-09-07T14:27:26.983Z"
   },
   {
    "duration": 40,
    "start_time": "2022-09-07T14:28:40.869Z"
   },
   {
    "duration": 31,
    "start_time": "2022-09-07T14:29:10.981Z"
   },
   {
    "duration": 529,
    "start_time": "2022-09-07T14:29:53.316Z"
   },
   {
    "duration": 25,
    "start_time": "2022-09-07T14:29:53.846Z"
   },
   {
    "duration": 24,
    "start_time": "2022-09-07T14:29:53.873Z"
   },
   {
    "duration": 11,
    "start_time": "2022-09-07T14:29:53.899Z"
   },
   {
    "duration": 61,
    "start_time": "2022-09-07T14:29:53.912Z"
   },
   {
    "duration": 4,
    "start_time": "2022-09-07T14:29:53.975Z"
   },
   {
    "duration": 25,
    "start_time": "2022-09-07T14:29:53.981Z"
   },
   {
    "duration": 6,
    "start_time": "2022-09-07T14:29:54.008Z"
   },
   {
    "duration": 10,
    "start_time": "2022-09-07T14:29:54.015Z"
   },
   {
    "duration": 5,
    "start_time": "2022-09-07T14:29:54.041Z"
   },
   {
    "duration": 56,
    "start_time": "2022-09-07T14:29:54.050Z"
   },
   {
    "duration": 12,
    "start_time": "2022-09-07T14:29:54.108Z"
   },
   {
    "duration": 4,
    "start_time": "2022-09-07T14:29:54.138Z"
   },
   {
    "duration": 14,
    "start_time": "2022-09-07T14:29:54.145Z"
   },
   {
    "duration": 29,
    "start_time": "2022-09-07T14:29:54.161Z"
   },
   {
    "duration": 26,
    "start_time": "2022-09-07T14:29:54.192Z"
   },
   {
    "duration": 19,
    "start_time": "2022-09-07T14:29:54.220Z"
   },
   {
    "duration": 15,
    "start_time": "2022-09-07T14:29:54.241Z"
   },
   {
    "duration": 12,
    "start_time": "2022-09-07T14:29:54.258Z"
   },
   {
    "duration": 7,
    "start_time": "2022-09-07T14:29:54.272Z"
   },
   {
    "duration": 24,
    "start_time": "2022-09-07T14:29:54.281Z"
   },
   {
    "duration": 47,
    "start_time": "2022-09-07T14:29:54.306Z"
   },
   {
    "duration": 29,
    "start_time": "2022-09-07T14:29:54.356Z"
   },
   {
    "duration": 3,
    "start_time": "2022-09-07T14:29:54.386Z"
   },
   {
    "duration": 8,
    "start_time": "2022-09-07T14:29:54.391Z"
   },
   {
    "duration": 31,
    "start_time": "2022-09-07T14:30:33.622Z"
   },
   {
    "duration": 19,
    "start_time": "2022-09-07T14:59:12.415Z"
   },
   {
    "duration": 34,
    "start_time": "2022-09-07T15:00:50.042Z"
   },
   {
    "duration": 32,
    "start_time": "2022-09-07T15:01:05.142Z"
   },
   {
    "duration": 30,
    "start_time": "2022-09-07T15:01:54.113Z"
   },
   {
    "duration": 46,
    "start_time": "2022-09-07T15:12:49.819Z"
   },
   {
    "duration": 39,
    "start_time": "2022-09-07T15:13:03.404Z"
   },
   {
    "duration": 26,
    "start_time": "2022-09-07T15:13:31.957Z"
   },
   {
    "duration": 26,
    "start_time": "2022-09-07T15:15:17.250Z"
   },
   {
    "duration": 1543,
    "start_time": "2022-09-07T15:16:09.376Z"
   },
   {
    "duration": 24,
    "start_time": "2022-09-07T15:16:20.600Z"
   },
   {
    "duration": 17,
    "start_time": "2022-09-07T15:16:52.670Z"
   },
   {
    "duration": 25,
    "start_time": "2022-09-07T15:17:01.430Z"
   },
   {
    "duration": 24,
    "start_time": "2022-09-07T15:18:02.347Z"
   },
   {
    "duration": 24,
    "start_time": "2022-09-07T15:18:09.285Z"
   },
   {
    "duration": 32,
    "start_time": "2022-09-07T15:19:03.630Z"
   },
   {
    "duration": 32,
    "start_time": "2022-09-07T15:21:10.713Z"
   },
   {
    "duration": 41,
    "start_time": "2022-09-07T15:21:56.289Z"
   },
   {
    "duration": 32,
    "start_time": "2022-09-07T15:22:07.788Z"
   },
   {
    "duration": 33,
    "start_time": "2022-09-07T15:22:36.219Z"
   },
   {
    "duration": 33,
    "start_time": "2022-09-07T15:22:42.633Z"
   },
   {
    "duration": 32,
    "start_time": "2022-09-07T15:23:35.770Z"
   },
   {
    "duration": 27,
    "start_time": "2022-09-07T15:23:46.820Z"
   },
   {
    "duration": 25,
    "start_time": "2022-09-07T15:24:04.879Z"
   },
   {
    "duration": 33,
    "start_time": "2022-09-07T15:24:10.125Z"
   },
   {
    "duration": 27,
    "start_time": "2022-09-07T15:24:15.166Z"
   },
   {
    "duration": 15,
    "start_time": "2022-09-07T15:51:36.172Z"
   },
   {
    "duration": 20,
    "start_time": "2022-09-07T15:52:01.103Z"
   },
   {
    "duration": 46,
    "start_time": "2022-09-07T15:53:13.140Z"
   },
   {
    "duration": 35,
    "start_time": "2022-09-07T15:53:34.746Z"
   },
   {
    "duration": 48,
    "start_time": "2022-09-07T15:54:29.850Z"
   },
   {
    "duration": 35,
    "start_time": "2022-09-07T15:54:47.394Z"
   },
   {
    "duration": 37,
    "start_time": "2022-09-07T15:54:56.420Z"
   },
   {
    "duration": 35,
    "start_time": "2022-09-07T15:55:02.143Z"
   },
   {
    "duration": 36,
    "start_time": "2022-09-07T15:55:06.107Z"
   },
   {
    "duration": 35,
    "start_time": "2022-09-07T15:55:29.224Z"
   },
   {
    "duration": 37,
    "start_time": "2022-09-07T15:55:36.340Z"
   },
   {
    "duration": 33,
    "start_time": "2022-09-07T15:55:42.966Z"
   },
   {
    "duration": 35,
    "start_time": "2022-09-07T15:56:03.879Z"
   },
   {
    "duration": 34,
    "start_time": "2022-09-07T15:59:36.134Z"
   },
   {
    "duration": 37,
    "start_time": "2022-09-07T15:59:43.794Z"
   },
   {
    "duration": 39,
    "start_time": "2022-09-07T15:59:59.630Z"
   },
   {
    "duration": 50,
    "start_time": "2022-09-07T16:02:24.597Z"
   },
   {
    "duration": 47,
    "start_time": "2022-09-07T16:04:10.770Z"
   },
   {
    "duration": 47,
    "start_time": "2022-09-07T16:04:29.370Z"
   },
   {
    "duration": 50,
    "start_time": "2022-09-07T16:04:48.683Z"
   },
   {
    "duration": 497,
    "start_time": "2022-09-07T16:30:08.886Z"
   },
   {
    "duration": 23,
    "start_time": "2022-09-07T16:30:09.385Z"
   },
   {
    "duration": 15,
    "start_time": "2022-09-07T16:30:09.410Z"
   },
   {
    "duration": 9,
    "start_time": "2022-09-07T16:30:09.427Z"
   },
   {
    "duration": 60,
    "start_time": "2022-09-07T16:30:09.438Z"
   },
   {
    "duration": 3,
    "start_time": "2022-09-07T16:30:09.500Z"
   },
   {
    "duration": 16,
    "start_time": "2022-09-07T16:30:09.505Z"
   },
   {
    "duration": 6,
    "start_time": "2022-09-07T16:30:09.523Z"
   },
   {
    "duration": 15,
    "start_time": "2022-09-07T16:30:09.530Z"
   },
   {
    "duration": 4,
    "start_time": "2022-09-07T16:30:09.547Z"
   },
   {
    "duration": 48,
    "start_time": "2022-09-07T16:30:09.553Z"
   },
   {
    "duration": 9,
    "start_time": "2022-09-07T16:30:09.603Z"
   },
   {
    "duration": 6,
    "start_time": "2022-09-07T16:30:09.614Z"
   },
   {
    "duration": 14,
    "start_time": "2022-09-07T16:30:09.621Z"
   },
   {
    "duration": 23,
    "start_time": "2022-09-07T16:30:09.636Z"
   },
   {
    "duration": 38,
    "start_time": "2022-09-07T16:30:09.660Z"
   },
   {
    "duration": 3,
    "start_time": "2022-09-07T16:30:09.700Z"
   },
   {
    "duration": 12,
    "start_time": "2022-09-07T16:30:09.705Z"
   },
   {
    "duration": 11,
    "start_time": "2022-09-07T16:30:09.719Z"
   },
   {
    "duration": 4,
    "start_time": "2022-09-07T16:30:09.731Z"
   },
   {
    "duration": 15,
    "start_time": "2022-09-07T16:30:09.736Z"
   },
   {
    "duration": 52,
    "start_time": "2022-09-07T16:30:09.752Z"
   },
   {
    "duration": 33,
    "start_time": "2022-09-07T16:30:09.805Z"
   },
   {
    "duration": 47,
    "start_time": "2022-09-07T16:30:09.839Z"
   },
   {
    "duration": 33,
    "start_time": "2022-09-07T16:30:09.887Z"
   },
   {
    "duration": 62,
    "start_time": "2022-09-07T16:42:05.729Z"
   },
   {
    "duration": 49,
    "start_time": "2022-09-08T04:40:57.542Z"
   },
   {
    "duration": 683,
    "start_time": "2022-09-08T04:41:09.305Z"
   },
   {
    "duration": 23,
    "start_time": "2022-09-08T04:41:09.990Z"
   },
   {
    "duration": 17,
    "start_time": "2022-09-08T04:41:10.015Z"
   },
   {
    "duration": 9,
    "start_time": "2022-09-08T04:41:10.034Z"
   },
   {
    "duration": 35,
    "start_time": "2022-09-08T04:41:10.057Z"
   },
   {
    "duration": 4,
    "start_time": "2022-09-08T04:41:10.093Z"
   },
   {
    "duration": 11,
    "start_time": "2022-09-08T04:41:10.099Z"
   },
   {
    "duration": 10,
    "start_time": "2022-09-08T04:41:10.111Z"
   },
   {
    "duration": 44,
    "start_time": "2022-09-08T04:41:10.123Z"
   },
   {
    "duration": 5,
    "start_time": "2022-09-08T04:41:10.170Z"
   },
   {
    "duration": 53,
    "start_time": "2022-09-08T04:41:10.177Z"
   },
   {
    "duration": 29,
    "start_time": "2022-09-08T04:41:10.232Z"
   },
   {
    "duration": 5,
    "start_time": "2022-09-08T04:41:10.263Z"
   },
   {
    "duration": 16,
    "start_time": "2022-09-08T04:41:10.270Z"
   },
   {
    "duration": 27,
    "start_time": "2022-09-08T04:41:10.288Z"
   },
   {
    "duration": 41,
    "start_time": "2022-09-08T04:41:10.317Z"
   },
   {
    "duration": 5,
    "start_time": "2022-09-08T04:41:10.361Z"
   },
   {
    "duration": 23,
    "start_time": "2022-09-08T04:41:10.367Z"
   },
   {
    "duration": 9,
    "start_time": "2022-09-08T04:41:10.392Z"
   },
   {
    "duration": 5,
    "start_time": "2022-09-08T04:41:10.403Z"
   },
   {
    "duration": 20,
    "start_time": "2022-09-08T04:41:10.410Z"
   },
   {
    "duration": 64,
    "start_time": "2022-09-08T04:41:10.432Z"
   },
   {
    "duration": 37,
    "start_time": "2022-09-08T04:41:10.498Z"
   },
   {
    "duration": 62,
    "start_time": "2022-09-08T04:41:10.537Z"
   },
   {
    "duration": 40,
    "start_time": "2022-09-08T04:41:10.601Z"
   },
   {
    "duration": 29,
    "start_time": "2022-09-08T04:45:50.896Z"
   },
   {
    "duration": 24,
    "start_time": "2022-09-08T04:46:02.911Z"
   },
   {
    "duration": 26,
    "start_time": "2022-09-08T04:52:51.941Z"
   },
   {
    "duration": 26,
    "start_time": "2022-09-08T04:54:24.220Z"
   },
   {
    "duration": 83,
    "start_time": "2022-09-08T04:56:32.947Z"
   },
   {
    "duration": 25,
    "start_time": "2022-09-08T04:56:47.827Z"
   },
   {
    "duration": 28,
    "start_time": "2022-09-08T04:57:27.243Z"
   },
   {
    "duration": 42,
    "start_time": "2022-09-08T04:58:44.347Z"
   },
   {
    "duration": 21,
    "start_time": "2022-09-08T05:00:49.890Z"
   },
   {
    "duration": 23,
    "start_time": "2022-09-08T05:01:03.818Z"
   },
   {
    "duration": 28,
    "start_time": "2022-09-08T05:01:20.225Z"
   },
   {
    "duration": 31,
    "start_time": "2022-09-08T05:01:50.010Z"
   },
   {
    "duration": 30,
    "start_time": "2022-09-08T05:01:59.945Z"
   },
   {
    "duration": 25,
    "start_time": "2022-09-08T05:03:28.537Z"
   },
   {
    "duration": 58,
    "start_time": "2022-09-08T05:03:52.681Z"
   },
   {
    "duration": 27,
    "start_time": "2022-09-08T05:06:59.591Z"
   },
   {
    "duration": 26,
    "start_time": "2022-09-08T05:26:24.318Z"
   },
   {
    "duration": 731,
    "start_time": "2022-09-08T07:15:15.362Z"
   },
   {
    "duration": 22,
    "start_time": "2022-09-08T07:15:16.095Z"
   },
   {
    "duration": 16,
    "start_time": "2022-09-08T07:15:16.120Z"
   },
   {
    "duration": 11,
    "start_time": "2022-09-08T07:15:16.138Z"
   },
   {
    "duration": 68,
    "start_time": "2022-09-08T07:15:16.150Z"
   },
   {
    "duration": 4,
    "start_time": "2022-09-08T07:15:16.221Z"
   },
   {
    "duration": 22,
    "start_time": "2022-09-08T07:15:16.227Z"
   },
   {
    "duration": 8,
    "start_time": "2022-09-08T07:15:16.251Z"
   },
   {
    "duration": 14,
    "start_time": "2022-09-08T07:15:16.261Z"
   },
   {
    "duration": 9,
    "start_time": "2022-09-08T07:15:16.286Z"
   },
   {
    "duration": 49,
    "start_time": "2022-09-08T07:15:16.297Z"
   },
   {
    "duration": 13,
    "start_time": "2022-09-08T07:15:16.348Z"
   },
   {
    "duration": 24,
    "start_time": "2022-09-08T07:15:16.363Z"
   },
   {
    "duration": 13,
    "start_time": "2022-09-08T07:15:16.389Z"
   },
   {
    "duration": 35,
    "start_time": "2022-09-08T07:15:16.404Z"
   },
   {
    "duration": 22,
    "start_time": "2022-09-08T07:15:16.441Z"
   },
   {
    "duration": 4,
    "start_time": "2022-09-08T07:15:16.465Z"
   },
   {
    "duration": 11,
    "start_time": "2022-09-08T07:15:16.487Z"
   },
   {
    "duration": 9,
    "start_time": "2022-09-08T07:15:16.499Z"
   },
   {
    "duration": 4,
    "start_time": "2022-09-08T07:15:16.510Z"
   },
   {
    "duration": 13,
    "start_time": "2022-09-08T07:15:16.516Z"
   },
   {
    "duration": 35,
    "start_time": "2022-09-08T07:15:16.530Z"
   },
   {
    "duration": 32,
    "start_time": "2022-09-08T07:15:16.586Z"
   },
   {
    "duration": 29,
    "start_time": "2022-09-08T07:15:16.620Z"
   },
   {
    "duration": 53,
    "start_time": "2022-09-08T07:15:16.650Z"
   },
   {
    "duration": 50,
    "start_time": "2022-09-08T08:25:23.801Z"
   },
   {
    "duration": 518,
    "start_time": "2022-09-08T08:25:34.632Z"
   },
   {
    "duration": 25,
    "start_time": "2022-09-08T08:25:35.152Z"
   },
   {
    "duration": 16,
    "start_time": "2022-09-08T08:25:35.179Z"
   },
   {
    "duration": 12,
    "start_time": "2022-09-08T08:25:35.197Z"
   },
   {
    "duration": 38,
    "start_time": "2022-09-08T08:25:35.211Z"
   },
   {
    "duration": 4,
    "start_time": "2022-09-08T08:25:35.251Z"
   },
   {
    "duration": 13,
    "start_time": "2022-09-08T08:25:35.256Z"
   },
   {
    "duration": 6,
    "start_time": "2022-09-08T08:25:35.271Z"
   },
   {
    "duration": 7,
    "start_time": "2022-09-08T08:25:35.291Z"
   },
   {
    "duration": 6,
    "start_time": "2022-09-08T08:25:35.300Z"
   },
   {
    "duration": 37,
    "start_time": "2022-09-08T08:25:35.308Z"
   },
   {
    "duration": 10,
    "start_time": "2022-09-08T08:25:35.347Z"
   },
   {
    "duration": 7,
    "start_time": "2022-09-08T08:25:35.359Z"
   },
   {
    "duration": 32,
    "start_time": "2022-09-08T08:25:35.367Z"
   },
   {
    "duration": 19,
    "start_time": "2022-09-08T08:25:35.401Z"
   },
   {
    "duration": 17,
    "start_time": "2022-09-08T08:25:35.422Z"
   },
   {
    "duration": 4,
    "start_time": "2022-09-08T08:25:35.440Z"
   },
   {
    "duration": 15,
    "start_time": "2022-09-08T08:25:35.445Z"
   },
   {
    "duration": 31,
    "start_time": "2022-09-08T08:25:35.462Z"
   },
   {
    "duration": 4,
    "start_time": "2022-09-08T08:25:35.494Z"
   },
   {
    "duration": 21,
    "start_time": "2022-09-08T08:25:35.499Z"
   },
   {
    "duration": 33,
    "start_time": "2022-09-08T08:25:35.522Z"
   },
   {
    "duration": 45,
    "start_time": "2022-09-08T08:25:35.557Z"
   },
   {
    "duration": 29,
    "start_time": "2022-09-08T08:25:35.604Z"
   },
   {
    "duration": 32,
    "start_time": "2022-09-08T08:25:35.634Z"
   },
   {
    "duration": 28,
    "start_time": "2022-09-08T08:26:15.589Z"
   },
   {
    "duration": 27,
    "start_time": "2022-09-08T08:26:25.245Z"
   },
   {
    "duration": 30,
    "start_time": "2022-09-08T08:26:35.045Z"
   },
   {
    "duration": 93,
    "start_time": "2022-09-08T08:26:39.014Z"
   },
   {
    "duration": 26,
    "start_time": "2022-09-08T08:26:42.453Z"
   },
   {
    "duration": 32,
    "start_time": "2022-09-08T08:29:25.427Z"
   },
   {
    "duration": 30,
    "start_time": "2022-09-08T08:29:31.284Z"
   },
   {
    "duration": 33,
    "start_time": "2022-09-08T08:29:35.172Z"
   }
  ],
  "colab": {
   "name": "dpp_template_part2.ipynb",
   "provenance": []
  },
  "kernelspec": {
   "display_name": "Python 3 (ipykernel)",
   "language": "python",
   "name": "python3"
  },
  "language_info": {
   "codemirror_mode": {
    "name": "ipython",
    "version": 3
   },
   "file_extension": ".py",
   "mimetype": "text/x-python",
   "name": "python",
   "nbconvert_exporter": "python",
   "pygments_lexer": "ipython3",
   "version": "3.9.5"
  },
  "toc": {
   "base_numbering": 1,
   "nav_menu": {},
   "number_sections": true,
   "sideBar": true,
   "skip_h1_title": true,
   "title_cell": "Table of Contents",
   "title_sidebar": "Contents",
   "toc_cell": false,
   "toc_position": {},
   "toc_section_display": true,
   "toc_window_display": false
  }
 },
 "nbformat": 4,
 "nbformat_minor": 5
}
