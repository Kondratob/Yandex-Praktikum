{
 "cells": [
  {
   "cell_type": "markdown",
   "id": "6d0ed0c7",
   "metadata": {
    "deletable": false,
    "editable": false,
    "id": "c81daeeb"
   },
   "source": [
    "# Исследование надежности заемщиков"
   ]
  },
  {
   "cell_type": "markdown",
   "id": "7e8a6ffa",
   "metadata": {
    "deletable": false,
    "editable": false,
    "id": "-G3EJWzf62s6"
   },
   "source": [
    "Это первая часть проекта, она будет проверена автоматически. Вторую часть проверит ревьюер. "
   ]
  },
  {
   "cell_type": "markdown",
   "id": "03cabb21",
   "metadata": {
    "deletable": false,
    "editable": false,
    "id": "744d7639"
   },
   "source": [
    "## Откройте таблицу и изучите общую информацию о данных"
   ]
  },
  {
   "cell_type": "markdown",
   "id": "7b8ee7f7",
   "metadata": {
    "deletable": false,
    "editable": false,
    "id": "e7a14c31",
    "tags": [
     "start_task"
    ]
   },
   "source": [
    "**Задание 1. Импортируйте библиотеку pandas. Считайте данные из csv-файла в датафрейм и сохраните в переменную `data`. Путь к файлу:**\n",
    "\n",
    "`/datasets/data.csv`"
   ]
  },
  {
   "cell_type": "code",
   "execution_count": 1,
   "id": "2bb47ec3",
   "metadata": {
    "id": "7bcf75c9"
   },
   "outputs": [],
   "source": [
    "import pandas as pd# импортируйте библиотеку pandas"
   ]
  },
  {
   "cell_type": "code",
   "execution_count": 2,
   "id": "dad1cf64",
   "metadata": {
    "id": "4d240ee2"
   },
   "outputs": [],
   "source": [
    "data = pd.read_csv('/datasets/data.csv') # прочитайте csv-файл"
   ]
  },
  {
   "cell_type": "markdown",
   "id": "f04bc87d",
   "metadata": {
    "deletable": false,
    "editable": false,
    "id": "b8038fe3",
    "tags": [
     "start_task"
    ]
   },
   "source": [
    "**Задание 2. Выведите первые 20 строчек датафрейма `data` на экран.**"
   ]
  },
  {
   "cell_type": "code",
   "execution_count": 3,
   "id": "b75b6115",
   "metadata": {
    "id": "2a7cab99"
   },
   "outputs": [
    {
     "name": "stdout",
     "output_type": "stream",
     "text": [
      "    children  days_employed  dob_years            education  education_id  \\\n",
      "0          1   -8437.673028         42               высшее             0   \n",
      "1          1   -4024.803754         36              среднее             1   \n",
      "2          0   -5623.422610         33              Среднее             1   \n",
      "3          3   -4124.747207         32              среднее             1   \n",
      "4          0  340266.072047         53              среднее             1   \n",
      "5          0    -926.185831         27               высшее             0   \n",
      "6          0   -2879.202052         43               высшее             0   \n",
      "7          0    -152.779569         50              СРЕДНЕЕ             1   \n",
      "8          2   -6929.865299         35               ВЫСШЕЕ             0   \n",
      "9          0   -2188.756445         41              среднее             1   \n",
      "10         2   -4171.483647         36               высшее             0   \n",
      "11         0    -792.701887         40              среднее             1   \n",
      "12         0            NaN         65              среднее             1   \n",
      "13         0   -1846.641941         54  неоконченное высшее             2   \n",
      "14         0   -1844.956182         56               высшее             0   \n",
      "15         1    -972.364419         26              среднее             1   \n",
      "16         0   -1719.934226         35              среднее             1   \n",
      "17         0   -2369.999720         33               высшее             0   \n",
      "18         0  400281.136913         53              среднее             1   \n",
      "19         0  -10038.818549         48              СРЕДНЕЕ             1   \n",
      "\n",
      "       family_status  family_status_id gender income_type  debt  \\\n",
      "0    женат / замужем                 0      F   сотрудник     0   \n",
      "1    женат / замужем                 0      F   сотрудник     0   \n",
      "2    женат / замужем                 0      M   сотрудник     0   \n",
      "3    женат / замужем                 0      M   сотрудник     0   \n",
      "4   гражданский брак                 1      F   пенсионер     0   \n",
      "5   гражданский брак                 1      M   компаньон     0   \n",
      "6    женат / замужем                 0      F   компаньон     0   \n",
      "7    женат / замужем                 0      M   сотрудник     0   \n",
      "8   гражданский брак                 1      F   сотрудник     0   \n",
      "9    женат / замужем                 0      M   сотрудник     0   \n",
      "10   женат / замужем                 0      M   компаньон     0   \n",
      "11   женат / замужем                 0      F   сотрудник     0   \n",
      "12  гражданский брак                 1      M   пенсионер     0   \n",
      "13   женат / замужем                 0      F   сотрудник     0   \n",
      "14  гражданский брак                 1      F   компаньон     1   \n",
      "15   женат / замужем                 0      F   сотрудник     0   \n",
      "16   женат / замужем                 0      F   сотрудник     0   \n",
      "17  гражданский брак                 1      M   сотрудник     0   \n",
      "18    вдовец / вдова                 2      F   пенсионер     0   \n",
      "19         в разводе                 3      F   сотрудник     0   \n",
      "\n",
      "     total_income                                 purpose  \n",
      "0   253875.639453                           покупка жилья  \n",
      "1   112080.014102                 приобретение автомобиля  \n",
      "2   145885.952297                           покупка жилья  \n",
      "3   267628.550329              дополнительное образование  \n",
      "4   158616.077870                         сыграть свадьбу  \n",
      "5   255763.565419                           покупка жилья  \n",
      "6   240525.971920                       операции с жильем  \n",
      "7   135823.934197                             образование  \n",
      "8    95856.832424                   на проведение свадьбы  \n",
      "9   144425.938277                 покупка жилья для семьи  \n",
      "10  113943.491460                    покупка недвижимости  \n",
      "11   77069.234271       покупка коммерческой недвижимости  \n",
      "12            NaN                         сыграть свадьбу  \n",
      "13  130458.228857                 приобретение автомобиля  \n",
      "14  165127.911772              покупка жилой недвижимости  \n",
      "15  116820.904450  строительство собственной недвижимости  \n",
      "16  289202.704229                            недвижимость  \n",
      "17   90410.586745              строительство недвижимости  \n",
      "18   56823.777243      на покупку подержанного автомобиля  \n",
      "19  242831.107982            на покупку своего автомобиля  \n"
     ]
    }
   ],
   "source": [
    "print(data.head(20)) # ваш код здесь"
   ]
  },
  {
   "cell_type": "markdown",
   "id": "89c1157a",
   "metadata": {
    "deletable": false,
    "editable": false,
    "id": "1c12e233",
    "tags": [
     "start_task"
    ]
   },
   "source": [
    "**Задание 3. Выведите основную информацию о датафрейме с помощью метода `info()`.**"
   ]
  },
  {
   "cell_type": "code",
   "execution_count": 4,
   "id": "6022e192",
   "metadata": {
    "id": "2b757bca"
   },
   "outputs": [
    {
     "name": "stdout",
     "output_type": "stream",
     "text": [
      "<class 'pandas.core.frame.DataFrame'>\n",
      "RangeIndex: 21525 entries, 0 to 21524\n",
      "Data columns (total 12 columns):\n",
      " #   Column            Non-Null Count  Dtype  \n",
      "---  ------            --------------  -----  \n",
      " 0   children          21525 non-null  int64  \n",
      " 1   days_employed     19351 non-null  float64\n",
      " 2   dob_years         21525 non-null  int64  \n",
      " 3   education         21525 non-null  object \n",
      " 4   education_id      21525 non-null  int64  \n",
      " 5   family_status     21525 non-null  object \n",
      " 6   family_status_id  21525 non-null  int64  \n",
      " 7   gender            21525 non-null  object \n",
      " 8   income_type       21525 non-null  object \n",
      " 9   debt              21525 non-null  int64  \n",
      " 10  total_income      19351 non-null  float64\n",
      " 11  purpose           21525 non-null  object \n",
      "dtypes: float64(2), int64(5), object(5)\n",
      "memory usage: 2.0+ MB\n"
     ]
    }
   ],
   "source": [
    "data.info() # ваш код здесь"
   ]
  },
  {
   "cell_type": "markdown",
   "id": "dd420e5b",
   "metadata": {
    "deletable": false,
    "editable": false,
    "id": "333ec665"
   },
   "source": [
    "## Предобработка данных"
   ]
  },
  {
   "cell_type": "markdown",
   "id": "991a98d3",
   "metadata": {
    "deletable": false,
    "editable": false,
    "id": "02d92d53"
   },
   "source": [
    "### Удаление пропусков"
   ]
  },
  {
   "cell_type": "markdown",
   "id": "ad252f2d",
   "metadata": {
    "deletable": false,
    "editable": false,
    "id": "cd84967c",
    "tags": [
     "start_task"
    ]
   },
   "source": [
    "**Задание 4. Выведите количество пропущенных значений для каждого столбца. Используйте комбинацию двух методов.**"
   ]
  },
  {
   "cell_type": "code",
   "execution_count": 5,
   "id": "9d61a5ae",
   "metadata": {
    "id": "7f9b2309"
   },
   "outputs": [
    {
     "name": "stdout",
     "output_type": "stream",
     "text": [
      "children               0\n",
      "days_employed       2174\n",
      "dob_years              0\n",
      "education              0\n",
      "education_id           0\n",
      "family_status          0\n",
      "family_status_id       0\n",
      "gender                 0\n",
      "income_type            0\n",
      "debt                   0\n",
      "total_income        2174\n",
      "purpose                0\n",
      "dtype: int64\n"
     ]
    }
   ],
   "source": [
    "print(data.isnull().sum()) # ваш код здесь"
   ]
  },
  {
   "cell_type": "markdown",
   "id": "176035f2",
   "metadata": {
    "deletable": false,
    "editable": false,
    "id": "db86e27b",
    "tags": [
     "start_task"
    ]
   },
   "source": [
    "**Задание 5. В двух столбцах есть пропущенные значения. Один из них — `days_employed`. Пропуски в этом столбце вы обработаете на следующем этапе. Другой столбец с пропущенными значениями — `total_income` — хранит данные о доходах. На сумму дохода сильнее всего влияет тип занятости, поэтому заполнить пропуски в этом столбце нужно медианным значением по каждому типу из столбца `income_type`. Например, у человека с типом занятости `сотрудник` пропуск в столбце `total_income` должен быть заполнен медианным доходом среди всех записей с тем же типом.**"
   ]
  },
  {
   "cell_type": "code",
   "execution_count": 6,
   "id": "15a38972",
   "metadata": {
    "id": "42006a93"
   },
   "outputs": [],
   "source": [
    "data['total_income'] = data['total_income'].fillna(data.groupby('income_type')['total_income'].transform('median'))"
   ]
  },
  {
   "cell_type": "markdown",
   "id": "a452ed24",
   "metadata": {
    "deletable": false,
    "editable": false,
    "id": "89da5ece"
   },
   "source": [
    "### Обработка аномальных значений"
   ]
  },
  {
   "cell_type": "markdown",
   "id": "9fc42c48",
   "metadata": {
    "deletable": false,
    "editable": false,
    "id": "57964554",
    "tags": [
     "start_task"
    ]
   },
   "source": [
    "**Задание 6. В данных могут встречаться артефакты (аномалии) — значения, которые не отражают действительность и появились по какой-то ошибке. Таким артефактом будет отрицательное количество дней трудового стажа в столбце `days_employed`. Для реальных данных это нормально. Обработайте значения в этом столбце: замените все отрицательные значения положительными с помощью метода `abs()`.**"
   ]
  },
  {
   "cell_type": "code",
   "execution_count": 7,
   "id": "28249cbc",
   "metadata": {
    "id": "f6f055bf"
   },
   "outputs": [],
   "source": [
    "data['days_employed'] = data['days_employed'].abs()"
   ]
  },
  {
   "cell_type": "markdown",
   "id": "bf5b3119",
   "metadata": {
    "deletable": false,
    "editable": false,
    "id": "6107dd2f",
    "tags": [
     "start_task"
    ]
   },
   "source": [
    "**Задание 7. Для каждого типа занятости выведите медианное значение трудового стажа `days_employed` в днях.**"
   ]
  },
  {
   "cell_type": "code",
   "execution_count": 8,
   "id": "a4a578ef",
   "metadata": {
    "id": "85a5faf6"
   },
   "outputs": [
    {
     "name": "stdout",
     "output_type": "stream",
     "text": [
      "                 days_employed\n",
      "income_type                   \n",
      "безработный      366413.652744\n",
      "в декрете          3296.759962\n",
      "госслужащий        2689.368353\n",
      "компаньон          1547.382223\n",
      "пенсионер        365213.306266\n",
      "предприниматель     520.848083\n",
      "сотрудник          1574.202821\n",
      "студент             578.751554\n"
     ]
    }
   ],
   "source": [
    "print(data.groupby(['income_type']).agg({'days_employed':'median'}))"
   ]
  },
  {
   "cell_type": "markdown",
   "id": "316727d2",
   "metadata": {
    "deletable": false,
    "editable": false,
    "id": "38d1a030"
   },
   "source": [
    "У двух типов (безработные и пенсионеры) получатся аномально большие значения. Исправить такие значения сложно, поэтому оставьте их как есть. Тем более этот столбец не понадобится вам для исследования."
   ]
  },
  {
   "cell_type": "markdown",
   "id": "ba559817",
   "metadata": {
    "deletable": false,
    "editable": false,
    "id": "d8a9f147",
    "tags": [
     "start_task"
    ]
   },
   "source": [
    "**Задание 8. Выведите перечень уникальных значений столбца `children`.**"
   ]
  },
  {
   "cell_type": "code",
   "execution_count": 9,
   "id": "9e2487da",
   "metadata": {
    "id": "ef5056eb"
   },
   "outputs": [
    {
     "name": "stdout",
     "output_type": "stream",
     "text": [
      "[ 1  0  3  2 -1  4 20  5]\n"
     ]
    }
   ],
   "source": [
    "print(data['children'].unique()) # ваш код здесь"
   ]
  },
  {
   "cell_type": "markdown",
   "id": "550bccfc",
   "metadata": {
    "deletable": false,
    "editable": false,
    "id": "40b9ebf2",
    "tags": [
     "start_task"
    ]
   },
   "source": [
    "**Задание 9. В столбце `children` есть два аномальных значения. Удалите строки, в которых встречаются такие аномальные значения из датафрейма `data`.**"
   ]
  },
  {
   "cell_type": "code",
   "execution_count": 10,
   "id": "91009f5c",
   "metadata": {
    "id": "3ff9801d"
   },
   "outputs": [],
   "source": [
    "data = data.loc[(data['children'] >= 0) & (data['children'] < 19)]# ваш код здесь"
   ]
  },
  {
   "cell_type": "markdown",
   "id": "714a4d55",
   "metadata": {
    "deletable": false,
    "editable": false,
    "id": "bbc4d0ce",
    "tags": [
     "start_task"
    ]
   },
   "source": [
    "**Задание 10. Ещё раз выведите перечень уникальных значений столбца `children`, чтобы убедиться, что артефакты удалены.**"
   ]
  },
  {
   "cell_type": "code",
   "execution_count": 11,
   "id": "11a25cb1",
   "metadata": {
    "id": "ad4fa8b7"
   },
   "outputs": [
    {
     "name": "stdout",
     "output_type": "stream",
     "text": [
      "[1 0 3 2 4 5]\n"
     ]
    }
   ],
   "source": [
    "print(data['children'].unique())# ваш код здесь"
   ]
  },
  {
   "cell_type": "markdown",
   "id": "120b994c",
   "metadata": {
    "deletable": false,
    "editable": false,
    "id": "75440b63"
   },
   "source": [
    "### Удаление пропусков (продолжение)"
   ]
  },
  {
   "cell_type": "markdown",
   "id": "7879b807",
   "metadata": {
    "deletable": false,
    "editable": false,
    "id": "f4ea573f",
    "tags": [
     "start_task"
    ]
   },
   "source": [
    "**Задание 11. Заполните пропуски в столбце `days_employed` медианными значениями по каждому типу занятости `income_type`.**"
   ]
  },
  {
   "cell_type": "code",
   "execution_count": 12,
   "id": "aba12640",
   "metadata": {
    "id": "af6b1a7e"
   },
   "outputs": [],
   "source": [
    "data['days_employed'] = data['days_employed'].fillna(data.groupby('income_type')['days_employed'].transform('median')) # ваш код здесь"
   ]
  },
  {
   "cell_type": "markdown",
   "id": "2d9e75f0",
   "metadata": {
    "deletable": false,
    "editable": false,
    "id": "2753f40d",
    "tags": [
     "start_task"
    ]
   },
   "source": [
    "**Задание 12. Убедитесь, что все пропуски заполнены. Проверьте себя и ещё раз выведите количество пропущенных значений для каждого столбца с помощью двух методов.**"
   ]
  },
  {
   "cell_type": "code",
   "execution_count": 13,
   "id": "ba817a66",
   "metadata": {
    "id": "55f78bc2"
   },
   "outputs": [
    {
     "name": "stdout",
     "output_type": "stream",
     "text": [
      "children            0\n",
      "days_employed       0\n",
      "dob_years           0\n",
      "education           0\n",
      "education_id        0\n",
      "family_status       0\n",
      "family_status_id    0\n",
      "gender              0\n",
      "income_type         0\n",
      "debt                0\n",
      "total_income        0\n",
      "purpose             0\n",
      "dtype: int64\n"
     ]
    }
   ],
   "source": [
    "print(data.isnull().sum()) # ваш код здесь"
   ]
  },
  {
   "cell_type": "markdown",
   "id": "b9d20427",
   "metadata": {
    "deletable": false,
    "editable": false,
    "id": "ddc81e43"
   },
   "source": [
    "### Изменение типов данных"
   ]
  },
  {
   "cell_type": "markdown",
   "id": "0f9d828f",
   "metadata": {
    "deletable": false,
    "editable": false,
    "id": "42d19d24",
    "tags": [
     "start_task"
    ]
   },
   "source": [
    "**Задание 13. Замените вещественный тип данных в столбце `total_income` на целочисленный с помощью метода `astype()`.**"
   ]
  },
  {
   "cell_type": "code",
   "execution_count": 14,
   "id": "99b9c006",
   "metadata": {
    "id": "920b65ad"
   },
   "outputs": [],
   "source": [
    "data['total_income'] = data['total_income'].astype('int') # ваш код здесь"
   ]
  },
  {
   "cell_type": "markdown",
   "id": "570128cd",
   "metadata": {
    "deletable": false,
    "editable": false,
    "id": "80c420ba"
   },
   "source": [
    "### Обработка дубликатов"
   ]
  },
  {
   "cell_type": "markdown",
   "id": "ef938514",
   "metadata": {
    "deletable": false,
    "editable": false,
    "tags": [
     "start_task"
    ]
   },
   "source": [
    "**Задание 14. Обработайте неявные дубликаты в столбце `education`. В этом столбце есть одни и те же значения, но записанные по-разному: с использованием заглавных и строчных букв. Приведите их к нижнему регистру. Проверьте остальные столбцы.**"
   ]
  },
  {
   "cell_type": "code",
   "execution_count": 15,
   "id": "eefbd8e5",
   "metadata": {},
   "outputs": [],
   "source": [
    "data['education'] = data['education'].str.lower()"
   ]
  },
  {
   "cell_type": "markdown",
   "id": "8083f530",
   "metadata": {
    "deletable": false,
    "editable": false,
    "id": "dc587695",
    "tags": [
     "start_task"
    ]
   },
   "source": [
    "**Задание 15. Выведите на экран количество строк-дубликатов в данных. Если такие строки присутствуют, удалите их.**"
   ]
  },
  {
   "cell_type": "code",
   "execution_count": 16,
   "id": "918ede34",
   "metadata": {
    "id": "3ee445e4"
   },
   "outputs": [
    {
     "name": "stdout",
     "output_type": "stream",
     "text": [
      "0        False\n",
      "1        False\n",
      "2        False\n",
      "3        False\n",
      "4        False\n",
      "         ...  \n",
      "21520    False\n",
      "21521    False\n",
      "21522    False\n",
      "21523    False\n",
      "21524    False\n",
      "Length: 21402, dtype: bool\n"
     ]
    }
   ],
   "source": [
    "print(data.duplicated()) # посчитайте дубликаты"
   ]
  },
  {
   "cell_type": "code",
   "execution_count": 17,
   "id": "6b351af6",
   "metadata": {
    "id": "8575fe05"
   },
   "outputs": [],
   "source": [
    "data = data.drop_duplicates() # удалите дубликаты"
   ]
  },
  {
   "cell_type": "markdown",
   "id": "bd6f4906",
   "metadata": {
    "deletable": false,
    "editable": false,
    "id": "9904cf55"
   },
   "source": [
    "### Категоризация данных"
   ]
  },
  {
   "cell_type": "markdown",
   "id": "7290e84e",
   "metadata": {
    "deletable": false,
    "editable": false,
    "id": "72fcc8a2",
    "tags": [
     "start_task"
    ]
   },
   "source": [
    "**Задание 16. На основании диапазонов, указанных ниже, создайте в датафрейме `data` столбец `total_income_category` с категориями:**\n",
    "\n",
    "- 0–30000 — `'E'`;\n",
    "- 30001–50000 — `'D'`;\n",
    "- 50001–200000 — `'C'`;\n",
    "- 200001–1000000 — `'B'`;\n",
    "- 1000001 и выше — `'A'`.\n",
    "\n",
    "\n",
    "**Например, кредитополучателю с доходом 25000 нужно назначить категорию `'E'`, а клиенту, получающему 235000, — `'B'`. Используйте собственную функцию с именем `categorize_income()` и метод `apply()`.**"
   ]
  },
  {
   "cell_type": "code",
   "execution_count": 18,
   "id": "784c3046",
   "metadata": {
    "id": "e1771346"
   },
   "outputs": [],
   "source": [
    "def categorize_income(total_income): # создайте функцию categorize_income()\n",
    "    if 0 < total_income <= 30000:\n",
    "        return 'E'\n",
    "    if 30001 <= total_income <= 50000:\n",
    "        return 'D'\n",
    "    if 50001 <= total_income <= 200000:\n",
    "        return 'C'\n",
    "    if 200001 <= total_income <= 1000000:\n",
    "        return 'B'\n",
    "    if total_income >= 1000001:\n",
    "        return 'A'\n"
   ]
  },
  {
   "cell_type": "code",
   "execution_count": 19,
   "id": "be6a6b30",
   "metadata": {
    "id": "d5f3586d"
   },
   "outputs": [],
   "source": [
    "data['total_income_category'] = data['total_income'].apply(categorize_income) # примените функцию методом apply()"
   ]
  },
  {
   "cell_type": "markdown",
   "id": "64abdb36",
   "metadata": {
    "deletable": false,
    "editable": false,
    "id": "dde49b5c",
    "tags": [
     "start_task"
    ]
   },
   "source": [
    "**Задание 17. Выведите на экран перечень уникальных целей взятия кредита из столбца `purpose`.**"
   ]
  },
  {
   "cell_type": "code",
   "execution_count": 20,
   "id": "6226c4a6",
   "metadata": {
    "id": "f67ce9b3"
   },
   "outputs": [
    {
     "name": "stdout",
     "output_type": "stream",
     "text": [
      "['покупка жилья' 'приобретение автомобиля' 'дополнительное образование'\n",
      " 'сыграть свадьбу' 'операции с жильем' 'образование'\n",
      " 'на проведение свадьбы' 'покупка жилья для семьи' 'покупка недвижимости'\n",
      " 'покупка коммерческой недвижимости' 'покупка жилой недвижимости'\n",
      " 'строительство собственной недвижимости' 'недвижимость'\n",
      " 'строительство недвижимости' 'на покупку подержанного автомобиля'\n",
      " 'на покупку своего автомобиля' 'операции с коммерческой недвижимостью'\n",
      " 'строительство жилой недвижимости' 'жилье'\n",
      " 'операции со своей недвижимостью' 'автомобили' 'заняться образованием'\n",
      " 'сделка с подержанным автомобилем' 'получение образования' 'автомобиль'\n",
      " 'свадьба' 'получение дополнительного образования' 'покупка своего жилья'\n",
      " 'операции с недвижимостью' 'получение высшего образования'\n",
      " 'свой автомобиль' 'сделка с автомобилем' 'профильное образование'\n",
      " 'высшее образование' 'покупка жилья для сдачи' 'на покупку автомобиля'\n",
      " 'ремонт жилью' 'заняться высшим образованием']\n"
     ]
    }
   ],
   "source": [
    "print(data['purpose'].unique()) # ваш код здесь"
   ]
  },
  {
   "cell_type": "markdown",
   "id": "f4cfa4ff",
   "metadata": {
    "deletable": false,
    "editable": false,
    "id": "85d0aef0",
    "tags": [
     "start_task"
    ]
   },
   "source": [
    "**Задание 18. Создайте функцию, которая на основании данных из столбца `purpose` сформирует новый столбец `purpose_category`, в который войдут следующие категории:**\n",
    "\n",
    "- `'операции с автомобилем'`,\n",
    "- `'операции с недвижимостью'`,\n",
    "- `'проведение свадьбы'`,\n",
    "- `'получение образования'`.\n",
    "\n",
    "**Например, если в столбце `purpose` находится подстрока `'на покупку автомобиля'`, то в столбце `purpose_category` должна появиться строка `'операции с автомобилем'`.**\n",
    "\n",
    "**Используйте собственную функцию с именем `categorize_purpose()` и метод `apply()`. Изучите данные в столбце `purpose` и определите, какие подстроки помогут вам правильно определить категорию.**"
   ]
  },
  {
   "cell_type": "code",
   "execution_count": 21,
   "id": "f753f066",
   "metadata": {
    "id": "e149fab4"
   },
   "outputs": [],
   "source": [
    "def categorize_purpose(purpose): # создайте функцию categorize_purpose()\n",
    "    if 'автомоб' in purpose:\n",
    "        return 'операции с автомобилем'\n",
    "    if 'недвиж' in purpose or 'жиль' in purpose:\n",
    "        return 'операции с недвижимостью'\n",
    "    if 'свадь' in purpose:\n",
    "        return 'проведение свадьбы'\n",
    "    if 'образ' in purpose:\n",
    "        return 'получение образования'"
   ]
  },
  {
   "cell_type": "code",
   "execution_count": 22,
   "id": "e43eb203",
   "metadata": {
    "id": "bf36e69b"
   },
   "outputs": [],
   "source": [
    "data['purpose_category'] = data['purpose'].apply(categorize_purpose) # примените функцию методом apply()"
   ]
  },
  {
   "cell_type": "code",
   "execution_count": 23,
   "id": "f76ac72d",
   "metadata": {},
   "outputs": [
    {
     "data": {
      "text/html": [
       "<div>\n",
       "<style scoped>\n",
       "    .dataframe tbody tr th:only-of-type {\n",
       "        vertical-align: middle;\n",
       "    }\n",
       "\n",
       "    .dataframe tbody tr th {\n",
       "        vertical-align: top;\n",
       "    }\n",
       "\n",
       "    .dataframe thead th {\n",
       "        text-align: right;\n",
       "    }\n",
       "</style>\n",
       "<table border=\"1\" class=\"dataframe\">\n",
       "  <thead>\n",
       "    <tr style=\"text-align: right;\">\n",
       "      <th></th>\n",
       "      <th>children</th>\n",
       "      <th>days_employed</th>\n",
       "      <th>dob_years</th>\n",
       "      <th>education</th>\n",
       "      <th>education_id</th>\n",
       "      <th>family_status</th>\n",
       "      <th>family_status_id</th>\n",
       "      <th>gender</th>\n",
       "      <th>income_type</th>\n",
       "      <th>debt</th>\n",
       "      <th>total_income</th>\n",
       "      <th>purpose</th>\n",
       "      <th>total_income_category</th>\n",
       "    </tr>\n",
       "    <tr>\n",
       "      <th>purpose_category</th>\n",
       "      <th></th>\n",
       "      <th></th>\n",
       "      <th></th>\n",
       "      <th></th>\n",
       "      <th></th>\n",
       "      <th></th>\n",
       "      <th></th>\n",
       "      <th></th>\n",
       "      <th></th>\n",
       "      <th></th>\n",
       "      <th></th>\n",
       "      <th></th>\n",
       "      <th></th>\n",
       "    </tr>\n",
       "  </thead>\n",
       "  <tbody>\n",
       "    <tr>\n",
       "      <th>операции с автомобилем</th>\n",
       "      <td>4279</td>\n",
       "      <td>4279</td>\n",
       "      <td>4279</td>\n",
       "      <td>4279</td>\n",
       "      <td>4279</td>\n",
       "      <td>4279</td>\n",
       "      <td>4279</td>\n",
       "      <td>4279</td>\n",
       "      <td>4279</td>\n",
       "      <td>4279</td>\n",
       "      <td>4279</td>\n",
       "      <td>4279</td>\n",
       "      <td>4279</td>\n",
       "    </tr>\n",
       "    <tr>\n",
       "      <th>операции с недвижимостью</th>\n",
       "      <td>10751</td>\n",
       "      <td>10751</td>\n",
       "      <td>10751</td>\n",
       "      <td>10751</td>\n",
       "      <td>10751</td>\n",
       "      <td>10751</td>\n",
       "      <td>10751</td>\n",
       "      <td>10751</td>\n",
       "      <td>10751</td>\n",
       "      <td>10751</td>\n",
       "      <td>10751</td>\n",
       "      <td>10751</td>\n",
       "      <td>10751</td>\n",
       "    </tr>\n",
       "    <tr>\n",
       "      <th>получение образования</th>\n",
       "      <td>3988</td>\n",
       "      <td>3988</td>\n",
       "      <td>3988</td>\n",
       "      <td>3988</td>\n",
       "      <td>3988</td>\n",
       "      <td>3988</td>\n",
       "      <td>3988</td>\n",
       "      <td>3988</td>\n",
       "      <td>3988</td>\n",
       "      <td>3988</td>\n",
       "      <td>3988</td>\n",
       "      <td>3988</td>\n",
       "      <td>3988</td>\n",
       "    </tr>\n",
       "    <tr>\n",
       "      <th>проведение свадьбы</th>\n",
       "      <td>2313</td>\n",
       "      <td>2313</td>\n",
       "      <td>2313</td>\n",
       "      <td>2313</td>\n",
       "      <td>2313</td>\n",
       "      <td>2313</td>\n",
       "      <td>2313</td>\n",
       "      <td>2313</td>\n",
       "      <td>2313</td>\n",
       "      <td>2313</td>\n",
       "      <td>2313</td>\n",
       "      <td>2313</td>\n",
       "      <td>2313</td>\n",
       "    </tr>\n",
       "  </tbody>\n",
       "</table>\n",
       "</div>"
      ],
      "text/plain": [
       "                          children  days_employed  dob_years  education  \\\n",
       "purpose_category                                                          \n",
       "операции с автомобилем        4279           4279       4279       4279   \n",
       "операции с недвижимостью     10751          10751      10751      10751   \n",
       "получение образования         3988           3988       3988       3988   \n",
       "проведение свадьбы            2313           2313       2313       2313   \n",
       "\n",
       "                          education_id  family_status  family_status_id  \\\n",
       "purpose_category                                                          \n",
       "операции с автомобилем            4279           4279              4279   \n",
       "операции с недвижимостью         10751          10751             10751   \n",
       "получение образования             3988           3988              3988   \n",
       "проведение свадьбы                2313           2313              2313   \n",
       "\n",
       "                          gender  income_type   debt  total_income  purpose  \\\n",
       "purpose_category                                                              \n",
       "операции с автомобилем      4279         4279   4279          4279     4279   \n",
       "операции с недвижимостью   10751        10751  10751         10751    10751   \n",
       "получение образования       3988         3988   3988          3988     3988   \n",
       "проведение свадьбы          2313         2313   2313          2313     2313   \n",
       "\n",
       "                          total_income_category  \n",
       "purpose_category                                 \n",
       "операции с автомобилем                     4279  \n",
       "операции с недвижимостью                  10751  \n",
       "получение образования                      3988  \n",
       "проведение свадьбы                         2313  "
      ]
     },
     "metadata": {},
     "output_type": "display_data"
    }
   ],
   "source": [
    "display(data.groupby('purpose_category').count())"
   ]
  },
  {
   "cell_type": "code",
   "execution_count": null,
   "id": "52fa6217",
   "metadata": {},
   "outputs": [],
   "source": []
  }
 ],
 "metadata": {
  "ExecuteTimeLog": [
   {
    "duration": 395,
    "start_time": "2022-09-06T14:09:42.618Z"
   },
   {
    "duration": 733,
    "start_time": "2022-09-06T14:09:43.108Z"
   },
   {
    "duration": 10,
    "start_time": "2022-09-06T14:09:44.183Z"
   },
   {
    "duration": 15,
    "start_time": "2022-09-06T14:09:45.422Z"
   },
   {
    "duration": 79,
    "start_time": "2022-09-06T14:14:49.670Z"
   },
   {
    "duration": 74,
    "start_time": "2022-09-06T14:14:54.186Z"
   },
   {
    "duration": 9,
    "start_time": "2022-09-06T14:16:33.387Z"
   },
   {
    "duration": 9,
    "start_time": "2022-09-06T14:16:37.484Z"
   },
   {
    "duration": 10,
    "start_time": "2022-09-06T14:17:32.045Z"
   },
   {
    "duration": 10,
    "start_time": "2022-09-06T14:17:34.948Z"
   },
   {
    "duration": 15,
    "start_time": "2022-09-06T14:17:54.065Z"
   },
   {
    "duration": 13,
    "start_time": "2022-09-06T14:19:05.407Z"
   },
   {
    "duration": 10,
    "start_time": "2022-09-06T14:19:16.249Z"
   },
   {
    "duration": 10,
    "start_time": "2022-09-06T14:19:20.818Z"
   },
   {
    "duration": 409,
    "start_time": "2022-09-06T14:19:35.822Z"
   },
   {
    "duration": 84,
    "start_time": "2022-09-06T14:19:36.233Z"
   },
   {
    "duration": 11,
    "start_time": "2022-09-06T14:19:36.318Z"
   },
   {
    "duration": 22,
    "start_time": "2022-09-06T14:19:36.331Z"
   },
   {
    "duration": 112,
    "start_time": "2022-09-06T14:19:36.355Z"
   },
   {
    "duration": 0,
    "start_time": "2022-09-06T14:19:36.469Z"
   },
   {
    "duration": 0,
    "start_time": "2022-09-06T14:19:36.471Z"
   },
   {
    "duration": 0,
    "start_time": "2022-09-06T14:19:36.472Z"
   },
   {
    "duration": 0,
    "start_time": "2022-09-06T14:19:36.473Z"
   },
   {
    "duration": 0,
    "start_time": "2022-09-06T14:19:36.474Z"
   },
   {
    "duration": 0,
    "start_time": "2022-09-06T14:19:36.475Z"
   },
   {
    "duration": 0,
    "start_time": "2022-09-06T14:19:36.477Z"
   },
   {
    "duration": 0,
    "start_time": "2022-09-06T14:19:36.478Z"
   },
   {
    "duration": 0,
    "start_time": "2022-09-06T14:19:36.478Z"
   },
   {
    "duration": 0,
    "start_time": "2022-09-06T14:19:36.479Z"
   },
   {
    "duration": 0,
    "start_time": "2022-09-06T14:19:36.502Z"
   },
   {
    "duration": 0,
    "start_time": "2022-09-06T14:19:36.507Z"
   },
   {
    "duration": 0,
    "start_time": "2022-09-06T14:19:36.508Z"
   },
   {
    "duration": 0,
    "start_time": "2022-09-06T14:19:36.509Z"
   },
   {
    "duration": 0,
    "start_time": "2022-09-06T14:19:36.509Z"
   },
   {
    "duration": 0,
    "start_time": "2022-09-06T14:19:36.513Z"
   },
   {
    "duration": 0,
    "start_time": "2022-09-06T14:19:36.513Z"
   },
   {
    "duration": 9,
    "start_time": "2022-09-06T14:20:26.758Z"
   },
   {
    "duration": 6,
    "start_time": "2022-09-06T14:29:25.419Z"
   },
   {
    "duration": 4,
    "start_time": "2022-09-06T14:29:28.589Z"
   },
   {
    "duration": 15,
    "start_time": "2022-09-06T14:29:56.893Z"
   },
   {
    "duration": 17,
    "start_time": "2022-09-06T14:30:18.815Z"
   },
   {
    "duration": 71,
    "start_time": "2022-09-06T14:40:16.217Z"
   },
   {
    "duration": 42,
    "start_time": "2022-09-06T14:41:12.721Z"
   },
   {
    "duration": 55,
    "start_time": "2022-09-06T14:41:35.168Z"
   },
   {
    "duration": 438,
    "start_time": "2022-09-06T14:41:52.988Z"
   },
   {
    "duration": 87,
    "start_time": "2022-09-06T14:41:53.428Z"
   },
   {
    "duration": 11,
    "start_time": "2022-09-06T14:41:53.519Z"
   },
   {
    "duration": 38,
    "start_time": "2022-09-06T14:41:53.532Z"
   },
   {
    "duration": 9,
    "start_time": "2022-09-06T14:41:53.573Z"
   },
   {
    "duration": 97,
    "start_time": "2022-09-06T14:41:53.584Z"
   },
   {
    "duration": 7,
    "start_time": "2022-09-06T14:41:53.683Z"
   },
   {
    "duration": 20,
    "start_time": "2022-09-06T14:41:53.691Z"
   },
   {
    "duration": 33,
    "start_time": "2022-09-06T14:41:53.714Z"
   },
   {
    "duration": 23,
    "start_time": "2022-09-06T14:41:53.748Z"
   },
   {
    "duration": 16,
    "start_time": "2022-09-06T14:41:53.777Z"
   },
   {
    "duration": 39,
    "start_time": "2022-09-06T14:41:53.794Z"
   },
   {
    "duration": 10,
    "start_time": "2022-09-06T14:41:53.834Z"
   },
   {
    "duration": 25,
    "start_time": "2022-09-06T14:41:53.846Z"
   },
   {
    "duration": 18,
    "start_time": "2022-09-06T14:41:53.873Z"
   },
   {
    "duration": 37,
    "start_time": "2022-09-06T14:41:53.893Z"
   },
   {
    "duration": 28,
    "start_time": "2022-09-06T14:41:53.932Z"
   },
   {
    "duration": 13,
    "start_time": "2022-09-06T14:41:53.962Z"
   },
   {
    "duration": 24,
    "start_time": "2022-09-06T14:41:53.976Z"
   },
   {
    "duration": 20,
    "start_time": "2022-09-06T14:41:54.004Z"
   },
   {
    "duration": 23,
    "start_time": "2022-09-06T14:41:54.026Z"
   },
   {
    "duration": 41,
    "start_time": "2022-09-06T14:41:54.051Z"
   },
   {
    "duration": 433,
    "start_time": "2022-09-06T14:42:21.523Z"
   },
   {
    "duration": 81,
    "start_time": "2022-09-06T14:42:21.957Z"
   },
   {
    "duration": 12,
    "start_time": "2022-09-06T14:42:22.040Z"
   },
   {
    "duration": 21,
    "start_time": "2022-09-06T14:42:22.053Z"
   },
   {
    "duration": 10,
    "start_time": "2022-09-06T14:42:22.077Z"
   },
   {
    "duration": 50,
    "start_time": "2022-09-06T14:42:22.103Z"
   },
   {
    "duration": 3,
    "start_time": "2022-09-06T14:42:22.155Z"
   },
   {
    "duration": 9,
    "start_time": "2022-09-06T14:42:22.159Z"
   },
   {
    "duration": 11,
    "start_time": "2022-09-06T14:42:22.169Z"
   },
   {
    "duration": 7,
    "start_time": "2022-09-06T14:42:22.181Z"
   },
   {
    "duration": 19,
    "start_time": "2022-09-06T14:42:22.190Z"
   },
   {
    "duration": 21,
    "start_time": "2022-09-06T14:42:22.210Z"
   },
   {
    "duration": 6,
    "start_time": "2022-09-06T14:42:22.233Z"
   },
   {
    "duration": 4,
    "start_time": "2022-09-06T14:42:22.242Z"
   },
   {
    "duration": 15,
    "start_time": "2022-09-06T14:42:22.248Z"
   },
   {
    "duration": 5,
    "start_time": "2022-09-06T14:42:22.265Z"
   },
   {
    "duration": 5,
    "start_time": "2022-09-06T14:42:22.272Z"
   },
   {
    "duration": 5,
    "start_time": "2022-09-06T14:42:22.279Z"
   },
   {
    "duration": 6,
    "start_time": "2022-09-06T14:42:22.285Z"
   },
   {
    "duration": 8,
    "start_time": "2022-09-06T14:42:22.293Z"
   },
   {
    "duration": 17,
    "start_time": "2022-09-06T14:42:22.304Z"
   },
   {
    "duration": 8,
    "start_time": "2022-09-06T14:42:22.325Z"
   },
   {
    "duration": 82,
    "start_time": "2022-09-06T14:47:47.392Z"
   },
   {
    "duration": 403,
    "start_time": "2022-09-06T14:48:16.518Z"
   },
   {
    "duration": 77,
    "start_time": "2022-09-06T14:48:16.923Z"
   },
   {
    "duration": 18,
    "start_time": "2022-09-06T14:48:17.001Z"
   },
   {
    "duration": 25,
    "start_time": "2022-09-06T14:48:17.022Z"
   },
   {
    "duration": 8,
    "start_time": "2022-09-06T14:48:17.050Z"
   },
   {
    "duration": 91,
    "start_time": "2022-09-06T14:48:17.060Z"
   },
   {
    "duration": 0,
    "start_time": "2022-09-06T14:48:17.153Z"
   },
   {
    "duration": 0,
    "start_time": "2022-09-06T14:48:17.154Z"
   },
   {
    "duration": 0,
    "start_time": "2022-09-06T14:48:17.155Z"
   },
   {
    "duration": 0,
    "start_time": "2022-09-06T14:48:17.157Z"
   },
   {
    "duration": 0,
    "start_time": "2022-09-06T14:48:17.158Z"
   },
   {
    "duration": 0,
    "start_time": "2022-09-06T14:48:17.159Z"
   },
   {
    "duration": 0,
    "start_time": "2022-09-06T14:48:17.160Z"
   },
   {
    "duration": 0,
    "start_time": "2022-09-06T14:48:17.161Z"
   },
   {
    "duration": 0,
    "start_time": "2022-09-06T14:48:17.162Z"
   },
   {
    "duration": 0,
    "start_time": "2022-09-06T14:48:17.163Z"
   },
   {
    "duration": 0,
    "start_time": "2022-09-06T14:48:17.164Z"
   },
   {
    "duration": 0,
    "start_time": "2022-09-06T14:48:17.166Z"
   },
   {
    "duration": 0,
    "start_time": "2022-09-06T14:48:17.167Z"
   },
   {
    "duration": 0,
    "start_time": "2022-09-06T14:48:17.168Z"
   },
   {
    "duration": 0,
    "start_time": "2022-09-06T14:48:17.169Z"
   },
   {
    "duration": 0,
    "start_time": "2022-09-06T14:48:17.170Z"
   },
   {
    "duration": 9,
    "start_time": "2022-09-06T14:48:37.231Z"
   },
   {
    "duration": 437,
    "start_time": "2022-09-06T14:48:44.087Z"
   },
   {
    "duration": 82,
    "start_time": "2022-09-06T14:48:44.527Z"
   },
   {
    "duration": 11,
    "start_time": "2022-09-06T14:48:44.617Z"
   },
   {
    "duration": 17,
    "start_time": "2022-09-06T14:48:44.630Z"
   },
   {
    "duration": 9,
    "start_time": "2022-09-06T14:48:44.650Z"
   },
   {
    "duration": 86,
    "start_time": "2022-09-06T14:48:44.660Z"
   },
   {
    "duration": 0,
    "start_time": "2022-09-06T14:48:44.748Z"
   },
   {
    "duration": 0,
    "start_time": "2022-09-06T14:48:44.749Z"
   },
   {
    "duration": 0,
    "start_time": "2022-09-06T14:48:44.751Z"
   },
   {
    "duration": 0,
    "start_time": "2022-09-06T14:48:44.753Z"
   },
   {
    "duration": 0,
    "start_time": "2022-09-06T14:48:44.754Z"
   },
   {
    "duration": 0,
    "start_time": "2022-09-06T14:48:44.755Z"
   },
   {
    "duration": 0,
    "start_time": "2022-09-06T14:48:44.757Z"
   },
   {
    "duration": 0,
    "start_time": "2022-09-06T14:48:44.758Z"
   },
   {
    "duration": 0,
    "start_time": "2022-09-06T14:48:44.759Z"
   },
   {
    "duration": 0,
    "start_time": "2022-09-06T14:48:44.760Z"
   },
   {
    "duration": 0,
    "start_time": "2022-09-06T14:48:44.762Z"
   },
   {
    "duration": 0,
    "start_time": "2022-09-06T14:48:44.763Z"
   },
   {
    "duration": 0,
    "start_time": "2022-09-06T14:48:44.764Z"
   },
   {
    "duration": 0,
    "start_time": "2022-09-06T14:48:44.765Z"
   },
   {
    "duration": 0,
    "start_time": "2022-09-06T14:48:44.766Z"
   },
   {
    "duration": 0,
    "start_time": "2022-09-06T14:48:44.768Z"
   },
   {
    "duration": 401,
    "start_time": "2022-09-06T14:49:04.662Z"
   },
   {
    "duration": 86,
    "start_time": "2022-09-06T14:49:05.065Z"
   },
   {
    "duration": 12,
    "start_time": "2022-09-06T14:49:05.153Z"
   },
   {
    "duration": 38,
    "start_time": "2022-09-06T14:49:05.168Z"
   },
   {
    "duration": 13,
    "start_time": "2022-09-06T14:49:05.208Z"
   },
   {
    "duration": 12,
    "start_time": "2022-09-06T14:49:05.223Z"
   },
   {
    "duration": 3,
    "start_time": "2022-09-06T14:49:05.237Z"
   },
   {
    "duration": 6,
    "start_time": "2022-09-06T14:49:05.242Z"
   },
   {
    "duration": 7,
    "start_time": "2022-09-06T14:49:05.250Z"
   },
   {
    "duration": 6,
    "start_time": "2022-09-06T14:49:05.260Z"
   },
   {
    "duration": 7,
    "start_time": "2022-09-06T14:49:05.268Z"
   },
   {
    "duration": 8,
    "start_time": "2022-09-06T14:49:05.276Z"
   },
   {
    "duration": 5,
    "start_time": "2022-09-06T14:49:05.286Z"
   },
   {
    "duration": 19,
    "start_time": "2022-09-06T14:49:05.304Z"
   },
   {
    "duration": 7,
    "start_time": "2022-09-06T14:49:05.326Z"
   },
   {
    "duration": 5,
    "start_time": "2022-09-06T14:49:05.335Z"
   },
   {
    "duration": 8,
    "start_time": "2022-09-06T14:49:05.342Z"
   },
   {
    "duration": 8,
    "start_time": "2022-09-06T14:49:05.352Z"
   },
   {
    "duration": 9,
    "start_time": "2022-09-06T14:49:05.363Z"
   },
   {
    "duration": 15,
    "start_time": "2022-09-06T14:49:05.374Z"
   },
   {
    "duration": 32,
    "start_time": "2022-09-06T14:49:05.391Z"
   },
   {
    "duration": 5,
    "start_time": "2022-09-06T14:49:05.425Z"
   },
   {
    "duration": 4,
    "start_time": "2022-09-06T14:50:43.948Z"
   },
   {
    "duration": 439,
    "start_time": "2022-09-06T14:50:52.889Z"
   },
   {
    "duration": 85,
    "start_time": "2022-09-06T14:50:53.330Z"
   },
   {
    "duration": 12,
    "start_time": "2022-09-06T14:50:53.417Z"
   },
   {
    "duration": 16,
    "start_time": "2022-09-06T14:50:53.430Z"
   },
   {
    "duration": 10,
    "start_time": "2022-09-06T14:50:53.448Z"
   },
   {
    "duration": 8,
    "start_time": "2022-09-06T14:50:53.460Z"
   },
   {
    "duration": 8,
    "start_time": "2022-09-06T14:50:53.470Z"
   },
   {
    "duration": 24,
    "start_time": "2022-09-06T14:50:53.480Z"
   },
   {
    "duration": 3,
    "start_time": "2022-09-06T14:50:53.510Z"
   },
   {
    "duration": 5,
    "start_time": "2022-09-06T14:50:53.514Z"
   },
   {
    "duration": 6,
    "start_time": "2022-09-06T14:50:53.521Z"
   },
   {
    "duration": 5,
    "start_time": "2022-09-06T14:50:53.529Z"
   },
   {
    "duration": 9,
    "start_time": "2022-09-06T14:50:53.536Z"
   },
   {
    "duration": 4,
    "start_time": "2022-09-06T14:50:53.548Z"
   },
   {
    "duration": 4,
    "start_time": "2022-09-06T14:50:53.554Z"
   },
   {
    "duration": 7,
    "start_time": "2022-09-06T14:50:53.560Z"
   },
   {
    "duration": 5,
    "start_time": "2022-09-06T14:50:53.569Z"
   },
   {
    "duration": 5,
    "start_time": "2022-09-06T14:50:53.576Z"
   },
   {
    "duration": 7,
    "start_time": "2022-09-06T14:50:53.583Z"
   },
   {
    "duration": 21,
    "start_time": "2022-09-06T14:50:53.605Z"
   },
   {
    "duration": 5,
    "start_time": "2022-09-06T14:50:53.628Z"
   },
   {
    "duration": 5,
    "start_time": "2022-09-06T14:50:53.636Z"
   },
   {
    "duration": 102,
    "start_time": "2022-09-06T14:57:09.029Z"
   },
   {
    "duration": 12,
    "start_time": "2022-09-06T14:58:58.681Z"
   },
   {
    "duration": 456,
    "start_time": "2022-09-06T14:59:16.600Z"
   },
   {
    "duration": 84,
    "start_time": "2022-09-06T14:59:17.058Z"
   },
   {
    "duration": 11,
    "start_time": "2022-09-06T14:59:17.144Z"
   },
   {
    "duration": 24,
    "start_time": "2022-09-06T14:59:17.156Z"
   },
   {
    "duration": 9,
    "start_time": "2022-09-06T14:59:17.182Z"
   },
   {
    "duration": 107,
    "start_time": "2022-09-06T14:59:17.192Z"
   },
   {
    "duration": 0,
    "start_time": "2022-09-06T14:59:17.302Z"
   },
   {
    "duration": 0,
    "start_time": "2022-09-06T14:59:17.302Z"
   },
   {
    "duration": 0,
    "start_time": "2022-09-06T14:59:17.303Z"
   },
   {
    "duration": 0,
    "start_time": "2022-09-06T14:59:17.304Z"
   },
   {
    "duration": 0,
    "start_time": "2022-09-06T14:59:17.315Z"
   },
   {
    "duration": 0,
    "start_time": "2022-09-06T14:59:17.316Z"
   },
   {
    "duration": 0,
    "start_time": "2022-09-06T14:59:17.317Z"
   },
   {
    "duration": 0,
    "start_time": "2022-09-06T14:59:17.322Z"
   },
   {
    "duration": 0,
    "start_time": "2022-09-06T14:59:17.325Z"
   },
   {
    "duration": 0,
    "start_time": "2022-09-06T14:59:17.326Z"
   },
   {
    "duration": 1,
    "start_time": "2022-09-06T14:59:17.327Z"
   },
   {
    "duration": 0,
    "start_time": "2022-09-06T14:59:17.328Z"
   },
   {
    "duration": 0,
    "start_time": "2022-09-06T14:59:17.330Z"
   },
   {
    "duration": 0,
    "start_time": "2022-09-06T14:59:17.331Z"
   },
   {
    "duration": 0,
    "start_time": "2022-09-06T14:59:17.333Z"
   },
   {
    "duration": 0,
    "start_time": "2022-09-06T14:59:17.335Z"
   },
   {
    "duration": 8,
    "start_time": "2022-09-06T15:00:30.635Z"
   },
   {
    "duration": 16,
    "start_time": "2022-09-06T15:00:52.739Z"
   },
   {
    "duration": 49,
    "start_time": "2022-09-06T15:19:37.620Z"
   },
   {
    "duration": 7,
    "start_time": "2022-09-06T15:20:05.184Z"
   },
   {
    "duration": 372,
    "start_time": "2022-09-06T15:20:20.455Z"
   },
   {
    "duration": 87,
    "start_time": "2022-09-06T15:20:20.829Z"
   },
   {
    "duration": 11,
    "start_time": "2022-09-06T15:20:20.918Z"
   },
   {
    "duration": 30,
    "start_time": "2022-09-06T15:20:20.931Z"
   },
   {
    "duration": 9,
    "start_time": "2022-09-06T15:20:20.964Z"
   },
   {
    "duration": 7,
    "start_time": "2022-09-06T15:20:20.975Z"
   },
   {
    "duration": 28,
    "start_time": "2022-09-06T15:20:20.984Z"
   },
   {
    "duration": 3,
    "start_time": "2022-09-06T15:20:21.018Z"
   },
   {
    "duration": 6,
    "start_time": "2022-09-06T15:20:21.023Z"
   },
   {
    "duration": 5,
    "start_time": "2022-09-06T15:20:21.032Z"
   },
   {
    "duration": 5,
    "start_time": "2022-09-06T15:20:21.038Z"
   },
   {
    "duration": 10,
    "start_time": "2022-09-06T15:20:21.045Z"
   },
   {
    "duration": 6,
    "start_time": "2022-09-06T15:20:21.056Z"
   },
   {
    "duration": 8,
    "start_time": "2022-09-06T15:20:21.065Z"
   },
   {
    "duration": 13,
    "start_time": "2022-09-06T15:20:21.074Z"
   },
   {
    "duration": 17,
    "start_time": "2022-09-06T15:20:21.089Z"
   },
   {
    "duration": 10,
    "start_time": "2022-09-06T15:20:21.114Z"
   },
   {
    "duration": 5,
    "start_time": "2022-09-06T15:20:21.126Z"
   },
   {
    "duration": 10,
    "start_time": "2022-09-06T15:20:21.133Z"
   },
   {
    "duration": 6,
    "start_time": "2022-09-06T15:20:21.145Z"
   },
   {
    "duration": 9,
    "start_time": "2022-09-06T15:20:21.152Z"
   },
   {
    "duration": 8,
    "start_time": "2022-09-06T15:20:21.163Z"
   },
   {
    "duration": 87,
    "start_time": "2022-09-06T15:20:58.243Z"
   },
   {
    "duration": 416,
    "start_time": "2022-09-06T15:21:04.520Z"
   },
   {
    "duration": 83,
    "start_time": "2022-09-06T15:21:04.938Z"
   },
   {
    "duration": 15,
    "start_time": "2022-09-06T15:21:05.023Z"
   },
   {
    "duration": 21,
    "start_time": "2022-09-06T15:21:05.040Z"
   },
   {
    "duration": 9,
    "start_time": "2022-09-06T15:21:05.064Z"
   },
   {
    "duration": 94,
    "start_time": "2022-09-06T15:21:05.076Z"
   },
   {
    "duration": 0,
    "start_time": "2022-09-06T15:21:05.172Z"
   },
   {
    "duration": 0,
    "start_time": "2022-09-06T15:21:05.173Z"
   },
   {
    "duration": 0,
    "start_time": "2022-09-06T15:21:05.174Z"
   },
   {
    "duration": 0,
    "start_time": "2022-09-06T15:21:05.175Z"
   },
   {
    "duration": 0,
    "start_time": "2022-09-06T15:21:05.177Z"
   },
   {
    "duration": 0,
    "start_time": "2022-09-06T15:21:05.178Z"
   },
   {
    "duration": 0,
    "start_time": "2022-09-06T15:21:05.179Z"
   },
   {
    "duration": 0,
    "start_time": "2022-09-06T15:21:05.180Z"
   },
   {
    "duration": 0,
    "start_time": "2022-09-06T15:21:05.181Z"
   },
   {
    "duration": 0,
    "start_time": "2022-09-06T15:21:05.182Z"
   },
   {
    "duration": 0,
    "start_time": "2022-09-06T15:21:05.207Z"
   },
   {
    "duration": 0,
    "start_time": "2022-09-06T15:21:05.207Z"
   },
   {
    "duration": 0,
    "start_time": "2022-09-06T15:21:05.208Z"
   },
   {
    "duration": 0,
    "start_time": "2022-09-06T15:21:05.209Z"
   },
   {
    "duration": 0,
    "start_time": "2022-09-06T15:21:05.209Z"
   },
   {
    "duration": 0,
    "start_time": "2022-09-06T15:21:05.210Z"
   },
   {
    "duration": 439,
    "start_time": "2022-09-06T15:23:32.121Z"
   },
   {
    "duration": 86,
    "start_time": "2022-09-06T15:23:32.562Z"
   },
   {
    "duration": 11,
    "start_time": "2022-09-06T15:23:32.650Z"
   },
   {
    "duration": 19,
    "start_time": "2022-09-06T15:23:32.663Z"
   },
   {
    "duration": 20,
    "start_time": "2022-09-06T15:23:32.685Z"
   },
   {
    "duration": 9,
    "start_time": "2022-09-06T15:23:32.710Z"
   },
   {
    "duration": 16,
    "start_time": "2022-09-06T15:23:32.721Z"
   },
   {
    "duration": 2,
    "start_time": "2022-09-06T15:23:32.739Z"
   },
   {
    "duration": 4,
    "start_time": "2022-09-06T15:23:32.743Z"
   },
   {
    "duration": 8,
    "start_time": "2022-09-06T15:23:32.749Z"
   },
   {
    "duration": 4,
    "start_time": "2022-09-06T15:23:32.759Z"
   },
   {
    "duration": 5,
    "start_time": "2022-09-06T15:23:32.765Z"
   },
   {
    "duration": 5,
    "start_time": "2022-09-06T15:23:32.772Z"
   },
   {
    "duration": 26,
    "start_time": "2022-09-06T15:23:32.780Z"
   },
   {
    "duration": 3,
    "start_time": "2022-09-06T15:23:32.814Z"
   },
   {
    "duration": 7,
    "start_time": "2022-09-06T15:23:32.819Z"
   },
   {
    "duration": 4,
    "start_time": "2022-09-06T15:23:32.829Z"
   },
   {
    "duration": 5,
    "start_time": "2022-09-06T15:23:32.834Z"
   },
   {
    "duration": 4,
    "start_time": "2022-09-06T15:23:32.841Z"
   },
   {
    "duration": 4,
    "start_time": "2022-09-06T15:23:32.847Z"
   },
   {
    "duration": 4,
    "start_time": "2022-09-06T15:23:32.853Z"
   },
   {
    "duration": 5,
    "start_time": "2022-09-06T15:23:32.859Z"
   },
   {
    "duration": 11,
    "start_time": "2022-09-06T15:29:20.935Z"
   },
   {
    "duration": 5,
    "start_time": "2022-09-06T15:29:37.807Z"
   },
   {
    "duration": 14,
    "start_time": "2022-09-06T15:30:02.047Z"
   },
   {
    "duration": 379,
    "start_time": "2022-09-06T15:30:32.957Z"
   },
   {
    "duration": 81,
    "start_time": "2022-09-06T15:30:33.338Z"
   },
   {
    "duration": 11,
    "start_time": "2022-09-06T15:30:33.420Z"
   },
   {
    "duration": 15,
    "start_time": "2022-09-06T15:30:33.433Z"
   },
   {
    "duration": 9,
    "start_time": "2022-09-06T15:30:33.449Z"
   },
   {
    "duration": 13,
    "start_time": "2022-09-06T15:30:33.459Z"
   },
   {
    "duration": 43,
    "start_time": "2022-09-06T15:30:33.473Z"
   },
   {
    "duration": 3,
    "start_time": "2022-09-06T15:30:33.521Z"
   },
   {
    "duration": 8,
    "start_time": "2022-09-06T15:30:33.526Z"
   },
   {
    "duration": 3,
    "start_time": "2022-09-06T15:30:33.538Z"
   },
   {
    "duration": 7,
    "start_time": "2022-09-06T15:30:33.543Z"
   },
   {
    "duration": 6,
    "start_time": "2022-09-06T15:30:33.552Z"
   },
   {
    "duration": 7,
    "start_time": "2022-09-06T15:30:33.559Z"
   },
   {
    "duration": 8,
    "start_time": "2022-09-06T15:30:33.567Z"
   },
   {
    "duration": 4,
    "start_time": "2022-09-06T15:30:33.577Z"
   },
   {
    "duration": 14,
    "start_time": "2022-09-06T15:30:33.583Z"
   },
   {
    "duration": 20,
    "start_time": "2022-09-06T15:30:33.603Z"
   },
   {
    "duration": 8,
    "start_time": "2022-09-06T15:30:33.625Z"
   },
   {
    "duration": 7,
    "start_time": "2022-09-06T15:30:33.635Z"
   },
   {
    "duration": 6,
    "start_time": "2022-09-06T15:30:33.643Z"
   },
   {
    "duration": 9,
    "start_time": "2022-09-06T15:30:33.650Z"
   },
   {
    "duration": 6,
    "start_time": "2022-09-06T15:30:33.660Z"
   },
   {
    "duration": 12,
    "start_time": "2022-09-06T15:32:35.398Z"
   },
   {
    "duration": 12,
    "start_time": "2022-09-06T15:32:58.760Z"
   },
   {
    "duration": 81,
    "start_time": "2022-09-06T15:33:15.451Z"
   },
   {
    "duration": 4,
    "start_time": "2022-09-06T15:33:25.818Z"
   },
   {
    "duration": 114,
    "start_time": "2022-09-06T15:34:00.427Z"
   },
   {
    "duration": 69,
    "start_time": "2022-09-06T15:34:05.018Z"
   },
   {
    "duration": 13,
    "start_time": "2022-09-06T15:34:28.507Z"
   },
   {
    "duration": 421,
    "start_time": "2022-09-06T15:34:35.907Z"
   },
   {
    "duration": 84,
    "start_time": "2022-09-06T15:34:36.330Z"
   },
   {
    "duration": 14,
    "start_time": "2022-09-06T15:34:36.415Z"
   },
   {
    "duration": 18,
    "start_time": "2022-09-06T15:34:36.432Z"
   },
   {
    "duration": 10,
    "start_time": "2022-09-06T15:34:36.452Z"
   },
   {
    "duration": 8,
    "start_time": "2022-09-06T15:34:36.464Z"
   },
   {
    "duration": 4,
    "start_time": "2022-09-06T15:34:36.474Z"
   },
   {
    "duration": 15,
    "start_time": "2022-09-06T15:34:36.503Z"
   },
   {
    "duration": 5,
    "start_time": "2022-09-06T15:34:36.521Z"
   },
   {
    "duration": 13,
    "start_time": "2022-09-06T15:34:36.529Z"
   },
   {
    "duration": 16,
    "start_time": "2022-09-06T15:34:36.544Z"
   },
   {
    "duration": 6,
    "start_time": "2022-09-06T15:34:36.562Z"
   },
   {
    "duration": 23,
    "start_time": "2022-09-06T15:34:36.570Z"
   },
   {
    "duration": 25,
    "start_time": "2022-09-06T15:34:36.594Z"
   },
   {
    "duration": 10,
    "start_time": "2022-09-06T15:34:36.621Z"
   },
   {
    "duration": 7,
    "start_time": "2022-09-06T15:34:36.633Z"
   },
   {
    "duration": 6,
    "start_time": "2022-09-06T15:34:36.642Z"
   },
   {
    "duration": 6,
    "start_time": "2022-09-06T15:34:36.649Z"
   },
   {
    "duration": 7,
    "start_time": "2022-09-06T15:34:36.657Z"
   },
   {
    "duration": 5,
    "start_time": "2022-09-06T15:34:36.666Z"
   },
   {
    "duration": 5,
    "start_time": "2022-09-06T15:34:36.673Z"
   },
   {
    "duration": 9,
    "start_time": "2022-09-06T15:34:36.679Z"
   },
   {
    "duration": 8,
    "start_time": "2022-09-06T15:34:54.123Z"
   },
   {
    "duration": 76,
    "start_time": "2022-09-06T15:35:18.002Z"
   },
   {
    "duration": 4,
    "start_time": "2022-09-06T15:36:05.842Z"
   },
   {
    "duration": 12,
    "start_time": "2022-09-06T15:36:11.952Z"
   },
   {
    "duration": 7,
    "start_time": "2022-09-06T15:36:21.678Z"
   },
   {
    "duration": 7,
    "start_time": "2022-09-06T15:36:29.819Z"
   },
   {
    "duration": 9,
    "start_time": "2022-09-06T15:36:39.324Z"
   },
   {
    "duration": 45,
    "start_time": "2022-09-06T15:37:22.552Z"
   },
   {
    "duration": 11,
    "start_time": "2022-09-06T15:37:27.331Z"
   },
   {
    "duration": 307,
    "start_time": "2022-09-06T15:38:07.520Z"
   },
   {
    "duration": 62,
    "start_time": "2022-09-06T15:38:19.690Z"
   },
   {
    "duration": 59,
    "start_time": "2022-09-06T15:38:39.839Z"
   },
   {
    "duration": 54,
    "start_time": "2022-09-06T15:38:46.039Z"
   },
   {
    "duration": 3,
    "start_time": "2022-09-06T15:39:02.841Z"
   },
   {
    "duration": 3,
    "start_time": "2022-09-06T15:39:12.526Z"
   },
   {
    "duration": 4,
    "start_time": "2022-09-06T15:40:42.318Z"
   },
   {
    "duration": 3,
    "start_time": "2022-09-06T15:40:54.848Z"
   },
   {
    "duration": 365,
    "start_time": "2022-09-06T15:41:03.261Z"
   },
   {
    "duration": 82,
    "start_time": "2022-09-06T15:41:03.629Z"
   },
   {
    "duration": 11,
    "start_time": "2022-09-06T15:41:03.715Z"
   },
   {
    "duration": 19,
    "start_time": "2022-09-06T15:41:03.728Z"
   },
   {
    "duration": 10,
    "start_time": "2022-09-06T15:41:03.748Z"
   },
   {
    "duration": 12,
    "start_time": "2022-09-06T15:41:03.759Z"
   },
   {
    "duration": 34,
    "start_time": "2022-09-06T15:41:03.772Z"
   },
   {
    "duration": 11,
    "start_time": "2022-09-06T15:41:03.809Z"
   },
   {
    "duration": 18,
    "start_time": "2022-09-06T15:41:03.823Z"
   },
   {
    "duration": 15,
    "start_time": "2022-09-06T15:41:03.845Z"
   },
   {
    "duration": 8,
    "start_time": "2022-09-06T15:41:03.862Z"
   },
   {
    "duration": 5,
    "start_time": "2022-09-06T15:41:03.872Z"
   },
   {
    "duration": 8,
    "start_time": "2022-09-06T15:41:03.878Z"
   },
   {
    "duration": 5,
    "start_time": "2022-09-06T15:41:03.888Z"
   },
   {
    "duration": 5,
    "start_time": "2022-09-06T15:41:03.895Z"
   },
   {
    "duration": 22,
    "start_time": "2022-09-06T15:41:03.901Z"
   },
   {
    "duration": 5,
    "start_time": "2022-09-06T15:41:03.925Z"
   },
   {
    "duration": 4,
    "start_time": "2022-09-06T15:41:03.932Z"
   },
   {
    "duration": 6,
    "start_time": "2022-09-06T15:41:03.938Z"
   },
   {
    "duration": 5,
    "start_time": "2022-09-06T15:41:03.946Z"
   },
   {
    "duration": 8,
    "start_time": "2022-09-06T15:41:03.953Z"
   },
   {
    "duration": 10,
    "start_time": "2022-09-06T15:41:03.963Z"
   },
   {
    "duration": 4,
    "start_time": "2022-09-06T15:41:41.264Z"
   },
   {
    "duration": 3,
    "start_time": "2022-09-06T15:41:59.583Z"
   },
   {
    "duration": 3,
    "start_time": "2022-09-06T15:42:07.858Z"
   },
   {
    "duration": 3,
    "start_time": "2022-09-06T15:42:12.649Z"
   },
   {
    "duration": 432,
    "start_time": "2022-09-06T15:42:18.966Z"
   },
   {
    "duration": 90,
    "start_time": "2022-09-06T15:42:19.400Z"
   },
   {
    "duration": 13,
    "start_time": "2022-09-06T15:42:19.492Z"
   },
   {
    "duration": 24,
    "start_time": "2022-09-06T15:42:19.507Z"
   },
   {
    "duration": 11,
    "start_time": "2022-09-06T15:42:19.534Z"
   },
   {
    "duration": 11,
    "start_time": "2022-09-06T15:42:19.547Z"
   },
   {
    "duration": 4,
    "start_time": "2022-09-06T15:42:19.562Z"
   },
   {
    "duration": 7,
    "start_time": "2022-09-06T15:42:19.568Z"
   },
   {
    "duration": 50,
    "start_time": "2022-09-06T15:42:19.577Z"
   },
   {
    "duration": 8,
    "start_time": "2022-09-06T15:42:19.629Z"
   },
   {
    "duration": 7,
    "start_time": "2022-09-06T15:42:19.639Z"
   },
   {
    "duration": 13,
    "start_time": "2022-09-06T15:42:19.648Z"
   },
   {
    "duration": 6,
    "start_time": "2022-09-06T15:42:19.663Z"
   },
   {
    "duration": 9,
    "start_time": "2022-09-06T15:42:19.672Z"
   },
   {
    "duration": 13,
    "start_time": "2022-09-06T15:42:19.683Z"
   },
   {
    "duration": 19,
    "start_time": "2022-09-06T15:42:19.698Z"
   },
   {
    "duration": 8,
    "start_time": "2022-09-06T15:42:19.721Z"
   },
   {
    "duration": 13,
    "start_time": "2022-09-06T15:42:19.731Z"
   },
   {
    "duration": 11,
    "start_time": "2022-09-06T15:42:19.746Z"
   },
   {
    "duration": 5,
    "start_time": "2022-09-06T15:42:19.759Z"
   },
   {
    "duration": 7,
    "start_time": "2022-09-06T15:42:19.767Z"
   },
   {
    "duration": 12,
    "start_time": "2022-09-06T15:42:19.776Z"
   },
   {
    "duration": 8,
    "start_time": "2022-09-06T15:42:42.947Z"
   },
   {
    "duration": 9,
    "start_time": "2022-09-06T15:43:01.712Z"
   },
   {
    "duration": 7,
    "start_time": "2022-09-06T15:45:09.470Z"
   },
   {
    "duration": 60,
    "start_time": "2022-09-06T15:46:16.300Z"
   },
   {
    "duration": 55,
    "start_time": "2022-09-06T15:47:29.852Z"
   },
   {
    "duration": 93,
    "start_time": "2022-09-06T15:47:35.352Z"
   },
   {
    "duration": 12,
    "start_time": "2022-09-06T15:48:16.018Z"
   },
   {
    "duration": 59,
    "start_time": "2022-09-06T15:51:43.627Z"
   },
   {
    "duration": 5,
    "start_time": "2022-09-06T15:51:47.668Z"
   },
   {
    "duration": 4,
    "start_time": "2022-09-06T15:52:13.723Z"
   },
   {
    "duration": 8,
    "start_time": "2022-09-06T16:00:28.236Z"
   },
   {
    "duration": 8,
    "start_time": "2022-09-06T16:00:48.661Z"
   },
   {
    "duration": 15,
    "start_time": "2022-09-06T16:01:32.340Z"
   },
   {
    "duration": 7,
    "start_time": "2022-09-06T16:02:14.755Z"
   },
   {
    "duration": 5,
    "start_time": "2022-09-06T16:02:16.990Z"
   },
   {
    "duration": 4,
    "start_time": "2022-09-06T16:02:28.347Z"
   },
   {
    "duration": 4,
    "start_time": "2022-09-06T16:02:29.735Z"
   },
   {
    "duration": 4,
    "start_time": "2022-09-06T16:02:34.742Z"
   },
   {
    "duration": 4,
    "start_time": "2022-09-06T16:02:35.534Z"
   },
   {
    "duration": 389,
    "start_time": "2022-09-06T16:02:44.551Z"
   },
   {
    "duration": 85,
    "start_time": "2022-09-06T16:02:44.942Z"
   },
   {
    "duration": 11,
    "start_time": "2022-09-06T16:02:45.029Z"
   },
   {
    "duration": 30,
    "start_time": "2022-09-06T16:02:45.042Z"
   },
   {
    "duration": 16,
    "start_time": "2022-09-06T16:02:45.075Z"
   },
   {
    "duration": 41,
    "start_time": "2022-09-06T16:02:45.093Z"
   },
   {
    "duration": 33,
    "start_time": "2022-09-06T16:02:45.136Z"
   },
   {
    "duration": 27,
    "start_time": "2022-09-06T16:02:45.171Z"
   },
   {
    "duration": 29,
    "start_time": "2022-09-06T16:02:45.199Z"
   },
   {
    "duration": 21,
    "start_time": "2022-09-06T16:02:45.230Z"
   },
   {
    "duration": 30,
    "start_time": "2022-09-06T16:02:45.252Z"
   },
   {
    "duration": 35,
    "start_time": "2022-09-06T16:02:45.284Z"
   },
   {
    "duration": 33,
    "start_time": "2022-09-06T16:02:45.321Z"
   },
   {
    "duration": 12,
    "start_time": "2022-09-06T16:02:45.356Z"
   },
   {
    "duration": 12,
    "start_time": "2022-09-06T16:02:45.370Z"
   },
   {
    "duration": 17,
    "start_time": "2022-09-06T16:02:45.383Z"
   },
   {
    "duration": 19,
    "start_time": "2022-09-06T16:02:45.403Z"
   },
   {
    "duration": 13,
    "start_time": "2022-09-06T16:02:45.424Z"
   },
   {
    "duration": 12,
    "start_time": "2022-09-06T16:02:45.438Z"
   },
   {
    "duration": 19,
    "start_time": "2022-09-06T16:02:45.452Z"
   },
   {
    "duration": 10,
    "start_time": "2022-09-06T16:02:45.473Z"
   },
   {
    "duration": 12,
    "start_time": "2022-09-06T16:02:45.485Z"
   },
   {
    "duration": 77,
    "start_time": "2022-09-06T16:03:13.595Z"
   },
   {
    "duration": 16,
    "start_time": "2022-09-06T16:03:19.909Z"
   },
   {
    "duration": 6,
    "start_time": "2022-09-06T16:03:27.838Z"
   },
   {
    "duration": 9,
    "start_time": "2022-09-06T16:04:13.608Z"
   },
   {
    "duration": 5,
    "start_time": "2022-09-06T16:04:20.432Z"
   },
   {
    "duration": 5,
    "start_time": "2022-09-06T16:04:22.569Z"
   },
   {
    "duration": 6,
    "start_time": "2022-09-06T16:04:31.337Z"
   },
   {
    "duration": 5,
    "start_time": "2022-09-06T16:04:33.159Z"
   },
   {
    "duration": 426,
    "start_time": "2022-09-06T16:04:44.221Z"
   },
   {
    "duration": 84,
    "start_time": "2022-09-06T16:04:44.649Z"
   },
   {
    "duration": 12,
    "start_time": "2022-09-06T16:04:44.734Z"
   },
   {
    "duration": 25,
    "start_time": "2022-09-06T16:04:44.747Z"
   },
   {
    "duration": 40,
    "start_time": "2022-09-06T16:04:44.776Z"
   },
   {
    "duration": 10,
    "start_time": "2022-09-06T16:04:44.819Z"
   },
   {
    "duration": 5,
    "start_time": "2022-09-06T16:04:44.830Z"
   },
   {
    "duration": 20,
    "start_time": "2022-09-06T16:04:44.837Z"
   },
   {
    "duration": 5,
    "start_time": "2022-09-06T16:04:44.860Z"
   },
   {
    "duration": 19,
    "start_time": "2022-09-06T16:04:44.866Z"
   },
   {
    "duration": 25,
    "start_time": "2022-09-06T16:04:44.886Z"
   },
   {
    "duration": 17,
    "start_time": "2022-09-06T16:04:44.913Z"
   },
   {
    "duration": 7,
    "start_time": "2022-09-06T16:04:44.932Z"
   },
   {
    "duration": 8,
    "start_time": "2022-09-06T16:04:44.942Z"
   },
   {
    "duration": 5,
    "start_time": "2022-09-06T16:04:44.952Z"
   },
   {
    "duration": 5,
    "start_time": "2022-09-06T16:04:44.959Z"
   },
   {
    "duration": 13,
    "start_time": "2022-09-06T16:04:44.966Z"
   },
   {
    "duration": 14,
    "start_time": "2022-09-06T16:04:44.981Z"
   },
   {
    "duration": 6,
    "start_time": "2022-09-06T16:04:44.997Z"
   },
   {
    "duration": 28,
    "start_time": "2022-09-06T16:04:45.004Z"
   },
   {
    "duration": 15,
    "start_time": "2022-09-06T16:04:45.034Z"
   },
   {
    "duration": 6,
    "start_time": "2022-09-06T16:04:45.051Z"
   },
   {
    "duration": 61,
    "start_time": "2022-09-07T04:40:00.536Z"
   },
   {
    "duration": 369,
    "start_time": "2022-09-07T04:40:15.683Z"
   },
   {
    "duration": 530,
    "start_time": "2022-09-07T04:40:16.055Z"
   },
   {
    "duration": 11,
    "start_time": "2022-09-07T04:40:16.586Z"
   },
   {
    "duration": 14,
    "start_time": "2022-09-07T04:40:16.599Z"
   },
   {
    "duration": 8,
    "start_time": "2022-09-07T04:40:16.615Z"
   },
   {
    "duration": 9,
    "start_time": "2022-09-07T04:40:16.625Z"
   },
   {
    "duration": 19,
    "start_time": "2022-09-07T04:40:16.636Z"
   },
   {
    "duration": 12,
    "start_time": "2022-09-07T04:40:16.657Z"
   },
   {
    "duration": 6,
    "start_time": "2022-09-07T04:40:16.671Z"
   },
   {
    "duration": 10,
    "start_time": "2022-09-07T04:40:16.680Z"
   },
   {
    "duration": 4,
    "start_time": "2022-09-07T04:40:16.692Z"
   },
   {
    "duration": 10,
    "start_time": "2022-09-07T04:40:16.697Z"
   },
   {
    "duration": 12,
    "start_time": "2022-09-07T04:40:16.709Z"
   },
   {
    "duration": 5,
    "start_time": "2022-09-07T04:40:16.722Z"
   },
   {
    "duration": 12,
    "start_time": "2022-09-07T04:40:16.728Z"
   },
   {
    "duration": 19,
    "start_time": "2022-09-07T04:40:16.745Z"
   },
   {
    "duration": 7,
    "start_time": "2022-09-07T04:40:16.765Z"
   },
   {
    "duration": 7,
    "start_time": "2022-09-07T04:40:16.774Z"
   },
   {
    "duration": 16,
    "start_time": "2022-09-07T04:40:16.782Z"
   },
   {
    "duration": 11,
    "start_time": "2022-09-07T04:40:16.800Z"
   },
   {
    "duration": 21,
    "start_time": "2022-09-07T04:40:16.812Z"
   },
   {
    "duration": 37,
    "start_time": "2022-09-07T04:40:16.835Z"
   },
   {
    "duration": 59,
    "start_time": "2022-09-07T04:49:19.554Z"
   },
   {
    "duration": 9,
    "start_time": "2022-09-07T04:55:49.891Z"
   },
   {
    "duration": 10,
    "start_time": "2022-09-07T04:56:21.875Z"
   },
   {
    "duration": 7,
    "start_time": "2022-09-07T04:56:30.355Z"
   },
   {
    "duration": 10,
    "start_time": "2022-09-07T04:56:40.235Z"
   },
   {
    "duration": 7,
    "start_time": "2022-09-07T04:56:45.411Z"
   },
   {
    "duration": 18,
    "start_time": "2022-09-07T04:57:09.144Z"
   },
   {
    "duration": 9,
    "start_time": "2022-09-07T04:57:48.299Z"
   },
   {
    "duration": 6,
    "start_time": "2022-09-07T04:57:59.819Z"
   },
   {
    "duration": 8,
    "start_time": "2022-09-07T04:58:18.763Z"
   },
   {
    "duration": 23,
    "start_time": "2022-09-07T04:58:56.331Z"
   },
   {
    "duration": 14,
    "start_time": "2022-09-07T04:59:08.162Z"
   },
   {
    "duration": 8,
    "start_time": "2022-09-07T04:59:29.602Z"
   },
   {
    "duration": 8,
    "start_time": "2022-09-07T04:59:56.353Z"
   },
   {
    "duration": 7,
    "start_time": "2022-09-07T05:00:46.654Z"
   },
   {
    "duration": 9,
    "start_time": "2022-09-07T05:00:56.842Z"
   },
   {
    "duration": 10,
    "start_time": "2022-09-07T05:01:02.529Z"
   },
   {
    "duration": 9,
    "start_time": "2022-09-07T05:01:10.357Z"
   },
   {
    "duration": 393,
    "start_time": "2022-09-07T05:01:57.332Z"
   },
   {
    "duration": 87,
    "start_time": "2022-09-07T05:01:57.726Z"
   },
   {
    "duration": 13,
    "start_time": "2022-09-07T05:01:57.815Z"
   },
   {
    "duration": 30,
    "start_time": "2022-09-07T05:01:57.830Z"
   },
   {
    "duration": 18,
    "start_time": "2022-09-07T05:01:57.862Z"
   },
   {
    "duration": 10,
    "start_time": "2022-09-07T05:01:57.881Z"
   },
   {
    "duration": 5,
    "start_time": "2022-09-07T05:01:57.892Z"
   },
   {
    "duration": 13,
    "start_time": "2022-09-07T05:01:57.898Z"
   },
   {
    "duration": 6,
    "start_time": "2022-09-07T05:01:57.913Z"
   },
   {
    "duration": 20,
    "start_time": "2022-09-07T05:01:57.923Z"
   },
   {
    "duration": 5,
    "start_time": "2022-09-07T05:01:57.945Z"
   },
   {
    "duration": 21,
    "start_time": "2022-09-07T05:01:57.952Z"
   },
   {
    "duration": 11,
    "start_time": "2022-09-07T05:01:57.974Z"
   },
   {
    "duration": 5,
    "start_time": "2022-09-07T05:01:57.987Z"
   },
   {
    "duration": 98,
    "start_time": "2022-09-07T05:01:57.995Z"
   },
   {
    "duration": 0,
    "start_time": "2022-09-07T05:01:58.094Z"
   },
   {
    "duration": 0,
    "start_time": "2022-09-07T05:01:58.096Z"
   },
   {
    "duration": 0,
    "start_time": "2022-09-07T05:01:58.097Z"
   },
   {
    "duration": 0,
    "start_time": "2022-09-07T05:01:58.098Z"
   },
   {
    "duration": 0,
    "start_time": "2022-09-07T05:01:58.099Z"
   },
   {
    "duration": 0,
    "start_time": "2022-09-07T05:01:58.101Z"
   },
   {
    "duration": 0,
    "start_time": "2022-09-07T05:01:58.102Z"
   },
   {
    "duration": 389,
    "start_time": "2022-09-07T05:02:24.597Z"
   },
   {
    "duration": 76,
    "start_time": "2022-09-07T05:02:24.988Z"
   },
   {
    "duration": 9,
    "start_time": "2022-09-07T05:02:25.066Z"
   },
   {
    "duration": 18,
    "start_time": "2022-09-07T05:02:25.077Z"
   },
   {
    "duration": 8,
    "start_time": "2022-09-07T05:02:25.097Z"
   },
   {
    "duration": 8,
    "start_time": "2022-09-07T05:02:25.106Z"
   },
   {
    "duration": 7,
    "start_time": "2022-09-07T05:02:25.115Z"
   },
   {
    "duration": 17,
    "start_time": "2022-09-07T05:02:25.123Z"
   },
   {
    "duration": 19,
    "start_time": "2022-09-07T05:02:25.142Z"
   },
   {
    "duration": 9,
    "start_time": "2022-09-07T05:02:25.162Z"
   },
   {
    "duration": 4,
    "start_time": "2022-09-07T05:02:25.172Z"
   },
   {
    "duration": 11,
    "start_time": "2022-09-07T05:02:25.177Z"
   },
   {
    "duration": 12,
    "start_time": "2022-09-07T05:02:25.189Z"
   },
   {
    "duration": 3,
    "start_time": "2022-09-07T05:02:25.203Z"
   },
   {
    "duration": 77,
    "start_time": "2022-09-07T05:02:25.208Z"
   },
   {
    "duration": 0,
    "start_time": "2022-09-07T05:02:25.286Z"
   },
   {
    "duration": 0,
    "start_time": "2022-09-07T05:02:25.288Z"
   },
   {
    "duration": 0,
    "start_time": "2022-09-07T05:02:25.289Z"
   },
   {
    "duration": 0,
    "start_time": "2022-09-07T05:02:25.290Z"
   },
   {
    "duration": 0,
    "start_time": "2022-09-07T05:02:25.291Z"
   },
   {
    "duration": 0,
    "start_time": "2022-09-07T05:02:25.292Z"
   },
   {
    "duration": 0,
    "start_time": "2022-09-07T05:02:25.292Z"
   },
   {
    "duration": 17,
    "start_time": "2022-09-07T05:02:40.365Z"
   },
   {
    "duration": 470,
    "start_time": "2022-09-07T05:03:03.318Z"
   },
   {
    "duration": 78,
    "start_time": "2022-09-07T05:03:03.790Z"
   },
   {
    "duration": 10,
    "start_time": "2022-09-07T05:03:03.870Z"
   },
   {
    "duration": 17,
    "start_time": "2022-09-07T05:03:03.881Z"
   },
   {
    "duration": 9,
    "start_time": "2022-09-07T05:03:03.900Z"
   },
   {
    "duration": 9,
    "start_time": "2022-09-07T05:03:03.910Z"
   },
   {
    "duration": 13,
    "start_time": "2022-09-07T05:03:03.939Z"
   },
   {
    "duration": 11,
    "start_time": "2022-09-07T05:03:03.954Z"
   },
   {
    "duration": 4,
    "start_time": "2022-09-07T05:03:03.966Z"
   },
   {
    "duration": 9,
    "start_time": "2022-09-07T05:03:03.971Z"
   },
   {
    "duration": 4,
    "start_time": "2022-09-07T05:03:03.981Z"
   },
   {
    "duration": 8,
    "start_time": "2022-09-07T05:03:03.986Z"
   },
   {
    "duration": 13,
    "start_time": "2022-09-07T05:03:03.996Z"
   },
   {
    "duration": 5,
    "start_time": "2022-09-07T05:03:04.012Z"
   },
   {
    "duration": 43,
    "start_time": "2022-09-07T05:03:04.018Z"
   },
   {
    "duration": 3,
    "start_time": "2022-09-07T05:03:04.062Z"
   },
   {
    "duration": 6,
    "start_time": "2022-09-07T05:03:04.066Z"
   },
   {
    "duration": 7,
    "start_time": "2022-09-07T05:03:04.074Z"
   },
   {
    "duration": 6,
    "start_time": "2022-09-07T05:03:04.082Z"
   },
   {
    "duration": 6,
    "start_time": "2022-09-07T05:03:04.090Z"
   },
   {
    "duration": 9,
    "start_time": "2022-09-07T05:03:04.097Z"
   },
   {
    "duration": 5,
    "start_time": "2022-09-07T05:03:04.107Z"
   },
   {
    "duration": 10,
    "start_time": "2022-09-07T05:03:37.083Z"
   },
   {
    "duration": 27,
    "start_time": "2022-09-07T05:08:36.585Z"
   },
   {
    "duration": 15,
    "start_time": "2022-09-07T05:08:42.402Z"
   },
   {
    "duration": 30,
    "start_time": "2022-09-07T05:09:36.706Z"
   },
   {
    "duration": 53,
    "start_time": "2022-09-07T05:09:40.625Z"
   },
   {
    "duration": 38,
    "start_time": "2022-09-07T05:09:45.489Z"
   },
   {
    "duration": 40,
    "start_time": "2022-09-07T05:10:03.721Z"
   },
   {
    "duration": 22,
    "start_time": "2022-09-07T05:10:57.577Z"
   },
   {
    "duration": 25,
    "start_time": "2022-09-07T05:11:04.809Z"
   },
   {
    "duration": 36,
    "start_time": "2022-09-07T05:11:54.185Z"
   },
   {
    "duration": 30,
    "start_time": "2022-09-07T05:12:03.800Z"
   },
   {
    "duration": 26,
    "start_time": "2022-09-07T05:12:47.728Z"
   },
   {
    "duration": 30,
    "start_time": "2022-09-07T05:13:18.928Z"
   },
   {
    "duration": 17,
    "start_time": "2022-09-07T05:13:26.271Z"
   },
   {
    "duration": 389,
    "start_time": "2022-09-07T05:13:32.986Z"
   },
   {
    "duration": 79,
    "start_time": "2022-09-07T05:13:33.377Z"
   },
   {
    "duration": 10,
    "start_time": "2022-09-07T05:13:33.458Z"
   },
   {
    "duration": 19,
    "start_time": "2022-09-07T05:13:33.470Z"
   },
   {
    "duration": 10,
    "start_time": "2022-09-07T05:13:33.491Z"
   },
   {
    "duration": 6,
    "start_time": "2022-09-07T05:13:33.502Z"
   },
   {
    "duration": 35,
    "start_time": "2022-09-07T05:13:33.510Z"
   },
   {
    "duration": 16,
    "start_time": "2022-09-07T05:13:33.551Z"
   },
   {
    "duration": 5,
    "start_time": "2022-09-07T05:13:33.568Z"
   },
   {
    "duration": 9,
    "start_time": "2022-09-07T05:13:33.574Z"
   },
   {
    "duration": 6,
    "start_time": "2022-09-07T05:13:33.584Z"
   },
   {
    "duration": 12,
    "start_time": "2022-09-07T05:13:33.591Z"
   },
   {
    "duration": 11,
    "start_time": "2022-09-07T05:13:33.604Z"
   },
   {
    "duration": 21,
    "start_time": "2022-09-07T05:13:33.618Z"
   },
   {
    "duration": 29,
    "start_time": "2022-09-07T05:13:33.640Z"
   },
   {
    "duration": 46,
    "start_time": "2022-09-07T05:13:33.671Z"
   },
   {
    "duration": 22,
    "start_time": "2022-09-07T05:13:33.719Z"
   },
   {
    "duration": 8,
    "start_time": "2022-09-07T05:13:33.747Z"
   },
   {
    "duration": 13,
    "start_time": "2022-09-07T05:13:33.757Z"
   },
   {
    "duration": 7,
    "start_time": "2022-09-07T05:13:33.773Z"
   },
   {
    "duration": 6,
    "start_time": "2022-09-07T05:13:33.782Z"
   },
   {
    "duration": 6,
    "start_time": "2022-09-07T05:13:33.789Z"
   },
   {
    "duration": 68,
    "start_time": "2022-09-07T05:35:40.510Z"
   },
   {
    "duration": 4,
    "start_time": "2022-09-07T05:36:01.074Z"
   },
   {
    "duration": 9,
    "start_time": "2022-09-07T05:36:01.421Z"
   },
   {
    "duration": 10,
    "start_time": "2022-09-07T05:37:07.489Z"
   },
   {
    "duration": 363,
    "start_time": "2022-09-07T05:37:30.597Z"
   },
   {
    "duration": 89,
    "start_time": "2022-09-07T05:37:30.962Z"
   },
   {
    "duration": 10,
    "start_time": "2022-09-07T05:37:31.053Z"
   },
   {
    "duration": 38,
    "start_time": "2022-09-07T05:37:31.065Z"
   },
   {
    "duration": 9,
    "start_time": "2022-09-07T05:37:31.105Z"
   },
   {
    "duration": 21,
    "start_time": "2022-09-07T05:37:31.116Z"
   },
   {
    "duration": 20,
    "start_time": "2022-09-07T05:37:31.140Z"
   },
   {
    "duration": 20,
    "start_time": "2022-09-07T05:37:31.162Z"
   },
   {
    "duration": 4,
    "start_time": "2022-09-07T05:37:31.184Z"
   },
   {
    "duration": 8,
    "start_time": "2022-09-07T05:37:31.190Z"
   },
   {
    "duration": 4,
    "start_time": "2022-09-07T05:37:31.199Z"
   },
   {
    "duration": 11,
    "start_time": "2022-09-07T05:37:31.204Z"
   },
   {
    "duration": 23,
    "start_time": "2022-09-07T05:37:31.217Z"
   },
   {
    "duration": 21,
    "start_time": "2022-09-07T05:37:31.243Z"
   },
   {
    "duration": 16,
    "start_time": "2022-09-07T05:37:31.266Z"
   },
   {
    "duration": 26,
    "start_time": "2022-09-07T05:37:31.284Z"
   },
   {
    "duration": 21,
    "start_time": "2022-09-07T05:37:31.312Z"
   },
   {
    "duration": 6,
    "start_time": "2022-09-07T05:37:31.335Z"
   },
   {
    "duration": 42,
    "start_time": "2022-09-07T05:37:31.343Z"
   },
   {
    "duration": 10,
    "start_time": "2022-09-07T05:37:31.387Z"
   },
   {
    "duration": 6,
    "start_time": "2022-09-07T05:37:31.399Z"
   },
   {
    "duration": 6,
    "start_time": "2022-09-07T05:37:31.406Z"
   },
   {
    "duration": 2,
    "start_time": "2022-09-07T09:20:56.676Z"
   },
   {
    "duration": 6,
    "start_time": "2022-09-07T09:20:57.892Z"
   },
   {
    "duration": 67,
    "start_time": "2022-09-07T09:21:20.229Z"
   },
   {
    "duration": 8,
    "start_time": "2022-09-07T09:21:27.755Z"
   },
   {
    "duration": 2,
    "start_time": "2022-09-07T09:21:39.196Z"
   },
   {
    "duration": 6,
    "start_time": "2022-09-07T09:21:39.524Z"
   },
   {
    "duration": 7,
    "start_time": "2022-09-07T09:21:40.012Z"
   },
   {
    "duration": 4,
    "start_time": "2022-09-07T09:21:55.420Z"
   },
   {
    "duration": 10,
    "start_time": "2022-09-07T09:22:13.796Z"
   },
   {
    "duration": 4,
    "start_time": "2022-09-07T09:22:19.284Z"
   },
   {
    "duration": 3,
    "start_time": "2022-09-07T09:24:06.683Z"
   },
   {
    "duration": 248,
    "start_time": "2022-09-07T09:24:07.165Z"
   },
   {
    "duration": 4,
    "start_time": "2022-09-07T09:24:07.698Z"
   },
   {
    "duration": 2,
    "start_time": "2022-09-07T09:24:30.819Z"
   },
   {
    "duration": 249,
    "start_time": "2022-09-07T09:24:31.610Z"
   },
   {
    "duration": 2,
    "start_time": "2022-09-07T09:24:46.766Z"
   },
   {
    "duration": 378,
    "start_time": "2022-09-07T09:24:48.419Z"
   },
   {
    "duration": 5,
    "start_time": "2022-09-07T09:25:32.067Z"
   },
   {
    "duration": 10,
    "start_time": "2022-09-07T09:25:32.714Z"
   },
   {
    "duration": 4,
    "start_time": "2022-09-07T09:25:33.965Z"
   },
   {
    "duration": 4,
    "start_time": "2022-09-07T09:27:23.921Z"
   },
   {
    "duration": 494,
    "start_time": "2022-09-07T09:27:24.380Z"
   },
   {
    "duration": 6,
    "start_time": "2022-09-07T09:38:08.042Z"
   },
   {
    "duration": 7,
    "start_time": "2022-09-07T09:38:08.582Z"
   },
   {
    "duration": 5,
    "start_time": "2022-09-07T09:40:07.838Z"
   },
   {
    "duration": 8,
    "start_time": "2022-09-07T09:40:08.205Z"
   },
   {
    "duration": 4,
    "start_time": "2022-09-07T09:40:09.223Z"
   },
   {
    "duration": 43,
    "start_time": "2022-09-07T09:41:21.574Z"
   },
   {
    "duration": 418,
    "start_time": "2022-09-07T09:41:31.718Z"
   },
   {
    "duration": 388,
    "start_time": "2022-09-07T09:41:32.141Z"
   },
   {
    "duration": 20,
    "start_time": "2022-09-07T09:41:32.530Z"
   },
   {
    "duration": 30,
    "start_time": "2022-09-07T09:41:32.552Z"
   },
   {
    "duration": 22,
    "start_time": "2022-09-07T09:41:32.584Z"
   },
   {
    "duration": 12,
    "start_time": "2022-09-07T09:41:32.607Z"
   },
   {
    "duration": 3,
    "start_time": "2022-09-07T09:41:32.620Z"
   },
   {
    "duration": 9,
    "start_time": "2022-09-07T09:41:32.625Z"
   },
   {
    "duration": 39,
    "start_time": "2022-09-07T09:41:32.635Z"
   },
   {
    "duration": 11,
    "start_time": "2022-09-07T09:41:32.675Z"
   },
   {
    "duration": 4,
    "start_time": "2022-09-07T09:41:32.687Z"
   },
   {
    "duration": 7,
    "start_time": "2022-09-07T09:41:32.693Z"
   },
   {
    "duration": 9,
    "start_time": "2022-09-07T09:41:32.701Z"
   },
   {
    "duration": 4,
    "start_time": "2022-09-07T09:41:32.713Z"
   },
   {
    "duration": 17,
    "start_time": "2022-09-07T09:41:32.718Z"
   },
   {
    "duration": 43,
    "start_time": "2022-09-07T09:41:32.736Z"
   },
   {
    "duration": 19,
    "start_time": "2022-09-07T09:41:32.781Z"
   },
   {
    "duration": 3,
    "start_time": "2022-09-07T09:41:32.802Z"
   },
   {
    "duration": 18,
    "start_time": "2022-09-07T09:41:32.806Z"
   },
   {
    "duration": 4,
    "start_time": "2022-09-07T09:41:32.826Z"
   },
   {
    "duration": 6,
    "start_time": "2022-09-07T09:41:32.832Z"
   },
   {
    "duration": 45,
    "start_time": "2022-09-07T09:41:32.839Z"
   },
   {
    "duration": 81,
    "start_time": "2022-09-07T09:41:32.886Z"
   },
   {
    "duration": 11,
    "start_time": "2022-09-07T09:42:11.685Z"
   },
   {
    "duration": 5,
    "start_time": "2022-09-07T09:42:50.734Z"
   },
   {
    "duration": 3,
    "start_time": "2022-09-07T09:44:04.604Z"
   },
   {
    "duration": 13,
    "start_time": "2022-09-07T09:44:04.931Z"
   },
   {
    "duration": 13,
    "start_time": "2022-09-07T09:44:05.435Z"
   },
   {
    "duration": 4,
    "start_time": "2022-09-07T09:45:00.707Z"
   },
   {
    "duration": 11,
    "start_time": "2022-09-07T09:45:01.063Z"
   },
   {
    "duration": 5,
    "start_time": "2022-09-07T09:45:01.620Z"
   },
   {
    "duration": 3,
    "start_time": "2022-09-07T09:46:27.524Z"
   },
   {
    "duration": 3,
    "start_time": "2022-09-07T09:46:33.219Z"
   },
   {
    "duration": 17,
    "start_time": "2022-09-07T09:46:36.765Z"
   },
   {
    "duration": 7,
    "start_time": "2022-09-07T09:47:52.474Z"
   },
   {
    "duration": 11,
    "start_time": "2022-09-07T09:48:19.219Z"
   },
   {
    "duration": 14,
    "start_time": "2022-09-07T09:48:24.610Z"
   },
   {
    "duration": 17,
    "start_time": "2022-09-07T09:48:32.265Z"
   },
   {
    "duration": 18,
    "start_time": "2022-09-07T09:48:43.764Z"
   },
   {
    "duration": 18,
    "start_time": "2022-09-07T09:48:59.802Z"
   },
   {
    "duration": 29,
    "start_time": "2022-09-07T09:49:15.603Z"
   },
   {
    "duration": 376,
    "start_time": "2023-03-02T12:39:22.541Z"
   },
   {
    "duration": 287,
    "start_time": "2023-03-02T12:39:22.919Z"
   },
   {
    "duration": 10,
    "start_time": "2023-03-02T12:39:23.208Z"
   },
   {
    "duration": 27,
    "start_time": "2023-03-02T12:39:23.221Z"
   },
   {
    "duration": 10,
    "start_time": "2023-03-02T12:39:23.250Z"
   },
   {
    "duration": 9,
    "start_time": "2023-03-02T12:39:23.262Z"
   },
   {
    "duration": 4,
    "start_time": "2023-03-02T12:39:23.273Z"
   },
   {
    "duration": 18,
    "start_time": "2023-03-02T12:39:23.278Z"
   },
   {
    "duration": 4,
    "start_time": "2023-03-02T12:39:23.297Z"
   },
   {
    "duration": 7,
    "start_time": "2023-03-02T12:39:23.313Z"
   },
   {
    "duration": 8,
    "start_time": "2023-03-02T12:39:23.321Z"
   },
   {
    "duration": 10,
    "start_time": "2023-03-02T12:39:23.331Z"
   },
   {
    "duration": 12,
    "start_time": "2023-03-02T12:39:23.342Z"
   },
   {
    "duration": 5,
    "start_time": "2023-03-02T12:39:23.355Z"
   },
   {
    "duration": 14,
    "start_time": "2023-03-02T12:39:23.362Z"
   },
   {
    "duration": 20,
    "start_time": "2023-03-02T12:39:23.378Z"
   },
   {
    "duration": 16,
    "start_time": "2023-03-02T12:39:23.414Z"
   },
   {
    "duration": 3,
    "start_time": "2023-03-02T12:39:23.432Z"
   },
   {
    "duration": 11,
    "start_time": "2023-03-02T12:39:23.436Z"
   },
   {
    "duration": 4,
    "start_time": "2023-03-02T12:39:23.448Z"
   },
   {
    "duration": 8,
    "start_time": "2023-03-02T12:39:23.454Z"
   },
   {
    "duration": 18,
    "start_time": "2023-03-02T12:39:23.463Z"
   },
   {
    "duration": 36,
    "start_time": "2023-03-02T12:39:23.482Z"
   }
  ],
  "colab": {
   "name": "dpp_template_part1.ipynb",
   "provenance": []
  },
  "kernelspec": {
   "display_name": "Python 3 (ipykernel)",
   "language": "python",
   "name": "python3"
  },
  "language_info": {
   "codemirror_mode": {
    "name": "ipython",
    "version": 3
   },
   "file_extension": ".py",
   "mimetype": "text/x-python",
   "name": "python",
   "nbconvert_exporter": "python",
   "pygments_lexer": "ipython3",
   "version": "3.9.5"
  },
  "toc": {
   "base_numbering": 1,
   "nav_menu": {},
   "number_sections": true,
   "sideBar": true,
   "skip_h1_title": true,
   "title_cell": "Table of Contents",
   "title_sidebar": "Contents",
   "toc_cell": false,
   "toc_position": {},
   "toc_section_display": true,
   "toc_window_display": false
  }
 },
 "nbformat": 4,
 "nbformat_minor": 5
}
