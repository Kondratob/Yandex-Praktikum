{
 "cells": [
  {
   "cell_type": "markdown",
   "metadata": {},
   "source": [
    "## Откройте файл с данными и изучите общую информацию"
   ]
  },
  {
   "cell_type": "markdown",
   "metadata": {},
   "source": [
    "Необходимо проанализировать данные из открытых источников о продажах игр, оценках пользователей и экспертов, жанрах и платформах  и выявить закономерности, определяющие успешность компьютерной игры. Эти данные должны помочь проранжировать пользователей, для того чтобы предлагать им актуальный продукт"
   ]
  },
  {
   "cell_type": "code",
   "execution_count": 1,
   "metadata": {},
   "outputs": [],
   "source": [
    "import pandas as pd\n",
    "import numpy as np\n",
    "import matplotlib\n",
    "import matplotlib.pyplot as plt\n",
    "from scipy import stats as st\n",
    "import seaborn as sns"
   ]
  },
  {
   "cell_type": "code",
   "execution_count": 2,
   "metadata": {},
   "outputs": [],
   "source": [
    "df=pd.read_csv('games.csv')"
   ]
  },
  {
   "cell_type": "code",
   "execution_count": 3,
   "metadata": {},
   "outputs": [
    {
     "name": "stdout",
     "output_type": "stream",
     "text": [
      "<class 'pandas.core.frame.DataFrame'>\n",
      "RangeIndex: 16715 entries, 0 to 16714\n",
      "Data columns (total 11 columns):\n",
      " #   Column           Non-Null Count  Dtype  \n",
      "---  ------           --------------  -----  \n",
      " 0   Name             16713 non-null  object \n",
      " 1   Platform         16715 non-null  object \n",
      " 2   Year_of_Release  16446 non-null  float64\n",
      " 3   Genre            16713 non-null  object \n",
      " 4   NA_sales         16715 non-null  float64\n",
      " 5   EU_sales         16715 non-null  float64\n",
      " 6   JP_sales         16715 non-null  float64\n",
      " 7   Other_sales      16715 non-null  float64\n",
      " 8   Critic_Score     8137 non-null   float64\n",
      " 9   User_Score       10014 non-null  object \n",
      " 10  Rating           9949 non-null   object \n",
      "dtypes: float64(6), object(5)\n",
      "memory usage: 1.4+ MB\n",
      "None\n"
     ]
    }
   ],
   "source": [
    "print(df.info())"
   ]
  },
  {
   "cell_type": "code",
   "execution_count": 4,
   "metadata": {},
   "outputs": [
    {
     "data": {
      "text/html": [
       "<div>\n",
       "<style scoped>\n",
       "    .dataframe tbody tr th:only-of-type {\n",
       "        vertical-align: middle;\n",
       "    }\n",
       "\n",
       "    .dataframe tbody tr th {\n",
       "        vertical-align: top;\n",
       "    }\n",
       "\n",
       "    .dataframe thead th {\n",
       "        text-align: right;\n",
       "    }\n",
       "</style>\n",
       "<table border=\"1\" class=\"dataframe\">\n",
       "  <thead>\n",
       "    <tr style=\"text-align: right;\">\n",
       "      <th></th>\n",
       "      <th>Name</th>\n",
       "      <th>Platform</th>\n",
       "      <th>Year_of_Release</th>\n",
       "      <th>Genre</th>\n",
       "      <th>NA_sales</th>\n",
       "      <th>EU_sales</th>\n",
       "      <th>JP_sales</th>\n",
       "      <th>Other_sales</th>\n",
       "      <th>Critic_Score</th>\n",
       "      <th>User_Score</th>\n",
       "      <th>Rating</th>\n",
       "    </tr>\n",
       "  </thead>\n",
       "  <tbody>\n",
       "    <tr>\n",
       "      <th>0</th>\n",
       "      <td>Wii Sports</td>\n",
       "      <td>Wii</td>\n",
       "      <td>2006.0</td>\n",
       "      <td>Sports</td>\n",
       "      <td>41.36</td>\n",
       "      <td>28.96</td>\n",
       "      <td>3.77</td>\n",
       "      <td>8.45</td>\n",
       "      <td>76.0</td>\n",
       "      <td>8</td>\n",
       "      <td>E</td>\n",
       "    </tr>\n",
       "    <tr>\n",
       "      <th>1</th>\n",
       "      <td>Super Mario Bros.</td>\n",
       "      <td>NES</td>\n",
       "      <td>1985.0</td>\n",
       "      <td>Platform</td>\n",
       "      <td>29.08</td>\n",
       "      <td>3.58</td>\n",
       "      <td>6.81</td>\n",
       "      <td>0.77</td>\n",
       "      <td>NaN</td>\n",
       "      <td>NaN</td>\n",
       "      <td>NaN</td>\n",
       "    </tr>\n",
       "    <tr>\n",
       "      <th>2</th>\n",
       "      <td>Mario Kart Wii</td>\n",
       "      <td>Wii</td>\n",
       "      <td>2008.0</td>\n",
       "      <td>Racing</td>\n",
       "      <td>15.68</td>\n",
       "      <td>12.76</td>\n",
       "      <td>3.79</td>\n",
       "      <td>3.29</td>\n",
       "      <td>82.0</td>\n",
       "      <td>8.3</td>\n",
       "      <td>E</td>\n",
       "    </tr>\n",
       "    <tr>\n",
       "      <th>3</th>\n",
       "      <td>Wii Sports Resort</td>\n",
       "      <td>Wii</td>\n",
       "      <td>2009.0</td>\n",
       "      <td>Sports</td>\n",
       "      <td>15.61</td>\n",
       "      <td>10.93</td>\n",
       "      <td>3.28</td>\n",
       "      <td>2.95</td>\n",
       "      <td>80.0</td>\n",
       "      <td>8</td>\n",
       "      <td>E</td>\n",
       "    </tr>\n",
       "    <tr>\n",
       "      <th>4</th>\n",
       "      <td>Pokemon Red/Pokemon Blue</td>\n",
       "      <td>GB</td>\n",
       "      <td>1996.0</td>\n",
       "      <td>Role-Playing</td>\n",
       "      <td>11.27</td>\n",
       "      <td>8.89</td>\n",
       "      <td>10.22</td>\n",
       "      <td>1.00</td>\n",
       "      <td>NaN</td>\n",
       "      <td>NaN</td>\n",
       "      <td>NaN</td>\n",
       "    </tr>\n",
       "    <tr>\n",
       "      <th>...</th>\n",
       "      <td>...</td>\n",
       "      <td>...</td>\n",
       "      <td>...</td>\n",
       "      <td>...</td>\n",
       "      <td>...</td>\n",
       "      <td>...</td>\n",
       "      <td>...</td>\n",
       "      <td>...</td>\n",
       "      <td>...</td>\n",
       "      <td>...</td>\n",
       "      <td>...</td>\n",
       "    </tr>\n",
       "    <tr>\n",
       "      <th>16710</th>\n",
       "      <td>Samurai Warriors: Sanada Maru</td>\n",
       "      <td>PS3</td>\n",
       "      <td>2016.0</td>\n",
       "      <td>Action</td>\n",
       "      <td>0.00</td>\n",
       "      <td>0.00</td>\n",
       "      <td>0.01</td>\n",
       "      <td>0.00</td>\n",
       "      <td>NaN</td>\n",
       "      <td>NaN</td>\n",
       "      <td>NaN</td>\n",
       "    </tr>\n",
       "    <tr>\n",
       "      <th>16711</th>\n",
       "      <td>LMA Manager 2007</td>\n",
       "      <td>X360</td>\n",
       "      <td>2006.0</td>\n",
       "      <td>Sports</td>\n",
       "      <td>0.00</td>\n",
       "      <td>0.01</td>\n",
       "      <td>0.00</td>\n",
       "      <td>0.00</td>\n",
       "      <td>NaN</td>\n",
       "      <td>NaN</td>\n",
       "      <td>NaN</td>\n",
       "    </tr>\n",
       "    <tr>\n",
       "      <th>16712</th>\n",
       "      <td>Haitaka no Psychedelica</td>\n",
       "      <td>PSV</td>\n",
       "      <td>2016.0</td>\n",
       "      <td>Adventure</td>\n",
       "      <td>0.00</td>\n",
       "      <td>0.00</td>\n",
       "      <td>0.01</td>\n",
       "      <td>0.00</td>\n",
       "      <td>NaN</td>\n",
       "      <td>NaN</td>\n",
       "      <td>NaN</td>\n",
       "    </tr>\n",
       "    <tr>\n",
       "      <th>16713</th>\n",
       "      <td>Spirits &amp; Spells</td>\n",
       "      <td>GBA</td>\n",
       "      <td>2003.0</td>\n",
       "      <td>Platform</td>\n",
       "      <td>0.01</td>\n",
       "      <td>0.00</td>\n",
       "      <td>0.00</td>\n",
       "      <td>0.00</td>\n",
       "      <td>NaN</td>\n",
       "      <td>NaN</td>\n",
       "      <td>NaN</td>\n",
       "    </tr>\n",
       "    <tr>\n",
       "      <th>16714</th>\n",
       "      <td>Winning Post 8 2016</td>\n",
       "      <td>PSV</td>\n",
       "      <td>2016.0</td>\n",
       "      <td>Simulation</td>\n",
       "      <td>0.00</td>\n",
       "      <td>0.00</td>\n",
       "      <td>0.01</td>\n",
       "      <td>0.00</td>\n",
       "      <td>NaN</td>\n",
       "      <td>NaN</td>\n",
       "      <td>NaN</td>\n",
       "    </tr>\n",
       "  </tbody>\n",
       "</table>\n",
       "<p>16715 rows × 11 columns</p>\n",
       "</div>"
      ],
      "text/plain": [
       "                                Name Platform  Year_of_Release         Genre  \\\n",
       "0                         Wii Sports      Wii           2006.0        Sports   \n",
       "1                  Super Mario Bros.      NES           1985.0      Platform   \n",
       "2                     Mario Kart Wii      Wii           2008.0        Racing   \n",
       "3                  Wii Sports Resort      Wii           2009.0        Sports   \n",
       "4           Pokemon Red/Pokemon Blue       GB           1996.0  Role-Playing   \n",
       "...                              ...      ...              ...           ...   \n",
       "16710  Samurai Warriors: Sanada Maru      PS3           2016.0        Action   \n",
       "16711               LMA Manager 2007     X360           2006.0        Sports   \n",
       "16712        Haitaka no Psychedelica      PSV           2016.0     Adventure   \n",
       "16713               Spirits & Spells      GBA           2003.0      Platform   \n",
       "16714            Winning Post 8 2016      PSV           2016.0    Simulation   \n",
       "\n",
       "       NA_sales  EU_sales  JP_sales  Other_sales  Critic_Score User_Score  \\\n",
       "0         41.36     28.96      3.77         8.45          76.0          8   \n",
       "1         29.08      3.58      6.81         0.77           NaN        NaN   \n",
       "2         15.68     12.76      3.79         3.29          82.0        8.3   \n",
       "3         15.61     10.93      3.28         2.95          80.0          8   \n",
       "4         11.27      8.89     10.22         1.00           NaN        NaN   \n",
       "...         ...       ...       ...          ...           ...        ...   \n",
       "16710      0.00      0.00      0.01         0.00           NaN        NaN   \n",
       "16711      0.00      0.01      0.00         0.00           NaN        NaN   \n",
       "16712      0.00      0.00      0.01         0.00           NaN        NaN   \n",
       "16713      0.01      0.00      0.00         0.00           NaN        NaN   \n",
       "16714      0.00      0.00      0.01         0.00           NaN        NaN   \n",
       "\n",
       "      Rating  \n",
       "0          E  \n",
       "1        NaN  \n",
       "2          E  \n",
       "3          E  \n",
       "4        NaN  \n",
       "...      ...  \n",
       "16710    NaN  \n",
       "16711    NaN  \n",
       "16712    NaN  \n",
       "16713    NaN  \n",
       "16714    NaN  \n",
       "\n",
       "[16715 rows x 11 columns]"
      ]
     },
     "metadata": {},
     "output_type": "display_data"
    }
   ],
   "source": [
    "display(df)"
   ]
  },
  {
   "cell_type": "markdown",
   "metadata": {},
   "source": [
    "## Подготовьте данные"
   ]
  },
  {
   "cell_type": "markdown",
   "metadata": {},
   "source": [
    "### Замените названия столбцов (приведите к нижнему регистру)"
   ]
  },
  {
   "cell_type": "code",
   "execution_count": 5,
   "metadata": {},
   "outputs": [],
   "source": [
    "df.columns = df.columns.str.lower()"
   ]
  },
  {
   "cell_type": "markdown",
   "metadata": {},
   "source": [
    "### Обработайте пропуски"
   ]
  },
  {
   "cell_type": "code",
   "execution_count": 6,
   "metadata": {},
   "outputs": [
    {
     "data": {
      "text/plain": [
       "name                0.01\n",
       "platform            0.00\n",
       "year_of_release     1.61\n",
       "genre               0.01\n",
       "na_sales            0.00\n",
       "eu_sales            0.00\n",
       "jp_sales            0.00\n",
       "other_sales         0.00\n",
       "critic_score       51.32\n",
       "user_score         40.09\n",
       "rating             40.48\n",
       "dtype: float64"
      ]
     },
     "metadata": {},
     "output_type": "display_data"
    }
   ],
   "source": [
    "display((round((df.isnull().sum()/16715)*100,2)))"
   ]
  },
  {
   "cell_type": "code",
   "execution_count": 7,
   "metadata": {},
   "outputs": [],
   "source": [
    "df.dropna(subset = ['name', 'year_of_release', 'genre'], inplace = True,)\n",
    "df['rating'] = df['rating'].fillna('no rating')\n",
    "df['critic_score'] = df['critic_score'].fillna(-1)\n",
    "df['user_score'] = df['user_score'].fillna(-1)\n",
    "df = df.reset_index(drop=True)"
   ]
  },
  {
   "cell_type": "markdown",
   "metadata": {},
   "source": [
    "Доподлинно определить наименование, год релиза и жанр не представляется возможным"
   ]
  },
  {
   "cell_type": "markdown",
   "metadata": {},
   "source": [
    "### Преобразуйте данные в нужные типы"
   ]
  },
  {
   "cell_type": "code",
   "execution_count": 8,
   "metadata": {},
   "outputs": [],
   "source": [
    "df['year_of_release'] = df['year_of_release'].astype('int') # год релиза - целочисленное значение \n",
    "df['critic_score'] = df['critic_score'].astype('float') # оценка критиков - целочисленное значение"
   ]
  },
  {
   "cell_type": "markdown",
   "metadata": {},
   "source": [
    "Оценку пользователей со значением `tbd` согласно определению, из Википедии можно трактовать как - `To be announced` будет объявлено (TBA) или будет объявлено (TBD) – детали, возможно, были определены, но еще не готовы к объявлению, заменим неизвестным значением"
   ]
  },
  {
   "cell_type": "code",
   "execution_count": 9,
   "metadata": {},
   "outputs": [],
   "source": [
    "df['user_score'] = df['user_score'].replace('tbd', np.nan, regex=True)\n",
    "df['user_score'] = df['user_score'].astype('float') # оценка пользователей - значение с плавающей запятой "
   ]
  },
  {
   "cell_type": "markdown",
   "metadata": {},
   "source": [
    "### Посчитайте суммарные продажи во всех регионах и запишите их в отдельный столбец"
   ]
  },
  {
   "cell_type": "code",
   "execution_count": 10,
   "metadata": {},
   "outputs": [],
   "source": [
    "df['sum_sales_game'] = df[['na_sales','eu_sales','jp_sales','other_sales']].sum(axis = 1)"
   ]
  },
  {
   "cell_type": "markdown",
   "metadata": {},
   "source": [
    "## Исследовательский анализ данных"
   ]
  },
  {
   "cell_type": "markdown",
   "metadata": {},
   "source": [
    "### Cколько игр выпускалось в разные годы. Важны ли данные за все периоды"
   ]
  },
  {
   "cell_type": "code",
   "execution_count": 11,
   "metadata": {},
   "outputs": [],
   "source": [
    "count_games = df.groupby('year_of_release')['name'].agg({'count'})\n",
    "count_games['%'] = count_games['count']*100/count_games['count'].sum()"
   ]
  },
  {
   "cell_type": "code",
   "execution_count": 12,
   "metadata": {},
   "outputs": [
    {
     "name": "stdout",
     "output_type": "stream",
     "text": [
      "Больше всего игр вышло\n"
     ]
    },
    {
     "data": {
      "text/html": [
       "<div>\n",
       "<style scoped>\n",
       "    .dataframe tbody tr th:only-of-type {\n",
       "        vertical-align: middle;\n",
       "    }\n",
       "\n",
       "    .dataframe tbody tr th {\n",
       "        vertical-align: top;\n",
       "    }\n",
       "\n",
       "    .dataframe thead th {\n",
       "        text-align: right;\n",
       "    }\n",
       "</style>\n",
       "<table border=\"1\" class=\"dataframe\">\n",
       "  <thead>\n",
       "    <tr style=\"text-align: right;\">\n",
       "      <th></th>\n",
       "      <th>count</th>\n",
       "      <th>%</th>\n",
       "    </tr>\n",
       "    <tr>\n",
       "      <th>year_of_release</th>\n",
       "      <th></th>\n",
       "      <th></th>\n",
       "    </tr>\n",
       "  </thead>\n",
       "  <tbody>\n",
       "    <tr>\n",
       "      <th>2008</th>\n",
       "      <td>1427</td>\n",
       "      <td>8.68</td>\n",
       "    </tr>\n",
       "  </tbody>\n",
       "</table>\n",
       "</div>"
      ],
      "text/plain": [
       "                 count     %\n",
       "year_of_release             \n",
       "2008              1427  8.68"
      ]
     },
     "metadata": {},
     "output_type": "display_data"
    }
   ],
   "source": [
    "print('Больше всего игр вышло')\n",
    "display(count_games[count_games['count']==count_games['count'].max()].round(2))"
   ]
  },
  {
   "cell_type": "code",
   "execution_count": 13,
   "metadata": {},
   "outputs": [
    {
     "name": "stdout",
     "output_type": "stream",
     "text": [
      "% выхода игр по годам от общего количества выпущенных игр в период с 1980 по 2016 годы \n"
     ]
    },
    {
     "data": {
      "text/html": [
       "<div>\n",
       "<style scoped>\n",
       "    .dataframe tbody tr th:only-of-type {\n",
       "        vertical-align: middle;\n",
       "    }\n",
       "\n",
       "    .dataframe tbody tr th {\n",
       "        vertical-align: top;\n",
       "    }\n",
       "\n",
       "    .dataframe thead th {\n",
       "        text-align: right;\n",
       "    }\n",
       "</style>\n",
       "<table border=\"1\" class=\"dataframe\">\n",
       "  <thead>\n",
       "    <tr style=\"text-align: right;\">\n",
       "      <th></th>\n",
       "      <th>count</th>\n",
       "      <th>%</th>\n",
       "    </tr>\n",
       "    <tr>\n",
       "      <th>year_of_release</th>\n",
       "      <th></th>\n",
       "      <th></th>\n",
       "    </tr>\n",
       "  </thead>\n",
       "  <tbody>\n",
       "    <tr>\n",
       "      <th>1980</th>\n",
       "      <td>9</td>\n",
       "      <td>0.05</td>\n",
       "    </tr>\n",
       "    <tr>\n",
       "      <th>1981</th>\n",
       "      <td>46</td>\n",
       "      <td>0.28</td>\n",
       "    </tr>\n",
       "    <tr>\n",
       "      <th>1982</th>\n",
       "      <td>36</td>\n",
       "      <td>0.22</td>\n",
       "    </tr>\n",
       "    <tr>\n",
       "      <th>1983</th>\n",
       "      <td>17</td>\n",
       "      <td>0.10</td>\n",
       "    </tr>\n",
       "    <tr>\n",
       "      <th>1984</th>\n",
       "      <td>14</td>\n",
       "      <td>0.09</td>\n",
       "    </tr>\n",
       "    <tr>\n",
       "      <th>1985</th>\n",
       "      <td>14</td>\n",
       "      <td>0.09</td>\n",
       "    </tr>\n",
       "    <tr>\n",
       "      <th>1986</th>\n",
       "      <td>21</td>\n",
       "      <td>0.13</td>\n",
       "    </tr>\n",
       "    <tr>\n",
       "      <th>1987</th>\n",
       "      <td>16</td>\n",
       "      <td>0.10</td>\n",
       "    </tr>\n",
       "    <tr>\n",
       "      <th>1988</th>\n",
       "      <td>15</td>\n",
       "      <td>0.09</td>\n",
       "    </tr>\n",
       "    <tr>\n",
       "      <th>1989</th>\n",
       "      <td>17</td>\n",
       "      <td>0.10</td>\n",
       "    </tr>\n",
       "    <tr>\n",
       "      <th>1990</th>\n",
       "      <td>16</td>\n",
       "      <td>0.10</td>\n",
       "    </tr>\n",
       "    <tr>\n",
       "      <th>1991</th>\n",
       "      <td>41</td>\n",
       "      <td>0.25</td>\n",
       "    </tr>\n",
       "    <tr>\n",
       "      <th>1992</th>\n",
       "      <td>43</td>\n",
       "      <td>0.26</td>\n",
       "    </tr>\n",
       "    <tr>\n",
       "      <th>1993</th>\n",
       "      <td>60</td>\n",
       "      <td>0.36</td>\n",
       "    </tr>\n",
       "    <tr>\n",
       "      <th>1994</th>\n",
       "      <td>121</td>\n",
       "      <td>0.74</td>\n",
       "    </tr>\n",
       "    <tr>\n",
       "      <th>1995</th>\n",
       "      <td>219</td>\n",
       "      <td>1.33</td>\n",
       "    </tr>\n",
       "    <tr>\n",
       "      <th>1996</th>\n",
       "      <td>263</td>\n",
       "      <td>1.60</td>\n",
       "    </tr>\n",
       "    <tr>\n",
       "      <th>1997</th>\n",
       "      <td>289</td>\n",
       "      <td>1.76</td>\n",
       "    </tr>\n",
       "    <tr>\n",
       "      <th>1998</th>\n",
       "      <td>379</td>\n",
       "      <td>2.30</td>\n",
       "    </tr>\n",
       "    <tr>\n",
       "      <th>1999</th>\n",
       "      <td>338</td>\n",
       "      <td>2.06</td>\n",
       "    </tr>\n",
       "    <tr>\n",
       "      <th>2000</th>\n",
       "      <td>350</td>\n",
       "      <td>2.13</td>\n",
       "    </tr>\n",
       "    <tr>\n",
       "      <th>2001</th>\n",
       "      <td>482</td>\n",
       "      <td>2.93</td>\n",
       "    </tr>\n",
       "    <tr>\n",
       "      <th>2002</th>\n",
       "      <td>829</td>\n",
       "      <td>5.04</td>\n",
       "    </tr>\n",
       "    <tr>\n",
       "      <th>2003</th>\n",
       "      <td>775</td>\n",
       "      <td>4.71</td>\n",
       "    </tr>\n",
       "    <tr>\n",
       "      <th>2004</th>\n",
       "      <td>762</td>\n",
       "      <td>4.63</td>\n",
       "    </tr>\n",
       "    <tr>\n",
       "      <th>2005</th>\n",
       "      <td>939</td>\n",
       "      <td>5.71</td>\n",
       "    </tr>\n",
       "    <tr>\n",
       "      <th>2006</th>\n",
       "      <td>1006</td>\n",
       "      <td>6.12</td>\n",
       "    </tr>\n",
       "    <tr>\n",
       "      <th>2007</th>\n",
       "      <td>1197</td>\n",
       "      <td>7.28</td>\n",
       "    </tr>\n",
       "    <tr>\n",
       "      <th>2008</th>\n",
       "      <td>1427</td>\n",
       "      <td>8.68</td>\n",
       "    </tr>\n",
       "    <tr>\n",
       "      <th>2009</th>\n",
       "      <td>1426</td>\n",
       "      <td>8.67</td>\n",
       "    </tr>\n",
       "    <tr>\n",
       "      <th>2010</th>\n",
       "      <td>1255</td>\n",
       "      <td>7.63</td>\n",
       "    </tr>\n",
       "    <tr>\n",
       "      <th>2011</th>\n",
       "      <td>1136</td>\n",
       "      <td>6.91</td>\n",
       "    </tr>\n",
       "    <tr>\n",
       "      <th>2012</th>\n",
       "      <td>653</td>\n",
       "      <td>3.97</td>\n",
       "    </tr>\n",
       "    <tr>\n",
       "      <th>2013</th>\n",
       "      <td>544</td>\n",
       "      <td>3.31</td>\n",
       "    </tr>\n",
       "    <tr>\n",
       "      <th>2014</th>\n",
       "      <td>581</td>\n",
       "      <td>3.53</td>\n",
       "    </tr>\n",
       "    <tr>\n",
       "      <th>2015</th>\n",
       "      <td>606</td>\n",
       "      <td>3.69</td>\n",
       "    </tr>\n",
       "    <tr>\n",
       "      <th>2016</th>\n",
       "      <td>502</td>\n",
       "      <td>3.05</td>\n",
       "    </tr>\n",
       "  </tbody>\n",
       "</table>\n",
       "</div>"
      ],
      "text/plain": [
       "                 count     %\n",
       "year_of_release             \n",
       "1980                 9  0.05\n",
       "1981                46  0.28\n",
       "1982                36  0.22\n",
       "1983                17  0.10\n",
       "1984                14  0.09\n",
       "1985                14  0.09\n",
       "1986                21  0.13\n",
       "1987                16  0.10\n",
       "1988                15  0.09\n",
       "1989                17  0.10\n",
       "1990                16  0.10\n",
       "1991                41  0.25\n",
       "1992                43  0.26\n",
       "1993                60  0.36\n",
       "1994               121  0.74\n",
       "1995               219  1.33\n",
       "1996               263  1.60\n",
       "1997               289  1.76\n",
       "1998               379  2.30\n",
       "1999               338  2.06\n",
       "2000               350  2.13\n",
       "2001               482  2.93\n",
       "2002               829  5.04\n",
       "2003               775  4.71\n",
       "2004               762  4.63\n",
       "2005               939  5.71\n",
       "2006              1006  6.12\n",
       "2007              1197  7.28\n",
       "2008              1427  8.68\n",
       "2009              1426  8.67\n",
       "2010              1255  7.63\n",
       "2011              1136  6.91\n",
       "2012               653  3.97\n",
       "2013               544  3.31\n",
       "2014               581  3.53\n",
       "2015               606  3.69\n",
       "2016               502  3.05"
      ]
     },
     "metadata": {},
     "output_type": "display_data"
    }
   ],
   "source": [
    "print('% выхода игр по годам от общего количества выпущенных игр в период с 1980 по 2016 годы ')\n",
    "display(count_games.round(2))"
   ]
  },
  {
   "cell_type": "code",
   "execution_count": 14,
   "metadata": {
    "scrolled": true
   },
   "outputs": [
    {
     "data": {
      "image/png": "[encoded data removed]",
      "text/plain": [
       "<Figure size 1080x360 with 1 Axes>"
      ]
     },
     "metadata": {
      "needs_background": "light"
     },
     "output_type": "display_data"
    }
   ],
   "source": [
    "(\n",
    "df.pivot_table(index='year_of_release', values='name', aggfunc='count')\n",
    ".plot(grid=True, figsize=(15, 5),title='Выпуск игр по годам')\n",
    ");"
   ]
  },
  {
   "cell_type": "markdown",
   "metadata": {},
   "source": [
    "Больше всего игр было выпущено в 2008 году, в период с 1980 по 1999 наблюдался плавный рост выпускаемых игр, после 2000 и по 2008 включительно, резко возросло количество выпускаемых игр, после чего наблюдалось снижения количества выпускаемых игр до уровня 2000-2001 годов"
   ]
  },
  {
   "cell_type": "markdown",
   "metadata": {},
   "source": [
    "### Как менялись продажи по платформам"
   ]
  },
  {
   "cell_type": "code",
   "execution_count": 15,
   "metadata": {
    "scrolled": true
   },
   "outputs": [
    {
     "data": {
      "image/png": "[encoded data removed]",
      "text/plain": [
       "<Figure size 1080x936 with 1 Axes>"
      ]
     },
     "metadata": {
      "needs_background": "light"
     },
     "output_type": "display_data"
    }
   ],
   "source": [
    "(df.pivot_table(index='year_of_release',columns = 'platform', values='sum_sales_game', aggfunc='sum')\n",
    ".plot(grid=True,alpha = 0.65, figsize=(15, 13),title='График продаж по годам',xlim=[1993,2017]));"
   ]
  },
  {
   "cell_type": "markdown",
   "metadata": {},
   "source": [
    "Стабильно в течении всего периода не прекращались продажи на платформе `PC`, на втором месте расположилась `PS2` и `PS3` продажи охватывают период в 10 лет, в среднем появление новой модели происходит раз в 5 лет, при этом актуальность предшествующей модели сохраняется еще пару лет"
   ]
  },
  {
   "cell_type": "markdown",
   "metadata": {},
   "source": [
    "###  Актуальный период"
   ]
  },
  {
   "cell_type": "markdown",
   "metadata": {},
   "source": [
    "Период 2015-2016 лет будет актуален для прогноза на 2017 год"
   ]
  },
  {
   "cell_type": "code",
   "execution_count": 16,
   "metadata": {},
   "outputs": [],
   "source": [
    "df_15_16 = df.query(\"platform == ['3DS','PC','PS3','PS4','PSV','WiiU','XOne'] and 2015 <= year_of_release <=2016\")\n",
    "df_15_16_sum = df_15_16.pivot_table(index='year_of_release', columns = 'platform', values='sum_sales_game', aggfunc='sum')"
   ]
  },
  {
   "cell_type": "code",
   "execution_count": 17,
   "metadata": {},
   "outputs": [
    {
     "data": {
      "text/html": [
       "<div>\n",
       "<style scoped>\n",
       "    .dataframe tbody tr th:only-of-type {\n",
       "        vertical-align: middle;\n",
       "    }\n",
       "\n",
       "    .dataframe tbody tr th {\n",
       "        vertical-align: top;\n",
       "    }\n",
       "\n",
       "    .dataframe thead th {\n",
       "        text-align: right;\n",
       "    }\n",
       "</style>\n",
       "<table border=\"1\" class=\"dataframe\">\n",
       "  <thead>\n",
       "    <tr style=\"text-align: right;\">\n",
       "      <th>platform</th>\n",
       "      <th>3DS</th>\n",
       "      <th>PC</th>\n",
       "      <th>PS3</th>\n",
       "      <th>PS4</th>\n",
       "      <th>PSV</th>\n",
       "      <th>WiiU</th>\n",
       "      <th>XOne</th>\n",
       "    </tr>\n",
       "    <tr>\n",
       "      <th>year_of_release</th>\n",
       "      <th></th>\n",
       "      <th></th>\n",
       "      <th></th>\n",
       "      <th></th>\n",
       "      <th></th>\n",
       "      <th></th>\n",
       "      <th></th>\n",
       "    </tr>\n",
       "  </thead>\n",
       "  <tbody>\n",
       "    <tr>\n",
       "      <th>2015</th>\n",
       "      <td>27.78</td>\n",
       "      <td>8.52</td>\n",
       "      <td>16.82</td>\n",
       "      <td>118.90</td>\n",
       "      <td>6.25</td>\n",
       "      <td>16.35</td>\n",
       "      <td>60.14</td>\n",
       "    </tr>\n",
       "    <tr>\n",
       "      <th>2016</th>\n",
       "      <td>15.14</td>\n",
       "      <td>5.25</td>\n",
       "      <td>3.60</td>\n",
       "      <td>69.25</td>\n",
       "      <td>4.25</td>\n",
       "      <td>4.60</td>\n",
       "      <td>26.15</td>\n",
       "    </tr>\n",
       "  </tbody>\n",
       "</table>\n",
       "</div>"
      ],
      "text/plain": [
       "platform           3DS    PC    PS3     PS4   PSV   WiiU   XOne\n",
       "year_of_release                                                \n",
       "2015             27.78  8.52  16.82  118.90  6.25  16.35  60.14\n",
       "2016             15.14  5.25   3.60   69.25  4.25   4.60  26.15"
      ]
     },
     "metadata": {},
     "output_type": "display_data"
    }
   ],
   "source": [
    "display(df_15_16_sum)"
   ]
  },
  {
   "cell_type": "code",
   "execution_count": 18,
   "metadata": {},
   "outputs": [
    {
     "data": {
      "image/png": "[encoded data removed]",
      "text/plain": [
       "<Figure size 1080x504 with 1 Axes>"
      ]
     },
     "metadata": {
      "needs_background": "light"
     },
     "output_type": "display_data"
    }
   ],
   "source": [
    "df_15_16_sum.plot(grid=True, alpha = 0.65, figsize=(15, 7), title='График продаж на платформах ');"
   ]
  },
  {
   "cell_type": "markdown",
   "metadata": {},
   "source": [
    "Самая прибыльная платформа `PS4`, в два раза менее прибыльная `XOne`, возможно это обусловлено относительной новизной платформы, ее релиз пришелся на 2013. За период 2015-2016 годов, продажи лидирующих платформ уменьшились в среднем на 47 %"
   ]
  },
  {
   "cell_type": "markdown",
   "metadata": {},
   "source": [
    "### График «ящик с усами»"
   ]
  },
  {
   "cell_type": "code",
   "execution_count": 19,
   "metadata": {},
   "outputs": [
    {
     "data": {
      "text/html": [
       "<div>\n",
       "<style scoped>\n",
       "    .dataframe tbody tr th:only-of-type {\n",
       "        vertical-align: middle;\n",
       "    }\n",
       "\n",
       "    .dataframe tbody tr th {\n",
       "        vertical-align: top;\n",
       "    }\n",
       "\n",
       "    .dataframe thead th {\n",
       "        text-align: right;\n",
       "    }\n",
       "</style>\n",
       "<table border=\"1\" class=\"dataframe\">\n",
       "  <thead>\n",
       "    <tr style=\"text-align: right;\">\n",
       "      <th></th>\n",
       "      <th>count</th>\n",
       "      <th>mean</th>\n",
       "      <th>std</th>\n",
       "      <th>min</th>\n",
       "      <th>25%</th>\n",
       "      <th>50%</th>\n",
       "      <th>75%</th>\n",
       "      <th>max</th>\n",
       "    </tr>\n",
       "    <tr>\n",
       "      <th>platform</th>\n",
       "      <th></th>\n",
       "      <th></th>\n",
       "      <th></th>\n",
       "      <th></th>\n",
       "      <th></th>\n",
       "      <th></th>\n",
       "      <th></th>\n",
       "      <th></th>\n",
       "    </tr>\n",
       "  </thead>\n",
       "  <tbody>\n",
       "    <tr>\n",
       "      <th>PS4</th>\n",
       "      <td>301.0</td>\n",
       "      <td>0.625083</td>\n",
       "      <td>1.457063</td>\n",
       "      <td>0.01</td>\n",
       "      <td>0.050</td>\n",
       "      <td>0.12</td>\n",
       "      <td>0.420</td>\n",
       "      <td>14.63</td>\n",
       "    </tr>\n",
       "    <tr>\n",
       "      <th>XOne</th>\n",
       "      <td>167.0</td>\n",
       "      <td>0.516707</td>\n",
       "      <td>0.965940</td>\n",
       "      <td>0.01</td>\n",
       "      <td>0.035</td>\n",
       "      <td>0.13</td>\n",
       "      <td>0.555</td>\n",
       "      <td>7.39</td>\n",
       "    </tr>\n",
       "  </tbody>\n",
       "</table>\n",
       "</div>"
      ],
      "text/plain": [
       "          count      mean       std   min    25%   50%    75%    max\n",
       "platform                                                            \n",
       "PS4       301.0  0.625083  1.457063  0.01  0.050  0.12  0.420  14.63\n",
       "XOne      167.0  0.516707  0.965940  0.01  0.035  0.13  0.555   7.39"
      ]
     },
     "metadata": {},
     "output_type": "display_data"
    }
   ],
   "source": [
    "df_15_16_top = df.query(\"platform == ['PS4','XOne'] and 2015 <= year_of_release <=2016\")\n",
    "display(df_15_16_top.groupby('platform')['sum_sales_game'].describe())"
   ]
  },
  {
   "cell_type": "code",
   "execution_count": 20,
   "metadata": {},
   "outputs": [
    {
     "data": {
      "text/plain": [
       "(0.0, 3.0)"
      ]
     },
     "execution_count": 20,
     "metadata": {},
     "output_type": "execute_result"
    },
    {
     "data": {
      "image/png": "[encoded data removed]",
      "text/plain": [
       "<Figure size 1080x504 with 1 Axes>"
      ]
     },
     "metadata": {
      "needs_background": "light"
     },
     "output_type": "display_data"
    }
   ],
   "source": [
    "df_15_16_top.boxplot(column='sum_sales_game', by='platform',figsize=(15, 7))\n",
    "plt.ylim([0, 3])"
   ]
  },
  {
   "cell_type": "markdown",
   "metadata": {},
   "source": [
    "Среднее значение проданных копий у самых популярных платформ колеблется в промежутке от 1,2 млн. до 1,3 млн"
   ]
  },
  {
   "cell_type": "markdown",
   "metadata": {},
   "source": [
    "### Как влияют на продажи внутри одной популярной платформы отзывы пользователей и критиков"
   ]
  },
  {
   "cell_type": "code",
   "execution_count": 21,
   "metadata": {},
   "outputs": [
    {
     "name": "stdout",
     "output_type": "stream",
     "text": [
      "Зависимость между продажами и отзывами критиков 0.227\n"
     ]
    }
   ],
   "source": [
    "df_ps4 = df[df['platform']=='PS4']\n",
    "print(f'Зависимость между продажами и отзывами критиков', df_ps4['critic_score'].corr(df_ps4['sum_sales_game']).round(3))"
   ]
  },
  {
   "cell_type": "code",
   "execution_count": 22,
   "metadata": {},
   "outputs": [
    {
     "data": {
      "image/png": "[encoded data removed]",
      "text/plain": [
       "<Figure size 1080x720 with 1 Axes>"
      ]
     },
     "metadata": {
      "needs_background": "light"
     },
     "output_type": "display_data"
    }
   ],
   "source": [
    "df_ps4.plot(x='critic_score', y='sum_sales_game', grid=True, kind='scatter', alpha=0.65, figsize=(15,10));"
   ]
  },
  {
   "cell_type": "markdown",
   "metadata": {},
   "source": [
    "Зависимость между отзывами критиков и общими продажами слабая 0,22"
   ]
  },
  {
   "cell_type": "code",
   "execution_count": 23,
   "metadata": {},
   "outputs": [
    {
     "name": "stdout",
     "output_type": "stream",
     "text": [
      "Зависимость между отзывами пользователей и общими продажами 0.108\n"
     ]
    }
   ],
   "source": [
    "print('Зависимость между отзывами пользователей и общими продажами',df_ps4['user_score'].corr(df_ps4['sum_sales_game']).round(3))"
   ]
  },
  {
   "cell_type": "code",
   "execution_count": 24,
   "metadata": {},
   "outputs": [
    {
     "data": {
      "image/png": "[encoded data removed]",
      "text/plain": [
       "<Figure size 1080x720 with 1 Axes>"
      ]
     },
     "metadata": {
      "needs_background": "light"
     },
     "output_type": "display_data"
    }
   ],
   "source": [
    "df_ps4.plot(x='user_score', y='sum_sales_game', grid=True, kind='scatter', alpha=0.65, figsize=(15,10));"
   ]
  },
  {
   "cell_type": "markdown",
   "metadata": {},
   "source": [
    "Зависимость между отзывами пользователей и общими продажами крайне слабая 0,11"
   ]
  },
  {
   "cell_type": "markdown",
   "metadata": {},
   "source": [
    "### Соотнесите выводы с продажами игр на других платформах."
   ]
  },
  {
   "cell_type": "markdown",
   "metadata": {},
   "source": [
    "####  Как влияют на продажи платформы `XOne` отзывы пользователей и критиков"
   ]
  },
  {
   "cell_type": "code",
   "execution_count": 25,
   "metadata": {
    "scrolled": true
   },
   "outputs": [
    {
     "name": "stdout",
     "output_type": "stream",
     "text": [
      "Зависимость между отзывами критиков и продажами XOne 0.274\n"
     ]
    }
   ],
   "source": [
    "df_xone = df[df['platform']=='XOne']\n",
    "print('Зависимость между отзывами критиков и продажами XOne',df_xone['critic_score'].corr(df_xone['sum_sales_game']).round(3))"
   ]
  },
  {
   "cell_type": "code",
   "execution_count": 26,
   "metadata": {},
   "outputs": [
    {
     "data": {
      "image/png": "[encoded data removed]",
      "text/plain": [
       "<Figure size 1080x720 with 1 Axes>"
      ]
     },
     "metadata": {
      "needs_background": "light"
     },
     "output_type": "display_data"
    }
   ],
   "source": [
    "df_xone.plot(x='critic_score', y='sum_sales_game', grid=True, kind='scatter', alpha=0.65, figsize=(15,10));"
   ]
  },
  {
   "cell_type": "markdown",
   "metadata": {},
   "source": [
    "Зависимость между отзывами критиков и общими продажами слабая 0,27"
   ]
  },
  {
   "cell_type": "code",
   "execution_count": 27,
   "metadata": {},
   "outputs": [
    {
     "name": "stdout",
     "output_type": "stream",
     "text": [
      "Зависимость между отзывами пользователей и продажами XOne 0.085\n"
     ]
    }
   ],
   "source": [
    "print('Зависимость между отзывами пользователей и продажами XOne',df_xone['user_score'].corr(df_xone['sum_sales_game']).round(3))"
   ]
  },
  {
   "cell_type": "code",
   "execution_count": 28,
   "metadata": {},
   "outputs": [
    {
     "data": {
      "image/png": "[encoded data removed]",
      "text/plain": [
       "<Figure size 1080x720 with 1 Axes>"
      ]
     },
     "metadata": {
      "needs_background": "light"
     },
     "output_type": "display_data"
    }
   ],
   "source": [
    "df_xone.plot(x='user_score', y='sum_sales_game', grid=True, kind='scatter', alpha=0.65, figsize=(15,10));"
   ]
  },
  {
   "cell_type": "markdown",
   "metadata": {},
   "source": [
    "Зависимость между отзывами пользователей и общими продажами отсутсвует"
   ]
  },
  {
   "cell_type": "markdown",
   "metadata": {},
   "source": [
    "#### Как влияют на продажи платформы `WiiU` отзывы пользователей и критиков"
   ]
  },
  {
   "cell_type": "code",
   "execution_count": 29,
   "metadata": {
    "scrolled": true
   },
   "outputs": [
    {
     "name": "stdout",
     "output_type": "stream",
     "text": [
      "Зависимость между отзывами критиков и продажами WiiU 0.297\n"
     ]
    }
   ],
   "source": [
    "df_wiiu = df[df['platform']=='WiiU']\n",
    "print('Зависимость между отзывами критиков и продажами WiiU',df_wiiu['critic_score'].corr(df_wiiu['sum_sales_game']).round(3))"
   ]
  },
  {
   "cell_type": "code",
   "execution_count": 30,
   "metadata": {},
   "outputs": [
    {
     "data": {
      "image/png": "[encoded data removed]",
      "text/plain": [
       "<Figure size 1080x720 with 1 Axes>"
      ]
     },
     "metadata": {
      "needs_background": "light"
     },
     "output_type": "display_data"
    }
   ],
   "source": [
    "df_wiiu.plot(x='critic_score', y='sum_sales_game', grid=True, kind='scatter', alpha=0.65, figsize=(15,10));"
   ]
  },
  {
   "cell_type": "markdown",
   "metadata": {},
   "source": [
    "Зависимость между отзывами критиков и общими продажами слабая 0,30"
   ]
  },
  {
   "cell_type": "code",
   "execution_count": 31,
   "metadata": {},
   "outputs": [
    {
     "name": "stdout",
     "output_type": "stream",
     "text": [
      "Зависимость между отзывами пользователей и продажами WiiU 0.246\n"
     ]
    }
   ],
   "source": [
    "print('Зависимость между отзывами пользователей и продажами WiiU',df_wiiu['user_score'].corr(df_wiiu['sum_sales_game']).round(3))"
   ]
  },
  {
   "cell_type": "code",
   "execution_count": 32,
   "metadata": {},
   "outputs": [
    {
     "data": {
      "image/png": "[encoded data removed]",
      "text/plain": [
       "<Figure size 1080x720 with 1 Axes>"
      ]
     },
     "metadata": {
      "needs_background": "light"
     },
     "output_type": "display_data"
    }
   ],
   "source": [
    "df_wiiu.plot(x='user_score', y='sum_sales_game', grid=True, kind='scatter', alpha=0.65, figsize=(15,10));"
   ]
  },
  {
   "cell_type": "markdown",
   "metadata": {},
   "source": [
    "Зависимость между отзывами пользователей и общими продажами слабая 0,25"
   ]
  },
  {
   "cell_type": "markdown",
   "metadata": {},
   "source": [
    "#### Как влияют на продажи платформы `3DS` отзывы пользователей и критиков"
   ]
  },
  {
   "cell_type": "code",
   "execution_count": 33,
   "metadata": {},
   "outputs": [
    {
     "name": "stdout",
     "output_type": "stream",
     "text": [
      "Зависимость между отзывами критиков и продажами 3DS 0.166\n"
     ]
    }
   ],
   "source": [
    "df_3ds = df[df['platform']=='3DS']\n",
    "print('Зависимость между отзывами критиков и продажами 3DS', df_3ds['critic_score'].corr(df_3ds['sum_sales_game']).round(3))"
   ]
  },
  {
   "cell_type": "code",
   "execution_count": 34,
   "metadata": {},
   "outputs": [
    {
     "data": {
      "image/png": "[encoded data removed]",
      "text/plain": [
       "<Figure size 1080x720 with 1 Axes>"
      ]
     },
     "metadata": {
      "needs_background": "light"
     },
     "output_type": "display_data"
    }
   ],
   "source": [
    "df_3ds.plot(x='critic_score', y='sum_sales_game', grid=True, kind='scatter', alpha=0.65, figsize=(15,10));"
   ]
  },
  {
   "cell_type": "markdown",
   "metadata": {},
   "source": [
    "Зависимость между отзывами критиков и общими продажами крайне слабая 0,17"
   ]
  },
  {
   "cell_type": "code",
   "execution_count": 35,
   "metadata": {},
   "outputs": [
    {
     "name": "stdout",
     "output_type": "stream",
     "text": [
      "Зависимость между отзывами пользователей и продажами 3DS 0.127\n"
     ]
    }
   ],
   "source": [
    "print('Зависимость между отзывами пользователей и продажами 3DS',df_3ds['user_score'].corr(df_3ds['sum_sales_game']).round(3))"
   ]
  },
  {
   "cell_type": "code",
   "execution_count": 36,
   "metadata": {},
   "outputs": [
    {
     "data": {
      "image/png": "[encoded data removed]",
      "text/plain": [
       "<Figure size 1080x720 with 1 Axes>"
      ]
     },
     "metadata": {
      "needs_background": "light"
     },
     "output_type": "display_data"
    }
   ],
   "source": [
    "df_3ds.plot(x='user_score', y='sum_sales_game', grid=True, kind='scatter', alpha=0.65, figsize=(15,10));"
   ]
  },
  {
   "cell_type": "markdown",
   "metadata": {},
   "source": [
    "Зависимость между отзывами пользователей и общими продажами крайне слабая 0,13"
   ]
  },
  {
   "cell_type": "markdown",
   "metadata": {},
   "source": [
    "#### Как влияют на продажи платформы `PC` отзывы пользователей и критиков"
   ]
  },
  {
   "cell_type": "code",
   "execution_count": 37,
   "metadata": {},
   "outputs": [
    {
     "name": "stdout",
     "output_type": "stream",
     "text": [
      "Зависимость между отзывами критиков и продажами PC: 0.079\n"
     ]
    }
   ],
   "source": [
    "df_pc = df[df['platform']=='PC']\n",
    "print('Зависимость между отзывами критиков и продажами PC:',df_pc['critic_score'].corr(df_pc['sum_sales_game']).round(3))"
   ]
  },
  {
   "cell_type": "code",
   "execution_count": 38,
   "metadata": {
    "scrolled": false
   },
   "outputs": [
    {
     "data": {
      "image/png": "[encoded data removed]",
      "text/plain": [
       "<Figure size 1080x720 with 1 Axes>"
      ]
     },
     "metadata": {
      "needs_background": "light"
     },
     "output_type": "display_data"
    }
   ],
   "source": [
    "df_pc.plot(x='critic_score', y='sum_sales_game', grid=True, kind='scatter', alpha=0.65, figsize=(15,10));"
   ]
  },
  {
   "cell_type": "markdown",
   "metadata": {},
   "source": [
    "Зависимость между отзывами критиков и общими продажами отсутсвует"
   ]
  },
  {
   "cell_type": "code",
   "execution_count": 39,
   "metadata": {},
   "outputs": [
    {
     "name": "stdout",
     "output_type": "stream",
     "text": [
      "Зависимость между отзывами пользователей и продажами PC: -0.022\n"
     ]
    }
   ],
   "source": [
    "print('Зависимость между отзывами пользователей и продажами PC:', df_pc['user_score'].corr(df_pc['sum_sales_game']).round(3))"
   ]
  },
  {
   "cell_type": "code",
   "execution_count": 40,
   "metadata": {},
   "outputs": [
    {
     "data": {
      "image/png": "[encoded data removed]",
      "text/plain": [
       "<Figure size 1080x720 with 1 Axes>"
      ]
     },
     "metadata": {
      "needs_background": "light"
     },
     "output_type": "display_data"
    }
   ],
   "source": [
    "df_pc.plot(x='user_score', y='sum_sales_game', grid=True, kind='scatter', alpha=0.65, figsize=(15,10));"
   ]
  },
  {
   "cell_type": "markdown",
   "metadata": {},
   "source": [
    "Зависимость между отзывами пользователей и общими продажами отсутствует"
   ]
  },
  {
   "cell_type": "markdown",
   "metadata": {},
   "source": [
    "#### Как влияют на продажи платформы `PSV` отзывы пользователей и критиков"
   ]
  },
  {
   "cell_type": "code",
   "execution_count": 41,
   "metadata": {},
   "outputs": [
    {
     "name": "stdout",
     "output_type": "stream",
     "text": [
      "Зависимость между отзывами критиков и продажами PSV 0.403\n"
     ]
    }
   ],
   "source": [
    "df_psv = df[df['platform']=='PSV']\n",
    "print('Зависимость между отзывами критиков и продажами PSV',df_psv['critic_score'].corr(df_psv['sum_sales_game']).round(3))"
   ]
  },
  {
   "cell_type": "code",
   "execution_count": 42,
   "metadata": {},
   "outputs": [
    {
     "data": {
      "image/png": "[encoded data removed]",
      "text/plain": [
       "<Figure size 1080x720 with 1 Axes>"
      ]
     },
     "metadata": {
      "needs_background": "light"
     },
     "output_type": "display_data"
    }
   ],
   "source": [
    "df_psv.plot(x='critic_score', y='sum_sales_game', grid=True, kind='scatter', alpha=0.65, figsize=(15,10));"
   ]
  },
  {
   "cell_type": "markdown",
   "metadata": {},
   "source": [
    "Зависимость между отзывами критиков и общими продажами слабая 0,4"
   ]
  },
  {
   "cell_type": "code",
   "execution_count": 43,
   "metadata": {},
   "outputs": [
    {
     "name": "stdout",
     "output_type": "stream",
     "text": [
      "Зависимость между отзывами пользователей и продажами PSV 0.376\n"
     ]
    }
   ],
   "source": [
    "print('Зависимость между отзывами пользователей и продажами PSV',df_psv['user_score'].corr(df_psv['sum_sales_game']).round(3))"
   ]
  },
  {
   "cell_type": "code",
   "execution_count": 44,
   "metadata": {},
   "outputs": [
    {
     "data": {
      "image/png": "[encoded data removed]",
      "text/plain": [
       "<Figure size 1080x720 with 1 Axes>"
      ]
     },
     "metadata": {
      "needs_background": "light"
     },
     "output_type": "display_data"
    }
   ],
   "source": [
    "df_psv.plot(x='user_score', y='sum_sales_game', grid=True, kind='scatter', alpha=0.65, figsize=(15,10));"
   ]
  },
  {
   "cell_type": "markdown",
   "metadata": {},
   "source": [
    "Зависимость между отзывами пользователей и общими продажами слабая 0,38"
   ]
  },
  {
   "cell_type": "markdown",
   "metadata": {},
   "source": [
    "#### Как влияют на продажи платформы `PS3` отзывы пользователей и критиков"
   ]
  },
  {
   "cell_type": "code",
   "execution_count": 45,
   "metadata": {},
   "outputs": [
    {
     "name": "stdout",
     "output_type": "stream",
     "text": [
      "Зависимость между отзывами критиков и продажами PS3: 0.354\n"
     ]
    }
   ],
   "source": [
    "df_ps3 = df[df['platform']=='PS3']\n",
    "print('Зависимость между отзывами критиков и продажами PS3:',df_ps3['critic_score'].corr(df_ps3['sum_sales_game']).round(3))"
   ]
  },
  {
   "cell_type": "code",
   "execution_count": 46,
   "metadata": {},
   "outputs": [
    {
     "data": {
      "image/png": "[encoded data removed]",
      "text/plain": [
       "<Figure size 1080x720 with 1 Axes>"
      ]
     },
     "metadata": {
      "needs_background": "light"
     },
     "output_type": "display_data"
    }
   ],
   "source": [
    "df_ps3.plot(x='critic_score', y='sum_sales_game', grid=True, kind='scatter', alpha=0.65, figsize=(15,10));"
   ]
  },
  {
   "cell_type": "markdown",
   "metadata": {},
   "source": [
    "Зависимость между отзывами критиков и общими продажами слабая 0,35"
   ]
  },
  {
   "cell_type": "code",
   "execution_count": 47,
   "metadata": {},
   "outputs": [
    {
     "name": "stdout",
     "output_type": "stream",
     "text": [
      "Зависимость между отзывами пользователей и продажами PS3: 0.251\n"
     ]
    }
   ],
   "source": [
    "print('Зависимость между отзывами пользователей и продажами PS3:',df_ps3['user_score'].corr(df_ps3['sum_sales_game']).round(3))"
   ]
  },
  {
   "cell_type": "code",
   "execution_count": 48,
   "metadata": {},
   "outputs": [
    {
     "data": {
      "image/png": "[encoded data removed]",
      "text/plain": [
       "<Figure size 1080x720 with 1 Axes>"
      ]
     },
     "metadata": {
      "needs_background": "light"
     },
     "output_type": "display_data"
    }
   ],
   "source": [
    "df_ps3.plot(x='user_score', y='sum_sales_game', grid=True, kind='scatter', alpha=0.65, figsize=(15,10));"
   ]
  },
  {
   "cell_type": "markdown",
   "metadata": {},
   "source": [
    "Зависимость между отзывами пользователей и общими продажами крайне слабая 0,25"
   ]
  },
  {
   "cell_type": "markdown",
   "metadata": {},
   "source": [
    "### Что можно сказать о самых прибыльных жанрах? Выделяются ли жанры с высокими и низкими продажами?"
   ]
  },
  {
   "cell_type": "code",
   "execution_count": 49,
   "metadata": {},
   "outputs": [
    {
     "data": {
      "text/html": [
       "<div>\n",
       "<style scoped>\n",
       "    .dataframe tbody tr th:only-of-type {\n",
       "        vertical-align: middle;\n",
       "    }\n",
       "\n",
       "    .dataframe tbody tr th {\n",
       "        vertical-align: top;\n",
       "    }\n",
       "\n",
       "    .dataframe thead th {\n",
       "        text-align: right;\n",
       "    }\n",
       "</style>\n",
       "<table border=\"1\" class=\"dataframe\">\n",
       "  <thead>\n",
       "    <tr style=\"text-align: right;\">\n",
       "      <th></th>\n",
       "      <th>genre</th>\n",
       "      <th>sum_sales_game</th>\n",
       "    </tr>\n",
       "  </thead>\n",
       "  <tbody>\n",
       "    <tr>\n",
       "      <th>0</th>\n",
       "      <td>Platform</td>\n",
       "      <td>0.940</td>\n",
       "    </tr>\n",
       "    <tr>\n",
       "      <th>1</th>\n",
       "      <td>Shooter</td>\n",
       "      <td>0.804</td>\n",
       "    </tr>\n",
       "    <tr>\n",
       "      <th>2</th>\n",
       "      <td>Role-Playing</td>\n",
       "      <td>0.629</td>\n",
       "    </tr>\n",
       "    <tr>\n",
       "      <th>3</th>\n",
       "      <td>Racing</td>\n",
       "      <td>0.590</td>\n",
       "    </tr>\n",
       "    <tr>\n",
       "      <th>4</th>\n",
       "      <td>Sports</td>\n",
       "      <td>0.568</td>\n",
       "    </tr>\n",
       "    <tr>\n",
       "      <th>5</th>\n",
       "      <td>Fighting</td>\n",
       "      <td>0.529</td>\n",
       "    </tr>\n",
       "    <tr>\n",
       "      <th>6</th>\n",
       "      <td>Action</td>\n",
       "      <td>0.519</td>\n",
       "    </tr>\n",
       "    <tr>\n",
       "      <th>7</th>\n",
       "      <td>Misc</td>\n",
       "      <td>0.459</td>\n",
       "    </tr>\n",
       "    <tr>\n",
       "      <th>8</th>\n",
       "      <td>Simulation</td>\n",
       "      <td>0.453</td>\n",
       "    </tr>\n",
       "    <tr>\n",
       "      <th>9</th>\n",
       "      <td>Puzzle</td>\n",
       "      <td>0.422</td>\n",
       "    </tr>\n",
       "    <tr>\n",
       "      <th>10</th>\n",
       "      <td>Strategy</td>\n",
       "      <td>0.256</td>\n",
       "    </tr>\n",
       "    <tr>\n",
       "      <th>11</th>\n",
       "      <td>Adventure</td>\n",
       "      <td>0.180</td>\n",
       "    </tr>\n",
       "  </tbody>\n",
       "</table>\n",
       "</div>"
      ],
      "text/plain": [
       "           genre  sum_sales_game\n",
       "0       Platform           0.940\n",
       "1        Shooter           0.804\n",
       "2   Role-Playing           0.629\n",
       "3         Racing           0.590\n",
       "4         Sports           0.568\n",
       "5       Fighting           0.529\n",
       "6         Action           0.519\n",
       "7           Misc           0.459\n",
       "8     Simulation           0.453\n",
       "9         Puzzle           0.422\n",
       "10      Strategy           0.256\n",
       "11     Adventure           0.180"
      ]
     },
     "metadata": {},
     "output_type": "display_data"
    }
   ],
   "source": [
    "df_genre_top = round(df.pivot_table(index='genre', values='sum_sales_game', aggfunc='mean').sort_values('sum_sales_game',ascending=False).reset_index().rename_axis(None, axis=1), 3)\n",
    "display(df_genre_top)"
   ]
  },
  {
   "cell_type": "code",
   "execution_count": 50,
   "metadata": {},
   "outputs": [
    {
     "data": {
      "image/png": "[encoded data removed]",
      "text/plain": [
       "<Figure size 864x432 with 1 Axes>"
      ]
     },
     "metadata": {
      "needs_background": "light"
     },
     "output_type": "display_data"
    }
   ],
   "source": [
    "plt.figure(figsize=(12,6))\n",
    "sns.barplot(data=df_genre_top, x='genre', y='sum_sales_game');"
   ]
  },
  {
   "cell_type": "markdown",
   "metadata": {},
   "source": [
    "Топ 3 жанра по продажам занимают Platform, Shooter, Role-Playing. В тройку аутсайдеров входят Puzzle, Strategy, Adventure"
   ]
  },
  {
   "cell_type": "markdown",
   "metadata": {},
   "source": [
    "`Вывод по Шаг 3. Проведите исследовательский анализ данных:`\n",
    "\n",
    "- Самая популярная платформа выпускается компанией - Sony, относительно свежая но быстро набирающая популярность XOne.\n",
    "\n",
    "- Стабильно в течении всего периода не прекращались продажи на платформе PC, на втором месте расположилась PS2 и PS3 продажи охватывают период в 10 лет, в среднем появление новой модели происходит раз в 5 лет, при этом актуальность предшествующей модели сохраняется еще пару лет.\n",
    "\n",
    "- Среднее значение проданных копий у самых популярных платформ колеблется в промежутке от 750 до 940 тысяч, больше всего продаж приходится на Sony и XOne.\n",
    "\n",
    "- На продажи в основнгм влияют оценки критиков, оценки пользователей практически не влияют на уровень продаж.\n",
    "\n",
    "- Самый популярный жанр Action, самый отстающий Якорем висит жанр Strategy."
   ]
  },
  {
   "cell_type": "markdown",
   "metadata": {},
   "source": [
    "## Составьте портрет пользователя каждого региона (NA, EU, JP)"
   ]
  },
  {
   "cell_type": "markdown",
   "metadata": {},
   "source": [
    "### NA"
   ]
  },
  {
   "cell_type": "markdown",
   "metadata": {},
   "source": [
    "#### Самые популярные платформы (топ-5)"
   ]
  },
  {
   "cell_type": "code",
   "execution_count": 51,
   "metadata": {},
   "outputs": [
    {
     "name": "stdout",
     "output_type": "stream",
     "text": [
      "platform\n",
      "PS4     63.86\n",
      "XOne    50.30\n",
      "3DS     10.31\n",
      "WiiU     8.86\n",
      "PS3      5.66\n",
      "Name: na_sales, dtype: float64\n"
     ]
    }
   ],
   "source": [
    "print(df_15_16.groupby('platform')['na_sales'].sum().sort_values(ascending=False).head(5))"
   ]
  },
  {
   "cell_type": "code",
   "execution_count": 52,
   "metadata": {
    "scrolled": true
   },
   "outputs": [
    {
     "data": {
      "image/png": "[encoded data removed]",
      "text/plain": [
       "<Figure size 720x360 with 1 Axes>"
      ]
     },
     "metadata": {
      "needs_background": "light"
     },
     "output_type": "display_data"
    }
   ],
   "source": [
    "df_15_16.groupby('platform')['na_sales'].sum().plot(x = 'platform', y = 'na_sales', kind = 'bar', figsize=(10,5));"
   ]
  },
  {
   "cell_type": "markdown",
   "metadata": {},
   "source": [
    "#### Самые популярные жанры (топ-5)"
   ]
  },
  {
   "cell_type": "code",
   "execution_count": 53,
   "metadata": {},
   "outputs": [
    {
     "name": "stdout",
     "output_type": "stream",
     "text": [
      "genre\n",
      "Shooter         46.61\n",
      "Action          31.87\n",
      "Sports          23.22\n",
      "Role-Playing    19.82\n",
      "Fighting         5.37\n",
      "Name: na_sales, dtype: float64\n"
     ]
    }
   ],
   "source": [
    "print(df_15_16.groupby('genre')['na_sales'].sum().sort_values(ascending=False).head(5))"
   ]
  },
  {
   "cell_type": "code",
   "execution_count": 54,
   "metadata": {
    "scrolled": true
   },
   "outputs": [
    {
     "data": {
      "image/png": "[encoded data removed]",
      "text/plain": [
       "<Figure size 1080x360 with 1 Axes>"
      ]
     },
     "metadata": {
      "needs_background": "light"
     },
     "output_type": "display_data"
    }
   ],
   "source": [
    "df_15_16.groupby('genre')['na_sales'].sum().plot(x = 'genre', y = 'na_sales', kind = 'bar', figsize=(15,5));"
   ]
  },
  {
   "cell_type": "markdown",
   "metadata": {},
   "source": [
    "#### Влияет ли рейтинг ESRB на продажи в отдельном регионе?"
   ]
  },
  {
   "cell_type": "code",
   "execution_count": 55,
   "metadata": {},
   "outputs": [
    {
     "name": "stdout",
     "output_type": "stream",
     "text": [
      "rating\n",
      "M            46.50\n",
      "no rating    34.97\n",
      "E            23.75\n",
      "T            21.87\n",
      "E10+         16.16\n",
      "Name: na_sales, dtype: float64\n"
     ]
    }
   ],
   "source": [
    "print(df_15_16.groupby('rating')['na_sales'].sum().sort_values(ascending=False).head(5))"
   ]
  },
  {
   "cell_type": "code",
   "execution_count": 56,
   "metadata": {
    "scrolled": true
   },
   "outputs": [
    {
     "data": {
      "image/png": "[encoded data removed]",
      "text/plain": [
       "<Figure size 720x360 with 1 Axes>"
      ]
     },
     "metadata": {
      "needs_background": "light"
     },
     "output_type": "display_data"
    }
   ],
   "source": [
    "df_15_16.groupby('rating')['na_sales'].sum().plot(x = 'rating', y = 'na_sales', kind = 'bar', figsize=(10,5));"
   ]
  },
  {
   "cell_type": "markdown",
   "metadata": {},
   "source": [
    "Для региона `NA` портрет пользователя выглядит следующим образом - Человек который любит играть в игры с жанром Shooter, Action с рейтингом \"M\" и 'no rating' на платформах PS4 и XOne"
   ]
  },
  {
   "cell_type": "markdown",
   "metadata": {},
   "source": [
    "### EU"
   ]
  },
  {
   "cell_type": "markdown",
   "metadata": {},
   "source": [
    "#### Самые популярные платформы (топ-5)"
   ]
  },
  {
   "cell_type": "code",
   "execution_count": 57,
   "metadata": {},
   "outputs": [
    {
     "name": "stdout",
     "output_type": "stream",
     "text": [
      "platform\n",
      "PS4     83.54\n",
      "XOne    28.10\n",
      "PC       9.10\n",
      "3DS      7.39\n",
      "PS3      7.30\n",
      "Name: eu_sales, dtype: float64\n"
     ]
    }
   ],
   "source": [
    "print(df_15_16.groupby('platform')['eu_sales'].sum().sort_values(ascending=False).head(5))"
   ]
  },
  {
   "cell_type": "code",
   "execution_count": 58,
   "metadata": {},
   "outputs": [
    {
     "data": {
      "image/png": "[encoded data removed]",
      "text/plain": [
       "<Figure size 720x360 with 1 Axes>"
      ]
     },
     "metadata": {
      "needs_background": "light"
     },
     "output_type": "display_data"
    }
   ],
   "source": [
    "df_15_16.groupby('platform')['eu_sales'].sum().plot(x = 'platform', y = 'eu_sales', kind = 'bar', figsize=(10,5));"
   ]
  },
  {
   "cell_type": "markdown",
   "metadata": {},
   "source": [
    "#### Самые популярные жанры (топ-5)"
   ]
  },
  {
   "cell_type": "code",
   "execution_count": 59,
   "metadata": {},
   "outputs": [
    {
     "name": "stdout",
     "output_type": "stream",
     "text": [
      "genre\n",
      "Shooter         39.69\n",
      "Action          33.44\n",
      "Sports          26.24\n",
      "Role-Playing    17.21\n",
      "Racing           6.51\n",
      "Name: eu_sales, dtype: float64\n"
     ]
    }
   ],
   "source": [
    "print(df_15_16.groupby('genre')['eu_sales'].sum().sort_values(ascending=False).head(5))"
   ]
  },
  {
   "cell_type": "code",
   "execution_count": 60,
   "metadata": {},
   "outputs": [
    {
     "data": {
      "image/png": "[encoded data removed]",
      "text/plain": [
       "<Figure size 1080x360 with 1 Axes>"
      ]
     },
     "metadata": {
      "needs_background": "light"
     },
     "output_type": "display_data"
    }
   ],
   "source": [
    "df_15_16.groupby('genre')['eu_sales'].sum().plot(x = 'genre', y = 'eu_sales', kind = 'bar', figsize=(15,5));"
   ]
  },
  {
   "cell_type": "markdown",
   "metadata": {},
   "source": [
    "#### Влияет ли рейтинг ESRB на продажи в отдельном регионе?"
   ]
  },
  {
   "cell_type": "code",
   "execution_count": 61,
   "metadata": {},
   "outputs": [
    {
     "name": "stdout",
     "output_type": "stream",
     "text": [
      "rating\n",
      "M            45.26\n",
      "no rating    34.29\n",
      "E            33.32\n",
      "T            19.92\n",
      "E10+         10.21\n",
      "Name: eu_sales, dtype: float64\n"
     ]
    }
   ],
   "source": [
    "print(df_15_16.groupby('rating')['eu_sales'].sum().sort_values(ascending=False).head(5))"
   ]
  },
  {
   "cell_type": "code",
   "execution_count": 62,
   "metadata": {},
   "outputs": [
    {
     "data": {
      "image/png": "[encoded data removed]",
      "text/plain": [
       "<Figure size 720x360 with 1 Axes>"
      ]
     },
     "metadata": {
      "needs_background": "light"
     },
     "output_type": "display_data"
    }
   ],
   "source": [
    "df_15_16.groupby('rating')['eu_sales'].sum().plot(x = 'rating', y = 'eu_sales', kind = 'bar', figsize=(10,5));"
   ]
  },
  {
   "cell_type": "markdown",
   "metadata": {},
   "source": [
    "Для региона `EU` портрет пользователя выглядит следующим образом - Человек который любит играть в игры с жанром Shooter, Action с рейтингом \"M\", 'no rating' и 'E' на платформе PS4"
   ]
  },
  {
   "cell_type": "markdown",
   "metadata": {},
   "source": [
    "### JP"
   ]
  },
  {
   "cell_type": "markdown",
   "metadata": {},
   "source": [
    "#### Самые популярные платформы (топ-5)"
   ]
  },
  {
   "cell_type": "code",
   "execution_count": 63,
   "metadata": {},
   "outputs": [
    {
     "name": "stdout",
     "output_type": "stream",
     "text": [
      "platform\n",
      "3DS     23.55\n",
      "PS4     12.05\n",
      "PSV      8.41\n",
      "PS3      4.97\n",
      "WiiU     4.12\n",
      "Name: jp_sales, dtype: float64\n"
     ]
    }
   ],
   "source": [
    "print(df_15_16.groupby('platform')['jp_sales'].sum().sort_values(ascending=False).head(5))"
   ]
  },
  {
   "cell_type": "code",
   "execution_count": 64,
   "metadata": {},
   "outputs": [
    {
     "data": {
      "image/png": "[encoded data removed]",
      "text/plain": [
       "<Figure size 720x360 with 1 Axes>"
      ]
     },
     "metadata": {
      "needs_background": "light"
     },
     "output_type": "display_data"
    }
   ],
   "source": [
    "df_15_16.groupby('platform')['jp_sales'].sum().plot(x = 'platform', y = 'jp_sales', kind = 'bar', figsize=(10,5));"
   ]
  },
  {
   "cell_type": "markdown",
   "metadata": {},
   "source": [
    "#### Самые популярные жанры (топ-5)"
   ]
  },
  {
   "cell_type": "code",
   "execution_count": 65,
   "metadata": {},
   "outputs": [
    {
     "name": "stdout",
     "output_type": "stream",
     "text": [
      "genre\n",
      "Action          22.93\n",
      "Role-Playing    13.41\n",
      "Shooter          3.79\n",
      "Misc             3.19\n",
      "Adventure        2.22\n",
      "Name: jp_sales, dtype: float64\n"
     ]
    }
   ],
   "source": [
    "print(df_15_16.groupby('genre')['jp_sales'].sum().sort_values(ascending=False).head(5))"
   ]
  },
  {
   "cell_type": "code",
   "execution_count": 66,
   "metadata": {},
   "outputs": [
    {
     "data": {
      "image/png": "[encoded data removed]",
      "text/plain": [
       "<Figure size 1080x360 with 1 Axes>"
      ]
     },
     "metadata": {
      "needs_background": "light"
     },
     "output_type": "display_data"
    }
   ],
   "source": [
    "df_15_16.groupby('genre')['jp_sales'].sum().plot(x = 'genre', y = 'jp_sales', kind = 'bar', figsize=(15,5));"
   ]
  },
  {
   "cell_type": "markdown",
   "metadata": {},
   "source": [
    "#### Влияет ли рейтинг ESRB на продажи в отдельном регионе?"
   ]
  },
  {
   "cell_type": "code",
   "execution_count": 67,
   "metadata": {},
   "outputs": [
    {
     "name": "stdout",
     "output_type": "stream",
     "text": [
      "rating\n",
      "no rating    32.77\n",
      "T             7.70\n",
      "E             5.25\n",
      "M             4.29\n",
      "E10+          3.27\n",
      "Name: jp_sales, dtype: float64\n"
     ]
    }
   ],
   "source": [
    "print(df_15_16.groupby('rating')['jp_sales'].sum().sort_values(ascending=False).head(5))"
   ]
  },
  {
   "cell_type": "code",
   "execution_count": 68,
   "metadata": {},
   "outputs": [
    {
     "data": {
      "image/png": "[encoded data removed]",
      "text/plain": [
       "<Figure size 720x360 with 1 Axes>"
      ]
     },
     "metadata": {
      "needs_background": "light"
     },
     "output_type": "display_data"
    }
   ],
   "source": [
    "df_15_16.groupby('rating')['jp_sales'].sum().plot(x = 'rating', y = 'jp_sales', kind = 'bar', figsize=(10,5));"
   ]
  },
  {
   "cell_type": "markdown",
   "metadata": {},
   "source": [
    "Для региона `JP` портрет пользователя выглядит следующим образом - Человек который любит играть в игры с жанром Action и Role-Playing на платформах 3DS и PS4 в игры, рейтинг которых не определен"
   ]
  },
  {
   "cell_type": "markdown",
   "metadata": {},
   "source": [
    "`Вывод по Шаг 4. Составьте портрет пользователя каждого региона:`\n",
    "\n",
    "- Платформы PS4 и XOne наиболее популярны в регионах NA и EU, в регионе JP на первом месте стоит платформа 3DS, PS4 пользуются в два раза меньше пользователей.\n",
    "\n",
    "- В регионах NA и EU лидирующие позиции занимают жанры Action и Shooter, в то же время в JP, жанр Shooter уступает Role-Playing, который в свою очередь не входит в тройку лидеров жанров среди пользователей NA и EU.\n",
    "\n",
    "- В регионах NA и EU пользуются популярностью игры в основном с рейтингом M/no rating, в JP рейтинг подавляющего большинства игр (62%) - no rating.\n",
    "\n",
    "Можно говорить о том, что у пользователей NA/EU много общего, в то время как совокупное NA/EU сильно разниться с JP."
   ]
  },
  {
   "cell_type": "markdown",
   "metadata": {},
   "source": [
    "## Проверьте гипотезы"
   ]
  },
  {
   "cell_type": "markdown",
   "metadata": {},
   "source": [
    "### Средние пользовательские рейтинги платформ Xbox One и PC одинаковые"
   ]
  },
  {
   "cell_type": "markdown",
   "metadata": {},
   "source": [
    "- Нулевая гипотеза - Средние пользовательские рейтинги платформ Xbox One и PC одинаковые\n",
    "- Альтернативная гипотеза - Средние пользовательские рейтинги платформ Xbox One и PC различаются"
   ]
  },
  {
   "cell_type": "code",
   "execution_count": 69,
   "metadata": {},
   "outputs": [
    {
     "name": "stdout",
     "output_type": "stream",
     "text": [
      "Дисперсия xbox: 5.797\n",
      "Дисперсия PC: 4.103\n"
     ]
    }
   ],
   "source": [
    "xbox = df_15_16[(df_15_16['platform'] == 'XOne') | (df_15_16['user_score'] != -1)]\n",
    "pc = df_15_16[(df_15_16['platform'] == 'PC') | (df_15_16['user_score'] != -1)]\n",
    "\n",
    "xbox_sample = xbox['user_score']\n",
    "pc_sample = pc['user_score']\n",
    "\n",
    "print(f'Дисперсия xbox: {np.var(xbox_sample):.3f}')\n",
    "print(f'Дисперсия PC: {np.var(pc_sample):.3f}')"
   ]
  },
  {
   "cell_type": "code",
   "execution_count": 70,
   "metadata": {
    "scrolled": true
   },
   "outputs": [
    {
     "name": "stdout",
     "output_type": "stream",
     "text": [
      "p-значение 0.059\n",
      "Не получилось отвергнуть нулевую гипотезу\n"
     ]
    }
   ],
   "source": [
    "alpha = 0.05 \n",
    "\n",
    "results = st.ttest_ind(xbox_sample.dropna(), pc_sample.dropna(), equal_var=False)\n",
    "\n",
    "print(f'p-значение {results.pvalue:.3f}')\n",
    "\n",
    "if (results.pvalue < alpha):\n",
    "    print(\"Отвергаем нулевую гипотезу\")\n",
    "else:\n",
    "    print(\"Не получилось отвергнуть нулевую гипотезу\")"
   ]
  },
  {
   "cell_type": "markdown",
   "metadata": {},
   "source": [
    "Не получилось опровергнуть что средние рейтинги Xbox One и PC одинаковые"
   ]
  },
  {
   "cell_type": "markdown",
   "metadata": {},
   "source": [
    "### Средние пользовательские рейтинги жанров Action  и Sports разные."
   ]
  },
  {
   "cell_type": "markdown",
   "metadata": {},
   "source": [
    "- Нулевая гипотеза - Средние пользовательские рейтинги жанров Action и Sports одинаковые\n",
    "- Альтернативная гипотеза - Средние пользовательские рейтинги жанров Action и Sports различаются"
   ]
  },
  {
   "cell_type": "code",
   "execution_count": 71,
   "metadata": {},
   "outputs": [
    {
     "name": "stdout",
     "output_type": "stream",
     "text": [
      "Дисперсия Action: 13.678\n",
      "Дисперсия Sports: 4.007\n"
     ]
    }
   ],
   "source": [
    "аction = df_15_16[(df_15_16['genre'] == 'Action') | (df_15_16['user_score'] != -1)]\n",
    "sports = df_15_16[(df_15_16['genre'] == 'Sports') | (df_15_16['user_score'] != -1)]\n",
    "\n",
    "аction_sample = аction['user_score']\n",
    "sports_sample = sports['user_score']\n",
    "\n",
    "print(f'Дисперсия Action: {np.var(аction_sample):.3f}')\n",
    "print(f'Дисперсия Sports: {np.var(sports_sample):.3f}')"
   ]
  },
  {
   "cell_type": "code",
   "execution_count": 72,
   "metadata": {},
   "outputs": [
    {
     "name": "stdout",
     "output_type": "stream",
     "text": [
      "p-значение: 0.000\n",
      "Отвергаем нулевую гипотезу\n"
     ]
    }
   ],
   "source": [
    "alpha = 0.05 \n",
    "\n",
    "results = st.ttest_ind(аction_sample.dropna(), sports_sample.dropna(), equal_var=False)\n",
    "\n",
    "print(f'p-значение: {results.pvalue:.3f}')\n",
    "\n",
    "if (results.pvalue < alpha):\n",
    "    print('Отвергаем нулевую гипотезу')\n",
    "else:\n",
    "    print('Не получилось отвергнуть нулевую гипотезу')"
   ]
  },
  {
   "cell_type": "markdown",
   "metadata": {},
   "source": [
    "Нулевая гипотеза о том что средние рейтинги жанров Action и Sports одинаковые, отвергается"
   ]
  },
  {
   "cell_type": "markdown",
   "metadata": {},
   "source": [
    "При проверке гипотез применялся метод st.ttest_ind, с условием что дисперсии выборок не равны"
   ]
  },
  {
   "cell_type": "markdown",
   "metadata": {},
   "source": [
    "## Итог"
   ]
  },
  {
   "cell_type": "markdown",
   "metadata": {},
   "source": [
    "После анализа данных были выявленны следующие закономерности:\n",
    "\n",
    "- При планировании рекламных компаний следует учитывать что наиоблее авторитетным мнением для пользователя является оценка критика\n",
    "\n",
    "- Рынок NA и EU ориентирован на исползование платформы PS4 и набирающую популярность XOne, приоритетными жанрами являются Action и Shooter с рейтингом M/no rating\n",
    "\n",
    "- Рынок JP ориентирован на исползование платформы 3DS, приоритетными жанрами являются Action и Role-Playing с рейтингом no rating"
   ]
  }
 ],
 "metadata": {
  "ExecuteTimeLog": [
   {
    "duration": 488,
    "start_time": "2022-10-26T14:49:57.384Z"
   },
   {
    "duration": 52,
    "start_time": "2022-10-26T14:51:51.608Z"
   },
   {
    "duration": 35,
    "start_time": "2022-10-26T14:57:15.060Z"
   },
   {
    "duration": 49,
    "start_time": "2022-10-26T14:57:17.618Z"
   },
   {
    "duration": 99,
    "start_time": "2022-10-26T14:57:20.135Z"
   },
   {
    "duration": 76,
    "start_time": "2022-10-26T14:57:27.892Z"
   },
   {
    "duration": 3,
    "start_time": "2022-10-26T14:58:01.244Z"
   },
   {
    "duration": 66,
    "start_time": "2022-10-26T14:58:54.467Z"
   },
   {
    "duration": 8,
    "start_time": "2022-10-26T15:04:32.731Z"
   },
   {
    "duration": 11,
    "start_time": "2022-10-26T15:04:40.817Z"
   },
   {
    "duration": 9,
    "start_time": "2022-10-26T15:04:47.939Z"
   },
   {
    "duration": 9,
    "start_time": "2022-10-26T15:04:55.471Z"
   },
   {
    "duration": 10,
    "start_time": "2022-10-26T15:04:57.300Z"
   },
   {
    "duration": 8,
    "start_time": "2022-10-26T15:06:29.870Z"
   },
   {
    "duration": 8,
    "start_time": "2022-10-26T15:06:39.947Z"
   },
   {
    "duration": 4,
    "start_time": "2022-10-26T15:08:10.741Z"
   },
   {
    "duration": 21,
    "start_time": "2022-10-26T15:08:20.422Z"
   },
   {
    "duration": 4,
    "start_time": "2022-10-26T15:08:32.535Z"
   },
   {
    "duration": 23,
    "start_time": "2022-10-26T15:08:59.281Z"
   },
   {
    "duration": 14,
    "start_time": "2022-10-26T15:09:59.772Z"
   },
   {
    "duration": 20,
    "start_time": "2022-10-26T15:11:16.848Z"
   },
   {
    "duration": 20,
    "start_time": "2022-10-26T15:11:21.637Z"
   },
   {
    "duration": 11,
    "start_time": "2022-10-26T15:11:34.675Z"
   },
   {
    "duration": 27,
    "start_time": "2022-10-26T15:11:55.295Z"
   },
   {
    "duration": 38,
    "start_time": "2022-10-26T15:12:06.768Z"
   },
   {
    "duration": 9,
    "start_time": "2022-10-26T15:12:47.243Z"
   },
   {
    "duration": 8,
    "start_time": "2022-10-26T15:12:56.524Z"
   },
   {
    "duration": 11,
    "start_time": "2022-10-26T15:13:08.842Z"
   },
   {
    "duration": 10,
    "start_time": "2022-10-26T15:13:14.817Z"
   },
   {
    "duration": 22,
    "start_time": "2022-10-26T15:13:19.118Z"
   },
   {
    "duration": 46,
    "start_time": "2022-10-26T15:13:32.528Z"
   },
   {
    "duration": 11,
    "start_time": "2022-10-26T15:13:35.622Z"
   },
   {
    "duration": 8,
    "start_time": "2022-10-26T15:13:42.680Z"
   },
   {
    "duration": 11,
    "start_time": "2022-10-26T15:13:47.332Z"
   },
   {
    "duration": 11,
    "start_time": "2022-10-26T15:13:52.937Z"
   },
   {
    "duration": 10,
    "start_time": "2022-10-26T15:14:27.612Z"
   },
   {
    "duration": 12,
    "start_time": "2022-10-26T15:15:24.399Z"
   },
   {
    "duration": 12,
    "start_time": "2022-10-26T15:15:47.396Z"
   },
   {
    "duration": 9,
    "start_time": "2022-10-26T15:15:55.670Z"
   },
   {
    "duration": 3,
    "start_time": "2022-10-26T15:16:15.621Z"
   },
   {
    "duration": 3,
    "start_time": "2022-10-26T15:16:23.287Z"
   },
   {
    "duration": 6,
    "start_time": "2022-10-26T15:19:48.181Z"
   },
   {
    "duration": 61,
    "start_time": "2022-10-26T15:20:40.131Z"
   },
   {
    "duration": 8,
    "start_time": "2022-10-26T15:20:43.449Z"
   },
   {
    "duration": 10,
    "start_time": "2022-10-26T15:20:45.929Z"
   },
   {
    "duration": 25,
    "start_time": "2022-10-26T15:20:50.551Z"
   },
   {
    "duration": 22,
    "start_time": "2022-10-26T15:27:45.583Z"
   },
   {
    "duration": 9,
    "start_time": "2022-10-26T15:28:07.715Z"
   },
   {
    "duration": 5,
    "start_time": "2022-10-26T15:28:29.506Z"
   },
   {
    "duration": 20,
    "start_time": "2022-10-26T15:28:44.989Z"
   },
   {
    "duration": 436,
    "start_time": "2022-10-26T15:29:03.394Z"
   },
   {
    "duration": 3,
    "start_time": "2022-10-26T15:29:03.832Z"
   },
   {
    "duration": 40,
    "start_time": "2022-10-26T15:29:03.837Z"
   },
   {
    "duration": 29,
    "start_time": "2022-10-26T15:29:40.396Z"
   },
   {
    "duration": 497,
    "start_time": "2022-10-26T15:29:47.215Z"
   },
   {
    "duration": 4,
    "start_time": "2022-10-26T15:29:47.715Z"
   },
   {
    "duration": 44,
    "start_time": "2022-10-26T15:29:47.721Z"
   },
   {
    "duration": 118,
    "start_time": "2022-10-26T15:30:14.504Z"
   },
   {
    "duration": 9,
    "start_time": "2022-10-26T15:30:36.808Z"
   },
   {
    "duration": 22,
    "start_time": "2022-10-26T15:30:40.943Z"
   },
   {
    "duration": 7,
    "start_time": "2022-10-26T15:30:57.813Z"
   },
   {
    "duration": 5,
    "start_time": "2022-10-26T15:33:10.522Z"
   },
   {
    "duration": 39,
    "start_time": "2022-10-26T15:33:16.567Z"
   },
   {
    "duration": 591,
    "start_time": "2022-10-26T15:33:22.140Z"
   },
   {
    "duration": 4,
    "start_time": "2022-10-26T15:33:22.733Z"
   },
   {
    "duration": 35,
    "start_time": "2022-10-26T15:33:22.739Z"
   },
   {
    "duration": 30,
    "start_time": "2022-10-26T15:33:37.472Z"
   },
   {
    "duration": 31,
    "start_time": "2022-10-26T15:33:42.734Z"
   },
   {
    "duration": 105,
    "start_time": "2022-10-26T15:33:46.844Z"
   },
   {
    "duration": 13,
    "start_time": "2022-10-26T15:33:50.266Z"
   },
   {
    "duration": 22,
    "start_time": "2022-10-26T15:33:52.522Z"
   },
   {
    "duration": 473,
    "start_time": "2022-10-26T15:33:58.101Z"
   },
   {
    "duration": 3,
    "start_time": "2022-10-26T15:33:58.577Z"
   },
   {
    "duration": 41,
    "start_time": "2022-10-26T15:33:58.582Z"
   },
   {
    "duration": 23,
    "start_time": "2022-10-26T15:34:06.167Z"
   },
   {
    "duration": 508,
    "start_time": "2022-10-26T15:34:12.637Z"
   },
   {
    "duration": 3,
    "start_time": "2022-10-26T15:34:13.147Z"
   },
   {
    "duration": 55,
    "start_time": "2022-10-26T15:34:13.152Z"
   },
   {
    "duration": 20,
    "start_time": "2022-10-26T15:34:38.745Z"
   },
   {
    "duration": 484,
    "start_time": "2022-10-26T15:34:44.686Z"
   },
   {
    "duration": 3,
    "start_time": "2022-10-26T15:34:45.172Z"
   },
   {
    "duration": 38,
    "start_time": "2022-10-26T15:34:45.177Z"
   },
   {
    "duration": 73,
    "start_time": "2022-10-26T15:35:01.790Z"
   },
   {
    "duration": 9,
    "start_time": "2022-10-26T15:35:06.041Z"
   },
   {
    "duration": 458,
    "start_time": "2022-10-26T15:35:15.102Z"
   },
   {
    "duration": 4,
    "start_time": "2022-10-26T15:35:15.561Z"
   },
   {
    "duration": 80,
    "start_time": "2022-10-26T15:35:15.566Z"
   },
   {
    "duration": 14,
    "start_time": "2022-10-26T15:35:40.708Z"
   },
   {
    "duration": 7,
    "start_time": "2022-10-26T15:35:57.938Z"
   },
   {
    "duration": 17,
    "start_time": "2022-10-26T15:36:16.899Z"
   },
   {
    "duration": 15,
    "start_time": "2022-10-26T15:36:27.663Z"
   },
   {
    "duration": 7,
    "start_time": "2022-10-26T15:36:39.481Z"
   },
   {
    "duration": 8,
    "start_time": "2022-10-26T15:37:02.929Z"
   },
   {
    "duration": 8,
    "start_time": "2022-10-26T15:37:09.509Z"
   },
   {
    "duration": 11,
    "start_time": "2022-10-26T15:37:27.682Z"
   },
   {
    "duration": 8,
    "start_time": "2022-10-26T15:37:33.525Z"
   },
   {
    "duration": 279,
    "start_time": "2022-10-26T15:38:19.856Z"
   },
   {
    "duration": 11,
    "start_time": "2022-10-26T15:39:38.445Z"
   },
   {
    "duration": 10,
    "start_time": "2022-10-26T15:39:57.632Z"
   },
   {
    "duration": 8,
    "start_time": "2022-10-26T15:40:01.207Z"
   },
   {
    "duration": 15,
    "start_time": "2022-10-26T15:40:07.233Z"
   },
   {
    "duration": 7,
    "start_time": "2022-10-26T15:40:18.526Z"
   },
   {
    "duration": 8,
    "start_time": "2022-10-26T15:40:37.045Z"
   },
   {
    "duration": 11,
    "start_time": "2022-10-26T15:41:36.462Z"
   },
   {
    "duration": 10,
    "start_time": "2022-10-26T15:42:01.966Z"
   },
   {
    "duration": 9,
    "start_time": "2022-10-26T15:42:12.225Z"
   },
   {
    "duration": 11,
    "start_time": "2022-10-26T15:42:30.603Z"
   },
   {
    "duration": 4,
    "start_time": "2022-10-26T15:51:47.837Z"
   },
   {
    "duration": 8,
    "start_time": "2022-10-26T15:52:36.808Z"
   },
   {
    "duration": 11,
    "start_time": "2022-10-26T15:52:40.949Z"
   },
   {
    "duration": 18,
    "start_time": "2022-10-26T15:55:02.935Z"
   },
   {
    "duration": 6,
    "start_time": "2022-10-26T15:55:17.701Z"
   },
   {
    "duration": 7,
    "start_time": "2022-10-26T15:55:35.200Z"
   },
   {
    "duration": 28,
    "start_time": "2022-10-26T15:55:48.136Z"
   },
   {
    "duration": 19,
    "start_time": "2022-10-26T15:56:58.671Z"
   },
   {
    "duration": 11,
    "start_time": "2022-10-26T15:57:51.637Z"
   },
   {
    "duration": 14,
    "start_time": "2022-10-26T15:58:14.222Z"
   },
   {
    "duration": 22,
    "start_time": "2022-10-26T15:58:23.004Z"
   },
   {
    "duration": 40,
    "start_time": "2022-10-26T15:58:48.440Z"
   },
   {
    "duration": 18,
    "start_time": "2022-10-26T15:58:58.402Z"
   },
   {
    "duration": 22,
    "start_time": "2022-10-26T15:59:02.030Z"
   },
   {
    "duration": 27,
    "start_time": "2022-10-26T15:59:07.371Z"
   },
   {
    "duration": 22,
    "start_time": "2022-10-26T15:59:12.794Z"
   },
   {
    "duration": 28,
    "start_time": "2022-10-26T15:59:23.033Z"
   },
   {
    "duration": 29,
    "start_time": "2022-10-26T15:59:25.888Z"
   },
   {
    "duration": 12,
    "start_time": "2022-10-26T15:59:36.125Z"
   },
   {
    "duration": 21,
    "start_time": "2022-10-26T15:59:39.509Z"
   },
   {
    "duration": 6,
    "start_time": "2022-10-26T15:59:49.019Z"
   },
   {
    "duration": 75,
    "start_time": "2022-10-26T16:00:10.948Z"
   },
   {
    "duration": 84,
    "start_time": "2022-10-26T16:00:18.671Z"
   },
   {
    "duration": 87,
    "start_time": "2022-10-26T16:02:09.872Z"
   },
   {
    "duration": 82,
    "start_time": "2022-10-26T16:02:34.888Z"
   },
   {
    "duration": 87,
    "start_time": "2022-10-26T16:03:39.150Z"
   },
   {
    "duration": 65,
    "start_time": "2022-10-26T16:03:59.196Z"
   },
   {
    "duration": 61,
    "start_time": "2022-10-26T16:04:11.304Z"
   },
   {
    "duration": 60,
    "start_time": "2022-10-26T16:04:20.860Z"
   },
   {
    "duration": 64,
    "start_time": "2022-10-26T16:04:30.505Z"
   },
   {
    "duration": 68,
    "start_time": "2022-10-26T16:04:37.963Z"
   },
   {
    "duration": 62,
    "start_time": "2022-10-26T16:04:53.261Z"
   },
   {
    "duration": 62,
    "start_time": "2022-10-26T16:04:57.370Z"
   },
   {
    "duration": 81,
    "start_time": "2022-10-26T16:05:04.393Z"
   },
   {
    "duration": 67,
    "start_time": "2022-10-26T16:05:09.616Z"
   },
   {
    "duration": 80,
    "start_time": "2022-10-26T16:05:16.047Z"
   },
   {
    "duration": 72,
    "start_time": "2022-10-26T16:05:24.023Z"
   },
   {
    "duration": 82,
    "start_time": "2022-10-26T16:05:29.581Z"
   },
   {
    "duration": 92,
    "start_time": "2022-10-26T16:07:16.932Z"
   },
   {
    "duration": 94,
    "start_time": "2022-10-26T16:07:38.384Z"
   },
   {
    "duration": 98,
    "start_time": "2022-10-26T16:07:52.460Z"
   },
   {
    "duration": 44,
    "start_time": "2022-10-26T16:09:14.630Z"
   },
   {
    "duration": 4,
    "start_time": "2022-10-26T16:09:30.173Z"
   },
   {
    "duration": 768,
    "start_time": "2022-10-26T16:09:38.856Z"
   },
   {
    "duration": 66,
    "start_time": "2022-10-26T16:09:55.755Z"
   },
   {
    "duration": 68,
    "start_time": "2022-10-26T16:10:13.717Z"
   },
   {
    "duration": 3,
    "start_time": "2022-10-26T16:10:22.282Z"
   },
   {
    "duration": 3,
    "start_time": "2022-10-26T16:10:34.591Z"
   },
   {
    "duration": 81,
    "start_time": "2022-10-26T16:11:00.537Z"
   },
   {
    "duration": 56,
    "start_time": "2022-10-26T16:11:22.016Z"
   },
   {
    "duration": 59,
    "start_time": "2022-10-26T16:11:33.034Z"
   },
   {
    "duration": 844,
    "start_time": "2022-10-26T16:11:54.157Z"
   },
   {
    "duration": 66,
    "start_time": "2022-10-26T16:17:24.473Z"
   },
   {
    "duration": 67,
    "start_time": "2022-10-26T16:17:27.892Z"
   },
   {
    "duration": 67,
    "start_time": "2022-10-26T16:17:48.852Z"
   },
   {
    "duration": 58,
    "start_time": "2022-10-26T16:18:03.717Z"
   },
   {
    "duration": 64,
    "start_time": "2022-10-26T16:18:17.868Z"
   },
   {
    "duration": 72,
    "start_time": "2022-10-26T16:18:32.641Z"
   },
   {
    "duration": 100,
    "start_time": "2022-10-26T16:22:09.150Z"
   },
   {
    "duration": 540,
    "start_time": "2022-10-26T16:22:28.838Z"
   },
   {
    "duration": 3,
    "start_time": "2022-10-26T16:22:29.381Z"
   },
   {
    "duration": 18,
    "start_time": "2022-10-26T16:22:29.386Z"
   },
   {
    "duration": 9,
    "start_time": "2022-10-26T16:22:29.406Z"
   },
   {
    "duration": 89,
    "start_time": "2022-10-26T16:23:02.318Z"
   },
   {
    "duration": 896,
    "start_time": "2022-10-26T16:23:57.130Z"
   },
   {
    "duration": 712,
    "start_time": "2022-10-26T16:24:23.080Z"
   },
   {
    "duration": 497,
    "start_time": "2022-10-26T16:24:36.786Z"
   },
   {
    "duration": 4,
    "start_time": "2022-10-26T16:24:37.286Z"
   },
   {
    "duration": 24,
    "start_time": "2022-10-26T16:24:37.292Z"
   },
   {
    "duration": 8,
    "start_time": "2022-10-26T16:24:37.318Z"
   },
   {
    "duration": 8,
    "start_time": "2022-10-26T16:24:49.357Z"
   },
   {
    "duration": 8,
    "start_time": "2022-10-26T16:25:46.480Z"
   },
   {
    "duration": 493,
    "start_time": "2022-10-26T16:25:52.274Z"
   },
   {
    "duration": 3,
    "start_time": "2022-10-26T16:25:52.769Z"
   },
   {
    "duration": 28,
    "start_time": "2022-10-26T16:25:52.774Z"
   },
   {
    "duration": 10,
    "start_time": "2022-10-26T16:25:52.804Z"
   },
   {
    "duration": 569,
    "start_time": "2022-10-26T16:26:05.104Z"
   },
   {
    "duration": 3,
    "start_time": "2022-10-26T16:26:05.676Z"
   },
   {
    "duration": 22,
    "start_time": "2022-10-26T16:26:05.681Z"
   },
   {
    "duration": 7,
    "start_time": "2022-10-26T16:26:05.705Z"
   },
   {
    "duration": 8,
    "start_time": "2022-10-26T16:26:54.119Z"
   },
   {
    "duration": 6,
    "start_time": "2022-10-26T16:27:09.643Z"
   },
   {
    "duration": 8,
    "start_time": "2022-10-26T16:27:18.485Z"
   },
   {
    "duration": 4,
    "start_time": "2022-10-26T16:27:25.148Z"
   },
   {
    "duration": 43,
    "start_time": "2022-10-27T05:22:29.301Z"
   },
   {
    "duration": 6,
    "start_time": "2022-10-27T05:22:47.427Z"
   },
   {
    "duration": 613,
    "start_time": "2022-10-27T05:22:56.663Z"
   },
   {
    "duration": 3,
    "start_time": "2022-10-27T05:22:57.278Z"
   },
   {
    "duration": 20,
    "start_time": "2022-10-27T05:22:57.282Z"
   },
   {
    "duration": 5,
    "start_time": "2022-10-27T05:22:57.306Z"
   },
   {
    "duration": 6,
    "start_time": "2022-10-27T05:22:57.313Z"
   },
   {
    "duration": 19,
    "start_time": "2022-10-27T05:22:57.321Z"
   },
   {
    "duration": 11,
    "start_time": "2022-10-27T05:23:17.499Z"
   },
   {
    "duration": 13,
    "start_time": "2022-10-27T05:23:38.741Z"
   },
   {
    "duration": 10,
    "start_time": "2022-10-27T05:23:55.269Z"
   },
   {
    "duration": 11,
    "start_time": "2022-10-27T05:24:00.108Z"
   },
   {
    "duration": 13,
    "start_time": "2022-10-27T05:24:06.526Z"
   },
   {
    "duration": 8,
    "start_time": "2022-10-27T05:25:09.748Z"
   },
   {
    "duration": 11,
    "start_time": "2022-10-27T05:26:03.436Z"
   },
   {
    "duration": 102,
    "start_time": "2022-10-27T05:27:10.051Z"
   },
   {
    "duration": 4,
    "start_time": "2022-10-27T05:27:40.811Z"
   },
   {
    "duration": 9,
    "start_time": "2022-10-27T05:28:09.762Z"
   },
   {
    "duration": 7,
    "start_time": "2022-10-27T05:28:15.315Z"
   },
   {
    "duration": 74,
    "start_time": "2022-10-27T05:29:14.250Z"
   },
   {
    "duration": 73,
    "start_time": "2022-10-27T05:29:22.107Z"
   },
   {
    "duration": 70,
    "start_time": "2022-10-27T05:29:26.018Z"
   },
   {
    "duration": 72,
    "start_time": "2022-10-27T05:29:36.457Z"
   },
   {
    "duration": 94,
    "start_time": "2022-10-27T05:29:40.185Z"
   },
   {
    "duration": 77,
    "start_time": "2022-10-27T05:30:45.866Z"
   },
   {
    "duration": 55,
    "start_time": "2022-10-27T05:30:56.469Z"
   },
   {
    "duration": 55,
    "start_time": "2022-10-27T05:31:04.002Z"
   },
   {
    "duration": 31,
    "start_time": "2022-10-27T05:31:40.353Z"
   },
   {
    "duration": 31,
    "start_time": "2022-10-27T05:31:57.345Z"
   },
   {
    "duration": 31,
    "start_time": "2022-10-27T05:32:18.300Z"
   },
   {
    "duration": 10,
    "start_time": "2022-10-27T05:32:28.345Z"
   },
   {
    "duration": 11,
    "start_time": "2022-10-27T05:33:12.240Z"
   },
   {
    "duration": 13,
    "start_time": "2022-10-27T05:33:47.072Z"
   },
   {
    "duration": 19,
    "start_time": "2022-10-27T05:34:29.195Z"
   },
   {
    "duration": 22,
    "start_time": "2022-10-27T05:35:02.699Z"
   },
   {
    "duration": 13,
    "start_time": "2022-10-27T05:35:34.167Z"
   },
   {
    "duration": 10,
    "start_time": "2022-10-27T05:35:49.759Z"
   },
   {
    "duration": 11,
    "start_time": "2022-10-27T05:36:08.423Z"
   },
   {
    "duration": 21,
    "start_time": "2022-10-27T05:36:50.382Z"
   },
   {
    "duration": 1300,
    "start_time": "2022-10-27T05:36:59.870Z"
   },
   {
    "duration": 25,
    "start_time": "2022-10-27T05:37:13.879Z"
   },
   {
    "duration": 15,
    "start_time": "2022-10-27T05:37:26.464Z"
   },
   {
    "duration": 11,
    "start_time": "2022-10-27T05:37:48.214Z"
   },
   {
    "duration": 10,
    "start_time": "2022-10-27T05:38:37.254Z"
   },
   {
    "duration": 15,
    "start_time": "2022-10-27T05:38:49.535Z"
   },
   {
    "duration": 13,
    "start_time": "2022-10-27T05:39:14.950Z"
   },
   {
    "duration": 15,
    "start_time": "2022-10-27T05:39:49.349Z"
   },
   {
    "duration": 22,
    "start_time": "2022-10-27T05:40:00.231Z"
   },
   {
    "duration": 3,
    "start_time": "2022-10-27T05:42:09.228Z"
   },
   {
    "duration": 13,
    "start_time": "2022-10-27T05:42:51.229Z"
   },
   {
    "duration": 10,
    "start_time": "2022-10-27T05:43:06.613Z"
   },
   {
    "duration": 29,
    "start_time": "2022-10-27T05:43:14.608Z"
   },
   {
    "duration": 22,
    "start_time": "2022-10-27T05:43:53.427Z"
   },
   {
    "duration": 18,
    "start_time": "2022-10-27T05:44:04.236Z"
   },
   {
    "duration": 751,
    "start_time": "2022-10-27T05:45:56.742Z"
   },
   {
    "duration": 232,
    "start_time": "2022-10-27T05:46:29.201Z"
   },
   {
    "duration": 206,
    "start_time": "2022-10-27T05:46:39.635Z"
   },
   {
    "duration": 86,
    "start_time": "2022-10-27T05:48:03.259Z"
   },
   {
    "duration": 15,
    "start_time": "2022-10-27T05:48:10.408Z"
   },
   {
    "duration": 13,
    "start_time": "2022-10-27T05:48:14.770Z"
   },
   {
    "duration": 11,
    "start_time": "2022-10-27T05:48:19.171Z"
   },
   {
    "duration": 14,
    "start_time": "2022-10-27T05:48:21.971Z"
   },
   {
    "duration": 780,
    "start_time": "2022-10-27T05:48:35.247Z"
   },
   {
    "duration": 4,
    "start_time": "2022-10-27T05:48:36.029Z"
   },
   {
    "duration": 21,
    "start_time": "2022-10-27T05:48:36.035Z"
   },
   {
    "duration": 6,
    "start_time": "2022-10-27T05:48:36.058Z"
   },
   {
    "duration": 233,
    "start_time": "2022-10-27T05:48:36.065Z"
   },
   {
    "duration": 22,
    "start_time": "2022-10-27T05:48:36.300Z"
   },
   {
    "duration": 183,
    "start_time": "2022-10-27T05:49:04.340Z"
   },
   {
    "duration": 1366,
    "start_time": "2022-10-27T05:49:20.867Z"
   },
   {
    "duration": 1277,
    "start_time": "2022-10-27T05:49:34.219Z"
   },
   {
    "duration": 21,
    "start_time": "2022-10-27T05:50:29.724Z"
   },
   {
    "duration": 28,
    "start_time": "2022-10-27T05:50:42.675Z"
   },
   {
    "duration": 42,
    "start_time": "2022-10-27T05:50:46.769Z"
   },
   {
    "duration": 7,
    "start_time": "2022-10-27T05:52:42.954Z"
   },
   {
    "duration": 15,
    "start_time": "2022-10-27T05:52:45.450Z"
   },
   {
    "duration": 53,
    "start_time": "2022-10-27T05:52:51.033Z"
   },
   {
    "duration": 766,
    "start_time": "2022-10-27T05:53:08.052Z"
   },
   {
    "duration": 4,
    "start_time": "2022-10-27T05:53:08.820Z"
   },
   {
    "duration": 16,
    "start_time": "2022-10-27T05:53:08.826Z"
   },
   {
    "duration": 7,
    "start_time": "2022-10-27T05:53:08.844Z"
   },
   {
    "duration": 87,
    "start_time": "2022-10-27T05:53:08.853Z"
   },
   {
    "duration": 16,
    "start_time": "2022-10-27T05:53:08.942Z"
   },
   {
    "duration": 56,
    "start_time": "2022-10-27T05:53:44.709Z"
   },
   {
    "duration": 35,
    "start_time": "2022-10-27T05:56:20.024Z"
   },
   {
    "duration": 53,
    "start_time": "2022-10-27T05:56:35.279Z"
   },
   {
    "duration": 168,
    "start_time": "2022-10-27T05:57:11.409Z"
   },
   {
    "duration": 15,
    "start_time": "2022-10-27T05:57:27.110Z"
   },
   {
    "duration": 373,
    "start_time": "2022-10-27T05:57:32.203Z"
   },
   {
    "duration": 529,
    "start_time": "2022-10-27T06:05:12.571Z"
   },
   {
    "duration": 449,
    "start_time": "2022-10-27T06:06:23.587Z"
   },
   {
    "duration": 389,
    "start_time": "2022-10-27T06:06:31.475Z"
   },
   {
    "duration": 354,
    "start_time": "2022-10-27T06:06:55.300Z"
   },
   {
    "duration": 351,
    "start_time": "2022-10-27T06:07:15.627Z"
   },
   {
    "duration": 717,
    "start_time": "2022-10-27T06:07:31.319Z"
   },
   {
    "duration": 6,
    "start_time": "2022-10-27T06:07:32.038Z"
   },
   {
    "duration": 15,
    "start_time": "2022-10-27T06:07:32.046Z"
   },
   {
    "duration": 28,
    "start_time": "2022-10-27T06:07:32.063Z"
   },
   {
    "duration": 424,
    "start_time": "2022-10-27T06:07:32.094Z"
   },
   {
    "duration": 20,
    "start_time": "2022-10-27T06:07:32.521Z"
   },
   {
    "duration": 255,
    "start_time": "2022-10-27T06:09:28.267Z"
   },
   {
    "duration": 130,
    "start_time": "2022-10-27T06:10:14.318Z"
   },
   {
    "duration": 17,
    "start_time": "2022-10-27T06:10:27.072Z"
   },
   {
    "duration": 1074,
    "start_time": "2022-10-27T06:10:41.694Z"
   },
   {
    "duration": 18,
    "start_time": "2022-10-27T06:11:33.118Z"
   },
   {
    "duration": 30,
    "start_time": "2022-10-27T06:12:49.630Z"
   },
   {
    "duration": 378,
    "start_time": "2022-10-27T06:12:56.528Z"
   },
   {
    "duration": 43,
    "start_time": "2022-10-27T06:13:19.134Z"
   },
   {
    "duration": 296,
    "start_time": "2022-10-27T06:13:26.933Z"
   },
   {
    "duration": 32,
    "start_time": "2022-10-27T06:13:50.478Z"
   },
   {
    "duration": 30,
    "start_time": "2022-10-27T06:13:59.813Z"
   },
   {
    "duration": 46,
    "start_time": "2022-10-27T06:14:05.045Z"
   },
   {
    "duration": 28,
    "start_time": "2022-10-27T06:14:09.309Z"
   },
   {
    "duration": 30,
    "start_time": "2022-10-27T06:14:54.797Z"
   },
   {
    "duration": 422,
    "start_time": "2022-10-27T06:15:07.557Z"
   },
   {
    "duration": 214,
    "start_time": "2022-10-27T06:15:31.044Z"
   },
   {
    "duration": 241,
    "start_time": "2022-10-27T06:15:59.933Z"
   },
   {
    "duration": 261,
    "start_time": "2022-10-27T06:16:06.348Z"
   },
   {
    "duration": 205,
    "start_time": "2022-10-27T06:17:51.444Z"
   },
   {
    "duration": 7,
    "start_time": "2022-10-27T06:26:15.624Z"
   },
   {
    "duration": 739,
    "start_time": "2022-10-27T06:28:14.495Z"
   },
   {
    "duration": 3,
    "start_time": "2022-10-27T06:28:15.236Z"
   },
   {
    "duration": 18,
    "start_time": "2022-10-27T06:28:15.241Z"
   },
   {
    "duration": 5,
    "start_time": "2022-10-27T06:28:15.261Z"
   },
   {
    "duration": 24,
    "start_time": "2022-10-27T06:28:15.267Z"
   },
   {
    "duration": 223,
    "start_time": "2022-10-27T06:28:15.293Z"
   },
   {
    "duration": 17,
    "start_time": "2022-10-27T06:28:15.517Z"
   },
   {
    "duration": 356,
    "start_time": "2022-10-27T06:33:54.465Z"
   },
   {
    "duration": 254,
    "start_time": "2022-10-27T06:35:15.332Z"
   },
   {
    "duration": 19,
    "start_time": "2022-10-27T06:37:42.409Z"
   },
   {
    "duration": 25,
    "start_time": "2022-10-27T06:38:21.382Z"
   },
   {
    "duration": 18,
    "start_time": "2022-10-27T06:39:17.623Z"
   },
   {
    "duration": 24,
    "start_time": "2022-10-27T06:39:36.615Z"
   },
   {
    "duration": 72,
    "start_time": "2022-10-27T06:39:50.070Z"
   },
   {
    "duration": 21,
    "start_time": "2022-10-27T06:40:02.409Z"
   },
   {
    "duration": 262,
    "start_time": "2022-10-27T06:43:08.616Z"
   },
   {
    "duration": 193,
    "start_time": "2022-10-27T06:43:28.477Z"
   },
   {
    "duration": 387,
    "start_time": "2022-10-27T06:44:16.051Z"
   },
   {
    "duration": 403,
    "start_time": "2022-10-27T06:44:55.318Z"
   },
   {
    "duration": 430,
    "start_time": "2022-10-27T06:45:01.212Z"
   },
   {
    "duration": 100,
    "start_time": "2022-10-27T06:46:10.808Z"
   },
   {
    "duration": 21,
    "start_time": "2022-10-27T06:47:00.836Z"
   },
   {
    "duration": 80,
    "start_time": "2022-10-27T06:47:12.882Z"
   },
   {
    "duration": 20,
    "start_time": "2022-10-27T06:47:28.362Z"
   },
   {
    "duration": 412,
    "start_time": "2022-10-27T06:47:57.258Z"
   },
   {
    "duration": 66,
    "start_time": "2022-10-27T06:48:40.474Z"
   },
   {
    "duration": 40,
    "start_time": "2022-10-27T06:48:54.626Z"
   },
   {
    "duration": 448,
    "start_time": "2022-10-27T06:49:54.793Z"
   },
   {
    "duration": 51,
    "start_time": "2022-10-27T06:50:54.785Z"
   },
   {
    "duration": 51,
    "start_time": "2022-10-27T06:51:03.746Z"
   },
   {
    "duration": 58,
    "start_time": "2022-10-27T06:51:16.215Z"
   },
   {
    "duration": 392,
    "start_time": "2022-10-27T06:53:12.361Z"
   },
   {
    "duration": 406,
    "start_time": "2022-10-27T06:53:38.031Z"
   },
   {
    "duration": 454,
    "start_time": "2022-10-27T07:08:07.923Z"
   },
   {
    "duration": 393,
    "start_time": "2022-10-27T07:16:58.717Z"
   },
   {
    "duration": 369,
    "start_time": "2022-10-27T07:17:07.445Z"
   },
   {
    "duration": 408,
    "start_time": "2022-10-27T07:17:15.574Z"
   },
   {
    "duration": 440,
    "start_time": "2022-10-27T07:17:21.671Z"
   },
   {
    "duration": 390,
    "start_time": "2022-10-27T07:18:43.276Z"
   },
   {
    "duration": 430,
    "start_time": "2022-10-27T07:18:56.400Z"
   },
   {
    "duration": 349,
    "start_time": "2022-10-27T07:19:03.220Z"
   },
   {
    "duration": 75,
    "start_time": "2022-10-27T07:26:07.049Z"
   },
   {
    "duration": 99,
    "start_time": "2022-10-27T07:26:19.248Z"
   },
   {
    "duration": 71,
    "start_time": "2022-10-27T07:26:33.632Z"
   },
   {
    "duration": 386,
    "start_time": "2022-10-27T07:26:43.648Z"
   },
   {
    "duration": 400,
    "start_time": "2022-10-27T07:26:46.401Z"
   },
   {
    "duration": 7,
    "start_time": "2022-10-27T08:27:06.123Z"
   },
   {
    "duration": 26,
    "start_time": "2022-10-27T08:27:52.918Z"
   },
   {
    "duration": 26,
    "start_time": "2022-10-27T08:28:10.341Z"
   },
   {
    "duration": 18,
    "start_time": "2022-10-27T08:28:24.317Z"
   },
   {
    "duration": 12,
    "start_time": "2022-10-27T08:28:34.236Z"
   },
   {
    "duration": 93,
    "start_time": "2022-10-27T08:29:25.069Z"
   },
   {
    "duration": 76,
    "start_time": "2022-10-27T08:29:51.068Z"
   },
   {
    "duration": 23,
    "start_time": "2022-10-27T08:30:26.920Z"
   },
   {
    "duration": 30,
    "start_time": "2022-10-27T08:30:54.520Z"
   },
   {
    "duration": 12,
    "start_time": "2022-10-27T08:31:08.124Z"
   },
   {
    "duration": 275,
    "start_time": "2022-10-27T08:31:13.721Z"
   },
   {
    "duration": 26,
    "start_time": "2022-10-27T08:31:40.027Z"
   },
   {
    "duration": 8,
    "start_time": "2022-10-27T08:32:21.563Z"
   },
   {
    "duration": 12,
    "start_time": "2022-10-27T08:32:32.130Z"
   },
   {
    "duration": 938,
    "start_time": "2022-10-27T08:35:09.716Z"
   },
   {
    "duration": 3,
    "start_time": "2022-10-27T08:35:10.656Z"
   },
   {
    "duration": 13,
    "start_time": "2022-10-27T08:35:10.661Z"
   },
   {
    "duration": 7,
    "start_time": "2022-10-27T08:35:10.696Z"
   },
   {
    "duration": 8,
    "start_time": "2022-10-27T08:35:10.705Z"
   },
   {
    "duration": 243,
    "start_time": "2022-10-27T08:35:10.718Z"
   },
   {
    "duration": 454,
    "start_time": "2022-10-27T08:35:10.963Z"
   },
   {
    "duration": 9,
    "start_time": "2022-10-27T08:35:11.419Z"
   },
   {
    "duration": 13,
    "start_time": "2022-10-27T08:35:28.545Z"
   },
   {
    "duration": 12,
    "start_time": "2022-10-27T08:36:02.312Z"
   },
   {
    "duration": 23,
    "start_time": "2022-10-27T08:36:11.015Z"
   },
   {
    "duration": 13,
    "start_time": "2022-10-27T08:36:56.945Z"
   },
   {
    "duration": 11,
    "start_time": "2022-10-27T08:37:17.168Z"
   },
   {
    "duration": 31,
    "start_time": "2022-10-27T08:38:44.465Z"
   },
   {
    "duration": 93,
    "start_time": "2022-10-27T08:39:10.257Z"
   },
   {
    "duration": 29,
    "start_time": "2022-10-27T08:39:16.927Z"
   },
   {
    "duration": 27,
    "start_time": "2022-10-27T08:39:59.137Z"
   },
   {
    "duration": 11,
    "start_time": "2022-10-27T08:40:29.168Z"
   },
   {
    "duration": 27,
    "start_time": "2022-10-27T08:40:35.031Z"
   },
   {
    "duration": 821,
    "start_time": "2022-10-27T08:40:44.008Z"
   },
   {
    "duration": 3,
    "start_time": "2022-10-27T08:40:44.831Z"
   },
   {
    "duration": 14,
    "start_time": "2022-10-27T08:40:44.836Z"
   },
   {
    "duration": 5,
    "start_time": "2022-10-27T08:40:44.852Z"
   },
   {
    "duration": 37,
    "start_time": "2022-10-27T08:40:44.860Z"
   },
   {
    "duration": 241,
    "start_time": "2022-10-27T08:40:44.904Z"
   },
   {
    "duration": 463,
    "start_time": "2022-10-27T08:40:45.147Z"
   },
   {
    "duration": 27,
    "start_time": "2022-10-27T08:40:45.616Z"
   },
   {
    "duration": 266,
    "start_time": "2022-10-27T08:44:33.477Z"
   },
   {
    "duration": 83,
    "start_time": "2022-10-27T08:44:55.691Z"
   },
   {
    "duration": 18,
    "start_time": "2022-10-27T08:45:12.115Z"
   },
   {
    "duration": 20,
    "start_time": "2022-10-27T08:45:30.601Z"
   },
   {
    "duration": 28,
    "start_time": "2022-10-27T08:45:54.449Z"
   },
   {
    "duration": 324,
    "start_time": "2022-10-27T08:46:43.059Z"
   },
   {
    "duration": 277,
    "start_time": "2022-10-27T08:46:55.215Z"
   },
   {
    "duration": 316,
    "start_time": "2022-10-27T08:47:04.987Z"
   },
   {
    "duration": 307,
    "start_time": "2022-10-27T08:47:38.803Z"
   },
   {
    "duration": 294,
    "start_time": "2022-10-27T08:48:15.474Z"
   },
   {
    "duration": 307,
    "start_time": "2022-10-27T08:48:25.339Z"
   },
   {
    "duration": 4,
    "start_time": "2022-10-27T13:18:36.964Z"
   },
   {
    "duration": 832,
    "start_time": "2022-10-28T02:22:45.527Z"
   },
   {
    "duration": 4,
    "start_time": "2022-10-28T02:22:46.361Z"
   },
   {
    "duration": 13,
    "start_time": "2022-10-28T02:22:46.366Z"
   },
   {
    "duration": 4,
    "start_time": "2022-10-28T02:22:46.381Z"
   },
   {
    "duration": 5,
    "start_time": "2022-10-28T02:22:46.387Z"
   },
   {
    "duration": 208,
    "start_time": "2022-10-28T02:22:46.394Z"
   },
   {
    "duration": 393,
    "start_time": "2022-10-28T02:22:46.604Z"
   },
   {
    "duration": 280,
    "start_time": "2022-10-28T02:22:46.999Z"
   },
   {
    "duration": 223,
    "start_time": "2022-10-28T02:32:44.022Z"
   },
   {
    "duration": 176,
    "start_time": "2022-10-28T02:40:14.771Z"
   },
   {
    "duration": 73,
    "start_time": "2022-10-28T02:40:25.364Z"
   },
   {
    "duration": 114,
    "start_time": "2022-10-28T02:40:28.668Z"
   },
   {
    "duration": 118,
    "start_time": "2022-10-28T02:53:03.502Z"
   },
   {
    "duration": 158,
    "start_time": "2022-10-28T02:53:59.444Z"
   },
   {
    "duration": 77,
    "start_time": "2022-10-28T03:00:59.185Z"
   },
   {
    "duration": 56,
    "start_time": "2022-10-28T03:01:14.314Z"
   },
   {
    "duration": 244,
    "start_time": "2022-10-28T03:01:38.370Z"
   },
   {
    "duration": 140,
    "start_time": "2022-10-28T03:01:48.618Z"
   },
   {
    "duration": 142,
    "start_time": "2022-10-28T03:02:03.794Z"
   },
   {
    "duration": 160,
    "start_time": "2022-10-28T03:02:11.897Z"
   },
   {
    "duration": 220,
    "start_time": "2022-10-28T03:03:12.657Z"
   },
   {
    "duration": 158,
    "start_time": "2022-10-28T03:03:24.505Z"
   },
   {
    "duration": 213,
    "start_time": "2022-10-28T03:03:47.466Z"
   },
   {
    "duration": 172,
    "start_time": "2022-10-28T03:03:56.866Z"
   },
   {
    "duration": 150,
    "start_time": "2022-10-28T03:04:13.522Z"
   },
   {
    "duration": 156,
    "start_time": "2022-10-28T03:04:23.825Z"
   },
   {
    "duration": 269,
    "start_time": "2022-10-28T03:09:27.783Z"
   },
   {
    "duration": 729,
    "start_time": "2022-10-28T03:09:34.440Z"
   },
   {
    "duration": 3,
    "start_time": "2022-10-28T03:09:35.172Z"
   },
   {
    "duration": 28,
    "start_time": "2022-10-28T03:09:35.177Z"
   },
   {
    "duration": 8,
    "start_time": "2022-10-28T03:09:35.207Z"
   },
   {
    "duration": 14,
    "start_time": "2022-10-28T03:09:35.217Z"
   },
   {
    "duration": 249,
    "start_time": "2022-10-28T03:09:35.233Z"
   },
   {
    "duration": 452,
    "start_time": "2022-10-28T03:09:35.484Z"
   },
   {
    "duration": 264,
    "start_time": "2022-10-28T03:09:35.939Z"
   },
   {
    "duration": 307,
    "start_time": "2022-10-28T03:09:36.206Z"
   },
   {
    "duration": 157,
    "start_time": "2022-10-28T03:10:49.429Z"
   },
   {
    "duration": 239,
    "start_time": "2022-10-28T03:10:59.325Z"
   },
   {
    "duration": 276,
    "start_time": "2022-10-28T03:11:16.918Z"
   },
   {
    "duration": 250,
    "start_time": "2022-10-28T03:11:23.398Z"
   },
   {
    "duration": 47,
    "start_time": "2022-10-28T03:11:42.661Z"
   },
   {
    "duration": 46,
    "start_time": "2022-10-28T03:11:46.204Z"
   },
   {
    "duration": 52,
    "start_time": "2022-10-28T03:11:50.941Z"
   },
   {
    "duration": 199,
    "start_time": "2022-10-28T03:11:55.661Z"
   },
   {
    "duration": 153,
    "start_time": "2022-10-28T03:12:07.917Z"
   },
   {
    "duration": 160,
    "start_time": "2022-10-28T03:12:22.046Z"
   },
   {
    "duration": 45,
    "start_time": "2022-10-28T03:12:26.660Z"
   },
   {
    "duration": 154,
    "start_time": "2022-10-28T03:12:34.868Z"
   },
   {
    "duration": 151,
    "start_time": "2022-10-28T03:12:46.660Z"
   },
   {
    "duration": 49,
    "start_time": "2022-10-28T03:12:56.716Z"
   },
   {
    "duration": 45,
    "start_time": "2022-10-28T03:13:02.819Z"
   },
   {
    "duration": 47,
    "start_time": "2022-10-28T03:13:16.828Z"
   },
   {
    "duration": 46,
    "start_time": "2022-10-28T03:13:21.763Z"
   },
   {
    "duration": 156,
    "start_time": "2022-10-28T03:13:29.091Z"
   },
   {
    "duration": 835,
    "start_time": "2022-10-28T03:22:34.999Z"
   },
   {
    "duration": 720,
    "start_time": "2022-10-28T03:22:47.231Z"
   },
   {
    "duration": 783,
    "start_time": "2022-10-28T03:22:53.023Z"
   },
   {
    "duration": 42,
    "start_time": "2022-10-28T03:24:08.157Z"
   },
   {
    "duration": 414,
    "start_time": "2022-10-28T03:24:15.919Z"
   },
   {
    "duration": 424,
    "start_time": "2022-10-28T03:26:42.494Z"
   },
   {
    "duration": 762,
    "start_time": "2022-10-28T03:27:40.077Z"
   },
   {
    "duration": 177,
    "start_time": "2022-10-28T03:28:46.917Z"
   },
   {
    "duration": 10,
    "start_time": "2022-10-28T03:29:07.301Z"
   },
   {
    "duration": 24,
    "start_time": "2022-10-28T03:29:20.420Z"
   },
   {
    "duration": 795,
    "start_time": "2022-10-28T03:29:28.100Z"
   },
   {
    "duration": 29,
    "start_time": "2022-10-28T03:29:47.797Z"
   },
   {
    "duration": 193,
    "start_time": "2022-10-28T03:31:00.693Z"
   },
   {
    "duration": 194,
    "start_time": "2022-10-28T03:31:24.707Z"
   },
   {
    "duration": 226,
    "start_time": "2022-10-28T03:31:33.683Z"
   },
   {
    "duration": 185,
    "start_time": "2022-10-28T03:32:19.355Z"
   },
   {
    "duration": 197,
    "start_time": "2022-10-28T03:32:58.706Z"
   },
   {
    "duration": 43,
    "start_time": "2022-10-28T03:42:06.758Z"
   },
   {
    "duration": 172,
    "start_time": "2022-10-28T03:43:20.686Z"
   },
   {
    "duration": 181,
    "start_time": "2022-10-28T03:43:48.694Z"
   },
   {
    "duration": 772,
    "start_time": "2022-10-28T03:44:00.174Z"
   },
   {
    "duration": 8,
    "start_time": "2022-10-28T03:44:30.341Z"
   },
   {
    "duration": 5,
    "start_time": "2022-10-28T03:44:34.732Z"
   },
   {
    "duration": 690,
    "start_time": "2022-10-28T03:52:00.002Z"
   },
   {
    "duration": 3,
    "start_time": "2022-10-28T03:52:00.694Z"
   },
   {
    "duration": 37,
    "start_time": "2022-10-28T03:52:00.699Z"
   },
   {
    "duration": 40,
    "start_time": "2022-10-28T03:52:00.738Z"
   },
   {
    "duration": 37,
    "start_time": "2022-10-28T03:52:00.780Z"
   },
   {
    "duration": 37,
    "start_time": "2022-10-28T03:52:00.819Z"
   },
   {
    "duration": 222,
    "start_time": "2022-10-28T03:52:00.857Z"
   },
   {
    "duration": 424,
    "start_time": "2022-10-28T03:52:01.081Z"
   },
   {
    "duration": 255,
    "start_time": "2022-10-28T03:52:01.507Z"
   },
   {
    "duration": 229,
    "start_time": "2022-10-28T03:52:01.764Z"
   },
   {
    "duration": 200,
    "start_time": "2022-10-28T03:52:01.995Z"
   },
   {
    "duration": 5,
    "start_time": "2022-10-28T03:52:02.197Z"
   },
   {
    "duration": 207,
    "start_time": "2022-10-28T03:52:40.886Z"
   },
   {
    "duration": 172,
    "start_time": "2022-10-28T03:53:16.838Z"
   },
   {
    "duration": 5,
    "start_time": "2022-10-28T03:53:53.101Z"
   },
   {
    "duration": 12,
    "start_time": "2022-10-28T03:55:30.427Z"
   },
   {
    "duration": 5,
    "start_time": "2022-10-28T03:55:54.828Z"
   },
   {
    "duration": 656,
    "start_time": "2022-10-28T03:56:12.636Z"
   },
   {
    "duration": 11,
    "start_time": "2022-10-28T03:56:46.108Z"
   },
   {
    "duration": 6,
    "start_time": "2022-10-28T03:56:54.708Z"
   },
   {
    "duration": 7,
    "start_time": "2022-10-28T03:56:59.443Z"
   },
   {
    "duration": 4,
    "start_time": "2022-10-28T03:58:23.356Z"
   },
   {
    "duration": 641,
    "start_time": "2022-10-28T03:58:28.331Z"
   },
   {
    "duration": 3,
    "start_time": "2022-10-28T03:58:28.973Z"
   },
   {
    "duration": 14,
    "start_time": "2022-10-28T03:58:28.978Z"
   },
   {
    "duration": 5,
    "start_time": "2022-10-28T03:58:28.994Z"
   },
   {
    "duration": 14,
    "start_time": "2022-10-28T03:58:29.000Z"
   },
   {
    "duration": 6,
    "start_time": "2022-10-28T03:58:29.016Z"
   },
   {
    "duration": 214,
    "start_time": "2022-10-28T03:58:29.024Z"
   },
   {
    "duration": 411,
    "start_time": "2022-10-28T03:58:29.239Z"
   },
   {
    "duration": 262,
    "start_time": "2022-10-28T03:58:29.652Z"
   },
   {
    "duration": 233,
    "start_time": "2022-10-28T03:58:29.916Z"
   },
   {
    "duration": 205,
    "start_time": "2022-10-28T03:58:30.151Z"
   },
   {
    "duration": 5,
    "start_time": "2022-10-28T03:58:30.358Z"
   },
   {
    "duration": 187,
    "start_time": "2022-10-28T03:58:44.672Z"
   },
   {
    "duration": 53,
    "start_time": "2022-10-28T04:28:17.226Z"
   },
   {
    "duration": 184,
    "start_time": "2022-10-28T04:38:06.605Z"
   },
   {
    "duration": 192,
    "start_time": "2022-10-28T04:40:58.548Z"
   },
   {
    "duration": 184,
    "start_time": "2022-10-28T04:42:03.625Z"
   },
   {
    "duration": 73,
    "start_time": "2022-10-28T04:42:37.778Z"
   },
   {
    "duration": 10,
    "start_time": "2022-10-28T04:42:42.082Z"
   },
   {
    "duration": 9,
    "start_time": "2022-10-28T04:42:48.626Z"
   },
   {
    "duration": 11,
    "start_time": "2022-10-28T04:42:58.226Z"
   },
   {
    "duration": 191,
    "start_time": "2022-10-28T04:43:01.506Z"
   },
   {
    "duration": 176,
    "start_time": "2022-10-28T04:43:38.089Z"
   },
   {
    "duration": 195,
    "start_time": "2022-10-28T04:44:12.259Z"
   },
   {
    "duration": 42,
    "start_time": "2022-10-28T04:44:57.833Z"
   },
   {
    "duration": 3,
    "start_time": "2022-10-28T04:45:53.651Z"
   },
   {
    "duration": 180,
    "start_time": "2022-10-28T04:48:33.720Z"
   },
   {
    "duration": 185,
    "start_time": "2022-10-28T04:48:59.567Z"
   },
   {
    "duration": 114,
    "start_time": "2022-10-28T05:08:43.142Z"
   },
   {
    "duration": 2,
    "start_time": "2022-10-28T05:10:14.750Z"
   },
   {
    "duration": 239,
    "start_time": "2022-10-28T05:11:14.301Z"
   },
   {
    "duration": 185,
    "start_time": "2022-10-28T05:11:47.509Z"
   },
   {
    "duration": 737,
    "start_time": "2022-10-28T05:13:16.971Z"
   },
   {
    "duration": 6,
    "start_time": "2022-10-28T05:13:17.710Z"
   },
   {
    "duration": 75,
    "start_time": "2022-10-28T05:13:17.718Z"
   },
   {
    "duration": 7,
    "start_time": "2022-10-28T05:13:17.795Z"
   },
   {
    "duration": 19,
    "start_time": "2022-10-28T05:13:17.804Z"
   },
   {
    "duration": 18,
    "start_time": "2022-10-28T05:13:17.824Z"
   },
   {
    "duration": 213,
    "start_time": "2022-10-28T05:13:17.843Z"
   },
   {
    "duration": 462,
    "start_time": "2022-10-28T05:13:18.058Z"
   },
   {
    "duration": 267,
    "start_time": "2022-10-28T05:13:18.522Z"
   },
   {
    "duration": 226,
    "start_time": "2022-10-28T05:13:18.791Z"
   },
   {
    "duration": 77,
    "start_time": "2022-10-28T05:13:19.018Z"
   },
   {
    "duration": 0,
    "start_time": "2022-10-28T05:13:19.096Z"
   },
   {
    "duration": 0,
    "start_time": "2022-10-28T05:13:19.097Z"
   },
   {
    "duration": 0,
    "start_time": "2022-10-28T05:13:19.099Z"
   },
   {
    "duration": 0,
    "start_time": "2022-10-28T05:13:19.100Z"
   },
   {
    "duration": 0,
    "start_time": "2022-10-28T05:13:19.101Z"
   },
   {
    "duration": 0,
    "start_time": "2022-10-28T05:13:19.102Z"
   },
   {
    "duration": 0,
    "start_time": "2022-10-28T05:13:19.103Z"
   },
   {
    "duration": 196,
    "start_time": "2022-10-28T05:13:43.283Z"
   },
   {
    "duration": 733,
    "start_time": "2022-10-28T05:13:52.155Z"
   },
   {
    "duration": 4,
    "start_time": "2022-10-28T05:13:52.890Z"
   },
   {
    "duration": 14,
    "start_time": "2022-10-28T05:13:52.895Z"
   },
   {
    "duration": 6,
    "start_time": "2022-10-28T05:13:52.911Z"
   },
   {
    "duration": 13,
    "start_time": "2022-10-28T05:13:52.918Z"
   },
   {
    "duration": 7,
    "start_time": "2022-10-28T05:13:52.933Z"
   },
   {
    "duration": 253,
    "start_time": "2022-10-28T05:13:52.942Z"
   },
   {
    "duration": 440,
    "start_time": "2022-10-28T05:13:53.197Z"
   },
   {
    "duration": 267,
    "start_time": "2022-10-28T05:13:53.639Z"
   },
   {
    "duration": 239,
    "start_time": "2022-10-28T05:13:53.909Z"
   },
   {
    "duration": 212,
    "start_time": "2022-10-28T05:13:54.150Z"
   },
   {
    "duration": 195,
    "start_time": "2022-10-28T05:13:54.363Z"
   },
   {
    "duration": 235,
    "start_time": "2022-10-28T05:13:54.560Z"
   },
   {
    "duration": 191,
    "start_time": "2022-10-28T05:13:54.797Z"
   },
   {
    "duration": 204,
    "start_time": "2022-10-28T05:13:54.990Z"
   },
   {
    "duration": 227,
    "start_time": "2022-10-28T05:13:55.197Z"
   },
   {
    "duration": 187,
    "start_time": "2022-10-28T05:13:55.425Z"
   },
   {
    "duration": 186,
    "start_time": "2022-10-28T05:13:55.614Z"
   },
   {
    "duration": 175,
    "start_time": "2022-10-28T05:14:21.115Z"
   },
   {
    "duration": 230,
    "start_time": "2022-10-28T05:26:15.374Z"
   },
   {
    "duration": 251,
    "start_time": "2022-10-28T05:26:39.518Z"
   },
   {
    "duration": 199,
    "start_time": "2022-10-28T05:28:05.365Z"
   },
   {
    "duration": 220,
    "start_time": "2022-10-28T05:28:10.253Z"
   },
   {
    "duration": 675,
    "start_time": "2022-10-28T05:29:16.714Z"
   },
   {
    "duration": 3,
    "start_time": "2022-10-28T05:29:17.392Z"
   },
   {
    "duration": 13,
    "start_time": "2022-10-28T05:29:17.397Z"
   },
   {
    "duration": 5,
    "start_time": "2022-10-28T05:29:17.412Z"
   },
   {
    "duration": 13,
    "start_time": "2022-10-28T05:29:17.418Z"
   },
   {
    "duration": 7,
    "start_time": "2022-10-28T05:29:17.432Z"
   },
   {
    "duration": 237,
    "start_time": "2022-10-28T05:29:17.441Z"
   },
   {
    "duration": 417,
    "start_time": "2022-10-28T05:29:17.680Z"
   },
   {
    "duration": 256,
    "start_time": "2022-10-28T05:29:18.101Z"
   },
   {
    "duration": 213,
    "start_time": "2022-10-28T05:29:18.359Z"
   },
   {
    "duration": 206,
    "start_time": "2022-10-28T05:29:18.576Z"
   },
   {
    "duration": 208,
    "start_time": "2022-10-28T05:29:18.784Z"
   },
   {
    "duration": 202,
    "start_time": "2022-10-28T05:29:18.994Z"
   },
   {
    "duration": 194,
    "start_time": "2022-10-28T05:29:19.198Z"
   },
   {
    "duration": 209,
    "start_time": "2022-10-28T05:29:19.394Z"
   },
   {
    "duration": 215,
    "start_time": "2022-10-28T05:29:19.605Z"
   },
   {
    "duration": 205,
    "start_time": "2022-10-28T05:29:19.822Z"
   },
   {
    "duration": 185,
    "start_time": "2022-10-28T05:29:20.028Z"
   },
   {
    "duration": 203,
    "start_time": "2022-10-28T05:29:20.214Z"
   },
   {
    "duration": 209,
    "start_time": "2022-10-28T05:29:20.418Z"
   },
   {
    "duration": 264,
    "start_time": "2022-10-28T05:29:20.628Z"
   },
   {
    "duration": 193,
    "start_time": "2022-10-28T05:29:20.893Z"
   },
   {
    "duration": 203,
    "start_time": "2022-10-28T05:33:48.426Z"
   },
   {
    "duration": 164,
    "start_time": "2022-10-28T05:35:10.699Z"
   },
   {
    "duration": 158,
    "start_time": "2022-10-28T05:35:22.130Z"
   },
   {
    "duration": 3,
    "start_time": "2022-10-28T05:36:47.970Z"
   },
   {
    "duration": 9,
    "start_time": "2022-10-28T05:55:20.200Z"
   },
   {
    "duration": 13,
    "start_time": "2022-10-28T05:55:27.480Z"
   },
   {
    "duration": 24,
    "start_time": "2022-10-28T05:55:50.504Z"
   },
   {
    "duration": 19,
    "start_time": "2022-10-28T05:56:22.272Z"
   },
   {
    "duration": 15,
    "start_time": "2022-10-28T05:56:28.928Z"
   },
   {
    "duration": 22,
    "start_time": "2022-10-28T05:58:07.959Z"
   },
   {
    "duration": 142,
    "start_time": "2022-10-28T05:59:12.823Z"
   },
   {
    "duration": 787,
    "start_time": "2022-10-28T05:59:46.792Z"
   },
   {
    "duration": 16,
    "start_time": "2022-10-28T06:00:01.814Z"
   },
   {
    "duration": 21,
    "start_time": "2022-10-28T06:00:52.271Z"
   },
   {
    "duration": 1186,
    "start_time": "2022-10-28T06:01:49.813Z"
   },
   {
    "duration": 3,
    "start_time": "2022-10-28T06:01:51.001Z"
   },
   {
    "duration": 15,
    "start_time": "2022-10-28T06:01:51.006Z"
   },
   {
    "duration": 5,
    "start_time": "2022-10-28T06:01:51.023Z"
   },
   {
    "duration": 17,
    "start_time": "2022-10-28T06:01:51.030Z"
   },
   {
    "duration": 11,
    "start_time": "2022-10-28T06:01:51.048Z"
   },
   {
    "duration": 230,
    "start_time": "2022-10-28T06:01:51.060Z"
   },
   {
    "duration": 432,
    "start_time": "2022-10-28T06:01:51.292Z"
   },
   {
    "duration": 269,
    "start_time": "2022-10-28T06:01:51.726Z"
   },
   {
    "duration": 189,
    "start_time": "2022-10-28T06:01:51.998Z"
   },
   {
    "duration": 220,
    "start_time": "2022-10-28T06:01:52.189Z"
   },
   {
    "duration": 229,
    "start_time": "2022-10-28T06:01:52.411Z"
   },
   {
    "duration": 257,
    "start_time": "2022-10-28T06:01:52.642Z"
   },
   {
    "duration": 277,
    "start_time": "2022-10-28T06:01:52.901Z"
   },
   {
    "duration": 214,
    "start_time": "2022-10-28T06:01:53.181Z"
   },
   {
    "duration": 216,
    "start_time": "2022-10-28T06:01:53.396Z"
   },
   {
    "duration": 229,
    "start_time": "2022-10-28T06:01:53.614Z"
   },
   {
    "duration": 215,
    "start_time": "2022-10-28T06:01:53.845Z"
   },
   {
    "duration": 244,
    "start_time": "2022-10-28T06:01:54.061Z"
   },
   {
    "duration": 212,
    "start_time": "2022-10-28T06:01:54.306Z"
   },
   {
    "duration": 229,
    "start_time": "2022-10-28T06:01:54.519Z"
   },
   {
    "duration": 222,
    "start_time": "2022-10-28T06:01:54.750Z"
   },
   {
    "duration": 196,
    "start_time": "2022-10-28T06:01:54.973Z"
   },
   {
    "duration": 229,
    "start_time": "2022-10-28T06:01:55.171Z"
   },
   {
    "duration": 121,
    "start_time": "2022-10-28T06:01:55.401Z"
   },
   {
    "duration": 23,
    "start_time": "2022-10-28T06:02:20.051Z"
   },
   {
    "duration": 137,
    "start_time": "2022-10-28T06:03:24.058Z"
   },
   {
    "duration": 162,
    "start_time": "2022-10-28T06:03:36.074Z"
   },
   {
    "duration": 149,
    "start_time": "2022-10-28T06:04:36.666Z"
   },
   {
    "duration": 44,
    "start_time": "2022-10-28T06:05:48.697Z"
   },
   {
    "duration": 216,
    "start_time": "2022-10-28T06:05:59.097Z"
   },
   {
    "duration": 187,
    "start_time": "2022-10-28T06:06:14.089Z"
   },
   {
    "duration": 217,
    "start_time": "2022-10-28T06:06:46.456Z"
   },
   {
    "duration": 203,
    "start_time": "2022-10-28T06:11:55.795Z"
   },
   {
    "duration": 65,
    "start_time": "2022-10-28T06:17:24.957Z"
   },
   {
    "duration": 23,
    "start_time": "2022-10-28T06:52:34.147Z"
   },
   {
    "duration": 5,
    "start_time": "2022-10-28T06:54:19.219Z"
   },
   {
    "duration": 7,
    "start_time": "2022-10-28T06:54:24.314Z"
   },
   {
    "duration": 10,
    "start_time": "2022-10-28T06:55:44.106Z"
   },
   {
    "duration": 9,
    "start_time": "2022-10-28T06:56:18.592Z"
   },
   {
    "duration": 10,
    "start_time": "2022-10-28T06:56:25.576Z"
   },
   {
    "duration": 9,
    "start_time": "2022-10-28T06:56:36.311Z"
   },
   {
    "duration": 8,
    "start_time": "2022-10-28T06:56:39.728Z"
   },
   {
    "duration": 12,
    "start_time": "2022-10-28T06:57:08.688Z"
   },
   {
    "duration": 11,
    "start_time": "2022-10-28T06:57:15.256Z"
   },
   {
    "duration": 123,
    "start_time": "2022-10-28T06:57:43.832Z"
   },
   {
    "duration": 7,
    "start_time": "2022-10-28T06:57:58.839Z"
   },
   {
    "duration": 7,
    "start_time": "2022-10-28T06:58:01.191Z"
   },
   {
    "duration": 3,
    "start_time": "2022-10-28T07:00:31.960Z"
   },
   {
    "duration": 18,
    "start_time": "2022-10-28T07:03:10.888Z"
   },
   {
    "duration": 248,
    "start_time": "2022-10-28T07:03:39.817Z"
   },
   {
    "duration": 240,
    "start_time": "2022-10-28T07:04:33.440Z"
   },
   {
    "duration": 16,
    "start_time": "2022-10-28T07:05:02.350Z"
   },
   {
    "duration": 253,
    "start_time": "2022-10-28T07:05:51.623Z"
   },
   {
    "duration": 242,
    "start_time": "2022-10-28T07:05:59.823Z"
   },
   {
    "duration": 437,
    "start_time": "2022-10-28T07:13:31.700Z"
   },
   {
    "duration": 435,
    "start_time": "2022-10-28T07:49:58.434Z"
   },
   {
    "duration": 433,
    "start_time": "2022-10-28T07:50:06.379Z"
   },
   {
    "duration": 22,
    "start_time": "2022-10-28T07:58:58.959Z"
   },
   {
    "duration": 314,
    "start_time": "2022-10-28T07:59:48.565Z"
   },
   {
    "duration": 5,
    "start_time": "2022-10-28T08:00:27.814Z"
   },
   {
    "duration": 25,
    "start_time": "2022-10-28T08:18:23.068Z"
   },
   {
    "duration": 260,
    "start_time": "2022-10-28T08:19:41.917Z"
   },
   {
    "duration": 254,
    "start_time": "2022-10-28T08:19:42.932Z"
   },
   {
    "duration": 278,
    "start_time": "2022-10-28T08:19:44.116Z"
   },
   {
    "duration": 4,
    "start_time": "2022-10-28T08:21:06.948Z"
   },
   {
    "duration": 24,
    "start_time": "2022-10-28T08:24:03.666Z"
   },
   {
    "duration": 246,
    "start_time": "2022-10-28T08:24:38.322Z"
   },
   {
    "duration": 267,
    "start_time": "2022-10-28T08:24:43.802Z"
   },
   {
    "duration": 258,
    "start_time": "2022-10-28T08:24:47.474Z"
   },
   {
    "duration": 197,
    "start_time": "2022-10-28T08:27:49.689Z"
   },
   {
    "duration": 449,
    "start_time": "2022-10-28T08:28:16.705Z"
   },
   {
    "duration": 278,
    "start_time": "2022-10-28T08:28:46.872Z"
   },
   {
    "duration": 411,
    "start_time": "2022-10-28T08:28:53.952Z"
   },
   {
    "duration": 226,
    "start_time": "2022-10-28T08:30:25.895Z"
   },
   {
    "duration": 1238,
    "start_time": "2022-10-28T08:30:49.767Z"
   },
   {
    "duration": 4,
    "start_time": "2022-10-28T08:30:51.007Z"
   },
   {
    "duration": 32,
    "start_time": "2022-10-28T08:30:51.012Z"
   },
   {
    "duration": 15,
    "start_time": "2022-10-28T08:30:51.046Z"
   },
   {
    "duration": 37,
    "start_time": "2022-10-28T08:30:51.063Z"
   },
   {
    "duration": 38,
    "start_time": "2022-10-28T08:30:51.102Z"
   },
   {
    "duration": 225,
    "start_time": "2022-10-28T08:30:51.142Z"
   },
   {
    "duration": 437,
    "start_time": "2022-10-28T08:30:51.368Z"
   },
   {
    "duration": 314,
    "start_time": "2022-10-28T08:30:51.806Z"
   },
   {
    "duration": 196,
    "start_time": "2022-10-28T08:30:52.124Z"
   },
   {
    "duration": 221,
    "start_time": "2022-10-28T08:30:52.323Z"
   },
   {
    "duration": 222,
    "start_time": "2022-10-28T08:30:52.547Z"
   },
   {
    "duration": 218,
    "start_time": "2022-10-28T08:30:52.776Z"
   },
   {
    "duration": 276,
    "start_time": "2022-10-28T08:30:52.996Z"
   },
   {
    "duration": 221,
    "start_time": "2022-10-28T08:30:53.274Z"
   },
   {
    "duration": 210,
    "start_time": "2022-10-28T08:30:53.496Z"
   },
   {
    "duration": 203,
    "start_time": "2022-10-28T08:30:53.708Z"
   },
   {
    "duration": 207,
    "start_time": "2022-10-28T08:30:53.913Z"
   },
   {
    "duration": 233,
    "start_time": "2022-10-28T08:30:54.122Z"
   },
   {
    "duration": 222,
    "start_time": "2022-10-28T08:30:54.357Z"
   },
   {
    "duration": 226,
    "start_time": "2022-10-28T08:30:54.581Z"
   },
   {
    "duration": 211,
    "start_time": "2022-10-28T08:30:54.809Z"
   },
   {
    "duration": 209,
    "start_time": "2022-10-28T08:30:55.022Z"
   },
   {
    "duration": 218,
    "start_time": "2022-10-28T08:30:55.233Z"
   },
   {
    "duration": 220,
    "start_time": "2022-10-28T08:30:55.453Z"
   },
   {
    "duration": 266,
    "start_time": "2022-10-28T08:30:55.675Z"
   },
   {
    "duration": 504,
    "start_time": "2022-10-28T08:30:55.942Z"
   },
   {
    "duration": 229,
    "start_time": "2022-10-28T08:30:56.449Z"
   },
   {
    "duration": 277,
    "start_time": "2022-10-28T08:30:56.680Z"
   },
   {
    "duration": 432,
    "start_time": "2022-10-28T08:30:56.959Z"
   },
   {
    "duration": 216,
    "start_time": "2022-10-28T08:30:57.393Z"
   },
   {
    "duration": 269,
    "start_time": "2022-10-28T08:30:57.611Z"
   },
   {
    "duration": 418,
    "start_time": "2022-10-28T08:30:57.882Z"
   },
   {
    "duration": 213,
    "start_time": "2022-10-28T08:30:58.302Z"
   },
   {
    "duration": 223,
    "start_time": "2022-10-28T08:32:26.940Z"
   },
   {
    "duration": 433,
    "start_time": "2022-10-28T08:32:37.965Z"
   },
   {
    "duration": 423,
    "start_time": "2022-10-28T08:32:47.300Z"
   },
   {
    "duration": 194,
    "start_time": "2022-10-28T08:33:17.468Z"
   },
   {
    "duration": 413,
    "start_time": "2022-10-28T08:33:38.141Z"
   },
   {
    "duration": 428,
    "start_time": "2022-10-28T08:33:52.253Z"
   },
   {
    "duration": 439,
    "start_time": "2022-10-28T08:34:48.900Z"
   },
   {
    "duration": 425,
    "start_time": "2022-10-28T08:34:53.836Z"
   },
   {
    "duration": 1199,
    "start_time": "2022-10-28T08:36:12.658Z"
   },
   {
    "duration": 3,
    "start_time": "2022-10-28T08:36:13.859Z"
   },
   {
    "duration": 16,
    "start_time": "2022-10-28T08:36:13.863Z"
   },
   {
    "duration": 5,
    "start_time": "2022-10-28T08:36:13.881Z"
   },
   {
    "duration": 14,
    "start_time": "2022-10-28T08:36:13.887Z"
   },
   {
    "duration": 8,
    "start_time": "2022-10-28T08:36:13.902Z"
   },
   {
    "duration": 217,
    "start_time": "2022-10-28T08:36:13.912Z"
   },
   {
    "duration": 422,
    "start_time": "2022-10-28T08:36:14.130Z"
   },
   {
    "duration": 267,
    "start_time": "2022-10-28T08:36:14.554Z"
   },
   {
    "duration": 181,
    "start_time": "2022-10-28T08:36:14.824Z"
   },
   {
    "duration": 210,
    "start_time": "2022-10-28T08:36:15.006Z"
   },
   {
    "duration": 247,
    "start_time": "2022-10-28T08:36:15.218Z"
   },
   {
    "duration": 210,
    "start_time": "2022-10-28T08:36:15.467Z"
   },
   {
    "duration": 253,
    "start_time": "2022-10-28T08:36:15.678Z"
   },
   {
    "duration": 199,
    "start_time": "2022-10-28T08:36:15.932Z"
   },
   {
    "duration": 194,
    "start_time": "2022-10-28T08:36:16.133Z"
   },
   {
    "duration": 202,
    "start_time": "2022-10-28T08:36:16.329Z"
   },
   {
    "duration": 200,
    "start_time": "2022-10-28T08:36:16.532Z"
   },
   {
    "duration": 213,
    "start_time": "2022-10-28T08:36:16.734Z"
   },
   {
    "duration": 233,
    "start_time": "2022-10-28T08:36:16.949Z"
   },
   {
    "duration": 207,
    "start_time": "2022-10-28T08:36:17.183Z"
   },
   {
    "duration": 204,
    "start_time": "2022-10-28T08:36:17.391Z"
   },
   {
    "duration": 201,
    "start_time": "2022-10-28T08:36:17.597Z"
   },
   {
    "duration": 168,
    "start_time": "2022-10-28T08:36:17.800Z"
   },
   {
    "duration": 212,
    "start_time": "2022-10-28T08:36:17.970Z"
   },
   {
    "duration": 272,
    "start_time": "2022-10-28T08:36:18.184Z"
   },
   {
    "duration": 495,
    "start_time": "2022-10-28T08:36:18.458Z"
   },
   {
    "duration": 197,
    "start_time": "2022-10-28T08:36:18.955Z"
   },
   {
    "duration": 258,
    "start_time": "2022-10-28T08:36:19.154Z"
   },
   {
    "duration": 435,
    "start_time": "2022-10-28T08:36:19.414Z"
   },
   {
    "duration": 238,
    "start_time": "2022-10-28T08:36:19.851Z"
   },
   {
    "duration": 263,
    "start_time": "2022-10-28T08:36:20.091Z"
   },
   {
    "duration": 433,
    "start_time": "2022-10-28T08:36:20.357Z"
   },
   {
    "duration": 205,
    "start_time": "2022-10-28T08:36:20.792Z"
   },
   {
    "duration": 58,
    "start_time": "2022-10-28T08:39:55.562Z"
   },
   {
    "duration": 54,
    "start_time": "2022-10-28T08:40:07.535Z"
   },
   {
    "duration": 107,
    "start_time": "2022-10-28T08:40:28.665Z"
   },
   {
    "duration": 157,
    "start_time": "2022-10-28T08:40:46.098Z"
   },
   {
    "duration": 384,
    "start_time": "2022-10-28T08:41:03.065Z"
   },
   {
    "duration": 162,
    "start_time": "2022-10-28T08:42:13.840Z"
   },
   {
    "duration": 206,
    "start_time": "2022-10-28T08:43:40.145Z"
   },
   {
    "duration": 221,
    "start_time": "2022-10-28T08:43:55.776Z"
   },
   {
    "duration": 423,
    "start_time": "2022-10-28T08:44:32.635Z"
   },
   {
    "duration": 507,
    "start_time": "2022-10-28T08:44:42.095Z"
   },
   {
    "duration": 404,
    "start_time": "2022-10-28T08:44:46.567Z"
   },
   {
    "duration": 148,
    "start_time": "2022-10-28T08:44:53.817Z"
   },
   {
    "duration": 189,
    "start_time": "2022-10-28T08:45:02.999Z"
   },
   {
    "duration": 118,
    "start_time": "2022-10-28T08:45:09.295Z"
   },
   {
    "duration": 119,
    "start_time": "2022-10-28T08:59:43.591Z"
   },
   {
    "duration": 111,
    "start_time": "2022-10-28T09:00:22.200Z"
   },
   {
    "duration": 1430,
    "start_time": "2022-10-28T09:00:40.583Z"
   },
   {
    "duration": 3,
    "start_time": "2022-10-28T09:00:42.016Z"
   },
   {
    "duration": 15,
    "start_time": "2022-10-28T09:00:42.021Z"
   },
   {
    "duration": 5,
    "start_time": "2022-10-28T09:00:42.038Z"
   },
   {
    "duration": 17,
    "start_time": "2022-10-28T09:00:42.045Z"
   },
   {
    "duration": 16,
    "start_time": "2022-10-28T09:00:42.063Z"
   },
   {
    "duration": 225,
    "start_time": "2022-10-28T09:00:42.080Z"
   },
   {
    "duration": 437,
    "start_time": "2022-10-28T09:00:42.307Z"
   },
   {
    "duration": 261,
    "start_time": "2022-10-28T09:00:42.746Z"
   },
   {
    "duration": 184,
    "start_time": "2022-10-28T09:00:43.010Z"
   },
   {
    "duration": 217,
    "start_time": "2022-10-28T09:00:43.196Z"
   },
   {
    "duration": 204,
    "start_time": "2022-10-28T09:00:43.414Z"
   },
   {
    "duration": 213,
    "start_time": "2022-10-28T09:00:43.620Z"
   },
   {
    "duration": 268,
    "start_time": "2022-10-28T09:00:43.835Z"
   },
   {
    "duration": 202,
    "start_time": "2022-10-28T09:00:44.104Z"
   },
   {
    "duration": 210,
    "start_time": "2022-10-28T09:00:44.307Z"
   },
   {
    "duration": 204,
    "start_time": "2022-10-28T09:00:44.519Z"
   },
   {
    "duration": 191,
    "start_time": "2022-10-28T09:00:44.724Z"
   },
   {
    "duration": 200,
    "start_time": "2022-10-28T09:00:44.917Z"
   },
   {
    "duration": 244,
    "start_time": "2022-10-28T09:00:45.118Z"
   },
   {
    "duration": 219,
    "start_time": "2022-10-28T09:00:45.364Z"
   },
   {
    "duration": 206,
    "start_time": "2022-10-28T09:00:45.584Z"
   },
   {
    "duration": 191,
    "start_time": "2022-10-28T09:00:45.792Z"
   },
   {
    "duration": 173,
    "start_time": "2022-10-28T09:00:45.985Z"
   },
   {
    "duration": 217,
    "start_time": "2022-10-28T09:00:46.160Z"
   },
   {
    "duration": 258,
    "start_time": "2022-10-28T09:00:46.379Z"
   },
   {
    "duration": 507,
    "start_time": "2022-10-28T09:00:46.638Z"
   },
   {
    "duration": 205,
    "start_time": "2022-10-28T09:00:47.148Z"
   },
   {
    "duration": 254,
    "start_time": "2022-10-28T09:00:47.354Z"
   },
   {
    "duration": 528,
    "start_time": "2022-10-28T09:00:47.610Z"
   },
   {
    "duration": 121,
    "start_time": "2022-10-28T09:00:48.140Z"
   },
   {
    "duration": 154,
    "start_time": "2022-10-28T09:00:48.263Z"
   },
   {
    "duration": 202,
    "start_time": "2022-10-28T09:00:48.419Z"
   },
   {
    "duration": 131,
    "start_time": "2022-10-28T09:00:48.623Z"
   },
   {
    "duration": 565,
    "start_time": "2022-10-28T09:01:29.236Z"
   },
   {
    "duration": 587,
    "start_time": "2022-10-28T09:01:41.052Z"
   },
   {
    "duration": 317,
    "start_time": "2022-10-28T09:01:54.131Z"
   },
   {
    "duration": 155,
    "start_time": "2022-10-28T09:02:24.540Z"
   },
   {
    "duration": 145,
    "start_time": "2022-10-28T09:02:40.379Z"
   },
   {
    "duration": 121,
    "start_time": "2022-10-28T09:03:19.579Z"
   },
   {
    "duration": 170,
    "start_time": "2022-10-28T09:03:44.323Z"
   },
   {
    "duration": 131,
    "start_time": "2022-10-28T09:04:02.210Z"
   },
   {
    "duration": 197,
    "start_time": "2022-10-28T09:04:11.178Z"
   },
   {
    "duration": 5,
    "start_time": "2022-10-28T09:32:00.635Z"
   },
   {
    "duration": 24,
    "start_time": "2022-10-28T09:32:05.637Z"
   },
   {
    "duration": 26,
    "start_time": "2022-10-28T09:32:15.398Z"
   },
   {
    "duration": 9,
    "start_time": "2022-10-28T09:34:49.135Z"
   },
   {
    "duration": 48,
    "start_time": "2022-10-28T09:36:27.066Z"
   },
   {
    "duration": 57,
    "start_time": "2022-10-28T09:36:47.290Z"
   },
   {
    "duration": 1228,
    "start_time": "2022-10-28T09:37:44.670Z"
   },
   {
    "duration": 3,
    "start_time": "2022-10-28T09:37:45.900Z"
   },
   {
    "duration": 16,
    "start_time": "2022-10-28T09:37:45.905Z"
   },
   {
    "duration": 5,
    "start_time": "2022-10-28T09:37:45.924Z"
   },
   {
    "duration": 17,
    "start_time": "2022-10-28T09:37:45.930Z"
   },
   {
    "duration": 24,
    "start_time": "2022-10-28T09:37:45.949Z"
   },
   {
    "duration": 208,
    "start_time": "2022-10-28T09:37:45.975Z"
   },
   {
    "duration": 444,
    "start_time": "2022-10-28T09:37:46.184Z"
   },
   {
    "duration": 262,
    "start_time": "2022-10-28T09:37:46.631Z"
   },
   {
    "duration": 205,
    "start_time": "2022-10-28T09:37:46.896Z"
   },
   {
    "duration": 216,
    "start_time": "2022-10-28T09:37:47.103Z"
   },
   {
    "duration": 210,
    "start_time": "2022-10-28T09:37:47.320Z"
   },
   {
    "duration": 209,
    "start_time": "2022-10-28T09:37:47.532Z"
   },
   {
    "duration": 255,
    "start_time": "2022-10-28T09:37:47.743Z"
   },
   {
    "duration": 200,
    "start_time": "2022-10-28T09:37:48.000Z"
   },
   {
    "duration": 207,
    "start_time": "2022-10-28T09:37:48.202Z"
   },
   {
    "duration": 213,
    "start_time": "2022-10-28T09:37:48.411Z"
   },
   {
    "duration": 188,
    "start_time": "2022-10-28T09:37:48.625Z"
   },
   {
    "duration": 214,
    "start_time": "2022-10-28T09:37:48.815Z"
   },
   {
    "duration": 203,
    "start_time": "2022-10-28T09:37:49.030Z"
   },
   {
    "duration": 203,
    "start_time": "2022-10-28T09:37:49.235Z"
   },
   {
    "duration": 194,
    "start_time": "2022-10-28T09:37:49.440Z"
   },
   {
    "duration": 182,
    "start_time": "2022-10-28T09:37:49.636Z"
   },
   {
    "duration": 184,
    "start_time": "2022-10-28T09:37:49.820Z"
   },
   {
    "duration": 223,
    "start_time": "2022-10-28T09:37:50.006Z"
   },
   {
    "duration": 135,
    "start_time": "2022-10-28T09:37:50.231Z"
   },
   {
    "duration": 299,
    "start_time": "2022-10-28T09:37:50.377Z"
   },
   {
    "duration": 133,
    "start_time": "2022-10-28T09:37:50.680Z"
   },
   {
    "duration": 143,
    "start_time": "2022-10-28T09:37:50.815Z"
   },
   {
    "duration": 179,
    "start_time": "2022-10-28T09:37:50.960Z"
   },
   {
    "duration": 124,
    "start_time": "2022-10-28T09:37:51.141Z"
   },
   {
    "duration": 154,
    "start_time": "2022-10-28T09:37:51.266Z"
   },
   {
    "duration": 208,
    "start_time": "2022-10-28T09:37:51.421Z"
   },
   {
    "duration": 140,
    "start_time": "2022-10-28T09:37:51.630Z"
   },
   {
    "duration": 42,
    "start_time": "2022-10-28T09:37:51.777Z"
   },
   {
    "duration": 8,
    "start_time": "2022-10-28T09:38:55.899Z"
   },
   {
    "duration": 8,
    "start_time": "2022-10-28T09:44:26.435Z"
   },
   {
    "duration": 8,
    "start_time": "2022-10-28T09:45:23.689Z"
   },
   {
    "duration": 6,
    "start_time": "2022-10-28T09:47:11.000Z"
   },
   {
    "duration": 6,
    "start_time": "2022-10-28T09:47:51.159Z"
   },
   {
    "duration": 46,
    "start_time": "2022-10-28T09:50:42.342Z"
   },
   {
    "duration": 51,
    "start_time": "2022-10-28T09:50:53.062Z"
   },
   {
    "duration": 50,
    "start_time": "2022-10-28T09:51:00.845Z"
   },
   {
    "duration": 7,
    "start_time": "2022-10-28T09:51:11.141Z"
   },
   {
    "duration": 8,
    "start_time": "2022-10-28T09:51:21.333Z"
   },
   {
    "duration": 7,
    "start_time": "2022-10-28T10:24:47.598Z"
   },
   {
    "duration": 7,
    "start_time": "2022-10-28T10:25:30.366Z"
   },
   {
    "duration": 5,
    "start_time": "2022-10-28T10:26:32.062Z"
   },
   {
    "duration": 1132,
    "start_time": "2022-10-28T10:59:38.428Z"
   },
   {
    "duration": 3,
    "start_time": "2022-10-28T10:59:39.562Z"
   },
   {
    "duration": 21,
    "start_time": "2022-10-28T10:59:39.566Z"
   },
   {
    "duration": 14,
    "start_time": "2022-10-28T10:59:39.589Z"
   },
   {
    "duration": 35,
    "start_time": "2022-10-28T10:59:39.604Z"
   },
   {
    "duration": 12,
    "start_time": "2022-10-28T10:59:39.641Z"
   },
   {
    "duration": 209,
    "start_time": "2022-10-28T10:59:39.655Z"
   },
   {
    "duration": 426,
    "start_time": "2022-10-28T10:59:39.866Z"
   },
   {
    "duration": 272,
    "start_time": "2022-10-28T10:59:40.294Z"
   },
   {
    "duration": 182,
    "start_time": "2022-10-28T10:59:40.570Z"
   },
   {
    "duration": 213,
    "start_time": "2022-10-28T10:59:40.753Z"
   },
   {
    "duration": 199,
    "start_time": "2022-10-28T10:59:40.968Z"
   },
   {
    "duration": 205,
    "start_time": "2022-10-28T10:59:41.168Z"
   },
   {
    "duration": 291,
    "start_time": "2022-10-28T10:59:41.377Z"
   },
   {
    "duration": 198,
    "start_time": "2022-10-28T10:59:41.669Z"
   },
   {
    "duration": 194,
    "start_time": "2022-10-28T10:59:41.869Z"
   },
   {
    "duration": 193,
    "start_time": "2022-10-28T10:59:42.065Z"
   },
   {
    "duration": 204,
    "start_time": "2022-10-28T10:59:42.259Z"
   },
   {
    "duration": 214,
    "start_time": "2022-10-28T10:59:42.464Z"
   },
   {
    "duration": 224,
    "start_time": "2022-10-28T10:59:42.680Z"
   },
   {
    "duration": 224,
    "start_time": "2022-10-28T10:59:42.905Z"
   },
   {
    "duration": 206,
    "start_time": "2022-10-28T10:59:43.131Z"
   },
   {
    "duration": 193,
    "start_time": "2022-10-28T10:59:43.339Z"
   },
   {
    "duration": 187,
    "start_time": "2022-10-28T10:59:43.535Z"
   },
   {
    "duration": 227,
    "start_time": "2022-10-28T10:59:43.724Z"
   },
   {
    "duration": 141,
    "start_time": "2022-10-28T10:59:43.953Z"
   },
   {
    "duration": 266,
    "start_time": "2022-10-28T10:59:44.096Z"
   },
   {
    "duration": 129,
    "start_time": "2022-10-28T10:59:44.365Z"
   },
   {
    "duration": 156,
    "start_time": "2022-10-28T10:59:44.495Z"
   },
   {
    "duration": 199,
    "start_time": "2022-10-28T10:59:44.653Z"
   },
   {
    "duration": 146,
    "start_time": "2022-10-28T10:59:44.854Z"
   },
   {
    "duration": 150,
    "start_time": "2022-10-28T10:59:45.002Z"
   },
   {
    "duration": 259,
    "start_time": "2022-10-28T10:59:45.154Z"
   },
   {
    "duration": 139,
    "start_time": "2022-10-28T10:59:45.414Z"
   },
   {
    "duration": 7,
    "start_time": "2022-10-28T10:59:45.555Z"
   },
   {
    "duration": 14,
    "start_time": "2022-10-28T10:59:45.564Z"
   },
   {
    "duration": 60,
    "start_time": "2022-10-28T10:59:45.580Z"
   },
   {
    "duration": 0,
    "start_time": "2022-10-28T10:59:45.642Z"
   },
   {
    "duration": 0,
    "start_time": "2022-10-28T10:59:45.643Z"
   },
   {
    "duration": 1136,
    "start_time": "2022-10-28T11:05:14.136Z"
   },
   {
    "duration": 4,
    "start_time": "2022-10-28T11:05:15.274Z"
   },
   {
    "duration": 22,
    "start_time": "2022-10-28T11:05:15.280Z"
   },
   {
    "duration": 6,
    "start_time": "2022-10-28T11:05:15.305Z"
   },
   {
    "duration": 26,
    "start_time": "2022-10-28T11:05:15.313Z"
   },
   {
    "duration": 13,
    "start_time": "2022-10-28T11:05:15.341Z"
   },
   {
    "duration": 234,
    "start_time": "2022-10-28T11:05:15.356Z"
   },
   {
    "duration": 413,
    "start_time": "2022-10-28T11:05:15.591Z"
   },
   {
    "duration": 259,
    "start_time": "2022-10-28T11:05:16.007Z"
   },
   {
    "duration": 173,
    "start_time": "2022-10-28T11:05:16.277Z"
   },
   {
    "duration": 212,
    "start_time": "2022-10-28T11:05:16.452Z"
   },
   {
    "duration": 207,
    "start_time": "2022-10-28T11:05:16.665Z"
   },
   {
    "duration": 236,
    "start_time": "2022-10-28T11:05:16.876Z"
   },
   {
    "duration": 256,
    "start_time": "2022-10-28T11:05:17.114Z"
   },
   {
    "duration": 210,
    "start_time": "2022-10-28T11:05:17.371Z"
   },
   {
    "duration": 214,
    "start_time": "2022-10-28T11:05:17.583Z"
   },
   {
    "duration": 208,
    "start_time": "2022-10-28T11:05:17.799Z"
   },
   {
    "duration": 193,
    "start_time": "2022-10-28T11:05:18.009Z"
   },
   {
    "duration": 199,
    "start_time": "2022-10-28T11:05:18.203Z"
   },
   {
    "duration": 212,
    "start_time": "2022-10-28T11:05:18.403Z"
   },
   {
    "duration": 213,
    "start_time": "2022-10-28T11:05:18.617Z"
   },
   {
    "duration": 198,
    "start_time": "2022-10-28T11:05:18.831Z"
   },
   {
    "duration": 181,
    "start_time": "2022-10-28T11:05:19.031Z"
   },
   {
    "duration": 178,
    "start_time": "2022-10-28T11:05:19.214Z"
   },
   {
    "duration": 209,
    "start_time": "2022-10-28T11:05:19.394Z"
   },
   {
    "duration": 143,
    "start_time": "2022-10-28T11:05:19.605Z"
   },
   {
    "duration": 270,
    "start_time": "2022-10-28T11:05:19.750Z"
   },
   {
    "duration": 130,
    "start_time": "2022-10-28T11:05:20.023Z"
   },
   {
    "duration": 149,
    "start_time": "2022-10-28T11:05:20.155Z"
   },
   {
    "duration": 186,
    "start_time": "2022-10-28T11:05:20.305Z"
   },
   {
    "duration": 131,
    "start_time": "2022-10-28T11:05:20.493Z"
   },
   {
    "duration": 158,
    "start_time": "2022-10-28T11:05:20.626Z"
   },
   {
    "duration": 194,
    "start_time": "2022-10-28T11:05:20.785Z"
   },
   {
    "duration": 134,
    "start_time": "2022-10-28T11:05:20.980Z"
   },
   {
    "duration": 7,
    "start_time": "2022-10-28T11:05:21.116Z"
   },
   {
    "duration": 10,
    "start_time": "2022-10-28T11:05:21.124Z"
   },
   {
    "duration": 11,
    "start_time": "2022-10-28T11:05:21.136Z"
   },
   {
    "duration": 10,
    "start_time": "2022-10-28T11:05:21.148Z"
   },
   {
    "duration": 44,
    "start_time": "2022-10-28T12:55:31.226Z"
   },
   {
    "duration": 1115,
    "start_time": "2022-10-28T12:55:34.656Z"
   },
   {
    "duration": 3,
    "start_time": "2022-10-28T12:55:35.773Z"
   },
   {
    "duration": 15,
    "start_time": "2022-10-28T12:55:35.777Z"
   },
   {
    "duration": 5,
    "start_time": "2022-10-28T12:55:36.332Z"
   },
   {
    "duration": 11,
    "start_time": "2022-10-28T12:55:37.501Z"
   },
   {
    "duration": 11,
    "start_time": "2022-10-28T12:55:37.853Z"
   },
   {
    "duration": 1265,
    "start_time": "2022-10-28T13:06:02.647Z"
   },
   {
    "duration": 3,
    "start_time": "2022-10-28T13:06:09.468Z"
   },
   {
    "duration": 18,
    "start_time": "2022-10-28T13:06:10.597Z"
   },
   {
    "duration": 19,
    "start_time": "2022-10-28T13:06:17.458Z"
   },
   {
    "duration": 1226,
    "start_time": "2022-10-28T13:07:04.709Z"
   },
   {
    "duration": 3,
    "start_time": "2022-10-28T13:07:05.937Z"
   },
   {
    "duration": 52,
    "start_time": "2022-10-28T13:07:05.941Z"
   },
   {
    "duration": 27,
    "start_time": "2022-10-28T13:07:05.995Z"
   },
   {
    "duration": 33,
    "start_time": "2022-10-28T13:07:06.023Z"
   },
   {
    "duration": 37,
    "start_time": "2022-10-28T13:07:06.058Z"
   },
   {
    "duration": 226,
    "start_time": "2022-10-28T13:07:06.096Z"
   },
   {
    "duration": 451,
    "start_time": "2022-10-28T13:07:06.324Z"
   },
   {
    "duration": 276,
    "start_time": "2022-10-28T13:07:06.782Z"
   },
   {
    "duration": 170,
    "start_time": "2022-10-28T13:07:07.062Z"
   },
   {
    "duration": 195,
    "start_time": "2022-10-28T13:07:07.234Z"
   },
   {
    "duration": 186,
    "start_time": "2022-10-28T13:07:07.431Z"
   },
   {
    "duration": 208,
    "start_time": "2022-10-28T13:07:07.618Z"
   },
   {
    "duration": 257,
    "start_time": "2022-10-28T13:07:07.828Z"
   },
   {
    "duration": 188,
    "start_time": "2022-10-28T13:07:08.087Z"
   },
   {
    "duration": 204,
    "start_time": "2022-10-28T13:07:08.277Z"
   },
   {
    "duration": 201,
    "start_time": "2022-10-28T13:07:08.483Z"
   },
   {
    "duration": 200,
    "start_time": "2022-10-28T13:07:08.687Z"
   },
   {
    "duration": 235,
    "start_time": "2022-10-28T13:07:08.888Z"
   },
   {
    "duration": 217,
    "start_time": "2022-10-28T13:07:09.126Z"
   },
   {
    "duration": 197,
    "start_time": "2022-10-28T13:07:09.344Z"
   },
   {
    "duration": 190,
    "start_time": "2022-10-28T13:07:09.542Z"
   },
   {
    "duration": 179,
    "start_time": "2022-10-28T13:07:09.733Z"
   },
   {
    "duration": 166,
    "start_time": "2022-10-28T13:07:09.920Z"
   },
   {
    "duration": 201,
    "start_time": "2022-10-28T13:07:10.087Z"
   },
   {
    "duration": 137,
    "start_time": "2022-10-28T13:07:10.290Z"
   },
   {
    "duration": 259,
    "start_time": "2022-10-28T13:07:10.428Z"
   },
   {
    "duration": 116,
    "start_time": "2022-10-28T13:07:10.690Z"
   },
   {
    "duration": 161,
    "start_time": "2022-10-28T13:07:10.808Z"
   },
   {
    "duration": 192,
    "start_time": "2022-10-28T13:07:10.971Z"
   },
   {
    "duration": 117,
    "start_time": "2022-10-28T13:07:11.164Z"
   },
   {
    "duration": 141,
    "start_time": "2022-10-28T13:07:11.283Z"
   },
   {
    "duration": 205,
    "start_time": "2022-10-28T13:07:11.425Z"
   },
   {
    "duration": 132,
    "start_time": "2022-10-28T13:07:11.631Z"
   },
   {
    "duration": 7,
    "start_time": "2022-10-28T13:07:11.765Z"
   },
   {
    "duration": 10,
    "start_time": "2022-10-28T13:07:11.773Z"
   },
   {
    "duration": 16,
    "start_time": "2022-10-28T13:07:11.785Z"
   },
   {
    "duration": 19,
    "start_time": "2022-10-28T13:07:11.802Z"
   },
   {
    "duration": 1373,
    "start_time": "2022-10-28T13:55:57.539Z"
   },
   {
    "duration": 4,
    "start_time": "2022-10-28T13:55:58.915Z"
   },
   {
    "duration": 20,
    "start_time": "2022-10-28T13:55:58.921Z"
   },
   {
    "duration": 8,
    "start_time": "2022-10-28T13:55:58.943Z"
   },
   {
    "duration": 21,
    "start_time": "2022-10-28T13:55:58.953Z"
   },
   {
    "duration": 20,
    "start_time": "2022-10-28T13:55:58.976Z"
   },
   {
    "duration": 229,
    "start_time": "2022-10-28T13:55:58.998Z"
   },
   {
    "duration": 384,
    "start_time": "2022-10-28T13:55:59.229Z"
   },
   {
    "duration": 245,
    "start_time": "2022-10-28T13:55:59.614Z"
   },
   {
    "duration": 155,
    "start_time": "2022-10-28T13:55:59.861Z"
   },
   {
    "duration": 185,
    "start_time": "2022-10-28T13:56:00.021Z"
   },
   {
    "duration": 181,
    "start_time": "2022-10-28T13:56:00.207Z"
   },
   {
    "duration": 181,
    "start_time": "2022-10-28T13:56:00.390Z"
   },
   {
    "duration": 243,
    "start_time": "2022-10-28T13:56:00.573Z"
   },
   {
    "duration": 182,
    "start_time": "2022-10-28T13:56:00.817Z"
   },
   {
    "duration": 206,
    "start_time": "2022-10-28T13:56:01.000Z"
   },
   {
    "duration": 201,
    "start_time": "2022-10-28T13:56:01.209Z"
   },
   {
    "duration": 192,
    "start_time": "2022-10-28T13:56:01.411Z"
   },
   {
    "duration": 202,
    "start_time": "2022-10-28T13:56:01.605Z"
   },
   {
    "duration": 198,
    "start_time": "2022-10-28T13:56:01.809Z"
   },
   {
    "duration": 207,
    "start_time": "2022-10-28T13:56:02.009Z"
   },
   {
    "duration": 182,
    "start_time": "2022-10-28T13:56:02.217Z"
   },
   {
    "duration": 169,
    "start_time": "2022-10-28T13:56:02.400Z"
   },
   {
    "duration": 162,
    "start_time": "2022-10-28T13:56:02.571Z"
   },
   {
    "duration": 206,
    "start_time": "2022-10-28T13:56:02.734Z"
   },
   {
    "duration": 137,
    "start_time": "2022-10-28T13:56:02.942Z"
   },
   {
    "duration": 256,
    "start_time": "2022-10-28T13:56:03.081Z"
   },
   {
    "duration": 116,
    "start_time": "2022-10-28T13:56:03.341Z"
   },
   {
    "duration": 139,
    "start_time": "2022-10-28T13:56:03.459Z"
   },
   {
    "duration": 183,
    "start_time": "2022-10-28T13:56:03.600Z"
   },
   {
    "duration": 118,
    "start_time": "2022-10-28T13:56:03.785Z"
   },
   {
    "duration": 142,
    "start_time": "2022-10-28T13:56:03.905Z"
   },
   {
    "duration": 189,
    "start_time": "2022-10-28T13:56:04.048Z"
   },
   {
    "duration": 120,
    "start_time": "2022-10-28T13:56:04.239Z"
   },
   {
    "duration": 6,
    "start_time": "2022-10-28T13:56:04.361Z"
   },
   {
    "duration": 6,
    "start_time": "2022-10-28T13:56:04.369Z"
   },
   {
    "duration": 13,
    "start_time": "2022-10-28T13:56:04.377Z"
   },
   {
    "duration": 7,
    "start_time": "2022-10-28T13:56:04.392Z"
   },
   {
    "duration": 10,
    "start_time": "2022-10-28T13:58:23.742Z"
   },
   {
    "duration": 10,
    "start_time": "2022-10-28T14:07:18.040Z"
   },
   {
    "duration": 110,
    "start_time": "2022-10-28T14:08:08.656Z"
   },
   {
    "duration": 14,
    "start_time": "2022-10-28T14:08:24.538Z"
   },
   {
    "duration": 11,
    "start_time": "2022-10-28T14:08:58.320Z"
   },
   {
    "duration": 1143,
    "start_time": "2022-10-28T14:09:15.134Z"
   },
   {
    "duration": 4,
    "start_time": "2022-10-28T14:09:16.279Z"
   },
   {
    "duration": 20,
    "start_time": "2022-10-28T14:09:16.284Z"
   },
   {
    "duration": 16,
    "start_time": "2022-10-28T14:09:16.306Z"
   },
   {
    "duration": 21,
    "start_time": "2022-10-28T14:09:16.326Z"
   },
   {
    "duration": 15,
    "start_time": "2022-10-28T14:09:16.349Z"
   },
   {
    "duration": 213,
    "start_time": "2022-10-28T14:09:16.366Z"
   },
   {
    "duration": 408,
    "start_time": "2022-10-28T14:09:16.581Z"
   },
   {
    "duration": 252,
    "start_time": "2022-10-28T14:09:16.990Z"
   },
   {
    "duration": 160,
    "start_time": "2022-10-28T14:09:17.244Z"
   },
   {
    "duration": 215,
    "start_time": "2022-10-28T14:09:17.405Z"
   },
   {
    "duration": 182,
    "start_time": "2022-10-28T14:09:17.621Z"
   },
   {
    "duration": 185,
    "start_time": "2022-10-28T14:09:17.804Z"
   },
   {
    "duration": 259,
    "start_time": "2022-10-28T14:09:17.993Z"
   },
   {
    "duration": 186,
    "start_time": "2022-10-28T14:09:18.257Z"
   },
   {
    "duration": 187,
    "start_time": "2022-10-28T14:09:18.444Z"
   },
   {
    "duration": 176,
    "start_time": "2022-10-28T14:09:18.633Z"
   },
   {
    "duration": 238,
    "start_time": "2022-10-28T14:09:18.811Z"
   },
   {
    "duration": 254,
    "start_time": "2022-10-28T14:09:19.051Z"
   },
   {
    "duration": 203,
    "start_time": "2022-10-28T14:09:19.306Z"
   },
   {
    "duration": 204,
    "start_time": "2022-10-28T14:09:19.511Z"
   },
   {
    "duration": 196,
    "start_time": "2022-10-28T14:09:19.717Z"
   },
   {
    "duration": 171,
    "start_time": "2022-10-28T14:09:19.914Z"
   },
   {
    "duration": 170,
    "start_time": "2022-10-28T14:09:20.086Z"
   },
   {
    "duration": 203,
    "start_time": "2022-10-28T14:09:20.258Z"
   },
   {
    "duration": 128,
    "start_time": "2022-10-28T14:09:20.463Z"
   },
   {
    "duration": 259,
    "start_time": "2022-10-28T14:09:20.593Z"
   },
   {
    "duration": 122,
    "start_time": "2022-10-28T14:09:20.854Z"
   },
   {
    "duration": 188,
    "start_time": "2022-10-28T14:09:20.978Z"
   },
   {
    "duration": 193,
    "start_time": "2022-10-28T14:09:21.168Z"
   },
   {
    "duration": 124,
    "start_time": "2022-10-28T14:09:21.363Z"
   },
   {
    "duration": 155,
    "start_time": "2022-10-28T14:09:21.489Z"
   },
   {
    "duration": 194,
    "start_time": "2022-10-28T14:09:21.646Z"
   },
   {
    "duration": 121,
    "start_time": "2022-10-28T14:09:21.841Z"
   },
   {
    "duration": 7,
    "start_time": "2022-10-28T14:09:21.963Z"
   },
   {
    "duration": 16,
    "start_time": "2022-10-28T14:09:21.972Z"
   },
   {
    "duration": 12,
    "start_time": "2022-10-28T14:09:21.990Z"
   },
   {
    "duration": 11,
    "start_time": "2022-10-28T14:09:22.004Z"
   },
   {
    "duration": 14,
    "start_time": "2022-10-28T14:10:40.977Z"
   },
   {
    "duration": 11,
    "start_time": "2022-10-28T14:10:54.875Z"
   },
   {
    "duration": 68,
    "start_time": "2022-10-28T14:12:00.370Z"
   },
   {
    "duration": 11,
    "start_time": "2022-10-28T14:12:27.341Z"
   },
   {
    "duration": 1204,
    "start_time": "2022-10-28T14:12:48.530Z"
   },
   {
    "duration": 3,
    "start_time": "2022-10-28T14:12:49.736Z"
   },
   {
    "duration": 26,
    "start_time": "2022-10-28T14:12:49.740Z"
   },
   {
    "duration": 10,
    "start_time": "2022-10-28T14:12:49.767Z"
   },
   {
    "duration": 37,
    "start_time": "2022-10-28T14:12:49.778Z"
   },
   {
    "duration": 15,
    "start_time": "2022-10-28T14:12:49.816Z"
   },
   {
    "duration": 193,
    "start_time": "2022-10-28T14:12:49.833Z"
   },
   {
    "duration": 377,
    "start_time": "2022-10-28T14:12:50.028Z"
   },
   {
    "duration": 239,
    "start_time": "2022-10-28T14:12:50.406Z"
   },
   {
    "duration": 182,
    "start_time": "2022-10-28T14:12:50.648Z"
   },
   {
    "duration": 194,
    "start_time": "2022-10-28T14:12:50.831Z"
   },
   {
    "duration": 207,
    "start_time": "2022-10-28T14:12:51.027Z"
   },
   {
    "duration": 194,
    "start_time": "2022-10-28T14:12:51.236Z"
   },
   {
    "duration": 235,
    "start_time": "2022-10-28T14:12:51.432Z"
   },
   {
    "duration": 198,
    "start_time": "2022-10-28T14:12:51.669Z"
   },
   {
    "duration": 192,
    "start_time": "2022-10-28T14:12:51.869Z"
   },
   {
    "duration": 185,
    "start_time": "2022-10-28T14:12:52.063Z"
   },
   {
    "duration": 201,
    "start_time": "2022-10-28T14:12:52.250Z"
   },
   {
    "duration": 197,
    "start_time": "2022-10-28T14:12:52.453Z"
   },
   {
    "duration": 202,
    "start_time": "2022-10-28T14:12:52.651Z"
   },
   {
    "duration": 200,
    "start_time": "2022-10-28T14:12:52.855Z"
   },
   {
    "duration": 196,
    "start_time": "2022-10-28T14:12:53.057Z"
   },
   {
    "duration": 173,
    "start_time": "2022-10-28T14:12:53.254Z"
   },
   {
    "duration": 186,
    "start_time": "2022-10-28T14:12:53.429Z"
   },
   {
    "duration": 195,
    "start_time": "2022-10-28T14:12:53.621Z"
   },
   {
    "duration": 127,
    "start_time": "2022-10-28T14:12:53.822Z"
   },
   {
    "duration": 251,
    "start_time": "2022-10-28T14:12:53.951Z"
   },
   {
    "duration": 119,
    "start_time": "2022-10-28T14:12:54.205Z"
   },
   {
    "duration": 149,
    "start_time": "2022-10-28T14:12:54.325Z"
   },
   {
    "duration": 175,
    "start_time": "2022-10-28T14:12:54.476Z"
   },
   {
    "duration": 126,
    "start_time": "2022-10-28T14:12:54.653Z"
   },
   {
    "duration": 142,
    "start_time": "2022-10-28T14:12:54.780Z"
   },
   {
    "duration": 202,
    "start_time": "2022-10-28T14:12:54.924Z"
   },
   {
    "duration": 118,
    "start_time": "2022-10-28T14:12:55.127Z"
   },
   {
    "duration": 6,
    "start_time": "2022-10-28T14:12:55.247Z"
   },
   {
    "duration": 28,
    "start_time": "2022-10-28T14:12:55.254Z"
   },
   {
    "duration": 13,
    "start_time": "2022-10-28T14:12:55.283Z"
   },
   {
    "duration": 23,
    "start_time": "2022-10-28T14:12:55.298Z"
   },
   {
    "duration": 24,
    "start_time": "2022-10-28T14:15:11.632Z"
   },
   {
    "duration": 76,
    "start_time": "2022-10-28T14:18:17.977Z"
   },
   {
    "duration": 96,
    "start_time": "2022-10-28T14:21:20.450Z"
   },
   {
    "duration": 1243,
    "start_time": "2022-10-28T14:21:46.006Z"
   },
   {
    "duration": 3,
    "start_time": "2022-10-28T14:21:47.251Z"
   },
   {
    "duration": 20,
    "start_time": "2022-10-28T14:21:47.256Z"
   },
   {
    "duration": 464,
    "start_time": "2022-10-28T14:21:47.279Z"
   },
   {
    "duration": 0,
    "start_time": "2022-10-28T14:21:47.747Z"
   },
   {
    "duration": 0,
    "start_time": "2022-10-28T14:21:47.748Z"
   },
   {
    "duration": 0,
    "start_time": "2022-10-28T14:21:47.749Z"
   },
   {
    "duration": 0,
    "start_time": "2022-10-28T14:21:47.751Z"
   },
   {
    "duration": 1,
    "start_time": "2022-10-28T14:21:47.752Z"
   },
   {
    "duration": 0,
    "start_time": "2022-10-28T14:21:47.754Z"
   },
   {
    "duration": 0,
    "start_time": "2022-10-28T14:21:47.755Z"
   },
   {
    "duration": 0,
    "start_time": "2022-10-28T14:21:47.757Z"
   },
   {
    "duration": 0,
    "start_time": "2022-10-28T14:21:47.759Z"
   },
   {
    "duration": 0,
    "start_time": "2022-10-28T14:21:47.760Z"
   },
   {
    "duration": 0,
    "start_time": "2022-10-28T14:21:47.761Z"
   },
   {
    "duration": 0,
    "start_time": "2022-10-28T14:21:47.762Z"
   },
   {
    "duration": 0,
    "start_time": "2022-10-28T14:21:47.763Z"
   },
   {
    "duration": 0,
    "start_time": "2022-10-28T14:21:47.765Z"
   },
   {
    "duration": 0,
    "start_time": "2022-10-28T14:21:47.766Z"
   },
   {
    "duration": 0,
    "start_time": "2022-10-28T14:21:47.767Z"
   },
   {
    "duration": 0,
    "start_time": "2022-10-28T14:21:47.768Z"
   },
   {
    "duration": 0,
    "start_time": "2022-10-28T14:21:47.771Z"
   },
   {
    "duration": 0,
    "start_time": "2022-10-28T14:21:47.772Z"
   },
   {
    "duration": 0,
    "start_time": "2022-10-28T14:21:47.774Z"
   },
   {
    "duration": 0,
    "start_time": "2022-10-28T14:21:47.776Z"
   },
   {
    "duration": 0,
    "start_time": "2022-10-28T14:21:47.777Z"
   },
   {
    "duration": 0,
    "start_time": "2022-10-28T14:21:47.778Z"
   },
   {
    "duration": 0,
    "start_time": "2022-10-28T14:21:47.780Z"
   },
   {
    "duration": 0,
    "start_time": "2022-10-28T14:21:47.781Z"
   },
   {
    "duration": 0,
    "start_time": "2022-10-28T14:21:47.781Z"
   },
   {
    "duration": 0,
    "start_time": "2022-10-28T14:21:47.783Z"
   },
   {
    "duration": 0,
    "start_time": "2022-10-28T14:21:47.822Z"
   },
   {
    "duration": 0,
    "start_time": "2022-10-28T14:21:47.826Z"
   },
   {
    "duration": 0,
    "start_time": "2022-10-28T14:21:47.827Z"
   },
   {
    "duration": 0,
    "start_time": "2022-10-28T14:21:47.828Z"
   },
   {
    "duration": 0,
    "start_time": "2022-10-28T14:21:47.829Z"
   },
   {
    "duration": 0,
    "start_time": "2022-10-28T14:21:47.831Z"
   },
   {
    "duration": 0,
    "start_time": "2022-10-28T14:21:47.832Z"
   },
   {
    "duration": 18,
    "start_time": "2022-10-28T14:24:29.387Z"
   },
   {
    "duration": 15,
    "start_time": "2022-10-28T14:25:03.080Z"
   },
   {
    "duration": 19,
    "start_time": "2022-10-28T14:29:40.776Z"
   },
   {
    "duration": 17,
    "start_time": "2022-10-28T14:29:50.265Z"
   },
   {
    "duration": 1148,
    "start_time": "2022-10-28T14:30:09.131Z"
   },
   {
    "duration": 3,
    "start_time": "2022-10-28T14:30:10.280Z"
   },
   {
    "duration": 22,
    "start_time": "2022-10-28T14:30:10.284Z"
   },
   {
    "duration": 16,
    "start_time": "2022-10-28T14:30:10.307Z"
   },
   {
    "duration": 21,
    "start_time": "2022-10-28T14:30:10.325Z"
   },
   {
    "duration": 23,
    "start_time": "2022-10-28T14:30:10.347Z"
   },
   {
    "duration": 211,
    "start_time": "2022-10-28T14:30:10.372Z"
   },
   {
    "duration": 608,
    "start_time": "2022-10-28T14:30:10.585Z"
   },
   {
    "duration": 229,
    "start_time": "2022-10-28T14:30:11.194Z"
   },
   {
    "duration": 192,
    "start_time": "2022-10-28T14:30:11.427Z"
   },
   {
    "duration": 191,
    "start_time": "2022-10-28T14:30:11.621Z"
   },
   {
    "duration": 194,
    "start_time": "2022-10-28T14:30:11.814Z"
   },
   {
    "duration": 189,
    "start_time": "2022-10-28T14:30:12.010Z"
   },
   {
    "duration": 255,
    "start_time": "2022-10-28T14:30:12.201Z"
   },
   {
    "duration": 191,
    "start_time": "2022-10-28T14:30:12.458Z"
   },
   {
    "duration": 197,
    "start_time": "2022-10-28T14:30:12.651Z"
   },
   {
    "duration": 205,
    "start_time": "2022-10-28T14:30:12.850Z"
   },
   {
    "duration": 193,
    "start_time": "2022-10-28T14:30:13.058Z"
   },
   {
    "duration": 189,
    "start_time": "2022-10-28T14:30:13.252Z"
   },
   {
    "duration": 185,
    "start_time": "2022-10-28T14:30:13.442Z"
   },
   {
    "duration": 186,
    "start_time": "2022-10-28T14:30:13.629Z"
   },
   {
    "duration": 182,
    "start_time": "2022-10-28T14:30:13.817Z"
   },
   {
    "duration": 234,
    "start_time": "2022-10-28T14:30:14.000Z"
   },
   {
    "duration": 168,
    "start_time": "2022-10-28T14:30:14.236Z"
   },
   {
    "duration": 209,
    "start_time": "2022-10-28T14:30:14.405Z"
   },
   {
    "duration": 181,
    "start_time": "2022-10-28T14:30:14.616Z"
   },
   {
    "duration": 187,
    "start_time": "2022-10-28T14:30:14.799Z"
   },
   {
    "duration": 208,
    "start_time": "2022-10-28T14:30:14.989Z"
   },
   {
    "duration": 151,
    "start_time": "2022-10-28T14:30:15.198Z"
   },
   {
    "duration": 181,
    "start_time": "2022-10-28T14:30:15.350Z"
   },
   {
    "duration": 123,
    "start_time": "2022-10-28T14:30:15.533Z"
   },
   {
    "duration": 157,
    "start_time": "2022-10-28T14:30:15.658Z"
   },
   {
    "duration": 191,
    "start_time": "2022-10-28T14:30:15.817Z"
   },
   {
    "duration": 140,
    "start_time": "2022-10-28T14:30:16.010Z"
   },
   {
    "duration": 7,
    "start_time": "2022-10-28T14:30:16.152Z"
   },
   {
    "duration": 14,
    "start_time": "2022-10-28T14:30:16.161Z"
   },
   {
    "duration": 10,
    "start_time": "2022-10-28T14:30:16.176Z"
   },
   {
    "duration": 9,
    "start_time": "2022-10-28T14:30:16.187Z"
   },
   {
    "duration": 58,
    "start_time": "2022-10-28T14:33:48.813Z"
   },
   {
    "duration": 15,
    "start_time": "2022-10-28T14:38:45.724Z"
   },
   {
    "duration": 31,
    "start_time": "2022-10-28T14:38:54.744Z"
   },
   {
    "duration": 14,
    "start_time": "2022-10-28T14:39:11.277Z"
   },
   {
    "duration": 75,
    "start_time": "2022-10-28T14:39:32.594Z"
   },
   {
    "duration": 100,
    "start_time": "2022-10-28T14:40:25.315Z"
   },
   {
    "duration": 860,
    "start_time": "2022-10-28T14:41:58.617Z"
   },
   {
    "duration": 15,
    "start_time": "2022-10-28T14:42:24.966Z"
   },
   {
    "duration": 1139,
    "start_time": "2022-10-28T14:42:50.145Z"
   },
   {
    "duration": 3,
    "start_time": "2022-10-28T14:42:51.286Z"
   },
   {
    "duration": 14,
    "start_time": "2022-10-28T14:42:51.290Z"
   },
   {
    "duration": 4,
    "start_time": "2022-10-28T14:42:51.306Z"
   },
   {
    "duration": 29,
    "start_time": "2022-10-28T14:42:51.311Z"
   },
   {
    "duration": 23,
    "start_time": "2022-10-28T14:42:51.341Z"
   },
   {
    "duration": 201,
    "start_time": "2022-10-28T14:42:51.366Z"
   },
   {
    "duration": 568,
    "start_time": "2022-10-28T14:42:51.569Z"
   },
   {
    "duration": 226,
    "start_time": "2022-10-28T14:42:52.139Z"
   },
   {
    "duration": 172,
    "start_time": "2022-10-28T14:42:52.367Z"
   },
   {
    "duration": 182,
    "start_time": "2022-10-28T14:42:52.540Z"
   },
   {
    "duration": 172,
    "start_time": "2022-10-28T14:42:52.724Z"
   },
   {
    "duration": 176,
    "start_time": "2022-10-28T14:42:52.898Z"
   },
   {
    "duration": 246,
    "start_time": "2022-10-28T14:42:53.076Z"
   },
   {
    "duration": 179,
    "start_time": "2022-10-28T14:42:53.324Z"
   },
   {
    "duration": 175,
    "start_time": "2022-10-28T14:42:53.504Z"
   },
   {
    "duration": 183,
    "start_time": "2022-10-28T14:42:53.681Z"
   },
   {
    "duration": 178,
    "start_time": "2022-10-28T14:42:53.866Z"
   },
   {
    "duration": 194,
    "start_time": "2022-10-28T14:42:54.046Z"
   },
   {
    "duration": 190,
    "start_time": "2022-10-28T14:42:54.242Z"
   },
   {
    "duration": 188,
    "start_time": "2022-10-28T14:42:54.433Z"
   },
   {
    "duration": 184,
    "start_time": "2022-10-28T14:42:54.624Z"
   },
   {
    "duration": 172,
    "start_time": "2022-10-28T14:42:54.810Z"
   },
   {
    "duration": 178,
    "start_time": "2022-10-28T14:42:54.983Z"
   },
   {
    "duration": 196,
    "start_time": "2022-10-28T14:42:55.163Z"
   },
   {
    "duration": 132,
    "start_time": "2022-10-28T14:42:55.361Z"
   },
   {
    "duration": 179,
    "start_time": "2022-10-28T14:42:55.494Z"
   },
   {
    "duration": 206,
    "start_time": "2022-10-28T14:42:55.676Z"
   },
   {
    "duration": 143,
    "start_time": "2022-10-28T14:42:55.884Z"
   },
   {
    "duration": 181,
    "start_time": "2022-10-28T14:42:56.028Z"
   },
   {
    "duration": 121,
    "start_time": "2022-10-28T14:42:56.210Z"
   },
   {
    "duration": 124,
    "start_time": "2022-10-28T14:42:56.333Z"
   },
   {
    "duration": 163,
    "start_time": "2022-10-28T14:42:56.459Z"
   },
   {
    "duration": 122,
    "start_time": "2022-10-28T14:42:56.624Z"
   },
   {
    "duration": 7,
    "start_time": "2022-10-28T14:42:56.748Z"
   },
   {
    "duration": 6,
    "start_time": "2022-10-28T14:42:56.756Z"
   },
   {
    "duration": 22,
    "start_time": "2022-10-28T14:42:56.763Z"
   },
   {
    "duration": 8,
    "start_time": "2022-10-28T14:42:56.787Z"
   },
   {
    "duration": 95,
    "start_time": "2022-10-28T14:45:57.570Z"
   },
   {
    "duration": 18,
    "start_time": "2022-10-28T14:46:02.691Z"
   },
   {
    "duration": 8,
    "start_time": "2022-10-28T14:46:33.516Z"
   },
   {
    "duration": 767,
    "start_time": "2022-10-28T14:47:37.291Z"
   },
   {
    "duration": 9,
    "start_time": "2022-10-28T14:47:45.686Z"
   },
   {
    "duration": 1314,
    "start_time": "2022-10-28T14:48:38.806Z"
   },
   {
    "duration": 10,
    "start_time": "2022-10-28T14:48:40.122Z"
   },
   {
    "duration": 16,
    "start_time": "2022-10-28T14:48:40.134Z"
   },
   {
    "duration": 6,
    "start_time": "2022-10-28T14:48:40.153Z"
   },
   {
    "duration": 25,
    "start_time": "2022-10-28T14:48:40.161Z"
   },
   {
    "duration": 7,
    "start_time": "2022-10-28T14:48:40.188Z"
   },
   {
    "duration": 228,
    "start_time": "2022-10-28T14:48:40.197Z"
   },
   {
    "duration": 550,
    "start_time": "2022-10-28T14:48:40.427Z"
   },
   {
    "duration": 233,
    "start_time": "2022-10-28T14:48:40.978Z"
   },
   {
    "duration": 175,
    "start_time": "2022-10-28T14:48:41.214Z"
   },
   {
    "duration": 190,
    "start_time": "2022-10-28T14:48:41.391Z"
   },
   {
    "duration": 249,
    "start_time": "2022-10-28T14:48:41.582Z"
   },
   {
    "duration": 205,
    "start_time": "2022-10-28T14:48:41.833Z"
   },
   {
    "duration": 235,
    "start_time": "2022-10-28T14:48:42.039Z"
   },
   {
    "duration": 191,
    "start_time": "2022-10-28T14:48:42.275Z"
   },
   {
    "duration": 181,
    "start_time": "2022-10-28T14:48:42.467Z"
   },
   {
    "duration": 177,
    "start_time": "2022-10-28T14:48:42.649Z"
   },
   {
    "duration": 186,
    "start_time": "2022-10-28T14:48:42.827Z"
   },
   {
    "duration": 212,
    "start_time": "2022-10-28T14:48:43.015Z"
   },
   {
    "duration": 185,
    "start_time": "2022-10-28T14:48:43.229Z"
   },
   {
    "duration": 187,
    "start_time": "2022-10-28T14:48:43.416Z"
   },
   {
    "duration": 188,
    "start_time": "2022-10-28T14:48:43.605Z"
   },
   {
    "duration": 170,
    "start_time": "2022-10-28T14:48:43.795Z"
   },
   {
    "duration": 167,
    "start_time": "2022-10-28T14:48:43.968Z"
   },
   {
    "duration": 211,
    "start_time": "2022-10-28T14:48:44.137Z"
   },
   {
    "duration": 147,
    "start_time": "2022-10-28T14:48:44.350Z"
   },
   {
    "duration": 168,
    "start_time": "2022-10-28T14:48:44.499Z"
   },
   {
    "duration": 202,
    "start_time": "2022-10-28T14:48:44.670Z"
   },
   {
    "duration": 136,
    "start_time": "2022-10-28T14:48:44.874Z"
   },
   {
    "duration": 189,
    "start_time": "2022-10-28T14:48:45.012Z"
   },
   {
    "duration": 134,
    "start_time": "2022-10-28T14:48:45.203Z"
   },
   {
    "duration": 140,
    "start_time": "2022-10-28T14:48:45.339Z"
   },
   {
    "duration": 177,
    "start_time": "2022-10-28T14:48:45.481Z"
   },
   {
    "duration": 153,
    "start_time": "2022-10-28T14:48:45.660Z"
   },
   {
    "duration": 11,
    "start_time": "2022-10-28T14:48:45.815Z"
   },
   {
    "duration": 7,
    "start_time": "2022-10-28T14:48:45.827Z"
   },
   {
    "duration": 7,
    "start_time": "2022-10-28T14:48:45.836Z"
   },
   {
    "duration": 9,
    "start_time": "2022-10-28T14:48:45.845Z"
   },
   {
    "duration": 9,
    "start_time": "2022-10-28T14:50:06.245Z"
   },
   {
    "duration": 1152,
    "start_time": "2022-10-28T14:52:05.650Z"
   },
   {
    "duration": 3,
    "start_time": "2022-10-28T14:52:06.804Z"
   },
   {
    "duration": 30,
    "start_time": "2022-10-28T14:52:06.808Z"
   },
   {
    "duration": 4,
    "start_time": "2022-10-28T14:52:06.839Z"
   },
   {
    "duration": 17,
    "start_time": "2022-10-28T14:52:06.845Z"
   },
   {
    "duration": 5,
    "start_time": "2022-10-28T14:52:06.864Z"
   },
   {
    "duration": 243,
    "start_time": "2022-10-28T14:52:06.870Z"
   },
   {
    "duration": 631,
    "start_time": "2022-10-28T14:52:07.114Z"
   },
   {
    "duration": 221,
    "start_time": "2022-10-28T14:52:07.747Z"
   },
   {
    "duration": 186,
    "start_time": "2022-10-28T14:52:07.970Z"
   },
   {
    "duration": 279,
    "start_time": "2022-10-28T14:52:08.158Z"
   },
   {
    "duration": 213,
    "start_time": "2022-10-28T14:52:08.439Z"
   },
   {
    "duration": 187,
    "start_time": "2022-10-28T14:52:08.654Z"
   },
   {
    "duration": 370,
    "start_time": "2022-10-28T14:52:08.844Z"
   },
   {
    "duration": 171,
    "start_time": "2022-10-28T14:52:09.222Z"
   },
   {
    "duration": 209,
    "start_time": "2022-10-28T14:52:09.395Z"
   },
   {
    "duration": 184,
    "start_time": "2022-10-28T14:52:09.606Z"
   },
   {
    "duration": 171,
    "start_time": "2022-10-28T14:52:09.792Z"
   },
   {
    "duration": 187,
    "start_time": "2022-10-28T14:52:09.965Z"
   },
   {
    "duration": 177,
    "start_time": "2022-10-28T14:52:10.155Z"
   },
   {
    "duration": 180,
    "start_time": "2022-10-28T14:52:10.334Z"
   },
   {
    "duration": 183,
    "start_time": "2022-10-28T14:52:10.516Z"
   },
   {
    "duration": 168,
    "start_time": "2022-10-28T14:52:10.701Z"
   },
   {
    "duration": 168,
    "start_time": "2022-10-28T14:52:10.871Z"
   },
   {
    "duration": 209,
    "start_time": "2022-10-28T14:52:11.041Z"
   },
   {
    "duration": 133,
    "start_time": "2022-10-28T14:52:11.251Z"
   },
   {
    "duration": 175,
    "start_time": "2022-10-28T14:52:11.385Z"
   },
   {
    "duration": 225,
    "start_time": "2022-10-28T14:52:11.561Z"
   },
   {
    "duration": 162,
    "start_time": "2022-10-28T14:52:11.788Z"
   },
   {
    "duration": 189,
    "start_time": "2022-10-28T14:52:11.952Z"
   },
   {
    "duration": 119,
    "start_time": "2022-10-28T14:52:12.142Z"
   },
   {
    "duration": 131,
    "start_time": "2022-10-28T14:52:12.263Z"
   },
   {
    "duration": 171,
    "start_time": "2022-10-28T14:52:12.396Z"
   },
   {
    "duration": 136,
    "start_time": "2022-10-28T14:52:12.569Z"
   },
   {
    "duration": 16,
    "start_time": "2022-10-28T14:52:12.707Z"
   },
   {
    "duration": 5,
    "start_time": "2022-10-28T14:52:12.724Z"
   },
   {
    "duration": 8,
    "start_time": "2022-10-28T14:52:12.730Z"
   },
   {
    "duration": 16,
    "start_time": "2022-10-28T14:52:12.739Z"
   },
   {
    "duration": 1140,
    "start_time": "2022-10-28T14:52:33.945Z"
   },
   {
    "duration": 3,
    "start_time": "2022-10-28T14:52:35.087Z"
   },
   {
    "duration": 28,
    "start_time": "2022-10-28T14:52:35.092Z"
   },
   {
    "duration": 4,
    "start_time": "2022-10-28T14:52:35.123Z"
   },
   {
    "duration": 19,
    "start_time": "2022-10-28T14:52:35.128Z"
   },
   {
    "duration": 7,
    "start_time": "2022-10-28T14:52:35.148Z"
   },
   {
    "duration": 209,
    "start_time": "2022-10-28T14:52:35.156Z"
   },
   {
    "duration": 554,
    "start_time": "2022-10-28T14:52:35.367Z"
   },
   {
    "duration": 237,
    "start_time": "2022-10-28T14:52:35.922Z"
   },
   {
    "duration": 180,
    "start_time": "2022-10-28T14:52:36.161Z"
   },
   {
    "duration": 190,
    "start_time": "2022-10-28T14:52:36.343Z"
   },
   {
    "duration": 173,
    "start_time": "2022-10-28T14:52:36.534Z"
   },
   {
    "duration": 181,
    "start_time": "2022-10-28T14:52:36.708Z"
   },
   {
    "duration": 246,
    "start_time": "2022-10-28T14:52:36.891Z"
   },
   {
    "duration": 176,
    "start_time": "2022-10-28T14:52:37.139Z"
   },
   {
    "duration": 208,
    "start_time": "2022-10-28T14:52:37.316Z"
   },
   {
    "duration": 194,
    "start_time": "2022-10-28T14:52:37.526Z"
   },
   {
    "duration": 167,
    "start_time": "2022-10-28T14:52:37.722Z"
   },
   {
    "duration": 189,
    "start_time": "2022-10-28T14:52:37.891Z"
   },
   {
    "duration": 183,
    "start_time": "2022-10-28T14:52:38.082Z"
   },
   {
    "duration": 188,
    "start_time": "2022-10-28T14:52:38.267Z"
   },
   {
    "duration": 175,
    "start_time": "2022-10-28T14:52:38.456Z"
   },
   {
    "duration": 166,
    "start_time": "2022-10-28T14:52:38.633Z"
   },
   {
    "duration": 195,
    "start_time": "2022-10-28T14:52:38.800Z"
   },
   {
    "duration": 227,
    "start_time": "2022-10-28T14:52:38.997Z"
   },
   {
    "duration": 128,
    "start_time": "2022-10-28T14:52:39.226Z"
   },
   {
    "duration": 168,
    "start_time": "2022-10-28T14:52:39.356Z"
   },
   {
    "duration": 187,
    "start_time": "2022-10-28T14:52:39.526Z"
   },
   {
    "duration": 140,
    "start_time": "2022-10-28T14:52:39.721Z"
   },
   {
    "duration": 176,
    "start_time": "2022-10-28T14:52:39.862Z"
   },
   {
    "duration": 114,
    "start_time": "2022-10-28T14:52:40.040Z"
   },
   {
    "duration": 124,
    "start_time": "2022-10-28T14:52:40.156Z"
   },
   {
    "duration": 164,
    "start_time": "2022-10-28T14:52:40.281Z"
   },
   {
    "duration": 123,
    "start_time": "2022-10-28T14:52:40.446Z"
   },
   {
    "duration": 6,
    "start_time": "2022-10-28T14:52:40.571Z"
   },
   {
    "duration": 9,
    "start_time": "2022-10-28T14:52:40.578Z"
   },
   {
    "duration": 10,
    "start_time": "2022-10-28T14:52:40.588Z"
   },
   {
    "duration": 13,
    "start_time": "2022-10-28T14:52:40.599Z"
   },
   {
    "duration": 1166,
    "start_time": "2022-10-28T14:53:17.113Z"
   },
   {
    "duration": 4,
    "start_time": "2022-10-28T14:53:18.281Z"
   },
   {
    "duration": 25,
    "start_time": "2022-10-28T14:53:18.286Z"
   },
   {
    "duration": 12,
    "start_time": "2022-10-28T14:53:18.313Z"
   },
   {
    "duration": 18,
    "start_time": "2022-10-28T14:53:18.327Z"
   },
   {
    "duration": 6,
    "start_time": "2022-10-28T14:53:18.347Z"
   },
   {
    "duration": 229,
    "start_time": "2022-10-28T14:53:18.355Z"
   },
   {
    "duration": 695,
    "start_time": "2022-10-28T14:53:18.586Z"
   },
   {
    "duration": 280,
    "start_time": "2022-10-28T14:53:19.283Z"
   },
   {
    "duration": 178,
    "start_time": "2022-10-28T14:53:19.566Z"
   },
   {
    "duration": 187,
    "start_time": "2022-10-28T14:53:19.745Z"
   },
   {
    "duration": 177,
    "start_time": "2022-10-28T14:53:19.933Z"
   },
   {
    "duration": 180,
    "start_time": "2022-10-28T14:53:20.112Z"
   },
   {
    "duration": 241,
    "start_time": "2022-10-28T14:53:20.294Z"
   },
   {
    "duration": 170,
    "start_time": "2022-10-28T14:53:20.537Z"
   },
   {
    "duration": 175,
    "start_time": "2022-10-28T14:53:20.709Z"
   },
   {
    "duration": 179,
    "start_time": "2022-10-28T14:53:20.886Z"
   },
   {
    "duration": 184,
    "start_time": "2022-10-28T14:53:21.067Z"
   },
   {
    "duration": 184,
    "start_time": "2022-10-28T14:53:21.253Z"
   },
   {
    "duration": 171,
    "start_time": "2022-10-28T14:53:21.439Z"
   },
   {
    "duration": 197,
    "start_time": "2022-10-28T14:53:21.612Z"
   },
   {
    "duration": 197,
    "start_time": "2022-10-28T14:53:21.811Z"
   },
   {
    "duration": 173,
    "start_time": "2022-10-28T14:53:22.010Z"
   },
   {
    "duration": 174,
    "start_time": "2022-10-28T14:53:22.185Z"
   },
   {
    "duration": 205,
    "start_time": "2022-10-28T14:53:22.361Z"
   },
   {
    "duration": 137,
    "start_time": "2022-10-28T14:53:22.568Z"
   },
   {
    "duration": 159,
    "start_time": "2022-10-28T14:53:22.707Z"
   },
   {
    "duration": 198,
    "start_time": "2022-10-28T14:53:22.870Z"
   },
   {
    "duration": 153,
    "start_time": "2022-10-28T14:53:23.070Z"
   },
   {
    "duration": 186,
    "start_time": "2022-10-28T14:53:23.225Z"
   },
   {
    "duration": 111,
    "start_time": "2022-10-28T14:53:23.412Z"
   },
   {
    "duration": 138,
    "start_time": "2022-10-28T14:53:23.525Z"
   },
   {
    "duration": 177,
    "start_time": "2022-10-28T14:53:23.665Z"
   },
   {
    "duration": 133,
    "start_time": "2022-10-28T14:53:23.843Z"
   },
   {
    "duration": 7,
    "start_time": "2022-10-28T14:53:23.978Z"
   },
   {
    "duration": 8,
    "start_time": "2022-10-28T14:53:23.987Z"
   },
   {
    "duration": 15,
    "start_time": "2022-10-28T14:53:23.996Z"
   },
   {
    "duration": 6,
    "start_time": "2022-10-28T14:53:24.021Z"
   },
   {
    "duration": 18,
    "start_time": "2022-10-28T14:54:50.690Z"
   },
   {
    "duration": 17,
    "start_time": "2022-10-28T14:54:56.900Z"
   },
   {
    "duration": 17,
    "start_time": "2022-10-28T14:54:59.585Z"
   },
   {
    "duration": 32,
    "start_time": "2022-10-28T14:55:08.647Z"
   },
   {
    "duration": 44,
    "start_time": "2022-10-28T14:56:13.109Z"
   },
   {
    "duration": 19,
    "start_time": "2022-10-28T14:56:43.339Z"
   },
   {
    "duration": 54,
    "start_time": "2022-10-28T14:57:23.205Z"
   },
   {
    "duration": 18,
    "start_time": "2022-10-28T14:57:57.574Z"
   },
   {
    "duration": 1134,
    "start_time": "2022-10-28T14:58:09.046Z"
   },
   {
    "duration": 2,
    "start_time": "2022-10-28T14:58:10.182Z"
   },
   {
    "duration": 49,
    "start_time": "2022-10-28T14:58:10.186Z"
   },
   {
    "duration": 4,
    "start_time": "2022-10-28T14:58:10.237Z"
   },
   {
    "duration": 34,
    "start_time": "2022-10-28T14:58:10.243Z"
   },
   {
    "duration": 8,
    "start_time": "2022-10-28T14:58:10.278Z"
   },
   {
    "duration": 203,
    "start_time": "2022-10-28T14:58:10.287Z"
   },
   {
    "duration": 582,
    "start_time": "2022-10-28T14:58:10.491Z"
   },
   {
    "duration": 223,
    "start_time": "2022-10-28T14:58:11.075Z"
   },
   {
    "duration": 167,
    "start_time": "2022-10-28T14:58:11.299Z"
   },
   {
    "duration": 202,
    "start_time": "2022-10-28T14:58:11.468Z"
   },
   {
    "duration": 182,
    "start_time": "2022-10-28T14:58:11.672Z"
   },
   {
    "duration": 177,
    "start_time": "2022-10-28T14:58:11.856Z"
   },
   {
    "duration": 229,
    "start_time": "2022-10-28T14:58:12.036Z"
   },
   {
    "duration": 171,
    "start_time": "2022-10-28T14:58:12.266Z"
   },
   {
    "duration": 178,
    "start_time": "2022-10-28T14:58:12.438Z"
   },
   {
    "duration": 187,
    "start_time": "2022-10-28T14:58:12.618Z"
   },
   {
    "duration": 173,
    "start_time": "2022-10-28T14:58:12.806Z"
   },
   {
    "duration": 194,
    "start_time": "2022-10-28T14:58:12.981Z"
   },
   {
    "duration": 178,
    "start_time": "2022-10-28T14:58:13.178Z"
   },
   {
    "duration": 189,
    "start_time": "2022-10-28T14:58:13.358Z"
   },
   {
    "duration": 185,
    "start_time": "2022-10-28T14:58:13.549Z"
   },
   {
    "duration": 176,
    "start_time": "2022-10-28T14:58:13.736Z"
   },
   {
    "duration": 163,
    "start_time": "2022-10-28T14:58:13.914Z"
   },
   {
    "duration": 196,
    "start_time": "2022-10-28T14:58:14.079Z"
   },
   {
    "duration": 132,
    "start_time": "2022-10-28T14:58:14.276Z"
   },
   {
    "duration": 173,
    "start_time": "2022-10-28T14:58:14.409Z"
   },
   {
    "duration": 198,
    "start_time": "2022-10-28T14:58:14.584Z"
   },
   {
    "duration": 143,
    "start_time": "2022-10-28T14:58:14.784Z"
   },
   {
    "duration": 194,
    "start_time": "2022-10-28T14:58:14.929Z"
   },
   {
    "duration": 120,
    "start_time": "2022-10-28T14:58:15.125Z"
   },
   {
    "duration": 120,
    "start_time": "2022-10-28T14:58:15.247Z"
   },
   {
    "duration": 162,
    "start_time": "2022-10-28T14:58:15.368Z"
   },
   {
    "duration": 127,
    "start_time": "2022-10-28T14:58:15.532Z"
   },
   {
    "duration": 6,
    "start_time": "2022-10-28T14:58:15.661Z"
   },
   {
    "duration": 8,
    "start_time": "2022-10-28T14:58:15.669Z"
   },
   {
    "duration": 8,
    "start_time": "2022-10-28T14:58:15.678Z"
   },
   {
    "duration": 6,
    "start_time": "2022-10-28T14:58:15.688Z"
   },
   {
    "duration": 1106,
    "start_time": "2022-10-28T14:58:33.074Z"
   },
   {
    "duration": 4,
    "start_time": "2022-10-28T14:58:34.182Z"
   },
   {
    "duration": 31,
    "start_time": "2022-10-28T14:58:34.188Z"
   },
   {
    "duration": 19,
    "start_time": "2022-10-28T14:58:34.222Z"
   },
   {
    "duration": 36,
    "start_time": "2022-10-28T14:58:34.242Z"
   },
   {
    "duration": 14,
    "start_time": "2022-10-28T14:58:34.279Z"
   },
   {
    "duration": 207,
    "start_time": "2022-10-28T14:58:34.294Z"
   },
   {
    "duration": 582,
    "start_time": "2022-10-28T14:58:34.503Z"
   },
   {
    "duration": 227,
    "start_time": "2022-10-28T14:58:35.086Z"
   },
   {
    "duration": 187,
    "start_time": "2022-10-28T14:58:35.315Z"
   },
   {
    "duration": 182,
    "start_time": "2022-10-28T14:58:35.504Z"
   },
   {
    "duration": 180,
    "start_time": "2022-10-28T14:58:35.687Z"
   },
   {
    "duration": 183,
    "start_time": "2022-10-28T14:58:35.868Z"
   },
   {
    "duration": 238,
    "start_time": "2022-10-28T14:58:36.052Z"
   },
   {
    "duration": 178,
    "start_time": "2022-10-28T14:58:36.291Z"
   },
   {
    "duration": 180,
    "start_time": "2022-10-28T14:58:36.470Z"
   },
   {
    "duration": 172,
    "start_time": "2022-10-28T14:58:36.652Z"
   },
   {
    "duration": 167,
    "start_time": "2022-10-28T14:58:36.825Z"
   },
   {
    "duration": 188,
    "start_time": "2022-10-28T14:58:36.994Z"
   },
   {
    "duration": 173,
    "start_time": "2022-10-28T14:58:37.183Z"
   },
   {
    "duration": 193,
    "start_time": "2022-10-28T14:58:37.357Z"
   },
   {
    "duration": 182,
    "start_time": "2022-10-28T14:58:37.552Z"
   },
   {
    "duration": 173,
    "start_time": "2022-10-28T14:58:37.735Z"
   },
   {
    "duration": 155,
    "start_time": "2022-10-28T14:58:37.910Z"
   },
   {
    "duration": 197,
    "start_time": "2022-10-28T14:58:38.066Z"
   },
   {
    "duration": 137,
    "start_time": "2022-10-28T14:58:38.265Z"
   },
   {
    "duration": 181,
    "start_time": "2022-10-28T14:58:38.403Z"
   },
   {
    "duration": 198,
    "start_time": "2022-10-28T14:58:38.587Z"
   },
   {
    "duration": 183,
    "start_time": "2022-10-28T14:58:38.787Z"
   },
   {
    "duration": 233,
    "start_time": "2022-10-28T14:58:38.972Z"
   },
   {
    "duration": 137,
    "start_time": "2022-10-28T14:58:39.207Z"
   },
   {
    "duration": 134,
    "start_time": "2022-10-28T14:58:39.346Z"
   },
   {
    "duration": 165,
    "start_time": "2022-10-28T14:58:39.482Z"
   },
   {
    "duration": 122,
    "start_time": "2022-10-28T14:58:39.649Z"
   },
   {
    "duration": 6,
    "start_time": "2022-10-28T14:58:39.773Z"
   },
   {
    "duration": 7,
    "start_time": "2022-10-28T14:58:39.780Z"
   },
   {
    "duration": 9,
    "start_time": "2022-10-28T14:58:39.788Z"
   },
   {
    "duration": 6,
    "start_time": "2022-10-28T14:58:39.799Z"
   },
   {
    "duration": 563,
    "start_time": "2022-10-28T15:01:29.047Z"
   },
   {
    "duration": 564,
    "start_time": "2022-10-28T15:01:42.881Z"
   },
   {
    "duration": 154,
    "start_time": "2022-10-28T15:03:07.963Z"
   },
   {
    "duration": 71,
    "start_time": "2022-10-28T15:03:19.314Z"
   },
   {
    "duration": 559,
    "start_time": "2022-10-28T15:04:46.992Z"
   },
   {
    "duration": 588,
    "start_time": "2022-10-28T15:07:16.798Z"
   },
   {
    "duration": 515,
    "start_time": "2022-10-28T15:08:12.900Z"
   },
   {
    "duration": 502,
    "start_time": "2022-10-28T15:08:23.960Z"
   },
   {
    "duration": 489,
    "start_time": "2022-10-28T15:08:33.818Z"
   },
   {
    "duration": 464,
    "start_time": "2022-10-28T15:09:16.598Z"
   },
   {
    "duration": 447,
    "start_time": "2022-10-28T15:09:33.316Z"
   },
   {
    "duration": 548,
    "start_time": "2022-10-28T15:09:45.694Z"
   },
   {
    "duration": 56,
    "start_time": "2022-10-28T15:11:20.726Z"
   },
   {
    "duration": 223,
    "start_time": "2022-10-28T15:19:48.958Z"
   },
   {
    "duration": 180,
    "start_time": "2022-10-28T15:22:10.914Z"
   },
   {
    "duration": 175,
    "start_time": "2022-10-28T15:22:19.476Z"
   },
   {
    "duration": 149,
    "start_time": "2022-10-28T15:24:29.942Z"
   },
   {
    "duration": 144,
    "start_time": "2022-10-28T15:24:38.540Z"
   },
   {
    "duration": 205,
    "start_time": "2022-10-28T15:26:20.223Z"
   },
   {
    "duration": 445,
    "start_time": "2022-10-28T15:37:55.622Z"
   },
   {
    "duration": 180,
    "start_time": "2022-10-28T15:40:05.879Z"
   },
   {
    "duration": 136,
    "start_time": "2022-10-28T15:41:33.249Z"
   },
   {
    "duration": 149,
    "start_time": "2022-10-28T15:41:58.177Z"
   },
   {
    "duration": 139,
    "start_time": "2022-10-28T15:44:56.131Z"
   },
   {
    "duration": 143,
    "start_time": "2022-10-28T15:45:06.985Z"
   },
   {
    "duration": 165,
    "start_time": "2022-10-28T15:45:13.279Z"
   },
   {
    "duration": 158,
    "start_time": "2022-10-28T15:45:22.035Z"
   },
   {
    "duration": 178,
    "start_time": "2022-10-28T15:45:57.203Z"
   },
   {
    "duration": 175,
    "start_time": "2022-10-28T15:46:16.549Z"
   },
   {
    "duration": 165,
    "start_time": "2022-10-28T15:46:40.699Z"
   },
   {
    "duration": 158,
    "start_time": "2022-10-28T15:47:03.398Z"
   },
   {
    "duration": 153,
    "start_time": "2022-10-28T15:47:10.088Z"
   },
   {
    "duration": 161,
    "start_time": "2022-10-28T15:47:31.861Z"
   },
   {
    "duration": 124,
    "start_time": "2022-10-28T15:51:56.884Z"
   },
   {
    "duration": 130,
    "start_time": "2022-10-28T15:52:13.373Z"
   },
   {
    "duration": 51,
    "start_time": "2022-10-28T15:52:24.999Z"
   },
   {
    "duration": 163,
    "start_time": "2022-10-28T15:52:55.811Z"
   },
   {
    "duration": 322,
    "start_time": "2022-10-28T15:53:07.371Z"
   },
   {
    "duration": 173,
    "start_time": "2022-10-28T15:56:37.107Z"
   },
   {
    "duration": 160,
    "start_time": "2022-10-28T15:56:58.330Z"
   },
   {
    "duration": 161,
    "start_time": "2022-10-28T15:57:22.670Z"
   },
   {
    "duration": 138,
    "start_time": "2022-10-28T15:57:31.341Z"
   },
   {
    "duration": 168,
    "start_time": "2022-10-28T15:57:37.453Z"
   },
   {
    "duration": 164,
    "start_time": "2022-10-28T15:57:48.643Z"
   },
   {
    "duration": 47,
    "start_time": "2022-10-28T16:02:09.365Z"
   },
   {
    "duration": 118,
    "start_time": "2022-10-28T16:02:14.381Z"
   },
   {
    "duration": 124,
    "start_time": "2022-10-28T16:02:40.688Z"
   },
   {
    "duration": 164,
    "start_time": "2022-10-28T16:02:58.406Z"
   },
   {
    "duration": 49,
    "start_time": "2022-10-28T16:03:04.624Z"
   },
   {
    "duration": 147,
    "start_time": "2022-10-28T16:03:09.054Z"
   },
   {
    "duration": 164,
    "start_time": "2022-10-28T16:03:28.783Z"
   },
   {
    "duration": 131,
    "start_time": "2022-10-28T16:03:37.767Z"
   },
   {
    "duration": 177,
    "start_time": "2022-10-28T16:04:09.878Z"
   },
   {
    "duration": 180,
    "start_time": "2022-10-28T16:04:16.971Z"
   },
   {
    "duration": 169,
    "start_time": "2022-10-28T16:04:20.516Z"
   },
   {
    "duration": 166,
    "start_time": "2022-10-28T16:07:47.128Z"
   },
   {
    "duration": 1244,
    "start_time": "2022-10-28T16:08:23.224Z"
   },
   {
    "duration": 3,
    "start_time": "2022-10-28T16:08:24.471Z"
   },
   {
    "duration": 40,
    "start_time": "2022-10-28T16:08:24.475Z"
   },
   {
    "duration": 15,
    "start_time": "2022-10-28T16:08:24.516Z"
   },
   {
    "duration": 39,
    "start_time": "2022-10-28T16:08:24.534Z"
   },
   {
    "duration": 32,
    "start_time": "2022-10-28T16:08:24.574Z"
   },
   {
    "duration": 228,
    "start_time": "2022-10-28T16:08:24.607Z"
   },
   {
    "duration": 496,
    "start_time": "2022-10-28T16:08:24.837Z"
   },
   {
    "duration": 223,
    "start_time": "2022-10-28T16:08:25.334Z"
   },
   {
    "duration": 167,
    "start_time": "2022-10-28T16:08:25.558Z"
   },
   {
    "duration": 183,
    "start_time": "2022-10-28T16:08:25.727Z"
   },
   {
    "duration": 172,
    "start_time": "2022-10-28T16:08:25.911Z"
   },
   {
    "duration": 183,
    "start_time": "2022-10-28T16:08:26.084Z"
   },
   {
    "duration": 239,
    "start_time": "2022-10-28T16:08:26.270Z"
   },
   {
    "duration": 174,
    "start_time": "2022-10-28T16:08:26.510Z"
   },
   {
    "duration": 170,
    "start_time": "2022-10-28T16:08:26.685Z"
   },
   {
    "duration": 176,
    "start_time": "2022-10-28T16:08:26.857Z"
   },
   {
    "duration": 168,
    "start_time": "2022-10-28T16:08:27.034Z"
   },
   {
    "duration": 176,
    "start_time": "2022-10-28T16:08:27.204Z"
   },
   {
    "duration": 201,
    "start_time": "2022-10-28T16:08:27.382Z"
   },
   {
    "duration": 177,
    "start_time": "2022-10-28T16:08:27.584Z"
   },
   {
    "duration": 178,
    "start_time": "2022-10-28T16:08:27.762Z"
   },
   {
    "duration": 168,
    "start_time": "2022-10-28T16:08:27.941Z"
   },
   {
    "duration": 175,
    "start_time": "2022-10-28T16:08:28.110Z"
   },
   {
    "duration": 195,
    "start_time": "2022-10-28T16:08:28.286Z"
   },
   {
    "duration": 156,
    "start_time": "2022-10-28T16:08:28.482Z"
   },
   {
    "duration": 278,
    "start_time": "2022-10-28T16:08:28.640Z"
   },
   {
    "duration": 154,
    "start_time": "2022-10-28T16:08:28.922Z"
   },
   {
    "duration": 153,
    "start_time": "2022-10-28T16:08:29.078Z"
   },
   {
    "duration": 181,
    "start_time": "2022-10-28T16:08:29.233Z"
   },
   {
    "duration": 113,
    "start_time": "2022-10-28T16:08:29.421Z"
   },
   {
    "duration": 131,
    "start_time": "2022-10-28T16:08:29.535Z"
   },
   {
    "duration": 165,
    "start_time": "2022-10-28T16:08:29.668Z"
   },
   {
    "duration": 123,
    "start_time": "2022-10-28T16:08:29.834Z"
   },
   {
    "duration": 6,
    "start_time": "2022-10-28T16:08:29.958Z"
   },
   {
    "duration": 21,
    "start_time": "2022-10-28T16:08:29.966Z"
   },
   {
    "duration": 27,
    "start_time": "2022-10-28T16:08:29.989Z"
   },
   {
    "duration": 33,
    "start_time": "2022-10-28T16:08:30.017Z"
   },
   {
    "duration": 180,
    "start_time": "2022-10-28T16:11:00.314Z"
   },
   {
    "duration": 233,
    "start_time": "2022-10-28T16:21:30.682Z"
   },
   {
    "duration": 1134,
    "start_time": "2022-10-28T16:21:45.545Z"
   },
   {
    "duration": 3,
    "start_time": "2022-10-28T16:21:46.681Z"
   },
   {
    "duration": 25,
    "start_time": "2022-10-28T16:21:46.685Z"
   },
   {
    "duration": 4,
    "start_time": "2022-10-28T16:21:46.711Z"
   },
   {
    "duration": 18,
    "start_time": "2022-10-28T16:21:46.721Z"
   },
   {
    "duration": 8,
    "start_time": "2022-10-28T16:21:46.740Z"
   },
   {
    "duration": 204,
    "start_time": "2022-10-28T16:21:46.750Z"
   },
   {
    "duration": 472,
    "start_time": "2022-10-28T16:21:46.956Z"
   },
   {
    "duration": 241,
    "start_time": "2022-10-28T16:21:47.430Z"
   },
   {
    "duration": 160,
    "start_time": "2022-10-28T16:21:47.672Z"
   },
   {
    "duration": 174,
    "start_time": "2022-10-28T16:21:47.834Z"
   },
   {
    "duration": 175,
    "start_time": "2022-10-28T16:21:48.009Z"
   },
   {
    "duration": 170,
    "start_time": "2022-10-28T16:21:48.186Z"
   },
   {
    "duration": 231,
    "start_time": "2022-10-28T16:21:48.359Z"
   },
   {
    "duration": 174,
    "start_time": "2022-10-28T16:21:48.592Z"
   },
   {
    "duration": 211,
    "start_time": "2022-10-28T16:21:48.767Z"
   },
   {
    "duration": 222,
    "start_time": "2022-10-28T16:21:48.980Z"
   },
   {
    "duration": 169,
    "start_time": "2022-10-28T16:21:49.204Z"
   },
   {
    "duration": 185,
    "start_time": "2022-10-28T16:21:49.374Z"
   },
   {
    "duration": 169,
    "start_time": "2022-10-28T16:21:49.561Z"
   },
   {
    "duration": 181,
    "start_time": "2022-10-28T16:21:49.732Z"
   },
   {
    "duration": 173,
    "start_time": "2022-10-28T16:21:49.915Z"
   },
   {
    "duration": 169,
    "start_time": "2022-10-28T16:21:50.090Z"
   },
   {
    "duration": 159,
    "start_time": "2022-10-28T16:21:50.260Z"
   },
   {
    "duration": 195,
    "start_time": "2022-10-28T16:21:50.421Z"
   },
   {
    "duration": 126,
    "start_time": "2022-10-28T16:21:50.621Z"
   },
   {
    "duration": 243,
    "start_time": "2022-10-28T16:21:50.748Z"
   },
   {
    "duration": 122,
    "start_time": "2022-10-28T16:21:50.993Z"
   },
   {
    "duration": 142,
    "start_time": "2022-10-28T16:21:51.123Z"
   },
   {
    "duration": 179,
    "start_time": "2022-10-28T16:21:51.267Z"
   },
   {
    "duration": 142,
    "start_time": "2022-10-28T16:21:51.448Z"
   },
   {
    "duration": 120,
    "start_time": "2022-10-28T16:21:51.591Z"
   },
   {
    "duration": 192,
    "start_time": "2022-10-28T16:21:51.712Z"
   },
   {
    "duration": 128,
    "start_time": "2022-10-28T16:21:51.906Z"
   },
   {
    "duration": 7,
    "start_time": "2022-10-28T16:21:52.036Z"
   },
   {
    "duration": 7,
    "start_time": "2022-10-28T16:21:52.044Z"
   },
   {
    "duration": 12,
    "start_time": "2022-10-28T16:21:52.053Z"
   },
   {
    "duration": 6,
    "start_time": "2022-10-28T16:21:52.066Z"
   },
   {
    "duration": 11,
    "start_time": "2022-10-28T16:24:52.420Z"
   },
   {
    "duration": 10,
    "start_time": "2022-10-28T16:25:37.437Z"
   },
   {
    "duration": 12,
    "start_time": "2022-10-28T16:26:13.442Z"
   },
   {
    "duration": 100,
    "start_time": "2022-10-28T16:26:39.350Z"
   },
   {
    "duration": 8,
    "start_time": "2022-10-28T16:26:59.998Z"
   },
   {
    "duration": 12,
    "start_time": "2022-10-28T16:27:43.524Z"
   },
   {
    "duration": 187,
    "start_time": "2022-10-28T16:27:57.692Z"
   },
   {
    "duration": 7,
    "start_time": "2022-10-28T16:28:10.960Z"
   },
   {
    "duration": 5,
    "start_time": "2022-10-28T16:28:13.519Z"
   },
   {
    "duration": 10,
    "start_time": "2022-10-28T16:31:20.406Z"
   },
   {
    "duration": 7,
    "start_time": "2022-10-28T16:31:24.660Z"
   },
   {
    "duration": 9,
    "start_time": "2022-10-28T16:31:56.165Z"
   },
   {
    "duration": 5,
    "start_time": "2022-10-28T16:32:00.221Z"
   },
   {
    "duration": 7,
    "start_time": "2022-10-28T16:33:21.694Z"
   },
   {
    "duration": 8,
    "start_time": "2022-10-28T16:33:59.559Z"
   },
   {
    "duration": 6,
    "start_time": "2022-10-28T16:34:05.226Z"
   },
   {
    "duration": 1095,
    "start_time": "2022-10-28T16:35:04.980Z"
   },
   {
    "duration": 3,
    "start_time": "2022-10-28T16:35:06.077Z"
   },
   {
    "duration": 22,
    "start_time": "2022-10-28T16:35:06.082Z"
   },
   {
    "duration": 18,
    "start_time": "2022-10-28T16:35:06.106Z"
   },
   {
    "duration": 18,
    "start_time": "2022-10-28T16:35:06.125Z"
   },
   {
    "duration": 10,
    "start_time": "2022-10-28T16:35:06.145Z"
   },
   {
    "duration": 202,
    "start_time": "2022-10-28T16:35:06.157Z"
   },
   {
    "duration": 472,
    "start_time": "2022-10-28T16:35:06.361Z"
   },
   {
    "duration": 222,
    "start_time": "2022-10-28T16:35:06.834Z"
   },
   {
    "duration": 164,
    "start_time": "2022-10-28T16:35:07.058Z"
   },
   {
    "duration": 173,
    "start_time": "2022-10-28T16:35:07.224Z"
   },
   {
    "duration": 186,
    "start_time": "2022-10-28T16:35:07.399Z"
   },
   {
    "duration": 182,
    "start_time": "2022-10-28T16:35:07.587Z"
   },
   {
    "duration": 231,
    "start_time": "2022-10-28T16:35:07.771Z"
   },
   {
    "duration": 168,
    "start_time": "2022-10-28T16:35:08.004Z"
   },
   {
    "duration": 183,
    "start_time": "2022-10-28T16:35:08.174Z"
   },
   {
    "duration": 176,
    "start_time": "2022-10-28T16:35:08.358Z"
   },
   {
    "duration": 177,
    "start_time": "2022-10-28T16:35:08.535Z"
   },
   {
    "duration": 196,
    "start_time": "2022-10-28T16:35:08.714Z"
   },
   {
    "duration": 231,
    "start_time": "2022-10-28T16:35:08.912Z"
   },
   {
    "duration": 202,
    "start_time": "2022-10-28T16:35:09.145Z"
   },
   {
    "duration": 180,
    "start_time": "2022-10-28T16:35:09.349Z"
   },
   {
    "duration": 164,
    "start_time": "2022-10-28T16:35:09.531Z"
   },
   {
    "duration": 157,
    "start_time": "2022-10-28T16:35:09.697Z"
   },
   {
    "duration": 198,
    "start_time": "2022-10-28T16:35:09.855Z"
   },
   {
    "duration": 138,
    "start_time": "2022-10-28T16:35:10.055Z"
   },
   {
    "duration": 243,
    "start_time": "2022-10-28T16:35:10.195Z"
   },
   {
    "duration": 124,
    "start_time": "2022-10-28T16:35:10.441Z"
   },
   {
    "duration": 179,
    "start_time": "2022-10-28T16:35:10.566Z"
   },
   {
    "duration": 200,
    "start_time": "2022-10-28T16:35:10.746Z"
   },
   {
    "duration": 123,
    "start_time": "2022-10-28T16:35:10.948Z"
   },
   {
    "duration": 131,
    "start_time": "2022-10-28T16:35:11.072Z"
   },
   {
    "duration": 174,
    "start_time": "2022-10-28T16:35:11.204Z"
   },
   {
    "duration": 127,
    "start_time": "2022-10-28T16:35:11.380Z"
   },
   {
    "duration": 19,
    "start_time": "2022-10-28T16:35:11.509Z"
   },
   {
    "duration": 8,
    "start_time": "2022-10-28T16:35:11.530Z"
   },
   {
    "duration": 21,
    "start_time": "2022-10-28T16:35:11.540Z"
   },
   {
    "duration": 24,
    "start_time": "2022-10-28T16:35:11.562Z"
   },
   {
    "duration": 234,
    "start_time": "2022-10-28T16:48:15.481Z"
   },
   {
    "duration": 222,
    "start_time": "2022-10-28T16:53:29.003Z"
   },
   {
    "duration": 1110,
    "start_time": "2022-10-28T17:41:59.177Z"
   },
   {
    "duration": 2,
    "start_time": "2022-10-28T17:42:00.289Z"
   },
   {
    "duration": 51,
    "start_time": "2022-10-28T17:42:00.296Z"
   },
   {
    "duration": 4,
    "start_time": "2022-10-28T17:42:00.348Z"
   },
   {
    "duration": 28,
    "start_time": "2022-10-28T17:42:00.354Z"
   },
   {
    "duration": 6,
    "start_time": "2022-10-28T17:42:00.384Z"
   },
   {
    "duration": 203,
    "start_time": "2022-10-28T17:42:00.391Z"
   },
   {
    "duration": 175,
    "start_time": "2022-10-28T18:09:46.037Z"
   },
   {
    "duration": 167,
    "start_time": "2022-10-28T18:09:55.822Z"
   },
   {
    "duration": 187,
    "start_time": "2022-10-28T18:10:03.471Z"
   },
   {
    "duration": 184,
    "start_time": "2022-10-28T18:10:07.926Z"
   },
   {
    "duration": 110,
    "start_time": "2022-10-28T18:10:19.602Z"
   },
   {
    "duration": 128,
    "start_time": "2022-10-28T18:10:40.200Z"
   },
   {
    "duration": 178,
    "start_time": "2022-10-28T18:10:41.402Z"
   },
   {
    "duration": 227,
    "start_time": "2022-10-28T18:10:43.657Z"
   },
   {
    "duration": 69,
    "start_time": "2022-10-28T18:11:50.324Z"
   },
   {
    "duration": 1432,
    "start_time": "2022-10-29T02:11:07.630Z"
   },
   {
    "duration": 4,
    "start_time": "2022-10-29T02:11:09.064Z"
   },
   {
    "duration": 28,
    "start_time": "2022-10-29T02:11:09.069Z"
   },
   {
    "duration": 4,
    "start_time": "2022-10-29T02:11:09.099Z"
   },
   {
    "duration": 25,
    "start_time": "2022-10-29T02:11:09.106Z"
   },
   {
    "duration": 9,
    "start_time": "2022-10-29T02:11:09.132Z"
   },
   {
    "duration": 239,
    "start_time": "2022-10-29T02:11:09.142Z"
   },
   {
    "duration": 536,
    "start_time": "2022-10-29T02:11:09.384Z"
   },
   {
    "duration": 258,
    "start_time": "2022-10-29T02:11:09.923Z"
   },
   {
    "duration": 190,
    "start_time": "2022-10-29T02:11:10.183Z"
   },
   {
    "duration": 208,
    "start_time": "2022-10-29T02:11:10.376Z"
   },
   {
    "duration": 191,
    "start_time": "2022-10-29T02:11:10.585Z"
   },
   {
    "duration": 193,
    "start_time": "2022-10-29T02:11:10.778Z"
   },
   {
    "duration": 257,
    "start_time": "2022-10-29T02:11:10.976Z"
   },
   {
    "duration": 179,
    "start_time": "2022-10-29T02:11:11.235Z"
   },
   {
    "duration": 202,
    "start_time": "2022-10-29T02:11:11.416Z"
   },
   {
    "duration": 209,
    "start_time": "2022-10-29T02:11:11.620Z"
   },
   {
    "duration": 189,
    "start_time": "2022-10-29T02:11:11.831Z"
   },
   {
    "duration": 217,
    "start_time": "2022-10-29T02:11:12.022Z"
   },
   {
    "duration": 201,
    "start_time": "2022-10-29T02:11:12.241Z"
   },
   {
    "duration": 221,
    "start_time": "2022-10-29T02:11:12.444Z"
   },
   {
    "duration": 198,
    "start_time": "2022-10-29T02:11:12.667Z"
   },
   {
    "duration": 196,
    "start_time": "2022-10-29T02:11:12.867Z"
   },
   {
    "duration": 187,
    "start_time": "2022-10-29T02:11:13.065Z"
   },
   {
    "duration": 201,
    "start_time": "2022-10-29T02:11:13.253Z"
   },
   {
    "duration": 164,
    "start_time": "2022-10-29T02:11:13.456Z"
   },
   {
    "duration": 276,
    "start_time": "2022-10-29T02:11:13.623Z"
   },
   {
    "duration": 136,
    "start_time": "2022-10-29T02:11:13.901Z"
   },
   {
    "duration": 170,
    "start_time": "2022-10-29T02:11:14.038Z"
   },
   {
    "duration": 198,
    "start_time": "2022-10-29T02:11:14.210Z"
   },
   {
    "duration": 143,
    "start_time": "2022-10-29T02:11:14.410Z"
   },
   {
    "duration": 163,
    "start_time": "2022-10-29T02:11:14.555Z"
   },
   {
    "duration": 180,
    "start_time": "2022-10-29T02:11:14.720Z"
   },
   {
    "duration": 146,
    "start_time": "2022-10-29T02:11:14.902Z"
   },
   {
    "duration": 9,
    "start_time": "2022-10-29T02:11:15.050Z"
   },
   {
    "duration": 19,
    "start_time": "2022-10-29T02:11:15.062Z"
   },
   {
    "duration": 12,
    "start_time": "2022-10-29T02:11:15.082Z"
   },
   {
    "duration": 7,
    "start_time": "2022-10-29T02:11:15.096Z"
   }
  ],
  "kernelspec": {
   "display_name": "Python 3 (ipykernel)",
   "language": "python",
   "name": "python3"
  },
  "language_info": {
   "codemirror_mode": {
    "name": "ipython",
    "version": 3
   },
   "file_extension": ".py",
   "mimetype": "text/x-python",
   "name": "python",
   "nbconvert_exporter": "python",
   "pygments_lexer": "ipython3",
   "version": "3.9.12"
  },
  "toc": {
   "base_numbering": 1,
   "nav_menu": {},
   "number_sections": true,
   "sideBar": true,
   "skip_h1_title": true,
   "title_cell": "Table of Contents",
   "title_sidebar": "Contents",
   "toc_cell": false,
   "toc_position": {},
   "toc_section_display": true,
   "toc_window_display": false
  }
 },
 "nbformat": 4,
 "nbformat_minor": 2
}
