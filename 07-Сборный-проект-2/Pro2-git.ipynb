{
 "cells": [
  {
   "cell_type": "markdown",
   "metadata": {
    "toc": true
   },
   "source": [
    "<h1>Содержание<span class=\"tocSkip\"></span></h1>\n",
    "<div class=\"toc\"><ul class=\"toc-item\"><li><span><a href=\"#Подготовка-данных\" data-toc-modified-id=\"Подготовка-данных-1\"><span class=\"toc-item-num\">1&nbsp;&nbsp;</span>Подготовка данных</a></span><ul class=\"toc-item\"><li><span><a href=\"#Загрузка-библиотек\" data-toc-modified-id=\"Загрузка-библиотек-1.1\"><span class=\"toc-item-num\">1.1&nbsp;&nbsp;</span>Загрузка библиотек</a></span></li><li><span><a href=\"#Загрузка-данных\" data-toc-modified-id=\"Загрузка-данных-1.2\"><span class=\"toc-item-num\">1.2&nbsp;&nbsp;</span>Загрузка данных</a></span></li><li><span><a href=\"#Вычислите-эффективность-обогащения-на-обучающей-выборке\" data-toc-modified-id=\"Вычислите-эффективность-обогащения-на-обучающей-выборке-1.3\"><span class=\"toc-item-num\">1.3&nbsp;&nbsp;</span>Вычислите эффективность обогащения на обучающей выборке</a></span></li><li><span><a href=\"#Проанализируйте-признаки,-недоступные-в-тестовой-выборке\" data-toc-modified-id=\"Проанализируйте-признаки,-недоступные-в-тестовой-выборке-1.4\"><span class=\"toc-item-num\">1.4&nbsp;&nbsp;</span>Проанализируйте признаки, недоступные в тестовой выборке</a></span></li><li><span><a href=\"#Предобработка-данных\" data-toc-modified-id=\"Предобработка-данных-1.5\"><span class=\"toc-item-num\">1.5&nbsp;&nbsp;</span>Предобработка данных</a></span></li><li><span><a href=\"#Вывод\" data-toc-modified-id=\"Вывод-1.6\"><span class=\"toc-item-num\">1.6&nbsp;&nbsp;</span>Вывод</a></span></li></ul></li><li><span><a href=\"#Анализ-данных\" data-toc-modified-id=\"Анализ-данных-2\"><span class=\"toc-item-num\">2&nbsp;&nbsp;</span>Анализ данных</a></span><ul class=\"toc-item\"><li><span><a href=\"#Концентрация-металлов-(Au,-Ag,-Pb)-на-различных-этапах-очистки\" data-toc-modified-id=\"Концентрация-металлов-(Au,-Ag,-Pb)-на-различных-этапах-очистки-2.1\"><span class=\"toc-item-num\">2.1&nbsp;&nbsp;</span>Концентрация металлов (Au, Ag, Pb) на различных этапах очистки</a></span></li><li><span><a href=\"#Распределения-размеров-гранул-сырья-на-обучающей-и-тестовой-выборках\" data-toc-modified-id=\"Распределения-размеров-гранул-сырья-на-обучающей-и-тестовой-выборках-2.2\"><span class=\"toc-item-num\">2.2&nbsp;&nbsp;</span>Распределения размеров гранул сырья на обучающей и тестовой выборках</a></span></li><li><span><a href=\"#Суммарная-концентрация-веществ-на-разных-стадиях:-в-сырье,-в-черновом-и-финальном-концентратах\" data-toc-modified-id=\"Суммарная-концентрация-веществ-на-разных-стадиях:-в-сырье,-в-черновом-и-финальном-концентратах-2.3\"><span class=\"toc-item-num\">2.3&nbsp;&nbsp;</span>Суммарная концентрация веществ на разных стадиях: в сырье, в черновом и финальном концентратах</a></span></li></ul></li><li><span><a href=\"#Модель\" data-toc-modified-id=\"Модель-3\"><span class=\"toc-item-num\">3&nbsp;&nbsp;</span>Модель</a></span><ul class=\"toc-item\"><li><span><a href=\"#Функция-sMAPE\" data-toc-modified-id=\"Функция-sMAPE-3.1\"><span class=\"toc-item-num\">3.1&nbsp;&nbsp;</span>Функция sMAPE</a></span></li><li><span><a href=\"#Решающие-дерево\" data-toc-modified-id=\"Решающие-дерево-3.2\"><span class=\"toc-item-num\">3.2&nbsp;&nbsp;</span>Решающие дерево</a></span></li><li><span><a href=\"#Случайный-лес\" data-toc-modified-id=\"Случайный-лес-3.3\"><span class=\"toc-item-num\">3.3&nbsp;&nbsp;</span>Случайный лес</a></span></li><li><span><a href=\"#Линейная-регрессия\" data-toc-modified-id=\"Линейная-регрессия-3.4\"><span class=\"toc-item-num\">3.4&nbsp;&nbsp;</span>Линейная регрессия</a></span></li></ul></li><li><span><a href=\"#sMAPE-Финальной-модели\" data-toc-modified-id=\"sMAPE-Финальной-модели-4\"><span class=\"toc-item-num\">4&nbsp;&nbsp;</span>sMAPE Финальной модели</a></span></li><li><span><a href=\"#Вывод\" data-toc-modified-id=\"Вывод-5\"><span class=\"toc-item-num\">5&nbsp;&nbsp;</span>Вывод</a></span></li><li><span><a href=\"#Чек-лист-готовности-проекта\" data-toc-modified-id=\"Чек-лист-готовности-проекта-6\"><span class=\"toc-item-num\">6&nbsp;&nbsp;</span>Чек-лист готовности проекта</a></span></li></ul></div>"
   ]
  },
  {
   "cell_type": "markdown",
   "metadata": {},
   "source": [
    "# Восстановление золота из руды"
   ]
  },
  {
   "cell_type": "markdown",
   "metadata": {},
   "source": [
    "Подготовьте прототип модели машинного обучения для «Цифры». Компания разрабатывает решения для эффективной работы промышленных предприятий.\n",
    "\n",
    "Модель должна предсказать коэффициент восстановления золота из золотосодержащей руды. Используйте данные с параметрами добычи и очистки. \n",
    "\n",
    "Модель поможет оптимизировать производство, чтобы не запускать предприятие с убыточными характеристиками.\n",
    "\n",
    "Вам нужно:\n",
    "\n",
    "1. Подготовить данные;\n",
    "2. Провести исследовательский анализ данных;\n",
    "3. Построить и обучить модель.\n",
    "\n",
    "Чтобы выполнить проект, обращайтесь к библиотекам *pandas*, *matplotlib* и *sklearn.* Вам поможет их документация."
   ]
  },
  {
   "cell_type": "markdown",
   "metadata": {},
   "source": [
    "## Подготовка данных"
   ]
  },
  {
   "cell_type": "markdown",
   "metadata": {},
   "source": [
    "### Загрузка библиотек"
   ]
  },
  {
   "cell_type": "code",
   "execution_count": 1,
   "metadata": {},
   "outputs": [],
   "source": [
    "import numpy as np\n",
    "import pandas as pd\n",
    "from scipy import stats\n",
    "from scipy import stats as st\n",
    "import seaborn as sns\n",
    "import matplotlib.pyplot as plt\n",
    "\n",
    "from sklearn.metrics import make_scorer, mean_absolute_error\n",
    "from sklearn.model_selection import GridSearchCV, cross_val_score, train_test_split, KFold, TimeSeriesSplit\n",
    "from sklearn.linear_model import Ridge, Lasso, LinearRegression\n",
    "from sklearn.ensemble import RandomForestRegressor\n",
    "from sklearn.impute import SimpleImputer\n",
    "from sklearn.preprocessing import StandardScaler\n",
    "from sklearn.pipeline import Pipeline\n",
    "from sklearn.tree import DecisionTreeRegressor\n",
    "from sklearn.dummy import DummyRegressor\n",
    "\n",
    "\n",
    "from collections import defaultdict\n",
    "\n",
    "RND = 12345"
   ]
  },
  {
   "cell_type": "markdown",
   "metadata": {},
   "source": [
    "### Загрузка данных"
   ]
  },
  {
   "cell_type": "code",
   "execution_count": 3,
   "metadata": {},
   "outputs": [],
   "source": [
    "data_train = pd.read_csv('gold_recovery_train_new.csv')\n",
    "data_test = pd.read_csv('gold_recovery_test_new.csv')\n",
    "data_full = pd.read_csv('gold_recovery_full_new.csv')"
   ]
  },
  {
   "cell_type": "markdown",
   "metadata": {},
   "source": [
    "### Вычислите эффективность обогащения на обучающей выборке "
   ]
  },
  {
   "cell_type": "code",
   "execution_count": 4,
   "metadata": {},
   "outputs": [],
   "source": [
    "C = data_train['rougher.output.concentrate_au']\n",
    "F = data_train['rougher.input.feed_au']\n",
    "T = data_train['rougher.output.tail_au']"
   ]
  },
  {
   "cell_type": "code",
   "execution_count": 5,
   "metadata": {},
   "outputs": [],
   "source": [
    "data_train['rougher.output.recovery_calc'] = C * (F - T) * 100 / (F * (C - T))"
   ]
  },
  {
   "cell_type": "code",
   "execution_count": 6,
   "metadata": {},
   "outputs": [],
   "source": [
    "def mae(target_recovery, calculated_recovery):\n",
    "    return abs(target_recovery - calculated_recovery).sum() / len(target_recovery)\n",
    "\n",
    "target_recovery = data_train['rougher.output.recovery']\n",
    "calculated_recovery = data_train['rougher.output.recovery_calc']"
   ]
  },
  {
   "cell_type": "code",
   "execution_count": 7,
   "metadata": {},
   "outputs": [
    {
     "data": {
      "text/plain": [
       "1.1131451184435918e-14"
      ]
     },
     "execution_count": 7,
     "metadata": {},
     "output_type": "execute_result"
    }
   ],
   "source": [
    "mae(target_recovery, calculated_recovery)"
   ]
  },
  {
   "cell_type": "markdown",
   "metadata": {},
   "source": [
    "Маленькая абсолютная ошибка, эффективность обогащения рассчитана правильно"
   ]
  },
  {
   "cell_type": "markdown",
   "metadata": {},
   "source": [
    "### Проанализируйте признаки, недоступные в тестовой выборке"
   ]
  },
  {
   "cell_type": "code",
   "execution_count": 8,
   "metadata": {},
   "outputs": [
    {
     "data": {
      "text/plain": [
       "{'final.output.concentrate_ag',\n",
       " 'final.output.concentrate_au',\n",
       " 'final.output.concentrate_pb',\n",
       " 'final.output.concentrate_sol',\n",
       " 'final.output.recovery',\n",
       " 'final.output.tail_ag',\n",
       " 'final.output.tail_au',\n",
       " 'final.output.tail_pb',\n",
       " 'final.output.tail_sol',\n",
       " 'primary_cleaner.output.concentrate_ag',\n",
       " 'primary_cleaner.output.concentrate_au',\n",
       " 'primary_cleaner.output.concentrate_pb',\n",
       " 'primary_cleaner.output.concentrate_sol',\n",
       " 'primary_cleaner.output.tail_ag',\n",
       " 'primary_cleaner.output.tail_au',\n",
       " 'primary_cleaner.output.tail_pb',\n",
       " 'primary_cleaner.output.tail_sol',\n",
       " 'rougher.calculation.au_pb_ratio',\n",
       " 'rougher.calculation.floatbank10_sulfate_to_au_feed',\n",
       " 'rougher.calculation.floatbank11_sulfate_to_au_feed',\n",
       " 'rougher.calculation.sulfate_to_au_concentrate',\n",
       " 'rougher.output.concentrate_ag',\n",
       " 'rougher.output.concentrate_au',\n",
       " 'rougher.output.concentrate_pb',\n",
       " 'rougher.output.concentrate_sol',\n",
       " 'rougher.output.recovery',\n",
       " 'rougher.output.tail_ag',\n",
       " 'rougher.output.tail_au',\n",
       " 'rougher.output.tail_pb',\n",
       " 'rougher.output.tail_sol',\n",
       " 'secondary_cleaner.output.tail_ag',\n",
       " 'secondary_cleaner.output.tail_au',\n",
       " 'secondary_cleaner.output.tail_pb',\n",
       " 'secondary_cleaner.output.tail_sol'}"
      ]
     },
     "execution_count": 8,
     "metadata": {},
     "output_type": "execute_result"
    }
   ],
   "source": [
    "data_full_columns = set(data_full.columns) - set(data_test.columns)\n",
    "data_full_columns"
   ]
  },
  {
   "cell_type": "markdown",
   "metadata": {},
   "source": [
    "Признаки, недоступные в тестовой выборке, это признаки продукта которые замеряются и/или рассчитываются после этапов флотации и очисток, а также целевой признак эффективности обогащения"
   ]
  },
  {
   "cell_type": "markdown",
   "metadata": {},
   "source": [
    "### Предобработка данных"
   ]
  },
  {
   "cell_type": "code",
   "execution_count": 9,
   "metadata": {},
   "outputs": [],
   "source": [
    "# % Отсутствующих значений \n",
    "def count_nan(data):\n",
    "    result = pd.isnull(data).sum()/len(data)*100\n",
    "    return result.sort_values(ascending=False)"
   ]
  },
  {
   "cell_type": "code",
   "execution_count": 10,
   "metadata": {
    "scrolled": true
   },
   "outputs": [
    {
     "name": "stdout",
     "output_type": "stream",
     "text": [
      "secondary_cleaner.output.tail_sol           11.343558\n",
      "rougher.state.floatbank10_e_air              3.081490\n",
      "rougher.input.floatbank11_xanthate           3.024949\n",
      "primary_cleaner.output.concentrate_sol       2.021344\n",
      "secondary_cleaner.state.floatbank2_a_air     1.533677\n",
      "dtype: float64\n"
     ]
    }
   ],
   "source": [
    "print(count_nan(data_train).head(5))"
   ]
  },
  {
   "cell_type": "code",
   "execution_count": 11,
   "metadata": {
    "scrolled": true
   },
   "outputs": [
    {
     "name": "stdout",
     "output_type": "stream",
     "text": [
      "rougher.input.floatbank11_xanthate          0.472590\n",
      "rougher.input.feed_sol                      0.396975\n",
      "secondary_cleaner.state.floatbank3_a_air    0.170132\n",
      "rougher.input.floatbank11_sulfate           0.151229\n",
      "primary_cleaner.input.depressant            0.094518\n",
      "dtype: float64\n"
     ]
    }
   ],
   "source": [
    "print(count_nan(data_test).head(5))"
   ]
  },
  {
   "cell_type": "code",
   "execution_count": 12,
   "metadata": {
    "scrolled": true
   },
   "outputs": [
    {
     "name": "stdout",
     "output_type": "stream",
     "text": [
      "secondary_cleaner.output.tail_sol           8.992232\n",
      "rougher.input.floatbank11_xanthate          2.330367\n",
      "rougher.state.floatbank10_e_air             2.242914\n",
      "primary_cleaner.output.concentrate_sol      1.903390\n",
      "secondary_cleaner.state.floatbank2_a_air    1.131745\n",
      "dtype: float64\n"
     ]
    }
   ],
   "source": [
    "print(count_nan(data_full).head(5))"
   ]
  },
  {
   "cell_type": "code",
   "execution_count": 13,
   "metadata": {},
   "outputs": [],
   "source": [
    "#Заполнение пропусков по данным из соседних строк\n",
    "for data in (data_train, data_test, data_full):\n",
    "    data.replace(0, np.nan, inplace=True)\n",
    "    data.fillna(method='ffill', inplace=True)"
   ]
  },
  {
   "cell_type": "code",
   "execution_count": 14,
   "metadata": {
    "scrolled": true
   },
   "outputs": [
    {
     "name": "stdout",
     "output_type": "stream",
     "text": [
      "date                           0.0\n",
      "final.output.concentrate_ag    0.0\n",
      "dtype: float64\n"
     ]
    }
   ],
   "source": [
    "print(count_nan(data_train).head(2))"
   ]
  },
  {
   "cell_type": "code",
   "execution_count": 15,
   "metadata": {
    "scrolled": true
   },
   "outputs": [
    {
     "name": "stdout",
     "output_type": "stream",
     "text": [
      "date                               0.0\n",
      "rougher.state.floatbank10_c_air    0.0\n",
      "dtype: float64\n"
     ]
    }
   ],
   "source": [
    "print(count_nan(data_test).head(2))"
   ]
  },
  {
   "cell_type": "code",
   "execution_count": 16,
   "metadata": {
    "scrolled": true
   },
   "outputs": [
    {
     "name": "stdout",
     "output_type": "stream",
     "text": [
      "date                               0.0\n",
      "rougher.state.floatbank10_b_air    0.0\n",
      "dtype: float64\n"
     ]
    }
   ],
   "source": [
    "print(count_nan(data_full).head(2))"
   ]
  },
  {
   "cell_type": "markdown",
   "metadata": {},
   "source": [
    "Пропуски удалены"
   ]
  },
  {
   "cell_type": "markdown",
   "metadata": {},
   "source": [
    "### Вывод"
   ]
  },
  {
   "cell_type": "markdown",
   "metadata": {},
   "source": [
    "- Данные загружены.\n",
    "- Дубликатов нет.\n",
    "- Показатель эффективности обогащения рассчитан корректно.\n",
    "- В тестовой выборке отсутствуют параметры которые замеряются и/или рассчитываются после этапов флотации и очисток, а также целевой признак эффективности обогащения.\n",
    "- Пропуски заполненны методом 'ffill'."
   ]
  },
  {
   "cell_type": "markdown",
   "metadata": {},
   "source": [
    "## Анализ данных"
   ]
  },
  {
   "cell_type": "markdown",
   "metadata": {},
   "source": [
    "### Концентрация металлов (Au, Ag, Pb) на различных этапах очистки"
   ]
  },
  {
   "cell_type": "code",
   "execution_count": 17,
   "metadata": {
    "collapsed": true
   },
   "outputs": [
    {
     "name": "stderr",
     "output_type": "stream",
     "text": [
      "/Users/vladkondratov/opt/anaconda3/lib/python3.9/site-packages/seaborn/distributions.py:2619: FutureWarning: `distplot` is a deprecated function and will be removed in a future version. Please adapt your code to use either `displot` (a figure-level function with similar flexibility) or `histplot` (an axes-level function for histograms).\n",
      "  warnings.warn(msg, FutureWarning)\n",
      "/Users/vladkondratov/opt/anaconda3/lib/python3.9/site-packages/seaborn/distributions.py:2619: FutureWarning: `distplot` is a deprecated function and will be removed in a future version. Please adapt your code to use either `displot` (a figure-level function with similar flexibility) or `histplot` (an axes-level function for histograms).\n",
      "  warnings.warn(msg, FutureWarning)\n",
      "/Users/vladkondratov/opt/anaconda3/lib/python3.9/site-packages/seaborn/distributions.py:2619: FutureWarning: `distplot` is a deprecated function and will be removed in a future version. Please adapt your code to use either `displot` (a figure-level function with similar flexibility) or `histplot` (an axes-level function for histograms).\n",
      "  warnings.warn(msg, FutureWarning)\n",
      "/Users/vladkondratov/opt/anaconda3/lib/python3.9/site-packages/seaborn/distributions.py:2619: FutureWarning: `distplot` is a deprecated function and will be removed in a future version. Please adapt your code to use either `displot` (a figure-level function with similar flexibility) or `histplot` (an axes-level function for histograms).\n",
      "  warnings.warn(msg, FutureWarning)\n",
      "/Users/vladkondratov/opt/anaconda3/lib/python3.9/site-packages/seaborn/distributions.py:2619: FutureWarning: `distplot` is a deprecated function and will be removed in a future version. Please adapt your code to use either `displot` (a figure-level function with similar flexibility) or `histplot` (an axes-level function for histograms).\n",
      "  warnings.warn(msg, FutureWarning)\n",
      "/Users/vladkondratov/opt/anaconda3/lib/python3.9/site-packages/seaborn/distributions.py:2619: FutureWarning: `distplot` is a deprecated function and will be removed in a future version. Please adapt your code to use either `displot` (a figure-level function with similar flexibility) or `histplot` (an axes-level function for histograms).\n",
      "  warnings.warn(msg, FutureWarning)\n",
      "/Users/vladkondratov/opt/anaconda3/lib/python3.9/site-packages/seaborn/distributions.py:2619: FutureWarning: `distplot` is a deprecated function and will be removed in a future version. Please adapt your code to use either `displot` (a figure-level function with similar flexibility) or `histplot` (an axes-level function for histograms).\n",
      "  warnings.warn(msg, FutureWarning)\n",
      "/Users/vladkondratov/opt/anaconda3/lib/python3.9/site-packages/seaborn/distributions.py:2619: FutureWarning: `distplot` is a deprecated function and will be removed in a future version. Please adapt your code to use either `displot` (a figure-level function with similar flexibility) or `histplot` (an axes-level function for histograms).\n",
      "  warnings.warn(msg, FutureWarning)\n",
      "/Users/vladkondratov/opt/anaconda3/lib/python3.9/site-packages/seaborn/distributions.py:2619: FutureWarning: `distplot` is a deprecated function and will be removed in a future version. Please adapt your code to use either `displot` (a figure-level function with similar flexibility) or `histplot` (an axes-level function for histograms).\n",
      "  warnings.warn(msg, FutureWarning)\n",
      "/Users/vladkondratov/opt/anaconda3/lib/python3.9/site-packages/seaborn/distributions.py:2619: FutureWarning: `distplot` is a deprecated function and will be removed in a future version. Please adapt your code to use either `displot` (a figure-level function with similar flexibility) or `histplot` (an axes-level function for histograms).\n",
      "  warnings.warn(msg, FutureWarning)\n",
      "/Users/vladkondratov/opt/anaconda3/lib/python3.9/site-packages/seaborn/distributions.py:2619: FutureWarning: `distplot` is a deprecated function and will be removed in a future version. Please adapt your code to use either `displot` (a figure-level function with similar flexibility) or `histplot` (an axes-level function for histograms).\n",
      "  warnings.warn(msg, FutureWarning)\n",
      "/Users/vladkondratov/opt/anaconda3/lib/python3.9/site-packages/seaborn/distributions.py:2619: FutureWarning: `distplot` is a deprecated function and will be removed in a future version. Please adapt your code to use either `displot` (a figure-level function with similar flexibility) or `histplot` (an axes-level function for histograms).\n",
      "  warnings.warn(msg, FutureWarning)\n",
      "/Users/vladkondratov/opt/anaconda3/lib/python3.9/site-packages/seaborn/distributions.py:2619: FutureWarning: `distplot` is a deprecated function and will be removed in a future version. Please adapt your code to use either `displot` (a figure-level function with similar flexibility) or `histplot` (an axes-level function for histograms).\n",
      "  warnings.warn(msg, FutureWarning)\n",
      "/Users/vladkondratov/opt/anaconda3/lib/python3.9/site-packages/seaborn/distributions.py:2619: FutureWarning: `distplot` is a deprecated function and will be removed in a future version. Please adapt your code to use either `displot` (a figure-level function with similar flexibility) or `histplot` (an axes-level function for histograms).\n",
      "  warnings.warn(msg, FutureWarning)\n",
      "/Users/vladkondratov/opt/anaconda3/lib/python3.9/site-packages/seaborn/distributions.py:2619: FutureWarning: `distplot` is a deprecated function and will be removed in a future version. Please adapt your code to use either `displot` (a figure-level function with similar flexibility) or `histplot` (an axes-level function for histograms).\n",
      "  warnings.warn(msg, FutureWarning)\n",
      "/Users/vladkondratov/opt/anaconda3/lib/python3.9/site-packages/seaborn/distributions.py:2619: FutureWarning: `distplot` is a deprecated function and will be removed in a future version. Please adapt your code to use either `displot` (a figure-level function with similar flexibility) or `histplot` (an axes-level function for histograms).\n",
      "  warnings.warn(msg, FutureWarning)\n",
      "/Users/vladkondratov/opt/anaconda3/lib/python3.9/site-packages/seaborn/distributions.py:2619: FutureWarning: `distplot` is a deprecated function and will be removed in a future version. Please adapt your code to use either `displot` (a figure-level function with similar flexibility) or `histplot` (an axes-level function for histograms).\n",
      "  warnings.warn(msg, FutureWarning)\n",
      "/Users/vladkondratov/opt/anaconda3/lib/python3.9/site-packages/seaborn/distributions.py:2619: FutureWarning: `distplot` is a deprecated function and will be removed in a future version. Please adapt your code to use either `displot` (a figure-level function with similar flexibility) or `histplot` (an axes-level function for histograms).\n",
      "  warnings.warn(msg, FutureWarning)\n",
      "/Users/vladkondratov/opt/anaconda3/lib/python3.9/site-packages/seaborn/distributions.py:2619: FutureWarning: `distplot` is a deprecated function and will be removed in a future version. Please adapt your code to use either `displot` (a figure-level function with similar flexibility) or `histplot` (an axes-level function for histograms).\n",
      "  warnings.warn(msg, FutureWarning)\n",
      "/Users/vladkondratov/opt/anaconda3/lib/python3.9/site-packages/seaborn/distributions.py:2619: FutureWarning: `distplot` is a deprecated function and will be removed in a future version. Please adapt your code to use either `displot` (a figure-level function with similar flexibility) or `histplot` (an axes-level function for histograms).\n",
      "  warnings.warn(msg, FutureWarning)\n",
      "/Users/vladkondratov/opt/anaconda3/lib/python3.9/site-packages/seaborn/distributions.py:2619: FutureWarning: `distplot` is a deprecated function and will be removed in a future version. Please adapt your code to use either `displot` (a figure-level function with similar flexibility) or `histplot` (an axes-level function for histograms).\n",
      "  warnings.warn(msg, FutureWarning)\n",
      "/Users/vladkondratov/opt/anaconda3/lib/python3.9/site-packages/seaborn/distributions.py:2619: FutureWarning: `distplot` is a deprecated function and will be removed in a future version. Please adapt your code to use either `displot` (a figure-level function with similar flexibility) or `histplot` (an axes-level function for histograms).\n",
      "  warnings.warn(msg, FutureWarning)\n",
      "/Users/vladkondratov/opt/anaconda3/lib/python3.9/site-packages/seaborn/distributions.py:2619: FutureWarning: `distplot` is a deprecated function and will be removed in a future version. Please adapt your code to use either `displot` (a figure-level function with similar flexibility) or `histplot` (an axes-level function for histograms).\n",
      "  warnings.warn(msg, FutureWarning)\n",
      "/Users/vladkondratov/opt/anaconda3/lib/python3.9/site-packages/seaborn/distributions.py:2619: FutureWarning: `distplot` is a deprecated function and will be removed in a future version. Please adapt your code to use either `displot` (a figure-level function with similar flexibility) or `histplot` (an axes-level function for histograms).\n",
      "  warnings.warn(msg, FutureWarning)\n"
     ]
    },
    {
     "data": {
      "image/png": "[encoded data removed]",
      "text/plain": [
       "<Figure size 1080x360 with 4 Axes>"
      ]
     },
     "metadata": {
      "needs_background": "light"
     },
     "output_type": "display_data"
    },
    {
     "data": {
      "image/png": "[encoded data removed]",
      "text/plain": [
       "<Figure size 1080x360 with 4 Axes>"
      ]
     },
     "metadata": {
      "needs_background": "light"
     },
     "output_type": "display_data"
    }
   ],
   "source": [
    "process = ['rougher.input.feed',\n",
    "           'rougher.output.concentrate',\n",
    "           'primary_cleaner.output.concentrate',\n",
    "           'final.output.concentrate']\n",
    "\n",
    "process_tail = ['rougher.input.feed',\n",
    "                'rougher.output.tail',\n",
    "                'primary_cleaner.output.tail',\n",
    "                'final.output.tail']\n",
    "\n",
    "metals = ['au', 'ag', 'pb']\n",
    "\n",
    "fig, axs = plt.subplots(1, len(process), figsize=(15, 5), constrained_layout=True)\n",
    "fig.suptitle('Изменение концентрации металлов (output)', fontsize=20)\n",
    "\n",
    "for stage, ax in zip(process, axs):\n",
    "    ax.set_title(stage)\n",
    "    for metal in metals:        \n",
    "        cols = data_train.columns.str.contains(stage+'_'+metal)\n",
    "        sns_ax = sns.distplot(data_train.loc[:, cols].dropna(), label=metal, ax=ax)    \n",
    "plt.legend()\n",
    "\n",
    "fig, axs = plt.subplots(1, 4, figsize=(15, 5), constrained_layout=True)\n",
    "fig.suptitle('Изменение концентрации металлов (tail)', fontsize=20)\n",
    "for stage, ax in zip(process_tail, axs):\n",
    "    ax.set_title(stage)\n",
    "    for metal in metals:        \n",
    "        cols = data_train.columns.str.contains(stage+'_'+metal)\n",
    "        sns_ax = sns.distplot(data_train.loc[:, cols].dropna(), label=metal, ax=ax)   \n",
    "plt.legend()\n",
    "\n",
    "plt.show()"
   ]
  },
  {
   "cell_type": "markdown",
   "metadata": {},
   "source": [
    "- Концентрация золота увеличивается после каждого этапа очистки\n",
    "- Концентрация серебра увеличивается после флотации и уменьшается после следующих этапов\n",
    "- Концентрация свинца снижается после первого этапа очистки и незначительно изменяется в дальнейшем"
   ]
  },
  {
   "cell_type": "markdown",
   "metadata": {},
   "source": [
    "### Распределения размеров гранул сырья на обучающей и тестовой выборках"
   ]
  },
  {
   "cell_type": "code",
   "execution_count": 18,
   "metadata": {
    "scrolled": false
   },
   "outputs": [
    {
     "data": {
      "image/png": "[encoded data removed]",
      "text/plain": [
       "<Figure size 432x288 with 1 Axes>"
      ]
     },
     "metadata": {
      "needs_background": "light"
     },
     "output_type": "display_data"
    },
    {
     "name": "stdout",
     "output_type": "stream",
     "text": [
      "Обучающая 60.23985599255736\n",
      "Тестовая 55.95275402889511\n",
      "Генеральная совокупность 59.07319261544068\n"
     ]
    }
   ],
   "source": [
    "sns.kdeplot(data=data_train['rougher.input.feed_size'], label='Обучающая')\n",
    "sns.kdeplot(data=data_test['rougher.input.feed_size'], label='Тестовая')\n",
    "sns.kdeplot(data=data_full['rougher.input.feed_size'], label='Генеральная совокупность')\n",
    "plt.legend()\n",
    "plt.show()\n",
    "print('Обучающая',data_train['rougher.input.feed_size'].mean())\n",
    "print('Тестовая',data_test['rougher.input.feed_size'].mean())\n",
    "print('Генеральная совокупность',data_full['rougher.input.feed_size'].mean())"
   ]
  },
  {
   "cell_type": "code",
   "execution_count": 19,
   "metadata": {},
   "outputs": [
    {
     "name": "stdout",
     "output_type": "stream",
     "text": [
      "count    14149.000000\n",
      "mean        60.239856\n",
      "std         23.005310\n",
      "min          9.659576\n",
      "25%         48.966751\n",
      "50%         55.269784\n",
      "75%         66.007526\n",
      "max        484.967466\n",
      "Name: rougher.input.feed_size, dtype: float64\n",
      "count    5290.000000\n",
      "mean       55.952754\n",
      "std        19.080334\n",
      "min         0.046369\n",
      "25%        43.906504\n",
      "50%        50.846843\n",
      "75%        62.451165\n",
      "max       392.494040\n",
      "Name: rougher.input.feed_size, dtype: float64\n"
     ]
    }
   ],
   "source": [
    "print(data_train['rougher.input.feed_size'].describe())\n",
    "print(data_test['rougher.input.feed_size'].describe())"
   ]
  },
  {
   "cell_type": "markdown",
   "metadata": {},
   "source": [
    "Размеры гранул на обучающей выборке в среднем составляет 56 на тестовой выборке 60 "
   ]
  },
  {
   "cell_type": "markdown",
   "metadata": {},
   "source": [
    "### Суммарная концентрация веществ на разных стадиях: в сырье, в черновом и финальном концентратах"
   ]
  },
  {
   "cell_type": "code",
   "execution_count": 20,
   "metadata": {
    "scrolled": true
   },
   "outputs": [
    {
     "data": {
      "image/png": "[encoded data removed]",
      "text/plain": [
       "<Figure size 1440x432 with 3 Axes>"
      ]
     },
     "metadata": {
      "needs_background": "light"
     },
     "output_type": "display_data"
    }
   ],
   "source": [
    "concentration_stages = [('rougher.input.feed_', 'в сырье'),\n",
    "                        ('rougher.output.concentrate_', 'в черновом концентрате'), \n",
    "                        ('final.output.concentrate_', 'в финальном концентрате')]\n",
    "\n",
    "\n",
    "fig, axs = plt.subplots(1, len(concentration_stages), figsize=(20, 6))\n",
    "fig.suptitle('Суммарная концентрация всех веществ на разных стадиях', fontsize=15)\n",
    "\n",
    "\n",
    "for stage, ax in zip(concentration_stages, axs):\n",
    "    ax.set_title(stage[1])\n",
    "    full_sum =  data_full[stage[0]+ 'ag'] + data_full[stage[0]+ 'au'] + data_full[stage[0]+ 'pb'] + data_full[stage[0]+ 'sol']\n",
    "\n",
    "    sns.histplot(full_sum, ax=ax)   \n",
    "\n",
    "plt.show()"
   ]
  },
  {
   "cell_type": "markdown",
   "metadata": {},
   "source": [
    "Суммарная концентрация веществ снижается с каждым этапом очистки"
   ]
  },
  {
   "cell_type": "markdown",
   "metadata": {},
   "source": [
    "## Модель"
   ]
  },
  {
   "cell_type": "markdown",
   "metadata": {},
   "source": [
    "### Функция sMAPE"
   ]
  },
  {
   "cell_type": "code",
   "execution_count": 21,
   "metadata": {},
   "outputs": [],
   "source": [
    "def smape(y_target, y_pred):\n",
    "    return ((1/len(y_target)) * np.sum(2 * np.abs(y_target - y_pred) / (np.abs(y_target) + np.abs(y_pred)))) * 100"
   ]
  },
  {
   "cell_type": "code",
   "execution_count": 22,
   "metadata": {},
   "outputs": [],
   "source": [
    "smape_score = make_scorer(smape, greater_is_better=False)"
   ]
  },
  {
   "cell_type": "code",
   "execution_count": 23,
   "metadata": {},
   "outputs": [],
   "source": [
    "data_train = data_train[data_test.columns]\n",
    "\n",
    "data_test = data_test.dropna()\n",
    "data_train = data_train.dropna()\n",
    "\n",
    "data_test.drop(['date'], axis=1, inplace=True)\n",
    "data_train.drop(['date'], axis=1, inplace=True)\n",
    "\n",
    "X_train_rougher = data_train\n",
    "X_test_rougher = data_test\n",
    "y_train_rougher = data_full.loc[X_train_rougher.index, 'rougher.output.recovery']\n",
    "y_test_rougher = data_full.loc[X_test_rougher.index,'rougher.output.recovery']\n",
    "\n",
    "X_train_final = data_train\n",
    "X_test_final = data_test\n",
    "y_train_final = data_full.loc[X_train_final.index, 'final.output.recovery']\n",
    "y_test_final = data_full.loc[X_test_final.index, 'final.output.recovery']\n",
    "\n",
    "y_train_final = y_train_final.fillna(y_train_final.mean())\n",
    "y_train_rougher = y_train_rougher.fillna(y_train_rougher.mean())"
   ]
  },
  {
   "cell_type": "code",
   "execution_count": 24,
   "metadata": {},
   "outputs": [],
   "source": [
    "dummy_regr_for_rougher = DummyRegressor(strategy=\"mean\")\n",
    "dummy_regr_for_final = DummyRegressor(strategy=\"mean\")\n",
    "\n",
    "dummy_regr_for_rougher.fit(X_train_rougher, y_train_rougher)\n",
    "dummy_regr_for_final.fit(X_train_final, y_train_final)\n",
    "\n",
    "dummy_predicted_rougher = dummy_regr_for_rougher.predict(X_test_rougher)\n",
    "dummy_predicted_final = dummy_regr_for_final.predict(X_test_final)\n",
    "\n",
    "smape_for_const_rougher = smape(y_test_rougher, dummy_predicted_rougher)\n",
    "smape_for_const_final = smape(y_test_final, dummy_predicted_final)\n",
    "\n",
    "total = (smape(y_test_rougher, dummy_predicted_rougher)*0.25) + (smape(y_test_final, \n",
    "                                                                       dummy_predicted_final)* 0.75)"
   ]
  },
  {
   "cell_type": "code",
   "execution_count": 25,
   "metadata": {},
   "outputs": [
    {
     "name": "stdout",
     "output_type": "stream",
     "text": [
      "sMAPE константной модели: 9.41332963227423\n"
     ]
    }
   ],
   "source": [
    "print('sMAPE константной модели:', total)"
   ]
  },
  {
   "cell_type": "markdown",
   "metadata": {},
   "source": [
    "### Решающие дерево"
   ]
  },
  {
   "cell_type": "code",
   "execution_count": 26,
   "metadata": {},
   "outputs": [
    {
     "name": "stdout",
     "output_type": "stream",
     "text": [
      "Best params for model:  {'max_depth': 1}\n",
      "CPU times: user 199 ms, sys: 74.4 ms, total: 274 ms\n",
      "Wall time: 2.06 s\n"
     ]
    }
   ],
   "source": [
    "%%time\n",
    "\n",
    "params_dtr_grid = {\n",
    "    'max_depth' : range(1,6)\n",
    "}\n",
    "grid_decision_tree_regr_rougher = GridSearchCV(DecisionTreeRegressor(random_state=RND), param_grid = params_dtr_grid, cv=5, n_jobs=-1, scoring=smape_score) \n",
    "grid_decision_tree_regr_rougher.fit(X_train_rougher, y_train_rougher)\n",
    "params_dtr_rougher = grid_decision_tree_regr_rougher.best_params_\n",
    "decision_tree_regr_rougher = DecisionTreeRegressor(**params_dtr_rougher, random_state = RND)\n",
    "decision_tree_regr_rougher.fit(X_train_rougher, y_train_rougher)\n",
    "print('Best params for model: ', grid_decision_tree_regr_rougher.best_params_)"
   ]
  },
  {
   "cell_type": "code",
   "execution_count": 27,
   "metadata": {},
   "outputs": [],
   "source": [
    "decision_tree_regr_rougher_scores = cross_val_score(decision_tree_regr_rougher,\n",
    "                                                    X_train_rougher,\n",
    "                                                    y_train_rougher,\n",
    "                                                    scoring=smape_score,\n",
    "                                                    cv=5)"
   ]
  },
  {
   "cell_type": "code",
   "execution_count": 28,
   "metadata": {},
   "outputs": [
    {
     "name": "stdout",
     "output_type": "stream",
     "text": [
      "-7.2659947530876625\n",
      "-7.2659947530876625\n"
     ]
    }
   ],
   "source": [
    "print(decision_tree_regr_rougher_scores.mean())\n",
    "print(grid_decision_tree_regr_rougher.best_score_)"
   ]
  },
  {
   "cell_type": "code",
   "execution_count": 29,
   "metadata": {
    "scrolled": true
   },
   "outputs": [
    {
     "name": "stdout",
     "output_type": "stream",
     "text": [
      "Best params for model:  {'max_depth': 4}\n",
      "CPU times: user 457 ms, sys: 14.1 ms, total: 471 ms\n",
      "Wall time: 1.16 s\n"
     ]
    }
   ],
   "source": [
    "%%time\n",
    "\n",
    "grid_decision_tree_regr_final = GridSearchCV(DecisionTreeRegressor(random_state=RND), param_grid = params_dtr_grid, cv=5, n_jobs=-1, scoring=smape_score) \n",
    "grid_decision_tree_regr_final.fit(X_train_final, y_train_final)\n",
    "params_dtr_final = grid_decision_tree_regr_final.best_params_\n",
    "decision_tree_regr_final = DecisionTreeRegressor(**params_dtr_final, random_state = RND)\n",
    "decision_tree_regr_final.fit(X_train_final, y_train_final)\n",
    "print('Best params for model: ', grid_decision_tree_regr_final.best_params_)"
   ]
  },
  {
   "cell_type": "code",
   "execution_count": 30,
   "metadata": {},
   "outputs": [],
   "source": [
    "decision_tree_regr_final_scores = cross_val_score(decision_tree_regr_final,\n",
    "                                                  X_train_final,\n",
    "                                                  y_train_final,\n",
    "                                                  scoring=smape_score,\n",
    "                                                  cv=5)"
   ]
  },
  {
   "cell_type": "code",
   "execution_count": 31,
   "metadata": {},
   "outputs": [
    {
     "name": "stdout",
     "output_type": "stream",
     "text": [
      "-10.17980714141316\n",
      "-10.17980714141316\n"
     ]
    }
   ],
   "source": [
    "print(decision_tree_regr_final_scores.mean())\n",
    "print(grid_decision_tree_regr_final.best_score_)"
   ]
  },
  {
   "cell_type": "markdown",
   "metadata": {},
   "source": [
    "### Случайный лес"
   ]
  },
  {
   "cell_type": "code",
   "execution_count": 32,
   "metadata": {},
   "outputs": [
    {
     "name": "stdout",
     "output_type": "stream",
     "text": [
      "Best params for model:  {'max_depth': 5}\n",
      "CPU times: user 29.5 s, sys: 101 ms, total: 29.6 s\n",
      "Wall time: 6min 19s\n"
     ]
    }
   ],
   "source": [
    "%%time\n",
    "\n",
    "param_rf_grid = {'max_depth' : range(4,20)}\n",
    "grid_random_forest_regr_rougher = GridSearchCV(RandomForestRegressor(random_state=RND), \n",
    "                                               param_grid = param_rf_grid, \n",
    "                                               cv=5, \n",
    "                                               n_jobs=-1, \n",
    "                                               scoring=smape_score) \n",
    "grid_random_forest_regr_rougher.fit(X_train_rougher, y_train_rougher)\n",
    "params_rf_rougher = grid_random_forest_regr_rougher.best_params_\n",
    "random_forest_regr_rougher = RandomForestRegressor(**params_rf_rougher, random_state = RND)\n",
    "random_forest_regr_rougher.fit(X_train_rougher, y_train_rougher)\n",
    "print('Best params for model: ', grid_random_forest_regr_rougher.best_params_)"
   ]
  },
  {
   "cell_type": "code",
   "execution_count": 34,
   "metadata": {},
   "outputs": [],
   "source": [
    "random_forest_regr_rougher_scores = cross_val_score(random_forest_regr_rougher,\n",
    "                                                    X_train_rougher,\n",
    "                                                    y_train_rougher,\n",
    "                                                    scoring=smape_score,\n",
    "                                                    cv=5)"
   ]
  },
  {
   "cell_type": "code",
   "execution_count": 35,
   "metadata": {},
   "outputs": [
    {
     "name": "stdout",
     "output_type": "stream",
     "text": [
      "-7.380099400865414\n",
      "-7.380099400865414\n"
     ]
    }
   ],
   "source": [
    "print(random_forest_regr_rougher_scores.mean())\n",
    "print(grid_random_forest_regr_rougher.best_score_)"
   ]
  },
  {
   "cell_type": "code",
   "execution_count": 36,
   "metadata": {},
   "outputs": [
    {
     "name": "stdout",
     "output_type": "stream",
     "text": [
      "Best params for model:  {'max_depth': 4}\n",
      "CPU times: user 24.5 s, sys: 107 ms, total: 24.6 s\n",
      "Wall time: 6min 30s\n"
     ]
    }
   ],
   "source": [
    "%%time\n",
    "\n",
    "grid_random_forest_regr_final = GridSearchCV(RandomForestRegressor(random_state=RND), \n",
    "                                             param_grid = param_rf_grid, \n",
    "                                             cv=5, \n",
    "                                             n_jobs=-1, \n",
    "                                             scoring=smape_score) \n",
    "grid_random_forest_regr_final.fit(X_train_final, y_train_final)\n",
    "params_rf_final = grid_random_forest_regr_final.best_params_\n",
    "random_forest_regr_final = RandomForestRegressor(**params_rf_final, random_state = RND)\n",
    "random_forest_regr_final.fit(X_train_final, y_train_final)\n",
    "print('Best params for model: ', grid_random_forest_regr_final.best_params_)"
   ]
  },
  {
   "cell_type": "code",
   "execution_count": 37,
   "metadata": {},
   "outputs": [],
   "source": [
    "random_forest_regr_final_scores = cross_val_score(random_forest_regr_final,\n",
    "                                                  X_train_final,\n",
    "                                                  y_train_final,\n",
    "                                                  scoring=smape_score,\n",
    "                                                  cv=5)"
   ]
  },
  {
   "cell_type": "code",
   "execution_count": 38,
   "metadata": {},
   "outputs": [
    {
     "name": "stdout",
     "output_type": "stream",
     "text": [
      "-10.065253371111055\n",
      "-10.065253371111055\n"
     ]
    }
   ],
   "source": [
    "print(random_forest_regr_final_scores.mean())\n",
    "print(grid_random_forest_regr_final.best_score_)"
   ]
  },
  {
   "cell_type": "markdown",
   "metadata": {},
   "source": [
    "### Линейная регрессия"
   ]
  },
  {
   "cell_type": "code",
   "execution_count": 39,
   "metadata": {},
   "outputs": [
    {
     "name": "stderr",
     "output_type": "stream",
     "text": [
      "/Users/vladkondratov/opt/anaconda3/lib/python3.9/site-packages/sklearn/linear_model/_base.py:141: FutureWarning: 'normalize' was deprecated in version 1.0 and will be removed in 1.2.\n",
      "If you wish to scale the data, use Pipeline with a StandardScaler in a preprocessing stage. To reproduce the previous behavior:\n",
      "\n",
      "from sklearn.pipeline import make_pipeline\n",
      "\n",
      "model = make_pipeline(StandardScaler(with_mean=False), LinearRegression())\n",
      "\n",
      "If you wish to pass a sample_weight parameter, you need to pass it as a fit parameter to each step of the pipeline as follows:\n",
      "\n",
      "kwargs = {s[0] + '__sample_weight': sample_weight for s in model.steps}\n",
      "model.fit(X, y, **kwargs)\n",
      "\n",
      "\n",
      "  warnings.warn(\n",
      "/Users/vladkondratov/opt/anaconda3/lib/python3.9/site-packages/sklearn/linear_model/_base.py:141: FutureWarning: 'normalize' was deprecated in version 1.0 and will be removed in 1.2.\n",
      "If you wish to scale the data, use Pipeline with a StandardScaler in a preprocessing stage. To reproduce the previous behavior:\n",
      "\n",
      "from sklearn.pipeline import make_pipeline\n",
      "\n",
      "model = make_pipeline(StandardScaler(with_mean=False), LinearRegression())\n",
      "\n",
      "If you wish to pass a sample_weight parameter, you need to pass it as a fit parameter to each step of the pipeline as follows:\n",
      "\n",
      "kwargs = {s[0] + '__sample_weight': sample_weight for s in model.steps}\n",
      "model.fit(X, y, **kwargs)\n",
      "\n",
      "\n",
      "  warnings.warn(\n",
      "/Users/vladkondratov/opt/anaconda3/lib/python3.9/site-packages/sklearn/linear_model/_base.py:141: FutureWarning: 'normalize' was deprecated in version 1.0 and will be removed in 1.2.\n",
      "If you wish to scale the data, use Pipeline with a StandardScaler in a preprocessing stage. To reproduce the previous behavior:\n",
      "\n",
      "from sklearn.pipeline import make_pipeline\n",
      "\n",
      "model = make_pipeline(StandardScaler(with_mean=False), LinearRegression())\n",
      "\n",
      "If you wish to pass a sample_weight parameter, you need to pass it as a fit parameter to each step of the pipeline as follows:\n",
      "\n",
      "kwargs = {s[0] + '__sample_weight': sample_weight for s in model.steps}\n",
      "model.fit(X, y, **kwargs)\n",
      "\n",
      "\n",
      "  warnings.warn(\n",
      "/Users/vladkondratov/opt/anaconda3/lib/python3.9/site-packages/sklearn/linear_model/_base.py:141: FutureWarning: 'normalize' was deprecated in version 1.0 and will be removed in 1.2.\n",
      "If you wish to scale the data, use Pipeline with a StandardScaler in a preprocessing stage. To reproduce the previous behavior:\n",
      "\n",
      "from sklearn.pipeline import make_pipeline\n",
      "\n",
      "model = make_pipeline(StandardScaler(with_mean=False), LinearRegression())\n",
      "\n",
      "If you wish to pass a sample_weight parameter, you need to pass it as a fit parameter to each step of the pipeline as follows:\n",
      "\n",
      "kwargs = {s[0] + '__sample_weight': sample_weight for s in model.steps}\n",
      "model.fit(X, y, **kwargs)\n",
      "\n",
      "\n",
      "  warnings.warn(\n",
      "/Users/vladkondratov/opt/anaconda3/lib/python3.9/site-packages/sklearn/linear_model/_base.py:141: FutureWarning: 'normalize' was deprecated in version 1.0 and will be removed in 1.2.\n",
      "If you wish to scale the data, use Pipeline with a StandardScaler in a preprocessing stage. To reproduce the previous behavior:\n",
      "\n",
      "from sklearn.pipeline import make_pipeline\n",
      "\n",
      "model = make_pipeline(StandardScaler(with_mean=False), LinearRegression())\n",
      "\n",
      "If you wish to pass a sample_weight parameter, you need to pass it as a fit parameter to each step of the pipeline as follows:\n",
      "\n",
      "kwargs = {s[0] + '__sample_weight': sample_weight for s in model.steps}\n",
      "model.fit(X, y, **kwargs)\n",
      "\n",
      "\n",
      "  warnings.warn(\n",
      "/Users/vladkondratov/opt/anaconda3/lib/python3.9/site-packages/sklearn/linear_model/_base.py:148: FutureWarning: 'normalize' was deprecated in version 1.0 and will be removed in 1.2. Please leave the normalize parameter to its default value to silence this warning. The default behavior of this estimator is to not do any normalization. If normalization is needed please use sklearn.preprocessing.StandardScaler instead.\n",
      "  warnings.warn(\n",
      "/Users/vladkondratov/opt/anaconda3/lib/python3.9/site-packages/sklearn/linear_model/_base.py:148: FutureWarning: 'normalize' was deprecated in version 1.0 and will be removed in 1.2. Please leave the normalize parameter to its default value to silence this warning. The default behavior of this estimator is to not do any normalization. If normalization is needed please use sklearn.preprocessing.StandardScaler instead.\n",
      "  warnings.warn(\n",
      "/Users/vladkondratov/opt/anaconda3/lib/python3.9/site-packages/sklearn/linear_model/_base.py:148: FutureWarning: 'normalize' was deprecated in version 1.0 and will be removed in 1.2. Please leave the normalize parameter to its default value to silence this warning. The default behavior of this estimator is to not do any normalization. If normalization is needed please use sklearn.preprocessing.StandardScaler instead.\n",
      "  warnings.warn(\n",
      "/Users/vladkondratov/opt/anaconda3/lib/python3.9/site-packages/sklearn/linear_model/_base.py:148: FutureWarning: 'normalize' was deprecated in version 1.0 and will be removed in 1.2. Please leave the normalize parameter to its default value to silence this warning. The default behavior of this estimator is to not do any normalization. If normalization is needed please use sklearn.preprocessing.StandardScaler instead.\n",
      "  warnings.warn(\n",
      "/Users/vladkondratov/opt/anaconda3/lib/python3.9/site-packages/sklearn/linear_model/_base.py:148: FutureWarning: 'normalize' was deprecated in version 1.0 and will be removed in 1.2. Please leave the normalize parameter to its default value to silence this warning. The default behavior of this estimator is to not do any normalization. If normalization is needed please use sklearn.preprocessing.StandardScaler instead.\n",
      "  warnings.warn(\n",
      "/Users/vladkondratov/opt/anaconda3/lib/python3.9/site-packages/sklearn/linear_model/_base.py:141: FutureWarning: 'normalize' was deprecated in version 1.0 and will be removed in 1.2.\n",
      "If you wish to scale the data, use Pipeline with a StandardScaler in a preprocessing stage. To reproduce the previous behavior:\n",
      "\n",
      "from sklearn.pipeline import make_pipeline\n",
      "\n",
      "model = make_pipeline(StandardScaler(with_mean=False), LinearRegression())\n",
      "\n",
      "If you wish to pass a sample_weight parameter, you need to pass it as a fit parameter to each step of the pipeline as follows:\n",
      "\n",
      "kwargs = {s[0] + '__sample_weight': sample_weight for s in model.steps}\n",
      "model.fit(X, y, **kwargs)\n",
      "\n",
      "\n",
      "  warnings.warn(\n",
      "/Users/vladkondratov/opt/anaconda3/lib/python3.9/site-packages/sklearn/linear_model/_base.py:141: FutureWarning: 'normalize' was deprecated in version 1.0 and will be removed in 1.2.\n",
      "If you wish to scale the data, use Pipeline with a StandardScaler in a preprocessing stage. To reproduce the previous behavior:\n",
      "\n",
      "from sklearn.pipeline import make_pipeline\n",
      "\n",
      "model = make_pipeline(StandardScaler(with_mean=False), LinearRegression())\n",
      "\n",
      "If you wish to pass a sample_weight parameter, you need to pass it as a fit parameter to each step of the pipeline as follows:\n",
      "\n",
      "kwargs = {s[0] + '__sample_weight': sample_weight for s in model.steps}\n",
      "model.fit(X, y, **kwargs)\n",
      "\n",
      "\n",
      "  warnings.warn(\n",
      "/Users/vladkondratov/opt/anaconda3/lib/python3.9/site-packages/sklearn/linear_model/_base.py:141: FutureWarning: 'normalize' was deprecated in version 1.0 and will be removed in 1.2.\n",
      "If you wish to scale the data, use Pipeline with a StandardScaler in a preprocessing stage. To reproduce the previous behavior:\n",
      "\n",
      "from sklearn.pipeline import make_pipeline\n",
      "\n",
      "model = make_pipeline(StandardScaler(with_mean=False), LinearRegression())\n",
      "\n",
      "If you wish to pass a sample_weight parameter, you need to pass it as a fit parameter to each step of the pipeline as follows:\n",
      "\n",
      "kwargs = {s[0] + '__sample_weight': sample_weight for s in model.steps}\n",
      "model.fit(X, y, **kwargs)\n",
      "\n",
      "\n",
      "  warnings.warn(\n",
      "/Users/vladkondratov/opt/anaconda3/lib/python3.9/site-packages/sklearn/linear_model/_base.py:141: FutureWarning: 'normalize' was deprecated in version 1.0 and will be removed in 1.2.\n",
      "If you wish to scale the data, use Pipeline with a StandardScaler in a preprocessing stage. To reproduce the previous behavior:\n",
      "\n",
      "from sklearn.pipeline import make_pipeline\n",
      "\n",
      "model = make_pipeline(StandardScaler(with_mean=False), LinearRegression())\n",
      "\n",
      "If you wish to pass a sample_weight parameter, you need to pass it as a fit parameter to each step of the pipeline as follows:\n",
      "\n",
      "kwargs = {s[0] + '__sample_weight': sample_weight for s in model.steps}\n",
      "model.fit(X, y, **kwargs)\n",
      "\n",
      "\n",
      "  warnings.warn(\n",
      "/Users/vladkondratov/opt/anaconda3/lib/python3.9/site-packages/sklearn/linear_model/_base.py:141: FutureWarning: 'normalize' was deprecated in version 1.0 and will be removed in 1.2.\n",
      "If you wish to scale the data, use Pipeline with a StandardScaler in a preprocessing stage. To reproduce the previous behavior:\n",
      "\n",
      "from sklearn.pipeline import make_pipeline\n",
      "\n",
      "model = make_pipeline(StandardScaler(with_mean=False), LinearRegression())\n",
      "\n",
      "If you wish to pass a sample_weight parameter, you need to pass it as a fit parameter to each step of the pipeline as follows:\n",
      "\n",
      "kwargs = {s[0] + '__sample_weight': sample_weight for s in model.steps}\n",
      "model.fit(X, y, **kwargs)\n",
      "\n",
      "\n",
      "  warnings.warn(\n",
      "/Users/vladkondratov/opt/anaconda3/lib/python3.9/site-packages/sklearn/linear_model/_base.py:148: FutureWarning: 'normalize' was deprecated in version 1.0 and will be removed in 1.2. Please leave the normalize parameter to its default value to silence this warning. The default behavior of this estimator is to not do any normalization. If normalization is needed please use sklearn.preprocessing.StandardScaler instead.\n",
      "  warnings.warn(\n",
      "/Users/vladkondratov/opt/anaconda3/lib/python3.9/site-packages/sklearn/linear_model/_base.py:148: FutureWarning: 'normalize' was deprecated in version 1.0 and will be removed in 1.2. Please leave the normalize parameter to its default value to silence this warning. The default behavior of this estimator is to not do any normalization. If normalization is needed please use sklearn.preprocessing.StandardScaler instead.\n",
      "  warnings.warn(\n",
      "/Users/vladkondratov/opt/anaconda3/lib/python3.9/site-packages/sklearn/linear_model/_base.py:148: FutureWarning: 'normalize' was deprecated in version 1.0 and will be removed in 1.2. Please leave the normalize parameter to its default value to silence this warning. The default behavior of this estimator is to not do any normalization. If normalization is needed please use sklearn.preprocessing.StandardScaler instead.\n",
      "  warnings.warn(\n",
      "/Users/vladkondratov/opt/anaconda3/lib/python3.9/site-packages/sklearn/linear_model/_base.py:141: FutureWarning: 'normalize' was deprecated in version 1.0 and will be removed in 1.2.\n",
      "If you wish to scale the data, use Pipeline with a StandardScaler in a preprocessing stage. To reproduce the previous behavior:\n",
      "\n",
      "from sklearn.pipeline import make_pipeline\n",
      "\n",
      "model = make_pipeline(StandardScaler(with_mean=False), LinearRegression())\n",
      "\n",
      "If you wish to pass a sample_weight parameter, you need to pass it as a fit parameter to each step of the pipeline as follows:\n",
      "\n",
      "kwargs = {s[0] + '__sample_weight': sample_weight for s in model.steps}\n",
      "model.fit(X, y, **kwargs)\n",
      "\n",
      "\n",
      "  warnings.warn(\n",
      "/Users/vladkondratov/opt/anaconda3/lib/python3.9/site-packages/sklearn/linear_model/_base.py:141: FutureWarning: 'normalize' was deprecated in version 1.0 and will be removed in 1.2.\n",
      "If you wish to scale the data, use Pipeline with a StandardScaler in a preprocessing stage. To reproduce the previous behavior:\n",
      "\n",
      "from sklearn.pipeline import make_pipeline\n",
      "\n",
      "model = make_pipeline(StandardScaler(with_mean=False), LinearRegression())\n",
      "\n",
      "If you wish to pass a sample_weight parameter, you need to pass it as a fit parameter to each step of the pipeline as follows:\n",
      "\n",
      "kwargs = {s[0] + '__sample_weight': sample_weight for s in model.steps}\n",
      "model.fit(X, y, **kwargs)\n",
      "\n",
      "\n",
      "  warnings.warn(\n",
      "/Users/vladkondratov/opt/anaconda3/lib/python3.9/site-packages/sklearn/linear_model/_base.py:148: FutureWarning: 'normalize' was deprecated in version 1.0 and will be removed in 1.2. Please leave the normalize parameter to its default value to silence this warning. The default behavior of this estimator is to not do any normalization. If normalization is needed please use sklearn.preprocessing.StandardScaler instead.\n",
      "  warnings.warn(\n",
      "/Users/vladkondratov/opt/anaconda3/lib/python3.9/site-packages/sklearn/linear_model/_base.py:141: FutureWarning: 'normalize' was deprecated in version 1.0 and will be removed in 1.2.\n",
      "If you wish to scale the data, use Pipeline with a StandardScaler in a preprocessing stage. To reproduce the previous behavior:\n",
      "\n",
      "from sklearn.pipeline import make_pipeline\n",
      "\n",
      "model = make_pipeline(StandardScaler(with_mean=False), LinearRegression())\n",
      "\n",
      "If you wish to pass a sample_weight parameter, you need to pass it as a fit parameter to each step of the pipeline as follows:\n",
      "\n",
      "kwargs = {s[0] + '__sample_weight': sample_weight for s in model.steps}\n",
      "model.fit(X, y, **kwargs)\n",
      "\n",
      "\n",
      "  warnings.warn(\n",
      "/Users/vladkondratov/opt/anaconda3/lib/python3.9/site-packages/sklearn/linear_model/_base.py:148: FutureWarning: 'normalize' was deprecated in version 1.0 and will be removed in 1.2. Please leave the normalize parameter to its default value to silence this warning. The default behavior of this estimator is to not do any normalization. If normalization is needed please use sklearn.preprocessing.StandardScaler instead.\n",
      "  warnings.warn(\n",
      "/Users/vladkondratov/opt/anaconda3/lib/python3.9/site-packages/sklearn/linear_model/_base.py:148: FutureWarning: 'normalize' was deprecated in version 1.0 and will be removed in 1.2. Please leave the normalize parameter to its default value to silence this warning. The default behavior of this estimator is to not do any normalization. If normalization is needed please use sklearn.preprocessing.StandardScaler instead.\n",
      "  warnings.warn(\n",
      "/Users/vladkondratov/opt/anaconda3/lib/python3.9/site-packages/sklearn/linear_model/_base.py:148: FutureWarning: 'normalize' was deprecated in version 1.0 and will be removed in 1.2. Please leave the normalize parameter to its default value to silence this warning. The default behavior of this estimator is to not do any normalization. If normalization is needed please use sklearn.preprocessing.StandardScaler instead.\n",
      "  warnings.warn(\n",
      "/Users/vladkondratov/opt/anaconda3/lib/python3.9/site-packages/sklearn/linear_model/_base.py:141: FutureWarning: 'normalize' was deprecated in version 1.0 and will be removed in 1.2.\n",
      "If you wish to scale the data, use Pipeline with a StandardScaler in a preprocessing stage. To reproduce the previous behavior:\n",
      "\n",
      "from sklearn.pipeline import make_pipeline\n",
      "\n",
      "model = make_pipeline(StandardScaler(with_mean=False), LinearRegression())\n",
      "\n",
      "If you wish to pass a sample_weight parameter, you need to pass it as a fit parameter to each step of the pipeline as follows:\n",
      "\n",
      "kwargs = {s[0] + '__sample_weight': sample_weight for s in model.steps}\n",
      "model.fit(X, y, **kwargs)\n",
      "\n",
      "\n",
      "  warnings.warn(\n",
      "/Users/vladkondratov/opt/anaconda3/lib/python3.9/site-packages/sklearn/linear_model/_base.py:141: FutureWarning: 'normalize' was deprecated in version 1.0 and will be removed in 1.2.\n",
      "If you wish to scale the data, use Pipeline with a StandardScaler in a preprocessing stage. To reproduce the previous behavior:\n",
      "\n",
      "from sklearn.pipeline import make_pipeline\n",
      "\n",
      "model = make_pipeline(StandardScaler(with_mean=False), LinearRegression())\n",
      "\n",
      "If you wish to pass a sample_weight parameter, you need to pass it as a fit parameter to each step of the pipeline as follows:\n",
      "\n",
      "kwargs = {s[0] + '__sample_weight': sample_weight for s in model.steps}\n",
      "model.fit(X, y, **kwargs)\n",
      "\n",
      "\n",
      "  warnings.warn(\n",
      "/Users/vladkondratov/opt/anaconda3/lib/python3.9/site-packages/sklearn/linear_model/_base.py:148: FutureWarning: 'normalize' was deprecated in version 1.0 and will be removed in 1.2. Please leave the normalize parameter to its default value to silence this warning. The default behavior of this estimator is to not do any normalization. If normalization is needed please use sklearn.preprocessing.StandardScaler instead.\n",
      "  warnings.warn(\n",
      "/Users/vladkondratov/opt/anaconda3/lib/python3.9/site-packages/sklearn/linear_model/_base.py:141: FutureWarning: 'normalize' was deprecated in version 1.0 and will be removed in 1.2.\n",
      "If you wish to scale the data, use Pipeline with a StandardScaler in a preprocessing stage. To reproduce the previous behavior:\n",
      "\n",
      "from sklearn.pipeline import make_pipeline\n",
      "\n",
      "model = make_pipeline(StandardScaler(with_mean=False), LinearRegression())\n",
      "\n",
      "If you wish to pass a sample_weight parameter, you need to pass it as a fit parameter to each step of the pipeline as follows:\n",
      "\n",
      "kwargs = {s[0] + '__sample_weight': sample_weight for s in model.steps}\n",
      "model.fit(X, y, **kwargs)\n",
      "\n",
      "\n",
      "  warnings.warn(\n",
      "/Users/vladkondratov/opt/anaconda3/lib/python3.9/site-packages/sklearn/linear_model/_base.py:141: FutureWarning: 'normalize' was deprecated in version 1.0 and will be removed in 1.2.\n",
      "If you wish to scale the data, use Pipeline with a StandardScaler in a preprocessing stage. To reproduce the previous behavior:\n",
      "\n",
      "from sklearn.pipeline import make_pipeline\n",
      "\n",
      "model = make_pipeline(StandardScaler(with_mean=False), LinearRegression())\n",
      "\n",
      "If you wish to pass a sample_weight parameter, you need to pass it as a fit parameter to each step of the pipeline as follows:\n",
      "\n",
      "kwargs = {s[0] + '__sample_weight': sample_weight for s in model.steps}\n",
      "model.fit(X, y, **kwargs)\n",
      "\n",
      "\n",
      "  warnings.warn(\n",
      "/Users/vladkondratov/opt/anaconda3/lib/python3.9/site-packages/sklearn/linear_model/_base.py:148: FutureWarning: 'normalize' was deprecated in version 1.0 and will be removed in 1.2. Please leave the normalize parameter to its default value to silence this warning. The default behavior of this estimator is to not do any normalization. If normalization is needed please use sklearn.preprocessing.StandardScaler instead.\n",
      "  warnings.warn(\n",
      "/Users/vladkondratov/opt/anaconda3/lib/python3.9/site-packages/sklearn/linear_model/_base.py:148: FutureWarning: 'normalize' was deprecated in version 1.0 and will be removed in 1.2. Please leave the normalize parameter to its default value to silence this warning. The default behavior of this estimator is to not do any normalization. If normalization is needed please use sklearn.preprocessing.StandardScaler instead.\n",
      "  warnings.warn(\n",
      "/Users/vladkondratov/opt/anaconda3/lib/python3.9/site-packages/sklearn/linear_model/_base.py:141: FutureWarning: 'normalize' was deprecated in version 1.0 and will be removed in 1.2.\n",
      "If you wish to scale the data, use Pipeline with a StandardScaler in a preprocessing stage. To reproduce the previous behavior:\n",
      "\n",
      "from sklearn.pipeline import make_pipeline\n",
      "\n",
      "model = make_pipeline(StandardScaler(with_mean=False), LinearRegression())\n",
      "\n",
      "If you wish to pass a sample_weight parameter, you need to pass it as a fit parameter to each step of the pipeline as follows:\n",
      "\n",
      "kwargs = {s[0] + '__sample_weight': sample_weight for s in model.steps}\n",
      "model.fit(X, y, **kwargs)\n",
      "\n",
      "\n",
      "  warnings.warn(\n",
      "/Users/vladkondratov/opt/anaconda3/lib/python3.9/site-packages/sklearn/linear_model/_base.py:141: FutureWarning: 'normalize' was deprecated in version 1.0 and will be removed in 1.2.\n",
      "If you wish to scale the data, use Pipeline with a StandardScaler in a preprocessing stage. To reproduce the previous behavior:\n",
      "\n",
      "from sklearn.pipeline import make_pipeline\n",
      "\n",
      "model = make_pipeline(StandardScaler(with_mean=False), LinearRegression())\n",
      "\n",
      "If you wish to pass a sample_weight parameter, you need to pass it as a fit parameter to each step of the pipeline as follows:\n",
      "\n",
      "kwargs = {s[0] + '__sample_weight': sample_weight for s in model.steps}\n",
      "model.fit(X, y, **kwargs)\n",
      "\n",
      "\n",
      "  warnings.warn(\n",
      "/Users/vladkondratov/opt/anaconda3/lib/python3.9/site-packages/sklearn/linear_model/_base.py:141: FutureWarning: 'normalize' was deprecated in version 1.0 and will be removed in 1.2.\n",
      "If you wish to scale the data, use Pipeline with a StandardScaler in a preprocessing stage. To reproduce the previous behavior:\n",
      "\n",
      "from sklearn.pipeline import make_pipeline\n",
      "\n",
      "model = make_pipeline(StandardScaler(with_mean=False), LinearRegression())\n",
      "\n",
      "If you wish to pass a sample_weight parameter, you need to pass it as a fit parameter to each step of the pipeline as follows:\n",
      "\n",
      "kwargs = {s[0] + '__sample_weight': sample_weight for s in model.steps}\n",
      "model.fit(X, y, **kwargs)\n",
      "\n",
      "\n",
      "  warnings.warn(\n",
      "/Users/vladkondratov/opt/anaconda3/lib/python3.9/site-packages/sklearn/linear_model/_base.py:148: FutureWarning: 'normalize' was deprecated in version 1.0 and will be removed in 1.2. Please leave the normalize parameter to its default value to silence this warning. The default behavior of this estimator is to not do any normalization. If normalization is needed please use sklearn.preprocessing.StandardScaler instead.\n",
      "  warnings.warn(\n",
      "/Users/vladkondratov/opt/anaconda3/lib/python3.9/site-packages/sklearn/linear_model/_base.py:148: FutureWarning: 'normalize' was deprecated in version 1.0 and will be removed in 1.2. Please leave the normalize parameter to its default value to silence this warning. The default behavior of this estimator is to not do any normalization. If normalization is needed please use sklearn.preprocessing.StandardScaler instead.\n",
      "  warnings.warn(\n",
      "/Users/vladkondratov/opt/anaconda3/lib/python3.9/site-packages/sklearn/linear_model/_base.py:148: FutureWarning: 'normalize' was deprecated in version 1.0 and will be removed in 1.2. Please leave the normalize parameter to its default value to silence this warning. The default behavior of this estimator is to not do any normalization. If normalization is needed please use sklearn.preprocessing.StandardScaler instead.\n",
      "  warnings.warn(\n",
      "/Users/vladkondratov/opt/anaconda3/lib/python3.9/site-packages/sklearn/linear_model/_base.py:148: FutureWarning: 'normalize' was deprecated in version 1.0 and will be removed in 1.2. Please leave the normalize parameter to its default value to silence this warning. The default behavior of this estimator is to not do any normalization. If normalization is needed please use sklearn.preprocessing.StandardScaler instead.\n",
      "  warnings.warn(\n",
      "/Users/vladkondratov/opt/anaconda3/lib/python3.9/site-packages/sklearn/linear_model/_base.py:148: FutureWarning: 'normalize' was deprecated in version 1.0 and will be removed in 1.2. Please leave the normalize parameter to its default value to silence this warning. The default behavior of this estimator is to not do any normalization. If normalization is needed please use sklearn.preprocessing.StandardScaler instead.\n",
      "  warnings.warn(\n"
     ]
    },
    {
     "name": "stdout",
     "output_type": "stream",
     "text": [
      "Best params for model:  {'copy_X': True, 'fit_intercept': True, 'normalize': True}\n",
      "CPU times: user 290 ms, sys: 94.4 ms, total: 385 ms\n",
      "Wall time: 359 ms\n"
     ]
    },
    {
     "name": "stderr",
     "output_type": "stream",
     "text": [
      "/Users/vladkondratov/opt/anaconda3/lib/python3.9/site-packages/sklearn/linear_model/_base.py:141: FutureWarning: 'normalize' was deprecated in version 1.0 and will be removed in 1.2.\n",
      "If you wish to scale the data, use Pipeline with a StandardScaler in a preprocessing stage. To reproduce the previous behavior:\n",
      "\n",
      "from sklearn.pipeline import make_pipeline\n",
      "\n",
      "model = make_pipeline(StandardScaler(with_mean=False), LinearRegression())\n",
      "\n",
      "If you wish to pass a sample_weight parameter, you need to pass it as a fit parameter to each step of the pipeline as follows:\n",
      "\n",
      "kwargs = {s[0] + '__sample_weight': sample_weight for s in model.steps}\n",
      "model.fit(X, y, **kwargs)\n",
      "\n",
      "\n",
      "  warnings.warn(\n",
      "/Users/vladkondratov/opt/anaconda3/lib/python3.9/site-packages/sklearn/linear_model/_base.py:141: FutureWarning: 'normalize' was deprecated in version 1.0 and will be removed in 1.2.\n",
      "If you wish to scale the data, use Pipeline with a StandardScaler in a preprocessing stage. To reproduce the previous behavior:\n",
      "\n",
      "from sklearn.pipeline import make_pipeline\n",
      "\n",
      "model = make_pipeline(StandardScaler(with_mean=False), LinearRegression())\n",
      "\n",
      "If you wish to pass a sample_weight parameter, you need to pass it as a fit parameter to each step of the pipeline as follows:\n",
      "\n",
      "kwargs = {s[0] + '__sample_weight': sample_weight for s in model.steps}\n",
      "model.fit(X, y, **kwargs)\n",
      "\n",
      "\n",
      "  warnings.warn(\n"
     ]
    }
   ],
   "source": [
    "%%time\n",
    "\n",
    "param_lr_grid = {'fit_intercept':[True, False],\n",
    "             'normalize':[True, False],\n",
    "             'copy_X':[True, False]}\n",
    "\n",
    "grid_line_regr_rougher = GridSearchCV(LinearRegression(), param_grid = param_lr_grid, n_jobs=-1, cv = 5, scoring = smape_score)\n",
    "grid_line_regr_rougher.fit(X_train_rougher, y_train_rougher)\n",
    "params_lr_rougher = grid_line_regr_rougher.best_params_\n",
    "line_regr_rougher = LinearRegression(**params_lr_rougher)\n",
    "line_regr_rougher.fit(X_train_rougher, y_train_rougher)\n",
    "                      \n",
    "print('Best params for model: ', grid_line_regr_rougher.best_params_)"
   ]
  },
  {
   "cell_type": "code",
   "execution_count": 40,
   "metadata": {
    "scrolled": true
   },
   "outputs": [
    {
     "name": "stderr",
     "output_type": "stream",
     "text": [
      "/Users/vladkondratov/opt/anaconda3/lib/python3.9/site-packages/sklearn/linear_model/_base.py:141: FutureWarning: 'normalize' was deprecated in version 1.0 and will be removed in 1.2.\n",
      "If you wish to scale the data, use Pipeline with a StandardScaler in a preprocessing stage. To reproduce the previous behavior:\n",
      "\n",
      "from sklearn.pipeline import make_pipeline\n",
      "\n",
      "model = make_pipeline(StandardScaler(with_mean=False), LinearRegression())\n",
      "\n",
      "If you wish to pass a sample_weight parameter, you need to pass it as a fit parameter to each step of the pipeline as follows:\n",
      "\n",
      "kwargs = {s[0] + '__sample_weight': sample_weight for s in model.steps}\n",
      "model.fit(X, y, **kwargs)\n",
      "\n",
      "\n",
      "  warnings.warn(\n",
      "/Users/vladkondratov/opt/anaconda3/lib/python3.9/site-packages/sklearn/linear_model/_base.py:141: FutureWarning: 'normalize' was deprecated in version 1.0 and will be removed in 1.2.\n",
      "If you wish to scale the data, use Pipeline with a StandardScaler in a preprocessing stage. To reproduce the previous behavior:\n",
      "\n",
      "from sklearn.pipeline import make_pipeline\n",
      "\n",
      "model = make_pipeline(StandardScaler(with_mean=False), LinearRegression())\n",
      "\n",
      "If you wish to pass a sample_weight parameter, you need to pass it as a fit parameter to each step of the pipeline as follows:\n",
      "\n",
      "kwargs = {s[0] + '__sample_weight': sample_weight for s in model.steps}\n",
      "model.fit(X, y, **kwargs)\n",
      "\n",
      "\n",
      "  warnings.warn(\n",
      "/Users/vladkondratov/opt/anaconda3/lib/python3.9/site-packages/sklearn/linear_model/_base.py:141: FutureWarning: 'normalize' was deprecated in version 1.0 and will be removed in 1.2.\n",
      "If you wish to scale the data, use Pipeline with a StandardScaler in a preprocessing stage. To reproduce the previous behavior:\n",
      "\n",
      "from sklearn.pipeline import make_pipeline\n",
      "\n",
      "model = make_pipeline(StandardScaler(with_mean=False), LinearRegression())\n",
      "\n",
      "If you wish to pass a sample_weight parameter, you need to pass it as a fit parameter to each step of the pipeline as follows:\n",
      "\n",
      "kwargs = {s[0] + '__sample_weight': sample_weight for s in model.steps}\n",
      "model.fit(X, y, **kwargs)\n",
      "\n",
      "\n",
      "  warnings.warn(\n",
      "/Users/vladkondratov/opt/anaconda3/lib/python3.9/site-packages/sklearn/linear_model/_base.py:141: FutureWarning: 'normalize' was deprecated in version 1.0 and will be removed in 1.2.\n",
      "If you wish to scale the data, use Pipeline with a StandardScaler in a preprocessing stage. To reproduce the previous behavior:\n",
      "\n",
      "from sklearn.pipeline import make_pipeline\n",
      "\n",
      "model = make_pipeline(StandardScaler(with_mean=False), LinearRegression())\n",
      "\n",
      "If you wish to pass a sample_weight parameter, you need to pass it as a fit parameter to each step of the pipeline as follows:\n",
      "\n",
      "kwargs = {s[0] + '__sample_weight': sample_weight for s in model.steps}\n",
      "model.fit(X, y, **kwargs)\n",
      "\n",
      "\n",
      "  warnings.warn(\n",
      "/Users/vladkondratov/opt/anaconda3/lib/python3.9/site-packages/sklearn/linear_model/_base.py:141: FutureWarning: 'normalize' was deprecated in version 1.0 and will be removed in 1.2.\n",
      "If you wish to scale the data, use Pipeline with a StandardScaler in a preprocessing stage. To reproduce the previous behavior:\n",
      "\n",
      "from sklearn.pipeline import make_pipeline\n",
      "\n",
      "model = make_pipeline(StandardScaler(with_mean=False), LinearRegression())\n",
      "\n",
      "If you wish to pass a sample_weight parameter, you need to pass it as a fit parameter to each step of the pipeline as follows:\n",
      "\n",
      "kwargs = {s[0] + '__sample_weight': sample_weight for s in model.steps}\n",
      "model.fit(X, y, **kwargs)\n",
      "\n",
      "\n",
      "  warnings.warn(\n"
     ]
    }
   ],
   "source": [
    "line_regr_rougher_scores = cross_val_score(line_regr_rougher,\n",
    "                                           X_train_rougher,\n",
    "                                           y_train_rougher,\n",
    "                                           scoring=smape_score,\n",
    "                                           cv=5)"
   ]
  },
  {
   "cell_type": "code",
   "execution_count": 41,
   "metadata": {},
   "outputs": [
    {
     "name": "stdout",
     "output_type": "stream",
     "text": [
      "-7.740685039403958\n",
      "-7.740685039403957\n"
     ]
    }
   ],
   "source": [
    "print(line_regr_rougher_scores.mean())\n",
    "print(grid_line_regr_rougher.best_score_)"
   ]
  },
  {
   "cell_type": "code",
   "execution_count": 42,
   "metadata": {
    "collapsed": true
   },
   "outputs": [
    {
     "name": "stderr",
     "output_type": "stream",
     "text": [
      "/Users/vladkondratov/opt/anaconda3/lib/python3.9/site-packages/sklearn/linear_model/_base.py:141: FutureWarning: 'normalize' was deprecated in version 1.0 and will be removed in 1.2.\n",
      "If you wish to scale the data, use Pipeline with a StandardScaler in a preprocessing stage. To reproduce the previous behavior:\n",
      "\n",
      "from sklearn.pipeline import make_pipeline\n",
      "\n",
      "model = make_pipeline(StandardScaler(with_mean=False), LinearRegression())\n",
      "\n",
      "If you wish to pass a sample_weight parameter, you need to pass it as a fit parameter to each step of the pipeline as follows:\n",
      "\n",
      "kwargs = {s[0] + '__sample_weight': sample_weight for s in model.steps}\n",
      "model.fit(X, y, **kwargs)\n",
      "\n",
      "\n",
      "  warnings.warn(\n",
      "/Users/vladkondratov/opt/anaconda3/lib/python3.9/site-packages/sklearn/linear_model/_base.py:141: FutureWarning: 'normalize' was deprecated in version 1.0 and will be removed in 1.2.\n",
      "If you wish to scale the data, use Pipeline with a StandardScaler in a preprocessing stage. To reproduce the previous behavior:\n",
      "\n",
      "from sklearn.pipeline import make_pipeline\n",
      "\n",
      "model = make_pipeline(StandardScaler(with_mean=False), LinearRegression())\n",
      "\n",
      "If you wish to pass a sample_weight parameter, you need to pass it as a fit parameter to each step of the pipeline as follows:\n",
      "\n",
      "kwargs = {s[0] + '__sample_weight': sample_weight for s in model.steps}\n",
      "model.fit(X, y, **kwargs)\n",
      "\n",
      "\n",
      "  warnings.warn(\n",
      "/Users/vladkondratov/opt/anaconda3/lib/python3.9/site-packages/sklearn/linear_model/_base.py:141: FutureWarning: 'normalize' was deprecated in version 1.0 and will be removed in 1.2.\n",
      "If you wish to scale the data, use Pipeline with a StandardScaler in a preprocessing stage. To reproduce the previous behavior:\n",
      "\n",
      "from sklearn.pipeline import make_pipeline\n",
      "\n",
      "model = make_pipeline(StandardScaler(with_mean=False), LinearRegression())\n",
      "\n",
      "If you wish to pass a sample_weight parameter, you need to pass it as a fit parameter to each step of the pipeline as follows:\n",
      "\n",
      "kwargs = {s[0] + '__sample_weight': sample_weight for s in model.steps}\n",
      "model.fit(X, y, **kwargs)\n",
      "\n",
      "\n",
      "  warnings.warn(\n",
      "/Users/vladkondratov/opt/anaconda3/lib/python3.9/site-packages/sklearn/linear_model/_base.py:141: FutureWarning: 'normalize' was deprecated in version 1.0 and will be removed in 1.2.\n",
      "If you wish to scale the data, use Pipeline with a StandardScaler in a preprocessing stage. To reproduce the previous behavior:\n",
      "\n",
      "from sklearn.pipeline import make_pipeline\n",
      "\n",
      "model = make_pipeline(StandardScaler(with_mean=False), LinearRegression())\n",
      "\n",
      "If you wish to pass a sample_weight parameter, you need to pass it as a fit parameter to each step of the pipeline as follows:\n",
      "\n",
      "kwargs = {s[0] + '__sample_weight': sample_weight for s in model.steps}\n",
      "model.fit(X, y, **kwargs)\n",
      "\n",
      "\n",
      "  warnings.warn(\n",
      "/Users/vladkondratov/opt/anaconda3/lib/python3.9/site-packages/sklearn/linear_model/_base.py:141: FutureWarning: 'normalize' was deprecated in version 1.0 and will be removed in 1.2.\n",
      "If you wish to scale the data, use Pipeline with a StandardScaler in a preprocessing stage. To reproduce the previous behavior:\n",
      "\n",
      "from sklearn.pipeline import make_pipeline\n",
      "\n",
      "model = make_pipeline(StandardScaler(with_mean=False), LinearRegression())\n",
      "\n",
      "If you wish to pass a sample_weight parameter, you need to pass it as a fit parameter to each step of the pipeline as follows:\n",
      "\n",
      "kwargs = {s[0] + '__sample_weight': sample_weight for s in model.steps}\n",
      "model.fit(X, y, **kwargs)\n",
      "\n",
      "\n",
      "  warnings.warn(\n",
      "/Users/vladkondratov/opt/anaconda3/lib/python3.9/site-packages/sklearn/linear_model/_base.py:148: FutureWarning: 'normalize' was deprecated in version 1.0 and will be removed in 1.2. Please leave the normalize parameter to its default value to silence this warning. The default behavior of this estimator is to not do any normalization. If normalization is needed please use sklearn.preprocessing.StandardScaler instead.\n",
      "  warnings.warn(\n",
      "/Users/vladkondratov/opt/anaconda3/lib/python3.9/site-packages/sklearn/linear_model/_base.py:148: FutureWarning: 'normalize' was deprecated in version 1.0 and will be removed in 1.2. Please leave the normalize parameter to its default value to silence this warning. The default behavior of this estimator is to not do any normalization. If normalization is needed please use sklearn.preprocessing.StandardScaler instead.\n",
      "  warnings.warn(\n",
      "/Users/vladkondratov/opt/anaconda3/lib/python3.9/site-packages/sklearn/linear_model/_base.py:148: FutureWarning: 'normalize' was deprecated in version 1.0 and will be removed in 1.2. Please leave the normalize parameter to its default value to silence this warning. The default behavior of this estimator is to not do any normalization. If normalization is needed please use sklearn.preprocessing.StandardScaler instead.\n",
      "  warnings.warn(\n",
      "/Users/vladkondratov/opt/anaconda3/lib/python3.9/site-packages/sklearn/linear_model/_base.py:148: FutureWarning: 'normalize' was deprecated in version 1.0 and will be removed in 1.2. Please leave the normalize parameter to its default value to silence this warning. The default behavior of this estimator is to not do any normalization. If normalization is needed please use sklearn.preprocessing.StandardScaler instead.\n",
      "  warnings.warn(\n",
      "/Users/vladkondratov/opt/anaconda3/lib/python3.9/site-packages/sklearn/linear_model/_base.py:148: FutureWarning: 'normalize' was deprecated in version 1.0 and will be removed in 1.2. Please leave the normalize parameter to its default value to silence this warning. The default behavior of this estimator is to not do any normalization. If normalization is needed please use sklearn.preprocessing.StandardScaler instead.\n",
      "  warnings.warn(\n",
      "/Users/vladkondratov/opt/anaconda3/lib/python3.9/site-packages/sklearn/linear_model/_base.py:141: FutureWarning: 'normalize' was deprecated in version 1.0 and will be removed in 1.2.\n",
      "If you wish to scale the data, use Pipeline with a StandardScaler in a preprocessing stage. To reproduce the previous behavior:\n",
      "\n",
      "from sklearn.pipeline import make_pipeline\n",
      "\n",
      "model = make_pipeline(StandardScaler(with_mean=False), LinearRegression())\n",
      "\n",
      "If you wish to pass a sample_weight parameter, you need to pass it as a fit parameter to each step of the pipeline as follows:\n",
      "\n",
      "kwargs = {s[0] + '__sample_weight': sample_weight for s in model.steps}\n",
      "model.fit(X, y, **kwargs)\n",
      "\n",
      "\n",
      "  warnings.warn(\n",
      "/Users/vladkondratov/opt/anaconda3/lib/python3.9/site-packages/sklearn/linear_model/_base.py:141: FutureWarning: 'normalize' was deprecated in version 1.0 and will be removed in 1.2.\n",
      "If you wish to scale the data, use Pipeline with a StandardScaler in a preprocessing stage. To reproduce the previous behavior:\n",
      "\n",
      "from sklearn.pipeline import make_pipeline\n",
      "\n",
      "model = make_pipeline(StandardScaler(with_mean=False), LinearRegression())\n",
      "\n",
      "If you wish to pass a sample_weight parameter, you need to pass it as a fit parameter to each step of the pipeline as follows:\n",
      "\n",
      "kwargs = {s[0] + '__sample_weight': sample_weight for s in model.steps}\n",
      "model.fit(X, y, **kwargs)\n",
      "\n",
      "\n",
      "  warnings.warn(\n",
      "/Users/vladkondratov/opt/anaconda3/lib/python3.9/site-packages/sklearn/linear_model/_base.py:141: FutureWarning: 'normalize' was deprecated in version 1.0 and will be removed in 1.2.\n",
      "If you wish to scale the data, use Pipeline with a StandardScaler in a preprocessing stage. To reproduce the previous behavior:\n",
      "\n",
      "from sklearn.pipeline import make_pipeline\n",
      "\n",
      "model = make_pipeline(StandardScaler(with_mean=False), LinearRegression())\n",
      "\n",
      "If you wish to pass a sample_weight parameter, you need to pass it as a fit parameter to each step of the pipeline as follows:\n",
      "\n",
      "kwargs = {s[0] + '__sample_weight': sample_weight for s in model.steps}\n",
      "model.fit(X, y, **kwargs)\n",
      "\n",
      "\n",
      "  warnings.warn(\n",
      "/Users/vladkondratov/opt/anaconda3/lib/python3.9/site-packages/sklearn/linear_model/_base.py:141: FutureWarning: 'normalize' was deprecated in version 1.0 and will be removed in 1.2.\n",
      "If you wish to scale the data, use Pipeline with a StandardScaler in a preprocessing stage. To reproduce the previous behavior:\n",
      "\n",
      "from sklearn.pipeline import make_pipeline\n",
      "\n",
      "model = make_pipeline(StandardScaler(with_mean=False), LinearRegression())\n",
      "\n",
      "If you wish to pass a sample_weight parameter, you need to pass it as a fit parameter to each step of the pipeline as follows:\n",
      "\n",
      "kwargs = {s[0] + '__sample_weight': sample_weight for s in model.steps}\n",
      "model.fit(X, y, **kwargs)\n",
      "\n",
      "\n",
      "  warnings.warn(\n",
      "/Users/vladkondratov/opt/anaconda3/lib/python3.9/site-packages/sklearn/linear_model/_base.py:141: FutureWarning: 'normalize' was deprecated in version 1.0 and will be removed in 1.2.\n",
      "If you wish to scale the data, use Pipeline with a StandardScaler in a preprocessing stage. To reproduce the previous behavior:\n",
      "\n",
      "from sklearn.pipeline import make_pipeline\n",
      "\n",
      "model = make_pipeline(StandardScaler(with_mean=False), LinearRegression())\n",
      "\n",
      "If you wish to pass a sample_weight parameter, you need to pass it as a fit parameter to each step of the pipeline as follows:\n",
      "\n",
      "kwargs = {s[0] + '__sample_weight': sample_weight for s in model.steps}\n",
      "model.fit(X, y, **kwargs)\n",
      "\n",
      "\n",
      "  warnings.warn(\n",
      "/Users/vladkondratov/opt/anaconda3/lib/python3.9/site-packages/sklearn/linear_model/_base.py:148: FutureWarning: 'normalize' was deprecated in version 1.0 and will be removed in 1.2. Please leave the normalize parameter to its default value to silence this warning. The default behavior of this estimator is to not do any normalization. If normalization is needed please use sklearn.preprocessing.StandardScaler instead.\n",
      "  warnings.warn(\n",
      "/Users/vladkondratov/opt/anaconda3/lib/python3.9/site-packages/sklearn/linear_model/_base.py:148: FutureWarning: 'normalize' was deprecated in version 1.0 and will be removed in 1.2. Please leave the normalize parameter to its default value to silence this warning. The default behavior of this estimator is to not do any normalization. If normalization is needed please use sklearn.preprocessing.StandardScaler instead.\n",
      "  warnings.warn(\n",
      "/Users/vladkondratov/opt/anaconda3/lib/python3.9/site-packages/sklearn/linear_model/_base.py:148: FutureWarning: 'normalize' was deprecated in version 1.0 and will be removed in 1.2. Please leave the normalize parameter to its default value to silence this warning. The default behavior of this estimator is to not do any normalization. If normalization is needed please use sklearn.preprocessing.StandardScaler instead.\n",
      "  warnings.warn(\n",
      "/Users/vladkondratov/opt/anaconda3/lib/python3.9/site-packages/sklearn/linear_model/_base.py:141: FutureWarning: 'normalize' was deprecated in version 1.0 and will be removed in 1.2.\n",
      "If you wish to scale the data, use Pipeline with a StandardScaler in a preprocessing stage. To reproduce the previous behavior:\n",
      "\n",
      "from sklearn.pipeline import make_pipeline\n",
      "\n",
      "model = make_pipeline(StandardScaler(with_mean=False), LinearRegression())\n",
      "\n",
      "If you wish to pass a sample_weight parameter, you need to pass it as a fit parameter to each step of the pipeline as follows:\n",
      "\n",
      "kwargs = {s[0] + '__sample_weight': sample_weight for s in model.steps}\n",
      "model.fit(X, y, **kwargs)\n",
      "\n",
      "\n",
      "  warnings.warn(\n",
      "/Users/vladkondratov/opt/anaconda3/lib/python3.9/site-packages/sklearn/linear_model/_base.py:141: FutureWarning: 'normalize' was deprecated in version 1.0 and will be removed in 1.2.\n",
      "If you wish to scale the data, use Pipeline with a StandardScaler in a preprocessing stage. To reproduce the previous behavior:\n",
      "\n",
      "from sklearn.pipeline import make_pipeline\n",
      "\n",
      "model = make_pipeline(StandardScaler(with_mean=False), LinearRegression())\n",
      "\n",
      "If you wish to pass a sample_weight parameter, you need to pass it as a fit parameter to each step of the pipeline as follows:\n",
      "\n",
      "kwargs = {s[0] + '__sample_weight': sample_weight for s in model.steps}\n",
      "model.fit(X, y, **kwargs)\n",
      "\n",
      "\n",
      "  warnings.warn(\n",
      "/Users/vladkondratov/opt/anaconda3/lib/python3.9/site-packages/sklearn/linear_model/_base.py:148: FutureWarning: 'normalize' was deprecated in version 1.0 and will be removed in 1.2. Please leave the normalize parameter to its default value to silence this warning. The default behavior of this estimator is to not do any normalization. If normalization is needed please use sklearn.preprocessing.StandardScaler instead.\n",
      "  warnings.warn(\n",
      "/Users/vladkondratov/opt/anaconda3/lib/python3.9/site-packages/sklearn/linear_model/_base.py:141: FutureWarning: 'normalize' was deprecated in version 1.0 and will be removed in 1.2.\n",
      "If you wish to scale the data, use Pipeline with a StandardScaler in a preprocessing stage. To reproduce the previous behavior:\n",
      "\n",
      "from sklearn.pipeline import make_pipeline\n",
      "\n",
      "model = make_pipeline(StandardScaler(with_mean=False), LinearRegression())\n",
      "\n",
      "If you wish to pass a sample_weight parameter, you need to pass it as a fit parameter to each step of the pipeline as follows:\n",
      "\n",
      "kwargs = {s[0] + '__sample_weight': sample_weight for s in model.steps}\n",
      "model.fit(X, y, **kwargs)\n",
      "\n",
      "\n",
      "  warnings.warn(\n",
      "/Users/vladkondratov/opt/anaconda3/lib/python3.9/site-packages/sklearn/linear_model/_base.py:148: FutureWarning: 'normalize' was deprecated in version 1.0 and will be removed in 1.2. Please leave the normalize parameter to its default value to silence this warning. The default behavior of this estimator is to not do any normalization. If normalization is needed please use sklearn.preprocessing.StandardScaler instead.\n",
      "  warnings.warn(\n",
      "/Users/vladkondratov/opt/anaconda3/lib/python3.9/site-packages/sklearn/linear_model/_base.py:148: FutureWarning: 'normalize' was deprecated in version 1.0 and will be removed in 1.2. Please leave the normalize parameter to its default value to silence this warning. The default behavior of this estimator is to not do any normalization. If normalization is needed please use sklearn.preprocessing.StandardScaler instead.\n",
      "  warnings.warn(\n",
      "/Users/vladkondratov/opt/anaconda3/lib/python3.9/site-packages/sklearn/linear_model/_base.py:141: FutureWarning: 'normalize' was deprecated in version 1.0 and will be removed in 1.2.\n",
      "If you wish to scale the data, use Pipeline with a StandardScaler in a preprocessing stage. To reproduce the previous behavior:\n",
      "\n",
      "from sklearn.pipeline import make_pipeline\n",
      "\n",
      "model = make_pipeline(StandardScaler(with_mean=False), LinearRegression())\n",
      "\n",
      "If you wish to pass a sample_weight parameter, you need to pass it as a fit parameter to each step of the pipeline as follows:\n",
      "\n",
      "kwargs = {s[0] + '__sample_weight': sample_weight for s in model.steps}\n",
      "model.fit(X, y, **kwargs)\n",
      "\n",
      "\n",
      "  warnings.warn(\n",
      "/Users/vladkondratov/opt/anaconda3/lib/python3.9/site-packages/sklearn/linear_model/_base.py:148: FutureWarning: 'normalize' was deprecated in version 1.0 and will be removed in 1.2. Please leave the normalize parameter to its default value to silence this warning. The default behavior of this estimator is to not do any normalization. If normalization is needed please use sklearn.preprocessing.StandardScaler instead.\n",
      "  warnings.warn(\n",
      "/Users/vladkondratov/opt/anaconda3/lib/python3.9/site-packages/sklearn/linear_model/_base.py:141: FutureWarning: 'normalize' was deprecated in version 1.0 and will be removed in 1.2.\n",
      "If you wish to scale the data, use Pipeline with a StandardScaler in a preprocessing stage. To reproduce the previous behavior:\n",
      "\n",
      "from sklearn.pipeline import make_pipeline\n",
      "\n",
      "model = make_pipeline(StandardScaler(with_mean=False), LinearRegression())\n",
      "\n",
      "If you wish to pass a sample_weight parameter, you need to pass it as a fit parameter to each step of the pipeline as follows:\n",
      "\n",
      "kwargs = {s[0] + '__sample_weight': sample_weight for s in model.steps}\n",
      "model.fit(X, y, **kwargs)\n",
      "\n",
      "\n",
      "  warnings.warn(\n",
      "/Users/vladkondratov/opt/anaconda3/lib/python3.9/site-packages/sklearn/linear_model/_base.py:141: FutureWarning: 'normalize' was deprecated in version 1.0 and will be removed in 1.2.\n",
      "If you wish to scale the data, use Pipeline with a StandardScaler in a preprocessing stage. To reproduce the previous behavior:\n",
      "\n",
      "from sklearn.pipeline import make_pipeline\n",
      "\n",
      "model = make_pipeline(StandardScaler(with_mean=False), LinearRegression())\n",
      "\n",
      "If you wish to pass a sample_weight parameter, you need to pass it as a fit parameter to each step of the pipeline as follows:\n",
      "\n",
      "kwargs = {s[0] + '__sample_weight': sample_weight for s in model.steps}\n",
      "model.fit(X, y, **kwargs)\n",
      "\n",
      "\n",
      "  warnings.warn(\n",
      "/Users/vladkondratov/opt/anaconda3/lib/python3.9/site-packages/sklearn/linear_model/_base.py:148: FutureWarning: 'normalize' was deprecated in version 1.0 and will be removed in 1.2. Please leave the normalize parameter to its default value to silence this warning. The default behavior of this estimator is to not do any normalization. If normalization is needed please use sklearn.preprocessing.StandardScaler instead.\n",
      "  warnings.warn(\n",
      "/Users/vladkondratov/opt/anaconda3/lib/python3.9/site-packages/sklearn/linear_model/_base.py:141: FutureWarning: 'normalize' was deprecated in version 1.0 and will be removed in 1.2.\n",
      "If you wish to scale the data, use Pipeline with a StandardScaler in a preprocessing stage. To reproduce the previous behavior:\n",
      "\n",
      "from sklearn.pipeline import make_pipeline\n",
      "\n",
      "model = make_pipeline(StandardScaler(with_mean=False), LinearRegression())\n",
      "\n",
      "If you wish to pass a sample_weight parameter, you need to pass it as a fit parameter to each step of the pipeline as follows:\n",
      "\n",
      "kwargs = {s[0] + '__sample_weight': sample_weight for s in model.steps}\n",
      "model.fit(X, y, **kwargs)\n",
      "\n",
      "\n",
      "  warnings.warn(\n",
      "/Users/vladkondratov/opt/anaconda3/lib/python3.9/site-packages/sklearn/linear_model/_base.py:141: FutureWarning: 'normalize' was deprecated in version 1.0 and will be removed in 1.2.\n",
      "If you wish to scale the data, use Pipeline with a StandardScaler in a preprocessing stage. To reproduce the previous behavior:\n",
      "\n",
      "from sklearn.pipeline import make_pipeline\n",
      "\n",
      "model = make_pipeline(StandardScaler(with_mean=False), LinearRegression())\n",
      "\n",
      "If you wish to pass a sample_weight parameter, you need to pass it as a fit parameter to each step of the pipeline as follows:\n",
      "\n",
      "kwargs = {s[0] + '__sample_weight': sample_weight for s in model.steps}\n",
      "model.fit(X, y, **kwargs)\n",
      "\n",
      "\n",
      "  warnings.warn(\n",
      "/Users/vladkondratov/opt/anaconda3/lib/python3.9/site-packages/sklearn/linear_model/_base.py:148: FutureWarning: 'normalize' was deprecated in version 1.0 and will be removed in 1.2. Please leave the normalize parameter to its default value to silence this warning. The default behavior of this estimator is to not do any normalization. If normalization is needed please use sklearn.preprocessing.StandardScaler instead.\n",
      "  warnings.warn(\n",
      "/Users/vladkondratov/opt/anaconda3/lib/python3.9/site-packages/sklearn/linear_model/_base.py:148: FutureWarning: 'normalize' was deprecated in version 1.0 and will be removed in 1.2. Please leave the normalize parameter to its default value to silence this warning. The default behavior of this estimator is to not do any normalization. If normalization is needed please use sklearn.preprocessing.StandardScaler instead.\n",
      "  warnings.warn(\n",
      "/Users/vladkondratov/opt/anaconda3/lib/python3.9/site-packages/sklearn/linear_model/_base.py:141: FutureWarning: 'normalize' was deprecated in version 1.0 and will be removed in 1.2.\n",
      "If you wish to scale the data, use Pipeline with a StandardScaler in a preprocessing stage. To reproduce the previous behavior:\n",
      "\n",
      "from sklearn.pipeline import make_pipeline\n",
      "\n",
      "model = make_pipeline(StandardScaler(with_mean=False), LinearRegression())\n",
      "\n",
      "If you wish to pass a sample_weight parameter, you need to pass it as a fit parameter to each step of the pipeline as follows:\n",
      "\n",
      "kwargs = {s[0] + '__sample_weight': sample_weight for s in model.steps}\n",
      "model.fit(X, y, **kwargs)\n",
      "\n",
      "\n",
      "  warnings.warn(\n"
     ]
    },
    {
     "name": "stderr",
     "output_type": "stream",
     "text": [
      "/Users/vladkondratov/opt/anaconda3/lib/python3.9/site-packages/sklearn/linear_model/_base.py:141: FutureWarning: 'normalize' was deprecated in version 1.0 and will be removed in 1.2.\n",
      "If you wish to scale the data, use Pipeline with a StandardScaler in a preprocessing stage. To reproduce the previous behavior:\n",
      "\n",
      "from sklearn.pipeline import make_pipeline\n",
      "\n",
      "model = make_pipeline(StandardScaler(with_mean=False), LinearRegression())\n",
      "\n",
      "If you wish to pass a sample_weight parameter, you need to pass it as a fit parameter to each step of the pipeline as follows:\n",
      "\n",
      "kwargs = {s[0] + '__sample_weight': sample_weight for s in model.steps}\n",
      "model.fit(X, y, **kwargs)\n",
      "\n",
      "\n",
      "  warnings.warn(\n",
      "/Users/vladkondratov/opt/anaconda3/lib/python3.9/site-packages/sklearn/linear_model/_base.py:148: FutureWarning: 'normalize' was deprecated in version 1.0 and will be removed in 1.2. Please leave the normalize parameter to its default value to silence this warning. The default behavior of this estimator is to not do any normalization. If normalization is needed please use sklearn.preprocessing.StandardScaler instead.\n",
      "  warnings.warn(\n",
      "/Users/vladkondratov/opt/anaconda3/lib/python3.9/site-packages/sklearn/linear_model/_base.py:148: FutureWarning: 'normalize' was deprecated in version 1.0 and will be removed in 1.2. Please leave the normalize parameter to its default value to silence this warning. The default behavior of this estimator is to not do any normalization. If normalization is needed please use sklearn.preprocessing.StandardScaler instead.\n",
      "  warnings.warn(\n",
      "/Users/vladkondratov/opt/anaconda3/lib/python3.9/site-packages/sklearn/linear_model/_base.py:148: FutureWarning: 'normalize' was deprecated in version 1.0 and will be removed in 1.2. Please leave the normalize parameter to its default value to silence this warning. The default behavior of this estimator is to not do any normalization. If normalization is needed please use sklearn.preprocessing.StandardScaler instead.\n",
      "  warnings.warn(\n",
      "/Users/vladkondratov/opt/anaconda3/lib/python3.9/site-packages/sklearn/linear_model/_base.py:148: FutureWarning: 'normalize' was deprecated in version 1.0 and will be removed in 1.2. Please leave the normalize parameter to its default value to silence this warning. The default behavior of this estimator is to not do any normalization. If normalization is needed please use sklearn.preprocessing.StandardScaler instead.\n",
      "  warnings.warn(\n",
      "/Users/vladkondratov/opt/anaconda3/lib/python3.9/site-packages/sklearn/linear_model/_base.py:148: FutureWarning: 'normalize' was deprecated in version 1.0 and will be removed in 1.2. Please leave the normalize parameter to its default value to silence this warning. The default behavior of this estimator is to not do any normalization. If normalization is needed please use sklearn.preprocessing.StandardScaler instead.\n",
      "  warnings.warn(\n"
     ]
    },
    {
     "name": "stdout",
     "output_type": "stream",
     "text": [
      "Best params for model:  {'copy_X': True, 'fit_intercept': False, 'normalize': True}\n",
      "CPU times: user 784 ms, sys: 248 ms, total: 1.03 s\n",
      "Wall time: 418 ms\n"
     ]
    },
    {
     "name": "stderr",
     "output_type": "stream",
     "text": [
      "/Users/vladkondratov/opt/anaconda3/lib/python3.9/site-packages/sklearn/linear_model/_base.py:141: FutureWarning: 'normalize' was deprecated in version 1.0 and will be removed in 1.2.\n",
      "If you wish to scale the data, use Pipeline with a StandardScaler in a preprocessing stage. To reproduce the previous behavior:\n",
      "\n",
      "from sklearn.pipeline import make_pipeline\n",
      "\n",
      "model = make_pipeline(StandardScaler(with_mean=False), LinearRegression())\n",
      "\n",
      "If you wish to pass a sample_weight parameter, you need to pass it as a fit parameter to each step of the pipeline as follows:\n",
      "\n",
      "kwargs = {s[0] + '__sample_weight': sample_weight for s in model.steps}\n",
      "model.fit(X, y, **kwargs)\n",
      "\n",
      "\n",
      "  warnings.warn(\n",
      "/Users/vladkondratov/opt/anaconda3/lib/python3.9/site-packages/sklearn/linear_model/_base.py:141: FutureWarning: 'normalize' was deprecated in version 1.0 and will be removed in 1.2.\n",
      "If you wish to scale the data, use Pipeline with a StandardScaler in a preprocessing stage. To reproduce the previous behavior:\n",
      "\n",
      "from sklearn.pipeline import make_pipeline\n",
      "\n",
      "model = make_pipeline(StandardScaler(with_mean=False), LinearRegression())\n",
      "\n",
      "If you wish to pass a sample_weight parameter, you need to pass it as a fit parameter to each step of the pipeline as follows:\n",
      "\n",
      "kwargs = {s[0] + '__sample_weight': sample_weight for s in model.steps}\n",
      "model.fit(X, y, **kwargs)\n",
      "\n",
      "\n",
      "  warnings.warn(\n"
     ]
    }
   ],
   "source": [
    "%%time\n",
    "\n",
    "grid_line_regr_final = GridSearchCV(LinearRegression(), param_grid = param_lr_grid, n_jobs=-1, cv = 5, scoring = smape_score)\n",
    "grid_line_regr_final.fit(X_train_final, y_train_final)\n",
    "params_lr_final = grid_line_regr_final.best_params_\n",
    "line_regr_final = LinearRegression(**params_lr_final)\n",
    "line_regr_final.fit(X_train_final, y_train_final)\n",
    "print('Best params for model: ', grid_line_regr_final.best_params_)"
   ]
  },
  {
   "cell_type": "code",
   "execution_count": 43,
   "metadata": {
    "collapsed": true
   },
   "outputs": [
    {
     "name": "stderr",
     "output_type": "stream",
     "text": [
      "/Users/vladkondratov/opt/anaconda3/lib/python3.9/site-packages/sklearn/linear_model/_base.py:141: FutureWarning: 'normalize' was deprecated in version 1.0 and will be removed in 1.2.\n",
      "If you wish to scale the data, use Pipeline with a StandardScaler in a preprocessing stage. To reproduce the previous behavior:\n",
      "\n",
      "from sklearn.pipeline import make_pipeline\n",
      "\n",
      "model = make_pipeline(StandardScaler(with_mean=False), LinearRegression())\n",
      "\n",
      "If you wish to pass a sample_weight parameter, you need to pass it as a fit parameter to each step of the pipeline as follows:\n",
      "\n",
      "kwargs = {s[0] + '__sample_weight': sample_weight for s in model.steps}\n",
      "model.fit(X, y, **kwargs)\n",
      "\n",
      "\n",
      "  warnings.warn(\n",
      "/Users/vladkondratov/opt/anaconda3/lib/python3.9/site-packages/sklearn/linear_model/_base.py:141: FutureWarning: 'normalize' was deprecated in version 1.0 and will be removed in 1.2.\n",
      "If you wish to scale the data, use Pipeline with a StandardScaler in a preprocessing stage. To reproduce the previous behavior:\n",
      "\n",
      "from sklearn.pipeline import make_pipeline\n",
      "\n",
      "model = make_pipeline(StandardScaler(with_mean=False), LinearRegression())\n",
      "\n",
      "If you wish to pass a sample_weight parameter, you need to pass it as a fit parameter to each step of the pipeline as follows:\n",
      "\n",
      "kwargs = {s[0] + '__sample_weight': sample_weight for s in model.steps}\n",
      "model.fit(X, y, **kwargs)\n",
      "\n",
      "\n",
      "  warnings.warn(\n",
      "/Users/vladkondratov/opt/anaconda3/lib/python3.9/site-packages/sklearn/linear_model/_base.py:141: FutureWarning: 'normalize' was deprecated in version 1.0 and will be removed in 1.2.\n",
      "If you wish to scale the data, use Pipeline with a StandardScaler in a preprocessing stage. To reproduce the previous behavior:\n",
      "\n",
      "from sklearn.pipeline import make_pipeline\n",
      "\n",
      "model = make_pipeline(StandardScaler(with_mean=False), LinearRegression())\n",
      "\n",
      "If you wish to pass a sample_weight parameter, you need to pass it as a fit parameter to each step of the pipeline as follows:\n",
      "\n",
      "kwargs = {s[0] + '__sample_weight': sample_weight for s in model.steps}\n",
      "model.fit(X, y, **kwargs)\n",
      "\n",
      "\n",
      "  warnings.warn(\n",
      "/Users/vladkondratov/opt/anaconda3/lib/python3.9/site-packages/sklearn/linear_model/_base.py:141: FutureWarning: 'normalize' was deprecated in version 1.0 and will be removed in 1.2.\n",
      "If you wish to scale the data, use Pipeline with a StandardScaler in a preprocessing stage. To reproduce the previous behavior:\n",
      "\n",
      "from sklearn.pipeline import make_pipeline\n",
      "\n",
      "model = make_pipeline(StandardScaler(with_mean=False), LinearRegression())\n",
      "\n",
      "If you wish to pass a sample_weight parameter, you need to pass it as a fit parameter to each step of the pipeline as follows:\n",
      "\n",
      "kwargs = {s[0] + '__sample_weight': sample_weight for s in model.steps}\n",
      "model.fit(X, y, **kwargs)\n",
      "\n",
      "\n",
      "  warnings.warn(\n",
      "/Users/vladkondratov/opt/anaconda3/lib/python3.9/site-packages/sklearn/linear_model/_base.py:141: FutureWarning: 'normalize' was deprecated in version 1.0 and will be removed in 1.2.\n",
      "If you wish to scale the data, use Pipeline with a StandardScaler in a preprocessing stage. To reproduce the previous behavior:\n",
      "\n",
      "from sklearn.pipeline import make_pipeline\n",
      "\n",
      "model = make_pipeline(StandardScaler(with_mean=False), LinearRegression())\n",
      "\n",
      "If you wish to pass a sample_weight parameter, you need to pass it as a fit parameter to each step of the pipeline as follows:\n",
      "\n",
      "kwargs = {s[0] + '__sample_weight': sample_weight for s in model.steps}\n",
      "model.fit(X, y, **kwargs)\n",
      "\n",
      "\n",
      "  warnings.warn(\n",
      "/Users/vladkondratov/opt/anaconda3/lib/python3.9/site-packages/sklearn/linear_model/_base.py:148: FutureWarning: 'normalize' was deprecated in version 1.0 and will be removed in 1.2. Please leave the normalize parameter to its default value to silence this warning. The default behavior of this estimator is to not do any normalization. If normalization is needed please use sklearn.preprocessing.StandardScaler instead.\n",
      "  warnings.warn(\n",
      "/Users/vladkondratov/opt/anaconda3/lib/python3.9/site-packages/sklearn/linear_model/_base.py:148: FutureWarning: 'normalize' was deprecated in version 1.0 and will be removed in 1.2. Please leave the normalize parameter to its default value to silence this warning. The default behavior of this estimator is to not do any normalization. If normalization is needed please use sklearn.preprocessing.StandardScaler instead.\n",
      "  warnings.warn(\n",
      "/Users/vladkondratov/opt/anaconda3/lib/python3.9/site-packages/sklearn/linear_model/_base.py:148: FutureWarning: 'normalize' was deprecated in version 1.0 and will be removed in 1.2. Please leave the normalize parameter to its default value to silence this warning. The default behavior of this estimator is to not do any normalization. If normalization is needed please use sklearn.preprocessing.StandardScaler instead.\n",
      "  warnings.warn(\n",
      "/Users/vladkondratov/opt/anaconda3/lib/python3.9/site-packages/sklearn/linear_model/_base.py:148: FutureWarning: 'normalize' was deprecated in version 1.0 and will be removed in 1.2. Please leave the normalize parameter to its default value to silence this warning. The default behavior of this estimator is to not do any normalization. If normalization is needed please use sklearn.preprocessing.StandardScaler instead.\n",
      "  warnings.warn(\n",
      "/Users/vladkondratov/opt/anaconda3/lib/python3.9/site-packages/sklearn/linear_model/_base.py:148: FutureWarning: 'normalize' was deprecated in version 1.0 and will be removed in 1.2. Please leave the normalize parameter to its default value to silence this warning. The default behavior of this estimator is to not do any normalization. If normalization is needed please use sklearn.preprocessing.StandardScaler instead.\n",
      "  warnings.warn(\n",
      "/Users/vladkondratov/opt/anaconda3/lib/python3.9/site-packages/sklearn/linear_model/_base.py:141: FutureWarning: 'normalize' was deprecated in version 1.0 and will be removed in 1.2.\n",
      "If you wish to scale the data, use Pipeline with a StandardScaler in a preprocessing stage. To reproduce the previous behavior:\n",
      "\n",
      "from sklearn.pipeline import make_pipeline\n",
      "\n",
      "model = make_pipeline(StandardScaler(with_mean=False), LinearRegression())\n",
      "\n",
      "If you wish to pass a sample_weight parameter, you need to pass it as a fit parameter to each step of the pipeline as follows:\n",
      "\n",
      "kwargs = {s[0] + '__sample_weight': sample_weight for s in model.steps}\n",
      "model.fit(X, y, **kwargs)\n",
      "\n",
      "\n",
      "  warnings.warn(\n",
      "/Users/vladkondratov/opt/anaconda3/lib/python3.9/site-packages/sklearn/linear_model/_base.py:141: FutureWarning: 'normalize' was deprecated in version 1.0 and will be removed in 1.2.\n",
      "If you wish to scale the data, use Pipeline with a StandardScaler in a preprocessing stage. To reproduce the previous behavior:\n",
      "\n",
      "from sklearn.pipeline import make_pipeline\n",
      "\n",
      "model = make_pipeline(StandardScaler(with_mean=False), LinearRegression())\n",
      "\n",
      "If you wish to pass a sample_weight parameter, you need to pass it as a fit parameter to each step of the pipeline as follows:\n",
      "\n",
      "kwargs = {s[0] + '__sample_weight': sample_weight for s in model.steps}\n",
      "model.fit(X, y, **kwargs)\n",
      "\n",
      "\n",
      "  warnings.warn(\n",
      "/Users/vladkondratov/opt/anaconda3/lib/python3.9/site-packages/sklearn/linear_model/_base.py:141: FutureWarning: 'normalize' was deprecated in version 1.0 and will be removed in 1.2.\n",
      "If you wish to scale the data, use Pipeline with a StandardScaler in a preprocessing stage. To reproduce the previous behavior:\n",
      "\n",
      "from sklearn.pipeline import make_pipeline\n",
      "\n",
      "model = make_pipeline(StandardScaler(with_mean=False), LinearRegression())\n",
      "\n",
      "If you wish to pass a sample_weight parameter, you need to pass it as a fit parameter to each step of the pipeline as follows:\n",
      "\n",
      "kwargs = {s[0] + '__sample_weight': sample_weight for s in model.steps}\n",
      "model.fit(X, y, **kwargs)\n",
      "\n",
      "\n",
      "  warnings.warn(\n",
      "/Users/vladkondratov/opt/anaconda3/lib/python3.9/site-packages/sklearn/linear_model/_base.py:141: FutureWarning: 'normalize' was deprecated in version 1.0 and will be removed in 1.2.\n",
      "If you wish to scale the data, use Pipeline with a StandardScaler in a preprocessing stage. To reproduce the previous behavior:\n",
      "\n",
      "from sklearn.pipeline import make_pipeline\n",
      "\n",
      "model = make_pipeline(StandardScaler(with_mean=False), LinearRegression())\n",
      "\n",
      "If you wish to pass a sample_weight parameter, you need to pass it as a fit parameter to each step of the pipeline as follows:\n",
      "\n",
      "kwargs = {s[0] + '__sample_weight': sample_weight for s in model.steps}\n",
      "model.fit(X, y, **kwargs)\n",
      "\n",
      "\n",
      "  warnings.warn(\n",
      "/Users/vladkondratov/opt/anaconda3/lib/python3.9/site-packages/sklearn/linear_model/_base.py:141: FutureWarning: 'normalize' was deprecated in version 1.0 and will be removed in 1.2.\n",
      "If you wish to scale the data, use Pipeline with a StandardScaler in a preprocessing stage. To reproduce the previous behavior:\n",
      "\n",
      "from sklearn.pipeline import make_pipeline\n",
      "\n",
      "model = make_pipeline(StandardScaler(with_mean=False), LinearRegression())\n",
      "\n",
      "If you wish to pass a sample_weight parameter, you need to pass it as a fit parameter to each step of the pipeline as follows:\n",
      "\n",
      "kwargs = {s[0] + '__sample_weight': sample_weight for s in model.steps}\n",
      "model.fit(X, y, **kwargs)\n",
      "\n",
      "\n",
      "  warnings.warn(\n",
      "/Users/vladkondratov/opt/anaconda3/lib/python3.9/site-packages/sklearn/linear_model/_base.py:148: FutureWarning: 'normalize' was deprecated in version 1.0 and will be removed in 1.2. Please leave the normalize parameter to its default value to silence this warning. The default behavior of this estimator is to not do any normalization. If normalization is needed please use sklearn.preprocessing.StandardScaler instead.\n",
      "  warnings.warn(\n",
      "/Users/vladkondratov/opt/anaconda3/lib/python3.9/site-packages/sklearn/linear_model/_base.py:148: FutureWarning: 'normalize' was deprecated in version 1.0 and will be removed in 1.2. Please leave the normalize parameter to its default value to silence this warning. The default behavior of this estimator is to not do any normalization. If normalization is needed please use sklearn.preprocessing.StandardScaler instead.\n",
      "  warnings.warn(\n",
      "/Users/vladkondratov/opt/anaconda3/lib/python3.9/site-packages/sklearn/linear_model/_base.py:148: FutureWarning: 'normalize' was deprecated in version 1.0 and will be removed in 1.2. Please leave the normalize parameter to its default value to silence this warning. The default behavior of this estimator is to not do any normalization. If normalization is needed please use sklearn.preprocessing.StandardScaler instead.\n",
      "  warnings.warn(\n",
      "/Users/vladkondratov/opt/anaconda3/lib/python3.9/site-packages/sklearn/linear_model/_base.py:141: FutureWarning: 'normalize' was deprecated in version 1.0 and will be removed in 1.2.\n",
      "If you wish to scale the data, use Pipeline with a StandardScaler in a preprocessing stage. To reproduce the previous behavior:\n",
      "\n",
      "from sklearn.pipeline import make_pipeline\n",
      "\n",
      "model = make_pipeline(StandardScaler(with_mean=False), LinearRegression())\n",
      "\n",
      "If you wish to pass a sample_weight parameter, you need to pass it as a fit parameter to each step of the pipeline as follows:\n",
      "\n",
      "kwargs = {s[0] + '__sample_weight': sample_weight for s in model.steps}\n",
      "model.fit(X, y, **kwargs)\n",
      "\n",
      "\n",
      "  warnings.warn(\n",
      "/Users/vladkondratov/opt/anaconda3/lib/python3.9/site-packages/sklearn/linear_model/_base.py:141: FutureWarning: 'normalize' was deprecated in version 1.0 and will be removed in 1.2.\n",
      "If you wish to scale the data, use Pipeline with a StandardScaler in a preprocessing stage. To reproduce the previous behavior:\n",
      "\n",
      "from sklearn.pipeline import make_pipeline\n",
      "\n",
      "model = make_pipeline(StandardScaler(with_mean=False), LinearRegression())\n",
      "\n",
      "If you wish to pass a sample_weight parameter, you need to pass it as a fit parameter to each step of the pipeline as follows:\n",
      "\n",
      "kwargs = {s[0] + '__sample_weight': sample_weight for s in model.steps}\n",
      "model.fit(X, y, **kwargs)\n",
      "\n",
      "\n",
      "  warnings.warn(\n",
      "/Users/vladkondratov/opt/anaconda3/lib/python3.9/site-packages/sklearn/linear_model/_base.py:141: FutureWarning: 'normalize' was deprecated in version 1.0 and will be removed in 1.2.\n",
      "If you wish to scale the data, use Pipeline with a StandardScaler in a preprocessing stage. To reproduce the previous behavior:\n",
      "\n",
      "from sklearn.pipeline import make_pipeline\n",
      "\n",
      "model = make_pipeline(StandardScaler(with_mean=False), LinearRegression())\n",
      "\n",
      "If you wish to pass a sample_weight parameter, you need to pass it as a fit parameter to each step of the pipeline as follows:\n",
      "\n",
      "kwargs = {s[0] + '__sample_weight': sample_weight for s in model.steps}\n",
      "model.fit(X, y, **kwargs)\n",
      "\n",
      "\n",
      "  warnings.warn(\n"
     ]
    },
    {
     "name": "stderr",
     "output_type": "stream",
     "text": [
      "/Users/vladkondratov/opt/anaconda3/lib/python3.9/site-packages/sklearn/linear_model/_base.py:148: FutureWarning: 'normalize' was deprecated in version 1.0 and will be removed in 1.2. Please leave the normalize parameter to its default value to silence this warning. The default behavior of this estimator is to not do any normalization. If normalization is needed please use sklearn.preprocessing.StandardScaler instead.\n",
      "  warnings.warn(\n",
      "/Users/vladkondratov/opt/anaconda3/lib/python3.9/site-packages/sklearn/linear_model/_base.py:148: FutureWarning: 'normalize' was deprecated in version 1.0 and will be removed in 1.2. Please leave the normalize parameter to its default value to silence this warning. The default behavior of this estimator is to not do any normalization. If normalization is needed please use sklearn.preprocessing.StandardScaler instead.\n",
      "  warnings.warn(\n",
      "/Users/vladkondratov/opt/anaconda3/lib/python3.9/site-packages/sklearn/linear_model/_base.py:148: FutureWarning: 'normalize' was deprecated in version 1.0 and will be removed in 1.2. Please leave the normalize parameter to its default value to silence this warning. The default behavior of this estimator is to not do any normalization. If normalization is needed please use sklearn.preprocessing.StandardScaler instead.\n",
      "  warnings.warn(\n",
      "/Users/vladkondratov/opt/anaconda3/lib/python3.9/site-packages/sklearn/linear_model/_base.py:148: FutureWarning: 'normalize' was deprecated in version 1.0 and will be removed in 1.2. Please leave the normalize parameter to its default value to silence this warning. The default behavior of this estimator is to not do any normalization. If normalization is needed please use sklearn.preprocessing.StandardScaler instead.\n",
      "  warnings.warn(\n",
      "/Users/vladkondratov/opt/anaconda3/lib/python3.9/site-packages/sklearn/linear_model/_base.py:148: FutureWarning: 'normalize' was deprecated in version 1.0 and will be removed in 1.2. Please leave the normalize parameter to its default value to silence this warning. The default behavior of this estimator is to not do any normalization. If normalization is needed please use sklearn.preprocessing.StandardScaler instead.\n",
      "  warnings.warn(\n",
      "/Users/vladkondratov/opt/anaconda3/lib/python3.9/site-packages/sklearn/linear_model/_base.py:148: FutureWarning: 'normalize' was deprecated in version 1.0 and will be removed in 1.2. Please leave the normalize parameter to its default value to silence this warning. The default behavior of this estimator is to not do any normalization. If normalization is needed please use sklearn.preprocessing.StandardScaler instead.\n",
      "  warnings.warn(\n",
      "/Users/vladkondratov/opt/anaconda3/lib/python3.9/site-packages/sklearn/linear_model/_base.py:148: FutureWarning: 'normalize' was deprecated in version 1.0 and will be removed in 1.2. Please leave the normalize parameter to its default value to silence this warning. The default behavior of this estimator is to not do any normalization. If normalization is needed please use sklearn.preprocessing.StandardScaler instead.\n",
      "  warnings.warn(\n",
      "/Users/vladkondratov/opt/anaconda3/lib/python3.9/site-packages/sklearn/linear_model/_base.py:141: FutureWarning: 'normalize' was deprecated in version 1.0 and will be removed in 1.2.\n",
      "If you wish to scale the data, use Pipeline with a StandardScaler in a preprocessing stage. To reproduce the previous behavior:\n",
      "\n",
      "from sklearn.pipeline import make_pipeline\n",
      "\n",
      "model = make_pipeline(StandardScaler(with_mean=False), LinearRegression())\n",
      "\n",
      "If you wish to pass a sample_weight parameter, you need to pass it as a fit parameter to each step of the pipeline as follows:\n",
      "\n",
      "kwargs = {s[0] + '__sample_weight': sample_weight for s in model.steps}\n",
      "model.fit(X, y, **kwargs)\n",
      "\n",
      "\n",
      "  warnings.warn(\n",
      "/Users/vladkondratov/opt/anaconda3/lib/python3.9/site-packages/sklearn/linear_model/_base.py:141: FutureWarning: 'normalize' was deprecated in version 1.0 and will be removed in 1.2.\n",
      "If you wish to scale the data, use Pipeline with a StandardScaler in a preprocessing stage. To reproduce the previous behavior:\n",
      "\n",
      "from sklearn.pipeline import make_pipeline\n",
      "\n",
      "model = make_pipeline(StandardScaler(with_mean=False), LinearRegression())\n",
      "\n",
      "If you wish to pass a sample_weight parameter, you need to pass it as a fit parameter to each step of the pipeline as follows:\n",
      "\n",
      "kwargs = {s[0] + '__sample_weight': sample_weight for s in model.steps}\n",
      "model.fit(X, y, **kwargs)\n",
      "\n",
      "\n",
      "  warnings.warn(\n",
      "/Users/vladkondratov/opt/anaconda3/lib/python3.9/site-packages/sklearn/linear_model/_base.py:141: FutureWarning: 'normalize' was deprecated in version 1.0 and will be removed in 1.2.\n",
      "If you wish to scale the data, use Pipeline with a StandardScaler in a preprocessing stage. To reproduce the previous behavior:\n",
      "\n",
      "from sklearn.pipeline import make_pipeline\n",
      "\n",
      "model = make_pipeline(StandardScaler(with_mean=False), LinearRegression())\n",
      "\n",
      "If you wish to pass a sample_weight parameter, you need to pass it as a fit parameter to each step of the pipeline as follows:\n",
      "\n",
      "kwargs = {s[0] + '__sample_weight': sample_weight for s in model.steps}\n",
      "model.fit(X, y, **kwargs)\n",
      "\n",
      "\n",
      "  warnings.warn(\n",
      "/Users/vladkondratov/opt/anaconda3/lib/python3.9/site-packages/sklearn/linear_model/_base.py:141: FutureWarning: 'normalize' was deprecated in version 1.0 and will be removed in 1.2.\n",
      "If you wish to scale the data, use Pipeline with a StandardScaler in a preprocessing stage. To reproduce the previous behavior:\n",
      "\n",
      "from sklearn.pipeline import make_pipeline\n",
      "\n",
      "model = make_pipeline(StandardScaler(with_mean=False), LinearRegression())\n",
      "\n",
      "If you wish to pass a sample_weight parameter, you need to pass it as a fit parameter to each step of the pipeline as follows:\n",
      "\n",
      "kwargs = {s[0] + '__sample_weight': sample_weight for s in model.steps}\n",
      "model.fit(X, y, **kwargs)\n",
      "\n",
      "\n",
      "  warnings.warn(\n",
      "/Users/vladkondratov/opt/anaconda3/lib/python3.9/site-packages/sklearn/linear_model/_base.py:141: FutureWarning: 'normalize' was deprecated in version 1.0 and will be removed in 1.2.\n",
      "If you wish to scale the data, use Pipeline with a StandardScaler in a preprocessing stage. To reproduce the previous behavior:\n",
      "\n",
      "from sklearn.pipeline import make_pipeline\n",
      "\n",
      "model = make_pipeline(StandardScaler(with_mean=False), LinearRegression())\n",
      "\n",
      "If you wish to pass a sample_weight parameter, you need to pass it as a fit parameter to each step of the pipeline as follows:\n",
      "\n",
      "kwargs = {s[0] + '__sample_weight': sample_weight for s in model.steps}\n",
      "model.fit(X, y, **kwargs)\n",
      "\n",
      "\n",
      "  warnings.warn(\n",
      "/Users/vladkondratov/opt/anaconda3/lib/python3.9/site-packages/sklearn/linear_model/_base.py:141: FutureWarning: 'normalize' was deprecated in version 1.0 and will be removed in 1.2.\n",
      "If you wish to scale the data, use Pipeline with a StandardScaler in a preprocessing stage. To reproduce the previous behavior:\n",
      "\n",
      "from sklearn.pipeline import make_pipeline\n",
      "\n",
      "model = make_pipeline(StandardScaler(with_mean=False), LinearRegression())\n",
      "\n",
      "If you wish to pass a sample_weight parameter, you need to pass it as a fit parameter to each step of the pipeline as follows:\n",
      "\n",
      "kwargs = {s[0] + '__sample_weight': sample_weight for s in model.steps}\n",
      "model.fit(X, y, **kwargs)\n",
      "\n",
      "\n",
      "  warnings.warn(\n",
      "/Users/vladkondratov/opt/anaconda3/lib/python3.9/site-packages/sklearn/linear_model/_base.py:141: FutureWarning: 'normalize' was deprecated in version 1.0 and will be removed in 1.2.\n",
      "If you wish to scale the data, use Pipeline with a StandardScaler in a preprocessing stage. To reproduce the previous behavior:\n",
      "\n",
      "from sklearn.pipeline import make_pipeline\n",
      "\n",
      "model = make_pipeline(StandardScaler(with_mean=False), LinearRegression())\n",
      "\n",
      "If you wish to pass a sample_weight parameter, you need to pass it as a fit parameter to each step of the pipeline as follows:\n",
      "\n",
      "kwargs = {s[0] + '__sample_weight': sample_weight for s in model.steps}\n",
      "model.fit(X, y, **kwargs)\n",
      "\n",
      "\n",
      "  warnings.warn(\n",
      "/Users/vladkondratov/opt/anaconda3/lib/python3.9/site-packages/sklearn/linear_model/_base.py:148: FutureWarning: 'normalize' was deprecated in version 1.0 and will be removed in 1.2. Please leave the normalize parameter to its default value to silence this warning. The default behavior of this estimator is to not do any normalization. If normalization is needed please use sklearn.preprocessing.StandardScaler instead.\n",
      "  warnings.warn(\n",
      "/Users/vladkondratov/opt/anaconda3/lib/python3.9/site-packages/sklearn/linear_model/_base.py:148: FutureWarning: 'normalize' was deprecated in version 1.0 and will be removed in 1.2. Please leave the normalize parameter to its default value to silence this warning. The default behavior of this estimator is to not do any normalization. If normalization is needed please use sklearn.preprocessing.StandardScaler instead.\n",
      "  warnings.warn(\n"
     ]
    },
    {
     "name": "stderr",
     "output_type": "stream",
     "text": [
      "/Users/vladkondratov/opt/anaconda3/lib/python3.9/site-packages/sklearn/linear_model/_base.py:148: FutureWarning: 'normalize' was deprecated in version 1.0 and will be removed in 1.2. Please leave the normalize parameter to its default value to silence this warning. The default behavior of this estimator is to not do any normalization. If normalization is needed please use sklearn.preprocessing.StandardScaler instead.\n",
      "  warnings.warn(\n",
      "/Users/vladkondratov/opt/anaconda3/lib/python3.9/site-packages/sklearn/linear_model/_base.py:148: FutureWarning: 'normalize' was deprecated in version 1.0 and will be removed in 1.2. Please leave the normalize parameter to its default value to silence this warning. The default behavior of this estimator is to not do any normalization. If normalization is needed please use sklearn.preprocessing.StandardScaler instead.\n",
      "  warnings.warn(\n",
      "/Users/vladkondratov/opt/anaconda3/lib/python3.9/site-packages/sklearn/linear_model/_base.py:148: FutureWarning: 'normalize' was deprecated in version 1.0 and will be removed in 1.2. Please leave the normalize parameter to its default value to silence this warning. The default behavior of this estimator is to not do any normalization. If normalization is needed please use sklearn.preprocessing.StandardScaler instead.\n",
      "  warnings.warn(\n",
      "/Users/vladkondratov/opt/anaconda3/lib/python3.9/site-packages/sklearn/linear_model/_base.py:141: FutureWarning: 'normalize' was deprecated in version 1.0 and will be removed in 1.2.\n",
      "If you wish to scale the data, use Pipeline with a StandardScaler in a preprocessing stage. To reproduce the previous behavior:\n",
      "\n",
      "from sklearn.pipeline import make_pipeline\n",
      "\n",
      "model = make_pipeline(StandardScaler(with_mean=False), LinearRegression())\n",
      "\n",
      "If you wish to pass a sample_weight parameter, you need to pass it as a fit parameter to each step of the pipeline as follows:\n",
      "\n",
      "kwargs = {s[0] + '__sample_weight': sample_weight for s in model.steps}\n",
      "model.fit(X, y, **kwargs)\n",
      "\n",
      "\n",
      "  warnings.warn(\n",
      "/Users/vladkondratov/opt/anaconda3/lib/python3.9/site-packages/sklearn/linear_model/_base.py:141: FutureWarning: 'normalize' was deprecated in version 1.0 and will be removed in 1.2.\n",
      "If you wish to scale the data, use Pipeline with a StandardScaler in a preprocessing stage. To reproduce the previous behavior:\n",
      "\n",
      "from sklearn.pipeline import make_pipeline\n",
      "\n",
      "model = make_pipeline(StandardScaler(with_mean=False), LinearRegression())\n",
      "\n",
      "If you wish to pass a sample_weight parameter, you need to pass it as a fit parameter to each step of the pipeline as follows:\n",
      "\n",
      "kwargs = {s[0] + '__sample_weight': sample_weight for s in model.steps}\n",
      "model.fit(X, y, **kwargs)\n",
      "\n",
      "\n",
      "  warnings.warn(\n",
      "/Users/vladkondratov/opt/anaconda3/lib/python3.9/site-packages/sklearn/linear_model/_base.py:141: FutureWarning: 'normalize' was deprecated in version 1.0 and will be removed in 1.2.\n",
      "If you wish to scale the data, use Pipeline with a StandardScaler in a preprocessing stage. To reproduce the previous behavior:\n",
      "\n",
      "from sklearn.pipeline import make_pipeline\n",
      "\n",
      "model = make_pipeline(StandardScaler(with_mean=False), LinearRegression())\n",
      "\n",
      "If you wish to pass a sample_weight parameter, you need to pass it as a fit parameter to each step of the pipeline as follows:\n",
      "\n",
      "kwargs = {s[0] + '__sample_weight': sample_weight for s in model.steps}\n",
      "model.fit(X, y, **kwargs)\n",
      "\n",
      "\n",
      "  warnings.warn(\n",
      "/Users/vladkondratov/opt/anaconda3/lib/python3.9/site-packages/sklearn/linear_model/_base.py:141: FutureWarning: 'normalize' was deprecated in version 1.0 and will be removed in 1.2.\n",
      "If you wish to scale the data, use Pipeline with a StandardScaler in a preprocessing stage. To reproduce the previous behavior:\n",
      "\n",
      "from sklearn.pipeline import make_pipeline\n",
      "\n",
      "model = make_pipeline(StandardScaler(with_mean=False), LinearRegression())\n",
      "\n",
      "If you wish to pass a sample_weight parameter, you need to pass it as a fit parameter to each step of the pipeline as follows:\n",
      "\n",
      "kwargs = {s[0] + '__sample_weight': sample_weight for s in model.steps}\n",
      "model.fit(X, y, **kwargs)\n",
      "\n",
      "\n",
      "  warnings.warn(\n",
      "/Users/vladkondratov/opt/anaconda3/lib/python3.9/site-packages/sklearn/linear_model/_base.py:141: FutureWarning: 'normalize' was deprecated in version 1.0 and will be removed in 1.2.\n",
      "If you wish to scale the data, use Pipeline with a StandardScaler in a preprocessing stage. To reproduce the previous behavior:\n",
      "\n",
      "from sklearn.pipeline import make_pipeline\n",
      "\n",
      "model = make_pipeline(StandardScaler(with_mean=False), LinearRegression())\n",
      "\n",
      "If you wish to pass a sample_weight parameter, you need to pass it as a fit parameter to each step of the pipeline as follows:\n",
      "\n",
      "kwargs = {s[0] + '__sample_weight': sample_weight for s in model.steps}\n",
      "model.fit(X, y, **kwargs)\n",
      "\n",
      "\n",
      "  warnings.warn(\n",
      "/Users/vladkondratov/opt/anaconda3/lib/python3.9/site-packages/sklearn/linear_model/_base.py:141: FutureWarning: 'normalize' was deprecated in version 1.0 and will be removed in 1.2.\n",
      "If you wish to scale the data, use Pipeline with a StandardScaler in a preprocessing stage. To reproduce the previous behavior:\n",
      "\n",
      "from sklearn.pipeline import make_pipeline\n",
      "\n",
      "model = make_pipeline(StandardScaler(with_mean=False), LinearRegression())\n",
      "\n",
      "If you wish to pass a sample_weight parameter, you need to pass it as a fit parameter to each step of the pipeline as follows:\n",
      "\n",
      "kwargs = {s[0] + '__sample_weight': sample_weight for s in model.steps}\n",
      "model.fit(X, y, **kwargs)\n",
      "\n",
      "\n",
      "  warnings.warn(\n",
      "/Users/vladkondratov/opt/anaconda3/lib/python3.9/site-packages/sklearn/linear_model/_base.py:148: FutureWarning: 'normalize' was deprecated in version 1.0 and will be removed in 1.2. Please leave the normalize parameter to its default value to silence this warning. The default behavior of this estimator is to not do any normalization. If normalization is needed please use sklearn.preprocessing.StandardScaler instead.\n",
      "  warnings.warn(\n",
      "/Users/vladkondratov/opt/anaconda3/lib/python3.9/site-packages/sklearn/linear_model/_base.py:148: FutureWarning: 'normalize' was deprecated in version 1.0 and will be removed in 1.2. Please leave the normalize parameter to its default value to silence this warning. The default behavior of this estimator is to not do any normalization. If normalization is needed please use sklearn.preprocessing.StandardScaler instead.\n",
      "  warnings.warn(\n",
      "/Users/vladkondratov/opt/anaconda3/lib/python3.9/site-packages/sklearn/linear_model/_base.py:148: FutureWarning: 'normalize' was deprecated in version 1.0 and will be removed in 1.2. Please leave the normalize parameter to its default value to silence this warning. The default behavior of this estimator is to not do any normalization. If normalization is needed please use sklearn.preprocessing.StandardScaler instead.\n",
      "  warnings.warn(\n",
      "/Users/vladkondratov/opt/anaconda3/lib/python3.9/site-packages/sklearn/linear_model/_base.py:148: FutureWarning: 'normalize' was deprecated in version 1.0 and will be removed in 1.2. Please leave the normalize parameter to its default value to silence this warning. The default behavior of this estimator is to not do any normalization. If normalization is needed please use sklearn.preprocessing.StandardScaler instead.\n",
      "  warnings.warn(\n",
      "/Users/vladkondratov/opt/anaconda3/lib/python3.9/site-packages/sklearn/linear_model/_base.py:148: FutureWarning: 'normalize' was deprecated in version 1.0 and will be removed in 1.2. Please leave the normalize parameter to its default value to silence this warning. The default behavior of this estimator is to not do any normalization. If normalization is needed please use sklearn.preprocessing.StandardScaler instead.\n",
      "  warnings.warn(\n",
      "/Users/vladkondratov/opt/anaconda3/lib/python3.9/site-packages/sklearn/linear_model/_base.py:141: FutureWarning: 'normalize' was deprecated in version 1.0 and will be removed in 1.2.\n",
      "If you wish to scale the data, use Pipeline with a StandardScaler in a preprocessing stage. To reproduce the previous behavior:\n",
      "\n",
      "from sklearn.pipeline import make_pipeline\n",
      "\n",
      "model = make_pipeline(StandardScaler(with_mean=False), LinearRegression())\n",
      "\n",
      "If you wish to pass a sample_weight parameter, you need to pass it as a fit parameter to each step of the pipeline as follows:\n",
      "\n",
      "kwargs = {s[0] + '__sample_weight': sample_weight for s in model.steps}\n",
      "model.fit(X, y, **kwargs)\n",
      "\n",
      "\n",
      "  warnings.warn(\n",
      "/Users/vladkondratov/opt/anaconda3/lib/python3.9/site-packages/sklearn/linear_model/_base.py:141: FutureWarning: 'normalize' was deprecated in version 1.0 and will be removed in 1.2.\n",
      "If you wish to scale the data, use Pipeline with a StandardScaler in a preprocessing stage. To reproduce the previous behavior:\n",
      "\n",
      "from sklearn.pipeline import make_pipeline\n",
      "\n",
      "model = make_pipeline(StandardScaler(with_mean=False), LinearRegression())\n",
      "\n",
      "If you wish to pass a sample_weight parameter, you need to pass it as a fit parameter to each step of the pipeline as follows:\n",
      "\n",
      "kwargs = {s[0] + '__sample_weight': sample_weight for s in model.steps}\n",
      "model.fit(X, y, **kwargs)\n",
      "\n",
      "\n",
      "  warnings.warn(\n",
      "/Users/vladkondratov/opt/anaconda3/lib/python3.9/site-packages/sklearn/linear_model/_base.py:141: FutureWarning: 'normalize' was deprecated in version 1.0 and will be removed in 1.2.\n",
      "If you wish to scale the data, use Pipeline with a StandardScaler in a preprocessing stage. To reproduce the previous behavior:\n",
      "\n",
      "from sklearn.pipeline import make_pipeline\n",
      "\n",
      "model = make_pipeline(StandardScaler(with_mean=False), LinearRegression())\n",
      "\n",
      "If you wish to pass a sample_weight parameter, you need to pass it as a fit parameter to each step of the pipeline as follows:\n",
      "\n",
      "kwargs = {s[0] + '__sample_weight': sample_weight for s in model.steps}\n",
      "model.fit(X, y, **kwargs)\n",
      "\n",
      "\n",
      "  warnings.warn(\n",
      "/Users/vladkondratov/opt/anaconda3/lib/python3.9/site-packages/sklearn/linear_model/_base.py:141: FutureWarning: 'normalize' was deprecated in version 1.0 and will be removed in 1.2.\n",
      "If you wish to scale the data, use Pipeline with a StandardScaler in a preprocessing stage. To reproduce the previous behavior:\n",
      "\n",
      "from sklearn.pipeline import make_pipeline\n",
      "\n",
      "model = make_pipeline(StandardScaler(with_mean=False), LinearRegression())\n",
      "\n",
      "If you wish to pass a sample_weight parameter, you need to pass it as a fit parameter to each step of the pipeline as follows:\n",
      "\n",
      "kwargs = {s[0] + '__sample_weight': sample_weight for s in model.steps}\n",
      "model.fit(X, y, **kwargs)\n",
      "\n",
      "\n",
      "  warnings.warn(\n"
     ]
    },
    {
     "name": "stderr",
     "output_type": "stream",
     "text": [
      "/Users/vladkondratov/opt/anaconda3/lib/python3.9/site-packages/sklearn/linear_model/_base.py:141: FutureWarning: 'normalize' was deprecated in version 1.0 and will be removed in 1.2.\n",
      "If you wish to scale the data, use Pipeline with a StandardScaler in a preprocessing stage. To reproduce the previous behavior:\n",
      "\n",
      "from sklearn.pipeline import make_pipeline\n",
      "\n",
      "model = make_pipeline(StandardScaler(with_mean=False), LinearRegression())\n",
      "\n",
      "If you wish to pass a sample_weight parameter, you need to pass it as a fit parameter to each step of the pipeline as follows:\n",
      "\n",
      "kwargs = {s[0] + '__sample_weight': sample_weight for s in model.steps}\n",
      "model.fit(X, y, **kwargs)\n",
      "\n",
      "\n",
      "  warnings.warn(\n",
      "/Users/vladkondratov/opt/anaconda3/lib/python3.9/site-packages/sklearn/linear_model/_base.py:148: FutureWarning: 'normalize' was deprecated in version 1.0 and will be removed in 1.2. Please leave the normalize parameter to its default value to silence this warning. The default behavior of this estimator is to not do any normalization. If normalization is needed please use sklearn.preprocessing.StandardScaler instead.\n",
      "  warnings.warn(\n",
      "/Users/vladkondratov/opt/anaconda3/lib/python3.9/site-packages/sklearn/linear_model/_base.py:148: FutureWarning: 'normalize' was deprecated in version 1.0 and will be removed in 1.2. Please leave the normalize parameter to its default value to silence this warning. The default behavior of this estimator is to not do any normalization. If normalization is needed please use sklearn.preprocessing.StandardScaler instead.\n",
      "  warnings.warn(\n",
      "/Users/vladkondratov/opt/anaconda3/lib/python3.9/site-packages/sklearn/linear_model/_base.py:148: FutureWarning: 'normalize' was deprecated in version 1.0 and will be removed in 1.2. Please leave the normalize parameter to its default value to silence this warning. The default behavior of this estimator is to not do any normalization. If normalization is needed please use sklearn.preprocessing.StandardScaler instead.\n",
      "  warnings.warn(\n",
      "/Users/vladkondratov/opt/anaconda3/lib/python3.9/site-packages/sklearn/linear_model/_base.py:148: FutureWarning: 'normalize' was deprecated in version 1.0 and will be removed in 1.2. Please leave the normalize parameter to its default value to silence this warning. The default behavior of this estimator is to not do any normalization. If normalization is needed please use sklearn.preprocessing.StandardScaler instead.\n",
      "  warnings.warn(\n",
      "/Users/vladkondratov/opt/anaconda3/lib/python3.9/site-packages/sklearn/linear_model/_base.py:141: FutureWarning: 'normalize' was deprecated in version 1.0 and will be removed in 1.2.\n",
      "If you wish to scale the data, use Pipeline with a StandardScaler in a preprocessing stage. To reproduce the previous behavior:\n",
      "\n",
      "from sklearn.pipeline import make_pipeline\n",
      "\n",
      "model = make_pipeline(StandardScaler(with_mean=False), LinearRegression())\n",
      "\n",
      "If you wish to pass a sample_weight parameter, you need to pass it as a fit parameter to each step of the pipeline as follows:\n",
      "\n",
      "kwargs = {s[0] + '__sample_weight': sample_weight for s in model.steps}\n",
      "model.fit(X, y, **kwargs)\n",
      "\n",
      "\n",
      "  warnings.warn(\n",
      "/Users/vladkondratov/opt/anaconda3/lib/python3.9/site-packages/sklearn/linear_model/_base.py:141: FutureWarning: 'normalize' was deprecated in version 1.0 and will be removed in 1.2.\n",
      "If you wish to scale the data, use Pipeline with a StandardScaler in a preprocessing stage. To reproduce the previous behavior:\n",
      "\n",
      "from sklearn.pipeline import make_pipeline\n",
      "\n",
      "model = make_pipeline(StandardScaler(with_mean=False), LinearRegression())\n",
      "\n",
      "If you wish to pass a sample_weight parameter, you need to pass it as a fit parameter to each step of the pipeline as follows:\n",
      "\n",
      "kwargs = {s[0] + '__sample_weight': sample_weight for s in model.steps}\n",
      "model.fit(X, y, **kwargs)\n",
      "\n",
      "\n",
      "  warnings.warn(\n",
      "/Users/vladkondratov/opt/anaconda3/lib/python3.9/site-packages/sklearn/linear_model/_base.py:141: FutureWarning: 'normalize' was deprecated in version 1.0 and will be removed in 1.2.\n",
      "If you wish to scale the data, use Pipeline with a StandardScaler in a preprocessing stage. To reproduce the previous behavior:\n",
      "\n",
      "from sklearn.pipeline import make_pipeline\n",
      "\n",
      "model = make_pipeline(StandardScaler(with_mean=False), LinearRegression())\n",
      "\n",
      "If you wish to pass a sample_weight parameter, you need to pass it as a fit parameter to each step of the pipeline as follows:\n",
      "\n",
      "kwargs = {s[0] + '__sample_weight': sample_weight for s in model.steps}\n",
      "model.fit(X, y, **kwargs)\n",
      "\n",
      "\n",
      "  warnings.warn(\n",
      "/Users/vladkondratov/opt/anaconda3/lib/python3.9/site-packages/sklearn/linear_model/_base.py:148: FutureWarning: 'normalize' was deprecated in version 1.0 and will be removed in 1.2. Please leave the normalize parameter to its default value to silence this warning. The default behavior of this estimator is to not do any normalization. If normalization is needed please use sklearn.preprocessing.StandardScaler instead.\n",
      "  warnings.warn(\n",
      "/Users/vladkondratov/opt/anaconda3/lib/python3.9/site-packages/sklearn/linear_model/_base.py:148: FutureWarning: 'normalize' was deprecated in version 1.0 and will be removed in 1.2. Please leave the normalize parameter to its default value to silence this warning. The default behavior of this estimator is to not do any normalization. If normalization is needed please use sklearn.preprocessing.StandardScaler instead.\n",
      "  warnings.warn(\n",
      "/Users/vladkondratov/opt/anaconda3/lib/python3.9/site-packages/sklearn/linear_model/_base.py:148: FutureWarning: 'normalize' was deprecated in version 1.0 and will be removed in 1.2. Please leave the normalize parameter to its default value to silence this warning. The default behavior of this estimator is to not do any normalization. If normalization is needed please use sklearn.preprocessing.StandardScaler instead.\n",
      "  warnings.warn(\n",
      "/Users/vladkondratov/opt/anaconda3/lib/python3.9/site-packages/sklearn/linear_model/_base.py:141: FutureWarning: 'normalize' was deprecated in version 1.0 and will be removed in 1.2.\n",
      "If you wish to scale the data, use Pipeline with a StandardScaler in a preprocessing stage. To reproduce the previous behavior:\n",
      "\n",
      "from sklearn.pipeline import make_pipeline\n",
      "\n",
      "model = make_pipeline(StandardScaler(with_mean=False), LinearRegression())\n",
      "\n",
      "If you wish to pass a sample_weight parameter, you need to pass it as a fit parameter to each step of the pipeline as follows:\n",
      "\n",
      "kwargs = {s[0] + '__sample_weight': sample_weight for s in model.steps}\n",
      "model.fit(X, y, **kwargs)\n",
      "\n",
      "\n",
      "  warnings.warn(\n",
      "/Users/vladkondratov/opt/anaconda3/lib/python3.9/site-packages/sklearn/linear_model/_base.py:148: FutureWarning: 'normalize' was deprecated in version 1.0 and will be removed in 1.2. Please leave the normalize parameter to its default value to silence this warning. The default behavior of this estimator is to not do any normalization. If normalization is needed please use sklearn.preprocessing.StandardScaler instead.\n",
      "  warnings.warn(\n",
      "/Users/vladkondratov/opt/anaconda3/lib/python3.9/site-packages/sklearn/linear_model/_base.py:141: FutureWarning: 'normalize' was deprecated in version 1.0 and will be removed in 1.2.\n",
      "If you wish to scale the data, use Pipeline with a StandardScaler in a preprocessing stage. To reproduce the previous behavior:\n",
      "\n",
      "from sklearn.pipeline import make_pipeline\n",
      "\n",
      "model = make_pipeline(StandardScaler(with_mean=False), LinearRegression())\n",
      "\n",
      "If you wish to pass a sample_weight parameter, you need to pass it as a fit parameter to each step of the pipeline as follows:\n",
      "\n",
      "kwargs = {s[0] + '__sample_weight': sample_weight for s in model.steps}\n",
      "model.fit(X, y, **kwargs)\n",
      "\n",
      "\n",
      "  warnings.warn(\n",
      "/Users/vladkondratov/opt/anaconda3/lib/python3.9/site-packages/sklearn/linear_model/_base.py:141: FutureWarning: 'normalize' was deprecated in version 1.0 and will be removed in 1.2.\n",
      "If you wish to scale the data, use Pipeline with a StandardScaler in a preprocessing stage. To reproduce the previous behavior:\n",
      "\n",
      "from sklearn.pipeline import make_pipeline\n",
      "\n",
      "model = make_pipeline(StandardScaler(with_mean=False), LinearRegression())\n",
      "\n",
      "If you wish to pass a sample_weight parameter, you need to pass it as a fit parameter to each step of the pipeline as follows:\n",
      "\n",
      "kwargs = {s[0] + '__sample_weight': sample_weight for s in model.steps}\n",
      "model.fit(X, y, **kwargs)\n",
      "\n",
      "\n",
      "  warnings.warn(\n",
      "/Users/vladkondratov/opt/anaconda3/lib/python3.9/site-packages/sklearn/linear_model/_base.py:141: FutureWarning: 'normalize' was deprecated in version 1.0 and will be removed in 1.2.\n",
      "If you wish to scale the data, use Pipeline with a StandardScaler in a preprocessing stage. To reproduce the previous behavior:\n",
      "\n",
      "from sklearn.pipeline import make_pipeline\n",
      "\n",
      "model = make_pipeline(StandardScaler(with_mean=False), LinearRegression())\n",
      "\n",
      "If you wish to pass a sample_weight parameter, you need to pass it as a fit parameter to each step of the pipeline as follows:\n",
      "\n",
      "kwargs = {s[0] + '__sample_weight': sample_weight for s in model.steps}\n",
      "model.fit(X, y, **kwargs)\n",
      "\n",
      "\n",
      "  warnings.warn(\n",
      "/Users/vladkondratov/opt/anaconda3/lib/python3.9/site-packages/sklearn/linear_model/_base.py:141: FutureWarning: 'normalize' was deprecated in version 1.0 and will be removed in 1.2.\n",
      "If you wish to scale the data, use Pipeline with a StandardScaler in a preprocessing stage. To reproduce the previous behavior:\n",
      "\n",
      "from sklearn.pipeline import make_pipeline\n",
      "\n",
      "model = make_pipeline(StandardScaler(with_mean=False), LinearRegression())\n",
      "\n",
      "If you wish to pass a sample_weight parameter, you need to pass it as a fit parameter to each step of the pipeline as follows:\n",
      "\n",
      "kwargs = {s[0] + '__sample_weight': sample_weight for s in model.steps}\n",
      "model.fit(X, y, **kwargs)\n",
      "\n",
      "\n",
      "  warnings.warn(\n",
      "/Users/vladkondratov/opt/anaconda3/lib/python3.9/site-packages/sklearn/linear_model/_base.py:141: FutureWarning: 'normalize' was deprecated in version 1.0 and will be removed in 1.2.\n",
      "If you wish to scale the data, use Pipeline with a StandardScaler in a preprocessing stage. To reproduce the previous behavior:\n",
      "\n",
      "from sklearn.pipeline import make_pipeline\n",
      "\n",
      "model = make_pipeline(StandardScaler(with_mean=False), LinearRegression())\n",
      "\n",
      "If you wish to pass a sample_weight parameter, you need to pass it as a fit parameter to each step of the pipeline as follows:\n",
      "\n",
      "kwargs = {s[0] + '__sample_weight': sample_weight for s in model.steps}\n",
      "model.fit(X, y, **kwargs)\n",
      "\n",
      "\n",
      "  warnings.warn(\n",
      "/Users/vladkondratov/opt/anaconda3/lib/python3.9/site-packages/sklearn/linear_model/_base.py:148: FutureWarning: 'normalize' was deprecated in version 1.0 and will be removed in 1.2. Please leave the normalize parameter to its default value to silence this warning. The default behavior of this estimator is to not do any normalization. If normalization is needed please use sklearn.preprocessing.StandardScaler instead.\n",
      "  warnings.warn(\n",
      "/Users/vladkondratov/opt/anaconda3/lib/python3.9/site-packages/sklearn/linear_model/_base.py:148: FutureWarning: 'normalize' was deprecated in version 1.0 and will be removed in 1.2. Please leave the normalize parameter to its default value to silence this warning. The default behavior of this estimator is to not do any normalization. If normalization is needed please use sklearn.preprocessing.StandardScaler instead.\n",
      "  warnings.warn(\n"
     ]
    },
    {
     "name": "stderr",
     "output_type": "stream",
     "text": [
      "/Users/vladkondratov/opt/anaconda3/lib/python3.9/site-packages/sklearn/linear_model/_base.py:141: FutureWarning: 'normalize' was deprecated in version 1.0 and will be removed in 1.2.\n",
      "If you wish to scale the data, use Pipeline with a StandardScaler in a preprocessing stage. To reproduce the previous behavior:\n",
      "\n",
      "from sklearn.pipeline import make_pipeline\n",
      "\n",
      "model = make_pipeline(StandardScaler(with_mean=False), LinearRegression())\n",
      "\n",
      "If you wish to pass a sample_weight parameter, you need to pass it as a fit parameter to each step of the pipeline as follows:\n",
      "\n",
      "kwargs = {s[0] + '__sample_weight': sample_weight for s in model.steps}\n",
      "model.fit(X, y, **kwargs)\n",
      "\n",
      "\n",
      "  warnings.warn(\n",
      "/Users/vladkondratov/opt/anaconda3/lib/python3.9/site-packages/sklearn/linear_model/_base.py:148: FutureWarning: 'normalize' was deprecated in version 1.0 and will be removed in 1.2. Please leave the normalize parameter to its default value to silence this warning. The default behavior of this estimator is to not do any normalization. If normalization is needed please use sklearn.preprocessing.StandardScaler instead.\n",
      "  warnings.warn(\n",
      "/Users/vladkondratov/opt/anaconda3/lib/python3.9/site-packages/sklearn/linear_model/_base.py:148: FutureWarning: 'normalize' was deprecated in version 1.0 and will be removed in 1.2. Please leave the normalize parameter to its default value to silence this warning. The default behavior of this estimator is to not do any normalization. If normalization is needed please use sklearn.preprocessing.StandardScaler instead.\n",
      "  warnings.warn(\n",
      "/Users/vladkondratov/opt/anaconda3/lib/python3.9/site-packages/sklearn/linear_model/_base.py:148: FutureWarning: 'normalize' was deprecated in version 1.0 and will be removed in 1.2. Please leave the normalize parameter to its default value to silence this warning. The default behavior of this estimator is to not do any normalization. If normalization is needed please use sklearn.preprocessing.StandardScaler instead.\n",
      "  warnings.warn(\n",
      "/Users/vladkondratov/opt/anaconda3/lib/python3.9/site-packages/sklearn/linear_model/_base.py:148: FutureWarning: 'normalize' was deprecated in version 1.0 and will be removed in 1.2. Please leave the normalize parameter to its default value to silence this warning. The default behavior of this estimator is to not do any normalization. If normalization is needed please use sklearn.preprocessing.StandardScaler instead.\n",
      "  warnings.warn(\n",
      "/Users/vladkondratov/opt/anaconda3/lib/python3.9/site-packages/sklearn/linear_model/_base.py:148: FutureWarning: 'normalize' was deprecated in version 1.0 and will be removed in 1.2. Please leave the normalize parameter to its default value to silence this warning. The default behavior of this estimator is to not do any normalization. If normalization is needed please use sklearn.preprocessing.StandardScaler instead.\n",
      "  warnings.warn(\n",
      "/Users/vladkondratov/opt/anaconda3/lib/python3.9/site-packages/sklearn/linear_model/_base.py:148: FutureWarning: 'normalize' was deprecated in version 1.0 and will be removed in 1.2. Please leave the normalize parameter to its default value to silence this warning. The default behavior of this estimator is to not do any normalization. If normalization is needed please use sklearn.preprocessing.StandardScaler instead.\n",
      "  warnings.warn(\n",
      "/Users/vladkondratov/opt/anaconda3/lib/python3.9/site-packages/sklearn/linear_model/_base.py:141: FutureWarning: 'normalize' was deprecated in version 1.0 and will be removed in 1.2.\n",
      "If you wish to scale the data, use Pipeline with a StandardScaler in a preprocessing stage. To reproduce the previous behavior:\n",
      "\n",
      "from sklearn.pipeline import make_pipeline\n",
      "\n",
      "model = make_pipeline(StandardScaler(with_mean=False), LinearRegression())\n",
      "\n",
      "If you wish to pass a sample_weight parameter, you need to pass it as a fit parameter to each step of the pipeline as follows:\n",
      "\n",
      "kwargs = {s[0] + '__sample_weight': sample_weight for s in model.steps}\n",
      "model.fit(X, y, **kwargs)\n",
      "\n",
      "\n",
      "  warnings.warn(\n",
      "/Users/vladkondratov/opt/anaconda3/lib/python3.9/site-packages/sklearn/linear_model/_base.py:141: FutureWarning: 'normalize' was deprecated in version 1.0 and will be removed in 1.2.\n",
      "If you wish to scale the data, use Pipeline with a StandardScaler in a preprocessing stage. To reproduce the previous behavior:\n",
      "\n",
      "from sklearn.pipeline import make_pipeline\n",
      "\n",
      "model = make_pipeline(StandardScaler(with_mean=False), LinearRegression())\n",
      "\n",
      "If you wish to pass a sample_weight parameter, you need to pass it as a fit parameter to each step of the pipeline as follows:\n",
      "\n",
      "kwargs = {s[0] + '__sample_weight': sample_weight for s in model.steps}\n",
      "model.fit(X, y, **kwargs)\n",
      "\n",
      "\n",
      "  warnings.warn(\n",
      "/Users/vladkondratov/opt/anaconda3/lib/python3.9/site-packages/sklearn/linear_model/_base.py:141: FutureWarning: 'normalize' was deprecated in version 1.0 and will be removed in 1.2.\n",
      "If you wish to scale the data, use Pipeline with a StandardScaler in a preprocessing stage. To reproduce the previous behavior:\n",
      "\n",
      "from sklearn.pipeline import make_pipeline\n",
      "\n",
      "model = make_pipeline(StandardScaler(with_mean=False), LinearRegression())\n",
      "\n",
      "If you wish to pass a sample_weight parameter, you need to pass it as a fit parameter to each step of the pipeline as follows:\n",
      "\n",
      "kwargs = {s[0] + '__sample_weight': sample_weight for s in model.steps}\n",
      "model.fit(X, y, **kwargs)\n",
      "\n",
      "\n",
      "  warnings.warn(\n",
      "/Users/vladkondratov/opt/anaconda3/lib/python3.9/site-packages/sklearn/linear_model/_base.py:141: FutureWarning: 'normalize' was deprecated in version 1.0 and will be removed in 1.2.\n",
      "If you wish to scale the data, use Pipeline with a StandardScaler in a preprocessing stage. To reproduce the previous behavior:\n",
      "\n",
      "from sklearn.pipeline import make_pipeline\n",
      "\n",
      "model = make_pipeline(StandardScaler(with_mean=False), LinearRegression())\n",
      "\n",
      "If you wish to pass a sample_weight parameter, you need to pass it as a fit parameter to each step of the pipeline as follows:\n",
      "\n",
      "kwargs = {s[0] + '__sample_weight': sample_weight for s in model.steps}\n",
      "model.fit(X, y, **kwargs)\n",
      "\n",
      "\n",
      "  warnings.warn(\n",
      "/Users/vladkondratov/opt/anaconda3/lib/python3.9/site-packages/sklearn/linear_model/_base.py:141: FutureWarning: 'normalize' was deprecated in version 1.0 and will be removed in 1.2.\n",
      "If you wish to scale the data, use Pipeline with a StandardScaler in a preprocessing stage. To reproduce the previous behavior:\n",
      "\n",
      "from sklearn.pipeline import make_pipeline\n",
      "\n",
      "model = make_pipeline(StandardScaler(with_mean=False), LinearRegression())\n",
      "\n",
      "If you wish to pass a sample_weight parameter, you need to pass it as a fit parameter to each step of the pipeline as follows:\n",
      "\n",
      "kwargs = {s[0] + '__sample_weight': sample_weight for s in model.steps}\n",
      "model.fit(X, y, **kwargs)\n",
      "\n",
      "\n",
      "  warnings.warn(\n",
      "/Users/vladkondratov/opt/anaconda3/lib/python3.9/site-packages/sklearn/linear_model/_base.py:148: FutureWarning: 'normalize' was deprecated in version 1.0 and will be removed in 1.2. Please leave the normalize parameter to its default value to silence this warning. The default behavior of this estimator is to not do any normalization. If normalization is needed please use sklearn.preprocessing.StandardScaler instead.\n",
      "  warnings.warn(\n",
      "/Users/vladkondratov/opt/anaconda3/lib/python3.9/site-packages/sklearn/linear_model/_base.py:148: FutureWarning: 'normalize' was deprecated in version 1.0 and will be removed in 1.2. Please leave the normalize parameter to its default value to silence this warning. The default behavior of this estimator is to not do any normalization. If normalization is needed please use sklearn.preprocessing.StandardScaler instead.\n",
      "  warnings.warn(\n",
      "/Users/vladkondratov/opt/anaconda3/lib/python3.9/site-packages/sklearn/linear_model/_base.py:148: FutureWarning: 'normalize' was deprecated in version 1.0 and will be removed in 1.2. Please leave the normalize parameter to its default value to silence this warning. The default behavior of this estimator is to not do any normalization. If normalization is needed please use sklearn.preprocessing.StandardScaler instead.\n",
      "  warnings.warn(\n",
      "/Users/vladkondratov/opt/anaconda3/lib/python3.9/site-packages/sklearn/linear_model/_base.py:148: FutureWarning: 'normalize' was deprecated in version 1.0 and will be removed in 1.2. Please leave the normalize parameter to its default value to silence this warning. The default behavior of this estimator is to not do any normalization. If normalization is needed please use sklearn.preprocessing.StandardScaler instead.\n",
      "  warnings.warn(\n",
      "/Users/vladkondratov/opt/anaconda3/lib/python3.9/site-packages/sklearn/linear_model/_base.py:148: FutureWarning: 'normalize' was deprecated in version 1.0 and will be removed in 1.2. Please leave the normalize parameter to its default value to silence this warning. The default behavior of this estimator is to not do any normalization. If normalization is needed please use sklearn.preprocessing.StandardScaler instead.\n",
      "  warnings.warn(\n",
      "/Users/vladkondratov/opt/anaconda3/lib/python3.9/site-packages/sklearn/linear_model/_base.py:141: FutureWarning: 'normalize' was deprecated in version 1.0 and will be removed in 1.2.\n",
      "If you wish to scale the data, use Pipeline with a StandardScaler in a preprocessing stage. To reproduce the previous behavior:\n",
      "\n",
      "from sklearn.pipeline import make_pipeline\n",
      "\n",
      "model = make_pipeline(StandardScaler(with_mean=False), LinearRegression())\n",
      "\n",
      "If you wish to pass a sample_weight parameter, you need to pass it as a fit parameter to each step of the pipeline as follows:\n",
      "\n",
      "kwargs = {s[0] + '__sample_weight': sample_weight for s in model.steps}\n",
      "model.fit(X, y, **kwargs)\n",
      "\n",
      "\n",
      "  warnings.warn(\n",
      "/Users/vladkondratov/opt/anaconda3/lib/python3.9/site-packages/sklearn/linear_model/_base.py:141: FutureWarning: 'normalize' was deprecated in version 1.0 and will be removed in 1.2.\n",
      "If you wish to scale the data, use Pipeline with a StandardScaler in a preprocessing stage. To reproduce the previous behavior:\n",
      "\n",
      "from sklearn.pipeline import make_pipeline\n",
      "\n",
      "model = make_pipeline(StandardScaler(with_mean=False), LinearRegression())\n",
      "\n",
      "If you wish to pass a sample_weight parameter, you need to pass it as a fit parameter to each step of the pipeline as follows:\n",
      "\n",
      "kwargs = {s[0] + '__sample_weight': sample_weight for s in model.steps}\n",
      "model.fit(X, y, **kwargs)\n",
      "\n",
      "\n",
      "  warnings.warn(\n",
      "/Users/vladkondratov/opt/anaconda3/lib/python3.9/site-packages/sklearn/linear_model/_base.py:141: FutureWarning: 'normalize' was deprecated in version 1.0 and will be removed in 1.2.\n",
      "If you wish to scale the data, use Pipeline with a StandardScaler in a preprocessing stage. To reproduce the previous behavior:\n",
      "\n",
      "from sklearn.pipeline import make_pipeline\n",
      "\n",
      "model = make_pipeline(StandardScaler(with_mean=False), LinearRegression())\n",
      "\n",
      "If you wish to pass a sample_weight parameter, you need to pass it as a fit parameter to each step of the pipeline as follows:\n",
      "\n",
      "kwargs = {s[0] + '__sample_weight': sample_weight for s in model.steps}\n",
      "model.fit(X, y, **kwargs)\n",
      "\n",
      "\n",
      "  warnings.warn(\n",
      "/Users/vladkondratov/opt/anaconda3/lib/python3.9/site-packages/sklearn/linear_model/_base.py:141: FutureWarning: 'normalize' was deprecated in version 1.0 and will be removed in 1.2.\n",
      "If you wish to scale the data, use Pipeline with a StandardScaler in a preprocessing stage. To reproduce the previous behavior:\n",
      "\n",
      "from sklearn.pipeline import make_pipeline\n",
      "\n",
      "model = make_pipeline(StandardScaler(with_mean=False), LinearRegression())\n",
      "\n",
      "If you wish to pass a sample_weight parameter, you need to pass it as a fit parameter to each step of the pipeline as follows:\n",
      "\n",
      "kwargs = {s[0] + '__sample_weight': sample_weight for s in model.steps}\n",
      "model.fit(X, y, **kwargs)\n",
      "\n",
      "\n",
      "  warnings.warn(\n",
      "/Users/vladkondratov/opt/anaconda3/lib/python3.9/site-packages/sklearn/linear_model/_base.py:141: FutureWarning: 'normalize' was deprecated in version 1.0 and will be removed in 1.2.\n",
      "If you wish to scale the data, use Pipeline with a StandardScaler in a preprocessing stage. To reproduce the previous behavior:\n",
      "\n",
      "from sklearn.pipeline import make_pipeline\n",
      "\n",
      "model = make_pipeline(StandardScaler(with_mean=False), LinearRegression())\n",
      "\n",
      "If you wish to pass a sample_weight parameter, you need to pass it as a fit parameter to each step of the pipeline as follows:\n",
      "\n",
      "kwargs = {s[0] + '__sample_weight': sample_weight for s in model.steps}\n",
      "model.fit(X, y, **kwargs)\n",
      "\n",
      "\n",
      "  warnings.warn(\n",
      "/Users/vladkondratov/opt/anaconda3/lib/python3.9/site-packages/sklearn/linear_model/_base.py:148: FutureWarning: 'normalize' was deprecated in version 1.0 and will be removed in 1.2. Please leave the normalize parameter to its default value to silence this warning. The default behavior of this estimator is to not do any normalization. If normalization is needed please use sklearn.preprocessing.StandardScaler instead.\n",
      "  warnings.warn(\n",
      "/Users/vladkondratov/opt/anaconda3/lib/python3.9/site-packages/sklearn/linear_model/_base.py:148: FutureWarning: 'normalize' was deprecated in version 1.0 and will be removed in 1.2. Please leave the normalize parameter to its default value to silence this warning. The default behavior of this estimator is to not do any normalization. If normalization is needed please use sklearn.preprocessing.StandardScaler instead.\n",
      "  warnings.warn(\n",
      "/Users/vladkondratov/opt/anaconda3/lib/python3.9/site-packages/sklearn/linear_model/_base.py:148: FutureWarning: 'normalize' was deprecated in version 1.0 and will be removed in 1.2. Please leave the normalize parameter to its default value to silence this warning. The default behavior of this estimator is to not do any normalization. If normalization is needed please use sklearn.preprocessing.StandardScaler instead.\n",
      "  warnings.warn(\n",
      "/Users/vladkondratov/opt/anaconda3/lib/python3.9/site-packages/sklearn/linear_model/_base.py:141: FutureWarning: 'normalize' was deprecated in version 1.0 and will be removed in 1.2.\n",
      "If you wish to scale the data, use Pipeline with a StandardScaler in a preprocessing stage. To reproduce the previous behavior:\n",
      "\n",
      "from sklearn.pipeline import make_pipeline\n",
      "\n",
      "model = make_pipeline(StandardScaler(with_mean=False), LinearRegression())\n",
      "\n",
      "If you wish to pass a sample_weight parameter, you need to pass it as a fit parameter to each step of the pipeline as follows:\n",
      "\n",
      "kwargs = {s[0] + '__sample_weight': sample_weight for s in model.steps}\n",
      "model.fit(X, y, **kwargs)\n",
      "\n",
      "\n",
      "  warnings.warn(\n",
      "/Users/vladkondratov/opt/anaconda3/lib/python3.9/site-packages/sklearn/linear_model/_base.py:141: FutureWarning: 'normalize' was deprecated in version 1.0 and will be removed in 1.2.\n",
      "If you wish to scale the data, use Pipeline with a StandardScaler in a preprocessing stage. To reproduce the previous behavior:\n",
      "\n",
      "from sklearn.pipeline import make_pipeline\n",
      "\n",
      "model = make_pipeline(StandardScaler(with_mean=False), LinearRegression())\n",
      "\n",
      "If you wish to pass a sample_weight parameter, you need to pass it as a fit parameter to each step of the pipeline as follows:\n",
      "\n",
      "kwargs = {s[0] + '__sample_weight': sample_weight for s in model.steps}\n",
      "model.fit(X, y, **kwargs)\n",
      "\n",
      "\n",
      "  warnings.warn(\n",
      "/Users/vladkondratov/opt/anaconda3/lib/python3.9/site-packages/sklearn/linear_model/_base.py:141: FutureWarning: 'normalize' was deprecated in version 1.0 and will be removed in 1.2.\n",
      "If you wish to scale the data, use Pipeline with a StandardScaler in a preprocessing stage. To reproduce the previous behavior:\n",
      "\n",
      "from sklearn.pipeline import make_pipeline\n",
      "\n",
      "model = make_pipeline(StandardScaler(with_mean=False), LinearRegression())\n",
      "\n",
      "If you wish to pass a sample_weight parameter, you need to pass it as a fit parameter to each step of the pipeline as follows:\n",
      "\n",
      "kwargs = {s[0] + '__sample_weight': sample_weight for s in model.steps}\n",
      "model.fit(X, y, **kwargs)\n",
      "\n",
      "\n",
      "  warnings.warn(\n",
      "/Users/vladkondratov/opt/anaconda3/lib/python3.9/site-packages/sklearn/linear_model/_base.py:148: FutureWarning: 'normalize' was deprecated in version 1.0 and will be removed in 1.2. Please leave the normalize parameter to its default value to silence this warning. The default behavior of this estimator is to not do any normalization. If normalization is needed please use sklearn.preprocessing.StandardScaler instead.\n",
      "  warnings.warn(\n",
      "/Users/vladkondratov/opt/anaconda3/lib/python3.9/site-packages/sklearn/linear_model/_base.py:141: FutureWarning: 'normalize' was deprecated in version 1.0 and will be removed in 1.2.\n",
      "If you wish to scale the data, use Pipeline with a StandardScaler in a preprocessing stage. To reproduce the previous behavior:\n",
      "\n",
      "from sklearn.pipeline import make_pipeline\n",
      "\n",
      "model = make_pipeline(StandardScaler(with_mean=False), LinearRegression())\n",
      "\n",
      "If you wish to pass a sample_weight parameter, you need to pass it as a fit parameter to each step of the pipeline as follows:\n",
      "\n",
      "kwargs = {s[0] + '__sample_weight': sample_weight for s in model.steps}\n",
      "model.fit(X, y, **kwargs)\n",
      "\n",
      "\n",
      "  warnings.warn(\n",
      "/Users/vladkondratov/opt/anaconda3/lib/python3.9/site-packages/sklearn/linear_model/_base.py:141: FutureWarning: 'normalize' was deprecated in version 1.0 and will be removed in 1.2.\n",
      "If you wish to scale the data, use Pipeline with a StandardScaler in a preprocessing stage. To reproduce the previous behavior:\n",
      "\n",
      "from sklearn.pipeline import make_pipeline\n",
      "\n",
      "model = make_pipeline(StandardScaler(with_mean=False), LinearRegression())\n",
      "\n",
      "If you wish to pass a sample_weight parameter, you need to pass it as a fit parameter to each step of the pipeline as follows:\n",
      "\n",
      "kwargs = {s[0] + '__sample_weight': sample_weight for s in model.steps}\n",
      "model.fit(X, y, **kwargs)\n",
      "\n",
      "\n",
      "  warnings.warn(\n",
      "/Users/vladkondratov/opt/anaconda3/lib/python3.9/site-packages/sklearn/linear_model/_base.py:148: FutureWarning: 'normalize' was deprecated in version 1.0 and will be removed in 1.2. Please leave the normalize parameter to its default value to silence this warning. The default behavior of this estimator is to not do any normalization. If normalization is needed please use sklearn.preprocessing.StandardScaler instead.\n",
      "  warnings.warn(\n",
      "/Users/vladkondratov/opt/anaconda3/lib/python3.9/site-packages/sklearn/linear_model/_base.py:148: FutureWarning: 'normalize' was deprecated in version 1.0 and will be removed in 1.2. Please leave the normalize parameter to its default value to silence this warning. The default behavior of this estimator is to not do any normalization. If normalization is needed please use sklearn.preprocessing.StandardScaler instead.\n",
      "  warnings.warn(\n",
      "/Users/vladkondratov/opt/anaconda3/lib/python3.9/site-packages/sklearn/linear_model/_base.py:148: FutureWarning: 'normalize' was deprecated in version 1.0 and will be removed in 1.2. Please leave the normalize parameter to its default value to silence this warning. The default behavior of this estimator is to not do any normalization. If normalization is needed please use sklearn.preprocessing.StandardScaler instead.\n",
      "  warnings.warn(\n",
      "/Users/vladkondratov/opt/anaconda3/lib/python3.9/site-packages/sklearn/linear_model/_base.py:148: FutureWarning: 'normalize' was deprecated in version 1.0 and will be removed in 1.2. Please leave the normalize parameter to its default value to silence this warning. The default behavior of this estimator is to not do any normalization. If normalization is needed please use sklearn.preprocessing.StandardScaler instead.\n",
      "  warnings.warn(\n",
      "/Users/vladkondratov/opt/anaconda3/lib/python3.9/site-packages/sklearn/linear_model/_base.py:141: FutureWarning: 'normalize' was deprecated in version 1.0 and will be removed in 1.2.\n",
      "If you wish to scale the data, use Pipeline with a StandardScaler in a preprocessing stage. To reproduce the previous behavior:\n",
      "\n",
      "from sklearn.pipeline import make_pipeline\n",
      "\n",
      "model = make_pipeline(StandardScaler(with_mean=False), LinearRegression())\n",
      "\n",
      "If you wish to pass a sample_weight parameter, you need to pass it as a fit parameter to each step of the pipeline as follows:\n",
      "\n",
      "kwargs = {s[0] + '__sample_weight': sample_weight for s in model.steps}\n",
      "model.fit(X, y, **kwargs)\n",
      "\n",
      "\n",
      "  warnings.warn(\n"
     ]
    },
    {
     "name": "stderr",
     "output_type": "stream",
     "text": [
      "/Users/vladkondratov/opt/anaconda3/lib/python3.9/site-packages/sklearn/linear_model/_base.py:141: FutureWarning: 'normalize' was deprecated in version 1.0 and will be removed in 1.2.\n",
      "If you wish to scale the data, use Pipeline with a StandardScaler in a preprocessing stage. To reproduce the previous behavior:\n",
      "\n",
      "from sklearn.pipeline import make_pipeline\n",
      "\n",
      "model = make_pipeline(StandardScaler(with_mean=False), LinearRegression())\n",
      "\n",
      "If you wish to pass a sample_weight parameter, you need to pass it as a fit parameter to each step of the pipeline as follows:\n",
      "\n",
      "kwargs = {s[0] + '__sample_weight': sample_weight for s in model.steps}\n",
      "model.fit(X, y, **kwargs)\n",
      "\n",
      "\n",
      "  warnings.warn(\n",
      "/Users/vladkondratov/opt/anaconda3/lib/python3.9/site-packages/sklearn/linear_model/_base.py:148: FutureWarning: 'normalize' was deprecated in version 1.0 and will be removed in 1.2. Please leave the normalize parameter to its default value to silence this warning. The default behavior of this estimator is to not do any normalization. If normalization is needed please use sklearn.preprocessing.StandardScaler instead.\n",
      "  warnings.warn(\n",
      "/Users/vladkondratov/opt/anaconda3/lib/python3.9/site-packages/sklearn/linear_model/_base.py:141: FutureWarning: 'normalize' was deprecated in version 1.0 and will be removed in 1.2.\n",
      "If you wish to scale the data, use Pipeline with a StandardScaler in a preprocessing stage. To reproduce the previous behavior:\n",
      "\n",
      "from sklearn.pipeline import make_pipeline\n",
      "\n",
      "model = make_pipeline(StandardScaler(with_mean=False), LinearRegression())\n",
      "\n",
      "If you wish to pass a sample_weight parameter, you need to pass it as a fit parameter to each step of the pipeline as follows:\n",
      "\n",
      "kwargs = {s[0] + '__sample_weight': sample_weight for s in model.steps}\n",
      "model.fit(X, y, **kwargs)\n",
      "\n",
      "\n",
      "  warnings.warn(\n",
      "/Users/vladkondratov/opt/anaconda3/lib/python3.9/site-packages/sklearn/linear_model/_base.py:141: FutureWarning: 'normalize' was deprecated in version 1.0 and will be removed in 1.2.\n",
      "If you wish to scale the data, use Pipeline with a StandardScaler in a preprocessing stage. To reproduce the previous behavior:\n",
      "\n",
      "from sklearn.pipeline import make_pipeline\n",
      "\n",
      "model = make_pipeline(StandardScaler(with_mean=False), LinearRegression())\n",
      "\n",
      "If you wish to pass a sample_weight parameter, you need to pass it as a fit parameter to each step of the pipeline as follows:\n",
      "\n",
      "kwargs = {s[0] + '__sample_weight': sample_weight for s in model.steps}\n",
      "model.fit(X, y, **kwargs)\n",
      "\n",
      "\n",
      "  warnings.warn(\n",
      "/Users/vladkondratov/opt/anaconda3/lib/python3.9/site-packages/sklearn/linear_model/_base.py:141: FutureWarning: 'normalize' was deprecated in version 1.0 and will be removed in 1.2.\n",
      "If you wish to scale the data, use Pipeline with a StandardScaler in a preprocessing stage. To reproduce the previous behavior:\n",
      "\n",
      "from sklearn.pipeline import make_pipeline\n",
      "\n",
      "model = make_pipeline(StandardScaler(with_mean=False), LinearRegression())\n",
      "\n",
      "If you wish to pass a sample_weight parameter, you need to pass it as a fit parameter to each step of the pipeline as follows:\n",
      "\n",
      "kwargs = {s[0] + '__sample_weight': sample_weight for s in model.steps}\n",
      "model.fit(X, y, **kwargs)\n",
      "\n",
      "\n",
      "  warnings.warn(\n",
      "/Users/vladkondratov/opt/anaconda3/lib/python3.9/site-packages/sklearn/linear_model/_base.py:148: FutureWarning: 'normalize' was deprecated in version 1.0 and will be removed in 1.2. Please leave the normalize parameter to its default value to silence this warning. The default behavior of this estimator is to not do any normalization. If normalization is needed please use sklearn.preprocessing.StandardScaler instead.\n",
      "  warnings.warn(\n",
      "/Users/vladkondratov/opt/anaconda3/lib/python3.9/site-packages/sklearn/linear_model/_base.py:148: FutureWarning: 'normalize' was deprecated in version 1.0 and will be removed in 1.2. Please leave the normalize parameter to its default value to silence this warning. The default behavior of this estimator is to not do any normalization. If normalization is needed please use sklearn.preprocessing.StandardScaler instead.\n",
      "  warnings.warn(\n",
      "/Users/vladkondratov/opt/anaconda3/lib/python3.9/site-packages/sklearn/linear_model/_base.py:148: FutureWarning: 'normalize' was deprecated in version 1.0 and will be removed in 1.2. Please leave the normalize parameter to its default value to silence this warning. The default behavior of this estimator is to not do any normalization. If normalization is needed please use sklearn.preprocessing.StandardScaler instead.\n",
      "  warnings.warn(\n",
      "/Users/vladkondratov/opt/anaconda3/lib/python3.9/site-packages/sklearn/linear_model/_base.py:148: FutureWarning: 'normalize' was deprecated in version 1.0 and will be removed in 1.2. Please leave the normalize parameter to its default value to silence this warning. The default behavior of this estimator is to not do any normalization. If normalization is needed please use sklearn.preprocessing.StandardScaler instead.\n",
      "  warnings.warn(\n",
      "/Users/vladkondratov/opt/anaconda3/lib/python3.9/site-packages/sklearn/linear_model/_base.py:148: FutureWarning: 'normalize' was deprecated in version 1.0 and will be removed in 1.2. Please leave the normalize parameter to its default value to silence this warning. The default behavior of this estimator is to not do any normalization. If normalization is needed please use sklearn.preprocessing.StandardScaler instead.\n",
      "  warnings.warn(\n",
      "/Users/vladkondratov/opt/anaconda3/lib/python3.9/site-packages/sklearn/linear_model/_base.py:148: FutureWarning: 'normalize' was deprecated in version 1.0 and will be removed in 1.2. Please leave the normalize parameter to its default value to silence this warning. The default behavior of this estimator is to not do any normalization. If normalization is needed please use sklearn.preprocessing.StandardScaler instead.\n",
      "  warnings.warn(\n",
      "/Users/vladkondratov/opt/anaconda3/lib/python3.9/site-packages/sklearn/linear_model/_base.py:141: FutureWarning: 'normalize' was deprecated in version 1.0 and will be removed in 1.2.\n",
      "If you wish to scale the data, use Pipeline with a StandardScaler in a preprocessing stage. To reproduce the previous behavior:\n",
      "\n",
      "from sklearn.pipeline import make_pipeline\n",
      "\n",
      "model = make_pipeline(StandardScaler(with_mean=False), LinearRegression())\n",
      "\n",
      "If you wish to pass a sample_weight parameter, you need to pass it as a fit parameter to each step of the pipeline as follows:\n",
      "\n",
      "kwargs = {s[0] + '__sample_weight': sample_weight for s in model.steps}\n",
      "model.fit(X, y, **kwargs)\n",
      "\n",
      "\n",
      "  warnings.warn(\n",
      "/Users/vladkondratov/opt/anaconda3/lib/python3.9/site-packages/sklearn/linear_model/_base.py:141: FutureWarning: 'normalize' was deprecated in version 1.0 and will be removed in 1.2.\n",
      "If you wish to scale the data, use Pipeline with a StandardScaler in a preprocessing stage. To reproduce the previous behavior:\n",
      "\n",
      "from sklearn.pipeline import make_pipeline\n",
      "\n",
      "model = make_pipeline(StandardScaler(with_mean=False), LinearRegression())\n",
      "\n",
      "If you wish to pass a sample_weight parameter, you need to pass it as a fit parameter to each step of the pipeline as follows:\n",
      "\n",
      "kwargs = {s[0] + '__sample_weight': sample_weight for s in model.steps}\n",
      "model.fit(X, y, **kwargs)\n",
      "\n",
      "\n",
      "  warnings.warn(\n",
      "/Users/vladkondratov/opt/anaconda3/lib/python3.9/site-packages/sklearn/linear_model/_base.py:141: FutureWarning: 'normalize' was deprecated in version 1.0 and will be removed in 1.2.\n",
      "If you wish to scale the data, use Pipeline with a StandardScaler in a preprocessing stage. To reproduce the previous behavior:\n",
      "\n",
      "from sklearn.pipeline import make_pipeline\n",
      "\n",
      "model = make_pipeline(StandardScaler(with_mean=False), LinearRegression())\n",
      "\n",
      "If you wish to pass a sample_weight parameter, you need to pass it as a fit parameter to each step of the pipeline as follows:\n",
      "\n",
      "kwargs = {s[0] + '__sample_weight': sample_weight for s in model.steps}\n",
      "model.fit(X, y, **kwargs)\n",
      "\n",
      "\n",
      "  warnings.warn(\n",
      "/Users/vladkondratov/opt/anaconda3/lib/python3.9/site-packages/sklearn/linear_model/_base.py:141: FutureWarning: 'normalize' was deprecated in version 1.0 and will be removed in 1.2.\n",
      "If you wish to scale the data, use Pipeline with a StandardScaler in a preprocessing stage. To reproduce the previous behavior:\n",
      "\n",
      "from sklearn.pipeline import make_pipeline\n",
      "\n",
      "model = make_pipeline(StandardScaler(with_mean=False), LinearRegression())\n",
      "\n",
      "If you wish to pass a sample_weight parameter, you need to pass it as a fit parameter to each step of the pipeline as follows:\n",
      "\n",
      "kwargs = {s[0] + '__sample_weight': sample_weight for s in model.steps}\n",
      "model.fit(X, y, **kwargs)\n",
      "\n",
      "\n",
      "  warnings.warn(\n",
      "/Users/vladkondratov/opt/anaconda3/lib/python3.9/site-packages/sklearn/linear_model/_base.py:141: FutureWarning: 'normalize' was deprecated in version 1.0 and will be removed in 1.2.\n",
      "If you wish to scale the data, use Pipeline with a StandardScaler in a preprocessing stage. To reproduce the previous behavior:\n",
      "\n",
      "from sklearn.pipeline import make_pipeline\n",
      "\n",
      "model = make_pipeline(StandardScaler(with_mean=False), LinearRegression())\n",
      "\n",
      "If you wish to pass a sample_weight parameter, you need to pass it as a fit parameter to each step of the pipeline as follows:\n",
      "\n",
      "kwargs = {s[0] + '__sample_weight': sample_weight for s in model.steps}\n",
      "model.fit(X, y, **kwargs)\n",
      "\n",
      "\n",
      "  warnings.warn(\n",
      "/Users/vladkondratov/opt/anaconda3/lib/python3.9/site-packages/sklearn/linear_model/_base.py:141: FutureWarning: 'normalize' was deprecated in version 1.0 and will be removed in 1.2.\n",
      "If you wish to scale the data, use Pipeline with a StandardScaler in a preprocessing stage. To reproduce the previous behavior:\n",
      "\n",
      "from sklearn.pipeline import make_pipeline\n",
      "\n",
      "model = make_pipeline(StandardScaler(with_mean=False), LinearRegression())\n",
      "\n",
      "If you wish to pass a sample_weight parameter, you need to pass it as a fit parameter to each step of the pipeline as follows:\n",
      "\n",
      "kwargs = {s[0] + '__sample_weight': sample_weight for s in model.steps}\n",
      "model.fit(X, y, **kwargs)\n",
      "\n",
      "\n",
      "  warnings.warn(\n",
      "/Users/vladkondratov/opt/anaconda3/lib/python3.9/site-packages/sklearn/linear_model/_base.py:148: FutureWarning: 'normalize' was deprecated in version 1.0 and will be removed in 1.2. Please leave the normalize parameter to its default value to silence this warning. The default behavior of this estimator is to not do any normalization. If normalization is needed please use sklearn.preprocessing.StandardScaler instead.\n",
      "  warnings.warn(\n",
      "/Users/vladkondratov/opt/anaconda3/lib/python3.9/site-packages/sklearn/linear_model/_base.py:148: FutureWarning: 'normalize' was deprecated in version 1.0 and will be removed in 1.2. Please leave the normalize parameter to its default value to silence this warning. The default behavior of this estimator is to not do any normalization. If normalization is needed please use sklearn.preprocessing.StandardScaler instead.\n",
      "  warnings.warn(\n",
      "/Users/vladkondratov/opt/anaconda3/lib/python3.9/site-packages/sklearn/linear_model/_base.py:148: FutureWarning: 'normalize' was deprecated in version 1.0 and will be removed in 1.2. Please leave the normalize parameter to its default value to silence this warning. The default behavior of this estimator is to not do any normalization. If normalization is needed please use sklearn.preprocessing.StandardScaler instead.\n",
      "  warnings.warn(\n",
      "/Users/vladkondratov/opt/anaconda3/lib/python3.9/site-packages/sklearn/linear_model/_base.py:148: FutureWarning: 'normalize' was deprecated in version 1.0 and will be removed in 1.2. Please leave the normalize parameter to its default value to silence this warning. The default behavior of this estimator is to not do any normalization. If normalization is needed please use sklearn.preprocessing.StandardScaler instead.\n",
      "  warnings.warn(\n",
      "/Users/vladkondratov/opt/anaconda3/lib/python3.9/site-packages/sklearn/linear_model/_base.py:148: FutureWarning: 'normalize' was deprecated in version 1.0 and will be removed in 1.2. Please leave the normalize parameter to its default value to silence this warning. The default behavior of this estimator is to not do any normalization. If normalization is needed please use sklearn.preprocessing.StandardScaler instead.\n",
      "  warnings.warn(\n",
      "/Users/vladkondratov/opt/anaconda3/lib/python3.9/site-packages/sklearn/linear_model/_base.py:141: FutureWarning: 'normalize' was deprecated in version 1.0 and will be removed in 1.2.\n",
      "If you wish to scale the data, use Pipeline with a StandardScaler in a preprocessing stage. To reproduce the previous behavior:\n",
      "\n",
      "from sklearn.pipeline import make_pipeline\n",
      "\n",
      "model = make_pipeline(StandardScaler(with_mean=False), LinearRegression())\n",
      "\n",
      "If you wish to pass a sample_weight parameter, you need to pass it as a fit parameter to each step of the pipeline as follows:\n",
      "\n",
      "kwargs = {s[0] + '__sample_weight': sample_weight for s in model.steps}\n",
      "model.fit(X, y, **kwargs)\n",
      "\n",
      "\n",
      "  warnings.warn(\n",
      "/Users/vladkondratov/opt/anaconda3/lib/python3.9/site-packages/sklearn/linear_model/_base.py:141: FutureWarning: 'normalize' was deprecated in version 1.0 and will be removed in 1.2.\n",
      "If you wish to scale the data, use Pipeline with a StandardScaler in a preprocessing stage. To reproduce the previous behavior:\n",
      "\n",
      "from sklearn.pipeline import make_pipeline\n",
      "\n",
      "model = make_pipeline(StandardScaler(with_mean=False), LinearRegression())\n",
      "\n",
      "If you wish to pass a sample_weight parameter, you need to pass it as a fit parameter to each step of the pipeline as follows:\n",
      "\n",
      "kwargs = {s[0] + '__sample_weight': sample_weight for s in model.steps}\n",
      "model.fit(X, y, **kwargs)\n",
      "\n",
      "\n",
      "  warnings.warn(\n",
      "/Users/vladkondratov/opt/anaconda3/lib/python3.9/site-packages/sklearn/linear_model/_base.py:141: FutureWarning: 'normalize' was deprecated in version 1.0 and will be removed in 1.2.\n",
      "If you wish to scale the data, use Pipeline with a StandardScaler in a preprocessing stage. To reproduce the previous behavior:\n",
      "\n",
      "from sklearn.pipeline import make_pipeline\n",
      "\n",
      "model = make_pipeline(StandardScaler(with_mean=False), LinearRegression())\n",
      "\n",
      "If you wish to pass a sample_weight parameter, you need to pass it as a fit parameter to each step of the pipeline as follows:\n",
      "\n",
      "kwargs = {s[0] + '__sample_weight': sample_weight for s in model.steps}\n",
      "model.fit(X, y, **kwargs)\n",
      "\n",
      "\n",
      "  warnings.warn(\n",
      "/Users/vladkondratov/opt/anaconda3/lib/python3.9/site-packages/sklearn/linear_model/_base.py:141: FutureWarning: 'normalize' was deprecated in version 1.0 and will be removed in 1.2.\n",
      "If you wish to scale the data, use Pipeline with a StandardScaler in a preprocessing stage. To reproduce the previous behavior:\n",
      "\n",
      "from sklearn.pipeline import make_pipeline\n",
      "\n",
      "model = make_pipeline(StandardScaler(with_mean=False), LinearRegression())\n",
      "\n",
      "If you wish to pass a sample_weight parameter, you need to pass it as a fit parameter to each step of the pipeline as follows:\n",
      "\n",
      "kwargs = {s[0] + '__sample_weight': sample_weight for s in model.steps}\n",
      "model.fit(X, y, **kwargs)\n",
      "\n",
      "\n",
      "  warnings.warn(\n",
      "/Users/vladkondratov/opt/anaconda3/lib/python3.9/site-packages/sklearn/linear_model/_base.py:141: FutureWarning: 'normalize' was deprecated in version 1.0 and will be removed in 1.2.\n",
      "If you wish to scale the data, use Pipeline with a StandardScaler in a preprocessing stage. To reproduce the previous behavior:\n",
      "\n",
      "from sklearn.pipeline import make_pipeline\n",
      "\n",
      "model = make_pipeline(StandardScaler(with_mean=False), LinearRegression())\n",
      "\n",
      "If you wish to pass a sample_weight parameter, you need to pass it as a fit parameter to each step of the pipeline as follows:\n",
      "\n",
      "kwargs = {s[0] + '__sample_weight': sample_weight for s in model.steps}\n",
      "model.fit(X, y, **kwargs)\n",
      "\n",
      "\n",
      "  warnings.warn(\n",
      "/Users/vladkondratov/opt/anaconda3/lib/python3.9/site-packages/sklearn/linear_model/_base.py:148: FutureWarning: 'normalize' was deprecated in version 1.0 and will be removed in 1.2. Please leave the normalize parameter to its default value to silence this warning. The default behavior of this estimator is to not do any normalization. If normalization is needed please use sklearn.preprocessing.StandardScaler instead.\n",
      "  warnings.warn(\n",
      "/Users/vladkondratov/opt/anaconda3/lib/python3.9/site-packages/sklearn/linear_model/_base.py:148: FutureWarning: 'normalize' was deprecated in version 1.0 and will be removed in 1.2. Please leave the normalize parameter to its default value to silence this warning. The default behavior of this estimator is to not do any normalization. If normalization is needed please use sklearn.preprocessing.StandardScaler instead.\n",
      "  warnings.warn(\n",
      "/Users/vladkondratov/opt/anaconda3/lib/python3.9/site-packages/sklearn/linear_model/_base.py:148: FutureWarning: 'normalize' was deprecated in version 1.0 and will be removed in 1.2. Please leave the normalize parameter to its default value to silence this warning. The default behavior of this estimator is to not do any normalization. If normalization is needed please use sklearn.preprocessing.StandardScaler instead.\n",
      "  warnings.warn(\n",
      "/Users/vladkondratov/opt/anaconda3/lib/python3.9/site-packages/sklearn/linear_model/_base.py:141: FutureWarning: 'normalize' was deprecated in version 1.0 and will be removed in 1.2.\n",
      "If you wish to scale the data, use Pipeline with a StandardScaler in a preprocessing stage. To reproduce the previous behavior:\n",
      "\n",
      "from sklearn.pipeline import make_pipeline\n",
      "\n",
      "model = make_pipeline(StandardScaler(with_mean=False), LinearRegression())\n",
      "\n",
      "If you wish to pass a sample_weight parameter, you need to pass it as a fit parameter to each step of the pipeline as follows:\n",
      "\n",
      "kwargs = {s[0] + '__sample_weight': sample_weight for s in model.steps}\n",
      "model.fit(X, y, **kwargs)\n",
      "\n",
      "\n",
      "  warnings.warn(\n",
      "/Users/vladkondratov/opt/anaconda3/lib/python3.9/site-packages/sklearn/linear_model/_base.py:148: FutureWarning: 'normalize' was deprecated in version 1.0 and will be removed in 1.2. Please leave the normalize parameter to its default value to silence this warning. The default behavior of this estimator is to not do any normalization. If normalization is needed please use sklearn.preprocessing.StandardScaler instead.\n",
      "  warnings.warn(\n",
      "/Users/vladkondratov/opt/anaconda3/lib/python3.9/site-packages/sklearn/linear_model/_base.py:141: FutureWarning: 'normalize' was deprecated in version 1.0 and will be removed in 1.2.\n",
      "If you wish to scale the data, use Pipeline with a StandardScaler in a preprocessing stage. To reproduce the previous behavior:\n",
      "\n",
      "from sklearn.pipeline import make_pipeline\n",
      "\n",
      "model = make_pipeline(StandardScaler(with_mean=False), LinearRegression())\n",
      "\n",
      "If you wish to pass a sample_weight parameter, you need to pass it as a fit parameter to each step of the pipeline as follows:\n",
      "\n",
      "kwargs = {s[0] + '__sample_weight': sample_weight for s in model.steps}\n",
      "model.fit(X, y, **kwargs)\n",
      "\n",
      "\n",
      "  warnings.warn(\n",
      "/Users/vladkondratov/opt/anaconda3/lib/python3.9/site-packages/sklearn/linear_model/_base.py:141: FutureWarning: 'normalize' was deprecated in version 1.0 and will be removed in 1.2.\n",
      "If you wish to scale the data, use Pipeline with a StandardScaler in a preprocessing stage. To reproduce the previous behavior:\n",
      "\n",
      "from sklearn.pipeline import make_pipeline\n",
      "\n",
      "model = make_pipeline(StandardScaler(with_mean=False), LinearRegression())\n",
      "\n",
      "If you wish to pass a sample_weight parameter, you need to pass it as a fit parameter to each step of the pipeline as follows:\n",
      "\n",
      "kwargs = {s[0] + '__sample_weight': sample_weight for s in model.steps}\n",
      "model.fit(X, y, **kwargs)\n",
      "\n",
      "\n",
      "  warnings.warn(\n",
      "/Users/vladkondratov/opt/anaconda3/lib/python3.9/site-packages/sklearn/linear_model/_base.py:148: FutureWarning: 'normalize' was deprecated in version 1.0 and will be removed in 1.2. Please leave the normalize parameter to its default value to silence this warning. The default behavior of this estimator is to not do any normalization. If normalization is needed please use sklearn.preprocessing.StandardScaler instead.\n",
      "  warnings.warn(\n",
      "/Users/vladkondratov/opt/anaconda3/lib/python3.9/site-packages/sklearn/linear_model/_base.py:141: FutureWarning: 'normalize' was deprecated in version 1.0 and will be removed in 1.2.\n",
      "If you wish to scale the data, use Pipeline with a StandardScaler in a preprocessing stage. To reproduce the previous behavior:\n",
      "\n",
      "from sklearn.pipeline import make_pipeline\n",
      "\n",
      "model = make_pipeline(StandardScaler(with_mean=False), LinearRegression())\n",
      "\n",
      "If you wish to pass a sample_weight parameter, you need to pass it as a fit parameter to each step of the pipeline as follows:\n",
      "\n",
      "kwargs = {s[0] + '__sample_weight': sample_weight for s in model.steps}\n",
      "model.fit(X, y, **kwargs)\n",
      "\n",
      "\n",
      "  warnings.warn(\n",
      "/Users/vladkondratov/opt/anaconda3/lib/python3.9/site-packages/sklearn/linear_model/_base.py:141: FutureWarning: 'normalize' was deprecated in version 1.0 and will be removed in 1.2.\n",
      "If you wish to scale the data, use Pipeline with a StandardScaler in a preprocessing stage. To reproduce the previous behavior:\n",
      "\n",
      "from sklearn.pipeline import make_pipeline\n",
      "\n",
      "model = make_pipeline(StandardScaler(with_mean=False), LinearRegression())\n",
      "\n",
      "If you wish to pass a sample_weight parameter, you need to pass it as a fit parameter to each step of the pipeline as follows:\n",
      "\n",
      "kwargs = {s[0] + '__sample_weight': sample_weight for s in model.steps}\n",
      "model.fit(X, y, **kwargs)\n",
      "\n",
      "\n",
      "  warnings.warn(\n",
      "/Users/vladkondratov/opt/anaconda3/lib/python3.9/site-packages/sklearn/linear_model/_base.py:148: FutureWarning: 'normalize' was deprecated in version 1.0 and will be removed in 1.2. Please leave the normalize parameter to its default value to silence this warning. The default behavior of this estimator is to not do any normalization. If normalization is needed please use sklearn.preprocessing.StandardScaler instead.\n",
      "  warnings.warn(\n",
      "/Users/vladkondratov/opt/anaconda3/lib/python3.9/site-packages/sklearn/linear_model/_base.py:148: FutureWarning: 'normalize' was deprecated in version 1.0 and will be removed in 1.2. Please leave the normalize parameter to its default value to silence this warning. The default behavior of this estimator is to not do any normalization. If normalization is needed please use sklearn.preprocessing.StandardScaler instead.\n",
      "  warnings.warn(\n",
      "/Users/vladkondratov/opt/anaconda3/lib/python3.9/site-packages/sklearn/linear_model/_base.py:141: FutureWarning: 'normalize' was deprecated in version 1.0 and will be removed in 1.2.\n",
      "If you wish to scale the data, use Pipeline with a StandardScaler in a preprocessing stage. To reproduce the previous behavior:\n",
      "\n",
      "from sklearn.pipeline import make_pipeline\n",
      "\n",
      "model = make_pipeline(StandardScaler(with_mean=False), LinearRegression())\n",
      "\n",
      "If you wish to pass a sample_weight parameter, you need to pass it as a fit parameter to each step of the pipeline as follows:\n",
      "\n",
      "kwargs = {s[0] + '__sample_weight': sample_weight for s in model.steps}\n",
      "model.fit(X, y, **kwargs)\n",
      "\n",
      "\n",
      "  warnings.warn(\n",
      "/Users/vladkondratov/opt/anaconda3/lib/python3.9/site-packages/sklearn/linear_model/_base.py:141: FutureWarning: 'normalize' was deprecated in version 1.0 and will be removed in 1.2.\n",
      "If you wish to scale the data, use Pipeline with a StandardScaler in a preprocessing stage. To reproduce the previous behavior:\n",
      "\n",
      "from sklearn.pipeline import make_pipeline\n",
      "\n",
      "model = make_pipeline(StandardScaler(with_mean=False), LinearRegression())\n",
      "\n",
      "If you wish to pass a sample_weight parameter, you need to pass it as a fit parameter to each step of the pipeline as follows:\n",
      "\n",
      "kwargs = {s[0] + '__sample_weight': sample_weight for s in model.steps}\n",
      "model.fit(X, y, **kwargs)\n",
      "\n",
      "\n",
      "  warnings.warn(\n",
      "/Users/vladkondratov/opt/anaconda3/lib/python3.9/site-packages/sklearn/linear_model/_base.py:141: FutureWarning: 'normalize' was deprecated in version 1.0 and will be removed in 1.2.\n",
      "If you wish to scale the data, use Pipeline with a StandardScaler in a preprocessing stage. To reproduce the previous behavior:\n",
      "\n",
      "from sklearn.pipeline import make_pipeline\n",
      "\n",
      "model = make_pipeline(StandardScaler(with_mean=False), LinearRegression())\n",
      "\n",
      "If you wish to pass a sample_weight parameter, you need to pass it as a fit parameter to each step of the pipeline as follows:\n",
      "\n",
      "kwargs = {s[0] + '__sample_weight': sample_weight for s in model.steps}\n",
      "model.fit(X, y, **kwargs)\n",
      "\n",
      "\n",
      "  warnings.warn(\n"
     ]
    },
    {
     "name": "stderr",
     "output_type": "stream",
     "text": [
      "/Users/vladkondratov/opt/anaconda3/lib/python3.9/site-packages/sklearn/linear_model/_base.py:141: FutureWarning: 'normalize' was deprecated in version 1.0 and will be removed in 1.2.\n",
      "If you wish to scale the data, use Pipeline with a StandardScaler in a preprocessing stage. To reproduce the previous behavior:\n",
      "\n",
      "from sklearn.pipeline import make_pipeline\n",
      "\n",
      "model = make_pipeline(StandardScaler(with_mean=False), LinearRegression())\n",
      "\n",
      "If you wish to pass a sample_weight parameter, you need to pass it as a fit parameter to each step of the pipeline as follows:\n",
      "\n",
      "kwargs = {s[0] + '__sample_weight': sample_weight for s in model.steps}\n",
      "model.fit(X, y, **kwargs)\n",
      "\n",
      "\n",
      "  warnings.warn(\n",
      "/Users/vladkondratov/opt/anaconda3/lib/python3.9/site-packages/sklearn/linear_model/_base.py:141: FutureWarning: 'normalize' was deprecated in version 1.0 and will be removed in 1.2.\n",
      "If you wish to scale the data, use Pipeline with a StandardScaler in a preprocessing stage. To reproduce the previous behavior:\n",
      "\n",
      "from sklearn.pipeline import make_pipeline\n",
      "\n",
      "model = make_pipeline(StandardScaler(with_mean=False), LinearRegression())\n",
      "\n",
      "If you wish to pass a sample_weight parameter, you need to pass it as a fit parameter to each step of the pipeline as follows:\n",
      "\n",
      "kwargs = {s[0] + '__sample_weight': sample_weight for s in model.steps}\n",
      "model.fit(X, y, **kwargs)\n",
      "\n",
      "\n",
      "  warnings.warn(\n",
      "/Users/vladkondratov/opt/anaconda3/lib/python3.9/site-packages/sklearn/linear_model/_base.py:148: FutureWarning: 'normalize' was deprecated in version 1.0 and will be removed in 1.2. Please leave the normalize parameter to its default value to silence this warning. The default behavior of this estimator is to not do any normalization. If normalization is needed please use sklearn.preprocessing.StandardScaler instead.\n",
      "  warnings.warn(\n",
      "/Users/vladkondratov/opt/anaconda3/lib/python3.9/site-packages/sklearn/linear_model/_base.py:148: FutureWarning: 'normalize' was deprecated in version 1.0 and will be removed in 1.2. Please leave the normalize parameter to its default value to silence this warning. The default behavior of this estimator is to not do any normalization. If normalization is needed please use sklearn.preprocessing.StandardScaler instead.\n",
      "  warnings.warn(\n",
      "/Users/vladkondratov/opt/anaconda3/lib/python3.9/site-packages/sklearn/linear_model/_base.py:148: FutureWarning: 'normalize' was deprecated in version 1.0 and will be removed in 1.2. Please leave the normalize parameter to its default value to silence this warning. The default behavior of this estimator is to not do any normalization. If normalization is needed please use sklearn.preprocessing.StandardScaler instead.\n",
      "  warnings.warn(\n",
      "/Users/vladkondratov/opt/anaconda3/lib/python3.9/site-packages/sklearn/linear_model/_base.py:148: FutureWarning: 'normalize' was deprecated in version 1.0 and will be removed in 1.2. Please leave the normalize parameter to its default value to silence this warning. The default behavior of this estimator is to not do any normalization. If normalization is needed please use sklearn.preprocessing.StandardScaler instead.\n",
      "  warnings.warn(\n",
      "/Users/vladkondratov/opt/anaconda3/lib/python3.9/site-packages/sklearn/linear_model/_base.py:148: FutureWarning: 'normalize' was deprecated in version 1.0 and will be removed in 1.2. Please leave the normalize parameter to its default value to silence this warning. The default behavior of this estimator is to not do any normalization. If normalization is needed please use sklearn.preprocessing.StandardScaler instead.\n",
      "  warnings.warn(\n",
      "/Users/vladkondratov/opt/anaconda3/lib/python3.9/site-packages/sklearn/linear_model/_base.py:148: FutureWarning: 'normalize' was deprecated in version 1.0 and will be removed in 1.2. Please leave the normalize parameter to its default value to silence this warning. The default behavior of this estimator is to not do any normalization. If normalization is needed please use sklearn.preprocessing.StandardScaler instead.\n",
      "  warnings.warn(\n",
      "/Users/vladkondratov/opt/anaconda3/lib/python3.9/site-packages/sklearn/linear_model/_base.py:148: FutureWarning: 'normalize' was deprecated in version 1.0 and will be removed in 1.2. Please leave the normalize parameter to its default value to silence this warning. The default behavior of this estimator is to not do any normalization. If normalization is needed please use sklearn.preprocessing.StandardScaler instead.\n",
      "  warnings.warn(\n",
      "/Users/vladkondratov/opt/anaconda3/lib/python3.9/site-packages/sklearn/linear_model/_base.py:148: FutureWarning: 'normalize' was deprecated in version 1.0 and will be removed in 1.2. Please leave the normalize parameter to its default value to silence this warning. The default behavior of this estimator is to not do any normalization. If normalization is needed please use sklearn.preprocessing.StandardScaler instead.\n",
      "  warnings.warn(\n",
      "/Users/vladkondratov/opt/anaconda3/lib/python3.9/site-packages/sklearn/linear_model/_base.py:148: FutureWarning: 'normalize' was deprecated in version 1.0 and will be removed in 1.2. Please leave the normalize parameter to its default value to silence this warning. The default behavior of this estimator is to not do any normalization. If normalization is needed please use sklearn.preprocessing.StandardScaler instead.\n",
      "  warnings.warn(\n",
      "/Users/vladkondratov/opt/anaconda3/lib/python3.9/site-packages/sklearn/linear_model/_base.py:141: FutureWarning: 'normalize' was deprecated in version 1.0 and will be removed in 1.2.\n",
      "If you wish to scale the data, use Pipeline with a StandardScaler in a preprocessing stage. To reproduce the previous behavior:\n",
      "\n",
      "from sklearn.pipeline import make_pipeline\n",
      "\n",
      "model = make_pipeline(StandardScaler(with_mean=False), LinearRegression())\n",
      "\n",
      "If you wish to pass a sample_weight parameter, you need to pass it as a fit parameter to each step of the pipeline as follows:\n",
      "\n",
      "kwargs = {s[0] + '__sample_weight': sample_weight for s in model.steps}\n",
      "model.fit(X, y, **kwargs)\n",
      "\n",
      "\n",
      "  warnings.warn(\n",
      "/Users/vladkondratov/opt/anaconda3/lib/python3.9/site-packages/sklearn/linear_model/_base.py:141: FutureWarning: 'normalize' was deprecated in version 1.0 and will be removed in 1.2.\n",
      "If you wish to scale the data, use Pipeline with a StandardScaler in a preprocessing stage. To reproduce the previous behavior:\n",
      "\n",
      "from sklearn.pipeline import make_pipeline\n",
      "\n",
      "model = make_pipeline(StandardScaler(with_mean=False), LinearRegression())\n",
      "\n",
      "If you wish to pass a sample_weight parameter, you need to pass it as a fit parameter to each step of the pipeline as follows:\n",
      "\n",
      "kwargs = {s[0] + '__sample_weight': sample_weight for s in model.steps}\n",
      "model.fit(X, y, **kwargs)\n",
      "\n",
      "\n",
      "  warnings.warn(\n",
      "/Users/vladkondratov/opt/anaconda3/lib/python3.9/site-packages/sklearn/linear_model/_base.py:141: FutureWarning: 'normalize' was deprecated in version 1.0 and will be removed in 1.2.\n",
      "If you wish to scale the data, use Pipeline with a StandardScaler in a preprocessing stage. To reproduce the previous behavior:\n",
      "\n",
      "from sklearn.pipeline import make_pipeline\n",
      "\n",
      "model = make_pipeline(StandardScaler(with_mean=False), LinearRegression())\n",
      "\n",
      "If you wish to pass a sample_weight parameter, you need to pass it as a fit parameter to each step of the pipeline as follows:\n",
      "\n",
      "kwargs = {s[0] + '__sample_weight': sample_weight for s in model.steps}\n",
      "model.fit(X, y, **kwargs)\n",
      "\n",
      "\n",
      "  warnings.warn(\n",
      "/Users/vladkondratov/opt/anaconda3/lib/python3.9/site-packages/sklearn/linear_model/_base.py:141: FutureWarning: 'normalize' was deprecated in version 1.0 and will be removed in 1.2.\n",
      "If you wish to scale the data, use Pipeline with a StandardScaler in a preprocessing stage. To reproduce the previous behavior:\n",
      "\n",
      "from sklearn.pipeline import make_pipeline\n",
      "\n",
      "model = make_pipeline(StandardScaler(with_mean=False), LinearRegression())\n",
      "\n",
      "If you wish to pass a sample_weight parameter, you need to pass it as a fit parameter to each step of the pipeline as follows:\n",
      "\n",
      "kwargs = {s[0] + '__sample_weight': sample_weight for s in model.steps}\n",
      "model.fit(X, y, **kwargs)\n",
      "\n",
      "\n",
      "  warnings.warn(\n",
      "/Users/vladkondratov/opt/anaconda3/lib/python3.9/site-packages/sklearn/linear_model/_base.py:141: FutureWarning: 'normalize' was deprecated in version 1.0 and will be removed in 1.2.\n",
      "If you wish to scale the data, use Pipeline with a StandardScaler in a preprocessing stage. To reproduce the previous behavior:\n",
      "\n",
      "from sklearn.pipeline import make_pipeline\n",
      "\n",
      "model = make_pipeline(StandardScaler(with_mean=False), LinearRegression())\n",
      "\n",
      "If you wish to pass a sample_weight parameter, you need to pass it as a fit parameter to each step of the pipeline as follows:\n",
      "\n",
      "kwargs = {s[0] + '__sample_weight': sample_weight for s in model.steps}\n",
      "model.fit(X, y, **kwargs)\n",
      "\n",
      "\n",
      "  warnings.warn(\n",
      "/Users/vladkondratov/opt/anaconda3/lib/python3.9/site-packages/sklearn/linear_model/_base.py:148: FutureWarning: 'normalize' was deprecated in version 1.0 and will be removed in 1.2. Please leave the normalize parameter to its default value to silence this warning. The default behavior of this estimator is to not do any normalization. If normalization is needed please use sklearn.preprocessing.StandardScaler instead.\n",
      "  warnings.warn(\n",
      "/Users/vladkondratov/opt/anaconda3/lib/python3.9/site-packages/sklearn/linear_model/_base.py:148: FutureWarning: 'normalize' was deprecated in version 1.0 and will be removed in 1.2. Please leave the normalize parameter to its default value to silence this warning. The default behavior of this estimator is to not do any normalization. If normalization is needed please use sklearn.preprocessing.StandardScaler instead.\n",
      "  warnings.warn(\n",
      "/Users/vladkondratov/opt/anaconda3/lib/python3.9/site-packages/sklearn/linear_model/_base.py:148: FutureWarning: 'normalize' was deprecated in version 1.0 and will be removed in 1.2. Please leave the normalize parameter to its default value to silence this warning. The default behavior of this estimator is to not do any normalization. If normalization is needed please use sklearn.preprocessing.StandardScaler instead.\n",
      "  warnings.warn(\n",
      "/Users/vladkondratov/opt/anaconda3/lib/python3.9/site-packages/sklearn/linear_model/_base.py:148: FutureWarning: 'normalize' was deprecated in version 1.0 and will be removed in 1.2. Please leave the normalize parameter to its default value to silence this warning. The default behavior of this estimator is to not do any normalization. If normalization is needed please use sklearn.preprocessing.StandardScaler instead.\n",
      "  warnings.warn(\n",
      "/Users/vladkondratov/opt/anaconda3/lib/python3.9/site-packages/sklearn/linear_model/_base.py:148: FutureWarning: 'normalize' was deprecated in version 1.0 and will be removed in 1.2. Please leave the normalize parameter to its default value to silence this warning. The default behavior of this estimator is to not do any normalization. If normalization is needed please use sklearn.preprocessing.StandardScaler instead.\n",
      "  warnings.warn(\n",
      "/Users/vladkondratov/opt/anaconda3/lib/python3.9/site-packages/sklearn/linear_model/_base.py:141: FutureWarning: 'normalize' was deprecated in version 1.0 and will be removed in 1.2.\n",
      "If you wish to scale the data, use Pipeline with a StandardScaler in a preprocessing stage. To reproduce the previous behavior:\n",
      "\n",
      "from sklearn.pipeline import make_pipeline\n",
      "\n",
      "model = make_pipeline(StandardScaler(with_mean=False), LinearRegression())\n",
      "\n",
      "If you wish to pass a sample_weight parameter, you need to pass it as a fit parameter to each step of the pipeline as follows:\n",
      "\n",
      "kwargs = {s[0] + '__sample_weight': sample_weight for s in model.steps}\n",
      "model.fit(X, y, **kwargs)\n",
      "\n",
      "\n",
      "  warnings.warn(\n",
      "/Users/vladkondratov/opt/anaconda3/lib/python3.9/site-packages/sklearn/linear_model/_base.py:141: FutureWarning: 'normalize' was deprecated in version 1.0 and will be removed in 1.2.\n",
      "If you wish to scale the data, use Pipeline with a StandardScaler in a preprocessing stage. To reproduce the previous behavior:\n",
      "\n",
      "from sklearn.pipeline import make_pipeline\n",
      "\n",
      "model = make_pipeline(StandardScaler(with_mean=False), LinearRegression())\n",
      "\n",
      "If you wish to pass a sample_weight parameter, you need to pass it as a fit parameter to each step of the pipeline as follows:\n",
      "\n",
      "kwargs = {s[0] + '__sample_weight': sample_weight for s in model.steps}\n",
      "model.fit(X, y, **kwargs)\n",
      "\n",
      "\n",
      "  warnings.warn(\n",
      "/Users/vladkondratov/opt/anaconda3/lib/python3.9/site-packages/sklearn/linear_model/_base.py:141: FutureWarning: 'normalize' was deprecated in version 1.0 and will be removed in 1.2.\n",
      "If you wish to scale the data, use Pipeline with a StandardScaler in a preprocessing stage. To reproduce the previous behavior:\n",
      "\n",
      "from sklearn.pipeline import make_pipeline\n",
      "\n",
      "model = make_pipeline(StandardScaler(with_mean=False), LinearRegression())\n",
      "\n",
      "If you wish to pass a sample_weight parameter, you need to pass it as a fit parameter to each step of the pipeline as follows:\n",
      "\n",
      "kwargs = {s[0] + '__sample_weight': sample_weight for s in model.steps}\n",
      "model.fit(X, y, **kwargs)\n",
      "\n",
      "\n",
      "  warnings.warn(\n",
      "/Users/vladkondratov/opt/anaconda3/lib/python3.9/site-packages/sklearn/linear_model/_base.py:141: FutureWarning: 'normalize' was deprecated in version 1.0 and will be removed in 1.2.\n",
      "If you wish to scale the data, use Pipeline with a StandardScaler in a preprocessing stage. To reproduce the previous behavior:\n",
      "\n",
      "from sklearn.pipeline import make_pipeline\n",
      "\n",
      "model = make_pipeline(StandardScaler(with_mean=False), LinearRegression())\n",
      "\n",
      "If you wish to pass a sample_weight parameter, you need to pass it as a fit parameter to each step of the pipeline as follows:\n",
      "\n",
      "kwargs = {s[0] + '__sample_weight': sample_weight for s in model.steps}\n",
      "model.fit(X, y, **kwargs)\n",
      "\n",
      "\n",
      "  warnings.warn(\n",
      "/Users/vladkondratov/opt/anaconda3/lib/python3.9/site-packages/sklearn/linear_model/_base.py:141: FutureWarning: 'normalize' was deprecated in version 1.0 and will be removed in 1.2.\n",
      "If you wish to scale the data, use Pipeline with a StandardScaler in a preprocessing stage. To reproduce the previous behavior:\n",
      "\n",
      "from sklearn.pipeline import make_pipeline\n",
      "\n",
      "model = make_pipeline(StandardScaler(with_mean=False), LinearRegression())\n",
      "\n",
      "If you wish to pass a sample_weight parameter, you need to pass it as a fit parameter to each step of the pipeline as follows:\n",
      "\n",
      "kwargs = {s[0] + '__sample_weight': sample_weight for s in model.steps}\n",
      "model.fit(X, y, **kwargs)\n",
      "\n",
      "\n",
      "  warnings.warn(\n",
      "/Users/vladkondratov/opt/anaconda3/lib/python3.9/site-packages/sklearn/linear_model/_base.py:148: FutureWarning: 'normalize' was deprecated in version 1.0 and will be removed in 1.2. Please leave the normalize parameter to its default value to silence this warning. The default behavior of this estimator is to not do any normalization. If normalization is needed please use sklearn.preprocessing.StandardScaler instead.\n",
      "  warnings.warn(\n",
      "/Users/vladkondratov/opt/anaconda3/lib/python3.9/site-packages/sklearn/linear_model/_base.py:148: FutureWarning: 'normalize' was deprecated in version 1.0 and will be removed in 1.2. Please leave the normalize parameter to its default value to silence this warning. The default behavior of this estimator is to not do any normalization. If normalization is needed please use sklearn.preprocessing.StandardScaler instead.\n",
      "  warnings.warn(\n",
      "/Users/vladkondratov/opt/anaconda3/lib/python3.9/site-packages/sklearn/linear_model/_base.py:148: FutureWarning: 'normalize' was deprecated in version 1.0 and will be removed in 1.2. Please leave the normalize parameter to its default value to silence this warning. The default behavior of this estimator is to not do any normalization. If normalization is needed please use sklearn.preprocessing.StandardScaler instead.\n",
      "  warnings.warn(\n",
      "/Users/vladkondratov/opt/anaconda3/lib/python3.9/site-packages/sklearn/linear_model/_base.py:141: FutureWarning: 'normalize' was deprecated in version 1.0 and will be removed in 1.2.\n",
      "If you wish to scale the data, use Pipeline with a StandardScaler in a preprocessing stage. To reproduce the previous behavior:\n",
      "\n",
      "from sklearn.pipeline import make_pipeline\n",
      "\n",
      "model = make_pipeline(StandardScaler(with_mean=False), LinearRegression())\n",
      "\n",
      "If you wish to pass a sample_weight parameter, you need to pass it as a fit parameter to each step of the pipeline as follows:\n",
      "\n",
      "kwargs = {s[0] + '__sample_weight': sample_weight for s in model.steps}\n",
      "model.fit(X, y, **kwargs)\n",
      "\n",
      "\n",
      "  warnings.warn(\n",
      "/Users/vladkondratov/opt/anaconda3/lib/python3.9/site-packages/sklearn/linear_model/_base.py:148: FutureWarning: 'normalize' was deprecated in version 1.0 and will be removed in 1.2. Please leave the normalize parameter to its default value to silence this warning. The default behavior of this estimator is to not do any normalization. If normalization is needed please use sklearn.preprocessing.StandardScaler instead.\n",
      "  warnings.warn(\n",
      "/Users/vladkondratov/opt/anaconda3/lib/python3.9/site-packages/sklearn/linear_model/_base.py:148: FutureWarning: 'normalize' was deprecated in version 1.0 and will be removed in 1.2. Please leave the normalize parameter to its default value to silence this warning. The default behavior of this estimator is to not do any normalization. If normalization is needed please use sklearn.preprocessing.StandardScaler instead.\n",
      "  warnings.warn(\n",
      "/Users/vladkondratov/opt/anaconda3/lib/python3.9/site-packages/sklearn/linear_model/_base.py:141: FutureWarning: 'normalize' was deprecated in version 1.0 and will be removed in 1.2.\n",
      "If you wish to scale the data, use Pipeline with a StandardScaler in a preprocessing stage. To reproduce the previous behavior:\n",
      "\n",
      "from sklearn.pipeline import make_pipeline\n",
      "\n",
      "model = make_pipeline(StandardScaler(with_mean=False), LinearRegression())\n",
      "\n",
      "If you wish to pass a sample_weight parameter, you need to pass it as a fit parameter to each step of the pipeline as follows:\n",
      "\n",
      "kwargs = {s[0] + '__sample_weight': sample_weight for s in model.steps}\n",
      "model.fit(X, y, **kwargs)\n",
      "\n",
      "\n",
      "  warnings.warn(\n",
      "/Users/vladkondratov/opt/anaconda3/lib/python3.9/site-packages/sklearn/linear_model/_base.py:141: FutureWarning: 'normalize' was deprecated in version 1.0 and will be removed in 1.2.\n",
      "If you wish to scale the data, use Pipeline with a StandardScaler in a preprocessing stage. To reproduce the previous behavior:\n",
      "\n",
      "from sklearn.pipeline import make_pipeline\n",
      "\n",
      "model = make_pipeline(StandardScaler(with_mean=False), LinearRegression())\n",
      "\n",
      "If you wish to pass a sample_weight parameter, you need to pass it as a fit parameter to each step of the pipeline as follows:\n",
      "\n",
      "kwargs = {s[0] + '__sample_weight': sample_weight for s in model.steps}\n",
      "model.fit(X, y, **kwargs)\n",
      "\n",
      "\n",
      "  warnings.warn(\n",
      "/Users/vladkondratov/opt/anaconda3/lib/python3.9/site-packages/sklearn/linear_model/_base.py:148: FutureWarning: 'normalize' was deprecated in version 1.0 and will be removed in 1.2. Please leave the normalize parameter to its default value to silence this warning. The default behavior of this estimator is to not do any normalization. If normalization is needed please use sklearn.preprocessing.StandardScaler instead.\n",
      "  warnings.warn(\n",
      "/Users/vladkondratov/opt/anaconda3/lib/python3.9/site-packages/sklearn/linear_model/_base.py:148: FutureWarning: 'normalize' was deprecated in version 1.0 and will be removed in 1.2. Please leave the normalize parameter to its default value to silence this warning. The default behavior of this estimator is to not do any normalization. If normalization is needed please use sklearn.preprocessing.StandardScaler instead.\n",
      "  warnings.warn(\n",
      "/Users/vladkondratov/opt/anaconda3/lib/python3.9/site-packages/sklearn/linear_model/_base.py:141: FutureWarning: 'normalize' was deprecated in version 1.0 and will be removed in 1.2.\n",
      "If you wish to scale the data, use Pipeline with a StandardScaler in a preprocessing stage. To reproduce the previous behavior:\n",
      "\n",
      "from sklearn.pipeline import make_pipeline\n",
      "\n",
      "model = make_pipeline(StandardScaler(with_mean=False), LinearRegression())\n",
      "\n",
      "If you wish to pass a sample_weight parameter, you need to pass it as a fit parameter to each step of the pipeline as follows:\n",
      "\n",
      "kwargs = {s[0] + '__sample_weight': sample_weight for s in model.steps}\n",
      "model.fit(X, y, **kwargs)\n",
      "\n",
      "\n",
      "  warnings.warn(\n",
      "/Users/vladkondratov/opt/anaconda3/lib/python3.9/site-packages/sklearn/linear_model/_base.py:141: FutureWarning: 'normalize' was deprecated in version 1.0 and will be removed in 1.2.\n",
      "If you wish to scale the data, use Pipeline with a StandardScaler in a preprocessing stage. To reproduce the previous behavior:\n",
      "\n",
      "from sklearn.pipeline import make_pipeline\n",
      "\n",
      "model = make_pipeline(StandardScaler(with_mean=False), LinearRegression())\n",
      "\n",
      "If you wish to pass a sample_weight parameter, you need to pass it as a fit parameter to each step of the pipeline as follows:\n",
      "\n",
      "kwargs = {s[0] + '__sample_weight': sample_weight for s in model.steps}\n",
      "model.fit(X, y, **kwargs)\n",
      "\n",
      "\n",
      "  warnings.warn(\n",
      "/Users/vladkondratov/opt/anaconda3/lib/python3.9/site-packages/sklearn/linear_model/_base.py:141: FutureWarning: 'normalize' was deprecated in version 1.0 and will be removed in 1.2.\n",
      "If you wish to scale the data, use Pipeline with a StandardScaler in a preprocessing stage. To reproduce the previous behavior:\n",
      "\n",
      "from sklearn.pipeline import make_pipeline\n",
      "\n",
      "model = make_pipeline(StandardScaler(with_mean=False), LinearRegression())\n",
      "\n",
      "If you wish to pass a sample_weight parameter, you need to pass it as a fit parameter to each step of the pipeline as follows:\n",
      "\n",
      "kwargs = {s[0] + '__sample_weight': sample_weight for s in model.steps}\n",
      "model.fit(X, y, **kwargs)\n",
      "\n",
      "\n",
      "  warnings.warn(\n",
      "/Users/vladkondratov/opt/anaconda3/lib/python3.9/site-packages/sklearn/linear_model/_base.py:148: FutureWarning: 'normalize' was deprecated in version 1.0 and will be removed in 1.2. Please leave the normalize parameter to its default value to silence this warning. The default behavior of this estimator is to not do any normalization. If normalization is needed please use sklearn.preprocessing.StandardScaler instead.\n",
      "  warnings.warn(\n",
      "/Users/vladkondratov/opt/anaconda3/lib/python3.9/site-packages/sklearn/linear_model/_base.py:141: FutureWarning: 'normalize' was deprecated in version 1.0 and will be removed in 1.2.\n",
      "If you wish to scale the data, use Pipeline with a StandardScaler in a preprocessing stage. To reproduce the previous behavior:\n",
      "\n",
      "from sklearn.pipeline import make_pipeline\n",
      "\n",
      "model = make_pipeline(StandardScaler(with_mean=False), LinearRegression())\n",
      "\n",
      "If you wish to pass a sample_weight parameter, you need to pass it as a fit parameter to each step of the pipeline as follows:\n",
      "\n",
      "kwargs = {s[0] + '__sample_weight': sample_weight for s in model.steps}\n",
      "model.fit(X, y, **kwargs)\n",
      "\n",
      "\n",
      "  warnings.warn(\n"
     ]
    },
    {
     "name": "stderr",
     "output_type": "stream",
     "text": [
      "/Users/vladkondratov/opt/anaconda3/lib/python3.9/site-packages/sklearn/linear_model/_base.py:148: FutureWarning: 'normalize' was deprecated in version 1.0 and will be removed in 1.2. Please leave the normalize parameter to its default value to silence this warning. The default behavior of this estimator is to not do any normalization. If normalization is needed please use sklearn.preprocessing.StandardScaler instead.\n",
      "  warnings.warn(\n",
      "/Users/vladkondratov/opt/anaconda3/lib/python3.9/site-packages/sklearn/linear_model/_base.py:148: FutureWarning: 'normalize' was deprecated in version 1.0 and will be removed in 1.2. Please leave the normalize parameter to its default value to silence this warning. The default behavior of this estimator is to not do any normalization. If normalization is needed please use sklearn.preprocessing.StandardScaler instead.\n",
      "  warnings.warn(\n",
      "/Users/vladkondratov/opt/anaconda3/lib/python3.9/site-packages/sklearn/linear_model/_base.py:141: FutureWarning: 'normalize' was deprecated in version 1.0 and will be removed in 1.2.\n",
      "If you wish to scale the data, use Pipeline with a StandardScaler in a preprocessing stage. To reproduce the previous behavior:\n",
      "\n",
      "from sklearn.pipeline import make_pipeline\n",
      "\n",
      "model = make_pipeline(StandardScaler(with_mean=False), LinearRegression())\n",
      "\n",
      "If you wish to pass a sample_weight parameter, you need to pass it as a fit parameter to each step of the pipeline as follows:\n",
      "\n",
      "kwargs = {s[0] + '__sample_weight': sample_weight for s in model.steps}\n",
      "model.fit(X, y, **kwargs)\n",
      "\n",
      "\n",
      "  warnings.warn(\n",
      "/Users/vladkondratov/opt/anaconda3/lib/python3.9/site-packages/sklearn/linear_model/_base.py:141: FutureWarning: 'normalize' was deprecated in version 1.0 and will be removed in 1.2.\n",
      "If you wish to scale the data, use Pipeline with a StandardScaler in a preprocessing stage. To reproduce the previous behavior:\n",
      "\n",
      "from sklearn.pipeline import make_pipeline\n",
      "\n",
      "model = make_pipeline(StandardScaler(with_mean=False), LinearRegression())\n",
      "\n",
      "If you wish to pass a sample_weight parameter, you need to pass it as a fit parameter to each step of the pipeline as follows:\n",
      "\n",
      "kwargs = {s[0] + '__sample_weight': sample_weight for s in model.steps}\n",
      "model.fit(X, y, **kwargs)\n",
      "\n",
      "\n",
      "  warnings.warn(\n",
      "/Users/vladkondratov/opt/anaconda3/lib/python3.9/site-packages/sklearn/linear_model/_base.py:141: FutureWarning: 'normalize' was deprecated in version 1.0 and will be removed in 1.2.\n",
      "If you wish to scale the data, use Pipeline with a StandardScaler in a preprocessing stage. To reproduce the previous behavior:\n",
      "\n",
      "from sklearn.pipeline import make_pipeline\n",
      "\n",
      "model = make_pipeline(StandardScaler(with_mean=False), LinearRegression())\n",
      "\n",
      "If you wish to pass a sample_weight parameter, you need to pass it as a fit parameter to each step of the pipeline as follows:\n",
      "\n",
      "kwargs = {s[0] + '__sample_weight': sample_weight for s in model.steps}\n",
      "model.fit(X, y, **kwargs)\n",
      "\n",
      "\n",
      "  warnings.warn(\n",
      "/Users/vladkondratov/opt/anaconda3/lib/python3.9/site-packages/sklearn/linear_model/_base.py:148: FutureWarning: 'normalize' was deprecated in version 1.0 and will be removed in 1.2. Please leave the normalize parameter to its default value to silence this warning. The default behavior of this estimator is to not do any normalization. If normalization is needed please use sklearn.preprocessing.StandardScaler instead.\n",
      "  warnings.warn(\n",
      "/Users/vladkondratov/opt/anaconda3/lib/python3.9/site-packages/sklearn/linear_model/_base.py:148: FutureWarning: 'normalize' was deprecated in version 1.0 and will be removed in 1.2. Please leave the normalize parameter to its default value to silence this warning. The default behavior of this estimator is to not do any normalization. If normalization is needed please use sklearn.preprocessing.StandardScaler instead.\n",
      "  warnings.warn(\n",
      "/Users/vladkondratov/opt/anaconda3/lib/python3.9/site-packages/sklearn/linear_model/_base.py:148: FutureWarning: 'normalize' was deprecated in version 1.0 and will be removed in 1.2. Please leave the normalize parameter to its default value to silence this warning. The default behavior of this estimator is to not do any normalization. If normalization is needed please use sklearn.preprocessing.StandardScaler instead.\n",
      "  warnings.warn(\n",
      "/Users/vladkondratov/opt/anaconda3/lib/python3.9/site-packages/sklearn/linear_model/_base.py:148: FutureWarning: 'normalize' was deprecated in version 1.0 and will be removed in 1.2. Please leave the normalize parameter to its default value to silence this warning. The default behavior of this estimator is to not do any normalization. If normalization is needed please use sklearn.preprocessing.StandardScaler instead.\n",
      "  warnings.warn(\n",
      "/Users/vladkondratov/opt/anaconda3/lib/python3.9/site-packages/sklearn/linear_model/_base.py:148: FutureWarning: 'normalize' was deprecated in version 1.0 and will be removed in 1.2. Please leave the normalize parameter to its default value to silence this warning. The default behavior of this estimator is to not do any normalization. If normalization is needed please use sklearn.preprocessing.StandardScaler instead.\n",
      "  warnings.warn(\n",
      "/Users/vladkondratov/opt/anaconda3/lib/python3.9/site-packages/sklearn/linear_model/_base.py:141: FutureWarning: 'normalize' was deprecated in version 1.0 and will be removed in 1.2.\n",
      "If you wish to scale the data, use Pipeline with a StandardScaler in a preprocessing stage. To reproduce the previous behavior:\n",
      "\n",
      "from sklearn.pipeline import make_pipeline\n",
      "\n",
      "model = make_pipeline(StandardScaler(with_mean=False), LinearRegression())\n",
      "\n",
      "If you wish to pass a sample_weight parameter, you need to pass it as a fit parameter to each step of the pipeline as follows:\n",
      "\n",
      "kwargs = {s[0] + '__sample_weight': sample_weight for s in model.steps}\n",
      "model.fit(X, y, **kwargs)\n",
      "\n",
      "\n",
      "  warnings.warn(\n"
     ]
    }
   ],
   "source": [
    "line_regr_final_scores = cross_val_score(grid_line_regr_final,\n",
    "                                         X_train_final,\n",
    "                                         y_train_final,\n",
    "                                         scoring=smape_score,\n",
    "                                         cv=5)"
   ]
  },
  {
   "cell_type": "code",
   "execution_count": 45,
   "metadata": {},
   "outputs": [
    {
     "name": "stdout",
     "output_type": "stream",
     "text": [
      "-11.489367978695986\n",
      "-11.158272123059788\n"
     ]
    }
   ],
   "source": [
    "print(line_regr_final_scores.mean())\n",
    "print(grid_line_regr_final.best_score_)"
   ]
  },
  {
   "cell_type": "code",
   "execution_count": 61,
   "metadata": {
    "scrolled": true
   },
   "outputs": [
    {
     "name": "stdout",
     "output_type": "stream",
     "text": [
      "sMAPE моделей: \n",
      "\n",
      "Дерево решений rougher -7.2659947530876625\n",
      "Дерево решений final -10.17980714141316\n",
      "\n",
      "Случайный лес rougher -7.380099400865414\n",
      "Случайный лес final -10.065253371111055\n",
      "\n",
      "Линейная регрессия rougher -7.740685039403958\n",
      "Линейная регрессия final -11.489367978695986\n"
     ]
    }
   ],
   "source": [
    "print('sMAPE моделей: ')\n",
    "\n",
    "print('\\nДерево решений rougher', decision_tree_regr_rougher_scores.mean())\n",
    "print('Дерево решений final', decision_tree_regr_final_scores.mean())\n",
    "\n",
    "print('\\nСлучайный лес rougher', random_forest_regr_rougher_scores.mean())\n",
    "print('Случайный лес final', random_forest_regr_final_scores.mean())\n",
    "\n",
    "print('\\nЛинейная регрессия rougher', line_regr_rougher_scores.mean())\n",
    "print('Линейная регрессия final', line_regr_final_scores.mean())"
   ]
  },
  {
   "cell_type": "markdown",
   "metadata": {},
   "source": [
    "## sMAPE Финальной модели"
   ]
  },
  {
   "cell_type": "code",
   "execution_count": 48,
   "metadata": {},
   "outputs": [
    {
     "name": "stdout",
     "output_type": "stream",
     "text": [
      "CPU times: user 7.88 ms, sys: 3.77 ms, total: 11.7 ms\n",
      "Wall time: 8.62 ms\n"
     ]
    },
    {
     "data": {
      "text/plain": [
       "8.29749013889771"
      ]
     },
     "execution_count": 48,
     "metadata": {},
     "output_type": "execute_result"
    }
   ],
   "source": [
    "%%time\n",
    "\n",
    "pred_dtr_rough = decision_tree_regr_rougher.predict(X_test_rougher)\n",
    "smape_dtr_rougher = smape(data_full.loc[X_test_rougher.index, 'rougher.output.recovery'], pred_dtr_rough)\n",
    "\n",
    "smape_dtr_rougher"
   ]
  },
  {
   "cell_type": "code",
   "execution_count": 49,
   "metadata": {},
   "outputs": [
    {
     "name": "stdout",
     "output_type": "stream",
     "text": [
      "CPU times: user 24.3 ms, sys: 4.11 ms, total: 28.5 ms\n",
      "Wall time: 25.9 ms\n"
     ]
    },
    {
     "data": {
      "text/plain": [
       "10.094033259939504"
      ]
     },
     "execution_count": 49,
     "metadata": {},
     "output_type": "execute_result"
    }
   ],
   "source": [
    "%%time\n",
    "\n",
    "pred_rf_final = random_forest_regr_final.predict(X_test_final)\n",
    "smape_rf_final = smape(data_full.loc[X_test_final.index, 'final.output.recovery'], pred_rf_final)\n",
    "smape_rf_final"
   ]
  },
  {
   "cell_type": "code",
   "execution_count": 60,
   "metadata": {},
   "outputs": [
    {
     "name": "stdout",
     "output_type": "stream",
     "text": [
      "sMAPE лучшей модели: 9.644897479679056\n",
      "\n",
      "Константная модель: 9.41332963227423\n"
     ]
    }
   ],
   "source": [
    "total_dtr_smape = 0.25*smape_dtr_rougher + 0.75*smape_rf_final\n",
    "print('sMAPE лучшей модели:',total_dtr_smape)\n",
    "print('\\nКонстантная модель:',total)"
   ]
  },
  {
   "cell_type": "markdown",
   "metadata": {},
   "source": [
    "Вывод: - Дерево решений имеет лучший результат в сравнении с sMAPE константной модели: 9,64\\9,41"
   ]
  },
  {
   "cell_type": "markdown",
   "metadata": {},
   "source": [
    "## Вывод"
   ]
  },
  {
   "cell_type": "markdown",
   "metadata": {},
   "source": [
    "Данные успешно проанализированы.\n",
    "\n",
    "- Пропуски заполненны методом 'ffill'.\n",
    "\n",
    "- Признаки, недоступные в тестовой выборке, это признаки продукта которые замеряются и/или рассчитываются после этапов флотации и очисток, а также целевой признак эффективности обогащения.\n",
    "\n",
    "- Маленькая абсолютная ошибка, эффективность обогащения рассчитана правильно.\n",
    "\n",
    "- Признаки, недоступные в тестовой выборке, это признаки продукта которые замеряются и/или рассчитываются после этапов флотации и очисток, а также целевой признак эффективности обогащения.\n",
    "\n",
    "- В тестовой выборке отсутствуют параметры которые замеряются и/или рассчитываются после этапов флотации и очисток, а также целевой признак эффективности обогащения.\n",
    "\n",
    "\n",
    "- Концентрация золота увеличивается после каждого этапа очистки;\n",
    "- Концентрация серебра увеличивается после флотации и уменьшается после следующих этапов;\n",
    "- Концентрация свинца снижается после первого этапа очистки и незначительно изменяется в дальнейшем;\n",
    "- Размеры гранул на обучающей выборке в среднем составляет 56 на тестовой выборке 60;\n",
    "- Суммарная концентрация веществ снижается с каждым этапом очистки.\n",
    "\n",
    "\n",
    "- Данные обучены на моделях: Решающие дерево, Случайный лес, Линейная регрессия.\n",
    "- С помощью GridSearchCV подобрали наилучшую модель и наилучшие параметры.\n",
    "\n",
    "Дерево решений имеет лучший результат в сравнении с sMAPE константной модели: 9,64\\9.41\n",
    "\n"
   ]
  }
 ],
 "metadata": {
  "ExecuteTimeLog": [
   {
    "duration": 1654,
    "start_time": "2023-01-09T06:13:27.091Z"
   },
   {
    "duration": 2411,
    "start_time": "2023-01-09T06:13:28.747Z"
   },
   {
    "duration": 3190,
    "start_time": "2023-01-09T06:14:42.432Z"
   },
   {
    "duration": 20,
    "start_time": "2023-01-09T06:15:06.266Z"
   },
   {
    "duration": 32,
    "start_time": "2023-01-09T06:15:14.210Z"
   },
   {
    "duration": 19,
    "start_time": "2023-01-09T06:15:28.997Z"
   },
   {
    "duration": 12,
    "start_time": "2023-01-09T06:17:21.592Z"
   },
   {
    "duration": 24,
    "start_time": "2023-01-09T06:17:27.809Z"
   },
   {
    "duration": 14,
    "start_time": "2023-01-09T06:17:36.073Z"
   },
   {
    "duration": 12,
    "start_time": "2023-01-09T06:17:39.233Z"
   },
   {
    "duration": 31,
    "start_time": "2023-01-09T06:17:49.961Z"
   },
   {
    "duration": 20,
    "start_time": "2023-01-09T06:18:10.281Z"
   },
   {
    "duration": 9,
    "start_time": "2023-01-09T06:18:22.207Z"
   },
   {
    "duration": 11,
    "start_time": "2023-01-09T06:18:49.248Z"
   },
   {
    "duration": 868,
    "start_time": "2023-01-09T06:18:56.857Z"
   },
   {
    "duration": 15,
    "start_time": "2023-01-09T06:19:06.609Z"
   },
   {
    "duration": 9,
    "start_time": "2023-01-09T06:19:10.048Z"
   },
   {
    "duration": 23,
    "start_time": "2023-01-09T06:19:20.224Z"
   },
   {
    "duration": 24,
    "start_time": "2023-01-09T06:19:44.072Z"
   },
   {
    "duration": 28,
    "start_time": "2023-01-09T06:19:53.816Z"
   },
   {
    "duration": 124,
    "start_time": "2023-01-09T06:20:34.809Z"
   },
   {
    "duration": 26,
    "start_time": "2023-01-09T06:20:49.295Z"
   },
   {
    "duration": 31,
    "start_time": "2023-01-09T06:21:44.960Z"
   },
   {
    "duration": 33,
    "start_time": "2023-01-09T06:22:05.663Z"
   },
   {
    "duration": 24,
    "start_time": "2023-01-09T06:22:17.912Z"
   },
   {
    "duration": 12,
    "start_time": "2023-01-09T06:22:48.937Z"
   },
   {
    "duration": 9,
    "start_time": "2023-01-09T06:25:16.908Z"
   },
   {
    "duration": 9,
    "start_time": "2023-01-09T06:25:26.333Z"
   },
   {
    "duration": 9,
    "start_time": "2023-01-09T06:25:32.332Z"
   },
   {
    "duration": 55,
    "start_time": "2023-01-09T06:25:43.408Z"
   },
   {
    "duration": 9,
    "start_time": "2023-01-09T06:26:14.774Z"
   },
   {
    "duration": 9,
    "start_time": "2023-01-09T06:28:24.332Z"
   },
   {
    "duration": 14,
    "start_time": "2023-01-09T06:28:35.443Z"
   },
   {
    "duration": 9,
    "start_time": "2023-01-09T06:28:43.501Z"
   },
   {
    "duration": 10,
    "start_time": "2023-01-09T06:28:49.170Z"
   },
   {
    "duration": 8,
    "start_time": "2023-01-09T06:28:57.720Z"
   },
   {
    "duration": 8,
    "start_time": "2023-01-09T06:29:02.660Z"
   },
   {
    "duration": 8,
    "start_time": "2023-01-09T06:29:09.084Z"
   },
   {
    "duration": 3,
    "start_time": "2023-01-09T06:29:55.980Z"
   },
   {
    "duration": 8,
    "start_time": "2023-01-09T06:29:57.676Z"
   },
   {
    "duration": 26,
    "start_time": "2023-01-09T06:30:37.212Z"
   },
   {
    "duration": 9,
    "start_time": "2023-01-09T06:31:10.508Z"
   },
   {
    "duration": 7,
    "start_time": "2023-01-13T04:12:30.539Z"
   },
   {
    "duration": 1569,
    "start_time": "2023-01-13T04:12:35.674Z"
   },
   {
    "duration": 3,
    "start_time": "2023-01-13T04:12:37.245Z"
   },
   {
    "duration": 23,
    "start_time": "2023-01-13T04:12:37.249Z"
   },
   {
    "duration": 1887,
    "start_time": "2023-01-13T04:12:37.275Z"
   },
   {
    "duration": 12,
    "start_time": "2023-01-13T04:12:39.163Z"
   },
   {
    "duration": 2,
    "start_time": "2023-01-13T04:20:16.206Z"
   },
   {
    "duration": 1310,
    "start_time": "2023-01-13T04:22:23.358Z"
   },
   {
    "duration": 1441,
    "start_time": "2023-01-13T04:24:23.938Z"
   },
   {
    "duration": 3,
    "start_time": "2023-01-13T04:24:25.381Z"
   },
   {
    "duration": 686,
    "start_time": "2023-01-13T04:24:25.385Z"
   },
   {
    "duration": 2,
    "start_time": "2023-01-13T04:24:26.073Z"
   },
   {
    "duration": 6,
    "start_time": "2023-01-13T04:24:26.076Z"
   },
   {
    "duration": 7,
    "start_time": "2023-01-13T04:24:26.084Z"
   },
   {
    "duration": 3,
    "start_time": "2023-01-13T04:24:26.093Z"
   },
   {
    "duration": 25,
    "start_time": "2023-01-13T04:24:26.098Z"
   },
   {
    "duration": 1369,
    "start_time": "2023-01-13T04:27:27.739Z"
   },
   {
    "duration": 665,
    "start_time": "2023-01-13T04:27:29.110Z"
   },
   {
    "duration": 3,
    "start_time": "2023-01-13T04:27:29.777Z"
   },
   {
    "duration": 8,
    "start_time": "2023-01-13T04:27:29.781Z"
   },
   {
    "duration": 9,
    "start_time": "2023-01-13T04:27:29.790Z"
   },
   {
    "duration": 3,
    "start_time": "2023-01-13T04:27:29.800Z"
   },
   {
    "duration": 9,
    "start_time": "2023-01-13T04:27:29.804Z"
   },
   {
    "duration": 31,
    "start_time": "2023-01-13T04:27:47.434Z"
   },
   {
    "duration": 107,
    "start_time": "2023-01-13T04:28:06.659Z"
   },
   {
    "duration": 9,
    "start_time": "2023-01-13T04:28:14.178Z"
   },
   {
    "duration": 1150,
    "start_time": "2023-01-13T04:28:45.899Z"
   },
   {
    "duration": 19,
    "start_time": "2023-01-13T04:29:24.459Z"
   },
   {
    "duration": 3,
    "start_time": "2023-01-13T04:33:04.090Z"
   },
   {
    "duration": 5,
    "start_time": "2023-01-13T04:37:02.096Z"
   },
   {
    "duration": 4,
    "start_time": "2023-01-13T04:38:12.820Z"
   },
   {
    "duration": 1386,
    "start_time": "2023-01-13T04:59:59.539Z"
   },
   {
    "duration": 3,
    "start_time": "2023-01-13T05:00:00.927Z"
   },
   {
    "duration": 63,
    "start_time": "2023-01-13T05:00:00.932Z"
   },
   {
    "duration": 748,
    "start_time": "2023-01-13T05:00:00.997Z"
   },
   {
    "duration": 3,
    "start_time": "2023-01-13T05:00:01.747Z"
   },
   {
    "duration": 131,
    "start_time": "2023-01-13T05:00:01.751Z"
   },
   {
    "duration": 218,
    "start_time": "2023-01-13T05:00:01.884Z"
   },
   {
    "duration": 323,
    "start_time": "2023-01-13T05:00:02.104Z"
   },
   {
    "duration": 96,
    "start_time": "2023-01-13T05:00:02.429Z"
   },
   {
    "duration": 18,
    "start_time": "2023-01-13T05:06:08.762Z"
   },
   {
    "duration": 14,
    "start_time": "2023-01-13T05:06:26.621Z"
   },
   {
    "duration": 1401,
    "start_time": "2023-01-13T05:06:49.659Z"
   },
   {
    "duration": 3,
    "start_time": "2023-01-13T05:06:51.063Z"
   },
   {
    "duration": 655,
    "start_time": "2023-01-13T05:06:51.067Z"
   },
   {
    "duration": 3,
    "start_time": "2023-01-13T05:06:51.724Z"
   },
   {
    "duration": 10,
    "start_time": "2023-01-13T05:06:51.729Z"
   },
   {
    "duration": 3,
    "start_time": "2023-01-13T05:06:51.741Z"
   },
   {
    "duration": 10,
    "start_time": "2023-01-13T05:06:51.746Z"
   },
   {
    "duration": 5,
    "start_time": "2023-01-13T05:06:51.757Z"
   },
   {
    "duration": 21,
    "start_time": "2023-01-13T05:06:51.763Z"
   },
   {
    "duration": 9,
    "start_time": "2023-01-13T05:07:12.381Z"
   },
   {
    "duration": 3,
    "start_time": "2023-01-13T05:08:49.748Z"
   },
   {
    "duration": 2,
    "start_time": "2023-01-13T05:09:51.681Z"
   },
   {
    "duration": 106,
    "start_time": "2023-01-13T05:14:04.677Z"
   },
   {
    "duration": 4,
    "start_time": "2023-01-13T05:14:09.561Z"
   },
   {
    "duration": 3,
    "start_time": "2023-01-13T05:14:19.782Z"
   },
   {
    "duration": 10,
    "start_time": "2023-01-13T05:14:20.581Z"
   },
   {
    "duration": 9,
    "start_time": "2023-01-13T05:14:39.689Z"
   },
   {
    "duration": 3,
    "start_time": "2023-01-13T05:15:55.041Z"
   },
   {
    "duration": 10,
    "start_time": "2023-01-13T05:15:55.989Z"
   },
   {
    "duration": 3,
    "start_time": "2023-01-13T05:17:12.945Z"
   },
   {
    "duration": 21,
    "start_time": "2023-01-13T05:17:13.254Z"
   },
   {
    "duration": 21,
    "start_time": "2023-01-13T05:17:33.745Z"
   },
   {
    "duration": 3,
    "start_time": "2023-01-13T05:17:35.945Z"
   },
   {
    "duration": 9,
    "start_time": "2023-01-13T05:17:36.344Z"
   },
   {
    "duration": 3,
    "start_time": "2023-01-13T05:17:54.512Z"
   },
   {
    "duration": 11,
    "start_time": "2023-01-13T05:18:04.904Z"
   },
   {
    "duration": 4,
    "start_time": "2023-01-13T05:18:46.985Z"
   },
   {
    "duration": 41,
    "start_time": "2023-01-13T05:18:46.991Z"
   },
   {
    "duration": 3,
    "start_time": "2023-01-13T05:19:35.262Z"
   },
   {
    "duration": 12,
    "start_time": "2023-01-13T05:19:35.862Z"
   },
   {
    "duration": 3,
    "start_time": "2023-01-13T05:19:42.390Z"
   },
   {
    "duration": 9,
    "start_time": "2023-01-13T05:19:43.950Z"
   },
   {
    "duration": 3,
    "start_time": "2023-01-13T05:19:54.494Z"
   },
   {
    "duration": 50,
    "start_time": "2023-01-13T05:19:54.499Z"
   },
   {
    "duration": 2,
    "start_time": "2023-01-13T05:20:04.342Z"
   },
   {
    "duration": 10,
    "start_time": "2023-01-13T05:20:06.822Z"
   },
   {
    "duration": 10,
    "start_time": "2023-01-13T05:20:20.030Z"
   },
   {
    "duration": 4,
    "start_time": "2023-01-13T05:23:04.022Z"
   },
   {
    "duration": 11,
    "start_time": "2023-01-13T05:23:05.589Z"
   },
   {
    "duration": 80,
    "start_time": "2023-01-13T05:23:11.982Z"
   },
   {
    "duration": 12,
    "start_time": "2023-01-13T05:23:14.341Z"
   },
   {
    "duration": 3,
    "start_time": "2023-01-13T05:23:33.942Z"
   },
   {
    "duration": 13,
    "start_time": "2023-01-13T05:23:34.501Z"
   },
   {
    "duration": 3,
    "start_time": "2023-01-13T05:23:52.342Z"
   },
   {
    "duration": 10,
    "start_time": "2023-01-13T05:23:52.572Z"
   },
   {
    "duration": 3,
    "start_time": "2023-01-13T05:27:29.662Z"
   },
   {
    "duration": 10,
    "start_time": "2023-01-13T05:27:30.493Z"
   },
   {
    "duration": 4,
    "start_time": "2023-01-13T05:27:48.425Z"
   },
   {
    "duration": 18,
    "start_time": "2023-01-13T05:27:49.261Z"
   },
   {
    "duration": 4,
    "start_time": "2023-01-13T05:29:56.181Z"
   },
   {
    "duration": 30,
    "start_time": "2023-01-13T05:29:58.221Z"
   },
   {
    "duration": 3,
    "start_time": "2023-01-13T05:30:08.101Z"
   },
   {
    "duration": 25,
    "start_time": "2023-01-13T05:30:09.021Z"
   },
   {
    "duration": 3,
    "start_time": "2023-01-13T05:30:17.861Z"
   },
   {
    "duration": 25,
    "start_time": "2023-01-13T05:30:18.822Z"
   },
   {
    "duration": 2,
    "start_time": "2023-01-13T05:30:40.950Z"
   },
   {
    "duration": 11,
    "start_time": "2023-01-13T05:30:41.189Z"
   },
   {
    "duration": 3,
    "start_time": "2023-01-13T05:31:32.741Z"
   },
   {
    "duration": 17,
    "start_time": "2023-01-13T05:31:33.181Z"
   },
   {
    "duration": 4,
    "start_time": "2023-01-13T05:34:09.749Z"
   },
   {
    "duration": 82,
    "start_time": "2023-01-13T05:34:09.754Z"
   },
   {
    "duration": 8,
    "start_time": "2023-01-13T05:35:40.822Z"
   },
   {
    "duration": 19,
    "start_time": "2023-01-13T05:35:41.301Z"
   },
   {
    "duration": 3,
    "start_time": "2023-01-13T05:35:57.339Z"
   },
   {
    "duration": 19,
    "start_time": "2023-01-13T05:35:57.541Z"
   },
   {
    "duration": 3,
    "start_time": "2023-01-13T05:36:25.292Z"
   },
   {
    "duration": 18,
    "start_time": "2023-01-13T05:36:25.501Z"
   },
   {
    "duration": 2,
    "start_time": "2023-01-13T05:37:37.158Z"
   },
   {
    "duration": 16,
    "start_time": "2023-01-13T05:37:37.893Z"
   },
   {
    "duration": 5,
    "start_time": "2023-01-13T05:37:53.412Z"
   },
   {
    "duration": 10,
    "start_time": "2023-01-13T05:37:54.861Z"
   },
   {
    "duration": 3,
    "start_time": "2023-01-13T05:38:05.253Z"
   },
   {
    "duration": 9,
    "start_time": "2023-01-13T05:38:06.310Z"
   },
   {
    "duration": 3,
    "start_time": "2023-01-13T05:38:14.981Z"
   },
   {
    "duration": 9,
    "start_time": "2023-01-13T05:38:15.212Z"
   },
   {
    "duration": 3,
    "start_time": "2023-01-13T05:38:27.860Z"
   },
   {
    "duration": 17,
    "start_time": "2023-01-13T05:38:31.861Z"
   },
   {
    "duration": 8,
    "start_time": "2023-01-13T05:39:02.224Z"
   },
   {
    "duration": 10,
    "start_time": "2023-01-13T05:39:03.142Z"
   },
   {
    "duration": 2,
    "start_time": "2023-01-13T05:39:57.213Z"
   },
   {
    "duration": 11,
    "start_time": "2023-01-13T05:39:57.493Z"
   },
   {
    "duration": 3,
    "start_time": "2023-01-13T05:40:03.902Z"
   },
   {
    "duration": 12,
    "start_time": "2023-01-13T05:40:04.141Z"
   },
   {
    "duration": 9,
    "start_time": "2023-01-13T05:40:43.461Z"
   },
   {
    "duration": 9,
    "start_time": "2023-01-13T05:40:48.173Z"
   },
   {
    "duration": 11,
    "start_time": "2023-01-13T05:41:03.892Z"
   },
   {
    "duration": 9,
    "start_time": "2023-01-13T05:41:09.892Z"
   },
   {
    "duration": 9,
    "start_time": "2023-01-13T05:41:23.372Z"
   },
   {
    "duration": 20,
    "start_time": "2023-01-13T05:42:02.709Z"
   },
   {
    "duration": 10,
    "start_time": "2023-01-13T05:42:30.341Z"
   },
   {
    "duration": 6,
    "start_time": "2023-01-13T05:42:41.261Z"
   },
   {
    "duration": 11,
    "start_time": "2023-01-13T05:42:41.412Z"
   },
   {
    "duration": 1421,
    "start_time": "2023-01-13T05:43:23.605Z"
   },
   {
    "duration": 3,
    "start_time": "2023-01-13T05:43:25.028Z"
   },
   {
    "duration": 731,
    "start_time": "2023-01-13T05:43:25.033Z"
   },
   {
    "duration": 4,
    "start_time": "2023-01-13T05:43:25.767Z"
   },
   {
    "duration": 10,
    "start_time": "2023-01-13T05:43:25.773Z"
   },
   {
    "duration": 6,
    "start_time": "2023-01-13T05:43:25.784Z"
   },
   {
    "duration": 13,
    "start_time": "2023-01-13T05:43:25.792Z"
   },
   {
    "duration": 25,
    "start_time": "2023-01-13T05:43:25.807Z"
   },
   {
    "duration": 30,
    "start_time": "2023-01-13T05:43:25.834Z"
   },
   {
    "duration": 3,
    "start_time": "2023-01-13T05:43:25.869Z"
   },
   {
    "duration": 34,
    "start_time": "2023-01-13T05:43:25.874Z"
   },
   {
    "duration": 12,
    "start_time": "2023-01-13T05:43:25.910Z"
   },
   {
    "duration": 16,
    "start_time": "2023-01-13T05:43:25.924Z"
   },
   {
    "duration": 78,
    "start_time": "2023-01-13T05:44:15.580Z"
   },
   {
    "duration": 12,
    "start_time": "2023-01-13T05:48:04.052Z"
   },
   {
    "duration": 113,
    "start_time": "2023-01-13T05:48:22.838Z"
   },
   {
    "duration": 8,
    "start_time": "2023-01-13T05:48:42.581Z"
   },
   {
    "duration": 3,
    "start_time": "2023-01-13T05:50:18.149Z"
   },
   {
    "duration": 3,
    "start_time": "2023-01-13T05:51:41.381Z"
   },
   {
    "duration": 27,
    "start_time": "2023-01-13T06:06:25.782Z"
   },
   {
    "duration": 1417,
    "start_time": "2023-01-13T06:06:32.705Z"
   },
   {
    "duration": 3,
    "start_time": "2023-01-13T06:06:34.124Z"
   },
   {
    "duration": 701,
    "start_time": "2023-01-13T06:06:34.128Z"
   },
   {
    "duration": 3,
    "start_time": "2023-01-13T06:06:34.831Z"
   },
   {
    "duration": 11,
    "start_time": "2023-01-13T06:06:34.836Z"
   },
   {
    "duration": 6,
    "start_time": "2023-01-13T06:06:34.849Z"
   },
   {
    "duration": 10,
    "start_time": "2023-01-13T06:06:34.856Z"
   },
   {
    "duration": 6,
    "start_time": "2023-01-13T06:06:34.867Z"
   },
   {
    "duration": 10,
    "start_time": "2023-01-13T06:06:34.875Z"
   },
   {
    "duration": 18,
    "start_time": "2023-01-13T06:06:34.887Z"
   },
   {
    "duration": 18,
    "start_time": "2023-01-13T06:06:34.906Z"
   },
   {
    "duration": 9,
    "start_time": "2023-01-13T06:06:34.926Z"
   },
   {
    "duration": 140,
    "start_time": "2023-01-13T06:06:34.936Z"
   },
   {
    "duration": 20,
    "start_time": "2023-01-13T06:41:24.677Z"
   },
   {
    "duration": 16,
    "start_time": "2023-01-13T06:41:59.567Z"
   },
   {
    "duration": 19,
    "start_time": "2023-01-13T06:42:24.736Z"
   },
   {
    "duration": 11,
    "start_time": "2023-01-13T06:44:15.866Z"
   },
   {
    "duration": 23,
    "start_time": "2023-01-13T06:44:45.219Z"
   },
   {
    "duration": 9,
    "start_time": "2023-01-13T06:44:48.959Z"
   },
   {
    "duration": 1390,
    "start_time": "2023-01-13T06:45:20.448Z"
   },
   {
    "duration": 3,
    "start_time": "2023-01-13T06:45:21.840Z"
   },
   {
    "duration": 749,
    "start_time": "2023-01-13T06:45:21.845Z"
   },
   {
    "duration": 3,
    "start_time": "2023-01-13T06:45:22.596Z"
   },
   {
    "duration": 37,
    "start_time": "2023-01-13T06:45:22.601Z"
   },
   {
    "duration": 28,
    "start_time": "2023-01-13T06:45:22.640Z"
   },
   {
    "duration": 37,
    "start_time": "2023-01-13T06:45:22.669Z"
   },
   {
    "duration": 40,
    "start_time": "2023-01-13T06:45:22.708Z"
   },
   {
    "duration": 31,
    "start_time": "2023-01-13T06:45:22.749Z"
   },
   {
    "duration": 54,
    "start_time": "2023-01-13T06:45:22.782Z"
   },
   {
    "duration": 35,
    "start_time": "2023-01-13T06:45:22.838Z"
   },
   {
    "duration": 13,
    "start_time": "2023-01-13T06:45:22.874Z"
   },
   {
    "duration": 61,
    "start_time": "2023-01-13T06:45:22.889Z"
   },
   {
    "duration": 19,
    "start_time": "2023-01-13T06:45:22.953Z"
   },
   {
    "duration": 10,
    "start_time": "2023-01-13T06:47:52.483Z"
   },
   {
    "duration": 15,
    "start_time": "2023-01-13T06:47:52.495Z"
   },
   {
    "duration": 18,
    "start_time": "2023-01-13T06:47:52.512Z"
   },
   {
    "duration": 9,
    "start_time": "2023-01-13T06:48:05.862Z"
   },
   {
    "duration": 7,
    "start_time": "2023-01-13T06:48:06.012Z"
   },
   {
    "duration": 9,
    "start_time": "2023-01-13T06:48:06.152Z"
   },
   {
    "duration": 9,
    "start_time": "2023-01-13T06:48:21.694Z"
   },
   {
    "duration": 8,
    "start_time": "2023-01-13T06:48:21.706Z"
   },
   {
    "duration": 14,
    "start_time": "2023-01-13T06:48:21.715Z"
   },
   {
    "duration": 9,
    "start_time": "2023-01-13T06:48:37.950Z"
   },
   {
    "duration": 8,
    "start_time": "2023-01-13T06:48:39.237Z"
   },
   {
    "duration": 20,
    "start_time": "2023-01-13T06:48:39.247Z"
   },
   {
    "duration": 210,
    "start_time": "2023-01-13T06:50:53.205Z"
   },
   {
    "duration": 13,
    "start_time": "2023-01-13T06:51:03.885Z"
   },
   {
    "duration": 9,
    "start_time": "2023-01-13T06:51:29.705Z"
   },
   {
    "duration": 14,
    "start_time": "2023-01-13T06:55:09.937Z"
   },
   {
    "duration": 9550,
    "start_time": "2023-01-13T07:18:02.878Z"
   },
   {
    "duration": 375,
    "start_time": "2023-01-13T07:37:30.602Z"
   },
   {
    "duration": 366,
    "start_time": "2023-01-13T07:39:13.402Z"
   },
   {
    "duration": 333,
    "start_time": "2023-01-13T07:39:40.166Z"
   },
   {
    "duration": 1433,
    "start_time": "2023-01-13T07:39:50.620Z"
   },
   {
    "duration": 3,
    "start_time": "2023-01-13T07:39:52.055Z"
   },
   {
    "duration": 719,
    "start_time": "2023-01-13T07:39:52.059Z"
   },
   {
    "duration": 3,
    "start_time": "2023-01-13T07:39:52.780Z"
   },
   {
    "duration": 18,
    "start_time": "2023-01-13T07:39:52.786Z"
   },
   {
    "duration": 11,
    "start_time": "2023-01-13T07:39:52.807Z"
   },
   {
    "duration": 28,
    "start_time": "2023-01-13T07:39:52.819Z"
   },
   {
    "duration": 11,
    "start_time": "2023-01-13T07:39:52.849Z"
   },
   {
    "duration": 8,
    "start_time": "2023-01-13T07:39:52.862Z"
   },
   {
    "duration": 21,
    "start_time": "2023-01-13T07:39:52.871Z"
   },
   {
    "duration": 9,
    "start_time": "2023-01-13T07:39:52.893Z"
   },
   {
    "duration": 12,
    "start_time": "2023-01-13T07:39:52.904Z"
   },
   {
    "duration": 28,
    "start_time": "2023-01-13T07:39:52.918Z"
   },
   {
    "duration": 20,
    "start_time": "2023-01-13T07:39:52.948Z"
   },
   {
    "duration": 8,
    "start_time": "2023-01-13T07:39:52.970Z"
   },
   {
    "duration": 10,
    "start_time": "2023-01-13T07:39:52.980Z"
   },
   {
    "duration": 31,
    "start_time": "2023-01-13T07:39:52.991Z"
   },
   {
    "duration": 9804,
    "start_time": "2023-01-13T07:39:53.024Z"
   },
   {
    "duration": 348,
    "start_time": "2023-01-13T07:40:02.830Z"
   },
   {
    "duration": 341,
    "start_time": "2023-01-13T07:41:18.755Z"
   },
   {
    "duration": 399,
    "start_time": "2023-01-13T07:42:49.775Z"
   },
   {
    "duration": 373,
    "start_time": "2023-01-13T07:43:16.414Z"
   },
   {
    "duration": 371,
    "start_time": "2023-01-13T07:43:29.119Z"
   },
   {
    "duration": 345,
    "start_time": "2023-01-13T07:44:03.455Z"
   },
   {
    "duration": 383,
    "start_time": "2023-01-13T07:45:19.022Z"
   },
   {
    "duration": 380,
    "start_time": "2023-01-13T07:45:47.015Z"
   },
   {
    "duration": 372,
    "start_time": "2023-01-13T07:47:00.136Z"
   },
   {
    "duration": 392,
    "start_time": "2023-01-13T07:58:59.368Z"
   },
   {
    "duration": 1429,
    "start_time": "2023-01-13T08:01:08.926Z"
   },
   {
    "duration": 1170,
    "start_time": "2023-01-13T08:05:15.639Z"
   },
   {
    "duration": 1520,
    "start_time": "2023-01-13T08:05:34.039Z"
   },
   {
    "duration": 1122,
    "start_time": "2023-01-13T08:05:58.079Z"
   },
   {
    "duration": 8681,
    "start_time": "2023-01-13T08:07:01.378Z"
   },
   {
    "duration": 9731,
    "start_time": "2023-01-13T08:07:37.758Z"
   },
   {
    "duration": 5683,
    "start_time": "2023-01-13T08:08:40.468Z"
   },
   {
    "duration": 9621,
    "start_time": "2023-01-13T08:12:08.110Z"
   },
   {
    "duration": 6,
    "start_time": "2023-01-13T08:17:18.747Z"
   },
   {
    "duration": 4,
    "start_time": "2023-01-13T08:17:29.147Z"
   },
   {
    "duration": 3,
    "start_time": "2023-01-13T08:34:13.098Z"
   },
   {
    "duration": 6,
    "start_time": "2023-01-13T08:42:45.086Z"
   },
   {
    "duration": 28,
    "start_time": "2023-01-13T08:45:53.316Z"
   },
   {
    "duration": 41,
    "start_time": "2023-01-13T08:46:47.606Z"
   },
   {
    "duration": 4,
    "start_time": "2023-01-13T09:00:24.714Z"
   },
   {
    "duration": 26,
    "start_time": "2023-01-13T09:00:27.833Z"
   },
   {
    "duration": 3,
    "start_time": "2023-01-13T09:06:18.766Z"
   },
   {
    "duration": 5,
    "start_time": "2023-01-13T09:06:26.506Z"
   },
   {
    "duration": 57,
    "start_time": "2023-01-13T09:22:31.816Z"
   },
   {
    "duration": 13,
    "start_time": "2023-01-13T09:37:08.006Z"
   },
   {
    "duration": 20,
    "start_time": "2023-01-13T09:37:10.408Z"
   },
   {
    "duration": 1642,
    "start_time": "2023-01-13T09:38:00.241Z"
   },
   {
    "duration": 2,
    "start_time": "2023-01-13T09:38:01.887Z"
   },
   {
    "duration": 862,
    "start_time": "2023-01-13T09:38:01.891Z"
   },
   {
    "duration": 3,
    "start_time": "2023-01-13T09:38:02.756Z"
   },
   {
    "duration": 43,
    "start_time": "2023-01-13T09:38:02.762Z"
   },
   {
    "duration": 63,
    "start_time": "2023-01-13T09:38:02.807Z"
   },
   {
    "duration": 51,
    "start_time": "2023-01-13T09:38:02.872Z"
   },
   {
    "duration": 42,
    "start_time": "2023-01-13T09:38:02.927Z"
   },
   {
    "duration": 61,
    "start_time": "2023-01-13T09:38:02.971Z"
   },
   {
    "duration": 65,
    "start_time": "2023-01-13T09:38:03.035Z"
   },
   {
    "duration": 55,
    "start_time": "2023-01-13T09:38:03.102Z"
   },
   {
    "duration": 74,
    "start_time": "2023-01-13T09:38:03.159Z"
   },
   {
    "duration": 61,
    "start_time": "2023-01-13T09:38:03.235Z"
   },
   {
    "duration": 21,
    "start_time": "2023-01-13T09:38:03.299Z"
   },
   {
    "duration": 37,
    "start_time": "2023-01-13T09:38:03.323Z"
   },
   {
    "duration": 8,
    "start_time": "2023-01-13T09:38:03.363Z"
   },
   {
    "duration": 11,
    "start_time": "2023-01-13T09:38:03.373Z"
   },
   {
    "duration": 10104,
    "start_time": "2023-01-13T09:38:03.386Z"
   },
   {
    "duration": 439,
    "start_time": "2023-01-13T09:38:13.491Z"
   },
   {
    "duration": 1371,
    "start_time": "2023-01-13T09:38:13.932Z"
   },
   {
    "duration": 4,
    "start_time": "2023-01-13T09:38:15.305Z"
   },
   {
    "duration": 220,
    "start_time": "2023-01-13T09:38:15.323Z"
   },
   {
    "duration": 18,
    "start_time": "2023-01-13T09:38:15.545Z"
   },
   {
    "duration": 5,
    "start_time": "2023-01-13T09:40:35.652Z"
   },
   {
    "duration": 16,
    "start_time": "2023-01-13T09:41:13.486Z"
   },
   {
    "duration": 3,
    "start_time": "2023-01-13T09:45:03.452Z"
   },
   {
    "duration": 16,
    "start_time": "2023-01-13T09:53:13.495Z"
   },
   {
    "duration": 13,
    "start_time": "2023-01-13T09:53:24.775Z"
   },
   {
    "duration": 143,
    "start_time": "2023-01-13T09:53:35.746Z"
   },
   {
    "duration": 46,
    "start_time": "2023-01-13T09:53:44.156Z"
   },
   {
    "duration": 3,
    "start_time": "2023-01-13T09:55:26.016Z"
   },
   {
    "duration": 23,
    "start_time": "2023-01-13T09:59:23.856Z"
   },
   {
    "duration": 32,
    "start_time": "2023-01-13T10:00:39.515Z"
   },
   {
    "duration": 10,
    "start_time": "2023-01-13T10:01:02.655Z"
   },
   {
    "duration": 7,
    "start_time": "2023-01-13T10:01:11.155Z"
   },
   {
    "duration": 5,
    "start_time": "2023-01-13T10:01:53.351Z"
   },
   {
    "duration": 5,
    "start_time": "2023-01-13T10:02:15.575Z"
   },
   {
    "duration": 1463,
    "start_time": "2023-01-13T10:03:11.315Z"
   },
   {
    "duration": 5,
    "start_time": "2023-01-13T10:03:46.863Z"
   },
   {
    "duration": 6,
    "start_time": "2023-01-13T10:04:17.576Z"
   },
   {
    "duration": 5,
    "start_time": "2023-01-13T10:05:24.455Z"
   },
   {
    "duration": 17,
    "start_time": "2023-01-13T10:05:43.156Z"
   },
   {
    "duration": 16,
    "start_time": "2023-01-13T10:06:25.551Z"
   },
   {
    "duration": 5,
    "start_time": "2023-01-13T10:06:28.911Z"
   },
   {
    "duration": 56,
    "start_time": "2023-01-13T10:06:30.573Z"
   },
   {
    "duration": 1624,
    "start_time": "2023-01-13T10:42:50.279Z"
   },
   {
    "duration": 5,
    "start_time": "2023-01-13T10:42:51.906Z"
   },
   {
    "duration": 941,
    "start_time": "2023-01-13T10:42:51.912Z"
   },
   {
    "duration": 4,
    "start_time": "2023-01-13T10:42:52.856Z"
   },
   {
    "duration": 10,
    "start_time": "2023-01-13T10:42:52.862Z"
   },
   {
    "duration": 4,
    "start_time": "2023-01-13T10:42:52.874Z"
   },
   {
    "duration": 12,
    "start_time": "2023-01-13T10:42:52.879Z"
   },
   {
    "duration": 10,
    "start_time": "2023-01-13T10:42:52.893Z"
   },
   {
    "duration": 9,
    "start_time": "2023-01-13T10:42:52.904Z"
   },
   {
    "duration": 17,
    "start_time": "2023-01-13T10:42:52.928Z"
   },
   {
    "duration": 22,
    "start_time": "2023-01-13T10:42:52.947Z"
   },
   {
    "duration": 11,
    "start_time": "2023-01-13T10:42:52.971Z"
   },
   {
    "duration": 31,
    "start_time": "2023-01-13T10:42:52.983Z"
   },
   {
    "duration": 34,
    "start_time": "2023-01-13T10:42:53.021Z"
   },
   {
    "duration": 10,
    "start_time": "2023-01-13T10:42:53.057Z"
   },
   {
    "duration": 6,
    "start_time": "2023-01-13T10:42:53.069Z"
   },
   {
    "duration": 16,
    "start_time": "2023-01-13T10:42:53.077Z"
   },
   {
    "duration": 10497,
    "start_time": "2023-01-13T10:42:53.095Z"
   },
   {
    "duration": 457,
    "start_time": "2023-01-13T10:43:03.594Z"
   },
   {
    "duration": 1361,
    "start_time": "2023-01-13T10:43:04.057Z"
   },
   {
    "duration": 6,
    "start_time": "2023-01-13T10:43:05.422Z"
   },
   {
    "duration": 29,
    "start_time": "2023-01-13T10:43:05.437Z"
   },
   {
    "duration": 9,
    "start_time": "2023-01-13T10:43:05.468Z"
   },
   {
    "duration": 7,
    "start_time": "2023-01-13T10:43:05.478Z"
   },
   {
    "duration": 7,
    "start_time": "2023-01-13T10:43:05.486Z"
   },
   {
    "duration": 18,
    "start_time": "2023-01-13T10:43:05.494Z"
   },
   {
    "duration": 41,
    "start_time": "2023-01-13T10:43:05.514Z"
   },
   {
    "duration": 22,
    "start_time": "2023-01-13T10:43:05.559Z"
   },
   {
    "duration": 14,
    "start_time": "2023-01-13T11:14:45.519Z"
   },
   {
    "duration": 5,
    "start_time": "2023-01-13T11:14:49.665Z"
   },
   {
    "duration": 5,
    "start_time": "2023-01-13T11:15:05.974Z"
   },
   {
    "duration": 5,
    "start_time": "2023-01-13T11:15:18.661Z"
   },
   {
    "duration": 5,
    "start_time": "2023-01-13T11:15:50.655Z"
   },
   {
    "duration": 4,
    "start_time": "2023-01-13T11:16:01.903Z"
   },
   {
    "duration": 5,
    "start_time": "2023-01-13T11:16:42.648Z"
   },
   {
    "duration": 5,
    "start_time": "2023-01-13T11:16:46.550Z"
   },
   {
    "duration": 129,
    "start_time": "2023-01-13T11:19:02.099Z"
   },
   {
    "duration": 12,
    "start_time": "2023-01-13T11:19:19.985Z"
   },
   {
    "duration": 4,
    "start_time": "2023-01-13T11:19:49.567Z"
   },
   {
    "duration": 26,
    "start_time": "2023-01-13T11:19:52.927Z"
   },
   {
    "duration": 4,
    "start_time": "2023-01-13T11:21:46.705Z"
   },
   {
    "duration": 1592,
    "start_time": "2023-01-13T11:21:47.262Z"
   },
   {
    "duration": 4,
    "start_time": "2023-01-13T11:24:13.609Z"
   },
   {
    "duration": 10,
    "start_time": "2023-01-13T11:24:18.827Z"
   },
   {
    "duration": 24,
    "start_time": "2023-01-13T11:29:19.838Z"
   },
   {
    "duration": 1496,
    "start_time": "2023-01-13T11:29:32.948Z"
   },
   {
    "duration": 3,
    "start_time": "2023-01-13T11:30:41.304Z"
   },
   {
    "duration": 53389,
    "start_time": "2023-01-13T11:30:56.257Z"
   },
   {
    "duration": 22,
    "start_time": "2023-01-13T11:36:44.413Z"
   },
   {
    "duration": 230525,
    "start_time": "2023-01-13T11:37:05.300Z"
   },
   {
    "duration": 743590,
    "start_time": "2023-01-13T11:47:54.002Z"
   },
   {
    "duration": 9345,
    "start_time": "2023-01-13T12:00:17.595Z"
   },
   {
    "duration": 10,
    "start_time": "2023-01-13T12:06:22.247Z"
   },
   {
    "duration": 1456,
    "start_time": "2023-01-13T12:07:29.152Z"
   },
   {
    "duration": 4,
    "start_time": "2023-01-13T12:07:37.200Z"
   },
   {
    "duration": 21,
    "start_time": "2023-01-13T12:07:38.053Z"
   },
   {
    "duration": 12,
    "start_time": "2023-01-13T12:09:55.052Z"
   },
   {
    "duration": 5393,
    "start_time": "2023-01-13T12:10:18.451Z"
   },
   {
    "duration": 4,
    "start_time": "2023-01-13T12:11:48.151Z"
   },
   {
    "duration": 1498,
    "start_time": "2023-01-13T12:11:48.768Z"
   },
   {
    "duration": 4,
    "start_time": "2023-01-13T12:22:23.954Z"
   },
   {
    "duration": 12,
    "start_time": "2023-01-13T12:22:27.280Z"
   },
   {
    "duration": 1638,
    "start_time": "2023-01-13T12:23:23.661Z"
   },
   {
    "duration": 8,
    "start_time": "2023-01-13T12:23:35.718Z"
   },
   {
    "duration": 7,
    "start_time": "2023-01-13T12:23:37.596Z"
   },
   {
    "duration": 13,
    "start_time": "2023-01-13T12:23:57.110Z"
   },
   {
    "duration": 4,
    "start_time": "2023-01-13T12:24:51.809Z"
   },
   {
    "duration": 41,
    "start_time": "2023-01-13T12:24:53.712Z"
   },
   {
    "duration": 19,
    "start_time": "2023-01-13T12:25:33.820Z"
   },
   {
    "duration": 29,
    "start_time": "2023-01-13T12:25:34.283Z"
   },
   {
    "duration": 8,
    "start_time": "2023-01-13T12:26:03.229Z"
   },
   {
    "duration": 23,
    "start_time": "2023-01-13T12:26:03.756Z"
   },
   {
    "duration": 8,
    "start_time": "2023-01-13T12:26:10.671Z"
   },
   {
    "duration": 1598,
    "start_time": "2023-01-13T12:27:54.034Z"
   },
   {
    "duration": 6,
    "start_time": "2023-01-13T12:27:55.634Z"
   },
   {
    "duration": 841,
    "start_time": "2023-01-13T12:27:55.642Z"
   },
   {
    "duration": 4,
    "start_time": "2023-01-13T12:27:56.484Z"
   },
   {
    "duration": 14,
    "start_time": "2023-01-13T12:27:56.490Z"
   },
   {
    "duration": 17,
    "start_time": "2023-01-13T12:27:56.506Z"
   },
   {
    "duration": 32,
    "start_time": "2023-01-13T12:27:56.527Z"
   },
   {
    "duration": 4,
    "start_time": "2023-01-13T12:27:56.561Z"
   },
   {
    "duration": 5,
    "start_time": "2023-01-13T12:27:56.567Z"
   },
   {
    "duration": 16,
    "start_time": "2023-01-13T12:27:56.573Z"
   },
   {
    "duration": 8,
    "start_time": "2023-01-13T12:27:56.591Z"
   },
   {
    "duration": 18,
    "start_time": "2023-01-13T12:27:56.601Z"
   },
   {
    "duration": 35,
    "start_time": "2023-01-13T12:27:56.622Z"
   },
   {
    "duration": 41,
    "start_time": "2023-01-13T12:27:56.660Z"
   },
   {
    "duration": 8,
    "start_time": "2023-01-13T12:27:56.703Z"
   },
   {
    "duration": 25,
    "start_time": "2023-01-13T12:27:56.713Z"
   },
   {
    "duration": 26,
    "start_time": "2023-01-13T12:27:56.743Z"
   },
   {
    "duration": 10424,
    "start_time": "2023-01-13T12:27:56.771Z"
   },
   {
    "duration": 445,
    "start_time": "2023-01-13T12:28:07.196Z"
   },
   {
    "duration": 1349,
    "start_time": "2023-01-13T12:28:07.644Z"
   },
   {
    "duration": 3,
    "start_time": "2023-01-13T12:28:08.995Z"
   },
   {
    "duration": 263,
    "start_time": "2023-01-13T12:28:09.000Z"
   },
   {
    "duration": 5,
    "start_time": "2023-01-13T12:28:09.265Z"
   },
   {
    "duration": 20,
    "start_time": "2023-01-13T12:28:09.272Z"
   },
   {
    "duration": 11,
    "start_time": "2023-01-13T12:28:09.294Z"
   },
   {
    "duration": 33,
    "start_time": "2023-01-13T12:28:09.308Z"
   },
   {
    "duration": 75,
    "start_time": "2023-01-13T12:28:09.343Z"
   },
   {
    "duration": 70,
    "start_time": "2023-01-13T12:28:09.421Z"
   },
   {
    "duration": 52217,
    "start_time": "2023-01-13T12:28:09.492Z"
   },
   {
    "duration": 743185,
    "start_time": "2023-01-13T12:29:01.710Z"
   },
   {
    "duration": 7257,
    "start_time": "2023-01-13T12:41:24.897Z"
   },
   {
    "duration": 5,
    "start_time": "2023-01-13T12:41:32.164Z"
   },
   {
    "duration": 41,
    "start_time": "2023-01-13T12:41:32.227Z"
   },
   {
    "duration": 21,
    "start_time": "2023-01-13T12:41:32.270Z"
   },
   {
    "duration": 175,
    "start_time": "2023-01-13T12:41:32.292Z"
   },
   {
    "duration": 0,
    "start_time": "2023-01-13T12:41:32.468Z"
   },
   {
    "duration": 40,
    "start_time": "2023-01-13T12:57:35.987Z"
   },
   {
    "duration": 3,
    "start_time": "2023-01-13T13:00:37.660Z"
   },
   {
    "duration": 709,
    "start_time": "2023-01-13T13:00:40.506Z"
   },
   {
    "duration": 110,
    "start_time": "2023-01-13T13:01:49.577Z"
   },
   {
    "duration": 6,
    "start_time": "2023-01-13T13:01:59.954Z"
   },
   {
    "duration": 876,
    "start_time": "2023-01-13T13:02:03.391Z"
   },
   {
    "duration": 4,
    "start_time": "2023-01-13T13:04:18.815Z"
   },
   {
    "duration": 21,
    "start_time": "2023-01-13T13:04:19.772Z"
   },
   {
    "duration": 4,
    "start_time": "2023-01-13T13:05:08.192Z"
   },
   {
    "duration": 31,
    "start_time": "2023-01-13T13:05:08.415Z"
   },
   {
    "duration": 33,
    "start_time": "2023-01-13T13:06:37.151Z"
   },
   {
    "duration": 64,
    "start_time": "2023-01-13T13:07:24.498Z"
   },
   {
    "duration": 58,
    "start_time": "2023-01-13T13:07:36.689Z"
   },
   {
    "duration": 36,
    "start_time": "2023-01-13T13:08:36.674Z"
   },
   {
    "duration": 1636,
    "start_time": "2023-01-13T13:08:50.851Z"
   },
   {
    "duration": 3,
    "start_time": "2023-01-13T13:08:52.489Z"
   },
   {
    "duration": 856,
    "start_time": "2023-01-13T13:08:52.494Z"
   },
   {
    "duration": 4,
    "start_time": "2023-01-13T13:08:53.354Z"
   },
   {
    "duration": 10,
    "start_time": "2023-01-13T13:08:53.361Z"
   },
   {
    "duration": 8,
    "start_time": "2023-01-13T13:08:53.372Z"
   },
   {
    "duration": 13,
    "start_time": "2023-01-13T13:08:53.381Z"
   },
   {
    "duration": 7,
    "start_time": "2023-01-13T13:08:53.395Z"
   },
   {
    "duration": 29,
    "start_time": "2023-01-13T13:08:53.403Z"
   },
   {
    "duration": 17,
    "start_time": "2023-01-13T13:08:53.441Z"
   },
   {
    "duration": 11,
    "start_time": "2023-01-13T13:08:53.461Z"
   },
   {
    "duration": 13,
    "start_time": "2023-01-13T13:08:53.474Z"
   },
   {
    "duration": 50,
    "start_time": "2023-01-13T13:08:53.489Z"
   },
   {
    "duration": 24,
    "start_time": "2023-01-13T13:08:53.545Z"
   },
   {
    "duration": 10,
    "start_time": "2023-01-13T13:08:53.571Z"
   },
   {
    "duration": 6,
    "start_time": "2023-01-13T13:08:53.583Z"
   },
   {
    "duration": 24,
    "start_time": "2023-01-13T13:08:53.591Z"
   },
   {
    "duration": 10430,
    "start_time": "2023-01-13T13:08:53.617Z"
   },
   {
    "duration": 508,
    "start_time": "2023-01-13T13:09:04.065Z"
   },
   {
    "duration": 1418,
    "start_time": "2023-01-13T13:09:04.575Z"
   },
   {
    "duration": 4,
    "start_time": "2023-01-13T13:09:05.995Z"
   },
   {
    "duration": 287,
    "start_time": "2023-01-13T13:09:06.001Z"
   },
   {
    "duration": 1582,
    "start_time": "2023-01-13T13:09:06.290Z"
   },
   {
    "duration": 0,
    "start_time": "2023-01-13T13:09:07.874Z"
   },
   {
    "duration": 0,
    "start_time": "2023-01-13T13:09:07.876Z"
   },
   {
    "duration": 0,
    "start_time": "2023-01-13T13:09:07.876Z"
   },
   {
    "duration": 0,
    "start_time": "2023-01-13T13:09:07.878Z"
   },
   {
    "duration": 0,
    "start_time": "2023-01-13T13:09:07.879Z"
   },
   {
    "duration": 0,
    "start_time": "2023-01-13T13:09:07.880Z"
   },
   {
    "duration": 0,
    "start_time": "2023-01-13T13:09:07.881Z"
   },
   {
    "duration": 0,
    "start_time": "2023-01-13T13:09:07.883Z"
   },
   {
    "duration": 0,
    "start_time": "2023-01-13T13:09:07.884Z"
   },
   {
    "duration": 0,
    "start_time": "2023-01-13T13:09:07.885Z"
   },
   {
    "duration": 0,
    "start_time": "2023-01-13T13:09:07.885Z"
   },
   {
    "duration": 0,
    "start_time": "2023-01-13T13:09:07.886Z"
   },
   {
    "duration": 0,
    "start_time": "2023-01-13T13:09:07.888Z"
   },
   {
    "duration": 3,
    "start_time": "2023-01-13T13:10:39.148Z"
   },
   {
    "duration": 1645,
    "start_time": "2023-01-13T13:10:46.544Z"
   },
   {
    "duration": 3,
    "start_time": "2023-01-13T13:10:48.191Z"
   },
   {
    "duration": 844,
    "start_time": "2023-01-13T13:10:48.195Z"
   },
   {
    "duration": 10,
    "start_time": "2023-01-13T13:10:49.048Z"
   },
   {
    "duration": 17,
    "start_time": "2023-01-13T13:10:49.060Z"
   },
   {
    "duration": 5,
    "start_time": "2023-01-13T13:10:49.079Z"
   },
   {
    "duration": 31,
    "start_time": "2023-01-13T13:10:49.086Z"
   },
   {
    "duration": 42,
    "start_time": "2023-01-13T13:10:49.120Z"
   },
   {
    "duration": 17,
    "start_time": "2023-01-13T13:10:49.164Z"
   },
   {
    "duration": 26,
    "start_time": "2023-01-13T13:10:49.185Z"
   },
   {
    "duration": 50,
    "start_time": "2023-01-13T13:10:49.213Z"
   },
   {
    "duration": 14,
    "start_time": "2023-01-13T13:10:49.266Z"
   },
   {
    "duration": 51,
    "start_time": "2023-01-13T13:10:49.283Z"
   },
   {
    "duration": 37,
    "start_time": "2023-01-13T13:10:49.337Z"
   },
   {
    "duration": 14,
    "start_time": "2023-01-13T13:10:49.377Z"
   },
   {
    "duration": 10,
    "start_time": "2023-01-13T13:10:49.394Z"
   },
   {
    "duration": 36,
    "start_time": "2023-01-13T13:10:49.407Z"
   },
   {
    "duration": 10153,
    "start_time": "2023-01-13T13:10:49.452Z"
   },
   {
    "duration": 419,
    "start_time": "2023-01-13T13:10:59.607Z"
   },
   {
    "duration": 1327,
    "start_time": "2023-01-13T13:11:00.037Z"
   },
   {
    "duration": 4,
    "start_time": "2023-01-13T13:11:01.366Z"
   },
   {
    "duration": 288,
    "start_time": "2023-01-13T13:11:01.372Z"
   },
   {
    "duration": 3,
    "start_time": "2023-01-13T13:11:01.663Z"
   },
   {
    "duration": 32,
    "start_time": "2023-01-13T13:11:01.668Z"
   },
   {
    "duration": 45,
    "start_time": "2023-01-13T13:11:01.702Z"
   },
   {
    "duration": 1706,
    "start_time": "2023-01-13T13:11:01.755Z"
   },
   {
    "duration": 0,
    "start_time": "2023-01-13T13:11:03.464Z"
   },
   {
    "duration": 0,
    "start_time": "2023-01-13T13:11:03.466Z"
   },
   {
    "duration": 0,
    "start_time": "2023-01-13T13:11:03.467Z"
   },
   {
    "duration": 0,
    "start_time": "2023-01-13T13:11:03.469Z"
   },
   {
    "duration": 0,
    "start_time": "2023-01-13T13:11:03.471Z"
   },
   {
    "duration": 0,
    "start_time": "2023-01-13T13:11:03.472Z"
   },
   {
    "duration": 0,
    "start_time": "2023-01-13T13:11:03.473Z"
   },
   {
    "duration": 0,
    "start_time": "2023-01-13T13:11:03.475Z"
   },
   {
    "duration": 0,
    "start_time": "2023-01-13T13:11:03.477Z"
   },
   {
    "duration": 0,
    "start_time": "2023-01-13T13:11:03.478Z"
   },
   {
    "duration": 18,
    "start_time": "2023-01-13T13:15:02.965Z"
   },
   {
    "duration": 4,
    "start_time": "2023-01-13T13:15:03.350Z"
   },
   {
    "duration": 5,
    "start_time": "2023-01-13T13:15:30.899Z"
   },
   {
    "duration": 1455,
    "start_time": "2023-01-13T13:15:31.851Z"
   },
   {
    "duration": 1532,
    "start_time": "2023-01-13T13:15:38.315Z"
   },
   {
    "duration": 1672,
    "start_time": "2023-01-13T13:21:55.710Z"
   },
   {
    "duration": 2,
    "start_time": "2023-01-13T13:21:57.384Z"
   },
   {
    "duration": 864,
    "start_time": "2023-01-13T13:21:57.389Z"
   },
   {
    "duration": 5,
    "start_time": "2023-01-13T13:21:58.257Z"
   },
   {
    "duration": 31,
    "start_time": "2023-01-13T13:21:58.265Z"
   },
   {
    "duration": 7,
    "start_time": "2023-01-13T13:21:58.298Z"
   },
   {
    "duration": 23,
    "start_time": "2023-01-13T13:21:58.307Z"
   },
   {
    "duration": 30,
    "start_time": "2023-01-13T13:21:58.332Z"
   },
   {
    "duration": 9,
    "start_time": "2023-01-13T13:21:58.364Z"
   },
   {
    "duration": 19,
    "start_time": "2023-01-13T13:21:58.376Z"
   },
   {
    "duration": 8,
    "start_time": "2023-01-13T13:21:58.396Z"
   },
   {
    "duration": 11,
    "start_time": "2023-01-13T13:21:58.405Z"
   },
   {
    "duration": 43,
    "start_time": "2023-01-13T13:21:58.417Z"
   },
   {
    "duration": 21,
    "start_time": "2023-01-13T13:21:58.462Z"
   },
   {
    "duration": 9,
    "start_time": "2023-01-13T13:21:58.485Z"
   },
   {
    "duration": 13,
    "start_time": "2023-01-13T13:21:58.496Z"
   },
   {
    "duration": 64,
    "start_time": "2023-01-13T13:21:58.511Z"
   },
   {
    "duration": 12235,
    "start_time": "2023-01-13T13:21:58.577Z"
   },
   {
    "duration": 472,
    "start_time": "2023-01-13T13:22:10.813Z"
   },
   {
    "duration": 1343,
    "start_time": "2023-01-13T13:22:11.287Z"
   },
   {
    "duration": 10,
    "start_time": "2023-01-13T13:22:12.641Z"
   },
   {
    "duration": 10,
    "start_time": "2023-01-13T13:22:12.654Z"
   },
   {
    "duration": 6,
    "start_time": "2023-01-13T13:22:12.666Z"
   },
   {
    "duration": 7,
    "start_time": "2023-01-13T13:22:12.674Z"
   },
   {
    "duration": 18,
    "start_time": "2023-01-13T13:22:12.683Z"
   },
   {
    "duration": 4,
    "start_time": "2023-01-13T13:22:12.704Z"
   },
   {
    "duration": 38,
    "start_time": "2023-01-13T13:22:12.710Z"
   },
   {
    "duration": 431,
    "start_time": "2023-01-13T13:22:12.752Z"
   },
   {
    "duration": 0,
    "start_time": "2023-01-13T13:22:13.184Z"
   },
   {
    "duration": 0,
    "start_time": "2023-01-13T13:22:13.186Z"
   },
   {
    "duration": 0,
    "start_time": "2023-01-13T13:22:13.187Z"
   },
   {
    "duration": 0,
    "start_time": "2023-01-13T13:22:13.188Z"
   },
   {
    "duration": 0,
    "start_time": "2023-01-13T13:22:13.189Z"
   },
   {
    "duration": 0,
    "start_time": "2023-01-13T13:22:13.190Z"
   },
   {
    "duration": 0,
    "start_time": "2023-01-13T13:22:13.191Z"
   },
   {
    "duration": 16,
    "start_time": "2023-01-13T13:24:12.852Z"
   },
   {
    "duration": 11,
    "start_time": "2023-01-13T13:24:52.669Z"
   },
   {
    "duration": 3,
    "start_time": "2023-01-13T13:25:02.307Z"
   },
   {
    "duration": 17,
    "start_time": "2023-01-13T13:25:02.554Z"
   },
   {
    "duration": 1690,
    "start_time": "2023-01-13T13:25:45.059Z"
   },
   {
    "duration": 3,
    "start_time": "2023-01-13T13:25:46.752Z"
   },
   {
    "duration": 851,
    "start_time": "2023-01-13T13:25:46.765Z"
   },
   {
    "duration": 5,
    "start_time": "2023-01-13T13:25:47.618Z"
   },
   {
    "duration": 38,
    "start_time": "2023-01-13T13:25:47.626Z"
   },
   {
    "duration": 5,
    "start_time": "2023-01-13T13:25:47.666Z"
   },
   {
    "duration": 12,
    "start_time": "2023-01-13T13:25:47.673Z"
   },
   {
    "duration": 6,
    "start_time": "2023-01-13T13:25:47.687Z"
   },
   {
    "duration": 12,
    "start_time": "2023-01-13T13:25:47.695Z"
   },
   {
    "duration": 22,
    "start_time": "2023-01-13T13:25:47.711Z"
   },
   {
    "duration": 34,
    "start_time": "2023-01-13T13:25:47.735Z"
   },
   {
    "duration": 11,
    "start_time": "2023-01-13T13:25:47.771Z"
   },
   {
    "duration": 29,
    "start_time": "2023-01-13T13:25:47.783Z"
   },
   {
    "duration": 25,
    "start_time": "2023-01-13T13:25:47.816Z"
   },
   {
    "duration": 35,
    "start_time": "2023-01-13T13:25:47.844Z"
   },
   {
    "duration": 11,
    "start_time": "2023-01-13T13:25:47.882Z"
   },
   {
    "duration": 12,
    "start_time": "2023-01-13T13:25:47.895Z"
   },
   {
    "duration": 10491,
    "start_time": "2023-01-13T13:25:47.909Z"
   },
   {
    "duration": 428,
    "start_time": "2023-01-13T13:25:58.402Z"
   },
   {
    "duration": 1364,
    "start_time": "2023-01-13T13:25:58.831Z"
   },
   {
    "duration": 4,
    "start_time": "2023-01-13T13:26:00.197Z"
   },
   {
    "duration": 60,
    "start_time": "2023-01-13T13:26:00.203Z"
   },
   {
    "duration": 36,
    "start_time": "2023-01-13T13:26:00.265Z"
   },
   {
    "duration": 52,
    "start_time": "2023-01-13T13:26:00.303Z"
   },
   {
    "duration": 70,
    "start_time": "2023-01-13T13:26:00.357Z"
   },
   {
    "duration": 85,
    "start_time": "2023-01-13T13:26:00.429Z"
   },
   {
    "duration": 228,
    "start_time": "2023-01-13T13:26:00.516Z"
   },
   {
    "duration": 0,
    "start_time": "2023-01-13T13:26:00.746Z"
   },
   {
    "duration": 0,
    "start_time": "2023-01-13T13:26:00.747Z"
   },
   {
    "duration": 0,
    "start_time": "2023-01-13T13:26:00.748Z"
   },
   {
    "duration": 0,
    "start_time": "2023-01-13T13:26:00.749Z"
   },
   {
    "duration": 0,
    "start_time": "2023-01-13T13:26:00.750Z"
   },
   {
    "duration": 0,
    "start_time": "2023-01-13T13:26:00.752Z"
   },
   {
    "duration": 0,
    "start_time": "2023-01-13T13:26:00.753Z"
   },
   {
    "duration": 0,
    "start_time": "2023-01-13T13:26:00.754Z"
   },
   {
    "duration": 0,
    "start_time": "2023-01-13T13:26:00.756Z"
   },
   {
    "duration": 4,
    "start_time": "2023-01-13T13:26:19.601Z"
   },
   {
    "duration": 11,
    "start_time": "2023-01-13T13:26:19.986Z"
   },
   {
    "duration": 8,
    "start_time": "2023-01-13T13:26:34.524Z"
   },
   {
    "duration": 1658,
    "start_time": "2023-01-13T13:26:40.616Z"
   },
   {
    "duration": 41,
    "start_time": "2023-01-13T13:27:15.697Z"
   },
   {
    "duration": 1683,
    "start_time": "2023-01-13T13:27:23.047Z"
   },
   {
    "duration": 7,
    "start_time": "2023-01-13T13:27:24.738Z"
   },
   {
    "duration": 808,
    "start_time": "2023-01-13T13:27:24.748Z"
   },
   {
    "duration": 4,
    "start_time": "2023-01-13T13:27:25.558Z"
   },
   {
    "duration": 17,
    "start_time": "2023-01-13T13:27:25.564Z"
   },
   {
    "duration": 4,
    "start_time": "2023-01-13T13:27:25.583Z"
   },
   {
    "duration": 11,
    "start_time": "2023-01-13T13:27:25.588Z"
   },
   {
    "duration": 10,
    "start_time": "2023-01-13T13:27:25.601Z"
   },
   {
    "duration": 39,
    "start_time": "2023-01-13T13:27:25.612Z"
   },
   {
    "duration": 15,
    "start_time": "2023-01-13T13:27:25.653Z"
   },
   {
    "duration": 18,
    "start_time": "2023-01-13T13:27:25.670Z"
   },
   {
    "duration": 20,
    "start_time": "2023-01-13T13:27:25.690Z"
   },
   {
    "duration": 37,
    "start_time": "2023-01-13T13:27:25.712Z"
   },
   {
    "duration": 35,
    "start_time": "2023-01-13T13:27:25.758Z"
   },
   {
    "duration": 13,
    "start_time": "2023-01-13T13:27:25.796Z"
   },
   {
    "duration": 42,
    "start_time": "2023-01-13T13:27:25.811Z"
   },
   {
    "duration": 28,
    "start_time": "2023-01-13T13:27:25.854Z"
   },
   {
    "duration": 14918,
    "start_time": "2023-01-13T13:27:25.885Z"
   },
   {
    "duration": 439,
    "start_time": "2023-01-13T13:27:40.805Z"
   },
   {
    "duration": 1457,
    "start_time": "2023-01-13T13:27:41.247Z"
   },
   {
    "duration": 4,
    "start_time": "2023-01-13T13:27:42.706Z"
   },
   {
    "duration": 17,
    "start_time": "2023-01-13T13:27:42.712Z"
   },
   {
    "duration": 26,
    "start_time": "2023-01-13T13:27:42.731Z"
   },
   {
    "duration": 10,
    "start_time": "2023-01-13T13:27:42.759Z"
   },
   {
    "duration": 25,
    "start_time": "2023-01-13T13:27:42.771Z"
   },
   {
    "duration": 7,
    "start_time": "2023-01-13T13:27:42.798Z"
   },
   {
    "duration": 45,
    "start_time": "2023-01-13T13:27:42.807Z"
   },
   {
    "duration": 13,
    "start_time": "2023-01-13T13:27:42.854Z"
   },
   {
    "duration": 53473,
    "start_time": "2023-01-13T13:27:42.868Z"
   },
   {
    "duration": 705752,
    "start_time": "2023-01-13T13:28:36.343Z"
   },
   {
    "duration": 7262,
    "start_time": "2023-01-13T13:40:22.096Z"
   },
   {
    "duration": 7,
    "start_time": "2023-01-13T13:40:29.360Z"
   },
   {
    "duration": 26,
    "start_time": "2023-01-13T13:40:29.421Z"
   },
   {
    "duration": 23,
    "start_time": "2023-01-13T13:40:29.450Z"
   },
   {
    "duration": 205,
    "start_time": "2023-01-13T13:40:29.475Z"
   },
   {
    "duration": 0,
    "start_time": "2023-01-13T13:40:29.682Z"
   },
   {
    "duration": 6,
    "start_time": "2023-01-13T13:47:32.138Z"
   },
   {
    "duration": 27,
    "start_time": "2023-01-13T13:47:35.378Z"
   },
   {
    "duration": 14,
    "start_time": "2023-01-13T13:53:32.251Z"
   },
   {
    "duration": 46,
    "start_time": "2023-01-13T13:54:39.700Z"
   },
   {
    "duration": 30,
    "start_time": "2023-01-13T13:57:06.991Z"
   },
   {
    "duration": 1675,
    "start_time": "2023-01-13T13:58:01.655Z"
   },
   {
    "duration": 2,
    "start_time": "2023-01-13T13:58:03.332Z"
   },
   {
    "duration": 834,
    "start_time": "2023-01-13T13:58:03.335Z"
   },
   {
    "duration": 5,
    "start_time": "2023-01-13T13:58:04.172Z"
   },
   {
    "duration": 36,
    "start_time": "2023-01-13T13:58:04.180Z"
   },
   {
    "duration": 56,
    "start_time": "2023-01-13T13:58:04.218Z"
   },
   {
    "duration": 26,
    "start_time": "2023-01-13T13:58:04.278Z"
   },
   {
    "duration": 23,
    "start_time": "2023-01-13T13:58:04.307Z"
   },
   {
    "duration": 42,
    "start_time": "2023-01-13T13:58:04.333Z"
   },
   {
    "duration": 24,
    "start_time": "2023-01-13T13:58:04.377Z"
   },
   {
    "duration": 33,
    "start_time": "2023-01-13T13:58:04.403Z"
   },
   {
    "duration": 37,
    "start_time": "2023-01-13T13:58:04.438Z"
   },
   {
    "duration": 33,
    "start_time": "2023-01-13T13:58:04.476Z"
   },
   {
    "duration": 44,
    "start_time": "2023-01-13T13:58:04.512Z"
   },
   {
    "duration": 11,
    "start_time": "2023-01-13T13:58:04.561Z"
   },
   {
    "duration": 20,
    "start_time": "2023-01-13T13:58:04.575Z"
   },
   {
    "duration": 9,
    "start_time": "2023-01-13T13:58:04.597Z"
   },
   {
    "duration": 11581,
    "start_time": "2023-01-13T13:58:04.608Z"
   },
   {
    "duration": 439,
    "start_time": "2023-01-13T13:58:16.191Z"
   },
   {
    "duration": 1323,
    "start_time": "2023-01-13T13:58:16.632Z"
   },
   {
    "duration": 5,
    "start_time": "2023-01-13T13:58:17.958Z"
   },
   {
    "duration": 148,
    "start_time": "2023-01-13T13:58:17.965Z"
   },
   {
    "duration": 0,
    "start_time": "2023-01-13T13:58:18.115Z"
   },
   {
    "duration": 0,
    "start_time": "2023-01-13T13:58:18.116Z"
   },
   {
    "duration": 34,
    "start_time": "2023-01-13T13:58:37.069Z"
   },
   {
    "duration": 1617,
    "start_time": "2023-01-13T13:58:45.566Z"
   },
   {
    "duration": 3,
    "start_time": "2023-01-13T13:58:47.185Z"
   },
   {
    "duration": 854,
    "start_time": "2023-01-13T13:58:47.190Z"
   },
   {
    "duration": 7,
    "start_time": "2023-01-13T13:58:48.047Z"
   },
   {
    "duration": 24,
    "start_time": "2023-01-13T13:58:48.057Z"
   },
   {
    "duration": 8,
    "start_time": "2023-01-13T13:58:48.083Z"
   },
   {
    "duration": 17,
    "start_time": "2023-01-13T13:58:48.093Z"
   },
   {
    "duration": 16,
    "start_time": "2023-01-13T13:58:48.112Z"
   },
   {
    "duration": 23,
    "start_time": "2023-01-13T13:58:48.134Z"
   },
   {
    "duration": 21,
    "start_time": "2023-01-13T13:58:48.160Z"
   },
   {
    "duration": 7,
    "start_time": "2023-01-13T13:58:48.183Z"
   },
   {
    "duration": 21,
    "start_time": "2023-01-13T13:58:48.192Z"
   },
   {
    "duration": 61,
    "start_time": "2023-01-13T13:58:48.215Z"
   },
   {
    "duration": 21,
    "start_time": "2023-01-13T13:58:48.278Z"
   },
   {
    "duration": 9,
    "start_time": "2023-01-13T13:58:48.300Z"
   },
   {
    "duration": 7,
    "start_time": "2023-01-13T13:58:48.311Z"
   },
   {
    "duration": 41,
    "start_time": "2023-01-13T13:58:48.322Z"
   },
   {
    "duration": 11035,
    "start_time": "2023-01-13T13:58:48.365Z"
   },
   {
    "duration": 836,
    "start_time": "2023-01-13T13:58:59.402Z"
   },
   {
    "duration": 2644,
    "start_time": "2023-01-13T13:59:00.250Z"
   },
   {
    "duration": 4,
    "start_time": "2023-01-13T13:59:02.896Z"
   },
   {
    "duration": 274,
    "start_time": "2023-01-13T13:59:02.902Z"
   },
   {
    "duration": 3,
    "start_time": "2023-01-13T13:59:03.177Z"
   },
   {
    "duration": 38,
    "start_time": "2023-01-13T13:59:03.182Z"
   },
   {
    "duration": 4,
    "start_time": "2023-01-13T14:00:45.904Z"
   },
   {
    "duration": 3,
    "start_time": "2023-01-13T14:00:46.491Z"
   },
   {
    "duration": 20,
    "start_time": "2023-01-13T14:00:51.521Z"
   },
   {
    "duration": 5097,
    "start_time": "2023-01-13T14:02:15.396Z"
   },
   {
    "duration": 4874,
    "start_time": "2023-01-13T14:02:35.951Z"
   },
   {
    "duration": 5432,
    "start_time": "2023-01-13T14:04:10.535Z"
   },
   {
    "duration": 13,
    "start_time": "2023-01-13T14:08:12.951Z"
   },
   {
    "duration": 32,
    "start_time": "2023-01-13T14:08:54.724Z"
   },
   {
    "duration": 13,
    "start_time": "2023-01-13T14:09:05.391Z"
   },
   {
    "duration": 6,
    "start_time": "2023-01-13T14:09:22.359Z"
   },
   {
    "duration": 10,
    "start_time": "2023-01-13T14:10:28.904Z"
   },
   {
    "duration": 23,
    "start_time": "2023-01-13T14:11:26.352Z"
   },
   {
    "duration": 34,
    "start_time": "2023-01-13T14:11:32.420Z"
   },
   {
    "duration": 30,
    "start_time": "2023-01-13T14:11:53.523Z"
   },
   {
    "duration": 12,
    "start_time": "2023-01-13T14:12:20.480Z"
   },
   {
    "duration": 38,
    "start_time": "2023-01-13T14:12:26.397Z"
   },
   {
    "duration": 46,
    "start_time": "2023-01-13T14:12:33.211Z"
   },
   {
    "duration": 14,
    "start_time": "2023-01-13T14:15:49.164Z"
   },
   {
    "duration": 2624257,
    "start_time": "2023-01-13T14:18:00.060Z"
   },
   {
    "duration": 2627112,
    "start_time": "2023-01-13T15:01:44.325Z"
   },
   {
    "duration": 30,
    "start_time": "2023-01-13T15:45:31.439Z"
   },
   {
    "duration": 0,
    "start_time": "2023-01-13T15:45:31.471Z"
   },
   {
    "duration": 0,
    "start_time": "2023-01-13T15:45:31.472Z"
   },
   {
    "duration": 51,
    "start_time": "2023-01-13T15:57:57.991Z"
   },
   {
    "duration": 3,
    "start_time": "2023-01-13T15:58:01.459Z"
   },
   {
    "duration": 10,
    "start_time": "2023-01-13T15:58:15.671Z"
   },
   {
    "duration": 16589,
    "start_time": "2023-01-13T16:02:17.037Z"
   },
   {
    "duration": 16870,
    "start_time": "2023-01-13T16:02:39.472Z"
   },
   {
    "duration": 23865,
    "start_time": "2023-01-13T16:09:52.871Z"
   },
   {
    "duration": 27,
    "start_time": "2023-01-13T16:10:22.820Z"
   },
   {
    "duration": 15,
    "start_time": "2023-01-13T16:10:59.427Z"
   },
   {
    "duration": 215,
    "start_time": "2023-01-13T16:11:29.820Z"
   },
   {
    "duration": 72,
    "start_time": "2023-01-13T16:12:02.760Z"
   },
   {
    "duration": 4,
    "start_time": "2023-01-13T16:12:03.892Z"
   },
   {
    "duration": 17,
    "start_time": "2023-01-13T16:12:06.628Z"
   },
   {
    "duration": 4,
    "start_time": "2023-01-13T16:12:15.179Z"
   },
   {
    "duration": 6,
    "start_time": "2023-01-13T17:28:39.648Z"
   },
   {
    "duration": 1509,
    "start_time": "2023-01-14T16:40:02.161Z"
   },
   {
    "duration": 3,
    "start_time": "2023-01-14T16:40:03.672Z"
   },
   {
    "duration": 3118,
    "start_time": "2023-01-14T16:40:04.215Z"
   },
   {
    "duration": 3,
    "start_time": "2023-01-14T16:40:07.335Z"
   },
   {
    "duration": 19,
    "start_time": "2023-01-14T16:40:08.179Z"
   },
   {
    "duration": 4,
    "start_time": "2023-01-14T16:40:09.270Z"
   },
   {
    "duration": 7,
    "start_time": "2023-01-14T16:40:09.660Z"
   },
   {
    "duration": 6,
    "start_time": "2023-01-14T16:40:15.264Z"
   },
   {
    "duration": 3,
    "start_time": "2023-01-14T16:40:19.198Z"
   },
   {
    "duration": 10,
    "start_time": "2023-01-14T16:40:26.202Z"
   },
   {
    "duration": 8,
    "start_time": "2023-01-14T16:40:26.453Z"
   },
   {
    "duration": 12,
    "start_time": "2023-01-14T16:40:27.313Z"
   },
   {
    "duration": 23,
    "start_time": "2023-01-14T16:40:46.321Z"
   },
   {
    "duration": 36,
    "start_time": "2023-01-14T16:41:48.064Z"
   },
   {
    "duration": 8,
    "start_time": "2023-01-14T16:41:50.870Z"
   },
   {
    "duration": 6,
    "start_time": "2023-01-14T16:41:51.182Z"
   },
   {
    "duration": 10,
    "start_time": "2023-01-14T16:41:51.633Z"
   },
   {
    "duration": 9975,
    "start_time": "2023-01-14T16:42:43.634Z"
   },
   {
    "duration": 473,
    "start_time": "2023-01-14T16:43:13.247Z"
   },
   {
    "duration": 499,
    "start_time": "2023-01-14T16:47:13.648Z"
   },
   {
    "duration": 347,
    "start_time": "2023-01-14T16:47:44.560Z"
   },
   {
    "duration": 662,
    "start_time": "2023-01-14T16:48:26.204Z"
   },
   {
    "duration": 576,
    "start_time": "2023-01-14T16:49:19.975Z"
   },
   {
    "duration": 585,
    "start_time": "2023-01-14T16:49:27.608Z"
   },
   {
    "duration": 816,
    "start_time": "2023-01-14T16:49:41.895Z"
   },
   {
    "duration": 791,
    "start_time": "2023-01-14T16:49:53.766Z"
   },
   {
    "duration": 394,
    "start_time": "2023-01-14T16:50:02.363Z"
   },
   {
    "duration": 472,
    "start_time": "2023-01-14T16:50:11.836Z"
   },
   {
    "duration": 490,
    "start_time": "2023-01-14T16:50:22.273Z"
   },
   {
    "duration": 714,
    "start_time": "2023-01-14T16:50:30.135Z"
   },
   {
    "duration": 602,
    "start_time": "2023-01-14T16:50:40.558Z"
   },
   {
    "duration": 709,
    "start_time": "2023-01-14T16:50:50.664Z"
   },
   {
    "duration": 867,
    "start_time": "2023-01-14T16:54:08.330Z"
   },
   {
    "duration": 839,
    "start_time": "2023-01-14T16:54:56.011Z"
   },
   {
    "duration": 986,
    "start_time": "2023-01-14T16:55:16.070Z"
   },
   {
    "duration": 851,
    "start_time": "2023-01-14T16:55:39.698Z"
   },
   {
    "duration": 527,
    "start_time": "2023-01-14T16:55:52.791Z"
   },
   {
    "duration": 441,
    "start_time": "2023-01-14T16:56:05.881Z"
   },
   {
    "duration": 732,
    "start_time": "2023-01-14T16:56:24.968Z"
   },
   {
    "duration": 846,
    "start_time": "2023-01-14T16:59:55.131Z"
   },
   {
    "duration": 902,
    "start_time": "2023-01-14T17:00:43.081Z"
   },
   {
    "duration": 634,
    "start_time": "2023-01-14T17:01:14.751Z"
   },
   {
    "duration": 660,
    "start_time": "2023-01-14T17:01:24.425Z"
   },
   {
    "duration": 686,
    "start_time": "2023-01-14T17:01:53.500Z"
   },
   {
    "duration": 10,
    "start_time": "2023-01-14T17:08:43.459Z"
   },
   {
    "duration": 12,
    "start_time": "2023-01-14T17:09:04.884Z"
   },
   {
    "duration": 9,
    "start_time": "2023-01-14T17:09:20.724Z"
   },
   {
    "duration": 6,
    "start_time": "2023-01-14T17:12:25.988Z"
   },
   {
    "duration": 10,
    "start_time": "2023-01-14T17:16:31.652Z"
   },
   {
    "duration": 13,
    "start_time": "2023-01-14T17:17:25.110Z"
   },
   {
    "duration": 9,
    "start_time": "2023-01-14T17:17:50.396Z"
   },
   {
    "duration": 6,
    "start_time": "2023-01-14T17:18:21.498Z"
   },
   {
    "duration": 12,
    "start_time": "2023-01-14T17:21:53.091Z"
   },
   {
    "duration": 12,
    "start_time": "2023-01-14T17:22:19.528Z"
   },
   {
    "duration": 10,
    "start_time": "2023-01-14T17:26:37.596Z"
   },
   {
    "duration": 15,
    "start_time": "2023-01-14T17:26:46.422Z"
   },
   {
    "duration": 722,
    "start_time": "2023-01-14T17:34:40.753Z"
   },
   {
    "duration": 674,
    "start_time": "2023-01-14T17:50:22.810Z"
   },
   {
    "duration": 616,
    "start_time": "2023-01-14T17:51:00.752Z"
   },
   {
    "duration": 773,
    "start_time": "2023-01-14T17:54:06.859Z"
   },
   {
    "duration": 804,
    "start_time": "2023-01-14T17:54:58.305Z"
   },
   {
    "duration": 737,
    "start_time": "2023-01-14T17:55:07.552Z"
   },
   {
    "duration": 641,
    "start_time": "2023-01-14T17:55:23.951Z"
   },
   {
    "duration": 722,
    "start_time": "2023-01-14T17:55:32.256Z"
   },
   {
    "duration": 716,
    "start_time": "2023-01-14T17:55:41.277Z"
   },
   {
    "duration": 749,
    "start_time": "2023-01-14T17:55:54.757Z"
   },
   {
    "duration": 1364,
    "start_time": "2023-01-14T17:56:27.392Z"
   },
   {
    "duration": 3,
    "start_time": "2023-01-14T17:56:33.068Z"
   },
   {
    "duration": 3,
    "start_time": "2023-01-14T17:56:34.162Z"
   },
   {
    "duration": 4,
    "start_time": "2023-01-14T17:56:35.091Z"
   },
   {
    "duration": 28,
    "start_time": "2023-01-14T17:56:43.555Z"
   },
   {
    "duration": 12,
    "start_time": "2023-01-14T17:56:43.642Z"
   },
   {
    "duration": 10,
    "start_time": "2023-01-14T17:56:47.076Z"
   },
   {
    "duration": 28,
    "start_time": "2023-01-14T17:58:51.752Z"
   },
   {
    "duration": 23,
    "start_time": "2023-01-14T17:58:52.011Z"
   },
   {
    "duration": 1427,
    "start_time": "2023-01-14T17:59:06.782Z"
   },
   {
    "duration": 2,
    "start_time": "2023-01-14T17:59:08.211Z"
   },
   {
    "duration": 743,
    "start_time": "2023-01-14T17:59:08.219Z"
   },
   {
    "duration": 3,
    "start_time": "2023-01-14T17:59:08.964Z"
   },
   {
    "duration": 11,
    "start_time": "2023-01-14T17:59:08.969Z"
   },
   {
    "duration": 4,
    "start_time": "2023-01-14T17:59:08.982Z"
   },
   {
    "duration": 9,
    "start_time": "2023-01-14T17:59:08.988Z"
   },
   {
    "duration": 28,
    "start_time": "2023-01-14T17:59:08.999Z"
   },
   {
    "duration": 4,
    "start_time": "2023-01-14T17:59:09.028Z"
   },
   {
    "duration": 15,
    "start_time": "2023-01-14T17:59:09.035Z"
   },
   {
    "duration": 7,
    "start_time": "2023-01-14T17:59:09.051Z"
   },
   {
    "duration": 10,
    "start_time": "2023-01-14T17:59:09.060Z"
   },
   {
    "duration": 55,
    "start_time": "2023-01-14T17:59:09.071Z"
   },
   {
    "duration": 10,
    "start_time": "2023-01-14T17:59:09.128Z"
   },
   {
    "duration": 7,
    "start_time": "2023-01-14T17:59:09.140Z"
   },
   {
    "duration": 10,
    "start_time": "2023-01-14T17:59:09.149Z"
   },
   {
    "duration": 11523,
    "start_time": "2023-01-14T17:59:09.161Z"
   },
   {
    "duration": 699,
    "start_time": "2023-01-14T17:59:20.685Z"
   },
   {
    "duration": 1175,
    "start_time": "2023-01-14T17:59:21.386Z"
   },
   {
    "duration": 4,
    "start_time": "2023-01-14T17:59:22.562Z"
   },
   {
    "duration": 11,
    "start_time": "2023-01-14T17:59:22.568Z"
   },
   {
    "duration": 8,
    "start_time": "2023-01-14T17:59:22.580Z"
   },
   {
    "duration": 203,
    "start_time": "2023-01-14T17:59:22.590Z"
   },
   {
    "duration": 137,
    "start_time": "2023-01-14T17:59:22.795Z"
   },
   {
    "duration": 0,
    "start_time": "2023-01-14T17:59:22.935Z"
   },
   {
    "duration": 0,
    "start_time": "2023-01-14T17:59:22.936Z"
   },
   {
    "duration": 0,
    "start_time": "2023-01-14T17:59:22.937Z"
   },
   {
    "duration": 0,
    "start_time": "2023-01-14T17:59:22.938Z"
   },
   {
    "duration": 0,
    "start_time": "2023-01-14T17:59:22.939Z"
   },
   {
    "duration": 0,
    "start_time": "2023-01-14T17:59:22.940Z"
   },
   {
    "duration": 0,
    "start_time": "2023-01-14T17:59:22.941Z"
   },
   {
    "duration": 0,
    "start_time": "2023-01-14T17:59:22.943Z"
   },
   {
    "duration": 0,
    "start_time": "2023-01-14T17:59:22.944Z"
   },
   {
    "duration": 0,
    "start_time": "2023-01-14T17:59:22.945Z"
   },
   {
    "duration": 0,
    "start_time": "2023-01-14T17:59:22.946Z"
   },
   {
    "duration": 0,
    "start_time": "2023-01-14T17:59:22.947Z"
   },
   {
    "duration": 0,
    "start_time": "2023-01-14T17:59:22.948Z"
   },
   {
    "duration": 4,
    "start_time": "2023-01-14T18:01:08.868Z"
   },
   {
    "duration": 12,
    "start_time": "2023-01-14T18:01:13.435Z"
   },
   {
    "duration": 11,
    "start_time": "2023-01-14T18:11:39.971Z"
   },
   {
    "duration": 12,
    "start_time": "2023-01-14T18:11:49.626Z"
   },
   {
    "duration": 1521,
    "start_time": "2023-01-14T18:11:57.236Z"
   },
   {
    "duration": 2,
    "start_time": "2023-01-14T18:11:58.759Z"
   },
   {
    "duration": 767,
    "start_time": "2023-01-14T18:11:58.763Z"
   },
   {
    "duration": 3,
    "start_time": "2023-01-14T18:11:59.533Z"
   },
   {
    "duration": 22,
    "start_time": "2023-01-14T18:11:59.537Z"
   },
   {
    "duration": 15,
    "start_time": "2023-01-14T18:11:59.560Z"
   },
   {
    "duration": 11,
    "start_time": "2023-01-14T18:11:59.577Z"
   },
   {
    "duration": 12,
    "start_time": "2023-01-14T18:11:59.590Z"
   },
   {
    "duration": 15,
    "start_time": "2023-01-14T18:11:59.604Z"
   },
   {
    "duration": 21,
    "start_time": "2023-01-14T18:11:59.628Z"
   },
   {
    "duration": 6,
    "start_time": "2023-01-14T18:11:59.651Z"
   },
   {
    "duration": 25,
    "start_time": "2023-01-14T18:11:59.658Z"
   },
   {
    "duration": 27,
    "start_time": "2023-01-14T18:11:59.684Z"
   },
   {
    "duration": 14,
    "start_time": "2023-01-14T18:11:59.713Z"
   },
   {
    "duration": 17,
    "start_time": "2023-01-14T18:11:59.731Z"
   },
   {
    "duration": 15,
    "start_time": "2023-01-14T18:11:59.750Z"
   },
   {
    "duration": 9631,
    "start_time": "2023-01-14T18:11:59.767Z"
   },
   {
    "duration": 684,
    "start_time": "2023-01-14T18:12:09.400Z"
   },
   {
    "duration": 1173,
    "start_time": "2023-01-14T18:12:10.086Z"
   },
   {
    "duration": 4,
    "start_time": "2023-01-14T18:12:11.260Z"
   },
   {
    "duration": 8,
    "start_time": "2023-01-14T18:12:11.266Z"
   },
   {
    "duration": 6,
    "start_time": "2023-01-14T18:12:11.275Z"
   },
   {
    "duration": 201,
    "start_time": "2023-01-14T18:12:11.283Z"
   },
   {
    "duration": 9,
    "start_time": "2023-01-14T18:12:11.486Z"
   },
   {
    "duration": 5715,
    "start_time": "2023-01-14T18:12:11.497Z"
   },
   {
    "duration": 5138,
    "start_time": "2023-01-14T18:12:17.214Z"
   },
   {
    "duration": 14,
    "start_time": "2023-01-14T18:12:22.354Z"
   },
   {
    "duration": 5,
    "start_time": "2023-01-14T18:12:22.372Z"
   },
   {
    "duration": 1116346,
    "start_time": "2023-01-14T18:12:22.378Z"
   },
   {
    "duration": 1453,
    "start_time": "2023-01-14T18:31:49.090Z"
   },
   {
    "duration": 2,
    "start_time": "2023-01-14T18:31:50.545Z"
   },
   {
    "duration": 741,
    "start_time": "2023-01-14T18:31:50.549Z"
   },
   {
    "duration": 3,
    "start_time": "2023-01-14T18:31:51.292Z"
   },
   {
    "duration": 21,
    "start_time": "2023-01-14T18:31:51.296Z"
   },
   {
    "duration": 25,
    "start_time": "2023-01-14T18:31:51.318Z"
   },
   {
    "duration": 13,
    "start_time": "2023-01-14T18:31:51.344Z"
   },
   {
    "duration": 4,
    "start_time": "2023-01-14T18:31:53.006Z"
   },
   {
    "duration": 4,
    "start_time": "2023-01-14T18:31:53.899Z"
   },
   {
    "duration": 11,
    "start_time": "2023-01-14T18:31:54.086Z"
   },
   {
    "duration": 6,
    "start_time": "2023-01-14T18:31:54.282Z"
   },
   {
    "duration": 8,
    "start_time": "2023-01-14T18:31:54.476Z"
   },
   {
    "duration": 27,
    "start_time": "2023-01-14T18:31:55.236Z"
   },
   {
    "duration": 9,
    "start_time": "2023-01-14T18:31:55.588Z"
   },
   {
    "duration": 6,
    "start_time": "2023-01-14T18:31:55.770Z"
   },
   {
    "duration": 9,
    "start_time": "2023-01-14T18:31:55.944Z"
   },
   {
    "duration": 9853,
    "start_time": "2023-01-14T18:32:00.475Z"
   },
   {
    "duration": 653,
    "start_time": "2023-01-14T18:32:10.333Z"
   },
   {
    "duration": 123,
    "start_time": "2023-01-14T18:32:10.988Z"
   },
   {
    "duration": 4,
    "start_time": "2023-01-14T18:32:59.657Z"
   },
   {
    "duration": 10,
    "start_time": "2023-01-14T18:33:10.132Z"
   },
   {
    "duration": 10,
    "start_time": "2023-01-14T18:33:17.347Z"
   },
   {
    "duration": 6,
    "start_time": "2023-01-14T18:34:13.776Z"
   },
   {
    "duration": 10,
    "start_time": "2023-01-14T18:34:26.901Z"
   },
   {
    "duration": 6,
    "start_time": "2023-01-14T18:34:33.802Z"
   },
   {
    "duration": 5,
    "start_time": "2023-01-14T18:34:50.845Z"
   },
   {
    "duration": 6,
    "start_time": "2023-01-14T18:35:14.393Z"
   },
   {
    "duration": 6,
    "start_time": "2023-01-14T18:42:50.754Z"
   },
   {
    "duration": 5,
    "start_time": "2023-01-14T18:43:03.592Z"
   },
   {
    "duration": 4,
    "start_time": "2023-01-14T18:43:18.299Z"
   },
   {
    "duration": 6,
    "start_time": "2023-01-14T18:43:25.444Z"
   },
   {
    "duration": 6,
    "start_time": "2023-01-14T18:43:40.752Z"
   },
   {
    "duration": 4,
    "start_time": "2023-01-14T18:43:51.860Z"
   },
   {
    "duration": 8,
    "start_time": "2023-01-14T18:54:14.957Z"
   },
   {
    "duration": 1453,
    "start_time": "2023-01-14T18:58:45.993Z"
   },
   {
    "duration": 2,
    "start_time": "2023-01-14T18:58:47.448Z"
   },
   {
    "duration": 834,
    "start_time": "2023-01-14T18:58:47.452Z"
   },
   {
    "duration": 4,
    "start_time": "2023-01-14T18:58:48.289Z"
   },
   {
    "duration": 29,
    "start_time": "2023-01-14T18:58:48.295Z"
   },
   {
    "duration": 12,
    "start_time": "2023-01-14T18:58:48.326Z"
   },
   {
    "duration": 9,
    "start_time": "2023-01-14T18:58:48.340Z"
   },
   {
    "duration": 8,
    "start_time": "2023-01-14T18:58:48.351Z"
   },
   {
    "duration": 5,
    "start_time": "2023-01-14T18:58:48.361Z"
   },
   {
    "duration": 15,
    "start_time": "2023-01-14T18:58:48.368Z"
   },
   {
    "duration": 6,
    "start_time": "2023-01-14T18:58:48.385Z"
   },
   {
    "duration": 13,
    "start_time": "2023-01-14T18:58:48.393Z"
   },
   {
    "duration": 36,
    "start_time": "2023-01-14T18:58:48.407Z"
   },
   {
    "duration": 10,
    "start_time": "2023-01-14T18:58:48.445Z"
   },
   {
    "duration": 8,
    "start_time": "2023-01-14T18:58:48.457Z"
   },
   {
    "duration": 8,
    "start_time": "2023-01-14T18:58:48.467Z"
   },
   {
    "duration": 9999,
    "start_time": "2023-01-14T18:58:48.477Z"
   },
   {
    "duration": 744,
    "start_time": "2023-01-14T18:58:58.478Z"
   },
   {
    "duration": 6,
    "start_time": "2023-01-14T18:58:59.224Z"
   },
   {
    "duration": 37,
    "start_time": "2023-01-14T18:58:59.233Z"
   },
   {
    "duration": 1293,
    "start_time": "2023-01-14T18:58:59.272Z"
   },
   {
    "duration": 4,
    "start_time": "2023-01-14T18:59:00.567Z"
   },
   {
    "duration": 31,
    "start_time": "2023-01-14T18:59:00.573Z"
   },
   {
    "duration": 50,
    "start_time": "2023-01-14T18:59:00.605Z"
   },
   {
    "duration": 252,
    "start_time": "2023-01-14T18:59:00.657Z"
   },
   {
    "duration": 16,
    "start_time": "2023-01-14T18:59:00.911Z"
   },
   {
    "duration": 5090,
    "start_time": "2023-01-14T18:59:00.929Z"
   },
   {
    "duration": 6351,
    "start_time": "2023-01-14T18:59:06.026Z"
   },
   {
    "duration": 14,
    "start_time": "2023-01-14T18:59:12.378Z"
   },
   {
    "duration": 4,
    "start_time": "2023-01-14T18:59:12.394Z"
   },
   {
    "duration": 1955,
    "start_time": "2023-01-15T05:41:30.779Z"
   },
   {
    "duration": 2,
    "start_time": "2023-01-15T05:41:32.737Z"
   },
   {
    "duration": 2390,
    "start_time": "2023-01-15T05:41:32.741Z"
   },
   {
    "duration": 4,
    "start_time": "2023-01-15T05:41:35.133Z"
   },
   {
    "duration": 42,
    "start_time": "2023-01-15T05:41:35.138Z"
   },
   {
    "duration": 9,
    "start_time": "2023-01-15T05:41:35.182Z"
   },
   {
    "duration": 38,
    "start_time": "2023-01-15T05:41:35.192Z"
   },
   {
    "duration": 36,
    "start_time": "2023-01-15T05:41:35.232Z"
   },
   {
    "duration": 14,
    "start_time": "2023-01-15T05:41:35.270Z"
   },
   {
    "duration": 43,
    "start_time": "2023-01-15T05:41:35.287Z"
   },
   {
    "duration": 42,
    "start_time": "2023-01-15T05:41:35.332Z"
   },
   {
    "duration": 36,
    "start_time": "2023-01-15T05:41:35.376Z"
   },
   {
    "duration": 55,
    "start_time": "2023-01-15T05:41:35.414Z"
   },
   {
    "duration": 20,
    "start_time": "2023-01-15T05:41:35.471Z"
   },
   {
    "duration": 43,
    "start_time": "2023-01-15T05:41:35.493Z"
   },
   {
    "duration": 45,
    "start_time": "2023-01-15T05:41:35.537Z"
   },
   {
    "duration": 10400,
    "start_time": "2023-01-15T05:41:35.584Z"
   },
   {
    "duration": 742,
    "start_time": "2023-01-15T05:41:45.986Z"
   },
   {
    "duration": 5,
    "start_time": "2023-01-15T05:41:46.729Z"
   },
   {
    "duration": 26,
    "start_time": "2023-01-15T05:41:46.736Z"
   },
   {
    "duration": 1251,
    "start_time": "2023-01-15T05:41:46.764Z"
   },
   {
    "duration": 4,
    "start_time": "2023-01-15T05:41:48.017Z"
   },
   {
    "duration": 12,
    "start_time": "2023-01-15T05:41:48.023Z"
   },
   {
    "duration": 5,
    "start_time": "2023-01-15T05:41:48.036Z"
   },
   {
    "duration": 201,
    "start_time": "2023-01-15T05:41:48.052Z"
   },
   {
    "duration": 13,
    "start_time": "2023-01-15T05:41:48.255Z"
   },
   {
    "duration": 5139,
    "start_time": "2023-01-15T05:41:48.271Z"
   },
   {
    "duration": 5715,
    "start_time": "2023-01-15T05:41:53.414Z"
   },
   {
    "duration": 36,
    "start_time": "2023-01-15T05:41:59.131Z"
   },
   {
    "duration": 5,
    "start_time": "2023-01-15T05:41:59.170Z"
   },
   {
    "duration": 2163556,
    "start_time": "2023-01-15T05:41:59.177Z"
   },
   {
    "duration": 4480,
    "start_time": "2023-01-15T06:18:02.735Z"
   },
   {
    "duration": 78,
    "start_time": "2023-01-15T06:18:07.216Z"
   },
   {
    "duration": 11,
    "start_time": "2023-01-15T06:18:07.296Z"
   },
   {
    "duration": 0,
    "start_time": "2023-01-15T06:18:07.309Z"
   },
   {
    "duration": 0,
    "start_time": "2023-01-15T06:18:07.310Z"
   },
   {
    "duration": 0,
    "start_time": "2023-01-15T06:18:07.312Z"
   },
   {
    "duration": 0,
    "start_time": "2023-01-15T06:18:07.313Z"
   },
   {
    "duration": 0,
    "start_time": "2023-01-15T06:18:07.315Z"
   },
   {
    "duration": 0,
    "start_time": "2023-01-15T06:18:07.323Z"
   },
   {
    "duration": 6,
    "start_time": "2023-01-15T06:18:24.437Z"
   },
   {
    "duration": 9,
    "start_time": "2023-01-15T06:18:44.437Z"
   },
   {
    "duration": 6,
    "start_time": "2023-01-15T06:18:54.437Z"
   },
   {
    "duration": 9,
    "start_time": "2023-01-15T06:19:06.925Z"
   },
   {
    "duration": 6,
    "start_time": "2023-01-15T06:19:23.397Z"
   },
   {
    "duration": 8,
    "start_time": "2023-01-15T06:19:36.029Z"
   },
   {
    "duration": 18,
    "start_time": "2023-01-15T06:21:31.148Z"
   },
   {
    "duration": 6,
    "start_time": "2023-01-15T06:21:53.638Z"
   },
   {
    "duration": 8,
    "start_time": "2023-01-15T06:24:57.077Z"
   },
   {
    "duration": 8,
    "start_time": "2023-01-15T06:25:01.308Z"
   },
   {
    "duration": 9,
    "start_time": "2023-01-15T06:25:08.667Z"
   },
   {
    "duration": 7,
    "start_time": "2023-01-15T06:25:58.347Z"
   },
   {
    "duration": 8,
    "start_time": "2023-01-15T06:26:21.956Z"
   },
   {
    "duration": 8,
    "start_time": "2023-01-15T06:32:18.197Z"
   },
   {
    "duration": 14,
    "start_time": "2023-01-15T06:32:21.559Z"
   },
   {
    "duration": 15,
    "start_time": "2023-01-15T06:32:36.757Z"
   },
   {
    "duration": 13,
    "start_time": "2023-01-15T06:33:01.877Z"
   },
   {
    "duration": 12,
    "start_time": "2023-01-15T06:33:18.356Z"
   },
   {
    "duration": 11,
    "start_time": "2023-01-15T06:33:18.916Z"
   },
   {
    "duration": 10,
    "start_time": "2023-01-15T06:33:35.236Z"
   },
   {
    "duration": 12,
    "start_time": "2023-01-15T06:33:37.316Z"
   },
   {
    "duration": 12,
    "start_time": "2023-01-15T06:34:56.677Z"
   },
   {
    "duration": 11,
    "start_time": "2023-01-15T06:35:02.597Z"
   },
   {
    "duration": 13,
    "start_time": "2023-01-15T06:35:05.077Z"
   },
   {
    "duration": 31,
    "start_time": "2023-01-15T06:42:32.782Z"
   },
   {
    "duration": 0,
    "start_time": "2023-01-15T06:42:32.816Z"
   },
   {
    "duration": 1741,
    "start_time": "2023-01-15T06:42:47.307Z"
   },
   {
    "duration": 5,
    "start_time": "2023-01-15T06:42:49.051Z"
   },
   {
    "duration": 1010,
    "start_time": "2023-01-15T06:42:49.058Z"
   },
   {
    "duration": 3,
    "start_time": "2023-01-15T06:42:50.072Z"
   },
   {
    "duration": 57,
    "start_time": "2023-01-15T06:42:50.078Z"
   },
   {
    "duration": 80,
    "start_time": "2023-01-15T06:42:50.138Z"
   },
   {
    "duration": 22,
    "start_time": "2023-01-15T06:42:50.224Z"
   },
   {
    "duration": 30,
    "start_time": "2023-01-15T06:42:50.248Z"
   },
   {
    "duration": 28,
    "start_time": "2023-01-15T06:42:50.280Z"
   },
   {
    "duration": 24,
    "start_time": "2023-01-15T06:42:50.312Z"
   },
   {
    "duration": 9,
    "start_time": "2023-01-15T06:42:50.339Z"
   },
   {
    "duration": 28,
    "start_time": "2023-01-15T06:42:50.351Z"
   },
   {
    "duration": 40,
    "start_time": "2023-01-15T06:42:50.382Z"
   },
   {
    "duration": 11,
    "start_time": "2023-01-15T06:42:50.424Z"
   },
   {
    "duration": 28,
    "start_time": "2023-01-15T06:42:50.438Z"
   },
   {
    "duration": 75,
    "start_time": "2023-01-15T06:42:50.469Z"
   },
   {
    "duration": 12333,
    "start_time": "2023-01-15T06:42:50.547Z"
   },
   {
    "duration": 787,
    "start_time": "2023-01-15T06:43:02.883Z"
   },
   {
    "duration": 7,
    "start_time": "2023-01-15T06:43:03.673Z"
   },
   {
    "duration": 22,
    "start_time": "2023-01-15T06:43:03.682Z"
   },
   {
    "duration": 1576,
    "start_time": "2023-01-15T06:43:03.706Z"
   },
   {
    "duration": 6,
    "start_time": "2023-01-15T06:43:05.285Z"
   },
   {
    "duration": 27,
    "start_time": "2023-01-15T06:43:05.296Z"
   },
   {
    "duration": 11,
    "start_time": "2023-01-15T06:43:05.325Z"
   },
   {
    "duration": 275,
    "start_time": "2023-01-15T06:43:05.338Z"
   },
   {
    "duration": 10,
    "start_time": "2023-01-15T06:43:05.616Z"
   },
   {
    "duration": 5663,
    "start_time": "2023-01-15T06:43:05.629Z"
   },
   {
    "duration": 6149,
    "start_time": "2023-01-15T06:43:11.298Z"
   },
   {
    "duration": 22,
    "start_time": "2023-01-15T06:43:17.452Z"
   },
   {
    "duration": 10,
    "start_time": "2023-01-15T06:43:17.476Z"
   },
   {
    "duration": 1746,
    "start_time": "2023-01-15T07:04:28.487Z"
   },
   {
    "duration": 3,
    "start_time": "2023-01-15T07:04:30.235Z"
   },
   {
    "duration": 892,
    "start_time": "2023-01-15T07:04:30.251Z"
   },
   {
    "duration": 8,
    "start_time": "2023-01-15T07:04:31.145Z"
   },
   {
    "duration": 33,
    "start_time": "2023-01-15T07:04:31.160Z"
   },
   {
    "duration": 19,
    "start_time": "2023-01-15T07:04:31.196Z"
   },
   {
    "duration": 21,
    "start_time": "2023-01-15T07:04:31.216Z"
   },
   {
    "duration": 20,
    "start_time": "2023-01-15T07:04:31.239Z"
   },
   {
    "duration": 10,
    "start_time": "2023-01-15T07:04:31.269Z"
   },
   {
    "duration": 20,
    "start_time": "2023-01-15T07:04:31.281Z"
   },
   {
    "duration": 7,
    "start_time": "2023-01-15T07:04:31.305Z"
   },
   {
    "duration": 21,
    "start_time": "2023-01-15T07:04:31.314Z"
   },
   {
    "duration": 43,
    "start_time": "2023-01-15T07:04:31.337Z"
   },
   {
    "duration": 9,
    "start_time": "2023-01-15T07:04:31.384Z"
   },
   {
    "duration": 7,
    "start_time": "2023-01-15T07:04:31.395Z"
   },
   {
    "duration": 14,
    "start_time": "2023-01-15T07:04:31.404Z"
   },
   {
    "duration": 10819,
    "start_time": "2023-01-15T07:04:31.420Z"
   },
   {
    "duration": 690,
    "start_time": "2023-01-15T07:04:42.243Z"
   },
   {
    "duration": 6,
    "start_time": "2023-01-15T07:04:42.934Z"
   },
   {
    "duration": 17,
    "start_time": "2023-01-15T07:04:42.958Z"
   },
   {
    "duration": 1406,
    "start_time": "2023-01-15T07:04:42.977Z"
   },
   {
    "duration": 5,
    "start_time": "2023-01-15T07:04:44.385Z"
   },
   {
    "duration": 33,
    "start_time": "2023-01-15T07:04:44.392Z"
   },
   {
    "duration": 92,
    "start_time": "2023-01-15T07:04:44.427Z"
   },
   {
    "duration": 319,
    "start_time": "2023-01-15T07:04:44.521Z"
   },
   {
    "duration": 10,
    "start_time": "2023-01-15T07:04:44.843Z"
   },
   {
    "duration": 5727,
    "start_time": "2023-01-15T07:04:44.856Z"
   },
   {
    "duration": 5856,
    "start_time": "2023-01-15T07:04:50.585Z"
   },
   {
    "duration": 29,
    "start_time": "2023-01-15T07:04:56.443Z"
   },
   {
    "duration": 10,
    "start_time": "2023-01-15T07:04:56.474Z"
   },
   {
    "duration": 2758970,
    "start_time": "2023-01-15T07:04:56.487Z"
   },
   {
    "duration": 2709240,
    "start_time": "2023-01-15T07:50:55.459Z"
   },
   {
    "duration": 52,
    "start_time": "2023-01-15T08:36:04.701Z"
   },
   {
    "duration": 5,
    "start_time": "2023-01-15T08:36:04.754Z"
   },
   {
    "duration": 11993,
    "start_time": "2023-01-15T08:36:04.760Z"
   },
   {
    "duration": 12095,
    "start_time": "2023-01-15T08:36:16.757Z"
   },
   {
    "duration": 195,
    "start_time": "2023-01-15T08:36:28.857Z"
   },
   {
    "duration": 8,
    "start_time": "2023-01-15T08:36:29.055Z"
   },
   {
    "duration": 8,
    "start_time": "2023-01-15T08:36:29.152Z"
   },
   {
    "duration": 18388,
    "start_time": "2023-01-15T08:37:13.539Z"
   },
   {
    "duration": 19000,
    "start_time": "2023-01-15T08:44:14.838Z"
   },
   {
    "duration": 5,
    "start_time": "2023-01-15T08:44:35.028Z"
   },
   {
    "duration": 4,
    "start_time": "2023-01-15T08:44:41.671Z"
   },
   {
    "duration": 111,
    "start_time": "2023-01-15T08:50:22.418Z"
   },
   {
    "duration": 19443,
    "start_time": "2023-01-15T08:50:47.992Z"
   },
   {
    "duration": 3,
    "start_time": "2023-01-15T08:51:07.437Z"
   },
   {
    "duration": 19182,
    "start_time": "2023-01-15T08:51:42.115Z"
   },
   {
    "duration": 4,
    "start_time": "2023-01-15T08:52:01.299Z"
   },
   {
    "duration": 5320,
    "start_time": "2023-01-15T08:52:01.304Z"
   },
   {
    "duration": 18628,
    "start_time": "2023-01-15T08:52:06.626Z"
   },
   {
    "duration": 4,
    "start_time": "2023-01-15T08:52:25.256Z"
   },
   {
    "duration": 3,
    "start_time": "2023-01-15T08:55:44.829Z"
   },
   {
    "duration": 5,
    "start_time": "2023-01-15T08:55:53.101Z"
   },
   {
    "duration": 18404,
    "start_time": "2023-01-15T08:59:22.239Z"
   },
   {
    "duration": 4,
    "start_time": "2023-01-15T08:59:40.650Z"
   },
   {
    "duration": 18696,
    "start_time": "2023-01-15T08:59:40.655Z"
   },
   {
    "duration": 3,
    "start_time": "2023-01-15T08:59:59.353Z"
   },
   {
    "duration": 3,
    "start_time": "2023-01-15T09:00:31.405Z"
   },
   {
    "duration": 4,
    "start_time": "2023-01-15T09:00:39.788Z"
   },
   {
    "duration": 18713,
    "start_time": "2023-01-15T09:05:12.761Z"
   },
   {
    "duration": 4,
    "start_time": "2023-01-15T09:05:31.476Z"
   },
   {
    "duration": 1172,
    "start_time": "2023-01-15T09:06:19.951Z"
   },
   {
    "duration": 4,
    "start_time": "2023-01-15T09:06:22.573Z"
   },
   {
    "duration": 347,
    "start_time": "2023-01-15T09:06:44.340Z"
   },
   {
    "duration": 3,
    "start_time": "2023-01-15T09:06:44.689Z"
   },
   {
    "duration": 84568,
    "start_time": "2023-01-15T09:09:11.131Z"
   },
   {
    "duration": 4,
    "start_time": "2023-01-15T09:10:35.701Z"
   },
   {
    "duration": 69,
    "start_time": "2023-01-15T09:10:51.000Z"
   },
   {
    "duration": 3,
    "start_time": "2023-01-15T09:10:54.792Z"
   },
   {
    "duration": 71928,
    "start_time": "2023-01-15T09:13:30.712Z"
   },
   {
    "duration": 10,
    "start_time": "2023-01-15T09:14:42.650Z"
   },
   {
    "duration": 1402,
    "start_time": "2023-01-15T09:51:44.852Z"
   },
   {
    "duration": 96,
    "start_time": "2023-01-15T09:51:46.257Z"
   },
   {
    "duration": 3,
    "start_time": "2023-01-15T09:51:56.535Z"
   },
   {
    "duration": 4,
    "start_time": "2023-01-15T09:52:02.381Z"
   },
   {
    "duration": 1354,
    "start_time": "2023-01-15T09:52:18.799Z"
   },
   {
    "duration": 5,
    "start_time": "2023-01-15T09:52:20.156Z"
   },
   {
    "duration": 4,
    "start_time": "2023-01-15T10:08:22.409Z"
   },
   {
    "duration": 4,
    "start_time": "2023-01-15T10:10:13.807Z"
   },
   {
    "duration": 6,
    "start_time": "2023-01-15T10:10:22.849Z"
   },
   {
    "duration": 5,
    "start_time": "2023-01-15T10:10:28.241Z"
   },
   {
    "duration": 5,
    "start_time": "2023-01-15T10:10:32.681Z"
   },
   {
    "duration": 6,
    "start_time": "2023-01-15T10:10:42.231Z"
   },
   {
    "duration": 7,
    "start_time": "2023-01-15T10:11:35.287Z"
   },
   {
    "duration": 5,
    "start_time": "2023-01-15T10:13:35.870Z"
   },
   {
    "duration": 351,
    "start_time": "2023-01-15T10:15:07.324Z"
   },
   {
    "duration": 3,
    "start_time": "2023-01-15T10:15:07.677Z"
   },
   {
    "duration": 1274,
    "start_time": "2023-01-15T10:15:50.150Z"
   },
   {
    "duration": 3,
    "start_time": "2023-01-15T10:15:51.426Z"
   },
   {
    "duration": 7,
    "start_time": "2023-01-15T10:16:02.842Z"
   },
   {
    "duration": 7,
    "start_time": "2023-01-15T10:16:15.403Z"
   },
   {
    "duration": 15,
    "start_time": "2023-01-15T10:20:58.563Z"
   },
   {
    "duration": 5,
    "start_time": "2023-01-15T10:21:41.926Z"
   },
   {
    "duration": 4,
    "start_time": "2023-01-15T10:23:13.254Z"
   },
   {
    "duration": 4,
    "start_time": "2023-01-15T10:23:17.361Z"
   },
   {
    "duration": 29,
    "start_time": "2023-01-15T10:23:53.446Z"
   },
   {
    "duration": 4,
    "start_time": "2023-01-15T10:23:57.511Z"
   },
   {
    "duration": 11,
    "start_time": "2023-01-15T10:25:47.511Z"
   },
   {
    "duration": 11,
    "start_time": "2023-01-15T10:26:01.033Z"
   },
   {
    "duration": 38,
    "start_time": "2023-01-15T10:26:07.568Z"
   },
   {
    "duration": 4,
    "start_time": "2023-01-15T10:26:10.434Z"
   },
   {
    "duration": 1454,
    "start_time": "2023-01-15T10:31:02.892Z"
   },
   {
    "duration": 2,
    "start_time": "2023-01-15T10:31:04.348Z"
   },
   {
    "duration": 873,
    "start_time": "2023-01-15T10:31:04.352Z"
   },
   {
    "duration": 4,
    "start_time": "2023-01-15T10:31:05.227Z"
   },
   {
    "duration": 21,
    "start_time": "2023-01-15T10:31:05.233Z"
   },
   {
    "duration": 6,
    "start_time": "2023-01-15T10:31:05.256Z"
   },
   {
    "duration": 17,
    "start_time": "2023-01-15T10:31:05.264Z"
   },
   {
    "duration": 9,
    "start_time": "2023-01-15T10:31:05.284Z"
   },
   {
    "duration": 20,
    "start_time": "2023-01-15T10:31:05.296Z"
   },
   {
    "duration": 23,
    "start_time": "2023-01-15T10:31:05.318Z"
   },
   {
    "duration": 9,
    "start_time": "2023-01-15T10:31:05.343Z"
   },
   {
    "duration": 20,
    "start_time": "2023-01-15T10:31:05.354Z"
   },
   {
    "duration": 30,
    "start_time": "2023-01-15T10:31:05.377Z"
   },
   {
    "duration": 9,
    "start_time": "2023-01-15T10:31:05.410Z"
   },
   {
    "duration": 31,
    "start_time": "2023-01-15T10:31:05.420Z"
   },
   {
    "duration": 14,
    "start_time": "2023-01-15T10:31:05.453Z"
   },
   {
    "duration": 10062,
    "start_time": "2023-01-15T10:31:05.469Z"
   },
   {
    "duration": 683,
    "start_time": "2023-01-15T10:31:15.533Z"
   },
   {
    "duration": 5,
    "start_time": "2023-01-15T10:31:16.218Z"
   },
   {
    "duration": 32,
    "start_time": "2023-01-15T10:31:16.225Z"
   },
   {
    "duration": 1167,
    "start_time": "2023-01-15T10:31:16.259Z"
   },
   {
    "duration": 3,
    "start_time": "2023-01-15T10:31:17.428Z"
   },
   {
    "duration": 18,
    "start_time": "2023-01-15T10:31:17.432Z"
   },
   {
    "duration": 211,
    "start_time": "2023-01-15T10:31:17.452Z"
   },
   {
    "duration": 8,
    "start_time": "2023-01-15T10:31:17.665Z"
   },
   {
    "duration": 4689,
    "start_time": "2023-01-15T10:31:17.675Z"
   },
   {
    "duration": 368,
    "start_time": "2023-01-15T10:31:22.366Z"
   },
   {
    "duration": 3,
    "start_time": "2023-01-15T10:31:22.735Z"
   },
   {
    "duration": 5131,
    "start_time": "2023-01-15T10:31:22.740Z"
   },
   {
    "duration": 1183,
    "start_time": "2023-01-15T10:31:27.873Z"
   },
   {
    "duration": 127,
    "start_time": "2023-01-15T10:31:29.059Z"
   },
   {
    "duration": 0,
    "start_time": "2023-01-15T10:31:29.189Z"
   },
   {
    "duration": 0,
    "start_time": "2023-01-15T10:31:29.190Z"
   },
   {
    "duration": 0,
    "start_time": "2023-01-15T10:31:29.192Z"
   },
   {
    "duration": 0,
    "start_time": "2023-01-15T10:31:29.193Z"
   },
   {
    "duration": 0,
    "start_time": "2023-01-15T10:31:29.195Z"
   },
   {
    "duration": 0,
    "start_time": "2023-01-15T10:31:29.202Z"
   },
   {
    "duration": 0,
    "start_time": "2023-01-15T10:31:29.203Z"
   },
   {
    "duration": 0,
    "start_time": "2023-01-15T10:31:29.208Z"
   },
   {
    "duration": 0,
    "start_time": "2023-01-15T10:31:29.210Z"
   },
   {
    "duration": 0,
    "start_time": "2023-01-15T10:31:29.211Z"
   },
   {
    "duration": 0,
    "start_time": "2023-01-15T10:31:29.212Z"
   },
   {
    "duration": 0,
    "start_time": "2023-01-15T10:31:29.214Z"
   },
   {
    "duration": 0,
    "start_time": "2023-01-15T10:31:29.215Z"
   },
   {
    "duration": 0,
    "start_time": "2023-01-15T10:31:29.215Z"
   },
   {
    "duration": 0,
    "start_time": "2023-01-15T10:31:29.216Z"
   },
   {
    "duration": 0,
    "start_time": "2023-01-15T10:31:29.218Z"
   },
   {
    "duration": 4,
    "start_time": "2023-01-15T10:34:51.788Z"
   },
   {
    "duration": 1524,
    "start_time": "2023-01-15T10:35:01.696Z"
   },
   {
    "duration": 3,
    "start_time": "2023-01-15T10:35:03.221Z"
   },
   {
    "duration": 745,
    "start_time": "2023-01-15T10:35:03.225Z"
   },
   {
    "duration": 4,
    "start_time": "2023-01-15T10:35:03.972Z"
   },
   {
    "duration": 11,
    "start_time": "2023-01-15T10:35:03.978Z"
   },
   {
    "duration": 4,
    "start_time": "2023-01-15T10:35:03.991Z"
   },
   {
    "duration": 11,
    "start_time": "2023-01-15T10:35:03.997Z"
   },
   {
    "duration": 5,
    "start_time": "2023-01-15T10:35:04.011Z"
   },
   {
    "duration": 7,
    "start_time": "2023-01-15T10:35:04.018Z"
   },
   {
    "duration": 13,
    "start_time": "2023-01-15T10:35:04.053Z"
   },
   {
    "duration": 8,
    "start_time": "2023-01-15T10:35:04.068Z"
   },
   {
    "duration": 12,
    "start_time": "2023-01-15T10:35:04.078Z"
   },
   {
    "duration": 30,
    "start_time": "2023-01-15T10:35:04.093Z"
   },
   {
    "duration": 9,
    "start_time": "2023-01-15T10:35:04.155Z"
   },
   {
    "duration": 15,
    "start_time": "2023-01-15T10:35:04.165Z"
   },
   {
    "duration": 12,
    "start_time": "2023-01-15T10:35:04.182Z"
   },
   {
    "duration": 10237,
    "start_time": "2023-01-15T10:35:04.197Z"
   },
   {
    "duration": 676,
    "start_time": "2023-01-15T10:35:14.436Z"
   },
   {
    "duration": 5,
    "start_time": "2023-01-15T10:35:15.113Z"
   },
   {
    "duration": 13,
    "start_time": "2023-01-15T10:35:15.120Z"
   },
   {
    "duration": 1219,
    "start_time": "2023-01-15T10:35:15.150Z"
   },
   {
    "duration": 6,
    "start_time": "2023-01-15T10:35:16.371Z"
   },
   {
    "duration": 9,
    "start_time": "2023-01-15T10:35:16.379Z"
   },
   {
    "duration": 251,
    "start_time": "2023-01-15T10:35:16.390Z"
   },
   {
    "duration": 15,
    "start_time": "2023-01-15T10:35:16.643Z"
   },
   {
    "duration": 5027,
    "start_time": "2023-01-15T10:35:16.661Z"
   },
   {
    "duration": 366,
    "start_time": "2023-01-15T10:35:21.690Z"
   },
   {
    "duration": 4,
    "start_time": "2023-01-15T10:35:22.062Z"
   },
   {
    "duration": 5128,
    "start_time": "2023-01-15T10:35:22.068Z"
   },
   {
    "duration": 1187,
    "start_time": "2023-01-15T10:35:27.198Z"
   },
   {
    "duration": 3,
    "start_time": "2023-01-15T10:35:28.387Z"
   },
   {
    "duration": 2631744,
    "start_time": "2023-01-15T10:35:28.392Z"
   },
   {
    "duration": 85951,
    "start_time": "2023-01-15T11:19:20.139Z"
   },
   {
    "duration": 4,
    "start_time": "2023-01-15T11:20:46.092Z"
   },
   {
    "duration": 2728489,
    "start_time": "2023-01-15T11:20:46.098Z"
   },
   {
    "duration": 71673,
    "start_time": "2023-01-15T12:06:14.590Z"
   },
   {
    "duration": 4,
    "start_time": "2023-01-15T12:07:26.265Z"
   },
   {
    "duration": 11381,
    "start_time": "2023-01-15T12:07:26.271Z"
   },
   {
    "duration": 1499,
    "start_time": "2023-01-15T12:07:37.654Z"
   },
   {
    "duration": 5,
    "start_time": "2023-01-15T12:07:39.156Z"
   },
   {
    "duration": 11501,
    "start_time": "2023-01-15T12:07:39.251Z"
   },
   {
    "duration": 1203,
    "start_time": "2023-01-15T12:07:50.755Z"
   },
   {
    "duration": 3,
    "start_time": "2023-01-15T12:07:52.051Z"
   },
   {
    "duration": 167,
    "start_time": "2023-01-15T12:07:52.056Z"
   },
   {
    "duration": 0,
    "start_time": "2023-01-15T12:07:52.225Z"
   },
   {
    "duration": 0,
    "start_time": "2023-01-15T12:07:52.226Z"
   },
   {
    "duration": 0,
    "start_time": "2023-01-15T12:07:52.228Z"
   },
   {
    "duration": 7,
    "start_time": "2023-01-15T12:18:59.333Z"
   },
   {
    "duration": 1476,
    "start_time": "2023-01-15T12:19:27.275Z"
   },
   {
    "duration": 6,
    "start_time": "2023-01-15T12:19:28.754Z"
   },
   {
    "duration": 6,
    "start_time": "2023-01-15T12:19:33.156Z"
   },
   {
    "duration": 9,
    "start_time": "2023-01-15T12:19:43.356Z"
   },
   {
    "duration": 26,
    "start_time": "2023-01-15T12:19:43.596Z"
   },
   {
    "duration": 4,
    "start_time": "2023-01-15T12:19:44.010Z"
   },
   {
    "duration": 58074,
    "start_time": "2023-01-15T12:23:58.277Z"
   },
   {
    "duration": 96,
    "start_time": "2023-01-15T12:24:56.354Z"
   },
   {
    "duration": 31,
    "start_time": "2023-01-15T12:26:12.729Z"
   },
   {
    "duration": 6,
    "start_time": "2023-01-15T12:26:47.829Z"
   },
   {
    "duration": 28,
    "start_time": "2023-01-15T12:26:54.931Z"
   },
   {
    "duration": 6,
    "start_time": "2023-01-15T12:27:04.670Z"
   },
   {
    "duration": 10,
    "start_time": "2023-01-15T12:28:45.596Z"
   },
   {
    "duration": 7,
    "start_time": "2023-01-15T12:30:03.828Z"
   },
   {
    "duration": 13,
    "start_time": "2023-01-15T12:33:33.562Z"
   },
   {
    "duration": 18,
    "start_time": "2023-01-15T12:34:08.597Z"
   },
   {
    "duration": 56,
    "start_time": "2023-01-16T06:47:13.870Z"
   },
   {
    "duration": 1554,
    "start_time": "2023-01-16T06:47:24.628Z"
   },
   {
    "duration": 2,
    "start_time": "2023-01-16T06:47:26.184Z"
   },
   {
    "duration": 3175,
    "start_time": "2023-01-16T06:47:26.187Z"
   },
   {
    "duration": 3,
    "start_time": "2023-01-16T06:47:29.364Z"
   },
   {
    "duration": 11,
    "start_time": "2023-01-16T06:47:29.368Z"
   },
   {
    "duration": 4,
    "start_time": "2023-01-16T06:47:29.380Z"
   },
   {
    "duration": 12,
    "start_time": "2023-01-16T06:47:29.387Z"
   },
   {
    "duration": 5,
    "start_time": "2023-01-16T06:47:29.401Z"
   },
   {
    "duration": 8,
    "start_time": "2023-01-16T06:47:29.408Z"
   },
   {
    "duration": 15,
    "start_time": "2023-01-16T06:47:29.419Z"
   },
   {
    "duration": 8,
    "start_time": "2023-01-16T06:47:29.616Z"
   },
   {
    "duration": 12,
    "start_time": "2023-01-16T06:47:30.706Z"
   },
   {
    "duration": 31,
    "start_time": "2023-01-16T06:47:31.066Z"
   },
   {
    "duration": 10,
    "start_time": "2023-01-16T06:47:31.450Z"
   },
   {
    "duration": 7,
    "start_time": "2023-01-16T06:47:31.650Z"
   },
   {
    "duration": 9,
    "start_time": "2023-01-16T06:47:31.882Z"
   },
   {
    "duration": 9992,
    "start_time": "2023-01-16T06:47:33.683Z"
   },
   {
    "duration": 733,
    "start_time": "2023-01-16T06:47:43.677Z"
   },
   {
    "duration": 6,
    "start_time": "2023-01-16T06:47:44.418Z"
   },
   {
    "duration": 16,
    "start_time": "2023-01-16T06:47:44.429Z"
   },
   {
    "duration": 3,
    "start_time": "2023-01-16T06:47:58.535Z"
   },
   {
    "duration": 3,
    "start_time": "2023-01-16T06:47:59.890Z"
   },
   {
    "duration": 31,
    "start_time": "2023-01-16T06:48:01.570Z"
   },
   {
    "duration": 10,
    "start_time": "2023-01-16T06:48:02.468Z"
   },
   {
    "duration": 4,
    "start_time": "2023-01-16T06:48:03.280Z"
   },
   {
    "duration": 5,
    "start_time": "2023-01-16T06:49:04.985Z"
   },
   {
    "duration": 15,
    "start_time": "2023-01-16T06:49:17.914Z"
   },
   {
    "duration": 5,
    "start_time": "2023-01-16T06:49:22.324Z"
   },
   {
    "duration": 5,
    "start_time": "2023-01-16T06:49:43.994Z"
   },
   {
    "duration": 5,
    "start_time": "2023-01-16T06:49:56.394Z"
   },
   {
    "duration": 8,
    "start_time": "2023-01-16T07:01:39.427Z"
   },
   {
    "duration": 80,
    "start_time": "2023-01-16T07:03:35.892Z"
   },
   {
    "duration": 13,
    "start_time": "2023-01-16T07:03:54.341Z"
   },
   {
    "duration": 13,
    "start_time": "2023-01-16T07:04:06.570Z"
   },
   {
    "duration": 16,
    "start_time": "2023-01-16T07:04:14.674Z"
   },
   {
    "duration": 9,
    "start_time": "2023-01-16T07:04:20.250Z"
   },
   {
    "duration": 29,
    "start_time": "2023-01-16T07:04:23.944Z"
   },
   {
    "duration": 13,
    "start_time": "2023-01-16T07:05:39.151Z"
   },
   {
    "duration": 27,
    "start_time": "2023-01-16T07:06:08.770Z"
   },
   {
    "duration": 13,
    "start_time": "2023-01-16T07:06:22.343Z"
   },
   {
    "duration": 9,
    "start_time": "2023-01-16T07:06:30.546Z"
   },
   {
    "duration": 9,
    "start_time": "2023-01-16T07:06:39.305Z"
   },
   {
    "duration": 28,
    "start_time": "2023-01-16T07:06:44.982Z"
   },
   {
    "duration": 12,
    "start_time": "2023-01-16T07:06:49.514Z"
   },
   {
    "duration": 9,
    "start_time": "2023-01-16T07:07:14.209Z"
   },
   {
    "duration": 43,
    "start_time": "2023-01-16T07:10:49.592Z"
   },
   {
    "duration": 63,
    "start_time": "2023-01-16T07:11:06.444Z"
   },
   {
    "duration": 57,
    "start_time": "2023-01-16T07:11:34.240Z"
   },
   {
    "duration": 8,
    "start_time": "2023-01-16T07:12:25.801Z"
   },
   {
    "duration": 61,
    "start_time": "2023-01-16T07:12:38.647Z"
   },
   {
    "duration": 40,
    "start_time": "2023-01-16T07:13:00.838Z"
   },
   {
    "duration": 926,
    "start_time": "2023-01-16T07:13:16.878Z"
   },
   {
    "duration": 1663,
    "start_time": "2023-01-16T07:13:47.488Z"
   },
   {
    "duration": 3,
    "start_time": "2023-01-16T07:13:49.153Z"
   },
   {
    "duration": 1565,
    "start_time": "2023-01-16T07:13:49.158Z"
   },
   {
    "duration": 4,
    "start_time": "2023-01-16T07:13:50.732Z"
   },
   {
    "duration": 9,
    "start_time": "2023-01-16T07:13:50.738Z"
   },
   {
    "duration": 7,
    "start_time": "2023-01-16T07:13:50.748Z"
   },
   {
    "duration": 11,
    "start_time": "2023-01-16T07:13:50.756Z"
   },
   {
    "duration": 57,
    "start_time": "2023-01-16T07:13:50.768Z"
   },
   {
    "duration": 14,
    "start_time": "2023-01-16T07:13:50.827Z"
   },
   {
    "duration": 13,
    "start_time": "2023-01-16T07:13:50.844Z"
   },
   {
    "duration": 5,
    "start_time": "2023-01-16T07:13:50.858Z"
   },
   {
    "duration": 57,
    "start_time": "2023-01-16T07:13:50.865Z"
   },
   {
    "duration": 31,
    "start_time": "2023-01-16T07:13:50.926Z"
   },
   {
    "duration": 8,
    "start_time": "2023-01-16T07:13:50.959Z"
   },
   {
    "duration": 8,
    "start_time": "2023-01-16T07:13:51.022Z"
   },
   {
    "duration": 17,
    "start_time": "2023-01-16T07:13:51.035Z"
   },
   {
    "duration": 9484,
    "start_time": "2023-01-16T07:13:51.054Z"
   },
   {
    "duration": 734,
    "start_time": "2023-01-16T07:14:00.540Z"
   },
   {
    "duration": 5,
    "start_time": "2023-01-16T07:14:01.276Z"
   },
   {
    "duration": 30,
    "start_time": "2023-01-16T07:14:01.283Z"
   },
   {
    "duration": 1222,
    "start_time": "2023-01-16T07:14:01.315Z"
   },
   {
    "duration": 3,
    "start_time": "2023-01-16T07:14:02.538Z"
   },
   {
    "duration": 8,
    "start_time": "2023-01-16T07:14:02.543Z"
   },
   {
    "duration": 194,
    "start_time": "2023-01-16T07:14:02.553Z"
   },
   {
    "duration": 9,
    "start_time": "2023-01-16T07:14:02.749Z"
   },
   {
    "duration": 1095,
    "start_time": "2023-01-16T07:14:02.759Z"
   },
   {
    "duration": 0,
    "start_time": "2023-01-16T07:14:03.857Z"
   },
   {
    "duration": 0,
    "start_time": "2023-01-16T07:14:03.858Z"
   },
   {
    "duration": 0,
    "start_time": "2023-01-16T07:14:03.859Z"
   },
   {
    "duration": 0,
    "start_time": "2023-01-16T07:14:03.860Z"
   },
   {
    "duration": 0,
    "start_time": "2023-01-16T07:14:03.861Z"
   },
   {
    "duration": 0,
    "start_time": "2023-01-16T07:14:03.863Z"
   },
   {
    "duration": 0,
    "start_time": "2023-01-16T07:14:03.864Z"
   },
   {
    "duration": 0,
    "start_time": "2023-01-16T07:14:03.865Z"
   },
   {
    "duration": 0,
    "start_time": "2023-01-16T07:14:03.866Z"
   },
   {
    "duration": 0,
    "start_time": "2023-01-16T07:14:03.868Z"
   },
   {
    "duration": 0,
    "start_time": "2023-01-16T07:14:03.870Z"
   },
   {
    "duration": 0,
    "start_time": "2023-01-16T07:14:03.871Z"
   },
   {
    "duration": 0,
    "start_time": "2023-01-16T07:14:03.873Z"
   },
   {
    "duration": 0,
    "start_time": "2023-01-16T07:14:03.875Z"
   },
   {
    "duration": 0,
    "start_time": "2023-01-16T07:14:03.876Z"
   },
   {
    "duration": 0,
    "start_time": "2023-01-16T07:14:03.877Z"
   },
   {
    "duration": 0,
    "start_time": "2023-01-16T07:14:03.879Z"
   },
   {
    "duration": 0,
    "start_time": "2023-01-16T07:14:03.880Z"
   },
   {
    "duration": 0,
    "start_time": "2023-01-16T07:14:03.882Z"
   },
   {
    "duration": 0,
    "start_time": "2023-01-16T07:14:03.883Z"
   },
   {
    "duration": 0,
    "start_time": "2023-01-16T07:14:03.885Z"
   },
   {
    "duration": 0,
    "start_time": "2023-01-16T07:14:03.887Z"
   },
   {
    "duration": 34,
    "start_time": "2023-01-16T07:14:57.278Z"
   },
   {
    "duration": 16,
    "start_time": "2023-01-16T07:15:20.144Z"
   },
   {
    "duration": 19,
    "start_time": "2023-01-16T07:15:40.729Z"
   },
   {
    "duration": 31,
    "start_time": "2023-01-16T07:15:50.943Z"
   },
   {
    "duration": 3,
    "start_time": "2023-01-16T07:15:58.854Z"
   },
   {
    "duration": 8,
    "start_time": "2023-01-16T07:16:09.528Z"
   },
   {
    "duration": 10,
    "start_time": "2023-01-16T07:16:20.123Z"
   },
   {
    "duration": 2,
    "start_time": "2023-01-16T07:16:38.728Z"
   },
   {
    "duration": 10,
    "start_time": "2023-01-16T07:16:39.521Z"
   },
   {
    "duration": 28,
    "start_time": "2023-01-16T07:16:43.693Z"
   },
   {
    "duration": 890,
    "start_time": "2023-01-16T07:17:01.510Z"
   },
   {
    "duration": 1309,
    "start_time": "2023-01-16T07:17:14.700Z"
   },
   {
    "duration": 1366,
    "start_time": "2023-01-16T07:17:43.156Z"
   },
   {
    "duration": 4,
    "start_time": "2023-01-16T07:17:44.524Z"
   },
   {
    "duration": 752,
    "start_time": "2023-01-16T07:17:44.530Z"
   },
   {
    "duration": 4,
    "start_time": "2023-01-16T07:17:45.283Z"
   },
   {
    "duration": 9,
    "start_time": "2023-01-16T07:17:45.289Z"
   },
   {
    "duration": 4,
    "start_time": "2023-01-16T07:17:45.299Z"
   },
   {
    "duration": 16,
    "start_time": "2023-01-16T07:17:45.305Z"
   },
   {
    "duration": 4,
    "start_time": "2023-01-16T07:17:45.323Z"
   },
   {
    "duration": 11,
    "start_time": "2023-01-16T07:17:45.329Z"
   },
   {
    "duration": 14,
    "start_time": "2023-01-16T07:17:45.342Z"
   },
   {
    "duration": 6,
    "start_time": "2023-01-16T07:17:45.357Z"
   },
   {
    "duration": 9,
    "start_time": "2023-01-16T07:17:45.364Z"
   },
   {
    "duration": 54,
    "start_time": "2023-01-16T07:17:45.375Z"
   },
   {
    "duration": 9,
    "start_time": "2023-01-16T07:17:45.432Z"
   },
   {
    "duration": 5,
    "start_time": "2023-01-16T07:17:45.443Z"
   },
   {
    "duration": 10,
    "start_time": "2023-01-16T07:17:45.449Z"
   },
   {
    "duration": 10602,
    "start_time": "2023-01-16T07:17:45.460Z"
   },
   {
    "duration": 777,
    "start_time": "2023-01-16T07:17:56.064Z"
   },
   {
    "duration": 5,
    "start_time": "2023-01-16T07:17:56.843Z"
   },
   {
    "duration": 18,
    "start_time": "2023-01-16T07:17:56.850Z"
   },
   {
    "duration": 1136,
    "start_time": "2023-01-16T07:17:56.870Z"
   },
   {
    "duration": 20,
    "start_time": "2023-01-16T07:17:58.007Z"
   },
   {
    "duration": 8,
    "start_time": "2023-01-16T07:17:58.028Z"
   },
   {
    "duration": 207,
    "start_time": "2023-01-16T07:17:58.037Z"
   },
   {
    "duration": 9,
    "start_time": "2023-01-16T07:17:58.246Z"
   },
   {
    "duration": 126,
    "start_time": "2023-01-16T07:17:58.256Z"
   },
   {
    "duration": 0,
    "start_time": "2023-01-16T07:17:58.384Z"
   },
   {
    "duration": 0,
    "start_time": "2023-01-16T07:17:58.386Z"
   },
   {
    "duration": 0,
    "start_time": "2023-01-16T07:17:58.387Z"
   },
   {
    "duration": 0,
    "start_time": "2023-01-16T07:17:58.388Z"
   },
   {
    "duration": 0,
    "start_time": "2023-01-16T07:17:58.390Z"
   },
   {
    "duration": 0,
    "start_time": "2023-01-16T07:17:58.391Z"
   },
   {
    "duration": 0,
    "start_time": "2023-01-16T07:17:58.392Z"
   },
   {
    "duration": 0,
    "start_time": "2023-01-16T07:17:58.393Z"
   },
   {
    "duration": 0,
    "start_time": "2023-01-16T07:17:58.394Z"
   },
   {
    "duration": 0,
    "start_time": "2023-01-16T07:17:58.395Z"
   },
   {
    "duration": 0,
    "start_time": "2023-01-16T07:17:58.415Z"
   },
   {
    "duration": 0,
    "start_time": "2023-01-16T07:17:58.416Z"
   },
   {
    "duration": 0,
    "start_time": "2023-01-16T07:17:58.417Z"
   },
   {
    "duration": 0,
    "start_time": "2023-01-16T07:17:58.417Z"
   },
   {
    "duration": 0,
    "start_time": "2023-01-16T07:17:58.424Z"
   },
   {
    "duration": 0,
    "start_time": "2023-01-16T07:17:58.427Z"
   },
   {
    "duration": 0,
    "start_time": "2023-01-16T07:17:58.428Z"
   },
   {
    "duration": 0,
    "start_time": "2023-01-16T07:17:58.430Z"
   },
   {
    "duration": 0,
    "start_time": "2023-01-16T07:17:58.431Z"
   },
   {
    "duration": 0,
    "start_time": "2023-01-16T07:17:58.432Z"
   },
   {
    "duration": 0,
    "start_time": "2023-01-16T07:17:58.433Z"
   },
   {
    "duration": 0,
    "start_time": "2023-01-16T07:17:58.433Z"
   },
   {
    "duration": 0,
    "start_time": "2023-01-16T07:17:58.435Z"
   },
   {
    "duration": 806,
    "start_time": "2023-01-16T07:18:44.165Z"
   },
   {
    "duration": 47,
    "start_time": "2023-01-16T07:20:15.316Z"
   },
   {
    "duration": 1350,
    "start_time": "2023-01-16T07:20:35.777Z"
   },
   {
    "duration": 3,
    "start_time": "2023-01-16T07:20:37.129Z"
   },
   {
    "duration": 696,
    "start_time": "2023-01-16T07:20:37.133Z"
   },
   {
    "duration": 3,
    "start_time": "2023-01-16T07:20:37.832Z"
   },
   {
    "duration": 10,
    "start_time": "2023-01-16T07:20:37.837Z"
   },
   {
    "duration": 8,
    "start_time": "2023-01-16T07:20:37.848Z"
   },
   {
    "duration": 9,
    "start_time": "2023-01-16T07:20:37.857Z"
   },
   {
    "duration": 6,
    "start_time": "2023-01-16T07:20:37.867Z"
   },
   {
    "duration": 5,
    "start_time": "2023-01-16T07:20:37.874Z"
   },
   {
    "duration": 11,
    "start_time": "2023-01-16T07:20:37.882Z"
   },
   {
    "duration": 14,
    "start_time": "2023-01-16T07:20:37.916Z"
   },
   {
    "duration": 15,
    "start_time": "2023-01-16T07:20:37.932Z"
   },
   {
    "duration": 28,
    "start_time": "2023-01-16T07:20:37.949Z"
   },
   {
    "duration": 9,
    "start_time": "2023-01-16T07:20:37.979Z"
   },
   {
    "duration": 32,
    "start_time": "2023-01-16T07:20:37.990Z"
   },
   {
    "duration": 10,
    "start_time": "2023-01-16T07:20:38.024Z"
   },
   {
    "duration": 9603,
    "start_time": "2023-01-16T07:20:38.036Z"
   },
   {
    "duration": 643,
    "start_time": "2023-01-16T07:20:47.640Z"
   },
   {
    "duration": 5,
    "start_time": "2023-01-16T07:20:48.284Z"
   },
   {
    "duration": 13,
    "start_time": "2023-01-16T07:20:48.290Z"
   },
   {
    "duration": 1172,
    "start_time": "2023-01-16T07:20:48.319Z"
   },
   {
    "duration": 3,
    "start_time": "2023-01-16T07:20:49.493Z"
   },
   {
    "duration": 6,
    "start_time": "2023-01-16T07:20:49.497Z"
   },
   {
    "duration": 182,
    "start_time": "2023-01-16T07:20:49.505Z"
   },
   {
    "duration": 7,
    "start_time": "2023-01-16T07:20:49.689Z"
   },
   {
    "duration": 4,
    "start_time": "2023-01-16T07:20:49.697Z"
   },
   {
    "duration": 15,
    "start_time": "2023-01-16T07:20:49.703Z"
   },
   {
    "duration": 5576,
    "start_time": "2023-01-16T07:20:49.722Z"
   },
   {
    "duration": 340,
    "start_time": "2023-01-16T07:20:55.300Z"
   },
   {
    "duration": 3,
    "start_time": "2023-01-16T07:20:55.641Z"
   },
   {
    "duration": 5020,
    "start_time": "2023-01-16T07:20:55.646Z"
   },
   {
    "duration": 1175,
    "start_time": "2023-01-16T07:21:00.668Z"
   },
   {
    "duration": 3,
    "start_time": "2023-01-16T07:21:01.844Z"
   },
   {
    "duration": 15689,
    "start_time": "2023-01-16T07:21:01.848Z"
   },
   {
    "duration": 9,
    "start_time": "2023-01-16T07:21:17.539Z"
   },
   {
    "duration": 0,
    "start_time": "2023-01-16T07:21:17.549Z"
   },
   {
    "duration": 0,
    "start_time": "2023-01-16T07:21:17.551Z"
   },
   {
    "duration": 0,
    "start_time": "2023-01-16T07:21:17.551Z"
   },
   {
    "duration": 0,
    "start_time": "2023-01-16T07:21:17.552Z"
   },
   {
    "duration": 0,
    "start_time": "2023-01-16T07:21:17.553Z"
   },
   {
    "duration": 0,
    "start_time": "2023-01-16T07:21:17.554Z"
   },
   {
    "duration": 0,
    "start_time": "2023-01-16T07:21:17.555Z"
   },
   {
    "duration": 0,
    "start_time": "2023-01-16T07:21:17.556Z"
   },
   {
    "duration": 0,
    "start_time": "2023-01-16T07:21:17.557Z"
   },
   {
    "duration": 0,
    "start_time": "2023-01-16T07:21:17.558Z"
   },
   {
    "duration": 1,
    "start_time": "2023-01-16T07:21:17.558Z"
   },
   {
    "duration": 0,
    "start_time": "2023-01-16T07:21:17.559Z"
   },
   {
    "duration": 0,
    "start_time": "2023-01-16T07:21:17.560Z"
   },
   {
    "duration": 0,
    "start_time": "2023-01-16T07:21:17.561Z"
   },
   {
    "duration": 0,
    "start_time": "2023-01-16T07:21:17.562Z"
   },
   {
    "duration": 6,
    "start_time": "2023-01-16T07:21:33.720Z"
   },
   {
    "duration": 5,
    "start_time": "2023-01-16T07:21:39.743Z"
   },
   {
    "duration": 16,
    "start_time": "2023-01-16T07:21:52.010Z"
   },
   {
    "duration": 13,
    "start_time": "2023-01-16T07:21:56.314Z"
   },
   {
    "duration": 6,
    "start_time": "2023-01-16T07:22:10.587Z"
   },
   {
    "duration": 6,
    "start_time": "2023-01-16T07:22:17.507Z"
   },
   {
    "duration": 29,
    "start_time": "2023-01-16T07:22:52.963Z"
   },
   {
    "duration": 9,
    "start_time": "2023-01-16T07:23:01.744Z"
   },
   {
    "duration": 7,
    "start_time": "2023-01-16T07:23:06.666Z"
   },
   {
    "duration": 7,
    "start_time": "2023-01-16T07:23:17.010Z"
   },
   {
    "duration": 41,
    "start_time": "2023-01-16T07:23:24.035Z"
   },
   {
    "duration": 26,
    "start_time": "2023-01-16T07:24:01.447Z"
   },
   {
    "duration": 7,
    "start_time": "2023-01-16T07:24:12.002Z"
   },
   {
    "duration": 7,
    "start_time": "2023-01-16T07:28:23.847Z"
   },
   {
    "duration": 7,
    "start_time": "2023-01-16T07:28:27.746Z"
   },
   {
    "duration": 6,
    "start_time": "2023-01-16T07:28:31.552Z"
   },
   {
    "duration": 10,
    "start_time": "2023-01-16T07:28:37.616Z"
   },
   {
    "duration": 6,
    "start_time": "2023-01-16T07:29:05.565Z"
   },
   {
    "duration": 7,
    "start_time": "2023-01-16T07:29:47.095Z"
   },
   {
    "duration": 7,
    "start_time": "2023-01-16T07:29:51.711Z"
   },
   {
    "duration": 10,
    "start_time": "2023-01-16T07:29:59.056Z"
   },
   {
    "duration": 8,
    "start_time": "2023-01-16T07:30:03.799Z"
   },
   {
    "duration": 13,
    "start_time": "2023-01-16T07:31:32.415Z"
   },
   {
    "duration": 11,
    "start_time": "2023-01-16T07:31:38.182Z"
   },
   {
    "duration": 9,
    "start_time": "2023-01-16T07:40:20.779Z"
   },
   {
    "duration": 13,
    "start_time": "2023-01-16T07:49:37.209Z"
   },
   {
    "duration": 15,
    "start_time": "2023-01-16T07:50:07.016Z"
   },
   {
    "duration": 9,
    "start_time": "2023-01-16T07:50:17.160Z"
   },
   {
    "duration": 27,
    "start_time": "2023-01-16T07:52:21.130Z"
   },
   {
    "duration": 1344,
    "start_time": "2023-01-16T07:52:29.544Z"
   },
   {
    "duration": 3,
    "start_time": "2023-01-16T07:52:30.890Z"
   },
   {
    "duration": 700,
    "start_time": "2023-01-16T07:52:30.894Z"
   },
   {
    "duration": 4,
    "start_time": "2023-01-16T07:52:31.595Z"
   },
   {
    "duration": 22,
    "start_time": "2023-01-16T07:52:31.601Z"
   },
   {
    "duration": 11,
    "start_time": "2023-01-16T07:52:31.630Z"
   },
   {
    "duration": 10,
    "start_time": "2023-01-16T07:52:31.643Z"
   },
   {
    "duration": 5,
    "start_time": "2023-01-16T07:52:31.655Z"
   },
   {
    "duration": 7,
    "start_time": "2023-01-16T07:52:31.661Z"
   },
   {
    "duration": 18,
    "start_time": "2023-01-16T07:52:31.669Z"
   },
   {
    "duration": 6,
    "start_time": "2023-01-16T07:52:31.688Z"
   },
   {
    "duration": 21,
    "start_time": "2023-01-16T07:52:31.695Z"
   },
   {
    "duration": 35,
    "start_time": "2023-01-16T07:52:31.718Z"
   },
   {
    "duration": 8,
    "start_time": "2023-01-16T07:52:31.757Z"
   },
   {
    "duration": 7,
    "start_time": "2023-01-16T07:52:31.766Z"
   },
   {
    "duration": 10,
    "start_time": "2023-01-16T07:52:31.774Z"
   },
   {
    "duration": 13049,
    "start_time": "2023-01-16T07:52:31.785Z"
   },
   {
    "duration": 648,
    "start_time": "2023-01-16T07:52:44.835Z"
   },
   {
    "duration": 4,
    "start_time": "2023-01-16T07:52:45.484Z"
   },
   {
    "duration": 14,
    "start_time": "2023-01-16T07:52:45.490Z"
   },
   {
    "duration": 1170,
    "start_time": "2023-01-16T07:52:45.524Z"
   },
   {
    "duration": 4,
    "start_time": "2023-01-16T07:52:46.696Z"
   },
   {
    "duration": 4,
    "start_time": "2023-01-16T07:52:46.702Z"
   },
   {
    "duration": 183,
    "start_time": "2023-01-16T07:52:46.708Z"
   },
   {
    "duration": 8,
    "start_time": "2023-01-16T07:52:46.892Z"
   },
   {
    "duration": 20,
    "start_time": "2023-01-16T07:52:46.901Z"
   },
   {
    "duration": 16,
    "start_time": "2023-01-16T07:52:46.922Z"
   },
   {
    "duration": 10,
    "start_time": "2023-01-16T07:52:46.939Z"
   },
   {
    "duration": 4769,
    "start_time": "2023-01-16T07:52:46.951Z"
   },
   {
    "duration": 338,
    "start_time": "2023-01-16T07:52:51.727Z"
   },
   {
    "duration": 4,
    "start_time": "2023-01-16T07:52:52.067Z"
   },
   {
    "duration": 2402,
    "start_time": "2023-01-16T07:52:52.072Z"
   },
   {
    "duration": 9,
    "start_time": "2023-01-16T07:52:54.476Z"
   },
   {
    "duration": 0,
    "start_time": "2023-01-16T07:52:54.487Z"
   },
   {
    "duration": 0,
    "start_time": "2023-01-16T07:52:54.488Z"
   },
   {
    "duration": 0,
    "start_time": "2023-01-16T07:52:54.489Z"
   },
   {
    "duration": 0,
    "start_time": "2023-01-16T07:52:54.490Z"
   },
   {
    "duration": 0,
    "start_time": "2023-01-16T07:52:54.491Z"
   },
   {
    "duration": 0,
    "start_time": "2023-01-16T07:52:54.492Z"
   },
   {
    "duration": 0,
    "start_time": "2023-01-16T07:52:54.493Z"
   },
   {
    "duration": 0,
    "start_time": "2023-01-16T07:52:54.494Z"
   },
   {
    "duration": 0,
    "start_time": "2023-01-16T07:52:54.495Z"
   },
   {
    "duration": 0,
    "start_time": "2023-01-16T07:52:54.496Z"
   },
   {
    "duration": 0,
    "start_time": "2023-01-16T07:52:54.497Z"
   },
   {
    "duration": 0,
    "start_time": "2023-01-16T07:52:54.498Z"
   },
   {
    "duration": 0,
    "start_time": "2023-01-16T07:52:54.499Z"
   },
   {
    "duration": 0,
    "start_time": "2023-01-16T07:52:54.501Z"
   },
   {
    "duration": 0,
    "start_time": "2023-01-16T07:52:54.502Z"
   },
   {
    "duration": 0,
    "start_time": "2023-01-16T07:52:54.503Z"
   },
   {
    "duration": 0,
    "start_time": "2023-01-16T07:52:54.504Z"
   },
   {
    "duration": 5,
    "start_time": "2023-01-16T07:54:14.807Z"
   },
   {
    "duration": 6,
    "start_time": "2023-01-16T07:54:36.423Z"
   },
   {
    "duration": 6,
    "start_time": "2023-01-16T07:55:30.760Z"
   },
   {
    "duration": 1466,
    "start_time": "2023-01-16T08:02:45.030Z"
   },
   {
    "duration": 2,
    "start_time": "2023-01-16T08:02:46.499Z"
   },
   {
    "duration": 796,
    "start_time": "2023-01-16T08:02:46.504Z"
   },
   {
    "duration": 3,
    "start_time": "2023-01-16T08:02:47.302Z"
   },
   {
    "duration": 17,
    "start_time": "2023-01-16T08:02:47.315Z"
   },
   {
    "duration": 8,
    "start_time": "2023-01-16T08:02:47.334Z"
   },
   {
    "duration": 9,
    "start_time": "2023-01-16T08:02:47.344Z"
   },
   {
    "duration": 4,
    "start_time": "2023-01-16T08:02:47.355Z"
   },
   {
    "duration": 4,
    "start_time": "2023-01-16T08:02:47.360Z"
   },
   {
    "duration": 13,
    "start_time": "2023-01-16T08:02:47.367Z"
   },
   {
    "duration": 6,
    "start_time": "2023-01-16T08:02:47.382Z"
   },
   {
    "duration": 28,
    "start_time": "2023-01-16T08:02:47.389Z"
   },
   {
    "duration": 29,
    "start_time": "2023-01-16T08:02:47.426Z"
   },
   {
    "duration": 8,
    "start_time": "2023-01-16T08:02:47.457Z"
   },
   {
    "duration": 14,
    "start_time": "2023-01-16T08:02:47.466Z"
   },
   {
    "duration": 13,
    "start_time": "2023-01-16T08:02:47.482Z"
   },
   {
    "duration": 9779,
    "start_time": "2023-01-16T08:02:47.497Z"
   },
   {
    "duration": 608,
    "start_time": "2023-01-16T08:02:57.278Z"
   },
   {
    "duration": 6,
    "start_time": "2023-01-16T08:02:57.887Z"
   },
   {
    "duration": 26,
    "start_time": "2023-01-16T08:02:57.894Z"
   },
   {
    "duration": 1176,
    "start_time": "2023-01-16T08:02:57.921Z"
   },
   {
    "duration": 3,
    "start_time": "2023-01-16T08:02:59.099Z"
   },
   {
    "duration": 13,
    "start_time": "2023-01-16T08:02:59.104Z"
   },
   {
    "duration": 211,
    "start_time": "2023-01-16T08:02:59.120Z"
   },
   {
    "duration": 10,
    "start_time": "2023-01-16T08:02:59.333Z"
   },
   {
    "duration": 3,
    "start_time": "2023-01-16T08:02:59.345Z"
   },
   {
    "duration": 4666,
    "start_time": "2023-01-16T08:02:59.350Z"
   },
   {
    "duration": 352,
    "start_time": "2023-01-16T08:03:04.022Z"
   },
   {
    "duration": 3,
    "start_time": "2023-01-16T08:03:04.375Z"
   },
   {
    "duration": 6146,
    "start_time": "2023-01-16T08:03:04.380Z"
   },
   {
    "duration": 1256,
    "start_time": "2023-01-16T08:03:10.528Z"
   },
   {
    "duration": 5,
    "start_time": "2023-01-16T08:03:11.785Z"
   },
   {
    "duration": 129122,
    "start_time": "2023-01-16T08:03:11.791Z"
   },
   {
    "duration": 15,
    "start_time": "2023-01-16T08:05:20.915Z"
   },
   {
    "duration": 0,
    "start_time": "2023-01-16T08:05:20.932Z"
   },
   {
    "duration": 0,
    "start_time": "2023-01-16T08:05:20.933Z"
   },
   {
    "duration": 0,
    "start_time": "2023-01-16T08:05:20.934Z"
   },
   {
    "duration": 0,
    "start_time": "2023-01-16T08:05:20.935Z"
   },
   {
    "duration": 0,
    "start_time": "2023-01-16T08:05:20.936Z"
   },
   {
    "duration": 0,
    "start_time": "2023-01-16T08:05:20.937Z"
   },
   {
    "duration": 0,
    "start_time": "2023-01-16T08:05:20.938Z"
   },
   {
    "duration": 0,
    "start_time": "2023-01-16T08:05:20.939Z"
   },
   {
    "duration": 0,
    "start_time": "2023-01-16T08:05:20.940Z"
   },
   {
    "duration": 0,
    "start_time": "2023-01-16T08:05:20.941Z"
   },
   {
    "duration": 0,
    "start_time": "2023-01-16T08:05:20.942Z"
   },
   {
    "duration": 0,
    "start_time": "2023-01-16T08:05:20.943Z"
   },
   {
    "duration": 0,
    "start_time": "2023-01-16T08:05:20.945Z"
   },
   {
    "duration": 0,
    "start_time": "2023-01-16T08:05:20.947Z"
   },
   {
    "duration": 9,
    "start_time": "2023-01-16T08:06:25.228Z"
   },
   {
    "duration": 12,
    "start_time": "2023-01-16T08:06:37.003Z"
   },
   {
    "duration": 12,
    "start_time": "2023-01-16T08:06:44.212Z"
   },
   {
    "duration": 10,
    "start_time": "2023-01-16T08:07:36.835Z"
   },
   {
    "duration": 1667,
    "start_time": "2023-01-16T08:21:57.798Z"
   },
   {
    "duration": 3,
    "start_time": "2023-01-16T08:21:59.467Z"
   },
   {
    "duration": 719,
    "start_time": "2023-01-16T08:21:59.471Z"
   },
   {
    "duration": 3,
    "start_time": "2023-01-16T08:22:00.192Z"
   },
   {
    "duration": 20,
    "start_time": "2023-01-16T08:22:00.197Z"
   },
   {
    "duration": 49,
    "start_time": "2023-01-16T08:22:00.219Z"
   },
   {
    "duration": 22,
    "start_time": "2023-01-16T08:22:00.270Z"
   },
   {
    "duration": 18,
    "start_time": "2023-01-16T08:22:00.294Z"
   },
   {
    "duration": 21,
    "start_time": "2023-01-16T08:22:00.314Z"
   },
   {
    "duration": 24,
    "start_time": "2023-01-16T08:22:00.337Z"
   },
   {
    "duration": 13,
    "start_time": "2023-01-16T08:22:00.362Z"
   },
   {
    "duration": 24,
    "start_time": "2023-01-16T08:22:00.376Z"
   },
   {
    "duration": 63,
    "start_time": "2023-01-16T08:22:00.402Z"
   },
   {
    "duration": 10,
    "start_time": "2023-01-16T08:22:00.468Z"
   },
   {
    "duration": 11,
    "start_time": "2023-01-16T08:22:00.480Z"
   },
   {
    "duration": 29,
    "start_time": "2023-01-16T08:22:00.493Z"
   },
   {
    "duration": 11194,
    "start_time": "2023-01-16T08:22:00.524Z"
   },
   {
    "duration": 643,
    "start_time": "2023-01-16T08:22:11.725Z"
   },
   {
    "duration": 5,
    "start_time": "2023-01-16T08:22:12.370Z"
   },
   {
    "duration": 13,
    "start_time": "2023-01-16T08:22:12.377Z"
   },
   {
    "duration": 1195,
    "start_time": "2023-01-16T08:22:12.392Z"
   },
   {
    "duration": 4,
    "start_time": "2023-01-16T08:22:13.588Z"
   },
   {
    "duration": 6,
    "start_time": "2023-01-16T08:22:13.593Z"
   },
   {
    "duration": 208,
    "start_time": "2023-01-16T08:22:13.601Z"
   },
   {
    "duration": 19,
    "start_time": "2023-01-16T08:22:13.811Z"
   },
   {
    "duration": 10,
    "start_time": "2023-01-16T08:22:13.832Z"
   },
   {
    "duration": 4753,
    "start_time": "2023-01-16T08:22:13.844Z"
   },
   {
    "duration": 371,
    "start_time": "2023-01-16T08:22:18.599Z"
   },
   {
    "duration": 4,
    "start_time": "2023-01-16T08:22:18.972Z"
   },
   {
    "duration": 5154,
    "start_time": "2023-01-16T08:22:18.978Z"
   },
   {
    "duration": 1217,
    "start_time": "2023-01-16T08:22:24.133Z"
   },
   {
    "duration": 3,
    "start_time": "2023-01-16T08:22:25.353Z"
   },
   {
    "duration": 7149,
    "start_time": "2023-01-16T08:22:25.358Z"
   },
   {
    "duration": 18,
    "start_time": "2023-01-16T08:22:32.510Z"
   },
   {
    "duration": 0,
    "start_time": "2023-01-16T08:22:32.531Z"
   },
   {
    "duration": 0,
    "start_time": "2023-01-16T08:22:32.532Z"
   },
   {
    "duration": 0,
    "start_time": "2023-01-16T08:22:32.533Z"
   },
   {
    "duration": 0,
    "start_time": "2023-01-16T08:22:32.535Z"
   },
   {
    "duration": 0,
    "start_time": "2023-01-16T08:22:32.535Z"
   },
   {
    "duration": 0,
    "start_time": "2023-01-16T08:22:32.536Z"
   },
   {
    "duration": 0,
    "start_time": "2023-01-16T08:22:32.538Z"
   },
   {
    "duration": 0,
    "start_time": "2023-01-16T08:22:32.539Z"
   },
   {
    "duration": 0,
    "start_time": "2023-01-16T08:22:32.541Z"
   },
   {
    "duration": 0,
    "start_time": "2023-01-16T08:22:32.542Z"
   },
   {
    "duration": 0,
    "start_time": "2023-01-16T08:22:32.543Z"
   },
   {
    "duration": 0,
    "start_time": "2023-01-16T08:22:32.544Z"
   },
   {
    "duration": 0,
    "start_time": "2023-01-16T08:22:32.546Z"
   },
   {
    "duration": 0,
    "start_time": "2023-01-16T08:22:32.548Z"
   },
   {
    "duration": 0,
    "start_time": "2023-01-16T08:22:32.549Z"
   },
   {
    "duration": 10,
    "start_time": "2023-01-16T08:22:42.505Z"
   },
   {
    "duration": 10,
    "start_time": "2023-01-16T08:24:05.803Z"
   },
   {
    "duration": 5,
    "start_time": "2023-01-16T08:24:47.183Z"
   },
   {
    "duration": 5,
    "start_time": "2023-01-16T08:25:20.063Z"
   },
   {
    "duration": 4,
    "start_time": "2023-01-16T08:25:23.963Z"
   },
   {
    "duration": 9,
    "start_time": "2023-01-16T08:28:24.802Z"
   },
   {
    "duration": 14,
    "start_time": "2023-01-16T08:36:16.480Z"
   },
   {
    "duration": 12,
    "start_time": "2023-01-16T08:43:19.158Z"
   },
   {
    "duration": 14,
    "start_time": "2023-01-16T08:45:43.785Z"
   },
   {
    "duration": 7,
    "start_time": "2023-01-16T08:49:26.286Z"
   },
   {
    "duration": 29,
    "start_time": "2023-01-16T08:49:39.318Z"
   },
   {
    "duration": 9,
    "start_time": "2023-01-16T08:49:50.057Z"
   },
   {
    "duration": 860,
    "start_time": "2023-01-16T08:49:55.119Z"
   },
   {
    "duration": 29,
    "start_time": "2023-01-16T08:50:03.353Z"
   },
   {
    "duration": 11,
    "start_time": "2023-01-16T08:50:18.357Z"
   },
   {
    "duration": 12,
    "start_time": "2023-01-16T08:50:43.938Z"
   },
   {
    "duration": 12,
    "start_time": "2023-01-16T08:51:27.457Z"
   },
   {
    "duration": 14,
    "start_time": "2023-01-16T08:52:30.857Z"
   },
   {
    "duration": 13,
    "start_time": "2023-01-16T08:52:57.493Z"
   },
   {
    "duration": 2,
    "start_time": "2023-01-16T08:53:46.158Z"
   },
   {
    "duration": 9,
    "start_time": "2023-01-16T08:53:48.278Z"
   },
   {
    "duration": 3,
    "start_time": "2023-01-16T08:54:12.287Z"
   },
   {
    "duration": 11,
    "start_time": "2023-01-16T08:55:24.678Z"
   },
   {
    "duration": 3,
    "start_time": "2023-01-16T08:55:27.158Z"
   },
   {
    "duration": 13,
    "start_time": "2023-01-16T08:55:39.558Z"
   },
   {
    "duration": 7,
    "start_time": "2023-01-16T08:58:07.051Z"
   },
   {
    "duration": 51,
    "start_time": "2023-01-16T09:02:22.928Z"
   },
   {
    "duration": 11,
    "start_time": "2023-01-16T09:02:27.840Z"
   },
   {
    "duration": 3,
    "start_time": "2023-01-16T09:02:28.707Z"
   },
   {
    "duration": 49,
    "start_time": "2023-01-16T09:03:06.128Z"
   },
   {
    "duration": 56,
    "start_time": "2023-01-16T09:03:18.080Z"
   },
   {
    "duration": 48,
    "start_time": "2023-01-16T09:03:53.660Z"
   },
   {
    "duration": 11,
    "start_time": "2023-01-16T09:04:09.080Z"
   },
   {
    "duration": 3,
    "start_time": "2023-01-16T09:04:10.429Z"
   },
   {
    "duration": 1368,
    "start_time": "2023-01-16T09:04:18.360Z"
   },
   {
    "duration": 3,
    "start_time": "2023-01-16T09:04:19.730Z"
   },
   {
    "duration": 736,
    "start_time": "2023-01-16T09:04:19.735Z"
   },
   {
    "duration": 3,
    "start_time": "2023-01-16T09:04:20.473Z"
   },
   {
    "duration": 8,
    "start_time": "2023-01-16T09:04:20.478Z"
   },
   {
    "duration": 6,
    "start_time": "2023-01-16T09:04:20.487Z"
   },
   {
    "duration": 15,
    "start_time": "2023-01-16T09:04:20.495Z"
   },
   {
    "duration": 10,
    "start_time": "2023-01-16T09:04:20.523Z"
   },
   {
    "duration": 3,
    "start_time": "2023-01-16T09:04:20.537Z"
   },
   {
    "duration": 14,
    "start_time": "2023-01-16T09:04:20.543Z"
   },
   {
    "duration": 6,
    "start_time": "2023-01-16T09:04:20.559Z"
   },
   {
    "duration": 9,
    "start_time": "2023-01-16T09:04:20.566Z"
   },
   {
    "duration": 61,
    "start_time": "2023-01-16T09:04:20.577Z"
   },
   {
    "duration": 7,
    "start_time": "2023-01-16T09:04:20.640Z"
   },
   {
    "duration": 9,
    "start_time": "2023-01-16T09:04:20.649Z"
   },
   {
    "duration": 8,
    "start_time": "2023-01-16T09:04:20.660Z"
   },
   {
    "duration": 9615,
    "start_time": "2023-01-16T09:04:20.670Z"
   },
   {
    "duration": 688,
    "start_time": "2023-01-16T09:04:30.286Z"
   },
   {
    "duration": 10,
    "start_time": "2023-01-16T09:04:30.975Z"
   },
   {
    "duration": 1142,
    "start_time": "2023-01-16T09:04:30.987Z"
   },
   {
    "duration": 4,
    "start_time": "2023-01-16T09:04:32.131Z"
   },
   {
    "duration": 6,
    "start_time": "2023-01-16T09:04:32.137Z"
   },
   {
    "duration": 198,
    "start_time": "2023-01-16T09:04:32.145Z"
   },
   {
    "duration": 3,
    "start_time": "2023-01-16T09:04:32.344Z"
   },
   {
    "duration": 17,
    "start_time": "2023-01-16T09:04:32.348Z"
   },
   {
    "duration": 136,
    "start_time": "2023-01-16T09:04:32.366Z"
   },
   {
    "duration": 0,
    "start_time": "2023-01-16T09:04:32.505Z"
   },
   {
    "duration": 0,
    "start_time": "2023-01-16T09:04:32.506Z"
   },
   {
    "duration": 0,
    "start_time": "2023-01-16T09:04:32.515Z"
   },
   {
    "duration": 0,
    "start_time": "2023-01-16T09:04:32.516Z"
   },
   {
    "duration": 0,
    "start_time": "2023-01-16T09:04:32.517Z"
   },
   {
    "duration": 0,
    "start_time": "2023-01-16T09:04:32.517Z"
   },
   {
    "duration": 0,
    "start_time": "2023-01-16T09:04:32.521Z"
   },
   {
    "duration": 0,
    "start_time": "2023-01-16T09:04:32.523Z"
   },
   {
    "duration": 0,
    "start_time": "2023-01-16T09:04:32.524Z"
   },
   {
    "duration": 0,
    "start_time": "2023-01-16T09:04:32.526Z"
   },
   {
    "duration": 0,
    "start_time": "2023-01-16T09:04:32.526Z"
   },
   {
    "duration": 0,
    "start_time": "2023-01-16T09:04:32.527Z"
   },
   {
    "duration": 0,
    "start_time": "2023-01-16T09:04:32.527Z"
   },
   {
    "duration": 0,
    "start_time": "2023-01-16T09:04:32.529Z"
   },
   {
    "duration": 0,
    "start_time": "2023-01-16T09:04:32.530Z"
   },
   {
    "duration": 0,
    "start_time": "2023-01-16T09:04:32.531Z"
   },
   {
    "duration": 0,
    "start_time": "2023-01-16T09:04:32.532Z"
   },
   {
    "duration": 0,
    "start_time": "2023-01-16T09:04:32.533Z"
   },
   {
    "duration": 0,
    "start_time": "2023-01-16T09:04:32.534Z"
   },
   {
    "duration": 0,
    "start_time": "2023-01-16T09:04:32.535Z"
   },
   {
    "duration": 0,
    "start_time": "2023-01-16T09:04:32.536Z"
   },
   {
    "duration": 0,
    "start_time": "2023-01-16T09:04:32.537Z"
   },
   {
    "duration": 3,
    "start_time": "2023-01-16T09:04:44.029Z"
   },
   {
    "duration": 1358,
    "start_time": "2023-01-16T09:05:12.312Z"
   },
   {
    "duration": 2,
    "start_time": "2023-01-16T09:05:13.672Z"
   },
   {
    "duration": 736,
    "start_time": "2023-01-16T09:05:13.675Z"
   },
   {
    "duration": 14,
    "start_time": "2023-01-16T09:05:14.413Z"
   },
   {
    "duration": 13,
    "start_time": "2023-01-16T09:05:14.429Z"
   },
   {
    "duration": 8,
    "start_time": "2023-01-16T09:05:14.443Z"
   },
   {
    "duration": 8,
    "start_time": "2023-01-16T09:05:14.452Z"
   },
   {
    "duration": 5,
    "start_time": "2023-01-16T09:05:14.462Z"
   },
   {
    "duration": 16,
    "start_time": "2023-01-16T09:05:14.468Z"
   },
   {
    "duration": 16,
    "start_time": "2023-01-16T09:05:14.486Z"
   },
   {
    "duration": 23,
    "start_time": "2023-01-16T09:05:14.503Z"
   },
   {
    "duration": 15,
    "start_time": "2023-01-16T09:05:14.527Z"
   },
   {
    "duration": 36,
    "start_time": "2023-01-16T09:05:14.543Z"
   },
   {
    "duration": 8,
    "start_time": "2023-01-16T09:05:14.581Z"
   },
   {
    "duration": 6,
    "start_time": "2023-01-16T09:05:14.590Z"
   },
   {
    "duration": 30,
    "start_time": "2023-01-16T09:05:14.598Z"
   },
   {
    "duration": 10525,
    "start_time": "2023-01-16T09:05:14.629Z"
   },
   {
    "duration": 714,
    "start_time": "2023-01-16T09:05:25.155Z"
   },
   {
    "duration": 10,
    "start_time": "2023-01-16T09:05:25.870Z"
   },
   {
    "duration": 1187,
    "start_time": "2023-01-16T09:05:25.881Z"
   },
   {
    "duration": 4,
    "start_time": "2023-01-16T09:05:27.069Z"
   },
   {
    "duration": 10,
    "start_time": "2023-01-16T09:05:27.074Z"
   },
   {
    "duration": 196,
    "start_time": "2023-01-16T09:05:27.085Z"
   },
   {
    "duration": 10,
    "start_time": "2023-01-16T09:05:27.283Z"
   },
   {
    "duration": 4,
    "start_time": "2023-01-16T09:05:27.295Z"
   },
   {
    "duration": 149,
    "start_time": "2023-01-16T09:05:27.300Z"
   },
   {
    "duration": 0,
    "start_time": "2023-01-16T09:05:27.451Z"
   },
   {
    "duration": 0,
    "start_time": "2023-01-16T09:05:27.452Z"
   },
   {
    "duration": 0,
    "start_time": "2023-01-16T09:05:27.453Z"
   },
   {
    "duration": 0,
    "start_time": "2023-01-16T09:05:27.455Z"
   },
   {
    "duration": 0,
    "start_time": "2023-01-16T09:05:27.456Z"
   },
   {
    "duration": 0,
    "start_time": "2023-01-16T09:05:27.457Z"
   },
   {
    "duration": 0,
    "start_time": "2023-01-16T09:05:27.458Z"
   },
   {
    "duration": 0,
    "start_time": "2023-01-16T09:05:27.459Z"
   },
   {
    "duration": 0,
    "start_time": "2023-01-16T09:05:27.460Z"
   },
   {
    "duration": 0,
    "start_time": "2023-01-16T09:05:27.461Z"
   },
   {
    "duration": 1,
    "start_time": "2023-01-16T09:05:27.462Z"
   },
   {
    "duration": 0,
    "start_time": "2023-01-16T09:05:27.463Z"
   },
   {
    "duration": 0,
    "start_time": "2023-01-16T09:05:27.465Z"
   },
   {
    "duration": 0,
    "start_time": "2023-01-16T09:05:27.465Z"
   },
   {
    "duration": 0,
    "start_time": "2023-01-16T09:05:27.466Z"
   },
   {
    "duration": 0,
    "start_time": "2023-01-16T09:05:27.467Z"
   },
   {
    "duration": 0,
    "start_time": "2023-01-16T09:05:27.468Z"
   },
   {
    "duration": 0,
    "start_time": "2023-01-16T09:05:27.469Z"
   },
   {
    "duration": 0,
    "start_time": "2023-01-16T09:05:27.470Z"
   },
   {
    "duration": 0,
    "start_time": "2023-01-16T09:05:27.471Z"
   },
   {
    "duration": 0,
    "start_time": "2023-01-16T09:05:27.472Z"
   },
   {
    "duration": 0,
    "start_time": "2023-01-16T09:05:27.473Z"
   },
   {
    "duration": 10,
    "start_time": "2023-01-16T09:08:04.600Z"
   },
   {
    "duration": 3,
    "start_time": "2023-01-16T09:08:04.984Z"
   },
   {
    "duration": 1313,
    "start_time": "2023-01-16T09:18:42.245Z"
   },
   {
    "duration": 2,
    "start_time": "2023-01-16T09:18:43.563Z"
   },
   {
    "duration": 711,
    "start_time": "2023-01-16T09:18:43.566Z"
   },
   {
    "duration": 4,
    "start_time": "2023-01-16T09:18:44.278Z"
   },
   {
    "duration": 15,
    "start_time": "2023-01-16T09:18:44.284Z"
   },
   {
    "duration": 7,
    "start_time": "2023-01-16T09:18:44.300Z"
   },
   {
    "duration": 11,
    "start_time": "2023-01-16T09:18:44.308Z"
   },
   {
    "duration": 6,
    "start_time": "2023-01-16T09:18:44.320Z"
   },
   {
    "duration": 9,
    "start_time": "2023-01-16T09:18:44.328Z"
   },
   {
    "duration": 15,
    "start_time": "2023-01-16T09:18:44.338Z"
   },
   {
    "duration": 6,
    "start_time": "2023-01-16T09:18:44.354Z"
   },
   {
    "duration": 23,
    "start_time": "2023-01-16T09:18:44.362Z"
   },
   {
    "duration": 53,
    "start_time": "2023-01-16T09:18:44.386Z"
   },
   {
    "duration": 8,
    "start_time": "2023-01-16T09:18:44.442Z"
   },
   {
    "duration": 7,
    "start_time": "2023-01-16T09:18:44.452Z"
   },
   {
    "duration": 11,
    "start_time": "2023-01-16T09:18:44.460Z"
   },
   {
    "duration": 9799,
    "start_time": "2023-01-16T09:18:44.472Z"
   },
   {
    "duration": 699,
    "start_time": "2023-01-16T09:18:54.273Z"
   },
   {
    "duration": 10,
    "start_time": "2023-01-16T09:18:54.973Z"
   },
   {
    "duration": 1039,
    "start_time": "2023-01-16T09:18:54.984Z"
   },
   {
    "duration": 3,
    "start_time": "2023-01-16T09:18:56.024Z"
   },
   {
    "duration": 6,
    "start_time": "2023-01-16T09:18:56.028Z"
   },
   {
    "duration": 196,
    "start_time": "2023-01-16T09:18:56.036Z"
   },
   {
    "duration": 13,
    "start_time": "2023-01-16T09:18:56.234Z"
   },
   {
    "duration": 22,
    "start_time": "2023-01-16T09:18:56.249Z"
   },
   {
    "duration": 4431,
    "start_time": "2023-01-16T09:18:56.272Z"
   },
   {
    "duration": 344,
    "start_time": "2023-01-16T09:19:00.705Z"
   },
   {
    "duration": 3,
    "start_time": "2023-01-16T09:19:01.051Z"
   },
   {
    "duration": 4865,
    "start_time": "2023-01-16T09:19:01.055Z"
   },
   {
    "duration": 1165,
    "start_time": "2023-01-16T09:19:05.922Z"
   },
   {
    "duration": 4,
    "start_time": "2023-01-16T09:19:07.088Z"
   },
   {
    "duration": 103916,
    "start_time": "2023-01-16T09:19:07.094Z"
   },
   {
    "duration": 10,
    "start_time": "2023-01-16T09:20:51.012Z"
   },
   {
    "duration": 0,
    "start_time": "2023-01-16T09:20:51.023Z"
   },
   {
    "duration": 0,
    "start_time": "2023-01-16T09:20:51.024Z"
   },
   {
    "duration": 0,
    "start_time": "2023-01-16T09:20:51.025Z"
   },
   {
    "duration": 0,
    "start_time": "2023-01-16T09:20:51.026Z"
   },
   {
    "duration": 0,
    "start_time": "2023-01-16T09:20:51.027Z"
   },
   {
    "duration": 0,
    "start_time": "2023-01-16T09:20:51.028Z"
   },
   {
    "duration": 0,
    "start_time": "2023-01-16T09:20:51.029Z"
   },
   {
    "duration": 0,
    "start_time": "2023-01-16T09:20:51.030Z"
   },
   {
    "duration": 0,
    "start_time": "2023-01-16T09:20:51.031Z"
   },
   {
    "duration": 0,
    "start_time": "2023-01-16T09:20:51.032Z"
   },
   {
    "duration": 0,
    "start_time": "2023-01-16T09:20:51.033Z"
   },
   {
    "duration": 0,
    "start_time": "2023-01-16T09:20:51.034Z"
   },
   {
    "duration": 0,
    "start_time": "2023-01-16T09:20:51.035Z"
   },
   {
    "duration": 0,
    "start_time": "2023-01-16T09:20:51.035Z"
   },
   {
    "duration": 4,
    "start_time": "2023-01-16T09:20:53.203Z"
   },
   {
    "duration": 8,
    "start_time": "2023-01-16T09:26:11.403Z"
   },
   {
    "duration": 340,
    "start_time": "2023-01-16T09:26:57.980Z"
   },
   {
    "duration": 4,
    "start_time": "2023-01-16T09:27:00.221Z"
   },
   {
    "duration": 327,
    "start_time": "2023-01-16T09:29:21.060Z"
   },
   {
    "duration": 4,
    "start_time": "2023-01-16T09:29:21.540Z"
   },
   {
    "duration": 348,
    "start_time": "2023-01-16T09:30:00.800Z"
   },
   {
    "duration": 3,
    "start_time": "2023-01-16T09:30:01.800Z"
   },
   {
    "duration": 4,
    "start_time": "2023-01-16T09:30:15.800Z"
   },
   {
    "duration": 3,
    "start_time": "2023-01-16T09:30:26.520Z"
   },
   {
    "duration": 1130,
    "start_time": "2023-01-16T09:30:50.961Z"
   },
   {
    "duration": 3,
    "start_time": "2023-01-16T09:30:52.094Z"
   },
   {
    "duration": 4,
    "start_time": "2023-01-16T09:32:23.799Z"
   }
  ],
  "kernelspec": {
   "display_name": "Python 3 (ipykernel)",
   "language": "python",
   "name": "python3"
  },
  "language_info": {
   "codemirror_mode": {
    "name": "ipython",
    "version": 3
   },
   "file_extension": ".py",
   "mimetype": "text/x-python",
   "name": "python",
   "nbconvert_exporter": "python",
   "pygments_lexer": "ipython3",
   "version": "3.9.12"
  },
  "toc": {
   "base_numbering": 1,
   "nav_menu": {},
   "number_sections": true,
   "sideBar": true,
   "skip_h1_title": true,
   "title_cell": "Содержание",
   "title_sidebar": "Contents",
   "toc_cell": true,
   "toc_position": {
    "height": "calc(100% - 180px)",
    "left": "10px",
    "top": "150px",
    "width": "165px"
   },
   "toc_section_display": true,
   "toc_window_display": true
  }
 },
 "nbformat": 4,
 "nbformat_minor": 2
}
